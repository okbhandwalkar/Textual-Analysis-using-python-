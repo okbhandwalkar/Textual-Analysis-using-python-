{
 "cells": [
  {
   "cell_type": "code",
   "execution_count": 1,
   "id": "517e3e9d",
   "metadata": {},
   "outputs": [
    {
     "data": {
      "text/plain": [
       "'Estimating the impact of COVID-19 on the world of work'"
      ]
     },
     "execution_count": 1,
     "metadata": {},
     "output_type": "execute_result"
    }
   ],
   "source": [
    "import requests\n",
    "import pandas as pd \n",
    "from bs4 import BeautifulSoup\n",
    "import string\n",
    "import spacy\n",
    "import re\n",
    "url = \"\"\"https://insights.blackcoffer.com/estimating-the-impact-of-covid-19-on-the-world-of-work-3/\"\"\"\n",
    "headers = {\"User-Agent\": \"Mozilla/5.0 (X11; Linux x86_64; rv:60.0) Gecko/20100101 Firefox/60.0\"}\n",
    "page = requests.get(url, headers=headers)\n",
    "soup = BeautifulSoup(page.content, 'html.parser')\n",
    "soup=BeautifulSoup(page.content, 'html.parser')\n",
    "title=soup.find('h1',class_=\"entry-title\")\n",
    "title=title.text.replace('\\n',\" \")\n",
    "title\n"
   ]
  },
  {
   "cell_type": "code",
   "execution_count": 2,
   "id": "e1766960",
   "metadata": {},
   "outputs": [
    {
     "name": "stdout",
     "output_type": "stream",
     "text": [
      "    Will COVID19 END Globalization? Globalization: Globalization envisages a borderless world or seeks the world as a global village • It is attributed to the accelerated flow of goods, people, capital, information, and energy across borders, often enabled by technological developments.  Globalization Trends: Starting from 1990s globalization dominated world’s economic order. Anti-Globalization Wave: Globalization had already begun to stagnate since the 2008-09 Global Financial Crisis. Slowing Down of Trade: Trade as a percentage of global GDP increased from 39% in 1991 to 61% in 2008 but has stagnated over the past decade.  Countries Policies Reflecting the Reverse Globalization: The following polices and steps of various countries shows the protactinium 1.USA We reject Globalism, President trump took ‘American First to the United States – Trump 2. Brexit Brexit is a rejection of globalization-Larry Elliott Slowing Movement of People: Though number of tourists increased in the last decade. 1.Indian IT’s H-1B Visa woes could worsen in 2020  The above article reveals that Under the Trump administration, Indian IT services companies have seen rejection rates jump from 6% in 2015 to 24% in 2019. 2.Racism study finds one in three school students are victims of discrimination Trade Wars and Halting of WTO Talks: Retreat of Globalization: 1.Chinese-US trade war threatens globalization 2.Protectionists put brakes on trade liberalization Due to These Factors, International Media Is Referring to The Process of Globalization By The Term ‘SLOWBALISATION’ The ongoing phase of globalization has not fully recovered, and the recent coronavirus has pushed forward the trends of reverse globalization Globalization Is Responsible for The Spread Of Coronavirus: The virus started in Wuhan, ChinaChina, being a hub of many industries. People from all over the world are travelling in and out of ChinaItaly itself a tourist and business hub, the man in Delhi who tested positive for coronavirus had travelled to ItalyOther countries get the virus because of the movement of people and goods Corona Virus Has Halted The Movement Of People, Goods, Service, And Capital. More than a fifth of the world’s population has been under lockdown in the global fight against coronavirus with early sign of success. Due to Supply Chain Break Down In China because of Coronavirus Countries Providing Incentives To Shift Production To Their Native Country Amid Covid-19 World Trade Has Halted, Investors Are Pulling Out Money from The Market Other Side Of The Coin!! Corona Virus Won’t End Globalization, But Change It Hugely for The A Better Will Hutton An unregulated world can be blamed for its spread, but collective action based on evidence could be the best way to stop it. Trade During Coronavirus: 1.India Readies list of 13 countries to send hydroxychloroquine. 2.China Sends doctors and masks overseas domestic coronavirus infection drop. Movement of Ideas Countries are converging virtually to share best practice to fight pandemic International meeting such as G-20, SAARC summit organized virtually Living apart, we must stand together’ to battle coronavirus pandemic-UN Rights chief. China’s BRI Project after COVID-19 BRI Project: The Belt and Road Initiative is a global development strategy adopted by the Chinese government in 2013 involving infrastructure development and investments in nearly 70 countries and international organizations in Asia, Europe, and Africa.  Curtailed Connectivity after Covid19: A devastating economic collapse of potentially historic proportions after Covid19, leading to social and political turmoil in a number of countries, and curtailed connectivity. Interestingly, the pandemic has exposed the risks and weaknesses of global interconnectedness, which will affect China’s BRI. Funding Shortfall for BRI So far, BRI has been powered primarily by China, whose growth rates were decreasing even before the outbreak. Exports Hit: With the United States and Europe reeling from the pandemic, Chinese exports will take a big hit. China confronts major Risk of debt on belt and road due to pandemic China’s growth hit a near 30-year low of 6.1% Roughly 5 Million people in china lost their jobs in the first 2 months of 2020. Last February, China’s official urban unemployment jumped to an unprecedented 6.2 percent. Unemployed Number may go up to 9 million by the end of 2020. China will have to choose out of two competing priorities: avoiding the middle-income trap,while at the same time posturing as a superpower abroad. So, not only may BRI be short of cash, but it will also be hard to sell at home All Economies along BRI routes affected Pakistan, host to the biggest BRI megaproject in the world, is poised to sustain a $8.2 billion loss, according to ADB. The respective figure for Bangladesh is $3 billion. Thailand is now bracing up for a recession. Africa is equally vulnerable, as China is the continent’s largest market. Covid19 hit Chinese companies executing BRI contracts can rely on support from the CDB in the form of low-cost financing. Yet, Chinese policy banks will be increasingly picky and inclined to stay away from new projects that may turn out to be loss-makers. China Development Bank to support Belt and road companies hit by coronavirus -Xinhua The Coronavirus and Xi Jinping’s Worldview Priority list: No. 1 preserving the CCP’s power No. 2 maintaining national unity No. 3 the expansion of the economy No. 4 environmental sustainability No. 5 modernize the Chinese military No. 6 China’s 14 neighboring states No. 7 weaken America’s longstanding security alliances No. 8 terrestrial Silk Road Economic Belt No. 9 Maritime Silk Road No 10 reshape the global order Under extreme circumstances, Beijing will not consider the BRI as important. Is the BRI Finished then? Short Term: Yes, BRI will Face Trouble In particular, the summer of 2020 may be a period of hibernation for several BRI projects. The outbreak has brought Chinese labor supplies and equipment imports along BRI routes down to a trickle Not Exactly!!! In fact, the initiative’s fuzzy content is being further enriched with the “Health Silk Road” add-on narrative and “mask diplomacy” in a major soft-power push. Long Term: A Changed BRI will Emerge The BRI is bound to change. Strategies will change. It might even be Defined Properly Seven years after this ambitious initiative was announced it remains a blurred vision in need of a comprehensive conceptual framework, international standards, and a coherent implementation strategy. This is one of the reasons why the BRI has become controversial and has caused a backlash in many countries. A Shift away from Roads and Bridges BRI expenditure up to 2019 stood at $545 billion. (WB Estimate) About two-thirds of spending on BRI projects has gone into the energy sector and transport However, developing countries in need of infrastructure will be terribly cash-strapped, there may be a shift away from roads, bridges, and coalfired power plants funded through Chinese loans. New BRI projects will probably be more strategically chosen.  Beijing has been investing in the creation of a globe-spanning network of economic corridors, logistics zones, and financial centers, with stress laid on seaports and adjacent areas. Egypt’s Suez Canal Economic Zone and Sri Lanka’s Colombo Port City clearly show this trend. In addition, projects are likely to focus on more sophisticated forms of connectivity, such as 5G networks or, in the wake of the pandemic, disaster management, public health-related high-tech, and even remote surgery. China will surely use the BRI for the projection of its soft power, an increasingly important battlefield in international relations. The world has become aware of the risks of overwhelming reliance on China. Amid of Coronavirus outbreak we can see the major economies are strengthening their authorities with their major concern The USA is conducting space miningChina’s maritime AggressionIndia USA $155 Million Defense Deal, US Approves sale of Anti-Ship Missiles and torpedoes to India. Blackcoffer Insights 17: V.Jagan, IIM Kashipur \n",
      "    Will COVID19 END Globalization Globalization Globalization envisages a borderless world or seeks the world as a global village • It is attributed to the accelerated flow of goods people capital information and energy across borders often enabled by technological developments  Globalization Trends Starting from 1990s globalization dominated world’s economic order AntiGlobalization Wave Globalization had already begun to stagnate since the 200809 Global Financial Crisis Slowing Down of Trade Trade as a percentage of global GDP increased from 39 in 1991 to 61 in 2008 but has stagnated over the past decade  Countries Policies Reflecting the Reverse Globalization The following polices and steps of various countries shows the protactinium 1USA We reject Globalism President trump took ‘American First to the United States – Trump 2 Brexit Brexit is a rejection of globalizationLarry Elliott Slowing Movement of People Though number of tourists increased in the last decade 1Indian IT’s H1B Visa woes could worsen in 2020  The above article reveals that Under the Trump administration Indian IT services companies have seen rejection rates jump from 6 in 2015 to 24 in 2019 2Racism study finds one in three school students are victims of discrimination Trade Wars and Halting of WTO Talks Retreat of Globalization 1ChineseUS trade war threatens globalization 2Protectionists put brakes on trade liberalization Due to These Factors International Media Is Referring to The Process of Globalization By The Term ‘SLOWBALISATION’ The ongoing phase of globalization has not fully recovered and the recent coronavirus has pushed forward the trends of reverse globalization Globalization Is Responsible for The Spread Of Coronavirus The virus started in Wuhan ChinaChina being a hub of many industries People from all over the world are travelling in and out of ChinaItaly itself a tourist and business hub the man in Delhi who tested positive for coronavirus had travelled to ItalyOther countries get the virus because of the movement of people and goods Corona Virus Has Halted The Movement Of People Goods Service And Capital More than a fifth of the world’s population has been under lockdown in the global fight against coronavirus with early sign of success Due to Supply Chain Break Down In China because of Coronavirus Countries Providing Incentives To Shift Production To Their Native Country Amid Covid19 World Trade Has Halted Investors Are Pulling Out Money from The Market Other Side Of The Coin Corona Virus Won’t End Globalization But Change It Hugely for The A Better Will Hutton An unregulated world can be blamed for its spread but collective action based on evidence could be the best way to stop it Trade During Coronavirus 1India Readies list of 13 countries to send hydroxychloroquine 2China Sends doctors and masks overseas domestic coronavirus infection drop Movement of Ideas Countries are converging virtually to share best practice to fight pandemic International meeting such as G20 SAARC summit organized virtually Living apart we must stand together’ to battle coronavirus pandemicUN Rights chief China’s BRI Project after COVID19 BRI Project The Belt and Road Initiative is a global development strategy adopted by the Chinese government in 2013 involving infrastructure development and investments in nearly 70 countries and international organizations in Asia Europe and Africa  Curtailed Connectivity after Covid19 A devastating economic collapse of potentially historic proportions after Covid19 leading to social and political turmoil in a number of countries and curtailed connectivity Interestingly the pandemic has exposed the risks and weaknesses of global interconnectedness which will affect China’s BRI Funding Shortfall for BRI So far BRI has been powered primarily by China whose growth rates were decreasing even before the outbreak Exports Hit With the United States and Europe reeling from the pandemic Chinese exports will take a big hit China confronts major Risk of debt on belt and road due to pandemic China’s growth hit a near 30year low of 61 Roughly 5 Million people in china lost their jobs in the first 2 months of 2020 Last February China’s official urban unemployment jumped to an unprecedented 62 percent Unemployed Number may go up to 9 million by the end of 2020 China will have to choose out of two competing priorities avoiding the middleincome trapwhile at the same time posturing as a superpower abroad So not only may BRI be short of cash but it will also be hard to sell at home All Economies along BRI routes affected Pakistan host to the biggest BRI megaproject in the world is poised to sustain a 82 billion loss according to ADB The respective figure for Bangladesh is 3 billion Thailand is now bracing up for a recession Africa is equally vulnerable as China is the continent’s largest market Covid19 hit Chinese companies executing BRI contracts can rely on support from the CDB in the form of lowcost financing Yet Chinese policy banks will be increasingly picky and inclined to stay away from new projects that may turn out to be lossmakers China Development Bank to support Belt and road companies hit by coronavirus Xinhua The Coronavirus and Xi Jinping’s Worldview Priority list No 1 preserving the CCP’s power No 2 maintaining national unity No 3 the expansion of the economy No 4 environmental sustainability No 5 modernize the Chinese military No 6 China’s 14 neighboring states No 7 weaken America’s longstanding security alliances No 8 terrestrial Silk Road Economic Belt No 9 Maritime Silk Road No 10 reshape the global order Under extreme circumstances Beijing will not consider the BRI as important Is the BRI Finished then Short Term Yes BRI will Face Trouble In particular the summer of 2020 may be a period of hibernation for several BRI projects The outbreak has brought Chinese labor supplies and equipment imports along BRI routes down to a trickle Not Exactly In fact the initiative’s fuzzy content is being further enriched with the “Health Silk Road” addon narrative and “mask diplomacy” in a major softpower push Long Term A Changed BRI will Emerge The BRI is bound to change Strategies will change It might even be Defined Properly Seven years after this ambitious initiative was announced it remains a blurred vision in need of a comprehensive conceptual framework international standards and a coherent implementation strategy This is one of the reasons why the BRI has become controversial and has caused a backlash in many countries A Shift away from Roads and Bridges BRI expenditure up to 2019 stood at 545 billion WB Estimate About twothirds of spending on BRI projects has gone into the energy sector and transport However developing countries in need of infrastructure will be terribly cashstrapped there may be a shift away from roads bridges and coalfired power plants funded through Chinese loans New BRI projects will probably be more strategically chosen  Beijing has been investing in the creation of a globespanning network of economic corridors logistics zones and financial centers with stress laid on seaports and adjacent areas Egypt’s Suez Canal Economic Zone and Sri Lanka’s Colombo Port City clearly show this trend In addition projects are likely to focus on more sophisticated forms of connectivity such as 5G networks or in the wake of the pandemic disaster management public healthrelated hightech and even remote surgery China will surely use the BRI for the projection of its soft power an increasingly important battlefield in international relations The world has become aware of the risks of overwhelming reliance on China Amid of Coronavirus outbreak we can see the major economies are strengthening their authorities with their major concern The USA is conducting space miningChina’s maritime AggressionIndia USA 155 Million Defense Deal US Approves sale of AntiShip Missiles and torpedoes to India Blackcoffer Insights 17 VJagan IIM Kashipur \n",
      "['Will', 'COVID19', 'END', 'Globalization', 'Globalization', 'Globalization', 'envisages', 'a', 'borderless', 'world', 'or', 'seeks', 'the', 'world', 'as', 'a', 'global', 'village', '•', 'It', 'is', 'attributed', 'to', 'the', 'accelerated', 'flow', 'of', 'goods', 'people', 'capital', 'information', 'and', 'energy', 'across', 'borders', 'often', 'enabled', 'by', 'technological', 'developments', 'Globalization', 'Trends', 'Starting', 'from', '1990s', 'globalization', 'dominated', 'world’s', 'economic', 'order', 'AntiGlobalization', 'Wave', 'Globalization', 'had', 'already', 'begun', 'to', 'stagnate', 'since', 'the', '200809', 'Global', 'Financial', 'Crisis', 'Slowing', 'Down', 'of', 'Trade', 'Trade', 'as', 'a', 'percentage', 'of', 'global', 'GDP', 'increased', 'from', '39', 'in', '1991', 'to', '61', 'in', '2008', 'but', 'has', 'stagnated', 'over', 'the', 'past', 'decade', 'Countries', 'Policies', 'Reflecting', 'the', 'Reverse', 'Globalization', 'The', 'following', 'polices', 'and', 'steps', 'of', 'various', 'countries', 'shows', 'the', 'protactinium', '1USA', 'We', 'reject', 'Globalism', 'President', 'trump', 'took', '‘American', 'First', 'to', 'the', 'United', 'States', '–', 'Trump', '2', 'Brexit', 'Brexit', 'is', 'a', 'rejection', 'of', 'globalizationLarry', 'Elliott', 'Slowing', 'Movement', 'of', 'People', 'Though', 'number', 'of', 'tourists', 'increased', 'in', 'the', 'last', 'decade', '1Indian', 'IT’s', 'H1B', 'Visa', 'woes', 'could', 'worsen', 'in', '2020', 'The', 'above', 'article', 'reveals', 'that', 'Under', 'the', 'Trump', 'administration', 'Indian', 'IT', 'services', 'companies', 'have', 'seen', 'rejection', 'rates', 'jump', 'from', '6', 'in', '2015', 'to', '24', 'in', '2019', '2Racism', 'study', 'finds', 'one', 'in', 'three', 'school', 'students', 'are', 'victims', 'of', 'discrimination', 'Trade', 'Wars', 'and', 'Halting', 'of', 'WTO', 'Talks', 'Retreat', 'of', 'Globalization', '1ChineseUS', 'trade', 'war', 'threatens', 'globalization', '2Protectionists', 'put', 'brakes', 'on', 'trade', 'liberalization', 'Due', 'to', 'These', 'Factors', 'International', 'Media', 'Is', 'Referring', 'to', 'The', 'Process', 'of', 'Globalization', 'By', 'The', 'Term', '‘SLOWBALISATION’', 'The', 'ongoing', 'phase', 'of', 'globalization', 'has', 'not', 'fully', 'recovered', 'and', 'the', 'recent', 'coronavirus', 'has', 'pushed', 'forward', 'the', 'trends', 'of', 'reverse', 'globalization', 'Globalization', 'Is', 'Responsible', 'for', 'The', 'Spread', 'Of', 'Coronavirus', 'The', 'virus', 'started', 'in', 'Wuhan', 'ChinaChina', 'being', 'a', 'hub', 'of', 'many', 'industries', 'People', 'from', 'all', 'over', 'the', 'world', 'are', 'travelling', 'in', 'and', 'out', 'of', 'ChinaItaly', 'itself', 'a', 'tourist', 'and', 'business', 'hub', 'the', 'man', 'in', 'Delhi', 'who', 'tested', 'positive', 'for', 'coronavirus', 'had', 'travelled', 'to', 'ItalyOther', 'countries', 'get', 'the', 'virus', 'because', 'of', 'the', 'movement', 'of', 'people', 'and', 'goods', 'Corona', 'Virus', 'Has', 'Halted', 'The', 'Movement', 'Of', 'People', 'Goods', 'Service', 'And', 'Capital', 'More', 'than', 'a', 'fifth', 'of', 'the', 'world’s', 'population', 'has', 'been', 'under', 'lockdown', 'in', 'the', 'global', 'fight', 'against', 'coronavirus', 'with', 'early', 'sign', 'of', 'success', 'Due', 'to', 'Supply', 'Chain', 'Break', 'Down', 'In', 'China', 'because', 'of', 'Coronavirus', 'Countries', 'Providing', 'Incentives', 'To', 'Shift', 'Production', 'To', 'Their', 'Native', 'Country', 'Amid', 'Covid19', 'World', 'Trade', 'Has', 'Halted', 'Investors', 'Are', 'Pulling', 'Out', 'Money', 'from', 'The', 'Market', 'Other', 'Side', 'Of', 'The', 'Coin', 'Corona', 'Virus', 'Won’t', 'End', 'Globalization', 'But', 'Change', 'It', 'Hugely', 'for', 'The', 'A', 'Better', 'Will', 'Hutton', 'An', 'unregulated', 'world', 'can', 'be', 'blamed', 'for', 'its', 'spread', 'but', 'collective', 'action', 'based', 'on', 'evidence', 'could', 'be', 'the', 'best', 'way', 'to', 'stop', 'it', 'Trade', 'During', 'Coronavirus', '1India', 'Readies', 'list', 'of', '13', 'countries', 'to', 'send', 'hydroxychloroquine', '2China', 'Sends', 'doctors', 'and', 'masks', 'overseas', 'domestic', 'coronavirus', 'infection', 'drop', 'Movement', 'of', 'Ideas', 'Countries', 'are', 'converging', 'virtually', 'to', 'share', 'best', 'practice', 'to', 'fight', 'pandemic', 'International', 'meeting', 'such', 'as', 'G20', 'SAARC', 'summit', 'organized', 'virtually', 'Living', 'apart', 'we', 'must', 'stand', 'together’', 'to', 'battle', 'coronavirus', 'pandemicUN', 'Rights', 'chief', 'China’s', 'BRI', 'Project', 'after', 'COVID19', 'BRI', 'Project', 'The', 'Belt', 'and', 'Road', 'Initiative', 'is', 'a', 'global', 'development', 'strategy', 'adopted', 'by', 'the', 'Chinese', 'government', 'in', '2013', 'involving', 'infrastructure', 'development', 'and', 'investments', 'in', 'nearly', '70', 'countries', 'and', 'international', 'organizations', 'in', 'Asia', 'Europe', 'and', 'Africa', 'Curtailed', 'Connectivity', 'after', 'Covid19', 'A', 'devastating', 'economic', 'collapse', 'of', 'potentially', 'historic', 'proportions', 'after', 'Covid19', 'leading', 'to', 'social', 'and', 'political', 'turmoil', 'in', 'a', 'number', 'of', 'countries', 'and', 'curtailed', 'connectivity', 'Interestingly', 'the', 'pandemic', 'has', 'exposed', 'the', 'risks', 'and', 'weaknesses', 'of', 'global', 'interconnectedness', 'which', 'will', 'affect', 'China’s', 'BRI', 'Funding', 'Shortfall', 'for', 'BRI', 'So', 'far', 'BRI', 'has', 'been', 'powered', 'primarily', 'by', 'China', 'whose', 'growth', 'rates', 'were', 'decreasing', 'even', 'before', 'the', 'outbreak', 'Exports', 'Hit', 'With', 'the', 'United', 'States', 'and', 'Europe', 'reeling', 'from', 'the', 'pandemic', 'Chinese', 'exports', 'will', 'take', 'a', 'big', 'hit', 'China', 'confronts', 'major', 'Risk', 'of', 'debt', 'on', 'belt', 'and', 'road', 'due', 'to', 'pandemic', 'China’s', 'growth', 'hit', 'a', 'near', '30year', 'low', 'of', '61', 'Roughly', '5', 'Million', 'people', 'in', 'china', 'lost', 'their', 'jobs', 'in', 'the', 'first', '2', 'months', 'of', '2020', 'Last', 'February', 'China’s', 'official', 'urban', 'unemployment', 'jumped', 'to', 'an', 'unprecedented', '62', 'percent', 'Unemployed', 'Number', 'may', 'go', 'up', 'to', '9', 'million', 'by', 'the', 'end', 'of', '2020', 'China', 'will', 'have', 'to', 'choose', 'out', 'of', 'two', 'competing', 'priorities', 'avoiding', 'the', 'middleincome', 'trapwhile', 'at', 'the', 'same', 'time', 'posturing', 'as', 'a', 'superpower', 'abroad', 'So', 'not', 'only', 'may', 'BRI', 'be', 'short', 'of', 'cash', 'but', 'it', 'will', 'also', 'be', 'hard', 'to', 'sell', 'at', 'home', 'All', 'Economies', 'along', 'BRI', 'routes', 'affected', 'Pakistan', 'host', 'to', 'the', 'biggest', 'BRI', 'megaproject', 'in', 'the', 'world', 'is', 'poised', 'to', 'sustain', 'a', '82', 'billion', 'loss', 'according', 'to', 'ADB', 'The', 'respective', 'figure', 'for', 'Bangladesh', 'is', '3', 'billion', 'Thailand', 'is', 'now', 'bracing', 'up', 'for', 'a', 'recession', 'Africa', 'is', 'equally', 'vulnerable', 'as', 'China', 'is', 'the', 'continent’s', 'largest', 'market', 'Covid19', 'hit', 'Chinese', 'companies', 'executing', 'BRI', 'contracts', 'can', 'rely', 'on', 'support', 'from', 'the', 'CDB', 'in', 'the', 'form', 'of', 'lowcost', 'financing', 'Yet', 'Chinese', 'policy', 'banks', 'will', 'be', 'increasingly', 'picky', 'and', 'inclined', 'to', 'stay', 'away', 'from', 'new', 'projects', 'that', 'may', 'turn', 'out', 'to', 'be', 'lossmakers', 'China', 'Development', 'Bank', 'to', 'support', 'Belt', 'and', 'road', 'companies', 'hit', 'by', 'coronavirus', 'Xinhua', 'The', 'Coronavirus', 'and', 'Xi', 'Jinping’s', 'Worldview', 'Priority', 'list', 'No', '1', 'preserving', 'the', 'CCP’s', 'power', 'No', '2', 'maintaining', 'national', 'unity', 'No', '3', 'the', 'expansion', 'of', 'the', 'economy', 'No', '4', 'environmental', 'sustainability', 'No', '5', 'modernize', 'the', 'Chinese', 'military', 'No', '6', 'China’s', '14', 'neighboring', 'states', 'No', '7', 'weaken', 'America’s', 'longstanding', 'security', 'alliances', 'No', '8', 'terrestrial', 'Silk', 'Road', 'Economic', 'Belt', 'No', '9', 'Maritime', 'Silk', 'Road', 'No', '10', 'reshape', 'the', 'global', 'order', 'Under', 'extreme', 'circumstances', 'Beijing', 'will', 'not', 'consider', 'the', 'BRI', 'as', 'important', 'Is', 'the', 'BRI', 'Finished', 'then', 'Short', 'Term', 'Yes', 'BRI', 'will', 'Face', 'Trouble', 'In', 'particular', 'the', 'summer', 'of', '2020', 'may', 'be', 'a', 'period', 'of', 'hibernation', 'for', 'several', 'BRI', 'projects', 'The', 'outbreak', 'has', 'brought', 'Chinese', 'labor', 'supplies', 'and', 'equipment', 'imports', 'along', 'BRI', 'routes', 'down', 'to', 'a', 'trickle', 'Not', 'Exactly', 'In', 'fact', 'the', 'initiative’s', 'fuzzy', 'content', 'is', 'being', 'further', 'enriched', 'with', 'the', '“Health', 'Silk', 'Road”', 'addon', 'narrative', 'and', '“mask', 'diplomacy”', 'in', 'a', 'major', 'softpower', 'push', 'Long', 'Term', 'A', 'Changed', 'BRI', 'will', 'Emerge', 'The', 'BRI', 'is', 'bound', 'to', 'change', 'Strategies', 'will', 'change', 'It', 'might', 'even', 'be', 'Defined', 'Properly', 'Seven', 'years', 'after', 'this', 'ambitious', 'initiative', 'was', 'announced', 'it', 'remains', 'a', 'blurred', 'vision', 'in', 'need', 'of', 'a', 'comprehensive', 'conceptual', 'framework', 'international', 'standards', 'and', 'a', 'coherent', 'implementation', 'strategy', 'This', 'is', 'one', 'of', 'the', 'reasons', 'why', 'the', 'BRI', 'has', 'become', 'controversial', 'and', 'has', 'caused', 'a', 'backlash', 'in', 'many', 'countries', 'A', 'Shift', 'away', 'from', 'Roads', 'and', 'Bridges', 'BRI', 'expenditure', 'up', 'to', '2019', 'stood', 'at', '545', 'billion', 'WB', 'Estimate', 'About', 'twothirds', 'of', 'spending', 'on', 'BRI', 'projects', 'has', 'gone', 'into', 'the', 'energy', 'sector', 'and', 'transport', 'However', 'developing', 'countries', 'in', 'need', 'of', 'infrastructure', 'will', 'be', 'terribly', 'cashstrapped', 'there', 'may', 'be', 'a', 'shift', 'away', 'from', 'roads', 'bridges', 'and', 'coalfired', 'power', 'plants', 'funded', 'through', 'Chinese', 'loans', 'New', 'BRI', 'projects', 'will', 'probably', 'be', 'more', 'strategically', 'chosen', 'Beijing', 'has', 'been', 'investing', 'in', 'the', 'creation', 'of', 'a', 'globespanning', 'network', 'of', 'economic', 'corridors', 'logistics', 'zones', 'and', 'financial', 'centers', 'with', 'stress', 'laid', 'on', 'seaports', 'and', 'adjacent', 'areas', 'Egypt’s', 'Suez', 'Canal', 'Economic', 'Zone', 'and', 'Sri', 'Lanka’s', 'Colombo', 'Port', 'City', 'clearly', 'show', 'this', 'trend', 'In', 'addition', 'projects', 'are', 'likely', 'to', 'focus', 'on', 'more', 'sophisticated', 'forms', 'of', 'connectivity', 'such', 'as', '5G', 'networks', 'or', 'in', 'the', 'wake', 'of', 'the', 'pandemic', 'disaster', 'management', 'public', 'healthrelated', 'hightech', 'and', 'even', 'remote', 'surgery', 'China', 'will', 'surely', 'use', 'the', 'BRI', 'for', 'the', 'projection', 'of', 'its', 'soft', 'power', 'an', 'increasingly', 'important', 'battlefield', 'in', 'international', 'relations', 'The', 'world', 'has', 'become', 'aware', 'of', 'the', 'risks', 'of', 'overwhelming', 'reliance', 'on', 'China', 'Amid', 'of', 'Coronavirus', 'outbreak', 'we', 'can', 'see', 'the', 'major', 'economies', 'are', 'strengthening', 'their', 'authorities', 'with', 'their', 'major', 'concern', 'The', 'USA', 'is', 'conducting', 'space', 'miningChina’s', 'maritime', 'AggressionIndia', 'USA', '155', 'Million', 'Defense', 'Deal', 'US', 'Approves', 'sale', 'of', 'AntiShip', 'Missiles', 'and', 'torpedoes', 'to', 'India', 'Blackcoffer', 'Insights', '17', 'VJagan', 'IIM', 'Kashipur']\n"
     ]
    }
   ],
   "source": [
    "content=soup.findAll(attrs={'class':'td-post-content'})\n",
    "content=content[0].text.replace('\\n',\" \")\n",
    "print(content)\n",
    "#Punctuation\n",
    "content = content.translate(str.maketrans('', '', string.punctuation)) \n",
    "print(content)\n",
    "text = content.split()\n",
    "print(text)\n"
   ]
  },
  {
   "cell_type": "code",
   "execution_count": 3,
   "id": "83c14865",
   "metadata": {},
   "outputs": [
    {
     "data": {
      "text/plain": [
       "1271"
      ]
     },
     "execution_count": 3,
     "metadata": {},
     "output_type": "execute_result"
    }
   ],
   "source": [
    "len(text)"
   ]
  },
  {
   "cell_type": "code",
   "execution_count": 4,
   "id": "6703a14d",
   "metadata": {},
   "outputs": [
    {
     "name": "stdout",
     "output_type": "stream",
     "text": [
      "20\n"
     ]
    }
   ],
   "source": [
    "#Positive Score \n",
    "with open(r\"C:\\Users\\Om Bhandwalkar\\Desktop\\pos\\positive-words.txt\") as pos:\n",
    "    poswords = pos.read().split(\"\\n\")  \n",
    "    poswords = poswords[5:]\n",
    "pos_count = \" \".join ([w for w in text if w in poswords])\n",
    "pos_count=pos_count.split(\" \")\n",
    "Positive_score=len(pos_count)\n",
    "print(Positive_score)"
   ]
  },
  {
   "cell_type": "code",
   "execution_count": 5,
   "id": "77505ae5",
   "metadata": {},
   "outputs": [
    {
     "name": "stdout",
     "output_type": "stream",
     "text": [
      "35\n"
     ]
    }
   ],
   "source": [
    "#Negative Score\n",
    "with open(r\"C:\\Users\\Om Bhandwalkar\\Desktop\\pos\\negative-words.txt\",encoding =\"ISO-8859-1\") as neg:\n",
    "    negwords = neg.read().split(\"\\n\")\n",
    "    \n",
    "negwords = negwords[36:]\n",
    "neg_count = \" \".join ([w for w in text if w in negwords])\n",
    "neg_count=neg_count.split(\" \")\n",
    "Negative_score=len(neg_count)\n",
    "print(Negative_score)"
   ]
  },
  {
   "cell_type": "code",
   "execution_count": 6,
   "id": "9a9e13e9",
   "metadata": {},
   "outputs": [
    {
     "data": {
      "text/html": [
       "<div>\n",
       "<style scoped>\n",
       "    .dataframe tbody tr th:only-of-type {\n",
       "        vertical-align: middle;\n",
       "    }\n",
       "\n",
       "    .dataframe tbody tr th {\n",
       "        vertical-align: top;\n",
       "    }\n",
       "\n",
       "    .dataframe thead th {\n",
       "        text-align: right;\n",
       "    }\n",
       "</style>\n",
       "<table border=\"1\" class=\"dataframe\">\n",
       "  <thead>\n",
       "    <tr style=\"text-align: right;\">\n",
       "      <th></th>\n",
       "      <th>url</th>\n",
       "      <th>title</th>\n",
       "      <th>content</th>\n",
       "      <th>filter_content</th>\n",
       "      <th>Positive_Score</th>\n",
       "      <th>Negative_Score</th>\n",
       "      <th>polarity</th>\n",
       "      <th>subjectivity</th>\n",
       "    </tr>\n",
       "  </thead>\n",
       "  <tbody>\n",
       "    <tr>\n",
       "      <th>0</th>\n",
       "      <td>https://insights.blackcoffer.com/estimating-th...</td>\n",
       "      <td>Estimating the impact of COVID-19 on the world...</td>\n",
       "      <td>Will COVID19 END Globalization Globalizati...</td>\n",
       "      <td>Will COVID19 END Globalization Globalization G...</td>\n",
       "      <td>20</td>\n",
       "      <td>35</td>\n",
       "      <td>0.084882</td>\n",
       "      <td>0.332095</td>\n",
       "    </tr>\n",
       "  </tbody>\n",
       "</table>\n",
       "</div>"
      ],
      "text/plain": [
       "                                                 url  \\\n",
       "0  https://insights.blackcoffer.com/estimating-th...   \n",
       "\n",
       "                                               title  \\\n",
       "0  Estimating the impact of COVID-19 on the world...   \n",
       "\n",
       "                                             content  \\\n",
       "0      Will COVID19 END Globalization Globalizati...   \n",
       "\n",
       "                                      filter_content  Positive_Score  \\\n",
       "0  Will COVID19 END Globalization Globalization G...              20   \n",
       "\n",
       "   Negative_Score  polarity  subjectivity  \n",
       "0              35  0.084882      0.332095  "
      ]
     },
     "execution_count": 6,
     "metadata": {},
     "output_type": "execute_result"
    }
   ],
   "source": [
    "filter_content = ' '.join(text)\n",
    "data=[[url,title,content,filter_content,Positive_score,Negative_score]]\n",
    "data=pd.DataFrame(data,columns=[\"url\",\"title\",\"content\",\"filter_content\",\"Positive_Score\",\"Negative_Score\"])\n",
    "from textblob import TextBlob\n",
    "# Get The Subjectivity\n",
    "def sentiment_analysis(data):\n",
    "    sentiment = TextBlob(data[\"content\"]).sentiment\n",
    "    return pd.Series([sentiment.polarity,sentiment.subjectivity ])\n",
    "\n",
    "# Adding Subjectivity & Polarity\n",
    "data[[\"polarity\", \"subjectivity\"]] = data.apply(sentiment_analysis, axis=1)\n",
    "\n",
    "data"
   ]
  },
  {
   "cell_type": "code",
   "execution_count": 7,
   "id": "072d9d49",
   "metadata": {},
   "outputs": [
    {
     "name": "stdout",
     "output_type": "stream",
     "text": [
      "Word average = 6695.0\n",
      "FOG INDEX =  512.49\n",
      "Average no of words per sentence\n",
      "1271.0\n",
      "Complex Words 2324\n"
     ]
    }
   ],
   "source": [
    "#AVG SENTENCE LENGTH\n",
    "AVG_SENTENCE_LENGTH = len(content.replace(' ',''))/len(re.split(r'[?!.]', content))\n",
    "print('Word average =', AVG_SENTENCE_LENGTH)\n",
    "import textstat\n",
    "#Fog index \n",
    "FOG_INDEX=(textstat.gunning_fog(content))\n",
    "print(\"FOG INDEX = \",FOG_INDEX)\n",
    "#Average No of Words Per Sentence \n",
    "AVG_NUMBER_OF_WORDS_PER_SENTENCE = [len(l.split()) for l in re.split(r'[?!.]', content) if l.strip()]\n",
    "print(\"Average no of words per sentence\")\n",
    "AVG_NUMBER_OF_WORDS_PER_SENTENCE=print(sum(AVG_NUMBER_OF_WORDS_PER_SENTENCE)/len(AVG_NUMBER_OF_WORDS_PER_SENTENCE))\n",
    "#Complex words\n",
    "def syllable_count(word):\n",
    "    count = 0\n",
    "    vowels = \"AEIOUYaeiouy\"\n",
    "    if word[0] in vowels:\n",
    "        count += 1\n",
    "    for index in range(1, len(word)): \n",
    "        if word[index] in vowels and word[index - 1] not in vowels:\n",
    "            count += 1\n",
    "            if word.endswith(\"es\"or \"ed\"):\n",
    "                count -= 1\n",
    "    if count == 0:\n",
    "        count += 1\n",
    "    return count\n",
    "\n",
    "\n",
    "\n",
    "COMPLEX_WORDS=syllable_count(content)\n",
    "print(\"Complex Words\",COMPLEX_WORDS)\n"
   ]
  },
  {
   "cell_type": "code",
   "execution_count": 8,
   "id": "2248b5bf",
   "metadata": {},
   "outputs": [
    {
     "name": "stdout",
     "output_type": "stream",
     "text": [
      "Word Count 7975\n",
      "Percentage of Complex Words 29.141065830721004\n",
      "Average Word per Length 5.26750590086546\n",
      "The AVG number of syllables in the word is: \n",
      "2.044846577498033\n",
      "Word Count 7975\n",
      "Percentage of Complex Words 29.141065830721004\n",
      "Average Word per Length 5.26750590086546\n",
      "The AVG number of syllables in the word is: \n",
      "2.044846577498033\n"
     ]
    }
   ],
   "source": [
    "#Word Count\n",
    "Word_Count=len(content)\n",
    "print(\"Word Count\",Word_Count)\n",
    "#Percentage Complex Words\n",
    "pcw=(COMPLEX_WORDS/Word_Count)*100\n",
    "print(\"Percentage of Complex Words\",pcw)\n",
    "#Average Word Length\n",
    "Average_Word_Length=len(content.replace(' ',''))/len(content.split())\n",
    "print(\"Average Word per Length\",Average_Word_Length)\n",
    "#Syllable Count Per Word\n",
    "word=content.replace(' ','')\n",
    "syllable_count=0\n",
    "for w in word:\n",
    "      if(w=='a' or w=='e' or w=='i' or w=='o' or w=='y' or w=='u' or w=='A' or w=='E' or w=='I' or w=='O' or w=='U' or w=='Y'):\n",
    "            syllable_count=syllable_count+1\n",
    "print(\"The AVG number of syllables in the word is: \")\n",
    "print(syllable_count/len(content.split()))#Word Count\n",
    "Word_Count=len(content)\n",
    "print(\"Word Count\",Word_Count)\n",
    "#Percentage Complex Words\n",
    "pcw=(COMPLEX_WORDS/Word_Count)*100\n",
    "print(\"Percentage of Complex Words\",pcw)\n",
    "#Average Word Length\n",
    "Average_Word_Length=len(content.replace(' ',''))/len(content.split())\n",
    "print(\"Average Word per Length\",Average_Word_Length)\n",
    "#Syllable Count Per Word\n",
    "word=content.replace(' ','')\n",
    "syllable_count=0\n",
    "for w in word:\n",
    "      if(w=='a' or w=='e' or w=='i' or w=='o' or w=='y' or w=='u' or w=='A' or w=='E' or w=='I' or w=='O' or w=='U' or w=='Y'):\n",
    "            syllable_count=syllable_count+1\n",
    "print(\"The AVG number of syllables in the word is: \")\n",
    "print(syllable_count/len(content.split()))"
   ]
  },
  {
   "cell_type": "code",
   "execution_count": 1,
   "id": "fba03945",
   "metadata": {},
   "outputs": [
    {
     "name": "stdout",
     "output_type": "stream",
     "text": [
      "20\n",
      "35\n",
      "Word average = 6695.0\n",
      "FOG INDEX =  512.49\n",
      "Average no of words per sentence\n",
      "1271.0\n",
      "Complex Words 2324\n",
      "Word Count 7975\n",
      "Percentage of Complex Words 29.141065830721004\n",
      "Average Word per Length 5.26750590086546\n",
      "The AVG number of syllables in the word is: \n",
      "2.044846577498033\n"
     ]
    },
    {
     "data": {
      "text/html": [
       "<div>\n",
       "<style scoped>\n",
       "    .dataframe tbody tr th:only-of-type {\n",
       "        vertical-align: middle;\n",
       "    }\n",
       "\n",
       "    .dataframe tbody tr th {\n",
       "        vertical-align: top;\n",
       "    }\n",
       "\n",
       "    .dataframe thead th {\n",
       "        text-align: right;\n",
       "    }\n",
       "</style>\n",
       "<table border=\"1\" class=\"dataframe\">\n",
       "  <thead>\n",
       "    <tr style=\"text-align: right;\">\n",
       "      <th></th>\n",
       "      <th>url</th>\n",
       "      <th>title</th>\n",
       "      <th>content</th>\n",
       "      <th>filter_content</th>\n",
       "      <th>Positive_Score</th>\n",
       "      <th>Negative_Score</th>\n",
       "      <th>Avg_Sentence_Length</th>\n",
       "      <th>Percentage_Complex_Word</th>\n",
       "      <th>Fog_Index</th>\n",
       "      <th>AVG_NUMBER_OF_WORDS_PER_SENTENCE</th>\n",
       "      <th>COMPLEX_WORDS</th>\n",
       "      <th>Word_Count</th>\n",
       "      <th>syllable</th>\n",
       "      <th>Average_Word_Length</th>\n",
       "      <th>polarity</th>\n",
       "      <th>subjectivity</th>\n",
       "    </tr>\n",
       "  </thead>\n",
       "  <tbody>\n",
       "    <tr>\n",
       "      <th>0</th>\n",
       "      <td>https://insights.blackcoffer.com/estimating-th...</td>\n",
       "      <td>Estimating the impact of COVID-19 on the world...</td>\n",
       "      <td>Will COVID19 END Globalization Globalizati...</td>\n",
       "      <td>Will COVID19 END Globalization Globalization G...</td>\n",
       "      <td>20</td>\n",
       "      <td>35</td>\n",
       "      <td>6695.0</td>\n",
       "      <td>29.141066</td>\n",
       "      <td>512.49</td>\n",
       "      <td>1271.0</td>\n",
       "      <td>2324</td>\n",
       "      <td>7975</td>\n",
       "      <td>2.044847</td>\n",
       "      <td>5.267506</td>\n",
       "      <td>0.084882</td>\n",
       "      <td>0.332095</td>\n",
       "    </tr>\n",
       "  </tbody>\n",
       "</table>\n",
       "</div>"
      ],
      "text/plain": [
       "                                                 url  \\\n",
       "0  https://insights.blackcoffer.com/estimating-th...   \n",
       "\n",
       "                                               title  \\\n",
       "0  Estimating the impact of COVID-19 on the world...   \n",
       "\n",
       "                                             content  \\\n",
       "0      Will COVID19 END Globalization Globalizati...   \n",
       "\n",
       "                                      filter_content  Positive_Score  \\\n",
       "0  Will COVID19 END Globalization Globalization G...              20   \n",
       "\n",
       "   Negative_Score  Avg_Sentence_Length  Percentage_Complex_Word  Fog_Index  \\\n",
       "0              35               6695.0                29.141066     512.49   \n",
       "\n",
       "    AVG_NUMBER_OF_WORDS_PER_SENTENCE  COMPLEX_WORDS  Word_Count  syllable  \\\n",
       "0                             1271.0           2324        7975  2.044847   \n",
       "\n",
       "   Average_Word_Length  polarity  subjectivity  \n",
       "0             5.267506  0.084882      0.332095  "
      ]
     },
     "execution_count": 1,
     "metadata": {},
     "output_type": "execute_result"
    }
   ],
   "source": [
    "import requests\n",
    "import pandas as pd \n",
    "from bs4 import BeautifulSoup\n",
    "import string\n",
    "import spacy\n",
    "import re\n",
    "url = \"\"\"https://insights.blackcoffer.com/estimating-the-impact-of-covid-19-on-the-world-of-work-3/\"\"\"\n",
    "headers = {\"User-Agent\": \"Mozilla/5.0 (X11; Linux x86_64; rv:60.0) Gecko/20100101 Firefox/60.0\"}\n",
    "page = requests.get(url, headers=headers)\n",
    "soup = BeautifulSoup(page.content, 'html.parser')\n",
    "soup=BeautifulSoup(page.content, 'html.parser')\n",
    "title=soup.find('h1',class_=\"entry-title\")\n",
    "title=title.text.replace('\\n',\" \")\n",
    "# title\n",
    "\n",
    "content=soup.findAll(attrs={'class':'td-post-content'})\n",
    "content=content[0].text.replace('\\n',\" \")\n",
    "# print(content)\n",
    "#Punctuation\n",
    "content = content.translate(str.maketrans('', '', string.punctuation)) \n",
    "# print(content)\n",
    "text = content.split()\n",
    "# print(text)\n",
    "len(text)\n",
    "#Positive Score \n",
    "with open(r\"C:\\Users\\Om Bhandwalkar\\Desktop\\pos\\positive-words.txt\") as pos:\n",
    "    poswords = pos.read().split(\"\\n\")  \n",
    "    poswords = poswords[5:]\n",
    "pos_count = \" \".join ([w for w in text if w in poswords])\n",
    "pos_count=pos_count.split(\" \")\n",
    "Positive_score=len(pos_count)\n",
    "print(Positive_score)\n",
    "\n",
    "#Negative Score\n",
    "with open(r\"C:\\Users\\Om Bhandwalkar\\Desktop\\pos\\negative-words.txt\",encoding =\"ISO-8859-1\") as neg:\n",
    "    negwords = neg.read().split(\"\\n\")\n",
    "    \n",
    "negwords = negwords[36:]\n",
    "neg_count = \" \".join ([w for w in text if w in negwords])\n",
    "neg_count=neg_count.split(\" \")\n",
    "Negative_score=len(neg_count)\n",
    "print(Negative_score)\n",
    "\n",
    "\n",
    "filter_content = ' '.join(text)\n",
    "data=[[url,title,content,filter_content,Positive_score,Negative_score]]\n",
    "data=pd.DataFrame(data,columns=[\"url\",\"title\",\"content\",\"filter_content\",\"Positive_Score\",\"Negative_Score\"])\n",
    "from textblob import TextBlob\n",
    "# Get The Subjectivity\n",
    "def sentiment_analysis(data):\n",
    "    sentiment = TextBlob(data[\"content\"]).sentiment\n",
    "    return pd.Series([sentiment.polarity,sentiment.subjectivity ])\n",
    "data[[\"polarity\", \"subjectivity\"]] = data.apply(sentiment_analysis, axis=1)\n",
    "data\n",
    "#AVG SENTENCE LENGTH\n",
    "AVG_SENTENCE_LENGTH = len(content.replace(' ',''))/len(re.split(r'[?!.]', content))\n",
    "print('Word average =', AVG_SENTENCE_LENGTH)\n",
    "import textstat\n",
    "#Fog index \n",
    "FOG_INDEX=(textstat.gunning_fog(content))\n",
    "print(\"FOG INDEX = \",FOG_INDEX)\n",
    "#Average No of Words Per Sentence \n",
    "AVG_NUMBER_OF_WORDS_PER_SENTENCE = [len(l.split()) for l in re.split(r'[?!.]', content) if l.strip()]\n",
    "print(\"Average no of words per sentence\")\n",
    "AVG_NUMBER_OF_WORDS_PER_SENTENCE=(sum(AVG_NUMBER_OF_WORDS_PER_SENTENCE)/len(AVG_NUMBER_OF_WORDS_PER_SENTENCE))\n",
    "print(AVG_NUMBER_OF_WORDS_PER_SENTENCE)\n",
    "#Complex words\n",
    "def syllable_count(word):\n",
    "    count = 0\n",
    "    vowels = \"AEIOUYaeiouy\"\n",
    "    if word[0] in vowels:\n",
    "        count += 1\n",
    "    for index in range(1, len(word)): \n",
    "        if word[index] in vowels and word[index - 1] not in vowels:\n",
    "            count += 1\n",
    "            if word.endswith(\"es\"or \"ed\"):\n",
    "                count -= 1\n",
    "    if count == 0:\n",
    "        count += 1\n",
    "    return count\n",
    "\n",
    "\n",
    "\n",
    "COMPLEX_WORDS=syllable_count(content)\n",
    "print(\"Complex Words\",COMPLEX_WORDS)\n",
    "#Word Count\n",
    "Word_Count=len(content)\n",
    "print(\"Word Count\",Word_Count)\n",
    "#Percentage Complex Words\n",
    "pcw=(COMPLEX_WORDS/Word_Count)*100\n",
    "print(\"Percentage of Complex Words\",pcw)\n",
    "#Average Word Length\n",
    "Average_Word_Length=len(content.replace(' ',''))/len(content.split())\n",
    "print(\"Average Word per Length\",Average_Word_Length)\n",
    "#Syllable Count Per Word\n",
    "word=content.replace(' ','')\n",
    "syllable_count=0\n",
    "for w in word:\n",
    "      if(w=='a' or w=='e' or w=='i' or w=='o' or w=='y' or w=='u' or w=='A' or w=='E' or w=='I' or w=='O' or w=='U' or w=='Y'):\n",
    "            syllable_count=syllable_count+1\n",
    "print(\"The AVG number of syllables in the word is: \")\n",
    "syllable = (syllable_count/len(content.split()))\n",
    "print(syllable)\n",
    "\n",
    "data = [[url,title,content,filter_content,Positive_score,Negative_score,AVG_SENTENCE_LENGTH,pcw,FOG_INDEX,\n",
    "         AVG_NUMBER_OF_WORDS_PER_SENTENCE,COMPLEX_WORDS,Word_Count,syllable,Average_Word_Length]]\n",
    "data=pd.DataFrame(data,columns=[\"url\",\"title\",\"content\",\"filter_content\",\"Positive_Score\",\"Negative_Score\",\"Avg_Sentence_Length\"\n",
    "                               ,\"Percentage_Complex_Word\",\"Fog_Index\",\" AVG_NUMBER_OF_WORDS_PER_SENTENCE\",\"COMPLEX_WORDS\",\n",
    "                               \"Word_Count\",\"syllable\",\"Average_Word_Length\"])\n",
    "from textblob import TextBlob\n",
    "# Get The Subjectivity\n",
    "def sentiment_analysis(data):\n",
    "    sentiment = TextBlob(data[\"content\"]).sentiment\n",
    "    return pd.Series([sentiment.polarity,sentiment.subjectivity ])\n",
    "data[[\"polarity\", \"subjectivity\"]] = data.apply(sentiment_analysis, axis=1)\n",
    "data"
   ]
  },
  {
   "cell_type": "code",
   "execution_count": 2,
   "id": "28b4d307",
   "metadata": {},
   "outputs": [],
   "source": [
    "data.to_csv(r'C:\\Users\\Om Bhandwalkar\\Desktop\\BlackCoffer Assignment\\Output\\url_100.csv')"
   ]
  },
  {
   "cell_type": "code",
   "execution_count": null,
   "id": "f1fefdca",
   "metadata": {},
   "outputs": [],
   "source": []
  }
 ],
 "metadata": {
  "kernelspec": {
   "display_name": "Python 3 (ipykernel)",
   "language": "python",
   "name": "python3"
  },
  "language_info": {
   "codemirror_mode": {
    "name": "ipython",
    "version": 3
   },
   "file_extension": ".py",
   "mimetype": "text/x-python",
   "name": "python",
   "nbconvert_exporter": "python",
   "pygments_lexer": "ipython3",
   "version": "3.9.12"
  }
 },
 "nbformat": 4,
 "nbformat_minor": 5
}
