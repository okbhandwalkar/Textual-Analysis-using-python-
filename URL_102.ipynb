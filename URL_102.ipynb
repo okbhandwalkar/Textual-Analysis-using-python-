{
 "cells": [
  {
   "cell_type": "code",
   "execution_count": 1,
   "id": "d1d4c999",
   "metadata": {},
   "outputs": [
    {
     "data": {
      "text/plain": [
       "'Gaming Disorder and Effects of Gaming on Health.'"
      ]
     },
     "execution_count": 1,
     "metadata": {},
     "output_type": "execute_result"
    }
   ],
   "source": [
    "import requests\n",
    "import pandas as pd \n",
    "from bs4 import BeautifulSoup\n",
    "import string\n",
    "import spacy\n",
    "import re\n",
    "url = \"\"\"https://insights.blackcoffer.com/gaming-disorder-and-effects-of-gaming-on-health/\"\"\"\n",
    "headers = {\"User-Agent\": \"Mozilla/5.0 (X11; Linux x86_64; rv:60.0) Gecko/20100101 Firefox/60.0\"}\n",
    "page = requests.get(url, headers=headers)\n",
    "soup = BeautifulSoup(page.content, 'html.parser')\n",
    "soup=BeautifulSoup(page.content, 'html.parser')\n",
    "title=soup.find('h1',class_=\"entry-title\")\n",
    "title=title.text.replace('\\n',\" \")\n",
    "title\n"
   ]
  },
  {
   "cell_type": "code",
   "execution_count": 2,
   "id": "f4aa3efc",
   "metadata": {},
   "outputs": [
    {
     "name": "stdout",
     "output_type": "stream",
     "text": [
      " Perhaps the virtual illusion has become today’s “New Reality”. Inquisitive about the conclusion? Let’s attempt to vindicate as the outline story unfolds itself. Ever since the concept of gaming floated back in the 1970s a new dimension was put before human beings, intangible in nature, and paradoxically engulfed us since then. It laid an impact on multiple generations in different ways. The last decade witnessed a boom in this industry & with the advancement of technologies in Virtual and Augmented reality, the gaming world has become an integral part of our day to day experiences. With the intent of being regarded as a leisure activity, it has now percolated over various strata and has managed to gather the attention of teenagers and adolescents on a comprehensive scale. As we explored the fabric of our Engineering batch mates, we came across this peculiar guy holding excellent academics with accolades of his names, seemed to be a nerd at a glance and street smart by nature. Concomitance happened to be the reason for experiencing the lifestyle of other personalities that included SAM as well. SAM was not only fascinated by the games but used to spend tirelessly hours and hours in front of the white screen engrossed completely leaving the track of time. As our academics advanced, the intensity of involvement in gaming grew deeper and steadily it turned into addiction in no time. We realized the gravity as we were exposed to his change of behavior and shift of priorities due to his unprecedented absence during our lectures and practical. He was modestly reluctant to share about his whereabouts with his peers. The situation turned grim when he wasn’t able to cope up with the subjects and was socially disturbed while interacting. He was compelled towards the fantasy world and was trapped in the vicious cycle of a never-ending backlog of games. As time progressed his performance turned from bad to worse. He was struggling. It was clear as ice that he had something hidden behind that visage. As sophomores, we were also involved in gaming but soon realized that it does more harm than good. A close cluster of friends decided to lend a helping hand to SAM and as they learned about him, the ground beneath their feet slipped away and froze their brain. He had completely lost the circadian rhythm of his sleep, ran into financial losses, aggression draped him, his relations were tarnished due to the habitual routine, and signs of depression were visible on the upfront. Poker was the tartar that he had caught. The game of cards as most of us would perceive it, rather proved to be the fulcrum of SAM’s near future. In the quest of pleasure through online games, he entered the tunnel of gambling at a very tender age ignoring the risks involved in terms of financial verticals. He was suffering from Internet Gaming Disorder (IGD) & his condition deteriorated as days passed by. Apparently, from a healthy individual to a drained skinny one, it took a toll on his physical health. Mental disturbance sucked him and he grew insensitive towards his academics. The psychological negative consequences were due to the combination of online gaming and gambling platforms. During that phase, the peer group (gaming group) gained more influence than parental control.  Days arrived when he ran short of money and went ahead to ask his friends in college for the funds. Since a large amount of money is involved in gambling, a situation exacerbated when SAM had his ethical values on the line and breached his boundaries to satisfy his hunger of gaming and leaped towards illegal means to fund his gambling. The practical project was a crucial part of our Engineering curriculum, under which a team of four members was to be established and is expected to remain intact for a year. SAM was by no means in anyone’s good books. No one in the batch was ready to risk with SAM even though he possessed a brilliant acumen. He was abandoned. We were three friends already and were scouting for the fourth. With mutual consensus, we decided to go ahead with SAM. Initially, we worked together and collaboration seemed to be perfect. Unfortunately, he wasn’t able to clear his backlog exams and had to drop out. At present he plays Poker on a professional level, keeping aside his Engineering career and battling with his conscience that we may not be aware of.   Earlier generations used to spend their time or rather invest their time into activities building up their passion, in some cases they pushed their cognition to such an extreme and contributed to a level that humanity as a whole is in-depth to date. Can we imagine our present without the existence of Sir Edison, Sir Newton, Sir Tesla, Sir Einstein, and many more that were engrossed in their domain and served the necessary impetus for our generation? No one knows that SAM could have been our generation scientist, hadn’t he chose that path.   Not Everyone is SAM but perhaps we could miss our Einstein or Tesla! Maybe our Newton is waiting for the new upgraded version of the game instead of sitting under the tree. Our Mendeleev might be involved in arcade games!  Feels so numb.   Millions of teenagers are involved in online gaming platforms and the community is growing at a rapid rate every year. Presently the prevalence of IGD among the adolescent group was between 1.3% to 19.9% and males reported more prevalence than females. In the fiscal year 2019, there were 300 million online gamers in India. This number was estimated to go up to 440 million gamers by the fiscal year 2022. Overall, India ranked the highest in terms of the growth in online game downloads on app stores with a growth rate of 165 percent between 2016 to 2018. 75% of young people use a mobile phone to play different games, 21% use PC/Laptop. Games like PUBG that promote virtual violence calls for the stern attention of the responsible demographics. As per a study, online games are directly affecting the neurons, leading to chemical imbalance thus causing severe depression and anxiety attacks.   As per the World Health Organization, depression is interrelated to physical and mental health and the word ‘depression’ that didn’t exist decades back has become prevalent among the youth, leading to more stress and dysfunction and worsening the affected person’s life situation. Anything in excess is poison. So are games.  In deed the virtual illusion has become today’s “New Reality”. Blackcoffer Insights 18: Aftaab Sara(M.Tech,IIT Delhi) and Furquan Shaikh(MBA)  \n",
      " Perhaps the virtual illusion has become today’s “New Reality” Inquisitive about the conclusion Let’s attempt to vindicate as the outline story unfolds itself Ever since the concept of gaming floated back in the 1970s a new dimension was put before human beings intangible in nature and paradoxically engulfed us since then It laid an impact on multiple generations in different ways The last decade witnessed a boom in this industry  with the advancement of technologies in Virtual and Augmented reality the gaming world has become an integral part of our day to day experiences With the intent of being regarded as a leisure activity it has now percolated over various strata and has managed to gather the attention of teenagers and adolescents on a comprehensive scale As we explored the fabric of our Engineering batch mates we came across this peculiar guy holding excellent academics with accolades of his names seemed to be a nerd at a glance and street smart by nature Concomitance happened to be the reason for experiencing the lifestyle of other personalities that included SAM as well SAM was not only fascinated by the games but used to spend tirelessly hours and hours in front of the white screen engrossed completely leaving the track of time As our academics advanced the intensity of involvement in gaming grew deeper and steadily it turned into addiction in no time We realized the gravity as we were exposed to his change of behavior and shift of priorities due to his unprecedented absence during our lectures and practical He was modestly reluctant to share about his whereabouts with his peers The situation turned grim when he wasn’t able to cope up with the subjects and was socially disturbed while interacting He was compelled towards the fantasy world and was trapped in the vicious cycle of a neverending backlog of games As time progressed his performance turned from bad to worse He was struggling It was clear as ice that he had something hidden behind that visage As sophomores we were also involved in gaming but soon realized that it does more harm than good A close cluster of friends decided to lend a helping hand to SAM and as they learned about him the ground beneath their feet slipped away and froze their brain He had completely lost the circadian rhythm of his sleep ran into financial losses aggression draped him his relations were tarnished due to the habitual routine and signs of depression were visible on the upfront Poker was the tartar that he had caught The game of cards as most of us would perceive it rather proved to be the fulcrum of SAM’s near future In the quest of pleasure through online games he entered the tunnel of gambling at a very tender age ignoring the risks involved in terms of financial verticals He was suffering from Internet Gaming Disorder IGD  his condition deteriorated as days passed by Apparently from a healthy individual to a drained skinny one it took a toll on his physical health Mental disturbance sucked him and he grew insensitive towards his academics The psychological negative consequences were due to the combination of online gaming and gambling platforms During that phase the peer group gaming group gained more influence than parental control  Days arrived when he ran short of money and went ahead to ask his friends in college for the funds Since a large amount of money is involved in gambling a situation exacerbated when SAM had his ethical values on the line and breached his boundaries to satisfy his hunger of gaming and leaped towards illegal means to fund his gambling The practical project was a crucial part of our Engineering curriculum under which a team of four members was to be established and is expected to remain intact for a year SAM was by no means in anyone’s good books No one in the batch was ready to risk with SAM even though he possessed a brilliant acumen He was abandoned We were three friends already and were scouting for the fourth With mutual consensus we decided to go ahead with SAM Initially we worked together and collaboration seemed to be perfect Unfortunately he wasn’t able to clear his backlog exams and had to drop out At present he plays Poker on a professional level keeping aside his Engineering career and battling with his conscience that we may not be aware of   Earlier generations used to spend their time or rather invest their time into activities building up their passion in some cases they pushed their cognition to such an extreme and contributed to a level that humanity as a whole is indepth to date Can we imagine our present without the existence of Sir Edison Sir Newton Sir Tesla Sir Einstein and many more that were engrossed in their domain and served the necessary impetus for our generation No one knows that SAM could have been our generation scientist hadn’t he chose that path   Not Everyone is SAM but perhaps we could miss our Einstein or Tesla Maybe our Newton is waiting for the new upgraded version of the game instead of sitting under the tree Our Mendeleev might be involved in arcade games  Feels so numb   Millions of teenagers are involved in online gaming platforms and the community is growing at a rapid rate every year Presently the prevalence of IGD among the adolescent group was between 13 to 199 and males reported more prevalence than females In the fiscal year 2019 there were 300 million online gamers in India This number was estimated to go up to 440 million gamers by the fiscal year 2022 Overall India ranked the highest in terms of the growth in online game downloads on app stores with a growth rate of 165 percent between 2016 to 2018 75 of young people use a mobile phone to play different games 21 use PCLaptop Games like PUBG that promote virtual violence calls for the stern attention of the responsible demographics As per a study online games are directly affecting the neurons leading to chemical imbalance thus causing severe depression and anxiety attacks   As per the World Health Organization depression is interrelated to physical and mental health and the word ‘depression’ that didn’t exist decades back has become prevalent among the youth leading to more stress and dysfunction and worsening the affected person’s life situation Anything in excess is poison So are games  In deed the virtual illusion has become today’s “New Reality” Blackcoffer Insights 18 Aftaab SaraMTechIIT Delhi and Furquan ShaikhMBA  \n",
      "['Perhaps', 'the', 'virtual', 'illusion', 'has', 'become', 'today’s', '“New', 'Reality”', 'Inquisitive', 'about', 'the', 'conclusion', 'Let’s', 'attempt', 'to', 'vindicate', 'as', 'the', 'outline', 'story', 'unfolds', 'itself', 'Ever', 'since', 'the', 'concept', 'of', 'gaming', 'floated', 'back', 'in', 'the', '1970s', 'a', 'new', 'dimension', 'was', 'put', 'before', 'human', 'beings', 'intangible', 'in', 'nature', 'and', 'paradoxically', 'engulfed', 'us', 'since', 'then', 'It', 'laid', 'an', 'impact', 'on', 'multiple', 'generations', 'in', 'different', 'ways', 'The', 'last', 'decade', 'witnessed', 'a', 'boom', 'in', 'this', 'industry', 'with', 'the', 'advancement', 'of', 'technologies', 'in', 'Virtual', 'and', 'Augmented', 'reality', 'the', 'gaming', 'world', 'has', 'become', 'an', 'integral', 'part', 'of', 'our', 'day', 'to', 'day', 'experiences', 'With', 'the', 'intent', 'of', 'being', 'regarded', 'as', 'a', 'leisure', 'activity', 'it', 'has', 'now', 'percolated', 'over', 'various', 'strata', 'and', 'has', 'managed', 'to', 'gather', 'the', 'attention', 'of', 'teenagers', 'and', 'adolescents', 'on', 'a', 'comprehensive', 'scale', 'As', 'we', 'explored', 'the', 'fabric', 'of', 'our', 'Engineering', 'batch', 'mates', 'we', 'came', 'across', 'this', 'peculiar', 'guy', 'holding', 'excellent', 'academics', 'with', 'accolades', 'of', 'his', 'names', 'seemed', 'to', 'be', 'a', 'nerd', 'at', 'a', 'glance', 'and', 'street', 'smart', 'by', 'nature', 'Concomitance', 'happened', 'to', 'be', 'the', 'reason', 'for', 'experiencing', 'the', 'lifestyle', 'of', 'other', 'personalities', 'that', 'included', 'SAM', 'as', 'well', 'SAM', 'was', 'not', 'only', 'fascinated', 'by', 'the', 'games', 'but', 'used', 'to', 'spend', 'tirelessly', 'hours', 'and', 'hours', 'in', 'front', 'of', 'the', 'white', 'screen', 'engrossed', 'completely', 'leaving', 'the', 'track', 'of', 'time', 'As', 'our', 'academics', 'advanced', 'the', 'intensity', 'of', 'involvement', 'in', 'gaming', 'grew', 'deeper', 'and', 'steadily', 'it', 'turned', 'into', 'addiction', 'in', 'no', 'time', 'We', 'realized', 'the', 'gravity', 'as', 'we', 'were', 'exposed', 'to', 'his', 'change', 'of', 'behavior', 'and', 'shift', 'of', 'priorities', 'due', 'to', 'his', 'unprecedented', 'absence', 'during', 'our', 'lectures', 'and', 'practical', 'He', 'was', 'modestly', 'reluctant', 'to', 'share', 'about', 'his', 'whereabouts', 'with', 'his', 'peers', 'The', 'situation', 'turned', 'grim', 'when', 'he', 'wasn’t', 'able', 'to', 'cope', 'up', 'with', 'the', 'subjects', 'and', 'was', 'socially', 'disturbed', 'while', 'interacting', 'He', 'was', 'compelled', 'towards', 'the', 'fantasy', 'world', 'and', 'was', 'trapped', 'in', 'the', 'vicious', 'cycle', 'of', 'a', 'neverending', 'backlog', 'of', 'games', 'As', 'time', 'progressed', 'his', 'performance', 'turned', 'from', 'bad', 'to', 'worse', 'He', 'was', 'struggling', 'It', 'was', 'clear', 'as', 'ice', 'that', 'he', 'had', 'something', 'hidden', 'behind', 'that', 'visage', 'As', 'sophomores', 'we', 'were', 'also', 'involved', 'in', 'gaming', 'but', 'soon', 'realized', 'that', 'it', 'does', 'more', 'harm', 'than', 'good', 'A', 'close', 'cluster', 'of', 'friends', 'decided', 'to', 'lend', 'a', 'helping', 'hand', 'to', 'SAM', 'and', 'as', 'they', 'learned', 'about', 'him', 'the', 'ground', 'beneath', 'their', 'feet', 'slipped', 'away', 'and', 'froze', 'their', 'brain', 'He', 'had', 'completely', 'lost', 'the', 'circadian', 'rhythm', 'of', 'his', 'sleep', 'ran', 'into', 'financial', 'losses', 'aggression', 'draped', 'him', 'his', 'relations', 'were', 'tarnished', 'due', 'to', 'the', 'habitual', 'routine', 'and', 'signs', 'of', 'depression', 'were', 'visible', 'on', 'the', 'upfront', 'Poker', 'was', 'the', 'tartar', 'that', 'he', 'had', 'caught', 'The', 'game', 'of', 'cards', 'as', 'most', 'of', 'us', 'would', 'perceive', 'it', 'rather', 'proved', 'to', 'be', 'the', 'fulcrum', 'of', 'SAM’s', 'near', 'future', 'In', 'the', 'quest', 'of', 'pleasure', 'through', 'online', 'games', 'he', 'entered', 'the', 'tunnel', 'of', 'gambling', 'at', 'a', 'very', 'tender', 'age', 'ignoring', 'the', 'risks', 'involved', 'in', 'terms', 'of', 'financial', 'verticals', 'He', 'was', 'suffering', 'from', 'Internet', 'Gaming', 'Disorder', 'IGD', 'his', 'condition', 'deteriorated', 'as', 'days', 'passed', 'by', 'Apparently', 'from', 'a', 'healthy', 'individual', 'to', 'a', 'drained', 'skinny', 'one', 'it', 'took', 'a', 'toll', 'on', 'his', 'physical', 'health', 'Mental', 'disturbance', 'sucked', 'him', 'and', 'he', 'grew', 'insensitive', 'towards', 'his', 'academics', 'The', 'psychological', 'negative', 'consequences', 'were', 'due', 'to', 'the', 'combination', 'of', 'online', 'gaming', 'and', 'gambling', 'platforms', 'During', 'that', 'phase', 'the', 'peer', 'group', 'gaming', 'group', 'gained', 'more', 'influence', 'than', 'parental', 'control', 'Days', 'arrived', 'when', 'he', 'ran', 'short', 'of', 'money', 'and', 'went', 'ahead', 'to', 'ask', 'his', 'friends', 'in', 'college', 'for', 'the', 'funds', 'Since', 'a', 'large', 'amount', 'of', 'money', 'is', 'involved', 'in', 'gambling', 'a', 'situation', 'exacerbated', 'when', 'SAM', 'had', 'his', 'ethical', 'values', 'on', 'the', 'line', 'and', 'breached', 'his', 'boundaries', 'to', 'satisfy', 'his', 'hunger', 'of', 'gaming', 'and', 'leaped', 'towards', 'illegal', 'means', 'to', 'fund', 'his', 'gambling', 'The', 'practical', 'project', 'was', 'a', 'crucial', 'part', 'of', 'our', 'Engineering', 'curriculum', 'under', 'which', 'a', 'team', 'of', 'four', 'members', 'was', 'to', 'be', 'established', 'and', 'is', 'expected', 'to', 'remain', 'intact', 'for', 'a', 'year', 'SAM', 'was', 'by', 'no', 'means', 'in', 'anyone’s', 'good', 'books', 'No', 'one', 'in', 'the', 'batch', 'was', 'ready', 'to', 'risk', 'with', 'SAM', 'even', 'though', 'he', 'possessed', 'a', 'brilliant', 'acumen', 'He', 'was', 'abandoned', 'We', 'were', 'three', 'friends', 'already', 'and', 'were', 'scouting', 'for', 'the', 'fourth', 'With', 'mutual', 'consensus', 'we', 'decided', 'to', 'go', 'ahead', 'with', 'SAM', 'Initially', 'we', 'worked', 'together', 'and', 'collaboration', 'seemed', 'to', 'be', 'perfect', 'Unfortunately', 'he', 'wasn’t', 'able', 'to', 'clear', 'his', 'backlog', 'exams', 'and', 'had', 'to', 'drop', 'out', 'At', 'present', 'he', 'plays', 'Poker', 'on', 'a', 'professional', 'level', 'keeping', 'aside', 'his', 'Engineering', 'career', 'and', 'battling', 'with', 'his', 'conscience', 'that', 'we', 'may', 'not', 'be', 'aware', 'of', 'Earlier', 'generations', 'used', 'to', 'spend', 'their', 'time', 'or', 'rather', 'invest', 'their', 'time', 'into', 'activities', 'building', 'up', 'their', 'passion', 'in', 'some', 'cases', 'they', 'pushed', 'their', 'cognition', 'to', 'such', 'an', 'extreme', 'and', 'contributed', 'to', 'a', 'level', 'that', 'humanity', 'as', 'a', 'whole', 'is', 'indepth', 'to', 'date', 'Can', 'we', 'imagine', 'our', 'present', 'without', 'the', 'existence', 'of', 'Sir', 'Edison', 'Sir', 'Newton', 'Sir', 'Tesla', 'Sir', 'Einstein', 'and', 'many', 'more', 'that', 'were', 'engrossed', 'in', 'their', 'domain', 'and', 'served', 'the', 'necessary', 'impetus', 'for', 'our', 'generation', 'No', 'one', 'knows', 'that', 'SAM', 'could', 'have', 'been', 'our', 'generation', 'scientist', 'hadn’t', 'he', 'chose', 'that', 'path', 'Not', 'Everyone', 'is', 'SAM', 'but', 'perhaps', 'we', 'could', 'miss', 'our', 'Einstein', 'or', 'Tesla', 'Maybe', 'our', 'Newton', 'is', 'waiting', 'for', 'the', 'new', 'upgraded', 'version', 'of', 'the', 'game', 'instead', 'of', 'sitting', 'under', 'the', 'tree', 'Our', 'Mendeleev', 'might', 'be', 'involved', 'in', 'arcade', 'games', 'Feels', 'so', 'numb', 'Millions', 'of', 'teenagers', 'are', 'involved', 'in', 'online', 'gaming', 'platforms', 'and', 'the', 'community', 'is', 'growing', 'at', 'a', 'rapid', 'rate', 'every', 'year', 'Presently', 'the', 'prevalence', 'of', 'IGD', 'among', 'the', 'adolescent', 'group', 'was', 'between', '13', 'to', '199', 'and', 'males', 'reported', 'more', 'prevalence', 'than', 'females', 'In', 'the', 'fiscal', 'year', '2019', 'there', 'were', '300', 'million', 'online', 'gamers', 'in', 'India', 'This', 'number', 'was', 'estimated', 'to', 'go', 'up', 'to', '440', 'million', 'gamers', 'by', 'the', 'fiscal', 'year', '2022', 'Overall', 'India', 'ranked', 'the', 'highest', 'in', 'terms', 'of', 'the', 'growth', 'in', 'online', 'game', 'downloads', 'on', 'app', 'stores', 'with', 'a', 'growth', 'rate', 'of', '165', 'percent', 'between', '2016', 'to', '2018', '75', 'of', 'young', 'people', 'use', 'a', 'mobile', 'phone', 'to', 'play', 'different', 'games', '21', 'use', 'PCLaptop', 'Games', 'like', 'PUBG', 'that', 'promote', 'virtual', 'violence', 'calls', 'for', 'the', 'stern', 'attention', 'of', 'the', 'responsible', 'demographics', 'As', 'per', 'a', 'study', 'online', 'games', 'are', 'directly', 'affecting', 'the', 'neurons', 'leading', 'to', 'chemical', 'imbalance', 'thus', 'causing', 'severe', 'depression', 'and', 'anxiety', 'attacks', 'As', 'per', 'the', 'World', 'Health', 'Organization', 'depression', 'is', 'interrelated', 'to', 'physical', 'and', 'mental', 'health', 'and', 'the', 'word', '‘depression’', 'that', 'didn’t', 'exist', 'decades', 'back', 'has', 'become', 'prevalent', 'among', 'the', 'youth', 'leading', 'to', 'more', 'stress', 'and', 'dysfunction', 'and', 'worsening', 'the', 'affected', 'person’s', 'life', 'situation', 'Anything', 'in', 'excess', 'is', 'poison', 'So', 'are', 'games', 'In', 'deed', 'the', 'virtual', 'illusion', 'has', 'become', 'today’s', '“New', 'Reality”', 'Blackcoffer', 'Insights', '18', 'Aftaab', 'SaraMTechIIT', 'Delhi', 'and', 'Furquan', 'ShaikhMBA']\n"
     ]
    }
   ],
   "source": [
    "content=soup.findAll(attrs={'class':'td-post-content'})\n",
    "content=content[0].text.replace('\\n',\" \")\n",
    "print(content)\n",
    "#Punctuation\n",
    "content = content.translate(str.maketrans('', '', string.punctuation)) \n",
    "print(content)\n",
    "text = content.split()\n",
    "print(text)\n"
   ]
  },
  {
   "cell_type": "code",
   "execution_count": 3,
   "id": "d142115c",
   "metadata": {},
   "outputs": [
    {
     "data": {
      "text/plain": [
       "1098"
      ]
     },
     "execution_count": 3,
     "metadata": {},
     "output_type": "execute_result"
    }
   ],
   "source": [
    "len(text)"
   ]
  },
  {
   "cell_type": "code",
   "execution_count": 4,
   "id": "2716216e",
   "metadata": {},
   "outputs": [
    {
     "name": "stdout",
     "output_type": "stream",
     "text": [
      "30\n"
     ]
    }
   ],
   "source": [
    "#Positive Score \n",
    "with open(r\"C:\\Users\\Om Bhandwalkar\\Desktop\\pos\\positive-words.txt\") as pos:\n",
    "    poswords = pos.read().split(\"\\n\")  \n",
    "    poswords = poswords[5:]\n",
    "pos_count = \" \".join ([w for w in text if w in poswords])\n",
    "pos_count=pos_count.split(\" \")\n",
    "Positive_score=len(pos_count)\n",
    "print(Positive_score)"
   ]
  },
  {
   "cell_type": "code",
   "execution_count": 5,
   "id": "4acf66f7",
   "metadata": {},
   "outputs": [
    {
     "name": "stdout",
     "output_type": "stream",
     "text": [
      "43\n"
     ]
    }
   ],
   "source": [
    "#Negative Score\n",
    "with open(r\"C:\\Users\\Om Bhandwalkar\\Desktop\\pos\\negative-words.txt\",encoding =\"ISO-8859-1\") as neg:\n",
    "    negwords = neg.read().split(\"\\n\")\n",
    "    \n",
    "negwords = negwords[36:]\n",
    "neg_count = \" \".join ([w for w in text if w in negwords])\n",
    "neg_count=neg_count.split(\" \")\n",
    "Negative_score=len(neg_count)\n",
    "print(Negative_score)"
   ]
  },
  {
   "cell_type": "code",
   "execution_count": 6,
   "id": "c6b8986e",
   "metadata": {},
   "outputs": [
    {
     "data": {
      "text/html": [
       "<div>\n",
       "<style scoped>\n",
       "    .dataframe tbody tr th:only-of-type {\n",
       "        vertical-align: middle;\n",
       "    }\n",
       "\n",
       "    .dataframe tbody tr th {\n",
       "        vertical-align: top;\n",
       "    }\n",
       "\n",
       "    .dataframe thead th {\n",
       "        text-align: right;\n",
       "    }\n",
       "</style>\n",
       "<table border=\"1\" class=\"dataframe\">\n",
       "  <thead>\n",
       "    <tr style=\"text-align: right;\">\n",
       "      <th></th>\n",
       "      <th>url</th>\n",
       "      <th>title</th>\n",
       "      <th>content</th>\n",
       "      <th>filter_content</th>\n",
       "      <th>Positive_Score</th>\n",
       "      <th>Negative_Score</th>\n",
       "      <th>polarity</th>\n",
       "      <th>subjectivity</th>\n",
       "    </tr>\n",
       "  </thead>\n",
       "  <tbody>\n",
       "    <tr>\n",
       "      <th>0</th>\n",
       "      <td>https://insights.blackcoffer.com/gaming-disord...</td>\n",
       "      <td>Gaming Disorder and Effects of Gaming on Health.</td>\n",
       "      <td>Perhaps the virtual illusion has become today...</td>\n",
       "      <td>Perhaps the virtual illusion has become today’...</td>\n",
       "      <td>30</td>\n",
       "      <td>43</td>\n",
       "      <td>0.062716</td>\n",
       "      <td>0.433699</td>\n",
       "    </tr>\n",
       "  </tbody>\n",
       "</table>\n",
       "</div>"
      ],
      "text/plain": [
       "                                                 url  \\\n",
       "0  https://insights.blackcoffer.com/gaming-disord...   \n",
       "\n",
       "                                              title  \\\n",
       "0  Gaming Disorder and Effects of Gaming on Health.   \n",
       "\n",
       "                                             content  \\\n",
       "0   Perhaps the virtual illusion has become today...   \n",
       "\n",
       "                                      filter_content  Positive_Score  \\\n",
       "0  Perhaps the virtual illusion has become today’...              30   \n",
       "\n",
       "   Negative_Score  polarity  subjectivity  \n",
       "0              43  0.062716      0.433699  "
      ]
     },
     "execution_count": 6,
     "metadata": {},
     "output_type": "execute_result"
    }
   ],
   "source": [
    "filter_content = ' '.join(text)\n",
    "data=[[url,title,content,filter_content,Positive_score,Negative_score]]\n",
    "data=pd.DataFrame(data,columns=[\"url\",\"title\",\"content\",\"filter_content\",\"Positive_Score\",\"Negative_Score\"])\n",
    "from textblob import TextBlob\n",
    "# Get The Subjectivity\n",
    "def sentiment_analysis(data):\n",
    "    sentiment = TextBlob(data[\"content\"]).sentiment\n",
    "    return pd.Series([sentiment.polarity,sentiment.subjectivity ])\n",
    "\n",
    "# Adding Subjectivity & Polarity\n",
    "data[[\"polarity\", \"subjectivity\"]] = data.apply(sentiment_analysis, axis=1)\n",
    "\n",
    "data"
   ]
  },
  {
   "cell_type": "code",
   "execution_count": 7,
   "id": "8c58ccc1",
   "metadata": {},
   "outputs": [
    {
     "name": "stdout",
     "output_type": "stream",
     "text": [
      "Word average = 5318.0\n",
      "FOG INDEX =  443.54\n",
      "Average no of words per sentence\n",
      "1098.0\n",
      "Complex Words 1877\n"
     ]
    }
   ],
   "source": [
    "#AVG SENTENCE LENGTH\n",
    "AVG_SENTENCE_LENGTH = len(content.replace(' ',''))/len(re.split(r'[?!.]', content))\n",
    "print('Word average =', AVG_SENTENCE_LENGTH)\n",
    "import textstat\n",
    "#Fog index \n",
    "FOG_INDEX=(textstat.gunning_fog(content))\n",
    "print(\"FOG INDEX = \",FOG_INDEX)\n",
    "#Average No of Words Per Sentence \n",
    "AVG_NUMBER_OF_WORDS_PER_SENTENCE = [len(l.split()) for l in re.split(r'[?!.]', content) if l.strip()]\n",
    "print(\"Average no of words per sentence\")\n",
    "AVG_NUMBER_OF_WORDS_PER_SENTENCE=print(sum(AVG_NUMBER_OF_WORDS_PER_SENTENCE)/len(AVG_NUMBER_OF_WORDS_PER_SENTENCE))\n",
    "#Complex words\n",
    "def syllable_count(word):\n",
    "    count = 0\n",
    "    vowels = \"AEIOUYaeiouy\"\n",
    "    if word[0] in vowels:\n",
    "        count += 1\n",
    "    for index in range(1, len(word)): \n",
    "        if word[index] in vowels and word[index - 1] not in vowels:\n",
    "            count += 1\n",
    "            if word.endswith(\"es\"or \"ed\"):\n",
    "                count -= 1\n",
    "    if count == 0:\n",
    "        count += 1\n",
    "    return count\n",
    "\n",
    "\n",
    "\n",
    "COMPLEX_WORDS=syllable_count(content)\n",
    "print(\"Complex Words\",COMPLEX_WORDS)\n"
   ]
  },
  {
   "cell_type": "code",
   "execution_count": 8,
   "id": "8f5025b7",
   "metadata": {},
   "outputs": [
    {
     "name": "stdout",
     "output_type": "stream",
     "text": [
      "Word Count 6420\n",
      "Percentage of Complex Words 29.236760124610594\n",
      "Average Word per Length 4.843351548269581\n",
      "The AVG number of syllables in the word is: \n",
      "1.9335154826958105\n",
      "Word Count 6420\n",
      "Percentage of Complex Words 29.236760124610594\n",
      "Average Word per Length 4.843351548269581\n",
      "The AVG number of syllables in the word is: \n",
      "1.9335154826958105\n"
     ]
    }
   ],
   "source": [
    "#Word Count\n",
    "Word_Count=len(content)\n",
    "print(\"Word Count\",Word_Count)\n",
    "#Percentage Complex Words\n",
    "pcw=(COMPLEX_WORDS/Word_Count)*100\n",
    "print(\"Percentage of Complex Words\",pcw)\n",
    "#Average Word Length\n",
    "Average_Word_Length=len(content.replace(' ',''))/len(content.split())\n",
    "print(\"Average Word per Length\",Average_Word_Length)\n",
    "#Syllable Count Per Word\n",
    "word=content.replace(' ','')\n",
    "syllable_count=0\n",
    "for w in word:\n",
    "      if(w=='a' or w=='e' or w=='i' or w=='o' or w=='y' or w=='u' or w=='A' or w=='E' or w=='I' or w=='O' or w=='U' or w=='Y'):\n",
    "            syllable_count=syllable_count+1\n",
    "print(\"The AVG number of syllables in the word is: \")\n",
    "print(syllable_count/len(content.split()))#Word Count\n",
    "Word_Count=len(content)\n",
    "print(\"Word Count\",Word_Count)\n",
    "#Percentage Complex Words\n",
    "pcw=(COMPLEX_WORDS/Word_Count)*100\n",
    "print(\"Percentage of Complex Words\",pcw)\n",
    "#Average Word Length\n",
    "Average_Word_Length=len(content.replace(' ',''))/len(content.split())\n",
    "print(\"Average Word per Length\",Average_Word_Length)\n",
    "#Syllable Count Per Word\n",
    "word=content.replace(' ','')\n",
    "syllable_count=0\n",
    "for w in word:\n",
    "      if(w=='a' or w=='e' or w=='i' or w=='o' or w=='y' or w=='u' or w=='A' or w=='E' or w=='I' or w=='O' or w=='U' or w=='Y'):\n",
    "            syllable_count=syllable_count+1\n",
    "print(\"The AVG number of syllables in the word is: \")\n",
    "print(syllable_count/len(content.split()))"
   ]
  },
  {
   "cell_type": "code",
   "execution_count": 1,
   "id": "ca7511b0",
   "metadata": {},
   "outputs": [
    {
     "name": "stdout",
     "output_type": "stream",
     "text": [
      "30\n",
      "43\n",
      "Word average = 5318.0\n",
      "FOG INDEX =  443.54\n",
      "Average no of words per sentence\n",
      "1098.0\n",
      "Complex Words 1877\n",
      "Word Count 6420\n",
      "Percentage of Complex Words 29.236760124610594\n",
      "Average Word per Length 4.843351548269581\n",
      "The AVG number of syllables in the word is: \n",
      "1.9335154826958105\n"
     ]
    },
    {
     "data": {
      "text/html": [
       "<div>\n",
       "<style scoped>\n",
       "    .dataframe tbody tr th:only-of-type {\n",
       "        vertical-align: middle;\n",
       "    }\n",
       "\n",
       "    .dataframe tbody tr th {\n",
       "        vertical-align: top;\n",
       "    }\n",
       "\n",
       "    .dataframe thead th {\n",
       "        text-align: right;\n",
       "    }\n",
       "</style>\n",
       "<table border=\"1\" class=\"dataframe\">\n",
       "  <thead>\n",
       "    <tr style=\"text-align: right;\">\n",
       "      <th></th>\n",
       "      <th>url</th>\n",
       "      <th>title</th>\n",
       "      <th>content</th>\n",
       "      <th>filter_content</th>\n",
       "      <th>Positive_Score</th>\n",
       "      <th>Negative_Score</th>\n",
       "      <th>Avg_Sentence_Length</th>\n",
       "      <th>Percentage_Complex_Word</th>\n",
       "      <th>Fog_Index</th>\n",
       "      <th>AVG_NUMBER_OF_WORDS_PER_SENTENCE</th>\n",
       "      <th>COMPLEX_WORDS</th>\n",
       "      <th>Word_Count</th>\n",
       "      <th>syllable</th>\n",
       "      <th>Average_Word_Length</th>\n",
       "      <th>polarity</th>\n",
       "      <th>subjectivity</th>\n",
       "    </tr>\n",
       "  </thead>\n",
       "  <tbody>\n",
       "    <tr>\n",
       "      <th>0</th>\n",
       "      <td>https://insights.blackcoffer.com/gaming-disord...</td>\n",
       "      <td>Gaming Disorder and Effects of Gaming on Health.</td>\n",
       "      <td>Perhaps the virtual illusion has become today...</td>\n",
       "      <td>Perhaps the virtual illusion has become today’...</td>\n",
       "      <td>30</td>\n",
       "      <td>43</td>\n",
       "      <td>5318.0</td>\n",
       "      <td>29.23676</td>\n",
       "      <td>443.54</td>\n",
       "      <td>1098.0</td>\n",
       "      <td>1877</td>\n",
       "      <td>6420</td>\n",
       "      <td>1.933515</td>\n",
       "      <td>4.843352</td>\n",
       "      <td>0.062716</td>\n",
       "      <td>0.433699</td>\n",
       "    </tr>\n",
       "  </tbody>\n",
       "</table>\n",
       "</div>"
      ],
      "text/plain": [
       "                                                 url  \\\n",
       "0  https://insights.blackcoffer.com/gaming-disord...   \n",
       "\n",
       "                                              title  \\\n",
       "0  Gaming Disorder and Effects of Gaming on Health.   \n",
       "\n",
       "                                             content  \\\n",
       "0   Perhaps the virtual illusion has become today...   \n",
       "\n",
       "                                      filter_content  Positive_Score  \\\n",
       "0  Perhaps the virtual illusion has become today’...              30   \n",
       "\n",
       "   Negative_Score  Avg_Sentence_Length  Percentage_Complex_Word  Fog_Index  \\\n",
       "0              43               5318.0                 29.23676     443.54   \n",
       "\n",
       "    AVG_NUMBER_OF_WORDS_PER_SENTENCE  COMPLEX_WORDS  Word_Count  syllable  \\\n",
       "0                             1098.0           1877        6420  1.933515   \n",
       "\n",
       "   Average_Word_Length  polarity  subjectivity  \n",
       "0             4.843352  0.062716      0.433699  "
      ]
     },
     "execution_count": 1,
     "metadata": {},
     "output_type": "execute_result"
    }
   ],
   "source": [
    "import requests\n",
    "import pandas as pd \n",
    "from bs4 import BeautifulSoup\n",
    "import string\n",
    "import spacy\n",
    "import re\n",
    "url = \"\"\"https://insights.blackcoffer.com/gaming-disorder-and-effects-of-gaming-on-health/\"\"\"\n",
    "headers = {\"User-Agent\": \"Mozilla/5.0 (X11; Linux x86_64; rv:60.0) Gecko/20100101 Firefox/60.0\"}\n",
    "page = requests.get(url, headers=headers)\n",
    "soup = BeautifulSoup(page.content, 'html.parser')\n",
    "soup=BeautifulSoup(page.content, 'html.parser')\n",
    "title=soup.find('h1',class_=\"entry-title\")\n",
    "title=title.text.replace('\\n',\" \")\n",
    "# title\n",
    "\n",
    "content=soup.findAll(attrs={'class':'td-post-content'})\n",
    "content=content[0].text.replace('\\n',\" \")\n",
    "# print(content)\n",
    "#Punctuation\n",
    "content = content.translate(str.maketrans('', '', string.punctuation)) \n",
    "# print(content)\n",
    "text = content.split()\n",
    "# print(text)\n",
    "len(text)\n",
    "#Positive Score \n",
    "with open(r\"C:\\Users\\Om Bhandwalkar\\Desktop\\pos\\positive-words.txt\") as pos:\n",
    "    poswords = pos.read().split(\"\\n\")  \n",
    "    poswords = poswords[5:]\n",
    "pos_count = \" \".join ([w for w in text if w in poswords])\n",
    "pos_count=pos_count.split(\" \")\n",
    "Positive_score=len(pos_count)\n",
    "print(Positive_score)\n",
    "\n",
    "#Negative Score\n",
    "with open(r\"C:\\Users\\Om Bhandwalkar\\Desktop\\pos\\negative-words.txt\",encoding =\"ISO-8859-1\") as neg:\n",
    "    negwords = neg.read().split(\"\\n\")\n",
    "    \n",
    "negwords = negwords[36:]\n",
    "neg_count = \" \".join ([w for w in text if w in negwords])\n",
    "neg_count=neg_count.split(\" \")\n",
    "Negative_score=len(neg_count)\n",
    "print(Negative_score)\n",
    "\n",
    "\n",
    "filter_content = ' '.join(text)\n",
    "data=[[url,title,content,filter_content,Positive_score,Negative_score]]\n",
    "data=pd.DataFrame(data,columns=[\"url\",\"title\",\"content\",\"filter_content\",\"Positive_Score\",\"Negative_Score\"])\n",
    "from textblob import TextBlob\n",
    "# Get The Subjectivity\n",
    "def sentiment_analysis(data):\n",
    "    sentiment = TextBlob(data[\"content\"]).sentiment\n",
    "    return pd.Series([sentiment.polarity,sentiment.subjectivity ])\n",
    "data[[\"polarity\", \"subjectivity\"]] = data.apply(sentiment_analysis, axis=1)\n",
    "data\n",
    "#AVG SENTENCE LENGTH\n",
    "AVG_SENTENCE_LENGTH = len(content.replace(' ',''))/len(re.split(r'[?!.]', content))\n",
    "print('Word average =', AVG_SENTENCE_LENGTH)\n",
    "import textstat\n",
    "#Fog index \n",
    "FOG_INDEX=(textstat.gunning_fog(content))\n",
    "print(\"FOG INDEX = \",FOG_INDEX)\n",
    "#Average No of Words Per Sentence \n",
    "AVG_NUMBER_OF_WORDS_PER_SENTENCE = [len(l.split()) for l in re.split(r'[?!.]', content) if l.strip()]\n",
    "print(\"Average no of words per sentence\")\n",
    "AVG_NUMBER_OF_WORDS_PER_SENTENCE=(sum(AVG_NUMBER_OF_WORDS_PER_SENTENCE)/len(AVG_NUMBER_OF_WORDS_PER_SENTENCE))\n",
    "print(AVG_NUMBER_OF_WORDS_PER_SENTENCE)\n",
    "#Complex words\n",
    "def syllable_count(word):\n",
    "    count = 0\n",
    "    vowels = \"AEIOUYaeiouy\"\n",
    "    if word[0] in vowels:\n",
    "        count += 1\n",
    "    for index in range(1, len(word)): \n",
    "        if word[index] in vowels and word[index - 1] not in vowels:\n",
    "            count += 1\n",
    "            if word.endswith(\"es\"or \"ed\"):\n",
    "                count -= 1\n",
    "    if count == 0:\n",
    "        count += 1\n",
    "    return count\n",
    "\n",
    "\n",
    "\n",
    "COMPLEX_WORDS=syllable_count(content)\n",
    "print(\"Complex Words\",COMPLEX_WORDS)\n",
    "#Word Count\n",
    "Word_Count=len(content)\n",
    "print(\"Word Count\",Word_Count)\n",
    "#Percentage Complex Words\n",
    "pcw=(COMPLEX_WORDS/Word_Count)*100\n",
    "print(\"Percentage of Complex Words\",pcw)\n",
    "#Average Word Length\n",
    "Average_Word_Length=len(content.replace(' ',''))/len(content.split())\n",
    "print(\"Average Word per Length\",Average_Word_Length)\n",
    "#Syllable Count Per Word\n",
    "word=content.replace(' ','')\n",
    "syllable_count=0\n",
    "for w in word:\n",
    "      if(w=='a' or w=='e' or w=='i' or w=='o' or w=='y' or w=='u' or w=='A' or w=='E' or w=='I' or w=='O' or w=='U' or w=='Y'):\n",
    "            syllable_count=syllable_count+1\n",
    "print(\"The AVG number of syllables in the word is: \")\n",
    "syllable = (syllable_count/len(content.split()))\n",
    "print(syllable)\n",
    "\n",
    "data = [[url,title,content,filter_content,Positive_score,Negative_score,AVG_SENTENCE_LENGTH,pcw,FOG_INDEX,\n",
    "         AVG_NUMBER_OF_WORDS_PER_SENTENCE,COMPLEX_WORDS,Word_Count,syllable,Average_Word_Length]]\n",
    "data=pd.DataFrame(data,columns=[\"url\",\"title\",\"content\",\"filter_content\",\"Positive_Score\",\"Negative_Score\",\"Avg_Sentence_Length\"\n",
    "                               ,\"Percentage_Complex_Word\",\"Fog_Index\",\" AVG_NUMBER_OF_WORDS_PER_SENTENCE\",\"COMPLEX_WORDS\",\n",
    "                               \"Word_Count\",\"syllable\",\"Average_Word_Length\"])\n",
    "from textblob import TextBlob\n",
    "# Get The Subjectivity\n",
    "def sentiment_analysis(data):\n",
    "    sentiment = TextBlob(data[\"content\"]).sentiment\n",
    "    return pd.Series([sentiment.polarity,sentiment.subjectivity ])\n",
    "data[[\"polarity\", \"subjectivity\"]] = data.apply(sentiment_analysis, axis=1)\n",
    "data"
   ]
  },
  {
   "cell_type": "code",
   "execution_count": 2,
   "id": "8e38bcc6",
   "metadata": {},
   "outputs": [],
   "source": [
    "data.to_csv(r'C:\\Users\\Om Bhandwalkar\\Desktop\\BlackCoffer Assignment\\Output\\url_102.csv')"
   ]
  },
  {
   "cell_type": "code",
   "execution_count": null,
   "id": "68ebc8a7",
   "metadata": {},
   "outputs": [],
   "source": []
  }
 ],
 "metadata": {
  "kernelspec": {
   "display_name": "Python 3 (ipykernel)",
   "language": "python",
   "name": "python3"
  },
  "language_info": {
   "codemirror_mode": {
    "name": "ipython",
    "version": 3
   },
   "file_extension": ".py",
   "mimetype": "text/x-python",
   "name": "python",
   "nbconvert_exporter": "python",
   "pygments_lexer": "ipython3",
   "version": "3.9.12"
  }
 },
 "nbformat": 4,
 "nbformat_minor": 5
}
