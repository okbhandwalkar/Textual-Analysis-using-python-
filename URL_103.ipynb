{
 "cells": [
  {
   "cell_type": "code",
   "execution_count": 1,
   "id": "63c453c6",
   "metadata": {},
   "outputs": [
    {
     "data": {
      "text/plain": [
       "'What is the repercussion of the environment due to the COVID-19 pandemic situation?'"
      ]
     },
     "execution_count": 1,
     "metadata": {},
     "output_type": "execute_result"
    }
   ],
   "source": [
    "import requests\n",
    "import pandas as pd \n",
    "from bs4 import BeautifulSoup\n",
    "import string\n",
    "import spacy\n",
    "import re\n",
    "url = \"\"\"https://insights.blackcoffer.com/what-is-the-repercussion-of-the-environment-due-to-the-covid-19-pandemic-situation/\"\"\"\n",
    "headers = {\"User-Agent\": \"Mozilla/5.0 (X11; Linux x86_64; rv:60.0) Gecko/20100101 Firefox/60.0\"}\n",
    "page = requests.get(url, headers=headers)\n",
    "soup = BeautifulSoup(page.content, 'html.parser')\n",
    "soup=BeautifulSoup(page.content, 'html.parser')\n",
    "title=soup.find('h1',class_=\"entry-title\")\n",
    "title=title.text.replace('\\n',\" \")\n",
    "title\n"
   ]
  },
  {
   "cell_type": "code",
   "execution_count": 2,
   "id": "2ebc46e1",
   "metadata": {},
   "outputs": [
    {
     "name": "stdout",
     "output_type": "stream",
     "text": [
      " What is COVID 19 pandemic? On 31st December 2019, a novel coronavirus was identified in Wuhan, China. It spread like wildfire in the world. On 11th March 2020, WHO declared COVID 19 as a pandemic and issued guidelines like Sanitizing hands regularly, wearing masks, and social distancing as viable methods for prevention against this virus. What is social distancing and how is it helpful? Social distancing means staying away from other people. So, to limit human interaction various governments all over the world chose life before the economy and ordered complete lockdown in their countries. All schools, colleges, offices, factories, public places, etc. were shutdown from immediate effect. As of 7th June 2020, COVID 19 confirmed cases worldwide are 69,94,605 with 4,02,453 deaths and 34,20,048 recovered. The USA didn’t impose lockdown in the early stages due to which it has nearly 19,88,545 confirmed cases with a death rate of 5.6% (as of 7th June 2020) whereas in India lockdown was imposed at the first stage, and so we have 2,47,000 confirmed cases with a death rate of 2.8%.  Impact on Environment Rights reserved to Statista As we know it is us, Humans, who keep exploiting nature which has nurtured us and turn a blind eye to the havoc of our misdeeds. Current environmental concerns like depletion of the ozone layer, climate change, soil erosion, air pollution, water pollution, soil pollution, acid rain, noise pollution, loss of biodiversity, and many more are a result of our selfish and never-ending desires for development at the cost of the environment. But when the lockdown was imposed worldwide, our lives just stopped. Air traffic (due to flights) dropped by 95% (Cntraveller). Since no one was allowed to leave homes, Carbon footprint per person dropped significantly. The Hindu newspaper reported a 17% decline in carbon pollution during the pandemic peak. According to an article in Economic Times onMay 14th,2020, Global air quality has improved this year due to lockdown. Economic Times posted an article on 8th April 2020 titled “COVID 19: All world’s now a zoo, only this time with animals on outside and humans on inside”. This sounds like lock down is good for Environment . Right? Humans are getting what they deserved, animals are safe and the environment is healing due to a reduction in pollution levels. But, NO. All this is just the tip of the iceberg . The reality is that humans, despite being under threat due to COVID 19, cyclones, earthquakes, and locusts attacks are still damaging the environment. According to Voicesofyouth.org:” There has also been an increase in medical waste – much of the personal protective equipment that healthcare professionals are using can only be worn once before being disposed of. Hospitals in Wuhan, for example, produced over 200 tons of waste per day during the peak of their outbreak, compared to an average of fewer than 50 tons prior. “ According to Mongabay News: “Despite COVID, Amazon Deforestation is racing higher. The new figures come amid rising fears that illegal loggers and speculators are using the COVID-19 crisis as an opportunity to invade indigenous lands and protected areas in Brazil”. According to an article in Conservation International , an expert said ” In Africa, there has been an alarming increase in bush meat harvest and wildlife trafficking that is directly linked to COVID-19-related lockdowns, decreased food availability and damaged economies as a result of tourism collapses” Apart from the above-mentioned media channels, various other news articles have reported such incidents from various locations around the world. Now, what do you think : COVID 19 has helped the environment for good or just deteriorated it further? Check for yourself. Follow social distancing guidelines . Stay Safe . Blackcoffer Insights 18: Anjali Pal, Lady Shri Ram College for Women \n",
      " What is COVID 19 pandemic On 31st December 2019 a novel coronavirus was identified in Wuhan China It spread like wildfire in the world On 11th March 2020 WHO declared COVID 19 as a pandemic and issued guidelines like Sanitizing hands regularly wearing masks and social distancing as viable methods for prevention against this virus What is social distancing and how is it helpful Social distancing means staying away from other people So to limit human interaction various governments all over the world chose life before the economy and ordered complete lockdown in their countries All schools colleges offices factories public places etc were shutdown from immediate effect As of 7th June 2020 COVID 19 confirmed cases worldwide are 6994605 with 402453 deaths and 3420048 recovered The USA didn’t impose lockdown in the early stages due to which it has nearly 1988545 confirmed cases with a death rate of 56 as of 7th June 2020 whereas in India lockdown was imposed at the first stage and so we have 247000 confirmed cases with a death rate of 28  Impact on Environment Rights reserved to Statista As we know it is us Humans who keep exploiting nature which has nurtured us and turn a blind eye to the havoc of our misdeeds Current environmental concerns like depletion of the ozone layer climate change soil erosion air pollution water pollution soil pollution acid rain noise pollution loss of biodiversity and many more are a result of our selfish and neverending desires for development at the cost of the environment But when the lockdown was imposed worldwide our lives just stopped Air traffic due to flights dropped by 95 Cntraveller Since no one was allowed to leave homes Carbon footprint per person dropped significantly The Hindu newspaper reported a 17 decline in carbon pollution during the pandemic peak According to an article in Economic Times onMay 14th2020 Global air quality has improved this year due to lockdown Economic Times posted an article on 8th April 2020 titled “COVID 19 All world’s now a zoo only this time with animals on outside and humans on inside” This sounds like lock down is good for Environment  Right Humans are getting what they deserved animals are safe and the environment is healing due to a reduction in pollution levels But NO All this is just the tip of the iceberg  The reality is that humans despite being under threat due to COVID 19 cyclones earthquakes and locusts attacks are still damaging the environment According to Voicesofyouthorg” There has also been an increase in medical waste – much of the personal protective equipment that healthcare professionals are using can only be worn once before being disposed of Hospitals in Wuhan for example produced over 200 tons of waste per day during the peak of their outbreak compared to an average of fewer than 50 tons prior “ According to Mongabay News “Despite COVID Amazon Deforestation is racing higher The new figures come amid rising fears that illegal loggers and speculators are using the COVID19 crisis as an opportunity to invade indigenous lands and protected areas in Brazil” According to an article in Conservation International  an expert said ” In Africa there has been an alarming increase in bush meat harvest and wildlife trafficking that is directly linked to COVID19related lockdowns decreased food availability and damaged economies as a result of tourism collapses” Apart from the abovementioned media channels various other news articles have reported such incidents from various locations around the world Now what do you think  COVID 19 has helped the environment for good or just deteriorated it further Check for yourself Follow social distancing guidelines  Stay Safe  Blackcoffer Insights 18 Anjali Pal Lady Shri Ram College for Women \n",
      "['What', 'is', 'COVID', '19', 'pandemic', 'On', '31st', 'December', '2019', 'a', 'novel', 'coronavirus', 'was', 'identified', 'in', 'Wuhan', 'China', 'It', 'spread', 'like', 'wildfire', 'in', 'the', 'world', 'On', '11th', 'March', '2020', 'WHO', 'declared', 'COVID', '19', 'as', 'a', 'pandemic', 'and', 'issued', 'guidelines', 'like', 'Sanitizing', 'hands', 'regularly', 'wearing', 'masks', 'and', 'social', 'distancing', 'as', 'viable', 'methods', 'for', 'prevention', 'against', 'this', 'virus', 'What', 'is', 'social', 'distancing', 'and', 'how', 'is', 'it', 'helpful', 'Social', 'distancing', 'means', 'staying', 'away', 'from', 'other', 'people', 'So', 'to', 'limit', 'human', 'interaction', 'various', 'governments', 'all', 'over', 'the', 'world', 'chose', 'life', 'before', 'the', 'economy', 'and', 'ordered', 'complete', 'lockdown', 'in', 'their', 'countries', 'All', 'schools', 'colleges', 'offices', 'factories', 'public', 'places', 'etc', 'were', 'shutdown', 'from', 'immediate', 'effect', 'As', 'of', '7th', 'June', '2020', 'COVID', '19', 'confirmed', 'cases', 'worldwide', 'are', '6994605', 'with', '402453', 'deaths', 'and', '3420048', 'recovered', 'The', 'USA', 'didn’t', 'impose', 'lockdown', 'in', 'the', 'early', 'stages', 'due', 'to', 'which', 'it', 'has', 'nearly', '1988545', 'confirmed', 'cases', 'with', 'a', 'death', 'rate', 'of', '56', 'as', 'of', '7th', 'June', '2020', 'whereas', 'in', 'India', 'lockdown', 'was', 'imposed', 'at', 'the', 'first', 'stage', 'and', 'so', 'we', 'have', '247000', 'confirmed', 'cases', 'with', 'a', 'death', 'rate', 'of', '28', 'Impact', 'on', 'Environment', 'Rights', 'reserved', 'to', 'Statista', 'As', 'we', 'know', 'it', 'is', 'us', 'Humans', 'who', 'keep', 'exploiting', 'nature', 'which', 'has', 'nurtured', 'us', 'and', 'turn', 'a', 'blind', 'eye', 'to', 'the', 'havoc', 'of', 'our', 'misdeeds', 'Current', 'environmental', 'concerns', 'like', 'depletion', 'of', 'the', 'ozone', 'layer', 'climate', 'change', 'soil', 'erosion', 'air', 'pollution', 'water', 'pollution', 'soil', 'pollution', 'acid', 'rain', 'noise', 'pollution', 'loss', 'of', 'biodiversity', 'and', 'many', 'more', 'are', 'a', 'result', 'of', 'our', 'selfish', 'and', 'neverending', 'desires', 'for', 'development', 'at', 'the', 'cost', 'of', 'the', 'environment', 'But', 'when', 'the', 'lockdown', 'was', 'imposed', 'worldwide', 'our', 'lives', 'just', 'stopped', 'Air', 'traffic', 'due', 'to', 'flights', 'dropped', 'by', '95', 'Cntraveller', 'Since', 'no', 'one', 'was', 'allowed', 'to', 'leave', 'homes', 'Carbon', 'footprint', 'per', 'person', 'dropped', 'significantly', 'The', 'Hindu', 'newspaper', 'reported', 'a', '17', 'decline', 'in', 'carbon', 'pollution', 'during', 'the', 'pandemic', 'peak', 'According', 'to', 'an', 'article', 'in', 'Economic', 'Times', 'onMay', '14th2020', 'Global', 'air', 'quality', 'has', 'improved', 'this', 'year', 'due', 'to', 'lockdown', 'Economic', 'Times', 'posted', 'an', 'article', 'on', '8th', 'April', '2020', 'titled', '“COVID', '19', 'All', 'world’s', 'now', 'a', 'zoo', 'only', 'this', 'time', 'with', 'animals', 'on', 'outside', 'and', 'humans', 'on', 'inside”', 'This', 'sounds', 'like', 'lock', 'down', 'is', 'good', 'for', 'Environment', 'Right', 'Humans', 'are', 'getting', 'what', 'they', 'deserved', 'animals', 'are', 'safe', 'and', 'the', 'environment', 'is', 'healing', 'due', 'to', 'a', 'reduction', 'in', 'pollution', 'levels', 'But', 'NO', 'All', 'this', 'is', 'just', 'the', 'tip', 'of', 'the', 'iceberg', 'The', 'reality', 'is', 'that', 'humans', 'despite', 'being', 'under', 'threat', 'due', 'to', 'COVID', '19', 'cyclones', 'earthquakes', 'and', 'locusts', 'attacks', 'are', 'still', 'damaging', 'the', 'environment', 'According', 'to', 'Voicesofyouthorg”', 'There', 'has', 'also', 'been', 'an', 'increase', 'in', 'medical', 'waste', '–', 'much', 'of', 'the', 'personal', 'protective', 'equipment', 'that', 'healthcare', 'professionals', 'are', 'using', 'can', 'only', 'be', 'worn', 'once', 'before', 'being', 'disposed', 'of', 'Hospitals', 'in', 'Wuhan', 'for', 'example', 'produced', 'over', '200', 'tons', 'of', 'waste', 'per', 'day', 'during', 'the', 'peak', 'of', 'their', 'outbreak', 'compared', 'to', 'an', 'average', 'of', 'fewer', 'than', '50', 'tons', 'prior', '“', 'According', 'to', 'Mongabay', 'News', '“Despite', 'COVID', 'Amazon', 'Deforestation', 'is', 'racing', 'higher', 'The', 'new', 'figures', 'come', 'amid', 'rising', 'fears', 'that', 'illegal', 'loggers', 'and', 'speculators', 'are', 'using', 'the', 'COVID19', 'crisis', 'as', 'an', 'opportunity', 'to', 'invade', 'indigenous', 'lands', 'and', 'protected', 'areas', 'in', 'Brazil”', 'According', 'to', 'an', 'article', 'in', 'Conservation', 'International', 'an', 'expert', 'said', '”', 'In', 'Africa', 'there', 'has', 'been', 'an', 'alarming', 'increase', 'in', 'bush', 'meat', 'harvest', 'and', 'wildlife', 'trafficking', 'that', 'is', 'directly', 'linked', 'to', 'COVID19related', 'lockdowns', 'decreased', 'food', 'availability', 'and', 'damaged', 'economies', 'as', 'a', 'result', 'of', 'tourism', 'collapses”', 'Apart', 'from', 'the', 'abovementioned', 'media', 'channels', 'various', 'other', 'news', 'articles', 'have', 'reported', 'such', 'incidents', 'from', 'various', 'locations', 'around', 'the', 'world', 'Now', 'what', 'do', 'you', 'think', 'COVID', '19', 'has', 'helped', 'the', 'environment', 'for', 'good', 'or', 'just', 'deteriorated', 'it', 'further', 'Check', 'for', 'yourself', 'Follow', 'social', 'distancing', 'guidelines', 'Stay', 'Safe', 'Blackcoffer', 'Insights', '18', 'Anjali', 'Pal', 'Lady', 'Shri', 'Ram', 'College', 'for', 'Women']\n"
     ]
    }
   ],
   "source": [
    "content=soup.findAll(attrs={'class':'td-post-content'})\n",
    "content=content[0].text.replace('\\n',\" \")\n",
    "print(content)\n",
    "#Punctuation\n",
    "content = content.translate(str.maketrans('', '', string.punctuation)) \n",
    "print(content)\n",
    "text = content.split()\n",
    "print(text)\n"
   ]
  },
  {
   "cell_type": "code",
   "execution_count": 3,
   "id": "a2107987",
   "metadata": {},
   "outputs": [
    {
     "data": {
      "text/plain": [
       "623"
      ]
     },
     "execution_count": 3,
     "metadata": {},
     "output_type": "execute_result"
    }
   ],
   "source": [
    "len(text)"
   ]
  },
  {
   "cell_type": "code",
   "execution_count": 4,
   "id": "1c7ac437",
   "metadata": {},
   "outputs": [
    {
     "name": "stdout",
     "output_type": "stream",
     "text": [
      "11\n"
     ]
    }
   ],
   "source": [
    "#Positive Score \n",
    "with open(r\"C:\\Users\\Om Bhandwalkar\\Desktop\\pos\\positive-words.txt\") as pos:\n",
    "    poswords = pos.read().split(\"\\n\")  \n",
    "    poswords = poswords[5:]\n",
    "pos_count = \" \".join ([w for w in text if w in poswords])\n",
    "pos_count=pos_count.split(\" \")\n",
    "Positive_score=len(pos_count)\n",
    "print(Positive_score)"
   ]
  },
  {
   "cell_type": "code",
   "execution_count": 5,
   "id": "b61cd9c9",
   "metadata": {},
   "outputs": [
    {
     "name": "stdout",
     "output_type": "stream",
     "text": [
      "25\n"
     ]
    }
   ],
   "source": [
    "#Negative Score\n",
    "with open(r\"C:\\Users\\Om Bhandwalkar\\Desktop\\pos\\negative-words.txt\",encoding =\"ISO-8859-1\") as neg:\n",
    "    negwords = neg.read().split(\"\\n\")\n",
    "    \n",
    "negwords = negwords[36:]\n",
    "neg_count = \" \".join ([w for w in text if w in negwords])\n",
    "neg_count=neg_count.split(\" \")\n",
    "Negative_score=len(neg_count)\n",
    "print(Negative_score)"
   ]
  },
  {
   "cell_type": "code",
   "execution_count": 6,
   "id": "23c72126",
   "metadata": {},
   "outputs": [
    {
     "data": {
      "text/html": [
       "<div>\n",
       "<style scoped>\n",
       "    .dataframe tbody tr th:only-of-type {\n",
       "        vertical-align: middle;\n",
       "    }\n",
       "\n",
       "    .dataframe tbody tr th {\n",
       "        vertical-align: top;\n",
       "    }\n",
       "\n",
       "    .dataframe thead th {\n",
       "        text-align: right;\n",
       "    }\n",
       "</style>\n",
       "<table border=\"1\" class=\"dataframe\">\n",
       "  <thead>\n",
       "    <tr style=\"text-align: right;\">\n",
       "      <th></th>\n",
       "      <th>url</th>\n",
       "      <th>title</th>\n",
       "      <th>content</th>\n",
       "      <th>filter_content</th>\n",
       "      <th>Positive_Score</th>\n",
       "      <th>Negative_Score</th>\n",
       "      <th>polarity</th>\n",
       "      <th>subjectivity</th>\n",
       "    </tr>\n",
       "  </thead>\n",
       "  <tbody>\n",
       "    <tr>\n",
       "      <th>0</th>\n",
       "      <td>https://insights.blackcoffer.com/what-is-the-r...</td>\n",
       "      <td>What is the repercussion of the environment du...</td>\n",
       "      <td>What is COVID 19 pandemic On 31st December 20...</td>\n",
       "      <td>What is COVID 19 pandemic On 31st December 201...</td>\n",
       "      <td>11</td>\n",
       "      <td>25</td>\n",
       "      <td>0.05948</td>\n",
       "      <td>0.405852</td>\n",
       "    </tr>\n",
       "  </tbody>\n",
       "</table>\n",
       "</div>"
      ],
      "text/plain": [
       "                                                 url  \\\n",
       "0  https://insights.blackcoffer.com/what-is-the-r...   \n",
       "\n",
       "                                               title  \\\n",
       "0  What is the repercussion of the environment du...   \n",
       "\n",
       "                                             content  \\\n",
       "0   What is COVID 19 pandemic On 31st December 20...   \n",
       "\n",
       "                                      filter_content  Positive_Score  \\\n",
       "0  What is COVID 19 pandemic On 31st December 201...              11   \n",
       "\n",
       "   Negative_Score  polarity  subjectivity  \n",
       "0              25   0.05948      0.405852  "
      ]
     },
     "execution_count": 6,
     "metadata": {},
     "output_type": "execute_result"
    }
   ],
   "source": [
    "filter_content = ' '.join(text)\n",
    "data=[[url,title,content,filter_content,Positive_score,Negative_score]]\n",
    "data=pd.DataFrame(data,columns=[\"url\",\"title\",\"content\",\"filter_content\",\"Positive_Score\",\"Negative_Score\"])\n",
    "from textblob import TextBlob\n",
    "# Get The Subjectivity\n",
    "def sentiment_analysis(data):\n",
    "    sentiment = TextBlob(data[\"content\"]).sentiment\n",
    "    return pd.Series([sentiment.polarity,sentiment.subjectivity ])\n",
    "\n",
    "# Adding Subjectivity & Polarity\n",
    "data[[\"polarity\", \"subjectivity\"]] = data.apply(sentiment_analysis, axis=1)\n",
    "\n",
    "data"
   ]
  },
  {
   "cell_type": "code",
   "execution_count": 7,
   "id": "5b6c359d",
   "metadata": {},
   "outputs": [
    {
     "name": "stdout",
     "output_type": "stream",
     "text": [
      "Word average = 3141.0\n",
      "FOG INDEX =  251.87\n",
      "Average no of words per sentence\n",
      "623.0\n",
      "Complex Words 1084\n"
     ]
    }
   ],
   "source": [
    "#AVG SENTENCE LENGTH\n",
    "AVG_SENTENCE_LENGTH = len(content.replace(' ',''))/len(re.split(r'[?!.]', content))\n",
    "print('Word average =', AVG_SENTENCE_LENGTH)\n",
    "import textstat\n",
    "#Fog index \n",
    "FOG_INDEX=(textstat.gunning_fog(content))\n",
    "print(\"FOG INDEX = \",FOG_INDEX)\n",
    "#Average No of Words Per Sentence \n",
    "AVG_NUMBER_OF_WORDS_PER_SENTENCE = [len(l.split()) for l in re.split(r'[?!.]', content) if l.strip()]\n",
    "print(\"Average no of words per sentence\")\n",
    "AVG_NUMBER_OF_WORDS_PER_SENTENCE=print(sum(AVG_NUMBER_OF_WORDS_PER_SENTENCE)/len(AVG_NUMBER_OF_WORDS_PER_SENTENCE))\n",
    "#Complex words\n",
    "def syllable_count(word):\n",
    "    count = 0\n",
    "    vowels = \"AEIOUYaeiouy\"\n",
    "    if word[0] in vowels:\n",
    "        count += 1\n",
    "    for index in range(1, len(word)): \n",
    "        if word[index] in vowels and word[index - 1] not in vowels:\n",
    "            count += 1\n",
    "            if word.endswith(\"es\"or \"ed\"):\n",
    "                count -= 1\n",
    "    if count == 0:\n",
    "        count += 1\n",
    "    return count\n",
    "\n",
    "\n",
    "\n",
    "COMPLEX_WORDS=syllable_count(content)\n",
    "print(\"Complex Words\",COMPLEX_WORDS)\n"
   ]
  },
  {
   "cell_type": "code",
   "execution_count": 8,
   "id": "bcc017ea",
   "metadata": {},
   "outputs": [
    {
     "name": "stdout",
     "output_type": "stream",
     "text": [
      "Word Count 3771\n",
      "Percentage of Complex Words 28.745690798196765\n",
      "Average Word per Length 5.041733547351525\n",
      "The AVG number of syllables in the word is: \n",
      "1.9486356340288924\n",
      "Word Count 3771\n",
      "Percentage of Complex Words 28.745690798196765\n",
      "Average Word per Length 5.041733547351525\n",
      "The AVG number of syllables in the word is: \n",
      "1.9486356340288924\n"
     ]
    }
   ],
   "source": [
    "#Word Count\n",
    "Word_Count=len(content)\n",
    "print(\"Word Count\",Word_Count)\n",
    "#Percentage Complex Words\n",
    "pcw=(COMPLEX_WORDS/Word_Count)*100\n",
    "print(\"Percentage of Complex Words\",pcw)\n",
    "#Average Word Length\n",
    "Average_Word_Length=len(content.replace(' ',''))/len(content.split())\n",
    "print(\"Average Word per Length\",Average_Word_Length)\n",
    "#Syllable Count Per Word\n",
    "word=content.replace(' ','')\n",
    "syllable_count=0\n",
    "for w in word:\n",
    "      if(w=='a' or w=='e' or w=='i' or w=='o' or w=='y' or w=='u' or w=='A' or w=='E' or w=='I' or w=='O' or w=='U' or w=='Y'):\n",
    "            syllable_count=syllable_count+1\n",
    "print(\"The AVG number of syllables in the word is: \")\n",
    "print(syllable_count/len(content.split()))#Word Count\n",
    "Word_Count=len(content)\n",
    "print(\"Word Count\",Word_Count)\n",
    "#Percentage Complex Words\n",
    "pcw=(COMPLEX_WORDS/Word_Count)*100\n",
    "print(\"Percentage of Complex Words\",pcw)\n",
    "#Average Word Length\n",
    "Average_Word_Length=len(content.replace(' ',''))/len(content.split())\n",
    "print(\"Average Word per Length\",Average_Word_Length)\n",
    "#Syllable Count Per Word\n",
    "word=content.replace(' ','')\n",
    "syllable_count=0\n",
    "for w in word:\n",
    "      if(w=='a' or w=='e' or w=='i' or w=='o' or w=='y' or w=='u' or w=='A' or w=='E' or w=='I' or w=='O' or w=='U' or w=='Y'):\n",
    "            syllable_count=syllable_count+1\n",
    "print(\"The AVG number of syllables in the word is: \")\n",
    "print(syllable_count/len(content.split()))"
   ]
  },
  {
   "cell_type": "code",
   "execution_count": 1,
   "id": "6d1430f3",
   "metadata": {},
   "outputs": [
    {
     "name": "stdout",
     "output_type": "stream",
     "text": [
      "11\n",
      "25\n",
      "Word average = 3141.0\n",
      "FOG INDEX =  251.87\n",
      "Average no of words per sentence\n",
      "623.0\n",
      "Complex Words 1084\n",
      "Word Count 3771\n",
      "Percentage of Complex Words 28.745690798196765\n",
      "Average Word per Length 5.041733547351525\n",
      "The AVG number of syllables in the word is: \n",
      "1.9486356340288924\n"
     ]
    },
    {
     "data": {
      "text/html": [
       "<div>\n",
       "<style scoped>\n",
       "    .dataframe tbody tr th:only-of-type {\n",
       "        vertical-align: middle;\n",
       "    }\n",
       "\n",
       "    .dataframe tbody tr th {\n",
       "        vertical-align: top;\n",
       "    }\n",
       "\n",
       "    .dataframe thead th {\n",
       "        text-align: right;\n",
       "    }\n",
       "</style>\n",
       "<table border=\"1\" class=\"dataframe\">\n",
       "  <thead>\n",
       "    <tr style=\"text-align: right;\">\n",
       "      <th></th>\n",
       "      <th>url</th>\n",
       "      <th>title</th>\n",
       "      <th>content</th>\n",
       "      <th>filter_content</th>\n",
       "      <th>Positive_Score</th>\n",
       "      <th>Negative_Score</th>\n",
       "      <th>Avg_Sentence_Length</th>\n",
       "      <th>Percentage_Complex_Word</th>\n",
       "      <th>Fog_Index</th>\n",
       "      <th>AVG_NUMBER_OF_WORDS_PER_SENTENCE</th>\n",
       "      <th>COMPLEX_WORDS</th>\n",
       "      <th>Word_Count</th>\n",
       "      <th>syllable</th>\n",
       "      <th>Average_Word_Length</th>\n",
       "      <th>polarity</th>\n",
       "      <th>subjectivity</th>\n",
       "    </tr>\n",
       "  </thead>\n",
       "  <tbody>\n",
       "    <tr>\n",
       "      <th>0</th>\n",
       "      <td>https://insights.blackcoffer.com/what-is-the-r...</td>\n",
       "      <td>What is the repercussion of the environment du...</td>\n",
       "      <td>What is COVID 19 pandemic On 31st December 20...</td>\n",
       "      <td>What is COVID 19 pandemic On 31st December 201...</td>\n",
       "      <td>11</td>\n",
       "      <td>25</td>\n",
       "      <td>3141.0</td>\n",
       "      <td>28.745691</td>\n",
       "      <td>251.87</td>\n",
       "      <td>623.0</td>\n",
       "      <td>1084</td>\n",
       "      <td>3771</td>\n",
       "      <td>1.948636</td>\n",
       "      <td>5.041734</td>\n",
       "      <td>0.05948</td>\n",
       "      <td>0.405852</td>\n",
       "    </tr>\n",
       "  </tbody>\n",
       "</table>\n",
       "</div>"
      ],
      "text/plain": [
       "                                                 url  \\\n",
       "0  https://insights.blackcoffer.com/what-is-the-r...   \n",
       "\n",
       "                                               title  \\\n",
       "0  What is the repercussion of the environment du...   \n",
       "\n",
       "                                             content  \\\n",
       "0   What is COVID 19 pandemic On 31st December 20...   \n",
       "\n",
       "                                      filter_content  Positive_Score  \\\n",
       "0  What is COVID 19 pandemic On 31st December 201...              11   \n",
       "\n",
       "   Negative_Score  Avg_Sentence_Length  Percentage_Complex_Word  Fog_Index  \\\n",
       "0              25               3141.0                28.745691     251.87   \n",
       "\n",
       "    AVG_NUMBER_OF_WORDS_PER_SENTENCE  COMPLEX_WORDS  Word_Count  syllable  \\\n",
       "0                              623.0           1084        3771  1.948636   \n",
       "\n",
       "   Average_Word_Length  polarity  subjectivity  \n",
       "0             5.041734   0.05948      0.405852  "
      ]
     },
     "execution_count": 1,
     "metadata": {},
     "output_type": "execute_result"
    }
   ],
   "source": [
    "import requests\n",
    "import pandas as pd \n",
    "from bs4 import BeautifulSoup\n",
    "import string\n",
    "import spacy\n",
    "import re\n",
    "url = \"\"\"https://insights.blackcoffer.com/what-is-the-repercussion-of-the-environment-due-to-the-covid-19-pandemic-situation/\"\"\"\n",
    "headers = {\"User-Agent\": \"Mozilla/5.0 (X11; Linux x86_64; rv:60.0) Gecko/20100101 Firefox/60.0\"}\n",
    "page = requests.get(url, headers=headers)\n",
    "soup = BeautifulSoup(page.content, 'html.parser')\n",
    "soup=BeautifulSoup(page.content, 'html.parser')\n",
    "title=soup.find('h1',class_=\"entry-title\")\n",
    "title=title.text.replace('\\n',\" \")\n",
    "# title\n",
    "\n",
    "content=soup.findAll(attrs={'class':'td-post-content'})\n",
    "content=content[0].text.replace('\\n',\" \")\n",
    "# print(content)\n",
    "#Punctuation\n",
    "content = content.translate(str.maketrans('', '', string.punctuation)) \n",
    "# print(content)\n",
    "text = content.split()\n",
    "# print(text)\n",
    "len(text)\n",
    "#Positive Score \n",
    "with open(r\"C:\\Users\\Om Bhandwalkar\\Desktop\\pos\\positive-words.txt\") as pos:\n",
    "    poswords = pos.read().split(\"\\n\")  \n",
    "    poswords = poswords[5:]\n",
    "pos_count = \" \".join ([w for w in text if w in poswords])\n",
    "pos_count=pos_count.split(\" \")\n",
    "Positive_score=len(pos_count)\n",
    "print(Positive_score)\n",
    "\n",
    "#Negative Score\n",
    "with open(r\"C:\\Users\\Om Bhandwalkar\\Desktop\\pos\\negative-words.txt\",encoding =\"ISO-8859-1\") as neg:\n",
    "    negwords = neg.read().split(\"\\n\")\n",
    "    \n",
    "negwords = negwords[36:]\n",
    "neg_count = \" \".join ([w for w in text if w in negwords])\n",
    "neg_count=neg_count.split(\" \")\n",
    "Negative_score=len(neg_count)\n",
    "print(Negative_score)\n",
    "\n",
    "\n",
    "filter_content = ' '.join(text)\n",
    "data=[[url,title,content,filter_content,Positive_score,Negative_score]]\n",
    "data=pd.DataFrame(data,columns=[\"url\",\"title\",\"content\",\"filter_content\",\"Positive_Score\",\"Negative_Score\"])\n",
    "from textblob import TextBlob\n",
    "# Get The Subjectivity\n",
    "def sentiment_analysis(data):\n",
    "    sentiment = TextBlob(data[\"content\"]).sentiment\n",
    "    return pd.Series([sentiment.polarity,sentiment.subjectivity ])\n",
    "data[[\"polarity\", \"subjectivity\"]] = data.apply(sentiment_analysis, axis=1)\n",
    "data\n",
    "#AVG SENTENCE LENGTH\n",
    "AVG_SENTENCE_LENGTH = len(content.replace(' ',''))/len(re.split(r'[?!.]', content))\n",
    "print('Word average =', AVG_SENTENCE_LENGTH)\n",
    "import textstat\n",
    "#Fog index \n",
    "FOG_INDEX=(textstat.gunning_fog(content))\n",
    "print(\"FOG INDEX = \",FOG_INDEX)\n",
    "#Average No of Words Per Sentence \n",
    "AVG_NUMBER_OF_WORDS_PER_SENTENCE = [len(l.split()) for l in re.split(r'[?!.]', content) if l.strip()]\n",
    "print(\"Average no of words per sentence\")\n",
    "AVG_NUMBER_OF_WORDS_PER_SENTENCE=(sum(AVG_NUMBER_OF_WORDS_PER_SENTENCE)/len(AVG_NUMBER_OF_WORDS_PER_SENTENCE))\n",
    "print(AVG_NUMBER_OF_WORDS_PER_SENTENCE)\n",
    "#Complex words\n",
    "def syllable_count(word):\n",
    "    count = 0\n",
    "    vowels = \"AEIOUYaeiouy\"\n",
    "    if word[0] in vowels:\n",
    "        count += 1\n",
    "    for index in range(1, len(word)): \n",
    "        if word[index] in vowels and word[index - 1] not in vowels:\n",
    "            count += 1\n",
    "            if word.endswith(\"es\"or \"ed\"):\n",
    "                count -= 1\n",
    "    if count == 0:\n",
    "        count += 1\n",
    "    return count\n",
    "\n",
    "\n",
    "\n",
    "COMPLEX_WORDS=syllable_count(content)\n",
    "print(\"Complex Words\",COMPLEX_WORDS)\n",
    "#Word Count\n",
    "Word_Count=len(content)\n",
    "print(\"Word Count\",Word_Count)\n",
    "#Percentage Complex Words\n",
    "pcw=(COMPLEX_WORDS/Word_Count)*100\n",
    "print(\"Percentage of Complex Words\",pcw)\n",
    "#Average Word Length\n",
    "Average_Word_Length=len(content.replace(' ',''))/len(content.split())\n",
    "print(\"Average Word per Length\",Average_Word_Length)\n",
    "#Syllable Count Per Word\n",
    "word=content.replace(' ','')\n",
    "syllable_count=0\n",
    "for w in word:\n",
    "      if(w=='a' or w=='e' or w=='i' or w=='o' or w=='y' or w=='u' or w=='A' or w=='E' or w=='I' or w=='O' or w=='U' or w=='Y'):\n",
    "            syllable_count=syllable_count+1\n",
    "print(\"The AVG number of syllables in the word is: \")\n",
    "syllable = (syllable_count/len(content.split()))\n",
    "print(syllable)\n",
    "\n",
    "data = [[url,title,content,filter_content,Positive_score,Negative_score,AVG_SENTENCE_LENGTH,pcw,FOG_INDEX,\n",
    "         AVG_NUMBER_OF_WORDS_PER_SENTENCE,COMPLEX_WORDS,Word_Count,syllable,Average_Word_Length]]\n",
    "data=pd.DataFrame(data,columns=[\"url\",\"title\",\"content\",\"filter_content\",\"Positive_Score\",\"Negative_Score\",\"Avg_Sentence_Length\"\n",
    "                               ,\"Percentage_Complex_Word\",\"Fog_Index\",\" AVG_NUMBER_OF_WORDS_PER_SENTENCE\",\"COMPLEX_WORDS\",\n",
    "                               \"Word_Count\",\"syllable\",\"Average_Word_Length\"])\n",
    "from textblob import TextBlob\n",
    "# Get The Subjectivity\n",
    "def sentiment_analysis(data):\n",
    "    sentiment = TextBlob(data[\"content\"]).sentiment\n",
    "    return pd.Series([sentiment.polarity,sentiment.subjectivity ])\n",
    "data[[\"polarity\", \"subjectivity\"]] = data.apply(sentiment_analysis, axis=1)\n",
    "data"
   ]
  },
  {
   "cell_type": "code",
   "execution_count": 2,
   "id": "c9b8bc39",
   "metadata": {},
   "outputs": [],
   "source": [
    "data.to_csv(r'C:\\Users\\Om Bhandwalkar\\Desktop\\BlackCoffer Assignment\\Output\\url_103.csv')"
   ]
  },
  {
   "cell_type": "code",
   "execution_count": null,
   "id": "d1788b51",
   "metadata": {},
   "outputs": [],
   "source": []
  }
 ],
 "metadata": {
  "kernelspec": {
   "display_name": "Python 3 (ipykernel)",
   "language": "python",
   "name": "python3"
  },
  "language_info": {
   "codemirror_mode": {
    "name": "ipython",
    "version": 3
   },
   "file_extension": ".py",
   "mimetype": "text/x-python",
   "name": "python",
   "nbconvert_exporter": "python",
   "pygments_lexer": "ipython3",
   "version": "3.9.12"
  }
 },
 "nbformat": 4,
 "nbformat_minor": 5
}
