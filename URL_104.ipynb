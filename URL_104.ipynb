{
 "cells": [
  {
   "cell_type": "code",
   "execution_count": 1,
   "id": "e9928f34",
   "metadata": {},
   "outputs": [
    {
     "data": {
      "text/plain": [
       "'Due to the COVID-19 the repercussion of the environment'"
      ]
     },
     "execution_count": 1,
     "metadata": {},
     "output_type": "execute_result"
    }
   ],
   "source": [
    "import requests\n",
    "import pandas as pd \n",
    "from bs4 import BeautifulSoup\n",
    "import string\n",
    "import spacy\n",
    "import re\n",
    "url = \"\"\"https://insights.blackcoffer.com/what-is-the-repercussion-of-the-environment-due-to-the-covid-19-pandemic-situation-2/\"\"\"\n",
    "headers = {\"User-Agent\": \"Mozilla/5.0 (X11; Linux x86_64; rv:60.0) Gecko/20100101 Firefox/60.0\"}\n",
    "page = requests.get(url, headers=headers)\n",
    "soup = BeautifulSoup(page.content, 'html.parser')\n",
    "soup=BeautifulSoup(page.content, 'html.parser')\n",
    "title=soup.find('h1',class_=\"entry-title\")\n",
    "title=title.text.replace('\\n',\" \")\n",
    "title\n"
   ]
  },
  {
   "cell_type": "code",
   "execution_count": 2,
   "id": "7cc54ddc",
   "metadata": {},
   "outputs": [
    {
     "name": "stdout",
     "output_type": "stream",
     "text": [
      " Epidemics, in general, have both direct and indirect costs associated with direct and indirect measures adopted to counter (control) the epidemic which generally have both short-run and long-run economic and social consequences. The 2019 Coronavirus (COVID-19) outbreak globally lead a significant setback to the entire globe. The first case was detected on 26th December 2019 in China.  The World Health Organization (WHO) prepared the first diagnostic kit on 14th January 2020. As the global coronavirus or Covid-19 pandemic continues to take hold every economy is feeling it’s effect with a high degree of uncertainty taking a toll in all the manufacturing sectors. Supply chain management is an important area with many opportunities for our community to contribute in various forms.  According to the data produced by Supply Management’s Report on Business show that PMI (Purchasing Manager’s Index) has declined 1% in the month of February. Mainly there has been a huge contraction in the Petroleum, Transportation and Textile Industries. Although there has been a fall in the inventory but is expected to grow due to supply chain disruptions leading to inefficiencies in material conversion and continued advanced stocking to protect production schedules. A analysis by trading platform Forex claimed that heavily 75% of all companies had already reported supply chain disruptions with more than 80% believing that at some point they would experience impacts as a result of Covid-19 disruptions. The effective shutdown of industrial activity i.e. China, ground zero for the virus presented particularly difficult problems for manufacturing firms worldwide. Imported goods invested by investors set a significant setback. Several experiments were carried out by different governments across the globe to restrict the spread of this pandemic. Boris Johnson introduced the herd immunity plan in the United Kingdom which was a failure followed by a mitigate model which India also tried initially to stop the spread of the Covid-19 virus. The last and the ultimate model that most of the countries are applying is the Hammer and the Dance Model i.e. the Lockdown Model which is estimated to bring down the caseload by 25-30%. The Lockdown model basically means buying time to prepare the vaccine to kill the virus. However, the lockdown has certain critical economic consequences which add to the burden of global distress. This can be explained using the standard macroeconomic Keynesian model. The lockdown and the spread of the disease have a direct negative shock on aggregate consumption levels and exports. This leads to a contraction in aggregate demand which leads to a fall in the market rate of interest and aggregate equilibrium output. The secondary effect on the commodity market is via investment demand function which can either increase owing to a fall in the market rate of interest, or fall owing to the contraction in aggregate demand. Clearly, the contraction of the Aggregate Demand-side generates an economic slowdown. On the other hand, restriction of workers gathering in the workplace owing to lockdown hurts the production in those sectors which need the presence of physical workers. Note that software or financial service-producing sectors are exempted from such negative supply shock at least in the short-run to medium-run since those works could be easily carried out based on “work from home” anthem. However, reverse migration of workers is an indication of a sharp cut down in production activities. This Aggregate supply shock leads to the situation of stagflation. In recent announcements by the Reserve Bank of India (RBI) to ease liquidity in the system may prove to be counterproductive provided the aggregate supply shock, since the escalation of demand specifically for non-traded products without an adequate increase in production (supply) would only result in inflation. In other words, supply-side management must go hand in hand with demand-side policies. Even if policies are undertaken at the national level by the government, however, conditions may not improve much due to shocks in the external sector through trade in commodities. Most imports are banned which will increase the economic cost of production of import substitutes within the domestic territory based on the theory of comparative advantage in a Ricardian sense. At the same time, exports are hurt due to lower demand from the developed economies. This shows that unemployment and inflation are inevitable in the near future. Corona Virus has mainly affected raw material export-driven countries. With the Covid-19 virus in the backdrop there will be a decline in new orders, production, and employment with ease in supplier deliveries as demand will be less with a mild decline in the inventories. There has been a huge revenue impact. Long stretches of empty supermarket shelves and shortage of essential commodities are only the visible impacts to consumers of the global chain disruption caused by the Covid-19 pandemic. The uncertainties ahead swing between extremes. As the shortages worsen before they get resolved prices of many commodities could go up for consumers even if laws exist against price gouging. At the same time we should keep in mind that constrained supplies could cause a decline in demand which in turn may end up weakening prices. Risk Management process is not robust enough to cope with the fallout of the coronavirus pandemic. The seemingly relentless forces of globalization and technology with coronavirus in the backdrop will present us with new supply chain challenges and opportunities for further progress in the near future. There is a glimmer of good news as countries globally haven taken preventive measures but the recovery may be fragile. The crisis due to the global pandemic is likely to be more serious for developing economies compared to the global financial crisis of 2008. This is due to the fact that the global financial crisis leads to lower demand for exports from the developing economies by the developed nations which further lead to contraction of export-based industries and other sectors in the developing nations due to inter-sectoral backward and forward linkage effect, however, the burden of retrenchments in the formal sector was absorbed in the informal sector. In the present situation, the problem of vanishing informal sector is evident since informal sector workers are more vulnerable to the spread of the disease due to the absence of non-regulatory authority and out of direct government control. Moreover, lockdown lead to massive close down of this informal units, thus the informal sector in this present set up is vanishing due to which the shock absorption capacity of developing economy like India is becoming weaker. The global economy is drowning towards deep cycles of economic depression and the aftershocks seem to be long-lasting. The only way of this global shock seems to be international policy coordination in line with the needs of the domestic economies Blackcoffer Insights 18: Anusil Das, St.Xavier's University \n",
      " Epidemics in general have both direct and indirect costs associated with direct and indirect measures adopted to counter control the epidemic which generally have both shortrun and longrun economic and social consequences The 2019 Coronavirus COVID19 outbreak globally lead a significant setback to the entire globe The first case was detected on 26th December 2019 in China  The World Health Organization WHO prepared the first diagnostic kit on 14th January 2020 As the global coronavirus or Covid19 pandemic continues to take hold every economy is feeling it’s effect with a high degree of uncertainty taking a toll in all the manufacturing sectors Supply chain management is an important area with many opportunities for our community to contribute in various forms  According to the data produced by Supply Management’s Report on Business show that PMI Purchasing Manager’s Index has declined 1 in the month of February Mainly there has been a huge contraction in the Petroleum Transportation and Textile Industries Although there has been a fall in the inventory but is expected to grow due to supply chain disruptions leading to inefficiencies in material conversion and continued advanced stocking to protect production schedules A analysis by trading platform Forex claimed that heavily 75 of all companies had already reported supply chain disruptions with more than 80 believing that at some point they would experience impacts as a result of Covid19 disruptions The effective shutdown of industrial activity ie China ground zero for the virus presented particularly difficult problems for manufacturing firms worldwide Imported goods invested by investors set a significant setback Several experiments were carried out by different governments across the globe to restrict the spread of this pandemic Boris Johnson introduced the herd immunity plan in the United Kingdom which was a failure followed by a mitigate model which India also tried initially to stop the spread of the Covid19 virus The last and the ultimate model that most of the countries are applying is the Hammer and the Dance Model ie the Lockdown Model which is estimated to bring down the caseload by 2530 The Lockdown model basically means buying time to prepare the vaccine to kill the virus However the lockdown has certain critical economic consequences which add to the burden of global distress This can be explained using the standard macroeconomic Keynesian model The lockdown and the spread of the disease have a direct negative shock on aggregate consumption levels and exports This leads to a contraction in aggregate demand which leads to a fall in the market rate of interest and aggregate equilibrium output The secondary effect on the commodity market is via investment demand function which can either increase owing to a fall in the market rate of interest or fall owing to the contraction in aggregate demand Clearly the contraction of the Aggregate Demandside generates an economic slowdown On the other hand restriction of workers gathering in the workplace owing to lockdown hurts the production in those sectors which need the presence of physical workers Note that software or financial serviceproducing sectors are exempted from such negative supply shock at least in the shortrun to mediumrun since those works could be easily carried out based on “work from home” anthem However reverse migration of workers is an indication of a sharp cut down in production activities This Aggregate supply shock leads to the situation of stagflation In recent announcements by the Reserve Bank of India RBI to ease liquidity in the system may prove to be counterproductive provided the aggregate supply shock since the escalation of demand specifically for nontraded products without an adequate increase in production supply would only result in inflation In other words supplyside management must go hand in hand with demandside policies Even if policies are undertaken at the national level by the government however conditions may not improve much due to shocks in the external sector through trade in commodities Most imports are banned which will increase the economic cost of production of import substitutes within the domestic territory based on the theory of comparative advantage in a Ricardian sense At the same time exports are hurt due to lower demand from the developed economies This shows that unemployment and inflation are inevitable in the near future Corona Virus has mainly affected raw material exportdriven countries With the Covid19 virus in the backdrop there will be a decline in new orders production and employment with ease in supplier deliveries as demand will be less with a mild decline in the inventories There has been a huge revenue impact Long stretches of empty supermarket shelves and shortage of essential commodities are only the visible impacts to consumers of the global chain disruption caused by the Covid19 pandemic The uncertainties ahead swing between extremes As the shortages worsen before they get resolved prices of many commodities could go up for consumers even if laws exist against price gouging At the same time we should keep in mind that constrained supplies could cause a decline in demand which in turn may end up weakening prices Risk Management process is not robust enough to cope with the fallout of the coronavirus pandemic The seemingly relentless forces of globalization and technology with coronavirus in the backdrop will present us with new supply chain challenges and opportunities for further progress in the near future There is a glimmer of good news as countries globally haven taken preventive measures but the recovery may be fragile The crisis due to the global pandemic is likely to be more serious for developing economies compared to the global financial crisis of 2008 This is due to the fact that the global financial crisis leads to lower demand for exports from the developing economies by the developed nations which further lead to contraction of exportbased industries and other sectors in the developing nations due to intersectoral backward and forward linkage effect however the burden of retrenchments in the formal sector was absorbed in the informal sector In the present situation the problem of vanishing informal sector is evident since informal sector workers are more vulnerable to the spread of the disease due to the absence of nonregulatory authority and out of direct government control Moreover lockdown lead to massive close down of this informal units thus the informal sector in this present set up is vanishing due to which the shock absorption capacity of developing economy like India is becoming weaker The global economy is drowning towards deep cycles of economic depression and the aftershocks seem to be longlasting The only way of this global shock seems to be international policy coordination in line with the needs of the domestic economies Blackcoffer Insights 18 Anusil Das StXaviers University \n",
      "['Epidemics', 'in', 'general', 'have', 'both', 'direct', 'and', 'indirect', 'costs', 'associated', 'with', 'direct', 'and', 'indirect', 'measures', 'adopted', 'to', 'counter', 'control', 'the', 'epidemic', 'which', 'generally', 'have', 'both', 'shortrun', 'and', 'longrun', 'economic', 'and', 'social', 'consequences', 'The', '2019', 'Coronavirus', 'COVID19', 'outbreak', 'globally', 'lead', 'a', 'significant', 'setback', 'to', 'the', 'entire', 'globe', 'The', 'first', 'case', 'was', 'detected', 'on', '26th', 'December', '2019', 'in', 'China', 'The', 'World', 'Health', 'Organization', 'WHO', 'prepared', 'the', 'first', 'diagnostic', 'kit', 'on', '14th', 'January', '2020', 'As', 'the', 'global', 'coronavirus', 'or', 'Covid19', 'pandemic', 'continues', 'to', 'take', 'hold', 'every', 'economy', 'is', 'feeling', 'it’s', 'effect', 'with', 'a', 'high', 'degree', 'of', 'uncertainty', 'taking', 'a', 'toll', 'in', 'all', 'the', 'manufacturing', 'sectors', 'Supply', 'chain', 'management', 'is', 'an', 'important', 'area', 'with', 'many', 'opportunities', 'for', 'our', 'community', 'to', 'contribute', 'in', 'various', 'forms', 'According', 'to', 'the', 'data', 'produced', 'by', 'Supply', 'Management’s', 'Report', 'on', 'Business', 'show', 'that', 'PMI', 'Purchasing', 'Manager’s', 'Index', 'has', 'declined', '1', 'in', 'the', 'month', 'of', 'February', 'Mainly', 'there', 'has', 'been', 'a', 'huge', 'contraction', 'in', 'the', 'Petroleum', 'Transportation', 'and', 'Textile', 'Industries', 'Although', 'there', 'has', 'been', 'a', 'fall', 'in', 'the', 'inventory', 'but', 'is', 'expected', 'to', 'grow', 'due', 'to', 'supply', 'chain', 'disruptions', 'leading', 'to', 'inefficiencies', 'in', 'material', 'conversion', 'and', 'continued', 'advanced', 'stocking', 'to', 'protect', 'production', 'schedules', 'A', 'analysis', 'by', 'trading', 'platform', 'Forex', 'claimed', 'that', 'heavily', '75', 'of', 'all', 'companies', 'had', 'already', 'reported', 'supply', 'chain', 'disruptions', 'with', 'more', 'than', '80', 'believing', 'that', 'at', 'some', 'point', 'they', 'would', 'experience', 'impacts', 'as', 'a', 'result', 'of', 'Covid19', 'disruptions', 'The', 'effective', 'shutdown', 'of', 'industrial', 'activity', 'ie', 'China', 'ground', 'zero', 'for', 'the', 'virus', 'presented', 'particularly', 'difficult', 'problems', 'for', 'manufacturing', 'firms', 'worldwide', 'Imported', 'goods', 'invested', 'by', 'investors', 'set', 'a', 'significant', 'setback', 'Several', 'experiments', 'were', 'carried', 'out', 'by', 'different', 'governments', 'across', 'the', 'globe', 'to', 'restrict', 'the', 'spread', 'of', 'this', 'pandemic', 'Boris', 'Johnson', 'introduced', 'the', 'herd', 'immunity', 'plan', 'in', 'the', 'United', 'Kingdom', 'which', 'was', 'a', 'failure', 'followed', 'by', 'a', 'mitigate', 'model', 'which', 'India', 'also', 'tried', 'initially', 'to', 'stop', 'the', 'spread', 'of', 'the', 'Covid19', 'virus', 'The', 'last', 'and', 'the', 'ultimate', 'model', 'that', 'most', 'of', 'the', 'countries', 'are', 'applying', 'is', 'the', 'Hammer', 'and', 'the', 'Dance', 'Model', 'ie', 'the', 'Lockdown', 'Model', 'which', 'is', 'estimated', 'to', 'bring', 'down', 'the', 'caseload', 'by', '2530', 'The', 'Lockdown', 'model', 'basically', 'means', 'buying', 'time', 'to', 'prepare', 'the', 'vaccine', 'to', 'kill', 'the', 'virus', 'However', 'the', 'lockdown', 'has', 'certain', 'critical', 'economic', 'consequences', 'which', 'add', 'to', 'the', 'burden', 'of', 'global', 'distress', 'This', 'can', 'be', 'explained', 'using', 'the', 'standard', 'macroeconomic', 'Keynesian', 'model', 'The', 'lockdown', 'and', 'the', 'spread', 'of', 'the', 'disease', 'have', 'a', 'direct', 'negative', 'shock', 'on', 'aggregate', 'consumption', 'levels', 'and', 'exports', 'This', 'leads', 'to', 'a', 'contraction', 'in', 'aggregate', 'demand', 'which', 'leads', 'to', 'a', 'fall', 'in', 'the', 'market', 'rate', 'of', 'interest', 'and', 'aggregate', 'equilibrium', 'output', 'The', 'secondary', 'effect', 'on', 'the', 'commodity', 'market', 'is', 'via', 'investment', 'demand', 'function', 'which', 'can', 'either', 'increase', 'owing', 'to', 'a', 'fall', 'in', 'the', 'market', 'rate', 'of', 'interest', 'or', 'fall', 'owing', 'to', 'the', 'contraction', 'in', 'aggregate', 'demand', 'Clearly', 'the', 'contraction', 'of', 'the', 'Aggregate', 'Demandside', 'generates', 'an', 'economic', 'slowdown', 'On', 'the', 'other', 'hand', 'restriction', 'of', 'workers', 'gathering', 'in', 'the', 'workplace', 'owing', 'to', 'lockdown', 'hurts', 'the', 'production', 'in', 'those', 'sectors', 'which', 'need', 'the', 'presence', 'of', 'physical', 'workers', 'Note', 'that', 'software', 'or', 'financial', 'serviceproducing', 'sectors', 'are', 'exempted', 'from', 'such', 'negative', 'supply', 'shock', 'at', 'least', 'in', 'the', 'shortrun', 'to', 'mediumrun', 'since', 'those', 'works', 'could', 'be', 'easily', 'carried', 'out', 'based', 'on', '“work', 'from', 'home”', 'anthem', 'However', 'reverse', 'migration', 'of', 'workers', 'is', 'an', 'indication', 'of', 'a', 'sharp', 'cut', 'down', 'in', 'production', 'activities', 'This', 'Aggregate', 'supply', 'shock', 'leads', 'to', 'the', 'situation', 'of', 'stagflation', 'In', 'recent', 'announcements', 'by', 'the', 'Reserve', 'Bank', 'of', 'India', 'RBI', 'to', 'ease', 'liquidity', 'in', 'the', 'system', 'may', 'prove', 'to', 'be', 'counterproductive', 'provided', 'the', 'aggregate', 'supply', 'shock', 'since', 'the', 'escalation', 'of', 'demand', 'specifically', 'for', 'nontraded', 'products', 'without', 'an', 'adequate', 'increase', 'in', 'production', 'supply', 'would', 'only', 'result', 'in', 'inflation', 'In', 'other', 'words', 'supplyside', 'management', 'must', 'go', 'hand', 'in', 'hand', 'with', 'demandside', 'policies', 'Even', 'if', 'policies', 'are', 'undertaken', 'at', 'the', 'national', 'level', 'by', 'the', 'government', 'however', 'conditions', 'may', 'not', 'improve', 'much', 'due', 'to', 'shocks', 'in', 'the', 'external', 'sector', 'through', 'trade', 'in', 'commodities', 'Most', 'imports', 'are', 'banned', 'which', 'will', 'increase', 'the', 'economic', 'cost', 'of', 'production', 'of', 'import', 'substitutes', 'within', 'the', 'domestic', 'territory', 'based', 'on', 'the', 'theory', 'of', 'comparative', 'advantage', 'in', 'a', 'Ricardian', 'sense', 'At', 'the', 'same', 'time', 'exports', 'are', 'hurt', 'due', 'to', 'lower', 'demand', 'from', 'the', 'developed', 'economies', 'This', 'shows', 'that', 'unemployment', 'and', 'inflation', 'are', 'inevitable', 'in', 'the', 'near', 'future', 'Corona', 'Virus', 'has', 'mainly', 'affected', 'raw', 'material', 'exportdriven', 'countries', 'With', 'the', 'Covid19', 'virus', 'in', 'the', 'backdrop', 'there', 'will', 'be', 'a', 'decline', 'in', 'new', 'orders', 'production', 'and', 'employment', 'with', 'ease', 'in', 'supplier', 'deliveries', 'as', 'demand', 'will', 'be', 'less', 'with', 'a', 'mild', 'decline', 'in', 'the', 'inventories', 'There', 'has', 'been', 'a', 'huge', 'revenue', 'impact', 'Long', 'stretches', 'of', 'empty', 'supermarket', 'shelves', 'and', 'shortage', 'of', 'essential', 'commodities', 'are', 'only', 'the', 'visible', 'impacts', 'to', 'consumers', 'of', 'the', 'global', 'chain', 'disruption', 'caused', 'by', 'the', 'Covid19', 'pandemic', 'The', 'uncertainties', 'ahead', 'swing', 'between', 'extremes', 'As', 'the', 'shortages', 'worsen', 'before', 'they', 'get', 'resolved', 'prices', 'of', 'many', 'commodities', 'could', 'go', 'up', 'for', 'consumers', 'even', 'if', 'laws', 'exist', 'against', 'price', 'gouging', 'At', 'the', 'same', 'time', 'we', 'should', 'keep', 'in', 'mind', 'that', 'constrained', 'supplies', 'could', 'cause', 'a', 'decline', 'in', 'demand', 'which', 'in', 'turn', 'may', 'end', 'up', 'weakening', 'prices', 'Risk', 'Management', 'process', 'is', 'not', 'robust', 'enough', 'to', 'cope', 'with', 'the', 'fallout', 'of', 'the', 'coronavirus', 'pandemic', 'The', 'seemingly', 'relentless', 'forces', 'of', 'globalization', 'and', 'technology', 'with', 'coronavirus', 'in', 'the', 'backdrop', 'will', 'present', 'us', 'with', 'new', 'supply', 'chain', 'challenges', 'and', 'opportunities', 'for', 'further', 'progress', 'in', 'the', 'near', 'future', 'There', 'is', 'a', 'glimmer', 'of', 'good', 'news', 'as', 'countries', 'globally', 'haven', 'taken', 'preventive', 'measures', 'but', 'the', 'recovery', 'may', 'be', 'fragile', 'The', 'crisis', 'due', 'to', 'the', 'global', 'pandemic', 'is', 'likely', 'to', 'be', 'more', 'serious', 'for', 'developing', 'economies', 'compared', 'to', 'the', 'global', 'financial', 'crisis', 'of', '2008', 'This', 'is', 'due', 'to', 'the', 'fact', 'that', 'the', 'global', 'financial', 'crisis', 'leads', 'to', 'lower', 'demand', 'for', 'exports', 'from', 'the', 'developing', 'economies', 'by', 'the', 'developed', 'nations', 'which', 'further', 'lead', 'to', 'contraction', 'of', 'exportbased', 'industries', 'and', 'other', 'sectors', 'in', 'the', 'developing', 'nations', 'due', 'to', 'intersectoral', 'backward', 'and', 'forward', 'linkage', 'effect', 'however', 'the', 'burden', 'of', 'retrenchments', 'in', 'the', 'formal', 'sector', 'was', 'absorbed', 'in', 'the', 'informal', 'sector', 'In', 'the', 'present', 'situation', 'the', 'problem', 'of', 'vanishing', 'informal', 'sector', 'is', 'evident', 'since', 'informal', 'sector', 'workers', 'are', 'more', 'vulnerable', 'to', 'the', 'spread', 'of', 'the', 'disease', 'due', 'to', 'the', 'absence', 'of', 'nonregulatory', 'authority', 'and', 'out', 'of', 'direct', 'government', 'control', 'Moreover', 'lockdown', 'lead', 'to', 'massive', 'close', 'down', 'of', 'this', 'informal', 'units', 'thus', 'the', 'informal', 'sector', 'in', 'this', 'present', 'set', 'up', 'is', 'vanishing', 'due', 'to', 'which', 'the', 'shock', 'absorption', 'capacity', 'of', 'developing', 'economy', 'like', 'India', 'is', 'becoming', 'weaker', 'The', 'global', 'economy', 'is', 'drowning', 'towards', 'deep', 'cycles', 'of', 'economic', 'depression', 'and', 'the', 'aftershocks', 'seem', 'to', 'be', 'longlasting', 'The', 'only', 'way', 'of', 'this', 'global', 'shock', 'seems', 'to', 'be', 'international', 'policy', 'coordination', 'in', 'line', 'with', 'the', 'needs', 'of', 'the', 'domestic', 'economies', 'Blackcoffer', 'Insights', '18', 'Anusil', 'Das', 'StXaviers', 'University']\n"
     ]
    }
   ],
   "source": [
    "content=soup.findAll(attrs={'class':'td-post-content'})\n",
    "content=content[0].text.replace('\\n',\" \")\n",
    "print(content)\n",
    "#Punctuation\n",
    "content = content.translate(str.maketrans('', '', string.punctuation)) \n",
    "print(content)\n",
    "text = content.split()\n",
    "print(text)\n"
   ]
  },
  {
   "cell_type": "code",
   "execution_count": 3,
   "id": "5593327d",
   "metadata": {},
   "outputs": [
    {
     "data": {
      "text/plain": [
       "1118"
      ]
     },
     "execution_count": 3,
     "metadata": {},
     "output_type": "execute_result"
    }
   ],
   "source": [
    "len(text)"
   ]
  },
  {
   "cell_type": "code",
   "execution_count": 4,
   "id": "22b573cf",
   "metadata": {},
   "outputs": [
    {
     "name": "stdout",
     "output_type": "stream",
     "text": [
      "28\n"
     ]
    }
   ],
   "source": [
    "#Positive Score \n",
    "with open(r\"C:\\Users\\Om Bhandwalkar\\Desktop\\pos\\positive-words.txt\") as pos:\n",
    "    poswords = pos.read().split(\"\\n\")  \n",
    "    poswords = poswords[5:]\n",
    "pos_count = \" \".join ([w for w in text if w in poswords])\n",
    "pos_count=pos_count.split(\" \")\n",
    "Positive_score=len(pos_count)\n",
    "print(Positive_score)"
   ]
  },
  {
   "cell_type": "code",
   "execution_count": 5,
   "id": "97ae2a2d",
   "metadata": {},
   "outputs": [
    {
     "name": "stdout",
     "output_type": "stream",
     "text": [
      "55\n"
     ]
    }
   ],
   "source": [
    "#Negative Score\n",
    "with open(r\"C:\\Users\\Om Bhandwalkar\\Desktop\\pos\\negative-words.txt\",encoding =\"ISO-8859-1\") as neg:\n",
    "    negwords = neg.read().split(\"\\n\")\n",
    "    \n",
    "negwords = negwords[36:]\n",
    "neg_count = \" \".join ([w for w in text if w in negwords])\n",
    "neg_count=neg_count.split(\" \")\n",
    "Negative_score=len(neg_count)\n",
    "print(Negative_score)"
   ]
  },
  {
   "cell_type": "code",
   "execution_count": 6,
   "id": "4cf7ab2d",
   "metadata": {},
   "outputs": [
    {
     "data": {
      "text/html": [
       "<div>\n",
       "<style scoped>\n",
       "    .dataframe tbody tr th:only-of-type {\n",
       "        vertical-align: middle;\n",
       "    }\n",
       "\n",
       "    .dataframe tbody tr th {\n",
       "        vertical-align: top;\n",
       "    }\n",
       "\n",
       "    .dataframe thead th {\n",
       "        text-align: right;\n",
       "    }\n",
       "</style>\n",
       "<table border=\"1\" class=\"dataframe\">\n",
       "  <thead>\n",
       "    <tr style=\"text-align: right;\">\n",
       "      <th></th>\n",
       "      <th>url</th>\n",
       "      <th>title</th>\n",
       "      <th>content</th>\n",
       "      <th>filter_content</th>\n",
       "      <th>Positive_Score</th>\n",
       "      <th>Negative_Score</th>\n",
       "      <th>polarity</th>\n",
       "      <th>subjectivity</th>\n",
       "    </tr>\n",
       "  </thead>\n",
       "  <tbody>\n",
       "    <tr>\n",
       "      <th>0</th>\n",
       "      <td>https://insights.blackcoffer.com/what-is-the-r...</td>\n",
       "      <td>Due to the COVID-19 the repercussion of the en...</td>\n",
       "      <td>Epidemics in general have both direct and ind...</td>\n",
       "      <td>Epidemics in general have both direct and indi...</td>\n",
       "      <td>28</td>\n",
       "      <td>55</td>\n",
       "      <td>0.057154</td>\n",
       "      <td>0.391464</td>\n",
       "    </tr>\n",
       "  </tbody>\n",
       "</table>\n",
       "</div>"
      ],
      "text/plain": [
       "                                                 url  \\\n",
       "0  https://insights.blackcoffer.com/what-is-the-r...   \n",
       "\n",
       "                                               title  \\\n",
       "0  Due to the COVID-19 the repercussion of the en...   \n",
       "\n",
       "                                             content  \\\n",
       "0   Epidemics in general have both direct and ind...   \n",
       "\n",
       "                                      filter_content  Positive_Score  \\\n",
       "0  Epidemics in general have both direct and indi...              28   \n",
       "\n",
       "   Negative_Score  polarity  subjectivity  \n",
       "0              55  0.057154      0.391464  "
      ]
     },
     "execution_count": 6,
     "metadata": {},
     "output_type": "execute_result"
    }
   ],
   "source": [
    "filter_content = ' '.join(text)\n",
    "data=[[url,title,content,filter_content,Positive_score,Negative_score]]\n",
    "data=pd.DataFrame(data,columns=[\"url\",\"title\",\"content\",\"filter_content\",\"Positive_Score\",\"Negative_Score\"])\n",
    "from textblob import TextBlob\n",
    "# Get The Subjectivity\n",
    "def sentiment_analysis(data):\n",
    "    sentiment = TextBlob(data[\"content\"]).sentiment\n",
    "    return pd.Series([sentiment.polarity,sentiment.subjectivity ])\n",
    "\n",
    "# Adding Subjectivity & Polarity\n",
    "data[[\"polarity\", \"subjectivity\"]] = data.apply(sentiment_analysis, axis=1)\n",
    "\n",
    "data"
   ]
  },
  {
   "cell_type": "code",
   "execution_count": 7,
   "id": "110e4563",
   "metadata": {},
   "outputs": [
    {
     "name": "stdout",
     "output_type": "stream",
     "text": [
      "Word average = 5892.0\n",
      "FOG INDEX =  452.5\n",
      "Average no of words per sentence\n",
      "1118.0\n",
      "Complex Words 2084\n"
     ]
    }
   ],
   "source": [
    "#AVG SENTENCE LENGTH\n",
    "AVG_SENTENCE_LENGTH = len(content.replace(' ',''))/len(re.split(r'[?!.]', content))\n",
    "print('Word average =', AVG_SENTENCE_LENGTH)\n",
    "import textstat\n",
    "#Fog index \n",
    "FOG_INDEX=(textstat.gunning_fog(content))\n",
    "print(\"FOG INDEX = \",FOG_INDEX)\n",
    "#Average No of Words Per Sentence \n",
    "AVG_NUMBER_OF_WORDS_PER_SENTENCE = [len(l.split()) for l in re.split(r'[?!.]', content) if l.strip()]\n",
    "print(\"Average no of words per sentence\")\n",
    "AVG_NUMBER_OF_WORDS_PER_SENTENCE=print(sum(AVG_NUMBER_OF_WORDS_PER_SENTENCE)/len(AVG_NUMBER_OF_WORDS_PER_SENTENCE))\n",
    "#Complex words\n",
    "def syllable_count(word):\n",
    "    count = 0\n",
    "    vowels = \"AEIOUYaeiouy\"\n",
    "    if word[0] in vowels:\n",
    "        count += 1\n",
    "    for index in range(1, len(word)): \n",
    "        if word[index] in vowels and word[index - 1] not in vowels:\n",
    "            count += 1\n",
    "            if word.endswith(\"es\"or \"ed\"):\n",
    "                count -= 1\n",
    "    if count == 0:\n",
    "        count += 1\n",
    "    return count\n",
    "\n",
    "\n",
    "\n",
    "COMPLEX_WORDS=syllable_count(content)\n",
    "print(\"Complex Words\",COMPLEX_WORDS)\n"
   ]
  },
  {
   "cell_type": "code",
   "execution_count": 8,
   "id": "66f8000f",
   "metadata": {},
   "outputs": [
    {
     "name": "stdout",
     "output_type": "stream",
     "text": [
      "Word Count 7011\n",
      "Percentage of Complex Words 29.72471829981458\n",
      "Average Word per Length 5.270125223613595\n",
      "The AVG number of syllables in the word is: \n",
      "2.067978533094812\n",
      "Word Count 7011\n",
      "Percentage of Complex Words 29.72471829981458\n",
      "Average Word per Length 5.270125223613595\n",
      "The AVG number of syllables in the word is: \n",
      "2.067978533094812\n"
     ]
    }
   ],
   "source": [
    "#Word Count\n",
    "Word_Count=len(content)\n",
    "print(\"Word Count\",Word_Count)\n",
    "#Percentage Complex Words\n",
    "pcw=(COMPLEX_WORDS/Word_Count)*100\n",
    "print(\"Percentage of Complex Words\",pcw)\n",
    "#Average Word Length\n",
    "Average_Word_Length=len(content.replace(' ',''))/len(content.split())\n",
    "print(\"Average Word per Length\",Average_Word_Length)\n",
    "#Syllable Count Per Word\n",
    "word=content.replace(' ','')\n",
    "syllable_count=0\n",
    "for w in word:\n",
    "      if(w=='a' or w=='e' or w=='i' or w=='o' or w=='y' or w=='u' or w=='A' or w=='E' or w=='I' or w=='O' or w=='U' or w=='Y'):\n",
    "            syllable_count=syllable_count+1\n",
    "print(\"The AVG number of syllables in the word is: \")\n",
    "print(syllable_count/len(content.split()))#Word Count\n",
    "Word_Count=len(content)\n",
    "print(\"Word Count\",Word_Count)\n",
    "#Percentage Complex Words\n",
    "pcw=(COMPLEX_WORDS/Word_Count)*100\n",
    "print(\"Percentage of Complex Words\",pcw)\n",
    "#Average Word Length\n",
    "Average_Word_Length=len(content.replace(' ',''))/len(content.split())\n",
    "print(\"Average Word per Length\",Average_Word_Length)\n",
    "#Syllable Count Per Word\n",
    "word=content.replace(' ','')\n",
    "syllable_count=0\n",
    "for w in word:\n",
    "      if(w=='a' or w=='e' or w=='i' or w=='o' or w=='y' or w=='u' or w=='A' or w=='E' or w=='I' or w=='O' or w=='U' or w=='Y'):\n",
    "            syllable_count=syllable_count+1\n",
    "print(\"The AVG number of syllables in the word is: \")\n",
    "print(syllable_count/len(content.split()))"
   ]
  },
  {
   "cell_type": "code",
   "execution_count": 2,
   "id": "f8c218c6",
   "metadata": {},
   "outputs": [
    {
     "name": "stdout",
     "output_type": "stream",
     "text": [
      "28\n",
      "55\n",
      "Word average = 5892.0\n",
      "FOG INDEX =  452.5\n",
      "Average no of words per sentence\n",
      "1118.0\n",
      "Complex Words 2084\n",
      "Word Count 7011\n",
      "Percentage of Complex Words 29.72471829981458\n",
      "Average Word per Length 5.270125223613595\n",
      "The AVG number of syllables in the word is: \n",
      "2.067978533094812\n"
     ]
    },
    {
     "data": {
      "text/html": [
       "<div>\n",
       "<style scoped>\n",
       "    .dataframe tbody tr th:only-of-type {\n",
       "        vertical-align: middle;\n",
       "    }\n",
       "\n",
       "    .dataframe tbody tr th {\n",
       "        vertical-align: top;\n",
       "    }\n",
       "\n",
       "    .dataframe thead th {\n",
       "        text-align: right;\n",
       "    }\n",
       "</style>\n",
       "<table border=\"1\" class=\"dataframe\">\n",
       "  <thead>\n",
       "    <tr style=\"text-align: right;\">\n",
       "      <th></th>\n",
       "      <th>url</th>\n",
       "      <th>title</th>\n",
       "      <th>content</th>\n",
       "      <th>filter_content</th>\n",
       "      <th>Positive_Score</th>\n",
       "      <th>Negative_Score</th>\n",
       "      <th>Avg_Sentence_Length</th>\n",
       "      <th>Percentage_Complex_Word</th>\n",
       "      <th>Fog_Index</th>\n",
       "      <th>AVG_NUMBER_OF_WORDS_PER_SENTENCE</th>\n",
       "      <th>COMPLEX_WORDS</th>\n",
       "      <th>Word_Count</th>\n",
       "      <th>syllable</th>\n",
       "      <th>Average_Word_Length</th>\n",
       "      <th>polarity</th>\n",
       "      <th>subjectivity</th>\n",
       "    </tr>\n",
       "  </thead>\n",
       "  <tbody>\n",
       "    <tr>\n",
       "      <th>0</th>\n",
       "      <td>https://insights.blackcoffer.com/what-is-the-r...</td>\n",
       "      <td>Due to the COVID-19 the repercussion of the en...</td>\n",
       "      <td>Epidemics in general have both direct and ind...</td>\n",
       "      <td>Epidemics in general have both direct and indi...</td>\n",
       "      <td>28</td>\n",
       "      <td>55</td>\n",
       "      <td>5892.0</td>\n",
       "      <td>29.724718</td>\n",
       "      <td>452.5</td>\n",
       "      <td>1118.0</td>\n",
       "      <td>2084</td>\n",
       "      <td>7011</td>\n",
       "      <td>2.067979</td>\n",
       "      <td>5.270125</td>\n",
       "      <td>0.057154</td>\n",
       "      <td>0.391464</td>\n",
       "    </tr>\n",
       "  </tbody>\n",
       "</table>\n",
       "</div>"
      ],
      "text/plain": [
       "                                                 url  \\\n",
       "0  https://insights.blackcoffer.com/what-is-the-r...   \n",
       "\n",
       "                                               title  \\\n",
       "0  Due to the COVID-19 the repercussion of the en...   \n",
       "\n",
       "                                             content  \\\n",
       "0   Epidemics in general have both direct and ind...   \n",
       "\n",
       "                                      filter_content  Positive_Score  \\\n",
       "0  Epidemics in general have both direct and indi...              28   \n",
       "\n",
       "   Negative_Score  Avg_Sentence_Length  Percentage_Complex_Word  Fog_Index  \\\n",
       "0              55               5892.0                29.724718      452.5   \n",
       "\n",
       "    AVG_NUMBER_OF_WORDS_PER_SENTENCE  COMPLEX_WORDS  Word_Count  syllable  \\\n",
       "0                             1118.0           2084        7011  2.067979   \n",
       "\n",
       "   Average_Word_Length  polarity  subjectivity  \n",
       "0             5.270125  0.057154      0.391464  "
      ]
     },
     "execution_count": 2,
     "metadata": {},
     "output_type": "execute_result"
    }
   ],
   "source": [
    "import requests\n",
    "import pandas as pd \n",
    "from bs4 import BeautifulSoup\n",
    "import string\n",
    "import spacy\n",
    "import re\n",
    "url = \"\"\"https://insights.blackcoffer.com/what-is-the-repercussion-of-the-environment-due-to-the-covid-19-pandemic-situation-2/\"\"\"\n",
    "headers = {\"User-Agent\": \"Mozilla/5.0 (X11; Linux x86_64; rv:60.0) Gecko/20100101 Firefox/60.0\"}\n",
    "page = requests.get(url, headers=headers)\n",
    "soup = BeautifulSoup(page.content, 'html.parser')\n",
    "soup=BeautifulSoup(page.content, 'html.parser')\n",
    "title=soup.find('h1',class_=\"entry-title\")\n",
    "title=title.text.replace('\\n',\" \")\n",
    "# title\n",
    "\n",
    "content=soup.findAll(attrs={'class':'td-post-content'})\n",
    "content=content[0].text.replace('\\n',\" \")\n",
    "# print(content)\n",
    "#Punctuation\n",
    "content = content.translate(str.maketrans('', '', string.punctuation)) \n",
    "# print(content)\n",
    "text = content.split()\n",
    "# print(text)\n",
    "len(text)\n",
    "#Positive Score \n",
    "with open(r\"C:\\Users\\Om Bhandwalkar\\Desktop\\pos\\positive-words.txt\") as pos:\n",
    "    poswords = pos.read().split(\"\\n\")  \n",
    "    poswords = poswords[5:]\n",
    "pos_count = \" \".join ([w for w in text if w in poswords])\n",
    "pos_count=pos_count.split(\" \")\n",
    "Positive_score=len(pos_count)\n",
    "print(Positive_score)\n",
    "\n",
    "#Negative Score\n",
    "with open(r\"C:\\Users\\Om Bhandwalkar\\Desktop\\pos\\negative-words.txt\",encoding =\"ISO-8859-1\") as neg:\n",
    "    negwords = neg.read().split(\"\\n\")\n",
    "    \n",
    "negwords = negwords[36:]\n",
    "neg_count = \" \".join ([w for w in text if w in negwords])\n",
    "neg_count=neg_count.split(\" \")\n",
    "Negative_score=len(neg_count)\n",
    "print(Negative_score)\n",
    "\n",
    "\n",
    "filter_content = ' '.join(text)\n",
    "data=[[url,title,content,filter_content,Positive_score,Negative_score]]\n",
    "data=pd.DataFrame(data,columns=[\"url\",\"title\",\"content\",\"filter_content\",\"Positive_Score\",\"Negative_Score\"])\n",
    "from textblob import TextBlob\n",
    "# Get The Subjectivity\n",
    "def sentiment_analysis(data):\n",
    "    sentiment = TextBlob(data[\"content\"]).sentiment\n",
    "    return pd.Series([sentiment.polarity,sentiment.subjectivity ])\n",
    "data[[\"polarity\", \"subjectivity\"]] = data.apply(sentiment_analysis, axis=1)\n",
    "data\n",
    "#AVG SENTENCE LENGTH\n",
    "AVG_SENTENCE_LENGTH = len(content.replace(' ',''))/len(re.split(r'[?!.]', content))\n",
    "print('Word average =', AVG_SENTENCE_LENGTH)\n",
    "import textstat\n",
    "#Fog index \n",
    "FOG_INDEX=(textstat.gunning_fog(content))\n",
    "print(\"FOG INDEX = \",FOG_INDEX)\n",
    "#Average No of Words Per Sentence \n",
    "AVG_NUMBER_OF_WORDS_PER_SENTENCE = [len(l.split()) for l in re.split(r'[?!.]', content) if l.strip()]\n",
    "print(\"Average no of words per sentence\")\n",
    "AVG_NUMBER_OF_WORDS_PER_SENTENCE=(sum(AVG_NUMBER_OF_WORDS_PER_SENTENCE)/len(AVG_NUMBER_OF_WORDS_PER_SENTENCE))\n",
    "print(AVG_NUMBER_OF_WORDS_PER_SENTENCE)\n",
    "#Complex words\n",
    "def syllable_count(word):\n",
    "    count = 0\n",
    "    vowels = \"AEIOUYaeiouy\"\n",
    "    if word[0] in vowels:\n",
    "        count += 1\n",
    "    for index in range(1, len(word)): \n",
    "        if word[index] in vowels and word[index - 1] not in vowels:\n",
    "            count += 1\n",
    "            if word.endswith(\"es\"or \"ed\"):\n",
    "                count -= 1\n",
    "    if count == 0:\n",
    "        count += 1\n",
    "    return count\n",
    "\n",
    "\n",
    "\n",
    "COMPLEX_WORDS=syllable_count(content)\n",
    "print(\"Complex Words\",COMPLEX_WORDS)\n",
    "#Word Count\n",
    "Word_Count=len(content)\n",
    "print(\"Word Count\",Word_Count)\n",
    "#Percentage Complex Words\n",
    "pcw=(COMPLEX_WORDS/Word_Count)*100\n",
    "print(\"Percentage of Complex Words\",pcw)\n",
    "#Average Word Length\n",
    "Average_Word_Length=len(content.replace(' ',''))/len(content.split())\n",
    "print(\"Average Word per Length\",Average_Word_Length)\n",
    "#Syllable Count Per Word\n",
    "word=content.replace(' ','')\n",
    "syllable_count=0\n",
    "for w in word:\n",
    "      if(w=='a' or w=='e' or w=='i' or w=='o' or w=='y' or w=='u' or w=='A' or w=='E' or w=='I' or w=='O' or w=='U' or w=='Y'):\n",
    "            syllable_count=syllable_count+1\n",
    "print(\"The AVG number of syllables in the word is: \")\n",
    "syllable = (syllable_count/len(content.split()))\n",
    "print(syllable)\n",
    "\n",
    "data = [[url,title,content,filter_content,Positive_score,Negative_score,AVG_SENTENCE_LENGTH,pcw,FOG_INDEX,\n",
    "         AVG_NUMBER_OF_WORDS_PER_SENTENCE,COMPLEX_WORDS,Word_Count,syllable,Average_Word_Length]]\n",
    "data=pd.DataFrame(data,columns=[\"url\",\"title\",\"content\",\"filter_content\",\"Positive_Score\",\"Negative_Score\",\"Avg_Sentence_Length\"\n",
    "                               ,\"Percentage_Complex_Word\",\"Fog_Index\",\" AVG_NUMBER_OF_WORDS_PER_SENTENCE\",\"COMPLEX_WORDS\",\n",
    "                               \"Word_Count\",\"syllable\",\"Average_Word_Length\"])\n",
    "from textblob import TextBlob\n",
    "# Get The Subjectivity\n",
    "def sentiment_analysis(data):\n",
    "    sentiment = TextBlob(data[\"content\"]).sentiment\n",
    "    return pd.Series([sentiment.polarity,sentiment.subjectivity ])\n",
    "data[[\"polarity\", \"subjectivity\"]] = data.apply(sentiment_analysis, axis=1)\n",
    "data"
   ]
  },
  {
   "cell_type": "code",
   "execution_count": 3,
   "id": "2b1149ed",
   "metadata": {},
   "outputs": [],
   "source": [
    "data.to_csv(r'C:\\Users\\Om Bhandwalkar\\Desktop\\BlackCoffer Assignment\\Output\\url_104.csv')"
   ]
  },
  {
   "cell_type": "code",
   "execution_count": null,
   "id": "4c553d6f",
   "metadata": {},
   "outputs": [],
   "source": []
  }
 ],
 "metadata": {
  "kernelspec": {
   "display_name": "Python 3 (ipykernel)",
   "language": "python",
   "name": "python3"
  },
  "language_info": {
   "codemirror_mode": {
    "name": "ipython",
    "version": 3
   },
   "file_extension": ".py",
   "mimetype": "text/x-python",
   "name": "python",
   "nbconvert_exporter": "python",
   "pygments_lexer": "ipython3",
   "version": "3.9.12"
  }
 },
 "nbformat": 4,
 "nbformat_minor": 5
}
