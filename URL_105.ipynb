{
 "cells": [
  {
   "cell_type": "code",
   "execution_count": 1,
   "id": "72461153",
   "metadata": {},
   "outputs": [
    {
     "data": {
      "text/plain": [
       "'Impact of COVID-19 pandemic on office space and co-working industries.'"
      ]
     },
     "execution_count": 1,
     "metadata": {},
     "output_type": "execute_result"
    }
   ],
   "source": [
    "import requests\n",
    "import pandas as pd \n",
    "from bs4 import BeautifulSoup\n",
    "import string\n",
    "import spacy\n",
    "import re\n",
    "url = \"\"\"https://insights.blackcoffer.com/impact-of-covid-19-pandemic-on-office-space-and-co-working-industries/\"\"\"\n",
    "headers = {\"User-Agent\": \"Mozilla/5.0 (X11; Linux x86_64; rv:60.0) Gecko/20100101 Firefox/60.0\"}\n",
    "page = requests.get(url, headers=headers)\n",
    "soup = BeautifulSoup(page.content, 'html.parser')\n",
    "soup=BeautifulSoup(page.content, 'html.parser')\n",
    "title=soup.find('h1',class_=\"entry-title\")\n",
    "title=title.text.replace('\\n',\" \")\n",
    "title\n"
   ]
  },
  {
   "cell_type": "code",
   "execution_count": 2,
   "id": "93296301",
   "metadata": {},
   "outputs": [
    {
     "name": "stdout",
     "output_type": "stream",
     "text": [
      " COVID 19 has bought the world to its knees. With businesses being shut, travel being banned, schools, and colleges being closed, we have observed an impeccable amount of sorrow and despise along with a great amount of mental torture and destruction. Though situations are improving now, and the lockdowns are being lifted, it is a fact that it cannot be shunned that this virus will have a long term impact on people, and the effects will not only be felt economically and physically but also mentally. We’ve been reading articles regarding the impact of COVID 19 on the economy, education, mental health, and every other possible aspect. But one topic which has not been talked about much is the impact of COVID 19 on office space and co-working industries. Well, it is quite obvious that offices will start functioning now, but, the COVID period hasn’t ended. This means that social distancing will also have to be followed in offices; where it will be a problem to do so because of the lack of adequate infrastructure and space. The same will be the condition in co-working industries, wherein employees of different companies come and work together under the same roof. However, these problems are quite obvious (though people haven’t thought about them much), but the fact which people fail to notice and understand is that the meaning of space is not only limited to infrastructural space which is measured in square foot or square meters; but it also extends to metal space, or for that fact, space in the minds of people for others and their thoughts as well as opinions. Coronavirus has left a big scratch in our country; just the way a car needs repair after an accident, our country will also need repair after the control of this virus. But, unlike a car, our country will require a large amount of time to get restored and to stand straight without any support. Needless to say, the economic stability of our country will definitely be hit because of this reason. But the problem is since the earnings of the employers will reduce, it will subsequently lead to a drop in the salary of the employees. While some employees might be preferred by their bosses and may receive a raise regularly, others might be subjected to unfair treatment and made to do the same amount of work for a lower salary. People tend to overlook the thin line which exists between cooperation and competition. The problem doesn’t arise when such a situation happens wherein an employee is getting paid more than the other, but instead, it arises when people start to compare their earnings as well as benefits to that of others. And in today’s world, where people keep money at the top of their priority list, comparisons will play a very important role in the performance of employees and their company. Since there will exist inequalities and partialities in companies, there will also exist a sense of hatred and competition among the employees of the same company; who will compete to get a better position or a raise in their salary. This may seem beneficial to some as it might compel the employees to work harder and better, but however, will bring huge losses in the long run. The fact is; employees might end up doing unethical acts which will help them to make a better impression in their boss’s eyes. Moreover, since there will be comparisons among the employees, it might happen that the ‘Employee of the Month’ ends up being hated by all other employees in the company. Another situation that might arise is that of bluffing and pretending; wherein employees tend to show that they work very hard but they don’t. This might be practiced by showing the boss that they are working when he is on around, and then chilling the rest of the time when the boss goes home or sits in his office. In fact, employees might also lose interest in working if they sense repeated partialities and inequalities; which they might show by quitting the jobs or not performing to their best. Such situations will definitely arise in companies and offices; wherein employees will compete for attention and resources; which will have a great impact on the company and its functioning. And all this will happen because of only one thing; lack of office mental space i.e. space in the minds of people working together in a particular office for cooperation and teamwork, along with ignorance of the fact that things will get better and eventually the same after some time. Another kind of industry and companies that will be affected due to the long-lasting impact of COVID 19 is the co-working industry and offices. This is because, there will be a shortage of resources and the income of people, but the maintenance cost to be born for the infrastructure, as well the rent will remain the same. Because of this, employees will be told by the company owners to exploit the resources present in the offices and use them to the fullest; to compensate for the losses being born and to make better use of the money being used. However, the number of resources will be the same, and so, there will be a case of competition between employees of different companies to use resources and take benefits of the same. If the above two situations happen to occur at the same time (which they most likely will), we will observe a scene of intra-company as well as inter-company competition. Also, our personal relations with other employees in the company might also be affected due to this comparison and competition; which itself will be a result of limited mental space. COVID 19 will have severe impacts on the office (mental) space of companies and people.  People’s thoughts, how they treat others, along with accepting defeat and rejection will be an important aspect of everyone’s lives. Moreover, we might also observe a shoot in the intensity and frequency of office people going to psychologists; because of repeated rejection and unfair treatment. However, we need to cope with this thing and realize that it is indeed very important for us to start preparing to expand our mental space and that this competition and comparison will not stay for long and should not affect our personal relations and life at any cost. Blackcoffer Insights 18: Archit Khandelwal, Shishukunj International School, Indore \n",
      " COVID 19 has bought the world to its knees With businesses being shut travel being banned schools and colleges being closed we have observed an impeccable amount of sorrow and despise along with a great amount of mental torture and destruction Though situations are improving now and the lockdowns are being lifted it is a fact that it cannot be shunned that this virus will have a long term impact on people and the effects will not only be felt economically and physically but also mentally We’ve been reading articles regarding the impact of COVID 19 on the economy education mental health and every other possible aspect But one topic which has not been talked about much is the impact of COVID 19 on office space and coworking industries Well it is quite obvious that offices will start functioning now but the COVID period hasn’t ended This means that social distancing will also have to be followed in offices where it will be a problem to do so because of the lack of adequate infrastructure and space The same will be the condition in coworking industries wherein employees of different companies come and work together under the same roof However these problems are quite obvious though people haven’t thought about them much but the fact which people fail to notice and understand is that the meaning of space is not only limited to infrastructural space which is measured in square foot or square meters but it also extends to metal space or for that fact space in the minds of people for others and their thoughts as well as opinions Coronavirus has left a big scratch in our country just the way a car needs repair after an accident our country will also need repair after the control of this virus But unlike a car our country will require a large amount of time to get restored and to stand straight without any support Needless to say the economic stability of our country will definitely be hit because of this reason But the problem is since the earnings of the employers will reduce it will subsequently lead to a drop in the salary of the employees While some employees might be preferred by their bosses and may receive a raise regularly others might be subjected to unfair treatment and made to do the same amount of work for a lower salary People tend to overlook the thin line which exists between cooperation and competition The problem doesn’t arise when such a situation happens wherein an employee is getting paid more than the other but instead it arises when people start to compare their earnings as well as benefits to that of others And in today’s world where people keep money at the top of their priority list comparisons will play a very important role in the performance of employees and their company Since there will exist inequalities and partialities in companies there will also exist a sense of hatred and competition among the employees of the same company who will compete to get a better position or a raise in their salary This may seem beneficial to some as it might compel the employees to work harder and better but however will bring huge losses in the long run The fact is employees might end up doing unethical acts which will help them to make a better impression in their boss’s eyes Moreover since there will be comparisons among the employees it might happen that the ‘Employee of the Month’ ends up being hated by all other employees in the company Another situation that might arise is that of bluffing and pretending wherein employees tend to show that they work very hard but they don’t This might be practiced by showing the boss that they are working when he is on around and then chilling the rest of the time when the boss goes home or sits in his office In fact employees might also lose interest in working if they sense repeated partialities and inequalities which they might show by quitting the jobs or not performing to their best Such situations will definitely arise in companies and offices wherein employees will compete for attention and resources which will have a great impact on the company and its functioning And all this will happen because of only one thing lack of office mental space ie space in the minds of people working together in a particular office for cooperation and teamwork along with ignorance of the fact that things will get better and eventually the same after some time Another kind of industry and companies that will be affected due to the longlasting impact of COVID 19 is the coworking industry and offices This is because there will be a shortage of resources and the income of people but the maintenance cost to be born for the infrastructure as well the rent will remain the same Because of this employees will be told by the company owners to exploit the resources present in the offices and use them to the fullest to compensate for the losses being born and to make better use of the money being used However the number of resources will be the same and so there will be a case of competition between employees of different companies to use resources and take benefits of the same If the above two situations happen to occur at the same time which they most likely will we will observe a scene of intracompany as well as intercompany competition Also our personal relations with other employees in the company might also be affected due to this comparison and competition which itself will be a result of limited mental space COVID 19 will have severe impacts on the office mental space of companies and people  People’s thoughts how they treat others along with accepting defeat and rejection will be an important aspect of everyone’s lives Moreover we might also observe a shoot in the intensity and frequency of office people going to psychologists because of repeated rejection and unfair treatment However we need to cope with this thing and realize that it is indeed very important for us to start preparing to expand our mental space and that this competition and comparison will not stay for long and should not affect our personal relations and life at any cost Blackcoffer Insights 18 Archit Khandelwal Shishukunj International School Indore \n",
      "['COVID', '19', 'has', 'bought', 'the', 'world', 'to', 'its', 'knees', 'With', 'businesses', 'being', 'shut', 'travel', 'being', 'banned', 'schools', 'and', 'colleges', 'being', 'closed', 'we', 'have', 'observed', 'an', 'impeccable', 'amount', 'of', 'sorrow', 'and', 'despise', 'along', 'with', 'a', 'great', 'amount', 'of', 'mental', 'torture', 'and', 'destruction', 'Though', 'situations', 'are', 'improving', 'now', 'and', 'the', 'lockdowns', 'are', 'being', 'lifted', 'it', 'is', 'a', 'fact', 'that', 'it', 'cannot', 'be', 'shunned', 'that', 'this', 'virus', 'will', 'have', 'a', 'long', 'term', 'impact', 'on', 'people', 'and', 'the', 'effects', 'will', 'not', 'only', 'be', 'felt', 'economically', 'and', 'physically', 'but', 'also', 'mentally', 'We’ve', 'been', 'reading', 'articles', 'regarding', 'the', 'impact', 'of', 'COVID', '19', 'on', 'the', 'economy', 'education', 'mental', 'health', 'and', 'every', 'other', 'possible', 'aspect', 'But', 'one', 'topic', 'which', 'has', 'not', 'been', 'talked', 'about', 'much', 'is', 'the', 'impact', 'of', 'COVID', '19', 'on', 'office', 'space', 'and', 'coworking', 'industries', 'Well', 'it', 'is', 'quite', 'obvious', 'that', 'offices', 'will', 'start', 'functioning', 'now', 'but', 'the', 'COVID', 'period', 'hasn’t', 'ended', 'This', 'means', 'that', 'social', 'distancing', 'will', 'also', 'have', 'to', 'be', 'followed', 'in', 'offices', 'where', 'it', 'will', 'be', 'a', 'problem', 'to', 'do', 'so', 'because', 'of', 'the', 'lack', 'of', 'adequate', 'infrastructure', 'and', 'space', 'The', 'same', 'will', 'be', 'the', 'condition', 'in', 'coworking', 'industries', 'wherein', 'employees', 'of', 'different', 'companies', 'come', 'and', 'work', 'together', 'under', 'the', 'same', 'roof', 'However', 'these', 'problems', 'are', 'quite', 'obvious', 'though', 'people', 'haven’t', 'thought', 'about', 'them', 'much', 'but', 'the', 'fact', 'which', 'people', 'fail', 'to', 'notice', 'and', 'understand', 'is', 'that', 'the', 'meaning', 'of', 'space', 'is', 'not', 'only', 'limited', 'to', 'infrastructural', 'space', 'which', 'is', 'measured', 'in', 'square', 'foot', 'or', 'square', 'meters', 'but', 'it', 'also', 'extends', 'to', 'metal', 'space', 'or', 'for', 'that', 'fact', 'space', 'in', 'the', 'minds', 'of', 'people', 'for', 'others', 'and', 'their', 'thoughts', 'as', 'well', 'as', 'opinions', 'Coronavirus', 'has', 'left', 'a', 'big', 'scratch', 'in', 'our', 'country', 'just', 'the', 'way', 'a', 'car', 'needs', 'repair', 'after', 'an', 'accident', 'our', 'country', 'will', 'also', 'need', 'repair', 'after', 'the', 'control', 'of', 'this', 'virus', 'But', 'unlike', 'a', 'car', 'our', 'country', 'will', 'require', 'a', 'large', 'amount', 'of', 'time', 'to', 'get', 'restored', 'and', 'to', 'stand', 'straight', 'without', 'any', 'support', 'Needless', 'to', 'say', 'the', 'economic', 'stability', 'of', 'our', 'country', 'will', 'definitely', 'be', 'hit', 'because', 'of', 'this', 'reason', 'But', 'the', 'problem', 'is', 'since', 'the', 'earnings', 'of', 'the', 'employers', 'will', 'reduce', 'it', 'will', 'subsequently', 'lead', 'to', 'a', 'drop', 'in', 'the', 'salary', 'of', 'the', 'employees', 'While', 'some', 'employees', 'might', 'be', 'preferred', 'by', 'their', 'bosses', 'and', 'may', 'receive', 'a', 'raise', 'regularly', 'others', 'might', 'be', 'subjected', 'to', 'unfair', 'treatment', 'and', 'made', 'to', 'do', 'the', 'same', 'amount', 'of', 'work', 'for', 'a', 'lower', 'salary', 'People', 'tend', 'to', 'overlook', 'the', 'thin', 'line', 'which', 'exists', 'between', 'cooperation', 'and', 'competition', 'The', 'problem', 'doesn’t', 'arise', 'when', 'such', 'a', 'situation', 'happens', 'wherein', 'an', 'employee', 'is', 'getting', 'paid', 'more', 'than', 'the', 'other', 'but', 'instead', 'it', 'arises', 'when', 'people', 'start', 'to', 'compare', 'their', 'earnings', 'as', 'well', 'as', 'benefits', 'to', 'that', 'of', 'others', 'And', 'in', 'today’s', 'world', 'where', 'people', 'keep', 'money', 'at', 'the', 'top', 'of', 'their', 'priority', 'list', 'comparisons', 'will', 'play', 'a', 'very', 'important', 'role', 'in', 'the', 'performance', 'of', 'employees', 'and', 'their', 'company', 'Since', 'there', 'will', 'exist', 'inequalities', 'and', 'partialities', 'in', 'companies', 'there', 'will', 'also', 'exist', 'a', 'sense', 'of', 'hatred', 'and', 'competition', 'among', 'the', 'employees', 'of', 'the', 'same', 'company', 'who', 'will', 'compete', 'to', 'get', 'a', 'better', 'position', 'or', 'a', 'raise', 'in', 'their', 'salary', 'This', 'may', 'seem', 'beneficial', 'to', 'some', 'as', 'it', 'might', 'compel', 'the', 'employees', 'to', 'work', 'harder', 'and', 'better', 'but', 'however', 'will', 'bring', 'huge', 'losses', 'in', 'the', 'long', 'run', 'The', 'fact', 'is', 'employees', 'might', 'end', 'up', 'doing', 'unethical', 'acts', 'which', 'will', 'help', 'them', 'to', 'make', 'a', 'better', 'impression', 'in', 'their', 'boss’s', 'eyes', 'Moreover', 'since', 'there', 'will', 'be', 'comparisons', 'among', 'the', 'employees', 'it', 'might', 'happen', 'that', 'the', '‘Employee', 'of', 'the', 'Month’', 'ends', 'up', 'being', 'hated', 'by', 'all', 'other', 'employees', 'in', 'the', 'company', 'Another', 'situation', 'that', 'might', 'arise', 'is', 'that', 'of', 'bluffing', 'and', 'pretending', 'wherein', 'employees', 'tend', 'to', 'show', 'that', 'they', 'work', 'very', 'hard', 'but', 'they', 'don’t', 'This', 'might', 'be', 'practiced', 'by', 'showing', 'the', 'boss', 'that', 'they', 'are', 'working', 'when', 'he', 'is', 'on', 'around', 'and', 'then', 'chilling', 'the', 'rest', 'of', 'the', 'time', 'when', 'the', 'boss', 'goes', 'home', 'or', 'sits', 'in', 'his', 'office', 'In', 'fact', 'employees', 'might', 'also', 'lose', 'interest', 'in', 'working', 'if', 'they', 'sense', 'repeated', 'partialities', 'and', 'inequalities', 'which', 'they', 'might', 'show', 'by', 'quitting', 'the', 'jobs', 'or', 'not', 'performing', 'to', 'their', 'best', 'Such', 'situations', 'will', 'definitely', 'arise', 'in', 'companies', 'and', 'offices', 'wherein', 'employees', 'will', 'compete', 'for', 'attention', 'and', 'resources', 'which', 'will', 'have', 'a', 'great', 'impact', 'on', 'the', 'company', 'and', 'its', 'functioning', 'And', 'all', 'this', 'will', 'happen', 'because', 'of', 'only', 'one', 'thing', 'lack', 'of', 'office', 'mental', 'space', 'ie', 'space', 'in', 'the', 'minds', 'of', 'people', 'working', 'together', 'in', 'a', 'particular', 'office', 'for', 'cooperation', 'and', 'teamwork', 'along', 'with', 'ignorance', 'of', 'the', 'fact', 'that', 'things', 'will', 'get', 'better', 'and', 'eventually', 'the', 'same', 'after', 'some', 'time', 'Another', 'kind', 'of', 'industry', 'and', 'companies', 'that', 'will', 'be', 'affected', 'due', 'to', 'the', 'longlasting', 'impact', 'of', 'COVID', '19', 'is', 'the', 'coworking', 'industry', 'and', 'offices', 'This', 'is', 'because', 'there', 'will', 'be', 'a', 'shortage', 'of', 'resources', 'and', 'the', 'income', 'of', 'people', 'but', 'the', 'maintenance', 'cost', 'to', 'be', 'born', 'for', 'the', 'infrastructure', 'as', 'well', 'the', 'rent', 'will', 'remain', 'the', 'same', 'Because', 'of', 'this', 'employees', 'will', 'be', 'told', 'by', 'the', 'company', 'owners', 'to', 'exploit', 'the', 'resources', 'present', 'in', 'the', 'offices', 'and', 'use', 'them', 'to', 'the', 'fullest', 'to', 'compensate', 'for', 'the', 'losses', 'being', 'born', 'and', 'to', 'make', 'better', 'use', 'of', 'the', 'money', 'being', 'used', 'However', 'the', 'number', 'of', 'resources', 'will', 'be', 'the', 'same', 'and', 'so', 'there', 'will', 'be', 'a', 'case', 'of', 'competition', 'between', 'employees', 'of', 'different', 'companies', 'to', 'use', 'resources', 'and', 'take', 'benefits', 'of', 'the', 'same', 'If', 'the', 'above', 'two', 'situations', 'happen', 'to', 'occur', 'at', 'the', 'same', 'time', 'which', 'they', 'most', 'likely', 'will', 'we', 'will', 'observe', 'a', 'scene', 'of', 'intracompany', 'as', 'well', 'as', 'intercompany', 'competition', 'Also', 'our', 'personal', 'relations', 'with', 'other', 'employees', 'in', 'the', 'company', 'might', 'also', 'be', 'affected', 'due', 'to', 'this', 'comparison', 'and', 'competition', 'which', 'itself', 'will', 'be', 'a', 'result', 'of', 'limited', 'mental', 'space', 'COVID', '19', 'will', 'have', 'severe', 'impacts', 'on', 'the', 'office', 'mental', 'space', 'of', 'companies', 'and', 'people', 'People’s', 'thoughts', 'how', 'they', 'treat', 'others', 'along', 'with', 'accepting', 'defeat', 'and', 'rejection', 'will', 'be', 'an', 'important', 'aspect', 'of', 'everyone’s', 'lives', 'Moreover', 'we', 'might', 'also', 'observe', 'a', 'shoot', 'in', 'the', 'intensity', 'and', 'frequency', 'of', 'office', 'people', 'going', 'to', 'psychologists', 'because', 'of', 'repeated', 'rejection', 'and', 'unfair', 'treatment', 'However', 'we', 'need', 'to', 'cope', 'with', 'this', 'thing', 'and', 'realize', 'that', 'it', 'is', 'indeed', 'very', 'important', 'for', 'us', 'to', 'start', 'preparing', 'to', 'expand', 'our', 'mental', 'space', 'and', 'that', 'this', 'competition', 'and', 'comparison', 'will', 'not', 'stay', 'for', 'long', 'and', 'should', 'not', 'affect', 'our', 'personal', 'relations', 'and', 'life', 'at', 'any', 'cost', 'Blackcoffer', 'Insights', '18', 'Archit', 'Khandelwal', 'Shishukunj', 'International', 'School', 'Indore']\n"
     ]
    }
   ],
   "source": [
    "content=soup.findAll(attrs={'class':'td-post-content'})\n",
    "content=content[0].text.replace('\\n',\" \")\n",
    "print(content)\n",
    "#Punctuation\n",
    "content = content.translate(str.maketrans('', '', string.punctuation)) \n",
    "print(content)\n",
    "text = content.split()\n",
    "print(text)\n"
   ]
  },
  {
   "cell_type": "code",
   "execution_count": 3,
   "id": "cde4070d",
   "metadata": {},
   "outputs": [
    {
     "data": {
      "text/plain": [
       "1077"
      ]
     },
     "execution_count": 3,
     "metadata": {},
     "output_type": "execute_result"
    }
   ],
   "source": [
    "len(text)"
   ]
  },
  {
   "cell_type": "code",
   "execution_count": 4,
   "id": "a62f22bf",
   "metadata": {},
   "outputs": [
    {
     "name": "stdout",
     "output_type": "stream",
     "text": [
      "31\n"
     ]
    }
   ],
   "source": [
    "#Positive Score \n",
    "with open(r\"C:\\Users\\Om Bhandwalkar\\Desktop\\pos\\positive-words.txt\") as pos:\n",
    "    poswords = pos.read().split(\"\\n\")  \n",
    "    poswords = poswords[5:]\n",
    "pos_count = \" \".join ([w for w in text if w in poswords])\n",
    "pos_count=pos_count.split(\" \")\n",
    "Positive_score=len(pos_count)\n",
    "print(Positive_score)"
   ]
  },
  {
   "cell_type": "code",
   "execution_count": 5,
   "id": "f8d4d7c8",
   "metadata": {},
   "outputs": [
    {
     "name": "stdout",
     "output_type": "stream",
     "text": [
      "34\n"
     ]
    }
   ],
   "source": [
    "#Negative Score\n",
    "with open(r\"C:\\Users\\Om Bhandwalkar\\Desktop\\pos\\negative-words.txt\",encoding =\"ISO-8859-1\") as neg:\n",
    "    negwords = neg.read().split(\"\\n\")\n",
    "    \n",
    "negwords = negwords[36:]\n",
    "neg_count = \" \".join ([w for w in text if w in negwords])\n",
    "neg_count=neg_count.split(\" \")\n",
    "Negative_score=len(neg_count)\n",
    "print(Negative_score)"
   ]
  },
  {
   "cell_type": "code",
   "execution_count": 6,
   "id": "febc71b5",
   "metadata": {},
   "outputs": [
    {
     "data": {
      "text/html": [
       "<div>\n",
       "<style scoped>\n",
       "    .dataframe tbody tr th:only-of-type {\n",
       "        vertical-align: middle;\n",
       "    }\n",
       "\n",
       "    .dataframe tbody tr th {\n",
       "        vertical-align: top;\n",
       "    }\n",
       "\n",
       "    .dataframe thead th {\n",
       "        text-align: right;\n",
       "    }\n",
       "</style>\n",
       "<table border=\"1\" class=\"dataframe\">\n",
       "  <thead>\n",
       "    <tr style=\"text-align: right;\">\n",
       "      <th></th>\n",
       "      <th>url</th>\n",
       "      <th>title</th>\n",
       "      <th>content</th>\n",
       "      <th>filter_content</th>\n",
       "      <th>Positive_Score</th>\n",
       "      <th>Negative_Score</th>\n",
       "      <th>polarity</th>\n",
       "      <th>subjectivity</th>\n",
       "    </tr>\n",
       "  </thead>\n",
       "  <tbody>\n",
       "    <tr>\n",
       "      <th>0</th>\n",
       "      <td>https://insights.blackcoffer.com/impact-of-cov...</td>\n",
       "      <td>Impact of COVID-19 pandemic on office space an...</td>\n",
       "      <td>COVID 19 has bought the world to its knees Wi...</td>\n",
       "      <td>COVID 19 has bought the world to its knees Wit...</td>\n",
       "      <td>31</td>\n",
       "      <td>34</td>\n",
       "      <td>0.064135</td>\n",
       "      <td>0.436007</td>\n",
       "    </tr>\n",
       "  </tbody>\n",
       "</table>\n",
       "</div>"
      ],
      "text/plain": [
       "                                                 url  \\\n",
       "0  https://insights.blackcoffer.com/impact-of-cov...   \n",
       "\n",
       "                                               title  \\\n",
       "0  Impact of COVID-19 pandemic on office space an...   \n",
       "\n",
       "                                             content  \\\n",
       "0   COVID 19 has bought the world to its knees Wi...   \n",
       "\n",
       "                                      filter_content  Positive_Score  \\\n",
       "0  COVID 19 has bought the world to its knees Wit...              31   \n",
       "\n",
       "   Negative_Score  polarity  subjectivity  \n",
       "0              34  0.064135      0.436007  "
      ]
     },
     "execution_count": 6,
     "metadata": {},
     "output_type": "execute_result"
    }
   ],
   "source": [
    "filter_content = ' '.join(text)\n",
    "data=[[url,title,content,filter_content,Positive_score,Negative_score]]\n",
    "data=pd.DataFrame(data,columns=[\"url\",\"title\",\"content\",\"filter_content\",\"Positive_Score\",\"Negative_Score\"])\n",
    "from textblob import TextBlob\n",
    "# Get The Subjectivity\n",
    "def sentiment_analysis(data):\n",
    "    sentiment = TextBlob(data[\"content\"]).sentiment\n",
    "    return pd.Series([sentiment.polarity,sentiment.subjectivity ])\n",
    "\n",
    "# Adding Subjectivity & Polarity\n",
    "data[[\"polarity\", \"subjectivity\"]] = data.apply(sentiment_analysis, axis=1)\n",
    "\n",
    "data"
   ]
  },
  {
   "cell_type": "code",
   "execution_count": 7,
   "id": "f709c6a6",
   "metadata": {},
   "outputs": [
    {
     "name": "stdout",
     "output_type": "stream",
     "text": [
      "Word average = 5087.0\n",
      "FOG INDEX =  433.59\n",
      "Average no of words per sentence\n",
      "1077.0\n",
      "Complex Words 1771\n"
     ]
    }
   ],
   "source": [
    "#AVG SENTENCE LENGTH\n",
    "AVG_SENTENCE_LENGTH = len(content.replace(' ',''))/len(re.split(r'[?!.]', content))\n",
    "print('Word average =', AVG_SENTENCE_LENGTH)\n",
    "import textstat\n",
    "#Fog index \n",
    "FOG_INDEX=(textstat.gunning_fog(content))\n",
    "print(\"FOG INDEX = \",FOG_INDEX)\n",
    "#Average No of Words Per Sentence \n",
    "AVG_NUMBER_OF_WORDS_PER_SENTENCE = [len(l.split()) for l in re.split(r'[?!.]', content) if l.strip()]\n",
    "print(\"Average no of words per sentence\")\n",
    "AVG_NUMBER_OF_WORDS_PER_SENTENCE=print(sum(AVG_NUMBER_OF_WORDS_PER_SENTENCE)/len(AVG_NUMBER_OF_WORDS_PER_SENTENCE))\n",
    "#Complex words\n",
    "def syllable_count(word):\n",
    "    count = 0\n",
    "    vowels = \"AEIOUYaeiouy\"\n",
    "    if word[0] in vowels:\n",
    "        count += 1\n",
    "    for index in range(1, len(word)): \n",
    "        if word[index] in vowels and word[index - 1] not in vowels:\n",
    "            count += 1\n",
    "            if word.endswith(\"es\"or \"ed\"):\n",
    "                count -= 1\n",
    "    if count == 0:\n",
    "        count += 1\n",
    "    return count\n",
    "\n",
    "\n",
    "\n",
    "COMPLEX_WORDS=syllable_count(content)\n",
    "print(\"Complex Words\",COMPLEX_WORDS)\n"
   ]
  },
  {
   "cell_type": "code",
   "execution_count": 8,
   "id": "4e93a480",
   "metadata": {},
   "outputs": [
    {
     "name": "stdout",
     "output_type": "stream",
     "text": [
      "Word Count 6165\n",
      "Percentage of Complex Words 28.72668288726683\n",
      "Average Word per Length 4.72330547818013\n",
      "The AVG number of syllables in the word is: \n",
      "1.8932219127205199\n",
      "Word Count 6165\n",
      "Percentage of Complex Words 28.72668288726683\n",
      "Average Word per Length 4.72330547818013\n",
      "The AVG number of syllables in the word is: \n",
      "1.8932219127205199\n"
     ]
    }
   ],
   "source": [
    "#Word Count\n",
    "Word_Count=len(content)\n",
    "print(\"Word Count\",Word_Count)\n",
    "#Percentage Complex Words\n",
    "pcw=(COMPLEX_WORDS/Word_Count)*100\n",
    "print(\"Percentage of Complex Words\",pcw)\n",
    "#Average Word Length\n",
    "Average_Word_Length=len(content.replace(' ',''))/len(content.split())\n",
    "print(\"Average Word per Length\",Average_Word_Length)\n",
    "#Syllable Count Per Word\n",
    "word=content.replace(' ','')\n",
    "syllable_count=0\n",
    "for w in word:\n",
    "      if(w=='a' or w=='e' or w=='i' or w=='o' or w=='y' or w=='u' or w=='A' or w=='E' or w=='I' or w=='O' or w=='U' or w=='Y'):\n",
    "            syllable_count=syllable_count+1\n",
    "print(\"The AVG number of syllables in the word is: \")\n",
    "print(syllable_count/len(content.split()))#Word Count\n",
    "Word_Count=len(content)\n",
    "print(\"Word Count\",Word_Count)\n",
    "#Percentage Complex Words\n",
    "pcw=(COMPLEX_WORDS/Word_Count)*100\n",
    "print(\"Percentage of Complex Words\",pcw)\n",
    "#Average Word Length\n",
    "Average_Word_Length=len(content.replace(' ',''))/len(content.split())\n",
    "print(\"Average Word per Length\",Average_Word_Length)\n",
    "#Syllable Count Per Word\n",
    "word=content.replace(' ','')\n",
    "syllable_count=0\n",
    "for w in word:\n",
    "      if(w=='a' or w=='e' or w=='i' or w=='o' or w=='y' or w=='u' or w=='A' or w=='E' or w=='I' or w=='O' or w=='U' or w=='Y'):\n",
    "            syllable_count=syllable_count+1\n",
    "print(\"The AVG number of syllables in the word is: \")\n",
    "print(syllable_count/len(content.split()))"
   ]
  },
  {
   "cell_type": "code",
   "execution_count": 1,
   "id": "72778d76",
   "metadata": {},
   "outputs": [
    {
     "name": "stdout",
     "output_type": "stream",
     "text": [
      "31\n",
      "34\n",
      "Word average = 5087.0\n",
      "FOG INDEX =  433.59\n",
      "Average no of words per sentence\n",
      "1077.0\n",
      "Complex Words 1771\n",
      "Word Count 6165\n",
      "Percentage of Complex Words 28.72668288726683\n",
      "Average Word per Length 4.72330547818013\n",
      "The AVG number of syllables in the word is: \n",
      "1.8932219127205199\n"
     ]
    },
    {
     "data": {
      "text/html": [
       "<div>\n",
       "<style scoped>\n",
       "    .dataframe tbody tr th:only-of-type {\n",
       "        vertical-align: middle;\n",
       "    }\n",
       "\n",
       "    .dataframe tbody tr th {\n",
       "        vertical-align: top;\n",
       "    }\n",
       "\n",
       "    .dataframe thead th {\n",
       "        text-align: right;\n",
       "    }\n",
       "</style>\n",
       "<table border=\"1\" class=\"dataframe\">\n",
       "  <thead>\n",
       "    <tr style=\"text-align: right;\">\n",
       "      <th></th>\n",
       "      <th>url</th>\n",
       "      <th>title</th>\n",
       "      <th>content</th>\n",
       "      <th>filter_content</th>\n",
       "      <th>Positive_Score</th>\n",
       "      <th>Negative_Score</th>\n",
       "      <th>Avg_Sentence_Length</th>\n",
       "      <th>Percentage_Complex_Word</th>\n",
       "      <th>Fog_Index</th>\n",
       "      <th>AVG_NUMBER_OF_WORDS_PER_SENTENCE</th>\n",
       "      <th>COMPLEX_WORDS</th>\n",
       "      <th>Word_Count</th>\n",
       "      <th>syllable</th>\n",
       "      <th>Average_Word_Length</th>\n",
       "      <th>polarity</th>\n",
       "      <th>subjectivity</th>\n",
       "    </tr>\n",
       "  </thead>\n",
       "  <tbody>\n",
       "    <tr>\n",
       "      <th>0</th>\n",
       "      <td>https://insights.blackcoffer.com/impact-of-cov...</td>\n",
       "      <td>Impact of COVID-19 pandemic on office space an...</td>\n",
       "      <td>COVID 19 has bought the world to its knees Wi...</td>\n",
       "      <td>COVID 19 has bought the world to its knees Wit...</td>\n",
       "      <td>31</td>\n",
       "      <td>34</td>\n",
       "      <td>5087.0</td>\n",
       "      <td>28.726683</td>\n",
       "      <td>433.59</td>\n",
       "      <td>1077.0</td>\n",
       "      <td>1771</td>\n",
       "      <td>6165</td>\n",
       "      <td>1.893222</td>\n",
       "      <td>4.723305</td>\n",
       "      <td>0.064135</td>\n",
       "      <td>0.436007</td>\n",
       "    </tr>\n",
       "  </tbody>\n",
       "</table>\n",
       "</div>"
      ],
      "text/plain": [
       "                                                 url  \\\n",
       "0  https://insights.blackcoffer.com/impact-of-cov...   \n",
       "\n",
       "                                               title  \\\n",
       "0  Impact of COVID-19 pandemic on office space an...   \n",
       "\n",
       "                                             content  \\\n",
       "0   COVID 19 has bought the world to its knees Wi...   \n",
       "\n",
       "                                      filter_content  Positive_Score  \\\n",
       "0  COVID 19 has bought the world to its knees Wit...              31   \n",
       "\n",
       "   Negative_Score  Avg_Sentence_Length  Percentage_Complex_Word  Fog_Index  \\\n",
       "0              34               5087.0                28.726683     433.59   \n",
       "\n",
       "    AVG_NUMBER_OF_WORDS_PER_SENTENCE  COMPLEX_WORDS  Word_Count  syllable  \\\n",
       "0                             1077.0           1771        6165  1.893222   \n",
       "\n",
       "   Average_Word_Length  polarity  subjectivity  \n",
       "0             4.723305  0.064135      0.436007  "
      ]
     },
     "execution_count": 1,
     "metadata": {},
     "output_type": "execute_result"
    }
   ],
   "source": [
    "import requests\n",
    "import pandas as pd \n",
    "from bs4 import BeautifulSoup\n",
    "import string\n",
    "import spacy\n",
    "import re\n",
    "url = \"\"\"https://insights.blackcoffer.com/impact-of-covid-19-pandemic-on-office-space-and-co-working-industries/\"\"\"\n",
    "headers = {\"User-Agent\": \"Mozilla/5.0 (X11; Linux x86_64; rv:60.0) Gecko/20100101 Firefox/60.0\"}\n",
    "page = requests.get(url, headers=headers)\n",
    "soup = BeautifulSoup(page.content, 'html.parser')\n",
    "soup=BeautifulSoup(page.content, 'html.parser')\n",
    "title=soup.find('h1',class_=\"entry-title\")\n",
    "title=title.text.replace('\\n',\" \")\n",
    "# title\n",
    "\n",
    "content=soup.findAll(attrs={'class':'td-post-content'})\n",
    "content=content[0].text.replace('\\n',\" \")\n",
    "# print(content)\n",
    "#Punctuation\n",
    "content = content.translate(str.maketrans('', '', string.punctuation)) \n",
    "# print(content)\n",
    "text = content.split()\n",
    "# print(text)\n",
    "len(text)\n",
    "#Positive Score \n",
    "with open(r\"C:\\Users\\Om Bhandwalkar\\Desktop\\pos\\positive-words.txt\") as pos:\n",
    "    poswords = pos.read().split(\"\\n\")  \n",
    "    poswords = poswords[5:]\n",
    "pos_count = \" \".join ([w for w in text if w in poswords])\n",
    "pos_count=pos_count.split(\" \")\n",
    "Positive_score=len(pos_count)\n",
    "print(Positive_score)\n",
    "\n",
    "#Negative Score\n",
    "with open(r\"C:\\Users\\Om Bhandwalkar\\Desktop\\pos\\negative-words.txt\",encoding =\"ISO-8859-1\") as neg:\n",
    "    negwords = neg.read().split(\"\\n\")\n",
    "    \n",
    "negwords = negwords[36:]\n",
    "neg_count = \" \".join ([w for w in text if w in negwords])\n",
    "neg_count=neg_count.split(\" \")\n",
    "Negative_score=len(neg_count)\n",
    "print(Negative_score)\n",
    "\n",
    "\n",
    "filter_content = ' '.join(text)\n",
    "data=[[url,title,content,filter_content,Positive_score,Negative_score]]\n",
    "data=pd.DataFrame(data,columns=[\"url\",\"title\",\"content\",\"filter_content\",\"Positive_Score\",\"Negative_Score\"])\n",
    "from textblob import TextBlob\n",
    "# Get The Subjectivity\n",
    "def sentiment_analysis(data):\n",
    "    sentiment = TextBlob(data[\"content\"]).sentiment\n",
    "    return pd.Series([sentiment.polarity,sentiment.subjectivity ])\n",
    "data[[\"polarity\", \"subjectivity\"]] = data.apply(sentiment_analysis, axis=1)\n",
    "data\n",
    "#AVG SENTENCE LENGTH\n",
    "AVG_SENTENCE_LENGTH = len(content.replace(' ',''))/len(re.split(r'[?!.]', content))\n",
    "print('Word average =', AVG_SENTENCE_LENGTH)\n",
    "import textstat\n",
    "#Fog index \n",
    "FOG_INDEX=(textstat.gunning_fog(content))\n",
    "print(\"FOG INDEX = \",FOG_INDEX)\n",
    "#Average No of Words Per Sentence \n",
    "AVG_NUMBER_OF_WORDS_PER_SENTENCE = [len(l.split()) for l in re.split(r'[?!.]', content) if l.strip()]\n",
    "print(\"Average no of words per sentence\")\n",
    "AVG_NUMBER_OF_WORDS_PER_SENTENCE=(sum(AVG_NUMBER_OF_WORDS_PER_SENTENCE)/len(AVG_NUMBER_OF_WORDS_PER_SENTENCE))\n",
    "print(AVG_NUMBER_OF_WORDS_PER_SENTENCE)\n",
    "#Complex words\n",
    "def syllable_count(word):\n",
    "    count = 0\n",
    "    vowels = \"AEIOUYaeiouy\"\n",
    "    if word[0] in vowels:\n",
    "        count += 1\n",
    "    for index in range(1, len(word)): \n",
    "        if word[index] in vowels and word[index - 1] not in vowels:\n",
    "            count += 1\n",
    "            if word.endswith(\"es\"or \"ed\"):\n",
    "                count -= 1\n",
    "    if count == 0:\n",
    "        count += 1\n",
    "    return count\n",
    "\n",
    "\n",
    "\n",
    "COMPLEX_WORDS=syllable_count(content)\n",
    "print(\"Complex Words\",COMPLEX_WORDS)\n",
    "#Word Count\n",
    "Word_Count=len(content)\n",
    "print(\"Word Count\",Word_Count)\n",
    "#Percentage Complex Words\n",
    "pcw=(COMPLEX_WORDS/Word_Count)*100\n",
    "print(\"Percentage of Complex Words\",pcw)\n",
    "#Average Word Length\n",
    "Average_Word_Length=len(content.replace(' ',''))/len(content.split())\n",
    "print(\"Average Word per Length\",Average_Word_Length)\n",
    "#Syllable Count Per Word\n",
    "word=content.replace(' ','')\n",
    "syllable_count=0\n",
    "for w in word:\n",
    "      if(w=='a' or w=='e' or w=='i' or w=='o' or w=='y' or w=='u' or w=='A' or w=='E' or w=='I' or w=='O' or w=='U' or w=='Y'):\n",
    "            syllable_count=syllable_count+1\n",
    "print(\"The AVG number of syllables in the word is: \")\n",
    "syllable = (syllable_count/len(content.split()))\n",
    "print(syllable)\n",
    "\n",
    "data = [[url,title,content,filter_content,Positive_score,Negative_score,AVG_SENTENCE_LENGTH,pcw,FOG_INDEX,\n",
    "         AVG_NUMBER_OF_WORDS_PER_SENTENCE,COMPLEX_WORDS,Word_Count,syllable,Average_Word_Length]]\n",
    "data=pd.DataFrame(data,columns=[\"url\",\"title\",\"content\",\"filter_content\",\"Positive_Score\",\"Negative_Score\",\"Avg_Sentence_Length\"\n",
    "                               ,\"Percentage_Complex_Word\",\"Fog_Index\",\" AVG_NUMBER_OF_WORDS_PER_SENTENCE\",\"COMPLEX_WORDS\",\n",
    "                               \"Word_Count\",\"syllable\",\"Average_Word_Length\"])\n",
    "from textblob import TextBlob\n",
    "# Get The Subjectivity\n",
    "def sentiment_analysis(data):\n",
    "    sentiment = TextBlob(data[\"content\"]).sentiment\n",
    "    return pd.Series([sentiment.polarity,sentiment.subjectivity ])\n",
    "data[[\"polarity\", \"subjectivity\"]] = data.apply(sentiment_analysis, axis=1)\n",
    "data"
   ]
  },
  {
   "cell_type": "code",
   "execution_count": 2,
   "id": "f832625e",
   "metadata": {},
   "outputs": [],
   "source": [
    "data.to_csv(r'C:\\Users\\Om Bhandwalkar\\Desktop\\BlackCoffer Assignment\\Output\\url_105.csv')"
   ]
  },
  {
   "cell_type": "code",
   "execution_count": null,
   "id": "cbfac5ce",
   "metadata": {},
   "outputs": [],
   "source": []
  }
 ],
 "metadata": {
  "kernelspec": {
   "display_name": "Python 3 (ipykernel)",
   "language": "python",
   "name": "python3"
  },
  "language_info": {
   "codemirror_mode": {
    "name": "ipython",
    "version": 3
   },
   "file_extension": ".py",
   "mimetype": "text/x-python",
   "name": "python",
   "nbconvert_exporter": "python",
   "pygments_lexer": "ipython3",
   "version": "3.9.12"
  }
 },
 "nbformat": 4,
 "nbformat_minor": 5
}
