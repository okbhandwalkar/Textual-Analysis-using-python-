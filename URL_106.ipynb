{
 "cells": [
  {
   "cell_type": "code",
   "execution_count": 1,
   "id": "1e81f91a",
   "metadata": {},
   "outputs": [
    {
     "data": {
      "text/plain": [
       "'Contribution of handicrafts (Visual Arts & Literature) in the Indian economy'"
      ]
     },
     "execution_count": 1,
     "metadata": {},
     "output_type": "execute_result"
    }
   ],
   "source": [
    "import requests\n",
    "import pandas as pd \n",
    "from bs4 import BeautifulSoup\n",
    "import string\n",
    "import spacy\n",
    "import re\n",
    "url = \"\"\"https://insights.blackcoffer.com/contribution-of-handicrafts-visual-arts-literature-in-the-indian-economy/\"\"\"\n",
    "headers = {\"User-Agent\": \"Mozilla/5.0 (X11; Linux x86_64; rv:60.0) Gecko/20100101 Firefox/60.0\"}\n",
    "page = requests.get(url, headers=headers)\n",
    "soup = BeautifulSoup(page.content, 'html.parser')\n",
    "soup=BeautifulSoup(page.content, 'html.parser')\n",
    "title=soup.find('h1',class_=\"entry-title\")\n",
    "title=title.text.replace('\\n',\" \")\n",
    "title\n"
   ]
  },
  {
   "cell_type": "code",
   "execution_count": 2,
   "id": "db79d50d",
   "metadata": {},
   "outputs": [
    {
     "name": "stdout",
     "output_type": "stream",
     "text": [
      " Handicrafts is an art of making crafts by hand in India is called Indian handicrafts, in ancient India people lived in colonies called tribals and they were used to make utility items for their daily needs, that art of making the crafts called handicrafts, and the items called handicrafts goods. Few of the Indian handicrafts are as follows Pashmina ShawlsBidriware metal handicraftCane and Bamboo HandicraftsZardoziChikankari The visual arts are art forms such as painting, drawing, printmaking, sculpture, ceramics, photography, video, filmmaking, design, crafts, and architecture. Many artistic disciplines such as performing arts, conceptual art, textile arts also involve aspects of visual arts as well as arts of other types. Also included within the visual arts are the applied arts such as industrial design, graphic design, fashion design, interior design, and decorative art. Roles of handicrafts in Indian economy Indian Handicrafts items have their unique impression and charm. This immensely big large-scale industry provides livelihood to 130 lakh weavers and artisans.Indian handicrafts are environment friendly and low in energy consumption.Indian handicraft items exported the most and generated good foreign exchange every year.Handicraft is very important because it represents our culture and tradition. It promotes the heritage of a country through the use of indigenous materials and it preserves traditional knowledge and talents.These days, the handicraft industry plays a vital role in the Rural Indian sector. Moreover, with liberal trade and the export of the Indian handloom industry is on an all-time high. Some key facts of Indian handicrafts industry The Indian Handicraft Industry is showing a continuous growth rate of 20% every year.Major parts of the industry operate in rural and semi-urban areas throughout the country and have potential Indian and International markets with around 67000 exporters to tap the market.According to the national census of handicrafts, undertaken by the National Council for Applied Economic Research the value of handicrafts produced last year were of Rs. 26,213 Crore.This Industry provides huge employment opportunities to artisans that include women and people belonging to backward and weaker society. This is one of the major sources of income there.The Indian Handicraft Industry is a $100 billion industry worldwide.India’s contribution to the world market is 1.2%The total exports of crafts items: – Rs. 13412.92 Crore.Industry’s share in India’s exports: – 1.51 % Blackcoffer Insights 18: Harsh Gupta, PIBM Pune \n",
      " Handicrafts is an art of making crafts by hand in India is called Indian handicrafts in ancient India people lived in colonies called tribals and they were used to make utility items for their daily needs that art of making the crafts called handicrafts and the items called handicrafts goods Few of the Indian handicrafts are as follows Pashmina ShawlsBidriware metal handicraftCane and Bamboo HandicraftsZardoziChikankari The visual arts are art forms such as painting drawing printmaking sculpture ceramics photography video filmmaking design crafts and architecture Many artistic disciplines such as performing arts conceptual art textile arts also involve aspects of visual arts as well as arts of other types Also included within the visual arts are the applied arts such as industrial design graphic design fashion design interior design and decorative art Roles of handicrafts in Indian economy Indian Handicrafts items have their unique impression and charm This immensely big largescale industry provides livelihood to 130 lakh weavers and artisansIndian handicrafts are environment friendly and low in energy consumptionIndian handicraft items exported the most and generated good foreign exchange every yearHandicraft is very important because it represents our culture and tradition It promotes the heritage of a country through the use of indigenous materials and it preserves traditional knowledge and talentsThese days the handicraft industry plays a vital role in the Rural Indian sector Moreover with liberal trade and the export of the Indian handloom industry is on an alltime high Some key facts of Indian handicrafts industry The Indian Handicraft Industry is showing a continuous growth rate of 20 every yearMajor parts of the industry operate in rural and semiurban areas throughout the country and have potential Indian and International markets with around 67000 exporters to tap the marketAccording to the national census of handicrafts undertaken by the National Council for Applied Economic Research the value of handicrafts produced last year were of Rs 26213 CroreThis Industry provides huge employment opportunities to artisans that include women and people belonging to backward and weaker society This is one of the major sources of income thereThe Indian Handicraft Industry is a 100 billion industry worldwideIndia’s contribution to the world market is 12The total exports of crafts items – Rs 1341292 CroreIndustry’s share in India’s exports – 151  Blackcoffer Insights 18 Harsh Gupta PIBM Pune \n",
      "['Handicrafts', 'is', 'an', 'art', 'of', 'making', 'crafts', 'by', 'hand', 'in', 'India', 'is', 'called', 'Indian', 'handicrafts', 'in', 'ancient', 'India', 'people', 'lived', 'in', 'colonies', 'called', 'tribals', 'and', 'they', 'were', 'used', 'to', 'make', 'utility', 'items', 'for', 'their', 'daily', 'needs', 'that', 'art', 'of', 'making', 'the', 'crafts', 'called', 'handicrafts', 'and', 'the', 'items', 'called', 'handicrafts', 'goods', 'Few', 'of', 'the', 'Indian', 'handicrafts', 'are', 'as', 'follows', 'Pashmina', 'ShawlsBidriware', 'metal', 'handicraftCane', 'and', 'Bamboo', 'HandicraftsZardoziChikankari', 'The', 'visual', 'arts', 'are', 'art', 'forms', 'such', 'as', 'painting', 'drawing', 'printmaking', 'sculpture', 'ceramics', 'photography', 'video', 'filmmaking', 'design', 'crafts', 'and', 'architecture', 'Many', 'artistic', 'disciplines', 'such', 'as', 'performing', 'arts', 'conceptual', 'art', 'textile', 'arts', 'also', 'involve', 'aspects', 'of', 'visual', 'arts', 'as', 'well', 'as', 'arts', 'of', 'other', 'types', 'Also', 'included', 'within', 'the', 'visual', 'arts', 'are', 'the', 'applied', 'arts', 'such', 'as', 'industrial', 'design', 'graphic', 'design', 'fashion', 'design', 'interior', 'design', 'and', 'decorative', 'art', 'Roles', 'of', 'handicrafts', 'in', 'Indian', 'economy', 'Indian', 'Handicrafts', 'items', 'have', 'their', 'unique', 'impression', 'and', 'charm', 'This', 'immensely', 'big', 'largescale', 'industry', 'provides', 'livelihood', 'to', '130', 'lakh', 'weavers', 'and', 'artisansIndian', 'handicrafts', 'are', 'environment', 'friendly', 'and', 'low', 'in', 'energy', 'consumptionIndian', 'handicraft', 'items', 'exported', 'the', 'most', 'and', 'generated', 'good', 'foreign', 'exchange', 'every', 'yearHandicraft', 'is', 'very', 'important', 'because', 'it', 'represents', 'our', 'culture', 'and', 'tradition', 'It', 'promotes', 'the', 'heritage', 'of', 'a', 'country', 'through', 'the', 'use', 'of', 'indigenous', 'materials', 'and', 'it', 'preserves', 'traditional', 'knowledge', 'and', 'talentsThese', 'days', 'the', 'handicraft', 'industry', 'plays', 'a', 'vital', 'role', 'in', 'the', 'Rural', 'Indian', 'sector', 'Moreover', 'with', 'liberal', 'trade', 'and', 'the', 'export', 'of', 'the', 'Indian', 'handloom', 'industry', 'is', 'on', 'an', 'alltime', 'high', 'Some', 'key', 'facts', 'of', 'Indian', 'handicrafts', 'industry', 'The', 'Indian', 'Handicraft', 'Industry', 'is', 'showing', 'a', 'continuous', 'growth', 'rate', 'of', '20', 'every', 'yearMajor', 'parts', 'of', 'the', 'industry', 'operate', 'in', 'rural', 'and', 'semiurban', 'areas', 'throughout', 'the', 'country', 'and', 'have', 'potential', 'Indian', 'and', 'International', 'markets', 'with', 'around', '67000', 'exporters', 'to', 'tap', 'the', 'marketAccording', 'to', 'the', 'national', 'census', 'of', 'handicrafts', 'undertaken', 'by', 'the', 'National', 'Council', 'for', 'Applied', 'Economic', 'Research', 'the', 'value', 'of', 'handicrafts', 'produced', 'last', 'year', 'were', 'of', 'Rs', '26213', 'CroreThis', 'Industry', 'provides', 'huge', 'employment', 'opportunities', 'to', 'artisans', 'that', 'include', 'women', 'and', 'people', 'belonging', 'to', 'backward', 'and', 'weaker', 'society', 'This', 'is', 'one', 'of', 'the', 'major', 'sources', 'of', 'income', 'thereThe', 'Indian', 'Handicraft', 'Industry', 'is', 'a', '100', 'billion', 'industry', 'worldwideIndia’s', 'contribution', 'to', 'the', 'world', 'market', 'is', '12The', 'total', 'exports', 'of', 'crafts', 'items', '–', 'Rs', '1341292', 'CroreIndustry’s', 'share', 'in', 'India’s', 'exports', '–', '151', 'Blackcoffer', 'Insights', '18', 'Harsh', 'Gupta', 'PIBM', 'Pune']\n"
     ]
    }
   ],
   "source": [
    "content=soup.findAll(attrs={'class':'td-post-content'})\n",
    "content=content[0].text.replace('\\n',\" \")\n",
    "print(content)\n",
    "#Punctuation\n",
    "content = content.translate(str.maketrans('', '', string.punctuation)) \n",
    "print(content)\n",
    "text = content.split()\n",
    "print(text)\n"
   ]
  },
  {
   "cell_type": "code",
   "execution_count": 3,
   "id": "e247867a",
   "metadata": {},
   "outputs": [
    {
     "data": {
      "text/plain": [
       "383"
      ]
     },
     "execution_count": 3,
     "metadata": {},
     "output_type": "execute_result"
    }
   ],
   "source": [
    "len(text)"
   ]
  },
  {
   "cell_type": "code",
   "execution_count": 4,
   "id": "20bc5e06",
   "metadata": {},
   "outputs": [
    {
     "name": "stdout",
     "output_type": "stream",
     "text": [
      "6\n"
     ]
    }
   ],
   "source": [
    "#Positive Score \n",
    "with open(r\"C:\\Users\\Om Bhandwalkar\\Desktop\\pos\\positive-words.txt\") as pos:\n",
    "    poswords = pos.read().split(\"\\n\")  \n",
    "    poswords = poswords[5:]\n",
    "pos_count = \" \".join ([w for w in text if w in poswords])\n",
    "pos_count=pos_count.split(\" \")\n",
    "Positive_score=len(pos_count)\n",
    "print(Positive_score)"
   ]
  },
  {
   "cell_type": "code",
   "execution_count": 5,
   "id": "abf487e7",
   "metadata": {},
   "outputs": [
    {
     "name": "stdout",
     "output_type": "stream",
     "text": [
      "2\n"
     ]
    }
   ],
   "source": [
    "#Negative Score\n",
    "with open(r\"C:\\Users\\Om Bhandwalkar\\Desktop\\pos\\negative-words.txt\",encoding =\"ISO-8859-1\") as neg:\n",
    "    negwords = neg.read().split(\"\\n\")\n",
    "    \n",
    "negwords = negwords[36:]\n",
    "neg_count = \" \".join ([w for w in text if w in negwords])\n",
    "neg_count=neg_count.split(\" \")\n",
    "Negative_score=len(neg_count)\n",
    "print(Negative_score)"
   ]
  },
  {
   "cell_type": "code",
   "execution_count": 6,
   "id": "b692ab5b",
   "metadata": {},
   "outputs": [
    {
     "data": {
      "text/html": [
       "<div>\n",
       "<style scoped>\n",
       "    .dataframe tbody tr th:only-of-type {\n",
       "        vertical-align: middle;\n",
       "    }\n",
       "\n",
       "    .dataframe tbody tr th {\n",
       "        vertical-align: top;\n",
       "    }\n",
       "\n",
       "    .dataframe thead th {\n",
       "        text-align: right;\n",
       "    }\n",
       "</style>\n",
       "<table border=\"1\" class=\"dataframe\">\n",
       "  <thead>\n",
       "    <tr style=\"text-align: right;\">\n",
       "      <th></th>\n",
       "      <th>url</th>\n",
       "      <th>title</th>\n",
       "      <th>content</th>\n",
       "      <th>filter_content</th>\n",
       "      <th>Positive_Score</th>\n",
       "      <th>Negative_Score</th>\n",
       "      <th>polarity</th>\n",
       "      <th>subjectivity</th>\n",
       "    </tr>\n",
       "  </thead>\n",
       "  <tbody>\n",
       "    <tr>\n",
       "      <th>0</th>\n",
       "      <td>https://insights.blackcoffer.com/contribution-...</td>\n",
       "      <td>Contribution of handicrafts (Visual Arts &amp; Lit...</td>\n",
       "      <td>Handicrafts is an art of making crafts by han...</td>\n",
       "      <td>Handicrafts is an art of making crafts by hand...</td>\n",
       "      <td>6</td>\n",
       "      <td>2</td>\n",
       "      <td>0.105172</td>\n",
       "      <td>0.43549</td>\n",
       "    </tr>\n",
       "  </tbody>\n",
       "</table>\n",
       "</div>"
      ],
      "text/plain": [
       "                                                 url  \\\n",
       "0  https://insights.blackcoffer.com/contribution-...   \n",
       "\n",
       "                                               title  \\\n",
       "0  Contribution of handicrafts (Visual Arts & Lit...   \n",
       "\n",
       "                                             content  \\\n",
       "0   Handicrafts is an art of making crafts by han...   \n",
       "\n",
       "                                      filter_content  Positive_Score  \\\n",
       "0  Handicrafts is an art of making crafts by hand...               6   \n",
       "\n",
       "   Negative_Score  polarity  subjectivity  \n",
       "0               2  0.105172       0.43549  "
      ]
     },
     "execution_count": 6,
     "metadata": {},
     "output_type": "execute_result"
    }
   ],
   "source": [
    "filter_content = ' '.join(text)\n",
    "data=[[url,title,content,filter_content,Positive_score,Negative_score]]\n",
    "data=pd.DataFrame(data,columns=[\"url\",\"title\",\"content\",\"filter_content\",\"Positive_Score\",\"Negative_Score\"])\n",
    "from textblob import TextBlob\n",
    "# Get The Subjectivity\n",
    "def sentiment_analysis(data):\n",
    "    sentiment = TextBlob(data[\"content\"]).sentiment\n",
    "    return pd.Series([sentiment.polarity,sentiment.subjectivity ])\n",
    "\n",
    "# Adding Subjectivity & Polarity\n",
    "data[[\"polarity\", \"subjectivity\"]] = data.apply(sentiment_analysis, axis=1)\n",
    "\n",
    "data"
   ]
  },
  {
   "cell_type": "code",
   "execution_count": 7,
   "id": "f8f3dc4e",
   "metadata": {},
   "outputs": [
    {
     "name": "stdout",
     "output_type": "stream",
     "text": [
      "Word average = 2148.0\n",
      "FOG INDEX =  158.28\n",
      "Average no of words per sentence\n",
      "383.0\n",
      "Complex Words 736\n"
     ]
    }
   ],
   "source": [
    "#AVG SENTENCE LENGTH\n",
    "AVG_SENTENCE_LENGTH = len(content.replace(' ',''))/len(re.split(r'[?!.]', content))\n",
    "print('Word average =', AVG_SENTENCE_LENGTH)\n",
    "import textstat\n",
    "#Fog index \n",
    "FOG_INDEX=(textstat.gunning_fog(content))\n",
    "print(\"FOG INDEX = \",FOG_INDEX)\n",
    "#Average No of Words Per Sentence \n",
    "AVG_NUMBER_OF_WORDS_PER_SENTENCE = [len(l.split()) for l in re.split(r'[?!.]', content) if l.strip()]\n",
    "print(\"Average no of words per sentence\")\n",
    "AVG_NUMBER_OF_WORDS_PER_SENTENCE=print(sum(AVG_NUMBER_OF_WORDS_PER_SENTENCE)/len(AVG_NUMBER_OF_WORDS_PER_SENTENCE))\n",
    "#Complex words\n",
    "def syllable_count(word):\n",
    "    count = 0\n",
    "    vowels = \"AEIOUYaeiouy\"\n",
    "    if word[0] in vowels:\n",
    "        count += 1\n",
    "    for index in range(1, len(word)): \n",
    "        if word[index] in vowels and word[index - 1] not in vowels:\n",
    "            count += 1\n",
    "            if word.endswith(\"es\"or \"ed\"):\n",
    "                count -= 1\n",
    "    if count == 0:\n",
    "        count += 1\n",
    "    return count\n",
    "\n",
    "\n",
    "\n",
    "COMPLEX_WORDS=syllable_count(content)\n",
    "print(\"Complex Words\",COMPLEX_WORDS)\n"
   ]
  },
  {
   "cell_type": "code",
   "execution_count": 8,
   "id": "43138d35",
   "metadata": {},
   "outputs": [
    {
     "name": "stdout",
     "output_type": "stream",
     "text": [
      "Word Count 2533\n",
      "Percentage of Complex Words 29.056454796683774\n",
      "Average Word per Length 5.608355091383812\n",
      "The AVG number of syllables in the word is: \n",
      "2.154046997389034\n",
      "Word Count 2533\n",
      "Percentage of Complex Words 29.056454796683774\n",
      "Average Word per Length 5.608355091383812\n",
      "The AVG number of syllables in the word is: \n",
      "2.154046997389034\n"
     ]
    }
   ],
   "source": [
    "#Word Count\n",
    "Word_Count=len(content)\n",
    "print(\"Word Count\",Word_Count)\n",
    "#Percentage Complex Words\n",
    "pcw=(COMPLEX_WORDS/Word_Count)*100\n",
    "print(\"Percentage of Complex Words\",pcw)\n",
    "#Average Word Length\n",
    "Average_Word_Length=len(content.replace(' ',''))/len(content.split())\n",
    "print(\"Average Word per Length\",Average_Word_Length)\n",
    "#Syllable Count Per Word\n",
    "word=content.replace(' ','')\n",
    "syllable_count=0\n",
    "for w in word:\n",
    "      if(w=='a' or w=='e' or w=='i' or w=='o' or w=='y' or w=='u' or w=='A' or w=='E' or w=='I' or w=='O' or w=='U' or w=='Y'):\n",
    "            syllable_count=syllable_count+1\n",
    "print(\"The AVG number of syllables in the word is: \")\n",
    "print(syllable_count/len(content.split()))#Word Count\n",
    "Word_Count=len(content)\n",
    "print(\"Word Count\",Word_Count)\n",
    "#Percentage Complex Words\n",
    "pcw=(COMPLEX_WORDS/Word_Count)*100\n",
    "print(\"Percentage of Complex Words\",pcw)\n",
    "#Average Word Length\n",
    "Average_Word_Length=len(content.replace(' ',''))/len(content.split())\n",
    "print(\"Average Word per Length\",Average_Word_Length)\n",
    "#Syllable Count Per Word\n",
    "word=content.replace(' ','')\n",
    "syllable_count=0\n",
    "for w in word:\n",
    "      if(w=='a' or w=='e' or w=='i' or w=='o' or w=='y' or w=='u' or w=='A' or w=='E' or w=='I' or w=='O' or w=='U' or w=='Y'):\n",
    "            syllable_count=syllable_count+1\n",
    "print(\"The AVG number of syllables in the word is: \")\n",
    "print(syllable_count/len(content.split()))"
   ]
  },
  {
   "cell_type": "code",
   "execution_count": 1,
   "id": "02eb8012",
   "metadata": {},
   "outputs": [
    {
     "name": "stdout",
     "output_type": "stream",
     "text": [
      "6\n",
      "2\n",
      "Word average = 2148.0\n",
      "FOG INDEX =  158.28\n",
      "Average no of words per sentence\n",
      "383.0\n",
      "Complex Words 736\n",
      "Word Count 2533\n",
      "Percentage of Complex Words 29.056454796683774\n",
      "Average Word per Length 5.608355091383812\n",
      "The AVG number of syllables in the word is: \n",
      "2.154046997389034\n"
     ]
    },
    {
     "data": {
      "text/html": [
       "<div>\n",
       "<style scoped>\n",
       "    .dataframe tbody tr th:only-of-type {\n",
       "        vertical-align: middle;\n",
       "    }\n",
       "\n",
       "    .dataframe tbody tr th {\n",
       "        vertical-align: top;\n",
       "    }\n",
       "\n",
       "    .dataframe thead th {\n",
       "        text-align: right;\n",
       "    }\n",
       "</style>\n",
       "<table border=\"1\" class=\"dataframe\">\n",
       "  <thead>\n",
       "    <tr style=\"text-align: right;\">\n",
       "      <th></th>\n",
       "      <th>url</th>\n",
       "      <th>title</th>\n",
       "      <th>content</th>\n",
       "      <th>filter_content</th>\n",
       "      <th>Positive_Score</th>\n",
       "      <th>Negative_Score</th>\n",
       "      <th>Avg_Sentence_Length</th>\n",
       "      <th>Percentage_Complex_Word</th>\n",
       "      <th>Fog_Index</th>\n",
       "      <th>AVG_NUMBER_OF_WORDS_PER_SENTENCE</th>\n",
       "      <th>COMPLEX_WORDS</th>\n",
       "      <th>Word_Count</th>\n",
       "      <th>syllable</th>\n",
       "      <th>Average_Word_Length</th>\n",
       "      <th>polarity</th>\n",
       "      <th>subjectivity</th>\n",
       "    </tr>\n",
       "  </thead>\n",
       "  <tbody>\n",
       "    <tr>\n",
       "      <th>0</th>\n",
       "      <td>https://insights.blackcoffer.com/contribution-...</td>\n",
       "      <td>Contribution of handicrafts (Visual Arts &amp; Lit...</td>\n",
       "      <td>Handicrafts is an art of making crafts by han...</td>\n",
       "      <td>Handicrafts is an art of making crafts by hand...</td>\n",
       "      <td>6</td>\n",
       "      <td>2</td>\n",
       "      <td>2148.0</td>\n",
       "      <td>29.056455</td>\n",
       "      <td>158.28</td>\n",
       "      <td>383.0</td>\n",
       "      <td>736</td>\n",
       "      <td>2533</td>\n",
       "      <td>2.154047</td>\n",
       "      <td>5.608355</td>\n",
       "      <td>0.105172</td>\n",
       "      <td>0.43549</td>\n",
       "    </tr>\n",
       "  </tbody>\n",
       "</table>\n",
       "</div>"
      ],
      "text/plain": [
       "                                                 url  \\\n",
       "0  https://insights.blackcoffer.com/contribution-...   \n",
       "\n",
       "                                               title  \\\n",
       "0  Contribution of handicrafts (Visual Arts & Lit...   \n",
       "\n",
       "                                             content  \\\n",
       "0   Handicrafts is an art of making crafts by han...   \n",
       "\n",
       "                                      filter_content  Positive_Score  \\\n",
       "0  Handicrafts is an art of making crafts by hand...               6   \n",
       "\n",
       "   Negative_Score  Avg_Sentence_Length  Percentage_Complex_Word  Fog_Index  \\\n",
       "0               2               2148.0                29.056455     158.28   \n",
       "\n",
       "    AVG_NUMBER_OF_WORDS_PER_SENTENCE  COMPLEX_WORDS  Word_Count  syllable  \\\n",
       "0                              383.0            736        2533  2.154047   \n",
       "\n",
       "   Average_Word_Length  polarity  subjectivity  \n",
       "0             5.608355  0.105172       0.43549  "
      ]
     },
     "execution_count": 1,
     "metadata": {},
     "output_type": "execute_result"
    }
   ],
   "source": [
    "import requests\n",
    "import pandas as pd \n",
    "from bs4 import BeautifulSoup\n",
    "import string\n",
    "import spacy\n",
    "import re\n",
    "url = \"\"\"https://insights.blackcoffer.com/contribution-of-handicrafts-visual-arts-literature-in-the-indian-economy/\"\"\"\n",
    "headers = {\"User-Agent\": \"Mozilla/5.0 (X11; Linux x86_64; rv:60.0) Gecko/20100101 Firefox/60.0\"}\n",
    "page = requests.get(url, headers=headers)\n",
    "soup = BeautifulSoup(page.content, 'html.parser')\n",
    "soup=BeautifulSoup(page.content, 'html.parser')\n",
    "title=soup.find('h1',class_=\"entry-title\")\n",
    "title=title.text.replace('\\n',\" \")\n",
    "# title\n",
    "\n",
    "content=soup.findAll(attrs={'class':'td-post-content'})\n",
    "content=content[0].text.replace('\\n',\" \")\n",
    "# print(content)\n",
    "#Punctuation\n",
    "content = content.translate(str.maketrans('', '', string.punctuation)) \n",
    "# print(content)\n",
    "text = content.split()\n",
    "# print(text)\n",
    "len(text)\n",
    "#Positive Score \n",
    "with open(r\"C:\\Users\\Om Bhandwalkar\\Desktop\\pos\\positive-words.txt\") as pos:\n",
    "    poswords = pos.read().split(\"\\n\")  \n",
    "    poswords = poswords[5:]\n",
    "pos_count = \" \".join ([w for w in text if w in poswords])\n",
    "pos_count=pos_count.split(\" \")\n",
    "Positive_score=len(pos_count)\n",
    "print(Positive_score)\n",
    "\n",
    "#Negative Score\n",
    "with open(r\"C:\\Users\\Om Bhandwalkar\\Desktop\\pos\\negative-words.txt\",encoding =\"ISO-8859-1\") as neg:\n",
    "    negwords = neg.read().split(\"\\n\")\n",
    "    \n",
    "negwords = negwords[36:]\n",
    "neg_count = \" \".join ([w for w in text if w in negwords])\n",
    "neg_count=neg_count.split(\" \")\n",
    "Negative_score=len(neg_count)\n",
    "print(Negative_score)\n",
    "\n",
    "\n",
    "filter_content = ' '.join(text)\n",
    "data=[[url,title,content,filter_content,Positive_score,Negative_score]]\n",
    "data=pd.DataFrame(data,columns=[\"url\",\"title\",\"content\",\"filter_content\",\"Positive_Score\",\"Negative_Score\"])\n",
    "from textblob import TextBlob\n",
    "# Get The Subjectivity\n",
    "def sentiment_analysis(data):\n",
    "    sentiment = TextBlob(data[\"content\"]).sentiment\n",
    "    return pd.Series([sentiment.polarity,sentiment.subjectivity ])\n",
    "data[[\"polarity\", \"subjectivity\"]] = data.apply(sentiment_analysis, axis=1)\n",
    "data\n",
    "#AVG SENTENCE LENGTH\n",
    "AVG_SENTENCE_LENGTH = len(content.replace(' ',''))/len(re.split(r'[?!.]', content))\n",
    "print('Word average =', AVG_SENTENCE_LENGTH)\n",
    "import textstat\n",
    "#Fog index \n",
    "FOG_INDEX=(textstat.gunning_fog(content))\n",
    "print(\"FOG INDEX = \",FOG_INDEX)\n",
    "#Average No of Words Per Sentence \n",
    "AVG_NUMBER_OF_WORDS_PER_SENTENCE = [len(l.split()) for l in re.split(r'[?!.]', content) if l.strip()]\n",
    "print(\"Average no of words per sentence\")\n",
    "AVG_NUMBER_OF_WORDS_PER_SENTENCE=(sum(AVG_NUMBER_OF_WORDS_PER_SENTENCE)/len(AVG_NUMBER_OF_WORDS_PER_SENTENCE))\n",
    "print(AVG_NUMBER_OF_WORDS_PER_SENTENCE)\n",
    "#Complex words\n",
    "def syllable_count(word):\n",
    "    count = 0\n",
    "    vowels = \"AEIOUYaeiouy\"\n",
    "    if word[0] in vowels:\n",
    "        count += 1\n",
    "    for index in range(1, len(word)): \n",
    "        if word[index] in vowels and word[index - 1] not in vowels:\n",
    "            count += 1\n",
    "            if word.endswith(\"es\"or \"ed\"):\n",
    "                count -= 1\n",
    "    if count == 0:\n",
    "        count += 1\n",
    "    return count\n",
    "\n",
    "\n",
    "\n",
    "COMPLEX_WORDS=syllable_count(content)\n",
    "print(\"Complex Words\",COMPLEX_WORDS)\n",
    "#Word Count\n",
    "Word_Count=len(content)\n",
    "print(\"Word Count\",Word_Count)\n",
    "#Percentage Complex Words\n",
    "pcw=(COMPLEX_WORDS/Word_Count)*100\n",
    "print(\"Percentage of Complex Words\",pcw)\n",
    "#Average Word Length\n",
    "Average_Word_Length=len(content.replace(' ',''))/len(content.split())\n",
    "print(\"Average Word per Length\",Average_Word_Length)\n",
    "#Syllable Count Per Word\n",
    "word=content.replace(' ','')\n",
    "syllable_count=0\n",
    "for w in word:\n",
    "      if(w=='a' or w=='e' or w=='i' or w=='o' or w=='y' or w=='u' or w=='A' or w=='E' or w=='I' or w=='O' or w=='U' or w=='Y'):\n",
    "            syllable_count=syllable_count+1\n",
    "print(\"The AVG number of syllables in the word is: \")\n",
    "syllable = (syllable_count/len(content.split()))\n",
    "print(syllable)\n",
    "\n",
    "data = [[url,title,content,filter_content,Positive_score,Negative_score,AVG_SENTENCE_LENGTH,pcw,FOG_INDEX,\n",
    "         AVG_NUMBER_OF_WORDS_PER_SENTENCE,COMPLEX_WORDS,Word_Count,syllable,Average_Word_Length]]\n",
    "data=pd.DataFrame(data,columns=[\"url\",\"title\",\"content\",\"filter_content\",\"Positive_Score\",\"Negative_Score\",\"Avg_Sentence_Length\"\n",
    "                               ,\"Percentage_Complex_Word\",\"Fog_Index\",\" AVG_NUMBER_OF_WORDS_PER_SENTENCE\",\"COMPLEX_WORDS\",\n",
    "                               \"Word_Count\",\"syllable\",\"Average_Word_Length\"])\n",
    "from textblob import TextBlob\n",
    "# Get The Subjectivity\n",
    "def sentiment_analysis(data):\n",
    "    sentiment = TextBlob(data[\"content\"]).sentiment\n",
    "    return pd.Series([sentiment.polarity,sentiment.subjectivity ])\n",
    "data[[\"polarity\", \"subjectivity\"]] = data.apply(sentiment_analysis, axis=1)\n",
    "data"
   ]
  },
  {
   "cell_type": "code",
   "execution_count": 2,
   "id": "a4e5017f",
   "metadata": {},
   "outputs": [],
   "source": [
    "data.to_csv(r'C:\\Users\\Om Bhandwalkar\\Desktop\\BlackCoffer Assignment\\Output\\url_106.csv')"
   ]
  },
  {
   "cell_type": "code",
   "execution_count": null,
   "id": "ea03d657",
   "metadata": {},
   "outputs": [],
   "source": []
  }
 ],
 "metadata": {
  "kernelspec": {
   "display_name": "Python 3 (ipykernel)",
   "language": "python",
   "name": "python3"
  },
  "language_info": {
   "codemirror_mode": {
    "name": "ipython",
    "version": 3
   },
   "file_extension": ".py",
   "mimetype": "text/x-python",
   "name": "python",
   "nbconvert_exporter": "python",
   "pygments_lexer": "ipython3",
   "version": "3.9.12"
  }
 },
 "nbformat": 4,
 "nbformat_minor": 5
}
