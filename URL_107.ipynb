{
 "cells": [
  {
   "cell_type": "code",
   "execution_count": 1,
   "id": "8d2fef58",
   "metadata": {},
   "outputs": [
    {
     "data": {
      "text/plain": [
       "'How COVID-19 is impacting payment preferences?'"
      ]
     },
     "execution_count": 1,
     "metadata": {},
     "output_type": "execute_result"
    }
   ],
   "source": [
    "import requests\n",
    "import pandas as pd \n",
    "from bs4 import BeautifulSoup\n",
    "import string\n",
    "import spacy\n",
    "import re\n",
    "url = \"\"\"https://insights.blackcoffer.com/how-covid-19-is-impacting-payment-preferences/\"\"\"\n",
    "headers = {\"User-Agent\": \"Mozilla/5.0 (X11; Linux x86_64; rv:60.0) Gecko/20100101 Firefox/60.0\"}\n",
    "page = requests.get(url, headers=headers)\n",
    "soup = BeautifulSoup(page.content, 'html.parser')\n",
    "soup=BeautifulSoup(page.content, 'html.parser')\n",
    "title=soup.find('h1',class_=\"entry-title\")\n",
    "title=title.text.replace('\\n',\" \")\n",
    "title\n"
   ]
  },
  {
   "cell_type": "code",
   "execution_count": 2,
   "id": "37c17b29",
   "metadata": {},
   "outputs": [
    {
     "name": "stdout",
     "output_type": "stream",
     "text": [
      " I would rather pay cash – Before COVID-19. I would rather make online payment – After lockdown. During this lockdown, one can observe a number of small positive changes in our surroundings. One such positive change is using online mode of payment even if they are small in amount as it counts as a big step towards DIGITAL INDIA and self-development as well. According to Economic Times, 42% of Indians say that they have started using online mode of payment. Some small tasks like mobile phone recharge, bill payments, buying groceries, etc., are some essential tasks that cannot be ignored, and making an online payment is way too convenient for them. Also, multiple schemes have been initiated by the government to promote online payments like Lucky Grahak Yojana and Digi Dhan Vyapari Yojana. The details of the same are as follows: LUCKY GARHAK YOJANA A daily reward of Rs 1000 to be given to 15,000 lucky consumers for a period of 100 days.People who use the online mode of payments will get weekly prizes worth Rs 1 lakh, Rs 10,000 and Rs 5,000. (All types of online transactions will be included in this.) DIGI DHAN VYAPARI Prizes for Merchants for all digital transactions.Rs 50,000, Rs 5,000, and Rs 2,500 will be provided weekly. The frequently used apps by the consumers and the market share of apps are as follows: Paytm- 33% Google Pay- 14% PhonePe- 4% Amazon Pay- 10% BHIM- 6% Other Apps- 33% Not only the sellers but also the buyers have taken a step forward in making online payments and have been exploring the various offers and discounts. The sellers have started their own online shops and made online payment mandatory in highly contaminated zones. The buyer has also taken advantage of home deliveries to follow social distancing. To add to the advantage of buyers and sellers KYC is no more a necessity to make money transfers. There has been an increase in the services provided by banking sectors as well. The FM Nirmala Sitharaman has provided the directions to not charge for cash withdrawals from ATM’s. Various services like sending and receiving money, blocking cards, credit card payments, credit card pins, etc., are being provided online. E-payment options like Paytm, etc., have been open up for investing money online in stocks, insurance, etc. Even online shopping apps like Amazon have come up with various offers for their in-built wallets. Emerging technologies and high competition among online payment apps are providing benefits to buyers and sellers as well. Sellers have been able to increase their reach with online shops and online payment stands as a guarantee for them. Buyers have been in the most advantageous position ever after the digital payment has come into the market. They are being provided with a number of choices to choose from as well as make instant payments for offers. This all sums up the likeliness of digital payment in the market. So yes, we can say, YOU (DIGITAL PAYMENT) HAVE A BRILLANT FUTURE, CHILD! We all have heard this statement “Precaution is better than cure” and here is the time to follow the same. It has been proven as a fact that the coronavirus can persist on paper for four or five days. That means the coronavirus can persist on the paper currency for four or five days. Thus, it is important to avoid the usage of paper currency. A revolution will take place only when the below poverty population of India will start using the online mode of payment and will be literate enough to not get caught in any scam. Blackcoffer Insights 18: Himanshi Kalota, Shri Ram College of Commerce (Delhi) \n",
      " I would rather pay cash – Before COVID19 I would rather make online payment – After lockdown During this lockdown one can observe a number of small positive changes in our surroundings One such positive change is using online mode of payment even if they are small in amount as it counts as a big step towards DIGITAL INDIA and selfdevelopment as well According to Economic Times 42 of Indians say that they have started using online mode of payment Some small tasks like mobile phone recharge bill payments buying groceries etc are some essential tasks that cannot be ignored and making an online payment is way too convenient for them Also multiple schemes have been initiated by the government to promote online payments like Lucky Grahak Yojana and Digi Dhan Vyapari Yojana The details of the same are as follows LUCKY GARHAK YOJANA A daily reward of Rs 1000 to be given to 15000 lucky consumers for a period of 100 daysPeople who use the online mode of payments will get weekly prizes worth Rs 1 lakh Rs 10000 and Rs 5000 All types of online transactions will be included in this DIGI DHAN VYAPARI Prizes for Merchants for all digital transactionsRs 50000 Rs 5000 and Rs 2500 will be provided weekly The frequently used apps by the consumers and the market share of apps are as follows Paytm 33 Google Pay 14 PhonePe 4 Amazon Pay 10 BHIM 6 Other Apps 33 Not only the sellers but also the buyers have taken a step forward in making online payments and have been exploring the various offers and discounts The sellers have started their own online shops and made online payment mandatory in highly contaminated zones The buyer has also taken advantage of home deliveries to follow social distancing To add to the advantage of buyers and sellers KYC is no more a necessity to make money transfers There has been an increase in the services provided by banking sectors as well The FM Nirmala Sitharaman has provided the directions to not charge for cash withdrawals from ATM’s Various services like sending and receiving money blocking cards credit card payments credit card pins etc are being provided online Epayment options like Paytm etc have been open up for investing money online in stocks insurance etc Even online shopping apps like Amazon have come up with various offers for their inbuilt wallets Emerging technologies and high competition among online payment apps are providing benefits to buyers and sellers as well Sellers have been able to increase their reach with online shops and online payment stands as a guarantee for them Buyers have been in the most advantageous position ever after the digital payment has come into the market They are being provided with a number of choices to choose from as well as make instant payments for offers This all sums up the likeliness of digital payment in the market So yes we can say YOU DIGITAL PAYMENT HAVE A BRILLANT FUTURE CHILD We all have heard this statement “Precaution is better than cure” and here is the time to follow the same It has been proven as a fact that the coronavirus can persist on paper for four or five days That means the coronavirus can persist on the paper currency for four or five days Thus it is important to avoid the usage of paper currency A revolution will take place only when the below poverty population of India will start using the online mode of payment and will be literate enough to not get caught in any scam Blackcoffer Insights 18 Himanshi Kalota Shri Ram College of Commerce Delhi \n",
      "['I', 'would', 'rather', 'pay', 'cash', '–', 'Before', 'COVID19', 'I', 'would', 'rather', 'make', 'online', 'payment', '–', 'After', 'lockdown', 'During', 'this', 'lockdown', 'one', 'can', 'observe', 'a', 'number', 'of', 'small', 'positive', 'changes', 'in', 'our', 'surroundings', 'One', 'such', 'positive', 'change', 'is', 'using', 'online', 'mode', 'of', 'payment', 'even', 'if', 'they', 'are', 'small', 'in', 'amount', 'as', 'it', 'counts', 'as', 'a', 'big', 'step', 'towards', 'DIGITAL', 'INDIA', 'and', 'selfdevelopment', 'as', 'well', 'According', 'to', 'Economic', 'Times', '42', 'of', 'Indians', 'say', 'that', 'they', 'have', 'started', 'using', 'online', 'mode', 'of', 'payment', 'Some', 'small', 'tasks', 'like', 'mobile', 'phone', 'recharge', 'bill', 'payments', 'buying', 'groceries', 'etc', 'are', 'some', 'essential', 'tasks', 'that', 'cannot', 'be', 'ignored', 'and', 'making', 'an', 'online', 'payment', 'is', 'way', 'too', 'convenient', 'for', 'them', 'Also', 'multiple', 'schemes', 'have', 'been', 'initiated', 'by', 'the', 'government', 'to', 'promote', 'online', 'payments', 'like', 'Lucky', 'Grahak', 'Yojana', 'and', 'Digi', 'Dhan', 'Vyapari', 'Yojana', 'The', 'details', 'of', 'the', 'same', 'are', 'as', 'follows', 'LUCKY', 'GARHAK', 'YOJANA', 'A', 'daily', 'reward', 'of', 'Rs', '1000', 'to', 'be', 'given', 'to', '15000', 'lucky', 'consumers', 'for', 'a', 'period', 'of', '100', 'daysPeople', 'who', 'use', 'the', 'online', 'mode', 'of', 'payments', 'will', 'get', 'weekly', 'prizes', 'worth', 'Rs', '1', 'lakh', 'Rs', '10000', 'and', 'Rs', '5000', 'All', 'types', 'of', 'online', 'transactions', 'will', 'be', 'included', 'in', 'this', 'DIGI', 'DHAN', 'VYAPARI', 'Prizes', 'for', 'Merchants', 'for', 'all', 'digital', 'transactionsRs', '50000', 'Rs', '5000', 'and', 'Rs', '2500', 'will', 'be', 'provided', 'weekly', 'The', 'frequently', 'used', 'apps', 'by', 'the', 'consumers', 'and', 'the', 'market', 'share', 'of', 'apps', 'are', 'as', 'follows', 'Paytm', '33', 'Google', 'Pay', '14', 'PhonePe', '4', 'Amazon', 'Pay', '10', 'BHIM', '6', 'Other', 'Apps', '33', 'Not', 'only', 'the', 'sellers', 'but', 'also', 'the', 'buyers', 'have', 'taken', 'a', 'step', 'forward', 'in', 'making', 'online', 'payments', 'and', 'have', 'been', 'exploring', 'the', 'various', 'offers', 'and', 'discounts', 'The', 'sellers', 'have', 'started', 'their', 'own', 'online', 'shops', 'and', 'made', 'online', 'payment', 'mandatory', 'in', 'highly', 'contaminated', 'zones', 'The', 'buyer', 'has', 'also', 'taken', 'advantage', 'of', 'home', 'deliveries', 'to', 'follow', 'social', 'distancing', 'To', 'add', 'to', 'the', 'advantage', 'of', 'buyers', 'and', 'sellers', 'KYC', 'is', 'no', 'more', 'a', 'necessity', 'to', 'make', 'money', 'transfers', 'There', 'has', 'been', 'an', 'increase', 'in', 'the', 'services', 'provided', 'by', 'banking', 'sectors', 'as', 'well', 'The', 'FM', 'Nirmala', 'Sitharaman', 'has', 'provided', 'the', 'directions', 'to', 'not', 'charge', 'for', 'cash', 'withdrawals', 'from', 'ATM’s', 'Various', 'services', 'like', 'sending', 'and', 'receiving', 'money', 'blocking', 'cards', 'credit', 'card', 'payments', 'credit', 'card', 'pins', 'etc', 'are', 'being', 'provided', 'online', 'Epayment', 'options', 'like', 'Paytm', 'etc', 'have', 'been', 'open', 'up', 'for', 'investing', 'money', 'online', 'in', 'stocks', 'insurance', 'etc', 'Even', 'online', 'shopping', 'apps', 'like', 'Amazon', 'have', 'come', 'up', 'with', 'various', 'offers', 'for', 'their', 'inbuilt', 'wallets', 'Emerging', 'technologies', 'and', 'high', 'competition', 'among', 'online', 'payment', 'apps', 'are', 'providing', 'benefits', 'to', 'buyers', 'and', 'sellers', 'as', 'well', 'Sellers', 'have', 'been', 'able', 'to', 'increase', 'their', 'reach', 'with', 'online', 'shops', 'and', 'online', 'payment', 'stands', 'as', 'a', 'guarantee', 'for', 'them', 'Buyers', 'have', 'been', 'in', 'the', 'most', 'advantageous', 'position', 'ever', 'after', 'the', 'digital', 'payment', 'has', 'come', 'into', 'the', 'market', 'They', 'are', 'being', 'provided', 'with', 'a', 'number', 'of', 'choices', 'to', 'choose', 'from', 'as', 'well', 'as', 'make', 'instant', 'payments', 'for', 'offers', 'This', 'all', 'sums', 'up', 'the', 'likeliness', 'of', 'digital', 'payment', 'in', 'the', 'market', 'So', 'yes', 'we', 'can', 'say', 'YOU', 'DIGITAL', 'PAYMENT', 'HAVE', 'A', 'BRILLANT', 'FUTURE', 'CHILD', 'We', 'all', 'have', 'heard', 'this', 'statement', '“Precaution', 'is', 'better', 'than', 'cure”', 'and', 'here', 'is', 'the', 'time', 'to', 'follow', 'the', 'same', 'It', 'has', 'been', 'proven', 'as', 'a', 'fact', 'that', 'the', 'coronavirus', 'can', 'persist', 'on', 'paper', 'for', 'four', 'or', 'five', 'days', 'That', 'means', 'the', 'coronavirus', 'can', 'persist', 'on', 'the', 'paper', 'currency', 'for', 'four', 'or', 'five', 'days', 'Thus', 'it', 'is', 'important', 'to', 'avoid', 'the', 'usage', 'of', 'paper', 'currency', 'A', 'revolution', 'will', 'take', 'place', 'only', 'when', 'the', 'below', 'poverty', 'population', 'of', 'India', 'will', 'start', 'using', 'the', 'online', 'mode', 'of', 'payment', 'and', 'will', 'be', 'literate', 'enough', 'to', 'not', 'get', 'caught', 'in', 'any', 'scam', 'Blackcoffer', 'Insights', '18', 'Himanshi', 'Kalota', 'Shri', 'Ram', 'College', 'of', 'Commerce', 'Delhi']\n"
     ]
    }
   ],
   "source": [
    "content=soup.findAll(attrs={'class':'td-post-content'})\n",
    "content=content[0].text.replace('\\n',\" \")\n",
    "print(content)\n",
    "#Punctuation\n",
    "content = content.translate(str.maketrans('', '', string.punctuation)) \n",
    "print(content)\n",
    "text = content.split()\n",
    "print(text)\n"
   ]
  },
  {
   "cell_type": "code",
   "execution_count": 3,
   "id": "4955c4c4",
   "metadata": {},
   "outputs": [
    {
     "data": {
      "text/plain": [
       "612"
      ]
     },
     "execution_count": 3,
     "metadata": {},
     "output_type": "execute_result"
    }
   ],
   "source": [
    "len(text)"
   ]
  },
  {
   "cell_type": "code",
   "execution_count": 4,
   "id": "d4daeb98",
   "metadata": {},
   "outputs": [
    {
     "name": "stdout",
     "output_type": "stream",
     "text": [
      "24\n"
     ]
    }
   ],
   "source": [
    "#Positive Score \n",
    "with open(r\"C:\\Users\\Om Bhandwalkar\\Desktop\\pos\\positive-words.txt\") as pos:\n",
    "    poswords = pos.read().split(\"\\n\")  \n",
    "    poswords = poswords[5:]\n",
    "pos_count = \" \".join ([w for w in text if w in poswords])\n",
    "pos_count=pos_count.split(\" \")\n",
    "Positive_score=len(pos_count)\n",
    "print(Positive_score)"
   ]
  },
  {
   "cell_type": "code",
   "execution_count": 5,
   "id": "afb22fbf",
   "metadata": {},
   "outputs": [
    {
     "name": "stdout",
     "output_type": "stream",
     "text": [
      "3\n"
     ]
    }
   ],
   "source": [
    "#Negative Score\n",
    "with open(r\"C:\\Users\\Om Bhandwalkar\\Desktop\\pos\\negative-words.txt\",encoding =\"ISO-8859-1\") as neg:\n",
    "    negwords = neg.read().split(\"\\n\")\n",
    "    \n",
    "negwords = negwords[36:]\n",
    "neg_count = \" \".join ([w for w in text if w in negwords])\n",
    "neg_count=neg_count.split(\" \")\n",
    "Negative_score=len(neg_count)\n",
    "print(Negative_score)"
   ]
  },
  {
   "cell_type": "code",
   "execution_count": 6,
   "id": "a2dd1e59",
   "metadata": {},
   "outputs": [
    {
     "data": {
      "text/html": [
       "<div>\n",
       "<style scoped>\n",
       "    .dataframe tbody tr th:only-of-type {\n",
       "        vertical-align: middle;\n",
       "    }\n",
       "\n",
       "    .dataframe tbody tr th {\n",
       "        vertical-align: top;\n",
       "    }\n",
       "\n",
       "    .dataframe thead th {\n",
       "        text-align: right;\n",
       "    }\n",
       "</style>\n",
       "<table border=\"1\" class=\"dataframe\">\n",
       "  <thead>\n",
       "    <tr style=\"text-align: right;\">\n",
       "      <th></th>\n",
       "      <th>url</th>\n",
       "      <th>title</th>\n",
       "      <th>content</th>\n",
       "      <th>filter_content</th>\n",
       "      <th>Positive_Score</th>\n",
       "      <th>Negative_Score</th>\n",
       "      <th>polarity</th>\n",
       "      <th>subjectivity</th>\n",
       "    </tr>\n",
       "  </thead>\n",
       "  <tbody>\n",
       "    <tr>\n",
       "      <th>0</th>\n",
       "      <td>https://insights.blackcoffer.com/how-covid-19-...</td>\n",
       "      <td>How COVID-19 is impacting payment preferences?</td>\n",
       "      <td>I would rather pay cash – Before COVID19 I wo...</td>\n",
       "      <td>I would rather pay cash – Before COVID19 I wou...</td>\n",
       "      <td>24</td>\n",
       "      <td>3</td>\n",
       "      <td>0.090731</td>\n",
       "      <td>0.388428</td>\n",
       "    </tr>\n",
       "  </tbody>\n",
       "</table>\n",
       "</div>"
      ],
      "text/plain": [
       "                                                 url  \\\n",
       "0  https://insights.blackcoffer.com/how-covid-19-...   \n",
       "\n",
       "                                            title  \\\n",
       "0  How COVID-19 is impacting payment preferences?   \n",
       "\n",
       "                                             content  \\\n",
       "0   I would rather pay cash – Before COVID19 I wo...   \n",
       "\n",
       "                                      filter_content  Positive_Score  \\\n",
       "0  I would rather pay cash – Before COVID19 I wou...              24   \n",
       "\n",
       "   Negative_Score  polarity  subjectivity  \n",
       "0               3  0.090731      0.388428  "
      ]
     },
     "execution_count": 6,
     "metadata": {},
     "output_type": "execute_result"
    }
   ],
   "source": [
    "filter_content = ' '.join(text)\n",
    "data=[[url,title,content,filter_content,Positive_score,Negative_score]]\n",
    "data=pd.DataFrame(data,columns=[\"url\",\"title\",\"content\",\"filter_content\",\"Positive_Score\",\"Negative_Score\"])\n",
    "from textblob import TextBlob\n",
    "# Get The Subjectivity\n",
    "def sentiment_analysis(data):\n",
    "    sentiment = TextBlob(data[\"content\"]).sentiment\n",
    "    return pd.Series([sentiment.polarity,sentiment.subjectivity ])\n",
    "\n",
    "# Adding Subjectivity & Polarity\n",
    "data[[\"polarity\", \"subjectivity\"]] = data.apply(sentiment_analysis, axis=1)\n",
    "\n",
    "data"
   ]
  },
  {
   "cell_type": "code",
   "execution_count": 7,
   "id": "7522b1f3",
   "metadata": {},
   "outputs": [
    {
     "name": "stdout",
     "output_type": "stream",
     "text": [
      "Word average = 2875.0\n",
      "FOG INDEX =  247.02\n",
      "Average no of words per sentence\n",
      "612.0\n",
      "Complex Words 1012\n"
     ]
    }
   ],
   "source": [
    "#AVG SENTENCE LENGTH\n",
    "AVG_SENTENCE_LENGTH = len(content.replace(' ',''))/len(re.split(r'[?!.]', content))\n",
    "print('Word average =', AVG_SENTENCE_LENGTH)\n",
    "import textstat\n",
    "#Fog index \n",
    "FOG_INDEX=(textstat.gunning_fog(content))\n",
    "print(\"FOG INDEX = \",FOG_INDEX)\n",
    "#Average No of Words Per Sentence \n",
    "AVG_NUMBER_OF_WORDS_PER_SENTENCE = [len(l.split()) for l in re.split(r'[?!.]', content) if l.strip()]\n",
    "print(\"Average no of words per sentence\")\n",
    "AVG_NUMBER_OF_WORDS_PER_SENTENCE=print(sum(AVG_NUMBER_OF_WORDS_PER_SENTENCE)/len(AVG_NUMBER_OF_WORDS_PER_SENTENCE))\n",
    "#Complex words\n",
    "def syllable_count(word):\n",
    "    count = 0\n",
    "    vowels = \"AEIOUYaeiouy\"\n",
    "    if word[0] in vowels:\n",
    "        count += 1\n",
    "    for index in range(1, len(word)): \n",
    "        if word[index] in vowels and word[index - 1] not in vowels:\n",
    "            count += 1\n",
    "            if word.endswith(\"es\"or \"ed\"):\n",
    "                count -= 1\n",
    "    if count == 0:\n",
    "        count += 1\n",
    "    return count\n",
    "\n",
    "\n",
    "\n",
    "COMPLEX_WORDS=syllable_count(content)\n",
    "print(\"Complex Words\",COMPLEX_WORDS)\n"
   ]
  },
  {
   "cell_type": "code",
   "execution_count": 8,
   "id": "435c4d59",
   "metadata": {},
   "outputs": [
    {
     "name": "stdout",
     "output_type": "stream",
     "text": [
      "Word Count 3488\n",
      "Percentage of Complex Words 29.01376146788991\n",
      "Average Word per Length 4.697712418300654\n",
      "The AVG number of syllables in the word is: \n",
      "1.8611111111111112\n",
      "Word Count 3488\n",
      "Percentage of Complex Words 29.01376146788991\n",
      "Average Word per Length 4.697712418300654\n",
      "The AVG number of syllables in the word is: \n",
      "1.8611111111111112\n"
     ]
    }
   ],
   "source": [
    "#Word Count\n",
    "Word_Count=len(content)\n",
    "print(\"Word Count\",Word_Count)\n",
    "#Percentage Complex Words\n",
    "pcw=(COMPLEX_WORDS/Word_Count)*100\n",
    "print(\"Percentage of Complex Words\",pcw)\n",
    "#Average Word Length\n",
    "Average_Word_Length=len(content.replace(' ',''))/len(content.split())\n",
    "print(\"Average Word per Length\",Average_Word_Length)\n",
    "#Syllable Count Per Word\n",
    "word=content.replace(' ','')\n",
    "syllable_count=0\n",
    "for w in word:\n",
    "      if(w=='a' or w=='e' or w=='i' or w=='o' or w=='y' or w=='u' or w=='A' or w=='E' or w=='I' or w=='O' or w=='U' or w=='Y'):\n",
    "            syllable_count=syllable_count+1\n",
    "print(\"The AVG number of syllables in the word is: \")\n",
    "print(syllable_count/len(content.split()))#Word Count\n",
    "Word_Count=len(content)\n",
    "print(\"Word Count\",Word_Count)\n",
    "#Percentage Complex Words\n",
    "pcw=(COMPLEX_WORDS/Word_Count)*100\n",
    "print(\"Percentage of Complex Words\",pcw)\n",
    "#Average Word Length\n",
    "Average_Word_Length=len(content.replace(' ',''))/len(content.split())\n",
    "print(\"Average Word per Length\",Average_Word_Length)\n",
    "#Syllable Count Per Word\n",
    "word=content.replace(' ','')\n",
    "syllable_count=0\n",
    "for w in word:\n",
    "      if(w=='a' or w=='e' or w=='i' or w=='o' or w=='y' or w=='u' or w=='A' or w=='E' or w=='I' or w=='O' or w=='U' or w=='Y'):\n",
    "            syllable_count=syllable_count+1\n",
    "print(\"The AVG number of syllables in the word is: \")\n",
    "print(syllable_count/len(content.split()))"
   ]
  },
  {
   "cell_type": "code",
   "execution_count": 1,
   "id": "ce6ce152",
   "metadata": {},
   "outputs": [
    {
     "name": "stdout",
     "output_type": "stream",
     "text": [
      "24\n",
      "3\n",
      "Word average = 2875.0\n",
      "FOG INDEX =  247.02\n",
      "Average no of words per sentence\n",
      "612.0\n",
      "Complex Words 1012\n",
      "Word Count 3488\n",
      "Percentage of Complex Words 29.01376146788991\n",
      "Average Word per Length 4.697712418300654\n",
      "The AVG number of syllables in the word is: \n",
      "1.8611111111111112\n"
     ]
    },
    {
     "data": {
      "text/html": [
       "<div>\n",
       "<style scoped>\n",
       "    .dataframe tbody tr th:only-of-type {\n",
       "        vertical-align: middle;\n",
       "    }\n",
       "\n",
       "    .dataframe tbody tr th {\n",
       "        vertical-align: top;\n",
       "    }\n",
       "\n",
       "    .dataframe thead th {\n",
       "        text-align: right;\n",
       "    }\n",
       "</style>\n",
       "<table border=\"1\" class=\"dataframe\">\n",
       "  <thead>\n",
       "    <tr style=\"text-align: right;\">\n",
       "      <th></th>\n",
       "      <th>url</th>\n",
       "      <th>title</th>\n",
       "      <th>content</th>\n",
       "      <th>filter_content</th>\n",
       "      <th>Positive_Score</th>\n",
       "      <th>Negative_Score</th>\n",
       "      <th>Avg_Sentence_Length</th>\n",
       "      <th>Percentage_Complex_Word</th>\n",
       "      <th>Fog_Index</th>\n",
       "      <th>AVG_NUMBER_OF_WORDS_PER_SENTENCE</th>\n",
       "      <th>COMPLEX_WORDS</th>\n",
       "      <th>Word_Count</th>\n",
       "      <th>syllable</th>\n",
       "      <th>Average_Word_Length</th>\n",
       "      <th>polarity</th>\n",
       "      <th>subjectivity</th>\n",
       "    </tr>\n",
       "  </thead>\n",
       "  <tbody>\n",
       "    <tr>\n",
       "      <th>0</th>\n",
       "      <td>https://insights.blackcoffer.com/how-covid-19-...</td>\n",
       "      <td>How COVID-19 is impacting payment preferences?</td>\n",
       "      <td>I would rather pay cash – Before COVID19 I wo...</td>\n",
       "      <td>I would rather pay cash – Before COVID19 I wou...</td>\n",
       "      <td>24</td>\n",
       "      <td>3</td>\n",
       "      <td>2875.0</td>\n",
       "      <td>29.013761</td>\n",
       "      <td>247.02</td>\n",
       "      <td>612.0</td>\n",
       "      <td>1012</td>\n",
       "      <td>3488</td>\n",
       "      <td>1.861111</td>\n",
       "      <td>4.697712</td>\n",
       "      <td>0.090731</td>\n",
       "      <td>0.388428</td>\n",
       "    </tr>\n",
       "  </tbody>\n",
       "</table>\n",
       "</div>"
      ],
      "text/plain": [
       "                                                 url  \\\n",
       "0  https://insights.blackcoffer.com/how-covid-19-...   \n",
       "\n",
       "                                            title  \\\n",
       "0  How COVID-19 is impacting payment preferences?   \n",
       "\n",
       "                                             content  \\\n",
       "0   I would rather pay cash – Before COVID19 I wo...   \n",
       "\n",
       "                                      filter_content  Positive_Score  \\\n",
       "0  I would rather pay cash – Before COVID19 I wou...              24   \n",
       "\n",
       "   Negative_Score  Avg_Sentence_Length  Percentage_Complex_Word  Fog_Index  \\\n",
       "0               3               2875.0                29.013761     247.02   \n",
       "\n",
       "    AVG_NUMBER_OF_WORDS_PER_SENTENCE  COMPLEX_WORDS  Word_Count  syllable  \\\n",
       "0                              612.0           1012        3488  1.861111   \n",
       "\n",
       "   Average_Word_Length  polarity  subjectivity  \n",
       "0             4.697712  0.090731      0.388428  "
      ]
     },
     "execution_count": 1,
     "metadata": {},
     "output_type": "execute_result"
    }
   ],
   "source": [
    "import requests\n",
    "import pandas as pd \n",
    "from bs4 import BeautifulSoup\n",
    "import string\n",
    "import spacy\n",
    "import re\n",
    "url = \"\"\"https://insights.blackcoffer.com/how-covid-19-is-impacting-payment-preferences/\"\"\"\n",
    "headers = {\"User-Agent\": \"Mozilla/5.0 (X11; Linux x86_64; rv:60.0) Gecko/20100101 Firefox/60.0\"}\n",
    "page = requests.get(url, headers=headers)\n",
    "soup = BeautifulSoup(page.content, 'html.parser')\n",
    "soup=BeautifulSoup(page.content, 'html.parser')\n",
    "title=soup.find('h1',class_=\"entry-title\")\n",
    "title=title.text.replace('\\n',\" \")\n",
    "# title\n",
    "\n",
    "content=soup.findAll(attrs={'class':'td-post-content'})\n",
    "content=content[0].text.replace('\\n',\" \")\n",
    "# print(content)\n",
    "#Punctuation\n",
    "content = content.translate(str.maketrans('', '', string.punctuation)) \n",
    "# print(content)\n",
    "text = content.split()\n",
    "# print(text)\n",
    "len(text)\n",
    "#Positive Score \n",
    "with open(r\"C:\\Users\\Om Bhandwalkar\\Desktop\\pos\\positive-words.txt\") as pos:\n",
    "    poswords = pos.read().split(\"\\n\")  \n",
    "    poswords = poswords[5:]\n",
    "pos_count = \" \".join ([w for w in text if w in poswords])\n",
    "pos_count=pos_count.split(\" \")\n",
    "Positive_score=len(pos_count)\n",
    "print(Positive_score)\n",
    "\n",
    "#Negative Score\n",
    "with open(r\"C:\\Users\\Om Bhandwalkar\\Desktop\\pos\\negative-words.txt\",encoding =\"ISO-8859-1\") as neg:\n",
    "    negwords = neg.read().split(\"\\n\")\n",
    "    \n",
    "negwords = negwords[36:]\n",
    "neg_count = \" \".join ([w for w in text if w in negwords])\n",
    "neg_count=neg_count.split(\" \")\n",
    "Negative_score=len(neg_count)\n",
    "print(Negative_score)\n",
    "\n",
    "\n",
    "filter_content = ' '.join(text)\n",
    "data=[[url,title,content,filter_content,Positive_score,Negative_score]]\n",
    "data=pd.DataFrame(data,columns=[\"url\",\"title\",\"content\",\"filter_content\",\"Positive_Score\",\"Negative_Score\"])\n",
    "from textblob import TextBlob\n",
    "# Get The Subjectivity\n",
    "def sentiment_analysis(data):\n",
    "    sentiment = TextBlob(data[\"content\"]).sentiment\n",
    "    return pd.Series([sentiment.polarity,sentiment.subjectivity ])\n",
    "data[[\"polarity\", \"subjectivity\"]] = data.apply(sentiment_analysis, axis=1)\n",
    "data\n",
    "#AVG SENTENCE LENGTH\n",
    "AVG_SENTENCE_LENGTH = len(content.replace(' ',''))/len(re.split(r'[?!.]', content))\n",
    "print('Word average =', AVG_SENTENCE_LENGTH)\n",
    "import textstat\n",
    "#Fog index \n",
    "FOG_INDEX=(textstat.gunning_fog(content))\n",
    "print(\"FOG INDEX = \",FOG_INDEX)\n",
    "#Average No of Words Per Sentence \n",
    "AVG_NUMBER_OF_WORDS_PER_SENTENCE = [len(l.split()) for l in re.split(r'[?!.]', content) if l.strip()]\n",
    "print(\"Average no of words per sentence\")\n",
    "AVG_NUMBER_OF_WORDS_PER_SENTENCE=(sum(AVG_NUMBER_OF_WORDS_PER_SENTENCE)/len(AVG_NUMBER_OF_WORDS_PER_SENTENCE))\n",
    "print(AVG_NUMBER_OF_WORDS_PER_SENTENCE)\n",
    "#Complex words\n",
    "def syllable_count(word):\n",
    "    count = 0\n",
    "    vowels = \"AEIOUYaeiouy\"\n",
    "    if word[0] in vowels:\n",
    "        count += 1\n",
    "    for index in range(1, len(word)): \n",
    "        if word[index] in vowels and word[index - 1] not in vowels:\n",
    "            count += 1\n",
    "            if word.endswith(\"es\"or \"ed\"):\n",
    "                count -= 1\n",
    "    if count == 0:\n",
    "        count += 1\n",
    "    return count\n",
    "\n",
    "\n",
    "\n",
    "COMPLEX_WORDS=syllable_count(content)\n",
    "print(\"Complex Words\",COMPLEX_WORDS)\n",
    "#Word Count\n",
    "Word_Count=len(content)\n",
    "print(\"Word Count\",Word_Count)\n",
    "#Percentage Complex Words\n",
    "pcw=(COMPLEX_WORDS/Word_Count)*100\n",
    "print(\"Percentage of Complex Words\",pcw)\n",
    "#Average Word Length\n",
    "Average_Word_Length=len(content.replace(' ',''))/len(content.split())\n",
    "print(\"Average Word per Length\",Average_Word_Length)\n",
    "#Syllable Count Per Word\n",
    "word=content.replace(' ','')\n",
    "syllable_count=0\n",
    "for w in word:\n",
    "      if(w=='a' or w=='e' or w=='i' or w=='o' or w=='y' or w=='u' or w=='A' or w=='E' or w=='I' or w=='O' or w=='U' or w=='Y'):\n",
    "            syllable_count=syllable_count+1\n",
    "print(\"The AVG number of syllables in the word is: \")\n",
    "syllable = (syllable_count/len(content.split()))\n",
    "print(syllable)\n",
    "\n",
    "data = [[url,title,content,filter_content,Positive_score,Negative_score,AVG_SENTENCE_LENGTH,pcw,FOG_INDEX,\n",
    "         AVG_NUMBER_OF_WORDS_PER_SENTENCE,COMPLEX_WORDS,Word_Count,syllable,Average_Word_Length]]\n",
    "data=pd.DataFrame(data,columns=[\"url\",\"title\",\"content\",\"filter_content\",\"Positive_Score\",\"Negative_Score\",\"Avg_Sentence_Length\"\n",
    "                               ,\"Percentage_Complex_Word\",\"Fog_Index\",\" AVG_NUMBER_OF_WORDS_PER_SENTENCE\",\"COMPLEX_WORDS\",\n",
    "                               \"Word_Count\",\"syllable\",\"Average_Word_Length\"])\n",
    "from textblob import TextBlob\n",
    "# Get The Subjectivity\n",
    "def sentiment_analysis(data):\n",
    "    sentiment = TextBlob(data[\"content\"]).sentiment\n",
    "    return pd.Series([sentiment.polarity,sentiment.subjectivity ])\n",
    "data[[\"polarity\", \"subjectivity\"]] = data.apply(sentiment_analysis, axis=1)\n",
    "data"
   ]
  },
  {
   "cell_type": "code",
   "execution_count": 2,
   "id": "8f4ce766",
   "metadata": {},
   "outputs": [],
   "source": [
    "data.to_csv(r'C:\\Users\\Om Bhandwalkar\\Desktop\\BlackCoffer Assignment\\Output\\url_107.csv')"
   ]
  },
  {
   "cell_type": "code",
   "execution_count": null,
   "id": "bd3f7edb",
   "metadata": {},
   "outputs": [],
   "source": []
  }
 ],
 "metadata": {
  "kernelspec": {
   "display_name": "Python 3 (ipykernel)",
   "language": "python",
   "name": "python3"
  },
  "language_info": {
   "codemirror_mode": {
    "name": "ipython",
    "version": 3
   },
   "file_extension": ".py",
   "mimetype": "text/x-python",
   "name": "python",
   "nbconvert_exporter": "python",
   "pygments_lexer": "ipython3",
   "version": "3.9.12"
  }
 },
 "nbformat": 4,
 "nbformat_minor": 5
}
