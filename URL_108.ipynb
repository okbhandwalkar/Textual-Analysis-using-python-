{
 "cells": [
  {
   "cell_type": "code",
   "execution_count": 1,
   "id": "bf9a9742",
   "metadata": {},
   "outputs": [
    {
     "data": {
      "text/plain": [
       "'How will COVID-19 affect the world of work?'"
      ]
     },
     "execution_count": 1,
     "metadata": {},
     "output_type": "execute_result"
    }
   ],
   "source": [
    "import requests\n",
    "import pandas as pd \n",
    "from bs4 import BeautifulSoup\n",
    "import string\n",
    "import spacy\n",
    "import re\n",
    "url = \"\"\"https://insights.blackcoffer.com/how-will-covid-19-affect-the-world-of-work-2/\"\"\"\n",
    "headers = {\"User-Agent\": \"Mozilla/5.0 (X11; Linux x86_64; rv:60.0) Gecko/20100101 Firefox/60.0\"}\n",
    "page = requests.get(url, headers=headers)\n",
    "soup = BeautifulSoup(page.content, 'html.parser')\n",
    "soup=BeautifulSoup(page.content, 'html.parser')\n",
    "title=soup.find('h1',class_=\"entry-title\")\n",
    "title=title.text.replace('\\n',\" \")\n",
    "title\n"
   ]
  },
  {
   "cell_type": "code",
   "execution_count": 2,
   "id": "0bbeaee0",
   "metadata": {},
   "outputs": [
    {
     "name": "stdout",
     "output_type": "stream",
     "text": [
      " As business close to help prevent transmission of COVID-19, financial concerns and job losses are one of the first human impacts of the virus; Not knowing how this pandemic will play out also affects our economic, physical and mental well-being;Despite this fear, businesses and communities in many regions have shown a more altruistic response in the face of crisis – actions which could help countries preparing for COVID-19. COVID-19 is in decline in China. There are now more new cases every day in Europe than there were in China at the epidemic’s peak and Italy has surpassed it as the country with the most deaths from the virus It took 67 days to reach the first 100,000 confirmed cases worldwide, 11 days for this to increase to 200,000and just four to reach 300,000 confirmed cases – a figure now exceeded. The Human Consequences In recent weeks, we have seen the significant economic impact of the coronavirus on financial markets and vulnerable industries such as manufacturing, tourism, hospitality and travel. Travel and tourism account for 10% of the global GDP and 50 million jobs are at risk worldwide. Global tourism, travel and hospitality companies closing down affects SMEs globally. This, in turn, affects many people, typically the least well-paid and those self-employed or working in informal environments in the gig economy or in part-time work with zero-hours contracts. Some governments have announced economic measures to safeguard jobs, guarantee wages and support the self-employed, but there is a lack of clarity in many countries about how these measures will be implemented and how people will manage a loss of income in the short-term. Behind these statistics lie the human costs of the pandemic, from the deaths of friends and family to the physical effects of infection and the mental trauma and fear faced by almost everyone. Not knowing how this pandemic will play out affects our economic, physical and mental well-being against a backdrop of a world that, for many, is increasingly anxious, unhappy and lonely. Fear of the unknown can often lead to feelings of panic, for example when people feel they are being denied life-saving protection or treatment or that they may run out of necessities, which can lead to panic buying.Psychological stress is often related to a sense of a lack of control in the face of uncertainty. In all cases, lack of information or the wrong information, either provided inadvertently or maliciously, can amplify the effects. There is a huge amount of misleading information circulating online about COVID-19, from fake medical information to speculation about government responses. People are susceptible to social media posts from an apparently trustworthy source, often referred to as an “Uncle with a Masters”-post, possibly amplified and spread by “copypasta” posts, which share information by copying and pasting and make each new post look like an original source, as opposed to posts that are “liked” or “shared” or “retweeted”. Sadly, criminals and hackers are also exploiting this situation and there has been a significant rise in Coronavirus-themed malicious websites, with more than 16,000 new coronavirus-related domains registered since January 2020. Hackers are selling malware and hacking tools through COVID-19 discount codes on the darknet,many of which are aimed at accessing corporate data from home-workers’ laptops, which may not be as secure as outside an office environment. Social distancing and lockdowns have also prompted altruistic behaviors, in part because of the sense that “we’re all in this together”. Many people report being bored or concerned about putting on weight; others have discovered a slower pace of life and by not going out and socializing have found more time for family, others, and even their pets. The downside of self-isolation or social lockdown are symptoms of traumatic stress, confusion and anger, all of which are exacerbated by fear of infection, having limited access to supplies of necessities, inadequate information or the experience of economic loss or stigma. This stress and anxiety can lead to increased alcohol consumption, as well as an increase in domestic and family violence.In Jingzhou, a town near Wuhan in Hubei province, reports of domestic violence during the lockdown in February 2020 were more than triple the number reported in February 2019. Essential Actions From The Business Community Health measures must be the first priority for governments, business and society. It is important for businesses to show solidarity and work together to protect staff, local communities and customers, as well as keeping supply chains, manufacturing and logistics working.According to research, “my employer” is more trusted than the government or media. Daily updates on a company website with input from scientists and experts are recommended to counter politicized messages in the media and from governments. This is particularly true for large companies that have the capacity to do this. Messages about what businesses are doing for their employees and in their communities is also important. Some companies are helping schoolchildren from vulnerable families who can no longer get a school meal; others are providing public health messages about effective handwashing. Even CEOs can show they are working from home and self-isolating, while still being effective in their leadership. Following WHO advice, there is a need for the business community to move from general support to specific actions and focus on countries’ access to critical supplies, including a “Community Package of Critical Items” (a list of 46 items that all countries need). Of these items, 20 are either not available locally or available stocks are too limited. These missing items fall into four categories: Hygiene: Chlorine, HTH 70%, alcohol based hand rub, liquid soap;Diagnostics: lab screening tests, lab confirmation tests, enzymes, RNA extraction kits;PPE: gowns, scrubs, aprons, sterile gloves, protective goggles, face shields, masks (N95 or FFP2);Case management equipment: oxygen concentrators, oxygen delivery systems, mechanical ventilators. The call for action is for more money, to work with manufacturers to create capacity and to organize purchasing so there is guaranteed access, especially for poorer countries with less resilient public health systems. The concept is to create a global security stockpile of supplies and equipment, an effort that needs: Emergency financingAccess to and increases in manufacturing capacityAccess to national and supplier stockpilesWarehouses and distribution capacity Blackcoffer Insights 17:-Jatin Tiwari,Gurukul Kangri Deemed University, Haridwar \n",
      " As business close to help prevent transmission of COVID19 financial concerns and job losses are one of the first human impacts of the virus Not knowing how this pandemic will play out also affects our economic physical and mental wellbeingDespite this fear businesses and communities in many regions have shown a more altruistic response in the face of crisis – actions which could help countries preparing for COVID19 COVID19 is in decline in China There are now more new cases every day in Europe than there were in China at the epidemic’s peak and Italy has surpassed it as the country with the most deaths from the virus It took 67 days to reach the first 100000 confirmed cases worldwide 11 days for this to increase to 200000and just four to reach 300000 confirmed cases – a figure now exceeded The Human Consequences In recent weeks we have seen the significant economic impact of the coronavirus on financial markets and vulnerable industries such as manufacturing tourism hospitality and travel Travel and tourism account for 10 of the global GDP and 50 million jobs are at risk worldwide Global tourism travel and hospitality companies closing down affects SMEs globally This in turn affects many people typically the least wellpaid and those selfemployed or working in informal environments in the gig economy or in parttime work with zerohours contracts Some governments have announced economic measures to safeguard jobs guarantee wages and support the selfemployed but there is a lack of clarity in many countries about how these measures will be implemented and how people will manage a loss of income in the shortterm Behind these statistics lie the human costs of the pandemic from the deaths of friends and family to the physical effects of infection and the mental trauma and fear faced by almost everyone Not knowing how this pandemic will play out affects our economic physical and mental wellbeing against a backdrop of a world that for many is increasingly anxious unhappy and lonely Fear of the unknown can often lead to feelings of panic for example when people feel they are being denied lifesaving protection or treatment or that they may run out of necessities which can lead to panic buyingPsychological stress is often related to a sense of a lack of control in the face of uncertainty In all cases lack of information or the wrong information either provided inadvertently or maliciously can amplify the effects There is a huge amount of misleading information circulating online about COVID19 from fake medical information to speculation about government responses People are susceptible to social media posts from an apparently trustworthy source often referred to as an “Uncle with a Masters”post possibly amplified and spread by “copypasta” posts which share information by copying and pasting and make each new post look like an original source as opposed to posts that are “liked” or “shared” or “retweeted” Sadly criminals and hackers are also exploiting this situation and there has been a significant rise in Coronavirusthemed malicious websites with more than 16000 new coronavirusrelated domains registered since January 2020 Hackers are selling malware and hacking tools through COVID19 discount codes on the darknetmany of which are aimed at accessing corporate data from homeworkers’ laptops which may not be as secure as outside an office environment Social distancing and lockdowns have also prompted altruistic behaviors in part because of the sense that “we’re all in this together” Many people report being bored or concerned about putting on weight others have discovered a slower pace of life and by not going out and socializing have found more time for family others and even their pets The downside of selfisolation or social lockdown are symptoms of traumatic stress confusion and anger all of which are exacerbated by fear of infection having limited access to supplies of necessities inadequate information or the experience of economic loss or stigma This stress and anxiety can lead to increased alcohol consumption as well as an increase in domestic and family violenceIn Jingzhou a town near Wuhan in Hubei province reports of domestic violence during the lockdown in February 2020 were more than triple the number reported in February 2019 Essential Actions From The Business Community Health measures must be the first priority for governments business and society It is important for businesses to show solidarity and work together to protect staff local communities and customers as well as keeping supply chains manufacturing and logistics workingAccording to research “my employer” is more trusted than the government or media Daily updates on a company website with input from scientists and experts are recommended to counter politicized messages in the media and from governments This is particularly true for large companies that have the capacity to do this Messages about what businesses are doing for their employees and in their communities is also important Some companies are helping schoolchildren from vulnerable families who can no longer get a school meal others are providing public health messages about effective handwashing Even CEOs can show they are working from home and selfisolating while still being effective in their leadership Following WHO advice there is a need for the business community to move from general support to specific actions and focus on countries’ access to critical supplies including a “Community Package of Critical Items” a list of 46 items that all countries need Of these items 20 are either not available locally or available stocks are too limited These missing items fall into four categories Hygiene Chlorine HTH 70 alcohol based hand rub liquid soapDiagnostics lab screening tests lab confirmation tests enzymes RNA extraction kitsPPE gowns scrubs aprons sterile gloves protective goggles face shields masks N95 or FFP2Case management equipment oxygen concentrators oxygen delivery systems mechanical ventilators The call for action is for more money to work with manufacturers to create capacity and to organize purchasing so there is guaranteed access especially for poorer countries with less resilient public health systems The concept is to create a global security stockpile of supplies and equipment an effort that needs Emergency financingAccess to and increases in manufacturing capacityAccess to national and supplier stockpilesWarehouses and distribution capacity Blackcoffer Insights 17Jatin TiwariGurukul Kangri Deemed University Haridwar \n",
      "['As', 'business', 'close', 'to', 'help', 'prevent', 'transmission', 'of', 'COVID19', 'financial', 'concerns', 'and', 'job', 'losses', 'are', 'one', 'of', 'the', 'first', 'human', 'impacts', 'of', 'the', 'virus', 'Not', 'knowing', 'how', 'this', 'pandemic', 'will', 'play', 'out', 'also', 'affects', 'our', 'economic', 'physical', 'and', 'mental', 'wellbeingDespite', 'this', 'fear', 'businesses', 'and', 'communities', 'in', 'many', 'regions', 'have', 'shown', 'a', 'more', 'altruistic', 'response', 'in', 'the', 'face', 'of', 'crisis', '–', 'actions', 'which', 'could', 'help', 'countries', 'preparing', 'for', 'COVID19', 'COVID19', 'is', 'in', 'decline', 'in', 'China', 'There', 'are', 'now', 'more', 'new', 'cases', 'every', 'day', 'in', 'Europe', 'than', 'there', 'were', 'in', 'China', 'at', 'the', 'epidemic’s', 'peak', 'and', 'Italy', 'has', 'surpassed', 'it', 'as', 'the', 'country', 'with', 'the', 'most', 'deaths', 'from', 'the', 'virus', 'It', 'took', '67', 'days', 'to', 'reach', 'the', 'first', '100000', 'confirmed', 'cases', 'worldwide', '11', 'days', 'for', 'this', 'to', 'increase', 'to', '200000and', 'just', 'four', 'to', 'reach', '300000', 'confirmed', 'cases', '–', 'a', 'figure', 'now', 'exceeded', 'The', 'Human', 'Consequences', 'In', 'recent', 'weeks', 'we', 'have', 'seen', 'the', 'significant', 'economic', 'impact', 'of', 'the', 'coronavirus', 'on', 'financial', 'markets', 'and', 'vulnerable', 'industries', 'such', 'as', 'manufacturing', 'tourism', 'hospitality', 'and', 'travel', 'Travel', 'and', 'tourism', 'account', 'for', '10', 'of', 'the', 'global', 'GDP', 'and', '50', 'million', 'jobs', 'are', 'at', 'risk', 'worldwide', 'Global', 'tourism', 'travel', 'and', 'hospitality', 'companies', 'closing', 'down', 'affects', 'SMEs', 'globally', 'This', 'in', 'turn', 'affects', 'many', 'people', 'typically', 'the', 'least', 'wellpaid', 'and', 'those', 'selfemployed', 'or', 'working', 'in', 'informal', 'environments', 'in', 'the', 'gig', 'economy', 'or', 'in', 'parttime', 'work', 'with', 'zerohours', 'contracts', 'Some', 'governments', 'have', 'announced', 'economic', 'measures', 'to', 'safeguard', 'jobs', 'guarantee', 'wages', 'and', 'support', 'the', 'selfemployed', 'but', 'there', 'is', 'a', 'lack', 'of', 'clarity', 'in', 'many', 'countries', 'about', 'how', 'these', 'measures', 'will', 'be', 'implemented', 'and', 'how', 'people', 'will', 'manage', 'a', 'loss', 'of', 'income', 'in', 'the', 'shortterm', 'Behind', 'these', 'statistics', 'lie', 'the', 'human', 'costs', 'of', 'the', 'pandemic', 'from', 'the', 'deaths', 'of', 'friends', 'and', 'family', 'to', 'the', 'physical', 'effects', 'of', 'infection', 'and', 'the', 'mental', 'trauma', 'and', 'fear', 'faced', 'by', 'almost', 'everyone', 'Not', 'knowing', 'how', 'this', 'pandemic', 'will', 'play', 'out', 'affects', 'our', 'economic', 'physical', 'and', 'mental', 'wellbeing', 'against', 'a', 'backdrop', 'of', 'a', 'world', 'that', 'for', 'many', 'is', 'increasingly', 'anxious', 'unhappy', 'and', 'lonely', 'Fear', 'of', 'the', 'unknown', 'can', 'often', 'lead', 'to', 'feelings', 'of', 'panic', 'for', 'example', 'when', 'people', 'feel', 'they', 'are', 'being', 'denied', 'lifesaving', 'protection', 'or', 'treatment', 'or', 'that', 'they', 'may', 'run', 'out', 'of', 'necessities', 'which', 'can', 'lead', 'to', 'panic', 'buyingPsychological', 'stress', 'is', 'often', 'related', 'to', 'a', 'sense', 'of', 'a', 'lack', 'of', 'control', 'in', 'the', 'face', 'of', 'uncertainty', 'In', 'all', 'cases', 'lack', 'of', 'information', 'or', 'the', 'wrong', 'information', 'either', 'provided', 'inadvertently', 'or', 'maliciously', 'can', 'amplify', 'the', 'effects', 'There', 'is', 'a', 'huge', 'amount', 'of', 'misleading', 'information', 'circulating', 'online', 'about', 'COVID19', 'from', 'fake', 'medical', 'information', 'to', 'speculation', 'about', 'government', 'responses', 'People', 'are', 'susceptible', 'to', 'social', 'media', 'posts', 'from', 'an', 'apparently', 'trustworthy', 'source', 'often', 'referred', 'to', 'as', 'an', '“Uncle', 'with', 'a', 'Masters”post', 'possibly', 'amplified', 'and', 'spread', 'by', '“copypasta”', 'posts', 'which', 'share', 'information', 'by', 'copying', 'and', 'pasting', 'and', 'make', 'each', 'new', 'post', 'look', 'like', 'an', 'original', 'source', 'as', 'opposed', 'to', 'posts', 'that', 'are', '“liked”', 'or', '“shared”', 'or', '“retweeted”', 'Sadly', 'criminals', 'and', 'hackers', 'are', 'also', 'exploiting', 'this', 'situation', 'and', 'there', 'has', 'been', 'a', 'significant', 'rise', 'in', 'Coronavirusthemed', 'malicious', 'websites', 'with', 'more', 'than', '16000', 'new', 'coronavirusrelated', 'domains', 'registered', 'since', 'January', '2020', 'Hackers', 'are', 'selling', 'malware', 'and', 'hacking', 'tools', 'through', 'COVID19', 'discount', 'codes', 'on', 'the', 'darknetmany', 'of', 'which', 'are', 'aimed', 'at', 'accessing', 'corporate', 'data', 'from', 'homeworkers’', 'laptops', 'which', 'may', 'not', 'be', 'as', 'secure', 'as', 'outside', 'an', 'office', 'environment', 'Social', 'distancing', 'and', 'lockdowns', 'have', 'also', 'prompted', 'altruistic', 'behaviors', 'in', 'part', 'because', 'of', 'the', 'sense', 'that', '“we’re', 'all', 'in', 'this', 'together”', 'Many', 'people', 'report', 'being', 'bored', 'or', 'concerned', 'about', 'putting', 'on', 'weight', 'others', 'have', 'discovered', 'a', 'slower', 'pace', 'of', 'life', 'and', 'by', 'not', 'going', 'out', 'and', 'socializing', 'have', 'found', 'more', 'time', 'for', 'family', 'others', 'and', 'even', 'their', 'pets', 'The', 'downside', 'of', 'selfisolation', 'or', 'social', 'lockdown', 'are', 'symptoms', 'of', 'traumatic', 'stress', 'confusion', 'and', 'anger', 'all', 'of', 'which', 'are', 'exacerbated', 'by', 'fear', 'of', 'infection', 'having', 'limited', 'access', 'to', 'supplies', 'of', 'necessities', 'inadequate', 'information', 'or', 'the', 'experience', 'of', 'economic', 'loss', 'or', 'stigma', 'This', 'stress', 'and', 'anxiety', 'can', 'lead', 'to', 'increased', 'alcohol', 'consumption', 'as', 'well', 'as', 'an', 'increase', 'in', 'domestic', 'and', 'family', 'violenceIn', 'Jingzhou', 'a', 'town', 'near', 'Wuhan', 'in', 'Hubei', 'province', 'reports', 'of', 'domestic', 'violence', 'during', 'the', 'lockdown', 'in', 'February', '2020', 'were', 'more', 'than', 'triple', 'the', 'number', 'reported', 'in', 'February', '2019', 'Essential', 'Actions', 'From', 'The', 'Business', 'Community', 'Health', 'measures', 'must', 'be', 'the', 'first', 'priority', 'for', 'governments', 'business', 'and', 'society', 'It', 'is', 'important', 'for', 'businesses', 'to', 'show', 'solidarity', 'and', 'work', 'together', 'to', 'protect', 'staff', 'local', 'communities', 'and', 'customers', 'as', 'well', 'as', 'keeping', 'supply', 'chains', 'manufacturing', 'and', 'logistics', 'workingAccording', 'to', 'research', '“my', 'employer”', 'is', 'more', 'trusted', 'than', 'the', 'government', 'or', 'media', 'Daily', 'updates', 'on', 'a', 'company', 'website', 'with', 'input', 'from', 'scientists', 'and', 'experts', 'are', 'recommended', 'to', 'counter', 'politicized', 'messages', 'in', 'the', 'media', 'and', 'from', 'governments', 'This', 'is', 'particularly', 'true', 'for', 'large', 'companies', 'that', 'have', 'the', 'capacity', 'to', 'do', 'this', 'Messages', 'about', 'what', 'businesses', 'are', 'doing', 'for', 'their', 'employees', 'and', 'in', 'their', 'communities', 'is', 'also', 'important', 'Some', 'companies', 'are', 'helping', 'schoolchildren', 'from', 'vulnerable', 'families', 'who', 'can', 'no', 'longer', 'get', 'a', 'school', 'meal', 'others', 'are', 'providing', 'public', 'health', 'messages', 'about', 'effective', 'handwashing', 'Even', 'CEOs', 'can', 'show', 'they', 'are', 'working', 'from', 'home', 'and', 'selfisolating', 'while', 'still', 'being', 'effective', 'in', 'their', 'leadership', 'Following', 'WHO', 'advice', 'there', 'is', 'a', 'need', 'for', 'the', 'business', 'community', 'to', 'move', 'from', 'general', 'support', 'to', 'specific', 'actions', 'and', 'focus', 'on', 'countries’', 'access', 'to', 'critical', 'supplies', 'including', 'a', '“Community', 'Package', 'of', 'Critical', 'Items”', 'a', 'list', 'of', '46', 'items', 'that', 'all', 'countries', 'need', 'Of', 'these', 'items', '20', 'are', 'either', 'not', 'available', 'locally', 'or', 'available', 'stocks', 'are', 'too', 'limited', 'These', 'missing', 'items', 'fall', 'into', 'four', 'categories', 'Hygiene', 'Chlorine', 'HTH', '70', 'alcohol', 'based', 'hand', 'rub', 'liquid', 'soapDiagnostics', 'lab', 'screening', 'tests', 'lab', 'confirmation', 'tests', 'enzymes', 'RNA', 'extraction', 'kitsPPE', 'gowns', 'scrubs', 'aprons', 'sterile', 'gloves', 'protective', 'goggles', 'face', 'shields', 'masks', 'N95', 'or', 'FFP2Case', 'management', 'equipment', 'oxygen', 'concentrators', 'oxygen', 'delivery', 'systems', 'mechanical', 'ventilators', 'The', 'call', 'for', 'action', 'is', 'for', 'more', 'money', 'to', 'work', 'with', 'manufacturers', 'to', 'create', 'capacity', 'and', 'to', 'organize', 'purchasing', 'so', 'there', 'is', 'guaranteed', 'access', 'especially', 'for', 'poorer', 'countries', 'with', 'less', 'resilient', 'public', 'health', 'systems', 'The', 'concept', 'is', 'to', 'create', 'a', 'global', 'security', 'stockpile', 'of', 'supplies', 'and', 'equipment', 'an', 'effort', 'that', 'needs', 'Emergency', 'financingAccess', 'to', 'and', 'increases', 'in', 'manufacturing', 'capacityAccess', 'to', 'national', 'and', 'supplier', 'stockpilesWarehouses', 'and', 'distribution', 'capacity', 'Blackcoffer', 'Insights', '17Jatin', 'TiwariGurukul', 'Kangri', 'Deemed', 'University', 'Haridwar']\n"
     ]
    }
   ],
   "source": [
    "content=soup.findAll(attrs={'class':'td-post-content'})\n",
    "content=content[0].text.replace('\\n',\" \")\n",
    "print(content)\n",
    "#Punctuation\n",
    "content = content.translate(str.maketrans('', '', string.punctuation)) \n",
    "print(content)\n",
    "text = content.split()\n",
    "print(text)\n"
   ]
  },
  {
   "cell_type": "code",
   "execution_count": 4,
   "id": "ea4fbdb8",
   "metadata": {},
   "outputs": [
    {
     "data": {
      "text/plain": [
       "1036"
      ]
     },
     "execution_count": 4,
     "metadata": {},
     "output_type": "execute_result"
    }
   ],
   "source": [
    "len(text)"
   ]
  },
  {
   "cell_type": "code",
   "execution_count": 5,
   "id": "0c4ed806",
   "metadata": {},
   "outputs": [
    {
     "name": "stdout",
     "output_type": "stream",
     "text": [
      "35\n"
     ]
    }
   ],
   "source": [
    "#Positive Score \n",
    "with open(r\"C:\\Users\\Om Bhandwalkar\\Desktop\\pos\\positive-words.txt\") as pos:\n",
    "    poswords = pos.read().split(\"\\n\")  \n",
    "    poswords = poswords[5:]\n",
    "pos_count = \" \".join ([w for w in text if w in poswords])\n",
    "pos_count=pos_count.split(\" \")\n",
    "Positive_score=len(pos_count)\n",
    "print(Positive_score)"
   ]
  },
  {
   "cell_type": "code",
   "execution_count": 6,
   "id": "d4645051",
   "metadata": {},
   "outputs": [
    {
     "name": "stdout",
     "output_type": "stream",
     "text": [
      "53\n"
     ]
    }
   ],
   "source": [
    "#Negative Score\n",
    "with open(r\"C:\\Users\\Om Bhandwalkar\\Desktop\\pos\\negative-words.txt\",encoding =\"ISO-8859-1\") as neg:\n",
    "    negwords = neg.read().split(\"\\n\")\n",
    "    \n",
    "negwords = negwords[36:]\n",
    "neg_count = \" \".join ([w for w in text if w in negwords])\n",
    "neg_count=neg_count.split(\" \")\n",
    "Negative_score=len(neg_count)\n",
    "print(Negative_score)"
   ]
  },
  {
   "cell_type": "code",
   "execution_count": 7,
   "id": "2b3ef2a5",
   "metadata": {},
   "outputs": [
    {
     "data": {
      "text/html": [
       "<div>\n",
       "<style scoped>\n",
       "    .dataframe tbody tr th:only-of-type {\n",
       "        vertical-align: middle;\n",
       "    }\n",
       "\n",
       "    .dataframe tbody tr th {\n",
       "        vertical-align: top;\n",
       "    }\n",
       "\n",
       "    .dataframe thead th {\n",
       "        text-align: right;\n",
       "    }\n",
       "</style>\n",
       "<table border=\"1\" class=\"dataframe\">\n",
       "  <thead>\n",
       "    <tr style=\"text-align: right;\">\n",
       "      <th></th>\n",
       "      <th>url</th>\n",
       "      <th>title</th>\n",
       "      <th>content</th>\n",
       "      <th>filter_content</th>\n",
       "      <th>Positive_Score</th>\n",
       "      <th>Negative_Score</th>\n",
       "      <th>polarity</th>\n",
       "      <th>subjectivity</th>\n",
       "    </tr>\n",
       "  </thead>\n",
       "  <tbody>\n",
       "    <tr>\n",
       "      <th>0</th>\n",
       "      <td>https://insights.blackcoffer.com/how-will-covi...</td>\n",
       "      <td>How will COVID-19 affect the world of work?</td>\n",
       "      <td>As business close to help prevent transmissio...</td>\n",
       "      <td>As business close to help prevent transmission...</td>\n",
       "      <td>35</td>\n",
       "      <td>53</td>\n",
       "      <td>0.085666</td>\n",
       "      <td>0.412704</td>\n",
       "    </tr>\n",
       "  </tbody>\n",
       "</table>\n",
       "</div>"
      ],
      "text/plain": [
       "                                                 url  \\\n",
       "0  https://insights.blackcoffer.com/how-will-covi...   \n",
       "\n",
       "                                         title  \\\n",
       "0  How will COVID-19 affect the world of work?   \n",
       "\n",
       "                                             content  \\\n",
       "0   As business close to help prevent transmissio...   \n",
       "\n",
       "                                      filter_content  Positive_Score  \\\n",
       "0  As business close to help prevent transmission...              35   \n",
       "\n",
       "   Negative_Score  polarity  subjectivity  \n",
       "0              53  0.085666      0.412704  "
      ]
     },
     "execution_count": 7,
     "metadata": {},
     "output_type": "execute_result"
    }
   ],
   "source": [
    "filter_content = ' '.join(text)\n",
    "data=[[url,title,content,filter_content,Positive_score,Negative_score]]\n",
    "data=pd.DataFrame(data,columns=[\"url\",\"title\",\"content\",\"filter_content\",\"Positive_Score\",\"Negative_Score\"])\n",
    "from textblob import TextBlob\n",
    "# Get The Subjectivity\n",
    "def sentiment_analysis(data):\n",
    "    sentiment = TextBlob(data[\"content\"]).sentiment\n",
    "    return pd.Series([sentiment.polarity,sentiment.subjectivity ])\n",
    "\n",
    "# Adding Subjectivity & Polarity\n",
    "data[[\"polarity\", \"subjectivity\"]] = data.apply(sentiment_analysis, axis=1)\n",
    "\n",
    "data"
   ]
  },
  {
   "cell_type": "code",
   "execution_count": 8,
   "id": "d214bbe5",
   "metadata": {},
   "outputs": [
    {
     "name": "stdout",
     "output_type": "stream",
     "text": [
      "Word average = 5540.0\n",
      "FOG INDEX =  419.02\n",
      "Average no of words per sentence\n",
      "1036.0\n",
      "Complex Words 1936\n"
     ]
    }
   ],
   "source": [
    "#AVG SENTENCE LENGTH\n",
    "AVG_SENTENCE_LENGTH = len(content.replace(' ',''))/len(re.split(r'[?!.]', content))\n",
    "print('Word average =', AVG_SENTENCE_LENGTH)\n",
    "import textstat\n",
    "#Fog index \n",
    "FOG_INDEX=(textstat.gunning_fog(content))\n",
    "print(\"FOG INDEX = \",FOG_INDEX)\n",
    "#Average No of Words Per Sentence \n",
    "AVG_NUMBER_OF_WORDS_PER_SENTENCE = [len(l.split()) for l in re.split(r'[?!.]', content) if l.strip()]\n",
    "print(\"Average no of words per sentence\")\n",
    "AVG_NUMBER_OF_WORDS_PER_SENTENCE=print(sum(AVG_NUMBER_OF_WORDS_PER_SENTENCE)/len(AVG_NUMBER_OF_WORDS_PER_SENTENCE))\n",
    "#Complex words\n",
    "def syllable_count(word):\n",
    "    count = 0\n",
    "    vowels = \"AEIOUYaeiouy\"\n",
    "    if word[0] in vowels:\n",
    "        count += 1\n",
    "    for index in range(1, len(word)): \n",
    "        if word[index] in vowels and word[index - 1] not in vowels:\n",
    "            count += 1\n",
    "            if word.endswith(\"es\"or \"ed\"):\n",
    "                count -= 1\n",
    "    if count == 0:\n",
    "        count += 1\n",
    "    return count\n",
    "\n",
    "\n",
    "\n",
    "COMPLEX_WORDS=syllable_count(content)\n",
    "print(\"Complex Words\",COMPLEX_WORDS)\n"
   ]
  },
  {
   "cell_type": "code",
   "execution_count": 9,
   "id": "2bf1a36d",
   "metadata": {},
   "outputs": [
    {
     "name": "stdout",
     "output_type": "stream",
     "text": [
      "Word Count 6575\n",
      "Percentage of Complex Words 29.44486692015209\n",
      "Average Word per Length 5.347490347490347\n",
      "The AVG number of syllables in the word is: \n",
      "2.108108108108108\n",
      "Word Count 6575\n",
      "Percentage of Complex Words 29.44486692015209\n",
      "Average Word per Length 5.347490347490347\n",
      "The AVG number of syllables in the word is: \n",
      "2.108108108108108\n"
     ]
    }
   ],
   "source": [
    "#Word Count\n",
    "Word_Count=len(content)\n",
    "print(\"Word Count\",Word_Count)\n",
    "#Percentage Complex Words\n",
    "pcw=(COMPLEX_WORDS/Word_Count)*100\n",
    "print(\"Percentage of Complex Words\",pcw)\n",
    "#Average Word Length\n",
    "Average_Word_Length=len(content.replace(' ',''))/len(content.split())\n",
    "print(\"Average Word per Length\",Average_Word_Length)\n",
    "#Syllable Count Per Word\n",
    "word=content.replace(' ','')\n",
    "syllable_count=0\n",
    "for w in word:\n",
    "      if(w=='a' or w=='e' or w=='i' or w=='o' or w=='y' or w=='u' or w=='A' or w=='E' or w=='I' or w=='O' or w=='U' or w=='Y'):\n",
    "            syllable_count=syllable_count+1\n",
    "print(\"The AVG number of syllables in the word is: \")\n",
    "print(syllable_count/len(content.split()))#Word Count\n",
    "Word_Count=len(content)\n",
    "print(\"Word Count\",Word_Count)\n",
    "#Percentage Complex Words\n",
    "pcw=(COMPLEX_WORDS/Word_Count)*100\n",
    "print(\"Percentage of Complex Words\",pcw)\n",
    "#Average Word Length\n",
    "Average_Word_Length=len(content.replace(' ',''))/len(content.split())\n",
    "print(\"Average Word per Length\",Average_Word_Length)\n",
    "#Syllable Count Per Word\n",
    "word=content.replace(' ','')\n",
    "syllable_count=0\n",
    "for w in word:\n",
    "      if(w=='a' or w=='e' or w=='i' or w=='o' or w=='y' or w=='u' or w=='A' or w=='E' or w=='I' or w=='O' or w=='U' or w=='Y'):\n",
    "            syllable_count=syllable_count+1\n",
    "print(\"The AVG number of syllables in the word is: \")\n",
    "print(syllable_count/len(content.split()))"
   ]
  },
  {
   "cell_type": "code",
   "execution_count": 1,
   "id": "69cbf8ea",
   "metadata": {},
   "outputs": [
    {
     "name": "stdout",
     "output_type": "stream",
     "text": [
      "35\n",
      "53\n",
      "Word average = 5540.0\n",
      "FOG INDEX =  419.02\n",
      "Average no of words per sentence\n",
      "1036.0\n",
      "Complex Words 1936\n",
      "Word Count 6575\n",
      "Percentage of Complex Words 29.44486692015209\n",
      "Average Word per Length 5.347490347490347\n",
      "The AVG number of syllables in the word is: \n",
      "2.108108108108108\n"
     ]
    },
    {
     "data": {
      "text/html": [
       "<div>\n",
       "<style scoped>\n",
       "    .dataframe tbody tr th:only-of-type {\n",
       "        vertical-align: middle;\n",
       "    }\n",
       "\n",
       "    .dataframe tbody tr th {\n",
       "        vertical-align: top;\n",
       "    }\n",
       "\n",
       "    .dataframe thead th {\n",
       "        text-align: right;\n",
       "    }\n",
       "</style>\n",
       "<table border=\"1\" class=\"dataframe\">\n",
       "  <thead>\n",
       "    <tr style=\"text-align: right;\">\n",
       "      <th></th>\n",
       "      <th>url</th>\n",
       "      <th>title</th>\n",
       "      <th>content</th>\n",
       "      <th>filter_content</th>\n",
       "      <th>Positive_Score</th>\n",
       "      <th>Negative_Score</th>\n",
       "      <th>Avg_Sentence_Length</th>\n",
       "      <th>Percentage_Complex_Word</th>\n",
       "      <th>Fog_Index</th>\n",
       "      <th>AVG_NUMBER_OF_WORDS_PER_SENTENCE</th>\n",
       "      <th>COMPLEX_WORDS</th>\n",
       "      <th>Word_Count</th>\n",
       "      <th>syllable</th>\n",
       "      <th>Average_Word_Length</th>\n",
       "      <th>polarity</th>\n",
       "      <th>subjectivity</th>\n",
       "    </tr>\n",
       "  </thead>\n",
       "  <tbody>\n",
       "    <tr>\n",
       "      <th>0</th>\n",
       "      <td>https://insights.blackcoffer.com/how-will-covi...</td>\n",
       "      <td>How will COVID-19 affect the world of work?</td>\n",
       "      <td>As business close to help prevent transmissio...</td>\n",
       "      <td>As business close to help prevent transmission...</td>\n",
       "      <td>35</td>\n",
       "      <td>53</td>\n",
       "      <td>5540.0</td>\n",
       "      <td>29.444867</td>\n",
       "      <td>419.02</td>\n",
       "      <td>1036.0</td>\n",
       "      <td>1936</td>\n",
       "      <td>6575</td>\n",
       "      <td>2.108108</td>\n",
       "      <td>5.34749</td>\n",
       "      <td>0.085666</td>\n",
       "      <td>0.412704</td>\n",
       "    </tr>\n",
       "  </tbody>\n",
       "</table>\n",
       "</div>"
      ],
      "text/plain": [
       "                                                 url  \\\n",
       "0  https://insights.blackcoffer.com/how-will-covi...   \n",
       "\n",
       "                                         title  \\\n",
       "0  How will COVID-19 affect the world of work?   \n",
       "\n",
       "                                             content  \\\n",
       "0   As business close to help prevent transmissio...   \n",
       "\n",
       "                                      filter_content  Positive_Score  \\\n",
       "0  As business close to help prevent transmission...              35   \n",
       "\n",
       "   Negative_Score  Avg_Sentence_Length  Percentage_Complex_Word  Fog_Index  \\\n",
       "0              53               5540.0                29.444867     419.02   \n",
       "\n",
       "    AVG_NUMBER_OF_WORDS_PER_SENTENCE  COMPLEX_WORDS  Word_Count  syllable  \\\n",
       "0                             1036.0           1936        6575  2.108108   \n",
       "\n",
       "   Average_Word_Length  polarity  subjectivity  \n",
       "0              5.34749  0.085666      0.412704  "
      ]
     },
     "execution_count": 1,
     "metadata": {},
     "output_type": "execute_result"
    }
   ],
   "source": [
    "import requests\n",
    "import pandas as pd \n",
    "from bs4 import BeautifulSoup\n",
    "import string\n",
    "import spacy\n",
    "import re\n",
    "url = \"\"\"https://insights.blackcoffer.com/how-will-covid-19-affect-the-world-of-work-2/\"\"\"\n",
    "headers = {\"User-Agent\": \"Mozilla/5.0 (X11; Linux x86_64; rv:60.0) Gecko/20100101 Firefox/60.0\"}\n",
    "page = requests.get(url, headers=headers)\n",
    "soup = BeautifulSoup(page.content, 'html.parser')\n",
    "soup=BeautifulSoup(page.content, 'html.parser')\n",
    "title=soup.find('h1',class_=\"entry-title\")\n",
    "title=title.text.replace('\\n',\" \")\n",
    "# title\n",
    "\n",
    "content=soup.findAll(attrs={'class':'td-post-content'})\n",
    "content=content[0].text.replace('\\n',\" \")\n",
    "# print(content)\n",
    "#Punctuation\n",
    "content = content.translate(str.maketrans('', '', string.punctuation)) \n",
    "# print(content)\n",
    "text = content.split()\n",
    "# print(text)\n",
    "len(text)\n",
    "#Positive Score \n",
    "with open(r\"C:\\Users\\Om Bhandwalkar\\Desktop\\pos\\positive-words.txt\") as pos:\n",
    "    poswords = pos.read().split(\"\\n\")  \n",
    "    poswords = poswords[5:]\n",
    "pos_count = \" \".join ([w for w in text if w in poswords])\n",
    "pos_count=pos_count.split(\" \")\n",
    "Positive_score=len(pos_count)\n",
    "print(Positive_score)\n",
    "\n",
    "#Negative Score\n",
    "with open(r\"C:\\Users\\Om Bhandwalkar\\Desktop\\pos\\negative-words.txt\",encoding =\"ISO-8859-1\") as neg:\n",
    "    negwords = neg.read().split(\"\\n\")\n",
    "    \n",
    "negwords = negwords[36:]\n",
    "neg_count = \" \".join ([w for w in text if w in negwords])\n",
    "neg_count=neg_count.split(\" \")\n",
    "Negative_score=len(neg_count)\n",
    "print(Negative_score)\n",
    "\n",
    "\n",
    "filter_content = ' '.join(text)\n",
    "data=[[url,title,content,filter_content,Positive_score,Negative_score]]\n",
    "data=pd.DataFrame(data,columns=[\"url\",\"title\",\"content\",\"filter_content\",\"Positive_Score\",\"Negative_Score\"])\n",
    "from textblob import TextBlob\n",
    "# Get The Subjectivity\n",
    "def sentiment_analysis(data):\n",
    "    sentiment = TextBlob(data[\"content\"]).sentiment\n",
    "    return pd.Series([sentiment.polarity,sentiment.subjectivity ])\n",
    "data[[\"polarity\", \"subjectivity\"]] = data.apply(sentiment_analysis, axis=1)\n",
    "data\n",
    "#AVG SENTENCE LENGTH\n",
    "AVG_SENTENCE_LENGTH = len(content.replace(' ',''))/len(re.split(r'[?!.]', content))\n",
    "print('Word average =', AVG_SENTENCE_LENGTH)\n",
    "import textstat\n",
    "#Fog index \n",
    "FOG_INDEX=(textstat.gunning_fog(content))\n",
    "print(\"FOG INDEX = \",FOG_INDEX)\n",
    "#Average No of Words Per Sentence \n",
    "AVG_NUMBER_OF_WORDS_PER_SENTENCE = [len(l.split()) for l in re.split(r'[?!.]', content) if l.strip()]\n",
    "print(\"Average no of words per sentence\")\n",
    "AVG_NUMBER_OF_WORDS_PER_SENTENCE=(sum(AVG_NUMBER_OF_WORDS_PER_SENTENCE)/len(AVG_NUMBER_OF_WORDS_PER_SENTENCE))\n",
    "print(AVG_NUMBER_OF_WORDS_PER_SENTENCE)\n",
    "#Complex words\n",
    "def syllable_count(word):\n",
    "    count = 0\n",
    "    vowels = \"AEIOUYaeiouy\"\n",
    "    if word[0] in vowels:\n",
    "        count += 1\n",
    "    for index in range(1, len(word)): \n",
    "        if word[index] in vowels and word[index - 1] not in vowels:\n",
    "            count += 1\n",
    "            if word.endswith(\"es\"or \"ed\"):\n",
    "                count -= 1\n",
    "    if count == 0:\n",
    "        count += 1\n",
    "    return count\n",
    "\n",
    "\n",
    "\n",
    "COMPLEX_WORDS=syllable_count(content)\n",
    "print(\"Complex Words\",COMPLEX_WORDS)\n",
    "#Word Count\n",
    "Word_Count=len(content)\n",
    "print(\"Word Count\",Word_Count)\n",
    "#Percentage Complex Words\n",
    "pcw=(COMPLEX_WORDS/Word_Count)*100\n",
    "print(\"Percentage of Complex Words\",pcw)\n",
    "#Average Word Length\n",
    "Average_Word_Length=len(content.replace(' ',''))/len(content.split())\n",
    "print(\"Average Word per Length\",Average_Word_Length)\n",
    "#Syllable Count Per Word\n",
    "word=content.replace(' ','')\n",
    "syllable_count=0\n",
    "for w in word:\n",
    "      if(w=='a' or w=='e' or w=='i' or w=='o' or w=='y' or w=='u' or w=='A' or w=='E' or w=='I' or w=='O' or w=='U' or w=='Y'):\n",
    "            syllable_count=syllable_count+1\n",
    "print(\"The AVG number of syllables in the word is: \")\n",
    "syllable = (syllable_count/len(content.split()))\n",
    "print(syllable)\n",
    "\n",
    "data = [[url,title,content,filter_content,Positive_score,Negative_score,AVG_SENTENCE_LENGTH,pcw,FOG_INDEX,\n",
    "         AVG_NUMBER_OF_WORDS_PER_SENTENCE,COMPLEX_WORDS,Word_Count,syllable,Average_Word_Length]]\n",
    "data=pd.DataFrame(data,columns=[\"url\",\"title\",\"content\",\"filter_content\",\"Positive_Score\",\"Negative_Score\",\"Avg_Sentence_Length\"\n",
    "                               ,\"Percentage_Complex_Word\",\"Fog_Index\",\" AVG_NUMBER_OF_WORDS_PER_SENTENCE\",\"COMPLEX_WORDS\",\n",
    "                               \"Word_Count\",\"syllable\",\"Average_Word_Length\"])\n",
    "from textblob import TextBlob\n",
    "# Get The Subjectivity\n",
    "def sentiment_analysis(data):\n",
    "    sentiment = TextBlob(data[\"content\"]).sentiment\n",
    "    return pd.Series([sentiment.polarity,sentiment.subjectivity ])\n",
    "data[[\"polarity\", \"subjectivity\"]] = data.apply(sentiment_analysis, axis=1)\n",
    "data"
   ]
  },
  {
   "cell_type": "code",
   "execution_count": 2,
   "id": "5cba4ffc",
   "metadata": {},
   "outputs": [],
   "source": [
    "data.to_csv(r'C:\\Users\\Om Bhandwalkar\\Desktop\\BlackCoffer Assignment\\Output\\url_108.csv')"
   ]
  },
  {
   "cell_type": "code",
   "execution_count": null,
   "id": "07240519",
   "metadata": {},
   "outputs": [],
   "source": []
  }
 ],
 "metadata": {
  "kernelspec": {
   "display_name": "Python 3 (ipykernel)",
   "language": "python",
   "name": "python3"
  },
  "language_info": {
   "codemirror_mode": {
    "name": "ipython",
    "version": 3
   },
   "file_extension": ".py",
   "mimetype": "text/x-python",
   "name": "python",
   "nbconvert_exporter": "python",
   "pygments_lexer": "ipython3",
   "version": "3.9.12"
  }
 },
 "nbformat": 4,
 "nbformat_minor": 5
}
