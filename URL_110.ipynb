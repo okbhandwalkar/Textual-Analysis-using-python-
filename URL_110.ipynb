{
 "cells": [
  {
   "cell_type": "code",
   "execution_count": 1,
   "id": "5d0dde5c",
   "metadata": {},
   "outputs": [
    {
     "data": {
      "text/plain": [
       "'COVID-19: How have countries been responding?'"
      ]
     },
     "execution_count": 1,
     "metadata": {},
     "output_type": "execute_result"
    }
   ],
   "source": [
    "import requests\n",
    "import pandas as pd \n",
    "from bs4 import BeautifulSoup\n",
    "import string\n",
    "import spacy\n",
    "import re\n",
    "url = \"\"\"https://insights.blackcoffer.com/covid-19-how-have-countries-been-responding/\"\"\"\n",
    "headers = {\"User-Agent\": \"Mozilla/5.0 (X11; Linux x86_64; rv:60.0) Gecko/20100101 Firefox/60.0\"}\n",
    "page = requests.get(url, headers=headers)\n",
    "soup = BeautifulSoup(page.content, 'html.parser')\n",
    "soup=BeautifulSoup(page.content, 'html.parser')\n",
    "title=soup.find('h1',class_=\"entry-title\")\n",
    "title=title.text.replace('\\n',\" \")\n",
    "title\n"
   ]
  },
  {
   "cell_type": "code",
   "execution_count": 2,
   "id": "d64a777b",
   "metadata": {},
   "outputs": [
    {
     "name": "stdout",
     "output_type": "stream",
     "text": [
      " The COVID-19 pandemic is impacting communities all over the world. With 149 offices in countries worldwide, WHO is leading the global effort to support countries in preventing, detecting, and responding to the pandemic. WHO is also monitoring the response: 143 countries have now their own COVID-19 response plans, and almost all (194) countries have adopted public health and other response measures based on WHO’s guidance. The response also covers the procurement of supplies. As of 2 March, WHO has bought and shipped 1.5 million coronavirus test kits and close to 800 000 face masks across the planet, delivering personal protective gear to more than 70 countries. At the same time, more than half of WHO’s personnel are responding on the ground by providing real-time updates, expertise, and coordination as governments, humanitarian agencies, and the public race to respond. Countries are adopting different ways to contain the spread of coronavirus but there is no one-size-fits-all approach. Towns and cities have been locked down and large gatherings banned. Restrictions have been imposed on travellers from hard-hit areas, such as China, Italy and Iran. Major sporting events, carnivals and events have been postponed or cancelled. The COVID-19 coronavirus has now spread to every continent except Antarctica, challenging health systems and governments everywhere. Although the vast majority of the almost 90,000 cases around the world are in China where the virus originated, 64 different countries* are now affected. For most, the virus represents a mild health issue, but for vulnerable members of society the consequences can be more serious. Containment remains a priority for all countries but there is no one-size-fits-all approach to tackling the spread of the disease. France The French government has advised its citizens to abandon the customary “bise” greeting – involving kissing each other on the cheek – in a bid to slow the spread of COVID-19. Public gatherings of more than 5,000 people are also off limits, resulting in the cancellation of events like the Paris Half Marathon. Following the decision, the Louvre museum in Paris closed its doors to the public to mitigate the threat of infection posed by visitors arriving from different parts of the world. Iran As the Middle East’s worst hit country, nearly 3,000 cases of COVID-19 have been reported in Iran, including more than 20 lawmakers. The country’s parliament has been suspended indefinitely and MPs have been asked to cancel all public meetings. Iran’s death toll is the third highest, after China and Italy, and medical supplies are running short. Exports of face masks are banned for three months, while Iran’s factories produce new supplies for local people. Germany German Health Minister Jens Spahn has declared coronavirus a ‘worldwide pandemic’, something the World Health Organization has not concluded at this point. The government has banned the export of medical equipment, as Spahn said the virus there had not yet reached its peak. United States California has declared a state of emergency after the first death in the state, which brought the U.S. death toll to 11. The move follows Washington and Florida both declaring a state of emergency, with 10 of the deaths in Washington state. The government is preventing entry to anyone who has visited China in the last 14 days and has expanded testing nationwide. Switzerland Precautionary measures are in place in Switzerland, where gatherings of more than 1,000 people have been banned, forcing the cancellation of annual events like the Basel Carnival and the Geneva International Motor Show. Interior Minister Alain Berset has also advised against using the country’s customary three-kiss greeting Austria Authorities in Austria imposed a ban on trains travelling on key international routes to and from Italy, such as the Brenner Pass. The move followed two suspected cases of coronavirus discovered on a train heading from Italy to southern Germany, which later tested negative. The temporary ban has now been lifted, allowing scheduled rail services between Austria and Italy to resume. Italy Italy has shut all its schools and universities for 10 days, as the government also banned public conferences and cultural events to curb the spread of the virus, which has already killed more than 100 people. Some towns in northern Italy’s Lombardy region are in lockdown. Restaurants and businesses are closed, threatening to plunge the country into recession. Curve of confirmed Covid-19 cases outside of CHINA China At the epicenter of the outbreak, China has adopted aggressive measures to contain the virus, including city lockdowns, travel restrictions, extending school breaks and closing down theatres, sporting events, and other public venues. Infection rates continue to increase, but the rate of increase has slowed. Hong Kong Hong Kong’s border with mainland China has been closed, preventing visitors from entering the territory. Without the throng of global tourists that usually flock to Hong Kong, the economy has been hit hard. Schools are closed until April, and many flights in and out have been restricted or canceled. Hong Kong’s recently unveiled budget included a government payment of more than $1,200 for each resident to help ease the economic pain Japan Japan’s Prime Minister Shinzo Abe has called for all elementary, middle, and high schools to close until late March, impacting millions of students. The threat posed by the virus could jeopardize the Tokyo 2020 Olympic Games, due to be held in the summer, although no decision to cancel the event has been announced. Saudi Arabia No coronavirus cases have been detected in Saudi Arabia, but there have been some in regional neighbours like Kuwait and Bahrain. Authorities have barred entry to the kingdom for foreign pilgrims from 25 countries, preventing visits to Islam’s two holiest sites – Mecca and Medina. United Arab Emirates Ferry services between the UAE and Iran have been suspended and all commercial ships must provide health statements for crew members 72 hours before arriving in the country’s busy ports. South Korea outh Korea has the most cases of any nation outside of China. Strict self-isolation requirements are in force throughout the country, with fines or a potential prison sentence awaiting anyone found violating the rules. After military personnel tested positive for the disease, planned annual joint military exercises with US forces have been put on hold. Blackcoffer Insights 17:-Mayuri Nakashe,– Rashtrasant Tukdoji Maharaj Nagpur University, Nagpur (RTMNU) \n",
      " The COVID19 pandemic is impacting communities all over the world With 149 offices in countries worldwide WHO is leading the global effort to support countries in preventing detecting and responding to the pandemic WHO is also monitoring the response 143 countries have now their own COVID19 response plans and almost all 194 countries have adopted public health and other response measures based on WHO’s guidance The response also covers the procurement of supplies As of 2 March WHO has bought and shipped 15 million coronavirus test kits and close to 800 000 face masks across the planet delivering personal protective gear to more than 70 countries At the same time more than half of WHO’s personnel are responding on the ground by providing realtime updates expertise and coordination as governments humanitarian agencies and the public race to respond Countries are adopting different ways to contain the spread of coronavirus but there is no onesizefitsall approach Towns and cities have been locked down and large gatherings banned Restrictions have been imposed on travellers from hardhit areas such as China Italy and Iran Major sporting events carnivals and events have been postponed or cancelled The COVID19 coronavirus has now spread to every continent except Antarctica challenging health systems and governments everywhere Although the vast majority of the almost 90000 cases around the world are in China where the virus originated 64 different countries are now affected For most the virus represents a mild health issue but for vulnerable members of society the consequences can be more serious Containment remains a priority for all countries but there is no onesizefitsall approach to tackling the spread of the disease France The French government has advised its citizens to abandon the customary “bise” greeting – involving kissing each other on the cheek – in a bid to slow the spread of COVID19 Public gatherings of more than 5000 people are also off limits resulting in the cancellation of events like the Paris Half Marathon Following the decision the Louvre museum in Paris closed its doors to the public to mitigate the threat of infection posed by visitors arriving from different parts of the world Iran As the Middle East’s worst hit country nearly 3000 cases of COVID19 have been reported in Iran including more than 20 lawmakers The country’s parliament has been suspended indefinitely and MPs have been asked to cancel all public meetings Iran’s death toll is the third highest after China and Italy and medical supplies are running short Exports of face masks are banned for three months while Iran’s factories produce new supplies for local people Germany German Health Minister Jens Spahn has declared coronavirus a ‘worldwide pandemic’ something the World Health Organization has not concluded at this point The government has banned the export of medical equipment as Spahn said the virus there had not yet reached its peak United States California has declared a state of emergency after the first death in the state which brought the US death toll to 11 The move follows Washington and Florida both declaring a state of emergency with 10 of the deaths in Washington state The government is preventing entry to anyone who has visited China in the last 14 days and has expanded testing nationwide Switzerland Precautionary measures are in place in Switzerland where gatherings of more than 1000 people have been banned forcing the cancellation of annual events like the Basel Carnival and the Geneva International Motor Show Interior Minister Alain Berset has also advised against using the country’s customary threekiss greeting Austria Authorities in Austria imposed a ban on trains travelling on key international routes to and from Italy such as the Brenner Pass The move followed two suspected cases of coronavirus discovered on a train heading from Italy to southern Germany which later tested negative The temporary ban has now been lifted allowing scheduled rail services between Austria and Italy to resume Italy Italy has shut all its schools and universities for 10 days as the government also banned public conferences and cultural events to curb the spread of the virus which has already killed more than 100 people Some towns in northern Italy’s Lombardy region are in lockdown Restaurants and businesses are closed threatening to plunge the country into recession Curve of confirmed Covid19 cases outside of CHINA China At the epicenter of the outbreak China has adopted aggressive measures to contain the virus including city lockdowns travel restrictions extending school breaks and closing down theatres sporting events and other public venues Infection rates continue to increase but the rate of increase has slowed Hong Kong Hong Kong’s border with mainland China has been closed preventing visitors from entering the territory Without the throng of global tourists that usually flock to Hong Kong the economy has been hit hard Schools are closed until April and many flights in and out have been restricted or canceled Hong Kong’s recently unveiled budget included a government payment of more than 1200 for each resident to help ease the economic pain Japan Japan’s Prime Minister Shinzo Abe has called for all elementary middle and high schools to close until late March impacting millions of students The threat posed by the virus could jeopardize the Tokyo 2020 Olympic Games due to be held in the summer although no decision to cancel the event has been announced Saudi Arabia No coronavirus cases have been detected in Saudi Arabia but there have been some in regional neighbours like Kuwait and Bahrain Authorities have barred entry to the kingdom for foreign pilgrims from 25 countries preventing visits to Islam’s two holiest sites – Mecca and Medina United Arab Emirates Ferry services between the UAE and Iran have been suspended and all commercial ships must provide health statements for crew members 72 hours before arriving in the country’s busy ports South Korea outh Korea has the most cases of any nation outside of China Strict selfisolation requirements are in force throughout the country with fines or a potential prison sentence awaiting anyone found violating the rules After military personnel tested positive for the disease planned annual joint military exercises with US forces have been put on hold Blackcoffer Insights 17Mayuri Nakashe– Rashtrasant Tukdoji Maharaj Nagpur University Nagpur RTMNU \n",
      "['The', 'COVID19', 'pandemic', 'is', 'impacting', 'communities', 'all', 'over', 'the', 'world', 'With', '149', 'offices', 'in', 'countries', 'worldwide', 'WHO', 'is', 'leading', 'the', 'global', 'effort', 'to', 'support', 'countries', 'in', 'preventing', 'detecting', 'and', 'responding', 'to', 'the', 'pandemic', 'WHO', 'is', 'also', 'monitoring', 'the', 'response', '143', 'countries', 'have', 'now', 'their', 'own', 'COVID19', 'response', 'plans', 'and', 'almost', 'all', '194', 'countries', 'have', 'adopted', 'public', 'health', 'and', 'other', 'response', 'measures', 'based', 'on', 'WHO’s', 'guidance', 'The', 'response', 'also', 'covers', 'the', 'procurement', 'of', 'supplies', 'As', 'of', '2', 'March', 'WHO', 'has', 'bought', 'and', 'shipped', '15', 'million', 'coronavirus', 'test', 'kits', 'and', 'close', 'to', '800', '000', 'face', 'masks', 'across', 'the', 'planet', 'delivering', 'personal', 'protective', 'gear', 'to', 'more', 'than', '70', 'countries', 'At', 'the', 'same', 'time', 'more', 'than', 'half', 'of', 'WHO’s', 'personnel', 'are', 'responding', 'on', 'the', 'ground', 'by', 'providing', 'realtime', 'updates', 'expertise', 'and', 'coordination', 'as', 'governments', 'humanitarian', 'agencies', 'and', 'the', 'public', 'race', 'to', 'respond', 'Countries', 'are', 'adopting', 'different', 'ways', 'to', 'contain', 'the', 'spread', 'of', 'coronavirus', 'but', 'there', 'is', 'no', 'onesizefitsall', 'approach', 'Towns', 'and', 'cities', 'have', 'been', 'locked', 'down', 'and', 'large', 'gatherings', 'banned', 'Restrictions', 'have', 'been', 'imposed', 'on', 'travellers', 'from', 'hardhit', 'areas', 'such', 'as', 'China', 'Italy', 'and', 'Iran', 'Major', 'sporting', 'events', 'carnivals', 'and', 'events', 'have', 'been', 'postponed', 'or', 'cancelled', 'The', 'COVID19', 'coronavirus', 'has', 'now', 'spread', 'to', 'every', 'continent', 'except', 'Antarctica', 'challenging', 'health', 'systems', 'and', 'governments', 'everywhere', 'Although', 'the', 'vast', 'majority', 'of', 'the', 'almost', '90000', 'cases', 'around', 'the', 'world', 'are', 'in', 'China', 'where', 'the', 'virus', 'originated', '64', 'different', 'countries', 'are', 'now', 'affected', 'For', 'most', 'the', 'virus', 'represents', 'a', 'mild', 'health', 'issue', 'but', 'for', 'vulnerable', 'members', 'of', 'society', 'the', 'consequences', 'can', 'be', 'more', 'serious', 'Containment', 'remains', 'a', 'priority', 'for', 'all', 'countries', 'but', 'there', 'is', 'no', 'onesizefitsall', 'approach', 'to', 'tackling', 'the', 'spread', 'of', 'the', 'disease', 'France', 'The', 'French', 'government', 'has', 'advised', 'its', 'citizens', 'to', 'abandon', 'the', 'customary', '“bise”', 'greeting', '–', 'involving', 'kissing', 'each', 'other', 'on', 'the', 'cheek', '–', 'in', 'a', 'bid', 'to', 'slow', 'the', 'spread', 'of', 'COVID19', 'Public', 'gatherings', 'of', 'more', 'than', '5000', 'people', 'are', 'also', 'off', 'limits', 'resulting', 'in', 'the', 'cancellation', 'of', 'events', 'like', 'the', 'Paris', 'Half', 'Marathon', 'Following', 'the', 'decision', 'the', 'Louvre', 'museum', 'in', 'Paris', 'closed', 'its', 'doors', 'to', 'the', 'public', 'to', 'mitigate', 'the', 'threat', 'of', 'infection', 'posed', 'by', 'visitors', 'arriving', 'from', 'different', 'parts', 'of', 'the', 'world', 'Iran', 'As', 'the', 'Middle', 'East’s', 'worst', 'hit', 'country', 'nearly', '3000', 'cases', 'of', 'COVID19', 'have', 'been', 'reported', 'in', 'Iran', 'including', 'more', 'than', '20', 'lawmakers', 'The', 'country’s', 'parliament', 'has', 'been', 'suspended', 'indefinitely', 'and', 'MPs', 'have', 'been', 'asked', 'to', 'cancel', 'all', 'public', 'meetings', 'Iran’s', 'death', 'toll', 'is', 'the', 'third', 'highest', 'after', 'China', 'and', 'Italy', 'and', 'medical', 'supplies', 'are', 'running', 'short', 'Exports', 'of', 'face', 'masks', 'are', 'banned', 'for', 'three', 'months', 'while', 'Iran’s', 'factories', 'produce', 'new', 'supplies', 'for', 'local', 'people', 'Germany', 'German', 'Health', 'Minister', 'Jens', 'Spahn', 'has', 'declared', 'coronavirus', 'a', '‘worldwide', 'pandemic’', 'something', 'the', 'World', 'Health', 'Organization', 'has', 'not', 'concluded', 'at', 'this', 'point', 'The', 'government', 'has', 'banned', 'the', 'export', 'of', 'medical', 'equipment', 'as', 'Spahn', 'said', 'the', 'virus', 'there', 'had', 'not', 'yet', 'reached', 'its', 'peak', 'United', 'States', 'California', 'has', 'declared', 'a', 'state', 'of', 'emergency', 'after', 'the', 'first', 'death', 'in', 'the', 'state', 'which', 'brought', 'the', 'US', 'death', 'toll', 'to', '11', 'The', 'move', 'follows', 'Washington', 'and', 'Florida', 'both', 'declaring', 'a', 'state', 'of', 'emergency', 'with', '10', 'of', 'the', 'deaths', 'in', 'Washington', 'state', 'The', 'government', 'is', 'preventing', 'entry', 'to', 'anyone', 'who', 'has', 'visited', 'China', 'in', 'the', 'last', '14', 'days', 'and', 'has', 'expanded', 'testing', 'nationwide', 'Switzerland', 'Precautionary', 'measures', 'are', 'in', 'place', 'in', 'Switzerland', 'where', 'gatherings', 'of', 'more', 'than', '1000', 'people', 'have', 'been', 'banned', 'forcing', 'the', 'cancellation', 'of', 'annual', 'events', 'like', 'the', 'Basel', 'Carnival', 'and', 'the', 'Geneva', 'International', 'Motor', 'Show', 'Interior', 'Minister', 'Alain', 'Berset', 'has', 'also', 'advised', 'against', 'using', 'the', 'country’s', 'customary', 'threekiss', 'greeting', 'Austria', 'Authorities', 'in', 'Austria', 'imposed', 'a', 'ban', 'on', 'trains', 'travelling', 'on', 'key', 'international', 'routes', 'to', 'and', 'from', 'Italy', 'such', 'as', 'the', 'Brenner', 'Pass', 'The', 'move', 'followed', 'two', 'suspected', 'cases', 'of', 'coronavirus', 'discovered', 'on', 'a', 'train', 'heading', 'from', 'Italy', 'to', 'southern', 'Germany', 'which', 'later', 'tested', 'negative', 'The', 'temporary', 'ban', 'has', 'now', 'been', 'lifted', 'allowing', 'scheduled', 'rail', 'services', 'between', 'Austria', 'and', 'Italy', 'to', 'resume', 'Italy', 'Italy', 'has', 'shut', 'all', 'its', 'schools', 'and', 'universities', 'for', '10', 'days', 'as', 'the', 'government', 'also', 'banned', 'public', 'conferences', 'and', 'cultural', 'events', 'to', 'curb', 'the', 'spread', 'of', 'the', 'virus', 'which', 'has', 'already', 'killed', 'more', 'than', '100', 'people', 'Some', 'towns', 'in', 'northern', 'Italy’s', 'Lombardy', 'region', 'are', 'in', 'lockdown', 'Restaurants', 'and', 'businesses', 'are', 'closed', 'threatening', 'to', 'plunge', 'the', 'country', 'into', 'recession', 'Curve', 'of', 'confirmed', 'Covid19', 'cases', 'outside', 'of', 'CHINA', 'China', 'At', 'the', 'epicenter', 'of', 'the', 'outbreak', 'China', 'has', 'adopted', 'aggressive', 'measures', 'to', 'contain', 'the', 'virus', 'including', 'city', 'lockdowns', 'travel', 'restrictions', 'extending', 'school', 'breaks', 'and', 'closing', 'down', 'theatres', 'sporting', 'events', 'and', 'other', 'public', 'venues', 'Infection', 'rates', 'continue', 'to', 'increase', 'but', 'the', 'rate', 'of', 'increase', 'has', 'slowed', 'Hong', 'Kong', 'Hong', 'Kong’s', 'border', 'with', 'mainland', 'China', 'has', 'been', 'closed', 'preventing', 'visitors', 'from', 'entering', 'the', 'territory', 'Without', 'the', 'throng', 'of', 'global', 'tourists', 'that', 'usually', 'flock', 'to', 'Hong', 'Kong', 'the', 'economy', 'has', 'been', 'hit', 'hard', 'Schools', 'are', 'closed', 'until', 'April', 'and', 'many', 'flights', 'in', 'and', 'out', 'have', 'been', 'restricted', 'or', 'canceled', 'Hong', 'Kong’s', 'recently', 'unveiled', 'budget', 'included', 'a', 'government', 'payment', 'of', 'more', 'than', '1200', 'for', 'each', 'resident', 'to', 'help', 'ease', 'the', 'economic', 'pain', 'Japan', 'Japan’s', 'Prime', 'Minister', 'Shinzo', 'Abe', 'has', 'called', 'for', 'all', 'elementary', 'middle', 'and', 'high', 'schools', 'to', 'close', 'until', 'late', 'March', 'impacting', 'millions', 'of', 'students', 'The', 'threat', 'posed', 'by', 'the', 'virus', 'could', 'jeopardize', 'the', 'Tokyo', '2020', 'Olympic', 'Games', 'due', 'to', 'be', 'held', 'in', 'the', 'summer', 'although', 'no', 'decision', 'to', 'cancel', 'the', 'event', 'has', 'been', 'announced', 'Saudi', 'Arabia', 'No', 'coronavirus', 'cases', 'have', 'been', 'detected', 'in', 'Saudi', 'Arabia', 'but', 'there', 'have', 'been', 'some', 'in', 'regional', 'neighbours', 'like', 'Kuwait', 'and', 'Bahrain', 'Authorities', 'have', 'barred', 'entry', 'to', 'the', 'kingdom', 'for', 'foreign', 'pilgrims', 'from', '25', 'countries', 'preventing', 'visits', 'to', 'Islam’s', 'two', 'holiest', 'sites', '–', 'Mecca', 'and', 'Medina', 'United', 'Arab', 'Emirates', 'Ferry', 'services', 'between', 'the', 'UAE', 'and', 'Iran', 'have', 'been', 'suspended', 'and', 'all', 'commercial', 'ships', 'must', 'provide', 'health', 'statements', 'for', 'crew', 'members', '72', 'hours', 'before', 'arriving', 'in', 'the', 'country’s', 'busy', 'ports', 'South', 'Korea', 'outh', 'Korea', 'has', 'the', 'most', 'cases', 'of', 'any', 'nation', 'outside', 'of', 'China', 'Strict', 'selfisolation', 'requirements', 'are', 'in', 'force', 'throughout', 'the', 'country', 'with', 'fines', 'or', 'a', 'potential', 'prison', 'sentence', 'awaiting', 'anyone', 'found', 'violating', 'the', 'rules', 'After', 'military', 'personnel', 'tested', 'positive', 'for', 'the', 'disease', 'planned', 'annual', 'joint', 'military', 'exercises', 'with', 'US', 'forces', 'have', 'been', 'put', 'on', 'hold', 'Blackcoffer', 'Insights', '17Mayuri', 'Nakashe–', 'Rashtrasant', 'Tukdoji', 'Maharaj', 'Nagpur', 'University', 'Nagpur', 'RTMNU']\n"
     ]
    }
   ],
   "source": [
    "content=soup.findAll(attrs={'class':'td-post-content'})\n",
    "content=content[0].text.replace('\\n',\" \")\n",
    "print(content)\n",
    "#Punctuation\n",
    "content = content.translate(str.maketrans('', '', string.punctuation)) \n",
    "print(content)\n",
    "text = content.split()\n",
    "print(text)\n"
   ]
  },
  {
   "cell_type": "code",
   "execution_count": 3,
   "id": "54d00a68",
   "metadata": {},
   "outputs": [
    {
     "data": {
      "text/plain": [
       "1041"
      ]
     },
     "execution_count": 3,
     "metadata": {},
     "output_type": "execute_result"
    }
   ],
   "source": [
    "len(text)"
   ]
  },
  {
   "cell_type": "code",
   "execution_count": 4,
   "id": "f0644746",
   "metadata": {},
   "outputs": [
    {
     "name": "stdout",
     "output_type": "stream",
     "text": [
      "9\n"
     ]
    }
   ],
   "source": [
    "#Positive Score \n",
    "with open(r\"C:\\Users\\Om Bhandwalkar\\Desktop\\pos\\positive-words.txt\") as pos:\n",
    "    poswords = pos.read().split(\"\\n\")  \n",
    "    poswords = poswords[5:]\n",
    "pos_count = \" \".join ([w for w in text if w in poswords])\n",
    "pos_count=pos_count.split(\" \")\n",
    "Positive_score=len(pos_count)\n",
    "print(Positive_score)"
   ]
  },
  {
   "cell_type": "code",
   "execution_count": 9,
   "id": "1f270312",
   "metadata": {},
   "outputs": [
    {
     "name": "stdout",
     "output_type": "stream",
     "text": [
      "36\n"
     ]
    }
   ],
   "source": [
    "#Negative Score\n",
    "with open(r\"C:\\Users\\Om Bhandwalkar\\Desktop\\pos\\negative-words.txt\",encoding =\"ISO-8859-1\") as neg:\n",
    "    negwords = neg.read().split(\"\\n\")\n",
    "    \n",
    "negwords = negwords[36:]\n",
    "neg_count = \" \".join ([w for w in text if w in negwords])\n",
    "neg_count=neg_count.split(\" \")\n",
    "Negative_score=len(neg_count)\n",
    "print(Negative_score)"
   ]
  },
  {
   "cell_type": "code",
   "execution_count": 6,
   "id": "de551ca8",
   "metadata": {},
   "outputs": [
    {
     "data": {
      "text/html": [
       "<div>\n",
       "<style scoped>\n",
       "    .dataframe tbody tr th:only-of-type {\n",
       "        vertical-align: middle;\n",
       "    }\n",
       "\n",
       "    .dataframe tbody tr th {\n",
       "        vertical-align: top;\n",
       "    }\n",
       "\n",
       "    .dataframe thead th {\n",
       "        text-align: right;\n",
       "    }\n",
       "</style>\n",
       "<table border=\"1\" class=\"dataframe\">\n",
       "  <thead>\n",
       "    <tr style=\"text-align: right;\">\n",
       "      <th></th>\n",
       "      <th>url</th>\n",
       "      <th>title</th>\n",
       "      <th>content</th>\n",
       "      <th>filter_content</th>\n",
       "      <th>Positive_Score</th>\n",
       "      <th>Negative_Score</th>\n",
       "      <th>polarity</th>\n",
       "      <th>subjectivity</th>\n",
       "    </tr>\n",
       "  </thead>\n",
       "  <tbody>\n",
       "    <tr>\n",
       "      <th>0</th>\n",
       "      <td>https://insights.blackcoffer.com/covid-19-how-...</td>\n",
       "      <td>COVID-19: How have countries been responding?</td>\n",
       "      <td>The COVID19 pandemic is impacting communities...</td>\n",
       "      <td>The COVID19 pandemic is impacting communities ...</td>\n",
       "      <td>9</td>\n",
       "      <td>36</td>\n",
       "      <td>0.043629</td>\n",
       "      <td>0.32619</td>\n",
       "    </tr>\n",
       "  </tbody>\n",
       "</table>\n",
       "</div>"
      ],
      "text/plain": [
       "                                                 url  \\\n",
       "0  https://insights.blackcoffer.com/covid-19-how-...   \n",
       "\n",
       "                                           title  \\\n",
       "0  COVID-19: How have countries been responding?   \n",
       "\n",
       "                                             content  \\\n",
       "0   The COVID19 pandemic is impacting communities...   \n",
       "\n",
       "                                      filter_content  Positive_Score  \\\n",
       "0  The COVID19 pandemic is impacting communities ...               9   \n",
       "\n",
       "   Negative_Score  polarity  subjectivity  \n",
       "0              36  0.043629       0.32619  "
      ]
     },
     "execution_count": 6,
     "metadata": {},
     "output_type": "execute_result"
    }
   ],
   "source": [
    "filter_content = ' '.join(text)\n",
    "data=[[url,title,content,filter_content,Positive_score,Negative_score]]\n",
    "data=pd.DataFrame(data,columns=[\"url\",\"title\",\"content\",\"filter_content\",\"Positive_Score\",\"Negative_Score\"])\n",
    "from textblob import TextBlob\n",
    "# Get The Subjectivity\n",
    "def sentiment_analysis(data):\n",
    "    sentiment = TextBlob(data[\"content\"]).sentiment\n",
    "    return pd.Series([sentiment.polarity,sentiment.subjectivity ])\n",
    "\n",
    "# Adding Subjectivity & Polarity\n",
    "data[[\"polarity\", \"subjectivity\"]] = data.apply(sentiment_analysis, axis=1)\n",
    "\n",
    "data"
   ]
  },
  {
   "cell_type": "code",
   "execution_count": 7,
   "id": "0a741449",
   "metadata": {},
   "outputs": [
    {
     "name": "stdout",
     "output_type": "stream",
     "text": [
      "Word average = 5447.0\n",
      "FOG INDEX =  419.55\n",
      "Average no of words per sentence\n",
      "1041.0\n",
      "Complex Words 1873\n"
     ]
    }
   ],
   "source": [
    "#AVG SENTENCE LENGTH\n",
    "AVG_SENTENCE_LENGTH = len(content.replace(' ',''))/len(re.split(r'[?!.]', content))\n",
    "print('Word average =', AVG_SENTENCE_LENGTH)\n",
    "import textstat\n",
    "#Fog index \n",
    "FOG_INDEX=(textstat.gunning_fog(content))\n",
    "print(\"FOG INDEX = \",FOG_INDEX)\n",
    "#Average No of Words Per Sentence \n",
    "AVG_NUMBER_OF_WORDS_PER_SENTENCE = [len(l.split()) for l in re.split(r'[?!.]', content) if l.strip()]\n",
    "print(\"Average no of words per sentence\")\n",
    "AVG_NUMBER_OF_WORDS_PER_SENTENCE=print(sum(AVG_NUMBER_OF_WORDS_PER_SENTENCE)/len(AVG_NUMBER_OF_WORDS_PER_SENTENCE))\n",
    "#Complex words\n",
    "def syllable_count(word):\n",
    "    count = 0\n",
    "    vowels = \"AEIOUYaeiouy\"\n",
    "    if word[0] in vowels:\n",
    "        count += 1\n",
    "    for index in range(1, len(word)): \n",
    "        if word[index] in vowels and word[index - 1] not in vowels:\n",
    "            count += 1\n",
    "            if word.endswith(\"es\"or \"ed\"):\n",
    "                count -= 1\n",
    "    if count == 0:\n",
    "        count += 1\n",
    "    return count\n",
    "\n",
    "\n",
    "\n",
    "COMPLEX_WORDS=syllable_count(content)\n",
    "print(\"Complex Words\",COMPLEX_WORDS)\n"
   ]
  },
  {
   "cell_type": "code",
   "execution_count": 8,
   "id": "f26b108e",
   "metadata": {},
   "outputs": [
    {
     "name": "stdout",
     "output_type": "stream",
     "text": [
      "Word Count 6489\n",
      "Percentage of Complex Words 28.86423177685314\n",
      "Average Word per Length 5.232468780019213\n",
      "The AVG number of syllables in the word is: \n",
      "2.021133525456292\n",
      "Word Count 6489\n",
      "Percentage of Complex Words 28.86423177685314\n",
      "Average Word per Length 5.232468780019213\n",
      "The AVG number of syllables in the word is: \n",
      "2.021133525456292\n"
     ]
    }
   ],
   "source": [
    "#Word Count\n",
    "Word_Count=len(content)\n",
    "print(\"Word Count\",Word_Count)\n",
    "#Percentage Complex Words\n",
    "pcw=(COMPLEX_WORDS/Word_Count)*100\n",
    "print(\"Percentage of Complex Words\",pcw)\n",
    "#Average Word Length\n",
    "Average_Word_Length=len(content.replace(' ',''))/len(content.split())\n",
    "print(\"Average Word per Length\",Average_Word_Length)\n",
    "#Syllable Count Per Word\n",
    "word=content.replace(' ','')\n",
    "syllable_count=0\n",
    "for w in word:\n",
    "      if(w=='a' or w=='e' or w=='i' or w=='o' or w=='y' or w=='u' or w=='A' or w=='E' or w=='I' or w=='O' or w=='U' or w=='Y'):\n",
    "            syllable_count=syllable_count+1\n",
    "print(\"The AVG number of syllables in the word is: \")\n",
    "print(syllable_count/len(content.split()))#Word Count\n",
    "Word_Count=len(content)\n",
    "print(\"Word Count\",Word_Count)\n",
    "#Percentage Complex Words\n",
    "pcw=(COMPLEX_WORDS/Word_Count)*100\n",
    "print(\"Percentage of Complex Words\",pcw)\n",
    "#Average Word Length\n",
    "Average_Word_Length=len(content.replace(' ',''))/len(content.split())\n",
    "print(\"Average Word per Length\",Average_Word_Length)\n",
    "#Syllable Count Per Word\n",
    "word=content.replace(' ','')\n",
    "syllable_count=0\n",
    "for w in word:\n",
    "      if(w=='a' or w=='e' or w=='i' or w=='o' or w=='y' or w=='u' or w=='A' or w=='E' or w=='I' or w=='O' or w=='U' or w=='Y'):\n",
    "            syllable_count=syllable_count+1\n",
    "print(\"The AVG number of syllables in the word is: \")\n",
    "print(syllable_count/len(content.split()))"
   ]
  },
  {
   "cell_type": "code",
   "execution_count": 1,
   "id": "5d1258f5",
   "metadata": {},
   "outputs": [
    {
     "name": "stdout",
     "output_type": "stream",
     "text": [
      "9\n",
      "36\n",
      "Word average = 5447.0\n",
      "FOG INDEX =  419.55\n",
      "Average no of words per sentence\n",
      "1041.0\n",
      "Complex Words 1873\n",
      "Word Count 6490\n",
      "Percentage of Complex Words 28.859784283513097\n",
      "Average Word per Length 5.232468780019213\n",
      "The AVG number of syllables in the word is: \n",
      "2.021133525456292\n"
     ]
    },
    {
     "data": {
      "text/html": [
       "<div>\n",
       "<style scoped>\n",
       "    .dataframe tbody tr th:only-of-type {\n",
       "        vertical-align: middle;\n",
       "    }\n",
       "\n",
       "    .dataframe tbody tr th {\n",
       "        vertical-align: top;\n",
       "    }\n",
       "\n",
       "    .dataframe thead th {\n",
       "        text-align: right;\n",
       "    }\n",
       "</style>\n",
       "<table border=\"1\" class=\"dataframe\">\n",
       "  <thead>\n",
       "    <tr style=\"text-align: right;\">\n",
       "      <th></th>\n",
       "      <th>url</th>\n",
       "      <th>title</th>\n",
       "      <th>content</th>\n",
       "      <th>filter_content</th>\n",
       "      <th>Positive_Score</th>\n",
       "      <th>Negative_Score</th>\n",
       "      <th>Avg_Sentence_Length</th>\n",
       "      <th>Percentage_Complex_Word</th>\n",
       "      <th>Fog_Index</th>\n",
       "      <th>AVG_NUMBER_OF_WORDS_PER_SENTENCE</th>\n",
       "      <th>COMPLEX_WORDS</th>\n",
       "      <th>Word_Count</th>\n",
       "      <th>syllable</th>\n",
       "      <th>Average_Word_Length</th>\n",
       "      <th>polarity</th>\n",
       "      <th>subjectivity</th>\n",
       "    </tr>\n",
       "  </thead>\n",
       "  <tbody>\n",
       "    <tr>\n",
       "      <th>0</th>\n",
       "      <td>https://insights.blackcoffer.com/covid-19-how-...</td>\n",
       "      <td>COVID-19: How have countries been responding?</td>\n",
       "      <td>The COVID19 pandemic is impacting communitie...</td>\n",
       "      <td>The COVID19 pandemic is impacting communities ...</td>\n",
       "      <td>9</td>\n",
       "      <td>36</td>\n",
       "      <td>5447.0</td>\n",
       "      <td>28.859784</td>\n",
       "      <td>419.55</td>\n",
       "      <td>1041.0</td>\n",
       "      <td>1873</td>\n",
       "      <td>6490</td>\n",
       "      <td>2.021134</td>\n",
       "      <td>5.232469</td>\n",
       "      <td>0.043629</td>\n",
       "      <td>0.32619</td>\n",
       "    </tr>\n",
       "  </tbody>\n",
       "</table>\n",
       "</div>"
      ],
      "text/plain": [
       "                                                 url  \\\n",
       "0  https://insights.blackcoffer.com/covid-19-how-...   \n",
       "\n",
       "                                           title  \\\n",
       "0  COVID-19: How have countries been responding?   \n",
       "\n",
       "                                             content  \\\n",
       "0    The COVID19 pandemic is impacting communitie...   \n",
       "\n",
       "                                      filter_content  Positive_Score  \\\n",
       "0  The COVID19 pandemic is impacting communities ...               9   \n",
       "\n",
       "   Negative_Score  Avg_Sentence_Length  Percentage_Complex_Word  Fog_Index  \\\n",
       "0              36               5447.0                28.859784     419.55   \n",
       "\n",
       "    AVG_NUMBER_OF_WORDS_PER_SENTENCE  COMPLEX_WORDS  Word_Count  syllable  \\\n",
       "0                             1041.0           1873        6490  2.021134   \n",
       "\n",
       "   Average_Word_Length  polarity  subjectivity  \n",
       "0             5.232469  0.043629       0.32619  "
      ]
     },
     "execution_count": 1,
     "metadata": {},
     "output_type": "execute_result"
    }
   ],
   "source": [
    "import requests\n",
    "import pandas as pd \n",
    "from bs4 import BeautifulSoup\n",
    "import string\n",
    "import spacy\n",
    "import re\n",
    "url = \"\"\"https://insights.blackcoffer.com/covid-19-how-have-countries-been-responding/\"\"\"\n",
    "headers = {\"User-Agent\": \"Mozilla/5.0 (X11; Linux x86_64; rv:60.0) Gecko/20100101 Firefox/60.0\"}\n",
    "page = requests.get(url, headers=headers)\n",
    "soup = BeautifulSoup(page.content, 'html.parser')\n",
    "soup=BeautifulSoup(page.content, 'html.parser')\n",
    "title=soup.find('h1',class_=\"entry-title\")\n",
    "title=title.text.replace('\\n',\" \")\n",
    "# title\n",
    "\n",
    "content=soup.findAll(attrs={'class':'td-post-content'})\n",
    "content=content[0].text.replace('\\n',\" \")\n",
    "# print(content)\n",
    "#Punctuation\n",
    "content = content.translate(str.maketrans('', '', string.punctuation)) \n",
    "# print(content)\n",
    "text = content.split()\n",
    "# print(text)\n",
    "len(text)\n",
    "#Positive Score \n",
    "with open(r\"C:\\Users\\Om Bhandwalkar\\Desktop\\pos\\positive-words.txt\") as pos:\n",
    "    poswords = pos.read().split(\"\\n\")  \n",
    "    poswords = poswords[5:]\n",
    "pos_count = \" \".join ([w for w in text if w in poswords])\n",
    "pos_count=pos_count.split(\" \")\n",
    "Positive_score=len(pos_count)\n",
    "print(Positive_score)\n",
    "\n",
    "#Negative Score\n",
    "with open(r\"C:\\Users\\Om Bhandwalkar\\Desktop\\pos\\negative-words.txt\",encoding =\"ISO-8859-1\") as neg:\n",
    "    negwords = neg.read().split(\"\\n\")\n",
    "    \n",
    "negwords = negwords[36:]\n",
    "neg_count = \" \".join ([w for w in text if w in negwords])\n",
    "neg_count=neg_count.split(\" \")\n",
    "Negative_score=len(neg_count)\n",
    "print(Negative_score)\n",
    "\n",
    "\n",
    "filter_content = ' '.join(text)\n",
    "data=[[url,title,content,filter_content,Positive_score,Negative_score]]\n",
    "data=pd.DataFrame(data,columns=[\"url\",\"title\",\"content\",\"filter_content\",\"Positive_Score\",\"Negative_Score\"])\n",
    "from textblob import TextBlob\n",
    "# Get The Subjectivity\n",
    "def sentiment_analysis(data):\n",
    "    sentiment = TextBlob(data[\"content\"]).sentiment\n",
    "    return pd.Series([sentiment.polarity,sentiment.subjectivity ])\n",
    "data[[\"polarity\", \"subjectivity\"]] = data.apply(sentiment_analysis, axis=1)\n",
    "data\n",
    "#AVG SENTENCE LENGTH\n",
    "AVG_SENTENCE_LENGTH = len(content.replace(' ',''))/len(re.split(r'[?!.]', content))\n",
    "print('Word average =', AVG_SENTENCE_LENGTH)\n",
    "import textstat\n",
    "#Fog index \n",
    "FOG_INDEX=(textstat.gunning_fog(content))\n",
    "print(\"FOG INDEX = \",FOG_INDEX)\n",
    "#Average No of Words Per Sentence \n",
    "AVG_NUMBER_OF_WORDS_PER_SENTENCE = [len(l.split()) for l in re.split(r'[?!.]', content) if l.strip()]\n",
    "print(\"Average no of words per sentence\")\n",
    "AVG_NUMBER_OF_WORDS_PER_SENTENCE=(sum(AVG_NUMBER_OF_WORDS_PER_SENTENCE)/len(AVG_NUMBER_OF_WORDS_PER_SENTENCE))\n",
    "print(AVG_NUMBER_OF_WORDS_PER_SENTENCE)\n",
    "#Complex words\n",
    "def syllable_count(word):\n",
    "    count = 0\n",
    "    vowels = \"AEIOUYaeiouy\"\n",
    "    if word[0] in vowels:\n",
    "        count += 1\n",
    "    for index in range(1, len(word)): \n",
    "        if word[index] in vowels and word[index - 1] not in vowels:\n",
    "            count += 1\n",
    "            if word.endswith(\"es\"or \"ed\"):\n",
    "                count -= 1\n",
    "    if count == 0:\n",
    "        count += 1\n",
    "    return count\n",
    "\n",
    "\n",
    "\n",
    "COMPLEX_WORDS=syllable_count(content)\n",
    "print(\"Complex Words\",COMPLEX_WORDS)\n",
    "#Word Count\n",
    "Word_Count=len(content)\n",
    "print(\"Word Count\",Word_Count)\n",
    "#Percentage Complex Words\n",
    "pcw=(COMPLEX_WORDS/Word_Count)*100\n",
    "print(\"Percentage of Complex Words\",pcw)\n",
    "#Average Word Length\n",
    "Average_Word_Length=len(content.replace(' ',''))/len(content.split())\n",
    "print(\"Average Word per Length\",Average_Word_Length)\n",
    "#Syllable Count Per Word\n",
    "word=content.replace(' ','')\n",
    "syllable_count=0\n",
    "for w in word:\n",
    "      if(w=='a' or w=='e' or w=='i' or w=='o' or w=='y' or w=='u' or w=='A' or w=='E' or w=='I' or w=='O' or w=='U' or w=='Y'):\n",
    "            syllable_count=syllable_count+1\n",
    "print(\"The AVG number of syllables in the word is: \")\n",
    "syllable = (syllable_count/len(content.split()))\n",
    "print(syllable)\n",
    "\n",
    "data = [[url,title,content,filter_content,Positive_score,Negative_score,AVG_SENTENCE_LENGTH,pcw,FOG_INDEX,\n",
    "         AVG_NUMBER_OF_WORDS_PER_SENTENCE,COMPLEX_WORDS,Word_Count,syllable,Average_Word_Length]]\n",
    "data=pd.DataFrame(data,columns=[\"url\",\"title\",\"content\",\"filter_content\",\"Positive_Score\",\"Negative_Score\",\"Avg_Sentence_Length\"\n",
    "                               ,\"Percentage_Complex_Word\",\"Fog_Index\",\" AVG_NUMBER_OF_WORDS_PER_SENTENCE\",\"COMPLEX_WORDS\",\n",
    "                               \"Word_Count\",\"syllable\",\"Average_Word_Length\"])\n",
    "from textblob import TextBlob\n",
    "# Get The Subjectivity\n",
    "def sentiment_analysis(data):\n",
    "    sentiment = TextBlob(data[\"content\"]).sentiment\n",
    "    return pd.Series([sentiment.polarity,sentiment.subjectivity ])\n",
    "data[[\"polarity\", \"subjectivity\"]] = data.apply(sentiment_analysis, axis=1)\n",
    "data"
   ]
  },
  {
   "cell_type": "code",
   "execution_count": 2,
   "id": "b0a44f9d",
   "metadata": {},
   "outputs": [],
   "source": [
    "data.to_csv(r'C:\\Users\\Om Bhandwalkar\\Desktop\\BlackCoffer Assignment\\Output\\url_110.csv')"
   ]
  },
  {
   "cell_type": "code",
   "execution_count": null,
   "id": "53c7ff3c",
   "metadata": {},
   "outputs": [],
   "source": []
  }
 ],
 "metadata": {
  "kernelspec": {
   "display_name": "Python 3 (ipykernel)",
   "language": "python",
   "name": "python3"
  },
  "language_info": {
   "codemirror_mode": {
    "name": "ipython",
    "version": 3
   },
   "file_extension": ".py",
   "mimetype": "text/x-python",
   "name": "python",
   "nbconvert_exporter": "python",
   "pygments_lexer": "ipython3",
   "version": "3.9.12"
  }
 },
 "nbformat": 4,
 "nbformat_minor": 5
}
