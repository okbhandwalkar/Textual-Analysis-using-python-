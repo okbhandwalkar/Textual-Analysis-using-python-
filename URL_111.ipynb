{
 "cells": [
  {
   "cell_type": "code",
   "execution_count": 1,
   "id": "f01d91b0",
   "metadata": {},
   "outputs": [
    {
     "data": {
      "text/plain": [
       "'How Coronavirus Impact on the Hospitality Industry'"
      ]
     },
     "execution_count": 1,
     "metadata": {},
     "output_type": "execute_result"
    }
   ],
   "source": [
    "import requests\n",
    "import pandas as pd \n",
    "from bs4 import BeautifulSoup\n",
    "import string\n",
    "import spacy\n",
    "import re\n",
    "url = \"\"\"https://insights.blackcoffer.com/coronavirus-impact-on-the-hospitality-industry-2/\"\"\"\n",
    "headers = {\"User-Agent\": \"Mozilla/5.0 (X11; Linux x86_64; rv:60.0) Gecko/20100101 Firefox/60.0\"}\n",
    "page = requests.get(url, headers=headers)\n",
    "soup = BeautifulSoup(page.content, 'html.parser')\n",
    "soup=BeautifulSoup(page.content, 'html.parser')\n",
    "title=soup.find('h1',class_=\"entry-title\")\n",
    "title=title.text.replace('\\n',\" \")\n",
    "title\n"
   ]
  },
  {
   "cell_type": "code",
   "execution_count": 2,
   "id": "18003c35",
   "metadata": {},
   "outputs": [
    {
     "name": "stdout",
     "output_type": "stream",
     "text": [
      " While Coronavirus has affected the life of every individual, it has also affected various industries for better or for worse. While certain industries like Pharma, Mobile and Web-streaming industries, Fitness and Teleconference apps have boomed during this pandemic, industries like Tourism, Fast-Food Industry, Retail and Leisure sectors have suffered the worst hit due to Coronavirus Impact During this lockdown to prevent the spreading of Coronavirus Impact, almost all of the companies have adopted a work-from-home culture and have used various Teleconference apps to hold meetings. Teleconference apps are also being used by college institutions and universities so that the studies don’t get disrupted. Also, confined to their homes, people have started engaging more in fitness apps, and web streaming services like Netflix, YouTube, and Amazon Prime are at their zenith. While these industries are thriving in this pandemic, the most affected industry during this time is the Hospitality Industry. Hospitality Industry embodies various sectors like transportation, traveling, airlines, hotels, and lodges, etc. Hotels and traveling are also a major part of the Tourism Industry. The tourism and Hospitality industries may appear somewhat similar, but they have their subtle distinctions. Tourism mainly involves traveling and services to those who are away from home. The hospitality industry involves businesses and services that are concerned with leisure and enjoyment and mainly run on customer experience and satisfaction. Their customers may also be local inhabitants along with tourists. The hospitality industry can be majorly divided into Accommodations, Travelling, and Food and Drinks.  Accommodations include hotels, resorts, hostels, motels, etc. The best of the hotels and resorts that were basking at their peeks, now have no option but to lay off their employees. Many hotels are down to zero occupancies and have led to an immense loss for the hotel establishments. The same is the case for resorts, hostels, motels, etc. that provide accommodations. Since there are no occupants, there is no money inflow, which is leading to the layoffs of employees as the owners are not able to provide paychecks anymore. Businesses in the accommodation sector that have just started, are finding it difficult to cope up with this situation. Various governments have extended small business bridge loans to cope up with this situation. The accommodations sector has no other way to cope with this situation but to wait for the situation to improve so that they can improve their business. Traveling restrictions are imposed by various governments to avoid the spreading of Coronavirus. Travel agencies, car rentals, tour operators, flights, and airlines have been hit quite severely by COVID-19. Due to the fear of spreading Coronavirus, people have limited their public outings or have stopped stepping out altogether unless to shop for daily essentials. Coronavirus Impact on travel that ban lays out restrictions on who can travel from where to where. Many international and domestic flights have been suspended to tackle the Coronavirus crisis. Havoc is created across the aviation industry. The months from March to May are said to be the busiest times of the year for the tours and travel industry. But people are reluctant to travel in the fear of catching Coronavirus or getting stuck abroad if the governments announce restrictions, thereby overstaying their visas that can imply their future travels abroad. Airlines and tourism agencies have stopped marketing and advertising as it would be irresponsible and does not make sense during this crisis. To cope up with this situation, airlines like Virgin Atlantic and American Airlines have started deploying passenger flights to carry cargo, while various airlines have laid off. Commercial travel has dropped tremendously. Also, there is a recent drop in jet fuel prices. It is being estimated that many airlines are going to go bankrupt if this situation persists. Apart from airlines, the cruise industry and travel agencies also take a toll this year. They are facing cancellations of bookings, and some new travel agencies are at a risk of closing down rendering all their employees either losing their jobs or going on unpaid leaves in this time of crisis. It is predicted that once the pandemic is over or the situation is under control, the travel and tour industry can take about 10 months to return to normalcy. However, this outbreak may affect the entire tourism industry’s future. Many foods and drinks services fall under the hospitality industry as they offer people services that provide them leisure time. Their customers not only include tourists but locals, passerby’s, etc. These mainly include restaurants, tea and coffee shops, bars and pubs, catering, etc. Catering is provided at places mainly where there is a social gathering, to deliver food and drinks services where it is not provided or not according to the organizer’s preference. Due to this pandemic, many countries are in lockdown, and even those that are not in lockdown are not allowed to hold public gatherings as a safety precaution. Due to the avoidance of public gatherings and events to maintain social distancing, catering services are halted for now. Restaurants, tea and coffee shops, pubs, and bars have all closed down not only for the safety of their customers but also keeping in mind the safety of their employees and workers. However, a few restaurants that offer food delivery are still working, by taking all the necessary health and sanitation precautions to prevent the spreading of Coronavirus. The number of such restaurants seems to be declining with the increasing cases of COVID-19 as the customers are becoming more and more afraid and cautious about the situation. Though, quick-service food deliveries can cope better than the full-service restaurants during this crisis. Because of this unprecedented crisis, all these industries that are being affected are hoping for government support to make it through such tough times. Without some financial support or help from the government or other institutions, it will be difficult for various establishments to survive through this crisis. It is being indicated that the world will face the worst recession since the Great Depression during this pandemic with so many people losing their jobs, especially those working in the hospitality industry. Thus Coronavirus Impact on different industries Blackcoffer Insights 17:- Mehdia Fatima,Jamia Millia Islamia   \n",
      " While Coronavirus has affected the life of every individual it has also affected various industries for better or for worse While certain industries like Pharma Mobile and Webstreaming industries Fitness and Teleconference apps have boomed during this pandemic industries like Tourism FastFood Industry Retail and Leisure sectors have suffered the worst hit due to Coronavirus Impact During this lockdown to prevent the spreading of Coronavirus Impact almost all of the companies have adopted a workfromhome culture and have used various Teleconference apps to hold meetings Teleconference apps are also being used by college institutions and universities so that the studies don’t get disrupted Also confined to their homes people have started engaging more in fitness apps and web streaming services like Netflix YouTube and Amazon Prime are at their zenith While these industries are thriving in this pandemic the most affected industry during this time is the Hospitality Industry Hospitality Industry embodies various sectors like transportation traveling airlines hotels and lodges etc Hotels and traveling are also a major part of the Tourism Industry The tourism and Hospitality industries may appear somewhat similar but they have their subtle distinctions Tourism mainly involves traveling and services to those who are away from home The hospitality industry involves businesses and services that are concerned with leisure and enjoyment and mainly run on customer experience and satisfaction Their customers may also be local inhabitants along with tourists The hospitality industry can be majorly divided into Accommodations Travelling and Food and Drinks  Accommodations include hotels resorts hostels motels etc The best of the hotels and resorts that were basking at their peeks now have no option but to lay off their employees Many hotels are down to zero occupancies and have led to an immense loss for the hotel establishments The same is the case for resorts hostels motels etc that provide accommodations Since there are no occupants there is no money inflow which is leading to the layoffs of employees as the owners are not able to provide paychecks anymore Businesses in the accommodation sector that have just started are finding it difficult to cope up with this situation Various governments have extended small business bridge loans to cope up with this situation The accommodations sector has no other way to cope with this situation but to wait for the situation to improve so that they can improve their business Traveling restrictions are imposed by various governments to avoid the spreading of Coronavirus Travel agencies car rentals tour operators flights and airlines have been hit quite severely by COVID19 Due to the fear of spreading Coronavirus people have limited their public outings or have stopped stepping out altogether unless to shop for daily essentials Coronavirus Impact on travel that ban lays out restrictions on who can travel from where to where Many international and domestic flights have been suspended to tackle the Coronavirus crisis Havoc is created across the aviation industry The months from March to May are said to be the busiest times of the year for the tours and travel industry But people are reluctant to travel in the fear of catching Coronavirus or getting stuck abroad if the governments announce restrictions thereby overstaying their visas that can imply their future travels abroad Airlines and tourism agencies have stopped marketing and advertising as it would be irresponsible and does not make sense during this crisis To cope up with this situation airlines like Virgin Atlantic and American Airlines have started deploying passenger flights to carry cargo while various airlines have laid off Commercial travel has dropped tremendously Also there is a recent drop in jet fuel prices It is being estimated that many airlines are going to go bankrupt if this situation persists Apart from airlines the cruise industry and travel agencies also take a toll this year They are facing cancellations of bookings and some new travel agencies are at a risk of closing down rendering all their employees either losing their jobs or going on unpaid leaves in this time of crisis It is predicted that once the pandemic is over or the situation is under control the travel and tour industry can take about 10 months to return to normalcy However this outbreak may affect the entire tourism industry’s future Many foods and drinks services fall under the hospitality industry as they offer people services that provide them leisure time Their customers not only include tourists but locals passerby’s etc These mainly include restaurants tea and coffee shops bars and pubs catering etc Catering is provided at places mainly where there is a social gathering to deliver food and drinks services where it is not provided or not according to the organizer’s preference Due to this pandemic many countries are in lockdown and even those that are not in lockdown are not allowed to hold public gatherings as a safety precaution Due to the avoidance of public gatherings and events to maintain social distancing catering services are halted for now Restaurants tea and coffee shops pubs and bars have all closed down not only for the safety of their customers but also keeping in mind the safety of their employees and workers However a few restaurants that offer food delivery are still working by taking all the necessary health and sanitation precautions to prevent the spreading of Coronavirus The number of such restaurants seems to be declining with the increasing cases of COVID19 as the customers are becoming more and more afraid and cautious about the situation Though quickservice food deliveries can cope better than the fullservice restaurants during this crisis Because of this unprecedented crisis all these industries that are being affected are hoping for government support to make it through such tough times Without some financial support or help from the government or other institutions it will be difficult for various establishments to survive through this crisis It is being indicated that the world will face the worst recession since the Great Depression during this pandemic with so many people losing their jobs especially those working in the hospitality industry Thus Coronavirus Impact on different industries Blackcoffer Insights 17 Mehdia FatimaJamia Millia Islamia   \n",
      "['While', 'Coronavirus', 'has', 'affected', 'the', 'life', 'of', 'every', 'individual', 'it', 'has', 'also', 'affected', 'various', 'industries', 'for', 'better', 'or', 'for', 'worse', 'While', 'certain', 'industries', 'like', 'Pharma', 'Mobile', 'and', 'Webstreaming', 'industries', 'Fitness', 'and', 'Teleconference', 'apps', 'have', 'boomed', 'during', 'this', 'pandemic', 'industries', 'like', 'Tourism', 'FastFood', 'Industry', 'Retail', 'and', 'Leisure', 'sectors', 'have', 'suffered', 'the', 'worst', 'hit', 'due', 'to', 'Coronavirus', 'Impact', 'During', 'this', 'lockdown', 'to', 'prevent', 'the', 'spreading', 'of', 'Coronavirus', 'Impact', 'almost', 'all', 'of', 'the', 'companies', 'have', 'adopted', 'a', 'workfromhome', 'culture', 'and', 'have', 'used', 'various', 'Teleconference', 'apps', 'to', 'hold', 'meetings', 'Teleconference', 'apps', 'are', 'also', 'being', 'used', 'by', 'college', 'institutions', 'and', 'universities', 'so', 'that', 'the', 'studies', 'don’t', 'get', 'disrupted', 'Also', 'confined', 'to', 'their', 'homes', 'people', 'have', 'started', 'engaging', 'more', 'in', 'fitness', 'apps', 'and', 'web', 'streaming', 'services', 'like', 'Netflix', 'YouTube', 'and', 'Amazon', 'Prime', 'are', 'at', 'their', 'zenith', 'While', 'these', 'industries', 'are', 'thriving', 'in', 'this', 'pandemic', 'the', 'most', 'affected', 'industry', 'during', 'this', 'time', 'is', 'the', 'Hospitality', 'Industry', 'Hospitality', 'Industry', 'embodies', 'various', 'sectors', 'like', 'transportation', 'traveling', 'airlines', 'hotels', 'and', 'lodges', 'etc', 'Hotels', 'and', 'traveling', 'are', 'also', 'a', 'major', 'part', 'of', 'the', 'Tourism', 'Industry', 'The', 'tourism', 'and', 'Hospitality', 'industries', 'may', 'appear', 'somewhat', 'similar', 'but', 'they', 'have', 'their', 'subtle', 'distinctions', 'Tourism', 'mainly', 'involves', 'traveling', 'and', 'services', 'to', 'those', 'who', 'are', 'away', 'from', 'home', 'The', 'hospitality', 'industry', 'involves', 'businesses', 'and', 'services', 'that', 'are', 'concerned', 'with', 'leisure', 'and', 'enjoyment', 'and', 'mainly', 'run', 'on', 'customer', 'experience', 'and', 'satisfaction', 'Their', 'customers', 'may', 'also', 'be', 'local', 'inhabitants', 'along', 'with', 'tourists', 'The', 'hospitality', 'industry', 'can', 'be', 'majorly', 'divided', 'into', 'Accommodations', 'Travelling', 'and', 'Food', 'and', 'Drinks', 'Accommodations', 'include', 'hotels', 'resorts', 'hostels', 'motels', 'etc', 'The', 'best', 'of', 'the', 'hotels', 'and', 'resorts', 'that', 'were', 'basking', 'at', 'their', 'peeks', 'now', 'have', 'no', 'option', 'but', 'to', 'lay', 'off', 'their', 'employees', 'Many', 'hotels', 'are', 'down', 'to', 'zero', 'occupancies', 'and', 'have', 'led', 'to', 'an', 'immense', 'loss', 'for', 'the', 'hotel', 'establishments', 'The', 'same', 'is', 'the', 'case', 'for', 'resorts', 'hostels', 'motels', 'etc', 'that', 'provide', 'accommodations', 'Since', 'there', 'are', 'no', 'occupants', 'there', 'is', 'no', 'money', 'inflow', 'which', 'is', 'leading', 'to', 'the', 'layoffs', 'of', 'employees', 'as', 'the', 'owners', 'are', 'not', 'able', 'to', 'provide', 'paychecks', 'anymore', 'Businesses', 'in', 'the', 'accommodation', 'sector', 'that', 'have', 'just', 'started', 'are', 'finding', 'it', 'difficult', 'to', 'cope', 'up', 'with', 'this', 'situation', 'Various', 'governments', 'have', 'extended', 'small', 'business', 'bridge', 'loans', 'to', 'cope', 'up', 'with', 'this', 'situation', 'The', 'accommodations', 'sector', 'has', 'no', 'other', 'way', 'to', 'cope', 'with', 'this', 'situation', 'but', 'to', 'wait', 'for', 'the', 'situation', 'to', 'improve', 'so', 'that', 'they', 'can', 'improve', 'their', 'business', 'Traveling', 'restrictions', 'are', 'imposed', 'by', 'various', 'governments', 'to', 'avoid', 'the', 'spreading', 'of', 'Coronavirus', 'Travel', 'agencies', 'car', 'rentals', 'tour', 'operators', 'flights', 'and', 'airlines', 'have', 'been', 'hit', 'quite', 'severely', 'by', 'COVID19', 'Due', 'to', 'the', 'fear', 'of', 'spreading', 'Coronavirus', 'people', 'have', 'limited', 'their', 'public', 'outings', 'or', 'have', 'stopped', 'stepping', 'out', 'altogether', 'unless', 'to', 'shop', 'for', 'daily', 'essentials', 'Coronavirus', 'Impact', 'on', 'travel', 'that', 'ban', 'lays', 'out', 'restrictions', 'on', 'who', 'can', 'travel', 'from', 'where', 'to', 'where', 'Many', 'international', 'and', 'domestic', 'flights', 'have', 'been', 'suspended', 'to', 'tackle', 'the', 'Coronavirus', 'crisis', 'Havoc', 'is', 'created', 'across', 'the', 'aviation', 'industry', 'The', 'months', 'from', 'March', 'to', 'May', 'are', 'said', 'to', 'be', 'the', 'busiest', 'times', 'of', 'the', 'year', 'for', 'the', 'tours', 'and', 'travel', 'industry', 'But', 'people', 'are', 'reluctant', 'to', 'travel', 'in', 'the', 'fear', 'of', 'catching', 'Coronavirus', 'or', 'getting', 'stuck', 'abroad', 'if', 'the', 'governments', 'announce', 'restrictions', 'thereby', 'overstaying', 'their', 'visas', 'that', 'can', 'imply', 'their', 'future', 'travels', 'abroad', 'Airlines', 'and', 'tourism', 'agencies', 'have', 'stopped', 'marketing', 'and', 'advertising', 'as', 'it', 'would', 'be', 'irresponsible', 'and', 'does', 'not', 'make', 'sense', 'during', 'this', 'crisis', 'To', 'cope', 'up', 'with', 'this', 'situation', 'airlines', 'like', 'Virgin', 'Atlantic', 'and', 'American', 'Airlines', 'have', 'started', 'deploying', 'passenger', 'flights', 'to', 'carry', 'cargo', 'while', 'various', 'airlines', 'have', 'laid', 'off', 'Commercial', 'travel', 'has', 'dropped', 'tremendously', 'Also', 'there', 'is', 'a', 'recent', 'drop', 'in', 'jet', 'fuel', 'prices', 'It', 'is', 'being', 'estimated', 'that', 'many', 'airlines', 'are', 'going', 'to', 'go', 'bankrupt', 'if', 'this', 'situation', 'persists', 'Apart', 'from', 'airlines', 'the', 'cruise', 'industry', 'and', 'travel', 'agencies', 'also', 'take', 'a', 'toll', 'this', 'year', 'They', 'are', 'facing', 'cancellations', 'of', 'bookings', 'and', 'some', 'new', 'travel', 'agencies', 'are', 'at', 'a', 'risk', 'of', 'closing', 'down', 'rendering', 'all', 'their', 'employees', 'either', 'losing', 'their', 'jobs', 'or', 'going', 'on', 'unpaid', 'leaves', 'in', 'this', 'time', 'of', 'crisis', 'It', 'is', 'predicted', 'that', 'once', 'the', 'pandemic', 'is', 'over', 'or', 'the', 'situation', 'is', 'under', 'control', 'the', 'travel', 'and', 'tour', 'industry', 'can', 'take', 'about', '10', 'months', 'to', 'return', 'to', 'normalcy', 'However', 'this', 'outbreak', 'may', 'affect', 'the', 'entire', 'tourism', 'industry’s', 'future', 'Many', 'foods', 'and', 'drinks', 'services', 'fall', 'under', 'the', 'hospitality', 'industry', 'as', 'they', 'offer', 'people', 'services', 'that', 'provide', 'them', 'leisure', 'time', 'Their', 'customers', 'not', 'only', 'include', 'tourists', 'but', 'locals', 'passerby’s', 'etc', 'These', 'mainly', 'include', 'restaurants', 'tea', 'and', 'coffee', 'shops', 'bars', 'and', 'pubs', 'catering', 'etc', 'Catering', 'is', 'provided', 'at', 'places', 'mainly', 'where', 'there', 'is', 'a', 'social', 'gathering', 'to', 'deliver', 'food', 'and', 'drinks', 'services', 'where', 'it', 'is', 'not', 'provided', 'or', 'not', 'according', 'to', 'the', 'organizer’s', 'preference', 'Due', 'to', 'this', 'pandemic', 'many', 'countries', 'are', 'in', 'lockdown', 'and', 'even', 'those', 'that', 'are', 'not', 'in', 'lockdown', 'are', 'not', 'allowed', 'to', 'hold', 'public', 'gatherings', 'as', 'a', 'safety', 'precaution', 'Due', 'to', 'the', 'avoidance', 'of', 'public', 'gatherings', 'and', 'events', 'to', 'maintain', 'social', 'distancing', 'catering', 'services', 'are', 'halted', 'for', 'now', 'Restaurants', 'tea', 'and', 'coffee', 'shops', 'pubs', 'and', 'bars', 'have', 'all', 'closed', 'down', 'not', 'only', 'for', 'the', 'safety', 'of', 'their', 'customers', 'but', 'also', 'keeping', 'in', 'mind', 'the', 'safety', 'of', 'their', 'employees', 'and', 'workers', 'However', 'a', 'few', 'restaurants', 'that', 'offer', 'food', 'delivery', 'are', 'still', 'working', 'by', 'taking', 'all', 'the', 'necessary', 'health', 'and', 'sanitation', 'precautions', 'to', 'prevent', 'the', 'spreading', 'of', 'Coronavirus', 'The', 'number', 'of', 'such', 'restaurants', 'seems', 'to', 'be', 'declining', 'with', 'the', 'increasing', 'cases', 'of', 'COVID19', 'as', 'the', 'customers', 'are', 'becoming', 'more', 'and', 'more', 'afraid', 'and', 'cautious', 'about', 'the', 'situation', 'Though', 'quickservice', 'food', 'deliveries', 'can', 'cope', 'better', 'than', 'the', 'fullservice', 'restaurants', 'during', 'this', 'crisis', 'Because', 'of', 'this', 'unprecedented', 'crisis', 'all', 'these', 'industries', 'that', 'are', 'being', 'affected', 'are', 'hoping', 'for', 'government', 'support', 'to', 'make', 'it', 'through', 'such', 'tough', 'times', 'Without', 'some', 'financial', 'support', 'or', 'help', 'from', 'the', 'government', 'or', 'other', 'institutions', 'it', 'will', 'be', 'difficult', 'for', 'various', 'establishments', 'to', 'survive', 'through', 'this', 'crisis', 'It', 'is', 'being', 'indicated', 'that', 'the', 'world', 'will', 'face', 'the', 'worst', 'recession', 'since', 'the', 'Great', 'Depression', 'during', 'this', 'pandemic', 'with', 'so', 'many', 'people', 'losing', 'their', 'jobs', 'especially', 'those', 'working', 'in', 'the', 'hospitality', 'industry', 'Thus', 'Coronavirus', 'Impact', 'on', 'different', 'industries', 'Blackcoffer', 'Insights', '17', 'Mehdia', 'FatimaJamia', 'Millia', 'Islamia']\n"
     ]
    }
   ],
   "source": [
    "content=soup.findAll(attrs={'class':'td-post-content'})\n",
    "content=content[0].text.replace('\\n',\" \")\n",
    "print(content)\n",
    "#Punctuation\n",
    "content = content.translate(str.maketrans('', '', string.punctuation)) \n",
    "print(content)\n",
    "text = content.split()\n",
    "print(text)\n"
   ]
  },
  {
   "cell_type": "code",
   "execution_count": 3,
   "id": "747c5060",
   "metadata": {},
   "outputs": [
    {
     "data": {
      "text/plain": [
       "1027"
      ]
     },
     "execution_count": 3,
     "metadata": {},
     "output_type": "execute_result"
    }
   ],
   "source": [
    "len(text)"
   ]
  },
  {
   "cell_type": "code",
   "execution_count": 4,
   "id": "c64c932c",
   "metadata": {},
   "outputs": [
    {
     "name": "stdout",
     "output_type": "stream",
     "text": [
      "21\n"
     ]
    }
   ],
   "source": [
    "#Positive Score \n",
    "with open(r\"C:\\Users\\Om Bhandwalkar\\Desktop\\pos\\positive-words.txt\") as pos:\n",
    "    poswords = pos.read().split(\"\\n\")  \n",
    "    poswords = poswords[5:]\n",
    "pos_count = \" \".join ([w for w in text if w in poswords])\n",
    "pos_count=pos_count.split(\" \")\n",
    "Positive_score=len(pos_count)\n",
    "print(Positive_score)"
   ]
  },
  {
   "cell_type": "code",
   "execution_count": 5,
   "id": "42272f41",
   "metadata": {},
   "outputs": [
    {
     "name": "stdout",
     "output_type": "stream",
     "text": [
      "31\n"
     ]
    }
   ],
   "source": [
    "#Negative Score\n",
    "with open(r\"C:\\Users\\Om Bhandwalkar\\Desktop\\pos\\negative-words.txt\",encoding =\"ISO-8859-1\") as neg:\n",
    "    negwords = neg.read().split(\"\\n\")\n",
    "    \n",
    "negwords = negwords[36:]\n",
    "neg_count = \" \".join ([w for w in text if w in negwords])\n",
    "neg_count=neg_count.split(\" \")\n",
    "Negative_score=len(neg_count)\n",
    "print(Negative_score)"
   ]
  },
  {
   "cell_type": "code",
   "execution_count": 7,
   "id": "b895d5dc",
   "metadata": {},
   "outputs": [
    {
     "data": {
      "text/html": [
       "<div>\n",
       "<style scoped>\n",
       "    .dataframe tbody tr th:only-of-type {\n",
       "        vertical-align: middle;\n",
       "    }\n",
       "\n",
       "    .dataframe tbody tr th {\n",
       "        vertical-align: top;\n",
       "    }\n",
       "\n",
       "    .dataframe thead th {\n",
       "        text-align: right;\n",
       "    }\n",
       "</style>\n",
       "<table border=\"1\" class=\"dataframe\">\n",
       "  <thead>\n",
       "    <tr style=\"text-align: right;\">\n",
       "      <th></th>\n",
       "      <th>url</th>\n",
       "      <th>title</th>\n",
       "      <th>content</th>\n",
       "      <th>filter_content</th>\n",
       "      <th>Positive_Score</th>\n",
       "      <th>Negative_Score</th>\n",
       "      <th>polarity</th>\n",
       "      <th>subjectivity</th>\n",
       "    </tr>\n",
       "  </thead>\n",
       "  <tbody>\n",
       "    <tr>\n",
       "      <th>0</th>\n",
       "      <td>https://insights.blackcoffer.com/coronavirus-i...</td>\n",
       "      <td>How Coronavirus Impact on the Hospitality Indu...</td>\n",
       "      <td>While Coronavirus has affected the life of ev...</td>\n",
       "      <td>While Coronavirus has affected the life of eve...</td>\n",
       "      <td>21</td>\n",
       "      <td>31</td>\n",
       "      <td>0.059161</td>\n",
       "      <td>0.465006</td>\n",
       "    </tr>\n",
       "  </tbody>\n",
       "</table>\n",
       "</div>"
      ],
      "text/plain": [
       "                                                 url  \\\n",
       "0  https://insights.blackcoffer.com/coronavirus-i...   \n",
       "\n",
       "                                               title  \\\n",
       "0  How Coronavirus Impact on the Hospitality Indu...   \n",
       "\n",
       "                                             content  \\\n",
       "0   While Coronavirus has affected the life of ev...   \n",
       "\n",
       "                                      filter_content  Positive_Score  \\\n",
       "0  While Coronavirus has affected the life of eve...              21   \n",
       "\n",
       "   Negative_Score  polarity  subjectivity  \n",
       "0              31  0.059161      0.465006  "
      ]
     },
     "execution_count": 7,
     "metadata": {},
     "output_type": "execute_result"
    }
   ],
   "source": [
    "filter_content = ' '.join(text)\n",
    "data=[[url,title,content,filter_content,Positive_score,Negative_score]]\n",
    "data=pd.DataFrame(data,columns=[\"url\",\"title\",\"content\",\"filter_content\",\"Positive_Score\",\"Negative_Score\"])\n",
    "from textblob import TextBlob\n",
    "# Get The Subjectivity\n",
    "def sentiment_analysis(data):\n",
    "    sentiment = TextBlob(data[\"content\"]).sentiment\n",
    "    return pd.Series([sentiment.polarity,sentiment.subjectivity ])\n",
    "\n",
    "# Adding Subjectivity & Polarity\n",
    "data[[\"polarity\", \"subjectivity\"]] = data.apply(sentiment_analysis, axis=1)\n",
    "\n",
    "data"
   ]
  },
  {
   "cell_type": "code",
   "execution_count": 8,
   "id": "a41e5d82",
   "metadata": {},
   "outputs": [
    {
     "name": "stdout",
     "output_type": "stream",
     "text": [
      "Word average = 5436.0\n",
      "FOG INDEX =  414.23\n",
      "Average no of words per sentence\n",
      "1027.0\n",
      "Complex Words 1911\n"
     ]
    }
   ],
   "source": [
    "#AVG SENTENCE LENGTH\n",
    "AVG_SENTENCE_LENGTH = len(content.replace(' ',''))/len(re.split(r'[?!.]', content))\n",
    "print('Word average =', AVG_SENTENCE_LENGTH)\n",
    "import textstat\n",
    "#Fog index \n",
    "FOG_INDEX=(textstat.gunning_fog(content))\n",
    "print(\"FOG INDEX = \",FOG_INDEX)\n",
    "#Average No of Words Per Sentence \n",
    "AVG_NUMBER_OF_WORDS_PER_SENTENCE = [len(l.split()) for l in re.split(r'[?!.]', content) if l.strip()]\n",
    "print(\"Average no of words per sentence\")\n",
    "AVG_NUMBER_OF_WORDS_PER_SENTENCE=print(sum(AVG_NUMBER_OF_WORDS_PER_SENTENCE)/len(AVG_NUMBER_OF_WORDS_PER_SENTENCE))\n",
    "#Complex words\n",
    "def syllable_count(word):\n",
    "    count = 0\n",
    "    vowels = \"AEIOUYaeiouy\"\n",
    "    if word[0] in vowels:\n",
    "        count += 1\n",
    "    for index in range(1, len(word)): \n",
    "        if word[index] in vowels and word[index - 1] not in vowels:\n",
    "            count += 1\n",
    "            if word.endswith(\"es\"or \"ed\"):\n",
    "                count -= 1\n",
    "    if count == 0:\n",
    "        count += 1\n",
    "    return count\n",
    "\n",
    "\n",
    "\n",
    "COMPLEX_WORDS=syllable_count(content)\n",
    "print(\"Complex Words\",COMPLEX_WORDS)\n"
   ]
  },
  {
   "cell_type": "code",
   "execution_count": 9,
   "id": "41b9b3e8",
   "metadata": {},
   "outputs": [
    {
     "name": "stdout",
     "output_type": "stream",
     "text": [
      "Word Count 6466\n",
      "Percentage of Complex Words 29.55459325703681\n",
      "Average Word per Length 5.293086660175268\n",
      "The AVG number of syllables in the word is: \n",
      "2.11587147030185\n",
      "Word Count 6466\n",
      "Percentage of Complex Words 29.55459325703681\n",
      "Average Word per Length 5.293086660175268\n",
      "The AVG number of syllables in the word is: \n",
      "2.11587147030185\n"
     ]
    }
   ],
   "source": [
    "#Word Count\n",
    "Word_Count=len(content)\n",
    "print(\"Word Count\",Word_Count)\n",
    "#Percentage Complex Words\n",
    "pcw=(COMPLEX_WORDS/Word_Count)*100\n",
    "print(\"Percentage of Complex Words\",pcw)\n",
    "#Average Word Length\n",
    "Average_Word_Length=len(content.replace(' ',''))/len(content.split())\n",
    "print(\"Average Word per Length\",Average_Word_Length)\n",
    "#Syllable Count Per Word\n",
    "word=content.replace(' ','')\n",
    "syllable_count=0\n",
    "for w in word:\n",
    "      if(w=='a' or w=='e' or w=='i' or w=='o' or w=='y' or w=='u' or w=='A' or w=='E' or w=='I' or w=='O' or w=='U' or w=='Y'):\n",
    "            syllable_count=syllable_count+1\n",
    "print(\"The AVG number of syllables in the word is: \")\n",
    "print(syllable_count/len(content.split()))#Word Count\n",
    "Word_Count=len(content)\n",
    "print(\"Word Count\",Word_Count)\n",
    "#Percentage Complex Words\n",
    "pcw=(COMPLEX_WORDS/Word_Count)*100\n",
    "print(\"Percentage of Complex Words\",pcw)\n",
    "#Average Word Length\n",
    "Average_Word_Length=len(content.replace(' ',''))/len(content.split())\n",
    "print(\"Average Word per Length\",Average_Word_Length)\n",
    "#Syllable Count Per Word\n",
    "word=content.replace(' ','')\n",
    "syllable_count=0\n",
    "for w in word:\n",
    "      if(w=='a' or w=='e' or w=='i' or w=='o' or w=='y' or w=='u' or w=='A' or w=='E' or w=='I' or w=='O' or w=='U' or w=='Y'):\n",
    "            syllable_count=syllable_count+1\n",
    "print(\"The AVG number of syllables in the word is: \")\n",
    "print(syllable_count/len(content.split()))"
   ]
  },
  {
   "cell_type": "code",
   "execution_count": 1,
   "id": "35638780",
   "metadata": {},
   "outputs": [
    {
     "name": "stdout",
     "output_type": "stream",
     "text": [
      "21\n",
      "31\n",
      "Word average = 5436.0\n",
      "FOG INDEX =  414.23\n",
      "Average no of words per sentence\n",
      "1027.0\n",
      "Complex Words 1911\n",
      "Word Count 6467\n",
      "Percentage of Complex Words 29.550023194680687\n",
      "Average Word per Length 5.293086660175268\n",
      "The AVG number of syllables in the word is: \n",
      "2.11587147030185\n"
     ]
    },
    {
     "data": {
      "text/html": [
       "<div>\n",
       "<style scoped>\n",
       "    .dataframe tbody tr th:only-of-type {\n",
       "        vertical-align: middle;\n",
       "    }\n",
       "\n",
       "    .dataframe tbody tr th {\n",
       "        vertical-align: top;\n",
       "    }\n",
       "\n",
       "    .dataframe thead th {\n",
       "        text-align: right;\n",
       "    }\n",
       "</style>\n",
       "<table border=\"1\" class=\"dataframe\">\n",
       "  <thead>\n",
       "    <tr style=\"text-align: right;\">\n",
       "      <th></th>\n",
       "      <th>url</th>\n",
       "      <th>title</th>\n",
       "      <th>content</th>\n",
       "      <th>filter_content</th>\n",
       "      <th>Positive_Score</th>\n",
       "      <th>Negative_Score</th>\n",
       "      <th>Avg_Sentence_Length</th>\n",
       "      <th>Percentage_Complex_Word</th>\n",
       "      <th>Fog_Index</th>\n",
       "      <th>AVG_NUMBER_OF_WORDS_PER_SENTENCE</th>\n",
       "      <th>COMPLEX_WORDS</th>\n",
       "      <th>Word_Count</th>\n",
       "      <th>syllable</th>\n",
       "      <th>Average_Word_Length</th>\n",
       "      <th>polarity</th>\n",
       "      <th>subjectivity</th>\n",
       "    </tr>\n",
       "  </thead>\n",
       "  <tbody>\n",
       "    <tr>\n",
       "      <th>0</th>\n",
       "      <td>https://insights.blackcoffer.com/coronavirus-i...</td>\n",
       "      <td>How Coronavirus Impact on the Hospitality Indu...</td>\n",
       "      <td>While Coronavirus has affected the life of e...</td>\n",
       "      <td>While Coronavirus has affected the life of eve...</td>\n",
       "      <td>21</td>\n",
       "      <td>31</td>\n",
       "      <td>5436.0</td>\n",
       "      <td>29.550023</td>\n",
       "      <td>414.23</td>\n",
       "      <td>1027.0</td>\n",
       "      <td>1911</td>\n",
       "      <td>6467</td>\n",
       "      <td>2.115871</td>\n",
       "      <td>5.293087</td>\n",
       "      <td>0.059161</td>\n",
       "      <td>0.465006</td>\n",
       "    </tr>\n",
       "  </tbody>\n",
       "</table>\n",
       "</div>"
      ],
      "text/plain": [
       "                                                 url  \\\n",
       "0  https://insights.blackcoffer.com/coronavirus-i...   \n",
       "\n",
       "                                               title  \\\n",
       "0  How Coronavirus Impact on the Hospitality Indu...   \n",
       "\n",
       "                                             content  \\\n",
       "0    While Coronavirus has affected the life of e...   \n",
       "\n",
       "                                      filter_content  Positive_Score  \\\n",
       "0  While Coronavirus has affected the life of eve...              21   \n",
       "\n",
       "   Negative_Score  Avg_Sentence_Length  Percentage_Complex_Word  Fog_Index  \\\n",
       "0              31               5436.0                29.550023     414.23   \n",
       "\n",
       "    AVG_NUMBER_OF_WORDS_PER_SENTENCE  COMPLEX_WORDS  Word_Count  syllable  \\\n",
       "0                             1027.0           1911        6467  2.115871   \n",
       "\n",
       "   Average_Word_Length  polarity  subjectivity  \n",
       "0             5.293087  0.059161      0.465006  "
      ]
     },
     "execution_count": 1,
     "metadata": {},
     "output_type": "execute_result"
    }
   ],
   "source": [
    "import requests\n",
    "import pandas as pd \n",
    "from bs4 import BeautifulSoup\n",
    "import string\n",
    "import spacy\n",
    "import re\n",
    "url = \"\"\"https://insights.blackcoffer.com/coronavirus-impact-on-the-hospitality-industry-2/\"\"\"\n",
    "headers = {\"User-Agent\": \"Mozilla/5.0 (X11; Linux x86_64; rv:60.0) Gecko/20100101 Firefox/60.0\"}\n",
    "page = requests.get(url, headers=headers)\n",
    "soup = BeautifulSoup(page.content, 'html.parser')\n",
    "soup=BeautifulSoup(page.content, 'html.parser')\n",
    "title=soup.find('h1',class_=\"entry-title\")\n",
    "title=title.text.replace('\\n',\" \")\n",
    "# title\n",
    "\n",
    "content=soup.findAll(attrs={'class':'td-post-content'})\n",
    "content=content[0].text.replace('\\n',\" \")\n",
    "# print(content)\n",
    "#Punctuation\n",
    "content = content.translate(str.maketrans('', '', string.punctuation)) \n",
    "# print(content)\n",
    "text = content.split()\n",
    "# print(text)\n",
    "len(text)\n",
    "#Positive Score \n",
    "with open(r\"C:\\Users\\Om Bhandwalkar\\Desktop\\pos\\positive-words.txt\") as pos:\n",
    "    poswords = pos.read().split(\"\\n\")  \n",
    "    poswords = poswords[5:]\n",
    "pos_count = \" \".join ([w for w in text if w in poswords])\n",
    "pos_count=pos_count.split(\" \")\n",
    "Positive_score=len(pos_count)\n",
    "print(Positive_score)\n",
    "\n",
    "#Negative Score\n",
    "with open(r\"C:\\Users\\Om Bhandwalkar\\Desktop\\pos\\negative-words.txt\",encoding =\"ISO-8859-1\") as neg:\n",
    "    negwords = neg.read().split(\"\\n\")\n",
    "    \n",
    "negwords = negwords[36:]\n",
    "neg_count = \" \".join ([w for w in text if w in negwords])\n",
    "neg_count=neg_count.split(\" \")\n",
    "Negative_score=len(neg_count)\n",
    "print(Negative_score)\n",
    "\n",
    "\n",
    "filter_content = ' '.join(text)\n",
    "data=[[url,title,content,filter_content,Positive_score,Negative_score]]\n",
    "data=pd.DataFrame(data,columns=[\"url\",\"title\",\"content\",\"filter_content\",\"Positive_Score\",\"Negative_Score\"])\n",
    "from textblob import TextBlob\n",
    "# Get The Subjectivity\n",
    "def sentiment_analysis(data):\n",
    "    sentiment = TextBlob(data[\"content\"]).sentiment\n",
    "    return pd.Series([sentiment.polarity,sentiment.subjectivity ])\n",
    "data[[\"polarity\", \"subjectivity\"]] = data.apply(sentiment_analysis, axis=1)\n",
    "data\n",
    "#AVG SENTENCE LENGTH\n",
    "AVG_SENTENCE_LENGTH = len(content.replace(' ',''))/len(re.split(r'[?!.]', content))\n",
    "print('Word average =', AVG_SENTENCE_LENGTH)\n",
    "import textstat\n",
    "#Fog index \n",
    "FOG_INDEX=(textstat.gunning_fog(content))\n",
    "print(\"FOG INDEX = \",FOG_INDEX)\n",
    "#Average No of Words Per Sentence \n",
    "AVG_NUMBER_OF_WORDS_PER_SENTENCE = [len(l.split()) for l in re.split(r'[?!.]', content) if l.strip()]\n",
    "print(\"Average no of words per sentence\")\n",
    "AVG_NUMBER_OF_WORDS_PER_SENTENCE=(sum(AVG_NUMBER_OF_WORDS_PER_SENTENCE)/len(AVG_NUMBER_OF_WORDS_PER_SENTENCE))\n",
    "print(AVG_NUMBER_OF_WORDS_PER_SENTENCE)\n",
    "#Complex words\n",
    "def syllable_count(word):\n",
    "    count = 0\n",
    "    vowels = \"AEIOUYaeiouy\"\n",
    "    if word[0] in vowels:\n",
    "        count += 1\n",
    "    for index in range(1, len(word)): \n",
    "        if word[index] in vowels and word[index - 1] not in vowels:\n",
    "            count += 1\n",
    "            if word.endswith(\"es\"or \"ed\"):\n",
    "                count -= 1\n",
    "    if count == 0:\n",
    "        count += 1\n",
    "    return count\n",
    "\n",
    "\n",
    "\n",
    "COMPLEX_WORDS=syllable_count(content)\n",
    "print(\"Complex Words\",COMPLEX_WORDS)\n",
    "#Word Count\n",
    "Word_Count=len(content)\n",
    "print(\"Word Count\",Word_Count)\n",
    "#Percentage Complex Words\n",
    "pcw=(COMPLEX_WORDS/Word_Count)*100\n",
    "print(\"Percentage of Complex Words\",pcw)\n",
    "#Average Word Length\n",
    "Average_Word_Length=len(content.replace(' ',''))/len(content.split())\n",
    "print(\"Average Word per Length\",Average_Word_Length)\n",
    "#Syllable Count Per Word\n",
    "word=content.replace(' ','')\n",
    "syllable_count=0\n",
    "for w in word:\n",
    "      if(w=='a' or w=='e' or w=='i' or w=='o' or w=='y' or w=='u' or w=='A' or w=='E' or w=='I' or w=='O' or w=='U' or w=='Y'):\n",
    "            syllable_count=syllable_count+1\n",
    "print(\"The AVG number of syllables in the word is: \")\n",
    "syllable = (syllable_count/len(content.split()))\n",
    "print(syllable)\n",
    "\n",
    "data = [[url,title,content,filter_content,Positive_score,Negative_score,AVG_SENTENCE_LENGTH,pcw,FOG_INDEX,\n",
    "         AVG_NUMBER_OF_WORDS_PER_SENTENCE,COMPLEX_WORDS,Word_Count,syllable,Average_Word_Length]]\n",
    "data=pd.DataFrame(data,columns=[\"url\",\"title\",\"content\",\"filter_content\",\"Positive_Score\",\"Negative_Score\",\"Avg_Sentence_Length\"\n",
    "                               ,\"Percentage_Complex_Word\",\"Fog_Index\",\" AVG_NUMBER_OF_WORDS_PER_SENTENCE\",\"COMPLEX_WORDS\",\n",
    "                               \"Word_Count\",\"syllable\",\"Average_Word_Length\"])\n",
    "from textblob import TextBlob\n",
    "# Get The Subjectivity\n",
    "def sentiment_analysis(data):\n",
    "    sentiment = TextBlob(data[\"content\"]).sentiment\n",
    "    return pd.Series([sentiment.polarity,sentiment.subjectivity ])\n",
    "data[[\"polarity\", \"subjectivity\"]] = data.apply(sentiment_analysis, axis=1)\n",
    "data"
   ]
  },
  {
   "cell_type": "code",
   "execution_count": 2,
   "id": "5501e6a8",
   "metadata": {},
   "outputs": [],
   "source": [
    "data.to_csv(r'C:\\Users\\Om Bhandwalkar\\Desktop\\BlackCoffer Assignment\\Output\\url_111.csv')"
   ]
  },
  {
   "cell_type": "code",
   "execution_count": null,
   "id": "5d315b68",
   "metadata": {},
   "outputs": [],
   "source": []
  }
 ],
 "metadata": {
  "kernelspec": {
   "display_name": "Python 3 (ipykernel)",
   "language": "python",
   "name": "python3"
  },
  "language_info": {
   "codemirror_mode": {
    "name": "ipython",
    "version": 3
   },
   "file_extension": ".py",
   "mimetype": "text/x-python",
   "name": "python",
   "nbconvert_exporter": "python",
   "pygments_lexer": "ipython3",
   "version": "3.9.12"
  }
 },
 "nbformat": 4,
 "nbformat_minor": 5
}
