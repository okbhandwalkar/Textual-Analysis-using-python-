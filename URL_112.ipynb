{
 "cells": [
  {
   "cell_type": "code",
   "execution_count": 1,
   "id": "8cd56365",
   "metadata": {},
   "outputs": [
    {
     "data": {
      "text/plain": [
       "'How will COVID-19 affect the world of work?'"
      ]
     },
     "execution_count": 1,
     "metadata": {},
     "output_type": "execute_result"
    }
   ],
   "source": [
    "import requests\n",
    "import pandas as pd \n",
    "from bs4 import BeautifulSoup\n",
    "import string\n",
    "import spacy\n",
    "import re\n",
    "url = \"\"\"https://insights.blackcoffer.com/how-will-covid-19-affect-the-world-of-work-3/\"\"\"\n",
    "headers = {\"User-Agent\": \"Mozilla/5.0 (X11; Linux x86_64; rv:60.0) Gecko/20100101 Firefox/60.0\"}\n",
    "page = requests.get(url, headers=headers)\n",
    "soup = BeautifulSoup(page.content, 'html.parser')\n",
    "soup=BeautifulSoup(page.content, 'html.parser')\n",
    "title=soup.find('h1',class_=\"entry-title\")\n",
    "title=title.text.replace('\\n',\" \")\n",
    "title\n"
   ]
  },
  {
   "cell_type": "code",
   "execution_count": 2,
   "id": "1f2d0c4f",
   "metadata": {},
   "outputs": [
    {
     "name": "stdout",
     "output_type": "stream",
     "text": [
      " A respiratory illness that started from patient zero in Wuhan, a city in China, has now engulfed the entire globe in its clutches. With over 2 million confirmed cases and deaths north of 100,000, Coronavirus, better known as COVID-19, is a challenge unfathomed. History is earmarked with infections and diseases that ravaged continents time and again—Black Death decimated Europe by claiming 200 million lives between 1347 and 1352, Smallpox killed 500 million over decades, bouts of Cholera outbreaks, the emergence of HIV/AIDS and what not—the list is huge and intimidating. But COVID-19 is cut from a different cloth, exposing various loopholes and the modern world’s inability to fend off pandemics and epidemics despite advancements in Science, healthcare, and technology. The COVID-19 pandemic has invoked an unprecedented seismic shift across segments—the world economy is declining, third world countries with underdeveloped healthcare industry are spiraling into poverty and darkness (read about Ecuador being trapped between death and debt), the IMF declaring a global recession—it’s a concoction of tragedy, turmoil, and tribulations. One particularly interesting domain to mull over is the world of work, an umbrella term that encompasses industries, businesses, organizations, and all that jazz. Hundreds of thousands of layoffs are happening in sectors like travel and tourism, hospitality, manufacturing, and basically every other customer-facing domain; not to mention those which rely solely or heavily on physical labor. Quarantine, a measure proposed and already implemented by hundreds of nations to limit the spread of coronavirus, has stopped people from going to their workplace. Offices are empty, factories are silent with machines gathering dust, hotels and restaurants are deserted, etc. The outcome has compelled organizations to remain strong in the face of this adversity and circumvent the problem of employees not being able to step out of their homes. The concept of work from home or WFH is now mainstream and the irrational ideology of decline in productivity and revenue upon implementing WFH has gone for a toss. The surge in the use of video conferencing apps attests to this. Zoom, a popular video call software, has witnessed more than double the number of users in March. Organizations are now cognizant of WFH and its benefits. The onslaught of ‘normal’ working conditions by COVID-19 has made companies revisit the concept of redundancy. It is time to re-evaluate one’s workforce and underline core jobs essential to keeping the company running while highlighting the not-so-important ones. Of course, to render employees jobless and terminate them at this point casts a negative light on the organization’s reputation. So, companies are smart enough to ward such drastic cost-cutting measures at the moment—a few that did so are under the radar of their respective governments for the wrong reasons. It’s not unreasonable to expect corporations to impose significant changes in workforce strength and hierarchy once economic rectitude kicks in. With passing time, more and more countries now have lockdown measures in place. Confined within homes, those with jobs now see the term ‘work-life balance’ unravel. The vicious cycle of work—wake up, go to the office, back at home, have food, sleep, and repeat the same all over again—is a hot-button topic today. The disastrous consequences of burnout at work, job-related stress and the consistent pressure to perform are at the receiving end of much-needed attention like never. Often neglected aspects of life like health, family, contentment, and well-being are not taken for granted anymore. The canard that coronavirus and its virulence is restricted only to the aged has been put to rest. With fatalities in every age-group, workers now grasp the importance of neglecting health for office. Once life’s back on track, a reduction in work-related burnouts and health issues is imminent. Boredom and restlessness (brought about by lockdown) have compelled people to upskill themselves; the presence of MOOC and online courses has buttressed e-learning/online education. LinkedIn is now riddled with professionals flaunting the latest certification from Udemy and Coursera. It took a pandemic for many employees to correlate continuous learning with success and recognition at the workplace. After a couple of months, you’ll find yourself surrounded by smart peers whom you didn’t heed to earlier. Under the pretext of pursuing long left hobbies and passions, the number of active freelancers has increased. Individuals pressed by office workers are using the extra time at hand to take up freelancing and augment their primary source of income. Content writers, copywriters, graphic designers, tutors are now dime a dozen. Will freelancers sustain this flow once the health scare settles? We don’t know. But, COVID-19, without any second thoughts, has given a leg-up to the freelancer culture. Working across time zones has always been a bummer. Converting Indian Standard Time to Eastern Time Zone, Central Time to some other time zone, etc. for meetings meant ensuing headaches. To ensure the business continues, employees divided by geographies are now more accommodating to get cross-functional tasks done. Organizations are witnessing better coordination and collaboration across teams sitting in different parts of the world. Car manufacturers are developing ventilators, hundreds of tech ventures are building COVID trackers, predictors, assistant chatbots and awe-inspiring apps, logistics are bending accepted ways to deal with transportation—an influx of change for good lies in front of us.  Unimaginable innovation and creativity have risen from the depths of oblivion! The dark side of social media i.e. the use of such platforms to spread rumors and false news is has become more evident than ever. An Indian IT giant expelled one of its employees in lieu of his abominable Facebook post to spread Coronavirus. Organizations will heighten vigilance of what their staff post, publish, or advocate on digital platforms. Condemnable information would bring in dire consequences that extend beyond simple termination. It seems social media has taken a hit for good. All in all, the global outbreak of COVID-19 has ushered in a slew of radical changes to how work is perceived in the grand scheme of things. 2020 will go down in history books as the year that shook the very fundamentals of the world of work! Blackcoffer Insights 17:-Piyush Mishra,Huron Consulting Group \n",
      " A respiratory illness that started from patient zero in Wuhan a city in China has now engulfed the entire globe in its clutches With over 2 million confirmed cases and deaths north of 100000 Coronavirus better known as COVID19 is a challenge unfathomed History is earmarked with infections and diseases that ravaged continents time and again—Black Death decimated Europe by claiming 200 million lives between 1347 and 1352 Smallpox killed 500 million over decades bouts of Cholera outbreaks the emergence of HIVAIDS and what not—the list is huge and intimidating But COVID19 is cut from a different cloth exposing various loopholes and the modern world’s inability to fend off pandemics and epidemics despite advancements in Science healthcare and technology The COVID19 pandemic has invoked an unprecedented seismic shift across segments—the world economy is declining third world countries with underdeveloped healthcare industry are spiraling into poverty and darkness read about Ecuador being trapped between death and debt the IMF declaring a global recession—it’s a concoction of tragedy turmoil and tribulations One particularly interesting domain to mull over is the world of work an umbrella term that encompasses industries businesses organizations and all that jazz Hundreds of thousands of layoffs are happening in sectors like travel and tourism hospitality manufacturing and basically every other customerfacing domain not to mention those which rely solely or heavily on physical labor Quarantine a measure proposed and already implemented by hundreds of nations to limit the spread of coronavirus has stopped people from going to their workplace Offices are empty factories are silent with machines gathering dust hotels and restaurants are deserted etc The outcome has compelled organizations to remain strong in the face of this adversity and circumvent the problem of employees not being able to step out of their homes The concept of work from home or WFH is now mainstream and the irrational ideology of decline in productivity and revenue upon implementing WFH has gone for a toss The surge in the use of video conferencing apps attests to this Zoom a popular video call software has witnessed more than double the number of users in March Organizations are now cognizant of WFH and its benefits The onslaught of ‘normal’ working conditions by COVID19 has made companies revisit the concept of redundancy It is time to reevaluate one’s workforce and underline core jobs essential to keeping the company running while highlighting the notsoimportant ones Of course to render employees jobless and terminate them at this point casts a negative light on the organization’s reputation So companies are smart enough to ward such drastic costcutting measures at the moment—a few that did so are under the radar of their respective governments for the wrong reasons It’s not unreasonable to expect corporations to impose significant changes in workforce strength and hierarchy once economic rectitude kicks in With passing time more and more countries now have lockdown measures in place Confined within homes those with jobs now see the term ‘worklife balance’ unravel The vicious cycle of work—wake up go to the office back at home have food sleep and repeat the same all over again—is a hotbutton topic today The disastrous consequences of burnout at work jobrelated stress and the consistent pressure to perform are at the receiving end of muchneeded attention like never Often neglected aspects of life like health family contentment and wellbeing are not taken for granted anymore The canard that coronavirus and its virulence is restricted only to the aged has been put to rest With fatalities in every agegroup workers now grasp the importance of neglecting health for office Once life’s back on track a reduction in workrelated burnouts and health issues is imminent Boredom and restlessness brought about by lockdown have compelled people to upskill themselves the presence of MOOC and online courses has buttressed elearningonline education LinkedIn is now riddled with professionals flaunting the latest certification from Udemy and Coursera It took a pandemic for many employees to correlate continuous learning with success and recognition at the workplace After a couple of months you’ll find yourself surrounded by smart peers whom you didn’t heed to earlier Under the pretext of pursuing long left hobbies and passions the number of active freelancers has increased Individuals pressed by office workers are using the extra time at hand to take up freelancing and augment their primary source of income Content writers copywriters graphic designers tutors are now dime a dozen Will freelancers sustain this flow once the health scare settles We don’t know But COVID19 without any second thoughts has given a legup to the freelancer culture Working across time zones has always been a bummer Converting Indian Standard Time to Eastern Time Zone Central Time to some other time zone etc for meetings meant ensuing headaches To ensure the business continues employees divided by geographies are now more accommodating to get crossfunctional tasks done Organizations are witnessing better coordination and collaboration across teams sitting in different parts of the world Car manufacturers are developing ventilators hundreds of tech ventures are building COVID trackers predictors assistant chatbots and aweinspiring apps logistics are bending accepted ways to deal with transportation—an influx of change for good lies in front of us  Unimaginable innovation and creativity have risen from the depths of oblivion The dark side of social media ie the use of such platforms to spread rumors and false news is has become more evident than ever An Indian IT giant expelled one of its employees in lieu of his abominable Facebook post to spread Coronavirus Organizations will heighten vigilance of what their staff post publish or advocate on digital platforms Condemnable information would bring in dire consequences that extend beyond simple termination It seems social media has taken a hit for good All in all the global outbreak of COVID19 has ushered in a slew of radical changes to how work is perceived in the grand scheme of things 2020 will go down in history books as the year that shook the very fundamentals of the world of work Blackcoffer Insights 17Piyush MishraHuron Consulting Group \n",
      "['A', 'respiratory', 'illness', 'that', 'started', 'from', 'patient', 'zero', 'in', 'Wuhan', 'a', 'city', 'in', 'China', 'has', 'now', 'engulfed', 'the', 'entire', 'globe', 'in', 'its', 'clutches', 'With', 'over', '2', 'million', 'confirmed', 'cases', 'and', 'deaths', 'north', 'of', '100000', 'Coronavirus', 'better', 'known', 'as', 'COVID19', 'is', 'a', 'challenge', 'unfathomed', 'History', 'is', 'earmarked', 'with', 'infections', 'and', 'diseases', 'that', 'ravaged', 'continents', 'time', 'and', 'again—Black', 'Death', 'decimated', 'Europe', 'by', 'claiming', '200', 'million', 'lives', 'between', '1347', 'and', '1352', 'Smallpox', 'killed', '500', 'million', 'over', 'decades', 'bouts', 'of', 'Cholera', 'outbreaks', 'the', 'emergence', 'of', 'HIVAIDS', 'and', 'what', 'not—the', 'list', 'is', 'huge', 'and', 'intimidating', 'But', 'COVID19', 'is', 'cut', 'from', 'a', 'different', 'cloth', 'exposing', 'various', 'loopholes', 'and', 'the', 'modern', 'world’s', 'inability', 'to', 'fend', 'off', 'pandemics', 'and', 'epidemics', 'despite', 'advancements', 'in', 'Science', 'healthcare', 'and', 'technology', 'The', 'COVID19', 'pandemic', 'has', 'invoked', 'an', 'unprecedented', 'seismic', 'shift', 'across', 'segments—the', 'world', 'economy', 'is', 'declining', 'third', 'world', 'countries', 'with', 'underdeveloped', 'healthcare', 'industry', 'are', 'spiraling', 'into', 'poverty', 'and', 'darkness', 'read', 'about', 'Ecuador', 'being', 'trapped', 'between', 'death', 'and', 'debt', 'the', 'IMF', 'declaring', 'a', 'global', 'recession—it’s', 'a', 'concoction', 'of', 'tragedy', 'turmoil', 'and', 'tribulations', 'One', 'particularly', 'interesting', 'domain', 'to', 'mull', 'over', 'is', 'the', 'world', 'of', 'work', 'an', 'umbrella', 'term', 'that', 'encompasses', 'industries', 'businesses', 'organizations', 'and', 'all', 'that', 'jazz', 'Hundreds', 'of', 'thousands', 'of', 'layoffs', 'are', 'happening', 'in', 'sectors', 'like', 'travel', 'and', 'tourism', 'hospitality', 'manufacturing', 'and', 'basically', 'every', 'other', 'customerfacing', 'domain', 'not', 'to', 'mention', 'those', 'which', 'rely', 'solely', 'or', 'heavily', 'on', 'physical', 'labor', 'Quarantine', 'a', 'measure', 'proposed', 'and', 'already', 'implemented', 'by', 'hundreds', 'of', 'nations', 'to', 'limit', 'the', 'spread', 'of', 'coronavirus', 'has', 'stopped', 'people', 'from', 'going', 'to', 'their', 'workplace', 'Offices', 'are', 'empty', 'factories', 'are', 'silent', 'with', 'machines', 'gathering', 'dust', 'hotels', 'and', 'restaurants', 'are', 'deserted', 'etc', 'The', 'outcome', 'has', 'compelled', 'organizations', 'to', 'remain', 'strong', 'in', 'the', 'face', 'of', 'this', 'adversity', 'and', 'circumvent', 'the', 'problem', 'of', 'employees', 'not', 'being', 'able', 'to', 'step', 'out', 'of', 'their', 'homes', 'The', 'concept', 'of', 'work', 'from', 'home', 'or', 'WFH', 'is', 'now', 'mainstream', 'and', 'the', 'irrational', 'ideology', 'of', 'decline', 'in', 'productivity', 'and', 'revenue', 'upon', 'implementing', 'WFH', 'has', 'gone', 'for', 'a', 'toss', 'The', 'surge', 'in', 'the', 'use', 'of', 'video', 'conferencing', 'apps', 'attests', 'to', 'this', 'Zoom', 'a', 'popular', 'video', 'call', 'software', 'has', 'witnessed', 'more', 'than', 'double', 'the', 'number', 'of', 'users', 'in', 'March', 'Organizations', 'are', 'now', 'cognizant', 'of', 'WFH', 'and', 'its', 'benefits', 'The', 'onslaught', 'of', '‘normal’', 'working', 'conditions', 'by', 'COVID19', 'has', 'made', 'companies', 'revisit', 'the', 'concept', 'of', 'redundancy', 'It', 'is', 'time', 'to', 'reevaluate', 'one’s', 'workforce', 'and', 'underline', 'core', 'jobs', 'essential', 'to', 'keeping', 'the', 'company', 'running', 'while', 'highlighting', 'the', 'notsoimportant', 'ones', 'Of', 'course', 'to', 'render', 'employees', 'jobless', 'and', 'terminate', 'them', 'at', 'this', 'point', 'casts', 'a', 'negative', 'light', 'on', 'the', 'organization’s', 'reputation', 'So', 'companies', 'are', 'smart', 'enough', 'to', 'ward', 'such', 'drastic', 'costcutting', 'measures', 'at', 'the', 'moment—a', 'few', 'that', 'did', 'so', 'are', 'under', 'the', 'radar', 'of', 'their', 'respective', 'governments', 'for', 'the', 'wrong', 'reasons', 'It’s', 'not', 'unreasonable', 'to', 'expect', 'corporations', 'to', 'impose', 'significant', 'changes', 'in', 'workforce', 'strength', 'and', 'hierarchy', 'once', 'economic', 'rectitude', 'kicks', 'in', 'With', 'passing', 'time', 'more', 'and', 'more', 'countries', 'now', 'have', 'lockdown', 'measures', 'in', 'place', 'Confined', 'within', 'homes', 'those', 'with', 'jobs', 'now', 'see', 'the', 'term', '‘worklife', 'balance’', 'unravel', 'The', 'vicious', 'cycle', 'of', 'work—wake', 'up', 'go', 'to', 'the', 'office', 'back', 'at', 'home', 'have', 'food', 'sleep', 'and', 'repeat', 'the', 'same', 'all', 'over', 'again—is', 'a', 'hotbutton', 'topic', 'today', 'The', 'disastrous', 'consequences', 'of', 'burnout', 'at', 'work', 'jobrelated', 'stress', 'and', 'the', 'consistent', 'pressure', 'to', 'perform', 'are', 'at', 'the', 'receiving', 'end', 'of', 'muchneeded', 'attention', 'like', 'never', 'Often', 'neglected', 'aspects', 'of', 'life', 'like', 'health', 'family', 'contentment', 'and', 'wellbeing', 'are', 'not', 'taken', 'for', 'granted', 'anymore', 'The', 'canard', 'that', 'coronavirus', 'and', 'its', 'virulence', 'is', 'restricted', 'only', 'to', 'the', 'aged', 'has', 'been', 'put', 'to', 'rest', 'With', 'fatalities', 'in', 'every', 'agegroup', 'workers', 'now', 'grasp', 'the', 'importance', 'of', 'neglecting', 'health', 'for', 'office', 'Once', 'life’s', 'back', 'on', 'track', 'a', 'reduction', 'in', 'workrelated', 'burnouts', 'and', 'health', 'issues', 'is', 'imminent', 'Boredom', 'and', 'restlessness', 'brought', 'about', 'by', 'lockdown', 'have', 'compelled', 'people', 'to', 'upskill', 'themselves', 'the', 'presence', 'of', 'MOOC', 'and', 'online', 'courses', 'has', 'buttressed', 'elearningonline', 'education', 'LinkedIn', 'is', 'now', 'riddled', 'with', 'professionals', 'flaunting', 'the', 'latest', 'certification', 'from', 'Udemy', 'and', 'Coursera', 'It', 'took', 'a', 'pandemic', 'for', 'many', 'employees', 'to', 'correlate', 'continuous', 'learning', 'with', 'success', 'and', 'recognition', 'at', 'the', 'workplace', 'After', 'a', 'couple', 'of', 'months', 'you’ll', 'find', 'yourself', 'surrounded', 'by', 'smart', 'peers', 'whom', 'you', 'didn’t', 'heed', 'to', 'earlier', 'Under', 'the', 'pretext', 'of', 'pursuing', 'long', 'left', 'hobbies', 'and', 'passions', 'the', 'number', 'of', 'active', 'freelancers', 'has', 'increased', 'Individuals', 'pressed', 'by', 'office', 'workers', 'are', 'using', 'the', 'extra', 'time', 'at', 'hand', 'to', 'take', 'up', 'freelancing', 'and', 'augment', 'their', 'primary', 'source', 'of', 'income', 'Content', 'writers', 'copywriters', 'graphic', 'designers', 'tutors', 'are', 'now', 'dime', 'a', 'dozen', 'Will', 'freelancers', 'sustain', 'this', 'flow', 'once', 'the', 'health', 'scare', 'settles', 'We', 'don’t', 'know', 'But', 'COVID19', 'without', 'any', 'second', 'thoughts', 'has', 'given', 'a', 'legup', 'to', 'the', 'freelancer', 'culture', 'Working', 'across', 'time', 'zones', 'has', 'always', 'been', 'a', 'bummer', 'Converting', 'Indian', 'Standard', 'Time', 'to', 'Eastern', 'Time', 'Zone', 'Central', 'Time', 'to', 'some', 'other', 'time', 'zone', 'etc', 'for', 'meetings', 'meant', 'ensuing', 'headaches', 'To', 'ensure', 'the', 'business', 'continues', 'employees', 'divided', 'by', 'geographies', 'are', 'now', 'more', 'accommodating', 'to', 'get', 'crossfunctional', 'tasks', 'done', 'Organizations', 'are', 'witnessing', 'better', 'coordination', 'and', 'collaboration', 'across', 'teams', 'sitting', 'in', 'different', 'parts', 'of', 'the', 'world', 'Car', 'manufacturers', 'are', 'developing', 'ventilators', 'hundreds', 'of', 'tech', 'ventures', 'are', 'building', 'COVID', 'trackers', 'predictors', 'assistant', 'chatbots', 'and', 'aweinspiring', 'apps', 'logistics', 'are', 'bending', 'accepted', 'ways', 'to', 'deal', 'with', 'transportation—an', 'influx', 'of', 'change', 'for', 'good', 'lies', 'in', 'front', 'of', 'us', 'Unimaginable', 'innovation', 'and', 'creativity', 'have', 'risen', 'from', 'the', 'depths', 'of', 'oblivion', 'The', 'dark', 'side', 'of', 'social', 'media', 'ie', 'the', 'use', 'of', 'such', 'platforms', 'to', 'spread', 'rumors', 'and', 'false', 'news', 'is', 'has', 'become', 'more', 'evident', 'than', 'ever', 'An', 'Indian', 'IT', 'giant', 'expelled', 'one', 'of', 'its', 'employees', 'in', 'lieu', 'of', 'his', 'abominable', 'Facebook', 'post', 'to', 'spread', 'Coronavirus', 'Organizations', 'will', 'heighten', 'vigilance', 'of', 'what', 'their', 'staff', 'post', 'publish', 'or', 'advocate', 'on', 'digital', 'platforms', 'Condemnable', 'information', 'would', 'bring', 'in', 'dire', 'consequences', 'that', 'extend', 'beyond', 'simple', 'termination', 'It', 'seems', 'social', 'media', 'has', 'taken', 'a', 'hit', 'for', 'good', 'All', 'in', 'all', 'the', 'global', 'outbreak', 'of', 'COVID19', 'has', 'ushered', 'in', 'a', 'slew', 'of', 'radical', 'changes', 'to', 'how', 'work', 'is', 'perceived', 'in', 'the', 'grand', 'scheme', 'of', 'things', '2020', 'will', 'go', 'down', 'in', 'history', 'books', 'as', 'the', 'year', 'that', 'shook', 'the', 'very', 'fundamentals', 'of', 'the', 'world', 'of', 'work', 'Blackcoffer', 'Insights', '17Piyush', 'MishraHuron', 'Consulting', 'Group']\n"
     ]
    }
   ],
   "source": [
    "content=soup.findAll(attrs={'class':'td-post-content'})\n",
    "content=content[0].text.replace('\\n',\" \")\n",
    "print(content)\n",
    "#Punctuation\n",
    "content = content.translate(str.maketrans('', '', string.punctuation)) \n",
    "print(content)\n",
    "text = content.split()\n",
    "print(text)\n"
   ]
  },
  {
   "cell_type": "code",
   "execution_count": 3,
   "id": "e2a7fb4f",
   "metadata": {},
   "outputs": [
    {
     "data": {
      "text/plain": [
       "1013"
      ]
     },
     "execution_count": 3,
     "metadata": {},
     "output_type": "execute_result"
    }
   ],
   "source": [
    "len(text)"
   ]
  },
  {
   "cell_type": "code",
   "execution_count": 5,
   "id": "4cd4b3b4",
   "metadata": {},
   "outputs": [
    {
     "name": "stdout",
     "output_type": "stream",
     "text": [
      "32\n"
     ]
    }
   ],
   "source": [
    "#Positive Score \n",
    "with open(r\"C:\\Users\\Om Bhandwalkar\\Desktop\\pos\\positive-words.txt\") as pos:\n",
    "    poswords = pos.read().split(\"\\n\")  \n",
    "    poswords = poswords[5:]\n",
    "pos_count = \" \".join ([w for w in text if w in poswords])\n",
    "pos_count=pos_count.split(\" \")\n",
    "Positive_score=len(pos_count)\n",
    "print(Positive_score)"
   ]
  },
  {
   "cell_type": "code",
   "execution_count": 6,
   "id": "a25be822",
   "metadata": {},
   "outputs": [
    {
     "name": "stdout",
     "output_type": "stream",
     "text": [
      "47\n"
     ]
    }
   ],
   "source": [
    "#Negative Score\n",
    "with open(r\"C:\\Users\\Om Bhandwalkar\\Desktop\\pos\\negative-words.txt\",encoding =\"ISO-8859-1\") as neg:\n",
    "    negwords = neg.read().split(\"\\n\")\n",
    "    \n",
    "negwords = negwords[36:]\n",
    "neg_count = \" \".join ([w for w in text if w in negwords])\n",
    "neg_count=neg_count.split(\" \")\n",
    "Negative_score=len(neg_count)\n",
    "print(Negative_score)"
   ]
  },
  {
   "cell_type": "code",
   "execution_count": 7,
   "id": "9a506351",
   "metadata": {},
   "outputs": [
    {
     "data": {
      "text/html": [
       "<div>\n",
       "<style scoped>\n",
       "    .dataframe tbody tr th:only-of-type {\n",
       "        vertical-align: middle;\n",
       "    }\n",
       "\n",
       "    .dataframe tbody tr th {\n",
       "        vertical-align: top;\n",
       "    }\n",
       "\n",
       "    .dataframe thead th {\n",
       "        text-align: right;\n",
       "    }\n",
       "</style>\n",
       "<table border=\"1\" class=\"dataframe\">\n",
       "  <thead>\n",
       "    <tr style=\"text-align: right;\">\n",
       "      <th></th>\n",
       "      <th>url</th>\n",
       "      <th>title</th>\n",
       "      <th>content</th>\n",
       "      <th>filter_content</th>\n",
       "      <th>Positive_Score</th>\n",
       "      <th>Negative_Score</th>\n",
       "      <th>polarity</th>\n",
       "      <th>subjectivity</th>\n",
       "    </tr>\n",
       "  </thead>\n",
       "  <tbody>\n",
       "    <tr>\n",
       "      <th>0</th>\n",
       "      <td>https://insights.blackcoffer.com/how-will-covi...</td>\n",
       "      <td>How will COVID-19 affect the world of work?</td>\n",
       "      <td>A respiratory illness that started from patie...</td>\n",
       "      <td>A respiratory illness that started from patien...</td>\n",
       "      <td>32</td>\n",
       "      <td>47</td>\n",
       "      <td>0.110445</td>\n",
       "      <td>0.428734</td>\n",
       "    </tr>\n",
       "  </tbody>\n",
       "</table>\n",
       "</div>"
      ],
      "text/plain": [
       "                                                 url  \\\n",
       "0  https://insights.blackcoffer.com/how-will-covi...   \n",
       "\n",
       "                                         title  \\\n",
       "0  How will COVID-19 affect the world of work?   \n",
       "\n",
       "                                             content  \\\n",
       "0   A respiratory illness that started from patie...   \n",
       "\n",
       "                                      filter_content  Positive_Score  \\\n",
       "0  A respiratory illness that started from patien...              32   \n",
       "\n",
       "   Negative_Score  polarity  subjectivity  \n",
       "0              47  0.110445      0.428734  "
      ]
     },
     "execution_count": 7,
     "metadata": {},
     "output_type": "execute_result"
    }
   ],
   "source": [
    "filter_content = ' '.join(text)\n",
    "data=[[url,title,content,filter_content,Positive_score,Negative_score]]\n",
    "data=pd.DataFrame(data,columns=[\"url\",\"title\",\"content\",\"filter_content\",\"Positive_Score\",\"Negative_Score\"])\n",
    "from textblob import TextBlob\n",
    "# Get The Subjectivity\n",
    "def sentiment_analysis(data):\n",
    "    sentiment = TextBlob(data[\"content\"]).sentiment\n",
    "    return pd.Series([sentiment.polarity,sentiment.subjectivity ])\n",
    "\n",
    "# Adding Subjectivity & Polarity\n",
    "data[[\"polarity\", \"subjectivity\"]] = data.apply(sentiment_analysis, axis=1)\n",
    "\n",
    "data"
   ]
  },
  {
   "cell_type": "code",
   "execution_count": 8,
   "id": "42b66039",
   "metadata": {},
   "outputs": [
    {
     "name": "stdout",
     "output_type": "stream",
     "text": [
      "Word average = 5415.0\n",
      "FOG INDEX =  410.61\n",
      "Average no of words per sentence\n",
      "1013.0\n",
      "Complex Words 1879\n"
     ]
    }
   ],
   "source": [
    "#AVG SENTENCE LENGTH\n",
    "AVG_SENTENCE_LENGTH = len(content.replace(' ',''))/len(re.split(r'[?!.]', content))\n",
    "print('Word average =', AVG_SENTENCE_LENGTH)\n",
    "import textstat\n",
    "#Fog index \n",
    "FOG_INDEX=(textstat.gunning_fog(content))\n",
    "print(\"FOG INDEX = \",FOG_INDEX)\n",
    "#Average No of Words Per Sentence \n",
    "AVG_NUMBER_OF_WORDS_PER_SENTENCE = [len(l.split()) for l in re.split(r'[?!.]', content) if l.strip()]\n",
    "print(\"Average no of words per sentence\")\n",
    "AVG_NUMBER_OF_WORDS_PER_SENTENCE=print(sum(AVG_NUMBER_OF_WORDS_PER_SENTENCE)/len(AVG_NUMBER_OF_WORDS_PER_SENTENCE))\n",
    "#Complex words\n",
    "def syllable_count(word):\n",
    "    count = 0\n",
    "    vowels = \"AEIOUYaeiouy\"\n",
    "    if word[0] in vowels:\n",
    "        count += 1\n",
    "    for index in range(1, len(word)): \n",
    "        if word[index] in vowels and word[index - 1] not in vowels:\n",
    "            count += 1\n",
    "            if word.endswith(\"es\"or \"ed\"):\n",
    "                count -= 1\n",
    "    if count == 0:\n",
    "        count += 1\n",
    "    return count\n",
    "\n",
    "\n",
    "\n",
    "COMPLEX_WORDS=syllable_count(content)\n",
    "print(\"Complex Words\",COMPLEX_WORDS)\n"
   ]
  },
  {
   "cell_type": "code",
   "execution_count": 9,
   "id": "ec54340d",
   "metadata": {},
   "outputs": [
    {
     "name": "stdout",
     "output_type": "stream",
     "text": [
      "Word Count 6428\n",
      "Percentage of Complex Words 29.231487243310518\n",
      "Average Word per Length 5.345508390918065\n",
      "The AVG number of syllables in the word is: \n",
      "2.089832181638697\n",
      "Word Count 6428\n",
      "Percentage of Complex Words 29.231487243310518\n",
      "Average Word per Length 5.345508390918065\n",
      "The AVG number of syllables in the word is: \n",
      "2.089832181638697\n"
     ]
    }
   ],
   "source": [
    "#Word Count\n",
    "Word_Count=len(content)\n",
    "print(\"Word Count\",Word_Count)\n",
    "#Percentage Complex Words\n",
    "pcw=(COMPLEX_WORDS/Word_Count)*100\n",
    "print(\"Percentage of Complex Words\",pcw)\n",
    "#Average Word Length\n",
    "Average_Word_Length=len(content.replace(' ',''))/len(content.split())\n",
    "print(\"Average Word per Length\",Average_Word_Length)\n",
    "#Syllable Count Per Word\n",
    "word=content.replace(' ','')\n",
    "syllable_count=0\n",
    "for w in word:\n",
    "      if(w=='a' or w=='e' or w=='i' or w=='o' or w=='y' or w=='u' or w=='A' or w=='E' or w=='I' or w=='O' or w=='U' or w=='Y'):\n",
    "            syllable_count=syllable_count+1\n",
    "print(\"The AVG number of syllables in the word is: \")\n",
    "print(syllable_count/len(content.split()))#Word Count\n",
    "Word_Count=len(content)\n",
    "print(\"Word Count\",Word_Count)\n",
    "#Percentage Complex Words\n",
    "pcw=(COMPLEX_WORDS/Word_Count)*100\n",
    "print(\"Percentage of Complex Words\",pcw)\n",
    "#Average Word Length\n",
    "Average_Word_Length=len(content.replace(' ',''))/len(content.split())\n",
    "print(\"Average Word per Length\",Average_Word_Length)\n",
    "#Syllable Count Per Word\n",
    "word=content.replace(' ','')\n",
    "syllable_count=0\n",
    "for w in word:\n",
    "      if(w=='a' or w=='e' or w=='i' or w=='o' or w=='y' or w=='u' or w=='A' or w=='E' or w=='I' or w=='O' or w=='U' or w=='Y'):\n",
    "            syllable_count=syllable_count+1\n",
    "print(\"The AVG number of syllables in the word is: \")\n",
    "print(syllable_count/len(content.split()))"
   ]
  },
  {
   "cell_type": "code",
   "execution_count": 1,
   "id": "0139b8a0",
   "metadata": {},
   "outputs": [
    {
     "name": "stdout",
     "output_type": "stream",
     "text": [
      "32\n",
      "47\n",
      "Word average = 5415.0\n",
      "FOG INDEX =  410.61\n",
      "Average no of words per sentence\n",
      "1013.0\n",
      "Complex Words 1879\n",
      "Word Count 6429\n",
      "Percentage of Complex Words 29.22694042619381\n",
      "Average Word per Length 5.345508390918065\n",
      "The AVG number of syllables in the word is: \n",
      "2.089832181638697\n"
     ]
    },
    {
     "data": {
      "text/html": [
       "<div>\n",
       "<style scoped>\n",
       "    .dataframe tbody tr th:only-of-type {\n",
       "        vertical-align: middle;\n",
       "    }\n",
       "\n",
       "    .dataframe tbody tr th {\n",
       "        vertical-align: top;\n",
       "    }\n",
       "\n",
       "    .dataframe thead th {\n",
       "        text-align: right;\n",
       "    }\n",
       "</style>\n",
       "<table border=\"1\" class=\"dataframe\">\n",
       "  <thead>\n",
       "    <tr style=\"text-align: right;\">\n",
       "      <th></th>\n",
       "      <th>url</th>\n",
       "      <th>title</th>\n",
       "      <th>content</th>\n",
       "      <th>filter_content</th>\n",
       "      <th>Positive_Score</th>\n",
       "      <th>Negative_Score</th>\n",
       "      <th>Avg_Sentence_Length</th>\n",
       "      <th>Percentage_Complex_Word</th>\n",
       "      <th>Fog_Index</th>\n",
       "      <th>AVG_NUMBER_OF_WORDS_PER_SENTENCE</th>\n",
       "      <th>COMPLEX_WORDS</th>\n",
       "      <th>Word_Count</th>\n",
       "      <th>syllable</th>\n",
       "      <th>Average_Word_Length</th>\n",
       "      <th>polarity</th>\n",
       "      <th>subjectivity</th>\n",
       "    </tr>\n",
       "  </thead>\n",
       "  <tbody>\n",
       "    <tr>\n",
       "      <th>0</th>\n",
       "      <td>https://insights.blackcoffer.com/how-will-covi...</td>\n",
       "      <td>How will COVID-19 affect the world of work?</td>\n",
       "      <td>A respiratory illness that started from pati...</td>\n",
       "      <td>A respiratory illness that started from patien...</td>\n",
       "      <td>32</td>\n",
       "      <td>47</td>\n",
       "      <td>5415.0</td>\n",
       "      <td>29.22694</td>\n",
       "      <td>410.61</td>\n",
       "      <td>1013.0</td>\n",
       "      <td>1879</td>\n",
       "      <td>6429</td>\n",
       "      <td>2.089832</td>\n",
       "      <td>5.345508</td>\n",
       "      <td>0.110445</td>\n",
       "      <td>0.428734</td>\n",
       "    </tr>\n",
       "  </tbody>\n",
       "</table>\n",
       "</div>"
      ],
      "text/plain": [
       "                                                 url  \\\n",
       "0  https://insights.blackcoffer.com/how-will-covi...   \n",
       "\n",
       "                                         title  \\\n",
       "0  How will COVID-19 affect the world of work?   \n",
       "\n",
       "                                             content  \\\n",
       "0    A respiratory illness that started from pati...   \n",
       "\n",
       "                                      filter_content  Positive_Score  \\\n",
       "0  A respiratory illness that started from patien...              32   \n",
       "\n",
       "   Negative_Score  Avg_Sentence_Length  Percentage_Complex_Word  Fog_Index  \\\n",
       "0              47               5415.0                 29.22694     410.61   \n",
       "\n",
       "    AVG_NUMBER_OF_WORDS_PER_SENTENCE  COMPLEX_WORDS  Word_Count  syllable  \\\n",
       "0                             1013.0           1879        6429  2.089832   \n",
       "\n",
       "   Average_Word_Length  polarity  subjectivity  \n",
       "0             5.345508  0.110445      0.428734  "
      ]
     },
     "execution_count": 1,
     "metadata": {},
     "output_type": "execute_result"
    }
   ],
   "source": [
    "import requests\n",
    "import pandas as pd \n",
    "from bs4 import BeautifulSoup\n",
    "import string\n",
    "import spacy\n",
    "import re\n",
    "url = \"\"\"https://insights.blackcoffer.com/how-will-covid-19-affect-the-world-of-work-3/\"\"\"\n",
    "headers = {\"User-Agent\": \"Mozilla/5.0 (X11; Linux x86_64; rv:60.0) Gecko/20100101 Firefox/60.0\"}\n",
    "page = requests.get(url, headers=headers)\n",
    "soup = BeautifulSoup(page.content, 'html.parser')\n",
    "soup=BeautifulSoup(page.content, 'html.parser')\n",
    "title=soup.find('h1',class_=\"entry-title\")\n",
    "title=title.text.replace('\\n',\" \")\n",
    "# title\n",
    "\n",
    "content=soup.findAll(attrs={'class':'td-post-content'})\n",
    "content=content[0].text.replace('\\n',\" \")\n",
    "# print(content)\n",
    "#Punctuation\n",
    "content = content.translate(str.maketrans('', '', string.punctuation)) \n",
    "# print(content)\n",
    "text = content.split()\n",
    "# print(text)\n",
    "len(text)\n",
    "#Positive Score \n",
    "with open(r\"C:\\Users\\Om Bhandwalkar\\Desktop\\pos\\positive-words.txt\") as pos:\n",
    "    poswords = pos.read().split(\"\\n\")  \n",
    "    poswords = poswords[5:]\n",
    "pos_count = \" \".join ([w for w in text if w in poswords])\n",
    "pos_count=pos_count.split(\" \")\n",
    "Positive_score=len(pos_count)\n",
    "print(Positive_score)\n",
    "\n",
    "#Negative Score\n",
    "with open(r\"C:\\Users\\Om Bhandwalkar\\Desktop\\pos\\negative-words.txt\",encoding =\"ISO-8859-1\") as neg:\n",
    "    negwords = neg.read().split(\"\\n\")\n",
    "    \n",
    "negwords = negwords[36:]\n",
    "neg_count = \" \".join ([w for w in text if w in negwords])\n",
    "neg_count=neg_count.split(\" \")\n",
    "Negative_score=len(neg_count)\n",
    "print(Negative_score)\n",
    "\n",
    "\n",
    "filter_content = ' '.join(text)\n",
    "data=[[url,title,content,filter_content,Positive_score,Negative_score]]\n",
    "data=pd.DataFrame(data,columns=[\"url\",\"title\",\"content\",\"filter_content\",\"Positive_Score\",\"Negative_Score\"])\n",
    "from textblob import TextBlob\n",
    "# Get The Subjectivity\n",
    "def sentiment_analysis(data):\n",
    "    sentiment = TextBlob(data[\"content\"]).sentiment\n",
    "    return pd.Series([sentiment.polarity,sentiment.subjectivity ])\n",
    "data[[\"polarity\", \"subjectivity\"]] = data.apply(sentiment_analysis, axis=1)\n",
    "data\n",
    "#AVG SENTENCE LENGTH\n",
    "AVG_SENTENCE_LENGTH = len(content.replace(' ',''))/len(re.split(r'[?!.]', content))\n",
    "print('Word average =', AVG_SENTENCE_LENGTH)\n",
    "import textstat\n",
    "#Fog index \n",
    "FOG_INDEX=(textstat.gunning_fog(content))\n",
    "print(\"FOG INDEX = \",FOG_INDEX)\n",
    "#Average No of Words Per Sentence \n",
    "AVG_NUMBER_OF_WORDS_PER_SENTENCE = [len(l.split()) for l in re.split(r'[?!.]', content) if l.strip()]\n",
    "print(\"Average no of words per sentence\")\n",
    "AVG_NUMBER_OF_WORDS_PER_SENTENCE=(sum(AVG_NUMBER_OF_WORDS_PER_SENTENCE)/len(AVG_NUMBER_OF_WORDS_PER_SENTENCE))\n",
    "print(AVG_NUMBER_OF_WORDS_PER_SENTENCE)\n",
    "#Complex words\n",
    "def syllable_count(word):\n",
    "    count = 0\n",
    "    vowels = \"AEIOUYaeiouy\"\n",
    "    if word[0] in vowels:\n",
    "        count += 1\n",
    "    for index in range(1, len(word)): \n",
    "        if word[index] in vowels and word[index - 1] not in vowels:\n",
    "            count += 1\n",
    "            if word.endswith(\"es\"or \"ed\"):\n",
    "                count -= 1\n",
    "    if count == 0:\n",
    "        count += 1\n",
    "    return count\n",
    "\n",
    "\n",
    "\n",
    "COMPLEX_WORDS=syllable_count(content)\n",
    "print(\"Complex Words\",COMPLEX_WORDS)\n",
    "#Word Count\n",
    "Word_Count=len(content)\n",
    "print(\"Word Count\",Word_Count)\n",
    "#Percentage Complex Words\n",
    "pcw=(COMPLEX_WORDS/Word_Count)*100\n",
    "print(\"Percentage of Complex Words\",pcw)\n",
    "#Average Word Length\n",
    "Average_Word_Length=len(content.replace(' ',''))/len(content.split())\n",
    "print(\"Average Word per Length\",Average_Word_Length)\n",
    "#Syllable Count Per Word\n",
    "word=content.replace(' ','')\n",
    "syllable_count=0\n",
    "for w in word:\n",
    "      if(w=='a' or w=='e' or w=='i' or w=='o' or w=='y' or w=='u' or w=='A' or w=='E' or w=='I' or w=='O' or w=='U' or w=='Y'):\n",
    "            syllable_count=syllable_count+1\n",
    "print(\"The AVG number of syllables in the word is: \")\n",
    "syllable = (syllable_count/len(content.split()))\n",
    "print(syllable)\n",
    "\n",
    "data = [[url,title,content,filter_content,Positive_score,Negative_score,AVG_SENTENCE_LENGTH,pcw,FOG_INDEX,\n",
    "         AVG_NUMBER_OF_WORDS_PER_SENTENCE,COMPLEX_WORDS,Word_Count,syllable,Average_Word_Length]]\n",
    "data=pd.DataFrame(data,columns=[\"url\",\"title\",\"content\",\"filter_content\",\"Positive_Score\",\"Negative_Score\",\"Avg_Sentence_Length\"\n",
    "                               ,\"Percentage_Complex_Word\",\"Fog_Index\",\" AVG_NUMBER_OF_WORDS_PER_SENTENCE\",\"COMPLEX_WORDS\",\n",
    "                               \"Word_Count\",\"syllable\",\"Average_Word_Length\"])\n",
    "from textblob import TextBlob\n",
    "# Get The Subjectivity\n",
    "def sentiment_analysis(data):\n",
    "    sentiment = TextBlob(data[\"content\"]).sentiment\n",
    "    return pd.Series([sentiment.polarity,sentiment.subjectivity ])\n",
    "data[[\"polarity\", \"subjectivity\"]] = data.apply(sentiment_analysis, axis=1)\n",
    "data"
   ]
  },
  {
   "cell_type": "code",
   "execution_count": 2,
   "id": "c36437b9",
   "metadata": {},
   "outputs": [],
   "source": [
    "data.to_csv(r'C:\\Users\\Om Bhandwalkar\\Desktop\\BlackCoffer Assignment\\Output\\url_112.csv')"
   ]
  },
  {
   "cell_type": "code",
   "execution_count": null,
   "id": "420562be",
   "metadata": {},
   "outputs": [],
   "source": []
  }
 ],
 "metadata": {
  "kernelspec": {
   "display_name": "Python 3 (ipykernel)",
   "language": "python",
   "name": "python3"
  },
  "language_info": {
   "codemirror_mode": {
    "name": "ipython",
    "version": 3
   },
   "file_extension": ".py",
   "mimetype": "text/x-python",
   "name": "python",
   "nbconvert_exporter": "python",
   "pygments_lexer": "ipython3",
   "version": "3.9.12"
  }
 },
 "nbformat": 4,
 "nbformat_minor": 5
}
