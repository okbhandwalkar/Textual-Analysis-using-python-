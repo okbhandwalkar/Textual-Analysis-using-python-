{
 "cells": [
  {
   "cell_type": "code",
   "execution_count": 1,
   "id": "ea5feadb",
   "metadata": {},
   "outputs": [
    {
     "data": {
      "text/plain": [
       "'Coronavirus: Effect on the Hospitality Industry'"
      ]
     },
     "execution_count": 1,
     "metadata": {},
     "output_type": "execute_result"
    }
   ],
   "source": [
    "import requests\n",
    "import pandas as pd \n",
    "from bs4 import BeautifulSoup\n",
    "import string\n",
    "import spacy\n",
    "import re\n",
    "url = \"\"\"https://insights.blackcoffer.com/coronavirus-impact-on-the-hospitality-industry-3/\"\"\"\n",
    "headers = {\"User-Agent\": \"Mozilla/5.0 (X11; Linux x86_64; rv:60.0) Gecko/20100101 Firefox/60.0\"}\n",
    "page = requests.get(url, headers=headers)\n",
    "soup = BeautifulSoup(page.content, 'html.parser')\n",
    "soup=BeautifulSoup(page.content, 'html.parser')\n",
    "title=soup.find('h1',class_=\"entry-title\")\n",
    "title=title.text.replace('\\n',\" \")\n",
    "title\n"
   ]
  },
  {
   "cell_type": "code",
   "execution_count": 2,
   "id": "e2ced83a",
   "metadata": {},
   "outputs": [
    {
     "name": "stdout",
     "output_type": "stream",
     "text": [
      " The hospitality sector in India has witnessed unprecedented deceleration this year in the wake of the COVID-19 pandemic. The Indian hotel sector has been hit hard, tussling with significantly low demand, with very few future bookings. Since the outbreak of COVID-19, companies have been canceling interviews at the top hotel management colleges in India. The overall hiring sentiment in the country is witnessing a negative impact in the short term with 60-65 percent of interviews getting postponed, especially in the hospitality services sector, following the slowdown across industries triggered by the coronavirus pandemic. Even the students who were aspiring for a career in the hospitality industry are on the verge of full swing. Currently, with the imposition of Section 144, there are barely any bookings being made for the future, and the current ones all stand canceled. In this scenario, there is limited scope for quick revival.    It’s proud to see that this sector shows its maturity level: in working together, showing their true hospitality commitments in helping out our society where they can. For example by making their venue available for hospital beds and hospital employees. The situation we are in also brings new business models and opportunities, in defining, for instance, new delivery concepts, human capital sharing platforms, initiatives in promoting the “staycation or holiday concept” and the use of the less productive time to work on activities that were normally pushed forward like asset counts, security plans, defining standard operating procedures, social media plans, etc. WHAT HAS CAUSED THE PANIC? This may seem obvious, but it’s worth looking at this a bit closer. The main reason there was such widespread panic was that the government announced its advice to avoid public meeting places like restaurants, bars, and pubs without simultaneously announcing a complete ban or a plan to support the businesses whose revenue streams they’d just denied. Many of these businesses operate on low margins and very fragile cash flow already so the prospect of survival for an indefinite period of time without income seemed very bleak indeed. This has taken a mental toll on already stressed business owners and their worried staff.    FACTS & FIGURES – Coronavirus Effect on the Hospitality: The impact of the novel coronavirus on India’s hospitality sector jobs is nothing short of severe. While most economists expect things to rebound in the latter half of the year, uncertainty still lurks. A sheer job trauma is staring at the hospitality industry in the near future. This is as the chances of losing a job are at high risk. Furthermore the entry-level has postponed the hiring for the near future. Let us check here some of the facts concerning the drop in the various hotel occupancy sectors.  The country’s daily hotel occupancy dropped to 11% during 23-29 March, according to preliminary data from STR, Department of Revenue, Ministry of Finance, Government of India due to COVID-19 concerns, and limitations that have intensified in India. Along with a steep downward trend in occupancy, the average daily rate (ADR), and revenue per available room (RevPAR) have also dropped significantly in India. ADR, which has dropped year over year by around 20% or more for eight consecutive days, went as low as INR4, 924.18 on 28 March. RevPAR attained its least absolute level (INR537.54) on 22 March. In India, both luxury and budget hotels are running at just 10 percent of occupancy levels as thousands of people have canceled their trips. This may further worsen in the times to come at least till the end of this year. For instance, Airbnb announced its guests could cancel their reservations for a full refund. The overall revenue of the Indian hotel sector is set to decline by anywhere between US$ 8.85 billion to US$ 10 billion, reflecting an erosion of 39% to 45% compared to last year. Besides the actual business loss, the hotel owners will also incur losses due to fixed operating expenses, debt repayments, interest payments, and several other compliances required to be undertaken as part of the sector. With hospitality and travel sectors among the worst affected by COVID-19, OYO’s entire executive leadership (CXOs) team has taken a voluntary pay cut, starting at 25%, with many opting for a supplementary untapped amount, and some going up to 50% to enable constructing the runway for the company. Ritesh Agarwal, the Founder & Group CEO, OYO Hotels & Homes, has decided to forego 100% of his salary for the rest of the year in the wake of the novel coronavirus crisis.     Proposed Action Plans -Coronavirus Effect on the Hospitality The hospitality industry can use this chasm to prepare for the upcoming demand by focusing on marketing and up-gradation. This ‘Stop Gap Plan’ is about maintaining a thread of communication, using social media and advertisements, with the consumers. It’s also about strengthening the communication within the company, making a budget and plan for re-opening, and utilizing this period to fix and upgrade whatever is possible. Another step is where all the action is required by the sector. Once the outbreak of the virus is contained and the world is set to travel again, it is suggested that any plan of re-opening must be done keeping long-term benefits and safety compliances in mind. It is imperative that hospitality companies reach out to deferred and canceled bookings and give due attention to domestic travelers. The hotels and airlines must slowly roll out their services rather than starting everything instantly and not get caught up in spending.This way Coronavirus Effect on the Hospitality A Way Forward: Recommendations for the Government of India The government is already taking measures to combat the effects of the pandemic on the country. Here are the multiple measures, if taken by the government of India, can help the Indian hotel industry weather the current storm.  Stimulus package to stabilize and support the hospitality sector in the near term, including a workforce support fund to ensure that there are no job losses. Provide a moratorium of ~ 6 – 12 months on all loans (principal & interest), including working capital payments and overdrafts. Ensure that credit rating agencies do not downgrade ratings of businesses, due to the expected volatility of the business in the short to medium term. Provide a 12-month corporate tax holiday to travel, tourism, and hospitality sectors. Defer all statutory dues such as advance tax, custom duties, excise duties, PF, bank charges, etc. at the central and state level for 12 months. The government authorities must ensure that there is adequate availability of collateral-free and interest-free credit for organizations in the hospitality, travel, and tourism industries.  WHAT WILL CORONAVIRUS LEAVE BEHIND?    Really this is anyone’s guess. We don’t yet know how long it will take for the epidemic to peak and for us to be allowed out again, but one thing I am sure of is that we’ll all be desperate to meet up with friends over dinner or have a pint in the pub! With proper support from the government I think the hospitality industry stands a good chance of bouncing back quickly, but perhaps not in its former form. It is likely that we will see a kind of natural selection take place among restaurants, leaving space for innovative new entrants. The crisis has already forced several restaurants to innovate by developing new services and perhaps, if regulation allows, these will stick, becoming new models for restaurants in the future and offering them a more diverse and resilient set of revenue streams. Thus Coronavirus Effect on the Hospitality and other sectors. Blackcoffer Insights 17:-Radhika Kejriwal,IMT Nagpur \n",
      " The hospitality sector in India has witnessed unprecedented deceleration this year in the wake of the COVID19 pandemic The Indian hotel sector has been hit hard tussling with significantly low demand with very few future bookings Since the outbreak of COVID19 companies have been canceling interviews at the top hotel management colleges in India The overall hiring sentiment in the country is witnessing a negative impact in the short term with 6065 percent of interviews getting postponed especially in the hospitality services sector following the slowdown across industries triggered by the coronavirus pandemic Even the students who were aspiring for a career in the hospitality industry are on the verge of full swing Currently with the imposition of Section 144 there are barely any bookings being made for the future and the current ones all stand canceled In this scenario there is limited scope for quick revival    It’s proud to see that this sector shows its maturity level in working together showing their true hospitality commitments in helping out our society where they can For example by making their venue available for hospital beds and hospital employees The situation we are in also brings new business models and opportunities in defining for instance new delivery concepts human capital sharing platforms initiatives in promoting the “staycation or holiday concept” and the use of the less productive time to work on activities that were normally pushed forward like asset counts security plans defining standard operating procedures social media plans etc WHAT HAS CAUSED THE PANIC This may seem obvious but it’s worth looking at this a bit closer The main reason there was such widespread panic was that the government announced its advice to avoid public meeting places like restaurants bars and pubs without simultaneously announcing a complete ban or a plan to support the businesses whose revenue streams they’d just denied Many of these businesses operate on low margins and very fragile cash flow already so the prospect of survival for an indefinite period of time without income seemed very bleak indeed This has taken a mental toll on already stressed business owners and their worried staff    FACTS  FIGURES – Coronavirus Effect on the Hospitality The impact of the novel coronavirus on India’s hospitality sector jobs is nothing short of severe While most economists expect things to rebound in the latter half of the year uncertainty still lurks A sheer job trauma is staring at the hospitality industry in the near future This is as the chances of losing a job are at high risk Furthermore the entrylevel has postponed the hiring for the near future Let us check here some of the facts concerning the drop in the various hotel occupancy sectors  The country’s daily hotel occupancy dropped to 11 during 2329 March according to preliminary data from STR Department of Revenue Ministry of Finance Government of India due to COVID19 concerns and limitations that have intensified in India Along with a steep downward trend in occupancy the average daily rate ADR and revenue per available room RevPAR have also dropped significantly in India ADR which has dropped year over year by around 20 or more for eight consecutive days went as low as INR4 92418 on 28 March RevPAR attained its least absolute level INR53754 on 22 March In India both luxury and budget hotels are running at just 10 percent of occupancy levels as thousands of people have canceled their trips This may further worsen in the times to come at least till the end of this year For instance Airbnb announced its guests could cancel their reservations for a full refund The overall revenue of the Indian hotel sector is set to decline by anywhere between US 885 billion to US 10 billion reflecting an erosion of 39 to 45 compared to last year Besides the actual business loss the hotel owners will also incur losses due to fixed operating expenses debt repayments interest payments and several other compliances required to be undertaken as part of the sector With hospitality and travel sectors among the worst affected by COVID19 OYO’s entire executive leadership CXOs team has taken a voluntary pay cut starting at 25 with many opting for a supplementary untapped amount and some going up to 50 to enable constructing the runway for the company Ritesh Agarwal the Founder  Group CEO OYO Hotels  Homes has decided to forego 100 of his salary for the rest of the year in the wake of the novel coronavirus crisis     Proposed Action Plans Coronavirus Effect on the Hospitality The hospitality industry can use this chasm to prepare for the upcoming demand by focusing on marketing and upgradation This ‘Stop Gap Plan’ is about maintaining a thread of communication using social media and advertisements with the consumers It’s also about strengthening the communication within the company making a budget and plan for reopening and utilizing this period to fix and upgrade whatever is possible Another step is where all the action is required by the sector Once the outbreak of the virus is contained and the world is set to travel again it is suggested that any plan of reopening must be done keeping longterm benefits and safety compliances in mind It is imperative that hospitality companies reach out to deferred and canceled bookings and give due attention to domestic travelers The hotels and airlines must slowly roll out their services rather than starting everything instantly and not get caught up in spendingThis way Coronavirus Effect on the Hospitality A Way Forward Recommendations for the Government of India The government is already taking measures to combat the effects of the pandemic on the country Here are the multiple measures if taken by the government of India can help the Indian hotel industry weather the current storm  Stimulus package to stabilize and support the hospitality sector in the near term including a workforce support fund to ensure that there are no job losses Provide a moratorium of  6 – 12 months on all loans principal  interest including working capital payments and overdrafts Ensure that credit rating agencies do not downgrade ratings of businesses due to the expected volatility of the business in the short to medium term Provide a 12month corporate tax holiday to travel tourism and hospitality sectors Defer all statutory dues such as advance tax custom duties excise duties PF bank charges etc at the central and state level for 12 months The government authorities must ensure that there is adequate availability of collateralfree and interestfree credit for organizations in the hospitality travel and tourism industries  WHAT WILL CORONAVIRUS LEAVE BEHIND    Really this is anyone’s guess We don’t yet know how long it will take for the epidemic to peak and for us to be allowed out again but one thing I am sure of is that we’ll all be desperate to meet up with friends over dinner or have a pint in the pub With proper support from the government I think the hospitality industry stands a good chance of bouncing back quickly but perhaps not in its former form It is likely that we will see a kind of natural selection take place among restaurants leaving space for innovative new entrants The crisis has already forced several restaurants to innovate by developing new services and perhaps if regulation allows these will stick becoming new models for restaurants in the future and offering them a more diverse and resilient set of revenue streams Thus Coronavirus Effect on the Hospitality and other sectors Blackcoffer Insights 17Radhika KejriwalIMT Nagpur \n",
      "['The', 'hospitality', 'sector', 'in', 'India', 'has', 'witnessed', 'unprecedented', 'deceleration', 'this', 'year', 'in', 'the', 'wake', 'of', 'the', 'COVID19', 'pandemic', 'The', 'Indian', 'hotel', 'sector', 'has', 'been', 'hit', 'hard', 'tussling', 'with', 'significantly', 'low', 'demand', 'with', 'very', 'few', 'future', 'bookings', 'Since', 'the', 'outbreak', 'of', 'COVID19', 'companies', 'have', 'been', 'canceling', 'interviews', 'at', 'the', 'top', 'hotel', 'management', 'colleges', 'in', 'India', 'The', 'overall', 'hiring', 'sentiment', 'in', 'the', 'country', 'is', 'witnessing', 'a', 'negative', 'impact', 'in', 'the', 'short', 'term', 'with', '6065', 'percent', 'of', 'interviews', 'getting', 'postponed', 'especially', 'in', 'the', 'hospitality', 'services', 'sector', 'following', 'the', 'slowdown', 'across', 'industries', 'triggered', 'by', 'the', 'coronavirus', 'pandemic', 'Even', 'the', 'students', 'who', 'were', 'aspiring', 'for', 'a', 'career', 'in', 'the', 'hospitality', 'industry', 'are', 'on', 'the', 'verge', 'of', 'full', 'swing', 'Currently', 'with', 'the', 'imposition', 'of', 'Section', '144', 'there', 'are', 'barely', 'any', 'bookings', 'being', 'made', 'for', 'the', 'future', 'and', 'the', 'current', 'ones', 'all', 'stand', 'canceled', 'In', 'this', 'scenario', 'there', 'is', 'limited', 'scope', 'for', 'quick', 'revival', 'It’s', 'proud', 'to', 'see', 'that', 'this', 'sector', 'shows', 'its', 'maturity', 'level', 'in', 'working', 'together', 'showing', 'their', 'true', 'hospitality', 'commitments', 'in', 'helping', 'out', 'our', 'society', 'where', 'they', 'can', 'For', 'example', 'by', 'making', 'their', 'venue', 'available', 'for', 'hospital', 'beds', 'and', 'hospital', 'employees', 'The', 'situation', 'we', 'are', 'in', 'also', 'brings', 'new', 'business', 'models', 'and', 'opportunities', 'in', 'defining', 'for', 'instance', 'new', 'delivery', 'concepts', 'human', 'capital', 'sharing', 'platforms', 'initiatives', 'in', 'promoting', 'the', '“staycation', 'or', 'holiday', 'concept”', 'and', 'the', 'use', 'of', 'the', 'less', 'productive', 'time', 'to', 'work', 'on', 'activities', 'that', 'were', 'normally', 'pushed', 'forward', 'like', 'asset', 'counts', 'security', 'plans', 'defining', 'standard', 'operating', 'procedures', 'social', 'media', 'plans', 'etc', 'WHAT', 'HAS', 'CAUSED', 'THE', 'PANIC', 'This', 'may', 'seem', 'obvious', 'but', 'it’s', 'worth', 'looking', 'at', 'this', 'a', 'bit', 'closer', 'The', 'main', 'reason', 'there', 'was', 'such', 'widespread', 'panic', 'was', 'that', 'the', 'government', 'announced', 'its', 'advice', 'to', 'avoid', 'public', 'meeting', 'places', 'like', 'restaurants', 'bars', 'and', 'pubs', 'without', 'simultaneously', 'announcing', 'a', 'complete', 'ban', 'or', 'a', 'plan', 'to', 'support', 'the', 'businesses', 'whose', 'revenue', 'streams', 'they’d', 'just', 'denied', 'Many', 'of', 'these', 'businesses', 'operate', 'on', 'low', 'margins', 'and', 'very', 'fragile', 'cash', 'flow', 'already', 'so', 'the', 'prospect', 'of', 'survival', 'for', 'an', 'indefinite', 'period', 'of', 'time', 'without', 'income', 'seemed', 'very', 'bleak', 'indeed', 'This', 'has', 'taken', 'a', 'mental', 'toll', 'on', 'already', 'stressed', 'business', 'owners', 'and', 'their', 'worried', 'staff', 'FACTS', 'FIGURES', '–', 'Coronavirus', 'Effect', 'on', 'the', 'Hospitality', 'The', 'impact', 'of', 'the', 'novel', 'coronavirus', 'on', 'India’s', 'hospitality', 'sector', 'jobs', 'is', 'nothing', 'short', 'of', 'severe', 'While', 'most', 'economists', 'expect', 'things', 'to', 'rebound', 'in', 'the', 'latter', 'half', 'of', 'the', 'year', 'uncertainty', 'still', 'lurks', 'A', 'sheer', 'job', 'trauma', 'is', 'staring', 'at', 'the', 'hospitality', 'industry', 'in', 'the', 'near', 'future', 'This', 'is', 'as', 'the', 'chances', 'of', 'losing', 'a', 'job', 'are', 'at', 'high', 'risk', 'Furthermore', 'the', 'entrylevel', 'has', 'postponed', 'the', 'hiring', 'for', 'the', 'near', 'future', 'Let', 'us', 'check', 'here', 'some', 'of', 'the', 'facts', 'concerning', 'the', 'drop', 'in', 'the', 'various', 'hotel', 'occupancy', 'sectors', 'The', 'country’s', 'daily', 'hotel', 'occupancy', 'dropped', 'to', '11', 'during', '2329', 'March', 'according', 'to', 'preliminary', 'data', 'from', 'STR', 'Department', 'of', 'Revenue', 'Ministry', 'of', 'Finance', 'Government', 'of', 'India', 'due', 'to', 'COVID19', 'concerns', 'and', 'limitations', 'that', 'have', 'intensified', 'in', 'India', 'Along', 'with', 'a', 'steep', 'downward', 'trend', 'in', 'occupancy', 'the', 'average', 'daily', 'rate', 'ADR', 'and', 'revenue', 'per', 'available', 'room', 'RevPAR', 'have', 'also', 'dropped', 'significantly', 'in', 'India', 'ADR', 'which', 'has', 'dropped', 'year', 'over', 'year', 'by', 'around', '20', 'or', 'more', 'for', 'eight', 'consecutive', 'days', 'went', 'as', 'low', 'as', 'INR4', '92418', 'on', '28', 'March', 'RevPAR', 'attained', 'its', 'least', 'absolute', 'level', 'INR53754', 'on', '22', 'March', 'In', 'India', 'both', 'luxury', 'and', 'budget', 'hotels', 'are', 'running', 'at', 'just', '10', 'percent', 'of', 'occupancy', 'levels', 'as', 'thousands', 'of', 'people', 'have', 'canceled', 'their', 'trips', 'This', 'may', 'further', 'worsen', 'in', 'the', 'times', 'to', 'come', 'at', 'least', 'till', 'the', 'end', 'of', 'this', 'year', 'For', 'instance', 'Airbnb', 'announced', 'its', 'guests', 'could', 'cancel', 'their', 'reservations', 'for', 'a', 'full', 'refund', 'The', 'overall', 'revenue', 'of', 'the', 'Indian', 'hotel', 'sector', 'is', 'set', 'to', 'decline', 'by', 'anywhere', 'between', 'US', '885', 'billion', 'to', 'US', '10', 'billion', 'reflecting', 'an', 'erosion', 'of', '39', 'to', '45', 'compared', 'to', 'last', 'year', 'Besides', 'the', 'actual', 'business', 'loss', 'the', 'hotel', 'owners', 'will', 'also', 'incur', 'losses', 'due', 'to', 'fixed', 'operating', 'expenses', 'debt', 'repayments', 'interest', 'payments', 'and', 'several', 'other', 'compliances', 'required', 'to', 'be', 'undertaken', 'as', 'part', 'of', 'the', 'sector', 'With', 'hospitality', 'and', 'travel', 'sectors', 'among', 'the', 'worst', 'affected', 'by', 'COVID19', 'OYO’s', 'entire', 'executive', 'leadership', 'CXOs', 'team', 'has', 'taken', 'a', 'voluntary', 'pay', 'cut', 'starting', 'at', '25', 'with', 'many', 'opting', 'for', 'a', 'supplementary', 'untapped', 'amount', 'and', 'some', 'going', 'up', 'to', '50', 'to', 'enable', 'constructing', 'the', 'runway', 'for', 'the', 'company', 'Ritesh', 'Agarwal', 'the', 'Founder', 'Group', 'CEO', 'OYO', 'Hotels', 'Homes', 'has', 'decided', 'to', 'forego', '100', 'of', 'his', 'salary', 'for', 'the', 'rest', 'of', 'the', 'year', 'in', 'the', 'wake', 'of', 'the', 'novel', 'coronavirus', 'crisis', 'Proposed', 'Action', 'Plans', 'Coronavirus', 'Effect', 'on', 'the', 'Hospitality', 'The', 'hospitality', 'industry', 'can', 'use', 'this', 'chasm', 'to', 'prepare', 'for', 'the', 'upcoming', 'demand', 'by', 'focusing', 'on', 'marketing', 'and', 'upgradation', 'This', '‘Stop', 'Gap', 'Plan’', 'is', 'about', 'maintaining', 'a', 'thread', 'of', 'communication', 'using', 'social', 'media', 'and', 'advertisements', 'with', 'the', 'consumers', 'It’s', 'also', 'about', 'strengthening', 'the', 'communication', 'within', 'the', 'company', 'making', 'a', 'budget', 'and', 'plan', 'for', 'reopening', 'and', 'utilizing', 'this', 'period', 'to', 'fix', 'and', 'upgrade', 'whatever', 'is', 'possible', 'Another', 'step', 'is', 'where', 'all', 'the', 'action', 'is', 'required', 'by', 'the', 'sector', 'Once', 'the', 'outbreak', 'of', 'the', 'virus', 'is', 'contained', 'and', 'the', 'world', 'is', 'set', 'to', 'travel', 'again', 'it', 'is', 'suggested', 'that', 'any', 'plan', 'of', 'reopening', 'must', 'be', 'done', 'keeping', 'longterm', 'benefits', 'and', 'safety', 'compliances', 'in', 'mind', 'It', 'is', 'imperative', 'that', 'hospitality', 'companies', 'reach', 'out', 'to', 'deferred', 'and', 'canceled', 'bookings', 'and', 'give', 'due', 'attention', 'to', 'domestic', 'travelers', 'The', 'hotels', 'and', 'airlines', 'must', 'slowly', 'roll', 'out', 'their', 'services', 'rather', 'than', 'starting', 'everything', 'instantly', 'and', 'not', 'get', 'caught', 'up', 'in', 'spendingThis', 'way', 'Coronavirus', 'Effect', 'on', 'the', 'Hospitality', 'A', 'Way', 'Forward', 'Recommendations', 'for', 'the', 'Government', 'of', 'India', 'The', 'government', 'is', 'already', 'taking', 'measures', 'to', 'combat', 'the', 'effects', 'of', 'the', 'pandemic', 'on', 'the', 'country', 'Here', 'are', 'the', 'multiple', 'measures', 'if', 'taken', 'by', 'the', 'government', 'of', 'India', 'can', 'help', 'the', 'Indian', 'hotel', 'industry', 'weather', 'the', 'current', 'storm', 'Stimulus', 'package', 'to', 'stabilize', 'and', 'support', 'the', 'hospitality', 'sector', 'in', 'the', 'near', 'term', 'including', 'a', 'workforce', 'support', 'fund', 'to', 'ensure', 'that', 'there', 'are', 'no', 'job', 'losses', 'Provide', 'a', 'moratorium', 'of', '6', '–', '12', 'months', 'on', 'all', 'loans', 'principal', 'interest', 'including', 'working', 'capital', 'payments', 'and', 'overdrafts', 'Ensure', 'that', 'credit', 'rating', 'agencies', 'do', 'not', 'downgrade', 'ratings', 'of', 'businesses', 'due', 'to', 'the', 'expected', 'volatility', 'of', 'the', 'business', 'in', 'the', 'short', 'to', 'medium', 'term', 'Provide', 'a', '12month', 'corporate', 'tax', 'holiday', 'to', 'travel', 'tourism', 'and', 'hospitality', 'sectors', 'Defer', 'all', 'statutory', 'dues', 'such', 'as', 'advance', 'tax', 'custom', 'duties', 'excise', 'duties', 'PF', 'bank', 'charges', 'etc', 'at', 'the', 'central', 'and', 'state', 'level', 'for', '12', 'months', 'The', 'government', 'authorities', 'must', 'ensure', 'that', 'there', 'is', 'adequate', 'availability', 'of', 'collateralfree', 'and', 'interestfree', 'credit', 'for', 'organizations', 'in', 'the', 'hospitality', 'travel', 'and', 'tourism', 'industries', 'WHAT', 'WILL', 'CORONAVIRUS', 'LEAVE', 'BEHIND', 'Really', 'this', 'is', 'anyone’s', 'guess', 'We', 'don’t', 'yet', 'know', 'how', 'long', 'it', 'will', 'take', 'for', 'the', 'epidemic', 'to', 'peak', 'and', 'for', 'us', 'to', 'be', 'allowed', 'out', 'again', 'but', 'one', 'thing', 'I', 'am', 'sure', 'of', 'is', 'that', 'we’ll', 'all', 'be', 'desperate', 'to', 'meet', 'up', 'with', 'friends', 'over', 'dinner', 'or', 'have', 'a', 'pint', 'in', 'the', 'pub', 'With', 'proper', 'support', 'from', 'the', 'government', 'I', 'think', 'the', 'hospitality', 'industry', 'stands', 'a', 'good', 'chance', 'of', 'bouncing', 'back', 'quickly', 'but', 'perhaps', 'not', 'in', 'its', 'former', 'form', 'It', 'is', 'likely', 'that', 'we', 'will', 'see', 'a', 'kind', 'of', 'natural', 'selection', 'take', 'place', 'among', 'restaurants', 'leaving', 'space', 'for', 'innovative', 'new', 'entrants', 'The', 'crisis', 'has', 'already', 'forced', 'several', 'restaurants', 'to', 'innovate', 'by', 'developing', 'new', 'services', 'and', 'perhaps', 'if', 'regulation', 'allows', 'these', 'will', 'stick', 'becoming', 'new', 'models', 'for', 'restaurants', 'in', 'the', 'future', 'and', 'offering', 'them', 'a', 'more', 'diverse', 'and', 'resilient', 'set', 'of', 'revenue', 'streams', 'Thus', 'Coronavirus', 'Effect', 'on', 'the', 'Hospitality', 'and', 'other', 'sectors', 'Blackcoffer', 'Insights', '17Radhika', 'KejriwalIMT', 'Nagpur']\n"
     ]
    }
   ],
   "source": [
    "content=soup.findAll(attrs={'class':'td-post-content'})\n",
    "content=content[0].text.replace('\\n',\" \")\n",
    "print(content)\n",
    "#Punctuation\n",
    "content = content.translate(str.maketrans('', '', string.punctuation)) \n",
    "print(content)\n",
    "text = content.split()\n",
    "print(text)\n"
   ]
  },
  {
   "cell_type": "code",
   "execution_count": 3,
   "id": "12ae95f5",
   "metadata": {},
   "outputs": [
    {
     "data": {
      "text/plain": [
       "1258"
      ]
     },
     "execution_count": 3,
     "metadata": {},
     "output_type": "execute_result"
    }
   ],
   "source": [
    "len(text)"
   ]
  },
  {
   "cell_type": "code",
   "execution_count": 4,
   "id": "9560a4ba",
   "metadata": {},
   "outputs": [
    {
     "name": "stdout",
     "output_type": "stream",
     "text": [
      "27\n"
     ]
    }
   ],
   "source": [
    "#Positive Score \n",
    "with open(r\"C:\\Users\\Om Bhandwalkar\\Desktop\\pos\\positive-words.txt\") as pos:\n",
    "    poswords = pos.read().split(\"\\n\")  \n",
    "    poswords = poswords[5:]\n",
    "pos_count = \" \".join ([w for w in text if w in poswords])\n",
    "pos_count=pos_count.split(\" \")\n",
    "Positive_score=len(pos_count)\n",
    "print(Positive_score)"
   ]
  },
  {
   "cell_type": "code",
   "execution_count": 5,
   "id": "0b87a394",
   "metadata": {},
   "outputs": [
    {
     "name": "stdout",
     "output_type": "stream",
     "text": [
      "35\n"
     ]
    }
   ],
   "source": [
    "#Negative Score\n",
    "with open(r\"C:\\Users\\Om Bhandwalkar\\Desktop\\pos\\negative-words.txt\",encoding =\"ISO-8859-1\") as neg:\n",
    "    negwords = neg.read().split(\"\\n\")\n",
    "    \n",
    "negwords = negwords[36:]\n",
    "neg_count = \" \".join ([w for w in text if w in negwords])\n",
    "neg_count=neg_count.split(\" \")\n",
    "Negative_score=len(neg_count)\n",
    "print(Negative_score)"
   ]
  },
  {
   "cell_type": "code",
   "execution_count": 6,
   "id": "d2e3489a",
   "metadata": {},
   "outputs": [
    {
     "data": {
      "text/html": [
       "<div>\n",
       "<style scoped>\n",
       "    .dataframe tbody tr th:only-of-type {\n",
       "        vertical-align: middle;\n",
       "    }\n",
       "\n",
       "    .dataframe tbody tr th {\n",
       "        vertical-align: top;\n",
       "    }\n",
       "\n",
       "    .dataframe thead th {\n",
       "        text-align: right;\n",
       "    }\n",
       "</style>\n",
       "<table border=\"1\" class=\"dataframe\">\n",
       "  <thead>\n",
       "    <tr style=\"text-align: right;\">\n",
       "      <th></th>\n",
       "      <th>url</th>\n",
       "      <th>title</th>\n",
       "      <th>content</th>\n",
       "      <th>filter_content</th>\n",
       "      <th>Positive_Score</th>\n",
       "      <th>Negative_Score</th>\n",
       "      <th>polarity</th>\n",
       "      <th>subjectivity</th>\n",
       "    </tr>\n",
       "  </thead>\n",
       "  <tbody>\n",
       "    <tr>\n",
       "      <th>0</th>\n",
       "      <td>https://insights.blackcoffer.com/coronavirus-i...</td>\n",
       "      <td>Coronavirus: Effect on the Hospitality Industry</td>\n",
       "      <td>The hospitality sector in India has witnessed...</td>\n",
       "      <td>The hospitality sector in India has witnessed ...</td>\n",
       "      <td>27</td>\n",
       "      <td>35</td>\n",
       "      <td>0.056411</td>\n",
       "      <td>0.384694</td>\n",
       "    </tr>\n",
       "  </tbody>\n",
       "</table>\n",
       "</div>"
      ],
      "text/plain": [
       "                                                 url  \\\n",
       "0  https://insights.blackcoffer.com/coronavirus-i...   \n",
       "\n",
       "                                             title  \\\n",
       "0  Coronavirus: Effect on the Hospitality Industry   \n",
       "\n",
       "                                             content  \\\n",
       "0   The hospitality sector in India has witnessed...   \n",
       "\n",
       "                                      filter_content  Positive_Score  \\\n",
       "0  The hospitality sector in India has witnessed ...              27   \n",
       "\n",
       "   Negative_Score  polarity  subjectivity  \n",
       "0              35  0.056411      0.384694  "
      ]
     },
     "execution_count": 6,
     "metadata": {},
     "output_type": "execute_result"
    }
   ],
   "source": [
    "filter_content = ' '.join(text)\n",
    "data=[[url,title,content,filter_content,Positive_score,Negative_score]]\n",
    "data=pd.DataFrame(data,columns=[\"url\",\"title\",\"content\",\"filter_content\",\"Positive_Score\",\"Negative_Score\"])\n",
    "from textblob import TextBlob\n",
    "# Get The Subjectivity\n",
    "def sentiment_analysis(data):\n",
    "    sentiment = TextBlob(data[\"content\"]).sentiment\n",
    "    return pd.Series([sentiment.polarity,sentiment.subjectivity ])\n",
    "\n",
    "# Adding Subjectivity & Polarity\n",
    "data[[\"polarity\", \"subjectivity\"]] = data.apply(sentiment_analysis, axis=1)\n",
    "\n",
    "data"
   ]
  },
  {
   "cell_type": "code",
   "execution_count": 7,
   "id": "78f6677b",
   "metadata": {},
   "outputs": [
    {
     "name": "stdout",
     "output_type": "stream",
     "text": [
      "Word average = 6350.0\n",
      "FOG INDEX =  506.32\n",
      "Average no of words per sentence\n",
      "1258.0\n",
      "Complex Words 2251\n"
     ]
    }
   ],
   "source": [
    "#AVG SENTENCE LENGTH\n",
    "AVG_SENTENCE_LENGTH = len(content.replace(' ',''))/len(re.split(r'[?!.]', content))\n",
    "print('Word average =', AVG_SENTENCE_LENGTH)\n",
    "import textstat\n",
    "#Fog index \n",
    "FOG_INDEX=(textstat.gunning_fog(content))\n",
    "print(\"FOG INDEX = \",FOG_INDEX)\n",
    "#Average No of Words Per Sentence \n",
    "AVG_NUMBER_OF_WORDS_PER_SENTENCE = [len(l.split()) for l in re.split(r'[?!.]', content) if l.strip()]\n",
    "print(\"Average no of words per sentence\")\n",
    "AVG_NUMBER_OF_WORDS_PER_SENTENCE=print(sum(AVG_NUMBER_OF_WORDS_PER_SENTENCE)/len(AVG_NUMBER_OF_WORDS_PER_SENTENCE))\n",
    "#Complex words\n",
    "def syllable_count(word):\n",
    "    count = 0\n",
    "    vowels = \"AEIOUYaeiouy\"\n",
    "    if word[0] in vowels:\n",
    "        count += 1\n",
    "    for index in range(1, len(word)): \n",
    "        if word[index] in vowels and word[index - 1] not in vowels:\n",
    "            count += 1\n",
    "            if word.endswith(\"es\"or \"ed\"):\n",
    "                count -= 1\n",
    "    if count == 0:\n",
    "        count += 1\n",
    "    return count\n",
    "\n",
    "\n",
    "\n",
    "COMPLEX_WORDS=syllable_count(content)\n",
    "print(\"Complex Words\",COMPLEX_WORDS)\n"
   ]
  },
  {
   "cell_type": "code",
   "execution_count": 8,
   "id": "8fd6abe6",
   "metadata": {},
   "outputs": [
    {
     "name": "stdout",
     "output_type": "stream",
     "text": [
      "Word Count 7626\n",
      "Percentage of Complex Words 29.517440335693678\n",
      "Average Word per Length 5.047694753577106\n",
      "The AVG number of syllables in the word is: \n",
      "1.9833068362480126\n",
      "Word Count 7626\n",
      "Percentage of Complex Words 29.517440335693678\n",
      "Average Word per Length 5.047694753577106\n",
      "The AVG number of syllables in the word is: \n",
      "1.9833068362480126\n"
     ]
    }
   ],
   "source": [
    "#Word Count\n",
    "Word_Count=len(content)\n",
    "print(\"Word Count\",Word_Count)\n",
    "#Percentage Complex Words\n",
    "pcw=(COMPLEX_WORDS/Word_Count)*100\n",
    "print(\"Percentage of Complex Words\",pcw)\n",
    "#Average Word Length\n",
    "Average_Word_Length=len(content.replace(' ',''))/len(content.split())\n",
    "print(\"Average Word per Length\",Average_Word_Length)\n",
    "#Syllable Count Per Word\n",
    "word=content.replace(' ','')\n",
    "syllable_count=0\n",
    "for w in word:\n",
    "      if(w=='a' or w=='e' or w=='i' or w=='o' or w=='y' or w=='u' or w=='A' or w=='E' or w=='I' or w=='O' or w=='U' or w=='Y'):\n",
    "            syllable_count=syllable_count+1\n",
    "print(\"The AVG number of syllables in the word is: \")\n",
    "print(syllable_count/len(content.split()))#Word Count\n",
    "Word_Count=len(content)\n",
    "print(\"Word Count\",Word_Count)\n",
    "#Percentage Complex Words\n",
    "pcw=(COMPLEX_WORDS/Word_Count)*100\n",
    "print(\"Percentage of Complex Words\",pcw)\n",
    "#Average Word Length\n",
    "Average_Word_Length=len(content.replace(' ',''))/len(content.split())\n",
    "print(\"Average Word per Length\",Average_Word_Length)\n",
    "#Syllable Count Per Word\n",
    "word=content.replace(' ','')\n",
    "syllable_count=0\n",
    "for w in word:\n",
    "      if(w=='a' or w=='e' or w=='i' or w=='o' or w=='y' or w=='u' or w=='A' or w=='E' or w=='I' or w=='O' or w=='U' or w=='Y'):\n",
    "            syllable_count=syllable_count+1\n",
    "print(\"The AVG number of syllables in the word is: \")\n",
    "print(syllable_count/len(content.split()))"
   ]
  },
  {
   "cell_type": "code",
   "execution_count": 1,
   "id": "ff05e86c",
   "metadata": {},
   "outputs": [
    {
     "name": "stdout",
     "output_type": "stream",
     "text": [
      "27\n",
      "35\n",
      "Word average = 6350.0\n",
      "FOG INDEX =  506.32\n",
      "Average no of words per sentence\n",
      "1258.0\n",
      "Complex Words 2251\n",
      "Word Count 7627\n",
      "Percentage of Complex Words 29.513570211092173\n",
      "Average Word per Length 5.047694753577106\n",
      "The AVG number of syllables in the word is: \n",
      "1.9833068362480126\n"
     ]
    },
    {
     "data": {
      "text/html": [
       "<div>\n",
       "<style scoped>\n",
       "    .dataframe tbody tr th:only-of-type {\n",
       "        vertical-align: middle;\n",
       "    }\n",
       "\n",
       "    .dataframe tbody tr th {\n",
       "        vertical-align: top;\n",
       "    }\n",
       "\n",
       "    .dataframe thead th {\n",
       "        text-align: right;\n",
       "    }\n",
       "</style>\n",
       "<table border=\"1\" class=\"dataframe\">\n",
       "  <thead>\n",
       "    <tr style=\"text-align: right;\">\n",
       "      <th></th>\n",
       "      <th>url</th>\n",
       "      <th>title</th>\n",
       "      <th>content</th>\n",
       "      <th>filter_content</th>\n",
       "      <th>Positive_Score</th>\n",
       "      <th>Negative_Score</th>\n",
       "      <th>Avg_Sentence_Length</th>\n",
       "      <th>Percentage_Complex_Word</th>\n",
       "      <th>Fog_Index</th>\n",
       "      <th>AVG_NUMBER_OF_WORDS_PER_SENTENCE</th>\n",
       "      <th>COMPLEX_WORDS</th>\n",
       "      <th>Word_Count</th>\n",
       "      <th>syllable</th>\n",
       "      <th>Average_Word_Length</th>\n",
       "      <th>polarity</th>\n",
       "      <th>subjectivity</th>\n",
       "    </tr>\n",
       "  </thead>\n",
       "  <tbody>\n",
       "    <tr>\n",
       "      <th>0</th>\n",
       "      <td>https://insights.blackcoffer.com/coronavirus-i...</td>\n",
       "      <td>Coronavirus: Effect on the Hospitality Industry</td>\n",
       "      <td>The hospitality sector in India has witnesse...</td>\n",
       "      <td>The hospitality sector in India has witnessed ...</td>\n",
       "      <td>27</td>\n",
       "      <td>35</td>\n",
       "      <td>6350.0</td>\n",
       "      <td>29.51357</td>\n",
       "      <td>506.32</td>\n",
       "      <td>1258.0</td>\n",
       "      <td>2251</td>\n",
       "      <td>7627</td>\n",
       "      <td>1.983307</td>\n",
       "      <td>5.047695</td>\n",
       "      <td>0.056411</td>\n",
       "      <td>0.384694</td>\n",
       "    </tr>\n",
       "  </tbody>\n",
       "</table>\n",
       "</div>"
      ],
      "text/plain": [
       "                                                 url  \\\n",
       "0  https://insights.blackcoffer.com/coronavirus-i...   \n",
       "\n",
       "                                             title  \\\n",
       "0  Coronavirus: Effect on the Hospitality Industry   \n",
       "\n",
       "                                             content  \\\n",
       "0    The hospitality sector in India has witnesse...   \n",
       "\n",
       "                                      filter_content  Positive_Score  \\\n",
       "0  The hospitality sector in India has witnessed ...              27   \n",
       "\n",
       "   Negative_Score  Avg_Sentence_Length  Percentage_Complex_Word  Fog_Index  \\\n",
       "0              35               6350.0                 29.51357     506.32   \n",
       "\n",
       "    AVG_NUMBER_OF_WORDS_PER_SENTENCE  COMPLEX_WORDS  Word_Count  syllable  \\\n",
       "0                             1258.0           2251        7627  1.983307   \n",
       "\n",
       "   Average_Word_Length  polarity  subjectivity  \n",
       "0             5.047695  0.056411      0.384694  "
      ]
     },
     "execution_count": 1,
     "metadata": {},
     "output_type": "execute_result"
    }
   ],
   "source": [
    "import requests\n",
    "import pandas as pd \n",
    "from bs4 import BeautifulSoup\n",
    "import string\n",
    "import spacy\n",
    "import re\n",
    "url = \"\"\"https://insights.blackcoffer.com/coronavirus-impact-on-the-hospitality-industry-3/\"\"\"\n",
    "headers = {\"User-Agent\": \"Mozilla/5.0 (X11; Linux x86_64; rv:60.0) Gecko/20100101 Firefox/60.0\"}\n",
    "page = requests.get(url, headers=headers)\n",
    "soup = BeautifulSoup(page.content, 'html.parser')\n",
    "soup=BeautifulSoup(page.content, 'html.parser')\n",
    "title=soup.find('h1',class_=\"entry-title\")\n",
    "title=title.text.replace('\\n',\" \")\n",
    "# title\n",
    "\n",
    "content=soup.findAll(attrs={'class':'td-post-content'})\n",
    "content=content[0].text.replace('\\n',\" \")\n",
    "# print(content)\n",
    "#Punctuation\n",
    "content = content.translate(str.maketrans('', '', string.punctuation)) \n",
    "# print(content)\n",
    "text = content.split()\n",
    "# print(text)\n",
    "len(text)\n",
    "#Positive Score \n",
    "with open(r\"C:\\Users\\Om Bhandwalkar\\Desktop\\pos\\positive-words.txt\") as pos:\n",
    "    poswords = pos.read().split(\"\\n\")  \n",
    "    poswords = poswords[5:]\n",
    "pos_count = \" \".join ([w for w in text if w in poswords])\n",
    "pos_count=pos_count.split(\" \")\n",
    "Positive_score=len(pos_count)\n",
    "print(Positive_score)\n",
    "\n",
    "#Negative Score\n",
    "with open(r\"C:\\Users\\Om Bhandwalkar\\Desktop\\pos\\negative-words.txt\",encoding =\"ISO-8859-1\") as neg:\n",
    "    negwords = neg.read().split(\"\\n\")\n",
    "    \n",
    "negwords = negwords[36:]\n",
    "neg_count = \" \".join ([w for w in text if w in negwords])\n",
    "neg_count=neg_count.split(\" \")\n",
    "Negative_score=len(neg_count)\n",
    "print(Negative_score)\n",
    "\n",
    "\n",
    "filter_content = ' '.join(text)\n",
    "data=[[url,title,content,filter_content,Positive_score,Negative_score]]\n",
    "data=pd.DataFrame(data,columns=[\"url\",\"title\",\"content\",\"filter_content\",\"Positive_Score\",\"Negative_Score\"])\n",
    "from textblob import TextBlob\n",
    "# Get The Subjectivity\n",
    "def sentiment_analysis(data):\n",
    "    sentiment = TextBlob(data[\"content\"]).sentiment\n",
    "    return pd.Series([sentiment.polarity,sentiment.subjectivity ])\n",
    "data[[\"polarity\", \"subjectivity\"]] = data.apply(sentiment_analysis, axis=1)\n",
    "data\n",
    "#AVG SENTENCE LENGTH\n",
    "AVG_SENTENCE_LENGTH = len(content.replace(' ',''))/len(re.split(r'[?!.]', content))\n",
    "print('Word average =', AVG_SENTENCE_LENGTH)\n",
    "import textstat\n",
    "#Fog index \n",
    "FOG_INDEX=(textstat.gunning_fog(content))\n",
    "print(\"FOG INDEX = \",FOG_INDEX)\n",
    "#Average No of Words Per Sentence \n",
    "AVG_NUMBER_OF_WORDS_PER_SENTENCE = [len(l.split()) for l in re.split(r'[?!.]', content) if l.strip()]\n",
    "print(\"Average no of words per sentence\")\n",
    "AVG_NUMBER_OF_WORDS_PER_SENTENCE=(sum(AVG_NUMBER_OF_WORDS_PER_SENTENCE)/len(AVG_NUMBER_OF_WORDS_PER_SENTENCE))\n",
    "print(AVG_NUMBER_OF_WORDS_PER_SENTENCE)\n",
    "#Complex words\n",
    "def syllable_count(word):\n",
    "    count = 0\n",
    "    vowels = \"AEIOUYaeiouy\"\n",
    "    if word[0] in vowels:\n",
    "        count += 1\n",
    "    for index in range(1, len(word)): \n",
    "        if word[index] in vowels and word[index - 1] not in vowels:\n",
    "            count += 1\n",
    "            if word.endswith(\"es\"or \"ed\"):\n",
    "                count -= 1\n",
    "    if count == 0:\n",
    "        count += 1\n",
    "    return count\n",
    "\n",
    "\n",
    "\n",
    "COMPLEX_WORDS=syllable_count(content)\n",
    "print(\"Complex Words\",COMPLEX_WORDS)\n",
    "#Word Count\n",
    "Word_Count=len(content)\n",
    "print(\"Word Count\",Word_Count)\n",
    "#Percentage Complex Words\n",
    "pcw=(COMPLEX_WORDS/Word_Count)*100\n",
    "print(\"Percentage of Complex Words\",pcw)\n",
    "#Average Word Length\n",
    "Average_Word_Length=len(content.replace(' ',''))/len(content.split())\n",
    "print(\"Average Word per Length\",Average_Word_Length)\n",
    "#Syllable Count Per Word\n",
    "word=content.replace(' ','')\n",
    "syllable_count=0\n",
    "for w in word:\n",
    "      if(w=='a' or w=='e' or w=='i' or w=='o' or w=='y' or w=='u' or w=='A' or w=='E' or w=='I' or w=='O' or w=='U' or w=='Y'):\n",
    "            syllable_count=syllable_count+1\n",
    "print(\"The AVG number of syllables in the word is: \")\n",
    "syllable = (syllable_count/len(content.split()))\n",
    "print(syllable)\n",
    "\n",
    "data = [[url,title,content,filter_content,Positive_score,Negative_score,AVG_SENTENCE_LENGTH,pcw,FOG_INDEX,\n",
    "         AVG_NUMBER_OF_WORDS_PER_SENTENCE,COMPLEX_WORDS,Word_Count,syllable,Average_Word_Length]]\n",
    "data=pd.DataFrame(data,columns=[\"url\",\"title\",\"content\",\"filter_content\",\"Positive_Score\",\"Negative_Score\",\"Avg_Sentence_Length\"\n",
    "                               ,\"Percentage_Complex_Word\",\"Fog_Index\",\" AVG_NUMBER_OF_WORDS_PER_SENTENCE\",\"COMPLEX_WORDS\",\n",
    "                               \"Word_Count\",\"syllable\",\"Average_Word_Length\"])\n",
    "from textblob import TextBlob\n",
    "# Get The Subjectivity\n",
    "def sentiment_analysis(data):\n",
    "    sentiment = TextBlob(data[\"content\"]).sentiment\n",
    "    return pd.Series([sentiment.polarity,sentiment.subjectivity ])\n",
    "data[[\"polarity\", \"subjectivity\"]] = data.apply(sentiment_analysis, axis=1)\n",
    "data"
   ]
  },
  {
   "cell_type": "code",
   "execution_count": 2,
   "id": "8756daca",
   "metadata": {},
   "outputs": [],
   "source": [
    "data.to_csv(r'C:\\Users\\Om Bhandwalkar\\Desktop\\BlackCoffer Assignment\\Output\\url_113.csv')"
   ]
  },
  {
   "cell_type": "code",
   "execution_count": null,
   "id": "da5137d9",
   "metadata": {},
   "outputs": [],
   "source": []
  }
 ],
 "metadata": {
  "kernelspec": {
   "display_name": "Python 3 (ipykernel)",
   "language": "python",
   "name": "python3"
  },
  "language_info": {
   "codemirror_mode": {
    "name": "ipython",
    "version": 3
   },
   "file_extension": ".py",
   "mimetype": "text/x-python",
   "name": "python",
   "nbconvert_exporter": "python",
   "pygments_lexer": "ipython3",
   "version": "3.9.12"
  }
 },
 "nbformat": 4,
 "nbformat_minor": 5
}
