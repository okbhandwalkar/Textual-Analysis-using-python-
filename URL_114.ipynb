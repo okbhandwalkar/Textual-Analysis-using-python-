{
 "cells": [
  {
   "cell_type": "code",
   "execution_count": 1,
   "id": "a48ed430",
   "metadata": {},
   "outputs": [
    {
     "data": {
      "text/plain": [
       "'Estimating the impact of COVID-19 on the world of work'"
      ]
     },
     "execution_count": 1,
     "metadata": {},
     "output_type": "execute_result"
    }
   ],
   "source": [
    "import requests\n",
    "import pandas as pd \n",
    "from bs4 import BeautifulSoup\n",
    "import string\n",
    "import spacy\n",
    "import re\n",
    "url = \"\"\"https://insights.blackcoffer.com/estimating-the-impact-of-covid-19-on-the-world-of-work/\"\"\"\n",
    "headers = {\"User-Agent\": \"Mozilla/5.0 (X11; Linux x86_64; rv:60.0) Gecko/20100101 Firefox/60.0\"}\n",
    "page = requests.get(url, headers=headers)\n",
    "soup = BeautifulSoup(page.content, 'html.parser')\n",
    "soup=BeautifulSoup(page.content, 'html.parser')\n",
    "title=soup.find('h1',class_=\"entry-title\")\n",
    "title=title.text.replace('\\n',\" \")\n",
    "title\n"
   ]
  },
  {
   "cell_type": "code",
   "execution_count": 2,
   "id": "94c60f9f",
   "metadata": {},
   "outputs": [
    {
     "name": "stdout",
     "output_type": "stream",
     "text": [
      " “Stay at Home”, “Crisis”, “Pandemic”, “COVID-19” These are just a few terms that come to mind when you wake up every morning and listen to the world mourning. With the Coronavirus pandemic hitting almost 210 countries throughout the globe and having no possible cure for the foreseeable future, the state of the world is as dismal as it can ever get. The “Great Lockdown” as it is being called is having adverse effects on almost everything a common man does but more importantly having a grave impact on the world of work. In this article, let’s look at what is the current status of the working population throughout the world and what lies ahead in the future. 2020 marked the beginning of a new decade and a seemingly difficult one for various organizations across the world. The first quarter of 2020 brought with it, major issues for the workforce. The implementation of lockdowns in various countries such as India, Germany, Italy, China, the UK, etc. has made “Work from Home” a compulsion for everyone except those working for essential goods and services companies. The crisis has already led to a worldwide economic slowdown and a period of recession is looming on our heads. The International Monetary Fund (IMF) has predicted a shrink of 3% in the Global GDP indicating the extent of the crisis. The severity of the issue is being felt by various big companies in India and other major powers of the world. In an interview, Anand Mahindra, CEO of M&M Group said that the manufacturing and production sector has been hit the hardest with the lack of labor force. He mentioned the lack of wage workers who help in loading and unloading of material is making transport a major issue for his company, also hinting at the importance of these small workers on the macro-level. CEOs and Managers of various organizations are having a hard time dealing with this crisis. With almost all MNCs such as PwC, BCG, Deloitte, IBM, Infosys, etc. making “work from home” compulsory till around mid-May’20, the importance of technology is at its peak now. Whether it’s conducting meetings over Zoom or conference calls over Duo, staying at home and working is becoming normal as we move forward. Service-based companies are finding it easier to complete their tasks as compared to Product-based companies. According to the IMF the world is going to lose USD 9 Trillion in output in 2020 which is more than the combined output of both Germany and Japan. The manufacturing sector is one of the worst-hit by the pandemic. China, the world’s largest exporter of goods and the epicenter of the COVID-19 pandemic has seen a significant fall in output in the first two months of 2020. Chinese Industrial Production has fallen by 13.5% and major manufacturers in China are facing problems relating to the shutdown and lack of workforce. Restrictions have affected the supply of Chinese companies like JCB, SAIC, Nissan to name a few. Organizations such as Samsung, Kia, Hyundai, and all other non-essential goods companies have been forced to shut down factories to comply with lockdown norms and for the safety of their employees. Indian manufacturing giants such as Bajaj and Tata have taken the toll due to the lockdown measures in India. Bajaj has been forced to cut employee salaries by 30% and worker salaries by 10% due to a lack of revenue. US-based smartphone and tech giant Apple Inc. has shut all its stores worldwide with its factories in China and the USA unable to produce new products for the time being. These are just a few examples and production has been hit globally in all countries and there is a lack of demand to compliment this, further enhancing the problem faced by producers.  The world of work also includes those who are willing and able to work but cannot find a job, i.e., the unemployed. The unemployment rate is at a staggering high across all nations affected by the pandemic. According to the US Bureau of Labor Statistics, the number of people filing for unemployment hit a record high close to 7 million people. China reported an unemployment rate of 6.2% in Jan’20 and figures are expected to get worse in many other countries. According to the International Labor Organization, more than 25 million workers may go jobless soon due to this crisis and lead to a significant decline in income. The financial crisis of 2008 caused a 22 million spike in unemployment worldwide and the nature of the current situation makes it more dangerous. The fall in revenues and effects on both supply as well as demand mean that companies are having a hard time maintaining their balance sheet and taking care of their liabilities. Lack of job opportunities from the next quarter and salary cuts for existing employees might be the way forward in the corporate world.  Amongst all the negative impacts of COVID-19 on organizations across the globe, there are a few opportunities that are ready to be explored after this crisis. Technology and Artificial Intelligence are key aspects that have been mentioned in the past to be the ones contributing to the growth and a rise in revenues for various businesses. In times of Social Distancing and a shutdown of physical services, the digital markets may prove to be game-changers in the near future. Offering products online and promoting through digital marketing will be at the forefront. The quarantine time must be utilized in order to improve existing products and increase the customer base of companies. Byju’s, India’s famous online learning platform is leading by example in this front by offering its application essentials and courses for free. This will help them expand their brand in the coming years and create a customer base. Cult Fit, a Bangalore based fitness startup has used technology to create an application helping fitness freaks to workout from home. ONEPLUS, the Chinese Smartphone brand launched its new flagship, the ONEPLUS 8 in an online event, and created a filter to let smartphone lovers do a virtual unboxing of the device as getting the device physically is not possible at the moment due to restrictions. Decathlon, America’s leading sports and fitness equipment brand started an online campaign, “We’re in this Together” and the hashtag “#PlayItSafe” to appeal to their customers and increase sales of their home workout equipment. These examples show how brands and organizations have realized the importance of this lockdown to expand their base and consolidate their position in the market as they battle out the crisis. The COVID-19 pandemic has led to chaos and panic throughout the working world. But there are huge opportunities for companies to expand and improve in the future. All organizations need to have a designed plan in place to ensure smooth functioning once the lockdown is lifted. Social distancing and hygiene will become key for manufacturing industries. The Travel industry which is currently in its worst state will need to recover fast in order to ensure the safe movement of passengers once borders are reopened across the world. The Service sector will need to move to digital platforms and hype digital marketing. Artificial intelligence will play a key role with a reduction in workforce eminent due to lack of demand. Handling tasks with the help of AI and reducing the need for an employee will improve cost-effectiveness until revenues rise back to normal. E-Learning has evolved over the past few years and its importance has been realized over this quarantine period. All major colleges and schools have transformed into an online program in order to educate students. This change is likely to be carried forward with more and more Educational Institutes switching platforms. E-commerce has also been an integral part of the world and will become even more important in the coming days. As malls and markets are shut and are expected to remain shut, e-commerce websites will benefit from the same. It is also an opportunity for retailers and vendors to create their base online or sell through e-retailers in order to generate revenue. Small vendors and retailers will continue to be an important part of the supply of the essential good to households and improving sanitation in these places will be key. MNCs that have switched to the atmosphere of “Work from Home” will find it easier to connect large groups of people together at all times and ensure all employees contribute to the smooth functioning of the companies in the crucial days up ahead. Entrepreneurial minds will also be encouraged to put forth their idea and create a startup of their own to make the corporate world an improved space in the future. The world is in a state of panic and it is important for all of us to be united in this fight against COVID-19. As employees continue to work from home and make study rooms their cabins, organizations need to adapt to this new style of working and realize its importance for the coming months until a solution is found for this problem. Internet and online services will play an important role in the future. This transition will lead to a better “Digital World” and improve accessibility throughout the globe. STAY SAFE, STAY TOGETHER AND DEVELOP YOUR COMPANY FURTHER! Blackcoffer Insights 17:-Shaurya Srivastava,Delhi College of Arts and Commerce, Delhi University \n",
      " “Stay at Home” “Crisis” “Pandemic” “COVID19” These are just a few terms that come to mind when you wake up every morning and listen to the world mourning With the Coronavirus pandemic hitting almost 210 countries throughout the globe and having no possible cure for the foreseeable future the state of the world is as dismal as it can ever get The “Great Lockdown” as it is being called is having adverse effects on almost everything a common man does but more importantly having a grave impact on the world of work In this article let’s look at what is the current status of the working population throughout the world and what lies ahead in the future 2020 marked the beginning of a new decade and a seemingly difficult one for various organizations across the world The first quarter of 2020 brought with it major issues for the workforce The implementation of lockdowns in various countries such as India Germany Italy China the UK etc has made “Work from Home” a compulsion for everyone except those working for essential goods and services companies The crisis has already led to a worldwide economic slowdown and a period of recession is looming on our heads The International Monetary Fund IMF has predicted a shrink of 3 in the Global GDP indicating the extent of the crisis The severity of the issue is being felt by various big companies in India and other major powers of the world In an interview Anand Mahindra CEO of MM Group said that the manufacturing and production sector has been hit the hardest with the lack of labor force He mentioned the lack of wage workers who help in loading and unloading of material is making transport a major issue for his company also hinting at the importance of these small workers on the macrolevel CEOs and Managers of various organizations are having a hard time dealing with this crisis With almost all MNCs such as PwC BCG Deloitte IBM Infosys etc making “work from home” compulsory till around midMay’20 the importance of technology is at its peak now Whether it’s conducting meetings over Zoom or conference calls over Duo staying at home and working is becoming normal as we move forward Servicebased companies are finding it easier to complete their tasks as compared to Productbased companies According to the IMF the world is going to lose USD 9 Trillion in output in 2020 which is more than the combined output of both Germany and Japan The manufacturing sector is one of the worsthit by the pandemic China the world’s largest exporter of goods and the epicenter of the COVID19 pandemic has seen a significant fall in output in the first two months of 2020 Chinese Industrial Production has fallen by 135 and major manufacturers in China are facing problems relating to the shutdown and lack of workforce Restrictions have affected the supply of Chinese companies like JCB SAIC Nissan to name a few Organizations such as Samsung Kia Hyundai and all other nonessential goods companies have been forced to shut down factories to comply with lockdown norms and for the safety of their employees Indian manufacturing giants such as Bajaj and Tata have taken the toll due to the lockdown measures in India Bajaj has been forced to cut employee salaries by 30 and worker salaries by 10 due to a lack of revenue USbased smartphone and tech giant Apple Inc has shut all its stores worldwide with its factories in China and the USA unable to produce new products for the time being These are just a few examples and production has been hit globally in all countries and there is a lack of demand to compliment this further enhancing the problem faced by producers  The world of work also includes those who are willing and able to work but cannot find a job ie the unemployed The unemployment rate is at a staggering high across all nations affected by the pandemic According to the US Bureau of Labor Statistics the number of people filing for unemployment hit a record high close to 7 million people China reported an unemployment rate of 62 in Jan’20 and figures are expected to get worse in many other countries According to the International Labor Organization more than 25 million workers may go jobless soon due to this crisis and lead to a significant decline in income The financial crisis of 2008 caused a 22 million spike in unemployment worldwide and the nature of the current situation makes it more dangerous The fall in revenues and effects on both supply as well as demand mean that companies are having a hard time maintaining their balance sheet and taking care of their liabilities Lack of job opportunities from the next quarter and salary cuts for existing employees might be the way forward in the corporate world  Amongst all the negative impacts of COVID19 on organizations across the globe there are a few opportunities that are ready to be explored after this crisis Technology and Artificial Intelligence are key aspects that have been mentioned in the past to be the ones contributing to the growth and a rise in revenues for various businesses In times of Social Distancing and a shutdown of physical services the digital markets may prove to be gamechangers in the near future Offering products online and promoting through digital marketing will be at the forefront The quarantine time must be utilized in order to improve existing products and increase the customer base of companies Byju’s India’s famous online learning platform is leading by example in this front by offering its application essentials and courses for free This will help them expand their brand in the coming years and create a customer base Cult Fit a Bangalore based fitness startup has used technology to create an application helping fitness freaks to workout from home ONEPLUS the Chinese Smartphone brand launched its new flagship the ONEPLUS 8 in an online event and created a filter to let smartphone lovers do a virtual unboxing of the device as getting the device physically is not possible at the moment due to restrictions Decathlon America’s leading sports and fitness equipment brand started an online campaign “We’re in this Together” and the hashtag “PlayItSafe” to appeal to their customers and increase sales of their home workout equipment These examples show how brands and organizations have realized the importance of this lockdown to expand their base and consolidate their position in the market as they battle out the crisis The COVID19 pandemic has led to chaos and panic throughout the working world But there are huge opportunities for companies to expand and improve in the future All organizations need to have a designed plan in place to ensure smooth functioning once the lockdown is lifted Social distancing and hygiene will become key for manufacturing industries The Travel industry which is currently in its worst state will need to recover fast in order to ensure the safe movement of passengers once borders are reopened across the world The Service sector will need to move to digital platforms and hype digital marketing Artificial intelligence will play a key role with a reduction in workforce eminent due to lack of demand Handling tasks with the help of AI and reducing the need for an employee will improve costeffectiveness until revenues rise back to normal ELearning has evolved over the past few years and its importance has been realized over this quarantine period All major colleges and schools have transformed into an online program in order to educate students This change is likely to be carried forward with more and more Educational Institutes switching platforms Ecommerce has also been an integral part of the world and will become even more important in the coming days As malls and markets are shut and are expected to remain shut ecommerce websites will benefit from the same It is also an opportunity for retailers and vendors to create their base online or sell through eretailers in order to generate revenue Small vendors and retailers will continue to be an important part of the supply of the essential good to households and improving sanitation in these places will be key MNCs that have switched to the atmosphere of “Work from Home” will find it easier to connect large groups of people together at all times and ensure all employees contribute to the smooth functioning of the companies in the crucial days up ahead Entrepreneurial minds will also be encouraged to put forth their idea and create a startup of their own to make the corporate world an improved space in the future The world is in a state of panic and it is important for all of us to be united in this fight against COVID19 As employees continue to work from home and make study rooms their cabins organizations need to adapt to this new style of working and realize its importance for the coming months until a solution is found for this problem Internet and online services will play an important role in the future This transition will lead to a better “Digital World” and improve accessibility throughout the globe STAY SAFE STAY TOGETHER AND DEVELOP YOUR COMPANY FURTHER Blackcoffer Insights 17Shaurya SrivastavaDelhi College of Arts and Commerce Delhi University \n",
      "['“Stay', 'at', 'Home”', '“Crisis”', '“Pandemic”', '“COVID19”', 'These', 'are', 'just', 'a', 'few', 'terms', 'that', 'come', 'to', 'mind', 'when', 'you', 'wake', 'up', 'every', 'morning', 'and', 'listen', 'to', 'the', 'world', 'mourning', 'With', 'the', 'Coronavirus', 'pandemic', 'hitting', 'almost', '210', 'countries', 'throughout', 'the', 'globe', 'and', 'having', 'no', 'possible', 'cure', 'for', 'the', 'foreseeable', 'future', 'the', 'state', 'of', 'the', 'world', 'is', 'as', 'dismal', 'as', 'it', 'can', 'ever', 'get', 'The', '“Great', 'Lockdown”', 'as', 'it', 'is', 'being', 'called', 'is', 'having', 'adverse', 'effects', 'on', 'almost', 'everything', 'a', 'common', 'man', 'does', 'but', 'more', 'importantly', 'having', 'a', 'grave', 'impact', 'on', 'the', 'world', 'of', 'work', 'In', 'this', 'article', 'let’s', 'look', 'at', 'what', 'is', 'the', 'current', 'status', 'of', 'the', 'working', 'population', 'throughout', 'the', 'world', 'and', 'what', 'lies', 'ahead', 'in', 'the', 'future', '2020', 'marked', 'the', 'beginning', 'of', 'a', 'new', 'decade', 'and', 'a', 'seemingly', 'difficult', 'one', 'for', 'various', 'organizations', 'across', 'the', 'world', 'The', 'first', 'quarter', 'of', '2020', 'brought', 'with', 'it', 'major', 'issues', 'for', 'the', 'workforce', 'The', 'implementation', 'of', 'lockdowns', 'in', 'various', 'countries', 'such', 'as', 'India', 'Germany', 'Italy', 'China', 'the', 'UK', 'etc', 'has', 'made', '“Work', 'from', 'Home”', 'a', 'compulsion', 'for', 'everyone', 'except', 'those', 'working', 'for', 'essential', 'goods', 'and', 'services', 'companies', 'The', 'crisis', 'has', 'already', 'led', 'to', 'a', 'worldwide', 'economic', 'slowdown', 'and', 'a', 'period', 'of', 'recession', 'is', 'looming', 'on', 'our', 'heads', 'The', 'International', 'Monetary', 'Fund', 'IMF', 'has', 'predicted', 'a', 'shrink', 'of', '3', 'in', 'the', 'Global', 'GDP', 'indicating', 'the', 'extent', 'of', 'the', 'crisis', 'The', 'severity', 'of', 'the', 'issue', 'is', 'being', 'felt', 'by', 'various', 'big', 'companies', 'in', 'India', 'and', 'other', 'major', 'powers', 'of', 'the', 'world', 'In', 'an', 'interview', 'Anand', 'Mahindra', 'CEO', 'of', 'MM', 'Group', 'said', 'that', 'the', 'manufacturing', 'and', 'production', 'sector', 'has', 'been', 'hit', 'the', 'hardest', 'with', 'the', 'lack', 'of', 'labor', 'force', 'He', 'mentioned', 'the', 'lack', 'of', 'wage', 'workers', 'who', 'help', 'in', 'loading', 'and', 'unloading', 'of', 'material', 'is', 'making', 'transport', 'a', 'major', 'issue', 'for', 'his', 'company', 'also', 'hinting', 'at', 'the', 'importance', 'of', 'these', 'small', 'workers', 'on', 'the', 'macrolevel', 'CEOs', 'and', 'Managers', 'of', 'various', 'organizations', 'are', 'having', 'a', 'hard', 'time', 'dealing', 'with', 'this', 'crisis', 'With', 'almost', 'all', 'MNCs', 'such', 'as', 'PwC', 'BCG', 'Deloitte', 'IBM', 'Infosys', 'etc', 'making', '“work', 'from', 'home”', 'compulsory', 'till', 'around', 'midMay’20', 'the', 'importance', 'of', 'technology', 'is', 'at', 'its', 'peak', 'now', 'Whether', 'it’s', 'conducting', 'meetings', 'over', 'Zoom', 'or', 'conference', 'calls', 'over', 'Duo', 'staying', 'at', 'home', 'and', 'working', 'is', 'becoming', 'normal', 'as', 'we', 'move', 'forward', 'Servicebased', 'companies', 'are', 'finding', 'it', 'easier', 'to', 'complete', 'their', 'tasks', 'as', 'compared', 'to', 'Productbased', 'companies', 'According', 'to', 'the', 'IMF', 'the', 'world', 'is', 'going', 'to', 'lose', 'USD', '9', 'Trillion', 'in', 'output', 'in', '2020', 'which', 'is', 'more', 'than', 'the', 'combined', 'output', 'of', 'both', 'Germany', 'and', 'Japan', 'The', 'manufacturing', 'sector', 'is', 'one', 'of', 'the', 'worsthit', 'by', 'the', 'pandemic', 'China', 'the', 'world’s', 'largest', 'exporter', 'of', 'goods', 'and', 'the', 'epicenter', 'of', 'the', 'COVID19', 'pandemic', 'has', 'seen', 'a', 'significant', 'fall', 'in', 'output', 'in', 'the', 'first', 'two', 'months', 'of', '2020', 'Chinese', 'Industrial', 'Production', 'has', 'fallen', 'by', '135', 'and', 'major', 'manufacturers', 'in', 'China', 'are', 'facing', 'problems', 'relating', 'to', 'the', 'shutdown', 'and', 'lack', 'of', 'workforce', 'Restrictions', 'have', 'affected', 'the', 'supply', 'of', 'Chinese', 'companies', 'like', 'JCB', 'SAIC', 'Nissan', 'to', 'name', 'a', 'few', 'Organizations', 'such', 'as', 'Samsung', 'Kia', 'Hyundai', 'and', 'all', 'other', 'nonessential', 'goods', 'companies', 'have', 'been', 'forced', 'to', 'shut', 'down', 'factories', 'to', 'comply', 'with', 'lockdown', 'norms', 'and', 'for', 'the', 'safety', 'of', 'their', 'employees', 'Indian', 'manufacturing', 'giants', 'such', 'as', 'Bajaj', 'and', 'Tata', 'have', 'taken', 'the', 'toll', 'due', 'to', 'the', 'lockdown', 'measures', 'in', 'India', 'Bajaj', 'has', 'been', 'forced', 'to', 'cut', 'employee', 'salaries', 'by', '30', 'and', 'worker', 'salaries', 'by', '10', 'due', 'to', 'a', 'lack', 'of', 'revenue', 'USbased', 'smartphone', 'and', 'tech', 'giant', 'Apple', 'Inc', 'has', 'shut', 'all', 'its', 'stores', 'worldwide', 'with', 'its', 'factories', 'in', 'China', 'and', 'the', 'USA', 'unable', 'to', 'produce', 'new', 'products', 'for', 'the', 'time', 'being', 'These', 'are', 'just', 'a', 'few', 'examples', 'and', 'production', 'has', 'been', 'hit', 'globally', 'in', 'all', 'countries', 'and', 'there', 'is', 'a', 'lack', 'of', 'demand', 'to', 'compliment', 'this', 'further', 'enhancing', 'the', 'problem', 'faced', 'by', 'producers', 'The', 'world', 'of', 'work', 'also', 'includes', 'those', 'who', 'are', 'willing', 'and', 'able', 'to', 'work', 'but', 'cannot', 'find', 'a', 'job', 'ie', 'the', 'unemployed', 'The', 'unemployment', 'rate', 'is', 'at', 'a', 'staggering', 'high', 'across', 'all', 'nations', 'affected', 'by', 'the', 'pandemic', 'According', 'to', 'the', 'US', 'Bureau', 'of', 'Labor', 'Statistics', 'the', 'number', 'of', 'people', 'filing', 'for', 'unemployment', 'hit', 'a', 'record', 'high', 'close', 'to', '7', 'million', 'people', 'China', 'reported', 'an', 'unemployment', 'rate', 'of', '62', 'in', 'Jan’20', 'and', 'figures', 'are', 'expected', 'to', 'get', 'worse', 'in', 'many', 'other', 'countries', 'According', 'to', 'the', 'International', 'Labor', 'Organization', 'more', 'than', '25', 'million', 'workers', 'may', 'go', 'jobless', 'soon', 'due', 'to', 'this', 'crisis', 'and', 'lead', 'to', 'a', 'significant', 'decline', 'in', 'income', 'The', 'financial', 'crisis', 'of', '2008', 'caused', 'a', '22', 'million', 'spike', 'in', 'unemployment', 'worldwide', 'and', 'the', 'nature', 'of', 'the', 'current', 'situation', 'makes', 'it', 'more', 'dangerous', 'The', 'fall', 'in', 'revenues', 'and', 'effects', 'on', 'both', 'supply', 'as', 'well', 'as', 'demand', 'mean', 'that', 'companies', 'are', 'having', 'a', 'hard', 'time', 'maintaining', 'their', 'balance', 'sheet', 'and', 'taking', 'care', 'of', 'their', 'liabilities', 'Lack', 'of', 'job', 'opportunities', 'from', 'the', 'next', 'quarter', 'and', 'salary', 'cuts', 'for', 'existing', 'employees', 'might', 'be', 'the', 'way', 'forward', 'in', 'the', 'corporate', 'world', 'Amongst', 'all', 'the', 'negative', 'impacts', 'of', 'COVID19', 'on', 'organizations', 'across', 'the', 'globe', 'there', 'are', 'a', 'few', 'opportunities', 'that', 'are', 'ready', 'to', 'be', 'explored', 'after', 'this', 'crisis', 'Technology', 'and', 'Artificial', 'Intelligence', 'are', 'key', 'aspects', 'that', 'have', 'been', 'mentioned', 'in', 'the', 'past', 'to', 'be', 'the', 'ones', 'contributing', 'to', 'the', 'growth', 'and', 'a', 'rise', 'in', 'revenues', 'for', 'various', 'businesses', 'In', 'times', 'of', 'Social', 'Distancing', 'and', 'a', 'shutdown', 'of', 'physical', 'services', 'the', 'digital', 'markets', 'may', 'prove', 'to', 'be', 'gamechangers', 'in', 'the', 'near', 'future', 'Offering', 'products', 'online', 'and', 'promoting', 'through', 'digital', 'marketing', 'will', 'be', 'at', 'the', 'forefront', 'The', 'quarantine', 'time', 'must', 'be', 'utilized', 'in', 'order', 'to', 'improve', 'existing', 'products', 'and', 'increase', 'the', 'customer', 'base', 'of', 'companies', 'Byju’s', 'India’s', 'famous', 'online', 'learning', 'platform', 'is', 'leading', 'by', 'example', 'in', 'this', 'front', 'by', 'offering', 'its', 'application', 'essentials', 'and', 'courses', 'for', 'free', 'This', 'will', 'help', 'them', 'expand', 'their', 'brand', 'in', 'the', 'coming', 'years', 'and', 'create', 'a', 'customer', 'base', 'Cult', 'Fit', 'a', 'Bangalore', 'based', 'fitness', 'startup', 'has', 'used', 'technology', 'to', 'create', 'an', 'application', 'helping', 'fitness', 'freaks', 'to', 'workout', 'from', 'home', 'ONEPLUS', 'the', 'Chinese', 'Smartphone', 'brand', 'launched', 'its', 'new', 'flagship', 'the', 'ONEPLUS', '8', 'in', 'an', 'online', 'event', 'and', 'created', 'a', 'filter', 'to', 'let', 'smartphone', 'lovers', 'do', 'a', 'virtual', 'unboxing', 'of', 'the', 'device', 'as', 'getting', 'the', 'device', 'physically', 'is', 'not', 'possible', 'at', 'the', 'moment', 'due', 'to', 'restrictions', 'Decathlon', 'America’s', 'leading', 'sports', 'and', 'fitness', 'equipment', 'brand', 'started', 'an', 'online', 'campaign', '“We’re', 'in', 'this', 'Together”', 'and', 'the', 'hashtag', '“PlayItSafe”', 'to', 'appeal', 'to', 'their', 'customers', 'and', 'increase', 'sales', 'of', 'their', 'home', 'workout', 'equipment', 'These', 'examples', 'show', 'how', 'brands', 'and', 'organizations', 'have', 'realized', 'the', 'importance', 'of', 'this', 'lockdown', 'to', 'expand', 'their', 'base', 'and', 'consolidate', 'their', 'position', 'in', 'the', 'market', 'as', 'they', 'battle', 'out', 'the', 'crisis', 'The', 'COVID19', 'pandemic', 'has', 'led', 'to', 'chaos', 'and', 'panic', 'throughout', 'the', 'working', 'world', 'But', 'there', 'are', 'huge', 'opportunities', 'for', 'companies', 'to', 'expand', 'and', 'improve', 'in', 'the', 'future', 'All', 'organizations', 'need', 'to', 'have', 'a', 'designed', 'plan', 'in', 'place', 'to', 'ensure', 'smooth', 'functioning', 'once', 'the', 'lockdown', 'is', 'lifted', 'Social', 'distancing', 'and', 'hygiene', 'will', 'become', 'key', 'for', 'manufacturing', 'industries', 'The', 'Travel', 'industry', 'which', 'is', 'currently', 'in', 'its', 'worst', 'state', 'will', 'need', 'to', 'recover', 'fast', 'in', 'order', 'to', 'ensure', 'the', 'safe', 'movement', 'of', 'passengers', 'once', 'borders', 'are', 'reopened', 'across', 'the', 'world', 'The', 'Service', 'sector', 'will', 'need', 'to', 'move', 'to', 'digital', 'platforms', 'and', 'hype', 'digital', 'marketing', 'Artificial', 'intelligence', 'will', 'play', 'a', 'key', 'role', 'with', 'a', 'reduction', 'in', 'workforce', 'eminent', 'due', 'to', 'lack', 'of', 'demand', 'Handling', 'tasks', 'with', 'the', 'help', 'of', 'AI', 'and', 'reducing', 'the', 'need', 'for', 'an', 'employee', 'will', 'improve', 'costeffectiveness', 'until', 'revenues', 'rise', 'back', 'to', 'normal', 'ELearning', 'has', 'evolved', 'over', 'the', 'past', 'few', 'years', 'and', 'its', 'importance', 'has', 'been', 'realized', 'over', 'this', 'quarantine', 'period', 'All', 'major', 'colleges', 'and', 'schools', 'have', 'transformed', 'into', 'an', 'online', 'program', 'in', 'order', 'to', 'educate', 'students', 'This', 'change', 'is', 'likely', 'to', 'be', 'carried', 'forward', 'with', 'more', 'and', 'more', 'Educational', 'Institutes', 'switching', 'platforms', 'Ecommerce', 'has', 'also', 'been', 'an', 'integral', 'part', 'of', 'the', 'world', 'and', 'will', 'become', 'even', 'more', 'important', 'in', 'the', 'coming', 'days', 'As', 'malls', 'and', 'markets', 'are', 'shut', 'and', 'are', 'expected', 'to', 'remain', 'shut', 'ecommerce', 'websites', 'will', 'benefit', 'from', 'the', 'same', 'It', 'is', 'also', 'an', 'opportunity', 'for', 'retailers', 'and', 'vendors', 'to', 'create', 'their', 'base', 'online', 'or', 'sell', 'through', 'eretailers', 'in', 'order', 'to', 'generate', 'revenue', 'Small', 'vendors', 'and', 'retailers', 'will', 'continue', 'to', 'be', 'an', 'important', 'part', 'of', 'the', 'supply', 'of', 'the', 'essential', 'good', 'to', 'households', 'and', 'improving', 'sanitation', 'in', 'these', 'places', 'will', 'be', 'key', 'MNCs', 'that', 'have', 'switched', 'to', 'the', 'atmosphere', 'of', '“Work', 'from', 'Home”', 'will', 'find', 'it', 'easier', 'to', 'connect', 'large', 'groups', 'of', 'people', 'together', 'at', 'all', 'times', 'and', 'ensure', 'all', 'employees', 'contribute', 'to', 'the', 'smooth', 'functioning', 'of', 'the', 'companies', 'in', 'the', 'crucial', 'days', 'up', 'ahead', 'Entrepreneurial', 'minds', 'will', 'also', 'be', 'encouraged', 'to', 'put', 'forth', 'their', 'idea', 'and', 'create', 'a', 'startup', 'of', 'their', 'own', 'to', 'make', 'the', 'corporate', 'world', 'an', 'improved', 'space', 'in', 'the', 'future', 'The', 'world', 'is', 'in', 'a', 'state', 'of', 'panic', 'and', 'it', 'is', 'important', 'for', 'all', 'of', 'us', 'to', 'be', 'united', 'in', 'this', 'fight', 'against', 'COVID19', 'As', 'employees', 'continue', 'to', 'work', 'from', 'home', 'and', 'make', 'study', 'rooms', 'their', 'cabins', 'organizations', 'need', 'to', 'adapt', 'to', 'this', 'new', 'style', 'of', 'working', 'and', 'realize', 'its', 'importance', 'for', 'the', 'coming', 'months', 'until', 'a', 'solution', 'is', 'found', 'for', 'this', 'problem', 'Internet', 'and', 'online', 'services', 'will', 'play', 'an', 'important', 'role', 'in', 'the', 'future', 'This', 'transition', 'will', 'lead', 'to', 'a', 'better', '“Digital', 'World”', 'and', 'improve', 'accessibility', 'throughout', 'the', 'globe', 'STAY', 'SAFE', 'STAY', 'TOGETHER', 'AND', 'DEVELOP', 'YOUR', 'COMPANY', 'FURTHER', 'Blackcoffer', 'Insights', '17Shaurya', 'SrivastavaDelhi', 'College', 'of', 'Arts', 'and', 'Commerce', 'Delhi', 'University']\n"
     ]
    }
   ],
   "source": [
    "content=soup.findAll(attrs={'class':'td-post-content'})\n",
    "content=content[0].text.replace('\\n',\" \")\n",
    "print(content)\n",
    "#Punctuation\n",
    "content = content.translate(str.maketrans('', '', string.punctuation)) \n",
    "print(content)\n",
    "text = content.split()\n",
    "print(text)\n"
   ]
  },
  {
   "cell_type": "code",
   "execution_count": 3,
   "id": "f17a90ae",
   "metadata": {},
   "outputs": [
    {
     "data": {
      "text/plain": [
       "1560"
      ]
     },
     "execution_count": 3,
     "metadata": {},
     "output_type": "execute_result"
    }
   ],
   "source": [
    "len(text)"
   ]
  },
  {
   "cell_type": "code",
   "execution_count": 4,
   "id": "2dce1c1a",
   "metadata": {},
   "outputs": [
    {
     "name": "stdout",
     "output_type": "stream",
     "text": [
      "45\n"
     ]
    }
   ],
   "source": [
    "#Positive Score \n",
    "with open(r\"C:\\Users\\Om Bhandwalkar\\Desktop\\pos\\positive-words.txt\") as pos:\n",
    "    poswords = pos.read().split(\"\\n\")  \n",
    "    poswords = poswords[5:]\n",
    "pos_count = \" \".join ([w for w in text if w in poswords])\n",
    "pos_count=pos_count.split(\" \")\n",
    "Positive_score=len(pos_count)\n",
    "print(Positive_score)"
   ]
  },
  {
   "cell_type": "code",
   "execution_count": 5,
   "id": "c1523a70",
   "metadata": {},
   "outputs": [
    {
     "name": "stdout",
     "output_type": "stream",
     "text": [
      "46\n"
     ]
    }
   ],
   "source": [
    "#Negative Score\n",
    "with open(r\"C:\\Users\\Om Bhandwalkar\\Desktop\\pos\\negative-words.txt\",encoding =\"ISO-8859-1\") as neg:\n",
    "    negwords = neg.read().split(\"\\n\")\n",
    "    \n",
    "negwords = negwords[36:]\n",
    "neg_count = \" \".join ([w for w in text if w in negwords])\n",
    "neg_count=neg_count.split(\" \")\n",
    "Negative_score=len(neg_count)\n",
    "print(Negative_score)"
   ]
  },
  {
   "cell_type": "code",
   "execution_count": 6,
   "id": "c8d2dc58",
   "metadata": {},
   "outputs": [
    {
     "data": {
      "text/html": [
       "<div>\n",
       "<style scoped>\n",
       "    .dataframe tbody tr th:only-of-type {\n",
       "        vertical-align: middle;\n",
       "    }\n",
       "\n",
       "    .dataframe tbody tr th {\n",
       "        vertical-align: top;\n",
       "    }\n",
       "\n",
       "    .dataframe thead th {\n",
       "        text-align: right;\n",
       "    }\n",
       "</style>\n",
       "<table border=\"1\" class=\"dataframe\">\n",
       "  <thead>\n",
       "    <tr style=\"text-align: right;\">\n",
       "      <th></th>\n",
       "      <th>url</th>\n",
       "      <th>title</th>\n",
       "      <th>content</th>\n",
       "      <th>filter_content</th>\n",
       "      <th>Positive_Score</th>\n",
       "      <th>Negative_Score</th>\n",
       "      <th>polarity</th>\n",
       "      <th>subjectivity</th>\n",
       "    </tr>\n",
       "  </thead>\n",
       "  <tbody>\n",
       "    <tr>\n",
       "      <th>0</th>\n",
       "      <td>https://insights.blackcoffer.com/estimating-th...</td>\n",
       "      <td>Estimating the impact of COVID-19 on the world...</td>\n",
       "      <td>“Stay at Home” “Crisis” “Pandemic” “COVID19” ...</td>\n",
       "      <td>“Stay at Home” “Crisis” “Pandemic” “COVID19” T...</td>\n",
       "      <td>45</td>\n",
       "      <td>46</td>\n",
       "      <td>0.031997</td>\n",
       "      <td>0.473468</td>\n",
       "    </tr>\n",
       "  </tbody>\n",
       "</table>\n",
       "</div>"
      ],
      "text/plain": [
       "                                                 url  \\\n",
       "0  https://insights.blackcoffer.com/estimating-th...   \n",
       "\n",
       "                                               title  \\\n",
       "0  Estimating the impact of COVID-19 on the world...   \n",
       "\n",
       "                                             content  \\\n",
       "0   “Stay at Home” “Crisis” “Pandemic” “COVID19” ...   \n",
       "\n",
       "                                      filter_content  Positive_Score  \\\n",
       "0  “Stay at Home” “Crisis” “Pandemic” “COVID19” T...              45   \n",
       "\n",
       "   Negative_Score  polarity  subjectivity  \n",
       "0              46  0.031997      0.473468  "
      ]
     },
     "execution_count": 6,
     "metadata": {},
     "output_type": "execute_result"
    }
   ],
   "source": [
    "filter_content = ' '.join(text)\n",
    "data=[[url,title,content,filter_content,Positive_score,Negative_score]]\n",
    "data=pd.DataFrame(data,columns=[\"url\",\"title\",\"content\",\"filter_content\",\"Positive_Score\",\"Negative_Score\"])\n",
    "from textblob import TextBlob\n",
    "# Get The Subjectivity\n",
    "def sentiment_analysis(data):\n",
    "    sentiment = TextBlob(data[\"content\"]).sentiment\n",
    "    return pd.Series([sentiment.polarity,sentiment.subjectivity ])\n",
    "\n",
    "# Adding Subjectivity & Polarity\n",
    "data[[\"polarity\", \"subjectivity\"]] = data.apply(sentiment_analysis, axis=1)\n",
    "\n",
    "data"
   ]
  },
  {
   "cell_type": "code",
   "execution_count": 7,
   "id": "0dece493",
   "metadata": {},
   "outputs": [
    {
     "name": "stdout",
     "output_type": "stream",
     "text": [
      "Word average = 7605.0\n",
      "FOG INDEX =  627.23\n",
      "Average no of words per sentence\n",
      "1560.0\n",
      "Complex Words 2663\n"
     ]
    }
   ],
   "source": [
    "#AVG SENTENCE LENGTH\n",
    "AVG_SENTENCE_LENGTH = len(content.replace(' ',''))/len(re.split(r'[?!.]', content))\n",
    "print('Word average =', AVG_SENTENCE_LENGTH)\n",
    "import textstat\n",
    "#Fog index \n",
    "FOG_INDEX=(textstat.gunning_fog(content))\n",
    "print(\"FOG INDEX = \",FOG_INDEX)\n",
    "#Average No of Words Per Sentence \n",
    "AVG_NUMBER_OF_WORDS_PER_SENTENCE = [len(l.split()) for l in re.split(r'[?!.]', content) if l.strip()]\n",
    "print(\"Average no of words per sentence\")\n",
    "AVG_NUMBER_OF_WORDS_PER_SENTENCE=print(sum(AVG_NUMBER_OF_WORDS_PER_SENTENCE)/len(AVG_NUMBER_OF_WORDS_PER_SENTENCE))\n",
    "#Complex words\n",
    "def syllable_count(word):\n",
    "    count = 0\n",
    "    vowels = \"AEIOUYaeiouy\"\n",
    "    if word[0] in vowels:\n",
    "        count += 1\n",
    "    for index in range(1, len(word)): \n",
    "        if word[index] in vowels and word[index - 1] not in vowels:\n",
    "            count += 1\n",
    "            if word.endswith(\"es\"or \"ed\"):\n",
    "                count -= 1\n",
    "    if count == 0:\n",
    "        count += 1\n",
    "    return count\n",
    "\n",
    "\n",
    "\n",
    "COMPLEX_WORDS=syllable_count(content)\n",
    "print(\"Complex Words\",COMPLEX_WORDS)\n"
   ]
  },
  {
   "cell_type": "code",
   "execution_count": 8,
   "id": "9d20bd02",
   "metadata": {},
   "outputs": [
    {
     "name": "stdout",
     "output_type": "stream",
     "text": [
      "Word Count 9167\n",
      "Percentage of Complex Words 29.049852732627908\n",
      "Average Word per Length 4.875\n",
      "The AVG number of syllables in the word is: \n",
      "1.912820512820513\n",
      "Word Count 9167\n",
      "Percentage of Complex Words 29.049852732627908\n",
      "Average Word per Length 4.875\n",
      "The AVG number of syllables in the word is: \n",
      "1.912820512820513\n"
     ]
    }
   ],
   "source": [
    "#Word Count\n",
    "Word_Count=len(content)\n",
    "print(\"Word Count\",Word_Count)\n",
    "#Percentage Complex Words\n",
    "pcw=(COMPLEX_WORDS/Word_Count)*100\n",
    "print(\"Percentage of Complex Words\",pcw)\n",
    "#Average Word Length\n",
    "Average_Word_Length=len(content.replace(' ',''))/len(content.split())\n",
    "print(\"Average Word per Length\",Average_Word_Length)\n",
    "#Syllable Count Per Word\n",
    "word=content.replace(' ','')\n",
    "syllable_count=0\n",
    "for w in word:\n",
    "      if(w=='a' or w=='e' or w=='i' or w=='o' or w=='y' or w=='u' or w=='A' or w=='E' or w=='I' or w=='O' or w=='U' or w=='Y'):\n",
    "            syllable_count=syllable_count+1\n",
    "print(\"The AVG number of syllables in the word is: \")\n",
    "print(syllable_count/len(content.split()))#Word Count\n",
    "Word_Count=len(content)\n",
    "print(\"Word Count\",Word_Count)\n",
    "#Percentage Complex Words\n",
    "pcw=(COMPLEX_WORDS/Word_Count)*100\n",
    "print(\"Percentage of Complex Words\",pcw)\n",
    "#Average Word Length\n",
    "Average_Word_Length=len(content.replace(' ',''))/len(content.split())\n",
    "print(\"Average Word per Length\",Average_Word_Length)\n",
    "#Syllable Count Per Word\n",
    "word=content.replace(' ','')\n",
    "syllable_count=0\n",
    "for w in word:\n",
    "      if(w=='a' or w=='e' or w=='i' or w=='o' or w=='y' or w=='u' or w=='A' or w=='E' or w=='I' or w=='O' or w=='U' or w=='Y'):\n",
    "            syllable_count=syllable_count+1\n",
    "print(\"The AVG number of syllables in the word is: \")\n",
    "print(syllable_count/len(content.split()))"
   ]
  },
  {
   "cell_type": "code",
   "execution_count": 1,
   "id": "46722a52",
   "metadata": {},
   "outputs": [
    {
     "name": "stdout",
     "output_type": "stream",
     "text": [
      "45\n",
      "46\n",
      "Word average = 7605.0\n",
      "FOG INDEX =  627.23\n",
      "Average no of words per sentence\n",
      "1560.0\n",
      "Complex Words 2663\n",
      "Word Count 9168\n",
      "Percentage of Complex Words 29.04668411867365\n",
      "Average Word per Length 4.875\n",
      "The AVG number of syllables in the word is: \n",
      "1.912820512820513\n"
     ]
    },
    {
     "data": {
      "text/html": [
       "<div>\n",
       "<style scoped>\n",
       "    .dataframe tbody tr th:only-of-type {\n",
       "        vertical-align: middle;\n",
       "    }\n",
       "\n",
       "    .dataframe tbody tr th {\n",
       "        vertical-align: top;\n",
       "    }\n",
       "\n",
       "    .dataframe thead th {\n",
       "        text-align: right;\n",
       "    }\n",
       "</style>\n",
       "<table border=\"1\" class=\"dataframe\">\n",
       "  <thead>\n",
       "    <tr style=\"text-align: right;\">\n",
       "      <th></th>\n",
       "      <th>url</th>\n",
       "      <th>title</th>\n",
       "      <th>content</th>\n",
       "      <th>filter_content</th>\n",
       "      <th>Positive_Score</th>\n",
       "      <th>Negative_Score</th>\n",
       "      <th>Avg_Sentence_Length</th>\n",
       "      <th>Percentage_Complex_Word</th>\n",
       "      <th>Fog_Index</th>\n",
       "      <th>AVG_NUMBER_OF_WORDS_PER_SENTENCE</th>\n",
       "      <th>COMPLEX_WORDS</th>\n",
       "      <th>Word_Count</th>\n",
       "      <th>syllable</th>\n",
       "      <th>Average_Word_Length</th>\n",
       "      <th>polarity</th>\n",
       "      <th>subjectivity</th>\n",
       "    </tr>\n",
       "  </thead>\n",
       "  <tbody>\n",
       "    <tr>\n",
       "      <th>0</th>\n",
       "      <td>https://insights.blackcoffer.com/estimating-th...</td>\n",
       "      <td>Estimating the impact of COVID-19 on the world...</td>\n",
       "      <td>“Stay at Home” “Crisis” “Pandemic” “COVID19”...</td>\n",
       "      <td>“Stay at Home” “Crisis” “Pandemic” “COVID19” T...</td>\n",
       "      <td>45</td>\n",
       "      <td>46</td>\n",
       "      <td>7605.0</td>\n",
       "      <td>29.046684</td>\n",
       "      <td>627.23</td>\n",
       "      <td>1560.0</td>\n",
       "      <td>2663</td>\n",
       "      <td>9168</td>\n",
       "      <td>1.912821</td>\n",
       "      <td>4.875</td>\n",
       "      <td>0.031997</td>\n",
       "      <td>0.473468</td>\n",
       "    </tr>\n",
       "  </tbody>\n",
       "</table>\n",
       "</div>"
      ],
      "text/plain": [
       "                                                 url  \\\n",
       "0  https://insights.blackcoffer.com/estimating-th...   \n",
       "\n",
       "                                               title  \\\n",
       "0  Estimating the impact of COVID-19 on the world...   \n",
       "\n",
       "                                             content  \\\n",
       "0    “Stay at Home” “Crisis” “Pandemic” “COVID19”...   \n",
       "\n",
       "                                      filter_content  Positive_Score  \\\n",
       "0  “Stay at Home” “Crisis” “Pandemic” “COVID19” T...              45   \n",
       "\n",
       "   Negative_Score  Avg_Sentence_Length  Percentage_Complex_Word  Fog_Index  \\\n",
       "0              46               7605.0                29.046684     627.23   \n",
       "\n",
       "    AVG_NUMBER_OF_WORDS_PER_SENTENCE  COMPLEX_WORDS  Word_Count  syllable  \\\n",
       "0                             1560.0           2663        9168  1.912821   \n",
       "\n",
       "   Average_Word_Length  polarity  subjectivity  \n",
       "0                4.875  0.031997      0.473468  "
      ]
     },
     "execution_count": 1,
     "metadata": {},
     "output_type": "execute_result"
    }
   ],
   "source": [
    "import requests\n",
    "import pandas as pd \n",
    "from bs4 import BeautifulSoup\n",
    "import string\n",
    "import spacy\n",
    "import re\n",
    "url = \"\"\"https://insights.blackcoffer.com/estimating-the-impact-of-covid-19-on-the-world-of-work/\"\"\"\n",
    "headers = {\"User-Agent\": \"Mozilla/5.0 (X11; Linux x86_64; rv:60.0) Gecko/20100101 Firefox/60.0\"}\n",
    "page = requests.get(url, headers=headers)\n",
    "soup = BeautifulSoup(page.content, 'html.parser')\n",
    "soup=BeautifulSoup(page.content, 'html.parser')\n",
    "title=soup.find('h1',class_=\"entry-title\")\n",
    "title=title.text.replace('\\n',\" \")\n",
    "# title\n",
    "\n",
    "content=soup.findAll(attrs={'class':'td-post-content'})\n",
    "content=content[0].text.replace('\\n',\" \")\n",
    "# print(content)\n",
    "#Punctuation\n",
    "content = content.translate(str.maketrans('', '', string.punctuation)) \n",
    "# print(content)\n",
    "text = content.split()\n",
    "# print(text)\n",
    "len(text)\n",
    "#Positive Score \n",
    "with open(r\"C:\\Users\\Om Bhandwalkar\\Desktop\\pos\\positive-words.txt\") as pos:\n",
    "    poswords = pos.read().split(\"\\n\")  \n",
    "    poswords = poswords[5:]\n",
    "pos_count = \" \".join ([w for w in text if w in poswords])\n",
    "pos_count=pos_count.split(\" \")\n",
    "Positive_score=len(pos_count)\n",
    "print(Positive_score)\n",
    "\n",
    "#Negative Score\n",
    "with open(r\"C:\\Users\\Om Bhandwalkar\\Desktop\\pos\\negative-words.txt\",encoding =\"ISO-8859-1\") as neg:\n",
    "    negwords = neg.read().split(\"\\n\")\n",
    "    \n",
    "negwords = negwords[36:]\n",
    "neg_count = \" \".join ([w for w in text if w in negwords])\n",
    "neg_count=neg_count.split(\" \")\n",
    "Negative_score=len(neg_count)\n",
    "print(Negative_score)\n",
    "\n",
    "\n",
    "filter_content = ' '.join(text)\n",
    "data=[[url,title,content,filter_content,Positive_score,Negative_score]]\n",
    "data=pd.DataFrame(data,columns=[\"url\",\"title\",\"content\",\"filter_content\",\"Positive_Score\",\"Negative_Score\"])\n",
    "from textblob import TextBlob\n",
    "# Get The Subjectivity\n",
    "def sentiment_analysis(data):\n",
    "    sentiment = TextBlob(data[\"content\"]).sentiment\n",
    "    return pd.Series([sentiment.polarity,sentiment.subjectivity ])\n",
    "data[[\"polarity\", \"subjectivity\"]] = data.apply(sentiment_analysis, axis=1)\n",
    "data\n",
    "#AVG SENTENCE LENGTH\n",
    "AVG_SENTENCE_LENGTH = len(content.replace(' ',''))/len(re.split(r'[?!.]', content))\n",
    "print('Word average =', AVG_SENTENCE_LENGTH)\n",
    "import textstat\n",
    "#Fog index \n",
    "FOG_INDEX=(textstat.gunning_fog(content))\n",
    "print(\"FOG INDEX = \",FOG_INDEX)\n",
    "#Average No of Words Per Sentence \n",
    "AVG_NUMBER_OF_WORDS_PER_SENTENCE = [len(l.split()) for l in re.split(r'[?!.]', content) if l.strip()]\n",
    "print(\"Average no of words per sentence\")\n",
    "AVG_NUMBER_OF_WORDS_PER_SENTENCE=(sum(AVG_NUMBER_OF_WORDS_PER_SENTENCE)/len(AVG_NUMBER_OF_WORDS_PER_SENTENCE))\n",
    "print(AVG_NUMBER_OF_WORDS_PER_SENTENCE)\n",
    "#Complex words\n",
    "def syllable_count(word):\n",
    "    count = 0\n",
    "    vowels = \"AEIOUYaeiouy\"\n",
    "    if word[0] in vowels:\n",
    "        count += 1\n",
    "    for index in range(1, len(word)): \n",
    "        if word[index] in vowels and word[index - 1] not in vowels:\n",
    "            count += 1\n",
    "            if word.endswith(\"es\"or \"ed\"):\n",
    "                count -= 1\n",
    "    if count == 0:\n",
    "        count += 1\n",
    "    return count\n",
    "\n",
    "\n",
    "\n",
    "COMPLEX_WORDS=syllable_count(content)\n",
    "print(\"Complex Words\",COMPLEX_WORDS)\n",
    "#Word Count\n",
    "Word_Count=len(content)\n",
    "print(\"Word Count\",Word_Count)\n",
    "#Percentage Complex Words\n",
    "pcw=(COMPLEX_WORDS/Word_Count)*100\n",
    "print(\"Percentage of Complex Words\",pcw)\n",
    "#Average Word Length\n",
    "Average_Word_Length=len(content.replace(' ',''))/len(content.split())\n",
    "print(\"Average Word per Length\",Average_Word_Length)\n",
    "#Syllable Count Per Word\n",
    "word=content.replace(' ','')\n",
    "syllable_count=0\n",
    "for w in word:\n",
    "      if(w=='a' or w=='e' or w=='i' or w=='o' or w=='y' or w=='u' or w=='A' or w=='E' or w=='I' or w=='O' or w=='U' or w=='Y'):\n",
    "            syllable_count=syllable_count+1\n",
    "print(\"The AVG number of syllables in the word is: \")\n",
    "syllable = (syllable_count/len(content.split()))\n",
    "print(syllable)\n",
    "\n",
    "data = [[url,title,content,filter_content,Positive_score,Negative_score,AVG_SENTENCE_LENGTH,pcw,FOG_INDEX,\n",
    "         AVG_NUMBER_OF_WORDS_PER_SENTENCE,COMPLEX_WORDS,Word_Count,syllable,Average_Word_Length]]\n",
    "data=pd.DataFrame(data,columns=[\"url\",\"title\",\"content\",\"filter_content\",\"Positive_Score\",\"Negative_Score\",\"Avg_Sentence_Length\"\n",
    "                               ,\"Percentage_Complex_Word\",\"Fog_Index\",\" AVG_NUMBER_OF_WORDS_PER_SENTENCE\",\"COMPLEX_WORDS\",\n",
    "                               \"Word_Count\",\"syllable\",\"Average_Word_Length\"])\n",
    "from textblob import TextBlob\n",
    "# Get The Subjectivity\n",
    "def sentiment_analysis(data):\n",
    "    sentiment = TextBlob(data[\"content\"]).sentiment\n",
    "    return pd.Series([sentiment.polarity,sentiment.subjectivity ])\n",
    "data[[\"polarity\", \"subjectivity\"]] = data.apply(sentiment_analysis, axis=1)\n",
    "data"
   ]
  },
  {
   "cell_type": "code",
   "execution_count": 2,
   "id": "d8ffecde",
   "metadata": {},
   "outputs": [],
   "source": [
    "data.to_csv(r'C:\\Users\\Om Bhandwalkar\\Desktop\\BlackCoffer Assignment\\Output\\url_114.csv')"
   ]
  },
  {
   "cell_type": "code",
   "execution_count": null,
   "id": "964dbb93",
   "metadata": {},
   "outputs": [],
   "source": []
  }
 ],
 "metadata": {
  "kernelspec": {
   "display_name": "Python 3 (ipykernel)",
   "language": "python",
   "name": "python3"
  },
  "language_info": {
   "codemirror_mode": {
    "name": "ipython",
    "version": 3
   },
   "file_extension": ".py",
   "mimetype": "text/x-python",
   "name": "python",
   "nbconvert_exporter": "python",
   "pygments_lexer": "ipython3",
   "version": "3.9.12"
  }
 },
 "nbformat": 4,
 "nbformat_minor": 5
}
