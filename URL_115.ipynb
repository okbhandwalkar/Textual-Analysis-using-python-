{
 "cells": [
  {
   "cell_type": "code",
   "execution_count": 1,
   "id": "73afebda",
   "metadata": {},
   "outputs": [
    {
     "data": {
      "text/plain": [
       "'COVID-19: How have countries been responding?'"
      ]
     },
     "execution_count": 1,
     "metadata": {},
     "output_type": "execute_result"
    }
   ],
   "source": [
    "import requests\n",
    "import pandas as pd \n",
    "from bs4 import BeautifulSoup\n",
    "import string\n",
    "import spacy\n",
    "import re\n",
    "url = \"\"\"https://insights.blackcoffer.com/covid-19-how-have-countries-been-responding-2/\"\"\"\n",
    "headers = {\"User-Agent\": \"Mozilla/5.0 (X11; Linux x86_64; rv:60.0) Gecko/20100101 Firefox/60.0\"}\n",
    "page = requests.get(url, headers=headers)\n",
    "soup = BeautifulSoup(page.content, 'html.parser')\n",
    "soup=BeautifulSoup(page.content, 'html.parser')\n",
    "title=soup.find('h1',class_=\"entry-title\")\n",
    "title=title.text.replace('\\n',\" \")\n",
    "title\n"
   ]
  },
  {
   "cell_type": "code",
   "execution_count": 2,
   "id": "70ee6f63",
   "metadata": {},
   "outputs": [
    {
     "name": "stdout",
     "output_type": "stream",
     "text": [
      " “If anything kills over 10 million people over the next few decades, it’s most likely to be a highly infectious virus rather than a war” – Bill Gates Bill Gates in his TedX address in 2015 pointed out to the predicament of world leaders who failed to invest sufficiently into health infrastructure and he further elaborated on the inability of the prevailing health facilities to accommodate the next pandemic the world would face. The whole world is grappling with COVID-19- the virus that took birth in the city of Wuhan and spread across the globe, claiming more than half a hundred thousand lives and affecting more than two million people. With the fear of the virus spreading, the whole world entered into a complete and stringent lockdown mandated by the national governments. This caused economic activities worldwide to come to a standstill except for sectors that provisioned essential goods and services. The international agency-IMF has projected that the global output will contract by 3% in 2020 which is even worse than the 2008-09 financial crises. Moody downgraded the global growth forecast to 2.5% in 2020 from an earlier estimate of 5.3%. The US economy is expected to contract by 2%, Euro-era by 2.2% and China is expected to grow at 3.3% rather than an earlier estimate of 6% in 2021 The national governments have been presented with inevitable challenges of ensuring sustenance and livelihood to masses, improving investor confidence and preventing the economies from falling into a recession in the absence of consumerism amidst the uncertainty about the longevity and future intensity of the pandemic. The GOI took the decision to enter into lockdown in the preliminary phase of the spread of the virus. The Indian economy in the fiscal year 2019 was already hit by severe NPA crises. It witnessed a downward spiral and grew at a mere rate of 5% as against 6.8 % in 2018 as per the statistics released by the NSO-National Statistical Organization. The manufacturing and construction sectors were negative outliers. The government in order to recuperate announced a plethora of decisions. The government cut the corporate tax from 30% to 22% and for manufacturing enterprises from 25% to 15%. In order to strengthen the position of public sector banks, the government announced the merger of 10 public sector banks into 4 The government also announced a fiscal stimulus of 1.7 lakh crores INR stepping over its fiscal deficit target in order to drive the economy out of the downward spiral and get it on the path of growth, giving lubricant to an economy facing liquidity crunch with heightening NPA. But the Coronavirus outbreak halted the economic activity and posed government the issue of fulfilling the basic survival needs of workers in the informal sector in the wake of massive urbanization. The daily wage earners tried to walk down to their native places in huge numbers posing immense difficulty for the government. Apart from that the domestic equity market indices- the BSE Sensex and NSE Nifty crashed which reflected the erosion of investor confidence and reflected stealth of bearish sentiment around the world. All this amalgamated together posed a serious question on the survival of a huge chunk of the Indian population and invited a lot of criticism for the government. This is when the Central NDA government announced a fiscal relief package: The Central government announced a fiscal stimulus of additional INR 1.7 Lakh Crores that constitutes approximately 0.8% of India’s GDP under Pradhan Mantri Gareeb Kalyan Yojna. This fiscal stimulus is used to target the underprivileged section of the society instead of conventional indirectly lubricating the economy through deficit financing. The government under the NFSA-National Food Security Act has decided to provide an additional 5 kg of Indian staple wheat and rice and 1 kg of pulses every month to people with ration cards. The government is expanding and accelerating the dissemination of unilateral transfers under various government schemes.  Under PM Kisan Scheme an Indian farmer receives payment of INR 6000 in three installments every year. Out of 6000 the GOI had disbursed INR 2000 immediately. The government has made a provision of providing 2 installments INR 1000 for the next three months those already availing old ages, women, or disability pension. The women who are Jan Dhan account holders are to receive INR 500 for the next three months. The government assured the availability of cooking gas by providing 1 LPG cylinder for the next three months to 8.3 crores people covered under Ujjwal Yojna.  The government in order to prevent the deterioration of and encourage entrepreneurial spirit in already discriminated rural women the government made a provision for Women SHG’s where they can receive collateral-free loans up to INR 20 Lakhs under NRLM (National Rural Livelihood Mission). The government also enhanced payment under MGNREGA from INR 180/day to INR 202/day. The government has also taken upon itself to provide for the EPF contributions of 12% each of the basic salaries of both employees and employers for the next three months. In order to ensure household liquidity the employees can withdraw from their EPF accounts balance up to 75%. The GOI is also providing insurance coverage if INR 50 lakh for a tenure of 3 months for about 22 lakh health workers in government hospitals inclusive of ASHA workers, medical, sanitary workers, and paramedics. The finance minister Nirmala Sitaraman also pointed out that increased money supply combined with the dollar swap with the USA will help curb the inflammatory effect also. Shaktikanta Das, the RBI chief announced a monetary relief package for the economy that seemed to regain investor confidence as the national stock indices rallied. The following are the elements of the package: The repo rate is the rate at which the commercial banks can avail loans from RBI. The RBI cut Repo Rate by 75 basis points from 5.15% to 4.4%. This reduction in the cost of borrowing from RBI gives commercial banks an incentive to enjoy increased margins by borrowing at a relatively lower rate than past and investing at the same rate i.e. by granting loans to businesses and households.Cut in Reverse-Repo Rate by 25 basis points from 4% to 3.5%. The reverse repo rate is the rate at which banks can park their funds with the RBI. This primarily implies the reduction in the interest rate the banks can earn by parking their funds with the RBI. This incentivizes them to lend. But given the commercial bank’s acquaintance with the friction caused by erosion of consumerism due to fear of COVID-19; it is hard to forecast how successful the aforementioned steps are. The RBI also announced a moratorium or a provision to defer payments of EMI’s on home, car, and credit card dues for a period of 3 months from 1st March-31st May. The government also provided for interest-free loans for the MSME sector to meet their working capital requirements after the lockdown has been uplifted.The RBI also announced a refinancing window for INR 50,000 crores for financial institutions like Nabard, National Housing Bank, and Sidbi. As the markets crashed the foreign institutional investors withdrew their investments from the Indian Market, increasing the demand for USD and increasing the supply of INR causing the rupee to depreciate. The currency hit the bottom low of INR 76/ USD.  To prevent further erosion in the value of rupee the RBI entered into a 6-month swap agreement with the US government. The deliberation to undertake a currency swap began when as a result of panic-selling the foreign exchange reserves fell around $7.5 billion in two weeks to $439.66 billion on March 27. Despite tourism, hospitality, domestic trade, airline industry taking a hit, India was presented with quite a few opportunities as well. India came as a messiah to export hydroxychloroquine to the USA, followed by Indian pharmacy companies- Lupin, Dr. Reddy’s Laboratories, Strides Pharma’s plants in India, and Biocon’s plant in Malaysia being given clearance by US FDA-US Food and Drug administration. This gives massive export opportunities to these entities, improving their growth prospectus. The crash of crude oil prices caused by falling out of negotiations between OPEC and Russia creating supply pressure along with lowered demand enabled India to lower its import bill. According to a report by ICRA every $10 decline in crude oil price saved India $15 billion. Not only India but countries like the USA, Japan, UK, and Germany have announced massive fiscal stimulus packages to equip their economies to come out of this phase of decelerating economic activity. US announced a fiscal package of $2 trillion with is approximately 9.3% of its GDP. This relief package is the largest relative to the GDP is the largest of the kind in the Modern American History. It is way larger than $800 billion assistance provided in 2008. Germany introduced largest fiscal stimulus in relation to GDP. The following graph indicates the fiscal stimulus as a proportion of GDP of respective countries  Workers in the US whose annual incomes are up to $75000 will receive $1200 in direct payments as well as $500 for every offspring. America being America came to the rescue of businesses by allocating $500 billion to businesses and local government bodies. It announced various sectorial packages-$50 billion for passenger airlines, $8 billion for cargo carriers, $17 billion for businesses involved in maintaining national security. Taking care of the small industry sector, the US government committed itself to devote $350 billion to the working capital requirements of these entities. The government further allocated $150 billion for the health care sector, $45 billion for the disaster relief fund, $31 billion for the education sector, $27 billion for research and development, and $15.5 billion towards the food stamp program.  . Republican President Donald Trump has been under a lot of criticism lately. The tackling of the COVID-19 crises by America could either relinquish Trump administration or them another tenure. But so far the situation seems critical with the USA registered with the maximum number of cases China- the epicenter of the pandemic has been facing a lot of backlash from world powers like the USA, UK, France, and Germany; each country asking for monetary compensation. The US even alleged that China has conducted low-frequency nuclear tests while the whole world is anguished. China has also been frowned upon for acquiring a stake in various companies like-The PBOC enhancing its claim in HDFC to 1% and many other entities amidst panic selling. China also capitalized on low crude oil prices by creating massive buffers. It further exported PPE to various countries, capitalizing on the minutest of opportunities available. This is the time to be prudent and try to remain optimistic as is illuminated by Charlie Munger,-“I would ……when the worst typhoon that’s ever happened comes. We just want to get through typhoon and we’d rather come out it with a whole lot of liquidity. …” Blackcoffer Insights 17: Shreya Ahuja, Daulat Ram College \n",
      " “If anything kills over 10 million people over the next few decades it’s most likely to be a highly infectious virus rather than a war” – Bill Gates Bill Gates in his TedX address in 2015 pointed out to the predicament of world leaders who failed to invest sufficiently into health infrastructure and he further elaborated on the inability of the prevailing health facilities to accommodate the next pandemic the world would face The whole world is grappling with COVID19 the virus that took birth in the city of Wuhan and spread across the globe claiming more than half a hundred thousand lives and affecting more than two million people With the fear of the virus spreading the whole world entered into a complete and stringent lockdown mandated by the national governments This caused economic activities worldwide to come to a standstill except for sectors that provisioned essential goods and services The international agencyIMF has projected that the global output will contract by 3 in 2020 which is even worse than the 200809 financial crises Moody downgraded the global growth forecast to 25 in 2020 from an earlier estimate of 53 The US economy is expected to contract by 2 Euroera by 22 and China is expected to grow at 33 rather than an earlier estimate of 6 in 2021 The national governments have been presented with inevitable challenges of ensuring sustenance and livelihood to masses improving investor confidence and preventing the economies from falling into a recession in the absence of consumerism amidst the uncertainty about the longevity and future intensity of the pandemic The GOI took the decision to enter into lockdown in the preliminary phase of the spread of the virus The Indian economy in the fiscal year 2019 was already hit by severe NPA crises It witnessed a downward spiral and grew at a mere rate of 5 as against 68  in 2018 as per the statistics released by the NSONational Statistical Organization The manufacturing and construction sectors were negative outliers The government in order to recuperate announced a plethora of decisions The government cut the corporate tax from 30 to 22 and for manufacturing enterprises from 25 to 15 In order to strengthen the position of public sector banks the government announced the merger of 10 public sector banks into 4 The government also announced a fiscal stimulus of 17 lakh crores INR stepping over its fiscal deficit target in order to drive the economy out of the downward spiral and get it on the path of growth giving lubricant to an economy facing liquidity crunch with heightening NPA But the Coronavirus outbreak halted the economic activity and posed government the issue of fulfilling the basic survival needs of workers in the informal sector in the wake of massive urbanization The daily wage earners tried to walk down to their native places in huge numbers posing immense difficulty for the government Apart from that the domestic equity market indices the BSE Sensex and NSE Nifty crashed which reflected the erosion of investor confidence and reflected stealth of bearish sentiment around the world All this amalgamated together posed a serious question on the survival of a huge chunk of the Indian population and invited a lot of criticism for the government This is when the Central NDA government announced a fiscal relief package The Central government announced a fiscal stimulus of additional INR 17 Lakh Crores that constitutes approximately 08 of India’s GDP under Pradhan Mantri Gareeb Kalyan Yojna This fiscal stimulus is used to target the underprivileged section of the society instead of conventional indirectly lubricating the economy through deficit financing The government under the NFSANational Food Security Act has decided to provide an additional 5 kg of Indian staple wheat and rice and 1 kg of pulses every month to people with ration cards The government is expanding and accelerating the dissemination of unilateral transfers under various government schemes  Under PM Kisan Scheme an Indian farmer receives payment of INR 6000 in three installments every year Out of 6000 the GOI had disbursed INR 2000 immediately The government has made a provision of providing 2 installments INR 1000 for the next three months those already availing old ages women or disability pension The women who are Jan Dhan account holders are to receive INR 500 for the next three months The government assured the availability of cooking gas by providing 1 LPG cylinder for the next three months to 83 crores people covered under Ujjwal Yojna  The government in order to prevent the deterioration of and encourage entrepreneurial spirit in already discriminated rural women the government made a provision for Women SHG’s where they can receive collateralfree loans up to INR 20 Lakhs under NRLM National Rural Livelihood Mission The government also enhanced payment under MGNREGA from INR 180day to INR 202day The government has also taken upon itself to provide for the EPF contributions of 12 each of the basic salaries of both employees and employers for the next three months In order to ensure household liquidity the employees can withdraw from their EPF accounts balance up to 75 The GOI is also providing insurance coverage if INR 50 lakh for a tenure of 3 months for about 22 lakh health workers in government hospitals inclusive of ASHA workers medical sanitary workers and paramedics The finance minister Nirmala Sitaraman also pointed out that increased money supply combined with the dollar swap with the USA will help curb the inflammatory effect also Shaktikanta Das the RBI chief announced a monetary relief package for the economy that seemed to regain investor confidence as the national stock indices rallied The following are the elements of the package The repo rate is the rate at which the commercial banks can avail loans from RBI The RBI cut Repo Rate by 75 basis points from 515 to 44 This reduction in the cost of borrowing from RBI gives commercial banks an incentive to enjoy increased margins by borrowing at a relatively lower rate than past and investing at the same rate ie by granting loans to businesses and householdsCut in ReverseRepo Rate by 25 basis points from 4 to 35 The reverse repo rate is the rate at which banks can park their funds with the RBI This primarily implies the reduction in the interest rate the banks can earn by parking their funds with the RBI This incentivizes them to lend But given the commercial bank’s acquaintance with the friction caused by erosion of consumerism due to fear of COVID19 it is hard to forecast how successful the aforementioned steps are The RBI also announced a moratorium or a provision to defer payments of EMI’s on home car and credit card dues for a period of 3 months from 1st March31st May The government also provided for interestfree loans for the MSME sector to meet their working capital requirements after the lockdown has been upliftedThe RBI also announced a refinancing window for INR 50000 crores for financial institutions like Nabard National Housing Bank and Sidbi As the markets crashed the foreign institutional investors withdrew their investments from the Indian Market increasing the demand for USD and increasing the supply of INR causing the rupee to depreciate The currency hit the bottom low of INR 76 USD  To prevent further erosion in the value of rupee the RBI entered into a 6month swap agreement with the US government The deliberation to undertake a currency swap began when as a result of panicselling the foreign exchange reserves fell around 75 billion in two weeks to 43966 billion on March 27 Despite tourism hospitality domestic trade airline industry taking a hit India was presented with quite a few opportunities as well India came as a messiah to export hydroxychloroquine to the USA followed by Indian pharmacy companies Lupin Dr Reddy’s Laboratories Strides Pharma’s plants in India and Biocon’s plant in Malaysia being given clearance by US FDAUS Food and Drug administration This gives massive export opportunities to these entities improving their growth prospectus The crash of crude oil prices caused by falling out of negotiations between OPEC and Russia creating supply pressure along with lowered demand enabled India to lower its import bill According to a report by ICRA every 10 decline in crude oil price saved India 15 billion Not only India but countries like the USA Japan UK and Germany have announced massive fiscal stimulus packages to equip their economies to come out of this phase of decelerating economic activity US announced a fiscal package of 2 trillion with is approximately 93 of its GDP This relief package is the largest relative to the GDP is the largest of the kind in the Modern American History It is way larger than 800 billion assistance provided in 2008 Germany introduced largest fiscal stimulus in relation to GDP The following graph indicates the fiscal stimulus as a proportion of GDP of respective countries  Workers in the US whose annual incomes are up to 75000 will receive 1200 in direct payments as well as 500 for every offspring America being America came to the rescue of businesses by allocating 500 billion to businesses and local government bodies It announced various sectorial packages50 billion for passenger airlines 8 billion for cargo carriers 17 billion for businesses involved in maintaining national security Taking care of the small industry sector the US government committed itself to devote 350 billion to the working capital requirements of these entities The government further allocated 150 billion for the health care sector 45 billion for the disaster relief fund 31 billion for the education sector 27 billion for research and development and 155 billion towards the food stamp program   Republican President Donald Trump has been under a lot of criticism lately The tackling of the COVID19 crises by America could either relinquish Trump administration or them another tenure But so far the situation seems critical with the USA registered with the maximum number of cases China the epicenter of the pandemic has been facing a lot of backlash from world powers like the USA UK France and Germany each country asking for monetary compensation The US even alleged that China has conducted lowfrequency nuclear tests while the whole world is anguished China has also been frowned upon for acquiring a stake in various companies likeThe PBOC enhancing its claim in HDFC to 1 and many other entities amidst panic selling China also capitalized on low crude oil prices by creating massive buffers It further exported PPE to various countries capitalizing on the minutest of opportunities available This is the time to be prudent and try to remain optimistic as is illuminated by Charlie Munger“I would ……when the worst typhoon that’s ever happened comes We just want to get through typhoon and we’d rather come out it with a whole lot of liquidity …” Blackcoffer Insights 17 Shreya Ahuja Daulat Ram College \n",
      "['“If', 'anything', 'kills', 'over', '10', 'million', 'people', 'over', 'the', 'next', 'few', 'decades', 'it’s', 'most', 'likely', 'to', 'be', 'a', 'highly', 'infectious', 'virus', 'rather', 'than', 'a', 'war”', '–', 'Bill', 'Gates', 'Bill', 'Gates', 'in', 'his', 'TedX', 'address', 'in', '2015', 'pointed', 'out', 'to', 'the', 'predicament', 'of', 'world', 'leaders', 'who', 'failed', 'to', 'invest', 'sufficiently', 'into', 'health', 'infrastructure', 'and', 'he', 'further', 'elaborated', 'on', 'the', 'inability', 'of', 'the', 'prevailing', 'health', 'facilities', 'to', 'accommodate', 'the', 'next', 'pandemic', 'the', 'world', 'would', 'face', 'The', 'whole', 'world', 'is', 'grappling', 'with', 'COVID19', 'the', 'virus', 'that', 'took', 'birth', 'in', 'the', 'city', 'of', 'Wuhan', 'and', 'spread', 'across', 'the', 'globe', 'claiming', 'more', 'than', 'half', 'a', 'hundred', 'thousand', 'lives', 'and', 'affecting', 'more', 'than', 'two', 'million', 'people', 'With', 'the', 'fear', 'of', 'the', 'virus', 'spreading', 'the', 'whole', 'world', 'entered', 'into', 'a', 'complete', 'and', 'stringent', 'lockdown', 'mandated', 'by', 'the', 'national', 'governments', 'This', 'caused', 'economic', 'activities', 'worldwide', 'to', 'come', 'to', 'a', 'standstill', 'except', 'for', 'sectors', 'that', 'provisioned', 'essential', 'goods', 'and', 'services', 'The', 'international', 'agencyIMF', 'has', 'projected', 'that', 'the', 'global', 'output', 'will', 'contract', 'by', '3', 'in', '2020', 'which', 'is', 'even', 'worse', 'than', 'the', '200809', 'financial', 'crises', 'Moody', 'downgraded', 'the', 'global', 'growth', 'forecast', 'to', '25', 'in', '2020', 'from', 'an', 'earlier', 'estimate', 'of', '53', 'The', 'US', 'economy', 'is', 'expected', 'to', 'contract', 'by', '2', 'Euroera', 'by', '22', 'and', 'China', 'is', 'expected', 'to', 'grow', 'at', '33', 'rather', 'than', 'an', 'earlier', 'estimate', 'of', '6', 'in', '2021', 'The', 'national', 'governments', 'have', 'been', 'presented', 'with', 'inevitable', 'challenges', 'of', 'ensuring', 'sustenance', 'and', 'livelihood', 'to', 'masses', 'improving', 'investor', 'confidence', 'and', 'preventing', 'the', 'economies', 'from', 'falling', 'into', 'a', 'recession', 'in', 'the', 'absence', 'of', 'consumerism', 'amidst', 'the', 'uncertainty', 'about', 'the', 'longevity', 'and', 'future', 'intensity', 'of', 'the', 'pandemic', 'The', 'GOI', 'took', 'the', 'decision', 'to', 'enter', 'into', 'lockdown', 'in', 'the', 'preliminary', 'phase', 'of', 'the', 'spread', 'of', 'the', 'virus', 'The', 'Indian', 'economy', 'in', 'the', 'fiscal', 'year', '2019', 'was', 'already', 'hit', 'by', 'severe', 'NPA', 'crises', 'It', 'witnessed', 'a', 'downward', 'spiral', 'and', 'grew', 'at', 'a', 'mere', 'rate', 'of', '5', 'as', 'against', '68', 'in', '2018', 'as', 'per', 'the', 'statistics', 'released', 'by', 'the', 'NSONational', 'Statistical', 'Organization', 'The', 'manufacturing', 'and', 'construction', 'sectors', 'were', 'negative', 'outliers', 'The', 'government', 'in', 'order', 'to', 'recuperate', 'announced', 'a', 'plethora', 'of', 'decisions', 'The', 'government', 'cut', 'the', 'corporate', 'tax', 'from', '30', 'to', '22', 'and', 'for', 'manufacturing', 'enterprises', 'from', '25', 'to', '15', 'In', 'order', 'to', 'strengthen', 'the', 'position', 'of', 'public', 'sector', 'banks', 'the', 'government', 'announced', 'the', 'merger', 'of', '10', 'public', 'sector', 'banks', 'into', '4', 'The', 'government', 'also', 'announced', 'a', 'fiscal', 'stimulus', 'of', '17', 'lakh', 'crores', 'INR', 'stepping', 'over', 'its', 'fiscal', 'deficit', 'target', 'in', 'order', 'to', 'drive', 'the', 'economy', 'out', 'of', 'the', 'downward', 'spiral', 'and', 'get', 'it', 'on', 'the', 'path', 'of', 'growth', 'giving', 'lubricant', 'to', 'an', 'economy', 'facing', 'liquidity', 'crunch', 'with', 'heightening', 'NPA', 'But', 'the', 'Coronavirus', 'outbreak', 'halted', 'the', 'economic', 'activity', 'and', 'posed', 'government', 'the', 'issue', 'of', 'fulfilling', 'the', 'basic', 'survival', 'needs', 'of', 'workers', 'in', 'the', 'informal', 'sector', 'in', 'the', 'wake', 'of', 'massive', 'urbanization', 'The', 'daily', 'wage', 'earners', 'tried', 'to', 'walk', 'down', 'to', 'their', 'native', 'places', 'in', 'huge', 'numbers', 'posing', 'immense', 'difficulty', 'for', 'the', 'government', 'Apart', 'from', 'that', 'the', 'domestic', 'equity', 'market', 'indices', 'the', 'BSE', 'Sensex', 'and', 'NSE', 'Nifty', 'crashed', 'which', 'reflected', 'the', 'erosion', 'of', 'investor', 'confidence', 'and', 'reflected', 'stealth', 'of', 'bearish', 'sentiment', 'around', 'the', 'world', 'All', 'this', 'amalgamated', 'together', 'posed', 'a', 'serious', 'question', 'on', 'the', 'survival', 'of', 'a', 'huge', 'chunk', 'of', 'the', 'Indian', 'population', 'and', 'invited', 'a', 'lot', 'of', 'criticism', 'for', 'the', 'government', 'This', 'is', 'when', 'the', 'Central', 'NDA', 'government', 'announced', 'a', 'fiscal', 'relief', 'package', 'The', 'Central', 'government', 'announced', 'a', 'fiscal', 'stimulus', 'of', 'additional', 'INR', '17', 'Lakh', 'Crores', 'that', 'constitutes', 'approximately', '08', 'of', 'India’s', 'GDP', 'under', 'Pradhan', 'Mantri', 'Gareeb', 'Kalyan', 'Yojna', 'This', 'fiscal', 'stimulus', 'is', 'used', 'to', 'target', 'the', 'underprivileged', 'section', 'of', 'the', 'society', 'instead', 'of', 'conventional', 'indirectly', 'lubricating', 'the', 'economy', 'through', 'deficit', 'financing', 'The', 'government', 'under', 'the', 'NFSANational', 'Food', 'Security', 'Act', 'has', 'decided', 'to', 'provide', 'an', 'additional', '5', 'kg', 'of', 'Indian', 'staple', 'wheat', 'and', 'rice', 'and', '1', 'kg', 'of', 'pulses', 'every', 'month', 'to', 'people', 'with', 'ration', 'cards', 'The', 'government', 'is', 'expanding', 'and', 'accelerating', 'the', 'dissemination', 'of', 'unilateral', 'transfers', 'under', 'various', 'government', 'schemes', 'Under', 'PM', 'Kisan', 'Scheme', 'an', 'Indian', 'farmer', 'receives', 'payment', 'of', 'INR', '6000', 'in', 'three', 'installments', 'every', 'year', 'Out', 'of', '6000', 'the', 'GOI', 'had', 'disbursed', 'INR', '2000', 'immediately', 'The', 'government', 'has', 'made', 'a', 'provision', 'of', 'providing', '2', 'installments', 'INR', '1000', 'for', 'the', 'next', 'three', 'months', 'those', 'already', 'availing', 'old', 'ages', 'women', 'or', 'disability', 'pension', 'The', 'women', 'who', 'are', 'Jan', 'Dhan', 'account', 'holders', 'are', 'to', 'receive', 'INR', '500', 'for', 'the', 'next', 'three', 'months', 'The', 'government', 'assured', 'the', 'availability', 'of', 'cooking', 'gas', 'by', 'providing', '1', 'LPG', 'cylinder', 'for', 'the', 'next', 'three', 'months', 'to', '83', 'crores', 'people', 'covered', 'under', 'Ujjwal', 'Yojna', 'The', 'government', 'in', 'order', 'to', 'prevent', 'the', 'deterioration', 'of', 'and', 'encourage', 'entrepreneurial', 'spirit', 'in', 'already', 'discriminated', 'rural', 'women', 'the', 'government', 'made', 'a', 'provision', 'for', 'Women', 'SHG’s', 'where', 'they', 'can', 'receive', 'collateralfree', 'loans', 'up', 'to', 'INR', '20', 'Lakhs', 'under', 'NRLM', 'National', 'Rural', 'Livelihood', 'Mission', 'The', 'government', 'also', 'enhanced', 'payment', 'under', 'MGNREGA', 'from', 'INR', '180day', 'to', 'INR', '202day', 'The', 'government', 'has', 'also', 'taken', 'upon', 'itself', 'to', 'provide', 'for', 'the', 'EPF', 'contributions', 'of', '12', 'each', 'of', 'the', 'basic', 'salaries', 'of', 'both', 'employees', 'and', 'employers', 'for', 'the', 'next', 'three', 'months', 'In', 'order', 'to', 'ensure', 'household', 'liquidity', 'the', 'employees', 'can', 'withdraw', 'from', 'their', 'EPF', 'accounts', 'balance', 'up', 'to', '75', 'The', 'GOI', 'is', 'also', 'providing', 'insurance', 'coverage', 'if', 'INR', '50', 'lakh', 'for', 'a', 'tenure', 'of', '3', 'months', 'for', 'about', '22', 'lakh', 'health', 'workers', 'in', 'government', 'hospitals', 'inclusive', 'of', 'ASHA', 'workers', 'medical', 'sanitary', 'workers', 'and', 'paramedics', 'The', 'finance', 'minister', 'Nirmala', 'Sitaraman', 'also', 'pointed', 'out', 'that', 'increased', 'money', 'supply', 'combined', 'with', 'the', 'dollar', 'swap', 'with', 'the', 'USA', 'will', 'help', 'curb', 'the', 'inflammatory', 'effect', 'also', 'Shaktikanta', 'Das', 'the', 'RBI', 'chief', 'announced', 'a', 'monetary', 'relief', 'package', 'for', 'the', 'economy', 'that', 'seemed', 'to', 'regain', 'investor', 'confidence', 'as', 'the', 'national', 'stock', 'indices', 'rallied', 'The', 'following', 'are', 'the', 'elements', 'of', 'the', 'package', 'The', 'repo', 'rate', 'is', 'the', 'rate', 'at', 'which', 'the', 'commercial', 'banks', 'can', 'avail', 'loans', 'from', 'RBI', 'The', 'RBI', 'cut', 'Repo', 'Rate', 'by', '75', 'basis', 'points', 'from', '515', 'to', '44', 'This', 'reduction', 'in', 'the', 'cost', 'of', 'borrowing', 'from', 'RBI', 'gives', 'commercial', 'banks', 'an', 'incentive', 'to', 'enjoy', 'increased', 'margins', 'by', 'borrowing', 'at', 'a', 'relatively', 'lower', 'rate', 'than', 'past', 'and', 'investing', 'at', 'the', 'same', 'rate', 'ie', 'by', 'granting', 'loans', 'to', 'businesses', 'and', 'householdsCut', 'in', 'ReverseRepo', 'Rate', 'by', '25', 'basis', 'points', 'from', '4', 'to', '35', 'The', 'reverse', 'repo', 'rate', 'is', 'the', 'rate', 'at', 'which', 'banks', 'can', 'park', 'their', 'funds', 'with', 'the', 'RBI', 'This', 'primarily', 'implies', 'the', 'reduction', 'in', 'the', 'interest', 'rate', 'the', 'banks', 'can', 'earn', 'by', 'parking', 'their', 'funds', 'with', 'the', 'RBI', 'This', 'incentivizes', 'them', 'to', 'lend', 'But', 'given', 'the', 'commercial', 'bank’s', 'acquaintance', 'with', 'the', 'friction', 'caused', 'by', 'erosion', 'of', 'consumerism', 'due', 'to', 'fear', 'of', 'COVID19', 'it', 'is', 'hard', 'to', 'forecast', 'how', 'successful', 'the', 'aforementioned', 'steps', 'are', 'The', 'RBI', 'also', 'announced', 'a', 'moratorium', 'or', 'a', 'provision', 'to', 'defer', 'payments', 'of', 'EMI’s', 'on', 'home', 'car', 'and', 'credit', 'card', 'dues', 'for', 'a', 'period', 'of', '3', 'months', 'from', '1st', 'March31st', 'May', 'The', 'government', 'also', 'provided', 'for', 'interestfree', 'loans', 'for', 'the', 'MSME', 'sector', 'to', 'meet', 'their', 'working', 'capital', 'requirements', 'after', 'the', 'lockdown', 'has', 'been', 'upliftedThe', 'RBI', 'also', 'announced', 'a', 'refinancing', 'window', 'for', 'INR', '50000', 'crores', 'for', 'financial', 'institutions', 'like', 'Nabard', 'National', 'Housing', 'Bank', 'and', 'Sidbi', 'As', 'the', 'markets', 'crashed', 'the', 'foreign', 'institutional', 'investors', 'withdrew', 'their', 'investments', 'from', 'the', 'Indian', 'Market', 'increasing', 'the', 'demand', 'for', 'USD', 'and', 'increasing', 'the', 'supply', 'of', 'INR', 'causing', 'the', 'rupee', 'to', 'depreciate', 'The', 'currency', 'hit', 'the', 'bottom', 'low', 'of', 'INR', '76', 'USD', 'To', 'prevent', 'further', 'erosion', 'in', 'the', 'value', 'of', 'rupee', 'the', 'RBI', 'entered', 'into', 'a', '6month', 'swap', 'agreement', 'with', 'the', 'US', 'government', 'The', 'deliberation', 'to', 'undertake', 'a', 'currency', 'swap', 'began', 'when', 'as', 'a', 'result', 'of', 'panicselling', 'the', 'foreign', 'exchange', 'reserves', 'fell', 'around', '75', 'billion', 'in', 'two', 'weeks', 'to', '43966', 'billion', 'on', 'March', '27', 'Despite', 'tourism', 'hospitality', 'domestic', 'trade', 'airline', 'industry', 'taking', 'a', 'hit', 'India', 'was', 'presented', 'with', 'quite', 'a', 'few', 'opportunities', 'as', 'well', 'India', 'came', 'as', 'a', 'messiah', 'to', 'export', 'hydroxychloroquine', 'to', 'the', 'USA', 'followed', 'by', 'Indian', 'pharmacy', 'companies', 'Lupin', 'Dr', 'Reddy’s', 'Laboratories', 'Strides', 'Pharma’s', 'plants', 'in', 'India', 'and', 'Biocon’s', 'plant', 'in', 'Malaysia', 'being', 'given', 'clearance', 'by', 'US', 'FDAUS', 'Food', 'and', 'Drug', 'administration', 'This', 'gives', 'massive', 'export', 'opportunities', 'to', 'these', 'entities', 'improving', 'their', 'growth', 'prospectus', 'The', 'crash', 'of', 'crude', 'oil', 'prices', 'caused', 'by', 'falling', 'out', 'of', 'negotiations', 'between', 'OPEC', 'and', 'Russia', 'creating', 'supply', 'pressure', 'along', 'with', 'lowered', 'demand', 'enabled', 'India', 'to', 'lower', 'its', 'import', 'bill', 'According', 'to', 'a', 'report', 'by', 'ICRA', 'every', '10', 'decline', 'in', 'crude', 'oil', 'price', 'saved', 'India', '15', 'billion', 'Not', 'only', 'India', 'but', 'countries', 'like', 'the', 'USA', 'Japan', 'UK', 'and', 'Germany', 'have', 'announced', 'massive', 'fiscal', 'stimulus', 'packages', 'to', 'equip', 'their', 'economies', 'to', 'come', 'out', 'of', 'this', 'phase', 'of', 'decelerating', 'economic', 'activity', 'US', 'announced', 'a', 'fiscal', 'package', 'of', '2', 'trillion', 'with', 'is', 'approximately', '93', 'of', 'its', 'GDP', 'This', 'relief', 'package', 'is', 'the', 'largest', 'relative', 'to', 'the', 'GDP', 'is', 'the', 'largest', 'of', 'the', 'kind', 'in', 'the', 'Modern', 'American', 'History', 'It', 'is', 'way', 'larger', 'than', '800', 'billion', 'assistance', 'provided', 'in', '2008', 'Germany', 'introduced', 'largest', 'fiscal', 'stimulus', 'in', 'relation', 'to', 'GDP', 'The', 'following', 'graph', 'indicates', 'the', 'fiscal', 'stimulus', 'as', 'a', 'proportion', 'of', 'GDP', 'of', 'respective', 'countries', 'Workers', 'in', 'the', 'US', 'whose', 'annual', 'incomes', 'are', 'up', 'to', '75000', 'will', 'receive', '1200', 'in', 'direct', 'payments', 'as', 'well', 'as', '500', 'for', 'every', 'offspring', 'America', 'being', 'America', 'came', 'to', 'the', 'rescue', 'of', 'businesses', 'by', 'allocating', '500', 'billion', 'to', 'businesses', 'and', 'local', 'government', 'bodies', 'It', 'announced', 'various', 'sectorial', 'packages50', 'billion', 'for', 'passenger', 'airlines', '8', 'billion', 'for', 'cargo', 'carriers', '17', 'billion', 'for', 'businesses', 'involved', 'in', 'maintaining', 'national', 'security', 'Taking', 'care', 'of', 'the', 'small', 'industry', 'sector', 'the', 'US', 'government', 'committed', 'itself', 'to', 'devote', '350', 'billion', 'to', 'the', 'working', 'capital', 'requirements', 'of', 'these', 'entities', 'The', 'government', 'further', 'allocated', '150', 'billion', 'for', 'the', 'health', 'care', 'sector', '45', 'billion', 'for', 'the', 'disaster', 'relief', 'fund', '31', 'billion', 'for', 'the', 'education', 'sector', '27', 'billion', 'for', 'research', 'and', 'development', 'and', '155', 'billion', 'towards', 'the', 'food', 'stamp', 'program', 'Republican', 'President', 'Donald', 'Trump', 'has', 'been', 'under', 'a', 'lot', 'of', 'criticism', 'lately', 'The', 'tackling', 'of', 'the', 'COVID19', 'crises', 'by', 'America', 'could', 'either', 'relinquish', 'Trump', 'administration', 'or', 'them', 'another', 'tenure', 'But', 'so', 'far', 'the', 'situation', 'seems', 'critical', 'with', 'the', 'USA', 'registered', 'with', 'the', 'maximum', 'number', 'of', 'cases', 'China', 'the', 'epicenter', 'of', 'the', 'pandemic', 'has', 'been', 'facing', 'a', 'lot', 'of', 'backlash', 'from', 'world', 'powers', 'like', 'the', 'USA', 'UK', 'France', 'and', 'Germany', 'each', 'country', 'asking', 'for', 'monetary', 'compensation', 'The', 'US', 'even', 'alleged', 'that', 'China', 'has', 'conducted', 'lowfrequency', 'nuclear', 'tests', 'while', 'the', 'whole', 'world', 'is', 'anguished', 'China', 'has', 'also', 'been', 'frowned', 'upon', 'for', 'acquiring', 'a', 'stake', 'in', 'various', 'companies', 'likeThe', 'PBOC', 'enhancing', 'its', 'claim', 'in', 'HDFC', 'to', '1', 'and', 'many', 'other', 'entities', 'amidst', 'panic', 'selling', 'China', 'also', 'capitalized', 'on', 'low', 'crude', 'oil', 'prices', 'by', 'creating', 'massive', 'buffers', 'It', 'further', 'exported', 'PPE', 'to', 'various', 'countries', 'capitalizing', 'on', 'the', 'minutest', 'of', 'opportunities', 'available', 'This', 'is', 'the', 'time', 'to', 'be', 'prudent', 'and', 'try', 'to', 'remain', 'optimistic', 'as', 'is', 'illuminated', 'by', 'Charlie', 'Munger“I', 'would', '……when', 'the', 'worst', 'typhoon', 'that’s', 'ever', 'happened', 'comes', 'We', 'just', 'want', 'to', 'get', 'through', 'typhoon', 'and', 'we’d', 'rather', 'come', 'out', 'it', 'with', 'a', 'whole', 'lot', 'of', 'liquidity', '…”', 'Blackcoffer', 'Insights', '17', 'Shreya', 'Ahuja', 'Daulat', 'Ram', 'College']\n"
     ]
    }
   ],
   "source": [
    "content=soup.findAll(attrs={'class':'td-post-content'})\n",
    "content=content[0].text.replace('\\n',\" \")\n",
    "print(content)\n",
    "#Punctuation\n",
    "content = content.translate(str.maketrans('', '', string.punctuation)) \n",
    "print(content)\n",
    "text = content.split()\n",
    "print(text)\n"
   ]
  },
  {
   "cell_type": "code",
   "execution_count": 3,
   "id": "0bbdc70a",
   "metadata": {},
   "outputs": [
    {
     "data": {
      "text/plain": [
       "1823"
      ]
     },
     "execution_count": 3,
     "metadata": {},
     "output_type": "execute_result"
    }
   ],
   "source": [
    "len(text)"
   ]
  },
  {
   "cell_type": "code",
   "execution_count": 4,
   "id": "2b823aea",
   "metadata": {},
   "outputs": [
    {
     "name": "stdout",
     "output_type": "stream",
     "text": [
      "25\n"
     ]
    }
   ],
   "source": [
    "#Positive Score \n",
    "with open(r\"C:\\Users\\Om Bhandwalkar\\Desktop\\pos\\positive-words.txt\") as pos:\n",
    "    poswords = pos.read().split(\"\\n\")  \n",
    "    poswords = poswords[5:]\n",
    "pos_count = \" \".join ([w for w in text if w in poswords])\n",
    "pos_count=pos_count.split(\" \")\n",
    "Positive_score=len(pos_count)\n",
    "print(Positive_score)"
   ]
  },
  {
   "cell_type": "code",
   "execution_count": 5,
   "id": "51a3b562",
   "metadata": {},
   "outputs": [
    {
     "name": "stdout",
     "output_type": "stream",
     "text": [
      "45\n"
     ]
    }
   ],
   "source": [
    "#Negative Score\n",
    "with open(r\"C:\\Users\\Om Bhandwalkar\\Desktop\\pos\\negative-words.txt\",encoding =\"ISO-8859-1\") as neg:\n",
    "    negwords = neg.read().split(\"\\n\")\n",
    "    \n",
    "negwords = negwords[36:]\n",
    "neg_count = \" \".join ([w for w in text if w in negwords])\n",
    "neg_count=neg_count.split(\" \")\n",
    "Negative_score=len(neg_count)\n",
    "print(Negative_score)"
   ]
  },
  {
   "cell_type": "code",
   "execution_count": 6,
   "id": "d978ec49",
   "metadata": {},
   "outputs": [
    {
     "data": {
      "text/html": [
       "<div>\n",
       "<style scoped>\n",
       "    .dataframe tbody tr th:only-of-type {\n",
       "        vertical-align: middle;\n",
       "    }\n",
       "\n",
       "    .dataframe tbody tr th {\n",
       "        vertical-align: top;\n",
       "    }\n",
       "\n",
       "    .dataframe thead th {\n",
       "        text-align: right;\n",
       "    }\n",
       "</style>\n",
       "<table border=\"1\" class=\"dataframe\">\n",
       "  <thead>\n",
       "    <tr style=\"text-align: right;\">\n",
       "      <th></th>\n",
       "      <th>url</th>\n",
       "      <th>title</th>\n",
       "      <th>content</th>\n",
       "      <th>filter_content</th>\n",
       "      <th>Positive_Score</th>\n",
       "      <th>Negative_Score</th>\n",
       "      <th>polarity</th>\n",
       "      <th>subjectivity</th>\n",
       "    </tr>\n",
       "  </thead>\n",
       "  <tbody>\n",
       "    <tr>\n",
       "      <th>0</th>\n",
       "      <td>https://insights.blackcoffer.com/covid-19-how-...</td>\n",
       "      <td>COVID-19: How have countries been responding?</td>\n",
       "      <td>“If anything kills over 10 million people ove...</td>\n",
       "      <td>“If anything kills over 10 million people over...</td>\n",
       "      <td>25</td>\n",
       "      <td>45</td>\n",
       "      <td>-0.014979</td>\n",
       "      <td>0.371632</td>\n",
       "    </tr>\n",
       "  </tbody>\n",
       "</table>\n",
       "</div>"
      ],
      "text/plain": [
       "                                                 url  \\\n",
       "0  https://insights.blackcoffer.com/covid-19-how-...   \n",
       "\n",
       "                                           title  \\\n",
       "0  COVID-19: How have countries been responding?   \n",
       "\n",
       "                                             content  \\\n",
       "0   “If anything kills over 10 million people ove...   \n",
       "\n",
       "                                      filter_content  Positive_Score  \\\n",
       "0  “If anything kills over 10 million people over...              25   \n",
       "\n",
       "   Negative_Score  polarity  subjectivity  \n",
       "0              45 -0.014979      0.371632  "
      ]
     },
     "execution_count": 6,
     "metadata": {},
     "output_type": "execute_result"
    }
   ],
   "source": [
    "filter_content = ' '.join(text)\n",
    "data=[[url,title,content,filter_content,Positive_score,Negative_score]]\n",
    "data=pd.DataFrame(data,columns=[\"url\",\"title\",\"content\",\"filter_content\",\"Positive_Score\",\"Negative_Score\"])\n",
    "from textblob import TextBlob\n",
    "# Get The Subjectivity\n",
    "def sentiment_analysis(data):\n",
    "    sentiment = TextBlob(data[\"content\"]).sentiment\n",
    "    return pd.Series([sentiment.polarity,sentiment.subjectivity ])\n",
    "\n",
    "# Adding Subjectivity & Polarity\n",
    "data[[\"polarity\", \"subjectivity\"]] = data.apply(sentiment_analysis, axis=1)\n",
    "\n",
    "data"
   ]
  },
  {
   "cell_type": "code",
   "execution_count": 7,
   "id": "88bc8aea",
   "metadata": {},
   "outputs": [
    {
     "name": "stdout",
     "output_type": "stream",
     "text": [
      "Word average = 9188.0\n",
      "FOG INDEX =  732.66\n",
      "Average no of words per sentence\n",
      "1823.0\n",
      "Complex Words 3194\n"
     ]
    }
   ],
   "source": [
    "#AVG SENTENCE LENGTH\n",
    "AVG_SENTENCE_LENGTH = len(content.replace(' ',''))/len(re.split(r'[?!.]', content))\n",
    "print('Word average =', AVG_SENTENCE_LENGTH)\n",
    "import textstat\n",
    "#Fog index \n",
    "FOG_INDEX=(textstat.gunning_fog(content))\n",
    "print(\"FOG INDEX = \",FOG_INDEX)\n",
    "#Average No of Words Per Sentence \n",
    "AVG_NUMBER_OF_WORDS_PER_SENTENCE = [len(l.split()) for l in re.split(r'[?!.]', content) if l.strip()]\n",
    "print(\"Average no of words per sentence\")\n",
    "AVG_NUMBER_OF_WORDS_PER_SENTENCE=print(sum(AVG_NUMBER_OF_WORDS_PER_SENTENCE)/len(AVG_NUMBER_OF_WORDS_PER_SENTENCE))\n",
    "#Complex words\n",
    "def syllable_count(word):\n",
    "    count = 0\n",
    "    vowels = \"AEIOUYaeiouy\"\n",
    "    if word[0] in vowels:\n",
    "        count += 1\n",
    "    for index in range(1, len(word)): \n",
    "        if word[index] in vowels and word[index - 1] not in vowels:\n",
    "            count += 1\n",
    "            if word.endswith(\"es\"or \"ed\"):\n",
    "                count -= 1\n",
    "    if count == 0:\n",
    "        count += 1\n",
    "    return count\n",
    "\n",
    "\n",
    "\n",
    "COMPLEX_WORDS=syllable_count(content)\n",
    "print(\"Complex Words\",COMPLEX_WORDS)\n"
   ]
  },
  {
   "cell_type": "code",
   "execution_count": 8,
   "id": "d562b157",
   "metadata": {},
   "outputs": [
    {
     "name": "stdout",
     "output_type": "stream",
     "text": [
      "Word Count 11015\n",
      "Percentage of Complex Words 28.996822514752612\n",
      "Average Word per Length 5.040043883708173\n",
      "The AVG number of syllables in the word is: \n",
      "1.9544706527701592\n",
      "Word Count 11015\n",
      "Percentage of Complex Words 28.996822514752612\n",
      "Average Word per Length 5.040043883708173\n",
      "The AVG number of syllables in the word is: \n",
      "1.9544706527701592\n"
     ]
    }
   ],
   "source": [
    "#Word Count\n",
    "Word_Count=len(content)\n",
    "print(\"Word Count\",Word_Count)\n",
    "#Percentage Complex Words\n",
    "pcw=(COMPLEX_WORDS/Word_Count)*100\n",
    "print(\"Percentage of Complex Words\",pcw)\n",
    "#Average Word Length\n",
    "Average_Word_Length=len(content.replace(' ',''))/len(content.split())\n",
    "print(\"Average Word per Length\",Average_Word_Length)\n",
    "#Syllable Count Per Word\n",
    "word=content.replace(' ','')\n",
    "syllable_count=0\n",
    "for w in word:\n",
    "      if(w=='a' or w=='e' or w=='i' or w=='o' or w=='y' or w=='u' or w=='A' or w=='E' or w=='I' or w=='O' or w=='U' or w=='Y'):\n",
    "            syllable_count=syllable_count+1\n",
    "print(\"The AVG number of syllables in the word is: \")\n",
    "print(syllable_count/len(content.split()))#Word Count\n",
    "Word_Count=len(content)\n",
    "print(\"Word Count\",Word_Count)\n",
    "#Percentage Complex Words\n",
    "pcw=(COMPLEX_WORDS/Word_Count)*100\n",
    "print(\"Percentage of Complex Words\",pcw)\n",
    "#Average Word Length\n",
    "Average_Word_Length=len(content.replace(' ',''))/len(content.split())\n",
    "print(\"Average Word per Length\",Average_Word_Length)\n",
    "#Syllable Count Per Word\n",
    "word=content.replace(' ','')\n",
    "syllable_count=0\n",
    "for w in word:\n",
    "      if(w=='a' or w=='e' or w=='i' or w=='o' or w=='y' or w=='u' or w=='A' or w=='E' or w=='I' or w=='O' or w=='U' or w=='Y'):\n",
    "            syllable_count=syllable_count+1\n",
    "print(\"The AVG number of syllables in the word is: \")\n",
    "print(syllable_count/len(content.split()))"
   ]
  },
  {
   "cell_type": "code",
   "execution_count": 1,
   "id": "79c2592a",
   "metadata": {},
   "outputs": [
    {
     "name": "stdout",
     "output_type": "stream",
     "text": [
      "25\n",
      "45\n",
      "Word average = 9188.0\n",
      "FOG INDEX =  732.66\n",
      "Average no of words per sentence\n",
      "1823.0\n",
      "Complex Words 3194\n",
      "Word Count 11016\n",
      "Percentage of Complex Words 28.99419026870007\n",
      "Average Word per Length 5.040043883708173\n",
      "The AVG number of syllables in the word is: \n",
      "1.9544706527701592\n"
     ]
    },
    {
     "data": {
      "text/html": [
       "<div>\n",
       "<style scoped>\n",
       "    .dataframe tbody tr th:only-of-type {\n",
       "        vertical-align: middle;\n",
       "    }\n",
       "\n",
       "    .dataframe tbody tr th {\n",
       "        vertical-align: top;\n",
       "    }\n",
       "\n",
       "    .dataframe thead th {\n",
       "        text-align: right;\n",
       "    }\n",
       "</style>\n",
       "<table border=\"1\" class=\"dataframe\">\n",
       "  <thead>\n",
       "    <tr style=\"text-align: right;\">\n",
       "      <th></th>\n",
       "      <th>url</th>\n",
       "      <th>title</th>\n",
       "      <th>content</th>\n",
       "      <th>filter_content</th>\n",
       "      <th>Positive_Score</th>\n",
       "      <th>Negative_Score</th>\n",
       "      <th>Avg_Sentence_Length</th>\n",
       "      <th>Percentage_Complex_Word</th>\n",
       "      <th>Fog_Index</th>\n",
       "      <th>AVG_NUMBER_OF_WORDS_PER_SENTENCE</th>\n",
       "      <th>COMPLEX_WORDS</th>\n",
       "      <th>Word_Count</th>\n",
       "      <th>syllable</th>\n",
       "      <th>Average_Word_Length</th>\n",
       "      <th>polarity</th>\n",
       "      <th>subjectivity</th>\n",
       "    </tr>\n",
       "  </thead>\n",
       "  <tbody>\n",
       "    <tr>\n",
       "      <th>0</th>\n",
       "      <td>https://insights.blackcoffer.com/covid-19-how-...</td>\n",
       "      <td>COVID-19: How have countries been responding?</td>\n",
       "      <td>“If anything kills over 10 million people ov...</td>\n",
       "      <td>“If anything kills over 10 million people over...</td>\n",
       "      <td>25</td>\n",
       "      <td>45</td>\n",
       "      <td>9188.0</td>\n",
       "      <td>28.99419</td>\n",
       "      <td>732.66</td>\n",
       "      <td>1823.0</td>\n",
       "      <td>3194</td>\n",
       "      <td>11016</td>\n",
       "      <td>1.954471</td>\n",
       "      <td>5.040044</td>\n",
       "      <td>-0.014979</td>\n",
       "      <td>0.371632</td>\n",
       "    </tr>\n",
       "  </tbody>\n",
       "</table>\n",
       "</div>"
      ],
      "text/plain": [
       "                                                 url  \\\n",
       "0  https://insights.blackcoffer.com/covid-19-how-...   \n",
       "\n",
       "                                           title  \\\n",
       "0  COVID-19: How have countries been responding?   \n",
       "\n",
       "                                             content  \\\n",
       "0    “If anything kills over 10 million people ov...   \n",
       "\n",
       "                                      filter_content  Positive_Score  \\\n",
       "0  “If anything kills over 10 million people over...              25   \n",
       "\n",
       "   Negative_Score  Avg_Sentence_Length  Percentage_Complex_Word  Fog_Index  \\\n",
       "0              45               9188.0                 28.99419     732.66   \n",
       "\n",
       "    AVG_NUMBER_OF_WORDS_PER_SENTENCE  COMPLEX_WORDS  Word_Count  syllable  \\\n",
       "0                             1823.0           3194       11016  1.954471   \n",
       "\n",
       "   Average_Word_Length  polarity  subjectivity  \n",
       "0             5.040044 -0.014979      0.371632  "
      ]
     },
     "execution_count": 1,
     "metadata": {},
     "output_type": "execute_result"
    }
   ],
   "source": [
    "import requests\n",
    "import pandas as pd \n",
    "from bs4 import BeautifulSoup\n",
    "import string\n",
    "import spacy\n",
    "import re\n",
    "url = \"\"\"https://insights.blackcoffer.com/covid-19-how-have-countries-been-responding-2/\"\"\"\n",
    "headers = {\"User-Agent\": \"Mozilla/5.0 (X11; Linux x86_64; rv:60.0) Gecko/20100101 Firefox/60.0\"}\n",
    "page = requests.get(url, headers=headers)\n",
    "soup = BeautifulSoup(page.content, 'html.parser')\n",
    "soup=BeautifulSoup(page.content, 'html.parser')\n",
    "title=soup.find('h1',class_=\"entry-title\")\n",
    "title=title.text.replace('\\n',\" \")\n",
    "# title\n",
    "\n",
    "content=soup.findAll(attrs={'class':'td-post-content'})\n",
    "content=content[0].text.replace('\\n',\" \")\n",
    "# print(content)\n",
    "#Punctuation\n",
    "content = content.translate(str.maketrans('', '', string.punctuation)) \n",
    "# print(content)\n",
    "text = content.split()\n",
    "# print(text)\n",
    "len(text)\n",
    "#Positive Score \n",
    "with open(r\"C:\\Users\\Om Bhandwalkar\\Desktop\\pos\\positive-words.txt\") as pos:\n",
    "    poswords = pos.read().split(\"\\n\")  \n",
    "    poswords = poswords[5:]\n",
    "pos_count = \" \".join ([w for w in text if w in poswords])\n",
    "pos_count=pos_count.split(\" \")\n",
    "Positive_score=len(pos_count)\n",
    "print(Positive_score)\n",
    "\n",
    "#Negative Score\n",
    "with open(r\"C:\\Users\\Om Bhandwalkar\\Desktop\\pos\\negative-words.txt\",encoding =\"ISO-8859-1\") as neg:\n",
    "    negwords = neg.read().split(\"\\n\")\n",
    "    \n",
    "negwords = negwords[36:]\n",
    "neg_count = \" \".join ([w for w in text if w in negwords])\n",
    "neg_count=neg_count.split(\" \")\n",
    "Negative_score=len(neg_count)\n",
    "print(Negative_score)\n",
    "\n",
    "\n",
    "filter_content = ' '.join(text)\n",
    "data=[[url,title,content,filter_content,Positive_score,Negative_score]]\n",
    "data=pd.DataFrame(data,columns=[\"url\",\"title\",\"content\",\"filter_content\",\"Positive_Score\",\"Negative_Score\"])\n",
    "from textblob import TextBlob\n",
    "# Get The Subjectivity\n",
    "def sentiment_analysis(data):\n",
    "    sentiment = TextBlob(data[\"content\"]).sentiment\n",
    "    return pd.Series([sentiment.polarity,sentiment.subjectivity ])\n",
    "data[[\"polarity\", \"subjectivity\"]] = data.apply(sentiment_analysis, axis=1)\n",
    "data\n",
    "#AVG SENTENCE LENGTH\n",
    "AVG_SENTENCE_LENGTH = len(content.replace(' ',''))/len(re.split(r'[?!.]', content))\n",
    "print('Word average =', AVG_SENTENCE_LENGTH)\n",
    "import textstat\n",
    "#Fog index \n",
    "FOG_INDEX=(textstat.gunning_fog(content))\n",
    "print(\"FOG INDEX = \",FOG_INDEX)\n",
    "#Average No of Words Per Sentence \n",
    "AVG_NUMBER_OF_WORDS_PER_SENTENCE = [len(l.split()) for l in re.split(r'[?!.]', content) if l.strip()]\n",
    "print(\"Average no of words per sentence\")\n",
    "AVG_NUMBER_OF_WORDS_PER_SENTENCE=(sum(AVG_NUMBER_OF_WORDS_PER_SENTENCE)/len(AVG_NUMBER_OF_WORDS_PER_SENTENCE))\n",
    "print(AVG_NUMBER_OF_WORDS_PER_SENTENCE)\n",
    "#Complex words\n",
    "def syllable_count(word):\n",
    "    count = 0\n",
    "    vowels = \"AEIOUYaeiouy\"\n",
    "    if word[0] in vowels:\n",
    "        count += 1\n",
    "    for index in range(1, len(word)): \n",
    "        if word[index] in vowels and word[index - 1] not in vowels:\n",
    "            count += 1\n",
    "            if word.endswith(\"es\"or \"ed\"):\n",
    "                count -= 1\n",
    "    if count == 0:\n",
    "        count += 1\n",
    "    return count\n",
    "\n",
    "\n",
    "\n",
    "COMPLEX_WORDS=syllable_count(content)\n",
    "print(\"Complex Words\",COMPLEX_WORDS)\n",
    "#Word Count\n",
    "Word_Count=len(content)\n",
    "print(\"Word Count\",Word_Count)\n",
    "#Percentage Complex Words\n",
    "pcw=(COMPLEX_WORDS/Word_Count)*100\n",
    "print(\"Percentage of Complex Words\",pcw)\n",
    "#Average Word Length\n",
    "Average_Word_Length=len(content.replace(' ',''))/len(content.split())\n",
    "print(\"Average Word per Length\",Average_Word_Length)\n",
    "#Syllable Count Per Word\n",
    "word=content.replace(' ','')\n",
    "syllable_count=0\n",
    "for w in word:\n",
    "      if(w=='a' or w=='e' or w=='i' or w=='o' or w=='y' or w=='u' or w=='A' or w=='E' or w=='I' or w=='O' or w=='U' or w=='Y'):\n",
    "            syllable_count=syllable_count+1\n",
    "print(\"The AVG number of syllables in the word is: \")\n",
    "syllable = (syllable_count/len(content.split()))\n",
    "print(syllable)\n",
    "\n",
    "data = [[url,title,content,filter_content,Positive_score,Negative_score,AVG_SENTENCE_LENGTH,pcw,FOG_INDEX,\n",
    "         AVG_NUMBER_OF_WORDS_PER_SENTENCE,COMPLEX_WORDS,Word_Count,syllable,Average_Word_Length]]\n",
    "data=pd.DataFrame(data,columns=[\"url\",\"title\",\"content\",\"filter_content\",\"Positive_Score\",\"Negative_Score\",\"Avg_Sentence_Length\"\n",
    "                               ,\"Percentage_Complex_Word\",\"Fog_Index\",\" AVG_NUMBER_OF_WORDS_PER_SENTENCE\",\"COMPLEX_WORDS\",\n",
    "                               \"Word_Count\",\"syllable\",\"Average_Word_Length\"])\n",
    "from textblob import TextBlob\n",
    "# Get The Subjectivity\n",
    "def sentiment_analysis(data):\n",
    "    sentiment = TextBlob(data[\"content\"]).sentiment\n",
    "    return pd.Series([sentiment.polarity,sentiment.subjectivity ])\n",
    "data[[\"polarity\", \"subjectivity\"]] = data.apply(sentiment_analysis, axis=1)\n",
    "data"
   ]
  },
  {
   "cell_type": "code",
   "execution_count": 2,
   "id": "e1b943d2",
   "metadata": {},
   "outputs": [],
   "source": [
    "data.to_csv(r'C:\\Users\\Om Bhandwalkar\\Desktop\\BlackCoffer Assignment\\Output\\url_115.csv')"
   ]
  },
  {
   "cell_type": "code",
   "execution_count": null,
   "id": "25dbc2b5",
   "metadata": {},
   "outputs": [],
   "source": []
  }
 ],
 "metadata": {
  "kernelspec": {
   "display_name": "Python 3 (ipykernel)",
   "language": "python",
   "name": "python3"
  },
  "language_info": {
   "codemirror_mode": {
    "name": "ipython",
    "version": 3
   },
   "file_extension": ".py",
   "mimetype": "text/x-python",
   "name": "python",
   "nbconvert_exporter": "python",
   "pygments_lexer": "ipython3",
   "version": "3.9.12"
  }
 },
 "nbformat": 4,
 "nbformat_minor": 5
}
