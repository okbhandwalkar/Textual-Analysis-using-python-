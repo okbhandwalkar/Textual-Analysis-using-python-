{
 "cells": [
  {
   "cell_type": "code",
   "execution_count": 1,
   "id": "7e9d61bf",
   "metadata": {},
   "outputs": [
    {
     "data": {
      "text/plain": [
       "'How will COVID-19 affect the world of work?'"
      ]
     },
     "execution_count": 1,
     "metadata": {},
     "output_type": "execute_result"
    }
   ],
   "source": [
    "import requests\n",
    "import pandas as pd \n",
    "from bs4 import BeautifulSoup\n",
    "import string\n",
    "import spacy\n",
    "import re\n",
    "url = \"\"\"https://insights.blackcoffer.com/how-will-covid-19-affect-the-world-of-work-4/\"\"\"\n",
    "headers = {\"User-Agent\": \"Mozilla/5.0 (X11; Linux x86_64; rv:60.0) Gecko/20100101 Firefox/60.0\"}\n",
    "page = requests.get(url, headers=headers)\n",
    "soup = BeautifulSoup(page.content, 'html.parser')\n",
    "soup=BeautifulSoup(page.content, 'html.parser')\n",
    "title=soup.find('h1',class_=\"entry-title\")\n",
    "title=title.text.replace('\\n',\" \")\n",
    "title\n"
   ]
  },
  {
   "cell_type": "code",
   "execution_count": 2,
   "id": "74ede227",
   "metadata": {},
   "outputs": [
    {
     "name": "stdout",
     "output_type": "stream",
     "text": [
      " COVID19 affects the world from every way life emotional to social, philosophy to physical. Economical to the thread of life…it is known as present as part of life. which tell as on a daily base to the world just stop your self where you are present..if you move you will lose to yourself and to others, it’s like a story which tells which we listen in our childhood one dirty fish harm the all see. So now we have one only options to not move which tell as that we can’t work as we working 3months earlier….till the hope of living make new invention to challenge the world biggest challenge…upto that time we have stop to as to work as we are working eailer that mean we have to do essential work…this self defince throory and sanjvini of life is going to affect world of work as i mantion in many why before we understand current sanrio…i wold like to share some personal life experiences with you i belong to small beautiful city it far from 250 km from india capital new Delhi…story of today my city is not that mctah complex as big metro city or world most developed nations are facings problem of covid but still we are at self isolated face as city ti safe as here the problem which tell as beautiful stories 4week earlier when there no lock down was there our maid came to work at home and my mom asked here to stop working she repided very beautiful that if we stop working who will going to take care of my family. here directly saying moany is one thing at that time but may mon replied here that we will help you and I also replied here that government will also help if their situation will be critical but she reply again and told me that what use of here good health that if we can’t use to for work and she continues to come on work till 2day of 1st lockdown. She stops till when law forced here to stop here…my mom asked here yesterday when she comes to our medical shop to take medicine for her family. What you are doing know days she replied again in a beautiful way and told us that she said I going into gurdwara to for making food for a needed person with taking some sought of privation I asked why you are doing she replied that I am financial strong so that I can help other but I can do which I can do is work for other…this story give many views regarding the current working scenario. even I was thinking earlier we are going fave of life where we going to so lazy and more addicted of device yes we going to attend of these things but as our DNA and value system and living force to earn money for living or living for money is going to work as past this story till me that we going to past as future today is just phase which will pass out one day with some spreading difficulty and learning of life that give a clear picture that we not going to time world work stop in future and if we talk about the current scenario we still not our critical work yes we have to stop or we many cases we stop using unnecessary think. let discuss the current world work situation with some facts and figures…..In the worst-case scenario, the world economy could contract by 0.9 percent in 2020,” the DESA said, adding that the world economy had contracted by 1.7 percent during the global financial crisis in 2009. this will result in a massive increase in the unemployment rate even some figure start to come regarding jobless like: America till know project that they are going to be 2 crore jobless due to covid19 if this will continue till 3 moth more, see face developing nation when the name of doping nation come to the first ma,e come into mind is India with reference of business stand article; we estimated the cost of lockdown nearly 17.008 lakh crore or rupee 17 trillion dollar loss to a different sector of business if strictly lockdown is followed till 17 may let’s see sector ways… the mining sector is going to affect completely with the loss of 0.6975 lakh crore rupees only and manufacturing sector going face loss of 4.86 lakh crore only, construction cooling shut down for 2.385 lakh crore loss, trade hotel transport business  and broadcasting facing loss 5.445 lakh crore, financial real estate are going face loss of6.3225 lakh crore which make total 17 lakh crore loss  this finger is eagle to the total focal budget of the movement of India of 2015 and India estimate COVID 19 costs the 3 crore people jobless in India so imagine where we are going but still, we have hope to get well soon because we know when to work or when to stop us. My last opinion state work of word today affected but after some time we will at the same path where we in the past it just need some afford. Blackcoffer Insights 17: Shubham Kumar and Anisha  \n",
      " COVID19 affects the world from every way life emotional to social philosophy to physical Economical to the thread of life…it is known as present as part of life which tell as on a daily base to the world just stop your self where you are presentif you move you will lose to yourself and to others it’s like a story which tells which we listen in our childhood one dirty fish harm the all see So now we have one only options to not move which tell as that we can’t work as we working 3months earlier…till the hope of living make new invention to challenge the world biggest challenge…upto that time we have stop to as to work as we are working eailer that mean we have to do essential work…this self defince throory and sanjvini of life is going to affect world of work as i mantion in many why before we understand current sanrio…i wold like to share some personal life experiences with you i belong to small beautiful city it far from 250 km from india capital new Delhi…story of today my city is not that mctah complex as big metro city or world most developed nations are facings problem of covid but still we are at self isolated face as city ti safe as here the problem which tell as beautiful stories 4week earlier when there no lock down was there our maid came to work at home and my mom asked here to stop working she repided very beautiful that if we stop working who will going to take care of my family here directly saying moany is one thing at that time but may mon replied here that we will help you and I also replied here that government will also help if their situation will be critical but she reply again and told me that what use of here good health that if we can’t use to for work and she continues to come on work till 2day of 1st lockdown She stops till when law forced here to stop here…my mom asked here yesterday when she comes to our medical shop to take medicine for her family What you are doing know days she replied again in a beautiful way and told us that she said I going into gurdwara to for making food for a needed person with taking some sought of privation I asked why you are doing she replied that I am financial strong so that I can help other but I can do which I can do is work for other…this story give many views regarding the current working scenario even I was thinking earlier we are going fave of life where we going to so lazy and more addicted of device yes we going to attend of these things but as our DNA and value system and living force to earn money for living or living for money is going to work as past this story till me that we going to past as future today is just phase which will pass out one day with some spreading difficulty and learning of life that give a clear picture that we not going to time world work stop in future and if we talk about the current scenario we still not our critical work yes we have to stop or we many cases we stop using unnecessary think let discuss the current world work situation with some facts and figures…In the worstcase scenario the world economy could contract by 09 percent in 2020” the DESA said adding that the world economy had contracted by 17 percent during the global financial crisis in 2009 this will result in a massive increase in the unemployment rate even some figure start to come regarding jobless like America till know project that they are going to be 2 crore jobless due to covid19 if this will continue till 3 moth more see face developing nation when the name of doping nation come to the first mae come into mind is India with reference of business stand article we estimated the cost of lockdown nearly 17008 lakh crore or rupee 17 trillion dollar loss to a different sector of business if strictly lockdown is followed till 17 may let’s see sector ways… the mining sector is going to affect completely with the loss of 06975 lakh crore rupees only and manufacturing sector going face loss of 486 lakh crore only construction cooling shut down for 2385 lakh crore loss trade hotel transport business  and broadcasting facing loss 5445 lakh crore financial real estate are going face loss of63225 lakh crore which make total 17 lakh crore loss  this finger is eagle to the total focal budget of the movement of India of 2015 and India estimate COVID 19 costs the 3 crore people jobless in India so imagine where we are going but still we have hope to get well soon because we know when to work or when to stop us My last opinion state work of word today affected but after some time we will at the same path where we in the past it just need some afford Blackcoffer Insights 17 Shubham Kumar and Anisha  \n",
      "['COVID19', 'affects', 'the', 'world', 'from', 'every', 'way', 'life', 'emotional', 'to', 'social', 'philosophy', 'to', 'physical', 'Economical', 'to', 'the', 'thread', 'of', 'life…it', 'is', 'known', 'as', 'present', 'as', 'part', 'of', 'life', 'which', 'tell', 'as', 'on', 'a', 'daily', 'base', 'to', 'the', 'world', 'just', 'stop', 'your', 'self', 'where', 'you', 'are', 'presentif', 'you', 'move', 'you', 'will', 'lose', 'to', 'yourself', 'and', 'to', 'others', 'it’s', 'like', 'a', 'story', 'which', 'tells', 'which', 'we', 'listen', 'in', 'our', 'childhood', 'one', 'dirty', 'fish', 'harm', 'the', 'all', 'see', 'So', 'now', 'we', 'have', 'one', 'only', 'options', 'to', 'not', 'move', 'which', 'tell', 'as', 'that', 'we', 'can’t', 'work', 'as', 'we', 'working', '3months', 'earlier…till', 'the', 'hope', 'of', 'living', 'make', 'new', 'invention', 'to', 'challenge', 'the', 'world', 'biggest', 'challenge…upto', 'that', 'time', 'we', 'have', 'stop', 'to', 'as', 'to', 'work', 'as', 'we', 'are', 'working', 'eailer', 'that', 'mean', 'we', 'have', 'to', 'do', 'essential', 'work…this', 'self', 'defince', 'throory', 'and', 'sanjvini', 'of', 'life', 'is', 'going', 'to', 'affect', 'world', 'of', 'work', 'as', 'i', 'mantion', 'in', 'many', 'why', 'before', 'we', 'understand', 'current', 'sanrio…i', 'wold', 'like', 'to', 'share', 'some', 'personal', 'life', 'experiences', 'with', 'you', 'i', 'belong', 'to', 'small', 'beautiful', 'city', 'it', 'far', 'from', '250', 'km', 'from', 'india', 'capital', 'new', 'Delhi…story', 'of', 'today', 'my', 'city', 'is', 'not', 'that', 'mctah', 'complex', 'as', 'big', 'metro', 'city', 'or', 'world', 'most', 'developed', 'nations', 'are', 'facings', 'problem', 'of', 'covid', 'but', 'still', 'we', 'are', 'at', 'self', 'isolated', 'face', 'as', 'city', 'ti', 'safe', 'as', 'here', 'the', 'problem', 'which', 'tell', 'as', 'beautiful', 'stories', '4week', 'earlier', 'when', 'there', 'no', 'lock', 'down', 'was', 'there', 'our', 'maid', 'came', 'to', 'work', 'at', 'home', 'and', 'my', 'mom', 'asked', 'here', 'to', 'stop', 'working', 'she', 'repided', 'very', 'beautiful', 'that', 'if', 'we', 'stop', 'working', 'who', 'will', 'going', 'to', 'take', 'care', 'of', 'my', 'family', 'here', 'directly', 'saying', 'moany', 'is', 'one', 'thing', 'at', 'that', 'time', 'but', 'may', 'mon', 'replied', 'here', 'that', 'we', 'will', 'help', 'you', 'and', 'I', 'also', 'replied', 'here', 'that', 'government', 'will', 'also', 'help', 'if', 'their', 'situation', 'will', 'be', 'critical', 'but', 'she', 'reply', 'again', 'and', 'told', 'me', 'that', 'what', 'use', 'of', 'here', 'good', 'health', 'that', 'if', 'we', 'can’t', 'use', 'to', 'for', 'work', 'and', 'she', 'continues', 'to', 'come', 'on', 'work', 'till', '2day', 'of', '1st', 'lockdown', 'She', 'stops', 'till', 'when', 'law', 'forced', 'here', 'to', 'stop', 'here…my', 'mom', 'asked', 'here', 'yesterday', 'when', 'she', 'comes', 'to', 'our', 'medical', 'shop', 'to', 'take', 'medicine', 'for', 'her', 'family', 'What', 'you', 'are', 'doing', 'know', 'days', 'she', 'replied', 'again', 'in', 'a', 'beautiful', 'way', 'and', 'told', 'us', 'that', 'she', 'said', 'I', 'going', 'into', 'gurdwara', 'to', 'for', 'making', 'food', 'for', 'a', 'needed', 'person', 'with', 'taking', 'some', 'sought', 'of', 'privation', 'I', 'asked', 'why', 'you', 'are', 'doing', 'she', 'replied', 'that', 'I', 'am', 'financial', 'strong', 'so', 'that', 'I', 'can', 'help', 'other', 'but', 'I', 'can', 'do', 'which', 'I', 'can', 'do', 'is', 'work', 'for', 'other…this', 'story', 'give', 'many', 'views', 'regarding', 'the', 'current', 'working', 'scenario', 'even', 'I', 'was', 'thinking', 'earlier', 'we', 'are', 'going', 'fave', 'of', 'life', 'where', 'we', 'going', 'to', 'so', 'lazy', 'and', 'more', 'addicted', 'of', 'device', 'yes', 'we', 'going', 'to', 'attend', 'of', 'these', 'things', 'but', 'as', 'our', 'DNA', 'and', 'value', 'system', 'and', 'living', 'force', 'to', 'earn', 'money', 'for', 'living', 'or', 'living', 'for', 'money', 'is', 'going', 'to', 'work', 'as', 'past', 'this', 'story', 'till', 'me', 'that', 'we', 'going', 'to', 'past', 'as', 'future', 'today', 'is', 'just', 'phase', 'which', 'will', 'pass', 'out', 'one', 'day', 'with', 'some', 'spreading', 'difficulty', 'and', 'learning', 'of', 'life', 'that', 'give', 'a', 'clear', 'picture', 'that', 'we', 'not', 'going', 'to', 'time', 'world', 'work', 'stop', 'in', 'future', 'and', 'if', 'we', 'talk', 'about', 'the', 'current', 'scenario', 'we', 'still', 'not', 'our', 'critical', 'work', 'yes', 'we', 'have', 'to', 'stop', 'or', 'we', 'many', 'cases', 'we', 'stop', 'using', 'unnecessary', 'think', 'let', 'discuss', 'the', 'current', 'world', 'work', 'situation', 'with', 'some', 'facts', 'and', 'figures…In', 'the', 'worstcase', 'scenario', 'the', 'world', 'economy', 'could', 'contract', 'by', '09', 'percent', 'in', '2020”', 'the', 'DESA', 'said', 'adding', 'that', 'the', 'world', 'economy', 'had', 'contracted', 'by', '17', 'percent', 'during', 'the', 'global', 'financial', 'crisis', 'in', '2009', 'this', 'will', 'result', 'in', 'a', 'massive', 'increase', 'in', 'the', 'unemployment', 'rate', 'even', 'some', 'figure', 'start', 'to', 'come', 'regarding', 'jobless', 'like', 'America', 'till', 'know', 'project', 'that', 'they', 'are', 'going', 'to', 'be', '2', 'crore', 'jobless', 'due', 'to', 'covid19', 'if', 'this', 'will', 'continue', 'till', '3', 'moth', 'more', 'see', 'face', 'developing', 'nation', 'when', 'the', 'name', 'of', 'doping', 'nation', 'come', 'to', 'the', 'first', 'mae', 'come', 'into', 'mind', 'is', 'India', 'with', 'reference', 'of', 'business', 'stand', 'article', 'we', 'estimated', 'the', 'cost', 'of', 'lockdown', 'nearly', '17008', 'lakh', 'crore', 'or', 'rupee', '17', 'trillion', 'dollar', 'loss', 'to', 'a', 'different', 'sector', 'of', 'business', 'if', 'strictly', 'lockdown', 'is', 'followed', 'till', '17', 'may', 'let’s', 'see', 'sector', 'ways…', 'the', 'mining', 'sector', 'is', 'going', 'to', 'affect', 'completely', 'with', 'the', 'loss', 'of', '06975', 'lakh', 'crore', 'rupees', 'only', 'and', 'manufacturing', 'sector', 'going', 'face', 'loss', 'of', '486', 'lakh', 'crore', 'only', 'construction', 'cooling', 'shut', 'down', 'for', '2385', 'lakh', 'crore', 'loss', 'trade', 'hotel', 'transport', 'business', 'and', 'broadcasting', 'facing', 'loss', '5445', 'lakh', 'crore', 'financial', 'real', 'estate', 'are', 'going', 'face', 'loss', 'of63225', 'lakh', 'crore', 'which', 'make', 'total', '17', 'lakh', 'crore', 'loss', 'this', 'finger', 'is', 'eagle', 'to', 'the', 'total', 'focal', 'budget', 'of', 'the', 'movement', 'of', 'India', 'of', '2015', 'and', 'India', 'estimate', 'COVID', '19', 'costs', 'the', '3', 'crore', 'people', 'jobless', 'in', 'India', 'so', 'imagine', 'where', 'we', 'are', 'going', 'but', 'still', 'we', 'have', 'hope', 'to', 'get', 'well', 'soon', 'because', 'we', 'know', 'when', 'to', 'work', 'or', 'when', 'to', 'stop', 'us', 'My', 'last', 'opinion', 'state', 'work', 'of', 'word', 'today', 'affected', 'but', 'after', 'some', 'time', 'we', 'will', 'at', 'the', 'same', 'path', 'where', 'we', 'in', 'the', 'past', 'it', 'just', 'need', 'some', 'afford', 'Blackcoffer', 'Insights', '17', 'Shubham', 'Kumar', 'and', 'Anisha']\n"
     ]
    }
   ],
   "source": [
    "content=soup.findAll(attrs={'class':'td-post-content'})\n",
    "content=content[0].text.replace('\\n',\" \")\n",
    "print(content)\n",
    "#Punctuation\n",
    "content = content.translate(str.maketrans('', '', string.punctuation)) \n",
    "print(content)\n",
    "text = content.split()\n",
    "print(text)\n"
   ]
  },
  {
   "cell_type": "code",
   "execution_count": 3,
   "id": "796c9ebe",
   "metadata": {},
   "outputs": [
    {
     "data": {
      "text/plain": [
       "876"
      ]
     },
     "execution_count": 3,
     "metadata": {},
     "output_type": "execute_result"
    }
   ],
   "source": [
    "len(text)"
   ]
  },
  {
   "cell_type": "code",
   "execution_count": 5,
   "id": "07ef0ac5",
   "metadata": {},
   "outputs": [
    {
     "name": "stdout",
     "output_type": "stream",
     "text": [
      "27\n"
     ]
    }
   ],
   "source": [
    "#Positive Score \n",
    "with open(r\"C:\\Users\\Om Bhandwalkar\\Desktop\\pos\\positive-words.txt\") as pos:\n",
    "    poswords = pos.read().split(\"\\n\")  \n",
    "    poswords = poswords[5:]\n",
    "pos_count = \" \".join ([w for w in text if w in poswords])\n",
    "pos_count=pos_count.split(\" \")\n",
    "Positive_score=len(pos_count)\n",
    "print(Positive_score)"
   ]
  },
  {
   "cell_type": "code",
   "execution_count": 6,
   "id": "31cdd4b1",
   "metadata": {},
   "outputs": [
    {
     "name": "stdout",
     "output_type": "stream",
     "text": [
      "25\n"
     ]
    }
   ],
   "source": [
    "#Negative Score\n",
    "with open(r\"C:\\Users\\Om Bhandwalkar\\Desktop\\pos\\negative-words.txt\",encoding =\"ISO-8859-1\") as neg:\n",
    "    negwords = neg.read().split(\"\\n\")\n",
    "    \n",
    "negwords = negwords[36:]\n",
    "neg_count = \" \".join ([w for w in text if w in negwords])\n",
    "neg_count=neg_count.split(\" \")\n",
    "Negative_score=len(neg_count)\n",
    "print(Negative_score)"
   ]
  },
  {
   "cell_type": "code",
   "execution_count": 7,
   "id": "fd9ec7dd",
   "metadata": {},
   "outputs": [
    {
     "data": {
      "text/html": [
       "<div>\n",
       "<style scoped>\n",
       "    .dataframe tbody tr th:only-of-type {\n",
       "        vertical-align: middle;\n",
       "    }\n",
       "\n",
       "    .dataframe tbody tr th {\n",
       "        vertical-align: top;\n",
       "    }\n",
       "\n",
       "    .dataframe thead th {\n",
       "        text-align: right;\n",
       "    }\n",
       "</style>\n",
       "<table border=\"1\" class=\"dataframe\">\n",
       "  <thead>\n",
       "    <tr style=\"text-align: right;\">\n",
       "      <th></th>\n",
       "      <th>url</th>\n",
       "      <th>title</th>\n",
       "      <th>content</th>\n",
       "      <th>filter_content</th>\n",
       "      <th>Positive_Score</th>\n",
       "      <th>Negative_Score</th>\n",
       "      <th>polarity</th>\n",
       "      <th>subjectivity</th>\n",
       "    </tr>\n",
       "  </thead>\n",
       "  <tbody>\n",
       "    <tr>\n",
       "      <th>0</th>\n",
       "      <td>https://insights.blackcoffer.com/how-will-covi...</td>\n",
       "      <td>How will COVID-19 affect the world of work?</td>\n",
       "      <td>COVID19 affects the world from every way life...</td>\n",
       "      <td>COVID19 affects the world from every way life ...</td>\n",
       "      <td>27</td>\n",
       "      <td>25</td>\n",
       "      <td>0.068275</td>\n",
       "      <td>0.479522</td>\n",
       "    </tr>\n",
       "  </tbody>\n",
       "</table>\n",
       "</div>"
      ],
      "text/plain": [
       "                                                 url  \\\n",
       "0  https://insights.blackcoffer.com/how-will-covi...   \n",
       "\n",
       "                                         title  \\\n",
       "0  How will COVID-19 affect the world of work?   \n",
       "\n",
       "                                             content  \\\n",
       "0   COVID19 affects the world from every way life...   \n",
       "\n",
       "                                      filter_content  Positive_Score  \\\n",
       "0  COVID19 affects the world from every way life ...              27   \n",
       "\n",
       "   Negative_Score  polarity  subjectivity  \n",
       "0              25  0.068275      0.479522  "
      ]
     },
     "execution_count": 7,
     "metadata": {},
     "output_type": "execute_result"
    }
   ],
   "source": [
    "filter_content = ' '.join(text)\n",
    "data=[[url,title,content,filter_content,Positive_score,Negative_score]]\n",
    "data=pd.DataFrame(data,columns=[\"url\",\"title\",\"content\",\"filter_content\",\"Positive_Score\",\"Negative_Score\"])\n",
    "from textblob import TextBlob\n",
    "# Get The Subjectivity\n",
    "def sentiment_analysis(data):\n",
    "    sentiment = TextBlob(data[\"content\"]).sentiment\n",
    "    return pd.Series([sentiment.polarity,sentiment.subjectivity ])\n",
    "\n",
    "# Adding Subjectivity & Polarity\n",
    "data[[\"polarity\", \"subjectivity\"]] = data.apply(sentiment_analysis, axis=1)\n",
    "\n",
    "data"
   ]
  },
  {
   "cell_type": "code",
   "execution_count": 8,
   "id": "ecbb1747",
   "metadata": {},
   "outputs": [
    {
     "name": "stdout",
     "output_type": "stream",
     "text": [
      "Word average = 3759.0\n",
      "FOG INDEX =  352.27\n",
      "Average no of words per sentence\n",
      "876.0\n",
      "Complex Words 1315\n"
     ]
    }
   ],
   "source": [
    "#AVG SENTENCE LENGTH\n",
    "AVG_SENTENCE_LENGTH = len(content.replace(' ',''))/len(re.split(r'[?!.]', content))\n",
    "print('Word average =', AVG_SENTENCE_LENGTH)\n",
    "import textstat\n",
    "#Fog index \n",
    "FOG_INDEX=(textstat.gunning_fog(content))\n",
    "print(\"FOG INDEX = \",FOG_INDEX)\n",
    "#Average No of Words Per Sentence \n",
    "AVG_NUMBER_OF_WORDS_PER_SENTENCE = [len(l.split()) for l in re.split(r'[?!.]', content) if l.strip()]\n",
    "print(\"Average no of words per sentence\")\n",
    "AVG_NUMBER_OF_WORDS_PER_SENTENCE=print(sum(AVG_NUMBER_OF_WORDS_PER_SENTENCE)/len(AVG_NUMBER_OF_WORDS_PER_SENTENCE))\n",
    "#Complex words\n",
    "def syllable_count(word):\n",
    "    count = 0\n",
    "    vowels = \"AEIOUYaeiouy\"\n",
    "    if word[0] in vowels:\n",
    "        count += 1\n",
    "    for index in range(1, len(word)): \n",
    "        if word[index] in vowels and word[index - 1] not in vowels:\n",
    "            count += 1\n",
    "            if word.endswith(\"es\"or \"ed\"):\n",
    "                count -= 1\n",
    "    if count == 0:\n",
    "        count += 1\n",
    "    return count\n",
    "\n",
    "\n",
    "\n",
    "COMPLEX_WORDS=syllable_count(content)\n",
    "print(\"Complex Words\",COMPLEX_WORDS)\n"
   ]
  },
  {
   "cell_type": "code",
   "execution_count": 9,
   "id": "e33ce51f",
   "metadata": {},
   "outputs": [
    {
     "name": "stdout",
     "output_type": "stream",
     "text": [
      "Word Count 4636\n",
      "Percentage of Complex Words 28.364969801553062\n",
      "Average Word per Length 4.291095890410959\n",
      "The AVG number of syllables in the word is: \n",
      "1.6803652968036529\n",
      "Word Count 4636\n",
      "Percentage of Complex Words 28.364969801553062\n",
      "Average Word per Length 4.291095890410959\n",
      "The AVG number of syllables in the word is: \n",
      "1.6803652968036529\n"
     ]
    }
   ],
   "source": [
    "#Word Count\n",
    "Word_Count=len(content)\n",
    "print(\"Word Count\",Word_Count)\n",
    "#Percentage Complex Words\n",
    "pcw=(COMPLEX_WORDS/Word_Count)*100\n",
    "print(\"Percentage of Complex Words\",pcw)\n",
    "#Average Word Length\n",
    "Average_Word_Length=len(content.replace(' ',''))/len(content.split())\n",
    "print(\"Average Word per Length\",Average_Word_Length)\n",
    "#Syllable Count Per Word\n",
    "word=content.replace(' ','')\n",
    "syllable_count=0\n",
    "for w in word:\n",
    "      if(w=='a' or w=='e' or w=='i' or w=='o' or w=='y' or w=='u' or w=='A' or w=='E' or w=='I' or w=='O' or w=='U' or w=='Y'):\n",
    "            syllable_count=syllable_count+1\n",
    "print(\"The AVG number of syllables in the word is: \")\n",
    "print(syllable_count/len(content.split()))#Word Count\n",
    "Word_Count=len(content)\n",
    "print(\"Word Count\",Word_Count)\n",
    "#Percentage Complex Words\n",
    "pcw=(COMPLEX_WORDS/Word_Count)*100\n",
    "print(\"Percentage of Complex Words\",pcw)\n",
    "#Average Word Length\n",
    "Average_Word_Length=len(content.replace(' ',''))/len(content.split())\n",
    "print(\"Average Word per Length\",Average_Word_Length)\n",
    "#Syllable Count Per Word\n",
    "word=content.replace(' ','')\n",
    "syllable_count=0\n",
    "for w in word:\n",
    "      if(w=='a' or w=='e' or w=='i' or w=='o' or w=='y' or w=='u' or w=='A' or w=='E' or w=='I' or w=='O' or w=='U' or w=='Y'):\n",
    "            syllable_count=syllable_count+1\n",
    "print(\"The AVG number of syllables in the word is: \")\n",
    "print(syllable_count/len(content.split()))"
   ]
  },
  {
   "cell_type": "code",
   "execution_count": 1,
   "id": "bff328e6",
   "metadata": {},
   "outputs": [
    {
     "name": "stdout",
     "output_type": "stream",
     "text": [
      "27\n",
      "25\n",
      "Word average = 3759.0\n",
      "FOG INDEX =  352.27\n",
      "Average no of words per sentence\n",
      "876.0\n",
      "Complex Words 1315\n",
      "Word Count 4637\n",
      "Percentage of Complex Words 28.358852706491266\n",
      "Average Word per Length 4.291095890410959\n",
      "The AVG number of syllables in the word is: \n",
      "1.6803652968036529\n"
     ]
    },
    {
     "data": {
      "text/html": [
       "<div>\n",
       "<style scoped>\n",
       "    .dataframe tbody tr th:only-of-type {\n",
       "        vertical-align: middle;\n",
       "    }\n",
       "\n",
       "    .dataframe tbody tr th {\n",
       "        vertical-align: top;\n",
       "    }\n",
       "\n",
       "    .dataframe thead th {\n",
       "        text-align: right;\n",
       "    }\n",
       "</style>\n",
       "<table border=\"1\" class=\"dataframe\">\n",
       "  <thead>\n",
       "    <tr style=\"text-align: right;\">\n",
       "      <th></th>\n",
       "      <th>url</th>\n",
       "      <th>title</th>\n",
       "      <th>content</th>\n",
       "      <th>filter_content</th>\n",
       "      <th>Positive_Score</th>\n",
       "      <th>Negative_Score</th>\n",
       "      <th>Avg_Sentence_Length</th>\n",
       "      <th>Percentage_Complex_Word</th>\n",
       "      <th>Fog_Index</th>\n",
       "      <th>AVG_NUMBER_OF_WORDS_PER_SENTENCE</th>\n",
       "      <th>COMPLEX_WORDS</th>\n",
       "      <th>Word_Count</th>\n",
       "      <th>syllable</th>\n",
       "      <th>Average_Word_Length</th>\n",
       "      <th>polarity</th>\n",
       "      <th>subjectivity</th>\n",
       "    </tr>\n",
       "  </thead>\n",
       "  <tbody>\n",
       "    <tr>\n",
       "      <th>0</th>\n",
       "      <td>https://insights.blackcoffer.com/how-will-covi...</td>\n",
       "      <td>How will COVID-19 affect the world of work?</td>\n",
       "      <td>COVID19 affects the world from every way lif...</td>\n",
       "      <td>COVID19 affects the world from every way life ...</td>\n",
       "      <td>27</td>\n",
       "      <td>25</td>\n",
       "      <td>3759.0</td>\n",
       "      <td>28.358853</td>\n",
       "      <td>352.27</td>\n",
       "      <td>876.0</td>\n",
       "      <td>1315</td>\n",
       "      <td>4637</td>\n",
       "      <td>1.680365</td>\n",
       "      <td>4.291096</td>\n",
       "      <td>0.068275</td>\n",
       "      <td>0.479522</td>\n",
       "    </tr>\n",
       "  </tbody>\n",
       "</table>\n",
       "</div>"
      ],
      "text/plain": [
       "                                                 url  \\\n",
       "0  https://insights.blackcoffer.com/how-will-covi...   \n",
       "\n",
       "                                         title  \\\n",
       "0  How will COVID-19 affect the world of work?   \n",
       "\n",
       "                                             content  \\\n",
       "0    COVID19 affects the world from every way lif...   \n",
       "\n",
       "                                      filter_content  Positive_Score  \\\n",
       "0  COVID19 affects the world from every way life ...              27   \n",
       "\n",
       "   Negative_Score  Avg_Sentence_Length  Percentage_Complex_Word  Fog_Index  \\\n",
       "0              25               3759.0                28.358853     352.27   \n",
       "\n",
       "    AVG_NUMBER_OF_WORDS_PER_SENTENCE  COMPLEX_WORDS  Word_Count  syllable  \\\n",
       "0                              876.0           1315        4637  1.680365   \n",
       "\n",
       "   Average_Word_Length  polarity  subjectivity  \n",
       "0             4.291096  0.068275      0.479522  "
      ]
     },
     "execution_count": 1,
     "metadata": {},
     "output_type": "execute_result"
    }
   ],
   "source": [
    "import requests\n",
    "import pandas as pd \n",
    "from bs4 import BeautifulSoup\n",
    "import string\n",
    "import spacy\n",
    "import re\n",
    "url = \"\"\"https://insights.blackcoffer.com/how-will-covid-19-affect-the-world-of-work-4/\"\"\"\n",
    "headers = {\"User-Agent\": \"Mozilla/5.0 (X11; Linux x86_64; rv:60.0) Gecko/20100101 Firefox/60.0\"}\n",
    "page = requests.get(url, headers=headers)\n",
    "soup = BeautifulSoup(page.content, 'html.parser')\n",
    "soup=BeautifulSoup(page.content, 'html.parser')\n",
    "title=soup.find('h1',class_=\"entry-title\")\n",
    "title=title.text.replace('\\n',\" \")\n",
    "# title\n",
    "\n",
    "content=soup.findAll(attrs={'class':'td-post-content'})\n",
    "content=content[0].text.replace('\\n',\" \")\n",
    "# print(content)\n",
    "#Punctuation\n",
    "content = content.translate(str.maketrans('', '', string.punctuation)) \n",
    "# print(content)\n",
    "text = content.split()\n",
    "# print(text)\n",
    "len(text)\n",
    "#Positive Score \n",
    "with open(r\"C:\\Users\\Om Bhandwalkar\\Desktop\\pos\\positive-words.txt\") as pos:\n",
    "    poswords = pos.read().split(\"\\n\")  \n",
    "    poswords = poswords[5:]\n",
    "pos_count = \" \".join ([w for w in text if w in poswords])\n",
    "pos_count=pos_count.split(\" \")\n",
    "Positive_score=len(pos_count)\n",
    "print(Positive_score)\n",
    "\n",
    "#Negative Score\n",
    "with open(r\"C:\\Users\\Om Bhandwalkar\\Desktop\\pos\\negative-words.txt\",encoding =\"ISO-8859-1\") as neg:\n",
    "    negwords = neg.read().split(\"\\n\")\n",
    "    \n",
    "negwords = negwords[36:]\n",
    "neg_count = \" \".join ([w for w in text if w in negwords])\n",
    "neg_count=neg_count.split(\" \")\n",
    "Negative_score=len(neg_count)\n",
    "print(Negative_score)\n",
    "\n",
    "\n",
    "filter_content = ' '.join(text)\n",
    "data=[[url,title,content,filter_content,Positive_score,Negative_score]]\n",
    "data=pd.DataFrame(data,columns=[\"url\",\"title\",\"content\",\"filter_content\",\"Positive_Score\",\"Negative_Score\"])\n",
    "from textblob import TextBlob\n",
    "# Get The Subjectivity\n",
    "def sentiment_analysis(data):\n",
    "    sentiment = TextBlob(data[\"content\"]).sentiment\n",
    "    return pd.Series([sentiment.polarity,sentiment.subjectivity ])\n",
    "data[[\"polarity\", \"subjectivity\"]] = data.apply(sentiment_analysis, axis=1)\n",
    "data\n",
    "#AVG SENTENCE LENGTH\n",
    "AVG_SENTENCE_LENGTH = len(content.replace(' ',''))/len(re.split(r'[?!.]', content))\n",
    "print('Word average =', AVG_SENTENCE_LENGTH)\n",
    "import textstat\n",
    "#Fog index \n",
    "FOG_INDEX=(textstat.gunning_fog(content))\n",
    "print(\"FOG INDEX = \",FOG_INDEX)\n",
    "#Average No of Words Per Sentence \n",
    "AVG_NUMBER_OF_WORDS_PER_SENTENCE = [len(l.split()) for l in re.split(r'[?!.]', content) if l.strip()]\n",
    "print(\"Average no of words per sentence\")\n",
    "AVG_NUMBER_OF_WORDS_PER_SENTENCE=(sum(AVG_NUMBER_OF_WORDS_PER_SENTENCE)/len(AVG_NUMBER_OF_WORDS_PER_SENTENCE))\n",
    "print(AVG_NUMBER_OF_WORDS_PER_SENTENCE)\n",
    "#Complex words\n",
    "def syllable_count(word):\n",
    "    count = 0\n",
    "    vowels = \"AEIOUYaeiouy\"\n",
    "    if word[0] in vowels:\n",
    "        count += 1\n",
    "    for index in range(1, len(word)): \n",
    "        if word[index] in vowels and word[index - 1] not in vowels:\n",
    "            count += 1\n",
    "            if word.endswith(\"es\"or \"ed\"):\n",
    "                count -= 1\n",
    "    if count == 0:\n",
    "        count += 1\n",
    "    return count\n",
    "\n",
    "\n",
    "\n",
    "COMPLEX_WORDS=syllable_count(content)\n",
    "print(\"Complex Words\",COMPLEX_WORDS)\n",
    "#Word Count\n",
    "Word_Count=len(content)\n",
    "print(\"Word Count\",Word_Count)\n",
    "#Percentage Complex Words\n",
    "pcw=(COMPLEX_WORDS/Word_Count)*100\n",
    "print(\"Percentage of Complex Words\",pcw)\n",
    "#Average Word Length\n",
    "Average_Word_Length=len(content.replace(' ',''))/len(content.split())\n",
    "print(\"Average Word per Length\",Average_Word_Length)\n",
    "#Syllable Count Per Word\n",
    "word=content.replace(' ','')\n",
    "syllable_count=0\n",
    "for w in word:\n",
    "      if(w=='a' or w=='e' or w=='i' or w=='o' or w=='y' or w=='u' or w=='A' or w=='E' or w=='I' or w=='O' or w=='U' or w=='Y'):\n",
    "            syllable_count=syllable_count+1\n",
    "print(\"The AVG number of syllables in the word is: \")\n",
    "syllable = (syllable_count/len(content.split()))\n",
    "print(syllable)\n",
    "\n",
    "data = [[url,title,content,filter_content,Positive_score,Negative_score,AVG_SENTENCE_LENGTH,pcw,FOG_INDEX,\n",
    "         AVG_NUMBER_OF_WORDS_PER_SENTENCE,COMPLEX_WORDS,Word_Count,syllable,Average_Word_Length]]\n",
    "data=pd.DataFrame(data,columns=[\"url\",\"title\",\"content\",\"filter_content\",\"Positive_Score\",\"Negative_Score\",\"Avg_Sentence_Length\"\n",
    "                               ,\"Percentage_Complex_Word\",\"Fog_Index\",\" AVG_NUMBER_OF_WORDS_PER_SENTENCE\",\"COMPLEX_WORDS\",\n",
    "                               \"Word_Count\",\"syllable\",\"Average_Word_Length\"])\n",
    "from textblob import TextBlob\n",
    "# Get The Subjectivity\n",
    "def sentiment_analysis(data):\n",
    "    sentiment = TextBlob(data[\"content\"]).sentiment\n",
    "    return pd.Series([sentiment.polarity,sentiment.subjectivity ])\n",
    "data[[\"polarity\", \"subjectivity\"]] = data.apply(sentiment_analysis, axis=1)\n",
    "data"
   ]
  },
  {
   "cell_type": "code",
   "execution_count": 2,
   "id": "9461a144",
   "metadata": {},
   "outputs": [],
   "source": [
    "data.to_csv(r'C:\\Users\\Om Bhandwalkar\\Desktop\\BlackCoffer Assignment\\Output\\url_116.csv')"
   ]
  },
  {
   "cell_type": "code",
   "execution_count": null,
   "id": "78f8b8a4",
   "metadata": {},
   "outputs": [],
   "source": []
  }
 ],
 "metadata": {
  "kernelspec": {
   "display_name": "Python 3 (ipykernel)",
   "language": "python",
   "name": "python3"
  },
  "language_info": {
   "codemirror_mode": {
    "name": "ipython",
    "version": 3
   },
   "file_extension": ".py",
   "mimetype": "text/x-python",
   "name": "python",
   "nbconvert_exporter": "python",
   "pygments_lexer": "ipython3",
   "version": "3.9.12"
  }
 },
 "nbformat": 4,
 "nbformat_minor": 5
}
