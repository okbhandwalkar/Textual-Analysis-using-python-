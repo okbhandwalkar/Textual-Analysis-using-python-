{
 "cells": [
  {
   "cell_type": "code",
   "execution_count": 1,
   "id": "f99076c8",
   "metadata": {},
   "outputs": [
    {
     "data": {
      "text/plain": [
       "'Lessons from the past: Some key learnings relevant to the coronavirus crisis'"
      ]
     },
     "execution_count": 1,
     "metadata": {},
     "output_type": "execute_result"
    }
   ],
   "source": [
    "import requests\n",
    "import pandas as pd \n",
    "from bs4 import BeautifulSoup\n",
    "import string\n",
    "import spacy\n",
    "import re\n",
    "url = \"\"\"https://insights.blackcoffer.com/lessons-from-the-past-some-key-learnings-relevant-to-the-coronavirus-crisis-2/\"\"\"\n",
    "headers = {\"User-Agent\": \"Mozilla/5.0 (X11; Linux x86_64; rv:60.0) Gecko/20100101 Firefox/60.0\"}\n",
    "page = requests.get(url, headers=headers)\n",
    "soup = BeautifulSoup(page.content, 'html.parser')\n",
    "soup=BeautifulSoup(page.content, 'html.parser')\n",
    "title=soup.find('h1',class_=\"entry-title\")\n",
    "title=title.text.replace('\\n',\" \")\n",
    "title\n"
   ]
  },
  {
   "cell_type": "code",
   "execution_count": 2,
   "id": "d0c86943",
   "metadata": {},
   "outputs": [
    {
     "name": "stdout",
     "output_type": "stream",
     "text": [
      " “The more you know about the past, the better prepared you are for the future.” Theodore Roosevelt As we speak, the world finds itself engulfed in one of its worst crises in recent times. The global COVID-19 pandemic has caused never-seen-before disruption in both public and economic life. Not only have factories shut down or supply chains abruptly stopped or millions of workers stranded, but festivals suspended, families separated across countries and public-healthcare systems put under tremendous stress. Such a scenario is a first-time for many, but the world has been through pandemics of a similar scale and nature before, and after the due struggle, emerged victoriously. As the more experienced amongst us would remember, the SARS and MERS outbreaks in the early 2000s presented a similar scenario, although at a much lower rate of infection, yet with higher rates of morbidity. Going back further in time, the 1918 Spanish Flu brought a world just out of the first world war, to a standstill. Considered to be the worst amongst modern-era pandemics, the Influenza pandemic affected one-third of the world’s population and 50 million lives. Yet, preventive measures such as social-distancing, quarantine, mass-vaccinations, public support, and restraint have proved to be successful in all such situations, even being effective in occasional plague outbreaks across the world. We face a similar situation today – an extremely infectious virus, which has already spread globally, confined people to their homes and is causing tremendous economic loss every minute economic activity remains suspended, affecting both the government and the industries alike.  Can past similar incidents guide industries in such trying times? Can our governments take note of how public-policy measures adopted during the Spanish flu, SARS and MERS outbreak helped in eliminating such pandemics? What can the Government learn? The panic due to the outbreak of COVID-19, and more importantly, the lockdown measures to deal with it, are quite similar to those during the 1918 Influenza Pandemic, or as it is more commonly referred to as, the Spanish Flu. Large cities around the world were put under strict lockdowns, and businesses worldwide came to a grinding halt as large chunks of the population became bedridden. The immediate consequences were the same as the ones observed in the past few weeks – rampant unemployment, supply shortages, and heavy reliance on social security systems, causing a sudden strain on national economic resources. Impact & Learnings Information & Censorship Effective and transparent communications are one of the most crucial and useful tools in disease control. Iran presents a great example of the damage that can be unleashed by a media-blackout. Secondly, censorship might not be the best way to appease the masses during such times. The long-term political impact of media censorship and manipulation of epidemic-related facts in China is yet to be seen. Still, the short-term international unrest and dissent have only deteriorated international relations. At the risk of quoting a cliché as well as the established Streisand effect, the truth always comes out, no matter how many countries try to hide it. Isolation, Lockdown & Distancing Mechanisms Work The Spanish Flu spread was aggravated due to the failure of policymakers in adopting effective containment measures. Research shows that US cities which undertook measures to reduce contact amongst citizens in early-1918 displayed significantly lower peak death rates compared to cities that failed to or were too late to adopt disease containment policies. To quote the results from this 2007 study, “Consistent with this hypothesis, cities in which multiple interventions were implemented at an early phase of the epidemic had peak death rates ≈50% lower than those that did not and had less-steep epidemic curves. They also displayed lower cumulative mortality.”                             1: Contrasting the Death Rates in Philadelphia v. St. Louis during the 1918 Influenza Outbreak 1: Contrasting the Death Rates in Philadelphia v. St. Louis during the 1918 Influenza Outbreak As one might guess, Philadelphia was late to levy restrictions on gatherings, parades, and social distancing measures, whereas St. Louis was not. From the same study, we see the definition of a popular phrase “flattening the curve” emerging – which is spreading out the rate of infection over time, enabling health care systems to treat people in a staggered manner, in line with available resources. And, to further corroborate this result, the following graph from the same study shows the different trajectories followed by the disease in two cities of the US. Hence, regardless of the multiple debunking claims of social-distancing & lockdown as an effective preventive mechanism, previous epidemics have taught us that they perform a marvelous job at ‘flattening the curve’. Premature Relaxation can be Disastrous Social Distancing & Lockdown measures are effective, only if sustained, at least for a few months, even after things start to improve. Markel (2007), shows the disastrous consequences that the early relaxation of bans on public gatherings in St. Louis had on death rates, during the Spanish flu. The pullback of social distancing measures to pursue economic interests was premature and caused a sudden, unprecedented surge in the number of deaths due to the flu.  2: Deaths due to the Spanish Flu in St. Louis – A Wider Picture. The black & grey lines show the duration for which social-distancing measures were active. 2: Deaths due to the Spanish Flu in St. Louis – A Wider Picture. The black & grey lines show the duration for which social-distancing measures were active. Another peak in death rates was observed only in cities that had relaxed distancing measures prematurely. Hence, it is crucial to consider this past artifact when governments compare the inconveniences to the public & damage caused to the economy due to such measures, with the benefits to the nation in terms of human life saved, and then make the call as to when the restrictions must be eased. What can the industry learn? The industry has played a key role in the obscure fight against the worldwide outbreak. But it faces its fair share of challenges, in such unprecedented times. Supply Shortages, due to shut-down of factories & production houses and the uncertainty of when production systems would resume to normal functioning.Transport disruptions, due to closure & quarantining of cities and state-borders; nation-wide lockdowns bringing all transportation to a standstill; significant disruptions in the supply-chains of most goods.Labour issues, with restrictions on movement, come issues of labour welfare, unrest and employment security. This problem is even more serious if the labour force is migratory in nature. Global industries have weathered through multiple natural disasters and two epidemics of a similar scale and nature. Their recovery-paths have immense strategic implications for current policy-makers and offer strategic insights, helping companies chart out their short-term & long-term strategies. 3: This graph looks at the retail sales impact of the SARS epidemic in China in 2003; the earthquake, tsunami and Fukushima nuclear disaster in Japan in 2011; and the MERS epidemic in South Korea in 201.5 3: This graph looks at the retail sales impact of the SARS epidemic in China in 2003; the earthquake, tsunami and Fukushima nuclear disaster in Japan in 2011; and the MERS epidemic in South Korea in 201.5 Three phases characterise the impact on the retail market in all these three cases: ShockRecoveryStabilization The paths inevitably converge to stabilization but follow different trajectories, and are swayed by public perceptions and externalities, as in the case of the mid-autumn festival in South Korea. Looking at the retail sector from a micro-lens, past crises show that demand trends vary amongst product categories, both during and post the crisis. The three categories usually follow such trends: Demand Trends during & post a Pandemic-generated Crisis 4: Demand Trends during & post a Pandemic-generated Crisis 4: Demand Trends during & post a Pandemic-generated Crisis[1] These three trends are a valuable tool for both large scale players and regional retailers who now have the means to prioritize and predict consumer-demand and consequently alleviate a sudden strain on the product supply chain arising out of sudden & unexpected demands. Change in Consumer Behaviour A peculiar outcome of such epidemics have been the somewhat permanent changes instilled in consumer buying trends across the inflicted regions, across product categories – Fresh staples see a sharp rise in their demand and product hygiene & safety standards are ranked higher up in the consumers’ priority list. Hence, the advantage lies with producers who can quickly integrate changed consumer-preferences in their products, showcase product reliability & quality, and priced competitively, given the prevalent context. Lastly, previous pandemics have consolidated a long-standing theory, which is true not just for the retail sector but for any consumer-centric industry that there is, – Consumer Loyalty is tried and tested during these times. Effective Consumer Relationship Management (CRM) can forge bonds that go a long way, weathering through the thick and thin in such unprecedented times. Implications Almost two decades ago, the SARS outbreak in China had pushed entrepreneurs and established players to embrace the dawn of the e-commerce era. This outbreak is expected to accelerate further the shift from conventional brick-mortar based commerce to a centralized online cloud-store based mechanism. Survival, in the FMCG sector at least, will be decided to a great extent by the breadth of the supply chain networks and the ability to overcome severe bottlenecks. The past has shown that even though established large-scale players with deep pockets and extensive networks, have a likelier chance to tough it through these hard times, even the regional players & SMEs make it through, strengthened by community-support, empathy and most importantly, local relationships. What did we fail to learn? This global pandemic outbreak has made one thing painfully clear – there is a lack of global collaborative research on ways to combat the spread of such infectious diseases. In the words of Johan Neyts, professor of virology and president of the Belgian-based, International Society for Antiviral Research (ISAR), health authorities failed to incorporate the learnings of the SARS outbreak of the early 2000s, partly because of the economic crisis of 2008 which squeezed funds from any potential research that could have been undertaken and partly because of the lack of seriousness in authorities in considering the efforts involved in dealing with the future expected breaks of coronavirus due to its seven different strains in existence.  The Way forward? All of these lessons come with a caveat – Things change with time. The modes of communication have changed. Both information & travel is much more accessible now. We have fast planes & faster internet. We have better healthcare capabilities and a much better, if not perfect, healthcare system. In 1918, people didn’t even know that a virus was causing the pandemic until much after its eradication. Today, we already have extensive research going on for 70 different probable vaccines for the virus, with a record setting pace in clinical trials and approvals. We are much better equipped than what we were 100 years ago, and at the same time, somewhat under-equipped to deal with it. But these lessons from the various similar crises that humanity has faced and risen from, act as a glimmer of hope in these dire times, and if put to good use, can aid in the fight against COVID-19. In the words of Howard Markel, “There’s never been a better time in human history to have a pandemic than today, with the exception of next week or a month later. You want to kick that can down the road, but it’s here today.” Blackcoffer Insights 17: Nishant Kumar Satyam,Vasu Golyan \n",
      " “The more you know about the past the better prepared you are for the future” Theodore Roosevelt As we speak the world finds itself engulfed in one of its worst crises in recent times The global COVID19 pandemic has caused neverseenbefore disruption in both public and economic life Not only have factories shut down or supply chains abruptly stopped or millions of workers stranded but festivals suspended families separated across countries and publichealthcare systems put under tremendous stress Such a scenario is a firsttime for many but the world has been through pandemics of a similar scale and nature before and after the due struggle emerged victoriously As the more experienced amongst us would remember the SARS and MERS outbreaks in the early 2000s presented a similar scenario although at a much lower rate of infection yet with higher rates of morbidity Going back further in time the 1918 Spanish Flu brought a world just out of the first world war to a standstill Considered to be the worst amongst modernera pandemics the Influenza pandemic affected onethird of the world’s population and 50 million lives Yet preventive measures such as socialdistancing quarantine massvaccinations public support and restraint have proved to be successful in all such situations even being effective in occasional plague outbreaks across the world We face a similar situation today – an extremely infectious virus which has already spread globally confined people to their homes and is causing tremendous economic loss every minute economic activity remains suspended affecting both the government and the industries alike  Can past similar incidents guide industries in such trying times Can our governments take note of how publicpolicy measures adopted during the Spanish flu SARS and MERS outbreak helped in eliminating such pandemics What can the Government learn The panic due to the outbreak of COVID19 and more importantly the lockdown measures to deal with it are quite similar to those during the 1918 Influenza Pandemic or as it is more commonly referred to as the Spanish Flu Large cities around the world were put under strict lockdowns and businesses worldwide came to a grinding halt as large chunks of the population became bedridden The immediate consequences were the same as the ones observed in the past few weeks – rampant unemployment supply shortages and heavy reliance on social security systems causing a sudden strain on national economic resources Impact  Learnings Information  Censorship Effective and transparent communications are one of the most crucial and useful tools in disease control Iran presents a great example of the damage that can be unleashed by a mediablackout Secondly censorship might not be the best way to appease the masses during such times The longterm political impact of media censorship and manipulation of epidemicrelated facts in China is yet to be seen Still the shortterm international unrest and dissent have only deteriorated international relations At the risk of quoting a cliché as well as the established Streisand effect the truth always comes out no matter how many countries try to hide it Isolation Lockdown  Distancing Mechanisms Work The Spanish Flu spread was aggravated due to the failure of policymakers in adopting effective containment measures Research shows that US cities which undertook measures to reduce contact amongst citizens in early1918 displayed significantly lower peak death rates compared to cities that failed to or were too late to adopt disease containment policies To quote the results from this 2007 study “Consistent with this hypothesis cities in which multiple interventions were implemented at an early phase of the epidemic had peak death rates ≈50 lower than those that did not and had lesssteep epidemic curves They also displayed lower cumulative mortality”                             1 Contrasting the Death Rates in Philadelphia v St Louis during the 1918 Influenza Outbreak 1 Contrasting the Death Rates in Philadelphia v St Louis during the 1918 Influenza Outbreak As one might guess Philadelphia was late to levy restrictions on gatherings parades and social distancing measures whereas St Louis was not From the same study we see the definition of a popular phrase “flattening the curve” emerging – which is spreading out the rate of infection over time enabling health care systems to treat people in a staggered manner in line with available resources And to further corroborate this result the following graph from the same study shows the different trajectories followed by the disease in two cities of the US Hence regardless of the multiple debunking claims of socialdistancing  lockdown as an effective preventive mechanism previous epidemics have taught us that they perform a marvelous job at ‘flattening the curve’ Premature Relaxation can be Disastrous Social Distancing  Lockdown measures are effective only if sustained at least for a few months even after things start to improve Markel 2007 shows the disastrous consequences that the early relaxation of bans on public gatherings in St Louis had on death rates during the Spanish flu The pullback of social distancing measures to pursue economic interests was premature and caused a sudden unprecedented surge in the number of deaths due to the flu  2 Deaths due to the Spanish Flu in St Louis – A Wider Picture The black  grey lines show the duration for which socialdistancing measures were active 2 Deaths due to the Spanish Flu in St Louis – A Wider Picture The black  grey lines show the duration for which socialdistancing measures were active Another peak in death rates was observed only in cities that had relaxed distancing measures prematurely Hence it is crucial to consider this past artifact when governments compare the inconveniences to the public  damage caused to the economy due to such measures with the benefits to the nation in terms of human life saved and then make the call as to when the restrictions must be eased What can the industry learn The industry has played a key role in the obscure fight against the worldwide outbreak But it faces its fair share of challenges in such unprecedented times Supply Shortages due to shutdown of factories  production houses and the uncertainty of when production systems would resume to normal functioningTransport disruptions due to closure  quarantining of cities and stateborders nationwide lockdowns bringing all transportation to a standstill significant disruptions in the supplychains of most goodsLabour issues with restrictions on movement come issues of labour welfare unrest and employment security This problem is even more serious if the labour force is migratory in nature Global industries have weathered through multiple natural disasters and two epidemics of a similar scale and nature Their recoverypaths have immense strategic implications for current policymakers and offer strategic insights helping companies chart out their shortterm  longterm strategies 3 This graph looks at the retail sales impact of the SARS epidemic in China in 2003 the earthquake tsunami and Fukushima nuclear disaster in Japan in 2011 and the MERS epidemic in South Korea in 2015 3 This graph looks at the retail sales impact of the SARS epidemic in China in 2003 the earthquake tsunami and Fukushima nuclear disaster in Japan in 2011 and the MERS epidemic in South Korea in 2015 Three phases characterise the impact on the retail market in all these three cases ShockRecoveryStabilization The paths inevitably converge to stabilization but follow different trajectories and are swayed by public perceptions and externalities as in the case of the midautumn festival in South Korea Looking at the retail sector from a microlens past crises show that demand trends vary amongst product categories both during and post the crisis The three categories usually follow such trends Demand Trends during  post a Pandemicgenerated Crisis 4 Demand Trends during  post a Pandemicgenerated Crisis 4 Demand Trends during  post a Pandemicgenerated Crisis1 These three trends are a valuable tool for both large scale players and regional retailers who now have the means to prioritize and predict consumerdemand and consequently alleviate a sudden strain on the product supply chain arising out of sudden  unexpected demands Change in Consumer Behaviour A peculiar outcome of such epidemics have been the somewhat permanent changes instilled in consumer buying trends across the inflicted regions across product categories – Fresh staples see a sharp rise in their demand and product hygiene  safety standards are ranked higher up in the consumers’ priority list Hence the advantage lies with producers who can quickly integrate changed consumerpreferences in their products showcase product reliability  quality and priced competitively given the prevalent context Lastly previous pandemics have consolidated a longstanding theory which is true not just for the retail sector but for any consumercentric industry that there is – Consumer Loyalty is tried and tested during these times Effective Consumer Relationship Management CRM can forge bonds that go a long way weathering through the thick and thin in such unprecedented times Implications Almost two decades ago the SARS outbreak in China had pushed entrepreneurs and established players to embrace the dawn of the ecommerce era This outbreak is expected to accelerate further the shift from conventional brickmortar based commerce to a centralized online cloudstore based mechanism Survival in the FMCG sector at least will be decided to a great extent by the breadth of the supply chain networks and the ability to overcome severe bottlenecks The past has shown that even though established largescale players with deep pockets and extensive networks have a likelier chance to tough it through these hard times even the regional players  SMEs make it through strengthened by communitysupport empathy and most importantly local relationships What did we fail to learn This global pandemic outbreak has made one thing painfully clear – there is a lack of global collaborative research on ways to combat the spread of such infectious diseases In the words of Johan Neyts professor of virology and president of the Belgianbased International Society for Antiviral Research ISAR health authorities failed to incorporate the learnings of the SARS outbreak of the early 2000s partly because of the economic crisis of 2008 which squeezed funds from any potential research that could have been undertaken and partly because of the lack of seriousness in authorities in considering the efforts involved in dealing with the future expected breaks of coronavirus due to its seven different strains in existence  The Way forward All of these lessons come with a caveat – Things change with time The modes of communication have changed Both information  travel is much more accessible now We have fast planes  faster internet We have better healthcare capabilities and a much better if not perfect healthcare system In 1918 people didn’t even know that a virus was causing the pandemic until much after its eradication Today we already have extensive research going on for 70 different probable vaccines for the virus with a record setting pace in clinical trials and approvals We are much better equipped than what we were 100 years ago and at the same time somewhat underequipped to deal with it But these lessons from the various similar crises that humanity has faced and risen from act as a glimmer of hope in these dire times and if put to good use can aid in the fight against COVID19 In the words of Howard Markel “There’s never been a better time in human history to have a pandemic than today with the exception of next week or a month later You want to kick that can down the road but it’s here today” Blackcoffer Insights 17 Nishant Kumar SatyamVasu Golyan \n",
      "['“The', 'more', 'you', 'know', 'about', 'the', 'past', 'the', 'better', 'prepared', 'you', 'are', 'for', 'the', 'future”', 'Theodore', 'Roosevelt', 'As', 'we', 'speak', 'the', 'world', 'finds', 'itself', 'engulfed', 'in', 'one', 'of', 'its', 'worst', 'crises', 'in', 'recent', 'times', 'The', 'global', 'COVID19', 'pandemic', 'has', 'caused', 'neverseenbefore', 'disruption', 'in', 'both', 'public', 'and', 'economic', 'life', 'Not', 'only', 'have', 'factories', 'shut', 'down', 'or', 'supply', 'chains', 'abruptly', 'stopped', 'or', 'millions', 'of', 'workers', 'stranded', 'but', 'festivals', 'suspended', 'families', 'separated', 'across', 'countries', 'and', 'publichealthcare', 'systems', 'put', 'under', 'tremendous', 'stress', 'Such', 'a', 'scenario', 'is', 'a', 'firsttime', 'for', 'many', 'but', 'the', 'world', 'has', 'been', 'through', 'pandemics', 'of', 'a', 'similar', 'scale', 'and', 'nature', 'before', 'and', 'after', 'the', 'due', 'struggle', 'emerged', 'victoriously', 'As', 'the', 'more', 'experienced', 'amongst', 'us', 'would', 'remember', 'the', 'SARS', 'and', 'MERS', 'outbreaks', 'in', 'the', 'early', '2000s', 'presented', 'a', 'similar', 'scenario', 'although', 'at', 'a', 'much', 'lower', 'rate', 'of', 'infection', 'yet', 'with', 'higher', 'rates', 'of', 'morbidity', 'Going', 'back', 'further', 'in', 'time', 'the', '1918', 'Spanish', 'Flu', 'brought', 'a', 'world', 'just', 'out', 'of', 'the', 'first', 'world', 'war', 'to', 'a', 'standstill', 'Considered', 'to', 'be', 'the', 'worst', 'amongst', 'modernera', 'pandemics', 'the', 'Influenza', 'pandemic', 'affected', 'onethird', 'of', 'the', 'world’s', 'population', 'and', '50', 'million', 'lives', 'Yet', 'preventive', 'measures', 'such', 'as', 'socialdistancing', 'quarantine', 'massvaccinations', 'public', 'support', 'and', 'restraint', 'have', 'proved', 'to', 'be', 'successful', 'in', 'all', 'such', 'situations', 'even', 'being', 'effective', 'in', 'occasional', 'plague', 'outbreaks', 'across', 'the', 'world', 'We', 'face', 'a', 'similar', 'situation', 'today', '–', 'an', 'extremely', 'infectious', 'virus', 'which', 'has', 'already', 'spread', 'globally', 'confined', 'people', 'to', 'their', 'homes', 'and', 'is', 'causing', 'tremendous', 'economic', 'loss', 'every', 'minute', 'economic', 'activity', 'remains', 'suspended', 'affecting', 'both', 'the', 'government', 'and', 'the', 'industries', 'alike', 'Can', 'past', 'similar', 'incidents', 'guide', 'industries', 'in', 'such', 'trying', 'times', 'Can', 'our', 'governments', 'take', 'note', 'of', 'how', 'publicpolicy', 'measures', 'adopted', 'during', 'the', 'Spanish', 'flu', 'SARS', 'and', 'MERS', 'outbreak', 'helped', 'in', 'eliminating', 'such', 'pandemics', 'What', 'can', 'the', 'Government', 'learn', 'The', 'panic', 'due', 'to', 'the', 'outbreak', 'of', 'COVID19', 'and', 'more', 'importantly', 'the', 'lockdown', 'measures', 'to', 'deal', 'with', 'it', 'are', 'quite', 'similar', 'to', 'those', 'during', 'the', '1918', 'Influenza', 'Pandemic', 'or', 'as', 'it', 'is', 'more', 'commonly', 'referred', 'to', 'as', 'the', 'Spanish', 'Flu', 'Large', 'cities', 'around', 'the', 'world', 'were', 'put', 'under', 'strict', 'lockdowns', 'and', 'businesses', 'worldwide', 'came', 'to', 'a', 'grinding', 'halt', 'as', 'large', 'chunks', 'of', 'the', 'population', 'became', 'bedridden', 'The', 'immediate', 'consequences', 'were', 'the', 'same', 'as', 'the', 'ones', 'observed', 'in', 'the', 'past', 'few', 'weeks', '–', 'rampant', 'unemployment', 'supply', 'shortages', 'and', 'heavy', 'reliance', 'on', 'social', 'security', 'systems', 'causing', 'a', 'sudden', 'strain', 'on', 'national', 'economic', 'resources', 'Impact', 'Learnings', 'Information', 'Censorship', 'Effective', 'and', 'transparent', 'communications', 'are', 'one', 'of', 'the', 'most', 'crucial', 'and', 'useful', 'tools', 'in', 'disease', 'control', 'Iran', 'presents', 'a', 'great', 'example', 'of', 'the', 'damage', 'that', 'can', 'be', 'unleashed', 'by', 'a', 'mediablackout', 'Secondly', 'censorship', 'might', 'not', 'be', 'the', 'best', 'way', 'to', 'appease', 'the', 'masses', 'during', 'such', 'times', 'The', 'longterm', 'political', 'impact', 'of', 'media', 'censorship', 'and', 'manipulation', 'of', 'epidemicrelated', 'facts', 'in', 'China', 'is', 'yet', 'to', 'be', 'seen', 'Still', 'the', 'shortterm', 'international', 'unrest', 'and', 'dissent', 'have', 'only', 'deteriorated', 'international', 'relations', 'At', 'the', 'risk', 'of', 'quoting', 'a', 'cliché', 'as', 'well', 'as', 'the', 'established', 'Streisand', 'effect', 'the', 'truth', 'always', 'comes', 'out', 'no', 'matter', 'how', 'many', 'countries', 'try', 'to', 'hide', 'it', 'Isolation', 'Lockdown', 'Distancing', 'Mechanisms', 'Work', 'The', 'Spanish', 'Flu', 'spread', 'was', 'aggravated', 'due', 'to', 'the', 'failure', 'of', 'policymakers', 'in', 'adopting', 'effective', 'containment', 'measures', 'Research', 'shows', 'that', 'US', 'cities', 'which', 'undertook', 'measures', 'to', 'reduce', 'contact', 'amongst', 'citizens', 'in', 'early1918', 'displayed', 'significantly', 'lower', 'peak', 'death', 'rates', 'compared', 'to', 'cities', 'that', 'failed', 'to', 'or', 'were', 'too', 'late', 'to', 'adopt', 'disease', 'containment', 'policies', 'To', 'quote', 'the', 'results', 'from', 'this', '2007', 'study', '“Consistent', 'with', 'this', 'hypothesis', 'cities', 'in', 'which', 'multiple', 'interventions', 'were', 'implemented', 'at', 'an', 'early', 'phase', 'of', 'the', 'epidemic', 'had', 'peak', 'death', 'rates', '≈50', 'lower', 'than', 'those', 'that', 'did', 'not', 'and', 'had', 'lesssteep', 'epidemic', 'curves', 'They', 'also', 'displayed', 'lower', 'cumulative', 'mortality”', '1', 'Contrasting', 'the', 'Death', 'Rates', 'in', 'Philadelphia', 'v', 'St', 'Louis', 'during', 'the', '1918', 'Influenza', 'Outbreak', '1', 'Contrasting', 'the', 'Death', 'Rates', 'in', 'Philadelphia', 'v', 'St', 'Louis', 'during', 'the', '1918', 'Influenza', 'Outbreak', 'As', 'one', 'might', 'guess', 'Philadelphia', 'was', 'late', 'to', 'levy', 'restrictions', 'on', 'gatherings', 'parades', 'and', 'social', 'distancing', 'measures', 'whereas', 'St', 'Louis', 'was', 'not', 'From', 'the', 'same', 'study', 'we', 'see', 'the', 'definition', 'of', 'a', 'popular', 'phrase', '“flattening', 'the', 'curve”', 'emerging', '–', 'which', 'is', 'spreading', 'out', 'the', 'rate', 'of', 'infection', 'over', 'time', 'enabling', 'health', 'care', 'systems', 'to', 'treat', 'people', 'in', 'a', 'staggered', 'manner', 'in', 'line', 'with', 'available', 'resources', 'And', 'to', 'further', 'corroborate', 'this', 'result', 'the', 'following', 'graph', 'from', 'the', 'same', 'study', 'shows', 'the', 'different', 'trajectories', 'followed', 'by', 'the', 'disease', 'in', 'two', 'cities', 'of', 'the', 'US', 'Hence', 'regardless', 'of', 'the', 'multiple', 'debunking', 'claims', 'of', 'socialdistancing', 'lockdown', 'as', 'an', 'effective', 'preventive', 'mechanism', 'previous', 'epidemics', 'have', 'taught', 'us', 'that', 'they', 'perform', 'a', 'marvelous', 'job', 'at', '‘flattening', 'the', 'curve’', 'Premature', 'Relaxation', 'can', 'be', 'Disastrous', 'Social', 'Distancing', 'Lockdown', 'measures', 'are', 'effective', 'only', 'if', 'sustained', 'at', 'least', 'for', 'a', 'few', 'months', 'even', 'after', 'things', 'start', 'to', 'improve', 'Markel', '2007', 'shows', 'the', 'disastrous', 'consequences', 'that', 'the', 'early', 'relaxation', 'of', 'bans', 'on', 'public', 'gatherings', 'in', 'St', 'Louis', 'had', 'on', 'death', 'rates', 'during', 'the', 'Spanish', 'flu', 'The', 'pullback', 'of', 'social', 'distancing', 'measures', 'to', 'pursue', 'economic', 'interests', 'was', 'premature', 'and', 'caused', 'a', 'sudden', 'unprecedented', 'surge', 'in', 'the', 'number', 'of', 'deaths', 'due', 'to', 'the', 'flu', '2', 'Deaths', 'due', 'to', 'the', 'Spanish', 'Flu', 'in', 'St', 'Louis', '–', 'A', 'Wider', 'Picture', 'The', 'black', 'grey', 'lines', 'show', 'the', 'duration', 'for', 'which', 'socialdistancing', 'measures', 'were', 'active', '2', 'Deaths', 'due', 'to', 'the', 'Spanish', 'Flu', 'in', 'St', 'Louis', '–', 'A', 'Wider', 'Picture', 'The', 'black', 'grey', 'lines', 'show', 'the', 'duration', 'for', 'which', 'socialdistancing', 'measures', 'were', 'active', 'Another', 'peak', 'in', 'death', 'rates', 'was', 'observed', 'only', 'in', 'cities', 'that', 'had', 'relaxed', 'distancing', 'measures', 'prematurely', 'Hence', 'it', 'is', 'crucial', 'to', 'consider', 'this', 'past', 'artifact', 'when', 'governments', 'compare', 'the', 'inconveniences', 'to', 'the', 'public', 'damage', 'caused', 'to', 'the', 'economy', 'due', 'to', 'such', 'measures', 'with', 'the', 'benefits', 'to', 'the', 'nation', 'in', 'terms', 'of', 'human', 'life', 'saved', 'and', 'then', 'make', 'the', 'call', 'as', 'to', 'when', 'the', 'restrictions', 'must', 'be', 'eased', 'What', 'can', 'the', 'industry', 'learn', 'The', 'industry', 'has', 'played', 'a', 'key', 'role', 'in', 'the', 'obscure', 'fight', 'against', 'the', 'worldwide', 'outbreak', 'But', 'it', 'faces', 'its', 'fair', 'share', 'of', 'challenges', 'in', 'such', 'unprecedented', 'times', 'Supply', 'Shortages', 'due', 'to', 'shutdown', 'of', 'factories', 'production', 'houses', 'and', 'the', 'uncertainty', 'of', 'when', 'production', 'systems', 'would', 'resume', 'to', 'normal', 'functioningTransport', 'disruptions', 'due', 'to', 'closure', 'quarantining', 'of', 'cities', 'and', 'stateborders', 'nationwide', 'lockdowns', 'bringing', 'all', 'transportation', 'to', 'a', 'standstill', 'significant', 'disruptions', 'in', 'the', 'supplychains', 'of', 'most', 'goodsLabour', 'issues', 'with', 'restrictions', 'on', 'movement', 'come', 'issues', 'of', 'labour', 'welfare', 'unrest', 'and', 'employment', 'security', 'This', 'problem', 'is', 'even', 'more', 'serious', 'if', 'the', 'labour', 'force', 'is', 'migratory', 'in', 'nature', 'Global', 'industries', 'have', 'weathered', 'through', 'multiple', 'natural', 'disasters', 'and', 'two', 'epidemics', 'of', 'a', 'similar', 'scale', 'and', 'nature', 'Their', 'recoverypaths', 'have', 'immense', 'strategic', 'implications', 'for', 'current', 'policymakers', 'and', 'offer', 'strategic', 'insights', 'helping', 'companies', 'chart', 'out', 'their', 'shortterm', 'longterm', 'strategies', '3', 'This', 'graph', 'looks', 'at', 'the', 'retail', 'sales', 'impact', 'of', 'the', 'SARS', 'epidemic', 'in', 'China', 'in', '2003', 'the', 'earthquake', 'tsunami', 'and', 'Fukushima', 'nuclear', 'disaster', 'in', 'Japan', 'in', '2011', 'and', 'the', 'MERS', 'epidemic', 'in', 'South', 'Korea', 'in', '2015', '3', 'This', 'graph', 'looks', 'at', 'the', 'retail', 'sales', 'impact', 'of', 'the', 'SARS', 'epidemic', 'in', 'China', 'in', '2003', 'the', 'earthquake', 'tsunami', 'and', 'Fukushima', 'nuclear', 'disaster', 'in', 'Japan', 'in', '2011', 'and', 'the', 'MERS', 'epidemic', 'in', 'South', 'Korea', 'in', '2015', 'Three', 'phases', 'characterise', 'the', 'impact', 'on', 'the', 'retail', 'market', 'in', 'all', 'these', 'three', 'cases', 'ShockRecoveryStabilization', 'The', 'paths', 'inevitably', 'converge', 'to', 'stabilization', 'but', 'follow', 'different', 'trajectories', 'and', 'are', 'swayed', 'by', 'public', 'perceptions', 'and', 'externalities', 'as', 'in', 'the', 'case', 'of', 'the', 'midautumn', 'festival', 'in', 'South', 'Korea', 'Looking', 'at', 'the', 'retail', 'sector', 'from', 'a', 'microlens', 'past', 'crises', 'show', 'that', 'demand', 'trends', 'vary', 'amongst', 'product', 'categories', 'both', 'during', 'and', 'post', 'the', 'crisis', 'The', 'three', 'categories', 'usually', 'follow', 'such', 'trends', 'Demand', 'Trends', 'during', 'post', 'a', 'Pandemicgenerated', 'Crisis', '4', 'Demand', 'Trends', 'during', 'post', 'a', 'Pandemicgenerated', 'Crisis', '4', 'Demand', 'Trends', 'during', 'post', 'a', 'Pandemicgenerated', 'Crisis1', 'These', 'three', 'trends', 'are', 'a', 'valuable', 'tool', 'for', 'both', 'large', 'scale', 'players', 'and', 'regional', 'retailers', 'who', 'now', 'have', 'the', 'means', 'to', 'prioritize', 'and', 'predict', 'consumerdemand', 'and', 'consequently', 'alleviate', 'a', 'sudden', 'strain', 'on', 'the', 'product', 'supply', 'chain', 'arising', 'out', 'of', 'sudden', 'unexpected', 'demands', 'Change', 'in', 'Consumer', 'Behaviour', 'A', 'peculiar', 'outcome', 'of', 'such', 'epidemics', 'have', 'been', 'the', 'somewhat', 'permanent', 'changes', 'instilled', 'in', 'consumer', 'buying', 'trends', 'across', 'the', 'inflicted', 'regions', 'across', 'product', 'categories', '–', 'Fresh', 'staples', 'see', 'a', 'sharp', 'rise', 'in', 'their', 'demand', 'and', 'product', 'hygiene', 'safety', 'standards', 'are', 'ranked', 'higher', 'up', 'in', 'the', 'consumers’', 'priority', 'list', 'Hence', 'the', 'advantage', 'lies', 'with', 'producers', 'who', 'can', 'quickly', 'integrate', 'changed', 'consumerpreferences', 'in', 'their', 'products', 'showcase', 'product', 'reliability', 'quality', 'and', 'priced', 'competitively', 'given', 'the', 'prevalent', 'context', 'Lastly', 'previous', 'pandemics', 'have', 'consolidated', 'a', 'longstanding', 'theory', 'which', 'is', 'true', 'not', 'just', 'for', 'the', 'retail', 'sector', 'but', 'for', 'any', 'consumercentric', 'industry', 'that', 'there', 'is', '–', 'Consumer', 'Loyalty', 'is', 'tried', 'and', 'tested', 'during', 'these', 'times', 'Effective', 'Consumer', 'Relationship', 'Management', 'CRM', 'can', 'forge', 'bonds', 'that', 'go', 'a', 'long', 'way', 'weathering', 'through', 'the', 'thick', 'and', 'thin', 'in', 'such', 'unprecedented', 'times', 'Implications', 'Almost', 'two', 'decades', 'ago', 'the', 'SARS', 'outbreak', 'in', 'China', 'had', 'pushed', 'entrepreneurs', 'and', 'established', 'players', 'to', 'embrace', 'the', 'dawn', 'of', 'the', 'ecommerce', 'era', 'This', 'outbreak', 'is', 'expected', 'to', 'accelerate', 'further', 'the', 'shift', 'from', 'conventional', 'brickmortar', 'based', 'commerce', 'to', 'a', 'centralized', 'online', 'cloudstore', 'based', 'mechanism', 'Survival', 'in', 'the', 'FMCG', 'sector', 'at', 'least', 'will', 'be', 'decided', 'to', 'a', 'great', 'extent', 'by', 'the', 'breadth', 'of', 'the', 'supply', 'chain', 'networks', 'and', 'the', 'ability', 'to', 'overcome', 'severe', 'bottlenecks', 'The', 'past', 'has', 'shown', 'that', 'even', 'though', 'established', 'largescale', 'players', 'with', 'deep', 'pockets', 'and', 'extensive', 'networks', 'have', 'a', 'likelier', 'chance', 'to', 'tough', 'it', 'through', 'these', 'hard', 'times', 'even', 'the', 'regional', 'players', 'SMEs', 'make', 'it', 'through', 'strengthened', 'by', 'communitysupport', 'empathy', 'and', 'most', 'importantly', 'local', 'relationships', 'What', 'did', 'we', 'fail', 'to', 'learn', 'This', 'global', 'pandemic', 'outbreak', 'has', 'made', 'one', 'thing', 'painfully', 'clear', '–', 'there', 'is', 'a', 'lack', 'of', 'global', 'collaborative', 'research', 'on', 'ways', 'to', 'combat', 'the', 'spread', 'of', 'such', 'infectious', 'diseases', 'In', 'the', 'words', 'of', 'Johan', 'Neyts', 'professor', 'of', 'virology', 'and', 'president', 'of', 'the', 'Belgianbased', 'International', 'Society', 'for', 'Antiviral', 'Research', 'ISAR', 'health', 'authorities', 'failed', 'to', 'incorporate', 'the', 'learnings', 'of', 'the', 'SARS', 'outbreak', 'of', 'the', 'early', '2000s', 'partly', 'because', 'of', 'the', 'economic', 'crisis', 'of', '2008', 'which', 'squeezed', 'funds', 'from', 'any', 'potential', 'research', 'that', 'could', 'have', 'been', 'undertaken', 'and', 'partly', 'because', 'of', 'the', 'lack', 'of', 'seriousness', 'in', 'authorities', 'in', 'considering', 'the', 'efforts', 'involved', 'in', 'dealing', 'with', 'the', 'future', 'expected', 'breaks', 'of', 'coronavirus', 'due', 'to', 'its', 'seven', 'different', 'strains', 'in', 'existence', 'The', 'Way', 'forward', 'All', 'of', 'these', 'lessons', 'come', 'with', 'a', 'caveat', '–', 'Things', 'change', 'with', 'time', 'The', 'modes', 'of', 'communication', 'have', 'changed', 'Both', 'information', 'travel', 'is', 'much', 'more', 'accessible', 'now', 'We', 'have', 'fast', 'planes', 'faster', 'internet', 'We', 'have', 'better', 'healthcare', 'capabilities', 'and', 'a', 'much', 'better', 'if', 'not', 'perfect', 'healthcare', 'system', 'In', '1918', 'people', 'didn’t', 'even', 'know', 'that', 'a', 'virus', 'was', 'causing', 'the', 'pandemic', 'until', 'much', 'after', 'its', 'eradication', 'Today', 'we', 'already', 'have', 'extensive', 'research', 'going', 'on', 'for', '70', 'different', 'probable', 'vaccines', 'for', 'the', 'virus', 'with', 'a', 'record', 'setting', 'pace', 'in', 'clinical', 'trials', 'and', 'approvals', 'We', 'are', 'much', 'better', 'equipped', 'than', 'what', 'we', 'were', '100', 'years', 'ago', 'and', 'at', 'the', 'same', 'time', 'somewhat', 'underequipped', 'to', 'deal', 'with', 'it', 'But', 'these', 'lessons', 'from', 'the', 'various', 'similar', 'crises', 'that', 'humanity', 'has', 'faced', 'and', 'risen', 'from', 'act', 'as', 'a', 'glimmer', 'of', 'hope', 'in', 'these', 'dire', 'times', 'and', 'if', 'put', 'to', 'good', 'use', 'can', 'aid', 'in', 'the', 'fight', 'against', 'COVID19', 'In', 'the', 'words', 'of', 'Howard', 'Markel', '“There’s', 'never', 'been', 'a', 'better', 'time', 'in', 'human', 'history', 'to', 'have', 'a', 'pandemic', 'than', 'today', 'with', 'the', 'exception', 'of', 'next', 'week', 'or', 'a', 'month', 'later', 'You', 'want', 'to', 'kick', 'that', 'can', 'down', 'the', 'road', 'but', 'it’s', 'here', 'today”', 'Blackcoffer', 'Insights', '17', 'Nishant', 'Kumar', 'SatyamVasu', 'Golyan']\n"
     ]
    }
   ],
   "source": [
    "content=soup.findAll(attrs={'class':'td-post-content'})\n",
    "content=content[0].text.replace('\\n',\" \")\n",
    "print(content)\n",
    "#Punctuation\n",
    "content = content.translate(str.maketrans('', '', string.punctuation)) \n",
    "print(content)\n",
    "text = content.split()\n",
    "print(text)\n"
   ]
  },
  {
   "cell_type": "code",
   "execution_count": 3,
   "id": "ad638783",
   "metadata": {},
   "outputs": [
    {
     "data": {
      "text/plain": [
       "1903"
      ]
     },
     "execution_count": 3,
     "metadata": {},
     "output_type": "execute_result"
    }
   ],
   "source": [
    "len(text)"
   ]
  },
  {
   "cell_type": "code",
   "execution_count": 4,
   "id": "987628a8",
   "metadata": {},
   "outputs": [
    {
     "name": "stdout",
     "output_type": "stream",
     "text": [
      "43\n"
     ]
    }
   ],
   "source": [
    "#Positive Score \n",
    "with open(r\"C:\\Users\\Om Bhandwalkar\\Desktop\\pos\\positive-words.txt\") as pos:\n",
    "    poswords = pos.read().split(\"\\n\")  \n",
    "    poswords = poswords[5:]\n",
    "pos_count = \" \".join ([w for w in text if w in poswords])\n",
    "pos_count=pos_count.split(\" \")\n",
    "Positive_score=len(pos_count)\n",
    "print(Positive_score)"
   ]
  },
  {
   "cell_type": "code",
   "execution_count": 5,
   "id": "e221524d",
   "metadata": {},
   "outputs": [
    {
     "name": "stdout",
     "output_type": "stream",
     "text": [
      "70\n"
     ]
    }
   ],
   "source": [
    "#Negative Score\n",
    "with open(r\"C:\\Users\\Om Bhandwalkar\\Desktop\\pos\\negative-words.txt\",encoding =\"ISO-8859-1\") as neg:\n",
    "    negwords = neg.read().split(\"\\n\")\n",
    "    \n",
    "negwords = negwords[36:]\n",
    "neg_count = \" \".join ([w for w in text if w in negwords])\n",
    "neg_count=neg_count.split(\" \")\n",
    "Negative_score=len(neg_count)\n",
    "print(Negative_score)"
   ]
  },
  {
   "cell_type": "code",
   "execution_count": 6,
   "id": "4fa0c379",
   "metadata": {},
   "outputs": [
    {
     "data": {
      "text/html": [
       "<div>\n",
       "<style scoped>\n",
       "    .dataframe tbody tr th:only-of-type {\n",
       "        vertical-align: middle;\n",
       "    }\n",
       "\n",
       "    .dataframe tbody tr th {\n",
       "        vertical-align: top;\n",
       "    }\n",
       "\n",
       "    .dataframe thead th {\n",
       "        text-align: right;\n",
       "    }\n",
       "</style>\n",
       "<table border=\"1\" class=\"dataframe\">\n",
       "  <thead>\n",
       "    <tr style=\"text-align: right;\">\n",
       "      <th></th>\n",
       "      <th>url</th>\n",
       "      <th>title</th>\n",
       "      <th>content</th>\n",
       "      <th>filter_content</th>\n",
       "      <th>Positive_Score</th>\n",
       "      <th>Negative_Score</th>\n",
       "      <th>polarity</th>\n",
       "      <th>subjectivity</th>\n",
       "    </tr>\n",
       "  </thead>\n",
       "  <tbody>\n",
       "    <tr>\n",
       "      <th>0</th>\n",
       "      <td>https://insights.blackcoffer.com/lessons-from-...</td>\n",
       "      <td>Lessons from the past: Some key learnings rele...</td>\n",
       "      <td>“The more you know about the past the better ...</td>\n",
       "      <td>“The more you know about the past the better p...</td>\n",
       "      <td>43</td>\n",
       "      <td>70</td>\n",
       "      <td>0.066394</td>\n",
       "      <td>0.432573</td>\n",
       "    </tr>\n",
       "  </tbody>\n",
       "</table>\n",
       "</div>"
      ],
      "text/plain": [
       "                                                 url  \\\n",
       "0  https://insights.blackcoffer.com/lessons-from-...   \n",
       "\n",
       "                                               title  \\\n",
       "0  Lessons from the past: Some key learnings rele...   \n",
       "\n",
       "                                             content  \\\n",
       "0   “The more you know about the past the better ...   \n",
       "\n",
       "                                      filter_content  Positive_Score  \\\n",
       "0  “The more you know about the past the better p...              43   \n",
       "\n",
       "   Negative_Score  polarity  subjectivity  \n",
       "0              70  0.066394      0.432573  "
      ]
     },
     "execution_count": 6,
     "metadata": {},
     "output_type": "execute_result"
    }
   ],
   "source": [
    "filter_content = ' '.join(text)\n",
    "data=[[url,title,content,filter_content,Positive_score,Negative_score]]\n",
    "data=pd.DataFrame(data,columns=[\"url\",\"title\",\"content\",\"filter_content\",\"Positive_Score\",\"Negative_Score\"])\n",
    "from textblob import TextBlob\n",
    "# Get The Subjectivity\n",
    "def sentiment_analysis(data):\n",
    "    sentiment = TextBlob(data[\"content\"]).sentiment\n",
    "    return pd.Series([sentiment.polarity,sentiment.subjectivity ])\n",
    "\n",
    "# Adding Subjectivity & Polarity\n",
    "data[[\"polarity\", \"subjectivity\"]] = data.apply(sentiment_analysis, axis=1)\n",
    "\n",
    "data"
   ]
  },
  {
   "cell_type": "code",
   "execution_count": 7,
   "id": "d5bd24bd",
   "metadata": {},
   "outputs": [
    {
     "name": "stdout",
     "output_type": "stream",
     "text": [
      "Word average = 9995.0\n",
      "FOG INDEX =  761.91\n",
      "Average no of words per sentence\n",
      "1903.0\n",
      "Complex Words 3443\n"
     ]
    }
   ],
   "source": [
    "#AVG SENTENCE LENGTH\n",
    "AVG_SENTENCE_LENGTH = len(content.replace(' ',''))/len(re.split(r'[?!.]', content))\n",
    "print('Word average =', AVG_SENTENCE_LENGTH)\n",
    "import textstat\n",
    "#Fog index \n",
    "FOG_INDEX=(textstat.gunning_fog(content))\n",
    "print(\"FOG INDEX = \",FOG_INDEX)\n",
    "#Average No of Words Per Sentence \n",
    "AVG_NUMBER_OF_WORDS_PER_SENTENCE = [len(l.split()) for l in re.split(r'[?!.]', content) if l.strip()]\n",
    "print(\"Average no of words per sentence\")\n",
    "AVG_NUMBER_OF_WORDS_PER_SENTENCE=print(sum(AVG_NUMBER_OF_WORDS_PER_SENTENCE)/len(AVG_NUMBER_OF_WORDS_PER_SENTENCE))\n",
    "#Complex words\n",
    "def syllable_count(word):\n",
    "    count = 0\n",
    "    vowels = \"AEIOUYaeiouy\"\n",
    "    if word[0] in vowels:\n",
    "        count += 1\n",
    "    for index in range(1, len(word)): \n",
    "        if word[index] in vowels and word[index - 1] not in vowels:\n",
    "            count += 1\n",
    "            if word.endswith(\"es\"or \"ed\"):\n",
    "                count -= 1\n",
    "    if count == 0:\n",
    "        count += 1\n",
    "    return count\n",
    "\n",
    "\n",
    "\n",
    "COMPLEX_WORDS=syllable_count(content)\n",
    "print(\"Complex Words\",COMPLEX_WORDS)\n"
   ]
  },
  {
   "cell_type": "code",
   "execution_count": 8,
   "id": "d8257fcd",
   "metadata": {},
   "outputs": [
    {
     "name": "stdout",
     "output_type": "stream",
     "text": [
      "Word Count 11948\n",
      "Percentage of Complex Words 28.81653833277536\n",
      "Average Word per Length 5.252233315817131\n",
      "The AVG number of syllables in the word is: \n",
      "2.0525486074619024\n",
      "Word Count 11948\n",
      "Percentage of Complex Words 28.81653833277536\n",
      "Average Word per Length 5.252233315817131\n",
      "The AVG number of syllables in the word is: \n",
      "2.0525486074619024\n"
     ]
    }
   ],
   "source": [
    "#Word Count\n",
    "Word_Count=len(content)\n",
    "print(\"Word Count\",Word_Count)\n",
    "#Percentage Complex Words\n",
    "pcw=(COMPLEX_WORDS/Word_Count)*100\n",
    "print(\"Percentage of Complex Words\",pcw)\n",
    "#Average Word Length\n",
    "Average_Word_Length=len(content.replace(' ',''))/len(content.split())\n",
    "print(\"Average Word per Length\",Average_Word_Length)\n",
    "#Syllable Count Per Word\n",
    "word=content.replace(' ','')\n",
    "syllable_count=0\n",
    "for w in word:\n",
    "      if(w=='a' or w=='e' or w=='i' or w=='o' or w=='y' or w=='u' or w=='A' or w=='E' or w=='I' or w=='O' or w=='U' or w=='Y'):\n",
    "            syllable_count=syllable_count+1\n",
    "print(\"The AVG number of syllables in the word is: \")\n",
    "print(syllable_count/len(content.split()))#Word Count\n",
    "Word_Count=len(content)\n",
    "print(\"Word Count\",Word_Count)\n",
    "#Percentage Complex Words\n",
    "pcw=(COMPLEX_WORDS/Word_Count)*100\n",
    "print(\"Percentage of Complex Words\",pcw)\n",
    "#Average Word Length\n",
    "Average_Word_Length=len(content.replace(' ',''))/len(content.split())\n",
    "print(\"Average Word per Length\",Average_Word_Length)\n",
    "#Syllable Count Per Word\n",
    "word=content.replace(' ','')\n",
    "syllable_count=0\n",
    "for w in word:\n",
    "      if(w=='a' or w=='e' or w=='i' or w=='o' or w=='y' or w=='u' or w=='A' or w=='E' or w=='I' or w=='O' or w=='U' or w=='Y'):\n",
    "            syllable_count=syllable_count+1\n",
    "print(\"The AVG number of syllables in the word is: \")\n",
    "print(syllable_count/len(content.split()))"
   ]
  },
  {
   "cell_type": "code",
   "execution_count": 1,
   "id": "23e369d3",
   "metadata": {},
   "outputs": [
    {
     "name": "stdout",
     "output_type": "stream",
     "text": [
      "43\n",
      "70\n",
      "Word average = 9995.0\n",
      "FOG INDEX =  761.91\n",
      "Average no of words per sentence\n",
      "1903.0\n",
      "Complex Words 3443\n",
      "Word Count 11949\n",
      "Percentage of Complex Words 28.814126705163613\n",
      "Average Word per Length 5.252233315817131\n",
      "The AVG number of syllables in the word is: \n",
      "2.0525486074619024\n"
     ]
    },
    {
     "data": {
      "text/html": [
       "<div>\n",
       "<style scoped>\n",
       "    .dataframe tbody tr th:only-of-type {\n",
       "        vertical-align: middle;\n",
       "    }\n",
       "\n",
       "    .dataframe tbody tr th {\n",
       "        vertical-align: top;\n",
       "    }\n",
       "\n",
       "    .dataframe thead th {\n",
       "        text-align: right;\n",
       "    }\n",
       "</style>\n",
       "<table border=\"1\" class=\"dataframe\">\n",
       "  <thead>\n",
       "    <tr style=\"text-align: right;\">\n",
       "      <th></th>\n",
       "      <th>url</th>\n",
       "      <th>title</th>\n",
       "      <th>content</th>\n",
       "      <th>filter_content</th>\n",
       "      <th>Positive_Score</th>\n",
       "      <th>Negative_Score</th>\n",
       "      <th>Avg_Sentence_Length</th>\n",
       "      <th>Percentage_Complex_Word</th>\n",
       "      <th>Fog_Index</th>\n",
       "      <th>AVG_NUMBER_OF_WORDS_PER_SENTENCE</th>\n",
       "      <th>COMPLEX_WORDS</th>\n",
       "      <th>Word_Count</th>\n",
       "      <th>syllable</th>\n",
       "      <th>Average_Word_Length</th>\n",
       "      <th>polarity</th>\n",
       "      <th>subjectivity</th>\n",
       "    </tr>\n",
       "  </thead>\n",
       "  <tbody>\n",
       "    <tr>\n",
       "      <th>0</th>\n",
       "      <td>https://insights.blackcoffer.com/lessons-from-...</td>\n",
       "      <td>Lessons from the past: Some key learnings rele...</td>\n",
       "      <td>“The more you know about the past the better...</td>\n",
       "      <td>“The more you know about the past the better p...</td>\n",
       "      <td>43</td>\n",
       "      <td>70</td>\n",
       "      <td>9995.0</td>\n",
       "      <td>28.814127</td>\n",
       "      <td>761.91</td>\n",
       "      <td>1903.0</td>\n",
       "      <td>3443</td>\n",
       "      <td>11949</td>\n",
       "      <td>2.052549</td>\n",
       "      <td>5.252233</td>\n",
       "      <td>0.066394</td>\n",
       "      <td>0.432573</td>\n",
       "    </tr>\n",
       "  </tbody>\n",
       "</table>\n",
       "</div>"
      ],
      "text/plain": [
       "                                                 url  \\\n",
       "0  https://insights.blackcoffer.com/lessons-from-...   \n",
       "\n",
       "                                               title  \\\n",
       "0  Lessons from the past: Some key learnings rele...   \n",
       "\n",
       "                                             content  \\\n",
       "0    “The more you know about the past the better...   \n",
       "\n",
       "                                      filter_content  Positive_Score  \\\n",
       "0  “The more you know about the past the better p...              43   \n",
       "\n",
       "   Negative_Score  Avg_Sentence_Length  Percentage_Complex_Word  Fog_Index  \\\n",
       "0              70               9995.0                28.814127     761.91   \n",
       "\n",
       "    AVG_NUMBER_OF_WORDS_PER_SENTENCE  COMPLEX_WORDS  Word_Count  syllable  \\\n",
       "0                             1903.0           3443       11949  2.052549   \n",
       "\n",
       "   Average_Word_Length  polarity  subjectivity  \n",
       "0             5.252233  0.066394      0.432573  "
      ]
     },
     "execution_count": 1,
     "metadata": {},
     "output_type": "execute_result"
    }
   ],
   "source": [
    "import requests\n",
    "import pandas as pd \n",
    "from bs4 import BeautifulSoup\n",
    "import string\n",
    "import spacy\n",
    "import re\n",
    "url = \"\"\"https://insights.blackcoffer.com/lessons-from-the-past-some-key-learnings-relevant-to-the-coronavirus-crisis-2/\"\"\"\n",
    "headers = {\"User-Agent\": \"Mozilla/5.0 (X11; Linux x86_64; rv:60.0) Gecko/20100101 Firefox/60.0\"}\n",
    "page = requests.get(url, headers=headers)\n",
    "soup = BeautifulSoup(page.content, 'html.parser')\n",
    "soup=BeautifulSoup(page.content, 'html.parser')\n",
    "title=soup.find('h1',class_=\"entry-title\")\n",
    "title=title.text.replace('\\n',\" \")\n",
    "# title\n",
    "\n",
    "content=soup.findAll(attrs={'class':'td-post-content'})\n",
    "content=content[0].text.replace('\\n',\" \")\n",
    "# print(content)\n",
    "#Punctuation\n",
    "content = content.translate(str.maketrans('', '', string.punctuation)) \n",
    "# print(content)\n",
    "text = content.split()\n",
    "# print(text)\n",
    "len(text)\n",
    "#Positive Score \n",
    "with open(r\"C:\\Users\\Om Bhandwalkar\\Desktop\\pos\\positive-words.txt\") as pos:\n",
    "    poswords = pos.read().split(\"\\n\")  \n",
    "    poswords = poswords[5:]\n",
    "pos_count = \" \".join ([w for w in text if w in poswords])\n",
    "pos_count=pos_count.split(\" \")\n",
    "Positive_score=len(pos_count)\n",
    "print(Positive_score)\n",
    "\n",
    "#Negative Score\n",
    "with open(r\"C:\\Users\\Om Bhandwalkar\\Desktop\\pos\\negative-words.txt\",encoding =\"ISO-8859-1\") as neg:\n",
    "    negwords = neg.read().split(\"\\n\")\n",
    "    \n",
    "negwords = negwords[36:]\n",
    "neg_count = \" \".join ([w for w in text if w in negwords])\n",
    "neg_count=neg_count.split(\" \")\n",
    "Negative_score=len(neg_count)\n",
    "print(Negative_score)\n",
    "\n",
    "\n",
    "filter_content = ' '.join(text)\n",
    "data=[[url,title,content,filter_content,Positive_score,Negative_score]]\n",
    "data=pd.DataFrame(data,columns=[\"url\",\"title\",\"content\",\"filter_content\",\"Positive_Score\",\"Negative_Score\"])\n",
    "from textblob import TextBlob\n",
    "# Get The Subjectivity\n",
    "def sentiment_analysis(data):\n",
    "    sentiment = TextBlob(data[\"content\"]).sentiment\n",
    "    return pd.Series([sentiment.polarity,sentiment.subjectivity ])\n",
    "data[[\"polarity\", \"subjectivity\"]] = data.apply(sentiment_analysis, axis=1)\n",
    "data\n",
    "#AVG SENTENCE LENGTH\n",
    "AVG_SENTENCE_LENGTH = len(content.replace(' ',''))/len(re.split(r'[?!.]', content))\n",
    "print('Word average =', AVG_SENTENCE_LENGTH)\n",
    "import textstat\n",
    "#Fog index \n",
    "FOG_INDEX=(textstat.gunning_fog(content))\n",
    "print(\"FOG INDEX = \",FOG_INDEX)\n",
    "#Average No of Words Per Sentence \n",
    "AVG_NUMBER_OF_WORDS_PER_SENTENCE = [len(l.split()) for l in re.split(r'[?!.]', content) if l.strip()]\n",
    "print(\"Average no of words per sentence\")\n",
    "AVG_NUMBER_OF_WORDS_PER_SENTENCE=(sum(AVG_NUMBER_OF_WORDS_PER_SENTENCE)/len(AVG_NUMBER_OF_WORDS_PER_SENTENCE))\n",
    "print(AVG_NUMBER_OF_WORDS_PER_SENTENCE)\n",
    "#Complex words\n",
    "def syllable_count(word):\n",
    "    count = 0\n",
    "    vowels = \"AEIOUYaeiouy\"\n",
    "    if word[0] in vowels:\n",
    "        count += 1\n",
    "    for index in range(1, len(word)): \n",
    "        if word[index] in vowels and word[index - 1] not in vowels:\n",
    "            count += 1\n",
    "            if word.endswith(\"es\"or \"ed\"):\n",
    "                count -= 1\n",
    "    if count == 0:\n",
    "        count += 1\n",
    "    return count\n",
    "\n",
    "\n",
    "\n",
    "COMPLEX_WORDS=syllable_count(content)\n",
    "print(\"Complex Words\",COMPLEX_WORDS)\n",
    "#Word Count\n",
    "Word_Count=len(content)\n",
    "print(\"Word Count\",Word_Count)\n",
    "#Percentage Complex Words\n",
    "pcw=(COMPLEX_WORDS/Word_Count)*100\n",
    "print(\"Percentage of Complex Words\",pcw)\n",
    "#Average Word Length\n",
    "Average_Word_Length=len(content.replace(' ',''))/len(content.split())\n",
    "print(\"Average Word per Length\",Average_Word_Length)\n",
    "#Syllable Count Per Word\n",
    "word=content.replace(' ','')\n",
    "syllable_count=0\n",
    "for w in word:\n",
    "      if(w=='a' or w=='e' or w=='i' or w=='o' or w=='y' or w=='u' or w=='A' or w=='E' or w=='I' or w=='O' or w=='U' or w=='Y'):\n",
    "            syllable_count=syllable_count+1\n",
    "print(\"The AVG number of syllables in the word is: \")\n",
    "syllable = (syllable_count/len(content.split()))\n",
    "print(syllable)\n",
    "\n",
    "data = [[url,title,content,filter_content,Positive_score,Negative_score,AVG_SENTENCE_LENGTH,pcw,FOG_INDEX,\n",
    "         AVG_NUMBER_OF_WORDS_PER_SENTENCE,COMPLEX_WORDS,Word_Count,syllable,Average_Word_Length]]\n",
    "data=pd.DataFrame(data,columns=[\"url\",\"title\",\"content\",\"filter_content\",\"Positive_Score\",\"Negative_Score\",\"Avg_Sentence_Length\"\n",
    "                               ,\"Percentage_Complex_Word\",\"Fog_Index\",\" AVG_NUMBER_OF_WORDS_PER_SENTENCE\",\"COMPLEX_WORDS\",\n",
    "                               \"Word_Count\",\"syllable\",\"Average_Word_Length\"])\n",
    "from textblob import TextBlob\n",
    "# Get The Subjectivity\n",
    "def sentiment_analysis(data):\n",
    "    sentiment = TextBlob(data[\"content\"]).sentiment\n",
    "    return pd.Series([sentiment.polarity,sentiment.subjectivity ])\n",
    "data[[\"polarity\", \"subjectivity\"]] = data.apply(sentiment_analysis, axis=1)\n",
    "data"
   ]
  },
  {
   "cell_type": "code",
   "execution_count": 2,
   "id": "bd6566e3",
   "metadata": {},
   "outputs": [],
   "source": [
    "data.to_csv(r'C:\\Users\\Om Bhandwalkar\\Desktop\\BlackCoffer Assignment\\Output\\url_117.csv')"
   ]
  },
  {
   "cell_type": "code",
   "execution_count": null,
   "id": "fdec44f8",
   "metadata": {},
   "outputs": [],
   "source": []
  }
 ],
 "metadata": {
  "kernelspec": {
   "display_name": "Python 3 (ipykernel)",
   "language": "python",
   "name": "python3"
  },
  "language_info": {
   "codemirror_mode": {
    "name": "ipython",
    "version": 3
   },
   "file_extension": ".py",
   "mimetype": "text/x-python",
   "name": "python",
   "nbconvert_exporter": "python",
   "pygments_lexer": "ipython3",
   "version": "3.9.12"
  }
 },
 "nbformat": 4,
 "nbformat_minor": 5
}
