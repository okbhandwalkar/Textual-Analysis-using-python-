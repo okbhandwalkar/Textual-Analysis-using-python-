{
 "cells": [
  {
   "cell_type": "code",
   "execution_count": 1,
   "id": "01be72f1",
   "metadata": {},
   "outputs": [
    {
     "data": {
      "text/plain": [
       "'Lessons from the past: Some key learnings relevant to the coronavirus crisis'"
      ]
     },
     "execution_count": 1,
     "metadata": {},
     "output_type": "execute_result"
    }
   ],
   "source": [
    "import requests\n",
    "import pandas as pd \n",
    "from bs4 import BeautifulSoup\n",
    "import string\n",
    "import spacy\n",
    "import re\n",
    "url = \"\"\"https://insights.blackcoffer.com/lessons-from-the-past-some-key-learnings-relevant-to-the-coronavirus-crisis-3/\"\"\"\n",
    "headers = {\"User-Agent\": \"Mozilla/5.0 (X11; Linux x86_64; rv:60.0) Gecko/20100101 Firefox/60.0\"}\n",
    "page = requests.get(url, headers=headers)\n",
    "soup = BeautifulSoup(page.content, 'html.parser')\n",
    "soup=BeautifulSoup(page.content, 'html.parser')\n",
    "title=soup.find('h1',class_=\"entry-title\")\n",
    "title=title.text.replace('\\n',\" \")\n",
    "title\n"
   ]
  },
  {
   "cell_type": "code",
   "execution_count": 2,
   "id": "9c953238",
   "metadata": {},
   "outputs": [
    {
     "name": "stdout",
     "output_type": "stream",
     "text": [
      " The current topic that is burning the world alive is the deadly coronavirus. Let us first understand what this coronavirus actually is. According to the World Health Organization (WHO), the Coronavirus disease which is called the COVID-19 is an infectious disease which is caused by the newly discovered Coronavirus. The COVID-19 virus is a virus that affects different people of the world in different ways. The COVID-19 disease is a respiratory disease and most of the infected people will develop mild to moderate symptoms and recover without even requiring special treatment.  The people who already have underlying medical conditions and those people who are over 60 years old have a higher risk of developing severe disease and death. Common symptoms include: fevertirednessdry cough. Other symptoms include: shortness of breathaches and painssore throatand very few people in the world will report diarrhea, nausea, or a runny nose. The people living in this world who have only mild symptoms of this deadly disease but are otherwise healthy should self-isolate and contact their medical provider or a COVID-19 information line for advice on testing and referral. The people who have a fever, cough, or difficulty breathing should call their doctor and seek medical attention. Some key lessons from the deadly disease Coronavirus: In the last 3 months, there has been a drastic change to human life all around the world. The coronavirus outbreak happening in the world is no more just an epidemic but it is also considered as a global pandemic now. The people everywhere in the world are being asked to stay home and stay away from other people so as to reduce the risk of infection. The deadly disease Coronavirus has brought with it a wave of negative outcomes, terrible illness, and death, but at the same time it has also highlighted some important life lessons. Some of them are as follows: 1. You should be willing to trade some of your freedom for the greater good of the public: There is no doubt for anyone that it has been difficult for everyone in the world to stay at home. Many people complaining about feeling bored and aimless. Some people may even have the feeling that it is a breach of their individual rights, being made to stay home. However, when it comes to the greater good, one should always be willing to sacrifice a little bit of that freedom. A balance between individual rights and public safety is an ever-changing thing. Trade a little bit of your freedom for the greater good of the public. 2. You should wash your hands, whether there’s a virus or not: General hygiene is always important. Not just when there is a virus. You should know the drill by now. Wet your hands. Lather them with soap. Scrub for 20 seconds. Rinse off. Dry with a clean towel. Washing hands on a regular basis are really the best way to keep safe because soap is a very effective way to kill viruses. 3. Working from home should be an option for many: In this time of the global outbreak of the Coronavirus disease, many people have learned that their jobs were possible to do from home. Most jobs have a certain amount of work that can be done remotely. Without the virus in place, there should still be some system in place that will promote work-life balance. 4. Taking that sick day from the work could save lives: If you are feeling sick at any day in this situation, it is highly beneficial that you just stay home. It is a common feeling among lots of people that their office environment does not encourage taking sick days. Many people want to appear like martyrs to their managers. This mentality needs to stop. If you are sick, just stay home. 5. The Internet should be a basic right: According to a study done by the University of Birmingham, the right to Internet access, also known as the right to broadband, should be considered a human right. Many people from all over the world are unable to get online, particularly the people who live in developing countries, and so they lack meaningful ways to influence the global players shaping their everyday lives. In addition to this, during times like these, it is especially important to be able to contact family, friends, and work from home if necessary. The Internet is the only way to do so. 6. The doctors and the researchers need to be paid better: If this scary time has taught us anything, it’s that doctors and researchers will be the ones who get us out of this mess. The doctors and the researchers are the only ones who are working day and night to drive the recovery of the world. At the moment, hundreds of scientists scramble to find a coronavirus treatment. It is high time for us that we need to re-evaluate how much money Hollywood actors, pro-athletes, and politicians make and instead pay the scientist and the doctors the salary they deserve. 7. Everyone should know how to cook: The situation that has forced everyone to stay at home has forced many people to learn, re-learn, or re-ignite their love for cooking. Learning how to cook is to have one of the most important skills in life. You depend on yourself. It teaches you self-sustainability and you save a lot of money. These days, hundreds of people sharing social media posts of their delicious meals. They are re-discovering the wonders of eating in. 8. The importance of talking to friends every day: Now that we can’t go out and keep busy, the best way to combat loneliness is to be in regular contact with friends and family, by chatting over the phone or video chatting. This is the time to have long talks and deep conversations. Don’t forget human connection during these crucial times. Call your grandma! 9. Learn to appreciate nature: If you live near a spacious outdoor area, like the desert or an empty road lined with trees and you realize it is the only safe, surface-less space to take a walk in, then you start to realize how beautiful nature actually is. The point is not to remain indoors, but to avoid being in close contact with others. When you do leave your home, whether it is for a walk in the desert or a run on your street, make sure to wipe down any surfaces with which you come into contact and at the same time also avoid touching your face and frequently wash your hands. 10. Learn how to be content alone: It is so hard for some people to just be still and do nothing. Being alone, especially for extroverts can be exhausting and lonely. Social distancing can be very difficult, but it can also teach you a lot about yourself. You learn how to keep yourself busy. Your body and mind is your home and you have to learn how to love it and live with it. Conclusion: It is rightly said that it is important to learn from the past. The deadly Coronavirus disease that is taking the lives of so many people across the world, has taught so many life lessons to the people living in it. These lessons are not meant to be forgotten but are to be remembered by human beings in order to make the Earth a beautiful place to live in. Lastly, I would like to conclude by mentioning that “Stay at Home. Stay Safe. Save Lives”. Blackcoffer Insights 17: Snehasish Ghosh, Darrang College Assam  \n",
      " The current topic that is burning the world alive is the deadly coronavirus Let us first understand what this coronavirus actually is According to the World Health Organization WHO the Coronavirus disease which is called the COVID19 is an infectious disease which is caused by the newly discovered Coronavirus The COVID19 virus is a virus that affects different people of the world in different ways The COVID19 disease is a respiratory disease and most of the infected people will develop mild to moderate symptoms and recover without even requiring special treatment  The people who already have underlying medical conditions and those people who are over 60 years old have a higher risk of developing severe disease and death Common symptoms include fevertirednessdry cough Other symptoms include shortness of breathaches and painssore throatand very few people in the world will report diarrhea nausea or a runny nose The people living in this world who have only mild symptoms of this deadly disease but are otherwise healthy should selfisolate and contact their medical provider or a COVID19 information line for advice on testing and referral The people who have a fever cough or difficulty breathing should call their doctor and seek medical attention Some key lessons from the deadly disease Coronavirus In the last 3 months there has been a drastic change to human life all around the world The coronavirus outbreak happening in the world is no more just an epidemic but it is also considered as a global pandemic now The people everywhere in the world are being asked to stay home and stay away from other people so as to reduce the risk of infection The deadly disease Coronavirus has brought with it a wave of negative outcomes terrible illness and death but at the same time it has also highlighted some important life lessons Some of them are as follows 1 You should be willing to trade some of your freedom for the greater good of the public There is no doubt for anyone that it has been difficult for everyone in the world to stay at home Many people complaining about feeling bored and aimless Some people may even have the feeling that it is a breach of their individual rights being made to stay home However when it comes to the greater good one should always be willing to sacrifice a little bit of that freedom A balance between individual rights and public safety is an everchanging thing Trade a little bit of your freedom for the greater good of the public 2 You should wash your hands whether there’s a virus or not General hygiene is always important Not just when there is a virus You should know the drill by now Wet your hands Lather them with soap Scrub for 20 seconds Rinse off Dry with a clean towel Washing hands on a regular basis are really the best way to keep safe because soap is a very effective way to kill viruses 3 Working from home should be an option for many In this time of the global outbreak of the Coronavirus disease many people have learned that their jobs were possible to do from home Most jobs have a certain amount of work that can be done remotely Without the virus in place there should still be some system in place that will promote worklife balance 4 Taking that sick day from the work could save lives If you are feeling sick at any day in this situation it is highly beneficial that you just stay home It is a common feeling among lots of people that their office environment does not encourage taking sick days Many people want to appear like martyrs to their managers This mentality needs to stop If you are sick just stay home 5 The Internet should be a basic right According to a study done by the University of Birmingham the right to Internet access also known as the right to broadband should be considered a human right Many people from all over the world are unable to get online particularly the people who live in developing countries and so they lack meaningful ways to influence the global players shaping their everyday lives In addition to this during times like these it is especially important to be able to contact family friends and work from home if necessary The Internet is the only way to do so 6 The doctors and the researchers need to be paid better If this scary time has taught us anything it’s that doctors and researchers will be the ones who get us out of this mess The doctors and the researchers are the only ones who are working day and night to drive the recovery of the world At the moment hundreds of scientists scramble to find a coronavirus treatment It is high time for us that we need to reevaluate how much money Hollywood actors proathletes and politicians make and instead pay the scientist and the doctors the salary they deserve 7 Everyone should know how to cook The situation that has forced everyone to stay at home has forced many people to learn relearn or reignite their love for cooking Learning how to cook is to have one of the most important skills in life You depend on yourself It teaches you selfsustainability and you save a lot of money These days hundreds of people sharing social media posts of their delicious meals They are rediscovering the wonders of eating in 8 The importance of talking to friends every day Now that we can’t go out and keep busy the best way to combat loneliness is to be in regular contact with friends and family by chatting over the phone or video chatting This is the time to have long talks and deep conversations Don’t forget human connection during these crucial times Call your grandma 9 Learn to appreciate nature If you live near a spacious outdoor area like the desert or an empty road lined with trees and you realize it is the only safe surfaceless space to take a walk in then you start to realize how beautiful nature actually is The point is not to remain indoors but to avoid being in close contact with others When you do leave your home whether it is for a walk in the desert or a run on your street make sure to wipe down any surfaces with which you come into contact and at the same time also avoid touching your face and frequently wash your hands 10 Learn how to be content alone It is so hard for some people to just be still and do nothing Being alone especially for extroverts can be exhausting and lonely Social distancing can be very difficult but it can also teach you a lot about yourself You learn how to keep yourself busy Your body and mind is your home and you have to learn how to love it and live with it Conclusion It is rightly said that it is important to learn from the past The deadly Coronavirus disease that is taking the lives of so many people across the world has taught so many life lessons to the people living in it These lessons are not meant to be forgotten but are to be remembered by human beings in order to make the Earth a beautiful place to live in Lastly I would like to conclude by mentioning that “Stay at Home Stay Safe Save Lives” Blackcoffer Insights 17 Snehasish Ghosh Darrang College Assam  \n",
      "['The', 'current', 'topic', 'that', 'is', 'burning', 'the', 'world', 'alive', 'is', 'the', 'deadly', 'coronavirus', 'Let', 'us', 'first', 'understand', 'what', 'this', 'coronavirus', 'actually', 'is', 'According', 'to', 'the', 'World', 'Health', 'Organization', 'WHO', 'the', 'Coronavirus', 'disease', 'which', 'is', 'called', 'the', 'COVID19', 'is', 'an', 'infectious', 'disease', 'which', 'is', 'caused', 'by', 'the', 'newly', 'discovered', 'Coronavirus', 'The', 'COVID19', 'virus', 'is', 'a', 'virus', 'that', 'affects', 'different', 'people', 'of', 'the', 'world', 'in', 'different', 'ways', 'The', 'COVID19', 'disease', 'is', 'a', 'respiratory', 'disease', 'and', 'most', 'of', 'the', 'infected', 'people', 'will', 'develop', 'mild', 'to', 'moderate', 'symptoms', 'and', 'recover', 'without', 'even', 'requiring', 'special', 'treatment', 'The', 'people', 'who', 'already', 'have', 'underlying', 'medical', 'conditions', 'and', 'those', 'people', 'who', 'are', 'over', '60', 'years', 'old', 'have', 'a', 'higher', 'risk', 'of', 'developing', 'severe', 'disease', 'and', 'death', 'Common', 'symptoms', 'include', 'fevertirednessdry', 'cough', 'Other', 'symptoms', 'include', 'shortness', 'of', 'breathaches', 'and', 'painssore', 'throatand', 'very', 'few', 'people', 'in', 'the', 'world', 'will', 'report', 'diarrhea', 'nausea', 'or', 'a', 'runny', 'nose', 'The', 'people', 'living', 'in', 'this', 'world', 'who', 'have', 'only', 'mild', 'symptoms', 'of', 'this', 'deadly', 'disease', 'but', 'are', 'otherwise', 'healthy', 'should', 'selfisolate', 'and', 'contact', 'their', 'medical', 'provider', 'or', 'a', 'COVID19', 'information', 'line', 'for', 'advice', 'on', 'testing', 'and', 'referral', 'The', 'people', 'who', 'have', 'a', 'fever', 'cough', 'or', 'difficulty', 'breathing', 'should', 'call', 'their', 'doctor', 'and', 'seek', 'medical', 'attention', 'Some', 'key', 'lessons', 'from', 'the', 'deadly', 'disease', 'Coronavirus', 'In', 'the', 'last', '3', 'months', 'there', 'has', 'been', 'a', 'drastic', 'change', 'to', 'human', 'life', 'all', 'around', 'the', 'world', 'The', 'coronavirus', 'outbreak', 'happening', 'in', 'the', 'world', 'is', 'no', 'more', 'just', 'an', 'epidemic', 'but', 'it', 'is', 'also', 'considered', 'as', 'a', 'global', 'pandemic', 'now', 'The', 'people', 'everywhere', 'in', 'the', 'world', 'are', 'being', 'asked', 'to', 'stay', 'home', 'and', 'stay', 'away', 'from', 'other', 'people', 'so', 'as', 'to', 'reduce', 'the', 'risk', 'of', 'infection', 'The', 'deadly', 'disease', 'Coronavirus', 'has', 'brought', 'with', 'it', 'a', 'wave', 'of', 'negative', 'outcomes', 'terrible', 'illness', 'and', 'death', 'but', 'at', 'the', 'same', 'time', 'it', 'has', 'also', 'highlighted', 'some', 'important', 'life', 'lessons', 'Some', 'of', 'them', 'are', 'as', 'follows', '1', 'You', 'should', 'be', 'willing', 'to', 'trade', 'some', 'of', 'your', 'freedom', 'for', 'the', 'greater', 'good', 'of', 'the', 'public', 'There', 'is', 'no', 'doubt', 'for', 'anyone', 'that', 'it', 'has', 'been', 'difficult', 'for', 'everyone', 'in', 'the', 'world', 'to', 'stay', 'at', 'home', 'Many', 'people', 'complaining', 'about', 'feeling', 'bored', 'and', 'aimless', 'Some', 'people', 'may', 'even', 'have', 'the', 'feeling', 'that', 'it', 'is', 'a', 'breach', 'of', 'their', 'individual', 'rights', 'being', 'made', 'to', 'stay', 'home', 'However', 'when', 'it', 'comes', 'to', 'the', 'greater', 'good', 'one', 'should', 'always', 'be', 'willing', 'to', 'sacrifice', 'a', 'little', 'bit', 'of', 'that', 'freedom', 'A', 'balance', 'between', 'individual', 'rights', 'and', 'public', 'safety', 'is', 'an', 'everchanging', 'thing', 'Trade', 'a', 'little', 'bit', 'of', 'your', 'freedom', 'for', 'the', 'greater', 'good', 'of', 'the', 'public', '2', 'You', 'should', 'wash', 'your', 'hands', 'whether', 'there’s', 'a', 'virus', 'or', 'not', 'General', 'hygiene', 'is', 'always', 'important', 'Not', 'just', 'when', 'there', 'is', 'a', 'virus', 'You', 'should', 'know', 'the', 'drill', 'by', 'now', 'Wet', 'your', 'hands', 'Lather', 'them', 'with', 'soap', 'Scrub', 'for', '20', 'seconds', 'Rinse', 'off', 'Dry', 'with', 'a', 'clean', 'towel', 'Washing', 'hands', 'on', 'a', 'regular', 'basis', 'are', 'really', 'the', 'best', 'way', 'to', 'keep', 'safe', 'because', 'soap', 'is', 'a', 'very', 'effective', 'way', 'to', 'kill', 'viruses', '3', 'Working', 'from', 'home', 'should', 'be', 'an', 'option', 'for', 'many', 'In', 'this', 'time', 'of', 'the', 'global', 'outbreak', 'of', 'the', 'Coronavirus', 'disease', 'many', 'people', 'have', 'learned', 'that', 'their', 'jobs', 'were', 'possible', 'to', 'do', 'from', 'home', 'Most', 'jobs', 'have', 'a', 'certain', 'amount', 'of', 'work', 'that', 'can', 'be', 'done', 'remotely', 'Without', 'the', 'virus', 'in', 'place', 'there', 'should', 'still', 'be', 'some', 'system', 'in', 'place', 'that', 'will', 'promote', 'worklife', 'balance', '4', 'Taking', 'that', 'sick', 'day', 'from', 'the', 'work', 'could', 'save', 'lives', 'If', 'you', 'are', 'feeling', 'sick', 'at', 'any', 'day', 'in', 'this', 'situation', 'it', 'is', 'highly', 'beneficial', 'that', 'you', 'just', 'stay', 'home', 'It', 'is', 'a', 'common', 'feeling', 'among', 'lots', 'of', 'people', 'that', 'their', 'office', 'environment', 'does', 'not', 'encourage', 'taking', 'sick', 'days', 'Many', 'people', 'want', 'to', 'appear', 'like', 'martyrs', 'to', 'their', 'managers', 'This', 'mentality', 'needs', 'to', 'stop', 'If', 'you', 'are', 'sick', 'just', 'stay', 'home', '5', 'The', 'Internet', 'should', 'be', 'a', 'basic', 'right', 'According', 'to', 'a', 'study', 'done', 'by', 'the', 'University', 'of', 'Birmingham', 'the', 'right', 'to', 'Internet', 'access', 'also', 'known', 'as', 'the', 'right', 'to', 'broadband', 'should', 'be', 'considered', 'a', 'human', 'right', 'Many', 'people', 'from', 'all', 'over', 'the', 'world', 'are', 'unable', 'to', 'get', 'online', 'particularly', 'the', 'people', 'who', 'live', 'in', 'developing', 'countries', 'and', 'so', 'they', 'lack', 'meaningful', 'ways', 'to', 'influence', 'the', 'global', 'players', 'shaping', 'their', 'everyday', 'lives', 'In', 'addition', 'to', 'this', 'during', 'times', 'like', 'these', 'it', 'is', 'especially', 'important', 'to', 'be', 'able', 'to', 'contact', 'family', 'friends', 'and', 'work', 'from', 'home', 'if', 'necessary', 'The', 'Internet', 'is', 'the', 'only', 'way', 'to', 'do', 'so', '6', 'The', 'doctors', 'and', 'the', 'researchers', 'need', 'to', 'be', 'paid', 'better', 'If', 'this', 'scary', 'time', 'has', 'taught', 'us', 'anything', 'it’s', 'that', 'doctors', 'and', 'researchers', 'will', 'be', 'the', 'ones', 'who', 'get', 'us', 'out', 'of', 'this', 'mess', 'The', 'doctors', 'and', 'the', 'researchers', 'are', 'the', 'only', 'ones', 'who', 'are', 'working', 'day', 'and', 'night', 'to', 'drive', 'the', 'recovery', 'of', 'the', 'world', 'At', 'the', 'moment', 'hundreds', 'of', 'scientists', 'scramble', 'to', 'find', 'a', 'coronavirus', 'treatment', 'It', 'is', 'high', 'time', 'for', 'us', 'that', 'we', 'need', 'to', 'reevaluate', 'how', 'much', 'money', 'Hollywood', 'actors', 'proathletes', 'and', 'politicians', 'make', 'and', 'instead', 'pay', 'the', 'scientist', 'and', 'the', 'doctors', 'the', 'salary', 'they', 'deserve', '7', 'Everyone', 'should', 'know', 'how', 'to', 'cook', 'The', 'situation', 'that', 'has', 'forced', 'everyone', 'to', 'stay', 'at', 'home', 'has', 'forced', 'many', 'people', 'to', 'learn', 'relearn', 'or', 'reignite', 'their', 'love', 'for', 'cooking', 'Learning', 'how', 'to', 'cook', 'is', 'to', 'have', 'one', 'of', 'the', 'most', 'important', 'skills', 'in', 'life', 'You', 'depend', 'on', 'yourself', 'It', 'teaches', 'you', 'selfsustainability', 'and', 'you', 'save', 'a', 'lot', 'of', 'money', 'These', 'days', 'hundreds', 'of', 'people', 'sharing', 'social', 'media', 'posts', 'of', 'their', 'delicious', 'meals', 'They', 'are', 'rediscovering', 'the', 'wonders', 'of', 'eating', 'in', '8', 'The', 'importance', 'of', 'talking', 'to', 'friends', 'every', 'day', 'Now', 'that', 'we', 'can’t', 'go', 'out', 'and', 'keep', 'busy', 'the', 'best', 'way', 'to', 'combat', 'loneliness', 'is', 'to', 'be', 'in', 'regular', 'contact', 'with', 'friends', 'and', 'family', 'by', 'chatting', 'over', 'the', 'phone', 'or', 'video', 'chatting', 'This', 'is', 'the', 'time', 'to', 'have', 'long', 'talks', 'and', 'deep', 'conversations', 'Don’t', 'forget', 'human', 'connection', 'during', 'these', 'crucial', 'times', 'Call', 'your', 'grandma', '9', 'Learn', 'to', 'appreciate', 'nature', 'If', 'you', 'live', 'near', 'a', 'spacious', 'outdoor', 'area', 'like', 'the', 'desert', 'or', 'an', 'empty', 'road', 'lined', 'with', 'trees', 'and', 'you', 'realize', 'it', 'is', 'the', 'only', 'safe', 'surfaceless', 'space', 'to', 'take', 'a', 'walk', 'in', 'then', 'you', 'start', 'to', 'realize', 'how', 'beautiful', 'nature', 'actually', 'is', 'The', 'point', 'is', 'not', 'to', 'remain', 'indoors', 'but', 'to', 'avoid', 'being', 'in', 'close', 'contact', 'with', 'others', 'When', 'you', 'do', 'leave', 'your', 'home', 'whether', 'it', 'is', 'for', 'a', 'walk', 'in', 'the', 'desert', 'or', 'a', 'run', 'on', 'your', 'street', 'make', 'sure', 'to', 'wipe', 'down', 'any', 'surfaces', 'with', 'which', 'you', 'come', 'into', 'contact', 'and', 'at', 'the', 'same', 'time', 'also', 'avoid', 'touching', 'your', 'face', 'and', 'frequently', 'wash', 'your', 'hands', '10', 'Learn', 'how', 'to', 'be', 'content', 'alone', 'It', 'is', 'so', 'hard', 'for', 'some', 'people', 'to', 'just', 'be', 'still', 'and', 'do', 'nothing', 'Being', 'alone', 'especially', 'for', 'extroverts', 'can', 'be', 'exhausting', 'and', 'lonely', 'Social', 'distancing', 'can', 'be', 'very', 'difficult', 'but', 'it', 'can', 'also', 'teach', 'you', 'a', 'lot', 'about', 'yourself', 'You', 'learn', 'how', 'to', 'keep', 'yourself', 'busy', 'Your', 'body', 'and', 'mind', 'is', 'your', 'home', 'and', 'you', 'have', 'to', 'learn', 'how', 'to', 'love', 'it', 'and', 'live', 'with', 'it', 'Conclusion', 'It', 'is', 'rightly', 'said', 'that', 'it', 'is', 'important', 'to', 'learn', 'from', 'the', 'past', 'The', 'deadly', 'Coronavirus', 'disease', 'that', 'is', 'taking', 'the', 'lives', 'of', 'so', 'many', 'people', 'across', 'the', 'world', 'has', 'taught', 'so', 'many', 'life', 'lessons', 'to', 'the', 'people', 'living', 'in', 'it', 'These', 'lessons', 'are', 'not', 'meant', 'to', 'be', 'forgotten', 'but', 'are', 'to', 'be', 'remembered', 'by', 'human', 'beings', 'in', 'order', 'to', 'make', 'the', 'Earth', 'a', 'beautiful', 'place', 'to', 'live', 'in', 'Lastly', 'I', 'would', 'like', 'to', 'conclude', 'by', 'mentioning', 'that', '“Stay', 'at', 'Home', 'Stay', 'Safe', 'Save', 'Lives”', 'Blackcoffer', 'Insights', '17', 'Snehasish', 'Ghosh', 'Darrang', 'College', 'Assam']\n"
     ]
    }
   ],
   "source": [
    "content=soup.findAll(attrs={'class':'td-post-content'})\n",
    "content=content[0].text.replace('\\n',\" \")\n",
    "print(content)\n",
    "#Punctuation\n",
    "content = content.translate(str.maketrans('', '', string.punctuation)) \n",
    "print(content)\n",
    "text = content.split()\n",
    "print(text)\n"
   ]
  },
  {
   "cell_type": "code",
   "execution_count": 3,
   "id": "e8d430cd",
   "metadata": {},
   "outputs": [
    {
     "data": {
      "text/plain": [
       "1268"
      ]
     },
     "execution_count": 3,
     "metadata": {},
     "output_type": "execute_result"
    }
   ],
   "source": [
    "len(text)"
   ]
  },
  {
   "cell_type": "code",
   "execution_count": 4,
   "id": "469f04fc",
   "metadata": {},
   "outputs": [
    {
     "name": "stdout",
     "output_type": "stream",
     "text": [
      "46\n"
     ]
    }
   ],
   "source": [
    "#Positive Score \n",
    "with open(r\"C:\\Users\\Om Bhandwalkar\\Desktop\\pos\\positive-words.txt\") as pos:\n",
    "    poswords = pos.read().split(\"\\n\")  \n",
    "    poswords = poswords[5:]\n",
    "pos_count = \" \".join ([w for w in text if w in poswords])\n",
    "pos_count=pos_count.split(\" \")\n",
    "Positive_score=len(pos_count)\n",
    "print(Positive_score)"
   ]
  },
  {
   "cell_type": "code",
   "execution_count": 5,
   "id": "f47dc85c",
   "metadata": {},
   "outputs": [
    {
     "name": "stdout",
     "output_type": "stream",
     "text": [
      "54\n"
     ]
    }
   ],
   "source": [
    "#Negative Score\n",
    "with open(r\"C:\\Users\\Om Bhandwalkar\\Desktop\\pos\\negative-words.txt\",encoding =\"ISO-8859-1\") as neg:\n",
    "    negwords = neg.read().split(\"\\n\")\n",
    "    \n",
    "negwords = negwords[36:]\n",
    "neg_count = \" \".join ([w for w in text if w in negwords])\n",
    "neg_count=neg_count.split(\" \")\n",
    "Negative_score=len(neg_count)\n",
    "print(Negative_score)"
   ]
  },
  {
   "cell_type": "code",
   "execution_count": 6,
   "id": "bb85dfbb",
   "metadata": {},
   "outputs": [
    {
     "data": {
      "text/html": [
       "<div>\n",
       "<style scoped>\n",
       "    .dataframe tbody tr th:only-of-type {\n",
       "        vertical-align: middle;\n",
       "    }\n",
       "\n",
       "    .dataframe tbody tr th {\n",
       "        vertical-align: top;\n",
       "    }\n",
       "\n",
       "    .dataframe thead th {\n",
       "        text-align: right;\n",
       "    }\n",
       "</style>\n",
       "<table border=\"1\" class=\"dataframe\">\n",
       "  <thead>\n",
       "    <tr style=\"text-align: right;\">\n",
       "      <th></th>\n",
       "      <th>url</th>\n",
       "      <th>title</th>\n",
       "      <th>content</th>\n",
       "      <th>filter_content</th>\n",
       "      <th>Positive_Score</th>\n",
       "      <th>Negative_Score</th>\n",
       "      <th>polarity</th>\n",
       "      <th>subjectivity</th>\n",
       "    </tr>\n",
       "  </thead>\n",
       "  <tbody>\n",
       "    <tr>\n",
       "      <th>0</th>\n",
       "      <td>https://insights.blackcoffer.com/lessons-from-...</td>\n",
       "      <td>Lessons from the past: Some key learnings rele...</td>\n",
       "      <td>The current topic that is burning the world a...</td>\n",
       "      <td>The current topic that is burning the world al...</td>\n",
       "      <td>46</td>\n",
       "      <td>54</td>\n",
       "      <td>0.112111</td>\n",
       "      <td>0.496596</td>\n",
       "    </tr>\n",
       "  </tbody>\n",
       "</table>\n",
       "</div>"
      ],
      "text/plain": [
       "                                                 url  \\\n",
       "0  https://insights.blackcoffer.com/lessons-from-...   \n",
       "\n",
       "                                               title  \\\n",
       "0  Lessons from the past: Some key learnings rele...   \n",
       "\n",
       "                                             content  \\\n",
       "0   The current topic that is burning the world a...   \n",
       "\n",
       "                                      filter_content  Positive_Score  \\\n",
       "0  The current topic that is burning the world al...              46   \n",
       "\n",
       "   Negative_Score  polarity  subjectivity  \n",
       "0              54  0.112111      0.496596  "
      ]
     },
     "execution_count": 6,
     "metadata": {},
     "output_type": "execute_result"
    }
   ],
   "source": [
    "filter_content = ' '.join(text)\n",
    "data=[[url,title,content,filter_content,Positive_score,Negative_score]]\n",
    "data=pd.DataFrame(data,columns=[\"url\",\"title\",\"content\",\"filter_content\",\"Positive_Score\",\"Negative_Score\"])\n",
    "from textblob import TextBlob\n",
    "# Get The Subjectivity\n",
    "def sentiment_analysis(data):\n",
    "    sentiment = TextBlob(data[\"content\"]).sentiment\n",
    "    return pd.Series([sentiment.polarity,sentiment.subjectivity ])\n",
    "\n",
    "# Adding Subjectivity & Polarity\n",
    "data[[\"polarity\", \"subjectivity\"]] = data.apply(sentiment_analysis, axis=1)\n",
    "\n",
    "data"
   ]
  },
  {
   "cell_type": "code",
   "execution_count": 7,
   "id": "ee3235f3",
   "metadata": {},
   "outputs": [
    {
     "name": "stdout",
     "output_type": "stream",
     "text": [
      "Word average = 5738.0\n",
      "FOG INDEX =  509.57\n",
      "Average no of words per sentence\n",
      "1268.0\n",
      "Complex Words 2034\n"
     ]
    }
   ],
   "source": [
    "#AVG SENTENCE LENGTH\n",
    "AVG_SENTENCE_LENGTH = len(content.replace(' ',''))/len(re.split(r'[?!.]', content))\n",
    "print('Word average =', AVG_SENTENCE_LENGTH)\n",
    "import textstat\n",
    "#Fog index \n",
    "FOG_INDEX=(textstat.gunning_fog(content))\n",
    "print(\"FOG INDEX = \",FOG_INDEX)\n",
    "#Average No of Words Per Sentence \n",
    "AVG_NUMBER_OF_WORDS_PER_SENTENCE = [len(l.split()) for l in re.split(r'[?!.]', content) if l.strip()]\n",
    "print(\"Average no of words per sentence\")\n",
    "AVG_NUMBER_OF_WORDS_PER_SENTENCE=print(sum(AVG_NUMBER_OF_WORDS_PER_SENTENCE)/len(AVG_NUMBER_OF_WORDS_PER_SENTENCE))\n",
    "#Complex words\n",
    "def syllable_count(word):\n",
    "    count = 0\n",
    "    vowels = \"AEIOUYaeiouy\"\n",
    "    if word[0] in vowels:\n",
    "        count += 1\n",
    "    for index in range(1, len(word)): \n",
    "        if word[index] in vowels and word[index - 1] not in vowels:\n",
    "            count += 1\n",
    "            if word.endswith(\"es\"or \"ed\"):\n",
    "                count -= 1\n",
    "    if count == 0:\n",
    "        count += 1\n",
    "    return count\n",
    "\n",
    "\n",
    "\n",
    "COMPLEX_WORDS=syllable_count(content)\n",
    "print(\"Complex Words\",COMPLEX_WORDS)\n"
   ]
  },
  {
   "cell_type": "code",
   "execution_count": 8,
   "id": "bb2e815b",
   "metadata": {},
   "outputs": [
    {
     "name": "stdout",
     "output_type": "stream",
     "text": [
      "Word Count 7007\n",
      "Percentage of Complex Words 29.028114742400458\n",
      "Average Word per Length 4.525236593059937\n",
      "The AVG number of syllables in the word is: \n",
      "1.8706624605678233\n",
      "Word Count 7007\n",
      "Percentage of Complex Words 29.028114742400458\n",
      "Average Word per Length 4.525236593059937\n",
      "The AVG number of syllables in the word is: \n",
      "1.8706624605678233\n"
     ]
    }
   ],
   "source": [
    "#Word Count\n",
    "Word_Count=len(content)\n",
    "print(\"Word Count\",Word_Count)\n",
    "#Percentage Complex Words\n",
    "pcw=(COMPLEX_WORDS/Word_Count)*100\n",
    "print(\"Percentage of Complex Words\",pcw)\n",
    "#Average Word Length\n",
    "Average_Word_Length=len(content.replace(' ',''))/len(content.split())\n",
    "print(\"Average Word per Length\",Average_Word_Length)\n",
    "#Syllable Count Per Word\n",
    "word=content.replace(' ','')\n",
    "syllable_count=0\n",
    "for w in word:\n",
    "      if(w=='a' or w=='e' or w=='i' or w=='o' or w=='y' or w=='u' or w=='A' or w=='E' or w=='I' or w=='O' or w=='U' or w=='Y'):\n",
    "            syllable_count=syllable_count+1\n",
    "print(\"The AVG number of syllables in the word is: \")\n",
    "print(syllable_count/len(content.split()))#Word Count\n",
    "Word_Count=len(content)\n",
    "print(\"Word Count\",Word_Count)\n",
    "#Percentage Complex Words\n",
    "pcw=(COMPLEX_WORDS/Word_Count)*100\n",
    "print(\"Percentage of Complex Words\",pcw)\n",
    "#Average Word Length\n",
    "Average_Word_Length=len(content.replace(' ',''))/len(content.split())\n",
    "print(\"Average Word per Length\",Average_Word_Length)\n",
    "#Syllable Count Per Word\n",
    "word=content.replace(' ','')\n",
    "syllable_count=0\n",
    "for w in word:\n",
    "      if(w=='a' or w=='e' or w=='i' or w=='o' or w=='y' or w=='u' or w=='A' or w=='E' or w=='I' or w=='O' or w=='U' or w=='Y'):\n",
    "            syllable_count=syllable_count+1\n",
    "print(\"The AVG number of syllables in the word is: \")\n",
    "print(syllable_count/len(content.split()))"
   ]
  },
  {
   "cell_type": "code",
   "execution_count": 1,
   "id": "1abcb644",
   "metadata": {},
   "outputs": [
    {
     "name": "stdout",
     "output_type": "stream",
     "text": [
      "46\n",
      "54\n",
      "Word average = 5738.0\n",
      "FOG INDEX =  509.57\n",
      "Average no of words per sentence\n",
      "1268.0\n",
      "Complex Words 2034\n",
      "Word Count 7008\n",
      "Percentage of Complex Words 29.02397260273973\n",
      "Average Word per Length 4.525236593059937\n",
      "The AVG number of syllables in the word is: \n",
      "1.8706624605678233\n"
     ]
    },
    {
     "data": {
      "text/html": [
       "<div>\n",
       "<style scoped>\n",
       "    .dataframe tbody tr th:only-of-type {\n",
       "        vertical-align: middle;\n",
       "    }\n",
       "\n",
       "    .dataframe tbody tr th {\n",
       "        vertical-align: top;\n",
       "    }\n",
       "\n",
       "    .dataframe thead th {\n",
       "        text-align: right;\n",
       "    }\n",
       "</style>\n",
       "<table border=\"1\" class=\"dataframe\">\n",
       "  <thead>\n",
       "    <tr style=\"text-align: right;\">\n",
       "      <th></th>\n",
       "      <th>url</th>\n",
       "      <th>title</th>\n",
       "      <th>content</th>\n",
       "      <th>filter_content</th>\n",
       "      <th>Positive_Score</th>\n",
       "      <th>Negative_Score</th>\n",
       "      <th>Avg_Sentence_Length</th>\n",
       "      <th>Percentage_Complex_Word</th>\n",
       "      <th>Fog_Index</th>\n",
       "      <th>AVG_NUMBER_OF_WORDS_PER_SENTENCE</th>\n",
       "      <th>COMPLEX_WORDS</th>\n",
       "      <th>Word_Count</th>\n",
       "      <th>syllable</th>\n",
       "      <th>Average_Word_Length</th>\n",
       "      <th>polarity</th>\n",
       "      <th>subjectivity</th>\n",
       "    </tr>\n",
       "  </thead>\n",
       "  <tbody>\n",
       "    <tr>\n",
       "      <th>0</th>\n",
       "      <td>https://insights.blackcoffer.com/lessons-from-...</td>\n",
       "      <td>Lessons from the past: Some key learnings rele...</td>\n",
       "      <td>The current topic that is burning the world ...</td>\n",
       "      <td>The current topic that is burning the world al...</td>\n",
       "      <td>46</td>\n",
       "      <td>54</td>\n",
       "      <td>5738.0</td>\n",
       "      <td>29.023973</td>\n",
       "      <td>509.57</td>\n",
       "      <td>1268.0</td>\n",
       "      <td>2034</td>\n",
       "      <td>7008</td>\n",
       "      <td>1.870662</td>\n",
       "      <td>4.525237</td>\n",
       "      <td>0.112111</td>\n",
       "      <td>0.496596</td>\n",
       "    </tr>\n",
       "  </tbody>\n",
       "</table>\n",
       "</div>"
      ],
      "text/plain": [
       "                                                 url  \\\n",
       "0  https://insights.blackcoffer.com/lessons-from-...   \n",
       "\n",
       "                                               title  \\\n",
       "0  Lessons from the past: Some key learnings rele...   \n",
       "\n",
       "                                             content  \\\n",
       "0    The current topic that is burning the world ...   \n",
       "\n",
       "                                      filter_content  Positive_Score  \\\n",
       "0  The current topic that is burning the world al...              46   \n",
       "\n",
       "   Negative_Score  Avg_Sentence_Length  Percentage_Complex_Word  Fog_Index  \\\n",
       "0              54               5738.0                29.023973     509.57   \n",
       "\n",
       "    AVG_NUMBER_OF_WORDS_PER_SENTENCE  COMPLEX_WORDS  Word_Count  syllable  \\\n",
       "0                             1268.0           2034        7008  1.870662   \n",
       "\n",
       "   Average_Word_Length  polarity  subjectivity  \n",
       "0             4.525237  0.112111      0.496596  "
      ]
     },
     "execution_count": 1,
     "metadata": {},
     "output_type": "execute_result"
    }
   ],
   "source": [
    "import requests\n",
    "import pandas as pd \n",
    "from bs4 import BeautifulSoup\n",
    "import string\n",
    "import spacy\n",
    "import re\n",
    "url = \"\"\"https://insights.blackcoffer.com/lessons-from-the-past-some-key-learnings-relevant-to-the-coronavirus-crisis-3/\"\"\"\n",
    "headers = {\"User-Agent\": \"Mozilla/5.0 (X11; Linux x86_64; rv:60.0) Gecko/20100101 Firefox/60.0\"}\n",
    "page = requests.get(url, headers=headers)\n",
    "soup = BeautifulSoup(page.content, 'html.parser')\n",
    "soup=BeautifulSoup(page.content, 'html.parser')\n",
    "title=soup.find('h1',class_=\"entry-title\")\n",
    "title=title.text.replace('\\n',\" \")\n",
    "# title\n",
    "\n",
    "content=soup.findAll(attrs={'class':'td-post-content'})\n",
    "content=content[0].text.replace('\\n',\" \")\n",
    "# print(content)\n",
    "#Punctuation\n",
    "content = content.translate(str.maketrans('', '', string.punctuation)) \n",
    "# print(content)\n",
    "text = content.split()\n",
    "# print(text)\n",
    "len(text)\n",
    "#Positive Score \n",
    "with open(r\"C:\\Users\\Om Bhandwalkar\\Desktop\\pos\\positive-words.txt\") as pos:\n",
    "    poswords = pos.read().split(\"\\n\")  \n",
    "    poswords = poswords[5:]\n",
    "pos_count = \" \".join ([w for w in text if w in poswords])\n",
    "pos_count=pos_count.split(\" \")\n",
    "Positive_score=len(pos_count)\n",
    "print(Positive_score)\n",
    "\n",
    "#Negative Score\n",
    "with open(r\"C:\\Users\\Om Bhandwalkar\\Desktop\\pos\\negative-words.txt\",encoding =\"ISO-8859-1\") as neg:\n",
    "    negwords = neg.read().split(\"\\n\")\n",
    "    \n",
    "negwords = negwords[36:]\n",
    "neg_count = \" \".join ([w for w in text if w in negwords])\n",
    "neg_count=neg_count.split(\" \")\n",
    "Negative_score=len(neg_count)\n",
    "print(Negative_score)\n",
    "\n",
    "\n",
    "filter_content = ' '.join(text)\n",
    "data=[[url,title,content,filter_content,Positive_score,Negative_score]]\n",
    "data=pd.DataFrame(data,columns=[\"url\",\"title\",\"content\",\"filter_content\",\"Positive_Score\",\"Negative_Score\"])\n",
    "from textblob import TextBlob\n",
    "# Get The Subjectivity\n",
    "def sentiment_analysis(data):\n",
    "    sentiment = TextBlob(data[\"content\"]).sentiment\n",
    "    return pd.Series([sentiment.polarity,sentiment.subjectivity ])\n",
    "data[[\"polarity\", \"subjectivity\"]] = data.apply(sentiment_analysis, axis=1)\n",
    "data\n",
    "#AVG SENTENCE LENGTH\n",
    "AVG_SENTENCE_LENGTH = len(content.replace(' ',''))/len(re.split(r'[?!.]', content))\n",
    "print('Word average =', AVG_SENTENCE_LENGTH)\n",
    "import textstat\n",
    "#Fog index \n",
    "FOG_INDEX=(textstat.gunning_fog(content))\n",
    "print(\"FOG INDEX = \",FOG_INDEX)\n",
    "#Average No of Words Per Sentence \n",
    "AVG_NUMBER_OF_WORDS_PER_SENTENCE = [len(l.split()) for l in re.split(r'[?!.]', content) if l.strip()]\n",
    "print(\"Average no of words per sentence\")\n",
    "AVG_NUMBER_OF_WORDS_PER_SENTENCE=(sum(AVG_NUMBER_OF_WORDS_PER_SENTENCE)/len(AVG_NUMBER_OF_WORDS_PER_SENTENCE))\n",
    "print(AVG_NUMBER_OF_WORDS_PER_SENTENCE)\n",
    "#Complex words\n",
    "def syllable_count(word):\n",
    "    count = 0\n",
    "    vowels = \"AEIOUYaeiouy\"\n",
    "    if word[0] in vowels:\n",
    "        count += 1\n",
    "    for index in range(1, len(word)): \n",
    "        if word[index] in vowels and word[index - 1] not in vowels:\n",
    "            count += 1\n",
    "            if word.endswith(\"es\"or \"ed\"):\n",
    "                count -= 1\n",
    "    if count == 0:\n",
    "        count += 1\n",
    "    return count\n",
    "\n",
    "\n",
    "\n",
    "COMPLEX_WORDS=syllable_count(content)\n",
    "print(\"Complex Words\",COMPLEX_WORDS)\n",
    "#Word Count\n",
    "Word_Count=len(content)\n",
    "print(\"Word Count\",Word_Count)\n",
    "#Percentage Complex Words\n",
    "pcw=(COMPLEX_WORDS/Word_Count)*100\n",
    "print(\"Percentage of Complex Words\",pcw)\n",
    "#Average Word Length\n",
    "Average_Word_Length=len(content.replace(' ',''))/len(content.split())\n",
    "print(\"Average Word per Length\",Average_Word_Length)\n",
    "#Syllable Count Per Word\n",
    "word=content.replace(' ','')\n",
    "syllable_count=0\n",
    "for w in word:\n",
    "      if(w=='a' or w=='e' or w=='i' or w=='o' or w=='y' or w=='u' or w=='A' or w=='E' or w=='I' or w=='O' or w=='U' or w=='Y'):\n",
    "            syllable_count=syllable_count+1\n",
    "print(\"The AVG number of syllables in the word is: \")\n",
    "syllable = (syllable_count/len(content.split()))\n",
    "print(syllable)\n",
    "\n",
    "data = [[url,title,content,filter_content,Positive_score,Negative_score,AVG_SENTENCE_LENGTH,pcw,FOG_INDEX,\n",
    "         AVG_NUMBER_OF_WORDS_PER_SENTENCE,COMPLEX_WORDS,Word_Count,syllable,Average_Word_Length]]\n",
    "data=pd.DataFrame(data,columns=[\"url\",\"title\",\"content\",\"filter_content\",\"Positive_Score\",\"Negative_Score\",\"Avg_Sentence_Length\"\n",
    "                               ,\"Percentage_Complex_Word\",\"Fog_Index\",\" AVG_NUMBER_OF_WORDS_PER_SENTENCE\",\"COMPLEX_WORDS\",\n",
    "                               \"Word_Count\",\"syllable\",\"Average_Word_Length\"])\n",
    "from textblob import TextBlob\n",
    "# Get The Subjectivity\n",
    "def sentiment_analysis(data):\n",
    "    sentiment = TextBlob(data[\"content\"]).sentiment\n",
    "    return pd.Series([sentiment.polarity,sentiment.subjectivity ])\n",
    "data[[\"polarity\", \"subjectivity\"]] = data.apply(sentiment_analysis, axis=1)\n",
    "data"
   ]
  },
  {
   "cell_type": "code",
   "execution_count": 2,
   "id": "04d85eb2",
   "metadata": {},
   "outputs": [],
   "source": [
    "data.to_csv(r'C:\\Users\\Om Bhandwalkar\\Desktop\\BlackCoffer Assignment\\Output\\url_118.csv')"
   ]
  },
  {
   "cell_type": "code",
   "execution_count": null,
   "id": "0ad99f94",
   "metadata": {},
   "outputs": [],
   "source": []
  }
 ],
 "metadata": {
  "kernelspec": {
   "display_name": "Python 3 (ipykernel)",
   "language": "python",
   "name": "python3"
  },
  "language_info": {
   "codemirror_mode": {
    "name": "ipython",
    "version": 3
   },
   "file_extension": ".py",
   "mimetype": "text/x-python",
   "name": "python",
   "nbconvert_exporter": "python",
   "pygments_lexer": "ipython3",
   "version": "3.9.12"
  }
 },
 "nbformat": 4,
 "nbformat_minor": 5
}
