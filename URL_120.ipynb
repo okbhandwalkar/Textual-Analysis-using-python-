{
 "cells": [
  {
   "cell_type": "code",
   "execution_count": 1,
   "id": "9d6a81f0",
   "metadata": {},
   "outputs": [
    {
     "data": {
      "text/plain": [
       "'Why scams like Nirav Modi Happen with Indian banks?'"
      ]
     },
     "execution_count": 1,
     "metadata": {},
     "output_type": "execute_result"
    }
   ],
   "source": [
    "import requests\n",
    "import pandas as pd \n",
    "from bs4 import BeautifulSoup\n",
    "import string\n",
    "import spacy\n",
    "import re\n",
    "url = \"\"\"https://insights.blackcoffer.com/why-scams-like-nirav-modi-happen-with-indian-banks/\"\"\"\n",
    "headers = {\"User-Agent\": \"Mozilla/5.0 (X11; Linux x86_64; rv:60.0) Gecko/20100101 Firefox/60.0\"}\n",
    "page = requests.get(url, headers=headers)\n",
    "soup = BeautifulSoup(page.content, 'html.parser')\n",
    "soup=BeautifulSoup(page.content, 'html.parser')\n",
    "title=soup.find('h1',class_=\"entry-title\")\n",
    "title=title.text.replace('\\n',\" \")\n",
    "title\n"
   ]
  },
  {
   "cell_type": "code",
   "execution_count": 2,
   "id": "888b0559",
   "metadata": {},
   "outputs": [
    {
     "name": "stdout",
     "output_type": "stream",
     "text": [
      " India has been beset by financial scams since Independence. Every 4-5 years, Indian citizens hear about so many trillions of public money being misappropriated and eventually lost by people who the public is supposed to start. In this article, with examples, I would like to point out that there are two factors to scams like Nirav Modi: the complicity of actors within the financial industry and the systemic loopholes in an emerging financial system that has been used for scams like Nirav Modi. The first financial scam of Independent India was found in 1958 when Feroze Gandhi, MP found that In 1957, Haridas Mundhra got the government-owned Life Insurance Corporation (LIC) to invest Rs. 12.4 million (about US$3.2 million at the time) in the shares of six troubled companies of whom Mundhra held a large number of shares which he was trying to boost by rigging the market. The investment was done under governmental pressure and bypassed the LIC’s investment committee, which was informed of this decision only after the deal had gone through. In the event, LIC lost most of the money. Several leading stockbrokers who were on the LIC Investment Committee testified that the investment could not have been made for the purpose of propping up the market, as was claimed by the Finance Ministry, and that had the LIC consulted the Investment Committee, they would have pointed out Mundhra’s forged shares episode from 1956. The Finance Minister T. T. Krishnamachari, in his testimony, tried to distance himself from the LIC decision, implying that it may have been taken by the Finance Secretary, but Justice M.C. Chagla held that the Minister is constitutionally responsible for the action taken by his secretary and he disowns his actions. Eventually, Krishanamachari had to resign. The Nehru government suffered considerable loss of prestige in the incident. The 1992 Indian stock market scam was a stock market scam orchestrated by Harshad Mehta. The scam took place in Mumbai and was the biggest market scam of India. The 1992 scam was a systematic stock fraud using bank receipts and stamp paper which caused the Indian Stock market to crash. The scam lead to a complete structural change of the security system of India and introduced a completely new system of stock transactions. The 1992 scam exposed the Indian financial systems through the inherent loopholes of the system. This scam led to the reform of the security system of India and introduced online security systems. The scam was orchestrated in such a way that Mehta secured securities from the State Bank of India against forged cheques signed by corrupt officials and failed to deliver the securities. Mehta made the prices of the stocks soar high through fictitious practices and would go on to sell the stocks that he owned in these companies. The 1992 scam raises many questions which involved many bank officials responsible for collusion with Mehta. The 1992 scam caused an investigation through which many officials were implicated in fraudulent charges. The security system of India took a rapid reform in its fundamental structure post the 1992 scam. The first major structural change was the formation of the National Stock Exchange of India (NSE). The first major reform in the financial sector of India was the formation of the CII Code for Desirable Corporate Governance developed by Rahul Bajaj. Post-1992, a new regulatory board known as the Securities and Exchange Board of India was formed to monitor the National Stock Exchange and the National Securities Depository. There were structural changes in the equity market. The government introduced ten acts of parliament and one constitutional amendment based upon the principles of economic reform and legislative change for the equity market. The NSE introduced online trading in 1994 which changed the dynamics of stock buying and selling. The capital market now opened up nationally as opposed to being confined in Mumbai. The exchange system started functioning based on satellite communications that abolished geographical barriers. In 2001, Ketan Parekh purchased large stakes in less known small market capitalization companies and jacked up their prices through circular trading with other traders, and collusion with these companies and large institutional investors. This resulted in steep hikes in share prices. It later transpired that promoters and industrialists often gave Parekh funds to artificially rig up their share prices. This set of ten stocks was colloquially referred to as “K-10” stocks and Parekh was playfully referred to as “Pentafour”. The RBI commenced an investigation against Parekh. Around the same time, a bear cartel of brokers in Mumbai opposed to Parekh tried to dump their shares of K-10 stocks. Panicking, Parekh sold off his entire ownership of the so-called K-10 stocks that he had successfully jacked up over the past two years. This resulted in a stock market crash the next day, resulting in large-scale losses for large institutional investors, including insurance companies and mutual funds. A 30 member Joint Parliamentary Committee (JPC) investigation ensued which found that Parekh had been involved in circular trading throughout the time period from and with a variety of companies. When the Securities Exchange Board of India (SEBI) started scanning an entire spectrum of IPOs launched over 2003, 2004, and 2005, it ended digging up more dirt and probably prevented a larger conspiracy to hijack the market. It involved the manipulation of the primary market—read initial public offers (IPOs)—by financiers and market players by using fictitious or benaami Demat accounts. They then transferred the shares to financiers, who sold on the first day of listing, making windfall gains from the price difference between the IPO price and the listing price. This time, fraudsters targeted the primary market to make a quick buck at the expense of the gullible small investors. Direct Participants (DPs) used retail applicants’ shares for reaping benefits in the stock market. The 2010 fake housing loan in India was uncovered by the Central Bureau of Investigation (CBI) in India. CBI arrested eight top-ranking officials of public sector banks and financial institutions, including the LIC Housing Finance CEO Ramchandran Nair, in connection with the scam. CBI alleged that the officers of various public sector banks and financial institutions received bribes from a private financial services company, which acted as a mediator for corporate loans and other facilities from financial institutions. The bank officials sanctioned large-scale corporate loans to realty developers, overriding mandatory conditions for such approvals along with other irregularities. The Thane police, struggling to crack down on the tax refund scam that has taken the income tax department for a ride and defrauded the central exchequer of around Rs 3 crore, has concluded that the scam involved high-ranking officials from the I-T department and the State Bank of India. The fraud-involving two I-T offices in Thane and Kalyan was planned by those familiar with the I-T office functioning. For over two years, 2007-2008 and 2008-2009, the I-T officials disbursed tax refund cheques drawn from the SBI and credited into the account of fictitious assessees in a credit society in Dombivli. As many as 331 such tax refund cheques, some exceeding Rs 1 lakh, were subsequently routed to the Dombivli Nagri Cooperative Bank and funds withdrawn. The I-T refunds are account payee cheques, which can’t be transferred. Despite this, all 331 refund orders were credited to the third-party account of a credit society. The Saradha Group financial scandal was a major financial scam and alleged political scandal caused by the collapse of a Ponzi scheme run by Saradha Group, a consortium of over 200 private companies that were believed to be running collective investment schemes popularly but incorrectly referred to as chit funds in Eastern India. It was feared that legitimate non-banking financial companies and microfinance institutions would be stigmatized, leading to a vicious cycle of low depositor trust, higher interest rates, lower lending and a localized credit crisis. Because most of the Saradha Group depositors came from the lowest economic strata, the loss of the investment would cause a further decrease in social mobility. The scandal drew attention to similar illegal deposit mobilizing companies, which are facing increased regulatory pressure. Many of these companies have been variations of timeshare travel schemes, of which there are few clear regulations. In August 2013, the Central Government amended the SEBI Act and gave SEBI powers to search and seize without prior magisterial permission to investigate illegal money collection schemes. NSEL case relates to a payment default at the National Spot Exchange Limited that occurred in 2013 involving Financial Technologies India Ltd when a payment default took place after a commodities market regulator, the Forward Markets Commission (FMC), directed NSEL to stop launching contracts. This led to the closure of the Exchange in July 2013. Three spot exchanges, NSEL, NSPOT, and National APMC were exempted by the government under Section 27 of FCRA to conduct forward trading in one-day contracts. This was done to boost volumes so that their economic viability improved. On the flawed recommendations of the FMC, the Ministry of Consumer Affairs ordered NSEL to settle all existing contracts and not launch any fresh contracts, which led to the crisis. Investigations led by Enforcement Directorate (ED) and Economic Offences Wing (EOW) revealed the role of brokers and defaulters in the NSEL case. The brokers mis-sold NSEL products to their clients by assuring them of fixed returns. The defaulters hypothecated stocks and produced fake warehouse receipts and siphoned the entire default money. FIU (under Finance Ministry) held that NSEL came under the purview of the Forwarding Contracts (Regulation) Act (FCRA) and therefore guilty of failing in several of these obligations under the law. The black money watchdog has slapped a penalty of Rs 1.66 crore for several counts of violating the provisions of the Prevention of Money Laundering Act (PMLA) on NSEL. The watchdog further held that failures are deliberate and willful and hence, invite penalties. The NSE co-location scam relates to the market manipulation at the National Stock Exchange of India, India’s leading stock exchange. Allegedly select players obtained market price information ahead of the rest of the market, enabling them to front-run the rest of the market, possibly breaching the NSE’s purpose of demutualization exchange governance and its robust transparency-based mechanism. he alleged connivance of insiders by rigging NSE’s algo-trading and use of co-location servers ensured substantial profits to a set of brokers. The whistle-blower alleged that trading members were able to capitalize on advanced knowledge by colluding with some exchange officials. In a written reply, Minister of State for Finance, Arjun Meghwal told the Lok Sabha in 2016: “The architecture of NSE with respect to dissemination of tick-by-tick through transmission control protocol (TCP) or internet protocol (IP) was prone to manipulation or market abuse. The Punjab National Bank Fraud Case relates to the fraudulent letters of undertaking worth ₹11,356.84 crores (US$ 1.4 billion) issued by the Punjab National Bank at its Brady House branch in Fort, Mumbai; making Punjab National Bank liable for the amount. The fraud was allegedly organized by jeweler and designer Nirav Modi. Nirav, his wife Ami Modi, brother Nishal Modi and uncle Mehul Choksi, all partners of the firms, M/s Diamond R US, M/s Solar Exports and M/s Stellar Diamonds; along with PNB officials and employees, and directors of Nirav Modi and Mehul Choksi’s firms have all been named in a charge sheet by the CBI. The bank initially said that two of its employees at the branch were involved in the scam, as the bank’s core banking system was bypassed when the corrupt employees issued LOUs to overseas branches of other Indian banks, including Allahabad Bank, Axis Bank, and Union Bank of India, using the international financial communication system, SWIFT. On 1 March 2018, the government approved the Fugitive Economic Offenders Bill to deter economic offenders from evading the process of Indian law by giving powers to the government to confiscate assets of a fugitive, including Benami assets of absconding loan defaulters. The bill covers a wide range of economic offenders which include: loan defaulters, fraudsters, individuals who violate laws governing taxes, black money, Benami properties, the financial sector, and corruption. In March 2018, the Reserve Bank of India scrapped banking instruments such as the Letter of understanding (Lou) and Letter of Comfort (LoC) that in an attempt to plug a loophole and improve banks’ due diligence in trade credit. Some bankers said that LoUs and LoCs led to receiving banks depending completely on the issuing bank on creditworthiness. As seen in all the above cases for scams like Nirav Modi, the two factors: action taken by the insiders or systemic loopholes were responsible for the majority of the Indian financial scams. The improvement in the industry will only come when all the loopholes are closed down and accountability is given and held to all the people working in the industry. Blackcoffer Insights 16:- Sandeep Chakravartty, Publicis Sapient    \n",
      " India has been beset by financial scams since Independence Every 45 years Indian citizens hear about so many trillions of public money being misappropriated and eventually lost by people who the public is supposed to start In this article with examples I would like to point out that there are two factors to scams like Nirav Modi the complicity of actors within the financial industry and the systemic loopholes in an emerging financial system that has been used for scams like Nirav Modi The first financial scam of Independent India was found in 1958 when Feroze Gandhi MP found that In 1957 Haridas Mundhra got the governmentowned Life Insurance Corporation LIC to invest Rs 124 million about US32 million at the time in the shares of six troubled companies of whom Mundhra held a large number of shares which he was trying to boost by rigging the market The investment was done under governmental pressure and bypassed the LIC’s investment committee which was informed of this decision only after the deal had gone through In the event LIC lost most of the money Several leading stockbrokers who were on the LIC Investment Committee testified that the investment could not have been made for the purpose of propping up the market as was claimed by the Finance Ministry and that had the LIC consulted the Investment Committee they would have pointed out Mundhra’s forged shares episode from 1956 The Finance Minister T T Krishnamachari in his testimony tried to distance himself from the LIC decision implying that it may have been taken by the Finance Secretary but Justice MC Chagla held that the Minister is constitutionally responsible for the action taken by his secretary and he disowns his actions Eventually Krishanamachari had to resign The Nehru government suffered considerable loss of prestige in the incident The 1992 Indian stock market scam was a stock market scam orchestrated by Harshad Mehta The scam took place in Mumbai and was the biggest market scam of India The 1992 scam was a systematic stock fraud using bank receipts and stamp paper which caused the Indian Stock market to crash The scam lead to a complete structural change of the security system of India and introduced a completely new system of stock transactions The 1992 scam exposed the Indian financial systems through the inherent loopholes of the system This scam led to the reform of the security system of India and introduced online security systems The scam was orchestrated in such a way that Mehta secured securities from the State Bank of India against forged cheques signed by corrupt officials and failed to deliver the securities Mehta made the prices of the stocks soar high through fictitious practices and would go on to sell the stocks that he owned in these companies The 1992 scam raises many questions which involved many bank officials responsible for collusion with Mehta The 1992 scam caused an investigation through which many officials were implicated in fraudulent charges The security system of India took a rapid reform in its fundamental structure post the 1992 scam The first major structural change was the formation of the National Stock Exchange of India NSE The first major reform in the financial sector of India was the formation of the CII Code for Desirable Corporate Governance developed by Rahul Bajaj Post1992 a new regulatory board known as the Securities and Exchange Board of India was formed to monitor the National Stock Exchange and the National Securities Depository There were structural changes in the equity market The government introduced ten acts of parliament and one constitutional amendment based upon the principles of economic reform and legislative change for the equity market The NSE introduced online trading in 1994 which changed the dynamics of stock buying and selling The capital market now opened up nationally as opposed to being confined in Mumbai The exchange system started functioning based on satellite communications that abolished geographical barriers In 2001 Ketan Parekh purchased large stakes in less known small market capitalization companies and jacked up their prices through circular trading with other traders and collusion with these companies and large institutional investors This resulted in steep hikes in share prices It later transpired that promoters and industrialists often gave Parekh funds to artificially rig up their share prices This set of ten stocks was colloquially referred to as “K10” stocks and Parekh was playfully referred to as “Pentafour” The RBI commenced an investigation against Parekh Around the same time a bear cartel of brokers in Mumbai opposed to Parekh tried to dump their shares of K10 stocks Panicking Parekh sold off his entire ownership of the socalled K10 stocks that he had successfully jacked up over the past two years This resulted in a stock market crash the next day resulting in largescale losses for large institutional investors including insurance companies and mutual funds A 30 member Joint Parliamentary Committee JPC investigation ensued which found that Parekh had been involved in circular trading throughout the time period from and with a variety of companies When the Securities Exchange Board of India SEBI started scanning an entire spectrum of IPOs launched over 2003 2004 and 2005 it ended digging up more dirt and probably prevented a larger conspiracy to hijack the market It involved the manipulation of the primary market—read initial public offers IPOs—by financiers and market players by using fictitious or benaami Demat accounts They then transferred the shares to financiers who sold on the first day of listing making windfall gains from the price difference between the IPO price and the listing price This time fraudsters targeted the primary market to make a quick buck at the expense of the gullible small investors Direct Participants DPs used retail applicants’ shares for reaping benefits in the stock market The 2010 fake housing loan in India was uncovered by the Central Bureau of Investigation CBI in India CBI arrested eight topranking officials of public sector banks and financial institutions including the LIC Housing Finance CEO Ramchandran Nair in connection with the scam CBI alleged that the officers of various public sector banks and financial institutions received bribes from a private financial services company which acted as a mediator for corporate loans and other facilities from financial institutions The bank officials sanctioned largescale corporate loans to realty developers overriding mandatory conditions for such approvals along with other irregularities The Thane police struggling to crack down on the tax refund scam that has taken the income tax department for a ride and defrauded the central exchequer of around Rs 3 crore has concluded that the scam involved highranking officials from the IT department and the State Bank of India The fraudinvolving two IT offices in Thane and Kalyan was planned by those familiar with the IT office functioning For over two years 20072008 and 20082009 the IT officials disbursed tax refund cheques drawn from the SBI and credited into the account of fictitious assessees in a credit society in Dombivli As many as 331 such tax refund cheques some exceeding Rs 1 lakh were subsequently routed to the Dombivli Nagri Cooperative Bank and funds withdrawn The IT refunds are account payee cheques which can’t be transferred Despite this all 331 refund orders were credited to the thirdparty account of a credit society The Saradha Group financial scandal was a major financial scam and alleged political scandal caused by the collapse of a Ponzi scheme run by Saradha Group a consortium of over 200 private companies that were believed to be running collective investment schemes popularly but incorrectly referred to as chit funds in Eastern India It was feared that legitimate nonbanking financial companies and microfinance institutions would be stigmatized leading to a vicious cycle of low depositor trust higher interest rates lower lending and a localized credit crisis Because most of the Saradha Group depositors came from the lowest economic strata the loss of the investment would cause a further decrease in social mobility The scandal drew attention to similar illegal deposit mobilizing companies which are facing increased regulatory pressure Many of these companies have been variations of timeshare travel schemes of which there are few clear regulations In August 2013 the Central Government amended the SEBI Act and gave SEBI powers to search and seize without prior magisterial permission to investigate illegal money collection schemes NSEL case relates to a payment default at the National Spot Exchange Limited that occurred in 2013 involving Financial Technologies India Ltd when a payment default took place after a commodities market regulator the Forward Markets Commission FMC directed NSEL to stop launching contracts This led to the closure of the Exchange in July 2013 Three spot exchanges NSEL NSPOT and National APMC were exempted by the government under Section 27 of FCRA to conduct forward trading in oneday contracts This was done to boost volumes so that their economic viability improved On the flawed recommendations of the FMC the Ministry of Consumer Affairs ordered NSEL to settle all existing contracts and not launch any fresh contracts which led to the crisis Investigations led by Enforcement Directorate ED and Economic Offences Wing EOW revealed the role of brokers and defaulters in the NSEL case The brokers missold NSEL products to their clients by assuring them of fixed returns The defaulters hypothecated stocks and produced fake warehouse receipts and siphoned the entire default money FIU under Finance Ministry held that NSEL came under the purview of the Forwarding Contracts Regulation Act FCRA and therefore guilty of failing in several of these obligations under the law The black money watchdog has slapped a penalty of Rs 166 crore for several counts of violating the provisions of the Prevention of Money Laundering Act PMLA on NSEL The watchdog further held that failures are deliberate and willful and hence invite penalties The NSE colocation scam relates to the market manipulation at the National Stock Exchange of India India’s leading stock exchange Allegedly select players obtained market price information ahead of the rest of the market enabling them to frontrun the rest of the market possibly breaching the NSE’s purpose of demutualization exchange governance and its robust transparencybased mechanism he alleged connivance of insiders by rigging NSE’s algotrading and use of colocation servers ensured substantial profits to a set of brokers The whistleblower alleged that trading members were able to capitalize on advanced knowledge by colluding with some exchange officials In a written reply Minister of State for Finance Arjun Meghwal told the Lok Sabha in 2016 “The architecture of NSE with respect to dissemination of tickbytick through transmission control protocol TCP or internet protocol IP was prone to manipulation or market abuse The Punjab National Bank Fraud Case relates to the fraudulent letters of undertaking worth ₹1135684 crores US 14 billion issued by the Punjab National Bank at its Brady House branch in Fort Mumbai making Punjab National Bank liable for the amount The fraud was allegedly organized by jeweler and designer Nirav Modi Nirav his wife Ami Modi brother Nishal Modi and uncle Mehul Choksi all partners of the firms Ms Diamond R US Ms Solar Exports and Ms Stellar Diamonds along with PNB officials and employees and directors of Nirav Modi and Mehul Choksi’s firms have all been named in a charge sheet by the CBI The bank initially said that two of its employees at the branch were involved in the scam as the bank’s core banking system was bypassed when the corrupt employees issued LOUs to overseas branches of other Indian banks including Allahabad Bank Axis Bank and Union Bank of India using the international financial communication system SWIFT On 1 March 2018 the government approved the Fugitive Economic Offenders Bill to deter economic offenders from evading the process of Indian law by giving powers to the government to confiscate assets of a fugitive including Benami assets of absconding loan defaulters The bill covers a wide range of economic offenders which include loan defaulters fraudsters individuals who violate laws governing taxes black money Benami properties the financial sector and corruption In March 2018 the Reserve Bank of India scrapped banking instruments such as the Letter of understanding Lou and Letter of Comfort LoC that in an attempt to plug a loophole and improve banks’ due diligence in trade credit Some bankers said that LoUs and LoCs led to receiving banks depending completely on the issuing bank on creditworthiness As seen in all the above cases for scams like Nirav Modi the two factors action taken by the insiders or systemic loopholes were responsible for the majority of the Indian financial scams The improvement in the industry will only come when all the loopholes are closed down and accountability is given and held to all the people working in the industry Blackcoffer Insights 16 Sandeep Chakravartty Publicis Sapient    \n",
      "['India', 'has', 'been', 'beset', 'by', 'financial', 'scams', 'since', 'Independence', 'Every', '45', 'years', 'Indian', 'citizens', 'hear', 'about', 'so', 'many', 'trillions', 'of', 'public', 'money', 'being', 'misappropriated', 'and', 'eventually', 'lost', 'by', 'people', 'who', 'the', 'public', 'is', 'supposed', 'to', 'start', 'In', 'this', 'article', 'with', 'examples', 'I', 'would', 'like', 'to', 'point', 'out', 'that', 'there', 'are', 'two', 'factors', 'to', 'scams', 'like', 'Nirav', 'Modi', 'the', 'complicity', 'of', 'actors', 'within', 'the', 'financial', 'industry', 'and', 'the', 'systemic', 'loopholes', 'in', 'an', 'emerging', 'financial', 'system', 'that', 'has', 'been', 'used', 'for', 'scams', 'like', 'Nirav', 'Modi', 'The', 'first', 'financial', 'scam', 'of', 'Independent', 'India', 'was', 'found', 'in', '1958', 'when', 'Feroze', 'Gandhi', 'MP', 'found', 'that', 'In', '1957', 'Haridas', 'Mundhra', 'got', 'the', 'governmentowned', 'Life', 'Insurance', 'Corporation', 'LIC', 'to', 'invest', 'Rs', '124', 'million', 'about', 'US32', 'million', 'at', 'the', 'time', 'in', 'the', 'shares', 'of', 'six', 'troubled', 'companies', 'of', 'whom', 'Mundhra', 'held', 'a', 'large', 'number', 'of', 'shares', 'which', 'he', 'was', 'trying', 'to', 'boost', 'by', 'rigging', 'the', 'market', 'The', 'investment', 'was', 'done', 'under', 'governmental', 'pressure', 'and', 'bypassed', 'the', 'LIC’s', 'investment', 'committee', 'which', 'was', 'informed', 'of', 'this', 'decision', 'only', 'after', 'the', 'deal', 'had', 'gone', 'through', 'In', 'the', 'event', 'LIC', 'lost', 'most', 'of', 'the', 'money', 'Several', 'leading', 'stockbrokers', 'who', 'were', 'on', 'the', 'LIC', 'Investment', 'Committee', 'testified', 'that', 'the', 'investment', 'could', 'not', 'have', 'been', 'made', 'for', 'the', 'purpose', 'of', 'propping', 'up', 'the', 'market', 'as', 'was', 'claimed', 'by', 'the', 'Finance', 'Ministry', 'and', 'that', 'had', 'the', 'LIC', 'consulted', 'the', 'Investment', 'Committee', 'they', 'would', 'have', 'pointed', 'out', 'Mundhra’s', 'forged', 'shares', 'episode', 'from', '1956', 'The', 'Finance', 'Minister', 'T', 'T', 'Krishnamachari', 'in', 'his', 'testimony', 'tried', 'to', 'distance', 'himself', 'from', 'the', 'LIC', 'decision', 'implying', 'that', 'it', 'may', 'have', 'been', 'taken', 'by', 'the', 'Finance', 'Secretary', 'but', 'Justice', 'MC', 'Chagla', 'held', 'that', 'the', 'Minister', 'is', 'constitutionally', 'responsible', 'for', 'the', 'action', 'taken', 'by', 'his', 'secretary', 'and', 'he', 'disowns', 'his', 'actions', 'Eventually', 'Krishanamachari', 'had', 'to', 'resign', 'The', 'Nehru', 'government', 'suffered', 'considerable', 'loss', 'of', 'prestige', 'in', 'the', 'incident', 'The', '1992', 'Indian', 'stock', 'market', 'scam', 'was', 'a', 'stock', 'market', 'scam', 'orchestrated', 'by', 'Harshad', 'Mehta', 'The', 'scam', 'took', 'place', 'in', 'Mumbai', 'and', 'was', 'the', 'biggest', 'market', 'scam', 'of', 'India', 'The', '1992', 'scam', 'was', 'a', 'systematic', 'stock', 'fraud', 'using', 'bank', 'receipts', 'and', 'stamp', 'paper', 'which', 'caused', 'the', 'Indian', 'Stock', 'market', 'to', 'crash', 'The', 'scam', 'lead', 'to', 'a', 'complete', 'structural', 'change', 'of', 'the', 'security', 'system', 'of', 'India', 'and', 'introduced', 'a', 'completely', 'new', 'system', 'of', 'stock', 'transactions', 'The', '1992', 'scam', 'exposed', 'the', 'Indian', 'financial', 'systems', 'through', 'the', 'inherent', 'loopholes', 'of', 'the', 'system', 'This', 'scam', 'led', 'to', 'the', 'reform', 'of', 'the', 'security', 'system', 'of', 'India', 'and', 'introduced', 'online', 'security', 'systems', 'The', 'scam', 'was', 'orchestrated', 'in', 'such', 'a', 'way', 'that', 'Mehta', 'secured', 'securities', 'from', 'the', 'State', 'Bank', 'of', 'India', 'against', 'forged', 'cheques', 'signed', 'by', 'corrupt', 'officials', 'and', 'failed', 'to', 'deliver', 'the', 'securities', 'Mehta', 'made', 'the', 'prices', 'of', 'the', 'stocks', 'soar', 'high', 'through', 'fictitious', 'practices', 'and', 'would', 'go', 'on', 'to', 'sell', 'the', 'stocks', 'that', 'he', 'owned', 'in', 'these', 'companies', 'The', '1992', 'scam', 'raises', 'many', 'questions', 'which', 'involved', 'many', 'bank', 'officials', 'responsible', 'for', 'collusion', 'with', 'Mehta', 'The', '1992', 'scam', 'caused', 'an', 'investigation', 'through', 'which', 'many', 'officials', 'were', 'implicated', 'in', 'fraudulent', 'charges', 'The', 'security', 'system', 'of', 'India', 'took', 'a', 'rapid', 'reform', 'in', 'its', 'fundamental', 'structure', 'post', 'the', '1992', 'scam', 'The', 'first', 'major', 'structural', 'change', 'was', 'the', 'formation', 'of', 'the', 'National', 'Stock', 'Exchange', 'of', 'India', 'NSE', 'The', 'first', 'major', 'reform', 'in', 'the', 'financial', 'sector', 'of', 'India', 'was', 'the', 'formation', 'of', 'the', 'CII', 'Code', 'for', 'Desirable', 'Corporate', 'Governance', 'developed', 'by', 'Rahul', 'Bajaj', 'Post1992', 'a', 'new', 'regulatory', 'board', 'known', 'as', 'the', 'Securities', 'and', 'Exchange', 'Board', 'of', 'India', 'was', 'formed', 'to', 'monitor', 'the', 'National', 'Stock', 'Exchange', 'and', 'the', 'National', 'Securities', 'Depository', 'There', 'were', 'structural', 'changes', 'in', 'the', 'equity', 'market', 'The', 'government', 'introduced', 'ten', 'acts', 'of', 'parliament', 'and', 'one', 'constitutional', 'amendment', 'based', 'upon', 'the', 'principles', 'of', 'economic', 'reform', 'and', 'legislative', 'change', 'for', 'the', 'equity', 'market', 'The', 'NSE', 'introduced', 'online', 'trading', 'in', '1994', 'which', 'changed', 'the', 'dynamics', 'of', 'stock', 'buying', 'and', 'selling', 'The', 'capital', 'market', 'now', 'opened', 'up', 'nationally', 'as', 'opposed', 'to', 'being', 'confined', 'in', 'Mumbai', 'The', 'exchange', 'system', 'started', 'functioning', 'based', 'on', 'satellite', 'communications', 'that', 'abolished', 'geographical', 'barriers', 'In', '2001', 'Ketan', 'Parekh', 'purchased', 'large', 'stakes', 'in', 'less', 'known', 'small', 'market', 'capitalization', 'companies', 'and', 'jacked', 'up', 'their', 'prices', 'through', 'circular', 'trading', 'with', 'other', 'traders', 'and', 'collusion', 'with', 'these', 'companies', 'and', 'large', 'institutional', 'investors', 'This', 'resulted', 'in', 'steep', 'hikes', 'in', 'share', 'prices', 'It', 'later', 'transpired', 'that', 'promoters', 'and', 'industrialists', 'often', 'gave', 'Parekh', 'funds', 'to', 'artificially', 'rig', 'up', 'their', 'share', 'prices', 'This', 'set', 'of', 'ten', 'stocks', 'was', 'colloquially', 'referred', 'to', 'as', '“K10”', 'stocks', 'and', 'Parekh', 'was', 'playfully', 'referred', 'to', 'as', '“Pentafour”', 'The', 'RBI', 'commenced', 'an', 'investigation', 'against', 'Parekh', 'Around', 'the', 'same', 'time', 'a', 'bear', 'cartel', 'of', 'brokers', 'in', 'Mumbai', 'opposed', 'to', 'Parekh', 'tried', 'to', 'dump', 'their', 'shares', 'of', 'K10', 'stocks', 'Panicking', 'Parekh', 'sold', 'off', 'his', 'entire', 'ownership', 'of', 'the', 'socalled', 'K10', 'stocks', 'that', 'he', 'had', 'successfully', 'jacked', 'up', 'over', 'the', 'past', 'two', 'years', 'This', 'resulted', 'in', 'a', 'stock', 'market', 'crash', 'the', 'next', 'day', 'resulting', 'in', 'largescale', 'losses', 'for', 'large', 'institutional', 'investors', 'including', 'insurance', 'companies', 'and', 'mutual', 'funds', 'A', '30', 'member', 'Joint', 'Parliamentary', 'Committee', 'JPC', 'investigation', 'ensued', 'which', 'found', 'that', 'Parekh', 'had', 'been', 'involved', 'in', 'circular', 'trading', 'throughout', 'the', 'time', 'period', 'from', 'and', 'with', 'a', 'variety', 'of', 'companies', 'When', 'the', 'Securities', 'Exchange', 'Board', 'of', 'India', 'SEBI', 'started', 'scanning', 'an', 'entire', 'spectrum', 'of', 'IPOs', 'launched', 'over', '2003', '2004', 'and', '2005', 'it', 'ended', 'digging', 'up', 'more', 'dirt', 'and', 'probably', 'prevented', 'a', 'larger', 'conspiracy', 'to', 'hijack', 'the', 'market', 'It', 'involved', 'the', 'manipulation', 'of', 'the', 'primary', 'market—read', 'initial', 'public', 'offers', 'IPOs—by', 'financiers', 'and', 'market', 'players', 'by', 'using', 'fictitious', 'or', 'benaami', 'Demat', 'accounts', 'They', 'then', 'transferred', 'the', 'shares', 'to', 'financiers', 'who', 'sold', 'on', 'the', 'first', 'day', 'of', 'listing', 'making', 'windfall', 'gains', 'from', 'the', 'price', 'difference', 'between', 'the', 'IPO', 'price', 'and', 'the', 'listing', 'price', 'This', 'time', 'fraudsters', 'targeted', 'the', 'primary', 'market', 'to', 'make', 'a', 'quick', 'buck', 'at', 'the', 'expense', 'of', 'the', 'gullible', 'small', 'investors', 'Direct', 'Participants', 'DPs', 'used', 'retail', 'applicants’', 'shares', 'for', 'reaping', 'benefits', 'in', 'the', 'stock', 'market', 'The', '2010', 'fake', 'housing', 'loan', 'in', 'India', 'was', 'uncovered', 'by', 'the', 'Central', 'Bureau', 'of', 'Investigation', 'CBI', 'in', 'India', 'CBI', 'arrested', 'eight', 'topranking', 'officials', 'of', 'public', 'sector', 'banks', 'and', 'financial', 'institutions', 'including', 'the', 'LIC', 'Housing', 'Finance', 'CEO', 'Ramchandran', 'Nair', 'in', 'connection', 'with', 'the', 'scam', 'CBI', 'alleged', 'that', 'the', 'officers', 'of', 'various', 'public', 'sector', 'banks', 'and', 'financial', 'institutions', 'received', 'bribes', 'from', 'a', 'private', 'financial', 'services', 'company', 'which', 'acted', 'as', 'a', 'mediator', 'for', 'corporate', 'loans', 'and', 'other', 'facilities', 'from', 'financial', 'institutions', 'The', 'bank', 'officials', 'sanctioned', 'largescale', 'corporate', 'loans', 'to', 'realty', 'developers', 'overriding', 'mandatory', 'conditions', 'for', 'such', 'approvals', 'along', 'with', 'other', 'irregularities', 'The', 'Thane', 'police', 'struggling', 'to', 'crack', 'down', 'on', 'the', 'tax', 'refund', 'scam', 'that', 'has', 'taken', 'the', 'income', 'tax', 'department', 'for', 'a', 'ride', 'and', 'defrauded', 'the', 'central', 'exchequer', 'of', 'around', 'Rs', '3', 'crore', 'has', 'concluded', 'that', 'the', 'scam', 'involved', 'highranking', 'officials', 'from', 'the', 'IT', 'department', 'and', 'the', 'State', 'Bank', 'of', 'India', 'The', 'fraudinvolving', 'two', 'IT', 'offices', 'in', 'Thane', 'and', 'Kalyan', 'was', 'planned', 'by', 'those', 'familiar', 'with', 'the', 'IT', 'office', 'functioning', 'For', 'over', 'two', 'years', '20072008', 'and', '20082009', 'the', 'IT', 'officials', 'disbursed', 'tax', 'refund', 'cheques', 'drawn', 'from', 'the', 'SBI', 'and', 'credited', 'into', 'the', 'account', 'of', 'fictitious', 'assessees', 'in', 'a', 'credit', 'society', 'in', 'Dombivli', 'As', 'many', 'as', '331', 'such', 'tax', 'refund', 'cheques', 'some', 'exceeding', 'Rs', '1', 'lakh', 'were', 'subsequently', 'routed', 'to', 'the', 'Dombivli', 'Nagri', 'Cooperative', 'Bank', 'and', 'funds', 'withdrawn', 'The', 'IT', 'refunds', 'are', 'account', 'payee', 'cheques', 'which', 'can’t', 'be', 'transferred', 'Despite', 'this', 'all', '331', 'refund', 'orders', 'were', 'credited', 'to', 'the', 'thirdparty', 'account', 'of', 'a', 'credit', 'society', 'The', 'Saradha', 'Group', 'financial', 'scandal', 'was', 'a', 'major', 'financial', 'scam', 'and', 'alleged', 'political', 'scandal', 'caused', 'by', 'the', 'collapse', 'of', 'a', 'Ponzi', 'scheme', 'run', 'by', 'Saradha', 'Group', 'a', 'consortium', 'of', 'over', '200', 'private', 'companies', 'that', 'were', 'believed', 'to', 'be', 'running', 'collective', 'investment', 'schemes', 'popularly', 'but', 'incorrectly', 'referred', 'to', 'as', 'chit', 'funds', 'in', 'Eastern', 'India', 'It', 'was', 'feared', 'that', 'legitimate', 'nonbanking', 'financial', 'companies', 'and', 'microfinance', 'institutions', 'would', 'be', 'stigmatized', 'leading', 'to', 'a', 'vicious', 'cycle', 'of', 'low', 'depositor', 'trust', 'higher', 'interest', 'rates', 'lower', 'lending', 'and', 'a', 'localized', 'credit', 'crisis', 'Because', 'most', 'of', 'the', 'Saradha', 'Group', 'depositors', 'came', 'from', 'the', 'lowest', 'economic', 'strata', 'the', 'loss', 'of', 'the', 'investment', 'would', 'cause', 'a', 'further', 'decrease', 'in', 'social', 'mobility', 'The', 'scandal', 'drew', 'attention', 'to', 'similar', 'illegal', 'deposit', 'mobilizing', 'companies', 'which', 'are', 'facing', 'increased', 'regulatory', 'pressure', 'Many', 'of', 'these', 'companies', 'have', 'been', 'variations', 'of', 'timeshare', 'travel', 'schemes', 'of', 'which', 'there', 'are', 'few', 'clear', 'regulations', 'In', 'August', '2013', 'the', 'Central', 'Government', 'amended', 'the', 'SEBI', 'Act', 'and', 'gave', 'SEBI', 'powers', 'to', 'search', 'and', 'seize', 'without', 'prior', 'magisterial', 'permission', 'to', 'investigate', 'illegal', 'money', 'collection', 'schemes', 'NSEL', 'case', 'relates', 'to', 'a', 'payment', 'default', 'at', 'the', 'National', 'Spot', 'Exchange', 'Limited', 'that', 'occurred', 'in', '2013', 'involving', 'Financial', 'Technologies', 'India', 'Ltd', 'when', 'a', 'payment', 'default', 'took', 'place', 'after', 'a', 'commodities', 'market', 'regulator', 'the', 'Forward', 'Markets', 'Commission', 'FMC', 'directed', 'NSEL', 'to', 'stop', 'launching', 'contracts', 'This', 'led', 'to', 'the', 'closure', 'of', 'the', 'Exchange', 'in', 'July', '2013', 'Three', 'spot', 'exchanges', 'NSEL', 'NSPOT', 'and', 'National', 'APMC', 'were', 'exempted', 'by', 'the', 'government', 'under', 'Section', '27', 'of', 'FCRA', 'to', 'conduct', 'forward', 'trading', 'in', 'oneday', 'contracts', 'This', 'was', 'done', 'to', 'boost', 'volumes', 'so', 'that', 'their', 'economic', 'viability', 'improved', 'On', 'the', 'flawed', 'recommendations', 'of', 'the', 'FMC', 'the', 'Ministry', 'of', 'Consumer', 'Affairs', 'ordered', 'NSEL', 'to', 'settle', 'all', 'existing', 'contracts', 'and', 'not', 'launch', 'any', 'fresh', 'contracts', 'which', 'led', 'to', 'the', 'crisis', 'Investigations', 'led', 'by', 'Enforcement', 'Directorate', 'ED', 'and', 'Economic', 'Offences', 'Wing', 'EOW', 'revealed', 'the', 'role', 'of', 'brokers', 'and', 'defaulters', 'in', 'the', 'NSEL', 'case', 'The', 'brokers', 'missold', 'NSEL', 'products', 'to', 'their', 'clients', 'by', 'assuring', 'them', 'of', 'fixed', 'returns', 'The', 'defaulters', 'hypothecated', 'stocks', 'and', 'produced', 'fake', 'warehouse', 'receipts', 'and', 'siphoned', 'the', 'entire', 'default', 'money', 'FIU', 'under', 'Finance', 'Ministry', 'held', 'that', 'NSEL', 'came', 'under', 'the', 'purview', 'of', 'the', 'Forwarding', 'Contracts', 'Regulation', 'Act', 'FCRA', 'and', 'therefore', 'guilty', 'of', 'failing', 'in', 'several', 'of', 'these', 'obligations', 'under', 'the', 'law', 'The', 'black', 'money', 'watchdog', 'has', 'slapped', 'a', 'penalty', 'of', 'Rs', '166', 'crore', 'for', 'several', 'counts', 'of', 'violating', 'the', 'provisions', 'of', 'the', 'Prevention', 'of', 'Money', 'Laundering', 'Act', 'PMLA', 'on', 'NSEL', 'The', 'watchdog', 'further', 'held', 'that', 'failures', 'are', 'deliberate', 'and', 'willful', 'and', 'hence', 'invite', 'penalties', 'The', 'NSE', 'colocation', 'scam', 'relates', 'to', 'the', 'market', 'manipulation', 'at', 'the', 'National', 'Stock', 'Exchange', 'of', 'India', 'India’s', 'leading', 'stock', 'exchange', 'Allegedly', 'select', 'players', 'obtained', 'market', 'price', 'information', 'ahead', 'of', 'the', 'rest', 'of', 'the', 'market', 'enabling', 'them', 'to', 'frontrun', 'the', 'rest', 'of', 'the', 'market', 'possibly', 'breaching', 'the', 'NSE’s', 'purpose', 'of', 'demutualization', 'exchange', 'governance', 'and', 'its', 'robust', 'transparencybased', 'mechanism', 'he', 'alleged', 'connivance', 'of', 'insiders', 'by', 'rigging', 'NSE’s', 'algotrading', 'and', 'use', 'of', 'colocation', 'servers', 'ensured', 'substantial', 'profits', 'to', 'a', 'set', 'of', 'brokers', 'The', 'whistleblower', 'alleged', 'that', 'trading', 'members', 'were', 'able', 'to', 'capitalize', 'on', 'advanced', 'knowledge', 'by', 'colluding', 'with', 'some', 'exchange', 'officials', 'In', 'a', 'written', 'reply', 'Minister', 'of', 'State', 'for', 'Finance', 'Arjun', 'Meghwal', 'told', 'the', 'Lok', 'Sabha', 'in', '2016', '“The', 'architecture', 'of', 'NSE', 'with', 'respect', 'to', 'dissemination', 'of', 'tickbytick', 'through', 'transmission', 'control', 'protocol', 'TCP', 'or', 'internet', 'protocol', 'IP', 'was', 'prone', 'to', 'manipulation', 'or', 'market', 'abuse', 'The', 'Punjab', 'National', 'Bank', 'Fraud', 'Case', 'relates', 'to', 'the', 'fraudulent', 'letters', 'of', 'undertaking', 'worth', '₹1135684', 'crores', 'US', '14', 'billion', 'issued', 'by', 'the', 'Punjab', 'National', 'Bank', 'at', 'its', 'Brady', 'House', 'branch', 'in', 'Fort', 'Mumbai', 'making', 'Punjab', 'National', 'Bank', 'liable', 'for', 'the', 'amount', 'The', 'fraud', 'was', 'allegedly', 'organized', 'by', 'jeweler', 'and', 'designer', 'Nirav', 'Modi', 'Nirav', 'his', 'wife', 'Ami', 'Modi', 'brother', 'Nishal', 'Modi', 'and', 'uncle', 'Mehul', 'Choksi', 'all', 'partners', 'of', 'the', 'firms', 'Ms', 'Diamond', 'R', 'US', 'Ms', 'Solar', 'Exports', 'and', 'Ms', 'Stellar', 'Diamonds', 'along', 'with', 'PNB', 'officials', 'and', 'employees', 'and', 'directors', 'of', 'Nirav', 'Modi', 'and', 'Mehul', 'Choksi’s', 'firms', 'have', 'all', 'been', 'named', 'in', 'a', 'charge', 'sheet', 'by', 'the', 'CBI', 'The', 'bank', 'initially', 'said', 'that', 'two', 'of', 'its', 'employees', 'at', 'the', 'branch', 'were', 'involved', 'in', 'the', 'scam', 'as', 'the', 'bank’s', 'core', 'banking', 'system', 'was', 'bypassed', 'when', 'the', 'corrupt', 'employees', 'issued', 'LOUs', 'to', 'overseas', 'branches', 'of', 'other', 'Indian', 'banks', 'including', 'Allahabad', 'Bank', 'Axis', 'Bank', 'and', 'Union', 'Bank', 'of', 'India', 'using', 'the', 'international', 'financial', 'communication', 'system', 'SWIFT', 'On', '1', 'March', '2018', 'the', 'government', 'approved', 'the', 'Fugitive', 'Economic', 'Offenders', 'Bill', 'to', 'deter', 'economic', 'offenders', 'from', 'evading', 'the', 'process', 'of', 'Indian', 'law', 'by', 'giving', 'powers', 'to', 'the', 'government', 'to', 'confiscate', 'assets', 'of', 'a', 'fugitive', 'including', 'Benami', 'assets', 'of', 'absconding', 'loan', 'defaulters', 'The', 'bill', 'covers', 'a', 'wide', 'range', 'of', 'economic', 'offenders', 'which', 'include', 'loan', 'defaulters', 'fraudsters', 'individuals', 'who', 'violate', 'laws', 'governing', 'taxes', 'black', 'money', 'Benami', 'properties', 'the', 'financial', 'sector', 'and', 'corruption', 'In', 'March', '2018', 'the', 'Reserve', 'Bank', 'of', 'India', 'scrapped', 'banking', 'instruments', 'such', 'as', 'the', 'Letter', 'of', 'understanding', 'Lou', 'and', 'Letter', 'of', 'Comfort', 'LoC', 'that', 'in', 'an', 'attempt', 'to', 'plug', 'a', 'loophole', 'and', 'improve', 'banks’', 'due', 'diligence', 'in', 'trade', 'credit', 'Some', 'bankers', 'said', 'that', 'LoUs', 'and', 'LoCs', 'led', 'to', 'receiving', 'banks', 'depending', 'completely', 'on', 'the', 'issuing', 'bank', 'on', 'creditworthiness', 'As', 'seen', 'in', 'all', 'the', 'above', 'cases', 'for', 'scams', 'like', 'Nirav', 'Modi', 'the', 'two', 'factors', 'action', 'taken', 'by', 'the', 'insiders', 'or', 'systemic', 'loopholes', 'were', 'responsible', 'for', 'the', 'majority', 'of', 'the', 'Indian', 'financial', 'scams', 'The', 'improvement', 'in', 'the', 'industry', 'will', 'only', 'come', 'when', 'all', 'the', 'loopholes', 'are', 'closed', 'down', 'and', 'accountability', 'is', 'given', 'and', 'held', 'to', 'all', 'the', 'people', 'working', 'in', 'the', 'industry', 'Blackcoffer', 'Insights', '16', 'Sandeep', 'Chakravartty', 'Publicis', 'Sapient']\n"
     ]
    }
   ],
   "source": [
    "content=soup.findAll(attrs={'class':'td-post-content'})\n",
    "content=content[0].text.replace('\\n',\" \")\n",
    "print(content)\n",
    "#Punctuation\n",
    "content = content.translate(str.maketrans('', '', string.punctuation)) \n",
    "print(content)\n",
    "text = content.split()\n",
    "print(text)\n"
   ]
  },
  {
   "cell_type": "code",
   "execution_count": 3,
   "id": "ff272407",
   "metadata": {},
   "outputs": [
    {
     "data": {
      "text/plain": [
       "2141"
      ]
     },
     "execution_count": 3,
     "metadata": {},
     "output_type": "execute_result"
    }
   ],
   "source": [
    "len(text)"
   ]
  },
  {
   "cell_type": "code",
   "execution_count": 4,
   "id": "288b434e",
   "metadata": {},
   "outputs": [
    {
     "name": "stdout",
     "output_type": "stream",
     "text": [
      "45\n"
     ]
    }
   ],
   "source": [
    "#Positive Score \n",
    "with open(r\"C:\\Users\\Om Bhandwalkar\\Desktop\\pos\\positive-words.txt\") as pos:\n",
    "    poswords = pos.read().split(\"\\n\")  \n",
    "    poswords = poswords[5:]\n",
    "pos_count = \" \".join ([w for w in text if w in poswords])\n",
    "pos_count=pos_count.split(\" \")\n",
    "Positive_score=len(pos_count)\n",
    "print(Positive_score)"
   ]
  },
  {
   "cell_type": "code",
   "execution_count": 5,
   "id": "a501a2c6",
   "metadata": {},
   "outputs": [
    {
     "name": "stdout",
     "output_type": "stream",
     "text": [
      "87\n"
     ]
    }
   ],
   "source": [
    "#Negative Score\n",
    "with open(r\"C:\\Users\\Om Bhandwalkar\\Desktop\\pos\\negative-words.txt\",encoding =\"ISO-8859-1\") as neg:\n",
    "    negwords = neg.read().split(\"\\n\")\n",
    "    \n",
    "negwords = negwords[36:]\n",
    "neg_count = \" \".join ([w for w in text if w in negwords])\n",
    "neg_count=neg_count.split(\" \")\n",
    "Negative_score=len(neg_count)\n",
    "print(Negative_score)"
   ]
  },
  {
   "cell_type": "code",
   "execution_count": 6,
   "id": "8950977d",
   "metadata": {},
   "outputs": [
    {
     "data": {
      "text/html": [
       "<div>\n",
       "<style scoped>\n",
       "    .dataframe tbody tr th:only-of-type {\n",
       "        vertical-align: middle;\n",
       "    }\n",
       "\n",
       "    .dataframe tbody tr th {\n",
       "        vertical-align: top;\n",
       "    }\n",
       "\n",
       "    .dataframe thead th {\n",
       "        text-align: right;\n",
       "    }\n",
       "</style>\n",
       "<table border=\"1\" class=\"dataframe\">\n",
       "  <thead>\n",
       "    <tr style=\"text-align: right;\">\n",
       "      <th></th>\n",
       "      <th>url</th>\n",
       "      <th>title</th>\n",
       "      <th>content</th>\n",
       "      <th>filter_content</th>\n",
       "      <th>Positive_Score</th>\n",
       "      <th>Negative_Score</th>\n",
       "      <th>polarity</th>\n",
       "      <th>subjectivity</th>\n",
       "    </tr>\n",
       "  </thead>\n",
       "  <tbody>\n",
       "    <tr>\n",
       "      <th>0</th>\n",
       "      <td>https://insights.blackcoffer.com/why-scams-lik...</td>\n",
       "      <td>Why scams like Nirav Modi Happen with Indian b...</td>\n",
       "      <td>India has been beset by financial scams since...</td>\n",
       "      <td>India has been beset by financial scams since ...</td>\n",
       "      <td>45</td>\n",
       "      <td>87</td>\n",
       "      <td>0.029106</td>\n",
       "      <td>0.330703</td>\n",
       "    </tr>\n",
       "  </tbody>\n",
       "</table>\n",
       "</div>"
      ],
      "text/plain": [
       "                                                 url  \\\n",
       "0  https://insights.blackcoffer.com/why-scams-lik...   \n",
       "\n",
       "                                               title  \\\n",
       "0  Why scams like Nirav Modi Happen with Indian b...   \n",
       "\n",
       "                                             content  \\\n",
       "0   India has been beset by financial scams since...   \n",
       "\n",
       "                                      filter_content  Positive_Score  \\\n",
       "0  India has been beset by financial scams since ...              45   \n",
       "\n",
       "   Negative_Score  polarity  subjectivity  \n",
       "0              87  0.029106      0.330703  "
      ]
     },
     "execution_count": 6,
     "metadata": {},
     "output_type": "execute_result"
    }
   ],
   "source": [
    "filter_content = ' '.join(text)\n",
    "data=[[url,title,content,filter_content,Positive_score,Negative_score]]\n",
    "data=pd.DataFrame(data,columns=[\"url\",\"title\",\"content\",\"filter_content\",\"Positive_Score\",\"Negative_Score\"])\n",
    "from textblob import TextBlob\n",
    "# Get The Subjectivity\n",
    "def sentiment_analysis(data):\n",
    "    sentiment = TextBlob(data[\"content\"]).sentiment\n",
    "    return pd.Series([sentiment.polarity,sentiment.subjectivity ])\n",
    "\n",
    "# Adding Subjectivity & Polarity\n",
    "data[[\"polarity\", \"subjectivity\"]] = data.apply(sentiment_analysis, axis=1)\n",
    "\n",
    "data"
   ]
  },
  {
   "cell_type": "code",
   "execution_count": 7,
   "id": "a1584115",
   "metadata": {},
   "outputs": [
    {
     "name": "stdout",
     "output_type": "stream",
     "text": [
      "Word average = 11182.0\n",
      "FOG INDEX =  860.57\n",
      "Average no of words per sentence\n",
      "2141.0\n",
      "Complex Words 3843\n"
     ]
    }
   ],
   "source": [
    "#AVG SENTENCE LENGTH\n",
    "AVG_SENTENCE_LENGTH = len(content.replace(' ',''))/len(re.split(r'[?!.]', content))\n",
    "print('Word average =', AVG_SENTENCE_LENGTH)\n",
    "import textstat\n",
    "#Fog index \n",
    "FOG_INDEX=(textstat.gunning_fog(content))\n",
    "print(\"FOG INDEX = \",FOG_INDEX)\n",
    "#Average No of Words Per Sentence \n",
    "AVG_NUMBER_OF_WORDS_PER_SENTENCE = [len(l.split()) for l in re.split(r'[?!.]', content) if l.strip()]\n",
    "print(\"Average no of words per sentence\")\n",
    "AVG_NUMBER_OF_WORDS_PER_SENTENCE=print(sum(AVG_NUMBER_OF_WORDS_PER_SENTENCE)/len(AVG_NUMBER_OF_WORDS_PER_SENTENCE))\n",
    "#Complex words\n",
    "def syllable_count(word):\n",
    "    count = 0\n",
    "    vowels = \"AEIOUYaeiouy\"\n",
    "    if word[0] in vowels:\n",
    "        count += 1\n",
    "    for index in range(1, len(word)): \n",
    "        if word[index] in vowels and word[index - 1] not in vowels:\n",
    "            count += 1\n",
    "            if word.endswith(\"es\"or \"ed\"):\n",
    "                count -= 1\n",
    "    if count == 0:\n",
    "        count += 1\n",
    "    return count\n",
    "\n",
    "\n",
    "\n",
    "COMPLEX_WORDS=syllable_count(content)\n",
    "print(\"Complex Words\",COMPLEX_WORDS)\n"
   ]
  },
  {
   "cell_type": "code",
   "execution_count": 8,
   "id": "523636d0",
   "metadata": {},
   "outputs": [
    {
     "name": "stdout",
     "output_type": "stream",
     "text": [
      "Word Count 13326\n",
      "Percentage of Complex Words 28.83836109860423\n",
      "Average Word per Length 5.222793087342364\n",
      "The AVG number of syllables in the word is: \n",
      "1.995796356842597\n",
      "Word Count 13326\n",
      "Percentage of Complex Words 28.83836109860423\n",
      "Average Word per Length 5.222793087342364\n",
      "The AVG number of syllables in the word is: \n",
      "1.995796356842597\n"
     ]
    }
   ],
   "source": [
    "#Word Count\n",
    "Word_Count=len(content)\n",
    "print(\"Word Count\",Word_Count)\n",
    "#Percentage Complex Words\n",
    "pcw=(COMPLEX_WORDS/Word_Count)*100\n",
    "print(\"Percentage of Complex Words\",pcw)\n",
    "#Average Word Length\n",
    "Average_Word_Length=len(content.replace(' ',''))/len(content.split())\n",
    "print(\"Average Word per Length\",Average_Word_Length)\n",
    "#Syllable Count Per Word\n",
    "word=content.replace(' ','')\n",
    "syllable_count=0\n",
    "for w in word:\n",
    "      if(w=='a' or w=='e' or w=='i' or w=='o' or w=='y' or w=='u' or w=='A' or w=='E' or w=='I' or w=='O' or w=='U' or w=='Y'):\n",
    "            syllable_count=syllable_count+1\n",
    "print(\"The AVG number of syllables in the word is: \")\n",
    "print(syllable_count/len(content.split()))#Word Count\n",
    "Word_Count=len(content)\n",
    "print(\"Word Count\",Word_Count)\n",
    "#Percentage Complex Words\n",
    "pcw=(COMPLEX_WORDS/Word_Count)*100\n",
    "print(\"Percentage of Complex Words\",pcw)\n",
    "#Average Word Length\n",
    "Average_Word_Length=len(content.replace(' ',''))/len(content.split())\n",
    "print(\"Average Word per Length\",Average_Word_Length)\n",
    "#Syllable Count Per Word\n",
    "word=content.replace(' ','')\n",
    "syllable_count=0\n",
    "for w in word:\n",
    "      if(w=='a' or w=='e' or w=='i' or w=='o' or w=='y' or w=='u' or w=='A' or w=='E' or w=='I' or w=='O' or w=='U' or w=='Y'):\n",
    "            syllable_count=syllable_count+1\n",
    "print(\"The AVG number of syllables in the word is: \")\n",
    "print(syllable_count/len(content.split()))"
   ]
  },
  {
   "cell_type": "code",
   "execution_count": 1,
   "id": "c8fc809a",
   "metadata": {},
   "outputs": [
    {
     "name": "stdout",
     "output_type": "stream",
     "text": [
      "45\n",
      "87\n",
      "Word average = 11182.0\n",
      "FOG INDEX =  860.57\n",
      "Average no of words per sentence\n",
      "2141.0\n",
      "Complex Words 3843\n",
      "Word Count 13327\n",
      "Percentage of Complex Words 28.83619719366699\n",
      "Average Word per Length 5.222793087342364\n",
      "The AVG number of syllables in the word is: \n",
      "1.995796356842597\n"
     ]
    },
    {
     "data": {
      "text/html": [
       "<div>\n",
       "<style scoped>\n",
       "    .dataframe tbody tr th:only-of-type {\n",
       "        vertical-align: middle;\n",
       "    }\n",
       "\n",
       "    .dataframe tbody tr th {\n",
       "        vertical-align: top;\n",
       "    }\n",
       "\n",
       "    .dataframe thead th {\n",
       "        text-align: right;\n",
       "    }\n",
       "</style>\n",
       "<table border=\"1\" class=\"dataframe\">\n",
       "  <thead>\n",
       "    <tr style=\"text-align: right;\">\n",
       "      <th></th>\n",
       "      <th>url</th>\n",
       "      <th>title</th>\n",
       "      <th>content</th>\n",
       "      <th>filter_content</th>\n",
       "      <th>Positive_Score</th>\n",
       "      <th>Negative_Score</th>\n",
       "      <th>Avg_Sentence_Length</th>\n",
       "      <th>Percentage_Complex_Word</th>\n",
       "      <th>Fog_Index</th>\n",
       "      <th>AVG_NUMBER_OF_WORDS_PER_SENTENCE</th>\n",
       "      <th>COMPLEX_WORDS</th>\n",
       "      <th>Word_Count</th>\n",
       "      <th>syllable</th>\n",
       "      <th>Average_Word_Length</th>\n",
       "      <th>polarity</th>\n",
       "      <th>subjectivity</th>\n",
       "    </tr>\n",
       "  </thead>\n",
       "  <tbody>\n",
       "    <tr>\n",
       "      <th>0</th>\n",
       "      <td>https://insights.blackcoffer.com/why-scams-lik...</td>\n",
       "      <td>Why scams like Nirav Modi Happen with Indian b...</td>\n",
       "      <td>India has been beset by financial scams sinc...</td>\n",
       "      <td>India has been beset by financial scams since ...</td>\n",
       "      <td>45</td>\n",
       "      <td>87</td>\n",
       "      <td>11182.0</td>\n",
       "      <td>28.836197</td>\n",
       "      <td>860.57</td>\n",
       "      <td>2141.0</td>\n",
       "      <td>3843</td>\n",
       "      <td>13327</td>\n",
       "      <td>1.995796</td>\n",
       "      <td>5.222793</td>\n",
       "      <td>0.029106</td>\n",
       "      <td>0.330703</td>\n",
       "    </tr>\n",
       "  </tbody>\n",
       "</table>\n",
       "</div>"
      ],
      "text/plain": [
       "                                                 url  \\\n",
       "0  https://insights.blackcoffer.com/why-scams-lik...   \n",
       "\n",
       "                                               title  \\\n",
       "0  Why scams like Nirav Modi Happen with Indian b...   \n",
       "\n",
       "                                             content  \\\n",
       "0    India has been beset by financial scams sinc...   \n",
       "\n",
       "                                      filter_content  Positive_Score  \\\n",
       "0  India has been beset by financial scams since ...              45   \n",
       "\n",
       "   Negative_Score  Avg_Sentence_Length  Percentage_Complex_Word  Fog_Index  \\\n",
       "0              87              11182.0                28.836197     860.57   \n",
       "\n",
       "    AVG_NUMBER_OF_WORDS_PER_SENTENCE  COMPLEX_WORDS  Word_Count  syllable  \\\n",
       "0                             2141.0           3843       13327  1.995796   \n",
       "\n",
       "   Average_Word_Length  polarity  subjectivity  \n",
       "0             5.222793  0.029106      0.330703  "
      ]
     },
     "execution_count": 1,
     "metadata": {},
     "output_type": "execute_result"
    }
   ],
   "source": [
    "import requests\n",
    "import pandas as pd \n",
    "from bs4 import BeautifulSoup\n",
    "import string\n",
    "import spacy\n",
    "import re\n",
    "url = \"\"\"https://insights.blackcoffer.com/why-scams-like-nirav-modi-happen-with-indian-banks/\"\"\"\n",
    "headers = {\"User-Agent\": \"Mozilla/5.0 (X11; Linux x86_64; rv:60.0) Gecko/20100101 Firefox/60.0\"}\n",
    "page = requests.get(url, headers=headers)\n",
    "soup = BeautifulSoup(page.content, 'html.parser')\n",
    "soup=BeautifulSoup(page.content, 'html.parser')\n",
    "title=soup.find('h1',class_=\"entry-title\")\n",
    "title=title.text.replace('\\n',\" \")\n",
    "# title\n",
    "\n",
    "content=soup.findAll(attrs={'class':'td-post-content'})\n",
    "content=content[0].text.replace('\\n',\" \")\n",
    "# print(content)\n",
    "#Punctuation\n",
    "content = content.translate(str.maketrans('', '', string.punctuation)) \n",
    "# print(content)\n",
    "text = content.split()\n",
    "# print(text)\n",
    "len(text)\n",
    "#Positive Score \n",
    "with open(r\"C:\\Users\\Om Bhandwalkar\\Desktop\\pos\\positive-words.txt\") as pos:\n",
    "    poswords = pos.read().split(\"\\n\")  \n",
    "    poswords = poswords[5:]\n",
    "pos_count = \" \".join ([w for w in text if w in poswords])\n",
    "pos_count=pos_count.split(\" \")\n",
    "Positive_score=len(pos_count)\n",
    "print(Positive_score)\n",
    "\n",
    "#Negative Score\n",
    "with open(r\"C:\\Users\\Om Bhandwalkar\\Desktop\\pos\\negative-words.txt\",encoding =\"ISO-8859-1\") as neg:\n",
    "    negwords = neg.read().split(\"\\n\")\n",
    "    \n",
    "negwords = negwords[36:]\n",
    "neg_count = \" \".join ([w for w in text if w in negwords])\n",
    "neg_count=neg_count.split(\" \")\n",
    "Negative_score=len(neg_count)\n",
    "print(Negative_score)\n",
    "\n",
    "\n",
    "filter_content = ' '.join(text)\n",
    "data=[[url,title,content,filter_content,Positive_score,Negative_score]]\n",
    "data=pd.DataFrame(data,columns=[\"url\",\"title\",\"content\",\"filter_content\",\"Positive_Score\",\"Negative_Score\"])\n",
    "from textblob import TextBlob\n",
    "# Get The Subjectivity\n",
    "def sentiment_analysis(data):\n",
    "    sentiment = TextBlob(data[\"content\"]).sentiment\n",
    "    return pd.Series([sentiment.polarity,sentiment.subjectivity ])\n",
    "data[[\"polarity\", \"subjectivity\"]] = data.apply(sentiment_analysis, axis=1)\n",
    "data\n",
    "#AVG SENTENCE LENGTH\n",
    "AVG_SENTENCE_LENGTH = len(content.replace(' ',''))/len(re.split(r'[?!.]', content))\n",
    "print('Word average =', AVG_SENTENCE_LENGTH)\n",
    "import textstat\n",
    "#Fog index \n",
    "FOG_INDEX=(textstat.gunning_fog(content))\n",
    "print(\"FOG INDEX = \",FOG_INDEX)\n",
    "#Average No of Words Per Sentence \n",
    "AVG_NUMBER_OF_WORDS_PER_SENTENCE = [len(l.split()) for l in re.split(r'[?!.]', content) if l.strip()]\n",
    "print(\"Average no of words per sentence\")\n",
    "AVG_NUMBER_OF_WORDS_PER_SENTENCE=(sum(AVG_NUMBER_OF_WORDS_PER_SENTENCE)/len(AVG_NUMBER_OF_WORDS_PER_SENTENCE))\n",
    "print(AVG_NUMBER_OF_WORDS_PER_SENTENCE)\n",
    "#Complex words\n",
    "def syllable_count(word):\n",
    "    count = 0\n",
    "    vowels = \"AEIOUYaeiouy\"\n",
    "    if word[0] in vowels:\n",
    "        count += 1\n",
    "    for index in range(1, len(word)): \n",
    "        if word[index] in vowels and word[index - 1] not in vowels:\n",
    "            count += 1\n",
    "            if word.endswith(\"es\"or \"ed\"):\n",
    "                count -= 1\n",
    "    if count == 0:\n",
    "        count += 1\n",
    "    return count\n",
    "\n",
    "\n",
    "\n",
    "COMPLEX_WORDS=syllable_count(content)\n",
    "print(\"Complex Words\",COMPLEX_WORDS)\n",
    "#Word Count\n",
    "Word_Count=len(content)\n",
    "print(\"Word Count\",Word_Count)\n",
    "#Percentage Complex Words\n",
    "pcw=(COMPLEX_WORDS/Word_Count)*100\n",
    "print(\"Percentage of Complex Words\",pcw)\n",
    "#Average Word Length\n",
    "Average_Word_Length=len(content.replace(' ',''))/len(content.split())\n",
    "print(\"Average Word per Length\",Average_Word_Length)\n",
    "#Syllable Count Per Word\n",
    "word=content.replace(' ','')\n",
    "syllable_count=0\n",
    "for w in word:\n",
    "      if(w=='a' or w=='e' or w=='i' or w=='o' or w=='y' or w=='u' or w=='A' or w=='E' or w=='I' or w=='O' or w=='U' or w=='Y'):\n",
    "            syllable_count=syllable_count+1\n",
    "print(\"The AVG number of syllables in the word is: \")\n",
    "syllable = (syllable_count/len(content.split()))\n",
    "print(syllable)\n",
    "\n",
    "data = [[url,title,content,filter_content,Positive_score,Negative_score,AVG_SENTENCE_LENGTH,pcw,FOG_INDEX,\n",
    "         AVG_NUMBER_OF_WORDS_PER_SENTENCE,COMPLEX_WORDS,Word_Count,syllable,Average_Word_Length]]\n",
    "data=pd.DataFrame(data,columns=[\"url\",\"title\",\"content\",\"filter_content\",\"Positive_Score\",\"Negative_Score\",\"Avg_Sentence_Length\"\n",
    "                               ,\"Percentage_Complex_Word\",\"Fog_Index\",\" AVG_NUMBER_OF_WORDS_PER_SENTENCE\",\"COMPLEX_WORDS\",\n",
    "                               \"Word_Count\",\"syllable\",\"Average_Word_Length\"])\n",
    "from textblob import TextBlob\n",
    "# Get The Subjectivity\n",
    "def sentiment_analysis(data):\n",
    "    sentiment = TextBlob(data[\"content\"]).sentiment\n",
    "    return pd.Series([sentiment.polarity,sentiment.subjectivity ])\n",
    "data[[\"polarity\", \"subjectivity\"]] = data.apply(sentiment_analysis, axis=1)\n",
    "data"
   ]
  },
  {
   "cell_type": "code",
   "execution_count": 2,
   "id": "94806bd5",
   "metadata": {},
   "outputs": [],
   "source": [
    "data.to_csv(r'C:\\Users\\Om Bhandwalkar\\Desktop\\BlackCoffer Assignment\\Output\\url_120.csv')"
   ]
  },
  {
   "cell_type": "code",
   "execution_count": null,
   "id": "2dd8279b",
   "metadata": {},
   "outputs": [],
   "source": []
  }
 ],
 "metadata": {
  "kernelspec": {
   "display_name": "Python 3 (ipykernel)",
   "language": "python",
   "name": "python3"
  },
  "language_info": {
   "codemirror_mode": {
    "name": "ipython",
    "version": 3
   },
   "file_extension": ".py",
   "mimetype": "text/x-python",
   "name": "python",
   "nbconvert_exporter": "python",
   "pygments_lexer": "ipython3",
   "version": "3.9.12"
  }
 },
 "nbformat": 4,
 "nbformat_minor": 5
}
