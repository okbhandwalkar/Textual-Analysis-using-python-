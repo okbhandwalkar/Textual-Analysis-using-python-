{
 "cells": [
  {
   "cell_type": "code",
   "execution_count": 1,
   "id": "7324aa4b",
   "metadata": {},
   "outputs": [
    {
     "data": {
      "text/plain": [
       "'IMPACT OF COVID-19 ON THE GLOBAL ECONOMY'"
      ]
     },
     "execution_count": 1,
     "metadata": {},
     "output_type": "execute_result"
    }
   ],
   "source": [
    "import requests\n",
    "import pandas as pd \n",
    "from bs4 import BeautifulSoup\n",
    "import string\n",
    "import spacy\n",
    "import re\n",
    "url = \"\"\"https://insights.blackcoffer.com/impact-of-covid-19-on-the-global-economy/\"\"\"\n",
    "headers = {\"User-Agent\": \"Mozilla/5.0 (X11; Linux x86_64; rv:60.0) Gecko/20100101 Firefox/60.0\"}\n",
    "page = requests.get(url, headers=headers)\n",
    "soup = BeautifulSoup(page.content, 'html.parser')\n",
    "soup=BeautifulSoup(page.content, 'html.parser')\n",
    "title=soup.find('h1',class_=\"entry-title\")\n",
    "title=title.text.replace('\\n',\" \")\n",
    "title\n"
   ]
  },
  {
   "cell_type": "code",
   "execution_count": 2,
   "id": "b9881667",
   "metadata": {},
   "outputs": [
    {
     "name": "stdout",
     "output_type": "stream",
     "text": [
      " It was 14th March and I was altogether prepared for my last theater competition of this very year.  I only knew in my core how much this competition meant for me. In the morning I made some last-minute calls to my diligent team who were ceaselessly practicing for the past few days to confirm to me that they were all coming for the competition because of the alarming Coronavirus ball game going outside the market. It was not like I wasn’t aware of the situation but I believed that I would be able to handle it because there’s a quote in theatre that says, “Fear is only as deep as the mind allows” and to some length I was fearless. My passion, fondness, and attachment for the theatre were above all the notices and announcements that we’re rolling out.  But then at once, I received a call from Mr. Sandeep, the head of the event who told me that the event is put off till the next few days and from that precise moment onwards the journey of hard and strenuous days began and it in point of fact felt like it was all meant to happen. The competition was postponed, the team was stuck in their homes grudgingly, time was haunting us all because of this Coronavirus. These were some of the cardinal ways in which this virus affected us but there was more to this sickness. This very sickness acted like a sadist. I was impressed as I found someone who could act better than me. It has reversed the ways we used to work, play and exercise and the world solution that was asked to practice by the professionals were Social Distancing.   This virus was wild and dangerous towards the people who are in declining health conditions but obviously it could not take off his hands from the young people as well. The Coronavirus cases and deaths were heightening to a great extent. Also the major problem that came in the light was people being fully unprepared and this led to the public becoming snappier, intolerant and non-supportive needless to say as this virus was acting like a sadist. But by all means, our government knows how to best handle the affairs, they decided to shut down schools, colleges, bars anything that would involve the gathering of more than 10 people. With disinformation coming from all around related to this infection it becomes hard to judge for the audience what is true and what is false and it worsens when the public consumes this information by working from home. This virus was not only hollowing people from deep inside but was also supporting and increasing some other country-related issues one of which is Fake news which is a serious problem. With fake news traveling around the world, people come and start to blabber. People start offering numerous solutions and want that most of the people should follow it. They start acting like saints who know all the solutions to this pandemic. Some of the solutions are convenient to follow but some are not and are unhealthy which creates immense confusion and arguments. But the best way to stop the confusion and to avoid these people is to avoid their arguments and to not convince them with your points because it is rightly said a man convinced against his will is of the same opinions still. The thing to do is to look after your family and to avoid shady and deceitful people. But one thing that can’t be avoided is our expanding and maturing industries that lend a hand in developing our nation but no power to choose is left with our industries but to be at a standstill in this current moment as Coronavirus right now is winning the game. The untold number of industries is growing down and a major one is our Tourism industries and if this continues to happen then in no time there will be a loss to jobs close to more than 75 million. Many working people like in the tourism industry and not only in this peculiar industry but also in various others, people are getting suspended because of a hefty amount of lost revenue. One of my own family members resorted to this issue by working for free for the next few months in order to at least protect her job. Who should be blamed for these kinds of situations is also a point of concern for many people. “Massive hunger will definitely kill the poor before this virus”, this statement takes my immediate attention. What options are left with the daily-wage earners? I would say no option. They are the ones who are in the most condemning situations. Lockdown for us can be a way to relax or listen to karaoke, but lockdown for them means an end to their life. Unquestionably, this decision by our Prime Minister is the best he could take but when the best turns out to be the worst for someone then I think it’s a moment to question. Going to the internet and writing what’s the best way to spend this Quarantine, should definitely be what’s the best way in which we can help people, but naturally, this would not interest many people. Furthermore, this set off to become more hell when people start with the activity of stockpiling. Unnecessary piling of food is altogether a reason for shortage and ultimately hunger.  My maid Mala who is a housewife and has a small suffering family, I believe could have written this article in a better manner if she would have the relevant education because she is the actual prey to this problem. She being the patient will exactly know the impact this virus can have on our lives because sitting in our homes with a cup coffee can never let us know what an empty cup feels like. Mala said to me think how much we would be tolerating that our Prime Minister apologized to the public for this Lockdown which was certainly a good thing for the masses. What all I could do to help her was to provide her family with some money and eatables. A small contribution with some motivation and a call once in 2 days I believe will not improve her state completely but would certainly provide her with the power to deal with it.  Not only Mala and her family, but there are also millions of people who are in the exact same condition. There are countless Mala in our country who are panicking, enduring and suffering each night with no food in their stomachs. Imagine an exact same situation for yourselves, it would without fail be the hardest situation. This is the impact a virus can create. For sure this article can be of endless pages owing to the fact that there are more stories to  to this and each story is painful that the other. Labor Chowk in Noida has numerous stories of people conveying their problems and asking for help. This Chowk is in the main know for men looking for work. Quite a few men gather there each morning to get some work in order to feed their families with at least a roti but this virus even snatched that from their plates. A very known movie in our Indian cinemas is “Coolie” that says these laborers should get their pay till their sweat dries up. These people anyhow need money each day to feed their families but after these uncontrollable situations they at times are forced to eat filth and muck and this sickness might not kill these people but hunger and stained water definitely will. These stories will never end because it’s all meant to happen but I hope this situation does in order to provide some relief to them.  Also how one would imagine that the movie “Six feet’s apart” would be acted in reality. The solutions related to this pandemic came swiftly and rapidly with the help and support of your doctors and nurses who all were serving us and the sufferers round-the-clock. Solutions like washing your hands for at least 20 seconds correctly, covering your mouth with a face mask and majorly avoiding unnecessary wandering on the streets and keeping yourself away from unhygienic people were asked to follow. The efforts of our doctors, nurses, government officials made me realize that my passion should not be above these notices and announcements but should move hand in hand with it.   Right at this moment we all are moving with these circumstances and nobody knows what might happen in the future but one thing is of sure that nobody can ever forget this situation and indeed me as it had the ability to knock down my event that day. Many lessons were learned by all the world in these days some being that never ever take anything for granted because if that thing or that person leaves then life tends to become like a rock. Appreciate, admire and cherish whatever you have because you never know when it might leave you, ask from them who have just lost someone from this Corona Virus. Moments to live happily in this world are very few spend it with someone who makes you feel loved. Each day sun rises with a new hope to make a habit to feel the warmth and wish for a healthy life for yourself, your family and this world. Together we all are fighting this virus with unity. Blackcoffer Insights 16:-Tanishka Gupta, Institute of innovation in technology and management.   \n",
      " It was 14th March and I was altogether prepared for my last theater competition of this very year  I only knew in my core how much this competition meant for me In the morning I made some lastminute calls to my diligent team who were ceaselessly practicing for the past few days to confirm to me that they were all coming for the competition because of the alarming Coronavirus ball game going outside the market It was not like I wasn’t aware of the situation but I believed that I would be able to handle it because there’s a quote in theatre that says “Fear is only as deep as the mind allows” and to some length I was fearless My passion fondness and attachment for the theatre were above all the notices and announcements that we’re rolling out  But then at once I received a call from Mr Sandeep the head of the event who told me that the event is put off till the next few days and from that precise moment onwards the journey of hard and strenuous days began and it in point of fact felt like it was all meant to happen The competition was postponed the team was stuck in their homes grudgingly time was haunting us all because of this Coronavirus These were some of the cardinal ways in which this virus affected us but there was more to this sickness This very sickness acted like a sadist I was impressed as I found someone who could act better than me It has reversed the ways we used to work play and exercise and the world solution that was asked to practice by the professionals were Social Distancing   This virus was wild and dangerous towards the people who are in declining health conditions but obviously it could not take off his hands from the young people as well The Coronavirus cases and deaths were heightening to a great extent Also the major problem that came in the light was people being fully unprepared and this led to the public becoming snappier intolerant and nonsupportive needless to say as this virus was acting like a sadist But by all means our government knows how to best handle the affairs they decided to shut down schools colleges bars anything that would involve the gathering of more than 10 people With disinformation coming from all around related to this infection it becomes hard to judge for the audience what is true and what is false and it worsens when the public consumes this information by working from home This virus was not only hollowing people from deep inside but was also supporting and increasing some other countryrelated issues one of which is Fake news which is a serious problem With fake news traveling around the world people come and start to blabber People start offering numerous solutions and want that most of the people should follow it They start acting like saints who know all the solutions to this pandemic Some of the solutions are convenient to follow but some are not and are unhealthy which creates immense confusion and arguments But the best way to stop the confusion and to avoid these people is to avoid their arguments and to not convince them with your points because it is rightly said a man convinced against his will is of the same opinions still The thing to do is to look after your family and to avoid shady and deceitful people But one thing that can’t be avoided is our expanding and maturing industries that lend a hand in developing our nation but no power to choose is left with our industries but to be at a standstill in this current moment as Coronavirus right now is winning the game The untold number of industries is growing down and a major one is our Tourism industries and if this continues to happen then in no time there will be a loss to jobs close to more than 75 million Many working people like in the tourism industry and not only in this peculiar industry but also in various others people are getting suspended because of a hefty amount of lost revenue One of my own family members resorted to this issue by working for free for the next few months in order to at least protect her job Who should be blamed for these kinds of situations is also a point of concern for many people “Massive hunger will definitely kill the poor before this virus” this statement takes my immediate attention What options are left with the dailywage earners I would say no option They are the ones who are in the most condemning situations Lockdown for us can be a way to relax or listen to karaoke but lockdown for them means an end to their life Unquestionably this decision by our Prime Minister is the best he could take but when the best turns out to be the worst for someone then I think it’s a moment to question Going to the internet and writing what’s the best way to spend this Quarantine should definitely be what’s the best way in which we can help people but naturally this would not interest many people Furthermore this set off to become more hell when people start with the activity of stockpiling Unnecessary piling of food is altogether a reason for shortage and ultimately hunger  My maid Mala who is a housewife and has a small suffering family I believe could have written this article in a better manner if she would have the relevant education because she is the actual prey to this problem She being the patient will exactly know the impact this virus can have on our lives because sitting in our homes with a cup coffee can never let us know what an empty cup feels like Mala said to me think how much we would be tolerating that our Prime Minister apologized to the public for this Lockdown which was certainly a good thing for the masses What all I could do to help her was to provide her family with some money and eatables A small contribution with some motivation and a call once in 2 days I believe will not improve her state completely but would certainly provide her with the power to deal with it  Not only Mala and her family but there are also millions of people who are in the exact same condition There are countless Mala in our country who are panicking enduring and suffering each night with no food in their stomachs Imagine an exact same situation for yourselves it would without fail be the hardest situation This is the impact a virus can create For sure this article can be of endless pages owing to the fact that there are more stories to  to this and each story is painful that the other Labor Chowk in Noida has numerous stories of people conveying their problems and asking for help This Chowk is in the main know for men looking for work Quite a few men gather there each morning to get some work in order to feed their families with at least a roti but this virus even snatched that from their plates A very known movie in our Indian cinemas is “Coolie” that says these laborers should get their pay till their sweat dries up These people anyhow need money each day to feed their families but after these uncontrollable situations they at times are forced to eat filth and muck and this sickness might not kill these people but hunger and stained water definitely will These stories will never end because it’s all meant to happen but I hope this situation does in order to provide some relief to them  Also how one would imagine that the movie “Six feet’s apart” would be acted in reality The solutions related to this pandemic came swiftly and rapidly with the help and support of your doctors and nurses who all were serving us and the sufferers roundtheclock Solutions like washing your hands for at least 20 seconds correctly covering your mouth with a face mask and majorly avoiding unnecessary wandering on the streets and keeping yourself away from unhygienic people were asked to follow The efforts of our doctors nurses government officials made me realize that my passion should not be above these notices and announcements but should move hand in hand with it   Right at this moment we all are moving with these circumstances and nobody knows what might happen in the future but one thing is of sure that nobody can ever forget this situation and indeed me as it had the ability to knock down my event that day Many lessons were learned by all the world in these days some being that never ever take anything for granted because if that thing or that person leaves then life tends to become like a rock Appreciate admire and cherish whatever you have because you never know when it might leave you ask from them who have just lost someone from this Corona Virus Moments to live happily in this world are very few spend it with someone who makes you feel loved Each day sun rises with a new hope to make a habit to feel the warmth and wish for a healthy life for yourself your family and this world Together we all are fighting this virus with unity Blackcoffer Insights 16Tanishka Gupta Institute of innovation in technology and management   \n",
      "['It', 'was', '14th', 'March', 'and', 'I', 'was', 'altogether', 'prepared', 'for', 'my', 'last', 'theater', 'competition', 'of', 'this', 'very', 'year', 'I', 'only', 'knew', 'in', 'my', 'core', 'how', 'much', 'this', 'competition', 'meant', 'for', 'me', 'In', 'the', 'morning', 'I', 'made', 'some', 'lastminute', 'calls', 'to', 'my', 'diligent', 'team', 'who', 'were', 'ceaselessly', 'practicing', 'for', 'the', 'past', 'few', 'days', 'to', 'confirm', 'to', 'me', 'that', 'they', 'were', 'all', 'coming', 'for', 'the', 'competition', 'because', 'of', 'the', 'alarming', 'Coronavirus', 'ball', 'game', 'going', 'outside', 'the', 'market', 'It', 'was', 'not', 'like', 'I', 'wasn’t', 'aware', 'of', 'the', 'situation', 'but', 'I', 'believed', 'that', 'I', 'would', 'be', 'able', 'to', 'handle', 'it', 'because', 'there’s', 'a', 'quote', 'in', 'theatre', 'that', 'says', '“Fear', 'is', 'only', 'as', 'deep', 'as', 'the', 'mind', 'allows”', 'and', 'to', 'some', 'length', 'I', 'was', 'fearless', 'My', 'passion', 'fondness', 'and', 'attachment', 'for', 'the', 'theatre', 'were', 'above', 'all', 'the', 'notices', 'and', 'announcements', 'that', 'we’re', 'rolling', 'out', 'But', 'then', 'at', 'once', 'I', 'received', 'a', 'call', 'from', 'Mr', 'Sandeep', 'the', 'head', 'of', 'the', 'event', 'who', 'told', 'me', 'that', 'the', 'event', 'is', 'put', 'off', 'till', 'the', 'next', 'few', 'days', 'and', 'from', 'that', 'precise', 'moment', 'onwards', 'the', 'journey', 'of', 'hard', 'and', 'strenuous', 'days', 'began', 'and', 'it', 'in', 'point', 'of', 'fact', 'felt', 'like', 'it', 'was', 'all', 'meant', 'to', 'happen', 'The', 'competition', 'was', 'postponed', 'the', 'team', 'was', 'stuck', 'in', 'their', 'homes', 'grudgingly', 'time', 'was', 'haunting', 'us', 'all', 'because', 'of', 'this', 'Coronavirus', 'These', 'were', 'some', 'of', 'the', 'cardinal', 'ways', 'in', 'which', 'this', 'virus', 'affected', 'us', 'but', 'there', 'was', 'more', 'to', 'this', 'sickness', 'This', 'very', 'sickness', 'acted', 'like', 'a', 'sadist', 'I', 'was', 'impressed', 'as', 'I', 'found', 'someone', 'who', 'could', 'act', 'better', 'than', 'me', 'It', 'has', 'reversed', 'the', 'ways', 'we', 'used', 'to', 'work', 'play', 'and', 'exercise', 'and', 'the', 'world', 'solution', 'that', 'was', 'asked', 'to', 'practice', 'by', 'the', 'professionals', 'were', 'Social', 'Distancing', 'This', 'virus', 'was', 'wild', 'and', 'dangerous', 'towards', 'the', 'people', 'who', 'are', 'in', 'declining', 'health', 'conditions', 'but', 'obviously', 'it', 'could', 'not', 'take', 'off', 'his', 'hands', 'from', 'the', 'young', 'people', 'as', 'well', 'The', 'Coronavirus', 'cases', 'and', 'deaths', 'were', 'heightening', 'to', 'a', 'great', 'extent', 'Also', 'the', 'major', 'problem', 'that', 'came', 'in', 'the', 'light', 'was', 'people', 'being', 'fully', 'unprepared', 'and', 'this', 'led', 'to', 'the', 'public', 'becoming', 'snappier', 'intolerant', 'and', 'nonsupportive', 'needless', 'to', 'say', 'as', 'this', 'virus', 'was', 'acting', 'like', 'a', 'sadist', 'But', 'by', 'all', 'means', 'our', 'government', 'knows', 'how', 'to', 'best', 'handle', 'the', 'affairs', 'they', 'decided', 'to', 'shut', 'down', 'schools', 'colleges', 'bars', 'anything', 'that', 'would', 'involve', 'the', 'gathering', 'of', 'more', 'than', '10', 'people', 'With', 'disinformation', 'coming', 'from', 'all', 'around', 'related', 'to', 'this', 'infection', 'it', 'becomes', 'hard', 'to', 'judge', 'for', 'the', 'audience', 'what', 'is', 'true', 'and', 'what', 'is', 'false', 'and', 'it', 'worsens', 'when', 'the', 'public', 'consumes', 'this', 'information', 'by', 'working', 'from', 'home', 'This', 'virus', 'was', 'not', 'only', 'hollowing', 'people', 'from', 'deep', 'inside', 'but', 'was', 'also', 'supporting', 'and', 'increasing', 'some', 'other', 'countryrelated', 'issues', 'one', 'of', 'which', 'is', 'Fake', 'news', 'which', 'is', 'a', 'serious', 'problem', 'With', 'fake', 'news', 'traveling', 'around', 'the', 'world', 'people', 'come', 'and', 'start', 'to', 'blabber', 'People', 'start', 'offering', 'numerous', 'solutions', 'and', 'want', 'that', 'most', 'of', 'the', 'people', 'should', 'follow', 'it', 'They', 'start', 'acting', 'like', 'saints', 'who', 'know', 'all', 'the', 'solutions', 'to', 'this', 'pandemic', 'Some', 'of', 'the', 'solutions', 'are', 'convenient', 'to', 'follow', 'but', 'some', 'are', 'not', 'and', 'are', 'unhealthy', 'which', 'creates', 'immense', 'confusion', 'and', 'arguments', 'But', 'the', 'best', 'way', 'to', 'stop', 'the', 'confusion', 'and', 'to', 'avoid', 'these', 'people', 'is', 'to', 'avoid', 'their', 'arguments', 'and', 'to', 'not', 'convince', 'them', 'with', 'your', 'points', 'because', 'it', 'is', 'rightly', 'said', 'a', 'man', 'convinced', 'against', 'his', 'will', 'is', 'of', 'the', 'same', 'opinions', 'still', 'The', 'thing', 'to', 'do', 'is', 'to', 'look', 'after', 'your', 'family', 'and', 'to', 'avoid', 'shady', 'and', 'deceitful', 'people', 'But', 'one', 'thing', 'that', 'can’t', 'be', 'avoided', 'is', 'our', 'expanding', 'and', 'maturing', 'industries', 'that', 'lend', 'a', 'hand', 'in', 'developing', 'our', 'nation', 'but', 'no', 'power', 'to', 'choose', 'is', 'left', 'with', 'our', 'industries', 'but', 'to', 'be', 'at', 'a', 'standstill', 'in', 'this', 'current', 'moment', 'as', 'Coronavirus', 'right', 'now', 'is', 'winning', 'the', 'game', 'The', 'untold', 'number', 'of', 'industries', 'is', 'growing', 'down', 'and', 'a', 'major', 'one', 'is', 'our', 'Tourism', 'industries', 'and', 'if', 'this', 'continues', 'to', 'happen', 'then', 'in', 'no', 'time', 'there', 'will', 'be', 'a', 'loss', 'to', 'jobs', 'close', 'to', 'more', 'than', '75', 'million', 'Many', 'working', 'people', 'like', 'in', 'the', 'tourism', 'industry', 'and', 'not', 'only', 'in', 'this', 'peculiar', 'industry', 'but', 'also', 'in', 'various', 'others', 'people', 'are', 'getting', 'suspended', 'because', 'of', 'a', 'hefty', 'amount', 'of', 'lost', 'revenue', 'One', 'of', 'my', 'own', 'family', 'members', 'resorted', 'to', 'this', 'issue', 'by', 'working', 'for', 'free', 'for', 'the', 'next', 'few', 'months', 'in', 'order', 'to', 'at', 'least', 'protect', 'her', 'job', 'Who', 'should', 'be', 'blamed', 'for', 'these', 'kinds', 'of', 'situations', 'is', 'also', 'a', 'point', 'of', 'concern', 'for', 'many', 'people', '“Massive', 'hunger', 'will', 'definitely', 'kill', 'the', 'poor', 'before', 'this', 'virus”', 'this', 'statement', 'takes', 'my', 'immediate', 'attention', 'What', 'options', 'are', 'left', 'with', 'the', 'dailywage', 'earners', 'I', 'would', 'say', 'no', 'option', 'They', 'are', 'the', 'ones', 'who', 'are', 'in', 'the', 'most', 'condemning', 'situations', 'Lockdown', 'for', 'us', 'can', 'be', 'a', 'way', 'to', 'relax', 'or', 'listen', 'to', 'karaoke', 'but', 'lockdown', 'for', 'them', 'means', 'an', 'end', 'to', 'their', 'life', 'Unquestionably', 'this', 'decision', 'by', 'our', 'Prime', 'Minister', 'is', 'the', 'best', 'he', 'could', 'take', 'but', 'when', 'the', 'best', 'turns', 'out', 'to', 'be', 'the', 'worst', 'for', 'someone', 'then', 'I', 'think', 'it’s', 'a', 'moment', 'to', 'question', 'Going', 'to', 'the', 'internet', 'and', 'writing', 'what’s', 'the', 'best', 'way', 'to', 'spend', 'this', 'Quarantine', 'should', 'definitely', 'be', 'what’s', 'the', 'best', 'way', 'in', 'which', 'we', 'can', 'help', 'people', 'but', 'naturally', 'this', 'would', 'not', 'interest', 'many', 'people', 'Furthermore', 'this', 'set', 'off', 'to', 'become', 'more', 'hell', 'when', 'people', 'start', 'with', 'the', 'activity', 'of', 'stockpiling', 'Unnecessary', 'piling', 'of', 'food', 'is', 'altogether', 'a', 'reason', 'for', 'shortage', 'and', 'ultimately', 'hunger', 'My', 'maid', 'Mala', 'who', 'is', 'a', 'housewife', 'and', 'has', 'a', 'small', 'suffering', 'family', 'I', 'believe', 'could', 'have', 'written', 'this', 'article', 'in', 'a', 'better', 'manner', 'if', 'she', 'would', 'have', 'the', 'relevant', 'education', 'because', 'she', 'is', 'the', 'actual', 'prey', 'to', 'this', 'problem', 'She', 'being', 'the', 'patient', 'will', 'exactly', 'know', 'the', 'impact', 'this', 'virus', 'can', 'have', 'on', 'our', 'lives', 'because', 'sitting', 'in', 'our', 'homes', 'with', 'a', 'cup', 'coffee', 'can', 'never', 'let', 'us', 'know', 'what', 'an', 'empty', 'cup', 'feels', 'like', 'Mala', 'said', 'to', 'me', 'think', 'how', 'much', 'we', 'would', 'be', 'tolerating', 'that', 'our', 'Prime', 'Minister', 'apologized', 'to', 'the', 'public', 'for', 'this', 'Lockdown', 'which', 'was', 'certainly', 'a', 'good', 'thing', 'for', 'the', 'masses', 'What', 'all', 'I', 'could', 'do', 'to', 'help', 'her', 'was', 'to', 'provide', 'her', 'family', 'with', 'some', 'money', 'and', 'eatables', 'A', 'small', 'contribution', 'with', 'some', 'motivation', 'and', 'a', 'call', 'once', 'in', '2', 'days', 'I', 'believe', 'will', 'not', 'improve', 'her', 'state', 'completely', 'but', 'would', 'certainly', 'provide', 'her', 'with', 'the', 'power', 'to', 'deal', 'with', 'it', 'Not', 'only', 'Mala', 'and', 'her', 'family', 'but', 'there', 'are', 'also', 'millions', 'of', 'people', 'who', 'are', 'in', 'the', 'exact', 'same', 'condition', 'There', 'are', 'countless', 'Mala', 'in', 'our', 'country', 'who', 'are', 'panicking', 'enduring', 'and', 'suffering', 'each', 'night', 'with', 'no', 'food', 'in', 'their', 'stomachs', 'Imagine', 'an', 'exact', 'same', 'situation', 'for', 'yourselves', 'it', 'would', 'without', 'fail', 'be', 'the', 'hardest', 'situation', 'This', 'is', 'the', 'impact', 'a', 'virus', 'can', 'create', 'For', 'sure', 'this', 'article', 'can', 'be', 'of', 'endless', 'pages', 'owing', 'to', 'the', 'fact', 'that', 'there', 'are', 'more', 'stories', 'to', 'to', 'this', 'and', 'each', 'story', 'is', 'painful', 'that', 'the', 'other', 'Labor', 'Chowk', 'in', 'Noida', 'has', 'numerous', 'stories', 'of', 'people', 'conveying', 'their', 'problems', 'and', 'asking', 'for', 'help', 'This', 'Chowk', 'is', 'in', 'the', 'main', 'know', 'for', 'men', 'looking', 'for', 'work', 'Quite', 'a', 'few', 'men', 'gather', 'there', 'each', 'morning', 'to', 'get', 'some', 'work', 'in', 'order', 'to', 'feed', 'their', 'families', 'with', 'at', 'least', 'a', 'roti', 'but', 'this', 'virus', 'even', 'snatched', 'that', 'from', 'their', 'plates', 'A', 'very', 'known', 'movie', 'in', 'our', 'Indian', 'cinemas', 'is', '“Coolie”', 'that', 'says', 'these', 'laborers', 'should', 'get', 'their', 'pay', 'till', 'their', 'sweat', 'dries', 'up', 'These', 'people', 'anyhow', 'need', 'money', 'each', 'day', 'to', 'feed', 'their', 'families', 'but', 'after', 'these', 'uncontrollable', 'situations', 'they', 'at', 'times', 'are', 'forced', 'to', 'eat', 'filth', 'and', 'muck', 'and', 'this', 'sickness', 'might', 'not', 'kill', 'these', 'people', 'but', 'hunger', 'and', 'stained', 'water', 'definitely', 'will', 'These', 'stories', 'will', 'never', 'end', 'because', 'it’s', 'all', 'meant', 'to', 'happen', 'but', 'I', 'hope', 'this', 'situation', 'does', 'in', 'order', 'to', 'provide', 'some', 'relief', 'to', 'them', 'Also', 'how', 'one', 'would', 'imagine', 'that', 'the', 'movie', '“Six', 'feet’s', 'apart”', 'would', 'be', 'acted', 'in', 'reality', 'The', 'solutions', 'related', 'to', 'this', 'pandemic', 'came', 'swiftly', 'and', 'rapidly', 'with', 'the', 'help', 'and', 'support', 'of', 'your', 'doctors', 'and', 'nurses', 'who', 'all', 'were', 'serving', 'us', 'and', 'the', 'sufferers', 'roundtheclock', 'Solutions', 'like', 'washing', 'your', 'hands', 'for', 'at', 'least', '20', 'seconds', 'correctly', 'covering', 'your', 'mouth', 'with', 'a', 'face', 'mask', 'and', 'majorly', 'avoiding', 'unnecessary', 'wandering', 'on', 'the', 'streets', 'and', 'keeping', 'yourself', 'away', 'from', 'unhygienic', 'people', 'were', 'asked', 'to', 'follow', 'The', 'efforts', 'of', 'our', 'doctors', 'nurses', 'government', 'officials', 'made', 'me', 'realize', 'that', 'my', 'passion', 'should', 'not', 'be', 'above', 'these', 'notices', 'and', 'announcements', 'but', 'should', 'move', 'hand', 'in', 'hand', 'with', 'it', 'Right', 'at', 'this', 'moment', 'we', 'all', 'are', 'moving', 'with', 'these', 'circumstances', 'and', 'nobody', 'knows', 'what', 'might', 'happen', 'in', 'the', 'future', 'but', 'one', 'thing', 'is', 'of', 'sure', 'that', 'nobody', 'can', 'ever', 'forget', 'this', 'situation', 'and', 'indeed', 'me', 'as', 'it', 'had', 'the', 'ability', 'to', 'knock', 'down', 'my', 'event', 'that', 'day', 'Many', 'lessons', 'were', 'learned', 'by', 'all', 'the', 'world', 'in', 'these', 'days', 'some', 'being', 'that', 'never', 'ever', 'take', 'anything', 'for', 'granted', 'because', 'if', 'that', 'thing', 'or', 'that', 'person', 'leaves', 'then', 'life', 'tends', 'to', 'become', 'like', 'a', 'rock', 'Appreciate', 'admire', 'and', 'cherish', 'whatever', 'you', 'have', 'because', 'you', 'never', 'know', 'when', 'it', 'might', 'leave', 'you', 'ask', 'from', 'them', 'who', 'have', 'just', 'lost', 'someone', 'from', 'this', 'Corona', 'Virus', 'Moments', 'to', 'live', 'happily', 'in', 'this', 'world', 'are', 'very', 'few', 'spend', 'it', 'with', 'someone', 'who', 'makes', 'you', 'feel', 'loved', 'Each', 'day', 'sun', 'rises', 'with', 'a', 'new', 'hope', 'to', 'make', 'a', 'habit', 'to', 'feel', 'the', 'warmth', 'and', 'wish', 'for', 'a', 'healthy', 'life', 'for', 'yourself', 'your', 'family', 'and', 'this', 'world', 'Together', 'we', 'all', 'are', 'fighting', 'this', 'virus', 'with', 'unity', 'Blackcoffer', 'Insights', '16Tanishka', 'Gupta', 'Institute', 'of', 'innovation', 'in', 'technology', 'and', 'management']\n"
     ]
    }
   ],
   "source": [
    "content=soup.findAll(attrs={'class':'td-post-content'})\n",
    "content=content[0].text.replace('\\n',\" \")\n",
    "print(content)\n",
    "#Punctuation\n",
    "content = content.translate(str.maketrans('', '', string.punctuation)) \n",
    "print(content)\n",
    "text = content.split()\n",
    "print(text)\n"
   ]
  },
  {
   "cell_type": "code",
   "execution_count": 3,
   "id": "6df7535f",
   "metadata": {},
   "outputs": [
    {
     "data": {
      "text/plain": [
       "1602"
      ]
     },
     "execution_count": 3,
     "metadata": {},
     "output_type": "execute_result"
    }
   ],
   "source": [
    "len(text)"
   ]
  },
  {
   "cell_type": "code",
   "execution_count": 4,
   "id": "cb523d2a",
   "metadata": {},
   "outputs": [
    {
     "name": "stdout",
     "output_type": "stream",
     "text": [
      "53\n"
     ]
    }
   ],
   "source": [
    "#Positive Score \n",
    "with open(r\"C:\\Users\\Om Bhandwalkar\\Desktop\\pos\\positive-words.txt\") as pos:\n",
    "    poswords = pos.read().split(\"\\n\")  \n",
    "    poswords = poswords[5:]\n",
    "pos_count = \" \".join ([w for w in text if w in poswords])\n",
    "pos_count=pos_count.split(\" \")\n",
    "Positive_score=len(pos_count)\n",
    "print(Positive_score)"
   ]
  },
  {
   "cell_type": "code",
   "execution_count": 5,
   "id": "72f22dc8",
   "metadata": {},
   "outputs": [
    {
     "name": "stdout",
     "output_type": "stream",
     "text": [
      "60\n"
     ]
    }
   ],
   "source": [
    "#Negative Score\n",
    "with open(r\"C:\\Users\\Om Bhandwalkar\\Desktop\\pos\\negative-words.txt\",encoding =\"ISO-8859-1\") as neg:\n",
    "    negwords = neg.read().split(\"\\n\")\n",
    "    \n",
    "negwords = negwords[36:]\n",
    "neg_count = \" \".join ([w for w in text if w in negwords])\n",
    "neg_count=neg_count.split(\" \")\n",
    "Negative_score=len(neg_count)\n",
    "print(Negative_score)"
   ]
  },
  {
   "cell_type": "code",
   "execution_count": 6,
   "id": "9d594e38",
   "metadata": {},
   "outputs": [
    {
     "data": {
      "text/html": [
       "<div>\n",
       "<style scoped>\n",
       "    .dataframe tbody tr th:only-of-type {\n",
       "        vertical-align: middle;\n",
       "    }\n",
       "\n",
       "    .dataframe tbody tr th {\n",
       "        vertical-align: top;\n",
       "    }\n",
       "\n",
       "    .dataframe thead th {\n",
       "        text-align: right;\n",
       "    }\n",
       "</style>\n",
       "<table border=\"1\" class=\"dataframe\">\n",
       "  <thead>\n",
       "    <tr style=\"text-align: right;\">\n",
       "      <th></th>\n",
       "      <th>url</th>\n",
       "      <th>title</th>\n",
       "      <th>content</th>\n",
       "      <th>filter_content</th>\n",
       "      <th>Positive_Score</th>\n",
       "      <th>Negative_Score</th>\n",
       "      <th>polarity</th>\n",
       "      <th>subjectivity</th>\n",
       "    </tr>\n",
       "  </thead>\n",
       "  <tbody>\n",
       "    <tr>\n",
       "      <th>0</th>\n",
       "      <td>https://insights.blackcoffer.com/impact-of-cov...</td>\n",
       "      <td>IMPACT OF COVID-19 ON THE GLOBAL ECONOMY</td>\n",
       "      <td>It was 14th March and I was altogether prepar...</td>\n",
       "      <td>It was 14th March and I was altogether prepare...</td>\n",
       "      <td>53</td>\n",
       "      <td>60</td>\n",
       "      <td>0.095452</td>\n",
       "      <td>0.47803</td>\n",
       "    </tr>\n",
       "  </tbody>\n",
       "</table>\n",
       "</div>"
      ],
      "text/plain": [
       "                                                 url  \\\n",
       "0  https://insights.blackcoffer.com/impact-of-cov...   \n",
       "\n",
       "                                      title  \\\n",
       "0  IMPACT OF COVID-19 ON THE GLOBAL ECONOMY   \n",
       "\n",
       "                                             content  \\\n",
       "0   It was 14th March and I was altogether prepar...   \n",
       "\n",
       "                                      filter_content  Positive_Score  \\\n",
       "0  It was 14th March and I was altogether prepare...              53   \n",
       "\n",
       "   Negative_Score  polarity  subjectivity  \n",
       "0              60  0.095452       0.47803  "
      ]
     },
     "execution_count": 6,
     "metadata": {},
     "output_type": "execute_result"
    }
   ],
   "source": [
    "filter_content = ' '.join(text)\n",
    "data=[[url,title,content,filter_content,Positive_score,Negative_score]]\n",
    "data=pd.DataFrame(data,columns=[\"url\",\"title\",\"content\",\"filter_content\",\"Positive_Score\",\"Negative_Score\"])\n",
    "from textblob import TextBlob\n",
    "# Get The Subjectivity\n",
    "def sentiment_analysis(data):\n",
    "    sentiment = TextBlob(data[\"content\"]).sentiment\n",
    "    return pd.Series([sentiment.polarity,sentiment.subjectivity ])\n",
    "\n",
    "# Adding Subjectivity & Polarity\n",
    "data[[\"polarity\", \"subjectivity\"]] = data.apply(sentiment_analysis, axis=1)\n",
    "\n",
    "data"
   ]
  },
  {
   "cell_type": "code",
   "execution_count": 7,
   "id": "86534269",
   "metadata": {},
   "outputs": [
    {
     "name": "stdout",
     "output_type": "stream",
     "text": [
      "Word average = 7192.0\n",
      "FOG INDEX =  643.57\n",
      "Average no of words per sentence\n",
      "1602.0\n",
      "Complex Words 2516\n"
     ]
    }
   ],
   "source": [
    "#AVG SENTENCE LENGTH\n",
    "AVG_SENTENCE_LENGTH = len(content.replace(' ',''))/len(re.split(r'[?!.]', content))\n",
    "print('Word average =', AVG_SENTENCE_LENGTH)\n",
    "import textstat\n",
    "#Fog index \n",
    "FOG_INDEX=(textstat.gunning_fog(content))\n",
    "print(\"FOG INDEX = \",FOG_INDEX)\n",
    "#Average No of Words Per Sentence \n",
    "AVG_NUMBER_OF_WORDS_PER_SENTENCE = [len(l.split()) for l in re.split(r'[?!.]', content) if l.strip()]\n",
    "print(\"Average no of words per sentence\")\n",
    "AVG_NUMBER_OF_WORDS_PER_SENTENCE=print(sum(AVG_NUMBER_OF_WORDS_PER_SENTENCE)/len(AVG_NUMBER_OF_WORDS_PER_SENTENCE))\n",
    "#Complex words\n",
    "def syllable_count(word):\n",
    "    count = 0\n",
    "    vowels = \"AEIOUYaeiouy\"\n",
    "    if word[0] in vowels:\n",
    "        count += 1\n",
    "    for index in range(1, len(word)): \n",
    "        if word[index] in vowels and word[index - 1] not in vowels:\n",
    "            count += 1\n",
    "            if word.endswith(\"es\"or \"ed\"):\n",
    "                count -= 1\n",
    "    if count == 0:\n",
    "        count += 1\n",
    "    return count\n",
    "\n",
    "\n",
    "\n",
    "COMPLEX_WORDS=syllable_count(content)\n",
    "print(\"Complex Words\",COMPLEX_WORDS)\n"
   ]
  },
  {
   "cell_type": "code",
   "execution_count": 8,
   "id": "141b10ab",
   "metadata": {},
   "outputs": [
    {
     "name": "stdout",
     "output_type": "stream",
     "text": [
      "Word Count 8807\n",
      "Percentage of Complex Words 28.568184398773706\n",
      "Average Word per Length 4.489388264669164\n",
      "The AVG number of syllables in the word is: \n",
      "1.7946317103620475\n",
      "Word Count 8807\n",
      "Percentage of Complex Words 28.568184398773706\n",
      "Average Word per Length 4.489388264669164\n",
      "The AVG number of syllables in the word is: \n",
      "1.7946317103620475\n"
     ]
    }
   ],
   "source": [
    "#Word Count\n",
    "Word_Count=len(content)\n",
    "print(\"Word Count\",Word_Count)\n",
    "#Percentage Complex Words\n",
    "pcw=(COMPLEX_WORDS/Word_Count)*100\n",
    "print(\"Percentage of Complex Words\",pcw)\n",
    "#Average Word Length\n",
    "Average_Word_Length=len(content.replace(' ',''))/len(content.split())\n",
    "print(\"Average Word per Length\",Average_Word_Length)\n",
    "#Syllable Count Per Word\n",
    "word=content.replace(' ','')\n",
    "syllable_count=0\n",
    "for w in word:\n",
    "      if(w=='a' or w=='e' or w=='i' or w=='o' or w=='y' or w=='u' or w=='A' or w=='E' or w=='I' or w=='O' or w=='U' or w=='Y'):\n",
    "            syllable_count=syllable_count+1\n",
    "print(\"The AVG number of syllables in the word is: \")\n",
    "print(syllable_count/len(content.split()))#Word Count\n",
    "Word_Count=len(content)\n",
    "print(\"Word Count\",Word_Count)\n",
    "#Percentage Complex Words\n",
    "pcw=(COMPLEX_WORDS/Word_Count)*100\n",
    "print(\"Percentage of Complex Words\",pcw)\n",
    "#Average Word Length\n",
    "Average_Word_Length=len(content.replace(' ',''))/len(content.split())\n",
    "print(\"Average Word per Length\",Average_Word_Length)\n",
    "#Syllable Count Per Word\n",
    "word=content.replace(' ','')\n",
    "syllable_count=0\n",
    "for w in word:\n",
    "      if(w=='a' or w=='e' or w=='i' or w=='o' or w=='y' or w=='u' or w=='A' or w=='E' or w=='I' or w=='O' or w=='U' or w=='Y'):\n",
    "            syllable_count=syllable_count+1\n",
    "print(\"The AVG number of syllables in the word is: \")\n",
    "print(syllable_count/len(content.split()))"
   ]
  },
  {
   "cell_type": "code",
   "execution_count": 1,
   "id": "6791da1a",
   "metadata": {},
   "outputs": [
    {
     "name": "stdout",
     "output_type": "stream",
     "text": [
      "53\n",
      "60\n",
      "Word average = 7192.0\n",
      "FOG INDEX =  643.57\n",
      "Average no of words per sentence\n",
      "1602.0\n",
      "Complex Words 2516\n",
      "Word Count 8808\n",
      "Percentage of Complex Words 28.564940962761128\n",
      "Average Word per Length 4.489388264669164\n",
      "The AVG number of syllables in the word is: \n",
      "1.7946317103620475\n"
     ]
    },
    {
     "data": {
      "text/html": [
       "<div>\n",
       "<style scoped>\n",
       "    .dataframe tbody tr th:only-of-type {\n",
       "        vertical-align: middle;\n",
       "    }\n",
       "\n",
       "    .dataframe tbody tr th {\n",
       "        vertical-align: top;\n",
       "    }\n",
       "\n",
       "    .dataframe thead th {\n",
       "        text-align: right;\n",
       "    }\n",
       "</style>\n",
       "<table border=\"1\" class=\"dataframe\">\n",
       "  <thead>\n",
       "    <tr style=\"text-align: right;\">\n",
       "      <th></th>\n",
       "      <th>url</th>\n",
       "      <th>title</th>\n",
       "      <th>content</th>\n",
       "      <th>filter_content</th>\n",
       "      <th>Positive_Score</th>\n",
       "      <th>Negative_Score</th>\n",
       "      <th>Avg_Sentence_Length</th>\n",
       "      <th>Percentage_Complex_Word</th>\n",
       "      <th>Fog_Index</th>\n",
       "      <th>AVG_NUMBER_OF_WORDS_PER_SENTENCE</th>\n",
       "      <th>COMPLEX_WORDS</th>\n",
       "      <th>Word_Count</th>\n",
       "      <th>syllable</th>\n",
       "      <th>Average_Word_Length</th>\n",
       "      <th>polarity</th>\n",
       "      <th>subjectivity</th>\n",
       "    </tr>\n",
       "  </thead>\n",
       "  <tbody>\n",
       "    <tr>\n",
       "      <th>0</th>\n",
       "      <td>https://insights.blackcoffer.com/impact-of-cov...</td>\n",
       "      <td>IMPACT OF COVID-19 ON THE GLOBAL ECONOMY</td>\n",
       "      <td>It was 14th March and I was altogether prepa...</td>\n",
       "      <td>It was 14th March and I was altogether prepare...</td>\n",
       "      <td>53</td>\n",
       "      <td>60</td>\n",
       "      <td>7192.0</td>\n",
       "      <td>28.564941</td>\n",
       "      <td>643.57</td>\n",
       "      <td>1602.0</td>\n",
       "      <td>2516</td>\n",
       "      <td>8808</td>\n",
       "      <td>1.794632</td>\n",
       "      <td>4.489388</td>\n",
       "      <td>0.095452</td>\n",
       "      <td>0.47803</td>\n",
       "    </tr>\n",
       "  </tbody>\n",
       "</table>\n",
       "</div>"
      ],
      "text/plain": [
       "                                                 url  \\\n",
       "0  https://insights.blackcoffer.com/impact-of-cov...   \n",
       "\n",
       "                                      title  \\\n",
       "0  IMPACT OF COVID-19 ON THE GLOBAL ECONOMY   \n",
       "\n",
       "                                             content  \\\n",
       "0    It was 14th March and I was altogether prepa...   \n",
       "\n",
       "                                      filter_content  Positive_Score  \\\n",
       "0  It was 14th March and I was altogether prepare...              53   \n",
       "\n",
       "   Negative_Score  Avg_Sentence_Length  Percentage_Complex_Word  Fog_Index  \\\n",
       "0              60               7192.0                28.564941     643.57   \n",
       "\n",
       "    AVG_NUMBER_OF_WORDS_PER_SENTENCE  COMPLEX_WORDS  Word_Count  syllable  \\\n",
       "0                             1602.0           2516        8808  1.794632   \n",
       "\n",
       "   Average_Word_Length  polarity  subjectivity  \n",
       "0             4.489388  0.095452       0.47803  "
      ]
     },
     "execution_count": 1,
     "metadata": {},
     "output_type": "execute_result"
    }
   ],
   "source": [
    "import requests\n",
    "import pandas as pd \n",
    "from bs4 import BeautifulSoup\n",
    "import string\n",
    "import spacy\n",
    "import re\n",
    "url = \"\"\"https://insights.blackcoffer.com/impact-of-covid-19-on-the-global-economy/\"\"\"\n",
    "headers = {\"User-Agent\": \"Mozilla/5.0 (X11; Linux x86_64; rv:60.0) Gecko/20100101 Firefox/60.0\"}\n",
    "page = requests.get(url, headers=headers)\n",
    "soup = BeautifulSoup(page.content, 'html.parser')\n",
    "soup=BeautifulSoup(page.content, 'html.parser')\n",
    "title=soup.find('h1',class_=\"entry-title\")\n",
    "title=title.text.replace('\\n',\" \")\n",
    "# title\n",
    "\n",
    "content=soup.findAll(attrs={'class':'td-post-content'})\n",
    "content=content[0].text.replace('\\n',\" \")\n",
    "# print(content)\n",
    "#Punctuation\n",
    "content = content.translate(str.maketrans('', '', string.punctuation)) \n",
    "# print(content)\n",
    "text = content.split()\n",
    "# print(text)\n",
    "len(text)\n",
    "#Positive Score \n",
    "with open(r\"C:\\Users\\Om Bhandwalkar\\Desktop\\pos\\positive-words.txt\") as pos:\n",
    "    poswords = pos.read().split(\"\\n\")  \n",
    "    poswords = poswords[5:]\n",
    "pos_count = \" \".join ([w for w in text if w in poswords])\n",
    "pos_count=pos_count.split(\" \")\n",
    "Positive_score=len(pos_count)\n",
    "print(Positive_score)\n",
    "\n",
    "#Negative Score\n",
    "with open(r\"C:\\Users\\Om Bhandwalkar\\Desktop\\pos\\negative-words.txt\",encoding =\"ISO-8859-1\") as neg:\n",
    "    negwords = neg.read().split(\"\\n\")\n",
    "    \n",
    "negwords = negwords[36:]\n",
    "neg_count = \" \".join ([w for w in text if w in negwords])\n",
    "neg_count=neg_count.split(\" \")\n",
    "Negative_score=len(neg_count)\n",
    "print(Negative_score)\n",
    "\n",
    "\n",
    "filter_content = ' '.join(text)\n",
    "data=[[url,title,content,filter_content,Positive_score,Negative_score]]\n",
    "data=pd.DataFrame(data,columns=[\"url\",\"title\",\"content\",\"filter_content\",\"Positive_Score\",\"Negative_Score\"])\n",
    "from textblob import TextBlob\n",
    "# Get The Subjectivity\n",
    "def sentiment_analysis(data):\n",
    "    sentiment = TextBlob(data[\"content\"]).sentiment\n",
    "    return pd.Series([sentiment.polarity,sentiment.subjectivity ])\n",
    "data[[\"polarity\", \"subjectivity\"]] = data.apply(sentiment_analysis, axis=1)\n",
    "data\n",
    "#AVG SENTENCE LENGTH\n",
    "AVG_SENTENCE_LENGTH = len(content.replace(' ',''))/len(re.split(r'[?!.]', content))\n",
    "print('Word average =', AVG_SENTENCE_LENGTH)\n",
    "import textstat\n",
    "#Fog index \n",
    "FOG_INDEX=(textstat.gunning_fog(content))\n",
    "print(\"FOG INDEX = \",FOG_INDEX)\n",
    "#Average No of Words Per Sentence \n",
    "AVG_NUMBER_OF_WORDS_PER_SENTENCE = [len(l.split()) for l in re.split(r'[?!.]', content) if l.strip()]\n",
    "print(\"Average no of words per sentence\")\n",
    "AVG_NUMBER_OF_WORDS_PER_SENTENCE=(sum(AVG_NUMBER_OF_WORDS_PER_SENTENCE)/len(AVG_NUMBER_OF_WORDS_PER_SENTENCE))\n",
    "print(AVG_NUMBER_OF_WORDS_PER_SENTENCE)\n",
    "#Complex words\n",
    "def syllable_count(word):\n",
    "    count = 0\n",
    "    vowels = \"AEIOUYaeiouy\"\n",
    "    if word[0] in vowels:\n",
    "        count += 1\n",
    "    for index in range(1, len(word)): \n",
    "        if word[index] in vowels and word[index - 1] not in vowels:\n",
    "            count += 1\n",
    "            if word.endswith(\"es\"or \"ed\"):\n",
    "                count -= 1\n",
    "    if count == 0:\n",
    "        count += 1\n",
    "    return count\n",
    "\n",
    "\n",
    "\n",
    "COMPLEX_WORDS=syllable_count(content)\n",
    "print(\"Complex Words\",COMPLEX_WORDS)\n",
    "#Word Count\n",
    "Word_Count=len(content)\n",
    "print(\"Word Count\",Word_Count)\n",
    "#Percentage Complex Words\n",
    "pcw=(COMPLEX_WORDS/Word_Count)*100\n",
    "print(\"Percentage of Complex Words\",pcw)\n",
    "#Average Word Length\n",
    "Average_Word_Length=len(content.replace(' ',''))/len(content.split())\n",
    "print(\"Average Word per Length\",Average_Word_Length)\n",
    "#Syllable Count Per Word\n",
    "word=content.replace(' ','')\n",
    "syllable_count=0\n",
    "for w in word:\n",
    "      if(w=='a' or w=='e' or w=='i' or w=='o' or w=='y' or w=='u' or w=='A' or w=='E' or w=='I' or w=='O' or w=='U' or w=='Y'):\n",
    "            syllable_count=syllable_count+1\n",
    "print(\"The AVG number of syllables in the word is: \")\n",
    "syllable = (syllable_count/len(content.split()))\n",
    "print(syllable)\n",
    "\n",
    "data = [[url,title,content,filter_content,Positive_score,Negative_score,AVG_SENTENCE_LENGTH,pcw,FOG_INDEX,\n",
    "         AVG_NUMBER_OF_WORDS_PER_SENTENCE,COMPLEX_WORDS,Word_Count,syllable,Average_Word_Length]]\n",
    "data=pd.DataFrame(data,columns=[\"url\",\"title\",\"content\",\"filter_content\",\"Positive_Score\",\"Negative_Score\",\"Avg_Sentence_Length\"\n",
    "                               ,\"Percentage_Complex_Word\",\"Fog_Index\",\" AVG_NUMBER_OF_WORDS_PER_SENTENCE\",\"COMPLEX_WORDS\",\n",
    "                               \"Word_Count\",\"syllable\",\"Average_Word_Length\"])\n",
    "from textblob import TextBlob\n",
    "# Get The Subjectivity\n",
    "def sentiment_analysis(data):\n",
    "    sentiment = TextBlob(data[\"content\"]).sentiment\n",
    "    return pd.Series([sentiment.polarity,sentiment.subjectivity ])\n",
    "data[[\"polarity\", \"subjectivity\"]] = data.apply(sentiment_analysis, axis=1)\n",
    "data"
   ]
  },
  {
   "cell_type": "code",
   "execution_count": 2,
   "id": "baa89c2f",
   "metadata": {},
   "outputs": [],
   "source": [
    "data.to_csv(r'C:\\Users\\Om Bhandwalkar\\Desktop\\BlackCoffer Assignment\\Output\\url_121.csv')"
   ]
  },
  {
   "cell_type": "code",
   "execution_count": null,
   "id": "fcf61b01",
   "metadata": {},
   "outputs": [],
   "source": []
  }
 ],
 "metadata": {
  "kernelspec": {
   "display_name": "Python 3 (ipykernel)",
   "language": "python",
   "name": "python3"
  },
  "language_info": {
   "codemirror_mode": {
    "name": "ipython",
    "version": 3
   },
   "file_extension": ".py",
   "mimetype": "text/x-python",
   "name": "python",
   "nbconvert_exporter": "python",
   "pygments_lexer": "ipython3",
   "version": "3.9.12"
  }
 },
 "nbformat": 4,
 "nbformat_minor": 5
}
