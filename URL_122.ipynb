{
 "cells": [
  {
   "cell_type": "code",
   "execution_count": 1,
   "id": "e9b5a5ec",
   "metadata": {},
   "outputs": [
    {
     "data": {
      "text/plain": [
       "'Impact of coronavirus on the Indian economy'"
      ]
     },
     "execution_count": 1,
     "metadata": {},
     "output_type": "execute_result"
    }
   ],
   "source": [
    "import requests\n",
    "import pandas as pd \n",
    "from bs4 import BeautifulSoup\n",
    "import string\n",
    "import spacy\n",
    "import re\n",
    "url = \"\"\"https://insights.blackcoffer.com/impact-of-covid-19coronavirus-on-the-indian-economy-2/\"\"\"\n",
    "headers = {\"User-Agent\": \"Mozilla/5.0 (X11; Linux x86_64; rv:60.0) Gecko/20100101 Firefox/60.0\"}\n",
    "page = requests.get(url, headers=headers)\n",
    "soup = BeautifulSoup(page.content, 'html.parser')\n",
    "soup=BeautifulSoup(page.content, 'html.parser')\n",
    "title=soup.find('h1',class_=\"entry-title\")\n",
    "title=title.text.replace('\\n',\" \")\n",
    "title\n"
   ]
  },
  {
   "cell_type": "code",
   "execution_count": 2,
   "id": "17c158dd",
   "metadata": {},
   "outputs": [
    {
     "name": "stdout",
     "output_type": "stream",
     "text": [
      " Nathan Wolfe Impact once said “There are commonalities among all the pandemics that occur and what we can learn from them. One commonality is that it comes from animals and the other one is that we wait too long.” In the year 1720 plague, in the year 1820 cholera outbreak and the most recent pandemic was the Spanish flu of 1920. The researchers said that all of these pandemics above have exactly the same pattern as the coronavirus outbreak. However, the precision with which these pandemics occur at exactly 100 years of age makes us think better about this topic.  Coronavirus disease (COVID-19) is one such infectious disease that has been declared a global pandemic by WHO. Most people infected with the COVID-19 virus experience mild to moderate illness and recover without requiring special treatment.  Older people, and those with underlying medical problems like cardiovascular disease, diabetes, chronic respiratory disease, and cancer are more likely to develop serious illnesses. The best way to prevent and slow down transmission is to be well informed about the COVID-19 virus, the disease it causes and how it spreads. People can protect themselves and others from infection by washing their hands or using an alcohol-based sanitizer frequently and by not touching their face.  The COVID-19 virus spreads primarily through droplets of saliva or discharge from the nose when an infected person coughs or sneezes, so it’s important that you also practice respiratory etiquettes (for example, by coughing into a flexed elbow, etc). At this time, there are no specific vaccines or treatments for COVID-19. However, there are many ongoing clinical trials evaluating potential treatments. The first case of this pandemic in India was reported on January 30th,2020. After which it has increased substantially around the country to such an extent that the Indian Prime Minister announced a 21-day lockdown around the country. Rating agencies, both global and domestic, are unanimous that the COVID-19 pandemic will be an economic tsunami for India. Even though the country may not slip into a recession, unlike the Eurozone, the US, or Asia-Pacific that have stronger trade ties to China, analysts believe the impact on India’s GDP growth will be significant. The fallout of the move will spill over to the financial year 2021, which begins on April 1.  Moody’s Investors Service, on March 27, sharply slashed its projection for India’s GDP growth in the calendar year 2020 from 5.3% to 2.5%. The markdown was the second in 10 days and came after prime minister Narendra Modi announced the 21-day lockdown. In its Global Macro Outlook 2020-21, Moody’s cited severe liquidity constraints in India’s banking and non-banking sectors as a hindrance to growth. The agency’s forecast for the global economy was even more stark—a contraction of 0.5% in the ongoing financial year. “Lower business volumes and occupancies, and sub-optimal efficiencies will impact the profitability of companies. While some affected companies may initiate cost-curtailment measures, these may not be enough given their high fixed costs. That could impair their credit files,” says Subodh Rai, senior director, CRISIL.  Neeraj Kumar, a migrant worker, decided to flee. He and his family joined a throng of people leaving the city soon after the lockdown announcement was made. Public transport systems were stopped, leaving people with no choice but to walk. Mr. Kumar, his wife, and their 10-year-old daughter had already walked more than 40km (24 miles) when we spoke to him. “There is no work here, that is why we are running away. There are no buses, I have to walk another 260km to get to my village,” he said. The situation of workers following the lockdown is no better. Mohammad Alam is one of the thousands of workers standing in a food queue in India’s capital, Delhi. The factory where he worked has shut down after Prime Minister Narendra Modi announced a 21-day lockdown to stop the spread of coronavirus. A daily-wage laborer, he has no other source of income, so he has been forced to come to a government center for food. “I don’t know how I will survive; I will have to borrow to feed my family,” he says. India has announced a $23bn (£18bn) relief package to help people like Mr. Alam and Mr. Kumar who are part of India’s unorganized, informal industry that employs 94% of the population and contributes 45% to its overall output. This industry is already bearing the brunt of the lockdown with thousands of finding themselves unemployed overnight. “No-one will be allowed to go hungry,” Finance Minister Nirmala Sitharaman said while announcing the package – a combination of direct cash transfer benefits and food security measures. But the economic fallout of this unprecedented lockdown has been dire. Businesses have closed, unemployment has risen and productivity has fallen. India’s growth engine was actually sputtering well before the threat of the outbreak arrived. Once one of the fastest-growing economies in the world, its growth slowed to 4.7% last year – the lowest level in six years. Unemployment was at a 45-year high last year. The industrial output from the eight-core sectors at the end of last year fell by 5.2% – the worst in 14 years. Small businesses had only just begun to recover from the controversial 2016 currency ban that came as a body blow to the cash-consuming informal economy. Now, experts say the coronavirus outbreak is likely to further cripple the already frail economy. There is little finance minister Nirmala Sitharaman and RBI governor Shatikanta Das can do if COVID-19 forces a virtual lockdown of commercial hubs in India, like it had done in China and has in Italy. Lights out in Mumbai and Delhi alone, the nerve centers of India, will cause great damage to the Indian economy. Indeed, COVID-19 can be a massive blow to the slowing Indian economy, particularly small business, the SME sector which had recently shown improvement since demonetization took place. This is a war-like situation for the Indian economy as the malls and theatres are empty. Schools are shut for contingencies and some states have even announced a complete shutdown of all services. So while most welcome the government’s measures, they feel much more is needed to be done to minimize the economic impact. “While free extra rations have been sanctioned, how will the poor access what is due to them?” wonders economist Arun Kumar. “The government should devise a way of using the army and state machinery to physically distribute food to the poor.” With thousands of migrant workers stuck miles away from their homes, the seamless distribution of cash and food needs to be the government’s top priority, he adds. And it’s not just migrant workers at risk. Farmers are also vulnerable to a potential economic shock from the lockdown – the agriculture industry contributes nearly $265bn to GDP. The government says it will give farmers 2,000 rupees ($30) in April as an advance payment from an $80 annual pay-out to tide over the situation. “This money will be inadequate because exports have stopped. Prices in cities will rise because of profiteering and in rural areas they will drop because farmers won’t be able to sell their crop,” says economist Arun Kumar. The outbreak has happened at a critical farming time – the new crop is ready, waiting to be sold.  Economists warn India’s challenge will be in transporting this food from villages to cities in the midst of the lockdown. If supply chains don’t work properly, a lot of food will be wasted and lead to massive losses for Indian farmers. Experts warn that India is also at the brink of a major unemployment crisis. Economist Vivek Kaul says people who work for small businesses may end up with job and salary losses. “I know of places where companies are actively discussing how many people they need to fire,” he says and that’s not all.  While no sector is immune to COVID-19 disruption, some are more vulnerable. The tourism industry will see greater disruptions. The World Travel and Tourism Council calculated that tourism generated 9.2% of the GDP and supported 42.673 million jobs. Tourism dependent states like Kerala, Karnataka earn huge forex but if the disease continues many operators will be forced to go out of the business. In the exports industry While the gloom and doom surrounding COVID-19 are palpable, the crisis might also throw up some great opportunities for India. There are already reports of several Western manufacturers looking at moving their factories out of China. Many Indian chemical producers have gone on record at having received inquiries from Western manufacturers who earlier never used to look towards India as a source. Tapping these opportunities, however, will require some serious innovation on the policy front. Indian policymakers need to hunker down and plan economic assistance that will not only help India’s export sector survive the immediate crisis but also retain stability and resume growth in the medium to long-term. With flights suspended until mid-April, the shutdown is also bound to push India’s fast-growing aviation industry into peril. The Centre for Asia Pacific Aviation (CAPA) has assessed that the Indian aviation industry will post losses worth nearly $4bn this year. This will likely have a cascading effect, affecting the hospitality and tourism industries. Hotels and restaurant chains across the country are empty and are likely to remain so for several months, sparking worries of large-scale layoffs. The automobile industry, a key indicator of a country’s economic growth, has also been forced to hit the brakes – experts are estimating losses of nearly $2bn. So, is India’s relief package enough? Experts say it’s a drop in the ocean compared to bailouts in countries such as the US, China and Singapore The stimulus package constituting about 0.8 percent of FY20 GDP, is not at par to address the urgent needs of smaller businesses. Experts say that India definitely needs a larger stimulus package soon to help businesses this extraordinary crisis. Desperate times call for desperate measures. India has done well in containing this dangerous virus but should act swiftly and decisively, to protect its economy. Clearly there is a need for greater fiscal-monetary coordination to ensure an optimal policy response.  Blackcoffer Insights 16:- Manan Batra(Delhi college of Arts and Commerce) and Akshat Mittal(Shri Guru Gobind Singh College Of Commerce,Delhi) \n",
      " Nathan Wolfe Impact once said “There are commonalities among all the pandemics that occur and what we can learn from them One commonality is that it comes from animals and the other one is that we wait too long” In the year 1720 plague in the year 1820 cholera outbreak and the most recent pandemic was the Spanish flu of 1920 The researchers said that all of these pandemics above have exactly the same pattern as the coronavirus outbreak However the precision with which these pandemics occur at exactly 100 years of age makes us think better about this topic  Coronavirus disease COVID19 is one such infectious disease that has been declared a global pandemic by WHO Most people infected with the COVID19 virus experience mild to moderate illness and recover without requiring special treatment  Older people and those with underlying medical problems like cardiovascular disease diabetes chronic respiratory disease and cancer are more likely to develop serious illnesses The best way to prevent and slow down transmission is to be well informed about the COVID19 virus the disease it causes and how it spreads People can protect themselves and others from infection by washing their hands or using an alcoholbased sanitizer frequently and by not touching their face  The COVID19 virus spreads primarily through droplets of saliva or discharge from the nose when an infected person coughs or sneezes so it’s important that you also practice respiratory etiquettes for example by coughing into a flexed elbow etc At this time there are no specific vaccines or treatments for COVID19 However there are many ongoing clinical trials evaluating potential treatments The first case of this pandemic in India was reported on January 30th2020 After which it has increased substantially around the country to such an extent that the Indian Prime Minister announced a 21day lockdown around the country Rating agencies both global and domestic are unanimous that the COVID19 pandemic will be an economic tsunami for India Even though the country may not slip into a recession unlike the Eurozone the US or AsiaPacific that have stronger trade ties to China analysts believe the impact on India’s GDP growth will be significant The fallout of the move will spill over to the financial year 2021 which begins on April 1  Moody’s Investors Service on March 27 sharply slashed its projection for India’s GDP growth in the calendar year 2020 from 53 to 25 The markdown was the second in 10 days and came after prime minister Narendra Modi announced the 21day lockdown In its Global Macro Outlook 202021 Moody’s cited severe liquidity constraints in India’s banking and nonbanking sectors as a hindrance to growth The agency’s forecast for the global economy was even more stark—a contraction of 05 in the ongoing financial year “Lower business volumes and occupancies and suboptimal efficiencies will impact the profitability of companies While some affected companies may initiate costcurtailment measures these may not be enough given their high fixed costs That could impair their credit files” says Subodh Rai senior director CRISIL  Neeraj Kumar a migrant worker decided to flee He and his family joined a throng of people leaving the city soon after the lockdown announcement was made Public transport systems were stopped leaving people with no choice but to walk Mr Kumar his wife and their 10yearold daughter had already walked more than 40km 24 miles when we spoke to him “There is no work here that is why we are running away There are no buses I have to walk another 260km to get to my village” he said The situation of workers following the lockdown is no better Mohammad Alam is one of the thousands of workers standing in a food queue in India’s capital Delhi The factory where he worked has shut down after Prime Minister Narendra Modi announced a 21day lockdown to stop the spread of coronavirus A dailywage laborer he has no other source of income so he has been forced to come to a government center for food “I don’t know how I will survive I will have to borrow to feed my family” he says India has announced a 23bn £18bn relief package to help people like Mr Alam and Mr Kumar who are part of India’s unorganized informal industry that employs 94 of the population and contributes 45 to its overall output This industry is already bearing the brunt of the lockdown with thousands of finding themselves unemployed overnight “Noone will be allowed to go hungry” Finance Minister Nirmala Sitharaman said while announcing the package – a combination of direct cash transfer benefits and food security measures But the economic fallout of this unprecedented lockdown has been dire Businesses have closed unemployment has risen and productivity has fallen India’s growth engine was actually sputtering well before the threat of the outbreak arrived Once one of the fastestgrowing economies in the world its growth slowed to 47 last year – the lowest level in six years Unemployment was at a 45year high last year The industrial output from the eightcore sectors at the end of last year fell by 52 – the worst in 14 years Small businesses had only just begun to recover from the controversial 2016 currency ban that came as a body blow to the cashconsuming informal economy Now experts say the coronavirus outbreak is likely to further cripple the already frail economy There is little finance minister Nirmala Sitharaman and RBI governor Shatikanta Das can do if COVID19 forces a virtual lockdown of commercial hubs in India like it had done in China and has in Italy Lights out in Mumbai and Delhi alone the nerve centers of India will cause great damage to the Indian economy Indeed COVID19 can be a massive blow to the slowing Indian economy particularly small business the SME sector which had recently shown improvement since demonetization took place This is a warlike situation for the Indian economy as the malls and theatres are empty Schools are shut for contingencies and some states have even announced a complete shutdown of all services So while most welcome the government’s measures they feel much more is needed to be done to minimize the economic impact “While free extra rations have been sanctioned how will the poor access what is due to them” wonders economist Arun Kumar “The government should devise a way of using the army and state machinery to physically distribute food to the poor” With thousands of migrant workers stuck miles away from their homes the seamless distribution of cash and food needs to be the government’s top priority he adds And it’s not just migrant workers at risk Farmers are also vulnerable to a potential economic shock from the lockdown – the agriculture industry contributes nearly 265bn to GDP The government says it will give farmers 2000 rupees 30 in April as an advance payment from an 80 annual payout to tide over the situation “This money will be inadequate because exports have stopped Prices in cities will rise because of profiteering and in rural areas they will drop because farmers won’t be able to sell their crop” says economist Arun Kumar The outbreak has happened at a critical farming time – the new crop is ready waiting to be sold  Economists warn India’s challenge will be in transporting this food from villages to cities in the midst of the lockdown If supply chains don’t work properly a lot of food will be wasted and lead to massive losses for Indian farmers Experts warn that India is also at the brink of a major unemployment crisis Economist Vivek Kaul says people who work for small businesses may end up with job and salary losses “I know of places where companies are actively discussing how many people they need to fire” he says and that’s not all  While no sector is immune to COVID19 disruption some are more vulnerable The tourism industry will see greater disruptions The World Travel and Tourism Council calculated that tourism generated 92 of the GDP and supported 42673 million jobs Tourism dependent states like Kerala Karnataka earn huge forex but if the disease continues many operators will be forced to go out of the business In the exports industry While the gloom and doom surrounding COVID19 are palpable the crisis might also throw up some great opportunities for India There are already reports of several Western manufacturers looking at moving their factories out of China Many Indian chemical producers have gone on record at having received inquiries from Western manufacturers who earlier never used to look towards India as a source Tapping these opportunities however will require some serious innovation on the policy front Indian policymakers need to hunker down and plan economic assistance that will not only help India’s export sector survive the immediate crisis but also retain stability and resume growth in the medium to longterm With flights suspended until midApril the shutdown is also bound to push India’s fastgrowing aviation industry into peril The Centre for Asia Pacific Aviation CAPA has assessed that the Indian aviation industry will post losses worth nearly 4bn this year This will likely have a cascading effect affecting the hospitality and tourism industries Hotels and restaurant chains across the country are empty and are likely to remain so for several months sparking worries of largescale layoffs The automobile industry a key indicator of a country’s economic growth has also been forced to hit the brakes – experts are estimating losses of nearly 2bn So is India’s relief package enough Experts say it’s a drop in the ocean compared to bailouts in countries such as the US China and Singapore The stimulus package constituting about 08 percent of FY20 GDP is not at par to address the urgent needs of smaller businesses Experts say that India definitely needs a larger stimulus package soon to help businesses this extraordinary crisis Desperate times call for desperate measures India has done well in containing this dangerous virus but should act swiftly and decisively to protect its economy Clearly there is a need for greater fiscalmonetary coordination to ensure an optimal policy response  Blackcoffer Insights 16 Manan BatraDelhi college of Arts and Commerce and Akshat MittalShri Guru Gobind Singh College Of CommerceDelhi \n",
      "['Nathan', 'Wolfe', 'Impact', 'once', 'said', '“There', 'are', 'commonalities', 'among', 'all', 'the', 'pandemics', 'that', 'occur', 'and', 'what', 'we', 'can', 'learn', 'from', 'them', 'One', 'commonality', 'is', 'that', 'it', 'comes', 'from', 'animals', 'and', 'the', 'other', 'one', 'is', 'that', 'we', 'wait', 'too', 'long”', 'In', 'the', 'year', '1720', 'plague', 'in', 'the', 'year', '1820', 'cholera', 'outbreak', 'and', 'the', 'most', 'recent', 'pandemic', 'was', 'the', 'Spanish', 'flu', 'of', '1920', 'The', 'researchers', 'said', 'that', 'all', 'of', 'these', 'pandemics', 'above', 'have', 'exactly', 'the', 'same', 'pattern', 'as', 'the', 'coronavirus', 'outbreak', 'However', 'the', 'precision', 'with', 'which', 'these', 'pandemics', 'occur', 'at', 'exactly', '100', 'years', 'of', 'age', 'makes', 'us', 'think', 'better', 'about', 'this', 'topic', 'Coronavirus', 'disease', 'COVID19', 'is', 'one', 'such', 'infectious', 'disease', 'that', 'has', 'been', 'declared', 'a', 'global', 'pandemic', 'by', 'WHO', 'Most', 'people', 'infected', 'with', 'the', 'COVID19', 'virus', 'experience', 'mild', 'to', 'moderate', 'illness', 'and', 'recover', 'without', 'requiring', 'special', 'treatment', 'Older', 'people', 'and', 'those', 'with', 'underlying', 'medical', 'problems', 'like', 'cardiovascular', 'disease', 'diabetes', 'chronic', 'respiratory', 'disease', 'and', 'cancer', 'are', 'more', 'likely', 'to', 'develop', 'serious', 'illnesses', 'The', 'best', 'way', 'to', 'prevent', 'and', 'slow', 'down', 'transmission', 'is', 'to', 'be', 'well', 'informed', 'about', 'the', 'COVID19', 'virus', 'the', 'disease', 'it', 'causes', 'and', 'how', 'it', 'spreads', 'People', 'can', 'protect', 'themselves', 'and', 'others', 'from', 'infection', 'by', 'washing', 'their', 'hands', 'or', 'using', 'an', 'alcoholbased', 'sanitizer', 'frequently', 'and', 'by', 'not', 'touching', 'their', 'face', 'The', 'COVID19', 'virus', 'spreads', 'primarily', 'through', 'droplets', 'of', 'saliva', 'or', 'discharge', 'from', 'the', 'nose', 'when', 'an', 'infected', 'person', 'coughs', 'or', 'sneezes', 'so', 'it’s', 'important', 'that', 'you', 'also', 'practice', 'respiratory', 'etiquettes', 'for', 'example', 'by', 'coughing', 'into', 'a', 'flexed', 'elbow', 'etc', 'At', 'this', 'time', 'there', 'are', 'no', 'specific', 'vaccines', 'or', 'treatments', 'for', 'COVID19', 'However', 'there', 'are', 'many', 'ongoing', 'clinical', 'trials', 'evaluating', 'potential', 'treatments', 'The', 'first', 'case', 'of', 'this', 'pandemic', 'in', 'India', 'was', 'reported', 'on', 'January', '30th2020', 'After', 'which', 'it', 'has', 'increased', 'substantially', 'around', 'the', 'country', 'to', 'such', 'an', 'extent', 'that', 'the', 'Indian', 'Prime', 'Minister', 'announced', 'a', '21day', 'lockdown', 'around', 'the', 'country', 'Rating', 'agencies', 'both', 'global', 'and', 'domestic', 'are', 'unanimous', 'that', 'the', 'COVID19', 'pandemic', 'will', 'be', 'an', 'economic', 'tsunami', 'for', 'India', 'Even', 'though', 'the', 'country', 'may', 'not', 'slip', 'into', 'a', 'recession', 'unlike', 'the', 'Eurozone', 'the', 'US', 'or', 'AsiaPacific', 'that', 'have', 'stronger', 'trade', 'ties', 'to', 'China', 'analysts', 'believe', 'the', 'impact', 'on', 'India’s', 'GDP', 'growth', 'will', 'be', 'significant', 'The', 'fallout', 'of', 'the', 'move', 'will', 'spill', 'over', 'to', 'the', 'financial', 'year', '2021', 'which', 'begins', 'on', 'April', '1', 'Moody’s', 'Investors', 'Service', 'on', 'March', '27', 'sharply', 'slashed', 'its', 'projection', 'for', 'India’s', 'GDP', 'growth', 'in', 'the', 'calendar', 'year', '2020', 'from', '53', 'to', '25', 'The', 'markdown', 'was', 'the', 'second', 'in', '10', 'days', 'and', 'came', 'after', 'prime', 'minister', 'Narendra', 'Modi', 'announced', 'the', '21day', 'lockdown', 'In', 'its', 'Global', 'Macro', 'Outlook', '202021', 'Moody’s', 'cited', 'severe', 'liquidity', 'constraints', 'in', 'India’s', 'banking', 'and', 'nonbanking', 'sectors', 'as', 'a', 'hindrance', 'to', 'growth', 'The', 'agency’s', 'forecast', 'for', 'the', 'global', 'economy', 'was', 'even', 'more', 'stark—a', 'contraction', 'of', '05', 'in', 'the', 'ongoing', 'financial', 'year', '“Lower', 'business', 'volumes', 'and', 'occupancies', 'and', 'suboptimal', 'efficiencies', 'will', 'impact', 'the', 'profitability', 'of', 'companies', 'While', 'some', 'affected', 'companies', 'may', 'initiate', 'costcurtailment', 'measures', 'these', 'may', 'not', 'be', 'enough', 'given', 'their', 'high', 'fixed', 'costs', 'That', 'could', 'impair', 'their', 'credit', 'files”', 'says', 'Subodh', 'Rai', 'senior', 'director', 'CRISIL', 'Neeraj', 'Kumar', 'a', 'migrant', 'worker', 'decided', 'to', 'flee', 'He', 'and', 'his', 'family', 'joined', 'a', 'throng', 'of', 'people', 'leaving', 'the', 'city', 'soon', 'after', 'the', 'lockdown', 'announcement', 'was', 'made', 'Public', 'transport', 'systems', 'were', 'stopped', 'leaving', 'people', 'with', 'no', 'choice', 'but', 'to', 'walk', 'Mr', 'Kumar', 'his', 'wife', 'and', 'their', '10yearold', 'daughter', 'had', 'already', 'walked', 'more', 'than', '40km', '24', 'miles', 'when', 'we', 'spoke', 'to', 'him', '“There', 'is', 'no', 'work', 'here', 'that', 'is', 'why', 'we', 'are', 'running', 'away', 'There', 'are', 'no', 'buses', 'I', 'have', 'to', 'walk', 'another', '260km', 'to', 'get', 'to', 'my', 'village”', 'he', 'said', 'The', 'situation', 'of', 'workers', 'following', 'the', 'lockdown', 'is', 'no', 'better', 'Mohammad', 'Alam', 'is', 'one', 'of', 'the', 'thousands', 'of', 'workers', 'standing', 'in', 'a', 'food', 'queue', 'in', 'India’s', 'capital', 'Delhi', 'The', 'factory', 'where', 'he', 'worked', 'has', 'shut', 'down', 'after', 'Prime', 'Minister', 'Narendra', 'Modi', 'announced', 'a', '21day', 'lockdown', 'to', 'stop', 'the', 'spread', 'of', 'coronavirus', 'A', 'dailywage', 'laborer', 'he', 'has', 'no', 'other', 'source', 'of', 'income', 'so', 'he', 'has', 'been', 'forced', 'to', 'come', 'to', 'a', 'government', 'center', 'for', 'food', '“I', 'don’t', 'know', 'how', 'I', 'will', 'survive', 'I', 'will', 'have', 'to', 'borrow', 'to', 'feed', 'my', 'family”', 'he', 'says', 'India', 'has', 'announced', 'a', '23bn', '£18bn', 'relief', 'package', 'to', 'help', 'people', 'like', 'Mr', 'Alam', 'and', 'Mr', 'Kumar', 'who', 'are', 'part', 'of', 'India’s', 'unorganized', 'informal', 'industry', 'that', 'employs', '94', 'of', 'the', 'population', 'and', 'contributes', '45', 'to', 'its', 'overall', 'output', 'This', 'industry', 'is', 'already', 'bearing', 'the', 'brunt', 'of', 'the', 'lockdown', 'with', 'thousands', 'of', 'finding', 'themselves', 'unemployed', 'overnight', '“Noone', 'will', 'be', 'allowed', 'to', 'go', 'hungry”', 'Finance', 'Minister', 'Nirmala', 'Sitharaman', 'said', 'while', 'announcing', 'the', 'package', '–', 'a', 'combination', 'of', 'direct', 'cash', 'transfer', 'benefits', 'and', 'food', 'security', 'measures', 'But', 'the', 'economic', 'fallout', 'of', 'this', 'unprecedented', 'lockdown', 'has', 'been', 'dire', 'Businesses', 'have', 'closed', 'unemployment', 'has', 'risen', 'and', 'productivity', 'has', 'fallen', 'India’s', 'growth', 'engine', 'was', 'actually', 'sputtering', 'well', 'before', 'the', 'threat', 'of', 'the', 'outbreak', 'arrived', 'Once', 'one', 'of', 'the', 'fastestgrowing', 'economies', 'in', 'the', 'world', 'its', 'growth', 'slowed', 'to', '47', 'last', 'year', '–', 'the', 'lowest', 'level', 'in', 'six', 'years', 'Unemployment', 'was', 'at', 'a', '45year', 'high', 'last', 'year', 'The', 'industrial', 'output', 'from', 'the', 'eightcore', 'sectors', 'at', 'the', 'end', 'of', 'last', 'year', 'fell', 'by', '52', '–', 'the', 'worst', 'in', '14', 'years', 'Small', 'businesses', 'had', 'only', 'just', 'begun', 'to', 'recover', 'from', 'the', 'controversial', '2016', 'currency', 'ban', 'that', 'came', 'as', 'a', 'body', 'blow', 'to', 'the', 'cashconsuming', 'informal', 'economy', 'Now', 'experts', 'say', 'the', 'coronavirus', 'outbreak', 'is', 'likely', 'to', 'further', 'cripple', 'the', 'already', 'frail', 'economy', 'There', 'is', 'little', 'finance', 'minister', 'Nirmala', 'Sitharaman', 'and', 'RBI', 'governor', 'Shatikanta', 'Das', 'can', 'do', 'if', 'COVID19', 'forces', 'a', 'virtual', 'lockdown', 'of', 'commercial', 'hubs', 'in', 'India', 'like', 'it', 'had', 'done', 'in', 'China', 'and', 'has', 'in', 'Italy', 'Lights', 'out', 'in', 'Mumbai', 'and', 'Delhi', 'alone', 'the', 'nerve', 'centers', 'of', 'India', 'will', 'cause', 'great', 'damage', 'to', 'the', 'Indian', 'economy', 'Indeed', 'COVID19', 'can', 'be', 'a', 'massive', 'blow', 'to', 'the', 'slowing', 'Indian', 'economy', 'particularly', 'small', 'business', 'the', 'SME', 'sector', 'which', 'had', 'recently', 'shown', 'improvement', 'since', 'demonetization', 'took', 'place', 'This', 'is', 'a', 'warlike', 'situation', 'for', 'the', 'Indian', 'economy', 'as', 'the', 'malls', 'and', 'theatres', 'are', 'empty', 'Schools', 'are', 'shut', 'for', 'contingencies', 'and', 'some', 'states', 'have', 'even', 'announced', 'a', 'complete', 'shutdown', 'of', 'all', 'services', 'So', 'while', 'most', 'welcome', 'the', 'government’s', 'measures', 'they', 'feel', 'much', 'more', 'is', 'needed', 'to', 'be', 'done', 'to', 'minimize', 'the', 'economic', 'impact', '“While', 'free', 'extra', 'rations', 'have', 'been', 'sanctioned', 'how', 'will', 'the', 'poor', 'access', 'what', 'is', 'due', 'to', 'them”', 'wonders', 'economist', 'Arun', 'Kumar', '“The', 'government', 'should', 'devise', 'a', 'way', 'of', 'using', 'the', 'army', 'and', 'state', 'machinery', 'to', 'physically', 'distribute', 'food', 'to', 'the', 'poor”', 'With', 'thousands', 'of', 'migrant', 'workers', 'stuck', 'miles', 'away', 'from', 'their', 'homes', 'the', 'seamless', 'distribution', 'of', 'cash', 'and', 'food', 'needs', 'to', 'be', 'the', 'government’s', 'top', 'priority', 'he', 'adds', 'And', 'it’s', 'not', 'just', 'migrant', 'workers', 'at', 'risk', 'Farmers', 'are', 'also', 'vulnerable', 'to', 'a', 'potential', 'economic', 'shock', 'from', 'the', 'lockdown', '–', 'the', 'agriculture', 'industry', 'contributes', 'nearly', '265bn', 'to', 'GDP', 'The', 'government', 'says', 'it', 'will', 'give', 'farmers', '2000', 'rupees', '30', 'in', 'April', 'as', 'an', 'advance', 'payment', 'from', 'an', '80', 'annual', 'payout', 'to', 'tide', 'over', 'the', 'situation', '“This', 'money', 'will', 'be', 'inadequate', 'because', 'exports', 'have', 'stopped', 'Prices', 'in', 'cities', 'will', 'rise', 'because', 'of', 'profiteering', 'and', 'in', 'rural', 'areas', 'they', 'will', 'drop', 'because', 'farmers', 'won’t', 'be', 'able', 'to', 'sell', 'their', 'crop”', 'says', 'economist', 'Arun', 'Kumar', 'The', 'outbreak', 'has', 'happened', 'at', 'a', 'critical', 'farming', 'time', '–', 'the', 'new', 'crop', 'is', 'ready', 'waiting', 'to', 'be', 'sold', 'Economists', 'warn', 'India’s', 'challenge', 'will', 'be', 'in', 'transporting', 'this', 'food', 'from', 'villages', 'to', 'cities', 'in', 'the', 'midst', 'of', 'the', 'lockdown', 'If', 'supply', 'chains', 'don’t', 'work', 'properly', 'a', 'lot', 'of', 'food', 'will', 'be', 'wasted', 'and', 'lead', 'to', 'massive', 'losses', 'for', 'Indian', 'farmers', 'Experts', 'warn', 'that', 'India', 'is', 'also', 'at', 'the', 'brink', 'of', 'a', 'major', 'unemployment', 'crisis', 'Economist', 'Vivek', 'Kaul', 'says', 'people', 'who', 'work', 'for', 'small', 'businesses', 'may', 'end', 'up', 'with', 'job', 'and', 'salary', 'losses', '“I', 'know', 'of', 'places', 'where', 'companies', 'are', 'actively', 'discussing', 'how', 'many', 'people', 'they', 'need', 'to', 'fire”', 'he', 'says', 'and', 'that’s', 'not', 'all', 'While', 'no', 'sector', 'is', 'immune', 'to', 'COVID19', 'disruption', 'some', 'are', 'more', 'vulnerable', 'The', 'tourism', 'industry', 'will', 'see', 'greater', 'disruptions', 'The', 'World', 'Travel', 'and', 'Tourism', 'Council', 'calculated', 'that', 'tourism', 'generated', '92', 'of', 'the', 'GDP', 'and', 'supported', '42673', 'million', 'jobs', 'Tourism', 'dependent', 'states', 'like', 'Kerala', 'Karnataka', 'earn', 'huge', 'forex', 'but', 'if', 'the', 'disease', 'continues', 'many', 'operators', 'will', 'be', 'forced', 'to', 'go', 'out', 'of', 'the', 'business', 'In', 'the', 'exports', 'industry', 'While', 'the', 'gloom', 'and', 'doom', 'surrounding', 'COVID19', 'are', 'palpable', 'the', 'crisis', 'might', 'also', 'throw', 'up', 'some', 'great', 'opportunities', 'for', 'India', 'There', 'are', 'already', 'reports', 'of', 'several', 'Western', 'manufacturers', 'looking', 'at', 'moving', 'their', 'factories', 'out', 'of', 'China', 'Many', 'Indian', 'chemical', 'producers', 'have', 'gone', 'on', 'record', 'at', 'having', 'received', 'inquiries', 'from', 'Western', 'manufacturers', 'who', 'earlier', 'never', 'used', 'to', 'look', 'towards', 'India', 'as', 'a', 'source', 'Tapping', 'these', 'opportunities', 'however', 'will', 'require', 'some', 'serious', 'innovation', 'on', 'the', 'policy', 'front', 'Indian', 'policymakers', 'need', 'to', 'hunker', 'down', 'and', 'plan', 'economic', 'assistance', 'that', 'will', 'not', 'only', 'help', 'India’s', 'export', 'sector', 'survive', 'the', 'immediate', 'crisis', 'but', 'also', 'retain', 'stability', 'and', 'resume', 'growth', 'in', 'the', 'medium', 'to', 'longterm', 'With', 'flights', 'suspended', 'until', 'midApril', 'the', 'shutdown', 'is', 'also', 'bound', 'to', 'push', 'India’s', 'fastgrowing', 'aviation', 'industry', 'into', 'peril', 'The', 'Centre', 'for', 'Asia', 'Pacific', 'Aviation', 'CAPA', 'has', 'assessed', 'that', 'the', 'Indian', 'aviation', 'industry', 'will', 'post', 'losses', 'worth', 'nearly', '4bn', 'this', 'year', 'This', 'will', 'likely', 'have', 'a', 'cascading', 'effect', 'affecting', 'the', 'hospitality', 'and', 'tourism', 'industries', 'Hotels', 'and', 'restaurant', 'chains', 'across', 'the', 'country', 'are', 'empty', 'and', 'are', 'likely', 'to', 'remain', 'so', 'for', 'several', 'months', 'sparking', 'worries', 'of', 'largescale', 'layoffs', 'The', 'automobile', 'industry', 'a', 'key', 'indicator', 'of', 'a', 'country’s', 'economic', 'growth', 'has', 'also', 'been', 'forced', 'to', 'hit', 'the', 'brakes', '–', 'experts', 'are', 'estimating', 'losses', 'of', 'nearly', '2bn', 'So', 'is', 'India’s', 'relief', 'package', 'enough', 'Experts', 'say', 'it’s', 'a', 'drop', 'in', 'the', 'ocean', 'compared', 'to', 'bailouts', 'in', 'countries', 'such', 'as', 'the', 'US', 'China', 'and', 'Singapore', 'The', 'stimulus', 'package', 'constituting', 'about', '08', 'percent', 'of', 'FY20', 'GDP', 'is', 'not', 'at', 'par', 'to', 'address', 'the', 'urgent', 'needs', 'of', 'smaller', 'businesses', 'Experts', 'say', 'that', 'India', 'definitely', 'needs', 'a', 'larger', 'stimulus', 'package', 'soon', 'to', 'help', 'businesses', 'this', 'extraordinary', 'crisis', 'Desperate', 'times', 'call', 'for', 'desperate', 'measures', 'India', 'has', 'done', 'well', 'in', 'containing', 'this', 'dangerous', 'virus', 'but', 'should', 'act', 'swiftly', 'and', 'decisively', 'to', 'protect', 'its', 'economy', 'Clearly', 'there', 'is', 'a', 'need', 'for', 'greater', 'fiscalmonetary', 'coordination', 'to', 'ensure', 'an', 'optimal', 'policy', 'response', 'Blackcoffer', 'Insights', '16', 'Manan', 'BatraDelhi', 'college', 'of', 'Arts', 'and', 'Commerce', 'and', 'Akshat', 'MittalShri', 'Guru', 'Gobind', 'Singh', 'College', 'Of', 'CommerceDelhi']\n"
     ]
    }
   ],
   "source": [
    "content=soup.findAll(attrs={'class':'td-post-content'})\n",
    "content=content[0].text.replace('\\n',\" \")\n",
    "print(content)\n",
    "#Punctuation\n",
    "content = content.translate(str.maketrans('', '', string.punctuation)) \n",
    "print(content)\n",
    "text = content.split()\n",
    "print(text)\n"
   ]
  },
  {
   "cell_type": "code",
   "execution_count": 3,
   "id": "d6279ab2",
   "metadata": {},
   "outputs": [
    {
     "data": {
      "text/plain": [
       "1713"
      ]
     },
     "execution_count": 3,
     "metadata": {},
     "output_type": "execute_result"
    }
   ],
   "source": [
    "len(text)"
   ]
  },
  {
   "cell_type": "code",
   "execution_count": 4,
   "id": "9e31380c",
   "metadata": {},
   "outputs": [
    {
     "name": "stdout",
     "output_type": "stream",
     "text": [
      "43\n"
     ]
    }
   ],
   "source": [
    "#Positive Score \n",
    "with open(r\"C:\\Users\\Om Bhandwalkar\\Desktop\\pos\\positive-words.txt\") as pos:\n",
    "    poswords = pos.read().split(\"\\n\")  \n",
    "    poswords = poswords[5:]\n",
    "pos_count = \" \".join ([w for w in text if w in poswords])\n",
    "pos_count=pos_count.split(\" \")\n",
    "Positive_score=len(pos_count)\n",
    "print(Positive_score)"
   ]
  },
  {
   "cell_type": "code",
   "execution_count": 5,
   "id": "c5e82267",
   "metadata": {},
   "outputs": [
    {
     "name": "stdout",
     "output_type": "stream",
     "text": [
      "65\n"
     ]
    }
   ],
   "source": [
    "#Negative Score\n",
    "with open(r\"C:\\Users\\Om Bhandwalkar\\Desktop\\pos\\negative-words.txt\",encoding =\"ISO-8859-1\") as neg:\n",
    "    negwords = neg.read().split(\"\\n\")\n",
    "    \n",
    "negwords = negwords[36:]\n",
    "neg_count = \" \".join ([w for w in text if w in negwords])\n",
    "neg_count=neg_count.split(\" \")\n",
    "Negative_score=len(neg_count)\n",
    "print(Negative_score)"
   ]
  },
  {
   "cell_type": "code",
   "execution_count": 6,
   "id": "30036f47",
   "metadata": {},
   "outputs": [
    {
     "data": {
      "text/html": [
       "<div>\n",
       "<style scoped>\n",
       "    .dataframe tbody tr th:only-of-type {\n",
       "        vertical-align: middle;\n",
       "    }\n",
       "\n",
       "    .dataframe tbody tr th {\n",
       "        vertical-align: top;\n",
       "    }\n",
       "\n",
       "    .dataframe thead th {\n",
       "        text-align: right;\n",
       "    }\n",
       "</style>\n",
       "<table border=\"1\" class=\"dataframe\">\n",
       "  <thead>\n",
       "    <tr style=\"text-align: right;\">\n",
       "      <th></th>\n",
       "      <th>url</th>\n",
       "      <th>title</th>\n",
       "      <th>content</th>\n",
       "      <th>filter_content</th>\n",
       "      <th>Positive_Score</th>\n",
       "      <th>Negative_Score</th>\n",
       "      <th>polarity</th>\n",
       "      <th>subjectivity</th>\n",
       "    </tr>\n",
       "  </thead>\n",
       "  <tbody>\n",
       "    <tr>\n",
       "      <th>0</th>\n",
       "      <td>https://insights.blackcoffer.com/impact-of-cov...</td>\n",
       "      <td>Impact of coronavirus on the Indian economy</td>\n",
       "      <td>Nathan Wolfe Impact once said “There are comm...</td>\n",
       "      <td>Nathan Wolfe Impact once said “There are commo...</td>\n",
       "      <td>43</td>\n",
       "      <td>65</td>\n",
       "      <td>0.071811</td>\n",
       "      <td>0.433382</td>\n",
       "    </tr>\n",
       "  </tbody>\n",
       "</table>\n",
       "</div>"
      ],
      "text/plain": [
       "                                                 url  \\\n",
       "0  https://insights.blackcoffer.com/impact-of-cov...   \n",
       "\n",
       "                                         title  \\\n",
       "0  Impact of coronavirus on the Indian economy   \n",
       "\n",
       "                                             content  \\\n",
       "0   Nathan Wolfe Impact once said “There are comm...   \n",
       "\n",
       "                                      filter_content  Positive_Score  \\\n",
       "0  Nathan Wolfe Impact once said “There are commo...              43   \n",
       "\n",
       "   Negative_Score  polarity  subjectivity  \n",
       "0              65  0.071811      0.433382  "
      ]
     },
     "execution_count": 6,
     "metadata": {},
     "output_type": "execute_result"
    }
   ],
   "source": [
    "filter_content = ' '.join(text)\n",
    "data=[[url,title,content,filter_content,Positive_score,Negative_score]]\n",
    "data=pd.DataFrame(data,columns=[\"url\",\"title\",\"content\",\"filter_content\",\"Positive_Score\",\"Negative_Score\"])\n",
    "from textblob import TextBlob\n",
    "# Get The Subjectivity\n",
    "def sentiment_analysis(data):\n",
    "    sentiment = TextBlob(data[\"content\"]).sentiment\n",
    "    return pd.Series([sentiment.polarity,sentiment.subjectivity ])\n",
    "\n",
    "# Adding Subjectivity & Polarity\n",
    "data[[\"polarity\", \"subjectivity\"]] = data.apply(sentiment_analysis, axis=1)\n",
    "\n",
    "data"
   ]
  },
  {
   "cell_type": "code",
   "execution_count": 7,
   "id": "ffb22475",
   "metadata": {},
   "outputs": [
    {
     "name": "stdout",
     "output_type": "stream",
     "text": [
      "Word average = 8566.0\n",
      "FOG INDEX =  686.53\n",
      "Average no of words per sentence\n",
      "1713.0\n",
      "Complex Words 2994\n"
     ]
    }
   ],
   "source": [
    "#AVG SENTENCE LENGTH\n",
    "AVG_SENTENCE_LENGTH = len(content.replace(' ',''))/len(re.split(r'[?!.]', content))\n",
    "print('Word average =', AVG_SENTENCE_LENGTH)\n",
    "import textstat\n",
    "#Fog index \n",
    "FOG_INDEX=(textstat.gunning_fog(content))\n",
    "print(\"FOG INDEX = \",FOG_INDEX)\n",
    "#Average No of Words Per Sentence \n",
    "AVG_NUMBER_OF_WORDS_PER_SENTENCE = [len(l.split()) for l in re.split(r'[?!.]', content) if l.strip()]\n",
    "print(\"Average no of words per sentence\")\n",
    "AVG_NUMBER_OF_WORDS_PER_SENTENCE=print(sum(AVG_NUMBER_OF_WORDS_PER_SENTENCE)/len(AVG_NUMBER_OF_WORDS_PER_SENTENCE))\n",
    "#Complex words\n",
    "def syllable_count(word):\n",
    "    count = 0\n",
    "    vowels = \"AEIOUYaeiouy\"\n",
    "    if word[0] in vowels:\n",
    "        count += 1\n",
    "    for index in range(1, len(word)): \n",
    "        if word[index] in vowels and word[index - 1] not in vowels:\n",
    "            count += 1\n",
    "            if word.endswith(\"es\"or \"ed\"):\n",
    "                count -= 1\n",
    "    if count == 0:\n",
    "        count += 1\n",
    "    return count\n",
    "\n",
    "\n",
    "\n",
    "COMPLEX_WORDS=syllable_count(content)\n",
    "print(\"Complex Words\",COMPLEX_WORDS)\n"
   ]
  },
  {
   "cell_type": "code",
   "execution_count": 8,
   "id": "08310c80",
   "metadata": {},
   "outputs": [
    {
     "name": "stdout",
     "output_type": "stream",
     "text": [
      "Word Count 10283\n",
      "Percentage of Complex Words 29.116016726636197\n",
      "Average Word per Length 5.000583771161705\n",
      "The AVG number of syllables in the word is: \n",
      "1.9795680093403385\n",
      "Word Count 10283\n",
      "Percentage of Complex Words 29.116016726636197\n",
      "Average Word per Length 5.000583771161705\n",
      "The AVG number of syllables in the word is: \n",
      "1.9795680093403385\n"
     ]
    }
   ],
   "source": [
    "#Word Count\n",
    "Word_Count=len(content)\n",
    "print(\"Word Count\",Word_Count)\n",
    "#Percentage Complex Words\n",
    "pcw=(COMPLEX_WORDS/Word_Count)*100\n",
    "print(\"Percentage of Complex Words\",pcw)\n",
    "#Average Word Length\n",
    "Average_Word_Length=len(content.replace(' ',''))/len(content.split())\n",
    "print(\"Average Word per Length\",Average_Word_Length)\n",
    "#Syllable Count Per Word\n",
    "word=content.replace(' ','')\n",
    "syllable_count=0\n",
    "for w in word:\n",
    "      if(w=='a' or w=='e' or w=='i' or w=='o' or w=='y' or w=='u' or w=='A' or w=='E' or w=='I' or w=='O' or w=='U' or w=='Y'):\n",
    "            syllable_count=syllable_count+1\n",
    "print(\"The AVG number of syllables in the word is: \")\n",
    "print(syllable_count/len(content.split()))#Word Count\n",
    "Word_Count=len(content)\n",
    "print(\"Word Count\",Word_Count)\n",
    "#Percentage Complex Words\n",
    "pcw=(COMPLEX_WORDS/Word_Count)*100\n",
    "print(\"Percentage of Complex Words\",pcw)\n",
    "#Average Word Length\n",
    "Average_Word_Length=len(content.replace(' ',''))/len(content.split())\n",
    "print(\"Average Word per Length\",Average_Word_Length)\n",
    "#Syllable Count Per Word\n",
    "word=content.replace(' ','')\n",
    "syllable_count=0\n",
    "for w in word:\n",
    "      if(w=='a' or w=='e' or w=='i' or w=='o' or w=='y' or w=='u' or w=='A' or w=='E' or w=='I' or w=='O' or w=='U' or w=='Y'):\n",
    "            syllable_count=syllable_count+1\n",
    "print(\"The AVG number of syllables in the word is: \")\n",
    "print(syllable_count/len(content.split()))"
   ]
  },
  {
   "cell_type": "code",
   "execution_count": 1,
   "id": "d49f9b03",
   "metadata": {},
   "outputs": [
    {
     "name": "stdout",
     "output_type": "stream",
     "text": [
      "43\n",
      "65\n",
      "Word average = 8566.0\n",
      "FOG INDEX =  686.53\n",
      "Average no of words per sentence\n",
      "1713.0\n",
      "Complex Words 2994\n",
      "Word Count 10284\n",
      "Percentage of Complex Words 29.11318553092182\n",
      "Average Word per Length 5.000583771161705\n",
      "The AVG number of syllables in the word is: \n",
      "1.9795680093403385\n"
     ]
    },
    {
     "data": {
      "text/html": [
       "<div>\n",
       "<style scoped>\n",
       "    .dataframe tbody tr th:only-of-type {\n",
       "        vertical-align: middle;\n",
       "    }\n",
       "\n",
       "    .dataframe tbody tr th {\n",
       "        vertical-align: top;\n",
       "    }\n",
       "\n",
       "    .dataframe thead th {\n",
       "        text-align: right;\n",
       "    }\n",
       "</style>\n",
       "<table border=\"1\" class=\"dataframe\">\n",
       "  <thead>\n",
       "    <tr style=\"text-align: right;\">\n",
       "      <th></th>\n",
       "      <th>url</th>\n",
       "      <th>title</th>\n",
       "      <th>content</th>\n",
       "      <th>filter_content</th>\n",
       "      <th>Positive_Score</th>\n",
       "      <th>Negative_Score</th>\n",
       "      <th>Avg_Sentence_Length</th>\n",
       "      <th>Percentage_Complex_Word</th>\n",
       "      <th>Fog_Index</th>\n",
       "      <th>AVG_NUMBER_OF_WORDS_PER_SENTENCE</th>\n",
       "      <th>COMPLEX_WORDS</th>\n",
       "      <th>Word_Count</th>\n",
       "      <th>syllable</th>\n",
       "      <th>Average_Word_Length</th>\n",
       "      <th>polarity</th>\n",
       "      <th>subjectivity</th>\n",
       "    </tr>\n",
       "  </thead>\n",
       "  <tbody>\n",
       "    <tr>\n",
       "      <th>0</th>\n",
       "      <td>https://insights.blackcoffer.com/impact-of-cov...</td>\n",
       "      <td>Impact of coronavirus on the Indian economy</td>\n",
       "      <td>Nathan Wolfe Impact once said “There are com...</td>\n",
       "      <td>Nathan Wolfe Impact once said “There are commo...</td>\n",
       "      <td>43</td>\n",
       "      <td>65</td>\n",
       "      <td>8566.0</td>\n",
       "      <td>29.113186</td>\n",
       "      <td>686.53</td>\n",
       "      <td>1713.0</td>\n",
       "      <td>2994</td>\n",
       "      <td>10284</td>\n",
       "      <td>1.979568</td>\n",
       "      <td>5.000584</td>\n",
       "      <td>0.071811</td>\n",
       "      <td>0.433382</td>\n",
       "    </tr>\n",
       "  </tbody>\n",
       "</table>\n",
       "</div>"
      ],
      "text/plain": [
       "                                                 url  \\\n",
       "0  https://insights.blackcoffer.com/impact-of-cov...   \n",
       "\n",
       "                                         title  \\\n",
       "0  Impact of coronavirus on the Indian economy   \n",
       "\n",
       "                                             content  \\\n",
       "0    Nathan Wolfe Impact once said “There are com...   \n",
       "\n",
       "                                      filter_content  Positive_Score  \\\n",
       "0  Nathan Wolfe Impact once said “There are commo...              43   \n",
       "\n",
       "   Negative_Score  Avg_Sentence_Length  Percentage_Complex_Word  Fog_Index  \\\n",
       "0              65               8566.0                29.113186     686.53   \n",
       "\n",
       "    AVG_NUMBER_OF_WORDS_PER_SENTENCE  COMPLEX_WORDS  Word_Count  syllable  \\\n",
       "0                             1713.0           2994       10284  1.979568   \n",
       "\n",
       "   Average_Word_Length  polarity  subjectivity  \n",
       "0             5.000584  0.071811      0.433382  "
      ]
     },
     "execution_count": 1,
     "metadata": {},
     "output_type": "execute_result"
    }
   ],
   "source": [
    "import requests\n",
    "import pandas as pd \n",
    "from bs4 import BeautifulSoup\n",
    "import string\n",
    "import spacy\n",
    "import re\n",
    "url = \"\"\"https://insights.blackcoffer.com/impact-of-covid-19coronavirus-on-the-indian-economy-2/\"\"\"\n",
    "headers = {\"User-Agent\": \"Mozilla/5.0 (X11; Linux x86_64; rv:60.0) Gecko/20100101 Firefox/60.0\"}\n",
    "page = requests.get(url, headers=headers)\n",
    "soup = BeautifulSoup(page.content, 'html.parser')\n",
    "soup=BeautifulSoup(page.content, 'html.parser')\n",
    "title=soup.find('h1',class_=\"entry-title\")\n",
    "title=title.text.replace('\\n',\" \")\n",
    "# title\n",
    "\n",
    "content=soup.findAll(attrs={'class':'td-post-content'})\n",
    "content=content[0].text.replace('\\n',\" \")\n",
    "# print(content)\n",
    "#Punctuation\n",
    "content = content.translate(str.maketrans('', '', string.punctuation)) \n",
    "# print(content)\n",
    "text = content.split()\n",
    "# print(text)\n",
    "len(text)\n",
    "#Positive Score \n",
    "with open(r\"C:\\Users\\Om Bhandwalkar\\Desktop\\pos\\positive-words.txt\") as pos:\n",
    "    poswords = pos.read().split(\"\\n\")  \n",
    "    poswords = poswords[5:]\n",
    "pos_count = \" \".join ([w for w in text if w in poswords])\n",
    "pos_count=pos_count.split(\" \")\n",
    "Positive_score=len(pos_count)\n",
    "print(Positive_score)\n",
    "\n",
    "#Negative Score\n",
    "with open(r\"C:\\Users\\Om Bhandwalkar\\Desktop\\pos\\negative-words.txt\",encoding =\"ISO-8859-1\") as neg:\n",
    "    negwords = neg.read().split(\"\\n\")\n",
    "    \n",
    "negwords = negwords[36:]\n",
    "neg_count = \" \".join ([w for w in text if w in negwords])\n",
    "neg_count=neg_count.split(\" \")\n",
    "Negative_score=len(neg_count)\n",
    "print(Negative_score)\n",
    "\n",
    "\n",
    "filter_content = ' '.join(text)\n",
    "data=[[url,title,content,filter_content,Positive_score,Negative_score]]\n",
    "data=pd.DataFrame(data,columns=[\"url\",\"title\",\"content\",\"filter_content\",\"Positive_Score\",\"Negative_Score\"])\n",
    "from textblob import TextBlob\n",
    "# Get The Subjectivity\n",
    "def sentiment_analysis(data):\n",
    "    sentiment = TextBlob(data[\"content\"]).sentiment\n",
    "    return pd.Series([sentiment.polarity,sentiment.subjectivity ])\n",
    "data[[\"polarity\", \"subjectivity\"]] = data.apply(sentiment_analysis, axis=1)\n",
    "data\n",
    "#AVG SENTENCE LENGTH\n",
    "AVG_SENTENCE_LENGTH = len(content.replace(' ',''))/len(re.split(r'[?!.]', content))\n",
    "print('Word average =', AVG_SENTENCE_LENGTH)\n",
    "import textstat\n",
    "#Fog index \n",
    "FOG_INDEX=(textstat.gunning_fog(content))\n",
    "print(\"FOG INDEX = \",FOG_INDEX)\n",
    "#Average No of Words Per Sentence \n",
    "AVG_NUMBER_OF_WORDS_PER_SENTENCE = [len(l.split()) for l in re.split(r'[?!.]', content) if l.strip()]\n",
    "print(\"Average no of words per sentence\")\n",
    "AVG_NUMBER_OF_WORDS_PER_SENTENCE=(sum(AVG_NUMBER_OF_WORDS_PER_SENTENCE)/len(AVG_NUMBER_OF_WORDS_PER_SENTENCE))\n",
    "print(AVG_NUMBER_OF_WORDS_PER_SENTENCE)\n",
    "#Complex words\n",
    "def syllable_count(word):\n",
    "    count = 0\n",
    "    vowels = \"AEIOUYaeiouy\"\n",
    "    if word[0] in vowels:\n",
    "        count += 1\n",
    "    for index in range(1, len(word)): \n",
    "        if word[index] in vowels and word[index - 1] not in vowels:\n",
    "            count += 1\n",
    "            if word.endswith(\"es\"or \"ed\"):\n",
    "                count -= 1\n",
    "    if count == 0:\n",
    "        count += 1\n",
    "    return count\n",
    "\n",
    "\n",
    "\n",
    "COMPLEX_WORDS=syllable_count(content)\n",
    "print(\"Complex Words\",COMPLEX_WORDS)\n",
    "#Word Count\n",
    "Word_Count=len(content)\n",
    "print(\"Word Count\",Word_Count)\n",
    "#Percentage Complex Words\n",
    "pcw=(COMPLEX_WORDS/Word_Count)*100\n",
    "print(\"Percentage of Complex Words\",pcw)\n",
    "#Average Word Length\n",
    "Average_Word_Length=len(content.replace(' ',''))/len(content.split())\n",
    "print(\"Average Word per Length\",Average_Word_Length)\n",
    "#Syllable Count Per Word\n",
    "word=content.replace(' ','')\n",
    "syllable_count=0\n",
    "for w in word:\n",
    "      if(w=='a' or w=='e' or w=='i' or w=='o' or w=='y' or w=='u' or w=='A' or w=='E' or w=='I' or w=='O' or w=='U' or w=='Y'):\n",
    "            syllable_count=syllable_count+1\n",
    "print(\"The AVG number of syllables in the word is: \")\n",
    "syllable = (syllable_count/len(content.split()))\n",
    "print(syllable)\n",
    "\n",
    "data = [[url,title,content,filter_content,Positive_score,Negative_score,AVG_SENTENCE_LENGTH,pcw,FOG_INDEX,\n",
    "         AVG_NUMBER_OF_WORDS_PER_SENTENCE,COMPLEX_WORDS,Word_Count,syllable,Average_Word_Length]]\n",
    "data=pd.DataFrame(data,columns=[\"url\",\"title\",\"content\",\"filter_content\",\"Positive_Score\",\"Negative_Score\",\"Avg_Sentence_Length\"\n",
    "                               ,\"Percentage_Complex_Word\",\"Fog_Index\",\" AVG_NUMBER_OF_WORDS_PER_SENTENCE\",\"COMPLEX_WORDS\",\n",
    "                               \"Word_Count\",\"syllable\",\"Average_Word_Length\"])\n",
    "from textblob import TextBlob\n",
    "# Get The Subjectivity\n",
    "def sentiment_analysis(data):\n",
    "    sentiment = TextBlob(data[\"content\"]).sentiment\n",
    "    return pd.Series([sentiment.polarity,sentiment.subjectivity ])\n",
    "data[[\"polarity\", \"subjectivity\"]] = data.apply(sentiment_analysis, axis=1)\n",
    "data"
   ]
  },
  {
   "cell_type": "code",
   "execution_count": 2,
   "id": "f7fb7432",
   "metadata": {},
   "outputs": [],
   "source": [
    "data.to_csv(r'C:\\Users\\Om Bhandwalkar\\Desktop\\BlackCoffer Assignment\\Output\\url_122.csv')"
   ]
  },
  {
   "cell_type": "code",
   "execution_count": null,
   "id": "11243cf8",
   "metadata": {},
   "outputs": [],
   "source": []
  }
 ],
 "metadata": {
  "kernelspec": {
   "display_name": "Python 3 (ipykernel)",
   "language": "python",
   "name": "python3"
  },
  "language_info": {
   "codemirror_mode": {
    "name": "ipython",
    "version": 3
   },
   "file_extension": ".py",
   "mimetype": "text/x-python",
   "name": "python",
   "nbconvert_exporter": "python",
   "pygments_lexer": "ipython3",
   "version": "3.9.12"
  }
 },
 "nbformat": 4,
 "nbformat_minor": 5
}
