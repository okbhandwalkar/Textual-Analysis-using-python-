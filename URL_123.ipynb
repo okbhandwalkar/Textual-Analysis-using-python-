{
 "cells": [
  {
   "cell_type": "code",
   "execution_count": 1,
   "id": "fa8aa636",
   "metadata": {},
   "outputs": [
    {
     "data": {
      "text/plain": [
       "'Global Economy effected by Coronavirus'"
      ]
     },
     "execution_count": 1,
     "metadata": {},
     "output_type": "execute_result"
    }
   ],
   "source": [
    "import requests\n",
    "import pandas as pd \n",
    "from bs4 import BeautifulSoup\n",
    "import string\n",
    "import spacy\n",
    "import re\n",
    "url = \"\"\"https://insights.blackcoffer.com/impact-of-covid-19-on-the-global-economy-2/\"\"\"\n",
    "headers = {\"User-Agent\": \"Mozilla/5.0 (X11; Linux x86_64; rv:60.0) Gecko/20100101 Firefox/60.0\"}\n",
    "page = requests.get(url, headers=headers)\n",
    "soup = BeautifulSoup(page.content, 'html.parser')\n",
    "soup=BeautifulSoup(page.content, 'html.parser')\n",
    "title=soup.find('h1',class_=\"entry-title\")\n",
    "title=title.text.replace('\\n',\" \")\n",
    "title\n"
   ]
  },
  {
   "cell_type": "code",
   "execution_count": 2,
   "id": "4f5c3c2a",
   "metadata": {},
   "outputs": [
    {
     "name": "stdout",
     "output_type": "stream",
     "text": [
      " INTRODUCTION Coronavirus disease  (COVID-19)  is an infectious disease caused by a  newly discovered coronavirus. Most people infected with this COVID-19 virus will experience mild to moderate respiratory disease and recover without requiring special treatment. Older age people and those with underlying medical problems like cardiovascular disease, diabetes, chronic respiratory disease, and cancer are more likely to develop serious illness. The best way to prevent and slow down transmission is well informed about the COVID-19  virus,  the disease it causes and how it spreads.  Protect yourself and others from infection by washing your hands or using an alcohol-based rub frequently and not touching your face. The  COVID-19  virus spreads primarily through droplets of saliva or discharges from the nose when an infected person suffering from coughs or sneezes, so it is important that you also practice respiratory etiquette  (for example,  by coughing into a flexed elbow). At this time, there are no specific vaccines or treatments for this virus. However, there are many ongoing clinical trials calculating potential treatments. Which will continue to provide regular basis information as soon as clinical findings become available IMPACT The emergence of COVID-19 is a tragic public-health emergency. The disease, one hopes, will be brought under control quickly, but the International Monetary Fund is already warning that economic growth in  China may slow.  As we watch the situation unfold, three broader risks to the global economy are also becoming more apparent and clear. The first risk is obviously in China itself. While the precise origins of the disease remain unclear, it is hard to take a definite view on whether outbreaks of this kind could be avoided – for example, by better control over hygiene in food markets. But it is painfully obvious that a lack of transparency in China has contributed to fear and even signs of panic around the world. As financial markets go down in 2007-2008, when the precise incidence of big risks is not well understood, people tend to assume the worse. Rapidly falling asset prices may not contain much information–except that there is not much information to be had. The Chinese authorities surely do not have all the answers at this point, but their inclination to suppress data and interpretation is tremendously unhelpful. Second, the lack of American leadership is more painfully apparent every day. The United States has the strongest medical-health system and facilities in the world, with the capacity for research and development  (government and private)  that is second to none.  Yet  President  Donald  Trump’s administration seems to be concerned primarily with playing down the risks while keeping the virus out of the United States of America – a nearly impossible task. The private sector is working hard on a  vaccine,  and this is commendable. Unfortunately,  over a  longer period of time,  the lack of a  consistent market for such vaccines has undermined investment in this sector. By creating the world’s largest market for many drugs, the US effectively supports research across a wide range of ailments – but only those for which there is large and steady demand in the US. Even the most fervent believer in  Trump’s  “America  First”  must be willing to concede that it is not in America’s interest for the rest of the world to become sick. These are US allies, friends, and customers. Also, like it or not, few diseases will stop at  America’s borders.  Indeed,  the  US  Centers for  Disease  Control and Prevention (CDC) has said that the question is not if, but rather when, COVID-19 spreads domestically. The third risk is in emerging markets and developing countries. Poorer countries are ill-equipped to deal with this kind of disease,  as seen in  African countries’ refusal to airlift their citizens from China. The news that the coronavirus has reached  Italy has shaken world financial markets,  but  Italy is a  relatively well-organized and rich country. A vibrant democracy ensures that people will quickly understand if containment and treatment measures are working. We should be much more concerned about other countries, where nutrition is worse, housing standards are weak, and disease transmission can occur much more readily. If these countries’ health systems come under pressure, the US, Europe, and others should step up quickly with technical assistance and essential supplies. But here, too, there is so far a worrying lack of leadership. It seems unlikely that this disease will prove to be as deadly as some of those that our ancestors experienced. Medical practice and public health have advanced a great deal. The  CDC  is an outstanding organization,  and the  World  Health Organization has a  strong track record when the chips are down. Private-sector groups of dedicated doctors and nurses have performed extraordinarily well under the most difficult circumstances, such as dealing with Ebola, when they are given a chance. We are fortunate to live in an age that has so many heroic people. Still, this coronavirus is a warning. Societies neglect access to health-care systems and reduce investments in Research and development at great peril. Diseases are always evolving, and we must continually increase our capacity to understand and fight newly emerging threats. The best way forward is by strengthening science, training more scientists, and building more labs. Countries that are able to do this like the US should share ideas and knowledge as widely as possible. Investing more in science is an appealing economic proposition. Given very high rates  of  social  return, basic  research  across a wide range of  activities more  than pays for itself But this is not about economics. More likely than not, one day a scientist will save your life or the life of a loved one because his or her previous work produced a drug, treatment, or just an idea that made a critical difference. We should invest in scientists to save ourselves and our neighbors. Also, we must remember that we have neighbors all over our deeply interconnected world. Global shares take a hit Big shifts in stock markets,  where shares in companies are bought and sold,  can affect many investments in pensions or individual savings accounts (ISAs). The FTSE, Dow Jones Industrial Average and the Nikkei have all seen huge falls since the outbreak began on 31 December. The Dow and the FTSE recently saw their biggest one-day declines since 1987.  Investors fear the spread of the coronavirus will destroy economic growth and that government action may not be enough to stop the decline. In response, central banks in many countries, including the United Kingdom, have slashed interest rates. That should, in theory, make borrowing cheaper and encourage spending to boost the economy. Global markets did also recover some ground after the US Senate passed a $2 trillion (£1.7tn) coronavirus aid bill to help workers and businesses. But some analysts have warned that they could be volatile until the pandemic is contained. INDIAN ECONOMY India faces a sharp decline in government revenues and economic growth for at least two quarters as the coronavirus hits economic activity and a fall in investor sentiment impacts privatization plans,  government and industry sources said. Officially, the government is still sticking to the target of achieving 6-6.5% in the next financial year beginning  April, while hoping that a  fall in crude oil prices could help it garner more revenue and contain a  fall in revenue from other sectors but economists and bankers are turning increasingly downbeat about India’s economic prospects, especially as the government is betting on filling its coffers through ill-timed asset sales. We are going to miss the revised revenue targets for the current fiscal year, and will have to lower next year’s targets as well,” said a senior government official with direct knowledge of budget estimates. He said receipts from much-delayed privatization of  India’s second-biggest oil refiner, Bharat Petroleum Corp, could be lower by at least $2 billion against initial estimates. The company’s share prices have fallen by over 27% since January while the broader  NSE  Nifty 50 index has fallen by nearly  20%  following a  panic in global markets. On Wednesday, the government suspended almost all visas to the country till April 15  to prevent the spread of coronavirus as cases across the region continue to rise. Total cases in the country rose to 73 on Thursday, according to the government. Another senior finance ministry official said some of the proposed share-shale plans in companies like Coal  India, Steel Authority of  India  Ltd (SAIL), NMDC and IRCON have been deferred. The government now expects to raise about Rs 50,000 crore ($6.75 billion) against the downwardly revised target of Rs 65,000  crore for the ongoing financial year ending in  March, the official said. Another senior official in the tax department said receipts have been hit due to a fall in consumer demand as reflected in the lower sales of autos, passenger traffic, hotel bookings, and retail sales. Tour  operators  estimate  January-March  quarter earnings could  fall  by  more  than 60%  from a  year ago as hundreds of thousands of tourists cancel travel,  hitting hotels,  airlines and tax collection for the federal and state governments. India attracts nearly one million foreign tourists a month, and the travel restrictions could impact for the next few months. The situation in India was still far better compared to some other countries hit by a global pandemic, Sarkar said. India annually earns nearly  $30  billion from foreign tourist arrivals,  and the industry is worried that a global spread of the virus will harm already weakened economic growth.  As this situation will take time to recover and economy not only of India but globally is in a recession it up to government how they come up with their measure. If we look at recent action of US FED and other countries step it took a thought that this pressure is deeper than it looks like and this situation is very different than that happen in 2008 crisis or that in 1998 as that time none of the factories are closed but this time work has been stoped and more importantly economy from past 1 year is facing slow down in many sectors so this will impact small companies badly. But if we think in another way there will be a shift in a lot of pattern like people will now go for short term investment in the stock market due to uncertainty of life, Insurance stocks will be benefited, logistics & distribution network will totally change as factories will now try to procure material from nearest location and there will be an increase in the personal saving of people because of which automakers and real estate sector may be hit hard. If we estimate, it will take around 1 year to get back in a track from now and all this will happen if the government and central bank continuously come up with relief measure   Blackcoffer Insights 16:- Vishant Agrawal, IBS Gurgaon \n",
      " INTRODUCTION Coronavirus disease  COVID19  is an infectious disease caused by a  newly discovered coronavirus Most people infected with this COVID19 virus will experience mild to moderate respiratory disease and recover without requiring special treatment Older age people and those with underlying medical problems like cardiovascular disease diabetes chronic respiratory disease and cancer are more likely to develop serious illness The best way to prevent and slow down transmission is well informed about the COVID19  virus  the disease it causes and how it spreads  Protect yourself and others from infection by washing your hands or using an alcoholbased rub frequently and not touching your face The  COVID19  virus spreads primarily through droplets of saliva or discharges from the nose when an infected person suffering from coughs or sneezes so it is important that you also practice respiratory etiquette  for example  by coughing into a flexed elbow At this time there are no specific vaccines or treatments for this virus However there are many ongoing clinical trials calculating potential treatments Which will continue to provide regular basis information as soon as clinical findings become available IMPACT The emergence of COVID19 is a tragic publichealth emergency The disease one hopes will be brought under control quickly but the International Monetary Fund is already warning that economic growth in  China may slow  As we watch the situation unfold three broader risks to the global economy are also becoming more apparent and clear The first risk is obviously in China itself While the precise origins of the disease remain unclear it is hard to take a definite view on whether outbreaks of this kind could be avoided – for example by better control over hygiene in food markets But it is painfully obvious that a lack of transparency in China has contributed to fear and even signs of panic around the world As financial markets go down in 20072008 when the precise incidence of big risks is not well understood people tend to assume the worse Rapidly falling asset prices may not contain much information–except that there is not much information to be had The Chinese authorities surely do not have all the answers at this point but their inclination to suppress data and interpretation is tremendously unhelpful Second the lack of American leadership is more painfully apparent every day The United States has the strongest medicalhealth system and facilities in the world with the capacity for research and development  government and private  that is second to none  Yet  President  Donald  Trump’s administration seems to be concerned primarily with playing down the risks while keeping the virus out of the United States of America – a nearly impossible task The private sector is working hard on a  vaccine  and this is commendable Unfortunately  over a  longer period of time  the lack of a  consistent market for such vaccines has undermined investment in this sector By creating the world’s largest market for many drugs the US effectively supports research across a wide range of ailments – but only those for which there is large and steady demand in the US Even the most fervent believer in  Trump’s  “America  First”  must be willing to concede that it is not in America’s interest for the rest of the world to become sick These are US allies friends and customers Also like it or not few diseases will stop at  America’s borders  Indeed  the  US  Centers for  Disease  Control and Prevention CDC has said that the question is not if but rather when COVID19 spreads domestically The third risk is in emerging markets and developing countries Poorer countries are illequipped to deal with this kind of disease  as seen in  African countries’ refusal to airlift their citizens from China The news that the coronavirus has reached  Italy has shaken world financial markets  but  Italy is a  relatively wellorganized and rich country A vibrant democracy ensures that people will quickly understand if containment and treatment measures are working We should be much more concerned about other countries where nutrition is worse housing standards are weak and disease transmission can occur much more readily If these countries’ health systems come under pressure the US Europe and others should step up quickly with technical assistance and essential supplies But here too there is so far a worrying lack of leadership It seems unlikely that this disease will prove to be as deadly as some of those that our ancestors experienced Medical practice and public health have advanced a great deal The  CDC  is an outstanding organization  and the  World  Health Organization has a  strong track record when the chips are down Privatesector groups of dedicated doctors and nurses have performed extraordinarily well under the most difficult circumstances such as dealing with Ebola when they are given a chance We are fortunate to live in an age that has so many heroic people Still this coronavirus is a warning Societies neglect access to healthcare systems and reduce investments in Research and development at great peril Diseases are always evolving and we must continually increase our capacity to understand and fight newly emerging threats The best way forward is by strengthening science training more scientists and building more labs Countries that are able to do this like the US should share ideas and knowledge as widely as possible Investing more in science is an appealing economic proposition Given very high rates  of  social  return basic  research  across a wide range of  activities more  than pays for itself But this is not about economics More likely than not one day a scientist will save your life or the life of a loved one because his or her previous work produced a drug treatment or just an idea that made a critical difference We should invest in scientists to save ourselves and our neighbors Also we must remember that we have neighbors all over our deeply interconnected world Global shares take a hit Big shifts in stock markets  where shares in companies are bought and sold  can affect many investments in pensions or individual savings accounts ISAs The FTSE Dow Jones Industrial Average and the Nikkei have all seen huge falls since the outbreak began on 31 December The Dow and the FTSE recently saw their biggest oneday declines since 1987  Investors fear the spread of the coronavirus will destroy economic growth and that government action may not be enough to stop the decline In response central banks in many countries including the United Kingdom have slashed interest rates That should in theory make borrowing cheaper and encourage spending to boost the economy Global markets did also recover some ground after the US Senate passed a 2 trillion £17tn coronavirus aid bill to help workers and businesses But some analysts have warned that they could be volatile until the pandemic is contained INDIAN ECONOMY India faces a sharp decline in government revenues and economic growth for at least two quarters as the coronavirus hits economic activity and a fall in investor sentiment impacts privatization plans  government and industry sources said Officially the government is still sticking to the target of achieving 665 in the next financial year beginning  April while hoping that a  fall in crude oil prices could help it garner more revenue and contain a  fall in revenue from other sectors but economists and bankers are turning increasingly downbeat about India’s economic prospects especially as the government is betting on filling its coffers through illtimed asset sales We are going to miss the revised revenue targets for the current fiscal year and will have to lower next year’s targets as well” said a senior government official with direct knowledge of budget estimates He said receipts from muchdelayed privatization of  India’s secondbiggest oil refiner Bharat Petroleum Corp could be lower by at least 2 billion against initial estimates The company’s share prices have fallen by over 27 since January while the broader  NSE  Nifty 50 index has fallen by nearly  20  following a  panic in global markets On Wednesday the government suspended almost all visas to the country till April 15  to prevent the spread of coronavirus as cases across the region continue to rise Total cases in the country rose to 73 on Thursday according to the government Another senior finance ministry official said some of the proposed shareshale plans in companies like Coal  India Steel Authority of  India  Ltd SAIL NMDC and IRCON have been deferred The government now expects to raise about Rs 50000 crore 675 billion against the downwardly revised target of Rs 65000  crore for the ongoing financial year ending in  March the official said Another senior official in the tax department said receipts have been hit due to a fall in consumer demand as reflected in the lower sales of autos passenger traffic hotel bookings and retail sales Tour  operators  estimate  JanuaryMarch  quarter earnings could  fall  by  more  than 60  from a  year ago as hundreds of thousands of tourists cancel travel  hitting hotels  airlines and tax collection for the federal and state governments India attracts nearly one million foreign tourists a month and the travel restrictions could impact for the next few months The situation in India was still far better compared to some other countries hit by a global pandemic Sarkar said India annually earns nearly  30  billion from foreign tourist arrivals  and the industry is worried that a global spread of the virus will harm already weakened economic growth  As this situation will take time to recover and economy not only of India but globally is in a recession it up to government how they come up with their measure If we look at recent action of US FED and other countries step it took a thought that this pressure is deeper than it looks like and this situation is very different than that happen in 2008 crisis or that in 1998 as that time none of the factories are closed but this time work has been stoped and more importantly economy from past 1 year is facing slow down in many sectors so this will impact small companies badly But if we think in another way there will be a shift in a lot of pattern like people will now go for short term investment in the stock market due to uncertainty of life Insurance stocks will be benefited logistics  distribution network will totally change as factories will now try to procure material from nearest location and there will be an increase in the personal saving of people because of which automakers and real estate sector may be hit hard If we estimate it will take around 1 year to get back in a track from now and all this will happen if the government and central bank continuously come up with relief measure   Blackcoffer Insights 16 Vishant Agrawal IBS Gurgaon \n",
      "['INTRODUCTION', 'Coronavirus', 'disease', 'COVID19', 'is', 'an', 'infectious', 'disease', 'caused', 'by', 'a', 'newly', 'discovered', 'coronavirus', 'Most', 'people', 'infected', 'with', 'this', 'COVID19', 'virus', 'will', 'experience', 'mild', 'to', 'moderate', 'respiratory', 'disease', 'and', 'recover', 'without', 'requiring', 'special', 'treatment', 'Older', 'age', 'people', 'and', 'those', 'with', 'underlying', 'medical', 'problems', 'like', 'cardiovascular', 'disease', 'diabetes', 'chronic', 'respiratory', 'disease', 'and', 'cancer', 'are', 'more', 'likely', 'to', 'develop', 'serious', 'illness', 'The', 'best', 'way', 'to', 'prevent', 'and', 'slow', 'down', 'transmission', 'is', 'well', 'informed', 'about', 'the', 'COVID19', 'virus', 'the', 'disease', 'it', 'causes', 'and', 'how', 'it', 'spreads', 'Protect', 'yourself', 'and', 'others', 'from', 'infection', 'by', 'washing', 'your', 'hands', 'or', 'using', 'an', 'alcoholbased', 'rub', 'frequently', 'and', 'not', 'touching', 'your', 'face', 'The', 'COVID19', 'virus', 'spreads', 'primarily', 'through', 'droplets', 'of', 'saliva', 'or', 'discharges', 'from', 'the', 'nose', 'when', 'an', 'infected', 'person', 'suffering', 'from', 'coughs', 'or', 'sneezes', 'so', 'it', 'is', 'important', 'that', 'you', 'also', 'practice', 'respiratory', 'etiquette', 'for', 'example', 'by', 'coughing', 'into', 'a', 'flexed', 'elbow', 'At', 'this', 'time', 'there', 'are', 'no', 'specific', 'vaccines', 'or', 'treatments', 'for', 'this', 'virus', 'However', 'there', 'are', 'many', 'ongoing', 'clinical', 'trials', 'calculating', 'potential', 'treatments', 'Which', 'will', 'continue', 'to', 'provide', 'regular', 'basis', 'information', 'as', 'soon', 'as', 'clinical', 'findings', 'become', 'available', 'IMPACT', 'The', 'emergence', 'of', 'COVID19', 'is', 'a', 'tragic', 'publichealth', 'emergency', 'The', 'disease', 'one', 'hopes', 'will', 'be', 'brought', 'under', 'control', 'quickly', 'but', 'the', 'International', 'Monetary', 'Fund', 'is', 'already', 'warning', 'that', 'economic', 'growth', 'in', 'China', 'may', 'slow', 'As', 'we', 'watch', 'the', 'situation', 'unfold', 'three', 'broader', 'risks', 'to', 'the', 'global', 'economy', 'are', 'also', 'becoming', 'more', 'apparent', 'and', 'clear', 'The', 'first', 'risk', 'is', 'obviously', 'in', 'China', 'itself', 'While', 'the', 'precise', 'origins', 'of', 'the', 'disease', 'remain', 'unclear', 'it', 'is', 'hard', 'to', 'take', 'a', 'definite', 'view', 'on', 'whether', 'outbreaks', 'of', 'this', 'kind', 'could', 'be', 'avoided', '–', 'for', 'example', 'by', 'better', 'control', 'over', 'hygiene', 'in', 'food', 'markets', 'But', 'it', 'is', 'painfully', 'obvious', 'that', 'a', 'lack', 'of', 'transparency', 'in', 'China', 'has', 'contributed', 'to', 'fear', 'and', 'even', 'signs', 'of', 'panic', 'around', 'the', 'world', 'As', 'financial', 'markets', 'go', 'down', 'in', '20072008', 'when', 'the', 'precise', 'incidence', 'of', 'big', 'risks', 'is', 'not', 'well', 'understood', 'people', 'tend', 'to', 'assume', 'the', 'worse', 'Rapidly', 'falling', 'asset', 'prices', 'may', 'not', 'contain', 'much', 'information–except', 'that', 'there', 'is', 'not', 'much', 'information', 'to', 'be', 'had', 'The', 'Chinese', 'authorities', 'surely', 'do', 'not', 'have', 'all', 'the', 'answers', 'at', 'this', 'point', 'but', 'their', 'inclination', 'to', 'suppress', 'data', 'and', 'interpretation', 'is', 'tremendously', 'unhelpful', 'Second', 'the', 'lack', 'of', 'American', 'leadership', 'is', 'more', 'painfully', 'apparent', 'every', 'day', 'The', 'United', 'States', 'has', 'the', 'strongest', 'medicalhealth', 'system', 'and', 'facilities', 'in', 'the', 'world', 'with', 'the', 'capacity', 'for', 'research', 'and', 'development', 'government', 'and', 'private', 'that', 'is', 'second', 'to', 'none', 'Yet', 'President', 'Donald', 'Trump’s', 'administration', 'seems', 'to', 'be', 'concerned', 'primarily', 'with', 'playing', 'down', 'the', 'risks', 'while', 'keeping', 'the', 'virus', 'out', 'of', 'the', 'United', 'States', 'of', 'America', '–', 'a', 'nearly', 'impossible', 'task', 'The', 'private', 'sector', 'is', 'working', 'hard', 'on', 'a', 'vaccine', 'and', 'this', 'is', 'commendable', 'Unfortunately', 'over', 'a', 'longer', 'period', 'of', 'time', 'the', 'lack', 'of', 'a', 'consistent', 'market', 'for', 'such', 'vaccines', 'has', 'undermined', 'investment', 'in', 'this', 'sector', 'By', 'creating', 'the', 'world’s', 'largest', 'market', 'for', 'many', 'drugs', 'the', 'US', 'effectively', 'supports', 'research', 'across', 'a', 'wide', 'range', 'of', 'ailments', '–', 'but', 'only', 'those', 'for', 'which', 'there', 'is', 'large', 'and', 'steady', 'demand', 'in', 'the', 'US', 'Even', 'the', 'most', 'fervent', 'believer', 'in', 'Trump’s', '“America', 'First”', 'must', 'be', 'willing', 'to', 'concede', 'that', 'it', 'is', 'not', 'in', 'America’s', 'interest', 'for', 'the', 'rest', 'of', 'the', 'world', 'to', 'become', 'sick', 'These', 'are', 'US', 'allies', 'friends', 'and', 'customers', 'Also', 'like', 'it', 'or', 'not', 'few', 'diseases', 'will', 'stop', 'at', 'America’s', 'borders', 'Indeed', 'the', 'US', 'Centers', 'for', 'Disease', 'Control', 'and', 'Prevention', 'CDC', 'has', 'said', 'that', 'the', 'question', 'is', 'not', 'if', 'but', 'rather', 'when', 'COVID19', 'spreads', 'domestically', 'The', 'third', 'risk', 'is', 'in', 'emerging', 'markets', 'and', 'developing', 'countries', 'Poorer', 'countries', 'are', 'illequipped', 'to', 'deal', 'with', 'this', 'kind', 'of', 'disease', 'as', 'seen', 'in', 'African', 'countries’', 'refusal', 'to', 'airlift', 'their', 'citizens', 'from', 'China', 'The', 'news', 'that', 'the', 'coronavirus', 'has', 'reached', 'Italy', 'has', 'shaken', 'world', 'financial', 'markets', 'but', 'Italy', 'is', 'a', 'relatively', 'wellorganized', 'and', 'rich', 'country', 'A', 'vibrant', 'democracy', 'ensures', 'that', 'people', 'will', 'quickly', 'understand', 'if', 'containment', 'and', 'treatment', 'measures', 'are', 'working', 'We', 'should', 'be', 'much', 'more', 'concerned', 'about', 'other', 'countries', 'where', 'nutrition', 'is', 'worse', 'housing', 'standards', 'are', 'weak', 'and', 'disease', 'transmission', 'can', 'occur', 'much', 'more', 'readily', 'If', 'these', 'countries’', 'health', 'systems', 'come', 'under', 'pressure', 'the', 'US', 'Europe', 'and', 'others', 'should', 'step', 'up', 'quickly', 'with', 'technical', 'assistance', 'and', 'essential', 'supplies', 'But', 'here', 'too', 'there', 'is', 'so', 'far', 'a', 'worrying', 'lack', 'of', 'leadership', 'It', 'seems', 'unlikely', 'that', 'this', 'disease', 'will', 'prove', 'to', 'be', 'as', 'deadly', 'as', 'some', 'of', 'those', 'that', 'our', 'ancestors', 'experienced', 'Medical', 'practice', 'and', 'public', 'health', 'have', 'advanced', 'a', 'great', 'deal', 'The', 'CDC', 'is', 'an', 'outstanding', 'organization', 'and', 'the', 'World', 'Health', 'Organization', 'has', 'a', 'strong', 'track', 'record', 'when', 'the', 'chips', 'are', 'down', 'Privatesector', 'groups', 'of', 'dedicated', 'doctors', 'and', 'nurses', 'have', 'performed', 'extraordinarily', 'well', 'under', 'the', 'most', 'difficult', 'circumstances', 'such', 'as', 'dealing', 'with', 'Ebola', 'when', 'they', 'are', 'given', 'a', 'chance', 'We', 'are', 'fortunate', 'to', 'live', 'in', 'an', 'age', 'that', 'has', 'so', 'many', 'heroic', 'people', 'Still', 'this', 'coronavirus', 'is', 'a', 'warning', 'Societies', 'neglect', 'access', 'to', 'healthcare', 'systems', 'and', 'reduce', 'investments', 'in', 'Research', 'and', 'development', 'at', 'great', 'peril', 'Diseases', 'are', 'always', 'evolving', 'and', 'we', 'must', 'continually', 'increase', 'our', 'capacity', 'to', 'understand', 'and', 'fight', 'newly', 'emerging', 'threats', 'The', 'best', 'way', 'forward', 'is', 'by', 'strengthening', 'science', 'training', 'more', 'scientists', 'and', 'building', 'more', 'labs', 'Countries', 'that', 'are', 'able', 'to', 'do', 'this', 'like', 'the', 'US', 'should', 'share', 'ideas', 'and', 'knowledge', 'as', 'widely', 'as', 'possible', 'Investing', 'more', 'in', 'science', 'is', 'an', 'appealing', 'economic', 'proposition', 'Given', 'very', 'high', 'rates', 'of', 'social', 'return', 'basic', 'research', 'across', 'a', 'wide', 'range', 'of', 'activities', 'more', 'than', 'pays', 'for', 'itself', 'But', 'this', 'is', 'not', 'about', 'economics', 'More', 'likely', 'than', 'not', 'one', 'day', 'a', 'scientist', 'will', 'save', 'your', 'life', 'or', 'the', 'life', 'of', 'a', 'loved', 'one', 'because', 'his', 'or', 'her', 'previous', 'work', 'produced', 'a', 'drug', 'treatment', 'or', 'just', 'an', 'idea', 'that', 'made', 'a', 'critical', 'difference', 'We', 'should', 'invest', 'in', 'scientists', 'to', 'save', 'ourselves', 'and', 'our', 'neighbors', 'Also', 'we', 'must', 'remember', 'that', 'we', 'have', 'neighbors', 'all', 'over', 'our', 'deeply', 'interconnected', 'world', 'Global', 'shares', 'take', 'a', 'hit', 'Big', 'shifts', 'in', 'stock', 'markets', 'where', 'shares', 'in', 'companies', 'are', 'bought', 'and', 'sold', 'can', 'affect', 'many', 'investments', 'in', 'pensions', 'or', 'individual', 'savings', 'accounts', 'ISAs', 'The', 'FTSE', 'Dow', 'Jones', 'Industrial', 'Average', 'and', 'the', 'Nikkei', 'have', 'all', 'seen', 'huge', 'falls', 'since', 'the', 'outbreak', 'began', 'on', '31', 'December', 'The', 'Dow', 'and', 'the', 'FTSE', 'recently', 'saw', 'their', 'biggest', 'oneday', 'declines', 'since', '1987', 'Investors', 'fear', 'the', 'spread', 'of', 'the', 'coronavirus', 'will', 'destroy', 'economic', 'growth', 'and', 'that', 'government', 'action', 'may', 'not', 'be', 'enough', 'to', 'stop', 'the', 'decline', 'In', 'response', 'central', 'banks', 'in', 'many', 'countries', 'including', 'the', 'United', 'Kingdom', 'have', 'slashed', 'interest', 'rates', 'That', 'should', 'in', 'theory', 'make', 'borrowing', 'cheaper', 'and', 'encourage', 'spending', 'to', 'boost', 'the', 'economy', 'Global', 'markets', 'did', 'also', 'recover', 'some', 'ground', 'after', 'the', 'US', 'Senate', 'passed', 'a', '2', 'trillion', '£17tn', 'coronavirus', 'aid', 'bill', 'to', 'help', 'workers', 'and', 'businesses', 'But', 'some', 'analysts', 'have', 'warned', 'that', 'they', 'could', 'be', 'volatile', 'until', 'the', 'pandemic', 'is', 'contained', 'INDIAN', 'ECONOMY', 'India', 'faces', 'a', 'sharp', 'decline', 'in', 'government', 'revenues', 'and', 'economic', 'growth', 'for', 'at', 'least', 'two', 'quarters', 'as', 'the', 'coronavirus', 'hits', 'economic', 'activity', 'and', 'a', 'fall', 'in', 'investor', 'sentiment', 'impacts', 'privatization', 'plans', 'government', 'and', 'industry', 'sources', 'said', 'Officially', 'the', 'government', 'is', 'still', 'sticking', 'to', 'the', 'target', 'of', 'achieving', '665', 'in', 'the', 'next', 'financial', 'year', 'beginning', 'April', 'while', 'hoping', 'that', 'a', 'fall', 'in', 'crude', 'oil', 'prices', 'could', 'help', 'it', 'garner', 'more', 'revenue', 'and', 'contain', 'a', 'fall', 'in', 'revenue', 'from', 'other', 'sectors', 'but', 'economists', 'and', 'bankers', 'are', 'turning', 'increasingly', 'downbeat', 'about', 'India’s', 'economic', 'prospects', 'especially', 'as', 'the', 'government', 'is', 'betting', 'on', 'filling', 'its', 'coffers', 'through', 'illtimed', 'asset', 'sales', 'We', 'are', 'going', 'to', 'miss', 'the', 'revised', 'revenue', 'targets', 'for', 'the', 'current', 'fiscal', 'year', 'and', 'will', 'have', 'to', 'lower', 'next', 'year’s', 'targets', 'as', 'well”', 'said', 'a', 'senior', 'government', 'official', 'with', 'direct', 'knowledge', 'of', 'budget', 'estimates', 'He', 'said', 'receipts', 'from', 'muchdelayed', 'privatization', 'of', 'India’s', 'secondbiggest', 'oil', 'refiner', 'Bharat', 'Petroleum', 'Corp', 'could', 'be', 'lower', 'by', 'at', 'least', '2', 'billion', 'against', 'initial', 'estimates', 'The', 'company’s', 'share', 'prices', 'have', 'fallen', 'by', 'over', '27', 'since', 'January', 'while', 'the', 'broader', 'NSE', 'Nifty', '50', 'index', 'has', 'fallen', 'by', 'nearly', '20', 'following', 'a', 'panic', 'in', 'global', 'markets', 'On', 'Wednesday', 'the', 'government', 'suspended', 'almost', 'all', 'visas', 'to', 'the', 'country', 'till', 'April', '15', 'to', 'prevent', 'the', 'spread', 'of', 'coronavirus', 'as', 'cases', 'across', 'the', 'region', 'continue', 'to', 'rise', 'Total', 'cases', 'in', 'the', 'country', 'rose', 'to', '73', 'on', 'Thursday', 'according', 'to', 'the', 'government', 'Another', 'senior', 'finance', 'ministry', 'official', 'said', 'some', 'of', 'the', 'proposed', 'shareshale', 'plans', 'in', 'companies', 'like', 'Coal', 'India', 'Steel', 'Authority', 'of', 'India', 'Ltd', 'SAIL', 'NMDC', 'and', 'IRCON', 'have', 'been', 'deferred', 'The', 'government', 'now', 'expects', 'to', 'raise', 'about', 'Rs', '50000', 'crore', '675', 'billion', 'against', 'the', 'downwardly', 'revised', 'target', 'of', 'Rs', '65000', 'crore', 'for', 'the', 'ongoing', 'financial', 'year', 'ending', 'in', 'March', 'the', 'official', 'said', 'Another', 'senior', 'official', 'in', 'the', 'tax', 'department', 'said', 'receipts', 'have', 'been', 'hit', 'due', 'to', 'a', 'fall', 'in', 'consumer', 'demand', 'as', 'reflected', 'in', 'the', 'lower', 'sales', 'of', 'autos', 'passenger', 'traffic', 'hotel', 'bookings', 'and', 'retail', 'sales', 'Tour', 'operators', 'estimate', 'JanuaryMarch', 'quarter', 'earnings', 'could', 'fall', 'by', 'more', 'than', '60', 'from', 'a', 'year', 'ago', 'as', 'hundreds', 'of', 'thousands', 'of', 'tourists', 'cancel', 'travel', 'hitting', 'hotels', 'airlines', 'and', 'tax', 'collection', 'for', 'the', 'federal', 'and', 'state', 'governments', 'India', 'attracts', 'nearly', 'one', 'million', 'foreign', 'tourists', 'a', 'month', 'and', 'the', 'travel', 'restrictions', 'could', 'impact', 'for', 'the', 'next', 'few', 'months', 'The', 'situation', 'in', 'India', 'was', 'still', 'far', 'better', 'compared', 'to', 'some', 'other', 'countries', 'hit', 'by', 'a', 'global', 'pandemic', 'Sarkar', 'said', 'India', 'annually', 'earns', 'nearly', '30', 'billion', 'from', 'foreign', 'tourist', 'arrivals', 'and', 'the', 'industry', 'is', 'worried', 'that', 'a', 'global', 'spread', 'of', 'the', 'virus', 'will', 'harm', 'already', 'weakened', 'economic', 'growth', 'As', 'this', 'situation', 'will', 'take', 'time', 'to', 'recover', 'and', 'economy', 'not', 'only', 'of', 'India', 'but', 'globally', 'is', 'in', 'a', 'recession', 'it', 'up', 'to', 'government', 'how', 'they', 'come', 'up', 'with', 'their', 'measure', 'If', 'we', 'look', 'at', 'recent', 'action', 'of', 'US', 'FED', 'and', 'other', 'countries', 'step', 'it', 'took', 'a', 'thought', 'that', 'this', 'pressure', 'is', 'deeper', 'than', 'it', 'looks', 'like', 'and', 'this', 'situation', 'is', 'very', 'different', 'than', 'that', 'happen', 'in', '2008', 'crisis', 'or', 'that', 'in', '1998', 'as', 'that', 'time', 'none', 'of', 'the', 'factories', 'are', 'closed', 'but', 'this', 'time', 'work', 'has', 'been', 'stoped', 'and', 'more', 'importantly', 'economy', 'from', 'past', '1', 'year', 'is', 'facing', 'slow', 'down', 'in', 'many', 'sectors', 'so', 'this', 'will', 'impact', 'small', 'companies', 'badly', 'But', 'if', 'we', 'think', 'in', 'another', 'way', 'there', 'will', 'be', 'a', 'shift', 'in', 'a', 'lot', 'of', 'pattern', 'like', 'people', 'will', 'now', 'go', 'for', 'short', 'term', 'investment', 'in', 'the', 'stock', 'market', 'due', 'to', 'uncertainty', 'of', 'life', 'Insurance', 'stocks', 'will', 'be', 'benefited', 'logistics', 'distribution', 'network', 'will', 'totally', 'change', 'as', 'factories', 'will', 'now', 'try', 'to', 'procure', 'material', 'from', 'nearest', 'location', 'and', 'there', 'will', 'be', 'an', 'increase', 'in', 'the', 'personal', 'saving', 'of', 'people', 'because', 'of', 'which', 'automakers', 'and', 'real', 'estate', 'sector', 'may', 'be', 'hit', 'hard', 'If', 'we', 'estimate', 'it', 'will', 'take', 'around', '1', 'year', 'to', 'get', 'back', 'in', 'a', 'track', 'from', 'now', 'and', 'all', 'this', 'will', 'happen', 'if', 'the', 'government', 'and', 'central', 'bank', 'continuously', 'come', 'up', 'with', 'relief', 'measure', 'Blackcoffer', 'Insights', '16', 'Vishant', 'Agrawal', 'IBS', 'Gurgaon']\n"
     ]
    }
   ],
   "source": [
    "content=soup.findAll(attrs={'class':'td-post-content'})\n",
    "content=content[0].text.replace('\\n',\" \")\n",
    "print(content)\n",
    "#Punctuation\n",
    "content = content.translate(str.maketrans('', '', string.punctuation)) \n",
    "print(content)\n",
    "text = content.split()\n",
    "print(text)\n"
   ]
  },
  {
   "cell_type": "code",
   "execution_count": 3,
   "id": "4f0d97ff",
   "metadata": {},
   "outputs": [
    {
     "data": {
      "text/plain": [
       "1806"
      ]
     },
     "execution_count": 3,
     "metadata": {},
     "output_type": "execute_result"
    }
   ],
   "source": [
    "len(text)"
   ]
  },
  {
   "cell_type": "code",
   "execution_count": 4,
   "id": "73d88c97",
   "metadata": {},
   "outputs": [
    {
     "name": "stdout",
     "output_type": "stream",
     "text": [
      "53\n"
     ]
    }
   ],
   "source": [
    "#Positive Score \n",
    "with open(r\"C:\\Users\\Om Bhandwalkar\\Desktop\\pos\\positive-words.txt\") as pos:\n",
    "    poswords = pos.read().split(\"\\n\")  \n",
    "    poswords = poswords[5:]\n",
    "pos_count = \" \".join ([w for w in text if w in poswords])\n",
    "pos_count=pos_count.split(\" \")\n",
    "Positive_score=len(pos_count)\n",
    "print(Positive_score)"
   ]
  },
  {
   "cell_type": "code",
   "execution_count": 5,
   "id": "7db4caad",
   "metadata": {},
   "outputs": [
    {
     "name": "stdout",
     "output_type": "stream",
     "text": [
      "84\n"
     ]
    }
   ],
   "source": [
    "#Negative Score\n",
    "with open(r\"C:\\Users\\Om Bhandwalkar\\Desktop\\pos\\negative-words.txt\",encoding =\"ISO-8859-1\") as neg:\n",
    "    negwords = neg.read().split(\"\\n\")\n",
    "    \n",
    "negwords = negwords[36:]\n",
    "neg_count = \" \".join ([w for w in text if w in negwords])\n",
    "neg_count=neg_count.split(\" \")\n",
    "Negative_score=len(neg_count)\n",
    "print(Negative_score)"
   ]
  },
  {
   "cell_type": "code",
   "execution_count": 6,
   "id": "0ae433b6",
   "metadata": {},
   "outputs": [
    {
     "data": {
      "text/html": [
       "<div>\n",
       "<style scoped>\n",
       "    .dataframe tbody tr th:only-of-type {\n",
       "        vertical-align: middle;\n",
       "    }\n",
       "\n",
       "    .dataframe tbody tr th {\n",
       "        vertical-align: top;\n",
       "    }\n",
       "\n",
       "    .dataframe thead th {\n",
       "        text-align: right;\n",
       "    }\n",
       "</style>\n",
       "<table border=\"1\" class=\"dataframe\">\n",
       "  <thead>\n",
       "    <tr style=\"text-align: right;\">\n",
       "      <th></th>\n",
       "      <th>url</th>\n",
       "      <th>title</th>\n",
       "      <th>content</th>\n",
       "      <th>filter_content</th>\n",
       "      <th>Positive_Score</th>\n",
       "      <th>Negative_Score</th>\n",
       "      <th>polarity</th>\n",
       "      <th>subjectivity</th>\n",
       "    </tr>\n",
       "  </thead>\n",
       "  <tbody>\n",
       "    <tr>\n",
       "      <th>0</th>\n",
       "      <td>https://insights.blackcoffer.com/impact-of-cov...</td>\n",
       "      <td>Global Economy effected by Coronavirus</td>\n",
       "      <td>INTRODUCTION Coronavirus disease  COVID19  is...</td>\n",
       "      <td>INTRODUCTION Coronavirus disease COVID19 is an...</td>\n",
       "      <td>53</td>\n",
       "      <td>84</td>\n",
       "      <td>0.10611</td>\n",
       "      <td>0.437705</td>\n",
       "    </tr>\n",
       "  </tbody>\n",
       "</table>\n",
       "</div>"
      ],
      "text/plain": [
       "                                                 url  \\\n",
       "0  https://insights.blackcoffer.com/impact-of-cov...   \n",
       "\n",
       "                                    title  \\\n",
       "0  Global Economy effected by Coronavirus   \n",
       "\n",
       "                                             content  \\\n",
       "0   INTRODUCTION Coronavirus disease  COVID19  is...   \n",
       "\n",
       "                                      filter_content  Positive_Score  \\\n",
       "0  INTRODUCTION Coronavirus disease COVID19 is an...              53   \n",
       "\n",
       "   Negative_Score  polarity  subjectivity  \n",
       "0              84   0.10611      0.437705  "
      ]
     },
     "execution_count": 6,
     "metadata": {},
     "output_type": "execute_result"
    }
   ],
   "source": [
    "filter_content = ' '.join(text)\n",
    "data=[[url,title,content,filter_content,Positive_score,Negative_score]]\n",
    "data=pd.DataFrame(data,columns=[\"url\",\"title\",\"content\",\"filter_content\",\"Positive_Score\",\"Negative_Score\"])\n",
    "from textblob import TextBlob\n",
    "# Get The Subjectivity\n",
    "def sentiment_analysis(data):\n",
    "    sentiment = TextBlob(data[\"content\"]).sentiment\n",
    "    return pd.Series([sentiment.polarity,sentiment.subjectivity ])\n",
    "\n",
    "# Adding Subjectivity & Polarity\n",
    "data[[\"polarity\", \"subjectivity\"]] = data.apply(sentiment_analysis, axis=1)\n",
    "\n",
    "data"
   ]
  },
  {
   "cell_type": "code",
   "execution_count": 7,
   "id": "b1d34a90",
   "metadata": {},
   "outputs": [
    {
     "name": "stdout",
     "output_type": "stream",
     "text": [
      "Word average = 9187.0\n",
      "FOG INDEX =  724.84\n",
      "Average no of words per sentence\n",
      "1806.0\n",
      "Complex Words 3153\n"
     ]
    }
   ],
   "source": [
    "#AVG SENTENCE LENGTH\n",
    "AVG_SENTENCE_LENGTH = len(content.replace(' ',''))/len(re.split(r'[?!.]', content))\n",
    "print('Word average =', AVG_SENTENCE_LENGTH)\n",
    "import textstat\n",
    "#Fog index \n",
    "FOG_INDEX=(textstat.gunning_fog(content))\n",
    "print(\"FOG INDEX = \",FOG_INDEX)\n",
    "#Average No of Words Per Sentence \n",
    "AVG_NUMBER_OF_WORDS_PER_SENTENCE = [len(l.split()) for l in re.split(r'[?!.]', content) if l.strip()]\n",
    "print(\"Average no of words per sentence\")\n",
    "AVG_NUMBER_OF_WORDS_PER_SENTENCE=print(sum(AVG_NUMBER_OF_WORDS_PER_SENTENCE)/len(AVG_NUMBER_OF_WORDS_PER_SENTENCE))\n",
    "#Complex words\n",
    "def syllable_count(word):\n",
    "    count = 0\n",
    "    vowels = \"AEIOUYaeiouy\"\n",
    "    if word[0] in vowels:\n",
    "        count += 1\n",
    "    for index in range(1, len(word)): \n",
    "        if word[index] in vowels and word[index - 1] not in vowels:\n",
    "            count += 1\n",
    "            if word.endswith(\"es\"or \"ed\"):\n",
    "                count -= 1\n",
    "    if count == 0:\n",
    "        count += 1\n",
    "    return count\n",
    "\n",
    "\n",
    "\n",
    "COMPLEX_WORDS=syllable_count(content)\n",
    "print(\"Complex Words\",COMPLEX_WORDS)\n"
   ]
  },
  {
   "cell_type": "code",
   "execution_count": 8,
   "id": "22ae2a96",
   "metadata": {},
   "outputs": [
    {
     "name": "stdout",
     "output_type": "stream",
     "text": [
      "Word Count 10946\n",
      "Percentage of Complex Words 28.805042938059565\n",
      "Average Word per Length 5.0869324473975635\n",
      "The AVG number of syllables in the word is: \n",
      "1.9828349944629013\n",
      "Word Count 10946\n",
      "Percentage of Complex Words 28.805042938059565\n",
      "Average Word per Length 5.0869324473975635\n",
      "The AVG number of syllables in the word is: \n",
      "1.9828349944629013\n"
     ]
    }
   ],
   "source": [
    "#Word Count\n",
    "Word_Count=len(content)\n",
    "print(\"Word Count\",Word_Count)\n",
    "#Percentage Complex Words\n",
    "pcw=(COMPLEX_WORDS/Word_Count)*100\n",
    "print(\"Percentage of Complex Words\",pcw)\n",
    "#Average Word Length\n",
    "Average_Word_Length=len(content.replace(' ',''))/len(content.split())\n",
    "print(\"Average Word per Length\",Average_Word_Length)\n",
    "#Syllable Count Per Word\n",
    "word=content.replace(' ','')\n",
    "syllable_count=0\n",
    "for w in word:\n",
    "      if(w=='a' or w=='e' or w=='i' or w=='o' or w=='y' or w=='u' or w=='A' or w=='E' or w=='I' or w=='O' or w=='U' or w=='Y'):\n",
    "            syllable_count=syllable_count+1\n",
    "print(\"The AVG number of syllables in the word is: \")\n",
    "print(syllable_count/len(content.split()))#Word Count\n",
    "Word_Count=len(content)\n",
    "print(\"Word Count\",Word_Count)\n",
    "#Percentage Complex Words\n",
    "pcw=(COMPLEX_WORDS/Word_Count)*100\n",
    "print(\"Percentage of Complex Words\",pcw)\n",
    "#Average Word Length\n",
    "Average_Word_Length=len(content.replace(' ',''))/len(content.split())\n",
    "print(\"Average Word per Length\",Average_Word_Length)\n",
    "#Syllable Count Per Word\n",
    "word=content.replace(' ','')\n",
    "syllable_count=0\n",
    "for w in word:\n",
    "      if(w=='a' or w=='e' or w=='i' or w=='o' or w=='y' or w=='u' or w=='A' or w=='E' or w=='I' or w=='O' or w=='U' or w=='Y'):\n",
    "            syllable_count=syllable_count+1\n",
    "print(\"The AVG number of syllables in the word is: \")\n",
    "print(syllable_count/len(content.split()))"
   ]
  },
  {
   "cell_type": "code",
   "execution_count": 1,
   "id": "5b6f771f",
   "metadata": {},
   "outputs": [
    {
     "name": "stdout",
     "output_type": "stream",
     "text": [
      "53\n",
      "84\n",
      "Word average = 9187.0\n",
      "FOG INDEX =  724.84\n",
      "Average no of words per sentence\n",
      "1806.0\n",
      "Complex Words 3153\n",
      "Word Count 10947\n",
      "Percentage of Complex Words 28.802411619621815\n",
      "Average Word per Length 5.0869324473975635\n",
      "The AVG number of syllables in the word is: \n",
      "1.9828349944629013\n"
     ]
    },
    {
     "data": {
      "text/html": [
       "<div>\n",
       "<style scoped>\n",
       "    .dataframe tbody tr th:only-of-type {\n",
       "        vertical-align: middle;\n",
       "    }\n",
       "\n",
       "    .dataframe tbody tr th {\n",
       "        vertical-align: top;\n",
       "    }\n",
       "\n",
       "    .dataframe thead th {\n",
       "        text-align: right;\n",
       "    }\n",
       "</style>\n",
       "<table border=\"1\" class=\"dataframe\">\n",
       "  <thead>\n",
       "    <tr style=\"text-align: right;\">\n",
       "      <th></th>\n",
       "      <th>url</th>\n",
       "      <th>title</th>\n",
       "      <th>content</th>\n",
       "      <th>filter_content</th>\n",
       "      <th>Positive_Score</th>\n",
       "      <th>Negative_Score</th>\n",
       "      <th>Avg_Sentence_Length</th>\n",
       "      <th>Percentage_Complex_Word</th>\n",
       "      <th>Fog_Index</th>\n",
       "      <th>AVG_NUMBER_OF_WORDS_PER_SENTENCE</th>\n",
       "      <th>COMPLEX_WORDS</th>\n",
       "      <th>Word_Count</th>\n",
       "      <th>syllable</th>\n",
       "      <th>Average_Word_Length</th>\n",
       "      <th>polarity</th>\n",
       "      <th>subjectivity</th>\n",
       "    </tr>\n",
       "  </thead>\n",
       "  <tbody>\n",
       "    <tr>\n",
       "      <th>0</th>\n",
       "      <td>https://insights.blackcoffer.com/impact-of-cov...</td>\n",
       "      <td>Global Economy effected by Coronavirus</td>\n",
       "      <td>INTRODUCTION Coronavirus disease  COVID19  i...</td>\n",
       "      <td>INTRODUCTION Coronavirus disease COVID19 is an...</td>\n",
       "      <td>53</td>\n",
       "      <td>84</td>\n",
       "      <td>9187.0</td>\n",
       "      <td>28.802412</td>\n",
       "      <td>724.84</td>\n",
       "      <td>1806.0</td>\n",
       "      <td>3153</td>\n",
       "      <td>10947</td>\n",
       "      <td>1.982835</td>\n",
       "      <td>5.086932</td>\n",
       "      <td>0.10611</td>\n",
       "      <td>0.437705</td>\n",
       "    </tr>\n",
       "  </tbody>\n",
       "</table>\n",
       "</div>"
      ],
      "text/plain": [
       "                                                 url  \\\n",
       "0  https://insights.blackcoffer.com/impact-of-cov...   \n",
       "\n",
       "                                    title  \\\n",
       "0  Global Economy effected by Coronavirus   \n",
       "\n",
       "                                             content  \\\n",
       "0    INTRODUCTION Coronavirus disease  COVID19  i...   \n",
       "\n",
       "                                      filter_content  Positive_Score  \\\n",
       "0  INTRODUCTION Coronavirus disease COVID19 is an...              53   \n",
       "\n",
       "   Negative_Score  Avg_Sentence_Length  Percentage_Complex_Word  Fog_Index  \\\n",
       "0              84               9187.0                28.802412     724.84   \n",
       "\n",
       "    AVG_NUMBER_OF_WORDS_PER_SENTENCE  COMPLEX_WORDS  Word_Count  syllable  \\\n",
       "0                             1806.0           3153       10947  1.982835   \n",
       "\n",
       "   Average_Word_Length  polarity  subjectivity  \n",
       "0             5.086932   0.10611      0.437705  "
      ]
     },
     "execution_count": 1,
     "metadata": {},
     "output_type": "execute_result"
    }
   ],
   "source": [
    "import requests\n",
    "import pandas as pd \n",
    "from bs4 import BeautifulSoup\n",
    "import string\n",
    "import spacy\n",
    "import re\n",
    "url = \"\"\"https://insights.blackcoffer.com/impact-of-covid-19-on-the-global-economy-2/\"\"\"\n",
    "headers = {\"User-Agent\": \"Mozilla/5.0 (X11; Linux x86_64; rv:60.0) Gecko/20100101 Firefox/60.0\"}\n",
    "page = requests.get(url, headers=headers)\n",
    "soup = BeautifulSoup(page.content, 'html.parser')\n",
    "soup=BeautifulSoup(page.content, 'html.parser')\n",
    "title=soup.find('h1',class_=\"entry-title\")\n",
    "title=title.text.replace('\\n',\" \")\n",
    "# title\n",
    "\n",
    "content=soup.findAll(attrs={'class':'td-post-content'})\n",
    "content=content[0].text.replace('\\n',\" \")\n",
    "# print(content)\n",
    "#Punctuation\n",
    "content = content.translate(str.maketrans('', '', string.punctuation)) \n",
    "# print(content)\n",
    "text = content.split()\n",
    "# print(text)\n",
    "len(text)\n",
    "#Positive Score \n",
    "with open(r\"C:\\Users\\Om Bhandwalkar\\Desktop\\pos\\positive-words.txt\") as pos:\n",
    "    poswords = pos.read().split(\"\\n\")  \n",
    "    poswords = poswords[5:]\n",
    "pos_count = \" \".join ([w for w in text if w in poswords])\n",
    "pos_count=pos_count.split(\" \")\n",
    "Positive_score=len(pos_count)\n",
    "print(Positive_score)\n",
    "\n",
    "#Negative Score\n",
    "with open(r\"C:\\Users\\Om Bhandwalkar\\Desktop\\pos\\negative-words.txt\",encoding =\"ISO-8859-1\") as neg:\n",
    "    negwords = neg.read().split(\"\\n\")\n",
    "    \n",
    "negwords = negwords[36:]\n",
    "neg_count = \" \".join ([w for w in text if w in negwords])\n",
    "neg_count=neg_count.split(\" \")\n",
    "Negative_score=len(neg_count)\n",
    "print(Negative_score)\n",
    "\n",
    "\n",
    "filter_content = ' '.join(text)\n",
    "data=[[url,title,content,filter_content,Positive_score,Negative_score]]\n",
    "data=pd.DataFrame(data,columns=[\"url\",\"title\",\"content\",\"filter_content\",\"Positive_Score\",\"Negative_Score\"])\n",
    "from textblob import TextBlob\n",
    "# Get The Subjectivity\n",
    "def sentiment_analysis(data):\n",
    "    sentiment = TextBlob(data[\"content\"]).sentiment\n",
    "    return pd.Series([sentiment.polarity,sentiment.subjectivity ])\n",
    "data[[\"polarity\", \"subjectivity\"]] = data.apply(sentiment_analysis, axis=1)\n",
    "data\n",
    "#AVG SENTENCE LENGTH\n",
    "AVG_SENTENCE_LENGTH = len(content.replace(' ',''))/len(re.split(r'[?!.]', content))\n",
    "print('Word average =', AVG_SENTENCE_LENGTH)\n",
    "import textstat\n",
    "#Fog index \n",
    "FOG_INDEX=(textstat.gunning_fog(content))\n",
    "print(\"FOG INDEX = \",FOG_INDEX)\n",
    "#Average No of Words Per Sentence \n",
    "AVG_NUMBER_OF_WORDS_PER_SENTENCE = [len(l.split()) for l in re.split(r'[?!.]', content) if l.strip()]\n",
    "print(\"Average no of words per sentence\")\n",
    "AVG_NUMBER_OF_WORDS_PER_SENTENCE=(sum(AVG_NUMBER_OF_WORDS_PER_SENTENCE)/len(AVG_NUMBER_OF_WORDS_PER_SENTENCE))\n",
    "print(AVG_NUMBER_OF_WORDS_PER_SENTENCE)\n",
    "#Complex words\n",
    "def syllable_count(word):\n",
    "    count = 0\n",
    "    vowels = \"AEIOUYaeiouy\"\n",
    "    if word[0] in vowels:\n",
    "        count += 1\n",
    "    for index in range(1, len(word)): \n",
    "        if word[index] in vowels and word[index - 1] not in vowels:\n",
    "            count += 1\n",
    "            if word.endswith(\"es\"or \"ed\"):\n",
    "                count -= 1\n",
    "    if count == 0:\n",
    "        count += 1\n",
    "    return count\n",
    "\n",
    "\n",
    "\n",
    "COMPLEX_WORDS=syllable_count(content)\n",
    "print(\"Complex Words\",COMPLEX_WORDS)\n",
    "#Word Count\n",
    "Word_Count=len(content)\n",
    "print(\"Word Count\",Word_Count)\n",
    "#Percentage Complex Words\n",
    "pcw=(COMPLEX_WORDS/Word_Count)*100\n",
    "print(\"Percentage of Complex Words\",pcw)\n",
    "#Average Word Length\n",
    "Average_Word_Length=len(content.replace(' ',''))/len(content.split())\n",
    "print(\"Average Word per Length\",Average_Word_Length)\n",
    "#Syllable Count Per Word\n",
    "word=content.replace(' ','')\n",
    "syllable_count=0\n",
    "for w in word:\n",
    "      if(w=='a' or w=='e' or w=='i' or w=='o' or w=='y' or w=='u' or w=='A' or w=='E' or w=='I' or w=='O' or w=='U' or w=='Y'):\n",
    "            syllable_count=syllable_count+1\n",
    "print(\"The AVG number of syllables in the word is: \")\n",
    "syllable = (syllable_count/len(content.split()))\n",
    "print(syllable)\n",
    "\n",
    "data = [[url,title,content,filter_content,Positive_score,Negative_score,AVG_SENTENCE_LENGTH,pcw,FOG_INDEX,\n",
    "         AVG_NUMBER_OF_WORDS_PER_SENTENCE,COMPLEX_WORDS,Word_Count,syllable,Average_Word_Length]]\n",
    "data=pd.DataFrame(data,columns=[\"url\",\"title\",\"content\",\"filter_content\",\"Positive_Score\",\"Negative_Score\",\"Avg_Sentence_Length\"\n",
    "                               ,\"Percentage_Complex_Word\",\"Fog_Index\",\" AVG_NUMBER_OF_WORDS_PER_SENTENCE\",\"COMPLEX_WORDS\",\n",
    "                               \"Word_Count\",\"syllable\",\"Average_Word_Length\"])\n",
    "from textblob import TextBlob\n",
    "# Get The Subjectivity\n",
    "def sentiment_analysis(data):\n",
    "    sentiment = TextBlob(data[\"content\"]).sentiment\n",
    "    return pd.Series([sentiment.polarity,sentiment.subjectivity ])\n",
    "data[[\"polarity\", \"subjectivity\"]] = data.apply(sentiment_analysis, axis=1)\n",
    "data"
   ]
  },
  {
   "cell_type": "code",
   "execution_count": 2,
   "id": "6a37d8c0",
   "metadata": {},
   "outputs": [],
   "source": [
    "data.to_csv(r'C:\\Users\\Om Bhandwalkar\\Desktop\\BlackCoffer Assignment\\Output\\url_123.csv')"
   ]
  },
  {
   "cell_type": "code",
   "execution_count": null,
   "id": "dbdf5985",
   "metadata": {},
   "outputs": [],
   "source": []
  }
 ],
 "metadata": {
  "kernelspec": {
   "display_name": "Python 3 (ipykernel)",
   "language": "python",
   "name": "python3"
  },
  "language_info": {
   "codemirror_mode": {
    "name": "ipython",
    "version": 3
   },
   "file_extension": ".py",
   "mimetype": "text/x-python",
   "name": "python",
   "nbconvert_exporter": "python",
   "pygments_lexer": "ipython3",
   "version": "3.9.12"
  }
 },
 "nbformat": 4,
 "nbformat_minor": 5
}
