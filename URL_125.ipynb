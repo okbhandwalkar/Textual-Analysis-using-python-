{
 "cells": [
  {
   "cell_type": "code",
   "execution_count": 1,
   "id": "c99de4c5",
   "metadata": {},
   "outputs": [
    {
     "data": {
      "text/plain": [
       "'Should celebrities be allowed to join politics?'"
      ]
     },
     "execution_count": 1,
     "metadata": {},
     "output_type": "execute_result"
    }
   ],
   "source": [
    "import requests\n",
    "import pandas as pd \n",
    "from bs4 import BeautifulSoup\n",
    "import string\n",
    "import spacy\n",
    "import re\n",
    "url = \"\"\"https://insights.blackcoffer.com/should-celebrities-be-allowed-to-join-politics/\"\"\"\n",
    "headers = {\"User-Agent\": \"Mozilla/5.0 (X11; Linux x86_64; rv:60.0) Gecko/20100101 Firefox/60.0\"}\n",
    "page = requests.get(url, headers=headers)\n",
    "soup = BeautifulSoup(page.content, 'html.parser')\n",
    "soup=BeautifulSoup(page.content, 'html.parser')\n",
    "title=soup.find('h1',class_=\"entry-title\")\n",
    "title=title.text.replace('\\n',\" \")\n",
    "title\n"
   ]
  },
  {
   "cell_type": "code",
   "execution_count": 2,
   "id": "ac85a874",
   "metadata": {},
   "outputs": [
    {
     "name": "stdout",
     "output_type": "stream",
     "text": [
      " In today’s day and age of hyper-connectivity, celebrities – dubbed by Fraser and Brown (2002) as people who are famous for being famous and may or may not always serve others sacrificially – live in glass houses that are open to the prying eyes of the public. Notification bars are ever abuzz with news about when these celebrities wake up, what they wear to the gym, what they eat, and where they go on their vacations. In the idealized and idolized eyes with which society views celebrities, this unceasing visibility gives them an all-pervasive influence. The dominance of celebrities in swaying opinions of their acolyte is well-established – from advertisements in the print and pixel mediums, brand endorsements, and integrations, the evidence of exploiting celebrity influence is vast. However, today more than ever before, this influence is creeping away from the world of consumerism and into governance, policy, and politics. With an increasing number of public figures overtly taking strong and stronger political stances, making moves charged with a political motive, and eventually entering the sphere of legislature and bureaucracy, the scope of having a public influence has come to mean much more than it used to, thereby begging the question – how well-placed are personage in the world of politics? Should celebrities be allowed to join politics? The interplay between the seemingly contrasting worlds of celebrities and policy-makers have come into increasing contact, in India and the rest of the world-leading pop-music artists back presidential candidates, internationally acclaimed actors attempt international diplomacy, films are claimed to be vehicles of political messaging, Prime Ministerial banquets engage celluloid stars, and so on. The ‘influence’ that stars exert on the world of politics seems to encapsulate an entire spectrum of involvement – at the zenith of which are the celebrities who actually set foot into parliamentary assemblies and councils, to represent the public that they once only influenced. Although the phenomenon of the seeping of public influence into public policy has stretched through much of the 20th century, Choi and Berger (2001) suggest that the celebrity-politics connect continues to strengthen, much more than it did a few decades ago, as we trudge further into the century. Of the myriad causalities that underlie this circumstance, the global internet, where fame isn’t restricted to the confines of tangible achievement has been theorized to be a significant driver. In her 2009 book, Hyde labels this spectacle as a ‘mission creep’, where the enterprise of celebrities is expanding beyond its primary goals. A prodigious public following seems to be the parallel between the worlds of politics and personage, which paves the path for celebrities to cross over to politics. Celebrities seem to be able to transition into politics with a certain grace, having already learned to live in the public’s eye, and established themselves, allowing the carry-over of their already-known traits as celebrities into their role as policy-makers. The visibility that autochthonous politicians work years to nurture, celebrities already have as they descend into the political sphere. In one of the best-known instances of a celebrity transitioning into politics, Ronald Reagan walked away from Hollywood and into the White House, carrying with him his trademark charismatic on-screen personality that spilled over into his politics. Initially serving as the governor of California for 15 years in the late 1960s, Reagan served two terms at the Oval Office. The voters knew who Ronald was – those who closely followed the trends of the red and blue – but also those who did not, giving Reagan the edge that propelled him towards success. On the other side of the globe, India saw much the same trend as an on-screen persona aiding the creation of an off-screen political career. Ramanand Sagar’s television series ‘Ramayan’, based on the Hindu mythological epic, was revolutionary in the pious Indian society of the 1980s when television shows were still novel. It has been recounted on many an occasion that audiences would often offer their prayers to the television screen, every time Arun Govil, who portrayed the deity ‘Ram’ made an appearance on screen. Having garnered a devout, dutiful fan following, Govil, and his other co-actors from the show turned to the world of politics, where their godly association in the public’s eyes helped them make a mark. Even the Philippines has shown ample evidence of celebrities time and again swooping in to claim political victory with their stardom and popularity, that their opponents lack. Very often, the sentiment of anti-incumbency seems to be the golden ticket that lets celebrity politicians snatch political power from consummate politicians. Indeed, various political theorists suggest that anti-incumbency happens to be amongst the more effective strategies to secure vote banks. Until 31st December 2018, Ukrainian actor, screenwriter, and director Volodymyr Zelensky only played the lead in a sitcom that tells the story of a schoolteacher who accidentally becomes the president. It was that winter that Zelensky claimed that he was contesting the presidential elections to “change the mood and timbre of the political establishment” and to “bring professional, decent people to power”. Zelensky took the premise of his wildly popular show from the reel to the real, as he crushed rival, a seasoned politician, and incumbent Poroshenko in a landslide victory. Has Zelensky proved a better representative of his people than his predecessor? Time is yet to deliver its verdict. But the gushes that he invoked in the people of Ukraine, and his plea to oust ‘the ruling class’ played their role in assuring Zelensky 73% of the plebiscite. In the early 2010s in India, similar anti-incumbent sentimentalities were played into by the many celebrities including musician Vishal Dadlani, hockey legend Dhanraj Pillay, singer Jaspinder Narula, and others – all of whom joined hands with Arvind Kejriwal’s  ‘Aam Aadmi’ movement that aimed to rid the existing political system of its ills. And so, innumerable celebrities across countries and cultures claim the throne. In fact, a Wikipedia page that maintains an inventory of actor-politician spanning the atlas claims that it ‘may never be able to satisfy particular standards for completeness’ – depicting the sheer number of celebrities who reroute to politics. This begets questioning the congruence of the world of personage and that of politics.  In a research article published in 1995, Meyer and Gamson articulated the possibility of celebrities choosing to politically address only broadly acceptable social causes because they understand their power rests with staying popular, thereby failing to make any appreciable difference. This seems to ring true with some celebrity politicians in India, especially ones who are nominated to the Upper House of the Parliament but fail abysmally to leave a mark. One of many such representatives is Gautam Gambhir, a cricketer-turned-politician who has mostly been shunned for his abject performance in the parliament. Hema Malini, another popular actress who turned to politics, came under heavy criticism when her claim to be a protector of women’s rights wasn’t backed by an effort to fulfill her promises. Owing to such instances, research findings such as those by Nisbett and DeWalt (2016) find that the public often questions the intentions of the celebrities who venture into politics. It may also seem that in entering politics and failing to deliver, celebrity politicians often deprive grass-root political workers of the chance to enter the mainstream of politics. However, there is ample evidence from around the globe that goes to prove that celebrities can, in fact, make their mark in the world of governance, independent of their primary identities. Take the South Indian state of Tamil Nadu, for instance, where the political ethos has been consistently overshadowed by celebrities from the world of showbiz, for at least the last 40 years. As per data from the Ministry of Statistics & Programme Implementation, Tamil Nadu is amongst the top-performing states in the country, having the second-highest GDP. Most celebrities in Tamil Nadu who approached politics have exhibited extraordinary political will and caliber. The late actor-politician J. Jayalalithaa, or ‘Amma’, ran successful terms as chief minister and is still considered a mother figure by hordes of her followers. Another stalwart in the landscape of Tamil Nadu, Dr. MG Ramachandran, continues to be celebrated as one of the most influential chief ministers and is lauded for his large-scale reforms. In being the forerunner of some of the changes that propelled the state towards progress, including easing caste tensions and other communal violence, ‘MGR’ as he is better known, is remembered as much for his governance as he is for his innings on screen. More often than not, celebrity engagement in politics has been used to woo voters from the younger strata of the population. Empirical studies such as the one by Austin, Vord, Pinkleton, and Epstein (2008), have conclusively shown to enhance political engagement by younger voters.  Along similar lines, Jackson (2008) found that young people are more likely to agree with political positions that are endorsed by politicians. In fact, many modern political theorists are of the belief that the involvement of celebrities in politics allows for otherwise uninvolved or apathetic veins of the demographic, to be active participants in democracy. Hillary Clinton aimed to do just that when she got the Billboard-topping artists Beyonce and Jay-Z to take center-stage at her rally in Cleveland, in the weeks leading up to the 2016 US presidential elections – in fact, as multiple sources suggest, this rally did see a surge in millennial supporters. In such a case, it might be in the benefit of the community to have more celebrities endorse and engage in politics in order to nurture a more vibrant and engaged youth.    From our vantage point today, the relationship between personage and politics seems to be a central fixture in society and is here to stay. What remains to be done, however, is to ensure the symbiotic course of this relationship – to scrutinize and critique the celebrities who knock the doors of politics and to secure their promises of beneficence and non-maleficence to the public that it seeks to serve. Yet, it may seem that these are benchmarks that need to be met by any and all servants of the people – celebrity or not, but in the world that we live in, this is certainly not the case. Politicians – celebrity or not, largely happen upon the sphere of governance without a lot of experience backing them and learn to navigate the maze of politics on the job. Ultimately, like all things in democracy, the government is of the people and its representatives are of them, and for them. The eventual endorsement of its leaders – celebrity or not – can come, not from data-based analyses and elaborate critique, but from the people. Should celebrities be allowed to enter politics? The question remains unanswered. Or rather, is answered by the democratic exercise itself – with the beeps of electronic ballots election after election, when the people – the real ‘influencers’, choose. Blackcoffer Insights 16:-Guhan Narayanan(IIT Madras)and Preeti Kodancha(CHRIST Bangalore) \n",
      " In today’s day and age of hyperconnectivity celebrities – dubbed by Fraser and Brown 2002 as people who are famous for being famous and may or may not always serve others sacrificially – live in glass houses that are open to the prying eyes of the public Notification bars are ever abuzz with news about when these celebrities wake up what they wear to the gym what they eat and where they go on their vacations In the idealized and idolized eyes with which society views celebrities this unceasing visibility gives them an allpervasive influence The dominance of celebrities in swaying opinions of their acolyte is wellestablished – from advertisements in the print and pixel mediums brand endorsements and integrations the evidence of exploiting celebrity influence is vast However today more than ever before this influence is creeping away from the world of consumerism and into governance policy and politics With an increasing number of public figures overtly taking strong and stronger political stances making moves charged with a political motive and eventually entering the sphere of legislature and bureaucracy the scope of having a public influence has come to mean much more than it used to thereby begging the question – how wellplaced are personage in the world of politics Should celebrities be allowed to join politics The interplay between the seemingly contrasting worlds of celebrities and policymakers have come into increasing contact in India and the rest of the worldleading popmusic artists back presidential candidates internationally acclaimed actors attempt international diplomacy films are claimed to be vehicles of political messaging Prime Ministerial banquets engage celluloid stars and so on The ‘influence’ that stars exert on the world of politics seems to encapsulate an entire spectrum of involvement – at the zenith of which are the celebrities who actually set foot into parliamentary assemblies and councils to represent the public that they once only influenced Although the phenomenon of the seeping of public influence into public policy has stretched through much of the 20th century Choi and Berger 2001 suggest that the celebritypolitics connect continues to strengthen much more than it did a few decades ago as we trudge further into the century Of the myriad causalities that underlie this circumstance the global internet where fame isn’t restricted to the confines of tangible achievement has been theorized to be a significant driver In her 2009 book Hyde labels this spectacle as a ‘mission creep’ where the enterprise of celebrities is expanding beyond its primary goals A prodigious public following seems to be the parallel between the worlds of politics and personage which paves the path for celebrities to cross over to politics Celebrities seem to be able to transition into politics with a certain grace having already learned to live in the public’s eye and established themselves allowing the carryover of their alreadyknown traits as celebrities into their role as policymakers The visibility that autochthonous politicians work years to nurture celebrities already have as they descend into the political sphere In one of the bestknown instances of a celebrity transitioning into politics Ronald Reagan walked away from Hollywood and into the White House carrying with him his trademark charismatic onscreen personality that spilled over into his politics Initially serving as the governor of California for 15 years in the late 1960s Reagan served two terms at the Oval Office The voters knew who Ronald was – those who closely followed the trends of the red and blue – but also those who did not giving Reagan the edge that propelled him towards success On the other side of the globe India saw much the same trend as an onscreen persona aiding the creation of an offscreen political career Ramanand Sagar’s television series ‘Ramayan’ based on the Hindu mythological epic was revolutionary in the pious Indian society of the 1980s when television shows were still novel It has been recounted on many an occasion that audiences would often offer their prayers to the television screen every time Arun Govil who portrayed the deity ‘Ram’ made an appearance on screen Having garnered a devout dutiful fan following Govil and his other coactors from the show turned to the world of politics where their godly association in the public’s eyes helped them make a mark Even the Philippines has shown ample evidence of celebrities time and again swooping in to claim political victory with their stardom and popularity that their opponents lack Very often the sentiment of antiincumbency seems to be the golden ticket that lets celebrity politicians snatch political power from consummate politicians Indeed various political theorists suggest that antiincumbency happens to be amongst the more effective strategies to secure vote banks Until 31st December 2018 Ukrainian actor screenwriter and director Volodymyr Zelensky only played the lead in a sitcom that tells the story of a schoolteacher who accidentally becomes the president It was that winter that Zelensky claimed that he was contesting the presidential elections to “change the mood and timbre of the political establishment” and to “bring professional decent people to power” Zelensky took the premise of his wildly popular show from the reel to the real as he crushed rival a seasoned politician and incumbent Poroshenko in a landslide victory Has Zelensky proved a better representative of his people than his predecessor Time is yet to deliver its verdict But the gushes that he invoked in the people of Ukraine and his plea to oust ‘the ruling class’ played their role in assuring Zelensky 73 of the plebiscite In the early 2010s in India similar antiincumbent sentimentalities were played into by the many celebrities including musician Vishal Dadlani hockey legend Dhanraj Pillay singer Jaspinder Narula and others – all of whom joined hands with Arvind Kejriwal’s  ‘Aam Aadmi’ movement that aimed to rid the existing political system of its ills And so innumerable celebrities across countries and cultures claim the throne In fact a Wikipedia page that maintains an inventory of actorpolitician spanning the atlas claims that it ‘may never be able to satisfy particular standards for completeness’ – depicting the sheer number of celebrities who reroute to politics This begets questioning the congruence of the world of personage and that of politics  In a research article published in 1995 Meyer and Gamson articulated the possibility of celebrities choosing to politically address only broadly acceptable social causes because they understand their power rests with staying popular thereby failing to make any appreciable difference This seems to ring true with some celebrity politicians in India especially ones who are nominated to the Upper House of the Parliament but fail abysmally to leave a mark One of many such representatives is Gautam Gambhir a cricketerturnedpolitician who has mostly been shunned for his abject performance in the parliament Hema Malini another popular actress who turned to politics came under heavy criticism when her claim to be a protector of women’s rights wasn’t backed by an effort to fulfill her promises Owing to such instances research findings such as those by Nisbett and DeWalt 2016 find that the public often questions the intentions of the celebrities who venture into politics It may also seem that in entering politics and failing to deliver celebrity politicians often deprive grassroot political workers of the chance to enter the mainstream of politics However there is ample evidence from around the globe that goes to prove that celebrities can in fact make their mark in the world of governance independent of their primary identities Take the South Indian state of Tamil Nadu for instance where the political ethos has been consistently overshadowed by celebrities from the world of showbiz for at least the last 40 years As per data from the Ministry of Statistics  Programme Implementation Tamil Nadu is amongst the topperforming states in the country having the secondhighest GDP Most celebrities in Tamil Nadu who approached politics have exhibited extraordinary political will and caliber The late actorpolitician J Jayalalithaa or ‘Amma’ ran successful terms as chief minister and is still considered a mother figure by hordes of her followers Another stalwart in the landscape of Tamil Nadu Dr MG Ramachandran continues to be celebrated as one of the most influential chief ministers and is lauded for his largescale reforms In being the forerunner of some of the changes that propelled the state towards progress including easing caste tensions and other communal violence ‘MGR’ as he is better known is remembered as much for his governance as he is for his innings on screen More often than not celebrity engagement in politics has been used to woo voters from the younger strata of the population Empirical studies such as the one by Austin Vord Pinkleton and Epstein 2008 have conclusively shown to enhance political engagement by younger voters  Along similar lines Jackson 2008 found that young people are more likely to agree with political positions that are endorsed by politicians In fact many modern political theorists are of the belief that the involvement of celebrities in politics allows for otherwise uninvolved or apathetic veins of the demographic to be active participants in democracy Hillary Clinton aimed to do just that when she got the Billboardtopping artists Beyonce and JayZ to take centerstage at her rally in Cleveland in the weeks leading up to the 2016 US presidential elections – in fact as multiple sources suggest this rally did see a surge in millennial supporters In such a case it might be in the benefit of the community to have more celebrities endorse and engage in politics in order to nurture a more vibrant and engaged youth    From our vantage point today the relationship between personage and politics seems to be a central fixture in society and is here to stay What remains to be done however is to ensure the symbiotic course of this relationship – to scrutinize and critique the celebrities who knock the doors of politics and to secure their promises of beneficence and nonmaleficence to the public that it seeks to serve Yet it may seem that these are benchmarks that need to be met by any and all servants of the people – celebrity or not but in the world that we live in this is certainly not the case Politicians – celebrity or not largely happen upon the sphere of governance without a lot of experience backing them and learn to navigate the maze of politics on the job Ultimately like all things in democracy the government is of the people and its representatives are of them and for them The eventual endorsement of its leaders – celebrity or not – can come not from databased analyses and elaborate critique but from the people Should celebrities be allowed to enter politics The question remains unanswered Or rather is answered by the democratic exercise itself – with the beeps of electronic ballots election after election when the people – the real ‘influencers’ choose Blackcoffer Insights 16Guhan NarayananIIT Madrasand Preeti KodanchaCHRIST Bangalore \n",
      "['In', 'today’s', 'day', 'and', 'age', 'of', 'hyperconnectivity', 'celebrities', '–', 'dubbed', 'by', 'Fraser', 'and', 'Brown', '2002', 'as', 'people', 'who', 'are', 'famous', 'for', 'being', 'famous', 'and', 'may', 'or', 'may', 'not', 'always', 'serve', 'others', 'sacrificially', '–', 'live', 'in', 'glass', 'houses', 'that', 'are', 'open', 'to', 'the', 'prying', 'eyes', 'of', 'the', 'public', 'Notification', 'bars', 'are', 'ever', 'abuzz', 'with', 'news', 'about', 'when', 'these', 'celebrities', 'wake', 'up', 'what', 'they', 'wear', 'to', 'the', 'gym', 'what', 'they', 'eat', 'and', 'where', 'they', 'go', 'on', 'their', 'vacations', 'In', 'the', 'idealized', 'and', 'idolized', 'eyes', 'with', 'which', 'society', 'views', 'celebrities', 'this', 'unceasing', 'visibility', 'gives', 'them', 'an', 'allpervasive', 'influence', 'The', 'dominance', 'of', 'celebrities', 'in', 'swaying', 'opinions', 'of', 'their', 'acolyte', 'is', 'wellestablished', '–', 'from', 'advertisements', 'in', 'the', 'print', 'and', 'pixel', 'mediums', 'brand', 'endorsements', 'and', 'integrations', 'the', 'evidence', 'of', 'exploiting', 'celebrity', 'influence', 'is', 'vast', 'However', 'today', 'more', 'than', 'ever', 'before', 'this', 'influence', 'is', 'creeping', 'away', 'from', 'the', 'world', 'of', 'consumerism', 'and', 'into', 'governance', 'policy', 'and', 'politics', 'With', 'an', 'increasing', 'number', 'of', 'public', 'figures', 'overtly', 'taking', 'strong', 'and', 'stronger', 'political', 'stances', 'making', 'moves', 'charged', 'with', 'a', 'political', 'motive', 'and', 'eventually', 'entering', 'the', 'sphere', 'of', 'legislature', 'and', 'bureaucracy', 'the', 'scope', 'of', 'having', 'a', 'public', 'influence', 'has', 'come', 'to', 'mean', 'much', 'more', 'than', 'it', 'used', 'to', 'thereby', 'begging', 'the', 'question', '–', 'how', 'wellplaced', 'are', 'personage', 'in', 'the', 'world', 'of', 'politics', 'Should', 'celebrities', 'be', 'allowed', 'to', 'join', 'politics', 'The', 'interplay', 'between', 'the', 'seemingly', 'contrasting', 'worlds', 'of', 'celebrities', 'and', 'policymakers', 'have', 'come', 'into', 'increasing', 'contact', 'in', 'India', 'and', 'the', 'rest', 'of', 'the', 'worldleading', 'popmusic', 'artists', 'back', 'presidential', 'candidates', 'internationally', 'acclaimed', 'actors', 'attempt', 'international', 'diplomacy', 'films', 'are', 'claimed', 'to', 'be', 'vehicles', 'of', 'political', 'messaging', 'Prime', 'Ministerial', 'banquets', 'engage', 'celluloid', 'stars', 'and', 'so', 'on', 'The', '‘influence’', 'that', 'stars', 'exert', 'on', 'the', 'world', 'of', 'politics', 'seems', 'to', 'encapsulate', 'an', 'entire', 'spectrum', 'of', 'involvement', '–', 'at', 'the', 'zenith', 'of', 'which', 'are', 'the', 'celebrities', 'who', 'actually', 'set', 'foot', 'into', 'parliamentary', 'assemblies', 'and', 'councils', 'to', 'represent', 'the', 'public', 'that', 'they', 'once', 'only', 'influenced', 'Although', 'the', 'phenomenon', 'of', 'the', 'seeping', 'of', 'public', 'influence', 'into', 'public', 'policy', 'has', 'stretched', 'through', 'much', 'of', 'the', '20th', 'century', 'Choi', 'and', 'Berger', '2001', 'suggest', 'that', 'the', 'celebritypolitics', 'connect', 'continues', 'to', 'strengthen', 'much', 'more', 'than', 'it', 'did', 'a', 'few', 'decades', 'ago', 'as', 'we', 'trudge', 'further', 'into', 'the', 'century', 'Of', 'the', 'myriad', 'causalities', 'that', 'underlie', 'this', 'circumstance', 'the', 'global', 'internet', 'where', 'fame', 'isn’t', 'restricted', 'to', 'the', 'confines', 'of', 'tangible', 'achievement', 'has', 'been', 'theorized', 'to', 'be', 'a', 'significant', 'driver', 'In', 'her', '2009', 'book', 'Hyde', 'labels', 'this', 'spectacle', 'as', 'a', '‘mission', 'creep’', 'where', 'the', 'enterprise', 'of', 'celebrities', 'is', 'expanding', 'beyond', 'its', 'primary', 'goals', 'A', 'prodigious', 'public', 'following', 'seems', 'to', 'be', 'the', 'parallel', 'between', 'the', 'worlds', 'of', 'politics', 'and', 'personage', 'which', 'paves', 'the', 'path', 'for', 'celebrities', 'to', 'cross', 'over', 'to', 'politics', 'Celebrities', 'seem', 'to', 'be', 'able', 'to', 'transition', 'into', 'politics', 'with', 'a', 'certain', 'grace', 'having', 'already', 'learned', 'to', 'live', 'in', 'the', 'public’s', 'eye', 'and', 'established', 'themselves', 'allowing', 'the', 'carryover', 'of', 'their', 'alreadyknown', 'traits', 'as', 'celebrities', 'into', 'their', 'role', 'as', 'policymakers', 'The', 'visibility', 'that', 'autochthonous', 'politicians', 'work', 'years', 'to', 'nurture', 'celebrities', 'already', 'have', 'as', 'they', 'descend', 'into', 'the', 'political', 'sphere', 'In', 'one', 'of', 'the', 'bestknown', 'instances', 'of', 'a', 'celebrity', 'transitioning', 'into', 'politics', 'Ronald', 'Reagan', 'walked', 'away', 'from', 'Hollywood', 'and', 'into', 'the', 'White', 'House', 'carrying', 'with', 'him', 'his', 'trademark', 'charismatic', 'onscreen', 'personality', 'that', 'spilled', 'over', 'into', 'his', 'politics', 'Initially', 'serving', 'as', 'the', 'governor', 'of', 'California', 'for', '15', 'years', 'in', 'the', 'late', '1960s', 'Reagan', 'served', 'two', 'terms', 'at', 'the', 'Oval', 'Office', 'The', 'voters', 'knew', 'who', 'Ronald', 'was', '–', 'those', 'who', 'closely', 'followed', 'the', 'trends', 'of', 'the', 'red', 'and', 'blue', '–', 'but', 'also', 'those', 'who', 'did', 'not', 'giving', 'Reagan', 'the', 'edge', 'that', 'propelled', 'him', 'towards', 'success', 'On', 'the', 'other', 'side', 'of', 'the', 'globe', 'India', 'saw', 'much', 'the', 'same', 'trend', 'as', 'an', 'onscreen', 'persona', 'aiding', 'the', 'creation', 'of', 'an', 'offscreen', 'political', 'career', 'Ramanand', 'Sagar’s', 'television', 'series', '‘Ramayan’', 'based', 'on', 'the', 'Hindu', 'mythological', 'epic', 'was', 'revolutionary', 'in', 'the', 'pious', 'Indian', 'society', 'of', 'the', '1980s', 'when', 'television', 'shows', 'were', 'still', 'novel', 'It', 'has', 'been', 'recounted', 'on', 'many', 'an', 'occasion', 'that', 'audiences', 'would', 'often', 'offer', 'their', 'prayers', 'to', 'the', 'television', 'screen', 'every', 'time', 'Arun', 'Govil', 'who', 'portrayed', 'the', 'deity', '‘Ram’', 'made', 'an', 'appearance', 'on', 'screen', 'Having', 'garnered', 'a', 'devout', 'dutiful', 'fan', 'following', 'Govil', 'and', 'his', 'other', 'coactors', 'from', 'the', 'show', 'turned', 'to', 'the', 'world', 'of', 'politics', 'where', 'their', 'godly', 'association', 'in', 'the', 'public’s', 'eyes', 'helped', 'them', 'make', 'a', 'mark', 'Even', 'the', 'Philippines', 'has', 'shown', 'ample', 'evidence', 'of', 'celebrities', 'time', 'and', 'again', 'swooping', 'in', 'to', 'claim', 'political', 'victory', 'with', 'their', 'stardom', 'and', 'popularity', 'that', 'their', 'opponents', 'lack', 'Very', 'often', 'the', 'sentiment', 'of', 'antiincumbency', 'seems', 'to', 'be', 'the', 'golden', 'ticket', 'that', 'lets', 'celebrity', 'politicians', 'snatch', 'political', 'power', 'from', 'consummate', 'politicians', 'Indeed', 'various', 'political', 'theorists', 'suggest', 'that', 'antiincumbency', 'happens', 'to', 'be', 'amongst', 'the', 'more', 'effective', 'strategies', 'to', 'secure', 'vote', 'banks', 'Until', '31st', 'December', '2018', 'Ukrainian', 'actor', 'screenwriter', 'and', 'director', 'Volodymyr', 'Zelensky', 'only', 'played', 'the', 'lead', 'in', 'a', 'sitcom', 'that', 'tells', 'the', 'story', 'of', 'a', 'schoolteacher', 'who', 'accidentally', 'becomes', 'the', 'president', 'It', 'was', 'that', 'winter', 'that', 'Zelensky', 'claimed', 'that', 'he', 'was', 'contesting', 'the', 'presidential', 'elections', 'to', '“change', 'the', 'mood', 'and', 'timbre', 'of', 'the', 'political', 'establishment”', 'and', 'to', '“bring', 'professional', 'decent', 'people', 'to', 'power”', 'Zelensky', 'took', 'the', 'premise', 'of', 'his', 'wildly', 'popular', 'show', 'from', 'the', 'reel', 'to', 'the', 'real', 'as', 'he', 'crushed', 'rival', 'a', 'seasoned', 'politician', 'and', 'incumbent', 'Poroshenko', 'in', 'a', 'landslide', 'victory', 'Has', 'Zelensky', 'proved', 'a', 'better', 'representative', 'of', 'his', 'people', 'than', 'his', 'predecessor', 'Time', 'is', 'yet', 'to', 'deliver', 'its', 'verdict', 'But', 'the', 'gushes', 'that', 'he', 'invoked', 'in', 'the', 'people', 'of', 'Ukraine', 'and', 'his', 'plea', 'to', 'oust', '‘the', 'ruling', 'class’', 'played', 'their', 'role', 'in', 'assuring', 'Zelensky', '73', 'of', 'the', 'plebiscite', 'In', 'the', 'early', '2010s', 'in', 'India', 'similar', 'antiincumbent', 'sentimentalities', 'were', 'played', 'into', 'by', 'the', 'many', 'celebrities', 'including', 'musician', 'Vishal', 'Dadlani', 'hockey', 'legend', 'Dhanraj', 'Pillay', 'singer', 'Jaspinder', 'Narula', 'and', 'others', '–', 'all', 'of', 'whom', 'joined', 'hands', 'with', 'Arvind', 'Kejriwal’s', '‘Aam', 'Aadmi’', 'movement', 'that', 'aimed', 'to', 'rid', 'the', 'existing', 'political', 'system', 'of', 'its', 'ills', 'And', 'so', 'innumerable', 'celebrities', 'across', 'countries', 'and', 'cultures', 'claim', 'the', 'throne', 'In', 'fact', 'a', 'Wikipedia', 'page', 'that', 'maintains', 'an', 'inventory', 'of', 'actorpolitician', 'spanning', 'the', 'atlas', 'claims', 'that', 'it', '‘may', 'never', 'be', 'able', 'to', 'satisfy', 'particular', 'standards', 'for', 'completeness’', '–', 'depicting', 'the', 'sheer', 'number', 'of', 'celebrities', 'who', 'reroute', 'to', 'politics', 'This', 'begets', 'questioning', 'the', 'congruence', 'of', 'the', 'world', 'of', 'personage', 'and', 'that', 'of', 'politics', 'In', 'a', 'research', 'article', 'published', 'in', '1995', 'Meyer', 'and', 'Gamson', 'articulated', 'the', 'possibility', 'of', 'celebrities', 'choosing', 'to', 'politically', 'address', 'only', 'broadly', 'acceptable', 'social', 'causes', 'because', 'they', 'understand', 'their', 'power', 'rests', 'with', 'staying', 'popular', 'thereby', 'failing', 'to', 'make', 'any', 'appreciable', 'difference', 'This', 'seems', 'to', 'ring', 'true', 'with', 'some', 'celebrity', 'politicians', 'in', 'India', 'especially', 'ones', 'who', 'are', 'nominated', 'to', 'the', 'Upper', 'House', 'of', 'the', 'Parliament', 'but', 'fail', 'abysmally', 'to', 'leave', 'a', 'mark', 'One', 'of', 'many', 'such', 'representatives', 'is', 'Gautam', 'Gambhir', 'a', 'cricketerturnedpolitician', 'who', 'has', 'mostly', 'been', 'shunned', 'for', 'his', 'abject', 'performance', 'in', 'the', 'parliament', 'Hema', 'Malini', 'another', 'popular', 'actress', 'who', 'turned', 'to', 'politics', 'came', 'under', 'heavy', 'criticism', 'when', 'her', 'claim', 'to', 'be', 'a', 'protector', 'of', 'women’s', 'rights', 'wasn’t', 'backed', 'by', 'an', 'effort', 'to', 'fulfill', 'her', 'promises', 'Owing', 'to', 'such', 'instances', 'research', 'findings', 'such', 'as', 'those', 'by', 'Nisbett', 'and', 'DeWalt', '2016', 'find', 'that', 'the', 'public', 'often', 'questions', 'the', 'intentions', 'of', 'the', 'celebrities', 'who', 'venture', 'into', 'politics', 'It', 'may', 'also', 'seem', 'that', 'in', 'entering', 'politics', 'and', 'failing', 'to', 'deliver', 'celebrity', 'politicians', 'often', 'deprive', 'grassroot', 'political', 'workers', 'of', 'the', 'chance', 'to', 'enter', 'the', 'mainstream', 'of', 'politics', 'However', 'there', 'is', 'ample', 'evidence', 'from', 'around', 'the', 'globe', 'that', 'goes', 'to', 'prove', 'that', 'celebrities', 'can', 'in', 'fact', 'make', 'their', 'mark', 'in', 'the', 'world', 'of', 'governance', 'independent', 'of', 'their', 'primary', 'identities', 'Take', 'the', 'South', 'Indian', 'state', 'of', 'Tamil', 'Nadu', 'for', 'instance', 'where', 'the', 'political', 'ethos', 'has', 'been', 'consistently', 'overshadowed', 'by', 'celebrities', 'from', 'the', 'world', 'of', 'showbiz', 'for', 'at', 'least', 'the', 'last', '40', 'years', 'As', 'per', 'data', 'from', 'the', 'Ministry', 'of', 'Statistics', 'Programme', 'Implementation', 'Tamil', 'Nadu', 'is', 'amongst', 'the', 'topperforming', 'states', 'in', 'the', 'country', 'having', 'the', 'secondhighest', 'GDP', 'Most', 'celebrities', 'in', 'Tamil', 'Nadu', 'who', 'approached', 'politics', 'have', 'exhibited', 'extraordinary', 'political', 'will', 'and', 'caliber', 'The', 'late', 'actorpolitician', 'J', 'Jayalalithaa', 'or', '‘Amma’', 'ran', 'successful', 'terms', 'as', 'chief', 'minister', 'and', 'is', 'still', 'considered', 'a', 'mother', 'figure', 'by', 'hordes', 'of', 'her', 'followers', 'Another', 'stalwart', 'in', 'the', 'landscape', 'of', 'Tamil', 'Nadu', 'Dr', 'MG', 'Ramachandran', 'continues', 'to', 'be', 'celebrated', 'as', 'one', 'of', 'the', 'most', 'influential', 'chief', 'ministers', 'and', 'is', 'lauded', 'for', 'his', 'largescale', 'reforms', 'In', 'being', 'the', 'forerunner', 'of', 'some', 'of', 'the', 'changes', 'that', 'propelled', 'the', 'state', 'towards', 'progress', 'including', 'easing', 'caste', 'tensions', 'and', 'other', 'communal', 'violence', '‘MGR’', 'as', 'he', 'is', 'better', 'known', 'is', 'remembered', 'as', 'much', 'for', 'his', 'governance', 'as', 'he', 'is', 'for', 'his', 'innings', 'on', 'screen', 'More', 'often', 'than', 'not', 'celebrity', 'engagement', 'in', 'politics', 'has', 'been', 'used', 'to', 'woo', 'voters', 'from', 'the', 'younger', 'strata', 'of', 'the', 'population', 'Empirical', 'studies', 'such', 'as', 'the', 'one', 'by', 'Austin', 'Vord', 'Pinkleton', 'and', 'Epstein', '2008', 'have', 'conclusively', 'shown', 'to', 'enhance', 'political', 'engagement', 'by', 'younger', 'voters', 'Along', 'similar', 'lines', 'Jackson', '2008', 'found', 'that', 'young', 'people', 'are', 'more', 'likely', 'to', 'agree', 'with', 'political', 'positions', 'that', 'are', 'endorsed', 'by', 'politicians', 'In', 'fact', 'many', 'modern', 'political', 'theorists', 'are', 'of', 'the', 'belief', 'that', 'the', 'involvement', 'of', 'celebrities', 'in', 'politics', 'allows', 'for', 'otherwise', 'uninvolved', 'or', 'apathetic', 'veins', 'of', 'the', 'demographic', 'to', 'be', 'active', 'participants', 'in', 'democracy', 'Hillary', 'Clinton', 'aimed', 'to', 'do', 'just', 'that', 'when', 'she', 'got', 'the', 'Billboardtopping', 'artists', 'Beyonce', 'and', 'JayZ', 'to', 'take', 'centerstage', 'at', 'her', 'rally', 'in', 'Cleveland', 'in', 'the', 'weeks', 'leading', 'up', 'to', 'the', '2016', 'US', 'presidential', 'elections', '–', 'in', 'fact', 'as', 'multiple', 'sources', 'suggest', 'this', 'rally', 'did', 'see', 'a', 'surge', 'in', 'millennial', 'supporters', 'In', 'such', 'a', 'case', 'it', 'might', 'be', 'in', 'the', 'benefit', 'of', 'the', 'community', 'to', 'have', 'more', 'celebrities', 'endorse', 'and', 'engage', 'in', 'politics', 'in', 'order', 'to', 'nurture', 'a', 'more', 'vibrant', 'and', 'engaged', 'youth', 'From', 'our', 'vantage', 'point', 'today', 'the', 'relationship', 'between', 'personage', 'and', 'politics', 'seems', 'to', 'be', 'a', 'central', 'fixture', 'in', 'society', 'and', 'is', 'here', 'to', 'stay', 'What', 'remains', 'to', 'be', 'done', 'however', 'is', 'to', 'ensure', 'the', 'symbiotic', 'course', 'of', 'this', 'relationship', '–', 'to', 'scrutinize', 'and', 'critique', 'the', 'celebrities', 'who', 'knock', 'the', 'doors', 'of', 'politics', 'and', 'to', 'secure', 'their', 'promises', 'of', 'beneficence', 'and', 'nonmaleficence', 'to', 'the', 'public', 'that', 'it', 'seeks', 'to', 'serve', 'Yet', 'it', 'may', 'seem', 'that', 'these', 'are', 'benchmarks', 'that', 'need', 'to', 'be', 'met', 'by', 'any', 'and', 'all', 'servants', 'of', 'the', 'people', '–', 'celebrity', 'or', 'not', 'but', 'in', 'the', 'world', 'that', 'we', 'live', 'in', 'this', 'is', 'certainly', 'not', 'the', 'case', 'Politicians', '–', 'celebrity', 'or', 'not', 'largely', 'happen', 'upon', 'the', 'sphere', 'of', 'governance', 'without', 'a', 'lot', 'of', 'experience', 'backing', 'them', 'and', 'learn', 'to', 'navigate', 'the', 'maze', 'of', 'politics', 'on', 'the', 'job', 'Ultimately', 'like', 'all', 'things', 'in', 'democracy', 'the', 'government', 'is', 'of', 'the', 'people', 'and', 'its', 'representatives', 'are', 'of', 'them', 'and', 'for', 'them', 'The', 'eventual', 'endorsement', 'of', 'its', 'leaders', '–', 'celebrity', 'or', 'not', '–', 'can', 'come', 'not', 'from', 'databased', 'analyses', 'and', 'elaborate', 'critique', 'but', 'from', 'the', 'people', 'Should', 'celebrities', 'be', 'allowed', 'to', 'enter', 'politics', 'The', 'question', 'remains', 'unanswered', 'Or', 'rather', 'is', 'answered', 'by', 'the', 'democratic', 'exercise', 'itself', '–', 'with', 'the', 'beeps', 'of', 'electronic', 'ballots', 'election', 'after', 'election', 'when', 'the', 'people', '–', 'the', 'real', '‘influencers’', 'choose', 'Blackcoffer', 'Insights', '16Guhan', 'NarayananIIT', 'Madrasand', 'Preeti', 'KodanchaCHRIST', 'Bangalore']\n"
     ]
    }
   ],
   "source": [
    "content=soup.findAll(attrs={'class':'td-post-content'})\n",
    "content=content[0].text.replace('\\n',\" \")\n",
    "print(content)\n",
    "#Punctuation\n",
    "content = content.translate(str.maketrans('', '', string.punctuation)) \n",
    "print(content)\n",
    "text = content.split()\n",
    "print(text)\n"
   ]
  },
  {
   "cell_type": "code",
   "execution_count": 3,
   "id": "6333154b",
   "metadata": {},
   "outputs": [
    {
     "data": {
      "text/plain": [
       "1828"
      ]
     },
     "execution_count": 3,
     "metadata": {},
     "output_type": "execute_result"
    }
   ],
   "source": [
    "len(text)"
   ]
  },
  {
   "cell_type": "code",
   "execution_count": 4,
   "id": "0138493f",
   "metadata": {},
   "outputs": [
    {
     "name": "stdout",
     "output_type": "stream",
     "text": [
      "58\n"
     ]
    }
   ],
   "source": [
    "#Positive Score \n",
    "with open(r\"C:\\Users\\Om Bhandwalkar\\Desktop\\pos\\positive-words.txt\") as pos:\n",
    "    poswords = pos.read().split(\"\\n\")  \n",
    "    poswords = poswords[5:]\n",
    "pos_count = \" \".join ([w for w in text if w in poswords])\n",
    "pos_count=pos_count.split(\" \")\n",
    "Positive_score=len(pos_count)\n",
    "print(Positive_score)"
   ]
  },
  {
   "cell_type": "code",
   "execution_count": 5,
   "id": "b4953561",
   "metadata": {},
   "outputs": [
    {
     "name": "stdout",
     "output_type": "stream",
     "text": [
      "17\n"
     ]
    }
   ],
   "source": [
    "#Negative Score\n",
    "with open(r\"C:\\Users\\Om Bhandwalkar\\Desktop\\pos\\negative-words.txt\",encoding =\"ISO-8859-1\") as neg:\n",
    "    negwords = neg.read().split(\"\\n\")\n",
    "    \n",
    "negwords = negwords[36:]\n",
    "neg_count = \" \".join ([w for w in text if w in negwords])\n",
    "neg_count=neg_count.split(\" \")\n",
    "Negative_score=len(neg_count)\n",
    "print(Negative_score)"
   ]
  },
  {
   "cell_type": "code",
   "execution_count": 6,
   "id": "72d3c81a",
   "metadata": {},
   "outputs": [
    {
     "data": {
      "text/html": [
       "<div>\n",
       "<style scoped>\n",
       "    .dataframe tbody tr th:only-of-type {\n",
       "        vertical-align: middle;\n",
       "    }\n",
       "\n",
       "    .dataframe tbody tr th {\n",
       "        vertical-align: top;\n",
       "    }\n",
       "\n",
       "    .dataframe thead th {\n",
       "        text-align: right;\n",
       "    }\n",
       "</style>\n",
       "<table border=\"1\" class=\"dataframe\">\n",
       "  <thead>\n",
       "    <tr style=\"text-align: right;\">\n",
       "      <th></th>\n",
       "      <th>url</th>\n",
       "      <th>title</th>\n",
       "      <th>content</th>\n",
       "      <th>filter_content</th>\n",
       "      <th>Positive_Score</th>\n",
       "      <th>Negative_Score</th>\n",
       "      <th>polarity</th>\n",
       "      <th>subjectivity</th>\n",
       "    </tr>\n",
       "  </thead>\n",
       "  <tbody>\n",
       "    <tr>\n",
       "      <th>0</th>\n",
       "      <td>https://insights.blackcoffer.com/should-celebr...</td>\n",
       "      <td>Should celebrities be allowed to join politics?</td>\n",
       "      <td>In today’s day and age of hyperconnectivity c...</td>\n",
       "      <td>In today’s day and age of hyperconnectivity ce...</td>\n",
       "      <td>58</td>\n",
       "      <td>17</td>\n",
       "      <td>0.134633</td>\n",
       "      <td>0.379255</td>\n",
       "    </tr>\n",
       "  </tbody>\n",
       "</table>\n",
       "</div>"
      ],
      "text/plain": [
       "                                                 url  \\\n",
       "0  https://insights.blackcoffer.com/should-celebr...   \n",
       "\n",
       "                                             title  \\\n",
       "0  Should celebrities be allowed to join politics?   \n",
       "\n",
       "                                             content  \\\n",
       "0   In today’s day and age of hyperconnectivity c...   \n",
       "\n",
       "                                      filter_content  Positive_Score  \\\n",
       "0  In today’s day and age of hyperconnectivity ce...              58   \n",
       "\n",
       "   Negative_Score  polarity  subjectivity  \n",
       "0              17  0.134633      0.379255  "
      ]
     },
     "execution_count": 6,
     "metadata": {},
     "output_type": "execute_result"
    }
   ],
   "source": [
    "filter_content = ' '.join(text)\n",
    "data=[[url,title,content,filter_content,Positive_score,Negative_score]]\n",
    "data=pd.DataFrame(data,columns=[\"url\",\"title\",\"content\",\"filter_content\",\"Positive_Score\",\"Negative_Score\"])\n",
    "from textblob import TextBlob\n",
    "# Get The Subjectivity\n",
    "def sentiment_analysis(data):\n",
    "    sentiment = TextBlob(data[\"content\"]).sentiment\n",
    "    return pd.Series([sentiment.polarity,sentiment.subjectivity ])\n",
    "\n",
    "# Adding Subjectivity & Polarity\n",
    "data[[\"polarity\", \"subjectivity\"]] = data.apply(sentiment_analysis, axis=1)\n",
    "\n",
    "data"
   ]
  },
  {
   "cell_type": "code",
   "execution_count": 7,
   "id": "c1781e14",
   "metadata": {},
   "outputs": [
    {
     "name": "stdout",
     "output_type": "stream",
     "text": [
      "Word average = 9492.0\n",
      "FOG INDEX =  728.84\n",
      "Average no of words per sentence\n",
      "1828.0\n",
      "Complex Words 3370\n"
     ]
    }
   ],
   "source": [
    "#AVG SENTENCE LENGTH\n",
    "AVG_SENTENCE_LENGTH = len(content.replace(' ',''))/len(re.split(r'[?!.]', content))\n",
    "print('Word average =', AVG_SENTENCE_LENGTH)\n",
    "import textstat\n",
    "#Fog index \n",
    "FOG_INDEX=(textstat.gunning_fog(content))\n",
    "print(\"FOG INDEX = \",FOG_INDEX)\n",
    "#Average No of Words Per Sentence \n",
    "AVG_NUMBER_OF_WORDS_PER_SENTENCE = [len(l.split()) for l in re.split(r'[?!.]', content) if l.strip()]\n",
    "print(\"Average no of words per sentence\")\n",
    "AVG_NUMBER_OF_WORDS_PER_SENTENCE=print(sum(AVG_NUMBER_OF_WORDS_PER_SENTENCE)/len(AVG_NUMBER_OF_WORDS_PER_SENTENCE))\n",
    "#Complex words\n",
    "def syllable_count(word):\n",
    "    count = 0\n",
    "    vowels = \"AEIOUYaeiouy\"\n",
    "    if word[0] in vowels:\n",
    "        count += 1\n",
    "    for index in range(1, len(word)): \n",
    "        if word[index] in vowels and word[index - 1] not in vowels:\n",
    "            count += 1\n",
    "            if word.endswith(\"es\"or \"ed\"):\n",
    "                count -= 1\n",
    "    if count == 0:\n",
    "        count += 1\n",
    "    return count\n",
    "\n",
    "\n",
    "\n",
    "COMPLEX_WORDS=syllable_count(content)\n",
    "print(\"Complex Words\",COMPLEX_WORDS)\n"
   ]
  },
  {
   "cell_type": "code",
   "execution_count": 8,
   "id": "3202ac8e",
   "metadata": {},
   "outputs": [
    {
     "name": "stdout",
     "output_type": "stream",
     "text": [
      "Word Count 11322\n",
      "Percentage of Complex Words 29.765059176823883\n",
      "Average Word per Length 5.192560175054704\n",
      "The AVG number of syllables in the word is: \n",
      "2.071115973741794\n",
      "Word Count 11322\n",
      "Percentage of Complex Words 29.765059176823883\n",
      "Average Word per Length 5.192560175054704\n",
      "The AVG number of syllables in the word is: \n",
      "2.071115973741794\n"
     ]
    }
   ],
   "source": [
    "#Word Count\n",
    "Word_Count=len(content)\n",
    "print(\"Word Count\",Word_Count)\n",
    "#Percentage Complex Words\n",
    "pcw=(COMPLEX_WORDS/Word_Count)*100\n",
    "print(\"Percentage of Complex Words\",pcw)\n",
    "#Average Word Length\n",
    "Average_Word_Length=len(content.replace(' ',''))/len(content.split())\n",
    "print(\"Average Word per Length\",Average_Word_Length)\n",
    "#Syllable Count Per Word\n",
    "word=content.replace(' ','')\n",
    "syllable_count=0\n",
    "for w in word:\n",
    "      if(w=='a' or w=='e' or w=='i' or w=='o' or w=='y' or w=='u' or w=='A' or w=='E' or w=='I' or w=='O' or w=='U' or w=='Y'):\n",
    "            syllable_count=syllable_count+1\n",
    "print(\"The AVG number of syllables in the word is: \")\n",
    "print(syllable_count/len(content.split()))#Word Count\n",
    "Word_Count=len(content)\n",
    "print(\"Word Count\",Word_Count)\n",
    "#Percentage Complex Words\n",
    "pcw=(COMPLEX_WORDS/Word_Count)*100\n",
    "print(\"Percentage of Complex Words\",pcw)\n",
    "#Average Word Length\n",
    "Average_Word_Length=len(content.replace(' ',''))/len(content.split())\n",
    "print(\"Average Word per Length\",Average_Word_Length)\n",
    "#Syllable Count Per Word\n",
    "word=content.replace(' ','')\n",
    "syllable_count=0\n",
    "for w in word:\n",
    "      if(w=='a' or w=='e' or w=='i' or w=='o' or w=='y' or w=='u' or w=='A' or w=='E' or w=='I' or w=='O' or w=='U' or w=='Y'):\n",
    "            syllable_count=syllable_count+1\n",
    "print(\"The AVG number of syllables in the word is: \")\n",
    "print(syllable_count/len(content.split()))"
   ]
  },
  {
   "cell_type": "code",
   "execution_count": 1,
   "id": "6afc42be",
   "metadata": {},
   "outputs": [
    {
     "name": "stdout",
     "output_type": "stream",
     "text": [
      "58\n",
      "17\n",
      "Word average = 9492.0\n",
      "FOG INDEX =  728.84\n",
      "Average no of words per sentence\n",
      "1828.0\n",
      "Complex Words 3370\n",
      "Word Count 11323\n",
      "Percentage of Complex Words 29.762430451293824\n",
      "Average Word per Length 5.192560175054704\n",
      "The AVG number of syllables in the word is: \n",
      "2.071115973741794\n"
     ]
    },
    {
     "data": {
      "text/html": [
       "<div>\n",
       "<style scoped>\n",
       "    .dataframe tbody tr th:only-of-type {\n",
       "        vertical-align: middle;\n",
       "    }\n",
       "\n",
       "    .dataframe tbody tr th {\n",
       "        vertical-align: top;\n",
       "    }\n",
       "\n",
       "    .dataframe thead th {\n",
       "        text-align: right;\n",
       "    }\n",
       "</style>\n",
       "<table border=\"1\" class=\"dataframe\">\n",
       "  <thead>\n",
       "    <tr style=\"text-align: right;\">\n",
       "      <th></th>\n",
       "      <th>url</th>\n",
       "      <th>title</th>\n",
       "      <th>content</th>\n",
       "      <th>filter_content</th>\n",
       "      <th>Positive_Score</th>\n",
       "      <th>Negative_Score</th>\n",
       "      <th>Avg_Sentence_Length</th>\n",
       "      <th>Percentage_Complex_Word</th>\n",
       "      <th>Fog_Index</th>\n",
       "      <th>AVG_NUMBER_OF_WORDS_PER_SENTENCE</th>\n",
       "      <th>COMPLEX_WORDS</th>\n",
       "      <th>Word_Count</th>\n",
       "      <th>syllable</th>\n",
       "      <th>Average_Word_Length</th>\n",
       "      <th>polarity</th>\n",
       "      <th>subjectivity</th>\n",
       "    </tr>\n",
       "  </thead>\n",
       "  <tbody>\n",
       "    <tr>\n",
       "      <th>0</th>\n",
       "      <td>https://insights.blackcoffer.com/should-celebr...</td>\n",
       "      <td>Should celebrities be allowed to join politics?</td>\n",
       "      <td>In today’s day and age of hyperconnectivity ...</td>\n",
       "      <td>In today’s day and age of hyperconnectivity ce...</td>\n",
       "      <td>58</td>\n",
       "      <td>17</td>\n",
       "      <td>9492.0</td>\n",
       "      <td>29.76243</td>\n",
       "      <td>728.84</td>\n",
       "      <td>1828.0</td>\n",
       "      <td>3370</td>\n",
       "      <td>11323</td>\n",
       "      <td>2.071116</td>\n",
       "      <td>5.19256</td>\n",
       "      <td>0.134633</td>\n",
       "      <td>0.379255</td>\n",
       "    </tr>\n",
       "  </tbody>\n",
       "</table>\n",
       "</div>"
      ],
      "text/plain": [
       "                                                 url  \\\n",
       "0  https://insights.blackcoffer.com/should-celebr...   \n",
       "\n",
       "                                             title  \\\n",
       "0  Should celebrities be allowed to join politics?   \n",
       "\n",
       "                                             content  \\\n",
       "0    In today’s day and age of hyperconnectivity ...   \n",
       "\n",
       "                                      filter_content  Positive_Score  \\\n",
       "0  In today’s day and age of hyperconnectivity ce...              58   \n",
       "\n",
       "   Negative_Score  Avg_Sentence_Length  Percentage_Complex_Word  Fog_Index  \\\n",
       "0              17               9492.0                 29.76243     728.84   \n",
       "\n",
       "    AVG_NUMBER_OF_WORDS_PER_SENTENCE  COMPLEX_WORDS  Word_Count  syllable  \\\n",
       "0                             1828.0           3370       11323  2.071116   \n",
       "\n",
       "   Average_Word_Length  polarity  subjectivity  \n",
       "0              5.19256  0.134633      0.379255  "
      ]
     },
     "execution_count": 1,
     "metadata": {},
     "output_type": "execute_result"
    }
   ],
   "source": [
    "import requests\n",
    "import pandas as pd \n",
    "from bs4 import BeautifulSoup\n",
    "import string\n",
    "import spacy\n",
    "import re\n",
    "url = \"\"\"https://insights.blackcoffer.com/should-celebrities-be-allowed-to-join-politics/\"\"\"\n",
    "headers = {\"User-Agent\": \"Mozilla/5.0 (X11; Linux x86_64; rv:60.0) Gecko/20100101 Firefox/60.0\"}\n",
    "page = requests.get(url, headers=headers)\n",
    "soup = BeautifulSoup(page.content, 'html.parser')\n",
    "soup=BeautifulSoup(page.content, 'html.parser')\n",
    "title=soup.find('h1',class_=\"entry-title\")\n",
    "title=title.text.replace('\\n',\" \")\n",
    "# title\n",
    "\n",
    "content=soup.findAll(attrs={'class':'td-post-content'})\n",
    "content=content[0].text.replace('\\n',\" \")\n",
    "# print(content)\n",
    "#Punctuation\n",
    "content = content.translate(str.maketrans('', '', string.punctuation)) \n",
    "# print(content)\n",
    "text = content.split()\n",
    "# print(text)\n",
    "len(text)\n",
    "#Positive Score \n",
    "with open(r\"C:\\Users\\Om Bhandwalkar\\Desktop\\pos\\positive-words.txt\") as pos:\n",
    "    poswords = pos.read().split(\"\\n\")  \n",
    "    poswords = poswords[5:]\n",
    "pos_count = \" \".join ([w for w in text if w in poswords])\n",
    "pos_count=pos_count.split(\" \")\n",
    "Positive_score=len(pos_count)\n",
    "print(Positive_score)\n",
    "\n",
    "#Negative Score\n",
    "with open(r\"C:\\Users\\Om Bhandwalkar\\Desktop\\pos\\negative-words.txt\",encoding =\"ISO-8859-1\") as neg:\n",
    "    negwords = neg.read().split(\"\\n\")\n",
    "    \n",
    "negwords = negwords[36:]\n",
    "neg_count = \" \".join ([w for w in text if w in negwords])\n",
    "neg_count=neg_count.split(\" \")\n",
    "Negative_score=len(neg_count)\n",
    "print(Negative_score)\n",
    "\n",
    "\n",
    "filter_content = ' '.join(text)\n",
    "data=[[url,title,content,filter_content,Positive_score,Negative_score]]\n",
    "data=pd.DataFrame(data,columns=[\"url\",\"title\",\"content\",\"filter_content\",\"Positive_Score\",\"Negative_Score\"])\n",
    "from textblob import TextBlob\n",
    "# Get The Subjectivity\n",
    "def sentiment_analysis(data):\n",
    "    sentiment = TextBlob(data[\"content\"]).sentiment\n",
    "    return pd.Series([sentiment.polarity,sentiment.subjectivity ])\n",
    "data[[\"polarity\", \"subjectivity\"]] = data.apply(sentiment_analysis, axis=1)\n",
    "data\n",
    "#AVG SENTENCE LENGTH\n",
    "AVG_SENTENCE_LENGTH = len(content.replace(' ',''))/len(re.split(r'[?!.]', content))\n",
    "print('Word average =', AVG_SENTENCE_LENGTH)\n",
    "import textstat\n",
    "#Fog index \n",
    "FOG_INDEX=(textstat.gunning_fog(content))\n",
    "print(\"FOG INDEX = \",FOG_INDEX)\n",
    "#Average No of Words Per Sentence \n",
    "AVG_NUMBER_OF_WORDS_PER_SENTENCE = [len(l.split()) for l in re.split(r'[?!.]', content) if l.strip()]\n",
    "print(\"Average no of words per sentence\")\n",
    "AVG_NUMBER_OF_WORDS_PER_SENTENCE=(sum(AVG_NUMBER_OF_WORDS_PER_SENTENCE)/len(AVG_NUMBER_OF_WORDS_PER_SENTENCE))\n",
    "print(AVG_NUMBER_OF_WORDS_PER_SENTENCE)\n",
    "#Complex words\n",
    "def syllable_count(word):\n",
    "    count = 0\n",
    "    vowels = \"AEIOUYaeiouy\"\n",
    "    if word[0] in vowels:\n",
    "        count += 1\n",
    "    for index in range(1, len(word)): \n",
    "        if word[index] in vowels and word[index - 1] not in vowels:\n",
    "            count += 1\n",
    "            if word.endswith(\"es\"or \"ed\"):\n",
    "                count -= 1\n",
    "    if count == 0:\n",
    "        count += 1\n",
    "    return count\n",
    "\n",
    "\n",
    "\n",
    "COMPLEX_WORDS=syllable_count(content)\n",
    "print(\"Complex Words\",COMPLEX_WORDS)\n",
    "#Word Count\n",
    "Word_Count=len(content)\n",
    "print(\"Word Count\",Word_Count)\n",
    "#Percentage Complex Words\n",
    "pcw=(COMPLEX_WORDS/Word_Count)*100\n",
    "print(\"Percentage of Complex Words\",pcw)\n",
    "#Average Word Length\n",
    "Average_Word_Length=len(content.replace(' ',''))/len(content.split())\n",
    "print(\"Average Word per Length\",Average_Word_Length)\n",
    "#Syllable Count Per Word\n",
    "word=content.replace(' ','')\n",
    "syllable_count=0\n",
    "for w in word:\n",
    "      if(w=='a' or w=='e' or w=='i' or w=='o' or w=='y' or w=='u' or w=='A' or w=='E' or w=='I' or w=='O' or w=='U' or w=='Y'):\n",
    "            syllable_count=syllable_count+1\n",
    "print(\"The AVG number of syllables in the word is: \")\n",
    "syllable = (syllable_count/len(content.split()))\n",
    "print(syllable)\n",
    "\n",
    "data = [[url,title,content,filter_content,Positive_score,Negative_score,AVG_SENTENCE_LENGTH,pcw,FOG_INDEX,\n",
    "         AVG_NUMBER_OF_WORDS_PER_SENTENCE,COMPLEX_WORDS,Word_Count,syllable,Average_Word_Length]]\n",
    "data=pd.DataFrame(data,columns=[\"url\",\"title\",\"content\",\"filter_content\",\"Positive_Score\",\"Negative_Score\",\"Avg_Sentence_Length\"\n",
    "                               ,\"Percentage_Complex_Word\",\"Fog_Index\",\" AVG_NUMBER_OF_WORDS_PER_SENTENCE\",\"COMPLEX_WORDS\",\n",
    "                               \"Word_Count\",\"syllable\",\"Average_Word_Length\"])\n",
    "from textblob import TextBlob\n",
    "# Get The Subjectivity\n",
    "def sentiment_analysis(data):\n",
    "    sentiment = TextBlob(data[\"content\"]).sentiment\n",
    "    return pd.Series([sentiment.polarity,sentiment.subjectivity ])\n",
    "data[[\"polarity\", \"subjectivity\"]] = data.apply(sentiment_analysis, axis=1)\n",
    "data"
   ]
  },
  {
   "cell_type": "code",
   "execution_count": 2,
   "id": "1d423609",
   "metadata": {},
   "outputs": [],
   "source": [
    "data.to_csv(r'C:\\Users\\Om Bhandwalkar\\Desktop\\BlackCoffer Assignment\\Output\\url_125.csv')"
   ]
  },
  {
   "cell_type": "code",
   "execution_count": null,
   "id": "5007c1bf",
   "metadata": {},
   "outputs": [],
   "source": []
  }
 ],
 "metadata": {
  "kernelspec": {
   "display_name": "Python 3 (ipykernel)",
   "language": "python",
   "name": "python3"
  },
  "language_info": {
   "codemirror_mode": {
    "name": "ipython",
    "version": 3
   },
   "file_extension": ".py",
   "mimetype": "text/x-python",
   "name": "python",
   "nbconvert_exporter": "python",
   "pygments_lexer": "ipython3",
   "version": "3.9.12"
  }
 },
 "nbformat": 4,
 "nbformat_minor": 5
}
