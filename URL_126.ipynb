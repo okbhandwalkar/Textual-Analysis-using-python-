{
 "cells": [
  {
   "cell_type": "code",
   "execution_count": 1,
   "id": "2617a55c",
   "metadata": {},
   "outputs": [
    {
     "data": {
      "text/plain": [
       "'How prepared is India to tackle a possible COVID-19 outbreak?'"
      ]
     },
     "execution_count": 1,
     "metadata": {},
     "output_type": "execute_result"
    }
   ],
   "source": [
    "\n",
    "import requests\n",
    "import pandas as pd \n",
    "from bs4 import BeautifulSoup\n",
    "import string\n",
    "import spacy\n",
    "import re\n",
    "url = \"\"\"https://insights.blackcoffer.com/how-prepared-is-india-to-tackle-a-possible-covid-19-outbreak/\"\"\"\n",
    "headers = {\"User-Agent\": \"Mozilla/5.0 (X11; Linux x86_64; rv:60.0) Gecko/20100101 Firefox/60.0\"}\n",
    "page = requests.get(url, headers=headers)\n",
    "soup = BeautifulSoup(page.content, 'html.parser')\n",
    "soup=BeautifulSoup(page.content, 'html.parser')\n",
    "title=soup.find('h1',class_=\"entry-title\")\n",
    "title=title.text.replace('\\n',\" \")\n",
    "title\n"
   ]
  },
  {
   "cell_type": "code",
   "execution_count": 2,
   "id": "0c6e0745",
   "metadata": {},
   "outputs": [
    {
     "name": "stdout",
     "output_type": "stream",
     "text": [
      " Frankly, no! The state of the public healthcare system, still vast, is very fragmented and cannot scale up rapidly enough to face the challenge of a pandemic such as COVID-19. The origin of public healthcare lies in the British colonial period where such facilities were provided only to British officers and their families stationed in India. From the 1960s onwards, the independent government of India stressed more upon healthcare and it led to the creation of the modern public healthcare system in India. The healthcare system is organized into primary, secondary, and tertiary levels. At the primary level are Sub Centre’s and Primary Health Centre’s (PHCs). At the secondary level there are Community Health Centre’s (CHCs) and smaller Sub-District hospitals. Finally, the top level of public care provided by the government is the tertiary level, which consists of Medical Colleges and District/General Hospitals. The number of PHCs, CHCs, Sub Centre’s, and District Hospitals has increased in the past six years, although not all of them are up to the standards set by Indian Public Health Standards. But there are still critical challenges to the existing system. One of the major areas is the lack of awareness of diseases, especially communicable diseases among the general population of India. This challenge becomes more complicated at the lower strata of society, especially poor households, migrant laborers and homeless people who do not have the proper channels of communication available to get the necessary information from the health experts. Add low educational status, poor functional literacy, low accent on education within the healthcare system, and low priority for health in the population, among others and you see the magnitude of the problem. According to a recent study initiated by the faculty and students of IIT-Hyderabad and IIT-Bombay, in Tier-1 cities, it was found that about 12 percent of the respondents switched from public to private mode during the third week of COVID-19. This modal shift was about 9 percent in Tier-2 cities and about 7 percent in Tier-3 cities. Moreover, nearly 48 percent of people said that they did not travel to work during the third week of March, whereas 28 percent had the same frequency of travel to work. When inquired about the cancellation of trips between the cities using major modes of transportation, around 18 percent said they cancelled their flights whereas, 20 per cent of respondents cancelled their train journeys. This indicates that awareness about COVID-19 is higher in Tier-1 cities, in comparison with Tier-2 and Tier-3 cities. But national level, state level and door-to-door campaigns along with targeted media campaigns may enable the knowledge of the pandemic to spread fast among the local populace. The second challenge is access to public healthcare in India. Access (to healthcare) is defined by the Oxford dictionary as “The right or opportunity to use or benefit from (healthcare)” Physical reach is one of the basic determinants of access, defined as “ the ability to enter a healthcare facility within 5 km from the place of residence or work”. Using this definition, a study in India in 2012 found that in rural areas, only 37% of people were able to access IP facilities within a 5 km distance, and 68% were able to access out-patient facilities. Furthermore, it was postulated that in general, the more rustic (rural) one’s existence – the further one lives from towns – the greater are the odds of disease, malnourishment, weakness, and premature death. The third is the planning portion related to the preparedness of the pandemic. Planning for a pandemic such as COVID-19 has never been done extensively in India as we had no recent history of such a communicable disease which spreads rapidly in crowded locations, which about a quarter of the population live in. The recent national lockdown called led to an increase in police violence who have not been sensitized how to deal in such a crisis and the humanitarian crisis facing migrant laborers, an important part of the Indian economy, who have lost their jobs and facing a lack of public transport, have to force to walk thousands of miles to reach their native villages. The ongoing slump in the economy has been further exacerbated by the pandemic and the resultant lockdown. And there have been growing complaints by healthcare professionals, who are fighting in the front of this pandemic, of lack of Protective Personal Equipment’s (PPE’s) to protect themselves and their patients from COVID-19. The lockdown has hit HIV+ and chronic patients hard who need constant medication to maintain their fragile condition. Elderly people, who are often alone and have medical conditions, have been left without essential support. Ironically, these are the same group of people who are at an immediate threat from COVID-19. I am optimistically hoping, based on the ingenious and creativity of our citizens, that we tide over these tough times and fundamental changes to our healthcare system are made with this sober learning experience to prevent a repeat of what is happening today. Blackcoffer Insights 16:-Sandeep Chakravartty \n",
      " Frankly no The state of the public healthcare system still vast is very fragmented and cannot scale up rapidly enough to face the challenge of a pandemic such as COVID19 The origin of public healthcare lies in the British colonial period where such facilities were provided only to British officers and their families stationed in India From the 1960s onwards the independent government of India stressed more upon healthcare and it led to the creation of the modern public healthcare system in India The healthcare system is organized into primary secondary and tertiary levels At the primary level are Sub Centre’s and Primary Health Centre’s PHCs At the secondary level there are Community Health Centre’s CHCs and smaller SubDistrict hospitals Finally the top level of public care provided by the government is the tertiary level which consists of Medical Colleges and DistrictGeneral Hospitals The number of PHCs CHCs Sub Centre’s and District Hospitals has increased in the past six years although not all of them are up to the standards set by Indian Public Health Standards But there are still critical challenges to the existing system One of the major areas is the lack of awareness of diseases especially communicable diseases among the general population of India This challenge becomes more complicated at the lower strata of society especially poor households migrant laborers and homeless people who do not have the proper channels of communication available to get the necessary information from the health experts Add low educational status poor functional literacy low accent on education within the healthcare system and low priority for health in the population among others and you see the magnitude of the problem According to a recent study initiated by the faculty and students of IITHyderabad and IITBombay in Tier1 cities it was found that about 12 percent of the respondents switched from public to private mode during the third week of COVID19 This modal shift was about 9 percent in Tier2 cities and about 7 percent in Tier3 cities Moreover nearly 48 percent of people said that they did not travel to work during the third week of March whereas 28 percent had the same frequency of travel to work When inquired about the cancellation of trips between the cities using major modes of transportation around 18 percent said they cancelled their flights whereas 20 per cent of respondents cancelled their train journeys This indicates that awareness about COVID19 is higher in Tier1 cities in comparison with Tier2 and Tier3 cities But national level state level and doortodoor campaigns along with targeted media campaigns may enable the knowledge of the pandemic to spread fast among the local populace The second challenge is access to public healthcare in India Access to healthcare is defined by the Oxford dictionary as “The right or opportunity to use or benefit from healthcare” Physical reach is one of the basic determinants of access defined as “ the ability to enter a healthcare facility within 5 km from the place of residence or work” Using this definition a study in India in 2012 found that in rural areas only 37 of people were able to access IP facilities within a 5 km distance and 68 were able to access outpatient facilities Furthermore it was postulated that in general the more rustic rural one’s existence – the further one lives from towns – the greater are the odds of disease malnourishment weakness and premature death The third is the planning portion related to the preparedness of the pandemic Planning for a pandemic such as COVID19 has never been done extensively in India as we had no recent history of such a communicable disease which spreads rapidly in crowded locations which about a quarter of the population live in The recent national lockdown called led to an increase in police violence who have not been sensitized how to deal in such a crisis and the humanitarian crisis facing migrant laborers an important part of the Indian economy who have lost their jobs and facing a lack of public transport have to force to walk thousands of miles to reach their native villages The ongoing slump in the economy has been further exacerbated by the pandemic and the resultant lockdown And there have been growing complaints by healthcare professionals who are fighting in the front of this pandemic of lack of Protective Personal Equipment’s PPE’s to protect themselves and their patients from COVID19 The lockdown has hit HIV and chronic patients hard who need constant medication to maintain their fragile condition Elderly people who are often alone and have medical conditions have been left without essential support Ironically these are the same group of people who are at an immediate threat from COVID19 I am optimistically hoping based on the ingenious and creativity of our citizens that we tide over these tough times and fundamental changes to our healthcare system are made with this sober learning experience to prevent a repeat of what is happening today Blackcoffer Insights 16Sandeep Chakravartty \n",
      "['Frankly', 'no', 'The', 'state', 'of', 'the', 'public', 'healthcare', 'system', 'still', 'vast', 'is', 'very', 'fragmented', 'and', 'cannot', 'scale', 'up', 'rapidly', 'enough', 'to', 'face', 'the', 'challenge', 'of', 'a', 'pandemic', 'such', 'as', 'COVID19', 'The', 'origin', 'of', 'public', 'healthcare', 'lies', 'in', 'the', 'British', 'colonial', 'period', 'where', 'such', 'facilities', 'were', 'provided', 'only', 'to', 'British', 'officers', 'and', 'their', 'families', 'stationed', 'in', 'India', 'From', 'the', '1960s', 'onwards', 'the', 'independent', 'government', 'of', 'India', 'stressed', 'more', 'upon', 'healthcare', 'and', 'it', 'led', 'to', 'the', 'creation', 'of', 'the', 'modern', 'public', 'healthcare', 'system', 'in', 'India', 'The', 'healthcare', 'system', 'is', 'organized', 'into', 'primary', 'secondary', 'and', 'tertiary', 'levels', 'At', 'the', 'primary', 'level', 'are', 'Sub', 'Centre’s', 'and', 'Primary', 'Health', 'Centre’s', 'PHCs', 'At', 'the', 'secondary', 'level', 'there', 'are', 'Community', 'Health', 'Centre’s', 'CHCs', 'and', 'smaller', 'SubDistrict', 'hospitals', 'Finally', 'the', 'top', 'level', 'of', 'public', 'care', 'provided', 'by', 'the', 'government', 'is', 'the', 'tertiary', 'level', 'which', 'consists', 'of', 'Medical', 'Colleges', 'and', 'DistrictGeneral', 'Hospitals', 'The', 'number', 'of', 'PHCs', 'CHCs', 'Sub', 'Centre’s', 'and', 'District', 'Hospitals', 'has', 'increased', 'in', 'the', 'past', 'six', 'years', 'although', 'not', 'all', 'of', 'them', 'are', 'up', 'to', 'the', 'standards', 'set', 'by', 'Indian', 'Public', 'Health', 'Standards', 'But', 'there', 'are', 'still', 'critical', 'challenges', 'to', 'the', 'existing', 'system', 'One', 'of', 'the', 'major', 'areas', 'is', 'the', 'lack', 'of', 'awareness', 'of', 'diseases', 'especially', 'communicable', 'diseases', 'among', 'the', 'general', 'population', 'of', 'India', 'This', 'challenge', 'becomes', 'more', 'complicated', 'at', 'the', 'lower', 'strata', 'of', 'society', 'especially', 'poor', 'households', 'migrant', 'laborers', 'and', 'homeless', 'people', 'who', 'do', 'not', 'have', 'the', 'proper', 'channels', 'of', 'communication', 'available', 'to', 'get', 'the', 'necessary', 'information', 'from', 'the', 'health', 'experts', 'Add', 'low', 'educational', 'status', 'poor', 'functional', 'literacy', 'low', 'accent', 'on', 'education', 'within', 'the', 'healthcare', 'system', 'and', 'low', 'priority', 'for', 'health', 'in', 'the', 'population', 'among', 'others', 'and', 'you', 'see', 'the', 'magnitude', 'of', 'the', 'problem', 'According', 'to', 'a', 'recent', 'study', 'initiated', 'by', 'the', 'faculty', 'and', 'students', 'of', 'IITHyderabad', 'and', 'IITBombay', 'in', 'Tier1', 'cities', 'it', 'was', 'found', 'that', 'about', '12', 'percent', 'of', 'the', 'respondents', 'switched', 'from', 'public', 'to', 'private', 'mode', 'during', 'the', 'third', 'week', 'of', 'COVID19', 'This', 'modal', 'shift', 'was', 'about', '9', 'percent', 'in', 'Tier2', 'cities', 'and', 'about', '7', 'percent', 'in', 'Tier3', 'cities', 'Moreover', 'nearly', '48', 'percent', 'of', 'people', 'said', 'that', 'they', 'did', 'not', 'travel', 'to', 'work', 'during', 'the', 'third', 'week', 'of', 'March', 'whereas', '28', 'percent', 'had', 'the', 'same', 'frequency', 'of', 'travel', 'to', 'work', 'When', 'inquired', 'about', 'the', 'cancellation', 'of', 'trips', 'between', 'the', 'cities', 'using', 'major', 'modes', 'of', 'transportation', 'around', '18', 'percent', 'said', 'they', 'cancelled', 'their', 'flights', 'whereas', '20', 'per', 'cent', 'of', 'respondents', 'cancelled', 'their', 'train', 'journeys', 'This', 'indicates', 'that', 'awareness', 'about', 'COVID19', 'is', 'higher', 'in', 'Tier1', 'cities', 'in', 'comparison', 'with', 'Tier2', 'and', 'Tier3', 'cities', 'But', 'national', 'level', 'state', 'level', 'and', 'doortodoor', 'campaigns', 'along', 'with', 'targeted', 'media', 'campaigns', 'may', 'enable', 'the', 'knowledge', 'of', 'the', 'pandemic', 'to', 'spread', 'fast', 'among', 'the', 'local', 'populace', 'The', 'second', 'challenge', 'is', 'access', 'to', 'public', 'healthcare', 'in', 'India', 'Access', 'to', 'healthcare', 'is', 'defined', 'by', 'the', 'Oxford', 'dictionary', 'as', '“The', 'right', 'or', 'opportunity', 'to', 'use', 'or', 'benefit', 'from', 'healthcare”', 'Physical', 'reach', 'is', 'one', 'of', 'the', 'basic', 'determinants', 'of', 'access', 'defined', 'as', '“', 'the', 'ability', 'to', 'enter', 'a', 'healthcare', 'facility', 'within', '5', 'km', 'from', 'the', 'place', 'of', 'residence', 'or', 'work”', 'Using', 'this', 'definition', 'a', 'study', 'in', 'India', 'in', '2012', 'found', 'that', 'in', 'rural', 'areas', 'only', '37', 'of', 'people', 'were', 'able', 'to', 'access', 'IP', 'facilities', 'within', 'a', '5', 'km', 'distance', 'and', '68', 'were', 'able', 'to', 'access', 'outpatient', 'facilities', 'Furthermore', 'it', 'was', 'postulated', 'that', 'in', 'general', 'the', 'more', 'rustic', 'rural', 'one’s', 'existence', '–', 'the', 'further', 'one', 'lives', 'from', 'towns', '–', 'the', 'greater', 'are', 'the', 'odds', 'of', 'disease', 'malnourishment', 'weakness', 'and', 'premature', 'death', 'The', 'third', 'is', 'the', 'planning', 'portion', 'related', 'to', 'the', 'preparedness', 'of', 'the', 'pandemic', 'Planning', 'for', 'a', 'pandemic', 'such', 'as', 'COVID19', 'has', 'never', 'been', 'done', 'extensively', 'in', 'India', 'as', 'we', 'had', 'no', 'recent', 'history', 'of', 'such', 'a', 'communicable', 'disease', 'which', 'spreads', 'rapidly', 'in', 'crowded', 'locations', 'which', 'about', 'a', 'quarter', 'of', 'the', 'population', 'live', 'in', 'The', 'recent', 'national', 'lockdown', 'called', 'led', 'to', 'an', 'increase', 'in', 'police', 'violence', 'who', 'have', 'not', 'been', 'sensitized', 'how', 'to', 'deal', 'in', 'such', 'a', 'crisis', 'and', 'the', 'humanitarian', 'crisis', 'facing', 'migrant', 'laborers', 'an', 'important', 'part', 'of', 'the', 'Indian', 'economy', 'who', 'have', 'lost', 'their', 'jobs', 'and', 'facing', 'a', 'lack', 'of', 'public', 'transport', 'have', 'to', 'force', 'to', 'walk', 'thousands', 'of', 'miles', 'to', 'reach', 'their', 'native', 'villages', 'The', 'ongoing', 'slump', 'in', 'the', 'economy', 'has', 'been', 'further', 'exacerbated', 'by', 'the', 'pandemic', 'and', 'the', 'resultant', 'lockdown', 'And', 'there', 'have', 'been', 'growing', 'complaints', 'by', 'healthcare', 'professionals', 'who', 'are', 'fighting', 'in', 'the', 'front', 'of', 'this', 'pandemic', 'of', 'lack', 'of', 'Protective', 'Personal', 'Equipment’s', 'PPE’s', 'to', 'protect', 'themselves', 'and', 'their', 'patients', 'from', 'COVID19', 'The', 'lockdown', 'has', 'hit', 'HIV', 'and', 'chronic', 'patients', 'hard', 'who', 'need', 'constant', 'medication', 'to', 'maintain', 'their', 'fragile', 'condition', 'Elderly', 'people', 'who', 'are', 'often', 'alone', 'and', 'have', 'medical', 'conditions', 'have', 'been', 'left', 'without', 'essential', 'support', 'Ironically', 'these', 'are', 'the', 'same', 'group', 'of', 'people', 'who', 'are', 'at', 'an', 'immediate', 'threat', 'from', 'COVID19', 'I', 'am', 'optimistically', 'hoping', 'based', 'on', 'the', 'ingenious', 'and', 'creativity', 'of', 'our', 'citizens', 'that', 'we', 'tide', 'over', 'these', 'tough', 'times', 'and', 'fundamental', 'changes', 'to', 'our', 'healthcare', 'system', 'are', 'made', 'with', 'this', 'sober', 'learning', 'experience', 'to', 'prevent', 'a', 'repeat', 'of', 'what', 'is', 'happening', 'today', 'Blackcoffer', 'Insights', '16Sandeep', 'Chakravartty']\n"
     ]
    }
   ],
   "source": [
    "content=soup.findAll(attrs={'class':'td-post-content'})\n",
    "content=content[0].text.replace('\\n',\" \")\n",
    "print(content)\n",
    "#Punctuation\n",
    "content = content.translate(str.maketrans('', '', string.punctuation)) \n",
    "print(content)\n",
    "text = content.split()\n",
    "print(text)\n"
   ]
  },
  {
   "cell_type": "code",
   "execution_count": 3,
   "id": "6842d8e6",
   "metadata": {},
   "outputs": [
    {
     "data": {
      "text/plain": [
       "837"
      ]
     },
     "execution_count": 3,
     "metadata": {},
     "output_type": "execute_result"
    }
   ],
   "source": [
    "len(text)"
   ]
  },
  {
   "cell_type": "code",
   "execution_count": 4,
   "id": "f1133785",
   "metadata": {},
   "outputs": [
    {
     "name": "stdout",
     "output_type": "stream",
     "text": [
      "17\n"
     ]
    }
   ],
   "source": [
    "#Positive Score \n",
    "with open(r\"C:\\Users\\Om Bhandwalkar\\Desktop\\pos\\positive-words.txt\") as pos:\n",
    "    poswords = pos.read().split(\"\\n\")  \n",
    "    poswords = poswords[5:]\n",
    "pos_count = \" \".join ([w for w in text if w in poswords])\n",
    "pos_count=pos_count.split(\" \")\n",
    "Positive_score=len(pos_count)\n",
    "print(Positive_score)"
   ]
  },
  {
   "cell_type": "code",
   "execution_count": 5,
   "id": "91393bf4",
   "metadata": {},
   "outputs": [
    {
     "name": "stdout",
     "output_type": "stream",
     "text": [
      "23\n"
     ]
    }
   ],
   "source": [
    "#Negative Score\n",
    "with open(r\"C:\\Users\\Om Bhandwalkar\\Desktop\\pos\\negative-words.txt\",encoding =\"ISO-8859-1\") as neg:\n",
    "    negwords = neg.read().split(\"\\n\")\n",
    "    \n",
    "negwords = negwords[36:]\n",
    "neg_count = \" \".join ([w for w in text if w in negwords])\n",
    "neg_count=neg_count.split(\" \")\n",
    "Negative_score=len(neg_count)\n",
    "print(Negative_score)"
   ]
  },
  {
   "cell_type": "code",
   "execution_count": 6,
   "id": "c9f5130f",
   "metadata": {},
   "outputs": [
    {
     "data": {
      "text/html": [
       "<div>\n",
       "<style scoped>\n",
       "    .dataframe tbody tr th:only-of-type {\n",
       "        vertical-align: middle;\n",
       "    }\n",
       "\n",
       "    .dataframe tbody tr th {\n",
       "        vertical-align: top;\n",
       "    }\n",
       "\n",
       "    .dataframe thead th {\n",
       "        text-align: right;\n",
       "    }\n",
       "</style>\n",
       "<table border=\"1\" class=\"dataframe\">\n",
       "  <thead>\n",
       "    <tr style=\"text-align: right;\">\n",
       "      <th></th>\n",
       "      <th>url</th>\n",
       "      <th>title</th>\n",
       "      <th>content</th>\n",
       "      <th>filter_content</th>\n",
       "      <th>Positive_Score</th>\n",
       "      <th>Negative_Score</th>\n",
       "      <th>polarity</th>\n",
       "      <th>subjectivity</th>\n",
       "    </tr>\n",
       "  </thead>\n",
       "  <tbody>\n",
       "    <tr>\n",
       "      <th>0</th>\n",
       "      <td>https://insights.blackcoffer.com/how-prepared-...</td>\n",
       "      <td>How prepared is India to tackle a possible COV...</td>\n",
       "      <td>Frankly no The state of the public healthcare...</td>\n",
       "      <td>Frankly no The state of the public healthcare ...</td>\n",
       "      <td>17</td>\n",
       "      <td>23</td>\n",
       "      <td>0.052995</td>\n",
       "      <td>0.391332</td>\n",
       "    </tr>\n",
       "  </tbody>\n",
       "</table>\n",
       "</div>"
      ],
      "text/plain": [
       "                                                 url  \\\n",
       "0  https://insights.blackcoffer.com/how-prepared-...   \n",
       "\n",
       "                                               title  \\\n",
       "0  How prepared is India to tackle a possible COV...   \n",
       "\n",
       "                                             content  \\\n",
       "0   Frankly no The state of the public healthcare...   \n",
       "\n",
       "                                      filter_content  Positive_Score  \\\n",
       "0  Frankly no The state of the public healthcare ...              17   \n",
       "\n",
       "   Negative_Score  polarity  subjectivity  \n",
       "0              23  0.052995      0.391332  "
      ]
     },
     "execution_count": 6,
     "metadata": {},
     "output_type": "execute_result"
    }
   ],
   "source": [
    "filter_content = ' '.join(text)\n",
    "data=[[url,title,content,filter_content,Positive_score,Negative_score]]\n",
    "data=pd.DataFrame(data,columns=[\"url\",\"title\",\"content\",\"filter_content\",\"Positive_Score\",\"Negative_Score\"])\n",
    "from textblob import TextBlob\n",
    "# Get The Subjectivity\n",
    "def sentiment_analysis(data):\n",
    "    sentiment = TextBlob(data[\"content\"]).sentiment\n",
    "    return pd.Series([sentiment.polarity,sentiment.subjectivity ])\n",
    "\n",
    "# Adding Subjectivity & Polarity\n",
    "data[[\"polarity\", \"subjectivity\"]] = data.apply(sentiment_analysis, axis=1)\n",
    "\n",
    "data"
   ]
  },
  {
   "cell_type": "code",
   "execution_count": 7,
   "id": "81031d20",
   "metadata": {},
   "outputs": [
    {
     "name": "stdout",
     "output_type": "stream",
     "text": [
      "Word average = 4239.0\n",
      "FOG INDEX =  337.92\n",
      "Average no of words per sentence\n",
      "837.0\n",
      "Complex Words 1479\n"
     ]
    }
   ],
   "source": [
    "#AVG SENTENCE LENGTH\n",
    "AVG_SENTENCE_LENGTH = len(content.replace(' ',''))/len(re.split(r'[?!.]', content))\n",
    "print('Word average =', AVG_SENTENCE_LENGTH)\n",
    "import textstat\n",
    "#Fog index \n",
    "FOG_INDEX=(textstat.gunning_fog(content))\n",
    "print(\"FOG INDEX = \",FOG_INDEX)\n",
    "#Average No of Words Per Sentence \n",
    "AVG_NUMBER_OF_WORDS_PER_SENTENCE = [len(l.split()) for l in re.split(r'[?!.]', content) if l.strip()]\n",
    "print(\"Average no of words per sentence\")\n",
    "AVG_NUMBER_OF_WORDS_PER_SENTENCE=print(sum(AVG_NUMBER_OF_WORDS_PER_SENTENCE)/len(AVG_NUMBER_OF_WORDS_PER_SENTENCE))\n",
    "#Complex words\n",
    "def syllable_count(word):\n",
    "    count = 0\n",
    "    vowels = \"AEIOUYaeiouy\"\n",
    "    if word[0] in vowels:\n",
    "        count += 1\n",
    "    for index in range(1, len(word)): \n",
    "        if word[index] in vowels and word[index - 1] not in vowels:\n",
    "            count += 1\n",
    "            if word.endswith(\"es\"or \"ed\"):\n",
    "                count -= 1\n",
    "    if count == 0:\n",
    "        count += 1\n",
    "    return count\n",
    "\n",
    "\n",
    "\n",
    "COMPLEX_WORDS=syllable_count(content)\n",
    "print(\"Complex Words\",COMPLEX_WORDS)\n"
   ]
  },
  {
   "cell_type": "code",
   "execution_count": 8,
   "id": "cc95463e",
   "metadata": {},
   "outputs": [
    {
     "name": "stdout",
     "output_type": "stream",
     "text": [
      "Word Count 5077\n",
      "Percentage of Complex Words 29.131376797321252\n",
      "Average Word per Length 5.064516129032258\n",
      "The AVG number of syllables in the word is: \n",
      "1.986857825567503\n",
      "Word Count 5077\n",
      "Percentage of Complex Words 29.131376797321252\n",
      "Average Word per Length 5.064516129032258\n",
      "The AVG number of syllables in the word is: \n",
      "1.986857825567503\n"
     ]
    }
   ],
   "source": [
    "#Word Count\n",
    "Word_Count=len(content)\n",
    "print(\"Word Count\",Word_Count)\n",
    "#Percentage Complex Words\n",
    "pcw=(COMPLEX_WORDS/Word_Count)*100\n",
    "print(\"Percentage of Complex Words\",pcw)\n",
    "#Average Word Length\n",
    "Average_Word_Length=len(content.replace(' ',''))/len(content.split())\n",
    "print(\"Average Word per Length\",Average_Word_Length)\n",
    "#Syllable Count Per Word\n",
    "word=content.replace(' ','')\n",
    "syllable_count=0\n",
    "for w in word:\n",
    "      if(w=='a' or w=='e' or w=='i' or w=='o' or w=='y' or w=='u' or w=='A' or w=='E' or w=='I' or w=='O' or w=='U' or w=='Y'):\n",
    "            syllable_count=syllable_count+1\n",
    "print(\"The AVG number of syllables in the word is: \")\n",
    "print(syllable_count/len(content.split()))#Word Count\n",
    "Word_Count=len(content)\n",
    "print(\"Word Count\",Word_Count)\n",
    "#Percentage Complex Words\n",
    "pcw=(COMPLEX_WORDS/Word_Count)*100\n",
    "print(\"Percentage of Complex Words\",pcw)\n",
    "#Average Word Length\n",
    "Average_Word_Length=len(content.replace(' ',''))/len(content.split())\n",
    "print(\"Average Word per Length\",Average_Word_Length)\n",
    "#Syllable Count Per Word\n",
    "word=content.replace(' ','')\n",
    "syllable_count=0\n",
    "for w in word:\n",
    "      if(w=='a' or w=='e' or w=='i' or w=='o' or w=='y' or w=='u' or w=='A' or w=='E' or w=='I' or w=='O' or w=='U' or w=='Y'):\n",
    "            syllable_count=syllable_count+1\n",
    "print(\"The AVG number of syllables in the word is: \")\n",
    "print(syllable_count/len(content.split()))"
   ]
  },
  {
   "cell_type": "code",
   "execution_count": 1,
   "id": "b2a7e13b",
   "metadata": {},
   "outputs": [
    {
     "name": "stdout",
     "output_type": "stream",
     "text": [
      "17\n",
      "23\n",
      "Word average = 4239.0\n",
      "FOG INDEX =  337.92\n",
      "Average no of words per sentence\n",
      "837.0\n",
      "Complex Words 1479\n",
      "Word Count 5078\n",
      "Percentage of Complex Words 29.125640015754232\n",
      "Average Word per Length 5.064516129032258\n",
      "The AVG number of syllables in the word is: \n",
      "1.986857825567503\n"
     ]
    },
    {
     "data": {
      "text/html": [
       "<div>\n",
       "<style scoped>\n",
       "    .dataframe tbody tr th:only-of-type {\n",
       "        vertical-align: middle;\n",
       "    }\n",
       "\n",
       "    .dataframe tbody tr th {\n",
       "        vertical-align: top;\n",
       "    }\n",
       "\n",
       "    .dataframe thead th {\n",
       "        text-align: right;\n",
       "    }\n",
       "</style>\n",
       "<table border=\"1\" class=\"dataframe\">\n",
       "  <thead>\n",
       "    <tr style=\"text-align: right;\">\n",
       "      <th></th>\n",
       "      <th>url</th>\n",
       "      <th>title</th>\n",
       "      <th>content</th>\n",
       "      <th>filter_content</th>\n",
       "      <th>Positive_Score</th>\n",
       "      <th>Negative_Score</th>\n",
       "      <th>Avg_Sentence_Length</th>\n",
       "      <th>Percentage_Complex_Word</th>\n",
       "      <th>Fog_Index</th>\n",
       "      <th>AVG_NUMBER_OF_WORDS_PER_SENTENCE</th>\n",
       "      <th>COMPLEX_WORDS</th>\n",
       "      <th>Word_Count</th>\n",
       "      <th>syllable</th>\n",
       "      <th>Average_Word_Length</th>\n",
       "      <th>polarity</th>\n",
       "      <th>subjectivity</th>\n",
       "    </tr>\n",
       "  </thead>\n",
       "  <tbody>\n",
       "    <tr>\n",
       "      <th>0</th>\n",
       "      <td>https://insights.blackcoffer.com/how-prepared-...</td>\n",
       "      <td>How prepared is India to tackle a possible COV...</td>\n",
       "      <td>Frankly no The state of the public healthcar...</td>\n",
       "      <td>Frankly no The state of the public healthcare ...</td>\n",
       "      <td>17</td>\n",
       "      <td>23</td>\n",
       "      <td>4239.0</td>\n",
       "      <td>29.12564</td>\n",
       "      <td>337.92</td>\n",
       "      <td>837.0</td>\n",
       "      <td>1479</td>\n",
       "      <td>5078</td>\n",
       "      <td>1.986858</td>\n",
       "      <td>5.064516</td>\n",
       "      <td>0.052995</td>\n",
       "      <td>0.391332</td>\n",
       "    </tr>\n",
       "  </tbody>\n",
       "</table>\n",
       "</div>"
      ],
      "text/plain": [
       "                                                 url  \\\n",
       "0  https://insights.blackcoffer.com/how-prepared-...   \n",
       "\n",
       "                                               title  \\\n",
       "0  How prepared is India to tackle a possible COV...   \n",
       "\n",
       "                                             content  \\\n",
       "0    Frankly no The state of the public healthcar...   \n",
       "\n",
       "                                      filter_content  Positive_Score  \\\n",
       "0  Frankly no The state of the public healthcare ...              17   \n",
       "\n",
       "   Negative_Score  Avg_Sentence_Length  Percentage_Complex_Word  Fog_Index  \\\n",
       "0              23               4239.0                 29.12564     337.92   \n",
       "\n",
       "    AVG_NUMBER_OF_WORDS_PER_SENTENCE  COMPLEX_WORDS  Word_Count  syllable  \\\n",
       "0                              837.0           1479        5078  1.986858   \n",
       "\n",
       "   Average_Word_Length  polarity  subjectivity  \n",
       "0             5.064516  0.052995      0.391332  "
      ]
     },
     "execution_count": 1,
     "metadata": {},
     "output_type": "execute_result"
    }
   ],
   "source": [
    "import requests\n",
    "import pandas as pd \n",
    "from bs4 import BeautifulSoup\n",
    "import string\n",
    "import spacy\n",
    "import re\n",
    "url = \"\"\"https://insights.blackcoffer.com/how-prepared-is-india-to-tackle-a-possible-covid-19-outbreak/\"\"\"\n",
    "headers = {\"User-Agent\": \"Mozilla/5.0 (X11; Linux x86_64; rv:60.0) Gecko/20100101 Firefox/60.0\"}\n",
    "page = requests.get(url, headers=headers)\n",
    "soup = BeautifulSoup(page.content, 'html.parser')\n",
    "soup=BeautifulSoup(page.content, 'html.parser')\n",
    "title=soup.find('h1',class_=\"entry-title\")\n",
    "title=title.text.replace('\\n',\" \")\n",
    "# title\n",
    "\n",
    "content=soup.findAll(attrs={'class':'td-post-content'})\n",
    "content=content[0].text.replace('\\n',\" \")\n",
    "# print(content)\n",
    "#Punctuation\n",
    "content = content.translate(str.maketrans('', '', string.punctuation)) \n",
    "# print(content)\n",
    "text = content.split()\n",
    "# print(text)\n",
    "len(text)\n",
    "#Positive Score \n",
    "with open(r\"C:\\Users\\Om Bhandwalkar\\Desktop\\pos\\positive-words.txt\") as pos:\n",
    "    poswords = pos.read().split(\"\\n\")  \n",
    "    poswords = poswords[5:]\n",
    "pos_count = \" \".join ([w for w in text if w in poswords])\n",
    "pos_count=pos_count.split(\" \")\n",
    "Positive_score=len(pos_count)\n",
    "print(Positive_score)\n",
    "\n",
    "#Negative Score\n",
    "with open(r\"C:\\Users\\Om Bhandwalkar\\Desktop\\pos\\negative-words.txt\",encoding =\"ISO-8859-1\") as neg:\n",
    "    negwords = neg.read().split(\"\\n\")\n",
    "    \n",
    "negwords = negwords[36:]\n",
    "neg_count = \" \".join ([w for w in text if w in negwords])\n",
    "neg_count=neg_count.split(\" \")\n",
    "Negative_score=len(neg_count)\n",
    "print(Negative_score)\n",
    "\n",
    "\n",
    "filter_content = ' '.join(text)\n",
    "data=[[url,title,content,filter_content,Positive_score,Negative_score]]\n",
    "data=pd.DataFrame(data,columns=[\"url\",\"title\",\"content\",\"filter_content\",\"Positive_Score\",\"Negative_Score\"])\n",
    "from textblob import TextBlob\n",
    "# Get The Subjectivity\n",
    "def sentiment_analysis(data):\n",
    "    sentiment = TextBlob(data[\"content\"]).sentiment\n",
    "    return pd.Series([sentiment.polarity,sentiment.subjectivity ])\n",
    "data[[\"polarity\", \"subjectivity\"]] = data.apply(sentiment_analysis, axis=1)\n",
    "data\n",
    "#AVG SENTENCE LENGTH\n",
    "AVG_SENTENCE_LENGTH = len(content.replace(' ',''))/len(re.split(r'[?!.]', content))\n",
    "print('Word average =', AVG_SENTENCE_LENGTH)\n",
    "import textstat\n",
    "#Fog index \n",
    "FOG_INDEX=(textstat.gunning_fog(content))\n",
    "print(\"FOG INDEX = \",FOG_INDEX)\n",
    "#Average No of Words Per Sentence \n",
    "AVG_NUMBER_OF_WORDS_PER_SENTENCE = [len(l.split()) for l in re.split(r'[?!.]', content) if l.strip()]\n",
    "print(\"Average no of words per sentence\")\n",
    "AVG_NUMBER_OF_WORDS_PER_SENTENCE=(sum(AVG_NUMBER_OF_WORDS_PER_SENTENCE)/len(AVG_NUMBER_OF_WORDS_PER_SENTENCE))\n",
    "print(AVG_NUMBER_OF_WORDS_PER_SENTENCE)\n",
    "#Complex words\n",
    "def syllable_count(word):\n",
    "    count = 0\n",
    "    vowels = \"AEIOUYaeiouy\"\n",
    "    if word[0] in vowels:\n",
    "        count += 1\n",
    "    for index in range(1, len(word)): \n",
    "        if word[index] in vowels and word[index - 1] not in vowels:\n",
    "            count += 1\n",
    "            if word.endswith(\"es\"or \"ed\"):\n",
    "                count -= 1\n",
    "    if count == 0:\n",
    "        count += 1\n",
    "    return count\n",
    "\n",
    "\n",
    "\n",
    "COMPLEX_WORDS=syllable_count(content)\n",
    "print(\"Complex Words\",COMPLEX_WORDS)\n",
    "#Word Count\n",
    "Word_Count=len(content)\n",
    "print(\"Word Count\",Word_Count)\n",
    "#Percentage Complex Words\n",
    "pcw=(COMPLEX_WORDS/Word_Count)*100\n",
    "print(\"Percentage of Complex Words\",pcw)\n",
    "#Average Word Length\n",
    "Average_Word_Length=len(content.replace(' ',''))/len(content.split())\n",
    "print(\"Average Word per Length\",Average_Word_Length)\n",
    "#Syllable Count Per Word\n",
    "word=content.replace(' ','')\n",
    "syllable_count=0\n",
    "for w in word:\n",
    "      if(w=='a' or w=='e' or w=='i' or w=='o' or w=='y' or w=='u' or w=='A' or w=='E' or w=='I' or w=='O' or w=='U' or w=='Y'):\n",
    "            syllable_count=syllable_count+1\n",
    "print(\"The AVG number of syllables in the word is: \")\n",
    "syllable = (syllable_count/len(content.split()))\n",
    "print(syllable)\n",
    "\n",
    "data = [[url,title,content,filter_content,Positive_score,Negative_score,AVG_SENTENCE_LENGTH,pcw,FOG_INDEX,\n",
    "         AVG_NUMBER_OF_WORDS_PER_SENTENCE,COMPLEX_WORDS,Word_Count,syllable,Average_Word_Length]]\n",
    "data=pd.DataFrame(data,columns=[\"url\",\"title\",\"content\",\"filter_content\",\"Positive_Score\",\"Negative_Score\",\"Avg_Sentence_Length\"\n",
    "                               ,\"Percentage_Complex_Word\",\"Fog_Index\",\" AVG_NUMBER_OF_WORDS_PER_SENTENCE\",\"COMPLEX_WORDS\",\n",
    "                               \"Word_Count\",\"syllable\",\"Average_Word_Length\"])\n",
    "from textblob import TextBlob\n",
    "# Get The Subjectivity\n",
    "def sentiment_analysis(data):\n",
    "    sentiment = TextBlob(data[\"content\"]).sentiment\n",
    "    return pd.Series([sentiment.polarity,sentiment.subjectivity ])\n",
    "data[[\"polarity\", \"subjectivity\"]] = data.apply(sentiment_analysis, axis=1)\n",
    "data"
   ]
  },
  {
   "cell_type": "code",
   "execution_count": 2,
   "id": "95f0017a",
   "metadata": {},
   "outputs": [],
   "source": [
    "data.to_csv(r'C:\\Users\\Om Bhandwalkar\\Desktop\\BlackCoffer Assignment\\Output\\url_126.csv')"
   ]
  },
  {
   "cell_type": "code",
   "execution_count": null,
   "id": "a2790c9e",
   "metadata": {},
   "outputs": [],
   "source": []
  }
 ],
 "metadata": {
  "kernelspec": {
   "display_name": "Python 3 (ipykernel)",
   "language": "python",
   "name": "python3"
  },
  "language_info": {
   "codemirror_mode": {
    "name": "ipython",
    "version": 3
   },
   "file_extension": ".py",
   "mimetype": "text/x-python",
   "name": "python",
   "nbconvert_exporter": "python",
   "pygments_lexer": "ipython3",
   "version": "3.9.12"
  }
 },
 "nbformat": 4,
 "nbformat_minor": 5
}
