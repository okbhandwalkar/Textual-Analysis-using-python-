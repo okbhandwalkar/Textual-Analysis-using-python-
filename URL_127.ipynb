{
 "cells": [
  {
   "cell_type": "code",
   "execution_count": 1,
   "id": "b5fa5f02",
   "metadata": {},
   "outputs": [
    {
     "data": {
      "text/plain": [
       "'How will COVID-19 affect the world of work?'"
      ]
     },
     "execution_count": 1,
     "metadata": {},
     "output_type": "execute_result"
    }
   ],
   "source": [
    "import requests\n",
    "import pandas as pd \n",
    "from bs4 import BeautifulSoup\n",
    "import string\n",
    "import spacy\n",
    "import re\n",
    "url = \"\"\"https://insights.blackcoffer.com/how-will-covid-19-affect-the-world-of-work/\"\"\"\n",
    "headers = {\"User-Agent\": \"Mozilla/5.0 (X11; Linux x86_64; rv:60.0) Gecko/20100101 Firefox/60.0\"}\n",
    "page = requests.get(url, headers=headers)\n",
    "soup = BeautifulSoup(page.content, 'html.parser')\n",
    "soup=BeautifulSoup(page.content, 'html.parser')\n",
    "title=soup.find('h1',class_=\"entry-title\")\n",
    "title=title.text.replace('\\n',\" \")\n",
    "title\n"
   ]
  },
  {
   "cell_type": "code",
   "execution_count": 2,
   "id": "4c31b24a",
   "metadata": {},
   "outputs": [
    {
     "name": "stdout",
     "output_type": "stream",
     "text": [
      " Every prophet of doom, unless he also happens to be a psychopath, hopes that his predictions will not be borne out. This is also true for the epidemiologists and virologists who have been warning the world since January that the novel SARS-CoV-2 virus poses a severe threat to public health around the world. The name Coronavirus itself, is vicious enough to terrify those who otherwise are fearless in the face of any ball game. Tracing back the origins of the now pandemic, we find that the coronavirus emerged in Wuhan, a city of 11 million people in China’s Hubei province, in late 2019. Cases of the disease grew by several thousand per day in China in late January and early February, the peak of the epidemic there. The number of infections appearing each day has since plummeted in China, making the outbreak a global pandemic that has engulfed over 214 countries around the globe. Besides being a health crisis, the virus has already brought a major downfall in the world economy with the IMF estimating the coronavirus-induced global downturn to be ‘way worse’ than financial crisis. As the coronavirus spreads across the globe, it appears to be setting off a devastating feedback loop with another of the gravest forces of our time: economic inequality. Research suggests that those in lower economic strata are likelier to catch the disease owing to their inability to meet the rising drug prices. According to the International Labour Organization(ILO), COVID-19 will have far-reaching impacts on labor market outcomes. Beyond the urgent concerns about the health of workers and their families, the virus and the subsequent economic shocks will impact the world of work across three key dimensions. Initial ILO estimates point to a significant rise in unemployment and underemployment in the wake of the virus. Based on different scenarios for the impact of COVID-19 on global GDP growth, preliminary ILO estimates indicate a rise in global unemployment of between 5.3 million (“low” scenario) and 24.7 million (“high” scenario) from a base level of 188 million in 2019. The “mid” scenario suggests an increase of 13 million (7.4 million in high-income countries). Though these estimates remain highly uncertain, all figures indicate a substantial rise in global unemployment. For comparison, the global financial crisis of 2008-9 increased unemployment by 22 million. While self-employment does not typically react to economic downturns, it acts as a “default” option for survival or maintaining income – often in the informal economy. For this reason, informal employment tends to increase during crises. However, the current limitations on the movement of people and goods may restrict this type of coping mechanism. Labour supply is declining because of quarantine measures and a fall in economic activity. At this point, a preliminary estimate suggests that infected workers have already lost nearly 30,000 work months, with the consequent loss of income (for unprotected workers). Employment impacts imply large income losses for workers. Overall losses in labour income are expected in the range of between 860 and 3,440 billion USD. The loss of labour income will translate into lower consumption of goods and services, which is detrimental to the continuity of businesses and ensuring that economies are resilient. Working poverty is also likely to increase significantly. The strain on incomes resulting from the decline in economic activity will devastate workers close to or below the poverty line. The growth impacts of the virus used for the unemployment estimates above suggest an additional 8.8 million people in working poverty around the world than originally estimated (i.e. an overall decline of 5.2 million working poor in 2020 compared to a decline of 14 million estimated pre-COVID-19). Under the mid and high scenarios, there will be between 20.1 million and 35.0 million more people in working poverty than before the pre-COVID-19 estimate for 2020. Who are particularly vulnerable?Epidemics and economic crises can have a disproportionate impact on certain segments of the population, which can trigger worsening inequality. Based on past experience and current information on the COVID-19 pandemic and insights from previous crises, a number of groups can be identified: Those with underlying health conditions and older people are most at risk of developing serious health issues.Young persons, already facing higher rates of unemployment and underemployment, are more vulnerable to falling labor demand, as witnessed during the global financial crisis. Women are over-represented in more affected sectors (such as services) or in occupations that are at the front line of dealing with the pandemic (e.g. nurses). The ILO estimates that 58.6 percent of employed women work in the services sector around the world, compared to 45.4 percent of men.Unprotected workers, including the self-employed, casual, and gig workers, are likely to be disproportionately hit by the virus as they do not have access to paid or sick leave mechanisms, and are less protected by conventional social protection mechanisms and other forms of income smoothing.Migrant workers are particularly vulnerable to the impact of the COVID-19 crisis, which will constrain both their ability to access their places of work in destination countries and return to their families. The extent and severity to which the coronavirus pandemic will impact the fight to end extreme poverty is still unknown, but it is expected that the crisis will devastate the world’s most vulnerable people including the world of work. The virus is already disproportionately impacting the poor in wealthy countries, where the most known cases are concentrated. Experts are urging the world to prepare to lend extra support to low-income countries to address the pandemic. COVID-19 cases are more likely to go undetected or to be under-detected in developing countries that have fewer resources available to tackle a pandemic. Countries with large poor populations including Brazil, India, Indonesia, Nigeria, and Pakistan have confirmed few cases, but have been slow to respond to the threat, according to NPR. Preventative care and health education are less accessible to low-income people who are more likely to have pre-existing conditions, catch COVID-19, and die from it. People living in poverty are also more likely to hold insecure jobs and cannot afford to stay home sick from work. In times of crisis, International Labour Standards provide a strong foundation for key policy responses that focus on the crucial role of decent work in achieving a sustained and equitable recovery to mitigate the impacts of COVID-19 on the world of work. These standards, adopted by representatives of governments, workers’ and employers’ organizations, provide a human-centered approach to growth and development, including by triggering policy levers that both stimulate demand and protect workers and enterprises. Policy responses should focus on two immediate goals: Health protection measures and economic support on both the demand- and supply-side of the associated cause. First, workers and employers and their families should be protected from the health risks of COVID-19. Protective measures at the workplace and across communities should be introduced and strengthened, requiring large-scale public support and investment.Second, timely, large-scale, and coordinated policy efforts should be taken to provide employment and income support and to stimulate the economy and labor demand. These measures not only cushion enterprises and workers against immediate employment and income losses, but they also help prevent a chain of supply shocks (e.g. losses in workers’ productivity capacities) and demand shocks (e.g. suppressing consumption among workers and their families) that could lead to a prolonged economic recession. In such challenging times, many countries have come forward to protect their workers in the workplace with decisive measures to combat the spread of the disease, while ameliorating its pernicious effect on the economy and labor market across the three policy pillars: protecting workers in the workplace, stimulating the economy and labor demand, and supporting employment and income. Some of the policies include Working arrangements, including telework; Occupational Safety and Health (OSH) advice; Expanded access to paid sick leave; Prevention of discrimination and exclusion. While these measures will no doubt help to contain the pandemic, to respond to the emergency needs it has generated and to pave the way to a gradual recovery, it is clear that more needs to be done. Past crises and the experiences of countries, which have reacted too late in the context of the current COVID-19 crisis, show that preparedness and early action is critical. The coronavirus pandemic is a test. It’s a test of medical capacity and political will. It’s a test of endurance and forbearance, for believers a test of religious faith. It’s a test, too, of a different kind of faith, in the strength of the ideas humans choose to help them form moral judgments and guide personal and social behavior. The epidemic forces everyone to confront deep questions of human existence, questions so profound that they have previously been answered, in many different ways, by the greatest philosophers. It’s a test of where all humans stand. What is right and what is wrong? What can individuals expect from society, and what can society expect of them? Should others make sacrifices for me, and vice versa? Is it just to set economic limits to fighting a deadly disease? How long will we stay that way? And as the epidemic grows worse and brings the disease within fewer degrees of separation for everyone, we may well find that the notion of loving thy neighbor as thyself becomes far more potent.At last I would like to conclude by saying that COVID-19 is something we all face as a community, and thus something that we have to solve as a community, not with weapons, but with goodwill and common efforts. Blackcoffer Insights 17:-Adamya Patel, Vellore Institute of Technology \n",
      " Every prophet of doom unless he also happens to be a psychopath hopes that his predictions will not be borne out This is also true for the epidemiologists and virologists who have been warning the world since January that the novel SARSCoV2 virus poses a severe threat to public health around the world The name Coronavirus itself is vicious enough to terrify those who otherwise are fearless in the face of any ball game Tracing back the origins of the now pandemic we find that the coronavirus emerged in Wuhan a city of 11 million people in China’s Hubei province in late 2019 Cases of the disease grew by several thousand per day in China in late January and early February the peak of the epidemic there The number of infections appearing each day has since plummeted in China making the outbreak a global pandemic that has engulfed over 214 countries around the globe Besides being a health crisis the virus has already brought a major downfall in the world economy with the IMF estimating the coronavirusinduced global downturn to be ‘way worse’ than financial crisis As the coronavirus spreads across the globe it appears to be setting off a devastating feedback loop with another of the gravest forces of our time economic inequality Research suggests that those in lower economic strata are likelier to catch the disease owing to their inability to meet the rising drug prices According to the International Labour OrganizationILO COVID19 will have farreaching impacts on labor market outcomes Beyond the urgent concerns about the health of workers and their families the virus and the subsequent economic shocks will impact the world of work across three key dimensions Initial ILO estimates point to a significant rise in unemployment and underemployment in the wake of the virus Based on different scenarios for the impact of COVID19 on global GDP growth preliminary ILO estimates indicate a rise in global unemployment of between 53 million “low” scenario and 247 million “high” scenario from a base level of 188 million in 2019 The “mid” scenario suggests an increase of 13 million 74 million in highincome countries Though these estimates remain highly uncertain all figures indicate a substantial rise in global unemployment For comparison the global financial crisis of 20089 increased unemployment by 22 million While selfemployment does not typically react to economic downturns it acts as a “default” option for survival or maintaining income – often in the informal economy For this reason informal employment tends to increase during crises However the current limitations on the movement of people and goods may restrict this type of coping mechanism Labour supply is declining because of quarantine measures and a fall in economic activity At this point a preliminary estimate suggests that infected workers have already lost nearly 30000 work months with the consequent loss of income for unprotected workers Employment impacts imply large income losses for workers Overall losses in labour income are expected in the range of between 860 and 3440 billion USD The loss of labour income will translate into lower consumption of goods and services which is detrimental to the continuity of businesses and ensuring that economies are resilient Working poverty is also likely to increase significantly The strain on incomes resulting from the decline in economic activity will devastate workers close to or below the poverty line The growth impacts of the virus used for the unemployment estimates above suggest an additional 88 million people in working poverty around the world than originally estimated ie an overall decline of 52 million working poor in 2020 compared to a decline of 14 million estimated preCOVID19 Under the mid and high scenarios there will be between 201 million and 350 million more people in working poverty than before the preCOVID19 estimate for 2020 Who are particularly vulnerableEpidemics and economic crises can have a disproportionate impact on certain segments of the population which can trigger worsening inequality Based on past experience and current information on the COVID19 pandemic and insights from previous crises a number of groups can be identified Those with underlying health conditions and older people are most at risk of developing serious health issuesYoung persons already facing higher rates of unemployment and underemployment are more vulnerable to falling labor demand as witnessed during the global financial crisis Women are overrepresented in more affected sectors such as services or in occupations that are at the front line of dealing with the pandemic eg nurses The ILO estimates that 586 percent of employed women work in the services sector around the world compared to 454 percent of menUnprotected workers including the selfemployed casual and gig workers are likely to be disproportionately hit by the virus as they do not have access to paid or sick leave mechanisms and are less protected by conventional social protection mechanisms and other forms of income smoothingMigrant workers are particularly vulnerable to the impact of the COVID19 crisis which will constrain both their ability to access their places of work in destination countries and return to their families The extent and severity to which the coronavirus pandemic will impact the fight to end extreme poverty is still unknown but it is expected that the crisis will devastate the world’s most vulnerable people including the world of work The virus is already disproportionately impacting the poor in wealthy countries where the most known cases are concentrated Experts are urging the world to prepare to lend extra support to lowincome countries to address the pandemic COVID19 cases are more likely to go undetected or to be underdetected in developing countries that have fewer resources available to tackle a pandemic Countries with large poor populations including Brazil India Indonesia Nigeria and Pakistan have confirmed few cases but have been slow to respond to the threat according to NPR Preventative care and health education are less accessible to lowincome people who are more likely to have preexisting conditions catch COVID19 and die from it People living in poverty are also more likely to hold insecure jobs and cannot afford to stay home sick from work In times of crisis International Labour Standards provide a strong foundation for key policy responses that focus on the crucial role of decent work in achieving a sustained and equitable recovery to mitigate the impacts of COVID19 on the world of work These standards adopted by representatives of governments workers’ and employers’ organizations provide a humancentered approach to growth and development including by triggering policy levers that both stimulate demand and protect workers and enterprises Policy responses should focus on two immediate goals Health protection measures and economic support on both the demand and supplyside of the associated cause First workers and employers and their families should be protected from the health risks of COVID19 Protective measures at the workplace and across communities should be introduced and strengthened requiring largescale public support and investmentSecond timely largescale and coordinated policy efforts should be taken to provide employment and income support and to stimulate the economy and labor demand These measures not only cushion enterprises and workers against immediate employment and income losses but they also help prevent a chain of supply shocks eg losses in workers’ productivity capacities and demand shocks eg suppressing consumption among workers and their families that could lead to a prolonged economic recession In such challenging times many countries have come forward to protect their workers in the workplace with decisive measures to combat the spread of the disease while ameliorating its pernicious effect on the economy and labor market across the three policy pillars protecting workers in the workplace stimulating the economy and labor demand and supporting employment and income Some of the policies include Working arrangements including telework Occupational Safety and Health OSH advice Expanded access to paid sick leave Prevention of discrimination and exclusion While these measures will no doubt help to contain the pandemic to respond to the emergency needs it has generated and to pave the way to a gradual recovery it is clear that more needs to be done Past crises and the experiences of countries which have reacted too late in the context of the current COVID19 crisis show that preparedness and early action is critical The coronavirus pandemic is a test It’s a test of medical capacity and political will It’s a test of endurance and forbearance for believers a test of religious faith It’s a test too of a different kind of faith in the strength of the ideas humans choose to help them form moral judgments and guide personal and social behavior The epidemic forces everyone to confront deep questions of human existence questions so profound that they have previously been answered in many different ways by the greatest philosophers It’s a test of where all humans stand What is right and what is wrong What can individuals expect from society and what can society expect of them Should others make sacrifices for me and vice versa Is it just to set economic limits to fighting a deadly disease How long will we stay that way And as the epidemic grows worse and brings the disease within fewer degrees of separation for everyone we may well find that the notion of loving thy neighbor as thyself becomes far more potentAt last I would like to conclude by saying that COVID19 is something we all face as a community and thus something that we have to solve as a community not with weapons but with goodwill and common efforts Blackcoffer Insights 17Adamya Patel Vellore Institute of Technology \n",
      "['Every', 'prophet', 'of', 'doom', 'unless', 'he', 'also', 'happens', 'to', 'be', 'a', 'psychopath', 'hopes', 'that', 'his', 'predictions', 'will', 'not', 'be', 'borne', 'out', 'This', 'is', 'also', 'true', 'for', 'the', 'epidemiologists', 'and', 'virologists', 'who', 'have', 'been', 'warning', 'the', 'world', 'since', 'January', 'that', 'the', 'novel', 'SARSCoV2', 'virus', 'poses', 'a', 'severe', 'threat', 'to', 'public', 'health', 'around', 'the', 'world', 'The', 'name', 'Coronavirus', 'itself', 'is', 'vicious', 'enough', 'to', 'terrify', 'those', 'who', 'otherwise', 'are', 'fearless', 'in', 'the', 'face', 'of', 'any', 'ball', 'game', 'Tracing', 'back', 'the', 'origins', 'of', 'the', 'now', 'pandemic', 'we', 'find', 'that', 'the', 'coronavirus', 'emerged', 'in', 'Wuhan', 'a', 'city', 'of', '11', 'million', 'people', 'in', 'China’s', 'Hubei', 'province', 'in', 'late', '2019', 'Cases', 'of', 'the', 'disease', 'grew', 'by', 'several', 'thousand', 'per', 'day', 'in', 'China', 'in', 'late', 'January', 'and', 'early', 'February', 'the', 'peak', 'of', 'the', 'epidemic', 'there', 'The', 'number', 'of', 'infections', 'appearing', 'each', 'day', 'has', 'since', 'plummeted', 'in', 'China', 'making', 'the', 'outbreak', 'a', 'global', 'pandemic', 'that', 'has', 'engulfed', 'over', '214', 'countries', 'around', 'the', 'globe', 'Besides', 'being', 'a', 'health', 'crisis', 'the', 'virus', 'has', 'already', 'brought', 'a', 'major', 'downfall', 'in', 'the', 'world', 'economy', 'with', 'the', 'IMF', 'estimating', 'the', 'coronavirusinduced', 'global', 'downturn', 'to', 'be', '‘way', 'worse’', 'than', 'financial', 'crisis', 'As', 'the', 'coronavirus', 'spreads', 'across', 'the', 'globe', 'it', 'appears', 'to', 'be', 'setting', 'off', 'a', 'devastating', 'feedback', 'loop', 'with', 'another', 'of', 'the', 'gravest', 'forces', 'of', 'our', 'time', 'economic', 'inequality', 'Research', 'suggests', 'that', 'those', 'in', 'lower', 'economic', 'strata', 'are', 'likelier', 'to', 'catch', 'the', 'disease', 'owing', 'to', 'their', 'inability', 'to', 'meet', 'the', 'rising', 'drug', 'prices', 'According', 'to', 'the', 'International', 'Labour', 'OrganizationILO', 'COVID19', 'will', 'have', 'farreaching', 'impacts', 'on', 'labor', 'market', 'outcomes', 'Beyond', 'the', 'urgent', 'concerns', 'about', 'the', 'health', 'of', 'workers', 'and', 'their', 'families', 'the', 'virus', 'and', 'the', 'subsequent', 'economic', 'shocks', 'will', 'impact', 'the', 'world', 'of', 'work', 'across', 'three', 'key', 'dimensions', 'Initial', 'ILO', 'estimates', 'point', 'to', 'a', 'significant', 'rise', 'in', 'unemployment', 'and', 'underemployment', 'in', 'the', 'wake', 'of', 'the', 'virus', 'Based', 'on', 'different', 'scenarios', 'for', 'the', 'impact', 'of', 'COVID19', 'on', 'global', 'GDP', 'growth', 'preliminary', 'ILO', 'estimates', 'indicate', 'a', 'rise', 'in', 'global', 'unemployment', 'of', 'between', '53', 'million', '“low”', 'scenario', 'and', '247', 'million', '“high”', 'scenario', 'from', 'a', 'base', 'level', 'of', '188', 'million', 'in', '2019', 'The', '“mid”', 'scenario', 'suggests', 'an', 'increase', 'of', '13', 'million', '74', 'million', 'in', 'highincome', 'countries', 'Though', 'these', 'estimates', 'remain', 'highly', 'uncertain', 'all', 'figures', 'indicate', 'a', 'substantial', 'rise', 'in', 'global', 'unemployment', 'For', 'comparison', 'the', 'global', 'financial', 'crisis', 'of', '20089', 'increased', 'unemployment', 'by', '22', 'million', 'While', 'selfemployment', 'does', 'not', 'typically', 'react', 'to', 'economic', 'downturns', 'it', 'acts', 'as', 'a', '“default”', 'option', 'for', 'survival', 'or', 'maintaining', 'income', '–', 'often', 'in', 'the', 'informal', 'economy', 'For', 'this', 'reason', 'informal', 'employment', 'tends', 'to', 'increase', 'during', 'crises', 'However', 'the', 'current', 'limitations', 'on', 'the', 'movement', 'of', 'people', 'and', 'goods', 'may', 'restrict', 'this', 'type', 'of', 'coping', 'mechanism', 'Labour', 'supply', 'is', 'declining', 'because', 'of', 'quarantine', 'measures', 'and', 'a', 'fall', 'in', 'economic', 'activity', 'At', 'this', 'point', 'a', 'preliminary', 'estimate', 'suggests', 'that', 'infected', 'workers', 'have', 'already', 'lost', 'nearly', '30000', 'work', 'months', 'with', 'the', 'consequent', 'loss', 'of', 'income', 'for', 'unprotected', 'workers', 'Employment', 'impacts', 'imply', 'large', 'income', 'losses', 'for', 'workers', 'Overall', 'losses', 'in', 'labour', 'income', 'are', 'expected', 'in', 'the', 'range', 'of', 'between', '860', 'and', '3440', 'billion', 'USD', 'The', 'loss', 'of', 'labour', 'income', 'will', 'translate', 'into', 'lower', 'consumption', 'of', 'goods', 'and', 'services', 'which', 'is', 'detrimental', 'to', 'the', 'continuity', 'of', 'businesses', 'and', 'ensuring', 'that', 'economies', 'are', 'resilient', 'Working', 'poverty', 'is', 'also', 'likely', 'to', 'increase', 'significantly', 'The', 'strain', 'on', 'incomes', 'resulting', 'from', 'the', 'decline', 'in', 'economic', 'activity', 'will', 'devastate', 'workers', 'close', 'to', 'or', 'below', 'the', 'poverty', 'line', 'The', 'growth', 'impacts', 'of', 'the', 'virus', 'used', 'for', 'the', 'unemployment', 'estimates', 'above', 'suggest', 'an', 'additional', '88', 'million', 'people', 'in', 'working', 'poverty', 'around', 'the', 'world', 'than', 'originally', 'estimated', 'ie', 'an', 'overall', 'decline', 'of', '52', 'million', 'working', 'poor', 'in', '2020', 'compared', 'to', 'a', 'decline', 'of', '14', 'million', 'estimated', 'preCOVID19', 'Under', 'the', 'mid', 'and', 'high', 'scenarios', 'there', 'will', 'be', 'between', '201', 'million', 'and', '350', 'million', 'more', 'people', 'in', 'working', 'poverty', 'than', 'before', 'the', 'preCOVID19', 'estimate', 'for', '2020', 'Who', 'are', 'particularly', 'vulnerableEpidemics', 'and', 'economic', 'crises', 'can', 'have', 'a', 'disproportionate', 'impact', 'on', 'certain', 'segments', 'of', 'the', 'population', 'which', 'can', 'trigger', 'worsening', 'inequality', 'Based', 'on', 'past', 'experience', 'and', 'current', 'information', 'on', 'the', 'COVID19', 'pandemic', 'and', 'insights', 'from', 'previous', 'crises', 'a', 'number', 'of', 'groups', 'can', 'be', 'identified', 'Those', 'with', 'underlying', 'health', 'conditions', 'and', 'older', 'people', 'are', 'most', 'at', 'risk', 'of', 'developing', 'serious', 'health', 'issuesYoung', 'persons', 'already', 'facing', 'higher', 'rates', 'of', 'unemployment', 'and', 'underemployment', 'are', 'more', 'vulnerable', 'to', 'falling', 'labor', 'demand', 'as', 'witnessed', 'during', 'the', 'global', 'financial', 'crisis', 'Women', 'are', 'overrepresented', 'in', 'more', 'affected', 'sectors', 'such', 'as', 'services', 'or', 'in', 'occupations', 'that', 'are', 'at', 'the', 'front', 'line', 'of', 'dealing', 'with', 'the', 'pandemic', 'eg', 'nurses', 'The', 'ILO', 'estimates', 'that', '586', 'percent', 'of', 'employed', 'women', 'work', 'in', 'the', 'services', 'sector', 'around', 'the', 'world', 'compared', 'to', '454', 'percent', 'of', 'menUnprotected', 'workers', 'including', 'the', 'selfemployed', 'casual', 'and', 'gig', 'workers', 'are', 'likely', 'to', 'be', 'disproportionately', 'hit', 'by', 'the', 'virus', 'as', 'they', 'do', 'not', 'have', 'access', 'to', 'paid', 'or', 'sick', 'leave', 'mechanisms', 'and', 'are', 'less', 'protected', 'by', 'conventional', 'social', 'protection', 'mechanisms', 'and', 'other', 'forms', 'of', 'income', 'smoothingMigrant', 'workers', 'are', 'particularly', 'vulnerable', 'to', 'the', 'impact', 'of', 'the', 'COVID19', 'crisis', 'which', 'will', 'constrain', 'both', 'their', 'ability', 'to', 'access', 'their', 'places', 'of', 'work', 'in', 'destination', 'countries', 'and', 'return', 'to', 'their', 'families', 'The', 'extent', 'and', 'severity', 'to', 'which', 'the', 'coronavirus', 'pandemic', 'will', 'impact', 'the', 'fight', 'to', 'end', 'extreme', 'poverty', 'is', 'still', 'unknown', 'but', 'it', 'is', 'expected', 'that', 'the', 'crisis', 'will', 'devastate', 'the', 'world’s', 'most', 'vulnerable', 'people', 'including', 'the', 'world', 'of', 'work', 'The', 'virus', 'is', 'already', 'disproportionately', 'impacting', 'the', 'poor', 'in', 'wealthy', 'countries', 'where', 'the', 'most', 'known', 'cases', 'are', 'concentrated', 'Experts', 'are', 'urging', 'the', 'world', 'to', 'prepare', 'to', 'lend', 'extra', 'support', 'to', 'lowincome', 'countries', 'to', 'address', 'the', 'pandemic', 'COVID19', 'cases', 'are', 'more', 'likely', 'to', 'go', 'undetected', 'or', 'to', 'be', 'underdetected', 'in', 'developing', 'countries', 'that', 'have', 'fewer', 'resources', 'available', 'to', 'tackle', 'a', 'pandemic', 'Countries', 'with', 'large', 'poor', 'populations', 'including', 'Brazil', 'India', 'Indonesia', 'Nigeria', 'and', 'Pakistan', 'have', 'confirmed', 'few', 'cases', 'but', 'have', 'been', 'slow', 'to', 'respond', 'to', 'the', 'threat', 'according', 'to', 'NPR', 'Preventative', 'care', 'and', 'health', 'education', 'are', 'less', 'accessible', 'to', 'lowincome', 'people', 'who', 'are', 'more', 'likely', 'to', 'have', 'preexisting', 'conditions', 'catch', 'COVID19', 'and', 'die', 'from', 'it', 'People', 'living', 'in', 'poverty', 'are', 'also', 'more', 'likely', 'to', 'hold', 'insecure', 'jobs', 'and', 'cannot', 'afford', 'to', 'stay', 'home', 'sick', 'from', 'work', 'In', 'times', 'of', 'crisis', 'International', 'Labour', 'Standards', 'provide', 'a', 'strong', 'foundation', 'for', 'key', 'policy', 'responses', 'that', 'focus', 'on', 'the', 'crucial', 'role', 'of', 'decent', 'work', 'in', 'achieving', 'a', 'sustained', 'and', 'equitable', 'recovery', 'to', 'mitigate', 'the', 'impacts', 'of', 'COVID19', 'on', 'the', 'world', 'of', 'work', 'These', 'standards', 'adopted', 'by', 'representatives', 'of', 'governments', 'workers’', 'and', 'employers’', 'organizations', 'provide', 'a', 'humancentered', 'approach', 'to', 'growth', 'and', 'development', 'including', 'by', 'triggering', 'policy', 'levers', 'that', 'both', 'stimulate', 'demand', 'and', 'protect', 'workers', 'and', 'enterprises', 'Policy', 'responses', 'should', 'focus', 'on', 'two', 'immediate', 'goals', 'Health', 'protection', 'measures', 'and', 'economic', 'support', 'on', 'both', 'the', 'demand', 'and', 'supplyside', 'of', 'the', 'associated', 'cause', 'First', 'workers', 'and', 'employers', 'and', 'their', 'families', 'should', 'be', 'protected', 'from', 'the', 'health', 'risks', 'of', 'COVID19', 'Protective', 'measures', 'at', 'the', 'workplace', 'and', 'across', 'communities', 'should', 'be', 'introduced', 'and', 'strengthened', 'requiring', 'largescale', 'public', 'support', 'and', 'investmentSecond', 'timely', 'largescale', 'and', 'coordinated', 'policy', 'efforts', 'should', 'be', 'taken', 'to', 'provide', 'employment', 'and', 'income', 'support', 'and', 'to', 'stimulate', 'the', 'economy', 'and', 'labor', 'demand', 'These', 'measures', 'not', 'only', 'cushion', 'enterprises', 'and', 'workers', 'against', 'immediate', 'employment', 'and', 'income', 'losses', 'but', 'they', 'also', 'help', 'prevent', 'a', 'chain', 'of', 'supply', 'shocks', 'eg', 'losses', 'in', 'workers’', 'productivity', 'capacities', 'and', 'demand', 'shocks', 'eg', 'suppressing', 'consumption', 'among', 'workers', 'and', 'their', 'families', 'that', 'could', 'lead', 'to', 'a', 'prolonged', 'economic', 'recession', 'In', 'such', 'challenging', 'times', 'many', 'countries', 'have', 'come', 'forward', 'to', 'protect', 'their', 'workers', 'in', 'the', 'workplace', 'with', 'decisive', 'measures', 'to', 'combat', 'the', 'spread', 'of', 'the', 'disease', 'while', 'ameliorating', 'its', 'pernicious', 'effect', 'on', 'the', 'economy', 'and', 'labor', 'market', 'across', 'the', 'three', 'policy', 'pillars', 'protecting', 'workers', 'in', 'the', 'workplace', 'stimulating', 'the', 'economy', 'and', 'labor', 'demand', 'and', 'supporting', 'employment', 'and', 'income', 'Some', 'of', 'the', 'policies', 'include', 'Working', 'arrangements', 'including', 'telework', 'Occupational', 'Safety', 'and', 'Health', 'OSH', 'advice', 'Expanded', 'access', 'to', 'paid', 'sick', 'leave', 'Prevention', 'of', 'discrimination', 'and', 'exclusion', 'While', 'these', 'measures', 'will', 'no', 'doubt', 'help', 'to', 'contain', 'the', 'pandemic', 'to', 'respond', 'to', 'the', 'emergency', 'needs', 'it', 'has', 'generated', 'and', 'to', 'pave', 'the', 'way', 'to', 'a', 'gradual', 'recovery', 'it', 'is', 'clear', 'that', 'more', 'needs', 'to', 'be', 'done', 'Past', 'crises', 'and', 'the', 'experiences', 'of', 'countries', 'which', 'have', 'reacted', 'too', 'late', 'in', 'the', 'context', 'of', 'the', 'current', 'COVID19', 'crisis', 'show', 'that', 'preparedness', 'and', 'early', 'action', 'is', 'critical', 'The', 'coronavirus', 'pandemic', 'is', 'a', 'test', 'It’s', 'a', 'test', 'of', 'medical', 'capacity', 'and', 'political', 'will', 'It’s', 'a', 'test', 'of', 'endurance', 'and', 'forbearance', 'for', 'believers', 'a', 'test', 'of', 'religious', 'faith', 'It’s', 'a', 'test', 'too', 'of', 'a', 'different', 'kind', 'of', 'faith', 'in', 'the', 'strength', 'of', 'the', 'ideas', 'humans', 'choose', 'to', 'help', 'them', 'form', 'moral', 'judgments', 'and', 'guide', 'personal', 'and', 'social', 'behavior', 'The', 'epidemic', 'forces', 'everyone', 'to', 'confront', 'deep', 'questions', 'of', 'human', 'existence', 'questions', 'so', 'profound', 'that', 'they', 'have', 'previously', 'been', 'answered', 'in', 'many', 'different', 'ways', 'by', 'the', 'greatest', 'philosophers', 'It’s', 'a', 'test', 'of', 'where', 'all', 'humans', 'stand', 'What', 'is', 'right', 'and', 'what', 'is', 'wrong', 'What', 'can', 'individuals', 'expect', 'from', 'society', 'and', 'what', 'can', 'society', 'expect', 'of', 'them', 'Should', 'others', 'make', 'sacrifices', 'for', 'me', 'and', 'vice', 'versa', 'Is', 'it', 'just', 'to', 'set', 'economic', 'limits', 'to', 'fighting', 'a', 'deadly', 'disease', 'How', 'long', 'will', 'we', 'stay', 'that', 'way', 'And', 'as', 'the', 'epidemic', 'grows', 'worse', 'and', 'brings', 'the', 'disease', 'within', 'fewer', 'degrees', 'of', 'separation', 'for', 'everyone', 'we', 'may', 'well', 'find', 'that', 'the', 'notion', 'of', 'loving', 'thy', 'neighbor', 'as', 'thyself', 'becomes', 'far', 'more', 'potentAt', 'last', 'I', 'would', 'like', 'to', 'conclude', 'by', 'saying', 'that', 'COVID19', 'is', 'something', 'we', 'all', 'face', 'as', 'a', 'community', 'and', 'thus', 'something', 'that', 'we', 'have', 'to', 'solve', 'as', 'a', 'community', 'not', 'with', 'weapons', 'but', 'with', 'goodwill', 'and', 'common', 'efforts', 'Blackcoffer', 'Insights', '17Adamya', 'Patel', 'Vellore', 'Institute', 'of', 'Technology']\n"
     ]
    }
   ],
   "source": [
    "content=soup.findAll(attrs={'class':'td-post-content'})\n",
    "content=content[0].text.replace('\\n',\" \")\n",
    "print(content)\n",
    "#Punctuation\n",
    "content = content.translate(str.maketrans('', '', string.punctuation)) \n",
    "print(content)\n",
    "text = content.split()\n",
    "print(text)\n"
   ]
  },
  {
   "cell_type": "code",
   "execution_count": 3,
   "id": "653226a4",
   "metadata": {},
   "outputs": [
    {
     "data": {
      "text/plain": [
       "1596"
      ]
     },
     "execution_count": 3,
     "metadata": {},
     "output_type": "execute_result"
    }
   ],
   "source": [
    "len(text)"
   ]
  },
  {
   "cell_type": "code",
   "execution_count": 4,
   "id": "4fbd6d05",
   "metadata": {},
   "outputs": [
    {
     "name": "stdout",
     "output_type": "stream",
     "text": [
      "48\n"
     ]
    }
   ],
   "source": [
    "#Positive Score \n",
    "with open(r\"C:\\Users\\Om Bhandwalkar\\Desktop\\pos\\positive-words.txt\") as pos:\n",
    "    poswords = pos.read().split(\"\\n\")  \n",
    "    poswords = poswords[5:]\n",
    "pos_count = \" \".join ([w for w in text if w in poswords])\n",
    "pos_count=pos_count.split(\" \")\n",
    "Positive_score=len(pos_count)\n",
    "print(Positive_score)"
   ]
  },
  {
   "cell_type": "code",
   "execution_count": 5,
   "id": "cc2e73fe",
   "metadata": {},
   "outputs": [
    {
     "name": "stdout",
     "output_type": "stream",
     "text": [
      "94\n"
     ]
    }
   ],
   "source": [
    "#Negative Score\n",
    "with open(r\"C:\\Users\\Om Bhandwalkar\\Desktop\\pos\\negative-words.txt\",encoding =\"ISO-8859-1\") as neg:\n",
    "    negwords = neg.read().split(\"\\n\")\n",
    "    \n",
    "negwords = negwords[36:]\n",
    "neg_count = \" \".join ([w for w in text if w in negwords])\n",
    "neg_count=neg_count.split(\" \")\n",
    "Negative_score=len(neg_count)\n",
    "print(Negative_score)"
   ]
  },
  {
   "cell_type": "code",
   "execution_count": 6,
   "id": "b43db6bf",
   "metadata": {},
   "outputs": [
    {
     "data": {
      "text/html": [
       "<div>\n",
       "<style scoped>\n",
       "    .dataframe tbody tr th:only-of-type {\n",
       "        vertical-align: middle;\n",
       "    }\n",
       "\n",
       "    .dataframe tbody tr th {\n",
       "        vertical-align: top;\n",
       "    }\n",
       "\n",
       "    .dataframe thead th {\n",
       "        text-align: right;\n",
       "    }\n",
       "</style>\n",
       "<table border=\"1\" class=\"dataframe\">\n",
       "  <thead>\n",
       "    <tr style=\"text-align: right;\">\n",
       "      <th></th>\n",
       "      <th>url</th>\n",
       "      <th>title</th>\n",
       "      <th>content</th>\n",
       "      <th>filter_content</th>\n",
       "      <th>Positive_Score</th>\n",
       "      <th>Negative_Score</th>\n",
       "      <th>polarity</th>\n",
       "      <th>subjectivity</th>\n",
       "    </tr>\n",
       "  </thead>\n",
       "  <tbody>\n",
       "    <tr>\n",
       "      <th>0</th>\n",
       "      <td>https://insights.blackcoffer.com/how-will-covi...</td>\n",
       "      <td>How will COVID-19 affect the world of work?</td>\n",
       "      <td>Every prophet of doom unless he also happens ...</td>\n",
       "      <td>Every prophet of doom unless he also happens t...</td>\n",
       "      <td>48</td>\n",
       "      <td>94</td>\n",
       "      <td>0.02551</td>\n",
       "      <td>0.447381</td>\n",
       "    </tr>\n",
       "  </tbody>\n",
       "</table>\n",
       "</div>"
      ],
      "text/plain": [
       "                                                 url  \\\n",
       "0  https://insights.blackcoffer.com/how-will-covi...   \n",
       "\n",
       "                                         title  \\\n",
       "0  How will COVID-19 affect the world of work?   \n",
       "\n",
       "                                             content  \\\n",
       "0   Every prophet of doom unless he also happens ...   \n",
       "\n",
       "                                      filter_content  Positive_Score  \\\n",
       "0  Every prophet of doom unless he also happens t...              48   \n",
       "\n",
       "   Negative_Score  polarity  subjectivity  \n",
       "0              94   0.02551      0.447381  "
      ]
     },
     "execution_count": 6,
     "metadata": {},
     "output_type": "execute_result"
    }
   ],
   "source": [
    "filter_content = ' '.join(text)\n",
    "data=[[url,title,content,filter_content,Positive_score,Negative_score]]\n",
    "data=pd.DataFrame(data,columns=[\"url\",\"title\",\"content\",\"filter_content\",\"Positive_Score\",\"Negative_Score\"])\n",
    "from textblob import TextBlob\n",
    "# Get The Subjectivity\n",
    "def sentiment_analysis(data):\n",
    "    sentiment = TextBlob(data[\"content\"]).sentiment\n",
    "    return pd.Series([sentiment.polarity,sentiment.subjectivity ])\n",
    "\n",
    "# Adding Subjectivity & Polarity\n",
    "data[[\"polarity\", \"subjectivity\"]] = data.apply(sentiment_analysis, axis=1)\n",
    "\n",
    "data"
   ]
  },
  {
   "cell_type": "code",
   "execution_count": 7,
   "id": "d02385f8",
   "metadata": {},
   "outputs": [
    {
     "name": "stdout",
     "output_type": "stream",
     "text": [
      "Word average = 8373.0\n",
      "FOG INDEX =  642.36\n",
      "Average no of words per sentence\n",
      "1596.0\n",
      "Complex Words 2957\n"
     ]
    }
   ],
   "source": [
    "#AVG SENTENCE LENGTH\n",
    "AVG_SENTENCE_LENGTH = len(content.replace(' ',''))/len(re.split(r'[?!.]', content))\n",
    "print('Word average =', AVG_SENTENCE_LENGTH)\n",
    "import textstat\n",
    "#Fog index \n",
    "FOG_INDEX=(textstat.gunning_fog(content))\n",
    "print(\"FOG INDEX = \",FOG_INDEX)\n",
    "#Average No of Words Per Sentence \n",
    "AVG_NUMBER_OF_WORDS_PER_SENTENCE = [len(l.split()) for l in re.split(r'[?!.]', content) if l.strip()]\n",
    "print(\"Average no of words per sentence\")\n",
    "AVG_NUMBER_OF_WORDS_PER_SENTENCE=print(sum(AVG_NUMBER_OF_WORDS_PER_SENTENCE)/len(AVG_NUMBER_OF_WORDS_PER_SENTENCE))\n",
    "#Complex words\n",
    "def syllable_count(word):\n",
    "    count = 0\n",
    "    vowels = \"AEIOUYaeiouy\"\n",
    "    if word[0] in vowels:\n",
    "        count += 1\n",
    "    for index in range(1, len(word)): \n",
    "        if word[index] in vowels and word[index - 1] not in vowels:\n",
    "            count += 1\n",
    "            if word.endswith(\"es\"or \"ed\"):\n",
    "                count -= 1\n",
    "    if count == 0:\n",
    "        count += 1\n",
    "    return count\n",
    "\n",
    "\n",
    "\n",
    "COMPLEX_WORDS=syllable_count(content)\n",
    "print(\"Complex Words\",COMPLEX_WORDS)\n"
   ]
  },
  {
   "cell_type": "code",
   "execution_count": 8,
   "id": "ed79d473",
   "metadata": {},
   "outputs": [
    {
     "name": "stdout",
     "output_type": "stream",
     "text": [
      "Word Count 9953\n",
      "Percentage of Complex Words 29.709635285843465\n",
      "Average Word per Length 5.246240601503759\n",
      "The AVG number of syllables in the word is: \n",
      "2.0701754385964914\n",
      "Word Count 9953\n",
      "Percentage of Complex Words 29.709635285843465\n",
      "Average Word per Length 5.246240601503759\n",
      "The AVG number of syllables in the word is: \n",
      "2.0701754385964914\n"
     ]
    }
   ],
   "source": [
    "#Word Count\n",
    "Word_Count=len(content)\n",
    "print(\"Word Count\",Word_Count)\n",
    "#Percentage Complex Words\n",
    "pcw=(COMPLEX_WORDS/Word_Count)*100\n",
    "print(\"Percentage of Complex Words\",pcw)\n",
    "#Average Word Length\n",
    "Average_Word_Length=len(content.replace(' ',''))/len(content.split())\n",
    "print(\"Average Word per Length\",Average_Word_Length)\n",
    "#Syllable Count Per Word\n",
    "word=content.replace(' ','')\n",
    "syllable_count=0\n",
    "for w in word:\n",
    "      if(w=='a' or w=='e' or w=='i' or w=='o' or w=='y' or w=='u' or w=='A' or w=='E' or w=='I' or w=='O' or w=='U' or w=='Y'):\n",
    "            syllable_count=syllable_count+1\n",
    "print(\"The AVG number of syllables in the word is: \")\n",
    "print(syllable_count/len(content.split()))#Word Count\n",
    "Word_Count=len(content)\n",
    "print(\"Word Count\",Word_Count)\n",
    "#Percentage Complex Words\n",
    "pcw=(COMPLEX_WORDS/Word_Count)*100\n",
    "print(\"Percentage of Complex Words\",pcw)\n",
    "#Average Word Length\n",
    "Average_Word_Length=len(content.replace(' ',''))/len(content.split())\n",
    "print(\"Average Word per Length\",Average_Word_Length)\n",
    "#Syllable Count Per Word\n",
    "word=content.replace(' ','')\n",
    "syllable_count=0\n",
    "for w in word:\n",
    "      if(w=='a' or w=='e' or w=='i' or w=='o' or w=='y' or w=='u' or w=='A' or w=='E' or w=='I' or w=='O' or w=='U' or w=='Y'):\n",
    "            syllable_count=syllable_count+1\n",
    "print(\"The AVG number of syllables in the word is: \")\n",
    "print(syllable_count/len(content.split()))"
   ]
  },
  {
   "cell_type": "code",
   "execution_count": 1,
   "id": "3580a72b",
   "metadata": {},
   "outputs": [
    {
     "name": "stdout",
     "output_type": "stream",
     "text": [
      "48\n",
      "94\n",
      "Word average = 8373.0\n",
      "FOG INDEX =  642.36\n",
      "Average no of words per sentence\n",
      "1596.0\n",
      "Complex Words 2957\n",
      "Word Count 9954\n",
      "Percentage of Complex Words 29.70665059272654\n",
      "Average Word per Length 5.246240601503759\n",
      "The AVG number of syllables in the word is: \n",
      "2.0701754385964914\n"
     ]
    },
    {
     "data": {
      "text/html": [
       "<div>\n",
       "<style scoped>\n",
       "    .dataframe tbody tr th:only-of-type {\n",
       "        vertical-align: middle;\n",
       "    }\n",
       "\n",
       "    .dataframe tbody tr th {\n",
       "        vertical-align: top;\n",
       "    }\n",
       "\n",
       "    .dataframe thead th {\n",
       "        text-align: right;\n",
       "    }\n",
       "</style>\n",
       "<table border=\"1\" class=\"dataframe\">\n",
       "  <thead>\n",
       "    <tr style=\"text-align: right;\">\n",
       "      <th></th>\n",
       "      <th>url</th>\n",
       "      <th>title</th>\n",
       "      <th>content</th>\n",
       "      <th>filter_content</th>\n",
       "      <th>Positive_Score</th>\n",
       "      <th>Negative_Score</th>\n",
       "      <th>Avg_Sentence_Length</th>\n",
       "      <th>Percentage_Complex_Word</th>\n",
       "      <th>Fog_Index</th>\n",
       "      <th>AVG_NUMBER_OF_WORDS_PER_SENTENCE</th>\n",
       "      <th>COMPLEX_WORDS</th>\n",
       "      <th>Word_Count</th>\n",
       "      <th>syllable</th>\n",
       "      <th>Average_Word_Length</th>\n",
       "      <th>polarity</th>\n",
       "      <th>subjectivity</th>\n",
       "    </tr>\n",
       "  </thead>\n",
       "  <tbody>\n",
       "    <tr>\n",
       "      <th>0</th>\n",
       "      <td>https://insights.blackcoffer.com/how-will-covi...</td>\n",
       "      <td>How will COVID-19 affect the world of work?</td>\n",
       "      <td>Every prophet of doom unless he also happens...</td>\n",
       "      <td>Every prophet of doom unless he also happens t...</td>\n",
       "      <td>48</td>\n",
       "      <td>94</td>\n",
       "      <td>8373.0</td>\n",
       "      <td>29.706651</td>\n",
       "      <td>642.36</td>\n",
       "      <td>1596.0</td>\n",
       "      <td>2957</td>\n",
       "      <td>9954</td>\n",
       "      <td>2.070175</td>\n",
       "      <td>5.246241</td>\n",
       "      <td>0.02551</td>\n",
       "      <td>0.447381</td>\n",
       "    </tr>\n",
       "  </tbody>\n",
       "</table>\n",
       "</div>"
      ],
      "text/plain": [
       "                                                 url  \\\n",
       "0  https://insights.blackcoffer.com/how-will-covi...   \n",
       "\n",
       "                                         title  \\\n",
       "0  How will COVID-19 affect the world of work?   \n",
       "\n",
       "                                             content  \\\n",
       "0    Every prophet of doom unless he also happens...   \n",
       "\n",
       "                                      filter_content  Positive_Score  \\\n",
       "0  Every prophet of doom unless he also happens t...              48   \n",
       "\n",
       "   Negative_Score  Avg_Sentence_Length  Percentage_Complex_Word  Fog_Index  \\\n",
       "0              94               8373.0                29.706651     642.36   \n",
       "\n",
       "    AVG_NUMBER_OF_WORDS_PER_SENTENCE  COMPLEX_WORDS  Word_Count  syllable  \\\n",
       "0                             1596.0           2957        9954  2.070175   \n",
       "\n",
       "   Average_Word_Length  polarity  subjectivity  \n",
       "0             5.246241   0.02551      0.447381  "
      ]
     },
     "execution_count": 1,
     "metadata": {},
     "output_type": "execute_result"
    }
   ],
   "source": [
    "import requests\n",
    "import pandas as pd \n",
    "from bs4 import BeautifulSoup\n",
    "import string\n",
    "import spacy\n",
    "import re\n",
    "url = \"\"\"https://insights.blackcoffer.com/how-will-covid-19-affect-the-world-of-work/\"\"\"\n",
    "headers = {\"User-Agent\": \"Mozilla/5.0 (X11; Linux x86_64; rv:60.0) Gecko/20100101 Firefox/60.0\"}\n",
    "page = requests.get(url, headers=headers)\n",
    "soup = BeautifulSoup(page.content, 'html.parser')\n",
    "soup=BeautifulSoup(page.content, 'html.parser')\n",
    "title=soup.find('h1',class_=\"entry-title\")\n",
    "title=title.text.replace('\\n',\" \")\n",
    "# title\n",
    "\n",
    "content=soup.findAll(attrs={'class':'td-post-content'})\n",
    "content=content[0].text.replace('\\n',\" \")\n",
    "# print(content)\n",
    "#Punctuation\n",
    "content = content.translate(str.maketrans('', '', string.punctuation)) \n",
    "# print(content)\n",
    "text = content.split()\n",
    "# print(text)\n",
    "len(text)\n",
    "#Positive Score \n",
    "with open(r\"C:\\Users\\Om Bhandwalkar\\Desktop\\pos\\positive-words.txt\") as pos:\n",
    "    poswords = pos.read().split(\"\\n\")  \n",
    "    poswords = poswords[5:]\n",
    "pos_count = \" \".join ([w for w in text if w in poswords])\n",
    "pos_count=pos_count.split(\" \")\n",
    "Positive_score=len(pos_count)\n",
    "print(Positive_score)\n",
    "\n",
    "#Negative Score\n",
    "with open(r\"C:\\Users\\Om Bhandwalkar\\Desktop\\pos\\negative-words.txt\",encoding =\"ISO-8859-1\") as neg:\n",
    "    negwords = neg.read().split(\"\\n\")\n",
    "    \n",
    "negwords = negwords[36:]\n",
    "neg_count = \" \".join ([w for w in text if w in negwords])\n",
    "neg_count=neg_count.split(\" \")\n",
    "Negative_score=len(neg_count)\n",
    "print(Negative_score)\n",
    "\n",
    "\n",
    "filter_content = ' '.join(text)\n",
    "data=[[url,title,content,filter_content,Positive_score,Negative_score]]\n",
    "data=pd.DataFrame(data,columns=[\"url\",\"title\",\"content\",\"filter_content\",\"Positive_Score\",\"Negative_Score\"])\n",
    "from textblob import TextBlob\n",
    "# Get The Subjectivity\n",
    "def sentiment_analysis(data):\n",
    "    sentiment = TextBlob(data[\"content\"]).sentiment\n",
    "    return pd.Series([sentiment.polarity,sentiment.subjectivity ])\n",
    "data[[\"polarity\", \"subjectivity\"]] = data.apply(sentiment_analysis, axis=1)\n",
    "data\n",
    "#AVG SENTENCE LENGTH\n",
    "AVG_SENTENCE_LENGTH = len(content.replace(' ',''))/len(re.split(r'[?!.]', content))\n",
    "print('Word average =', AVG_SENTENCE_LENGTH)\n",
    "import textstat\n",
    "#Fog index \n",
    "FOG_INDEX=(textstat.gunning_fog(content))\n",
    "print(\"FOG INDEX = \",FOG_INDEX)\n",
    "#Average No of Words Per Sentence \n",
    "AVG_NUMBER_OF_WORDS_PER_SENTENCE = [len(l.split()) for l in re.split(r'[?!.]', content) if l.strip()]\n",
    "print(\"Average no of words per sentence\")\n",
    "AVG_NUMBER_OF_WORDS_PER_SENTENCE=(sum(AVG_NUMBER_OF_WORDS_PER_SENTENCE)/len(AVG_NUMBER_OF_WORDS_PER_SENTENCE))\n",
    "print(AVG_NUMBER_OF_WORDS_PER_SENTENCE)\n",
    "#Complex words\n",
    "def syllable_count(word):\n",
    "    count = 0\n",
    "    vowels = \"AEIOUYaeiouy\"\n",
    "    if word[0] in vowels:\n",
    "        count += 1\n",
    "    for index in range(1, len(word)): \n",
    "        if word[index] in vowels and word[index - 1] not in vowels:\n",
    "            count += 1\n",
    "            if word.endswith(\"es\"or \"ed\"):\n",
    "                count -= 1\n",
    "    if count == 0:\n",
    "        count += 1\n",
    "    return count\n",
    "\n",
    "\n",
    "\n",
    "COMPLEX_WORDS=syllable_count(content)\n",
    "print(\"Complex Words\",COMPLEX_WORDS)\n",
    "#Word Count\n",
    "Word_Count=len(content)\n",
    "print(\"Word Count\",Word_Count)\n",
    "#Percentage Complex Words\n",
    "pcw=(COMPLEX_WORDS/Word_Count)*100\n",
    "print(\"Percentage of Complex Words\",pcw)\n",
    "#Average Word Length\n",
    "Average_Word_Length=len(content.replace(' ',''))/len(content.split())\n",
    "print(\"Average Word per Length\",Average_Word_Length)\n",
    "#Syllable Count Per Word\n",
    "word=content.replace(' ','')\n",
    "syllable_count=0\n",
    "for w in word:\n",
    "      if(w=='a' or w=='e' or w=='i' or w=='o' or w=='y' or w=='u' or w=='A' or w=='E' or w=='I' or w=='O' or w=='U' or w=='Y'):\n",
    "            syllable_count=syllable_count+1\n",
    "print(\"The AVG number of syllables in the word is: \")\n",
    "syllable = (syllable_count/len(content.split()))\n",
    "print(syllable)\n",
    "\n",
    "data = [[url,title,content,filter_content,Positive_score,Negative_score,AVG_SENTENCE_LENGTH,pcw,FOG_INDEX,\n",
    "         AVG_NUMBER_OF_WORDS_PER_SENTENCE,COMPLEX_WORDS,Word_Count,syllable,Average_Word_Length]]\n",
    "data=pd.DataFrame(data,columns=[\"url\",\"title\",\"content\",\"filter_content\",\"Positive_Score\",\"Negative_Score\",\"Avg_Sentence_Length\"\n",
    "                               ,\"Percentage_Complex_Word\",\"Fog_Index\",\" AVG_NUMBER_OF_WORDS_PER_SENTENCE\",\"COMPLEX_WORDS\",\n",
    "                               \"Word_Count\",\"syllable\",\"Average_Word_Length\"])\n",
    "from textblob import TextBlob\n",
    "# Get The Subjectivity\n",
    "def sentiment_analysis(data):\n",
    "    sentiment = TextBlob(data[\"content\"]).sentiment\n",
    "    return pd.Series([sentiment.polarity,sentiment.subjectivity ])\n",
    "data[[\"polarity\", \"subjectivity\"]] = data.apply(sentiment_analysis, axis=1)\n",
    "data"
   ]
  },
  {
   "cell_type": "code",
   "execution_count": 2,
   "id": "53c6ecbf",
   "metadata": {},
   "outputs": [],
   "source": [
    "data.to_csv(r'C:\\Users\\Om Bhandwalkar\\Desktop\\BlackCoffer Assignment\\Output\\url_127.csv')"
   ]
  },
  {
   "cell_type": "code",
   "execution_count": null,
   "id": "4c694ec5",
   "metadata": {},
   "outputs": [],
   "source": []
  }
 ],
 "metadata": {
  "kernelspec": {
   "display_name": "Python 3 (ipykernel)",
   "language": "python",
   "name": "python3"
  },
  "language_info": {
   "codemirror_mode": {
    "name": "ipython",
    "version": 3
   },
   "file_extension": ".py",
   "mimetype": "text/x-python",
   "name": "python",
   "nbconvert_exporter": "python",
   "pygments_lexer": "ipython3",
   "version": "3.9.12"
  }
 },
 "nbformat": 4,
 "nbformat_minor": 5
}
