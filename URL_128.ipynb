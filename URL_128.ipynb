{
 "cells": [
  {
   "cell_type": "code",
   "execution_count": 1,
   "id": "8db05ade",
   "metadata": {},
   "outputs": [
    {
     "data": {
      "text/plain": [
       "'Controversy as a Marketing Strategy'"
      ]
     },
     "execution_count": 1,
     "metadata": {},
     "output_type": "execute_result"
    }
   ],
   "source": [
    "import requests\n",
    "import pandas as pd \n",
    "from bs4 import BeautifulSoup\n",
    "import string\n",
    "import spacy\n",
    "import re\n",
    "url = \"\"\"https://insights.blackcoffer.com/controversy-as-a-marketing-strategy/\"\"\"\n",
    "headers = {\"User-Agent\": \"Mozilla/5.0 (X11; Linux x86_64; rv:60.0) Gecko/20100101 Firefox/60.0\"}\n",
    "page = requests.get(url, headers=headers)\n",
    "soup = BeautifulSoup(page.content, 'html.parser')\n",
    "soup=BeautifulSoup(page.content, 'html.parser')\n",
    "title=soup.find('h1',class_=\"entry-title\")\n",
    "title=title.text.replace('\\n',\" \")\n",
    "title\n"
   ]
  },
  {
   "cell_type": "code",
   "execution_count": 2,
   "id": "e5afaf2c",
   "metadata": {},
   "outputs": [
    {
     "name": "stdout",
     "output_type": "stream",
     "text": [
      " Organizations burn a lot of resources to build one iconic image. Their brand is not just a picture, a logo, and colors; but an emotional connection with the consumer. It develops by making an impression on the consumers each time they interact with the products or services and it becomes ingrained in the consumers’ minds. Now, if it takes great efforts to build such impression, recognition, and trust, why would a firm do something controversial that could burn their own hands? We see hundreds of ads a day, but only a few get noticed. Here is where a controversy comes into play. We would definitely notice something that disagrees with our thoughts or mentally disturbs us. So, such ads stand out. In controversy marketing, a firm creates a controversy which gains them attention really quick, and the word spreads widely. They believe that in order to stand out, they can’t play it safe always. A controversial campaign could be about a social issue that could divide the masses, stating political opinions, or presenting something that doesn’t associate with their image etc. Key features of a well-crafted controversial campaign: Choosing the correct subject. It could be a taboo or a debatable topic. While, both would be controversial, a taboo is more likely to draw a flack than a debatable topic.The campaign should be more focussed on the issue than on the brand itself. As a result, the debate would be about the issue and not the brand.The campaign should always promote a respectful and healthy discussion; not a fight or abuse. It should present the facts and avoid over-sensitising the issues.No issue/current situation should be exploited to a point where it becomes the tone of the firm. If a controversy does not settle down early, over the time it would become a part of the image of the company.The firm should be always prepared with a contingency plan or a proper response in case if the campaign backfires or does not take the expected course. Advantages of controversial marketing: Increasing awareness: A well crafted ad can draw the attention of the unaware audience, making them explore the brands’ product portfolio. Some of them, might be potential customers.Shifting Brand Image: A brand always needs to evolve, as per the needs of its target audience. Here, a controversial marketing strategy could be used to shift the image in a short span. It could also define the future path for the brand.Emotional Connect: If a brand is successful in winning the heart of a consumer, it half the job is done. Even if a controversy can divide the audience, some will appreciate the message of the brand. They will relate more to the brand and can become loyalists.Start a meaningful discussion: Particularly if the campaign is designed around a social issue; the campaign not only becomes relevant to the company but also to the society. It breaks the stigma around a topic that people frown to talk about. By communicating to the masses about such a topic, the company eases the air, which can lead to healthy discussions.Boost Sales: The most important aspect. If the brand is able to build on the sudden increase in awareness among people, it could boost sales and profitability.  Disadvantages of controversial marketing: Offensive: In present times, the audience have become highly sensitive and a controversial ad will definitely offend someone. So, we have to weigh the benefits and drawbacks before creating something controversial.Ruin brand reputation: As stated earlier, it puts a high risk on brand reputation. For some consumers, a controversy might also become a reason to not buy the product or service. Specifically, in case of media houses, if a media house gets involved in controversies often, then that reduces their credibility.While it can increase the awareness in a short span of time, it won’t work in the long run as this attention is short lived.Internet. They say, anything that goes on the internet, stays on the internet. Due to rise of social media, people have become more conscious of their choices and try to thoroughly evaluate everything. As a result, even one controversial campaign will not be forgotten. Years from now, if the company tries to change their opinion on some issue, then these old controversies will again come up and harm them deeply.A controversial campaign can also attract legal penalties, if it ends up leading to disharmony in the society. Examples of controversial marketing strategies: Movie makers frequently follow controversy as a tactic to create a buzz around their upcoming movie.Nike came up with “Believe in something. Even if it means sacrificing everything.” campaign that had Colin Kaepernick who was outcast from NFL as he kneeled during National Anthem to protest against racial inequality in NFL. The ad was a huge success, and Nike’s sales rose by31%.The UN’s Women’s “Auto-complete truth” was a huge success as a campaign, and garnered huge accolades from media houses. Here, it focused on gender gap and how it was perceived that some roles could never be donned by women.Not all campaigns end in success. Zomato gathered a lot of backlash in its subtle advertising campaign where they used Indian slangs in their banners put up at public places.Starbucks red-cup campaign. It created a huge buzz, and boosted sales, but it drove away a portion of Christian customers, who were offended by it. In the end, we can say that controversial marketing is a double-edged sword. On one side, it benefits the firm by increasing its reach to the masses, and making more people conscious about the brand; on the other, it puts the brand value itself at stake. So, it has to be carefully planned, and a backup measure should always be kept ready to reduce the impact in case it backfires.  Every such campaign should be thoroughly weighed in for the losses and benefits before execution. Blackcoffer Insights 17:-Agnivesh Tripathy,Indian Institute of Management, Indore \n",
      " Organizations burn a lot of resources to build one iconic image Their brand is not just a picture a logo and colors but an emotional connection with the consumer It develops by making an impression on the consumers each time they interact with the products or services and it becomes ingrained in the consumers’ minds Now if it takes great efforts to build such impression recognition and trust why would a firm do something controversial that could burn their own hands We see hundreds of ads a day but only a few get noticed Here is where a controversy comes into play We would definitely notice something that disagrees with our thoughts or mentally disturbs us So such ads stand out In controversy marketing a firm creates a controversy which gains them attention really quick and the word spreads widely They believe that in order to stand out they can’t play it safe always A controversial campaign could be about a social issue that could divide the masses stating political opinions or presenting something that doesn’t associate with their image etc Key features of a wellcrafted controversial campaign Choosing the correct subject It could be a taboo or a debatable topic While both would be controversial a taboo is more likely to draw a flack than a debatable topicThe campaign should be more focussed on the issue than on the brand itself As a result the debate would be about the issue and not the brandThe campaign should always promote a respectful and healthy discussion not a fight or abuse It should present the facts and avoid oversensitising the issuesNo issuecurrent situation should be exploited to a point where it becomes the tone of the firm If a controversy does not settle down early over the time it would become a part of the image of the companyThe firm should be always prepared with a contingency plan or a proper response in case if the campaign backfires or does not take the expected course Advantages of controversial marketing Increasing awareness A well crafted ad can draw the attention of the unaware audience making them explore the brands’ product portfolio Some of them might be potential customersShifting Brand Image A brand always needs to evolve as per the needs of its target audience Here a controversial marketing strategy could be used to shift the image in a short span It could also define the future path for the brandEmotional Connect If a brand is successful in winning the heart of a consumer it half the job is done Even if a controversy can divide the audience some will appreciate the message of the brand They will relate more to the brand and can become loyalistsStart a meaningful discussion Particularly if the campaign is designed around a social issue the campaign not only becomes relevant to the company but also to the society It breaks the stigma around a topic that people frown to talk about By communicating to the masses about such a topic the company eases the air which can lead to healthy discussionsBoost Sales The most important aspect If the brand is able to build on the sudden increase in awareness among people it could boost sales and profitability  Disadvantages of controversial marketing Offensive In present times the audience have become highly sensitive and a controversial ad will definitely offend someone So we have to weigh the benefits and drawbacks before creating something controversialRuin brand reputation As stated earlier it puts a high risk on brand reputation For some consumers a controversy might also become a reason to not buy the product or service Specifically in case of media houses if a media house gets involved in controversies often then that reduces their credibilityWhile it can increase the awareness in a short span of time it won’t work in the long run as this attention is short livedInternet They say anything that goes on the internet stays on the internet Due to rise of social media people have become more conscious of their choices and try to thoroughly evaluate everything As a result even one controversial campaign will not be forgotten Years from now if the company tries to change their opinion on some issue then these old controversies will again come up and harm them deeplyA controversial campaign can also attract legal penalties if it ends up leading to disharmony in the society Examples of controversial marketing strategies Movie makers frequently follow controversy as a tactic to create a buzz around their upcoming movieNike came up with “Believe in something Even if it means sacrificing everything” campaign that had Colin Kaepernick who was outcast from NFL as he kneeled during National Anthem to protest against racial inequality in NFL The ad was a huge success and Nike’s sales rose by31The UN’s Women’s “Autocomplete truth” was a huge success as a campaign and garnered huge accolades from media houses Here it focused on gender gap and how it was perceived that some roles could never be donned by womenNot all campaigns end in success Zomato gathered a lot of backlash in its subtle advertising campaign where they used Indian slangs in their banners put up at public placesStarbucks redcup campaign It created a huge buzz and boosted sales but it drove away a portion of Christian customers who were offended by it In the end we can say that controversial marketing is a doubleedged sword On one side it benefits the firm by increasing its reach to the masses and making more people conscious about the brand on the other it puts the brand value itself at stake So it has to be carefully planned and a backup measure should always be kept ready to reduce the impact in case it backfires  Every such campaign should be thoroughly weighed in for the losses and benefits before execution Blackcoffer Insights 17Agnivesh TripathyIndian Institute of Management Indore \n",
      "['Organizations', 'burn', 'a', 'lot', 'of', 'resources', 'to', 'build', 'one', 'iconic', 'image', 'Their', 'brand', 'is', 'not', 'just', 'a', 'picture', 'a', 'logo', 'and', 'colors', 'but', 'an', 'emotional', 'connection', 'with', 'the', 'consumer', 'It', 'develops', 'by', 'making', 'an', 'impression', 'on', 'the', 'consumers', 'each', 'time', 'they', 'interact', 'with', 'the', 'products', 'or', 'services', 'and', 'it', 'becomes', 'ingrained', 'in', 'the', 'consumers’', 'minds', 'Now', 'if', 'it', 'takes', 'great', 'efforts', 'to', 'build', 'such', 'impression', 'recognition', 'and', 'trust', 'why', 'would', 'a', 'firm', 'do', 'something', 'controversial', 'that', 'could', 'burn', 'their', 'own', 'hands', 'We', 'see', 'hundreds', 'of', 'ads', 'a', 'day', 'but', 'only', 'a', 'few', 'get', 'noticed', 'Here', 'is', 'where', 'a', 'controversy', 'comes', 'into', 'play', 'We', 'would', 'definitely', 'notice', 'something', 'that', 'disagrees', 'with', 'our', 'thoughts', 'or', 'mentally', 'disturbs', 'us', 'So', 'such', 'ads', 'stand', 'out', 'In', 'controversy', 'marketing', 'a', 'firm', 'creates', 'a', 'controversy', 'which', 'gains', 'them', 'attention', 'really', 'quick', 'and', 'the', 'word', 'spreads', 'widely', 'They', 'believe', 'that', 'in', 'order', 'to', 'stand', 'out', 'they', 'can’t', 'play', 'it', 'safe', 'always', 'A', 'controversial', 'campaign', 'could', 'be', 'about', 'a', 'social', 'issue', 'that', 'could', 'divide', 'the', 'masses', 'stating', 'political', 'opinions', 'or', 'presenting', 'something', 'that', 'doesn’t', 'associate', 'with', 'their', 'image', 'etc', 'Key', 'features', 'of', 'a', 'wellcrafted', 'controversial', 'campaign', 'Choosing', 'the', 'correct', 'subject', 'It', 'could', 'be', 'a', 'taboo', 'or', 'a', 'debatable', 'topic', 'While', 'both', 'would', 'be', 'controversial', 'a', 'taboo', 'is', 'more', 'likely', 'to', 'draw', 'a', 'flack', 'than', 'a', 'debatable', 'topicThe', 'campaign', 'should', 'be', 'more', 'focussed', 'on', 'the', 'issue', 'than', 'on', 'the', 'brand', 'itself', 'As', 'a', 'result', 'the', 'debate', 'would', 'be', 'about', 'the', 'issue', 'and', 'not', 'the', 'brandThe', 'campaign', 'should', 'always', 'promote', 'a', 'respectful', 'and', 'healthy', 'discussion', 'not', 'a', 'fight', 'or', 'abuse', 'It', 'should', 'present', 'the', 'facts', 'and', 'avoid', 'oversensitising', 'the', 'issuesNo', 'issuecurrent', 'situation', 'should', 'be', 'exploited', 'to', 'a', 'point', 'where', 'it', 'becomes', 'the', 'tone', 'of', 'the', 'firm', 'If', 'a', 'controversy', 'does', 'not', 'settle', 'down', 'early', 'over', 'the', 'time', 'it', 'would', 'become', 'a', 'part', 'of', 'the', 'image', 'of', 'the', 'companyThe', 'firm', 'should', 'be', 'always', 'prepared', 'with', 'a', 'contingency', 'plan', 'or', 'a', 'proper', 'response', 'in', 'case', 'if', 'the', 'campaign', 'backfires', 'or', 'does', 'not', 'take', 'the', 'expected', 'course', 'Advantages', 'of', 'controversial', 'marketing', 'Increasing', 'awareness', 'A', 'well', 'crafted', 'ad', 'can', 'draw', 'the', 'attention', 'of', 'the', 'unaware', 'audience', 'making', 'them', 'explore', 'the', 'brands’', 'product', 'portfolio', 'Some', 'of', 'them', 'might', 'be', 'potential', 'customersShifting', 'Brand', 'Image', 'A', 'brand', 'always', 'needs', 'to', 'evolve', 'as', 'per', 'the', 'needs', 'of', 'its', 'target', 'audience', 'Here', 'a', 'controversial', 'marketing', 'strategy', 'could', 'be', 'used', 'to', 'shift', 'the', 'image', 'in', 'a', 'short', 'span', 'It', 'could', 'also', 'define', 'the', 'future', 'path', 'for', 'the', 'brandEmotional', 'Connect', 'If', 'a', 'brand', 'is', 'successful', 'in', 'winning', 'the', 'heart', 'of', 'a', 'consumer', 'it', 'half', 'the', 'job', 'is', 'done', 'Even', 'if', 'a', 'controversy', 'can', 'divide', 'the', 'audience', 'some', 'will', 'appreciate', 'the', 'message', 'of', 'the', 'brand', 'They', 'will', 'relate', 'more', 'to', 'the', 'brand', 'and', 'can', 'become', 'loyalistsStart', 'a', 'meaningful', 'discussion', 'Particularly', 'if', 'the', 'campaign', 'is', 'designed', 'around', 'a', 'social', 'issue', 'the', 'campaign', 'not', 'only', 'becomes', 'relevant', 'to', 'the', 'company', 'but', 'also', 'to', 'the', 'society', 'It', 'breaks', 'the', 'stigma', 'around', 'a', 'topic', 'that', 'people', 'frown', 'to', 'talk', 'about', 'By', 'communicating', 'to', 'the', 'masses', 'about', 'such', 'a', 'topic', 'the', 'company', 'eases', 'the', 'air', 'which', 'can', 'lead', 'to', 'healthy', 'discussionsBoost', 'Sales', 'The', 'most', 'important', 'aspect', 'If', 'the', 'brand', 'is', 'able', 'to', 'build', 'on', 'the', 'sudden', 'increase', 'in', 'awareness', 'among', 'people', 'it', 'could', 'boost', 'sales', 'and', 'profitability', 'Disadvantages', 'of', 'controversial', 'marketing', 'Offensive', 'In', 'present', 'times', 'the', 'audience', 'have', 'become', 'highly', 'sensitive', 'and', 'a', 'controversial', 'ad', 'will', 'definitely', 'offend', 'someone', 'So', 'we', 'have', 'to', 'weigh', 'the', 'benefits', 'and', 'drawbacks', 'before', 'creating', 'something', 'controversialRuin', 'brand', 'reputation', 'As', 'stated', 'earlier', 'it', 'puts', 'a', 'high', 'risk', 'on', 'brand', 'reputation', 'For', 'some', 'consumers', 'a', 'controversy', 'might', 'also', 'become', 'a', 'reason', 'to', 'not', 'buy', 'the', 'product', 'or', 'service', 'Specifically', 'in', 'case', 'of', 'media', 'houses', 'if', 'a', 'media', 'house', 'gets', 'involved', 'in', 'controversies', 'often', 'then', 'that', 'reduces', 'their', 'credibilityWhile', 'it', 'can', 'increase', 'the', 'awareness', 'in', 'a', 'short', 'span', 'of', 'time', 'it', 'won’t', 'work', 'in', 'the', 'long', 'run', 'as', 'this', 'attention', 'is', 'short', 'livedInternet', 'They', 'say', 'anything', 'that', 'goes', 'on', 'the', 'internet', 'stays', 'on', 'the', 'internet', 'Due', 'to', 'rise', 'of', 'social', 'media', 'people', 'have', 'become', 'more', 'conscious', 'of', 'their', 'choices', 'and', 'try', 'to', 'thoroughly', 'evaluate', 'everything', 'As', 'a', 'result', 'even', 'one', 'controversial', 'campaign', 'will', 'not', 'be', 'forgotten', 'Years', 'from', 'now', 'if', 'the', 'company', 'tries', 'to', 'change', 'their', 'opinion', 'on', 'some', 'issue', 'then', 'these', 'old', 'controversies', 'will', 'again', 'come', 'up', 'and', 'harm', 'them', 'deeplyA', 'controversial', 'campaign', 'can', 'also', 'attract', 'legal', 'penalties', 'if', 'it', 'ends', 'up', 'leading', 'to', 'disharmony', 'in', 'the', 'society', 'Examples', 'of', 'controversial', 'marketing', 'strategies', 'Movie', 'makers', 'frequently', 'follow', 'controversy', 'as', 'a', 'tactic', 'to', 'create', 'a', 'buzz', 'around', 'their', 'upcoming', 'movieNike', 'came', 'up', 'with', '“Believe', 'in', 'something', 'Even', 'if', 'it', 'means', 'sacrificing', 'everything”', 'campaign', 'that', 'had', 'Colin', 'Kaepernick', 'who', 'was', 'outcast', 'from', 'NFL', 'as', 'he', 'kneeled', 'during', 'National', 'Anthem', 'to', 'protest', 'against', 'racial', 'inequality', 'in', 'NFL', 'The', 'ad', 'was', 'a', 'huge', 'success', 'and', 'Nike’s', 'sales', 'rose', 'by31The', 'UN’s', 'Women’s', '“Autocomplete', 'truth”', 'was', 'a', 'huge', 'success', 'as', 'a', 'campaign', 'and', 'garnered', 'huge', 'accolades', 'from', 'media', 'houses', 'Here', 'it', 'focused', 'on', 'gender', 'gap', 'and', 'how', 'it', 'was', 'perceived', 'that', 'some', 'roles', 'could', 'never', 'be', 'donned', 'by', 'womenNot', 'all', 'campaigns', 'end', 'in', 'success', 'Zomato', 'gathered', 'a', 'lot', 'of', 'backlash', 'in', 'its', 'subtle', 'advertising', 'campaign', 'where', 'they', 'used', 'Indian', 'slangs', 'in', 'their', 'banners', 'put', 'up', 'at', 'public', 'placesStarbucks', 'redcup', 'campaign', 'It', 'created', 'a', 'huge', 'buzz', 'and', 'boosted', 'sales', 'but', 'it', 'drove', 'away', 'a', 'portion', 'of', 'Christian', 'customers', 'who', 'were', 'offended', 'by', 'it', 'In', 'the', 'end', 'we', 'can', 'say', 'that', 'controversial', 'marketing', 'is', 'a', 'doubleedged', 'sword', 'On', 'one', 'side', 'it', 'benefits', 'the', 'firm', 'by', 'increasing', 'its', 'reach', 'to', 'the', 'masses', 'and', 'making', 'more', 'people', 'conscious', 'about', 'the', 'brand', 'on', 'the', 'other', 'it', 'puts', 'the', 'brand', 'value', 'itself', 'at', 'stake', 'So', 'it', 'has', 'to', 'be', 'carefully', 'planned', 'and', 'a', 'backup', 'measure', 'should', 'always', 'be', 'kept', 'ready', 'to', 'reduce', 'the', 'impact', 'in', 'case', 'it', 'backfires', 'Every', 'such', 'campaign', 'should', 'be', 'thoroughly', 'weighed', 'in', 'for', 'the', 'losses', 'and', 'benefits', 'before', 'execution', 'Blackcoffer', 'Insights', '17Agnivesh', 'TripathyIndian', 'Institute', 'of', 'Management', 'Indore']\n"
     ]
    }
   ],
   "source": [
    "content=soup.findAll(attrs={'class':'td-post-content'})\n",
    "content=content[0].text.replace('\\n',\" \")\n",
    "print(content)\n",
    "#Punctuation\n",
    "content = content.translate(str.maketrans('', '', string.punctuation)) \n",
    "print(content)\n",
    "text = content.split()\n",
    "print(text)\n"
   ]
  },
  {
   "cell_type": "code",
   "execution_count": 3,
   "id": "5ea7e197",
   "metadata": {},
   "outputs": [
    {
     "data": {
      "text/plain": [
       "986"
      ]
     },
     "execution_count": 3,
     "metadata": {},
     "output_type": "execute_result"
    }
   ],
   "source": [
    "len(text)"
   ]
  },
  {
   "cell_type": "code",
   "execution_count": 4,
   "id": "ce8c5442",
   "metadata": {},
   "outputs": [
    {
     "name": "stdout",
     "output_type": "stream",
     "text": [
      "31\n"
     ]
    }
   ],
   "source": [
    "#Positive Score \n",
    "with open(r\"C:\\Users\\Om Bhandwalkar\\Desktop\\pos\\positive-words.txt\") as pos:\n",
    "    poswords = pos.read().split(\"\\n\")  \n",
    "    poswords = poswords[5:]\n",
    "pos_count = \" \".join ([w for w in text if w in poswords])\n",
    "pos_count=pos_count.split(\" \")\n",
    "Positive_score=len(pos_count)\n",
    "print(Positive_score)"
   ]
  },
  {
   "cell_type": "code",
   "execution_count": 5,
   "id": "ce012065",
   "metadata": {},
   "outputs": [
    {
     "name": "stdout",
     "output_type": "stream",
     "text": [
      "43\n"
     ]
    }
   ],
   "source": [
    "#Negative Score\n",
    "with open(r\"C:\\Users\\Om Bhandwalkar\\Desktop\\pos\\negative-words.txt\",encoding =\"ISO-8859-1\") as neg:\n",
    "    negwords = neg.read().split(\"\\n\")\n",
    "    \n",
    "negwords = negwords[36:]\n",
    "neg_count = \" \".join ([w for w in text if w in negwords])\n",
    "neg_count=neg_count.split(\" \")\n",
    "Negative_score=len(neg_count)\n",
    "print(Negative_score)"
   ]
  },
  {
   "cell_type": "code",
   "execution_count": 6,
   "id": "524abe03",
   "metadata": {},
   "outputs": [
    {
     "data": {
      "text/html": [
       "<div>\n",
       "<style scoped>\n",
       "    .dataframe tbody tr th:only-of-type {\n",
       "        vertical-align: middle;\n",
       "    }\n",
       "\n",
       "    .dataframe tbody tr th {\n",
       "        vertical-align: top;\n",
       "    }\n",
       "\n",
       "    .dataframe thead th {\n",
       "        text-align: right;\n",
       "    }\n",
       "</style>\n",
       "<table border=\"1\" class=\"dataframe\">\n",
       "  <thead>\n",
       "    <tr style=\"text-align: right;\">\n",
       "      <th></th>\n",
       "      <th>url</th>\n",
       "      <th>title</th>\n",
       "      <th>content</th>\n",
       "      <th>filter_content</th>\n",
       "      <th>Positive_Score</th>\n",
       "      <th>Negative_Score</th>\n",
       "      <th>polarity</th>\n",
       "      <th>subjectivity</th>\n",
       "    </tr>\n",
       "  </thead>\n",
       "  <tbody>\n",
       "    <tr>\n",
       "      <th>0</th>\n",
       "      <td>https://insights.blackcoffer.com/controversy-a...</td>\n",
       "      <td>Controversy as a Marketing Strategy</td>\n",
       "      <td>Organizations burn a lot of resources to buil...</td>\n",
       "      <td>Organizations burn a lot of resources to build...</td>\n",
       "      <td>31</td>\n",
       "      <td>43</td>\n",
       "      <td>0.193623</td>\n",
       "      <td>0.536238</td>\n",
       "    </tr>\n",
       "  </tbody>\n",
       "</table>\n",
       "</div>"
      ],
      "text/plain": [
       "                                                 url  \\\n",
       "0  https://insights.blackcoffer.com/controversy-a...   \n",
       "\n",
       "                                 title  \\\n",
       "0  Controversy as a Marketing Strategy   \n",
       "\n",
       "                                             content  \\\n",
       "0   Organizations burn a lot of resources to buil...   \n",
       "\n",
       "                                      filter_content  Positive_Score  \\\n",
       "0  Organizations burn a lot of resources to build...              31   \n",
       "\n",
       "   Negative_Score  polarity  subjectivity  \n",
       "0              43  0.193623      0.536238  "
      ]
     },
     "execution_count": 6,
     "metadata": {},
     "output_type": "execute_result"
    }
   ],
   "source": [
    "filter_content = ' '.join(text)\n",
    "data=[[url,title,content,filter_content,Positive_score,Negative_score]]\n",
    "data=pd.DataFrame(data,columns=[\"url\",\"title\",\"content\",\"filter_content\",\"Positive_Score\",\"Negative_Score\"])\n",
    "from textblob import TextBlob\n",
    "# Get The Subjectivity\n",
    "def sentiment_analysis(data):\n",
    "    sentiment = TextBlob(data[\"content\"]).sentiment\n",
    "    return pd.Series([sentiment.polarity,sentiment.subjectivity ])\n",
    "\n",
    "# Adding Subjectivity & Polarity\n",
    "data[[\"polarity\", \"subjectivity\"]] = data.apply(sentiment_analysis, axis=1)\n",
    "\n",
    "data"
   ]
  },
  {
   "cell_type": "code",
   "execution_count": 7,
   "id": "bdf14c1b",
   "metadata": {},
   "outputs": [
    {
     "name": "stdout",
     "output_type": "stream",
     "text": [
      "Word average = 4834.0\n",
      "FOG INDEX =  397.6\n",
      "Average no of words per sentence\n",
      "986.0\n",
      "Complex Words 1716\n"
     ]
    }
   ],
   "source": [
    "#AVG SENTENCE LENGTH\n",
    "AVG_SENTENCE_LENGTH = len(content.replace(' ',''))/len(re.split(r'[?!.]', content))\n",
    "print('Word average =', AVG_SENTENCE_LENGTH)\n",
    "import textstat\n",
    "#Fog index \n",
    "FOG_INDEX=(textstat.gunning_fog(content))\n",
    "print(\"FOG INDEX = \",FOG_INDEX)\n",
    "#Average No of Words Per Sentence \n",
    "AVG_NUMBER_OF_WORDS_PER_SENTENCE = [len(l.split()) for l in re.split(r'[?!.]', content) if l.strip()]\n",
    "print(\"Average no of words per sentence\")\n",
    "AVG_NUMBER_OF_WORDS_PER_SENTENCE=print(sum(AVG_NUMBER_OF_WORDS_PER_SENTENCE)/len(AVG_NUMBER_OF_WORDS_PER_SENTENCE))\n",
    "#Complex words\n",
    "def syllable_count(word):\n",
    "    count = 0\n",
    "    vowels = \"AEIOUYaeiouy\"\n",
    "    if word[0] in vowels:\n",
    "        count += 1\n",
    "    for index in range(1, len(word)): \n",
    "        if word[index] in vowels and word[index - 1] not in vowels:\n",
    "            count += 1\n",
    "            if word.endswith(\"es\"or \"ed\"):\n",
    "                count -= 1\n",
    "    if count == 0:\n",
    "        count += 1\n",
    "    return count\n",
    "\n",
    "\n",
    "\n",
    "COMPLEX_WORDS=syllable_count(content)\n",
    "print(\"Complex Words\",COMPLEX_WORDS)\n"
   ]
  },
  {
   "cell_type": "code",
   "execution_count": 8,
   "id": "acc30319",
   "metadata": {},
   "outputs": [
    {
     "name": "stdout",
     "output_type": "stream",
     "text": [
      "Word Count 5821\n",
      "Percentage of Complex Words 29.479470881291874\n",
      "Average Word per Length 4.9026369168357\n",
      "The AVG number of syllables in the word is: \n",
      "1.988843813387424\n",
      "Word Count 5821\n",
      "Percentage of Complex Words 29.479470881291874\n",
      "Average Word per Length 4.9026369168357\n",
      "The AVG number of syllables in the word is: \n",
      "1.988843813387424\n"
     ]
    }
   ],
   "source": [
    "#Word Count\n",
    "Word_Count=len(content)\n",
    "print(\"Word Count\",Word_Count)\n",
    "#Percentage Complex Words\n",
    "pcw=(COMPLEX_WORDS/Word_Count)*100\n",
    "print(\"Percentage of Complex Words\",pcw)\n",
    "#Average Word Length\n",
    "Average_Word_Length=len(content.replace(' ',''))/len(content.split())\n",
    "print(\"Average Word per Length\",Average_Word_Length)\n",
    "#Syllable Count Per Word\n",
    "word=content.replace(' ','')\n",
    "syllable_count=0\n",
    "for w in word:\n",
    "      if(w=='a' or w=='e' or w=='i' or w=='o' or w=='y' or w=='u' or w=='A' or w=='E' or w=='I' or w=='O' or w=='U' or w=='Y'):\n",
    "            syllable_count=syllable_count+1\n",
    "print(\"The AVG number of syllables in the word is: \")\n",
    "print(syllable_count/len(content.split()))#Word Count\n",
    "Word_Count=len(content)\n",
    "print(\"Word Count\",Word_Count)\n",
    "#Percentage Complex Words\n",
    "pcw=(COMPLEX_WORDS/Word_Count)*100\n",
    "print(\"Percentage of Complex Words\",pcw)\n",
    "#Average Word Length\n",
    "Average_Word_Length=len(content.replace(' ',''))/len(content.split())\n",
    "print(\"Average Word per Length\",Average_Word_Length)\n",
    "#Syllable Count Per Word\n",
    "word=content.replace(' ','')\n",
    "syllable_count=0\n",
    "for w in word:\n",
    "      if(w=='a' or w=='e' or w=='i' or w=='o' or w=='y' or w=='u' or w=='A' or w=='E' or w=='I' or w=='O' or w=='U' or w=='Y'):\n",
    "            syllable_count=syllable_count+1\n",
    "print(\"The AVG number of syllables in the word is: \")\n",
    "print(syllable_count/len(content.split()))"
   ]
  },
  {
   "cell_type": "code",
   "execution_count": 2,
   "id": "db7f80a3",
   "metadata": {},
   "outputs": [
    {
     "name": "stdout",
     "output_type": "stream",
     "text": [
      "31\n",
      "43\n",
      "Word average = 4834.0\n",
      "FOG INDEX =  397.6\n",
      "Average no of words per sentence\n",
      "986.0\n",
      "Complex Words 1716\n",
      "Word Count 5822\n",
      "Percentage of Complex Words 29.47440742013054\n",
      "Average Word per Length 4.9026369168357\n",
      "The AVG number of syllables in the word is: \n",
      "1.988843813387424\n"
     ]
    },
    {
     "data": {
      "text/html": [
       "<div>\n",
       "<style scoped>\n",
       "    .dataframe tbody tr th:only-of-type {\n",
       "        vertical-align: middle;\n",
       "    }\n",
       "\n",
       "    .dataframe tbody tr th {\n",
       "        vertical-align: top;\n",
       "    }\n",
       "\n",
       "    .dataframe thead th {\n",
       "        text-align: right;\n",
       "    }\n",
       "</style>\n",
       "<table border=\"1\" class=\"dataframe\">\n",
       "  <thead>\n",
       "    <tr style=\"text-align: right;\">\n",
       "      <th></th>\n",
       "      <th>url</th>\n",
       "      <th>title</th>\n",
       "      <th>content</th>\n",
       "      <th>filter_content</th>\n",
       "      <th>Positive_Score</th>\n",
       "      <th>Negative_Score</th>\n",
       "      <th>Avg_Sentence_Length</th>\n",
       "      <th>Percentage_Complex_Word</th>\n",
       "      <th>Fog_Index</th>\n",
       "      <th>AVG_NUMBER_OF_WORDS_PER_SENTENCE</th>\n",
       "      <th>COMPLEX_WORDS</th>\n",
       "      <th>Word_Count</th>\n",
       "      <th>syllable</th>\n",
       "      <th>Average_Word_Length</th>\n",
       "      <th>polarity</th>\n",
       "      <th>subjectivity</th>\n",
       "    </tr>\n",
       "  </thead>\n",
       "  <tbody>\n",
       "    <tr>\n",
       "      <th>0</th>\n",
       "      <td>https://insights.blackcoffer.com/controversy-a...</td>\n",
       "      <td>Controversy as a Marketing Strategy</td>\n",
       "      <td>Organizations burn a lot of resources to bui...</td>\n",
       "      <td>Organizations burn a lot of resources to build...</td>\n",
       "      <td>31</td>\n",
       "      <td>43</td>\n",
       "      <td>4834.0</td>\n",
       "      <td>29.474407</td>\n",
       "      <td>397.6</td>\n",
       "      <td>986.0</td>\n",
       "      <td>1716</td>\n",
       "      <td>5822</td>\n",
       "      <td>1.988844</td>\n",
       "      <td>4.902637</td>\n",
       "      <td>0.193623</td>\n",
       "      <td>0.536238</td>\n",
       "    </tr>\n",
       "  </tbody>\n",
       "</table>\n",
       "</div>"
      ],
      "text/plain": [
       "                                                 url  \\\n",
       "0  https://insights.blackcoffer.com/controversy-a...   \n",
       "\n",
       "                                 title  \\\n",
       "0  Controversy as a Marketing Strategy   \n",
       "\n",
       "                                             content  \\\n",
       "0    Organizations burn a lot of resources to bui...   \n",
       "\n",
       "                                      filter_content  Positive_Score  \\\n",
       "0  Organizations burn a lot of resources to build...              31   \n",
       "\n",
       "   Negative_Score  Avg_Sentence_Length  Percentage_Complex_Word  Fog_Index  \\\n",
       "0              43               4834.0                29.474407      397.6   \n",
       "\n",
       "    AVG_NUMBER_OF_WORDS_PER_SENTENCE  COMPLEX_WORDS  Word_Count  syllable  \\\n",
       "0                              986.0           1716        5822  1.988844   \n",
       "\n",
       "   Average_Word_Length  polarity  subjectivity  \n",
       "0             4.902637  0.193623      0.536238  "
      ]
     },
     "execution_count": 2,
     "metadata": {},
     "output_type": "execute_result"
    }
   ],
   "source": [
    "import requests\n",
    "import pandas as pd \n",
    "from bs4 import BeautifulSoup\n",
    "import string\n",
    "import spacy\n",
    "import re\n",
    "url = \"\"\"https://insights.blackcoffer.com/controversy-as-a-marketing-strategy/\"\"\"\n",
    "headers = {\"User-Agent\": \"Mozilla/5.0 (X11; Linux x86_64; rv:60.0) Gecko/20100101 Firefox/60.0\"}\n",
    "page = requests.get(url, headers=headers)\n",
    "soup = BeautifulSoup(page.content, 'html.parser')\n",
    "soup=BeautifulSoup(page.content, 'html.parser')\n",
    "title=soup.find('h1',class_=\"entry-title\")\n",
    "title=title.text.replace('\\n',\" \")\n",
    "# title\n",
    "\n",
    "content=soup.findAll(attrs={'class':'td-post-content'})\n",
    "content=content[0].text.replace('\\n',\" \")\n",
    "# print(content)\n",
    "#Punctuation\n",
    "content = content.translate(str.maketrans('', '', string.punctuation)) \n",
    "# print(content)\n",
    "text = content.split()\n",
    "# print(text)\n",
    "len(text)\n",
    "#Positive Score \n",
    "with open(r\"C:\\Users\\Om Bhandwalkar\\Desktop\\pos\\positive-words.txt\") as pos:\n",
    "    poswords = pos.read().split(\"\\n\")  \n",
    "    poswords = poswords[5:]\n",
    "pos_count = \" \".join ([w for w in text if w in poswords])\n",
    "pos_count=pos_count.split(\" \")\n",
    "Positive_score=len(pos_count)\n",
    "print(Positive_score)\n",
    "\n",
    "#Negative Score\n",
    "with open(r\"C:\\Users\\Om Bhandwalkar\\Desktop\\pos\\negative-words.txt\",encoding =\"ISO-8859-1\") as neg:\n",
    "    negwords = neg.read().split(\"\\n\")\n",
    "    \n",
    "negwords = negwords[36:]\n",
    "neg_count = \" \".join ([w for w in text if w in negwords])\n",
    "neg_count=neg_count.split(\" \")\n",
    "Negative_score=len(neg_count)\n",
    "print(Negative_score)\n",
    "\n",
    "\n",
    "filter_content = ' '.join(text)\n",
    "data=[[url,title,content,filter_content,Positive_score,Negative_score]]\n",
    "data=pd.DataFrame(data,columns=[\"url\",\"title\",\"content\",\"filter_content\",\"Positive_Score\",\"Negative_Score\"])\n",
    "from textblob import TextBlob\n",
    "# Get The Subjectivity\n",
    "def sentiment_analysis(data):\n",
    "    sentiment = TextBlob(data[\"content\"]).sentiment\n",
    "    return pd.Series([sentiment.polarity,sentiment.subjectivity ])\n",
    "data[[\"polarity\", \"subjectivity\"]] = data.apply(sentiment_analysis, axis=1)\n",
    "data\n",
    "#AVG SENTENCE LENGTH\n",
    "AVG_SENTENCE_LENGTH = len(content.replace(' ',''))/len(re.split(r'[?!.]', content))\n",
    "print('Word average =', AVG_SENTENCE_LENGTH)\n",
    "import textstat\n",
    "#Fog index \n",
    "FOG_INDEX=(textstat.gunning_fog(content))\n",
    "print(\"FOG INDEX = \",FOG_INDEX)\n",
    "#Average No of Words Per Sentence \n",
    "AVG_NUMBER_OF_WORDS_PER_SENTENCE = [len(l.split()) for l in re.split(r'[?!.]', content) if l.strip()]\n",
    "print(\"Average no of words per sentence\")\n",
    "AVG_NUMBER_OF_WORDS_PER_SENTENCE=(sum(AVG_NUMBER_OF_WORDS_PER_SENTENCE)/len(AVG_NUMBER_OF_WORDS_PER_SENTENCE))\n",
    "print(AVG_NUMBER_OF_WORDS_PER_SENTENCE)\n",
    "#Complex words\n",
    "def syllable_count(word):\n",
    "    count = 0\n",
    "    vowels = \"AEIOUYaeiouy\"\n",
    "    if word[0] in vowels:\n",
    "        count += 1\n",
    "    for index in range(1, len(word)): \n",
    "        if word[index] in vowels and word[index - 1] not in vowels:\n",
    "            count += 1\n",
    "            if word.endswith(\"es\"or \"ed\"):\n",
    "                count -= 1\n",
    "    if count == 0:\n",
    "        count += 1\n",
    "    return count\n",
    "\n",
    "\n",
    "\n",
    "COMPLEX_WORDS=syllable_count(content)\n",
    "print(\"Complex Words\",COMPLEX_WORDS)\n",
    "#Word Count\n",
    "Word_Count=len(content)\n",
    "print(\"Word Count\",Word_Count)\n",
    "#Percentage Complex Words\n",
    "pcw=(COMPLEX_WORDS/Word_Count)*100\n",
    "print(\"Percentage of Complex Words\",pcw)\n",
    "#Average Word Length\n",
    "Average_Word_Length=len(content.replace(' ',''))/len(content.split())\n",
    "print(\"Average Word per Length\",Average_Word_Length)\n",
    "#Syllable Count Per Word\n",
    "word=content.replace(' ','')\n",
    "syllable_count=0\n",
    "for w in word:\n",
    "      if(w=='a' or w=='e' or w=='i' or w=='o' or w=='y' or w=='u' or w=='A' or w=='E' or w=='I' or w=='O' or w=='U' or w=='Y'):\n",
    "            syllable_count=syllable_count+1\n",
    "print(\"The AVG number of syllables in the word is: \")\n",
    "syllable = (syllable_count/len(content.split()))\n",
    "print(syllable)\n",
    "\n",
    "data = [[url,title,content,filter_content,Positive_score,Negative_score,AVG_SENTENCE_LENGTH,pcw,FOG_INDEX,\n",
    "         AVG_NUMBER_OF_WORDS_PER_SENTENCE,COMPLEX_WORDS,Word_Count,syllable,Average_Word_Length]]\n",
    "data=pd.DataFrame(data,columns=[\"url\",\"title\",\"content\",\"filter_content\",\"Positive_Score\",\"Negative_Score\",\"Avg_Sentence_Length\"\n",
    "                               ,\"Percentage_Complex_Word\",\"Fog_Index\",\" AVG_NUMBER_OF_WORDS_PER_SENTENCE\",\"COMPLEX_WORDS\",\n",
    "                               \"Word_Count\",\"syllable\",\"Average_Word_Length\"])\n",
    "from textblob import TextBlob\n",
    "# Get The Subjectivity\n",
    "def sentiment_analysis(data):\n",
    "    sentiment = TextBlob(data[\"content\"]).sentiment\n",
    "    return pd.Series([sentiment.polarity,sentiment.subjectivity ])\n",
    "data[[\"polarity\", \"subjectivity\"]] = data.apply(sentiment_analysis, axis=1)\n",
    "data"
   ]
  },
  {
   "cell_type": "code",
   "execution_count": 4,
   "id": "cffc8420",
   "metadata": {},
   "outputs": [],
   "source": [
    "data.to_csv(r'C:\\Users\\Om Bhandwalkar\\Desktop\\BlackCoffer Assignment\\Output\\url_128.csv')"
   ]
  },
  {
   "cell_type": "code",
   "execution_count": null,
   "id": "bc9e67ac",
   "metadata": {},
   "outputs": [],
   "source": []
  }
 ],
 "metadata": {
  "kernelspec": {
   "display_name": "Python 3 (ipykernel)",
   "language": "python",
   "name": "python3"
  },
  "language_info": {
   "codemirror_mode": {
    "name": "ipython",
    "version": 3
   },
   "file_extension": ".py",
   "mimetype": "text/x-python",
   "name": "python",
   "nbconvert_exporter": "python",
   "pygments_lexer": "ipython3",
   "version": "3.9.12"
  }
 },
 "nbformat": 4,
 "nbformat_minor": 5
}
