{
 "cells": [
  {
   "cell_type": "code",
   "execution_count": 1,
   "id": "fba8a88a",
   "metadata": {},
   "outputs": [
    {
     "data": {
      "text/plain": [
       "'Coronavirus: Impact on the Hospitality Industry'"
      ]
     },
     "execution_count": 1,
     "metadata": {},
     "output_type": "execute_result"
    }
   ],
   "source": [
    "import requests\n",
    "import pandas as pd \n",
    "from bs4 import BeautifulSoup\n",
    "import string\n",
    "import spacy\n",
    "import re\n",
    "url = \"\"\"https://insights.blackcoffer.com/coronavirus-impact-on-the-hospitality-industry/\"\"\"\n",
    "headers = {\"User-Agent\": \"Mozilla/5.0 (X11; Linux x86_64; rv:60.0) Gecko/20100101 Firefox/60.0\"}\n",
    "page = requests.get(url, headers=headers)\n",
    "soup = BeautifulSoup(page.content, 'html.parser')\n",
    "soup=BeautifulSoup(page.content, 'html.parser')\n",
    "title=soup.find('h1',class_=\"entry-title\")\n",
    "title=title.text.replace('\\n',\" \")\n",
    "title\n"
   ]
  },
  {
   "cell_type": "code",
   "execution_count": 2,
   "id": "9d391cb8",
   "metadata": {},
   "outputs": [
    {
     "name": "stdout",
     "output_type": "stream",
     "text": [
      " Before jumping on the topic I would like to give an overview of what is Coronavirus, Covid-19, how it spreads, and its symptoms.  Coronavirus –  Coronavirus is a large family of viruses that may cause illness in animals or humans.  In humans, several coronaviruses are known to cause respiratory infections ranging from the common cold to more severe diseases such as Middle East Respiratory Syndrome (MERS) and Severe Acute Respiratory Syndrome (SARS). The most recently discovered coronavirus causes coronavirus disease Covid-19. COVID-19 –  Covid-19 is infectious disease caused by the most recently discovered coronavirus. This new virus and disease were unknown before the outbreak began in Wuhan, China, in December 2019. How it spreads – People can catch COVID-19 from others who have the virus. The disease can spread from person to person through small droplets from the nose or mouth which are spread when a person with COVID-19 coughs or exhales. Symptoms – Cough, fever, tiredness, aches, pains, nasal congestion, runny nose, sore throat or diarrhea, and difficulty breathing (severe cases).  Coronavirus impact on the Hospitality industry Waitresses, hotel housekeepers, and casino dealers are among the more than 15 million hospitality jobs in U.S. cities at risk from restrictions being put in place to deal with the spread of Covid-19.  Bureau of Labor Statistics data through May 2018 covering 40 occupations critical to America’s hospitality and gaming industries. Restaurant, Hotel, and Casino Jobs Face Virus Risk Hospitality workers as a share of each metro area’s workforce (circles sized by total hospitality jobs). As of 20 April 2020 at least 23 states have closed bars or restaurants, around 20 have prohibited gatherings of more than 50 people, and several have begun implementing curfews and shuttering non-essential businesses. The most extreme measures have occurred in California where a shelter-in-place directive was announced by Gov. Gavin Newsom on Thursday. The order requires 40 million California residents to remain at home except for essential activities or jobs. In addition to critical government and healthcare roles, cafes and restaurants are allowed to stay open but only for take-out or delivery, which has already led to mass layoffs. Nowhere are there more threatened jobs than in the New York metro area, where one million people work in hospitality. This includes 157,000 waiters and waitresses, 40,000 bartenders, and 8,500 hotel desk clerks. On 20 April 2020, Gov. Andrew Cuomo ordered all non-essential workers to remain at home for the foreseeable future. The Los Angeles area has the second-most such workers—around 800,000—including 22,000 people who work at amusement parks and recreation facilities. This represents between 11% to 13% of these cities’ respective workforces in recent years. Most Hospitality Jobs There are 4.6 million hospitality workers in the top city clusters     Metropolitan area Hospitality Jobs   New York 1013630   San Francisco 289990   Philadelphia 302800   Houston 346520   Washington 347900     The pain of an extensive and prolonged coronavirus-related shutdown will be especially felt in the nation’s tourism hotspots. Roughly one in four workers in beach destinations like Kahului, on the island of Maui in Hawaii, and Myrtle Beach, South Carolina are employed in the hospitality sector. The same goes for gambling towns like Atlantic City and Las Vegas, where the governor of Nevada recently announced a 30-day shutdown of all casinos. Most Reliant on Hospitality Sector The hospitality industry matters most in beach and gambling destinations     Metropolitan area Hospitality Jobs   Las Vegas 241480   Myrtle Beach 39170   Salisbury 28070   Wilmington 22170   Atlantic City 30210     All but five of the 40 occupations in this analysis fall into broad categories that were less likely than the workforce overall to work from home on average in 2018, according to the BLS American Time Use Survey. Additionally, 17 of the roles, including restaurant wait staff and table game dealers, require at least arm’s-length contact with others, based on physical proximity scores compiled by the O*NET database of occupational information. At a time when most major cities are urging residents to stay at home and practice social distancing, few jobs are more at risk than these. Blackcoffer Insights 17:- Harsh Gupta, PIBM Pune \n",
      " Before jumping on the topic I would like to give an overview of what is Coronavirus Covid19 how it spreads and its symptoms  Coronavirus –  Coronavirus is a large family of viruses that may cause illness in animals or humans  In humans several coronaviruses are known to cause respiratory infections ranging from the common cold to more severe diseases such as Middle East Respiratory Syndrome MERS and Severe Acute Respiratory Syndrome SARS The most recently discovered coronavirus causes coronavirus disease Covid19 COVID19 –  Covid19 is infectious disease caused by the most recently discovered coronavirus This new virus and disease were unknown before the outbreak began in Wuhan China in December 2019 How it spreads – People can catch COVID19 from others who have the virus The disease can spread from person to person through small droplets from the nose or mouth which are spread when a person with COVID19 coughs or exhales Symptoms – Cough fever tiredness aches pains nasal congestion runny nose sore throat or diarrhea and difficulty breathing severe cases  Coronavirus impact on the Hospitality industry Waitresses hotel housekeepers and casino dealers are among the more than 15 million hospitality jobs in US cities at risk from restrictions being put in place to deal with the spread of Covid19  Bureau of Labor Statistics data through May 2018 covering 40 occupations critical to America’s hospitality and gaming industries Restaurant Hotel and Casino Jobs Face Virus Risk Hospitality workers as a share of each metro area’s workforce circles sized by total hospitality jobs As of 20 April 2020 at least 23 states have closed bars or restaurants around 20 have prohibited gatherings of more than 50 people and several have begun implementing curfews and shuttering nonessential businesses The most extreme measures have occurred in California where a shelterinplace directive was announced by Gov Gavin Newsom on Thursday The order requires 40 million California residents to remain at home except for essential activities or jobs In addition to critical government and healthcare roles cafes and restaurants are allowed to stay open but only for takeout or delivery which has already led to mass layoffs Nowhere are there more threatened jobs than in the New York metro area where one million people work in hospitality This includes 157000 waiters and waitresses 40000 bartenders and 8500 hotel desk clerks On 20 April 2020 Gov Andrew Cuomo ordered all nonessential workers to remain at home for the foreseeable future The Los Angeles area has the secondmost such workers—around 800000—including 22000 people who work at amusement parks and recreation facilities This represents between 11 to 13 of these cities’ respective workforces in recent years Most Hospitality Jobs There are 46 million hospitality workers in the top city clusters     Metropolitan area Hospitality Jobs   New York 1013630   San Francisco 289990   Philadelphia 302800   Houston 346520   Washington 347900     The pain of an extensive and prolonged coronavirusrelated shutdown will be especially felt in the nation’s tourism hotspots Roughly one in four workers in beach destinations like Kahului on the island of Maui in Hawaii and Myrtle Beach South Carolina are employed in the hospitality sector The same goes for gambling towns like Atlantic City and Las Vegas where the governor of Nevada recently announced a 30day shutdown of all casinos Most Reliant on Hospitality Sector The hospitality industry matters most in beach and gambling destinations     Metropolitan area Hospitality Jobs   Las Vegas 241480   Myrtle Beach 39170   Salisbury 28070   Wilmington 22170   Atlantic City 30210     All but five of the 40 occupations in this analysis fall into broad categories that were less likely than the workforce overall to work from home on average in 2018 according to the BLS American Time Use Survey Additionally 17 of the roles including restaurant wait staff and table game dealers require at least arm’slength contact with others based on physical proximity scores compiled by the ONET database of occupational information At a time when most major cities are urging residents to stay at home and practice social distancing few jobs are more at risk than these Blackcoffer Insights 17 Harsh Gupta PIBM Pune \n",
      "['Before', 'jumping', 'on', 'the', 'topic', 'I', 'would', 'like', 'to', 'give', 'an', 'overview', 'of', 'what', 'is', 'Coronavirus', 'Covid19', 'how', 'it', 'spreads', 'and', 'its', 'symptoms', 'Coronavirus', '–', 'Coronavirus', 'is', 'a', 'large', 'family', 'of', 'viruses', 'that', 'may', 'cause', 'illness', 'in', 'animals', 'or', 'humans', 'In', 'humans', 'several', 'coronaviruses', 'are', 'known', 'to', 'cause', 'respiratory', 'infections', 'ranging', 'from', 'the', 'common', 'cold', 'to', 'more', 'severe', 'diseases', 'such', 'as', 'Middle', 'East', 'Respiratory', 'Syndrome', 'MERS', 'and', 'Severe', 'Acute', 'Respiratory', 'Syndrome', 'SARS', 'The', 'most', 'recently', 'discovered', 'coronavirus', 'causes', 'coronavirus', 'disease', 'Covid19', 'COVID19', '–', 'Covid19', 'is', 'infectious', 'disease', 'caused', 'by', 'the', 'most', 'recently', 'discovered', 'coronavirus', 'This', 'new', 'virus', 'and', 'disease', 'were', 'unknown', 'before', 'the', 'outbreak', 'began', 'in', 'Wuhan', 'China', 'in', 'December', '2019', 'How', 'it', 'spreads', '–', 'People', 'can', 'catch', 'COVID19', 'from', 'others', 'who', 'have', 'the', 'virus', 'The', 'disease', 'can', 'spread', 'from', 'person', 'to', 'person', 'through', 'small', 'droplets', 'from', 'the', 'nose', 'or', 'mouth', 'which', 'are', 'spread', 'when', 'a', 'person', 'with', 'COVID19', 'coughs', 'or', 'exhales', 'Symptoms', '–', 'Cough', 'fever', 'tiredness', 'aches', 'pains', 'nasal', 'congestion', 'runny', 'nose', 'sore', 'throat', 'or', 'diarrhea', 'and', 'difficulty', 'breathing', 'severe', 'cases', 'Coronavirus', 'impact', 'on', 'the', 'Hospitality', 'industry', 'Waitresses', 'hotel', 'housekeepers', 'and', 'casino', 'dealers', 'are', 'among', 'the', 'more', 'than', '15', 'million', 'hospitality', 'jobs', 'in', 'US', 'cities', 'at', 'risk', 'from', 'restrictions', 'being', 'put', 'in', 'place', 'to', 'deal', 'with', 'the', 'spread', 'of', 'Covid19', 'Bureau', 'of', 'Labor', 'Statistics', 'data', 'through', 'May', '2018', 'covering', '40', 'occupations', 'critical', 'to', 'America’s', 'hospitality', 'and', 'gaming', 'industries', 'Restaurant', 'Hotel', 'and', 'Casino', 'Jobs', 'Face', 'Virus', 'Risk', 'Hospitality', 'workers', 'as', 'a', 'share', 'of', 'each', 'metro', 'area’s', 'workforce', 'circles', 'sized', 'by', 'total', 'hospitality', 'jobs', 'As', 'of', '20', 'April', '2020', 'at', 'least', '23', 'states', 'have', 'closed', 'bars', 'or', 'restaurants', 'around', '20', 'have', 'prohibited', 'gatherings', 'of', 'more', 'than', '50', 'people', 'and', 'several', 'have', 'begun', 'implementing', 'curfews', 'and', 'shuttering', 'nonessential', 'businesses', 'The', 'most', 'extreme', 'measures', 'have', 'occurred', 'in', 'California', 'where', 'a', 'shelterinplace', 'directive', 'was', 'announced', 'by', 'Gov', 'Gavin', 'Newsom', 'on', 'Thursday', 'The', 'order', 'requires', '40', 'million', 'California', 'residents', 'to', 'remain', 'at', 'home', 'except', 'for', 'essential', 'activities', 'or', 'jobs', 'In', 'addition', 'to', 'critical', 'government', 'and', 'healthcare', 'roles', 'cafes', 'and', 'restaurants', 'are', 'allowed', 'to', 'stay', 'open', 'but', 'only', 'for', 'takeout', 'or', 'delivery', 'which', 'has', 'already', 'led', 'to', 'mass', 'layoffs', 'Nowhere', 'are', 'there', 'more', 'threatened', 'jobs', 'than', 'in', 'the', 'New', 'York', 'metro', 'area', 'where', 'one', 'million', 'people', 'work', 'in', 'hospitality', 'This', 'includes', '157000', 'waiters', 'and', 'waitresses', '40000', 'bartenders', 'and', '8500', 'hotel', 'desk', 'clerks', 'On', '20', 'April', '2020', 'Gov', 'Andrew', 'Cuomo', 'ordered', 'all', 'nonessential', 'workers', 'to', 'remain', 'at', 'home', 'for', 'the', 'foreseeable', 'future', 'The', 'Los', 'Angeles', 'area', 'has', 'the', 'secondmost', 'such', 'workers—around', '800000—including', '22000', 'people', 'who', 'work', 'at', 'amusement', 'parks', 'and', 'recreation', 'facilities', 'This', 'represents', 'between', '11', 'to', '13', 'of', 'these', 'cities’', 'respective', 'workforces', 'in', 'recent', 'years', 'Most', 'Hospitality', 'Jobs', 'There', 'are', '46', 'million', 'hospitality', 'workers', 'in', 'the', 'top', 'city', 'clusters', 'Metropolitan', 'area', 'Hospitality', 'Jobs', 'New', 'York', '1013630', 'San', 'Francisco', '289990', 'Philadelphia', '302800', 'Houston', '346520', 'Washington', '347900', 'The', 'pain', 'of', 'an', 'extensive', 'and', 'prolonged', 'coronavirusrelated', 'shutdown', 'will', 'be', 'especially', 'felt', 'in', 'the', 'nation’s', 'tourism', 'hotspots', 'Roughly', 'one', 'in', 'four', 'workers', 'in', 'beach', 'destinations', 'like', 'Kahului', 'on', 'the', 'island', 'of', 'Maui', 'in', 'Hawaii', 'and', 'Myrtle', 'Beach', 'South', 'Carolina', 'are', 'employed', 'in', 'the', 'hospitality', 'sector', 'The', 'same', 'goes', 'for', 'gambling', 'towns', 'like', 'Atlantic', 'City', 'and', 'Las', 'Vegas', 'where', 'the', 'governor', 'of', 'Nevada', 'recently', 'announced', 'a', '30day', 'shutdown', 'of', 'all', 'casinos', 'Most', 'Reliant', 'on', 'Hospitality', 'Sector', 'The', 'hospitality', 'industry', 'matters', 'most', 'in', 'beach', 'and', 'gambling', 'destinations', 'Metropolitan', 'area', 'Hospitality', 'Jobs', 'Las', 'Vegas', '241480', 'Myrtle', 'Beach', '39170', 'Salisbury', '28070', 'Wilmington', '22170', 'Atlantic', 'City', '30210', 'All', 'but', 'five', 'of', 'the', '40', 'occupations', 'in', 'this', 'analysis', 'fall', 'into', 'broad', 'categories', 'that', 'were', 'less', 'likely', 'than', 'the', 'workforce', 'overall', 'to', 'work', 'from', 'home', 'on', 'average', 'in', '2018', 'according', 'to', 'the', 'BLS', 'American', 'Time', 'Use', 'Survey', 'Additionally', '17', 'of', 'the', 'roles', 'including', 'restaurant', 'wait', 'staff', 'and', 'table', 'game', 'dealers', 'require', 'at', 'least', 'arm’slength', 'contact', 'with', 'others', 'based', 'on', 'physical', 'proximity', 'scores', 'compiled', 'by', 'the', 'ONET', 'database', 'of', 'occupational', 'information', 'At', 'a', 'time', 'when', 'most', 'major', 'cities', 'are', 'urging', 'residents', 'to', 'stay', 'at', 'home', 'and', 'practice', 'social', 'distancing', 'few', 'jobs', 'are', 'more', 'at', 'risk', 'than', 'these', 'Blackcoffer', 'Insights', '17', 'Harsh', 'Gupta', 'PIBM', 'Pune']\n"
     ]
    }
   ],
   "source": [
    "content=soup.findAll(attrs={'class':'td-post-content'})\n",
    "content=content[0].text.replace('\\n',\" \")\n",
    "print(content)\n",
    "#Punctuation\n",
    "content = content.translate(str.maketrans('', '', string.punctuation)) \n",
    "print(content)\n",
    "text = content.split()\n",
    "print(text)\n"
   ]
  },
  {
   "cell_type": "code",
   "execution_count": 3,
   "id": "6be71915",
   "metadata": {},
   "outputs": [
    {
     "data": {
      "text/plain": [
       "676"
      ]
     },
     "execution_count": 3,
     "metadata": {},
     "output_type": "execute_result"
    }
   ],
   "source": [
    "len(text)"
   ]
  },
  {
   "cell_type": "code",
   "execution_count": 4,
   "id": "e00502a9",
   "metadata": {},
   "outputs": [
    {
     "name": "stdout",
     "output_type": "stream",
     "text": [
      "8\n"
     ]
    }
   ],
   "source": [
    "#Positive Score \n",
    "with open(r\"C:\\Users\\Om Bhandwalkar\\Desktop\\pos\\positive-words.txt\") as pos:\n",
    "    poswords = pos.read().split(\"\\n\")  \n",
    "    poswords = poswords[5:]\n",
    "pos_count = \" \".join ([w for w in text if w in poswords])\n",
    "pos_count=pos_count.split(\" \")\n",
    "Positive_score=len(pos_count)\n",
    "print(Positive_score)"
   ]
  },
  {
   "cell_type": "code",
   "execution_count": 5,
   "id": "67af541a",
   "metadata": {},
   "outputs": [
    {
     "name": "stdout",
     "output_type": "stream",
     "text": [
      "22\n"
     ]
    }
   ],
   "source": [
    "#Negative Score\n",
    "with open(r\"C:\\Users\\Om Bhandwalkar\\Desktop\\pos\\negative-words.txt\",encoding =\"ISO-8859-1\") as neg:\n",
    "    negwords = neg.read().split(\"\\n\")\n",
    "    \n",
    "negwords = negwords[36:]\n",
    "neg_count = \" \".join ([w for w in text if w in negwords])\n",
    "neg_count=neg_count.split(\" \")\n",
    "Negative_score=len(neg_count)\n",
    "print(Negative_score)"
   ]
  },
  {
   "cell_type": "code",
   "execution_count": 6,
   "id": "2311de6c",
   "metadata": {},
   "outputs": [
    {
     "data": {
      "text/html": [
       "<div>\n",
       "<style scoped>\n",
       "    .dataframe tbody tr th:only-of-type {\n",
       "        vertical-align: middle;\n",
       "    }\n",
       "\n",
       "    .dataframe tbody tr th {\n",
       "        vertical-align: top;\n",
       "    }\n",
       "\n",
       "    .dataframe thead th {\n",
       "        text-align: right;\n",
       "    }\n",
       "</style>\n",
       "<table border=\"1\" class=\"dataframe\">\n",
       "  <thead>\n",
       "    <tr style=\"text-align: right;\">\n",
       "      <th></th>\n",
       "      <th>url</th>\n",
       "      <th>title</th>\n",
       "      <th>content</th>\n",
       "      <th>filter_content</th>\n",
       "      <th>Positive_Score</th>\n",
       "      <th>Negative_Score</th>\n",
       "      <th>polarity</th>\n",
       "      <th>subjectivity</th>\n",
       "    </tr>\n",
       "  </thead>\n",
       "  <tbody>\n",
       "    <tr>\n",
       "      <th>0</th>\n",
       "      <td>https://insights.blackcoffer.com/coronavirus-i...</td>\n",
       "      <td>Coronavirus: Impact on the Hospitality Industry</td>\n",
       "      <td>Before jumping on the topic I would like to g...</td>\n",
       "      <td>Before jumping on the topic I would like to gi...</td>\n",
       "      <td>8</td>\n",
       "      <td>22</td>\n",
       "      <td>0.077797</td>\n",
       "      <td>0.432445</td>\n",
       "    </tr>\n",
       "  </tbody>\n",
       "</table>\n",
       "</div>"
      ],
      "text/plain": [
       "                                                 url  \\\n",
       "0  https://insights.blackcoffer.com/coronavirus-i...   \n",
       "\n",
       "                                             title  \\\n",
       "0  Coronavirus: Impact on the Hospitality Industry   \n",
       "\n",
       "                                             content  \\\n",
       "0   Before jumping on the topic I would like to g...   \n",
       "\n",
       "                                      filter_content  Positive_Score  \\\n",
       "0  Before jumping on the topic I would like to gi...               8   \n",
       "\n",
       "   Negative_Score  polarity  subjectivity  \n",
       "0              22  0.077797      0.432445  "
      ]
     },
     "execution_count": 6,
     "metadata": {},
     "output_type": "execute_result"
    }
   ],
   "source": [
    "filter_content = ' '.join(text)\n",
    "data=[[url,title,content,filter_content,Positive_score,Negative_score]]\n",
    "data=pd.DataFrame(data,columns=[\"url\",\"title\",\"content\",\"filter_content\",\"Positive_Score\",\"Negative_Score\"])\n",
    "from textblob import TextBlob\n",
    "# Get The Subjectivity\n",
    "def sentiment_analysis(data):\n",
    "    sentiment = TextBlob(data[\"content\"]).sentiment\n",
    "    return pd.Series([sentiment.polarity,sentiment.subjectivity ])\n",
    "\n",
    "# Adding Subjectivity & Polarity\n",
    "data[[\"polarity\", \"subjectivity\"]] = data.apply(sentiment_analysis, axis=1)\n",
    "\n",
    "data"
   ]
  },
  {
   "cell_type": "code",
   "execution_count": 7,
   "id": "eea98a85",
   "metadata": {},
   "outputs": [
    {
     "name": "stdout",
     "output_type": "stream",
     "text": [
      "Word average = 3597.0\n",
      "FOG INDEX =  272.67\n",
      "Average no of words per sentence\n",
      "676.0\n",
      "Complex Words 1250\n"
     ]
    }
   ],
   "source": [
    "#AVG SENTENCE LENGTH\n",
    "AVG_SENTENCE_LENGTH = len(content.replace(' ',''))/len(re.split(r'[?!.]', content))\n",
    "print('Word average =', AVG_SENTENCE_LENGTH)\n",
    "import textstat\n",
    "#Fog index \n",
    "FOG_INDEX=(textstat.gunning_fog(content))\n",
    "print(\"FOG INDEX = \",FOG_INDEX)\n",
    "#Average No of Words Per Sentence \n",
    "AVG_NUMBER_OF_WORDS_PER_SENTENCE = [len(l.split()) for l in re.split(r'[?!.]', content) if l.strip()]\n",
    "print(\"Average no of words per sentence\")\n",
    "AVG_NUMBER_OF_WORDS_PER_SENTENCE=print(sum(AVG_NUMBER_OF_WORDS_PER_SENTENCE)/len(AVG_NUMBER_OF_WORDS_PER_SENTENCE))\n",
    "#Complex words\n",
    "def syllable_count(word):\n",
    "    count = 0\n",
    "    vowels = \"AEIOUYaeiouy\"\n",
    "    if word[0] in vowels:\n",
    "        count += 1\n",
    "    for index in range(1, len(word)): \n",
    "        if word[index] in vowels and word[index - 1] not in vowels:\n",
    "            count += 1\n",
    "            if word.endswith(\"es\"or \"ed\"):\n",
    "                count -= 1\n",
    "    if count == 0:\n",
    "        count += 1\n",
    "    return count\n",
    "\n",
    "\n",
    "\n",
    "COMPLEX_WORDS=syllable_count(content)\n",
    "print(\"Complex Words\",COMPLEX_WORDS)\n"
   ]
  },
  {
   "cell_type": "code",
   "execution_count": 8,
   "id": "3a76e772",
   "metadata": {},
   "outputs": [
    {
     "name": "stdout",
     "output_type": "stream",
     "text": [
      "Word Count 4310\n",
      "Percentage of Complex Words 29.00232018561485\n",
      "Average Word per Length 5.321005917159764\n",
      "The AVG number of syllables in the word is: \n",
      "2.0606508875739644\n",
      "Word Count 4310\n",
      "Percentage of Complex Words 29.00232018561485\n",
      "Average Word per Length 5.321005917159764\n",
      "The AVG number of syllables in the word is: \n",
      "2.0606508875739644\n"
     ]
    }
   ],
   "source": [
    "#Word Count\n",
    "Word_Count=len(content)\n",
    "print(\"Word Count\",Word_Count)\n",
    "#Percentage Complex Words\n",
    "pcw=(COMPLEX_WORDS/Word_Count)*100\n",
    "print(\"Percentage of Complex Words\",pcw)\n",
    "#Average Word Length\n",
    "Average_Word_Length=len(content.replace(' ',''))/len(content.split())\n",
    "print(\"Average Word per Length\",Average_Word_Length)\n",
    "#Syllable Count Per Word\n",
    "word=content.replace(' ','')\n",
    "syllable_count=0\n",
    "for w in word:\n",
    "      if(w=='a' or w=='e' or w=='i' or w=='o' or w=='y' or w=='u' or w=='A' or w=='E' or w=='I' or w=='O' or w=='U' or w=='Y'):\n",
    "            syllable_count=syllable_count+1\n",
    "print(\"The AVG number of syllables in the word is: \")\n",
    "print(syllable_count/len(content.split()))#Word Count\n",
    "Word_Count=len(content)\n",
    "print(\"Word Count\",Word_Count)\n",
    "#Percentage Complex Words\n",
    "pcw=(COMPLEX_WORDS/Word_Count)*100\n",
    "print(\"Percentage of Complex Words\",pcw)\n",
    "#Average Word Length\n",
    "Average_Word_Length=len(content.replace(' ',''))/len(content.split())\n",
    "print(\"Average Word per Length\",Average_Word_Length)\n",
    "#Syllable Count Per Word\n",
    "word=content.replace(' ','')\n",
    "syllable_count=0\n",
    "for w in word:\n",
    "      if(w=='a' or w=='e' or w=='i' or w=='o' or w=='y' or w=='u' or w=='A' or w=='E' or w=='I' or w=='O' or w=='U' or w=='Y'):\n",
    "            syllable_count=syllable_count+1\n",
    "print(\"The AVG number of syllables in the word is: \")\n",
    "print(syllable_count/len(content.split()))"
   ]
  },
  {
   "cell_type": "code",
   "execution_count": 2,
   "id": "5c794a38",
   "metadata": {},
   "outputs": [
    {
     "name": "stdout",
     "output_type": "stream",
     "text": [
      "8\n",
      "22\n",
      "Word average = 3597.0\n",
      "FOG INDEX =  272.67\n",
      "Average no of words per sentence\n",
      "676.0\n",
      "Complex Words 1250\n",
      "Word Count 4311\n",
      "Percentage of Complex Words 28.99559266991417\n",
      "Average Word per Length 5.321005917159764\n",
      "The AVG number of syllables in the word is: \n",
      "2.0606508875739644\n"
     ]
    },
    {
     "data": {
      "text/html": [
       "<div>\n",
       "<style scoped>\n",
       "    .dataframe tbody tr th:only-of-type {\n",
       "        vertical-align: middle;\n",
       "    }\n",
       "\n",
       "    .dataframe tbody tr th {\n",
       "        vertical-align: top;\n",
       "    }\n",
       "\n",
       "    .dataframe thead th {\n",
       "        text-align: right;\n",
       "    }\n",
       "</style>\n",
       "<table border=\"1\" class=\"dataframe\">\n",
       "  <thead>\n",
       "    <tr style=\"text-align: right;\">\n",
       "      <th></th>\n",
       "      <th>url</th>\n",
       "      <th>title</th>\n",
       "      <th>content</th>\n",
       "      <th>filter_content</th>\n",
       "      <th>Positive_Score</th>\n",
       "      <th>Negative_Score</th>\n",
       "      <th>Avg_Sentence_Length</th>\n",
       "      <th>Percentage_Complex_Word</th>\n",
       "      <th>Fog_Index</th>\n",
       "      <th>AVG_NUMBER_OF_WORDS_PER_SENTENCE</th>\n",
       "      <th>COMPLEX_WORDS</th>\n",
       "      <th>Word_Count</th>\n",
       "      <th>syllable</th>\n",
       "      <th>Average_Word_Length</th>\n",
       "      <th>polarity</th>\n",
       "      <th>subjectivity</th>\n",
       "    </tr>\n",
       "  </thead>\n",
       "  <tbody>\n",
       "    <tr>\n",
       "      <th>0</th>\n",
       "      <td>https://insights.blackcoffer.com/coronavirus-i...</td>\n",
       "      <td>Coronavirus: Impact on the Hospitality Industry</td>\n",
       "      <td>Before jumping on the topic I would like to ...</td>\n",
       "      <td>Before jumping on the topic I would like to gi...</td>\n",
       "      <td>8</td>\n",
       "      <td>22</td>\n",
       "      <td>3597.0</td>\n",
       "      <td>28.995593</td>\n",
       "      <td>272.67</td>\n",
       "      <td>676.0</td>\n",
       "      <td>1250</td>\n",
       "      <td>4311</td>\n",
       "      <td>2.060651</td>\n",
       "      <td>5.321006</td>\n",
       "      <td>0.077797</td>\n",
       "      <td>0.432445</td>\n",
       "    </tr>\n",
       "  </tbody>\n",
       "</table>\n",
       "</div>"
      ],
      "text/plain": [
       "                                                 url  \\\n",
       "0  https://insights.blackcoffer.com/coronavirus-i...   \n",
       "\n",
       "                                             title  \\\n",
       "0  Coronavirus: Impact on the Hospitality Industry   \n",
       "\n",
       "                                             content  \\\n",
       "0    Before jumping on the topic I would like to ...   \n",
       "\n",
       "                                      filter_content  Positive_Score  \\\n",
       "0  Before jumping on the topic I would like to gi...               8   \n",
       "\n",
       "   Negative_Score  Avg_Sentence_Length  Percentage_Complex_Word  Fog_Index  \\\n",
       "0              22               3597.0                28.995593     272.67   \n",
       "\n",
       "    AVG_NUMBER_OF_WORDS_PER_SENTENCE  COMPLEX_WORDS  Word_Count  syllable  \\\n",
       "0                              676.0           1250        4311  2.060651   \n",
       "\n",
       "   Average_Word_Length  polarity  subjectivity  \n",
       "0             5.321006  0.077797      0.432445  "
      ]
     },
     "execution_count": 2,
     "metadata": {},
     "output_type": "execute_result"
    }
   ],
   "source": [
    "import requests\n",
    "import pandas as pd \n",
    "from bs4 import BeautifulSoup\n",
    "import string\n",
    "import spacy\n",
    "import re\n",
    "url = \"\"\"https://insights.blackcoffer.com/coronavirus-impact-on-the-hospitality-industry/\"\"\"\n",
    "headers = {\"User-Agent\": \"Mozilla/5.0 (X11; Linux x86_64; rv:60.0) Gecko/20100101 Firefox/60.0\"}\n",
    "page = requests.get(url, headers=headers)\n",
    "soup = BeautifulSoup(page.content, 'html.parser')\n",
    "soup=BeautifulSoup(page.content, 'html.parser')\n",
    "title=soup.find('h1',class_=\"entry-title\")\n",
    "title=title.text.replace('\\n',\" \")\n",
    "# title\n",
    "\n",
    "content=soup.findAll(attrs={'class':'td-post-content'})\n",
    "content=content[0].text.replace('\\n',\" \")\n",
    "# print(content)\n",
    "#Punctuation\n",
    "content = content.translate(str.maketrans('', '', string.punctuation)) \n",
    "# print(content)\n",
    "text = content.split()\n",
    "# print(text)\n",
    "len(text)\n",
    "#Positive Score \n",
    "with open(r\"C:\\Users\\Om Bhandwalkar\\Desktop\\pos\\positive-words.txt\") as pos:\n",
    "    poswords = pos.read().split(\"\\n\")  \n",
    "    poswords = poswords[5:]\n",
    "pos_count = \" \".join ([w for w in text if w in poswords])\n",
    "pos_count=pos_count.split(\" \")\n",
    "Positive_score=len(pos_count)\n",
    "print(Positive_score)\n",
    "\n",
    "#Negative Score\n",
    "with open(r\"C:\\Users\\Om Bhandwalkar\\Desktop\\pos\\negative-words.txt\",encoding =\"ISO-8859-1\") as neg:\n",
    "    negwords = neg.read().split(\"\\n\")\n",
    "    \n",
    "negwords = negwords[36:]\n",
    "neg_count = \" \".join ([w for w in text if w in negwords])\n",
    "neg_count=neg_count.split(\" \")\n",
    "Negative_score=len(neg_count)\n",
    "print(Negative_score)\n",
    "\n",
    "\n",
    "filter_content = ' '.join(text)\n",
    "data=[[url,title,content,filter_content,Positive_score,Negative_score]]\n",
    "data=pd.DataFrame(data,columns=[\"url\",\"title\",\"content\",\"filter_content\",\"Positive_Score\",\"Negative_Score\"])\n",
    "from textblob import TextBlob\n",
    "# Get The Subjectivity\n",
    "def sentiment_analysis(data):\n",
    "    sentiment = TextBlob(data[\"content\"]).sentiment\n",
    "    return pd.Series([sentiment.polarity,sentiment.subjectivity ])\n",
    "data[[\"polarity\", \"subjectivity\"]] = data.apply(sentiment_analysis, axis=1)\n",
    "data\n",
    "#AVG SENTENCE LENGTH\n",
    "AVG_SENTENCE_LENGTH = len(content.replace(' ',''))/len(re.split(r'[?!.]', content))\n",
    "print('Word average =', AVG_SENTENCE_LENGTH)\n",
    "import textstat\n",
    "#Fog index \n",
    "FOG_INDEX=(textstat.gunning_fog(content))\n",
    "print(\"FOG INDEX = \",FOG_INDEX)\n",
    "#Average No of Words Per Sentence \n",
    "AVG_NUMBER_OF_WORDS_PER_SENTENCE = [len(l.split()) for l in re.split(r'[?!.]', content) if l.strip()]\n",
    "print(\"Average no of words per sentence\")\n",
    "AVG_NUMBER_OF_WORDS_PER_SENTENCE=(sum(AVG_NUMBER_OF_WORDS_PER_SENTENCE)/len(AVG_NUMBER_OF_WORDS_PER_SENTENCE))\n",
    "print(AVG_NUMBER_OF_WORDS_PER_SENTENCE)\n",
    "#Complex words\n",
    "def syllable_count(word):\n",
    "    count = 0\n",
    "    vowels = \"AEIOUYaeiouy\"\n",
    "    if word[0] in vowels:\n",
    "        count += 1\n",
    "    for index in range(1, len(word)): \n",
    "        if word[index] in vowels and word[index - 1] not in vowels:\n",
    "            count += 1\n",
    "            if word.endswith(\"es\"or \"ed\"):\n",
    "                count -= 1\n",
    "    if count == 0:\n",
    "        count += 1\n",
    "    return count\n",
    "\n",
    "\n",
    "\n",
    "COMPLEX_WORDS=syllable_count(content)\n",
    "print(\"Complex Words\",COMPLEX_WORDS)\n",
    "#Word Count\n",
    "Word_Count=len(content)\n",
    "print(\"Word Count\",Word_Count)\n",
    "#Percentage Complex Words\n",
    "pcw=(COMPLEX_WORDS/Word_Count)*100\n",
    "print(\"Percentage of Complex Words\",pcw)\n",
    "#Average Word Length\n",
    "Average_Word_Length=len(content.replace(' ',''))/len(content.split())\n",
    "print(\"Average Word per Length\",Average_Word_Length)\n",
    "#Syllable Count Per Word\n",
    "word=content.replace(' ','')\n",
    "syllable_count=0\n",
    "for w in word:\n",
    "      if(w=='a' or w=='e' or w=='i' or w=='o' or w=='y' or w=='u' or w=='A' or w=='E' or w=='I' or w=='O' or w=='U' or w=='Y'):\n",
    "            syllable_count=syllable_count+1\n",
    "print(\"The AVG number of syllables in the word is: \")\n",
    "syllable = (syllable_count/len(content.split()))\n",
    "print(syllable)\n",
    "\n",
    "data = [[url,title,content,filter_content,Positive_score,Negative_score,AVG_SENTENCE_LENGTH,pcw,FOG_INDEX,\n",
    "         AVG_NUMBER_OF_WORDS_PER_SENTENCE,COMPLEX_WORDS,Word_Count,syllable,Average_Word_Length]]\n",
    "data=pd.DataFrame(data,columns=[\"url\",\"title\",\"content\",\"filter_content\",\"Positive_Score\",\"Negative_Score\",\"Avg_Sentence_Length\"\n",
    "                               ,\"Percentage_Complex_Word\",\"Fog_Index\",\" AVG_NUMBER_OF_WORDS_PER_SENTENCE\",\"COMPLEX_WORDS\",\n",
    "                               \"Word_Count\",\"syllable\",\"Average_Word_Length\"])\n",
    "from textblob import TextBlob\n",
    "# Get The Subjectivity\n",
    "def sentiment_analysis(data):\n",
    "    sentiment = TextBlob(data[\"content\"]).sentiment\n",
    "    return pd.Series([sentiment.polarity,sentiment.subjectivity ])\n",
    "data[[\"polarity\", \"subjectivity\"]] = data.apply(sentiment_analysis, axis=1)\n",
    "data"
   ]
  },
  {
   "cell_type": "code",
   "execution_count": 3,
   "id": "5064806b",
   "metadata": {},
   "outputs": [],
   "source": [
    "data.to_csv(r'C:\\Users\\Om Bhandwalkar\\Desktop\\BlackCoffer Assignment\\Output\\url_129.csv')"
   ]
  },
  {
   "cell_type": "code",
   "execution_count": null,
   "id": "344965d7",
   "metadata": {},
   "outputs": [],
   "source": []
  }
 ],
 "metadata": {
  "kernelspec": {
   "display_name": "Python 3 (ipykernel)",
   "language": "python",
   "name": "python3"
  },
  "language_info": {
   "codemirror_mode": {
    "name": "ipython",
    "version": 3
   },
   "file_extension": ".py",
   "mimetype": "text/x-python",
   "name": "python",
   "nbconvert_exporter": "python",
   "pygments_lexer": "ipython3",
   "version": "3.9.12"
  }
 },
 "nbformat": 4,
 "nbformat_minor": 5
}
