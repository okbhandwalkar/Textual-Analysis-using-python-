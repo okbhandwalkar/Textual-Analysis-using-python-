{
 "cells": [
  {
   "cell_type": "code",
   "execution_count": 1,
   "id": "383d85ba",
   "metadata": {},
   "outputs": [
    {
     "data": {
      "text/plain": [
       "'Coronavirus impact on energy markets'"
      ]
     },
     "execution_count": 1,
     "metadata": {},
     "output_type": "execute_result"
    }
   ],
   "source": [
    "import requests\n",
    "import pandas as pd \n",
    "from bs4 import BeautifulSoup\n",
    "import string\n",
    "import spacy\n",
    "import re\n",
    "url = \"\"\"https://insights.blackcoffer.com/coronavirus-impact-on-energy-markets/\"\"\"\n",
    "headers = {\"User-Agent\": \"Mozilla/5.0 (X11; Linux x86_64; rv:60.0) Gecko/20100101 Firefox/60.0\"}\n",
    "page = requests.get(url, headers=headers)\n",
    "soup = BeautifulSoup(page.content, 'html.parser')\n",
    "soup=BeautifulSoup(page.content, 'html.parser')\n",
    "title=soup.find('h1',class_=\"entry-title\")\n",
    "title=title.text.replace('\\n',\" \")\n",
    "title\n"
   ]
  },
  {
   "cell_type": "code",
   "execution_count": 2,
   "id": "a6b07e19",
   "metadata": {},
   "outputs": [
    {
     "name": "stdout",
     "output_type": "stream",
     "text": [
      " As the coronavirus spreads around the world and countries implement containment measures, energy supply and demand is being disrupted. The impact that country-wide lockdowns and demand slowdowns will have on energy markets will be evolving every day. Impact on energy markets are: i)Slump in wind expansion may support German power prices: The recent slump in German wind capacity is likely to continue this year as complicated regulations and weakness in the global economic outlook due to the coronavirus are likely to dampen investment in the renewable technology. This has the potential to restrict future additions to wind output, impacting supply and, in turn, supporting power prices. ii)Chinese industrial gas demand remains weak in March: Chinese natural gas demand from the industrial sector in March was down by almost 25% year on year, according to the Chongqing Gas and Petroleum Exchange released over Easter, as the impact of the coronavirus continued to weigh on consumption. iii)Reduced energy offtake likely to hit UK suppliers: A growing number of British energy suppliers could be at risk of colllapsing through reduced energy offtake and cash-flow constraints amid the coronavirus pandemic, according to industry sources polled by ICIS. iv)Breakdown of European power demand impact : Power consumption continued to soften across key European demand centres through March and the first week of April, while less stringent measures and colder weather has sheltered other parts of Europe. v)Brexit set to ensure EU 2020 renewable goals: While the coronavirus outbreak is already having a significant impact on the European renewables sector, one unintended consequence of the pandemic is likely to be the achievement of EU and member state binding renewable energy targets for 2020. This is due to the consequences of a prolonged downturn in demand, which will not be normalised for by the EU’s official statistics office (Eurostat), meaning that renewables look set to make up a higher share of consumption in 2020 across the EU. vi)Spanish prices stay bearish but premium to France to persist: Spanish power prices across the curve are expected to maintain a bearish trajectory throughout the nationwide coronavirus lockdown period which was recently extended until 26 April, with further extensions possible. Nevertheless, forecasts for below-average wind generation would support Spanish spot prices, allowing France to continue exporting power to Spain. This in turn should keep Spanish near-curve contracts at a premium to their French equivalents. vii)Coronavirus hits truck-loaded LNG demand: Market sources have indicated the coronavirus has reduced demand for truck-loaded LNG around Europe, as countries have implemented lockdown measures and low oil prices have made gas less competitive as a transport fuel. Data from terminals in northwest Europe shows the impact has not been as significant as originally thought. viii)Europe has found a coronavirus electricity demand floor: Electricity consumption has leveled out in Germany, France and Italy, after falling for several weeks due to restrictions aimed at stemming the spread of the coronavirus. But in Great Britain and Spain, demand has continued to drop week on week in recent days, according to an ICIS model that controls for the impact of temperature across Europe’s five largest consumers of electricity. ix)European power and carbon markets affected by COVID-19 – an early impact assessment: In order to assess the fundamental impact of COVID-19 on European power and carbon markets we modelled a scenario in which we accounted for the first data on dropping electricity demand as well as assumed industry production cuts and continued travel restrictions. x)India defers on LNG cargoes as lockdown ramps up: India buyers are deferring LNG cargoes as ports close operations with strict lockdowns in place. This is a concern for sellers in a long market with India one of the key buyers. xi)EU to reach 2020 renewables goals on coronavirus, Brexit: The combination of Brexit and lower demand associated with the coronavirus pandemic should enable the EU as a whole as well as many member states to reach their 2020 renewable targets, according to ICIS model run. xii)European power markets yet to hit coronavirus demand floor: European power demand will continue to drop as governments escalate measures to stem the spread of the coronavirus. Electricity consumption in Italy and France fell 16% below expectations over the past seven days, according to an ICIS model that controls for the impact of temperatures. Three other major power markets studied by ICIS – Germany, Spain and the UK – have seen smaller drops, although all are trending down. xiii)Virus demand hit to wipe 9% off 2020 European power prices: • Power demand drop likely • ICIS model indicates 6% drop in demand during 2020 • Price fall of 9% across Europe A scenario where power demand drops one-tenth through up to June as a result of measures taken to slow the spread of the coronavirus would see power prices across European markets fall by an average 9% in 2020. xiv)Weather-driven NBP prompt upside possible in week 13: • Temperatures across NW Europe to tumble in week 14 • British local distribution zone demand to increase • EAX-NBP premium gaining Incoming cooler weather across Britain for week 14 could encourage buying across NBP prompt and near curve contracts in the coming sessions. The drop in temperatures will likely trigger a spike in heating demand which has also increased due to large numbers of people working from home to curb the spread of the coronavirus. xv)Southeast Europe braced for falling demand, bankruptcies: Eastern European and Turkish energy companies are braced for sharp drops in demand and potential bankruptcies as countries introduce emergency measures in a bid to contain the coronavirus outbreak. Although the spread of the virus is not as extensive in this region as in Italy or Spain, the impact of the emergency measures that have been taken is likely to be felt acutely because national economies are fragile. xvi)Europe on course for sharp reduction to power demand: Power sector demand across key European countries is set for a major slump over the coming weeks as countries scale-up their efforts to tackle the spread of the coronavirus. Demand in Italy, which has been hit the hardest by the outbreak, has dropped 10% compared to its five-year average for March during the second week of its nationwide lockdown. As measures to tackle the spread of the virus intensifies across other European countries, a similar drop in demand can be expected, although changes are unlikely to be uniform. xvii)China’s city gas demand steady despite coronavirus, uncertain elsewhere: The impact of the coronavirus in China has reduced but gas demand will still end March well down from 2019. City-gate gas demand has been firm but the outlook for other sectors remains a concern. xix)European gas centres set for April demand destruction: • EU-wide demand crunch could follow after lockdowns intensify • Residential demand to see brief increase before falling on warmer temperatures • LNG sellers could struggle to deliver into Europe xx)Coronavirus effects to ripple in Mexico: Mexico’s economy has perhaps never been more exposed to the global supply chains and commodity markets hit by the shocks of the coronavirus and the oil price war, but its president is losing time engaging in denial and political pandering. These will not help his party’s 2021 election prospects if the country’s economic performance falls further as its currency takes a beating amid capital flight. xxi)China’s gas demand rebounds – satellite data: Emissions of nitrogen dioxide are on the rise in China. This is an indication that economic activity is rising as businesses and industry ramp up activity with the coronavirus impact subsiding. xxii)Spanish virus to impact LNG imports: Spain is home to one third of Europe’s LNG import capacity, so a lockdown has the potential to further gum up the global LNG supply chain if, as seems likely, it leads to a drop in demand for gas and a reduced ability to support scheduled imports. xxiii)European nuclear plant operators gear up to ensure power supply: European nuclear power availability is expected to remain robust with strict safety measures already being implemented by the major plant operators amid the coronavirus outbreak. xxiv)Bulgarian power traders call for nuclear maintenance change: Bulgaria’s free energy market association ASEP has called for measures to tackle national power market disruption due to the coronavirus outbreak on 16 March. xxv)Global market moves feed energy downside jitters: Heightened concerns surrounding the economic fall-out from the coronavirus is set to further weigh on European energy markets, traders say. xxvi)Coronavirus likely to lower trader appetite for risk: Widespread remote working due to the coronavirus is set to hit European natural gas and power liquidity, according to traders. A number of firms have already asked traders to work from home or are expected to do so. While some trading activities around gas and power dispatching need to be done from a trading floor, most other tasks can be done from home. However, traders indicated it is unlikely to be business as normal with participants increasingly risk averse away from an office environment. xxvii)Italian gas demand plunges on coronavirus restrictions: The coronavirus outbreak took a toll on Italian gas demand in week 11 as the government extended nationwide restrictions against the spread of the virus. If restrictions continue, demand and gas prices are likely to fall further as warmer temperatures follow spring, pressuring consumption for heating. Power prices are also expected to plunge on the back of weaker gas. Gas is Italy’s main source for power generation and the marginal fuel, therefore a price maker for Italian power. xxviii)Expect weakness in Chinese summer gas demand: • Coronavirus impact on LPG to worsen • China’s big three will have sought some LNG volume deferrals as another means by which to deal with the mounting oversupply • Incremental demand for gas and LNG this summer will be unusually low xxix)Coronavirus fails to pull down Italian power demand significantly: The Italian wholesale electricity market has so far avoided major losses following the outbreak of the Coronavirus in the country, the strongest so far across Europe. Blackcoffer Insights 17:- Harsh Arya, Ajay Kumar Garg Engineering College(UP)  \n",
      " As the coronavirus spreads around the world and countries implement containment measures energy supply and demand is being disrupted The impact that countrywide lockdowns and demand slowdowns will have on energy markets will be evolving every day Impact on energy markets are iSlump in wind expansion may support German power prices The recent slump in German wind capacity is likely to continue this year as complicated regulations and weakness in the global economic outlook due to the coronavirus are likely to dampen investment in the renewable technology This has the potential to restrict future additions to wind output impacting supply and in turn supporting power prices iiChinese industrial gas demand remains weak in March Chinese natural gas demand from the industrial sector in March was down by almost 25 year on year according to the Chongqing Gas and Petroleum Exchange released over Easter as the impact of the coronavirus continued to weigh on consumption iiiReduced energy offtake likely to hit UK suppliers A growing number of British energy suppliers could be at risk of colllapsing through reduced energy offtake and cashflow constraints amid the coronavirus pandemic according to industry sources polled by ICIS ivBreakdown of European power demand impact  Power consumption continued to soften across key European demand centres through March and the first week of April while less stringent measures and colder weather has sheltered other parts of Europe vBrexit set to ensure EU 2020 renewable goals While the coronavirus outbreak is already having a significant impact on the European renewables sector one unintended consequence of the pandemic is likely to be the achievement of EU and member state binding renewable energy targets for 2020 This is due to the consequences of a prolonged downturn in demand which will not be normalised for by the EU’s official statistics office Eurostat meaning that renewables look set to make up a higher share of consumption in 2020 across the EU viSpanish prices stay bearish but premium to France to persist Spanish power prices across the curve are expected to maintain a bearish trajectory throughout the nationwide coronavirus lockdown period which was recently extended until 26 April with further extensions possible Nevertheless forecasts for belowaverage wind generation would support Spanish spot prices allowing France to continue exporting power to Spain This in turn should keep Spanish nearcurve contracts at a premium to their French equivalents viiCoronavirus hits truckloaded LNG demand Market sources have indicated the coronavirus has reduced demand for truckloaded LNG around Europe as countries have implemented lockdown measures and low oil prices have made gas less competitive as a transport fuel Data from terminals in northwest Europe shows the impact has not been as significant as originally thought viiiEurope has found a coronavirus electricity demand floor Electricity consumption has leveled out in Germany France and Italy after falling for several weeks due to restrictions aimed at stemming the spread of the coronavirus But in Great Britain and Spain demand has continued to drop week on week in recent days according to an ICIS model that controls for the impact of temperature across Europe’s five largest consumers of electricity ixEuropean power and carbon markets affected by COVID19 – an early impact assessment In order to assess the fundamental impact of COVID19 on European power and carbon markets we modelled a scenario in which we accounted for the first data on dropping electricity demand as well as assumed industry production cuts and continued travel restrictions xIndia defers on LNG cargoes as lockdown ramps up India buyers are deferring LNG cargoes as ports close operations with strict lockdowns in place This is a concern for sellers in a long market with India one of the key buyers xiEU to reach 2020 renewables goals on coronavirus Brexit The combination of Brexit and lower demand associated with the coronavirus pandemic should enable the EU as a whole as well as many member states to reach their 2020 renewable targets according to ICIS model run xiiEuropean power markets yet to hit coronavirus demand floor European power demand will continue to drop as governments escalate measures to stem the spread of the coronavirus Electricity consumption in Italy and France fell 16 below expectations over the past seven days according to an ICIS model that controls for the impact of temperatures Three other major power markets studied by ICIS – Germany Spain and the UK – have seen smaller drops although all are trending down xiiiVirus demand hit to wipe 9 off 2020 European power prices • Power demand drop likely • ICIS model indicates 6 drop in demand during 2020 • Price fall of 9 across Europe A scenario where power demand drops onetenth through up to June as a result of measures taken to slow the spread of the coronavirus would see power prices across European markets fall by an average 9 in 2020 xivWeatherdriven NBP prompt upside possible in week 13 • Temperatures across NW Europe to tumble in week 14 • British local distribution zone demand to increase • EAXNBP premium gaining Incoming cooler weather across Britain for week 14 could encourage buying across NBP prompt and near curve contracts in the coming sessions The drop in temperatures will likely trigger a spike in heating demand which has also increased due to large numbers of people working from home to curb the spread of the coronavirus xvSoutheast Europe braced for falling demand bankruptcies Eastern European and Turkish energy companies are braced for sharp drops in demand and potential bankruptcies as countries introduce emergency measures in a bid to contain the coronavirus outbreak Although the spread of the virus is not as extensive in this region as in Italy or Spain the impact of the emergency measures that have been taken is likely to be felt acutely because national economies are fragile xviEurope on course for sharp reduction to power demand Power sector demand across key European countries is set for a major slump over the coming weeks as countries scaleup their efforts to tackle the spread of the coronavirus Demand in Italy which has been hit the hardest by the outbreak has dropped 10 compared to its fiveyear average for March during the second week of its nationwide lockdown As measures to tackle the spread of the virus intensifies across other European countries a similar drop in demand can be expected although changes are unlikely to be uniform xviiChina’s city gas demand steady despite coronavirus uncertain elsewhere The impact of the coronavirus in China has reduced but gas demand will still end March well down from 2019 Citygate gas demand has been firm but the outlook for other sectors remains a concern xixEuropean gas centres set for April demand destruction • EUwide demand crunch could follow after lockdowns intensify • Residential demand to see brief increase before falling on warmer temperatures • LNG sellers could struggle to deliver into Europe xxCoronavirus effects to ripple in Mexico Mexico’s economy has perhaps never been more exposed to the global supply chains and commodity markets hit by the shocks of the coronavirus and the oil price war but its president is losing time engaging in denial and political pandering These will not help his party’s 2021 election prospects if the country’s economic performance falls further as its currency takes a beating amid capital flight xxiChina’s gas demand rebounds – satellite data Emissions of nitrogen dioxide are on the rise in China This is an indication that economic activity is rising as businesses and industry ramp up activity with the coronavirus impact subsiding xxiiSpanish virus to impact LNG imports Spain is home to one third of Europe’s LNG import capacity so a lockdown has the potential to further gum up the global LNG supply chain if as seems likely it leads to a drop in demand for gas and a reduced ability to support scheduled imports xxiiiEuropean nuclear plant operators gear up to ensure power supply European nuclear power availability is expected to remain robust with strict safety measures already being implemented by the major plant operators amid the coronavirus outbreak xxivBulgarian power traders call for nuclear maintenance change Bulgaria’s free energy market association ASEP has called for measures to tackle national power market disruption due to the coronavirus outbreak on 16 March xxvGlobal market moves feed energy downside jitters Heightened concerns surrounding the economic fallout from the coronavirus is set to further weigh on European energy markets traders say xxviCoronavirus likely to lower trader appetite for risk Widespread remote working due to the coronavirus is set to hit European natural gas and power liquidity according to traders A number of firms have already asked traders to work from home or are expected to do so While some trading activities around gas and power dispatching need to be done from a trading floor most other tasks can be done from home However traders indicated it is unlikely to be business as normal with participants increasingly risk averse away from an office environment xxviiItalian gas demand plunges on coronavirus restrictions The coronavirus outbreak took a toll on Italian gas demand in week 11 as the government extended nationwide restrictions against the spread of the virus If restrictions continue demand and gas prices are likely to fall further as warmer temperatures follow spring pressuring consumption for heating Power prices are also expected to plunge on the back of weaker gas Gas is Italy’s main source for power generation and the marginal fuel therefore a price maker for Italian power xxviiiExpect weakness in Chinese summer gas demand • Coronavirus impact on LPG to worsen • China’s big three will have sought some LNG volume deferrals as another means by which to deal with the mounting oversupply • Incremental demand for gas and LNG this summer will be unusually low xxixCoronavirus fails to pull down Italian power demand significantly The Italian wholesale electricity market has so far avoided major losses following the outbreak of the Coronavirus in the country the strongest so far across Europe Blackcoffer Insights 17 Harsh Arya Ajay Kumar Garg Engineering CollegeUP  \n",
      "['As', 'the', 'coronavirus', 'spreads', 'around', 'the', 'world', 'and', 'countries', 'implement', 'containment', 'measures', 'energy', 'supply', 'and', 'demand', 'is', 'being', 'disrupted', 'The', 'impact', 'that', 'countrywide', 'lockdowns', 'and', 'demand', 'slowdowns', 'will', 'have', 'on', 'energy', 'markets', 'will', 'be', 'evolving', 'every', 'day', 'Impact', 'on', 'energy', 'markets', 'are', 'iSlump', 'in', 'wind', 'expansion', 'may', 'support', 'German', 'power', 'prices', 'The', 'recent', 'slump', 'in', 'German', 'wind', 'capacity', 'is', 'likely', 'to', 'continue', 'this', 'year', 'as', 'complicated', 'regulations', 'and', 'weakness', 'in', 'the', 'global', 'economic', 'outlook', 'due', 'to', 'the', 'coronavirus', 'are', 'likely', 'to', 'dampen', 'investment', 'in', 'the', 'renewable', 'technology', 'This', 'has', 'the', 'potential', 'to', 'restrict', 'future', 'additions', 'to', 'wind', 'output', 'impacting', 'supply', 'and', 'in', 'turn', 'supporting', 'power', 'prices', 'iiChinese', 'industrial', 'gas', 'demand', 'remains', 'weak', 'in', 'March', 'Chinese', 'natural', 'gas', 'demand', 'from', 'the', 'industrial', 'sector', 'in', 'March', 'was', 'down', 'by', 'almost', '25', 'year', 'on', 'year', 'according', 'to', 'the', 'Chongqing', 'Gas', 'and', 'Petroleum', 'Exchange', 'released', 'over', 'Easter', 'as', 'the', 'impact', 'of', 'the', 'coronavirus', 'continued', 'to', 'weigh', 'on', 'consumption', 'iiiReduced', 'energy', 'offtake', 'likely', 'to', 'hit', 'UK', 'suppliers', 'A', 'growing', 'number', 'of', 'British', 'energy', 'suppliers', 'could', 'be', 'at', 'risk', 'of', 'colllapsing', 'through', 'reduced', 'energy', 'offtake', 'and', 'cashflow', 'constraints', 'amid', 'the', 'coronavirus', 'pandemic', 'according', 'to', 'industry', 'sources', 'polled', 'by', 'ICIS', 'ivBreakdown', 'of', 'European', 'power', 'demand', 'impact', 'Power', 'consumption', 'continued', 'to', 'soften', 'across', 'key', 'European', 'demand', 'centres', 'through', 'March', 'and', 'the', 'first', 'week', 'of', 'April', 'while', 'less', 'stringent', 'measures', 'and', 'colder', 'weather', 'has', 'sheltered', 'other', 'parts', 'of', 'Europe', 'vBrexit', 'set', 'to', 'ensure', 'EU', '2020', 'renewable', 'goals', 'While', 'the', 'coronavirus', 'outbreak', 'is', 'already', 'having', 'a', 'significant', 'impact', 'on', 'the', 'European', 'renewables', 'sector', 'one', 'unintended', 'consequence', 'of', 'the', 'pandemic', 'is', 'likely', 'to', 'be', 'the', 'achievement', 'of', 'EU', 'and', 'member', 'state', 'binding', 'renewable', 'energy', 'targets', 'for', '2020', 'This', 'is', 'due', 'to', 'the', 'consequences', 'of', 'a', 'prolonged', 'downturn', 'in', 'demand', 'which', 'will', 'not', 'be', 'normalised', 'for', 'by', 'the', 'EU’s', 'official', 'statistics', 'office', 'Eurostat', 'meaning', 'that', 'renewables', 'look', 'set', 'to', 'make', 'up', 'a', 'higher', 'share', 'of', 'consumption', 'in', '2020', 'across', 'the', 'EU', 'viSpanish', 'prices', 'stay', 'bearish', 'but', 'premium', 'to', 'France', 'to', 'persist', 'Spanish', 'power', 'prices', 'across', 'the', 'curve', 'are', 'expected', 'to', 'maintain', 'a', 'bearish', 'trajectory', 'throughout', 'the', 'nationwide', 'coronavirus', 'lockdown', 'period', 'which', 'was', 'recently', 'extended', 'until', '26', 'April', 'with', 'further', 'extensions', 'possible', 'Nevertheless', 'forecasts', 'for', 'belowaverage', 'wind', 'generation', 'would', 'support', 'Spanish', 'spot', 'prices', 'allowing', 'France', 'to', 'continue', 'exporting', 'power', 'to', 'Spain', 'This', 'in', 'turn', 'should', 'keep', 'Spanish', 'nearcurve', 'contracts', 'at', 'a', 'premium', 'to', 'their', 'French', 'equivalents', 'viiCoronavirus', 'hits', 'truckloaded', 'LNG', 'demand', 'Market', 'sources', 'have', 'indicated', 'the', 'coronavirus', 'has', 'reduced', 'demand', 'for', 'truckloaded', 'LNG', 'around', 'Europe', 'as', 'countries', 'have', 'implemented', 'lockdown', 'measures', 'and', 'low', 'oil', 'prices', 'have', 'made', 'gas', 'less', 'competitive', 'as', 'a', 'transport', 'fuel', 'Data', 'from', 'terminals', 'in', 'northwest', 'Europe', 'shows', 'the', 'impact', 'has', 'not', 'been', 'as', 'significant', 'as', 'originally', 'thought', 'viiiEurope', 'has', 'found', 'a', 'coronavirus', 'electricity', 'demand', 'floor', 'Electricity', 'consumption', 'has', 'leveled', 'out', 'in', 'Germany', 'France', 'and', 'Italy', 'after', 'falling', 'for', 'several', 'weeks', 'due', 'to', 'restrictions', 'aimed', 'at', 'stemming', 'the', 'spread', 'of', 'the', 'coronavirus', 'But', 'in', 'Great', 'Britain', 'and', 'Spain', 'demand', 'has', 'continued', 'to', 'drop', 'week', 'on', 'week', 'in', 'recent', 'days', 'according', 'to', 'an', 'ICIS', 'model', 'that', 'controls', 'for', 'the', 'impact', 'of', 'temperature', 'across', 'Europe’s', 'five', 'largest', 'consumers', 'of', 'electricity', 'ixEuropean', 'power', 'and', 'carbon', 'markets', 'affected', 'by', 'COVID19', '–', 'an', 'early', 'impact', 'assessment', 'In', 'order', 'to', 'assess', 'the', 'fundamental', 'impact', 'of', 'COVID19', 'on', 'European', 'power', 'and', 'carbon', 'markets', 'we', 'modelled', 'a', 'scenario', 'in', 'which', 'we', 'accounted', 'for', 'the', 'first', 'data', 'on', 'dropping', 'electricity', 'demand', 'as', 'well', 'as', 'assumed', 'industry', 'production', 'cuts', 'and', 'continued', 'travel', 'restrictions', 'xIndia', 'defers', 'on', 'LNG', 'cargoes', 'as', 'lockdown', 'ramps', 'up', 'India', 'buyers', 'are', 'deferring', 'LNG', 'cargoes', 'as', 'ports', 'close', 'operations', 'with', 'strict', 'lockdowns', 'in', 'place', 'This', 'is', 'a', 'concern', 'for', 'sellers', 'in', 'a', 'long', 'market', 'with', 'India', 'one', 'of', 'the', 'key', 'buyers', 'xiEU', 'to', 'reach', '2020', 'renewables', 'goals', 'on', 'coronavirus', 'Brexit', 'The', 'combination', 'of', 'Brexit', 'and', 'lower', 'demand', 'associated', 'with', 'the', 'coronavirus', 'pandemic', 'should', 'enable', 'the', 'EU', 'as', 'a', 'whole', 'as', 'well', 'as', 'many', 'member', 'states', 'to', 'reach', 'their', '2020', 'renewable', 'targets', 'according', 'to', 'ICIS', 'model', 'run', 'xiiEuropean', 'power', 'markets', 'yet', 'to', 'hit', 'coronavirus', 'demand', 'floor', 'European', 'power', 'demand', 'will', 'continue', 'to', 'drop', 'as', 'governments', 'escalate', 'measures', 'to', 'stem', 'the', 'spread', 'of', 'the', 'coronavirus', 'Electricity', 'consumption', 'in', 'Italy', 'and', 'France', 'fell', '16', 'below', 'expectations', 'over', 'the', 'past', 'seven', 'days', 'according', 'to', 'an', 'ICIS', 'model', 'that', 'controls', 'for', 'the', 'impact', 'of', 'temperatures', 'Three', 'other', 'major', 'power', 'markets', 'studied', 'by', 'ICIS', '–', 'Germany', 'Spain', 'and', 'the', 'UK', '–', 'have', 'seen', 'smaller', 'drops', 'although', 'all', 'are', 'trending', 'down', 'xiiiVirus', 'demand', 'hit', 'to', 'wipe', '9', 'off', '2020', 'European', 'power', 'prices', '•', 'Power', 'demand', 'drop', 'likely', '•', 'ICIS', 'model', 'indicates', '6', 'drop', 'in', 'demand', 'during', '2020', '•', 'Price', 'fall', 'of', '9', 'across', 'Europe', 'A', 'scenario', 'where', 'power', 'demand', 'drops', 'onetenth', 'through', 'up', 'to', 'June', 'as', 'a', 'result', 'of', 'measures', 'taken', 'to', 'slow', 'the', 'spread', 'of', 'the', 'coronavirus', 'would', 'see', 'power', 'prices', 'across', 'European', 'markets', 'fall', 'by', 'an', 'average', '9', 'in', '2020', 'xivWeatherdriven', 'NBP', 'prompt', 'upside', 'possible', 'in', 'week', '13', '•', 'Temperatures', 'across', 'NW', 'Europe', 'to', 'tumble', 'in', 'week', '14', '•', 'British', 'local', 'distribution', 'zone', 'demand', 'to', 'increase', '•', 'EAXNBP', 'premium', 'gaining', 'Incoming', 'cooler', 'weather', 'across', 'Britain', 'for', 'week', '14', 'could', 'encourage', 'buying', 'across', 'NBP', 'prompt', 'and', 'near', 'curve', 'contracts', 'in', 'the', 'coming', 'sessions', 'The', 'drop', 'in', 'temperatures', 'will', 'likely', 'trigger', 'a', 'spike', 'in', 'heating', 'demand', 'which', 'has', 'also', 'increased', 'due', 'to', 'large', 'numbers', 'of', 'people', 'working', 'from', 'home', 'to', 'curb', 'the', 'spread', 'of', 'the', 'coronavirus', 'xvSoutheast', 'Europe', 'braced', 'for', 'falling', 'demand', 'bankruptcies', 'Eastern', 'European', 'and', 'Turkish', 'energy', 'companies', 'are', 'braced', 'for', 'sharp', 'drops', 'in', 'demand', 'and', 'potential', 'bankruptcies', 'as', 'countries', 'introduce', 'emergency', 'measures', 'in', 'a', 'bid', 'to', 'contain', 'the', 'coronavirus', 'outbreak', 'Although', 'the', 'spread', 'of', 'the', 'virus', 'is', 'not', 'as', 'extensive', 'in', 'this', 'region', 'as', 'in', 'Italy', 'or', 'Spain', 'the', 'impact', 'of', 'the', 'emergency', 'measures', 'that', 'have', 'been', 'taken', 'is', 'likely', 'to', 'be', 'felt', 'acutely', 'because', 'national', 'economies', 'are', 'fragile', 'xviEurope', 'on', 'course', 'for', 'sharp', 'reduction', 'to', 'power', 'demand', 'Power', 'sector', 'demand', 'across', 'key', 'European', 'countries', 'is', 'set', 'for', 'a', 'major', 'slump', 'over', 'the', 'coming', 'weeks', 'as', 'countries', 'scaleup', 'their', 'efforts', 'to', 'tackle', 'the', 'spread', 'of', 'the', 'coronavirus', 'Demand', 'in', 'Italy', 'which', 'has', 'been', 'hit', 'the', 'hardest', 'by', 'the', 'outbreak', 'has', 'dropped', '10', 'compared', 'to', 'its', 'fiveyear', 'average', 'for', 'March', 'during', 'the', 'second', 'week', 'of', 'its', 'nationwide', 'lockdown', 'As', 'measures', 'to', 'tackle', 'the', 'spread', 'of', 'the', 'virus', 'intensifies', 'across', 'other', 'European', 'countries', 'a', 'similar', 'drop', 'in', 'demand', 'can', 'be', 'expected', 'although', 'changes', 'are', 'unlikely', 'to', 'be', 'uniform', 'xviiChina’s', 'city', 'gas', 'demand', 'steady', 'despite', 'coronavirus', 'uncertain', 'elsewhere', 'The', 'impact', 'of', 'the', 'coronavirus', 'in', 'China', 'has', 'reduced', 'but', 'gas', 'demand', 'will', 'still', 'end', 'March', 'well', 'down', 'from', '2019', 'Citygate', 'gas', 'demand', 'has', 'been', 'firm', 'but', 'the', 'outlook', 'for', 'other', 'sectors', 'remains', 'a', 'concern', 'xixEuropean', 'gas', 'centres', 'set', 'for', 'April', 'demand', 'destruction', '•', 'EUwide', 'demand', 'crunch', 'could', 'follow', 'after', 'lockdowns', 'intensify', '•', 'Residential', 'demand', 'to', 'see', 'brief', 'increase', 'before', 'falling', 'on', 'warmer', 'temperatures', '•', 'LNG', 'sellers', 'could', 'struggle', 'to', 'deliver', 'into', 'Europe', 'xxCoronavirus', 'effects', 'to', 'ripple', 'in', 'Mexico', 'Mexico’s', 'economy', 'has', 'perhaps', 'never', 'been', 'more', 'exposed', 'to', 'the', 'global', 'supply', 'chains', 'and', 'commodity', 'markets', 'hit', 'by', 'the', 'shocks', 'of', 'the', 'coronavirus', 'and', 'the', 'oil', 'price', 'war', 'but', 'its', 'president', 'is', 'losing', 'time', 'engaging', 'in', 'denial', 'and', 'political', 'pandering', 'These', 'will', 'not', 'help', 'his', 'party’s', '2021', 'election', 'prospects', 'if', 'the', 'country’s', 'economic', 'performance', 'falls', 'further', 'as', 'its', 'currency', 'takes', 'a', 'beating', 'amid', 'capital', 'flight', 'xxiChina’s', 'gas', 'demand', 'rebounds', '–', 'satellite', 'data', 'Emissions', 'of', 'nitrogen', 'dioxide', 'are', 'on', 'the', 'rise', 'in', 'China', 'This', 'is', 'an', 'indication', 'that', 'economic', 'activity', 'is', 'rising', 'as', 'businesses', 'and', 'industry', 'ramp', 'up', 'activity', 'with', 'the', 'coronavirus', 'impact', 'subsiding', 'xxiiSpanish', 'virus', 'to', 'impact', 'LNG', 'imports', 'Spain', 'is', 'home', 'to', 'one', 'third', 'of', 'Europe’s', 'LNG', 'import', 'capacity', 'so', 'a', 'lockdown', 'has', 'the', 'potential', 'to', 'further', 'gum', 'up', 'the', 'global', 'LNG', 'supply', 'chain', 'if', 'as', 'seems', 'likely', 'it', 'leads', 'to', 'a', 'drop', 'in', 'demand', 'for', 'gas', 'and', 'a', 'reduced', 'ability', 'to', 'support', 'scheduled', 'imports', 'xxiiiEuropean', 'nuclear', 'plant', 'operators', 'gear', 'up', 'to', 'ensure', 'power', 'supply', 'European', 'nuclear', 'power', 'availability', 'is', 'expected', 'to', 'remain', 'robust', 'with', 'strict', 'safety', 'measures', 'already', 'being', 'implemented', 'by', 'the', 'major', 'plant', 'operators', 'amid', 'the', 'coronavirus', 'outbreak', 'xxivBulgarian', 'power', 'traders', 'call', 'for', 'nuclear', 'maintenance', 'change', 'Bulgaria’s', 'free', 'energy', 'market', 'association', 'ASEP', 'has', 'called', 'for', 'measures', 'to', 'tackle', 'national', 'power', 'market', 'disruption', 'due', 'to', 'the', 'coronavirus', 'outbreak', 'on', '16', 'March', 'xxvGlobal', 'market', 'moves', 'feed', 'energy', 'downside', 'jitters', 'Heightened', 'concerns', 'surrounding', 'the', 'economic', 'fallout', 'from', 'the', 'coronavirus', 'is', 'set', 'to', 'further', 'weigh', 'on', 'European', 'energy', 'markets', 'traders', 'say', 'xxviCoronavirus', 'likely', 'to', 'lower', 'trader', 'appetite', 'for', 'risk', 'Widespread', 'remote', 'working', 'due', 'to', 'the', 'coronavirus', 'is', 'set', 'to', 'hit', 'European', 'natural', 'gas', 'and', 'power', 'liquidity', 'according', 'to', 'traders', 'A', 'number', 'of', 'firms', 'have', 'already', 'asked', 'traders', 'to', 'work', 'from', 'home', 'or', 'are', 'expected', 'to', 'do', 'so', 'While', 'some', 'trading', 'activities', 'around', 'gas', 'and', 'power', 'dispatching', 'need', 'to', 'be', 'done', 'from', 'a', 'trading', 'floor', 'most', 'other', 'tasks', 'can', 'be', 'done', 'from', 'home', 'However', 'traders', 'indicated', 'it', 'is', 'unlikely', 'to', 'be', 'business', 'as', 'normal', 'with', 'participants', 'increasingly', 'risk', 'averse', 'away', 'from', 'an', 'office', 'environment', 'xxviiItalian', 'gas', 'demand', 'plunges', 'on', 'coronavirus', 'restrictions', 'The', 'coronavirus', 'outbreak', 'took', 'a', 'toll', 'on', 'Italian', 'gas', 'demand', 'in', 'week', '11', 'as', 'the', 'government', 'extended', 'nationwide', 'restrictions', 'against', 'the', 'spread', 'of', 'the', 'virus', 'If', 'restrictions', 'continue', 'demand', 'and', 'gas', 'prices', 'are', 'likely', 'to', 'fall', 'further', 'as', 'warmer', 'temperatures', 'follow', 'spring', 'pressuring', 'consumption', 'for', 'heating', 'Power', 'prices', 'are', 'also', 'expected', 'to', 'plunge', 'on', 'the', 'back', 'of', 'weaker', 'gas', 'Gas', 'is', 'Italy’s', 'main', 'source', 'for', 'power', 'generation', 'and', 'the', 'marginal', 'fuel', 'therefore', 'a', 'price', 'maker', 'for', 'Italian', 'power', 'xxviiiExpect', 'weakness', 'in', 'Chinese', 'summer', 'gas', 'demand', '•', 'Coronavirus', 'impact', 'on', 'LPG', 'to', 'worsen', '•', 'China’s', 'big', 'three', 'will', 'have', 'sought', 'some', 'LNG', 'volume', 'deferrals', 'as', 'another', 'means', 'by', 'which', 'to', 'deal', 'with', 'the', 'mounting', 'oversupply', '•', 'Incremental', 'demand', 'for', 'gas', 'and', 'LNG', 'this', 'summer', 'will', 'be', 'unusually', 'low', 'xxixCoronavirus', 'fails', 'to', 'pull', 'down', 'Italian', 'power', 'demand', 'significantly', 'The', 'Italian', 'wholesale', 'electricity', 'market', 'has', 'so', 'far', 'avoided', 'major', 'losses', 'following', 'the', 'outbreak', 'of', 'the', 'Coronavirus', 'in', 'the', 'country', 'the', 'strongest', 'so', 'far', 'across', 'Europe', 'Blackcoffer', 'Insights', '17', 'Harsh', 'Arya', 'Ajay', 'Kumar', 'Garg', 'Engineering', 'CollegeUP']\n"
     ]
    }
   ],
   "source": [
    "content=soup.findAll(attrs={'class':'td-post-content'})\n",
    "content=content[0].text.replace('\\n',\" \")\n",
    "print(content)\n",
    "#Punctuation\n",
    "content = content.translate(str.maketrans('', '', string.punctuation)) \n",
    "print(content)\n",
    "text = content.split()\n",
    "print(text)\n"
   ]
  },
  {
   "cell_type": "code",
   "execution_count": 3,
   "id": "6d00be76",
   "metadata": {},
   "outputs": [
    {
     "data": {
      "text/plain": [
       "1673"
      ]
     },
     "execution_count": 3,
     "metadata": {},
     "output_type": "execute_result"
    }
   ],
   "source": [
    "len(text)"
   ]
  },
  {
   "cell_type": "code",
   "execution_count": 4,
   "id": "d45cb9e4",
   "metadata": {},
   "outputs": [
    {
     "name": "stdout",
     "output_type": "stream",
     "text": [
      "26\n"
     ]
    }
   ],
   "source": [
    "#Positive Score \n",
    "with open(r\"C:\\Users\\Om Bhandwalkar\\Desktop\\pos\\positive-words.txt\") as pos:\n",
    "    poswords = pos.read().split(\"\\n\")  \n",
    "    poswords = poswords[5:]\n",
    "pos_count = \" \".join ([w for w in text if w in poswords])\n",
    "pos_count=pos_count.split(\" \")\n",
    "Positive_score=len(pos_count)\n",
    "print(Positive_score)"
   ]
  },
  {
   "cell_type": "code",
   "execution_count": 5,
   "id": "f80fae93",
   "metadata": {},
   "outputs": [
    {
     "name": "stdout",
     "output_type": "stream",
     "text": [
      "63\n"
     ]
    }
   ],
   "source": [
    "#Negative Score\n",
    "with open(r\"C:\\Users\\Om Bhandwalkar\\Desktop\\pos\\negative-words.txt\",encoding =\"ISO-8859-1\") as neg:\n",
    "    negwords = neg.read().split(\"\\n\")\n",
    "    \n",
    "negwords = negwords[36:]\n",
    "neg_count = \" \".join ([w for w in text if w in negwords])\n",
    "neg_count=neg_count.split(\" \")\n",
    "Negative_score=len(neg_count)\n",
    "print(Negative_score)"
   ]
  },
  {
   "cell_type": "code",
   "execution_count": 6,
   "id": "a50e1f97",
   "metadata": {},
   "outputs": [
    {
     "data": {
      "text/html": [
       "<div>\n",
       "<style scoped>\n",
       "    .dataframe tbody tr th:only-of-type {\n",
       "        vertical-align: middle;\n",
       "    }\n",
       "\n",
       "    .dataframe tbody tr th {\n",
       "        vertical-align: top;\n",
       "    }\n",
       "\n",
       "    .dataframe thead th {\n",
       "        text-align: right;\n",
       "    }\n",
       "</style>\n",
       "<table border=\"1\" class=\"dataframe\">\n",
       "  <thead>\n",
       "    <tr style=\"text-align: right;\">\n",
       "      <th></th>\n",
       "      <th>url</th>\n",
       "      <th>title</th>\n",
       "      <th>content</th>\n",
       "      <th>filter_content</th>\n",
       "      <th>Positive_Score</th>\n",
       "      <th>Negative_Score</th>\n",
       "      <th>polarity</th>\n",
       "      <th>subjectivity</th>\n",
       "    </tr>\n",
       "  </thead>\n",
       "  <tbody>\n",
       "    <tr>\n",
       "      <th>0</th>\n",
       "      <td>https://insights.blackcoffer.com/coronavirus-i...</td>\n",
       "      <td>Coronavirus impact on energy markets</td>\n",
       "      <td>As the coronavirus spreads around the world a...</td>\n",
       "      <td>As the coronavirus spreads around the world an...</td>\n",
       "      <td>26</td>\n",
       "      <td>63</td>\n",
       "      <td>0.013231</td>\n",
       "      <td>0.401288</td>\n",
       "    </tr>\n",
       "  </tbody>\n",
       "</table>\n",
       "</div>"
      ],
      "text/plain": [
       "                                                 url  \\\n",
       "0  https://insights.blackcoffer.com/coronavirus-i...   \n",
       "\n",
       "                                  title  \\\n",
       "0  Coronavirus impact on energy markets   \n",
       "\n",
       "                                             content  \\\n",
       "0   As the coronavirus spreads around the world a...   \n",
       "\n",
       "                                      filter_content  Positive_Score  \\\n",
       "0  As the coronavirus spreads around the world an...              26   \n",
       "\n",
       "   Negative_Score  polarity  subjectivity  \n",
       "0              63  0.013231      0.401288  "
      ]
     },
     "execution_count": 6,
     "metadata": {},
     "output_type": "execute_result"
    }
   ],
   "source": [
    "filter_content = ' '.join(text)\n",
    "data=[[url,title,content,filter_content,Positive_score,Negative_score]]\n",
    "data=pd.DataFrame(data,columns=[\"url\",\"title\",\"content\",\"filter_content\",\"Positive_Score\",\"Negative_Score\"])\n",
    "from textblob import TextBlob\n",
    "# Get The Subjectivity\n",
    "def sentiment_analysis(data):\n",
    "    sentiment = TextBlob(data[\"content\"]).sentiment\n",
    "    return pd.Series([sentiment.polarity,sentiment.subjectivity ])\n",
    "\n",
    "# Adding Subjectivity & Polarity\n",
    "data[[\"polarity\", \"subjectivity\"]] = data.apply(sentiment_analysis, axis=1)\n",
    "\n",
    "data"
   ]
  },
  {
   "cell_type": "code",
   "execution_count": 7,
   "id": "888d3079",
   "metadata": {},
   "outputs": [
    {
     "name": "stdout",
     "output_type": "stream",
     "text": [
      "Word average = 8785.0\n",
      "FOG INDEX =  666.52\n",
      "Average no of words per sentence\n",
      "1673.0\n",
      "Complex Words 3058\n"
     ]
    }
   ],
   "source": [
    "#AVG SENTENCE LENGTH\n",
    "AVG_SENTENCE_LENGTH = len(content.replace(' ',''))/len(re.split(r'[?!.]', content))\n",
    "print('Word average =', AVG_SENTENCE_LENGTH)\n",
    "import textstat\n",
    "#Fog index \n",
    "FOG_INDEX=(textstat.gunning_fog(content))\n",
    "print(\"FOG INDEX = \",FOG_INDEX)\n",
    "#Average No of Words Per Sentence \n",
    "AVG_NUMBER_OF_WORDS_PER_SENTENCE = [len(l.split()) for l in re.split(r'[?!.]', content) if l.strip()]\n",
    "print(\"Average no of words per sentence\")\n",
    "AVG_NUMBER_OF_WORDS_PER_SENTENCE=print(sum(AVG_NUMBER_OF_WORDS_PER_SENTENCE)/len(AVG_NUMBER_OF_WORDS_PER_SENTENCE))\n",
    "#Complex words\n",
    "def syllable_count(word):\n",
    "    count = 0\n",
    "    vowels = \"AEIOUYaeiouy\"\n",
    "    if word[0] in vowels:\n",
    "        count += 1\n",
    "    for index in range(1, len(word)): \n",
    "        if word[index] in vowels and word[index - 1] not in vowels:\n",
    "            count += 1\n",
    "            if word.endswith(\"es\"or \"ed\"):\n",
    "                count -= 1\n",
    "    if count == 0:\n",
    "        count += 1\n",
    "    return count\n",
    "\n",
    "\n",
    "\n",
    "COMPLEX_WORDS=syllable_count(content)\n",
    "print(\"Complex Words\",COMPLEX_WORDS)\n"
   ]
  },
  {
   "cell_type": "code",
   "execution_count": 8,
   "id": "88c81ce7",
   "metadata": {},
   "outputs": [
    {
     "name": "stdout",
     "output_type": "stream",
     "text": [
      "Word Count 10416\n",
      "Percentage of Complex Words 29.35867895545315\n",
      "Average Word per Length 5.2510460251046025\n",
      "The AVG number of syllables in the word is: \n",
      "2.071129707112971\n",
      "Word Count 10416\n",
      "Percentage of Complex Words 29.35867895545315\n",
      "Average Word per Length 5.2510460251046025\n",
      "The AVG number of syllables in the word is: \n",
      "2.071129707112971\n"
     ]
    }
   ],
   "source": [
    "#Word Count\n",
    "Word_Count=len(content)\n",
    "print(\"Word Count\",Word_Count)\n",
    "#Percentage Complex Words\n",
    "pcw=(COMPLEX_WORDS/Word_Count)*100\n",
    "print(\"Percentage of Complex Words\",pcw)\n",
    "#Average Word Length\n",
    "Average_Word_Length=len(content.replace(' ',''))/len(content.split())\n",
    "print(\"Average Word per Length\",Average_Word_Length)\n",
    "#Syllable Count Per Word\n",
    "word=content.replace(' ','')\n",
    "syllable_count=0\n",
    "for w in word:\n",
    "      if(w=='a' or w=='e' or w=='i' or w=='o' or w=='y' or w=='u' or w=='A' or w=='E' or w=='I' or w=='O' or w=='U' or w=='Y'):\n",
    "            syllable_count=syllable_count+1\n",
    "print(\"The AVG number of syllables in the word is: \")\n",
    "print(syllable_count/len(content.split()))#Word Count\n",
    "Word_Count=len(content)\n",
    "print(\"Word Count\",Word_Count)\n",
    "#Percentage Complex Words\n",
    "pcw=(COMPLEX_WORDS/Word_Count)*100\n",
    "print(\"Percentage of Complex Words\",pcw)\n",
    "#Average Word Length\n",
    "Average_Word_Length=len(content.replace(' ',''))/len(content.split())\n",
    "print(\"Average Word per Length\",Average_Word_Length)\n",
    "#Syllable Count Per Word\n",
    "word=content.replace(' ','')\n",
    "syllable_count=0\n",
    "for w in word:\n",
    "      if(w=='a' or w=='e' or w=='i' or w=='o' or w=='y' or w=='u' or w=='A' or w=='E' or w=='I' or w=='O' or w=='U' or w=='Y'):\n",
    "            syllable_count=syllable_count+1\n",
    "print(\"The AVG number of syllables in the word is: \")\n",
    "print(syllable_count/len(content.split()))"
   ]
  },
  {
   "cell_type": "code",
   "execution_count": 1,
   "id": "b244b6aa",
   "metadata": {},
   "outputs": [
    {
     "name": "stdout",
     "output_type": "stream",
     "text": [
      "26\n",
      "63\n",
      "Word average = 8785.0\n",
      "FOG INDEX =  666.52\n",
      "Average no of words per sentence\n",
      "1673.0\n",
      "Complex Words 3058\n",
      "Word Count 10417\n",
      "Percentage of Complex Words 29.3558606124604\n",
      "Average Word per Length 5.2510460251046025\n",
      "The AVG number of syllables in the word is: \n",
      "2.071129707112971\n"
     ]
    },
    {
     "data": {
      "text/html": [
       "<div>\n",
       "<style scoped>\n",
       "    .dataframe tbody tr th:only-of-type {\n",
       "        vertical-align: middle;\n",
       "    }\n",
       "\n",
       "    .dataframe tbody tr th {\n",
       "        vertical-align: top;\n",
       "    }\n",
       "\n",
       "    .dataframe thead th {\n",
       "        text-align: right;\n",
       "    }\n",
       "</style>\n",
       "<table border=\"1\" class=\"dataframe\">\n",
       "  <thead>\n",
       "    <tr style=\"text-align: right;\">\n",
       "      <th></th>\n",
       "      <th>url</th>\n",
       "      <th>title</th>\n",
       "      <th>content</th>\n",
       "      <th>filter_content</th>\n",
       "      <th>Positive_Score</th>\n",
       "      <th>Negative_Score</th>\n",
       "      <th>Avg_Sentence_Length</th>\n",
       "      <th>Percentage_Complex_Word</th>\n",
       "      <th>Fog_Index</th>\n",
       "      <th>AVG_NUMBER_OF_WORDS_PER_SENTENCE</th>\n",
       "      <th>COMPLEX_WORDS</th>\n",
       "      <th>Word_Count</th>\n",
       "      <th>syllable</th>\n",
       "      <th>Average_Word_Length</th>\n",
       "      <th>polarity</th>\n",
       "      <th>subjectivity</th>\n",
       "    </tr>\n",
       "  </thead>\n",
       "  <tbody>\n",
       "    <tr>\n",
       "      <th>0</th>\n",
       "      <td>https://insights.blackcoffer.com/coronavirus-i...</td>\n",
       "      <td>Coronavirus impact on energy markets</td>\n",
       "      <td>As the coronavirus spreads around the world ...</td>\n",
       "      <td>As the coronavirus spreads around the world an...</td>\n",
       "      <td>26</td>\n",
       "      <td>63</td>\n",
       "      <td>8785.0</td>\n",
       "      <td>29.355861</td>\n",
       "      <td>666.52</td>\n",
       "      <td>1673.0</td>\n",
       "      <td>3058</td>\n",
       "      <td>10417</td>\n",
       "      <td>2.07113</td>\n",
       "      <td>5.251046</td>\n",
       "      <td>0.013231</td>\n",
       "      <td>0.401288</td>\n",
       "    </tr>\n",
       "  </tbody>\n",
       "</table>\n",
       "</div>"
      ],
      "text/plain": [
       "                                                 url  \\\n",
       "0  https://insights.blackcoffer.com/coronavirus-i...   \n",
       "\n",
       "                                  title  \\\n",
       "0  Coronavirus impact on energy markets   \n",
       "\n",
       "                                             content  \\\n",
       "0    As the coronavirus spreads around the world ...   \n",
       "\n",
       "                                      filter_content  Positive_Score  \\\n",
       "0  As the coronavirus spreads around the world an...              26   \n",
       "\n",
       "   Negative_Score  Avg_Sentence_Length  Percentage_Complex_Word  Fog_Index  \\\n",
       "0              63               8785.0                29.355861     666.52   \n",
       "\n",
       "    AVG_NUMBER_OF_WORDS_PER_SENTENCE  COMPLEX_WORDS  Word_Count  syllable  \\\n",
       "0                             1673.0           3058       10417   2.07113   \n",
       "\n",
       "   Average_Word_Length  polarity  subjectivity  \n",
       "0             5.251046  0.013231      0.401288  "
      ]
     },
     "execution_count": 1,
     "metadata": {},
     "output_type": "execute_result"
    }
   ],
   "source": [
    "import requests\n",
    "import pandas as pd \n",
    "from bs4 import BeautifulSoup\n",
    "import string\n",
    "import spacy\n",
    "import re\n",
    "url = \"\"\"https://insights.blackcoffer.com/coronavirus-impact-on-energy-markets/\"\"\"\n",
    "headers = {\"User-Agent\": \"Mozilla/5.0 (X11; Linux x86_64; rv:60.0) Gecko/20100101 Firefox/60.0\"}\n",
    "page = requests.get(url, headers=headers)\n",
    "soup = BeautifulSoup(page.content, 'html.parser')\n",
    "soup=BeautifulSoup(page.content, 'html.parser')\n",
    "title=soup.find('h1',class_=\"entry-title\")\n",
    "title=title.text.replace('\\n',\" \")\n",
    "# title\n",
    "\n",
    "content=soup.findAll(attrs={'class':'td-post-content'})\n",
    "content=content[0].text.replace('\\n',\" \")\n",
    "# print(content)\n",
    "#Punctuation\n",
    "content = content.translate(str.maketrans('', '', string.punctuation)) \n",
    "# print(content)\n",
    "text = content.split()\n",
    "# print(text)\n",
    "len(text)\n",
    "#Positive Score \n",
    "with open(r\"C:\\Users\\Om Bhandwalkar\\Desktop\\pos\\positive-words.txt\") as pos:\n",
    "    poswords = pos.read().split(\"\\n\")  \n",
    "    poswords = poswords[5:]\n",
    "pos_count = \" \".join ([w for w in text if w in poswords])\n",
    "pos_count=pos_count.split(\" \")\n",
    "Positive_score=len(pos_count)\n",
    "print(Positive_score)\n",
    "\n",
    "#Negative Score\n",
    "with open(r\"C:\\Users\\Om Bhandwalkar\\Desktop\\pos\\negative-words.txt\",encoding =\"ISO-8859-1\") as neg:\n",
    "    negwords = neg.read().split(\"\\n\")\n",
    "    \n",
    "negwords = negwords[36:]\n",
    "neg_count = \" \".join ([w for w in text if w in negwords])\n",
    "neg_count=neg_count.split(\" \")\n",
    "Negative_score=len(neg_count)\n",
    "print(Negative_score)\n",
    "\n",
    "\n",
    "filter_content = ' '.join(text)\n",
    "data=[[url,title,content,filter_content,Positive_score,Negative_score]]\n",
    "data=pd.DataFrame(data,columns=[\"url\",\"title\",\"content\",\"filter_content\",\"Positive_Score\",\"Negative_Score\"])\n",
    "from textblob import TextBlob\n",
    "# Get The Subjectivity\n",
    "def sentiment_analysis(data):\n",
    "    sentiment = TextBlob(data[\"content\"]).sentiment\n",
    "    return pd.Series([sentiment.polarity,sentiment.subjectivity ])\n",
    "data[[\"polarity\", \"subjectivity\"]] = data.apply(sentiment_analysis, axis=1)\n",
    "data\n",
    "#AVG SENTENCE LENGTH\n",
    "AVG_SENTENCE_LENGTH = len(content.replace(' ',''))/len(re.split(r'[?!.]', content))\n",
    "print('Word average =', AVG_SENTENCE_LENGTH)\n",
    "import textstat\n",
    "#Fog index \n",
    "FOG_INDEX=(textstat.gunning_fog(content))\n",
    "print(\"FOG INDEX = \",FOG_INDEX)\n",
    "#Average No of Words Per Sentence \n",
    "AVG_NUMBER_OF_WORDS_PER_SENTENCE = [len(l.split()) for l in re.split(r'[?!.]', content) if l.strip()]\n",
    "print(\"Average no of words per sentence\")\n",
    "AVG_NUMBER_OF_WORDS_PER_SENTENCE=(sum(AVG_NUMBER_OF_WORDS_PER_SENTENCE)/len(AVG_NUMBER_OF_WORDS_PER_SENTENCE))\n",
    "print(AVG_NUMBER_OF_WORDS_PER_SENTENCE)\n",
    "#Complex words\n",
    "def syllable_count(word):\n",
    "    count = 0\n",
    "    vowels = \"AEIOUYaeiouy\"\n",
    "    if word[0] in vowels:\n",
    "        count += 1\n",
    "    for index in range(1, len(word)): \n",
    "        if word[index] in vowels and word[index - 1] not in vowels:\n",
    "            count += 1\n",
    "            if word.endswith(\"es\"or \"ed\"):\n",
    "                count -= 1\n",
    "    if count == 0:\n",
    "        count += 1\n",
    "    return count\n",
    "\n",
    "\n",
    "\n",
    "COMPLEX_WORDS=syllable_count(content)\n",
    "print(\"Complex Words\",COMPLEX_WORDS)\n",
    "#Word Count\n",
    "Word_Count=len(content)\n",
    "print(\"Word Count\",Word_Count)\n",
    "#Percentage Complex Words\n",
    "pcw=(COMPLEX_WORDS/Word_Count)*100\n",
    "print(\"Percentage of Complex Words\",pcw)\n",
    "#Average Word Length\n",
    "Average_Word_Length=len(content.replace(' ',''))/len(content.split())\n",
    "print(\"Average Word per Length\",Average_Word_Length)\n",
    "#Syllable Count Per Word\n",
    "word=content.replace(' ','')\n",
    "syllable_count=0\n",
    "for w in word:\n",
    "      if(w=='a' or w=='e' or w=='i' or w=='o' or w=='y' or w=='u' or w=='A' or w=='E' or w=='I' or w=='O' or w=='U' or w=='Y'):\n",
    "            syllable_count=syllable_count+1\n",
    "print(\"The AVG number of syllables in the word is: \")\n",
    "syllable = (syllable_count/len(content.split()))\n",
    "print(syllable)\n",
    "\n",
    "data = [[url,title,content,filter_content,Positive_score,Negative_score,AVG_SENTENCE_LENGTH,pcw,FOG_INDEX,\n",
    "         AVG_NUMBER_OF_WORDS_PER_SENTENCE,COMPLEX_WORDS,Word_Count,syllable,Average_Word_Length]]\n",
    "data=pd.DataFrame(data,columns=[\"url\",\"title\",\"content\",\"filter_content\",\"Positive_Score\",\"Negative_Score\",\"Avg_Sentence_Length\"\n",
    "                               ,\"Percentage_Complex_Word\",\"Fog_Index\",\" AVG_NUMBER_OF_WORDS_PER_SENTENCE\",\"COMPLEX_WORDS\",\n",
    "                               \"Word_Count\",\"syllable\",\"Average_Word_Length\"])\n",
    "from textblob import TextBlob\n",
    "# Get The Subjectivity\n",
    "def sentiment_analysis(data):\n",
    "    sentiment = TextBlob(data[\"content\"]).sentiment\n",
    "    return pd.Series([sentiment.polarity,sentiment.subjectivity ])\n",
    "data[[\"polarity\", \"subjectivity\"]] = data.apply(sentiment_analysis, axis=1)\n",
    "data"
   ]
  },
  {
   "cell_type": "code",
   "execution_count": 2,
   "id": "691898b0",
   "metadata": {},
   "outputs": [],
   "source": [
    "data.to_csv(r'C:\\Users\\Om Bhandwalkar\\Desktop\\BlackCoffer Assignment\\Output\\url_130.csv')"
   ]
  },
  {
   "cell_type": "code",
   "execution_count": null,
   "id": "3592ee9c",
   "metadata": {},
   "outputs": [],
   "source": []
  }
 ],
 "metadata": {
  "kernelspec": {
   "display_name": "Python 3 (ipykernel)",
   "language": "python",
   "name": "python3"
  },
  "language_info": {
   "codemirror_mode": {
    "name": "ipython",
    "version": 3
   },
   "file_extension": ".py",
   "mimetype": "text/x-python",
   "name": "python",
   "nbconvert_exporter": "python",
   "pygments_lexer": "ipython3",
   "version": "3.9.12"
  }
 },
 "nbformat": 4,
 "nbformat_minor": 5
}
