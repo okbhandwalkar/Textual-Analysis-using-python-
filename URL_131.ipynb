{
 "cells": [
  {
   "cell_type": "code",
   "execution_count": 1,
   "id": "076e8ef7",
   "metadata": {},
   "outputs": [
    {
     "data": {
      "text/plain": [
       "'What are the key policies that will mitigate the impacts of COVID-19 on the world of work?'"
      ]
     },
     "execution_count": 1,
     "metadata": {},
     "output_type": "execute_result"
    }
   ],
   "source": [
    "import requests\n",
    "import pandas as pd \n",
    "from bs4 import BeautifulSoup\n",
    "import string\n",
    "import spacy\n",
    "import re\n",
    "url = \"\"\"https://insights.blackcoffer.com/what-are-the-key-policies-that-will-mitigate-the-impacts-of-covid-19-on-the-world-of-work/\"\"\"\n",
    "headers = {\"User-Agent\": \"Mozilla/5.0 (X11; Linux x86_64; rv:60.0) Gecko/20100101 Firefox/60.0\"}\n",
    "page = requests.get(url, headers=headers)\n",
    "soup = BeautifulSoup(page.content, 'html.parser')\n",
    "soup=BeautifulSoup(page.content, 'html.parser')\n",
    "title=soup.find('h1',class_=\"entry-title\")\n",
    "title=title.text.replace('\\n',\" \")\n",
    "title\n"
   ]
  },
  {
   "cell_type": "code",
   "execution_count": 2,
   "id": "5ccc8305",
   "metadata": {},
   "outputs": [
    {
     "name": "stdout",
     "output_type": "stream",
     "text": [
      " From Alibaba to Ping An and Google to Ford, companies around the globe are telling staff to figure from directly from home in a bid to stem the spread of COVID-19. Such remote functioning at scale is unprecedented and can leave a long-lasting impression on the way people live and work for several years to return. China, which felt the primary impact of the pandemic, was an early mover during this space. As home to a number of the world’s largest firms, it offers lessons for people who are just commencing to embrace the shift. Working from home skyrocketed in China within the wake of the COVID-19 crisis as companies told their employees to remain home. Around 200 million people were working remotely by the tip of the Chinese New Year holiday. While this arrangement has some benefits, like avoiding long commutes, many employees and firms found it challenging. One employee at a web company quipped his workday changed from ‘996’ to ‘007,’ meaning from nine to nine, 6 days every week, to all or any the time. On the private front, employees found it difficult to manage kids’ home-schooling via video conference while coordinating with remote colleagues. At an organization level, many felt that productivity rapidly tailed off if not managed properly. If done right, remote working can boost productivity and morale; done badly, it can breed inefficiency, damage work relationships, and demotivate employees. These kind of things are happening due to the impacts of COVID-19 on the world of work Here are a few of the learnings from China that will be applicable around the world, looking at the circumstances:   Designing an effective structure due to the impacts of COVID-19 on the world of work   Teams or whole business units working remotely can quickly end in confusion and a scarcity of clarity. Being isolated ends up in uncertainty about who to speak to on specific issues and the way and when to approach them, resulting in hold-ups and delays. That’s why establishing a structure and architecture for deciding and effective communication is vital. Here, smaller cross-functional teams are helpful, each with a transparent mission and reporting line, where directions and tasks are easy to implement. This also simplifies onboarding new hires, who can integrate faster in a very tight-knit group, at a time when the broad sweep of the organization isn’t visible or easy to feel. With fewer in each team, there’s longer to urge to understand one another and build the trust that will grow more organically within the office. At Ping An Insurance, workers are typically grouped in project teams of, at most, 30 members, while larger business units are divided to assist them to stay agile. Strong company-wide foundations underpin this, like having a typical purpose and unified goals. Providing clarity on what decisions to escalate and which of them is tackled at the team level helps drive progress. To mitigate the consequences of closed retail stores, one leading fashion company founded a technique room and redeployed staff into four cross-functional squads to support its front-line. It designed standard ways for live broadcasting and established internal best practices to encourage front-line staff to use new retail tools to drive sales remotely.  The lesson: putting in small, cross-functional teams with clear objectives and a typical purpose keeps everyone on the identical strategic course.   Leading from afar due to impacts of COVID-19 on the world of work   Managing people is one of the foremost difficult elements of remote working, not least because everyone will respond differently to the cultural shift and challenges of the home-working environment. Leaders have to energize the entire company by setting a transparent direction and communicating it effectively. Offering a powerful vision and a sensible outlook can have a strong effect on motivation across the organization. It’s essential to foster an outcome-driven culture that empowers and holds teams answerable for getting things done while encouraging open, honest, and productive communication. Empowering your team in this way pays dividends.WeSure, a part of leading internet company Tencent, assembled a COVID-19 response team5 at the beginning of the year to supply amount, freed from charge to front-line medical workers. Alan Lau, CEO of WeSure, credited his team, saying that they had worked nonstop, many from remote locations while inactive during the Chinese New Year break, demonstrating how responsive they were to the vision. For managers, the challenge is to guide, inspire, and direct their team in their daily course of labor, while being physically remote. Upping the amount of interaction can even work well here. One chief information officer, responding to a McKinsey survey, said he’s texting the whole company with regular updates because it’s a more human way of communicating than via the official corporate channels. When working within distributed teams, e-commerce giant Alibaba increases the frequency of its one-to-one communications with employees to a weekly basis and, in some teams, members submit a weekly report for his or her colleagues, complete with plans for the week ahead. Alibaba’s productivity app DingTalk (Ding Ding) has features inbuilt to facilitate this by allowing managers to send voice-to-text messages to their teams, and to test in on progress. The lesson: Determining how you communicate is simply as important as what’s being said, and it has to be done confidently, consistently, and reliably   Instilling a caring culture   As companies transition to the new normal, it’s important to acknowledge that some employees are also facing other pressures reception, including caring for his or her children when schools are shut, resulting in feelings of isolation and insecurity. Business leaders must respect and address these additional needs. Empathy may be a crucial tool here, offering how to attach, promote inclusiveness, and make a way of community in a very barren of physical interaction. Increasing social interactions within the team, particularly through one-on-one catch-up, guards against feelings of isolation and demoralization and creates space for people to talk up and share their thoughts. By creating a way of psychological safety for his or her colleagues, being inclusive in deciding, and offering perspective in challenging moments, managers can stay closer to what’s occurring, surface issues, and help their teams solve problems effectively. A similar approach is very important when coping with customers and clients, providing valuable stability and enabling them to navigate unknown waters confidently. As an example, one global bank asked their relationship managers to attach with small-business customers via WeChat and video calls to know their situation and help them weather the crisis. To try and do so effectively at scale, the managers are supported through dedicated product programs, online articles, scripts for communicating with clients, and internal training. Inclusion is that the ultimate show of empathy. Creating outlets for sharing best practices, success stories, challenges, and water-cooler chat are significant to making a person’s connection. Giving employees space to pursue personal or social endeavors, providing a transparent span of control, and assigning meaningful tasks also can spur motivation.  The lesson: Connecting on a private level and instilling empathy within the culture is doubly important when working remotely.   Finding a new routine   Moving to remote working risks disrupting the office-based flows and rhythms and it will be easy to hit the incorrect note or miss important virtual meetings thanks to packed schedules. Spend time along with your team addressing the nuts and bolts of how you’ll work together. Cover the daily rhythm, individual constraints, and specific norms you’ll decide to and anticipate what might get it wrong and the way you’ll mitigate it. How companies plan and review their workflows has to change to reflect this. The challenges of the new working pattern and of not being in one room together will be overcome by creating a digitally facilitated cadence of meetings. One leading insurance firm adopted agile practices across its teams, with a daily and weekly ritual of check-ins, sprint planning, and review sessions. As Alibaba embraced remote working, it also made sure its meetings were more tightly run. One person is assigned to trace time and manage the outcomes. Team members can rate a meeting’s usefulness by employing a five-star system that gives immediate feedback and positive ways forward. To address the challenge of launching a digital business with an oversized remote team, one company created a replacement workflow for product requirements that clearly outlined the use of digital tools, roles, and responsibilities as requirements moved from ideation to validation to delivery stages. Reiteration of decision-making structures like this isn’t always necessary when people can communicate directly, but their absence will be keenly felt when remote working kicks in.  The lesson: Establishing robust working norms, workflows, and features of authority is critical, but only too easy to stint on.   Adopting a test and learn the strategy    The final lesson: Being able to recognize what isn’t working and changing it fast. These are the impacts of COVID-19 on the world of work. Leadership teams that continuously learn actively identify best practices, and rapidly founded mechanisms to share ideas across the organization tend to be most successful within the future. R&D teams at one leading high-tech manufacturer created a productivity target for remote work by estimating their productivity hebdomadally relative to onsite work and identifying levers to enhance it. Within four weeks, they had progressed from 50 percent to 88 percent of their baseline. As China’s workforce begins to return to offices, these lessons from a number of its leading companies help as an example of how—with the correct structure, culture, processes, and technology—working remotely can boost productivity and morale. Employees who spend less time traveling or commuting and have a much better work-life balance are likely to be happier, more motivated, and prepared to mobilize in extreme situations. Embracing remote working allows companies to define a brand new normal that drives productivity and employee satisfaction into the longer term. Alibaba launched TaoBao, by now the world’s biggest e-commerce website, while the staff was working remotely on quarantine during the 2003 SARS outbreak. For Trip.com, an overseas working experiment in 20147 established the foundations for nice customer service and versatile working culture. Hence, bringing together all the weather can enable a brand new way of working that may make your company suited the future—whatever which will hold. These are policies that will mitigate the impacts of COVID-19 on the world of work Blackcoffer Insights 17:- Harsh Kapadia, Nagindas Khandwala college \n",
      " From Alibaba to Ping An and Google to Ford companies around the globe are telling staff to figure from directly from home in a bid to stem the spread of COVID19 Such remote functioning at scale is unprecedented and can leave a longlasting impression on the way people live and work for several years to return China which felt the primary impact of the pandemic was an early mover during this space As home to a number of the world’s largest firms it offers lessons for people who are just commencing to embrace the shift Working from home skyrocketed in China within the wake of the COVID19 crisis as companies told their employees to remain home Around 200 million people were working remotely by the tip of the Chinese New Year holiday While this arrangement has some benefits like avoiding long commutes many employees and firms found it challenging One employee at a web company quipped his workday changed from ‘996’ to ‘007’ meaning from nine to nine 6 days every week to all or any the time On the private front employees found it difficult to manage kids’ homeschooling via video conference while coordinating with remote colleagues At an organization level many felt that productivity rapidly tailed off if not managed properly If done right remote working can boost productivity and morale done badly it can breed inefficiency damage work relationships and demotivate employees These kind of things are happening due to the impacts of COVID19 on the world of work Here are a few of the learnings from China that will be applicable around the world looking at the circumstances   Designing an effective structure due to the impacts of COVID19 on the world of work   Teams or whole business units working remotely can quickly end in confusion and a scarcity of clarity Being isolated ends up in uncertainty about who to speak to on specific issues and the way and when to approach them resulting in holdups and delays That’s why establishing a structure and architecture for deciding and effective communication is vital Here smaller crossfunctional teams are helpful each with a transparent mission and reporting line where directions and tasks are easy to implement This also simplifies onboarding new hires who can integrate faster in a very tightknit group at a time when the broad sweep of the organization isn’t visible or easy to feel With fewer in each team there’s longer to urge to understand one another and build the trust that will grow more organically within the office At Ping An Insurance workers are typically grouped in project teams of at most 30 members while larger business units are divided to assist them to stay agile Strong companywide foundations underpin this like having a typical purpose and unified goals Providing clarity on what decisions to escalate and which of them is tackled at the team level helps drive progress To mitigate the consequences of closed retail stores one leading fashion company founded a technique room and redeployed staff into four crossfunctional squads to support its frontline It designed standard ways for live broadcasting and established internal best practices to encourage frontline staff to use new retail tools to drive sales remotely  The lesson putting in small crossfunctional teams with clear objectives and a typical purpose keeps everyone on the identical strategic course   Leading from afar due to impacts of COVID19 on the world of work   Managing people is one of the foremost difficult elements of remote working not least because everyone will respond differently to the cultural shift and challenges of the homeworking environment Leaders have to energize the entire company by setting a transparent direction and communicating it effectively Offering a powerful vision and a sensible outlook can have a strong effect on motivation across the organization It’s essential to foster an outcomedriven culture that empowers and holds teams answerable for getting things done while encouraging open honest and productive communication Empowering your team in this way pays dividendsWeSure a part of leading internet company Tencent assembled a COVID19 response team5 at the beginning of the year to supply amount freed from charge to frontline medical workers Alan Lau CEO of WeSure credited his team saying that they had worked nonstop many from remote locations while inactive during the Chinese New Year break demonstrating how responsive they were to the vision For managers the challenge is to guide inspire and direct their team in their daily course of labor while being physically remote Upping the amount of interaction can even work well here One chief information officer responding to a McKinsey survey said he’s texting the whole company with regular updates because it’s a more human way of communicating than via the official corporate channels When working within distributed teams ecommerce giant Alibaba increases the frequency of its onetoone communications with employees to a weekly basis and in some teams members submit a weekly report for his or her colleagues complete with plans for the week ahead Alibaba’s productivity app DingTalk Ding Ding has features inbuilt to facilitate this by allowing managers to send voicetotext messages to their teams and to test in on progress The lesson Determining how you communicate is simply as important as what’s being said and it has to be done confidently consistently and reliably   Instilling a caring culture   As companies transition to the new normal it’s important to acknowledge that some employees are also facing other pressures reception including caring for his or her children when schools are shut resulting in feelings of isolation and insecurity Business leaders must respect and address these additional needs Empathy may be a crucial tool here offering how to attach promote inclusiveness and make a way of community in a very barren of physical interaction Increasing social interactions within the team particularly through oneonone catchup guards against feelings of isolation and demoralization and creates space for people to talk up and share their thoughts By creating a way of psychological safety for his or her colleagues being inclusive in deciding and offering perspective in challenging moments managers can stay closer to what’s occurring surface issues and help their teams solve problems effectively A similar approach is very important when coping with customers and clients providing valuable stability and enabling them to navigate unknown waters confidently As an example one global bank asked their relationship managers to attach with smallbusiness customers via WeChat and video calls to know their situation and help them weather the crisis To try and do so effectively at scale the managers are supported through dedicated product programs online articles scripts for communicating with clients and internal training Inclusion is that the ultimate show of empathy Creating outlets for sharing best practices success stories challenges and watercooler chat are significant to making a person’s connection Giving employees space to pursue personal or social endeavors providing a transparent span of control and assigning meaningful tasks also can spur motivation  The lesson Connecting on a private level and instilling empathy within the culture is doubly important when working remotely   Finding a new routine   Moving to remote working risks disrupting the officebased flows and rhythms and it will be easy to hit the incorrect note or miss important virtual meetings thanks to packed schedules Spend time along with your team addressing the nuts and bolts of how you’ll work together Cover the daily rhythm individual constraints and specific norms you’ll decide to and anticipate what might get it wrong and the way you’ll mitigate it How companies plan and review their workflows has to change to reflect this The challenges of the new working pattern and of not being in one room together will be overcome by creating a digitally facilitated cadence of meetings One leading insurance firm adopted agile practices across its teams with a daily and weekly ritual of checkins sprint planning and review sessions As Alibaba embraced remote working it also made sure its meetings were more tightly run One person is assigned to trace time and manage the outcomes Team members can rate a meeting’s usefulness by employing a fivestar system that gives immediate feedback and positive ways forward To address the challenge of launching a digital business with an oversized remote team one company created a replacement workflow for product requirements that clearly outlined the use of digital tools roles and responsibilities as requirements moved from ideation to validation to delivery stages Reiteration of decisionmaking structures like this isn’t always necessary when people can communicate directly but their absence will be keenly felt when remote working kicks in  The lesson Establishing robust working norms workflows and features of authority is critical but only too easy to stint on   Adopting a test and learn the strategy    The final lesson Being able to recognize what isn’t working and changing it fast These are the impacts of COVID19 on the world of work Leadership teams that continuously learn actively identify best practices and rapidly founded mechanisms to share ideas across the organization tend to be most successful within the future RD teams at one leading hightech manufacturer created a productivity target for remote work by estimating their productivity hebdomadally relative to onsite work and identifying levers to enhance it Within four weeks they had progressed from 50 percent to 88 percent of their baseline As China’s workforce begins to return to offices these lessons from a number of its leading companies help as an example of how—with the correct structure culture processes and technology—working remotely can boost productivity and morale Employees who spend less time traveling or commuting and have a much better worklife balance are likely to be happier more motivated and prepared to mobilize in extreme situations Embracing remote working allows companies to define a brand new normal that drives productivity and employee satisfaction into the longer term Alibaba launched TaoBao by now the world’s biggest ecommerce website while the staff was working remotely on quarantine during the 2003 SARS outbreak For Tripcom an overseas working experiment in 20147 established the foundations for nice customer service and versatile working culture Hence bringing together all the weather can enable a brand new way of working that may make your company suited the future—whatever which will hold These are policies that will mitigate the impacts of COVID19 on the world of work Blackcoffer Insights 17 Harsh Kapadia Nagindas Khandwala college \n",
      "['From', 'Alibaba', 'to', 'Ping', 'An', 'and', 'Google', 'to', 'Ford', 'companies', 'around', 'the', 'globe', 'are', 'telling', 'staff', 'to', 'figure', 'from', 'directly', 'from', 'home', 'in', 'a', 'bid', 'to', 'stem', 'the', 'spread', 'of', 'COVID19', 'Such', 'remote', 'functioning', 'at', 'scale', 'is', 'unprecedented', 'and', 'can', 'leave', 'a', 'longlasting', 'impression', 'on', 'the', 'way', 'people', 'live', 'and', 'work', 'for', 'several', 'years', 'to', 'return', 'China', 'which', 'felt', 'the', 'primary', 'impact', 'of', 'the', 'pandemic', 'was', 'an', 'early', 'mover', 'during', 'this', 'space', 'As', 'home', 'to', 'a', 'number', 'of', 'the', 'world’s', 'largest', 'firms', 'it', 'offers', 'lessons', 'for', 'people', 'who', 'are', 'just', 'commencing', 'to', 'embrace', 'the', 'shift', 'Working', 'from', 'home', 'skyrocketed', 'in', 'China', 'within', 'the', 'wake', 'of', 'the', 'COVID19', 'crisis', 'as', 'companies', 'told', 'their', 'employees', 'to', 'remain', 'home', 'Around', '200', 'million', 'people', 'were', 'working', 'remotely', 'by', 'the', 'tip', 'of', 'the', 'Chinese', 'New', 'Year', 'holiday', 'While', 'this', 'arrangement', 'has', 'some', 'benefits', 'like', 'avoiding', 'long', 'commutes', 'many', 'employees', 'and', 'firms', 'found', 'it', 'challenging', 'One', 'employee', 'at', 'a', 'web', 'company', 'quipped', 'his', 'workday', 'changed', 'from', '‘996’', 'to', '‘007’', 'meaning', 'from', 'nine', 'to', 'nine', '6', 'days', 'every', 'week', 'to', 'all', 'or', 'any', 'the', 'time', 'On', 'the', 'private', 'front', 'employees', 'found', 'it', 'difficult', 'to', 'manage', 'kids’', 'homeschooling', 'via', 'video', 'conference', 'while', 'coordinating', 'with', 'remote', 'colleagues', 'At', 'an', 'organization', 'level', 'many', 'felt', 'that', 'productivity', 'rapidly', 'tailed', 'off', 'if', 'not', 'managed', 'properly', 'If', 'done', 'right', 'remote', 'working', 'can', 'boost', 'productivity', 'and', 'morale', 'done', 'badly', 'it', 'can', 'breed', 'inefficiency', 'damage', 'work', 'relationships', 'and', 'demotivate', 'employees', 'These', 'kind', 'of', 'things', 'are', 'happening', 'due', 'to', 'the', 'impacts', 'of', 'COVID19', 'on', 'the', 'world', 'of', 'work', 'Here', 'are', 'a', 'few', 'of', 'the', 'learnings', 'from', 'China', 'that', 'will', 'be', 'applicable', 'around', 'the', 'world', 'looking', 'at', 'the', 'circumstances', 'Designing', 'an', 'effective', 'structure', 'due', 'to', 'the', 'impacts', 'of', 'COVID19', 'on', 'the', 'world', 'of', 'work', 'Teams', 'or', 'whole', 'business', 'units', 'working', 'remotely', 'can', 'quickly', 'end', 'in', 'confusion', 'and', 'a', 'scarcity', 'of', 'clarity', 'Being', 'isolated', 'ends', 'up', 'in', 'uncertainty', 'about', 'who', 'to', 'speak', 'to', 'on', 'specific', 'issues', 'and', 'the', 'way', 'and', 'when', 'to', 'approach', 'them', 'resulting', 'in', 'holdups', 'and', 'delays', 'That’s', 'why', 'establishing', 'a', 'structure', 'and', 'architecture', 'for', 'deciding', 'and', 'effective', 'communication', 'is', 'vital', 'Here', 'smaller', 'crossfunctional', 'teams', 'are', 'helpful', 'each', 'with', 'a', 'transparent', 'mission', 'and', 'reporting', 'line', 'where', 'directions', 'and', 'tasks', 'are', 'easy', 'to', 'implement', 'This', 'also', 'simplifies', 'onboarding', 'new', 'hires', 'who', 'can', 'integrate', 'faster', 'in', 'a', 'very', 'tightknit', 'group', 'at', 'a', 'time', 'when', 'the', 'broad', 'sweep', 'of', 'the', 'organization', 'isn’t', 'visible', 'or', 'easy', 'to', 'feel', 'With', 'fewer', 'in', 'each', 'team', 'there’s', 'longer', 'to', 'urge', 'to', 'understand', 'one', 'another', 'and', 'build', 'the', 'trust', 'that', 'will', 'grow', 'more', 'organically', 'within', 'the', 'office', 'At', 'Ping', 'An', 'Insurance', 'workers', 'are', 'typically', 'grouped', 'in', 'project', 'teams', 'of', 'at', 'most', '30', 'members', 'while', 'larger', 'business', 'units', 'are', 'divided', 'to', 'assist', 'them', 'to', 'stay', 'agile', 'Strong', 'companywide', 'foundations', 'underpin', 'this', 'like', 'having', 'a', 'typical', 'purpose', 'and', 'unified', 'goals', 'Providing', 'clarity', 'on', 'what', 'decisions', 'to', 'escalate', 'and', 'which', 'of', 'them', 'is', 'tackled', 'at', 'the', 'team', 'level', 'helps', 'drive', 'progress', 'To', 'mitigate', 'the', 'consequences', 'of', 'closed', 'retail', 'stores', 'one', 'leading', 'fashion', 'company', 'founded', 'a', 'technique', 'room', 'and', 'redeployed', 'staff', 'into', 'four', 'crossfunctional', 'squads', 'to', 'support', 'its', 'frontline', 'It', 'designed', 'standard', 'ways', 'for', 'live', 'broadcasting', 'and', 'established', 'internal', 'best', 'practices', 'to', 'encourage', 'frontline', 'staff', 'to', 'use', 'new', 'retail', 'tools', 'to', 'drive', 'sales', 'remotely', 'The', 'lesson', 'putting', 'in', 'small', 'crossfunctional', 'teams', 'with', 'clear', 'objectives', 'and', 'a', 'typical', 'purpose', 'keeps', 'everyone', 'on', 'the', 'identical', 'strategic', 'course', 'Leading', 'from', 'afar', 'due', 'to', 'impacts', 'of', 'COVID19', 'on', 'the', 'world', 'of', 'work', 'Managing', 'people', 'is', 'one', 'of', 'the', 'foremost', 'difficult', 'elements', 'of', 'remote', 'working', 'not', 'least', 'because', 'everyone', 'will', 'respond', 'differently', 'to', 'the', 'cultural', 'shift', 'and', 'challenges', 'of', 'the', 'homeworking', 'environment', 'Leaders', 'have', 'to', 'energize', 'the', 'entire', 'company', 'by', 'setting', 'a', 'transparent', 'direction', 'and', 'communicating', 'it', 'effectively', 'Offering', 'a', 'powerful', 'vision', 'and', 'a', 'sensible', 'outlook', 'can', 'have', 'a', 'strong', 'effect', 'on', 'motivation', 'across', 'the', 'organization', 'It’s', 'essential', 'to', 'foster', 'an', 'outcomedriven', 'culture', 'that', 'empowers', 'and', 'holds', 'teams', 'answerable', 'for', 'getting', 'things', 'done', 'while', 'encouraging', 'open', 'honest', 'and', 'productive', 'communication', 'Empowering', 'your', 'team', 'in', 'this', 'way', 'pays', 'dividendsWeSure', 'a', 'part', 'of', 'leading', 'internet', 'company', 'Tencent', 'assembled', 'a', 'COVID19', 'response', 'team5', 'at', 'the', 'beginning', 'of', 'the', 'year', 'to', 'supply', 'amount', 'freed', 'from', 'charge', 'to', 'frontline', 'medical', 'workers', 'Alan', 'Lau', 'CEO', 'of', 'WeSure', 'credited', 'his', 'team', 'saying', 'that', 'they', 'had', 'worked', 'nonstop', 'many', 'from', 'remote', 'locations', 'while', 'inactive', 'during', 'the', 'Chinese', 'New', 'Year', 'break', 'demonstrating', 'how', 'responsive', 'they', 'were', 'to', 'the', 'vision', 'For', 'managers', 'the', 'challenge', 'is', 'to', 'guide', 'inspire', 'and', 'direct', 'their', 'team', 'in', 'their', 'daily', 'course', 'of', 'labor', 'while', 'being', 'physically', 'remote', 'Upping', 'the', 'amount', 'of', 'interaction', 'can', 'even', 'work', 'well', 'here', 'One', 'chief', 'information', 'officer', 'responding', 'to', 'a', 'McKinsey', 'survey', 'said', 'he’s', 'texting', 'the', 'whole', 'company', 'with', 'regular', 'updates', 'because', 'it’s', 'a', 'more', 'human', 'way', 'of', 'communicating', 'than', 'via', 'the', 'official', 'corporate', 'channels', 'When', 'working', 'within', 'distributed', 'teams', 'ecommerce', 'giant', 'Alibaba', 'increases', 'the', 'frequency', 'of', 'its', 'onetoone', 'communications', 'with', 'employees', 'to', 'a', 'weekly', 'basis', 'and', 'in', 'some', 'teams', 'members', 'submit', 'a', 'weekly', 'report', 'for', 'his', 'or', 'her', 'colleagues', 'complete', 'with', 'plans', 'for', 'the', 'week', 'ahead', 'Alibaba’s', 'productivity', 'app', 'DingTalk', 'Ding', 'Ding', 'has', 'features', 'inbuilt', 'to', 'facilitate', 'this', 'by', 'allowing', 'managers', 'to', 'send', 'voicetotext', 'messages', 'to', 'their', 'teams', 'and', 'to', 'test', 'in', 'on', 'progress', 'The', 'lesson', 'Determining', 'how', 'you', 'communicate', 'is', 'simply', 'as', 'important', 'as', 'what’s', 'being', 'said', 'and', 'it', 'has', 'to', 'be', 'done', 'confidently', 'consistently', 'and', 'reliably', 'Instilling', 'a', 'caring', 'culture', 'As', 'companies', 'transition', 'to', 'the', 'new', 'normal', 'it’s', 'important', 'to', 'acknowledge', 'that', 'some', 'employees', 'are', 'also', 'facing', 'other', 'pressures', 'reception', 'including', 'caring', 'for', 'his', 'or', 'her', 'children', 'when', 'schools', 'are', 'shut', 'resulting', 'in', 'feelings', 'of', 'isolation', 'and', 'insecurity', 'Business', 'leaders', 'must', 'respect', 'and', 'address', 'these', 'additional', 'needs', 'Empathy', 'may', 'be', 'a', 'crucial', 'tool', 'here', 'offering', 'how', 'to', 'attach', 'promote', 'inclusiveness', 'and', 'make', 'a', 'way', 'of', 'community', 'in', 'a', 'very', 'barren', 'of', 'physical', 'interaction', 'Increasing', 'social', 'interactions', 'within', 'the', 'team', 'particularly', 'through', 'oneonone', 'catchup', 'guards', 'against', 'feelings', 'of', 'isolation', 'and', 'demoralization', 'and', 'creates', 'space', 'for', 'people', 'to', 'talk', 'up', 'and', 'share', 'their', 'thoughts', 'By', 'creating', 'a', 'way', 'of', 'psychological', 'safety', 'for', 'his', 'or', 'her', 'colleagues', 'being', 'inclusive', 'in', 'deciding', 'and', 'offering', 'perspective', 'in', 'challenging', 'moments', 'managers', 'can', 'stay', 'closer', 'to', 'what’s', 'occurring', 'surface', 'issues', 'and', 'help', 'their', 'teams', 'solve', 'problems', 'effectively', 'A', 'similar', 'approach', 'is', 'very', 'important', 'when', 'coping', 'with', 'customers', 'and', 'clients', 'providing', 'valuable', 'stability', 'and', 'enabling', 'them', 'to', 'navigate', 'unknown', 'waters', 'confidently', 'As', 'an', 'example', 'one', 'global', 'bank', 'asked', 'their', 'relationship', 'managers', 'to', 'attach', 'with', 'smallbusiness', 'customers', 'via', 'WeChat', 'and', 'video', 'calls', 'to', 'know', 'their', 'situation', 'and', 'help', 'them', 'weather', 'the', 'crisis', 'To', 'try', 'and', 'do', 'so', 'effectively', 'at', 'scale', 'the', 'managers', 'are', 'supported', 'through', 'dedicated', 'product', 'programs', 'online', 'articles', 'scripts', 'for', 'communicating', 'with', 'clients', 'and', 'internal', 'training', 'Inclusion', 'is', 'that', 'the', 'ultimate', 'show', 'of', 'empathy', 'Creating', 'outlets', 'for', 'sharing', 'best', 'practices', 'success', 'stories', 'challenges', 'and', 'watercooler', 'chat', 'are', 'significant', 'to', 'making', 'a', 'person’s', 'connection', 'Giving', 'employees', 'space', 'to', 'pursue', 'personal', 'or', 'social', 'endeavors', 'providing', 'a', 'transparent', 'span', 'of', 'control', 'and', 'assigning', 'meaningful', 'tasks', 'also', 'can', 'spur', 'motivation', 'The', 'lesson', 'Connecting', 'on', 'a', 'private', 'level', 'and', 'instilling', 'empathy', 'within', 'the', 'culture', 'is', 'doubly', 'important', 'when', 'working', 'remotely', 'Finding', 'a', 'new', 'routine', 'Moving', 'to', 'remote', 'working', 'risks', 'disrupting', 'the', 'officebased', 'flows', 'and', 'rhythms', 'and', 'it', 'will', 'be', 'easy', 'to', 'hit', 'the', 'incorrect', 'note', 'or', 'miss', 'important', 'virtual', 'meetings', 'thanks', 'to', 'packed', 'schedules', 'Spend', 'time', 'along', 'with', 'your', 'team', 'addressing', 'the', 'nuts', 'and', 'bolts', 'of', 'how', 'you’ll', 'work', 'together', 'Cover', 'the', 'daily', 'rhythm', 'individual', 'constraints', 'and', 'specific', 'norms', 'you’ll', 'decide', 'to', 'and', 'anticipate', 'what', 'might', 'get', 'it', 'wrong', 'and', 'the', 'way', 'you’ll', 'mitigate', 'it', 'How', 'companies', 'plan', 'and', 'review', 'their', 'workflows', 'has', 'to', 'change', 'to', 'reflect', 'this', 'The', 'challenges', 'of', 'the', 'new', 'working', 'pattern', 'and', 'of', 'not', 'being', 'in', 'one', 'room', 'together', 'will', 'be', 'overcome', 'by', 'creating', 'a', 'digitally', 'facilitated', 'cadence', 'of', 'meetings', 'One', 'leading', 'insurance', 'firm', 'adopted', 'agile', 'practices', 'across', 'its', 'teams', 'with', 'a', 'daily', 'and', 'weekly', 'ritual', 'of', 'checkins', 'sprint', 'planning', 'and', 'review', 'sessions', 'As', 'Alibaba', 'embraced', 'remote', 'working', 'it', 'also', 'made', 'sure', 'its', 'meetings', 'were', 'more', 'tightly', 'run', 'One', 'person', 'is', 'assigned', 'to', 'trace', 'time', 'and', 'manage', 'the', 'outcomes', 'Team', 'members', 'can', 'rate', 'a', 'meeting’s', 'usefulness', 'by', 'employing', 'a', 'fivestar', 'system', 'that', 'gives', 'immediate', 'feedback', 'and', 'positive', 'ways', 'forward', 'To', 'address', 'the', 'challenge', 'of', 'launching', 'a', 'digital', 'business', 'with', 'an', 'oversized', 'remote', 'team', 'one', 'company', 'created', 'a', 'replacement', 'workflow', 'for', 'product', 'requirements', 'that', 'clearly', 'outlined', 'the', 'use', 'of', 'digital', 'tools', 'roles', 'and', 'responsibilities', 'as', 'requirements', 'moved', 'from', 'ideation', 'to', 'validation', 'to', 'delivery', 'stages', 'Reiteration', 'of', 'decisionmaking', 'structures', 'like', 'this', 'isn’t', 'always', 'necessary', 'when', 'people', 'can', 'communicate', 'directly', 'but', 'their', 'absence', 'will', 'be', 'keenly', 'felt', 'when', 'remote', 'working', 'kicks', 'in', 'The', 'lesson', 'Establishing', 'robust', 'working', 'norms', 'workflows', 'and', 'features', 'of', 'authority', 'is', 'critical', 'but', 'only', 'too', 'easy', 'to', 'stint', 'on', 'Adopting', 'a', 'test', 'and', 'learn', 'the', 'strategy', 'The', 'final', 'lesson', 'Being', 'able', 'to', 'recognize', 'what', 'isn’t', 'working', 'and', 'changing', 'it', 'fast', 'These', 'are', 'the', 'impacts', 'of', 'COVID19', 'on', 'the', 'world', 'of', 'work', 'Leadership', 'teams', 'that', 'continuously', 'learn', 'actively', 'identify', 'best', 'practices', 'and', 'rapidly', 'founded', 'mechanisms', 'to', 'share', 'ideas', 'across', 'the', 'organization', 'tend', 'to', 'be', 'most', 'successful', 'within', 'the', 'future', 'RD', 'teams', 'at', 'one', 'leading', 'hightech', 'manufacturer', 'created', 'a', 'productivity', 'target', 'for', 'remote', 'work', 'by', 'estimating', 'their', 'productivity', 'hebdomadally', 'relative', 'to', 'onsite', 'work', 'and', 'identifying', 'levers', 'to', 'enhance', 'it', 'Within', 'four', 'weeks', 'they', 'had', 'progressed', 'from', '50', 'percent', 'to', '88', 'percent', 'of', 'their', 'baseline', 'As', 'China’s', 'workforce', 'begins', 'to', 'return', 'to', 'offices', 'these', 'lessons', 'from', 'a', 'number', 'of', 'its', 'leading', 'companies', 'help', 'as', 'an', 'example', 'of', 'how—with', 'the', 'correct', 'structure', 'culture', 'processes', 'and', 'technology—working', 'remotely', 'can', 'boost', 'productivity', 'and', 'morale', 'Employees', 'who', 'spend', 'less', 'time', 'traveling', 'or', 'commuting', 'and', 'have', 'a', 'much', 'better', 'worklife', 'balance', 'are', 'likely', 'to', 'be', 'happier', 'more', 'motivated', 'and', 'prepared', 'to', 'mobilize', 'in', 'extreme', 'situations', 'Embracing', 'remote', 'working', 'allows', 'companies', 'to', 'define', 'a', 'brand', 'new', 'normal', 'that', 'drives', 'productivity', 'and', 'employee', 'satisfaction', 'into', 'the', 'longer', 'term', 'Alibaba', 'launched', 'TaoBao', 'by', 'now', 'the', 'world’s', 'biggest', 'ecommerce', 'website', 'while', 'the', 'staff', 'was', 'working', 'remotely', 'on', 'quarantine', 'during', 'the', '2003', 'SARS', 'outbreak', 'For', 'Tripcom', 'an', 'overseas', 'working', 'experiment', 'in', '20147', 'established', 'the', 'foundations', 'for', 'nice', 'customer', 'service', 'and', 'versatile', 'working', 'culture', 'Hence', 'bringing', 'together', 'all', 'the', 'weather', 'can', 'enable', 'a', 'brand', 'new', 'way', 'of', 'working', 'that', 'may', 'make', 'your', 'company', 'suited', 'the', 'future—whatever', 'which', 'will', 'hold', 'These', 'are', 'policies', 'that', 'will', 'mitigate', 'the', 'impacts', 'of', 'COVID19', 'on', 'the', 'world', 'of', 'work', 'Blackcoffer', 'Insights', '17', 'Harsh', 'Kapadia', 'Nagindas', 'Khandwala', 'college']\n"
     ]
    }
   ],
   "source": [
    "content=soup.findAll(attrs={'class':'td-post-content'})\n",
    "content=content[0].text.replace('\\n',\" \")\n",
    "print(content)\n",
    "#Punctuation\n",
    "content = content.translate(str.maketrans('', '', string.punctuation)) \n",
    "print(content)\n",
    "text = content.split()\n",
    "print(text)\n"
   ]
  },
  {
   "cell_type": "code",
   "execution_count": 3,
   "id": "4f2513f0",
   "metadata": {},
   "outputs": [
    {
     "data": {
      "text/plain": [
       "1729"
      ]
     },
     "execution_count": 3,
     "metadata": {},
     "output_type": "execute_result"
    }
   ],
   "source": [
    "len(text)"
   ]
  },
  {
   "cell_type": "code",
   "execution_count": 4,
   "id": "3ff9e3c0",
   "metadata": {},
   "outputs": [
    {
     "name": "stdout",
     "output_type": "stream",
     "text": [
      "96\n"
     ]
    }
   ],
   "source": [
    "#Positive Score \n",
    "with open(r\"C:\\Users\\Om Bhandwalkar\\Desktop\\pos\\positive-words.txt\") as pos:\n",
    "    poswords = pos.read().split(\"\\n\")  \n",
    "    poswords = poswords[5:]\n",
    "pos_count = \" \".join ([w for w in text if w in poswords])\n",
    "pos_count=pos_count.split(\" \")\n",
    "Positive_score=len(pos_count)\n",
    "print(Positive_score)"
   ]
  },
  {
   "cell_type": "code",
   "execution_count": 5,
   "id": "050bdb53",
   "metadata": {},
   "outputs": [
    {
     "name": "stdout",
     "output_type": "stream",
     "text": [
      "30\n"
     ]
    }
   ],
   "source": [
    "#Negative Score\n",
    "with open(r\"C:\\Users\\Om Bhandwalkar\\Desktop\\pos\\negative-words.txt\",encoding =\"ISO-8859-1\") as neg:\n",
    "    negwords = neg.read().split(\"\\n\")\n",
    "    \n",
    "negwords = negwords[36:]\n",
    "neg_count = \" \".join ([w for w in text if w in negwords])\n",
    "neg_count=neg_count.split(\" \")\n",
    "Negative_score=len(neg_count)\n",
    "print(Negative_score)"
   ]
  },
  {
   "cell_type": "code",
   "execution_count": 6,
   "id": "35a940c4",
   "metadata": {},
   "outputs": [
    {
     "data": {
      "text/html": [
       "<div>\n",
       "<style scoped>\n",
       "    .dataframe tbody tr th:only-of-type {\n",
       "        vertical-align: middle;\n",
       "    }\n",
       "\n",
       "    .dataframe tbody tr th {\n",
       "        vertical-align: top;\n",
       "    }\n",
       "\n",
       "    .dataframe thead th {\n",
       "        text-align: right;\n",
       "    }\n",
       "</style>\n",
       "<table border=\"1\" class=\"dataframe\">\n",
       "  <thead>\n",
       "    <tr style=\"text-align: right;\">\n",
       "      <th></th>\n",
       "      <th>url</th>\n",
       "      <th>title</th>\n",
       "      <th>content</th>\n",
       "      <th>filter_content</th>\n",
       "      <th>Positive_Score</th>\n",
       "      <th>Negative_Score</th>\n",
       "      <th>polarity</th>\n",
       "      <th>subjectivity</th>\n",
       "    </tr>\n",
       "  </thead>\n",
       "  <tbody>\n",
       "    <tr>\n",
       "      <th>0</th>\n",
       "      <td>https://insights.blackcoffer.com/what-are-the-...</td>\n",
       "      <td>What are the key policies that will mitigate t...</td>\n",
       "      <td>From Alibaba to Ping An and Google to Ford co...</td>\n",
       "      <td>From Alibaba to Ping An and Google to Ford com...</td>\n",
       "      <td>96</td>\n",
       "      <td>30</td>\n",
       "      <td>0.133756</td>\n",
       "      <td>0.451958</td>\n",
       "    </tr>\n",
       "  </tbody>\n",
       "</table>\n",
       "</div>"
      ],
      "text/plain": [
       "                                                 url  \\\n",
       "0  https://insights.blackcoffer.com/what-are-the-...   \n",
       "\n",
       "                                               title  \\\n",
       "0  What are the key policies that will mitigate t...   \n",
       "\n",
       "                                             content  \\\n",
       "0   From Alibaba to Ping An and Google to Ford co...   \n",
       "\n",
       "                                      filter_content  Positive_Score  \\\n",
       "0  From Alibaba to Ping An and Google to Ford com...              96   \n",
       "\n",
       "   Negative_Score  polarity  subjectivity  \n",
       "0              30  0.133756      0.451958  "
      ]
     },
     "execution_count": 6,
     "metadata": {},
     "output_type": "execute_result"
    }
   ],
   "source": [
    "filter_content = ' '.join(text)\n",
    "data=[[url,title,content,filter_content,Positive_score,Negative_score]]\n",
    "data=pd.DataFrame(data,columns=[\"url\",\"title\",\"content\",\"filter_content\",\"Positive_Score\",\"Negative_Score\"])\n",
    "from textblob import TextBlob\n",
    "# Get The Subjectivity\n",
    "def sentiment_analysis(data):\n",
    "    sentiment = TextBlob(data[\"content\"]).sentiment\n",
    "    return pd.Series([sentiment.polarity,sentiment.subjectivity ])\n",
    "\n",
    "# Adding Subjectivity & Polarity\n",
    "data[[\"polarity\", \"subjectivity\"]] = data.apply(sentiment_analysis, axis=1)\n",
    "\n",
    "data"
   ]
  },
  {
   "cell_type": "code",
   "execution_count": 7,
   "id": "ffcd13df",
   "metadata": {},
   "outputs": [
    {
     "name": "stdout",
     "output_type": "stream",
     "text": [
      "Word average = 9138.0\n",
      "FOG INDEX =  696.57\n",
      "Average no of words per sentence\n",
      "1729.0\n",
      "Complex Words 3220\n"
     ]
    }
   ],
   "source": [
    "#AVG SENTENCE LENGTH\n",
    "AVG_SENTENCE_LENGTH = len(content.replace(' ',''))/len(re.split(r'[?!.]', content))\n",
    "print('Word average =', AVG_SENTENCE_LENGTH)\n",
    "import textstat\n",
    "#Fog index \n",
    "FOG_INDEX=(textstat.gunning_fog(content))\n",
    "print(\"FOG INDEX = \",FOG_INDEX)\n",
    "#Average No of Words Per Sentence \n",
    "AVG_NUMBER_OF_WORDS_PER_SENTENCE = [len(l.split()) for l in re.split(r'[?!.]', content) if l.strip()]\n",
    "print(\"Average no of words per sentence\")\n",
    "AVG_NUMBER_OF_WORDS_PER_SENTENCE=print(sum(AVG_NUMBER_OF_WORDS_PER_SENTENCE)/len(AVG_NUMBER_OF_WORDS_PER_SENTENCE))\n",
    "#Complex words\n",
    "def syllable_count(word):\n",
    "    count = 0\n",
    "    vowels = \"AEIOUYaeiouy\"\n",
    "    if word[0] in vowels:\n",
    "        count += 1\n",
    "    for index in range(1, len(word)): \n",
    "        if word[index] in vowels and word[index - 1] not in vowels:\n",
    "            count += 1\n",
    "            if word.endswith(\"es\"or \"ed\"):\n",
    "                count -= 1\n",
    "    if count == 0:\n",
    "        count += 1\n",
    "    return count\n",
    "\n",
    "\n",
    "\n",
    "COMPLEX_WORDS=syllable_count(content)\n",
    "print(\"Complex Words\",COMPLEX_WORDS)\n"
   ]
  },
  {
   "cell_type": "code",
   "execution_count": 8,
   "id": "463b1751",
   "metadata": {},
   "outputs": [
    {
     "name": "stdout",
     "output_type": "stream",
     "text": [
      "Word Count 10888\n",
      "Percentage of Complex Words 29.573842762674502\n",
      "Average Word per Length 5.285135916714864\n",
      "The AVG number of syllables in the word is: \n",
      "2.0884904569115097\n",
      "Word Count 10888\n",
      "Percentage of Complex Words 29.573842762674502\n",
      "Average Word per Length 5.285135916714864\n",
      "The AVG number of syllables in the word is: \n",
      "2.0884904569115097\n"
     ]
    }
   ],
   "source": [
    "#Word Count\n",
    "Word_Count=len(content)\n",
    "print(\"Word Count\",Word_Count)\n",
    "#Percentage Complex Words\n",
    "pcw=(COMPLEX_WORDS/Word_Count)*100\n",
    "print(\"Percentage of Complex Words\",pcw)\n",
    "#Average Word Length\n",
    "Average_Word_Length=len(content.replace(' ',''))/len(content.split())\n",
    "print(\"Average Word per Length\",Average_Word_Length)\n",
    "#Syllable Count Per Word\n",
    "word=content.replace(' ','')\n",
    "syllable_count=0\n",
    "for w in word:\n",
    "      if(w=='a' or w=='e' or w=='i' or w=='o' or w=='y' or w=='u' or w=='A' or w=='E' or w=='I' or w=='O' or w=='U' or w=='Y'):\n",
    "            syllable_count=syllable_count+1\n",
    "print(\"The AVG number of syllables in the word is: \")\n",
    "print(syllable_count/len(content.split()))#Word Count\n",
    "Word_Count=len(content)\n",
    "print(\"Word Count\",Word_Count)\n",
    "#Percentage Complex Words\n",
    "pcw=(COMPLEX_WORDS/Word_Count)*100\n",
    "print(\"Percentage of Complex Words\",pcw)\n",
    "#Average Word Length\n",
    "Average_Word_Length=len(content.replace(' ',''))/len(content.split())\n",
    "print(\"Average Word per Length\",Average_Word_Length)\n",
    "#Syllable Count Per Word\n",
    "word=content.replace(' ','')\n",
    "syllable_count=0\n",
    "for w in word:\n",
    "      if(w=='a' or w=='e' or w=='i' or w=='o' or w=='y' or w=='u' or w=='A' or w=='E' or w=='I' or w=='O' or w=='U' or w=='Y'):\n",
    "            syllable_count=syllable_count+1\n",
    "print(\"The AVG number of syllables in the word is: \")\n",
    "print(syllable_count/len(content.split()))"
   ]
  },
  {
   "cell_type": "code",
   "execution_count": 1,
   "id": "8dc37201",
   "metadata": {},
   "outputs": [
    {
     "name": "stdout",
     "output_type": "stream",
     "text": [
      "96\n",
      "30\n",
      "Word average = 9138.0\n",
      "FOG INDEX =  696.57\n",
      "Average no of words per sentence\n",
      "1729.0\n",
      "Complex Words 3220\n",
      "Word Count 10889\n",
      "Percentage of Complex Words 29.571126825236476\n",
      "Average Word per Length 5.285135916714864\n",
      "The AVG number of syllables in the word is: \n",
      "2.0884904569115097\n"
     ]
    },
    {
     "data": {
      "text/html": [
       "<div>\n",
       "<style scoped>\n",
       "    .dataframe tbody tr th:only-of-type {\n",
       "        vertical-align: middle;\n",
       "    }\n",
       "\n",
       "    .dataframe tbody tr th {\n",
       "        vertical-align: top;\n",
       "    }\n",
       "\n",
       "    .dataframe thead th {\n",
       "        text-align: right;\n",
       "    }\n",
       "</style>\n",
       "<table border=\"1\" class=\"dataframe\">\n",
       "  <thead>\n",
       "    <tr style=\"text-align: right;\">\n",
       "      <th></th>\n",
       "      <th>url</th>\n",
       "      <th>title</th>\n",
       "      <th>content</th>\n",
       "      <th>filter_content</th>\n",
       "      <th>Positive_Score</th>\n",
       "      <th>Negative_Score</th>\n",
       "      <th>Avg_Sentence_Length</th>\n",
       "      <th>Percentage_Complex_Word</th>\n",
       "      <th>Fog_Index</th>\n",
       "      <th>AVG_NUMBER_OF_WORDS_PER_SENTENCE</th>\n",
       "      <th>COMPLEX_WORDS</th>\n",
       "      <th>Word_Count</th>\n",
       "      <th>syllable</th>\n",
       "      <th>Average_Word_Length</th>\n",
       "      <th>polarity</th>\n",
       "      <th>subjectivity</th>\n",
       "    </tr>\n",
       "  </thead>\n",
       "  <tbody>\n",
       "    <tr>\n",
       "      <th>0</th>\n",
       "      <td>https://insights.blackcoffer.com/what-are-the-...</td>\n",
       "      <td>What are the key policies that will mitigate t...</td>\n",
       "      <td>From Alibaba to Ping An and Google to Ford c...</td>\n",
       "      <td>From Alibaba to Ping An and Google to Ford com...</td>\n",
       "      <td>96</td>\n",
       "      <td>30</td>\n",
       "      <td>9138.0</td>\n",
       "      <td>29.571127</td>\n",
       "      <td>696.57</td>\n",
       "      <td>1729.0</td>\n",
       "      <td>3220</td>\n",
       "      <td>10889</td>\n",
       "      <td>2.08849</td>\n",
       "      <td>5.285136</td>\n",
       "      <td>0.133756</td>\n",
       "      <td>0.451958</td>\n",
       "    </tr>\n",
       "  </tbody>\n",
       "</table>\n",
       "</div>"
      ],
      "text/plain": [
       "                                                 url  \\\n",
       "0  https://insights.blackcoffer.com/what-are-the-...   \n",
       "\n",
       "                                               title  \\\n",
       "0  What are the key policies that will mitigate t...   \n",
       "\n",
       "                                             content  \\\n",
       "0    From Alibaba to Ping An and Google to Ford c...   \n",
       "\n",
       "                                      filter_content  Positive_Score  \\\n",
       "0  From Alibaba to Ping An and Google to Ford com...              96   \n",
       "\n",
       "   Negative_Score  Avg_Sentence_Length  Percentage_Complex_Word  Fog_Index  \\\n",
       "0              30               9138.0                29.571127     696.57   \n",
       "\n",
       "    AVG_NUMBER_OF_WORDS_PER_SENTENCE  COMPLEX_WORDS  Word_Count  syllable  \\\n",
       "0                             1729.0           3220       10889   2.08849   \n",
       "\n",
       "   Average_Word_Length  polarity  subjectivity  \n",
       "0             5.285136  0.133756      0.451958  "
      ]
     },
     "execution_count": 1,
     "metadata": {},
     "output_type": "execute_result"
    }
   ],
   "source": [
    "import requests\n",
    "import pandas as pd \n",
    "from bs4 import BeautifulSoup\n",
    "import string\n",
    "import spacy\n",
    "import re\n",
    "url = \"\"\"https://insights.blackcoffer.com/what-are-the-key-policies-that-will-mitigate-the-impacts-of-covid-19-on-the-world-of-work/\"\"\"\n",
    "headers = {\"User-Agent\": \"Mozilla/5.0 (X11; Linux x86_64; rv:60.0) Gecko/20100101 Firefox/60.0\"}\n",
    "page = requests.get(url, headers=headers)\n",
    "soup = BeautifulSoup(page.content, 'html.parser')\n",
    "soup=BeautifulSoup(page.content, 'html.parser')\n",
    "title=soup.find('h1',class_=\"entry-title\")\n",
    "title=title.text.replace('\\n',\" \")\n",
    "# title\n",
    "\n",
    "content=soup.findAll(attrs={'class':'td-post-content'})\n",
    "content=content[0].text.replace('\\n',\" \")\n",
    "# print(content)\n",
    "#Punctuation\n",
    "content = content.translate(str.maketrans('', '', string.punctuation)) \n",
    "# print(content)\n",
    "text = content.split()\n",
    "# print(text)\n",
    "len(text)\n",
    "#Positive Score \n",
    "with open(r\"C:\\Users\\Om Bhandwalkar\\Desktop\\pos\\positive-words.txt\") as pos:\n",
    "    poswords = pos.read().split(\"\\n\")  \n",
    "    poswords = poswords[5:]\n",
    "pos_count = \" \".join ([w for w in text if w in poswords])\n",
    "pos_count=pos_count.split(\" \")\n",
    "Positive_score=len(pos_count)\n",
    "print(Positive_score)\n",
    "\n",
    "#Negative Score\n",
    "with open(r\"C:\\Users\\Om Bhandwalkar\\Desktop\\pos\\negative-words.txt\",encoding =\"ISO-8859-1\") as neg:\n",
    "    negwords = neg.read().split(\"\\n\")\n",
    "    \n",
    "negwords = negwords[36:]\n",
    "neg_count = \" \".join ([w for w in text if w in negwords])\n",
    "neg_count=neg_count.split(\" \")\n",
    "Negative_score=len(neg_count)\n",
    "print(Negative_score)\n",
    "\n",
    "\n",
    "filter_content = ' '.join(text)\n",
    "data=[[url,title,content,filter_content,Positive_score,Negative_score]]\n",
    "data=pd.DataFrame(data,columns=[\"url\",\"title\",\"content\",\"filter_content\",\"Positive_Score\",\"Negative_Score\"])\n",
    "from textblob import TextBlob\n",
    "# Get The Subjectivity\n",
    "def sentiment_analysis(data):\n",
    "    sentiment = TextBlob(data[\"content\"]).sentiment\n",
    "    return pd.Series([sentiment.polarity,sentiment.subjectivity ])\n",
    "data[[\"polarity\", \"subjectivity\"]] = data.apply(sentiment_analysis, axis=1)\n",
    "data\n",
    "#AVG SENTENCE LENGTH\n",
    "AVG_SENTENCE_LENGTH = len(content.replace(' ',''))/len(re.split(r'[?!.]', content))\n",
    "print('Word average =', AVG_SENTENCE_LENGTH)\n",
    "import textstat\n",
    "#Fog index \n",
    "FOG_INDEX=(textstat.gunning_fog(content))\n",
    "print(\"FOG INDEX = \",FOG_INDEX)\n",
    "#Average No of Words Per Sentence \n",
    "AVG_NUMBER_OF_WORDS_PER_SENTENCE = [len(l.split()) for l in re.split(r'[?!.]', content) if l.strip()]\n",
    "print(\"Average no of words per sentence\")\n",
    "AVG_NUMBER_OF_WORDS_PER_SENTENCE=(sum(AVG_NUMBER_OF_WORDS_PER_SENTENCE)/len(AVG_NUMBER_OF_WORDS_PER_SENTENCE))\n",
    "print(AVG_NUMBER_OF_WORDS_PER_SENTENCE)\n",
    "#Complex words\n",
    "def syllable_count(word):\n",
    "    count = 0\n",
    "    vowels = \"AEIOUYaeiouy\"\n",
    "    if word[0] in vowels:\n",
    "        count += 1\n",
    "    for index in range(1, len(word)): \n",
    "        if word[index] in vowels and word[index - 1] not in vowels:\n",
    "            count += 1\n",
    "            if word.endswith(\"es\"or \"ed\"):\n",
    "                count -= 1\n",
    "    if count == 0:\n",
    "        count += 1\n",
    "    return count\n",
    "\n",
    "\n",
    "\n",
    "COMPLEX_WORDS=syllable_count(content)\n",
    "print(\"Complex Words\",COMPLEX_WORDS)\n",
    "#Word Count\n",
    "Word_Count=len(content)\n",
    "print(\"Word Count\",Word_Count)\n",
    "#Percentage Complex Words\n",
    "pcw=(COMPLEX_WORDS/Word_Count)*100\n",
    "print(\"Percentage of Complex Words\",pcw)\n",
    "#Average Word Length\n",
    "Average_Word_Length=len(content.replace(' ',''))/len(content.split())\n",
    "print(\"Average Word per Length\",Average_Word_Length)\n",
    "#Syllable Count Per Word\n",
    "word=content.replace(' ','')\n",
    "syllable_count=0\n",
    "for w in word:\n",
    "      if(w=='a' or w=='e' or w=='i' or w=='o' or w=='y' or w=='u' or w=='A' or w=='E' or w=='I' or w=='O' or w=='U' or w=='Y'):\n",
    "            syllable_count=syllable_count+1\n",
    "print(\"The AVG number of syllables in the word is: \")\n",
    "syllable = (syllable_count/len(content.split()))\n",
    "print(syllable)\n",
    "\n",
    "data = [[url,title,content,filter_content,Positive_score,Negative_score,AVG_SENTENCE_LENGTH,pcw,FOG_INDEX,\n",
    "         AVG_NUMBER_OF_WORDS_PER_SENTENCE,COMPLEX_WORDS,Word_Count,syllable,Average_Word_Length]]\n",
    "data=pd.DataFrame(data,columns=[\"url\",\"title\",\"content\",\"filter_content\",\"Positive_Score\",\"Negative_Score\",\"Avg_Sentence_Length\"\n",
    "                               ,\"Percentage_Complex_Word\",\"Fog_Index\",\" AVG_NUMBER_OF_WORDS_PER_SENTENCE\",\"COMPLEX_WORDS\",\n",
    "                               \"Word_Count\",\"syllable\",\"Average_Word_Length\"])\n",
    "from textblob import TextBlob\n",
    "# Get The Subjectivity\n",
    "def sentiment_analysis(data):\n",
    "    sentiment = TextBlob(data[\"content\"]).sentiment\n",
    "    return pd.Series([sentiment.polarity,sentiment.subjectivity ])\n",
    "data[[\"polarity\", \"subjectivity\"]] = data.apply(sentiment_analysis, axis=1)\n",
    "data"
   ]
  },
  {
   "cell_type": "code",
   "execution_count": 2,
   "id": "c660d8f1",
   "metadata": {},
   "outputs": [],
   "source": [
    "data.to_csv(r'C:\\Users\\Om Bhandwalkar\\Desktop\\BlackCoffer Assignment\\Output\\url_131.csv')"
   ]
  },
  {
   "cell_type": "code",
   "execution_count": null,
   "id": "93d645b8",
   "metadata": {},
   "outputs": [],
   "source": []
  }
 ],
 "metadata": {
  "kernelspec": {
   "display_name": "Python 3 (ipykernel)",
   "language": "python",
   "name": "python3"
  },
  "language_info": {
   "codemirror_mode": {
    "name": "ipython",
    "version": 3
   },
   "file_extension": ".py",
   "mimetype": "text/x-python",
   "name": "python",
   "nbconvert_exporter": "python",
   "pygments_lexer": "ipython3",
   "version": "3.9.12"
  }
 },
 "nbformat": 4,
 "nbformat_minor": 5
}
