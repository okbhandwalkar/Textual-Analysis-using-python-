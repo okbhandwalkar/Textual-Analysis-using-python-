{
 "cells": [
  {
   "cell_type": "code",
   "execution_count": 1,
   "id": "c029d49b",
   "metadata": {},
   "outputs": [
    {
     "data": {
      "text/plain": [
       "'Marketing Drives Results With A Focus On Problems'"
      ]
     },
     "execution_count": 1,
     "metadata": {},
     "output_type": "execute_result"
    }
   ],
   "source": [
    "import requests\n",
    "import pandas as pd \n",
    "from bs4 import BeautifulSoup\n",
    "import string\n",
    "import spacy\n",
    "import re\n",
    "url = \"\"\"https://insights.blackcoffer.com/marketing-drives-results-with-a-focus-on-problems/\"\"\"\n",
    "headers = {\"User-Agent\": \"Mozilla/5.0 (X11; Linux x86_64; rv:60.0) Gecko/20100101 Firefox/60.0\"}\n",
    "page = requests.get(url, headers=headers)\n",
    "soup = BeautifulSoup(page.content, 'html.parser')\n",
    "soup=BeautifulSoup(page.content, 'html.parser')\n",
    "title=soup.find('h1',class_=\"entry-title\")\n",
    "title=title.text.replace('\\n',\" \")\n",
    "title\n"
   ]
  },
  {
   "cell_type": "code",
   "execution_count": 2,
   "id": "63663132",
   "metadata": {},
   "outputs": [
    {
     "name": "stdout",
     "output_type": "stream",
     "text": [
      " When the British ruled India, many Indians accepted to work under their policy, and they did not try to rebel against the British for their presence in Indian lands; They recognized the benefits of British rule. What was the factor that made Indians accept the British government? The perception about British-policies (about trading, pay-scale, and positioning in the military) had been done through various marketing channels in such a way that it brainwashed people of the nation, and many were ready to accept the British. So the Marketing is like fire when smartly handled; it can destroy your enemies, but when not it can burn you.   Marketing is to design and develop a pathway from product or service to the customer through a product, price, place and promotion strategies. Marketing depends on a variety of parameters that can be classified broadly, boiling down to vital three. These are ‘What type of customer are marketing team is focusing on (based on gender, age, location, customer-class) (W1)’, ‘What are Product Specification or Applications you need to bring in front of customer (W2)’, ‘What is your Product Promotion flow path (W3)’, ‘How much time it takes to convey product information to customer (H1)’. These criteria are what I call ‘3W1H’ forms. These basics need to be taken care of while developing a marketing strategy for the upcoming product. However, are they enough? No. There is one more parameter called the Feedback mechanism (FM). Generally, machines use the feedback mechanism to check output generated is as per input is given or not and if it is not, the input is corrected to get the required output. When it comes to human beings, he/she is surrounded by multiple products daily through social media, TV advertising and so forth. Slight uncertainties on either side in observation can make a positive or negative impact on the product on the consumer’s mind. In the feedback mechanism, the marketing team needs to answer only one question “What kind of product image built in the customer mind through promotional activities?” If the product image not built as per expectation, then management has to review and work on 3W1H, as discussed earlier. So let’s elaborate how 3W1H approach works along with feedback mechanism.             Fig.1- 3W1H with FM process can target customer effectively           After deciding the customer range, you can work on other activities. Since the customer is conscious about purchasing the product and when the product promoted, the first thing the customer will check is its usefulness, and if his/her answer is ‘Yes,’ then the customer will start comparing with similar alternative products in the market. Therefore, one should present the product along with some unique thought and express the product in such a way that its image imprinted into the consumer mind. For example, the polio campaign in India. The government had taken the initiative to make India polio-free by spreading awareness through all types of social communication mediums, in which Television played a vital role. Legendary cinema actor ‘Amitabh Bachchan’ was selected as an ambassador for this campaign. Initially, the advertisement published in which Amitabh pleaded people for vaccinating the children within a fixed schedule. The advertisement circulated throughout the nation, and no stone was kept unturned by the government to make this campaign successful. However, much to the surprise, advertising failed miserably to attract a deprived community in polio booth. This promotion failure was because of non-consideration of the customer (W1) and how advertise impacted its application on the customer (W2)? So after analysing failure, experts recommended changes in their marketing campaign like, to focus on major customer (Here mainly village woman who generally spend their time in home by watching TV), type of impact on people (People who watched TV during that era, had an image of Amitabh as ‘Angry young man’). So the campaign improved their advertising by bringing out the same angry Amitabh instead of his soft-image, which used in the earlier campaign. So in a very next polio campaign number of people in the polio booth suddenly increased and when feedback is taken from people about such a sudden change, they replied that we don’t want to watch ‘Amitabh sir’ getting angry because of us.[i] In W3, organisation must focus on what kind of channel use to attract the customer. Currently, there are a lot of platforms available by which you can market your product. The main agenda you should keep in mind is that how effectively you can engage the customer through marketing, at very first, if you make an impact on customer then only, he can show interest in your product. For example, changes in launching trailers of the upcoming films. Till 20th century Television and newspaper were crucial factors, but now along with television, marketing team take help of internet resources like Youtube, Facebook, introducing an article on the pre-trailer phenomenon. Increasing the range of promotional devices, broadcast formats and publishing platforms provide a broad range to promote the film and choosing right platform may lead to a massive hit in the box-office.     For the last factor (H1) time, the obvious question that comes to mind is that ‘Is time for advertising matters?’, While watching the TV when an advertisement appears, many times we change the channel instead of watching the whole ad or ignore it altogether. You do have an option of ‘Skip ad’ when you watch anything online, so one must decide how much time is required to deliver product information during its promotion? Delivering product information in less time, may create the possibility that the customer will watch it so it can result in attracting more customers. So, the content will be the king in the marketing. However, as one must have guessed it, this will not work all the time. Other factors like the cost of the product, application range, type of customer can also affect the H1. For example, the customer would be more conscious while watching higher-priced product broadcast compare to the lower-priced one. So it would take more time for the marketing team to convince the customer to buy the expensive good than the lower-priced one. After implementing a marketing strategy as per 3W1H, we need to work on a feedback mechanism in which organization has to collect information about product image generated in customer’s minds through dealers and using feedback-form. Not using the feedback mechanism may lead to failure in achieving ‘product sales target’ and can make the situation even worse. Take the example of ‘THE TATA Nano-MAKING OF WORLD’S CHEAPEST CAR,’ which was mind-blowing one-of-a-kind projects in Indian automobile industry. From the first phase of a marketing campaign, TATA Nano was on so much continuous limelight that this project was pleased by former American president Barack Obama.[ii] The curiosity about the product was so high that the sale of then-leading car model Maruti-800 was dropped by 20% immediately after unveiling the Nano.[iii] However, while marketing the product, an organization built “Affordable, Garibo Ki Car” image in customer’s mind, which made customers conscious about what will be their status-quo in society after buying Nano? Thus, they started giving preference to two-wheelers over Nano. During the same time, some instances of Nanos catching fire came into focus, which worsened the situation. This case even exacerbates when the team did not work on the feedback mechanism and hence, was not able to change customer perception about Nano. Later, when Nano fire problem was technically sorted out but even then, the marketing team did not make any impactful effort to market the improved safety of the car. Therefore, customer’s negative perception remained stuck and the organization did not even come close to achieving selling figures of Nano. If the organization had used feedback mechanism, it would have been an entirely different story.  So 3W1H can be an essential factor while developing a marketing strategy for the product along with a reversible FM method. This method can help us to monitor Product marketing throughout the phases and can help the marketing team to change strategy whenever it goes into the wrong path.  [i] https://www.thehindu.com/news/cities/Delhi/when-amitabhs-voice-did-the-trick-to-make-india-polio-free/article6257123.ece [ii]  https://www.businesstoday.in/obamas-india-visit/nano-catches-worlds-most-powerful-mans-eyes/story/10144.html [iii]  https://www.businesstoday.in/obamas-india-visit/nano-catches-worlds-most-powerful-mans-eyes/story/10144.html \n",
      " When the British ruled India many Indians accepted to work under their policy and they did not try to rebel against the British for their presence in Indian lands They recognized the benefits of British rule What was the factor that made Indians accept the British government The perception about Britishpolicies about trading payscale and positioning in the military had been done through various marketing channels in such a way that it brainwashed people of the nation and many were ready to accept the British So the Marketing is like fire when smartly handled it can destroy your enemies but when not it can burn you   Marketing is to design and develop a pathway from product or service to the customer through a product price place and promotion strategies Marketing depends on a variety of parameters that can be classified broadly boiling down to vital three These are ‘What type of customer are marketing team is focusing on based on gender age location customerclass W1’ ‘What are Product Specification or Applications you need to bring in front of customer W2’ ‘What is your Product Promotion flow path W3’ ‘How much time it takes to convey product information to customer H1’ These criteria are what I call ‘3W1H’ forms These basics need to be taken care of while developing a marketing strategy for the upcoming product However are they enough No There is one more parameter called the Feedback mechanism FM Generally machines use the feedback mechanism to check output generated is as per input is given or not and if it is not the input is corrected to get the required output When it comes to human beings heshe is surrounded by multiple products daily through social media TV advertising and so forth Slight uncertainties on either side in observation can make a positive or negative impact on the product on the consumer’s mind In the feedback mechanism the marketing team needs to answer only one question “What kind of product image built in the customer mind through promotional activities” If the product image not built as per expectation then management has to review and work on 3W1H as discussed earlier So let’s elaborate how 3W1H approach works along with feedback mechanism             Fig1 3W1H with FM process can target customer effectively           After deciding the customer range you can work on other activities Since the customer is conscious about purchasing the product and when the product promoted the first thing the customer will check is its usefulness and if hisher answer is ‘Yes’ then the customer will start comparing with similar alternative products in the market Therefore one should present the product along with some unique thought and express the product in such a way that its image imprinted into the consumer mind For example the polio campaign in India The government had taken the initiative to make India poliofree by spreading awareness through all types of social communication mediums in which Television played a vital role Legendary cinema actor ‘Amitabh Bachchan’ was selected as an ambassador for this campaign Initially the advertisement published in which Amitabh pleaded people for vaccinating the children within a fixed schedule The advertisement circulated throughout the nation and no stone was kept unturned by the government to make this campaign successful However much to the surprise advertising failed miserably to attract a deprived community in polio booth This promotion failure was because of nonconsideration of the customer W1 and how advertise impacted its application on the customer W2 So after analysing failure experts recommended changes in their marketing campaign like to focus on major customer Here mainly village woman who generally spend their time in home by watching TV type of impact on people People who watched TV during that era had an image of Amitabh as ‘Angry young man’ So the campaign improved their advertising by bringing out the same angry Amitabh instead of his softimage which used in the earlier campaign So in a very next polio campaign number of people in the polio booth suddenly increased and when feedback is taken from people about such a sudden change they replied that we don’t want to watch ‘Amitabh sir’ getting angry because of usi In W3 organisation must focus on what kind of channel use to attract the customer Currently there are a lot of platforms available by which you can market your product The main agenda you should keep in mind is that how effectively you can engage the customer through marketing at very first if you make an impact on customer then only he can show interest in your product For example changes in launching trailers of the upcoming films Till 20th century Television and newspaper were crucial factors but now along with television marketing team take help of internet resources like Youtube Facebook introducing an article on the pretrailer phenomenon Increasing the range of promotional devices broadcast formats and publishing platforms provide a broad range to promote the film and choosing right platform may lead to a massive hit in the boxoffice     For the last factor H1 time the obvious question that comes to mind is that ‘Is time for advertising matters’ While watching the TV when an advertisement appears many times we change the channel instead of watching the whole ad or ignore it altogether You do have an option of ‘Skip ad’ when you watch anything online so one must decide how much time is required to deliver product information during its promotion Delivering product information in less time may create the possibility that the customer will watch it so it can result in attracting more customers So the content will be the king in the marketing However as one must have guessed it this will not work all the time Other factors like the cost of the product application range type of customer can also affect the H1 For example the customer would be more conscious while watching higherpriced product broadcast compare to the lowerpriced one So it would take more time for the marketing team to convince the customer to buy the expensive good than the lowerpriced one After implementing a marketing strategy as per 3W1H we need to work on a feedback mechanism in which organization has to collect information about product image generated in customer’s minds through dealers and using feedbackform Not using the feedback mechanism may lead to failure in achieving ‘product sales target’ and can make the situation even worse Take the example of ‘THE TATA NanoMAKING OF WORLD’S CHEAPEST CAR’ which was mindblowing oneofakind projects in Indian automobile industry From the first phase of a marketing campaign TATA Nano was on so much continuous limelight that this project was pleased by former American president Barack Obamaii The curiosity about the product was so high that the sale of thenleading car model Maruti800 was dropped by 20 immediately after unveiling the Nanoiii However while marketing the product an organization built “Affordable Garibo Ki Car” image in customer’s mind which made customers conscious about what will be their statusquo in society after buying Nano Thus they started giving preference to twowheelers over Nano During the same time some instances of Nanos catching fire came into focus which worsened the situation This case even exacerbates when the team did not work on the feedback mechanism and hence was not able to change customer perception about Nano Later when Nano fire problem was technically sorted out but even then the marketing team did not make any impactful effort to market the improved safety of the car Therefore customer’s negative perception remained stuck and the organization did not even come close to achieving selling figures of Nano If the organization had used feedback mechanism it would have been an entirely different story  So 3W1H can be an essential factor while developing a marketing strategy for the product along with a reversible FM method This method can help us to monitor Product marketing throughout the phases and can help the marketing team to change strategy whenever it goes into the wrong path  i httpswwwthehinducomnewscitiesDelhiwhenamitabhsvoicedidthetricktomakeindiapoliofreearticle6257123ece ii  httpswwwbusinesstodayinobamasindiavisitnanocatchesworldsmostpowerfulmanseyesstory10144html iii  httpswwwbusinesstodayinobamasindiavisitnanocatchesworldsmostpowerfulmanseyesstory10144html \n",
      "['When', 'the', 'British', 'ruled', 'India', 'many', 'Indians', 'accepted', 'to', 'work', 'under', 'their', 'policy', 'and', 'they', 'did', 'not', 'try', 'to', 'rebel', 'against', 'the', 'British', 'for', 'their', 'presence', 'in', 'Indian', 'lands', 'They', 'recognized', 'the', 'benefits', 'of', 'British', 'rule', 'What', 'was', 'the', 'factor', 'that', 'made', 'Indians', 'accept', 'the', 'British', 'government', 'The', 'perception', 'about', 'Britishpolicies', 'about', 'trading', 'payscale', 'and', 'positioning', 'in', 'the', 'military', 'had', 'been', 'done', 'through', 'various', 'marketing', 'channels', 'in', 'such', 'a', 'way', 'that', 'it', 'brainwashed', 'people', 'of', 'the', 'nation', 'and', 'many', 'were', 'ready', 'to', 'accept', 'the', 'British', 'So', 'the', 'Marketing', 'is', 'like', 'fire', 'when', 'smartly', 'handled', 'it', 'can', 'destroy', 'your', 'enemies', 'but', 'when', 'not', 'it', 'can', 'burn', 'you', 'Marketing', 'is', 'to', 'design', 'and', 'develop', 'a', 'pathway', 'from', 'product', 'or', 'service', 'to', 'the', 'customer', 'through', 'a', 'product', 'price', 'place', 'and', 'promotion', 'strategies', 'Marketing', 'depends', 'on', 'a', 'variety', 'of', 'parameters', 'that', 'can', 'be', 'classified', 'broadly', 'boiling', 'down', 'to', 'vital', 'three', 'These', 'are', '‘What', 'type', 'of', 'customer', 'are', 'marketing', 'team', 'is', 'focusing', 'on', 'based', 'on', 'gender', 'age', 'location', 'customerclass', 'W1’', '‘What', 'are', 'Product', 'Specification', 'or', 'Applications', 'you', 'need', 'to', 'bring', 'in', 'front', 'of', 'customer', 'W2’', '‘What', 'is', 'your', 'Product', 'Promotion', 'flow', 'path', 'W3’', '‘How', 'much', 'time', 'it', 'takes', 'to', 'convey', 'product', 'information', 'to', 'customer', 'H1’', 'These', 'criteria', 'are', 'what', 'I', 'call', '‘3W1H’', 'forms', 'These', 'basics', 'need', 'to', 'be', 'taken', 'care', 'of', 'while', 'developing', 'a', 'marketing', 'strategy', 'for', 'the', 'upcoming', 'product', 'However', 'are', 'they', 'enough', 'No', 'There', 'is', 'one', 'more', 'parameter', 'called', 'the', 'Feedback', 'mechanism', 'FM', 'Generally', 'machines', 'use', 'the', 'feedback', 'mechanism', 'to', 'check', 'output', 'generated', 'is', 'as', 'per', 'input', 'is', 'given', 'or', 'not', 'and', 'if', 'it', 'is', 'not', 'the', 'input', 'is', 'corrected', 'to', 'get', 'the', 'required', 'output', 'When', 'it', 'comes', 'to', 'human', 'beings', 'heshe', 'is', 'surrounded', 'by', 'multiple', 'products', 'daily', 'through', 'social', 'media', 'TV', 'advertising', 'and', 'so', 'forth', 'Slight', 'uncertainties', 'on', 'either', 'side', 'in', 'observation', 'can', 'make', 'a', 'positive', 'or', 'negative', 'impact', 'on', 'the', 'product', 'on', 'the', 'consumer’s', 'mind', 'In', 'the', 'feedback', 'mechanism', 'the', 'marketing', 'team', 'needs', 'to', 'answer', 'only', 'one', 'question', '“What', 'kind', 'of', 'product', 'image', 'built', 'in', 'the', 'customer', 'mind', 'through', 'promotional', 'activities”', 'If', 'the', 'product', 'image', 'not', 'built', 'as', 'per', 'expectation', 'then', 'management', 'has', 'to', 'review', 'and', 'work', 'on', '3W1H', 'as', 'discussed', 'earlier', 'So', 'let’s', 'elaborate', 'how', '3W1H', 'approach', 'works', 'along', 'with', 'feedback', 'mechanism', 'Fig1', '3W1H', 'with', 'FM', 'process', 'can', 'target', 'customer', 'effectively', 'After', 'deciding', 'the', 'customer', 'range', 'you', 'can', 'work', 'on', 'other', 'activities', 'Since', 'the', 'customer', 'is', 'conscious', 'about', 'purchasing', 'the', 'product', 'and', 'when', 'the', 'product', 'promoted', 'the', 'first', 'thing', 'the', 'customer', 'will', 'check', 'is', 'its', 'usefulness', 'and', 'if', 'hisher', 'answer', 'is', '‘Yes’', 'then', 'the', 'customer', 'will', 'start', 'comparing', 'with', 'similar', 'alternative', 'products', 'in', 'the', 'market', 'Therefore', 'one', 'should', 'present', 'the', 'product', 'along', 'with', 'some', 'unique', 'thought', 'and', 'express', 'the', 'product', 'in', 'such', 'a', 'way', 'that', 'its', 'image', 'imprinted', 'into', 'the', 'consumer', 'mind', 'For', 'example', 'the', 'polio', 'campaign', 'in', 'India', 'The', 'government', 'had', 'taken', 'the', 'initiative', 'to', 'make', 'India', 'poliofree', 'by', 'spreading', 'awareness', 'through', 'all', 'types', 'of', 'social', 'communication', 'mediums', 'in', 'which', 'Television', 'played', 'a', 'vital', 'role', 'Legendary', 'cinema', 'actor', '‘Amitabh', 'Bachchan’', 'was', 'selected', 'as', 'an', 'ambassador', 'for', 'this', 'campaign', 'Initially', 'the', 'advertisement', 'published', 'in', 'which', 'Amitabh', 'pleaded', 'people', 'for', 'vaccinating', 'the', 'children', 'within', 'a', 'fixed', 'schedule', 'The', 'advertisement', 'circulated', 'throughout', 'the', 'nation', 'and', 'no', 'stone', 'was', 'kept', 'unturned', 'by', 'the', 'government', 'to', 'make', 'this', 'campaign', 'successful', 'However', 'much', 'to', 'the', 'surprise', 'advertising', 'failed', 'miserably', 'to', 'attract', 'a', 'deprived', 'community', 'in', 'polio', 'booth', 'This', 'promotion', 'failure', 'was', 'because', 'of', 'nonconsideration', 'of', 'the', 'customer', 'W1', 'and', 'how', 'advertise', 'impacted', 'its', 'application', 'on', 'the', 'customer', 'W2', 'So', 'after', 'analysing', 'failure', 'experts', 'recommended', 'changes', 'in', 'their', 'marketing', 'campaign', 'like', 'to', 'focus', 'on', 'major', 'customer', 'Here', 'mainly', 'village', 'woman', 'who', 'generally', 'spend', 'their', 'time', 'in', 'home', 'by', 'watching', 'TV', 'type', 'of', 'impact', 'on', 'people', 'People', 'who', 'watched', 'TV', 'during', 'that', 'era', 'had', 'an', 'image', 'of', 'Amitabh', 'as', '‘Angry', 'young', 'man’', 'So', 'the', 'campaign', 'improved', 'their', 'advertising', 'by', 'bringing', 'out', 'the', 'same', 'angry', 'Amitabh', 'instead', 'of', 'his', 'softimage', 'which', 'used', 'in', 'the', 'earlier', 'campaign', 'So', 'in', 'a', 'very', 'next', 'polio', 'campaign', 'number', 'of', 'people', 'in', 'the', 'polio', 'booth', 'suddenly', 'increased', 'and', 'when', 'feedback', 'is', 'taken', 'from', 'people', 'about', 'such', 'a', 'sudden', 'change', 'they', 'replied', 'that', 'we', 'don’t', 'want', 'to', 'watch', '‘Amitabh', 'sir’', 'getting', 'angry', 'because', 'of', 'usi', 'In', 'W3', 'organisation', 'must', 'focus', 'on', 'what', 'kind', 'of', 'channel', 'use', 'to', 'attract', 'the', 'customer', 'Currently', 'there', 'are', 'a', 'lot', 'of', 'platforms', 'available', 'by', 'which', 'you', 'can', 'market', 'your', 'product', 'The', 'main', 'agenda', 'you', 'should', 'keep', 'in', 'mind', 'is', 'that', 'how', 'effectively', 'you', 'can', 'engage', 'the', 'customer', 'through', 'marketing', 'at', 'very', 'first', 'if', 'you', 'make', 'an', 'impact', 'on', 'customer', 'then', 'only', 'he', 'can', 'show', 'interest', 'in', 'your', 'product', 'For', 'example', 'changes', 'in', 'launching', 'trailers', 'of', 'the', 'upcoming', 'films', 'Till', '20th', 'century', 'Television', 'and', 'newspaper', 'were', 'crucial', 'factors', 'but', 'now', 'along', 'with', 'television', 'marketing', 'team', 'take', 'help', 'of', 'internet', 'resources', 'like', 'Youtube', 'Facebook', 'introducing', 'an', 'article', 'on', 'the', 'pretrailer', 'phenomenon', 'Increasing', 'the', 'range', 'of', 'promotional', 'devices', 'broadcast', 'formats', 'and', 'publishing', 'platforms', 'provide', 'a', 'broad', 'range', 'to', 'promote', 'the', 'film', 'and', 'choosing', 'right', 'platform', 'may', 'lead', 'to', 'a', 'massive', 'hit', 'in', 'the', 'boxoffice', 'For', 'the', 'last', 'factor', 'H1', 'time', 'the', 'obvious', 'question', 'that', 'comes', 'to', 'mind', 'is', 'that', '‘Is', 'time', 'for', 'advertising', 'matters’', 'While', 'watching', 'the', 'TV', 'when', 'an', 'advertisement', 'appears', 'many', 'times', 'we', 'change', 'the', 'channel', 'instead', 'of', 'watching', 'the', 'whole', 'ad', 'or', 'ignore', 'it', 'altogether', 'You', 'do', 'have', 'an', 'option', 'of', '‘Skip', 'ad’', 'when', 'you', 'watch', 'anything', 'online', 'so', 'one', 'must', 'decide', 'how', 'much', 'time', 'is', 'required', 'to', 'deliver', 'product', 'information', 'during', 'its', 'promotion', 'Delivering', 'product', 'information', 'in', 'less', 'time', 'may', 'create', 'the', 'possibility', 'that', 'the', 'customer', 'will', 'watch', 'it', 'so', 'it', 'can', 'result', 'in', 'attracting', 'more', 'customers', 'So', 'the', 'content', 'will', 'be', 'the', 'king', 'in', 'the', 'marketing', 'However', 'as', 'one', 'must', 'have', 'guessed', 'it', 'this', 'will', 'not', 'work', 'all', 'the', 'time', 'Other', 'factors', 'like', 'the', 'cost', 'of', 'the', 'product', 'application', 'range', 'type', 'of', 'customer', 'can', 'also', 'affect', 'the', 'H1', 'For', 'example', 'the', 'customer', 'would', 'be', 'more', 'conscious', 'while', 'watching', 'higherpriced', 'product', 'broadcast', 'compare', 'to', 'the', 'lowerpriced', 'one', 'So', 'it', 'would', 'take', 'more', 'time', 'for', 'the', 'marketing', 'team', 'to', 'convince', 'the', 'customer', 'to', 'buy', 'the', 'expensive', 'good', 'than', 'the', 'lowerpriced', 'one', 'After', 'implementing', 'a', 'marketing', 'strategy', 'as', 'per', '3W1H', 'we', 'need', 'to', 'work', 'on', 'a', 'feedback', 'mechanism', 'in', 'which', 'organization', 'has', 'to', 'collect', 'information', 'about', 'product', 'image', 'generated', 'in', 'customer’s', 'minds', 'through', 'dealers', 'and', 'using', 'feedbackform', 'Not', 'using', 'the', 'feedback', 'mechanism', 'may', 'lead', 'to', 'failure', 'in', 'achieving', '‘product', 'sales', 'target’', 'and', 'can', 'make', 'the', 'situation', 'even', 'worse', 'Take', 'the', 'example', 'of', '‘THE', 'TATA', 'NanoMAKING', 'OF', 'WORLD’S', 'CHEAPEST', 'CAR’', 'which', 'was', 'mindblowing', 'oneofakind', 'projects', 'in', 'Indian', 'automobile', 'industry', 'From', 'the', 'first', 'phase', 'of', 'a', 'marketing', 'campaign', 'TATA', 'Nano', 'was', 'on', 'so', 'much', 'continuous', 'limelight', 'that', 'this', 'project', 'was', 'pleased', 'by', 'former', 'American', 'president', 'Barack', 'Obamaii', 'The', 'curiosity', 'about', 'the', 'product', 'was', 'so', 'high', 'that', 'the', 'sale', 'of', 'thenleading', 'car', 'model', 'Maruti800', 'was', 'dropped', 'by', '20', 'immediately', 'after', 'unveiling', 'the', 'Nanoiii', 'However', 'while', 'marketing', 'the', 'product', 'an', 'organization', 'built', '“Affordable', 'Garibo', 'Ki', 'Car”', 'image', 'in', 'customer’s', 'mind', 'which', 'made', 'customers', 'conscious', 'about', 'what', 'will', 'be', 'their', 'statusquo', 'in', 'society', 'after', 'buying', 'Nano', 'Thus', 'they', 'started', 'giving', 'preference', 'to', 'twowheelers', 'over', 'Nano', 'During', 'the', 'same', 'time', 'some', 'instances', 'of', 'Nanos', 'catching', 'fire', 'came', 'into', 'focus', 'which', 'worsened', 'the', 'situation', 'This', 'case', 'even', 'exacerbates', 'when', 'the', 'team', 'did', 'not', 'work', 'on', 'the', 'feedback', 'mechanism', 'and', 'hence', 'was', 'not', 'able', 'to', 'change', 'customer', 'perception', 'about', 'Nano', 'Later', 'when', 'Nano', 'fire', 'problem', 'was', 'technically', 'sorted', 'out', 'but', 'even', 'then', 'the', 'marketing', 'team', 'did', 'not', 'make', 'any', 'impactful', 'effort', 'to', 'market', 'the', 'improved', 'safety', 'of', 'the', 'car', 'Therefore', 'customer’s', 'negative', 'perception', 'remained', 'stuck', 'and', 'the', 'organization', 'did', 'not', 'even', 'come', 'close', 'to', 'achieving', 'selling', 'figures', 'of', 'Nano', 'If', 'the', 'organization', 'had', 'used', 'feedback', 'mechanism', 'it', 'would', 'have', 'been', 'an', 'entirely', 'different', 'story', 'So', '3W1H', 'can', 'be', 'an', 'essential', 'factor', 'while', 'developing', 'a', 'marketing', 'strategy', 'for', 'the', 'product', 'along', 'with', 'a', 'reversible', 'FM', 'method', 'This', 'method', 'can', 'help', 'us', 'to', 'monitor', 'Product', 'marketing', 'throughout', 'the', 'phases', 'and', 'can', 'help', 'the', 'marketing', 'team', 'to', 'change', 'strategy', 'whenever', 'it', 'goes', 'into', 'the', 'wrong', 'path', 'i', 'httpswwwthehinducomnewscitiesDelhiwhenamitabhsvoicedidthetricktomakeindiapoliofreearticle6257123ece', 'ii', 'httpswwwbusinesstodayinobamasindiavisitnanocatchesworldsmostpowerfulmanseyesstory10144html', 'iii', 'httpswwwbusinesstodayinobamasindiavisitnanocatchesworldsmostpowerfulmanseyesstory10144html']\n"
     ]
    }
   ],
   "source": [
    "content=soup.findAll(attrs={'class':'td-post-content'})\n",
    "content=content[0].text.replace('\\n',\" \")\n",
    "print(content)\n",
    "#Punctuation\n",
    "content = content.translate(str.maketrans('', '', string.punctuation)) \n",
    "print(content)\n",
    "text = content.split()\n",
    "print(text)\n"
   ]
  },
  {
   "cell_type": "code",
   "execution_count": 3,
   "id": "59b848f7",
   "metadata": {},
   "outputs": [
    {
     "data": {
      "text/plain": [
       "1351"
      ]
     },
     "execution_count": 3,
     "metadata": {},
     "output_type": "execute_result"
    }
   ],
   "source": [
    "len(text)"
   ]
  },
  {
   "cell_type": "code",
   "execution_count": 4,
   "id": "a2b03172",
   "metadata": {},
   "outputs": [
    {
     "name": "stdout",
     "output_type": "stream",
     "text": [
      "29\n"
     ]
    }
   ],
   "source": [
    "#Positive Score \n",
    "with open(r\"C:\\Users\\Om Bhandwalkar\\Desktop\\pos\\positive-words.txt\") as pos:\n",
    "    poswords = pos.read().split(\"\\n\")  \n",
    "    poswords = poswords[5:]\n",
    "pos_count = \" \".join ([w for w in text if w in poswords])\n",
    "pos_count=pos_count.split(\" \")\n",
    "Positive_score=len(pos_count)\n",
    "print(Positive_score)"
   ]
  },
  {
   "cell_type": "code",
   "execution_count": 5,
   "id": "6649a6fe",
   "metadata": {},
   "outputs": [
    {
     "name": "stdout",
     "output_type": "stream",
     "text": [
      "20\n"
     ]
    }
   ],
   "source": [
    "#Negative Score\n",
    "with open(r\"C:\\Users\\Om Bhandwalkar\\Desktop\\pos\\negative-words.txt\",encoding =\"ISO-8859-1\") as neg:\n",
    "    negwords = neg.read().split(\"\\n\")\n",
    "    \n",
    "negwords = negwords[36:]\n",
    "neg_count = \" \".join ([w for w in text if w in negwords])\n",
    "neg_count=neg_count.split(\" \")\n",
    "Negative_score=len(neg_count)\n",
    "print(Negative_score)"
   ]
  },
  {
   "cell_type": "code",
   "execution_count": 6,
   "id": "d21dab90",
   "metadata": {},
   "outputs": [
    {
     "data": {
      "text/html": [
       "<div>\n",
       "<style scoped>\n",
       "    .dataframe tbody tr th:only-of-type {\n",
       "        vertical-align: middle;\n",
       "    }\n",
       "\n",
       "    .dataframe tbody tr th {\n",
       "        vertical-align: top;\n",
       "    }\n",
       "\n",
       "    .dataframe thead th {\n",
       "        text-align: right;\n",
       "    }\n",
       "</style>\n",
       "<table border=\"1\" class=\"dataframe\">\n",
       "  <thead>\n",
       "    <tr style=\"text-align: right;\">\n",
       "      <th></th>\n",
       "      <th>url</th>\n",
       "      <th>title</th>\n",
       "      <th>content</th>\n",
       "      <th>filter_content</th>\n",
       "      <th>Positive_Score</th>\n",
       "      <th>Negative_Score</th>\n",
       "      <th>polarity</th>\n",
       "      <th>subjectivity</th>\n",
       "    </tr>\n",
       "  </thead>\n",
       "  <tbody>\n",
       "    <tr>\n",
       "      <th>0</th>\n",
       "      <td>https://insights.blackcoffer.com/marketing-dri...</td>\n",
       "      <td>Marketing Drives Results With A Focus On Problems</td>\n",
       "      <td>When the British ruled India many Indians acc...</td>\n",
       "      <td>When the British ruled India many Indians acce...</td>\n",
       "      <td>29</td>\n",
       "      <td>20</td>\n",
       "      <td>0.073452</td>\n",
       "      <td>0.434461</td>\n",
       "    </tr>\n",
       "  </tbody>\n",
       "</table>\n",
       "</div>"
      ],
      "text/plain": [
       "                                                 url  \\\n",
       "0  https://insights.blackcoffer.com/marketing-dri...   \n",
       "\n",
       "                                               title  \\\n",
       "0  Marketing Drives Results With A Focus On Problems   \n",
       "\n",
       "                                             content  \\\n",
       "0   When the British ruled India many Indians acc...   \n",
       "\n",
       "                                      filter_content  Positive_Score  \\\n",
       "0  When the British ruled India many Indians acce...              29   \n",
       "\n",
       "   Negative_Score  polarity  subjectivity  \n",
       "0              20  0.073452      0.434461  "
      ]
     },
     "execution_count": 6,
     "metadata": {},
     "output_type": "execute_result"
    }
   ],
   "source": [
    "filter_content = ' '.join(text)\n",
    "data=[[url,title,content,filter_content,Positive_score,Negative_score]]\n",
    "data=pd.DataFrame(data,columns=[\"url\",\"title\",\"content\",\"filter_content\",\"Positive_Score\",\"Negative_Score\"])\n",
    "from textblob import TextBlob\n",
    "# Get The Subjectivity\n",
    "def sentiment_analysis(data):\n",
    "    sentiment = TextBlob(data[\"content\"]).sentiment\n",
    "    return pd.Series([sentiment.polarity,sentiment.subjectivity ])\n",
    "\n",
    "# Adding Subjectivity & Polarity\n",
    "data[[\"polarity\", \"subjectivity\"]] = data.apply(sentiment_analysis, axis=1)\n",
    "\n",
    "data"
   ]
  },
  {
   "cell_type": "code",
   "execution_count": 7,
   "id": "9765462b",
   "metadata": {},
   "outputs": [
    {
     "name": "stdout",
     "output_type": "stream",
     "text": [
      "Word average = 7078.0\n",
      "FOG INDEX =  543.95\n",
      "Average no of words per sentence\n",
      "1351.0\n",
      "Complex Words 2466\n"
     ]
    }
   ],
   "source": [
    "#AVG SENTENCE LENGTH\n",
    "AVG_SENTENCE_LENGTH = len(content.replace(' ',''))/len(re.split(r'[?!.]', content))\n",
    "print('Word average =', AVG_SENTENCE_LENGTH)\n",
    "import textstat\n",
    "#Fog index \n",
    "FOG_INDEX=(textstat.gunning_fog(content))\n",
    "print(\"FOG INDEX = \",FOG_INDEX)\n",
    "#Average No of Words Per Sentence \n",
    "AVG_NUMBER_OF_WORDS_PER_SENTENCE = [len(l.split()) for l in re.split(r'[?!.]', content) if l.strip()]\n",
    "print(\"Average no of words per sentence\")\n",
    "AVG_NUMBER_OF_WORDS_PER_SENTENCE=print(sum(AVG_NUMBER_OF_WORDS_PER_SENTENCE)/len(AVG_NUMBER_OF_WORDS_PER_SENTENCE))\n",
    "#Complex words\n",
    "def syllable_count(word):\n",
    "    count = 0\n",
    "    vowels = \"AEIOUYaeiouy\"\n",
    "    if word[0] in vowels:\n",
    "        count += 1\n",
    "    for index in range(1, len(word)): \n",
    "        if word[index] in vowels and word[index - 1] not in vowels:\n",
    "            count += 1\n",
    "            if word.endswith(\"es\"or \"ed\"):\n",
    "                count -= 1\n",
    "    if count == 0:\n",
    "        count += 1\n",
    "    return count\n",
    "\n",
    "\n",
    "\n",
    "COMPLEX_WORDS=syllable_count(content)\n",
    "print(\"Complex Words\",COMPLEX_WORDS)\n"
   ]
  },
  {
   "cell_type": "code",
   "execution_count": 8,
   "id": "82dc4fad",
   "metadata": {},
   "outputs": [
    {
     "name": "stdout",
     "output_type": "stream",
     "text": [
      "Word Count 8456\n",
      "Percentage of Complex Words 29.162724692526016\n",
      "Average Word per Length 5.239082161361954\n",
      "The AVG number of syllables in the word is: \n",
      "2.0510732790525537\n",
      "Word Count 8456\n",
      "Percentage of Complex Words 29.162724692526016\n",
      "Average Word per Length 5.239082161361954\n",
      "The AVG number of syllables in the word is: \n",
      "2.0510732790525537\n"
     ]
    }
   ],
   "source": [
    "#Word Count\n",
    "Word_Count=len(content)\n",
    "print(\"Word Count\",Word_Count)\n",
    "#Percentage Complex Words\n",
    "pcw=(COMPLEX_WORDS/Word_Count)*100\n",
    "print(\"Percentage of Complex Words\",pcw)\n",
    "#Average Word Length\n",
    "Average_Word_Length=len(content.replace(' ',''))/len(content.split())\n",
    "print(\"Average Word per Length\",Average_Word_Length)\n",
    "#Syllable Count Per Word\n",
    "word=content.replace(' ','')\n",
    "syllable_count=0\n",
    "for w in word:\n",
    "      if(w=='a' or w=='e' or w=='i' or w=='o' or w=='y' or w=='u' or w=='A' or w=='E' or w=='I' or w=='O' or w=='U' or w=='Y'):\n",
    "            syllable_count=syllable_count+1\n",
    "print(\"The AVG number of syllables in the word is: \")\n",
    "print(syllable_count/len(content.split()))#Word Count\n",
    "Word_Count=len(content)\n",
    "print(\"Word Count\",Word_Count)\n",
    "#Percentage Complex Words\n",
    "pcw=(COMPLEX_WORDS/Word_Count)*100\n",
    "print(\"Percentage of Complex Words\",pcw)\n",
    "#Average Word Length\n",
    "Average_Word_Length=len(content.replace(' ',''))/len(content.split())\n",
    "print(\"Average Word per Length\",Average_Word_Length)\n",
    "#Syllable Count Per Word\n",
    "word=content.replace(' ','')\n",
    "syllable_count=0\n",
    "for w in word:\n",
    "      if(w=='a' or w=='e' or w=='i' or w=='o' or w=='y' or w=='u' or w=='A' or w=='E' or w=='I' or w=='O' or w=='U' or w=='Y'):\n",
    "            syllable_count=syllable_count+1\n",
    "print(\"The AVG number of syllables in the word is: \")\n",
    "print(syllable_count/len(content.split()))"
   ]
  },
  {
   "cell_type": "code",
   "execution_count": 2,
   "id": "c541874a",
   "metadata": {},
   "outputs": [
    {
     "name": "stdout",
     "output_type": "stream",
     "text": [
      "29\n",
      "20\n",
      "Word average = 7078.0\n",
      "FOG INDEX =  543.95\n",
      "Average no of words per sentence\n",
      "1351.0\n",
      "Complex Words 2466\n",
      "Word Count 8457\n",
      "Percentage of Complex Words 29.15927633912735\n",
      "Average Word per Length 5.239082161361954\n",
      "The AVG number of syllables in the word is: \n",
      "2.0510732790525537\n"
     ]
    },
    {
     "data": {
      "text/html": [
       "<div>\n",
       "<style scoped>\n",
       "    .dataframe tbody tr th:only-of-type {\n",
       "        vertical-align: middle;\n",
       "    }\n",
       "\n",
       "    .dataframe tbody tr th {\n",
       "        vertical-align: top;\n",
       "    }\n",
       "\n",
       "    .dataframe thead th {\n",
       "        text-align: right;\n",
       "    }\n",
       "</style>\n",
       "<table border=\"1\" class=\"dataframe\">\n",
       "  <thead>\n",
       "    <tr style=\"text-align: right;\">\n",
       "      <th></th>\n",
       "      <th>url</th>\n",
       "      <th>title</th>\n",
       "      <th>content</th>\n",
       "      <th>filter_content</th>\n",
       "      <th>Positive_Score</th>\n",
       "      <th>Negative_Score</th>\n",
       "      <th>Avg_Sentence_Length</th>\n",
       "      <th>Percentage_Complex_Word</th>\n",
       "      <th>Fog_Index</th>\n",
       "      <th>AVG_NUMBER_OF_WORDS_PER_SENTENCE</th>\n",
       "      <th>COMPLEX_WORDS</th>\n",
       "      <th>Word_Count</th>\n",
       "      <th>syllable</th>\n",
       "      <th>Average_Word_Length</th>\n",
       "      <th>polarity</th>\n",
       "      <th>subjectivity</th>\n",
       "    </tr>\n",
       "  </thead>\n",
       "  <tbody>\n",
       "    <tr>\n",
       "      <th>0</th>\n",
       "      <td>https://insights.blackcoffer.com/marketing-dri...</td>\n",
       "      <td>Marketing Drives Results With A Focus On Problems</td>\n",
       "      <td>When the British ruled India many Indians ac...</td>\n",
       "      <td>When the British ruled India many Indians acce...</td>\n",
       "      <td>29</td>\n",
       "      <td>20</td>\n",
       "      <td>7078.0</td>\n",
       "      <td>29.159276</td>\n",
       "      <td>543.95</td>\n",
       "      <td>1351.0</td>\n",
       "      <td>2466</td>\n",
       "      <td>8457</td>\n",
       "      <td>2.051073</td>\n",
       "      <td>5.239082</td>\n",
       "      <td>0.073452</td>\n",
       "      <td>0.434461</td>\n",
       "    </tr>\n",
       "  </tbody>\n",
       "</table>\n",
       "</div>"
      ],
      "text/plain": [
       "                                                 url  \\\n",
       "0  https://insights.blackcoffer.com/marketing-dri...   \n",
       "\n",
       "                                               title  \\\n",
       "0  Marketing Drives Results With A Focus On Problems   \n",
       "\n",
       "                                             content  \\\n",
       "0    When the British ruled India many Indians ac...   \n",
       "\n",
       "                                      filter_content  Positive_Score  \\\n",
       "0  When the British ruled India many Indians acce...              29   \n",
       "\n",
       "   Negative_Score  Avg_Sentence_Length  Percentage_Complex_Word  Fog_Index  \\\n",
       "0              20               7078.0                29.159276     543.95   \n",
       "\n",
       "    AVG_NUMBER_OF_WORDS_PER_SENTENCE  COMPLEX_WORDS  Word_Count  syllable  \\\n",
       "0                             1351.0           2466        8457  2.051073   \n",
       "\n",
       "   Average_Word_Length  polarity  subjectivity  \n",
       "0             5.239082  0.073452      0.434461  "
      ]
     },
     "execution_count": 2,
     "metadata": {},
     "output_type": "execute_result"
    }
   ],
   "source": [
    "import requests\n",
    "import pandas as pd \n",
    "from bs4 import BeautifulSoup\n",
    "import string\n",
    "import spacy\n",
    "import re\n",
    "url = \"\"\"https://insights.blackcoffer.com/marketing-drives-results-with-a-focus-on-problems/\"\"\"\n",
    "headers = {\"User-Agent\": \"Mozilla/5.0 (X11; Linux x86_64; rv:60.0) Gecko/20100101 Firefox/60.0\"}\n",
    "page = requests.get(url, headers=headers)\n",
    "soup = BeautifulSoup(page.content, 'html.parser')\n",
    "soup=BeautifulSoup(page.content, 'html.parser')\n",
    "title=soup.find('h1',class_=\"entry-title\")\n",
    "title=title.text.replace('\\n',\" \")\n",
    "# title\n",
    "\n",
    "content=soup.findAll(attrs={'class':'td-post-content'})\n",
    "content=content[0].text.replace('\\n',\" \")\n",
    "# print(content)\n",
    "#Punctuation\n",
    "content = content.translate(str.maketrans('', '', string.punctuation)) \n",
    "# print(content)\n",
    "text = content.split()\n",
    "# print(text)\n",
    "len(text)\n",
    "#Positive Score \n",
    "with open(r\"C:\\Users\\Om Bhandwalkar\\Desktop\\pos\\positive-words.txt\") as pos:\n",
    "    poswords = pos.read().split(\"\\n\")  \n",
    "    poswords = poswords[5:]\n",
    "pos_count = \" \".join ([w for w in text if w in poswords])\n",
    "pos_count=pos_count.split(\" \")\n",
    "Positive_score=len(pos_count)\n",
    "print(Positive_score)\n",
    "\n",
    "#Negative Score\n",
    "with open(r\"C:\\Users\\Om Bhandwalkar\\Desktop\\pos\\negative-words.txt\",encoding =\"ISO-8859-1\") as neg:\n",
    "    negwords = neg.read().split(\"\\n\")\n",
    "    \n",
    "negwords = negwords[36:]\n",
    "neg_count = \" \".join ([w for w in text if w in negwords])\n",
    "neg_count=neg_count.split(\" \")\n",
    "Negative_score=len(neg_count)\n",
    "print(Negative_score)\n",
    "\n",
    "\n",
    "filter_content = ' '.join(text)\n",
    "data=[[url,title,content,filter_content,Positive_score,Negative_score]]\n",
    "data=pd.DataFrame(data,columns=[\"url\",\"title\",\"content\",\"filter_content\",\"Positive_Score\",\"Negative_Score\"])\n",
    "from textblob import TextBlob\n",
    "# Get The Subjectivity\n",
    "def sentiment_analysis(data):\n",
    "    sentiment = TextBlob(data[\"content\"]).sentiment\n",
    "    return pd.Series([sentiment.polarity,sentiment.subjectivity ])\n",
    "data[[\"polarity\", \"subjectivity\"]] = data.apply(sentiment_analysis, axis=1)\n",
    "data\n",
    "#AVG SENTENCE LENGTH\n",
    "AVG_SENTENCE_LENGTH = len(content.replace(' ',''))/len(re.split(r'[?!.]', content))\n",
    "print('Word average =', AVG_SENTENCE_LENGTH)\n",
    "import textstat\n",
    "#Fog index \n",
    "FOG_INDEX=(textstat.gunning_fog(content))\n",
    "print(\"FOG INDEX = \",FOG_INDEX)\n",
    "#Average No of Words Per Sentence \n",
    "AVG_NUMBER_OF_WORDS_PER_SENTENCE = [len(l.split()) for l in re.split(r'[?!.]', content) if l.strip()]\n",
    "print(\"Average no of words per sentence\")\n",
    "AVG_NUMBER_OF_WORDS_PER_SENTENCE=(sum(AVG_NUMBER_OF_WORDS_PER_SENTENCE)/len(AVG_NUMBER_OF_WORDS_PER_SENTENCE))\n",
    "print(AVG_NUMBER_OF_WORDS_PER_SENTENCE)\n",
    "#Complex words\n",
    "def syllable_count(word):\n",
    "    count = 0\n",
    "    vowels = \"AEIOUYaeiouy\"\n",
    "    if word[0] in vowels:\n",
    "        count += 1\n",
    "    for index in range(1, len(word)): \n",
    "        if word[index] in vowels and word[index - 1] not in vowels:\n",
    "            count += 1\n",
    "            if word.endswith(\"es\"or \"ed\"):\n",
    "                count -= 1\n",
    "    if count == 0:\n",
    "        count += 1\n",
    "    return count\n",
    "\n",
    "\n",
    "\n",
    "COMPLEX_WORDS=syllable_count(content)\n",
    "print(\"Complex Words\",COMPLEX_WORDS)\n",
    "#Word Count\n",
    "Word_Count=len(content)\n",
    "print(\"Word Count\",Word_Count)\n",
    "#Percentage Complex Words\n",
    "pcw=(COMPLEX_WORDS/Word_Count)*100\n",
    "print(\"Percentage of Complex Words\",pcw)\n",
    "#Average Word Length\n",
    "Average_Word_Length=len(content.replace(' ',''))/len(content.split())\n",
    "print(\"Average Word per Length\",Average_Word_Length)\n",
    "#Syllable Count Per Word\n",
    "word=content.replace(' ','')\n",
    "syllable_count=0\n",
    "for w in word:\n",
    "      if(w=='a' or w=='e' or w=='i' or w=='o' or w=='y' or w=='u' or w=='A' or w=='E' or w=='I' or w=='O' or w=='U' or w=='Y'):\n",
    "            syllable_count=syllable_count+1\n",
    "print(\"The AVG number of syllables in the word is: \")\n",
    "syllable = (syllable_count/len(content.split()))\n",
    "print(syllable)\n",
    "\n",
    "data = [[url,title,content,filter_content,Positive_score,Negative_score,AVG_SENTENCE_LENGTH,pcw,FOG_INDEX,\n",
    "         AVG_NUMBER_OF_WORDS_PER_SENTENCE,COMPLEX_WORDS,Word_Count,syllable,Average_Word_Length]]\n",
    "data=pd.DataFrame(data,columns=[\"url\",\"title\",\"content\",\"filter_content\",\"Positive_Score\",\"Negative_Score\",\"Avg_Sentence_Length\"\n",
    "                               ,\"Percentage_Complex_Word\",\"Fog_Index\",\" AVG_NUMBER_OF_WORDS_PER_SENTENCE\",\"COMPLEX_WORDS\",\n",
    "                               \"Word_Count\",\"syllable\",\"Average_Word_Length\"])\n",
    "from textblob import TextBlob\n",
    "# Get The Subjectivity\n",
    "def sentiment_analysis(data):\n",
    "    sentiment = TextBlob(data[\"content\"]).sentiment\n",
    "    return pd.Series([sentiment.polarity,sentiment.subjectivity ])\n",
    "data[[\"polarity\", \"subjectivity\"]] = data.apply(sentiment_analysis, axis=1)\n",
    "data"
   ]
  },
  {
   "cell_type": "code",
   "execution_count": 3,
   "id": "8ec015fc",
   "metadata": {},
   "outputs": [],
   "source": [
    "data.to_csv(r'C:\\Users\\Om Bhandwalkar\\Desktop\\BlackCoffer Assignment\\Output\\url_132.csv')"
   ]
  },
  {
   "cell_type": "code",
   "execution_count": null,
   "id": "be4cac6f",
   "metadata": {},
   "outputs": [],
   "source": []
  }
 ],
 "metadata": {
  "kernelspec": {
   "display_name": "Python 3 (ipykernel)",
   "language": "python",
   "name": "python3"
  },
  "language_info": {
   "codemirror_mode": {
    "name": "ipython",
    "version": 3
   },
   "file_extension": ".py",
   "mimetype": "text/x-python",
   "name": "python",
   "nbconvert_exporter": "python",
   "pygments_lexer": "ipython3",
   "version": "3.9.12"
  }
 },
 "nbformat": 4,
 "nbformat_minor": 5
}
