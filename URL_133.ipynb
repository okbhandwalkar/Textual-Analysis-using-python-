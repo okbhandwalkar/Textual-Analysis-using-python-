{
 "cells": [
  {
   "cell_type": "code",
   "execution_count": 1,
   "id": "c615a591",
   "metadata": {},
   "outputs": [
    {
     "data": {
      "text/plain": [
       "'Continued Demand for Sustainability'"
      ]
     },
     "execution_count": 1,
     "metadata": {},
     "output_type": "execute_result"
    }
   ],
   "source": [
    "import requests\n",
    "import pandas as pd \n",
    "from bs4 import BeautifulSoup\n",
    "import string\n",
    "import spacy\n",
    "import re\n",
    "url = \"\"\"https://insights.blackcoffer.com/continued-demand-for-sustainability/\"\"\"\n",
    "headers = {\"User-Agent\": \"Mozilla/5.0 (X11; Linux x86_64; rv:60.0) Gecko/20100101 Firefox/60.0\"}\n",
    "page = requests.get(url, headers=headers)\n",
    "soup = BeautifulSoup(page.content, 'html.parser')\n",
    "soup=BeautifulSoup(page.content, 'html.parser')\n",
    "title=soup.find('h1',class_=\"entry-title\")\n",
    "title=title.text.replace('\\n',\" \")\n",
    "title\n"
   ]
  },
  {
   "cell_type": "code",
   "execution_count": 2,
   "id": "8ddb217f",
   "metadata": {},
   "outputs": [
    {
     "name": "stdout",
     "output_type": "stream",
     "text": [
      " The business of business is no longer to do just business or increase the bottom line to maximize shareholder value. Rather, the concept of business is moving towards a new dimension of sustainable business, the triple bottom line. People, planet, and profits are the core ideologies that are rooted in sustainable business. Sustainability is taken into account when companies want to create long-term value creation along with strategies that promote the longevity of the company. As corporate accountability rises, expectations and need for transparency among stakeholders increases therefore companies have started to recognize the need to be sustainable to stay alert and alive.  Business globalization that has happened over the previous few decades has made some companies more powerful than some national governments, making it easy for them to exploit inexpensive labor, plunder natural resources, causing severe impacts through pollution on the natural environment, human health, and biodiversity. Unfortunately for them, their horrible past has been catching up with them like in the case of child labor issues of IKEA & Nike, Rana Plaza accident in Bangladesh affecting Zara, H&M and other clothing brands, environment pollution by BP, Shell, Exxon Mobil etc. With the emergence of internet and social media these practices can no longer be covered up and silenced, the world has become more educated and less tolerant and therefore with every misdemeanor that is committed brand equity takes a hit. The media is fast picking up on cover-ups, half-truths, and bad corporate behavior and demanding accountability and transparency from corporates. Therefore to survive, companies are compelled to adopt sustainability and bring forth the rules for their suppliers as well.  Many of the irresponsible company practices and disasters that are witnessed in that last couple of decades were motivated solely by short-termism- the desire for instant gratification- and the appeal of short-term performance incentives. For instance, deferred maintenance and slack leadership were to blame for the 1984 leaks from the pesticide plant Union Carbide India Ltd in Bhopal. Estimates placed more than half a million casualties from the gas discharge of the plant. Finally, Union Carbide Corporation’s 1989 litigation payout came out to today’s equivalent of nearly one billion US dollars. Another example where the company was forced to shut down operations was Coca Cola at its Plachimada plant in Kerala. The local communities faced acute water shortage after the commissioning of the plant and the company authorities blatantly ignored the community woes. These businesses stated above didn’t respect stakeholder engagement which ultimately lead to their untimely demise. Today’s issues cannot be solved without participation from all stakeholders, and companies with influence should be the torchbearers of change. They need to engage with regulators, communities, societies, suppliers, and NGOs for effective and desired outcomes. Issues where engagement are required include population growth; global middle-class growth; decline in ecosystems; water scarcity; food safety; material resource security; higher global energy demand; changes in geographic patterns of energy consumption; and increasing climate change regulatory interventions. By actively pursuing the triple bottom line, the essential possibilities available are: save expenses by reducing environmental effects; motivate employees and decreased employee turnover;decrease risk through engaging with stakeholders; create a reputation by improving environmental effectiveness ; In order for companies to commit to sustainability they should have the below objectives in place: Strategy alignment and sustainability: management should ensure alignment between the company’s strategy and its sustainability initiatives. Sometimes, there is a divergence between the two concepts making sustainability attempts to look fragile and lacking real dedication and prioritization. For example, Toyota is well known for hybrid engine development, but less so for decreasing its reliance on rare earth minerals. Toyota decreased its dependence on imports and operational risk, thus reducing its economic hazards in the event of price rises.Compliance first, then competitive advantage: Compliance must be addressed first and foremost by businesses, which often involves laws on waste management, pollution, and energy efficiency as well as human rights and labor accountability. Recent reports show that investors are shying away from compliance hazards progressively. Reactive to proactive: As a result of a crisis, many of today’s leading sustainability businesses such as Nike, Coca-Cola, Telenor, IKEA, Siemens, and Nestlé have stepped up mainly. For instance, in locations like Indonesia throughout the 90s, Nike confronted boycotts and government anger for abusive labor practices but turned the tide around. It became a pioneer in the establishment of transparency in 2005 by releasing a full list of the factories with which it contracts and a comprehensive 108-page report revealing conditions and payment in its factories. It also recognized huge problems, especially in its factories in South Asia. These businesses have all created more proactive sustainability approaches by acknowledging the effect of sustainability in a crisis. Quantify, including the company situation: all businesses are struggling to quantify their sustainability investment returns. This is a straightforward problem with respect to compliance.  Transparency is a precondition for assessing and enhancing sustainability practices. The only way for companies to achieve transparency is through open communication with all key stakeholders based on high levels of information disclosure, clarity, and accuracy as well as an openness to recognize faults and improve practices. Sustainability -triple bottom line- can drive a company’s achievement beyond shareholder value creation by building corporate shared value at its core and help in addressing social &environmental problems. Several investors today use ESG metrics to evaluate the ethical effect and sustainability practices of an organization. Investors are looking at variables like the carbon footprint of a company, water use, community development efforts, and diversity board before investing. Companies have started responding to investors by publishing their annual sustainability reports. Research indicates that businesses with elevated ESG scores have reduced debt and equity costs and that sustainability projects can contribute to improving economic efficiency while encouraging government assistance. It’s only a matter of time, the flow of sustainability nourishes businesses in achieving holistic development for the environment, people and its profits. Blackcoffer Insights 12 | Sanjana Jose Varghese | IIM Lucknow  \n",
      " The business of business is no longer to do just business or increase the bottom line to maximize shareholder value Rather the concept of business is moving towards a new dimension of sustainable business the triple bottom line People planet and profits are the core ideologies that are rooted in sustainable business Sustainability is taken into account when companies want to create longterm value creation along with strategies that promote the longevity of the company As corporate accountability rises expectations and need for transparency among stakeholders increases therefore companies have started to recognize the need to be sustainable to stay alert and alive  Business globalization that has happened over the previous few decades has made some companies more powerful than some national governments making it easy for them to exploit inexpensive labor plunder natural resources causing severe impacts through pollution on the natural environment human health and biodiversity Unfortunately for them their horrible past has been catching up with them like in the case of child labor issues of IKEA  Nike Rana Plaza accident in Bangladesh affecting Zara HM and other clothing brands environment pollution by BP Shell Exxon Mobil etc With the emergence of internet and social media these practices can no longer be covered up and silenced the world has become more educated and less tolerant and therefore with every misdemeanor that is committed brand equity takes a hit The media is fast picking up on coverups halftruths and bad corporate behavior and demanding accountability and transparency from corporates Therefore to survive companies are compelled to adopt sustainability and bring forth the rules for their suppliers as well  Many of the irresponsible company practices and disasters that are witnessed in that last couple of decades were motivated solely by shorttermism the desire for instant gratification and the appeal of shortterm performance incentives For instance deferred maintenance and slack leadership were to blame for the 1984 leaks from the pesticide plant Union Carbide India Ltd in Bhopal Estimates placed more than half a million casualties from the gas discharge of the plant Finally Union Carbide Corporation’s 1989 litigation payout came out to today’s equivalent of nearly one billion US dollars Another example where the company was forced to shut down operations was Coca Cola at its Plachimada plant in Kerala The local communities faced acute water shortage after the commissioning of the plant and the company authorities blatantly ignored the community woes These businesses stated above didn’t respect stakeholder engagement which ultimately lead to their untimely demise Today’s issues cannot be solved without participation from all stakeholders and companies with influence should be the torchbearers of change They need to engage with regulators communities societies suppliers and NGOs for effective and desired outcomes Issues where engagement are required include population growth global middleclass growth decline in ecosystems water scarcity food safety material resource security higher global energy demand changes in geographic patterns of energy consumption and increasing climate change regulatory interventions By actively pursuing the triple bottom line the essential possibilities available are save expenses by reducing environmental effects motivate employees and decreased employee turnoverdecrease risk through engaging with stakeholders create a reputation by improving environmental effectiveness  In order for companies to commit to sustainability they should have the below objectives in place Strategy alignment and sustainability management should ensure alignment between the company’s strategy and its sustainability initiatives Sometimes there is a divergence between the two concepts making sustainability attempts to look fragile and lacking real dedication and prioritization For example Toyota is well known for hybrid engine development but less so for decreasing its reliance on rare earth minerals Toyota decreased its dependence on imports and operational risk thus reducing its economic hazards in the event of price risesCompliance first then competitive advantage Compliance must be addressed first and foremost by businesses which often involves laws on waste management pollution and energy efficiency as well as human rights and labor accountability Recent reports show that investors are shying away from compliance hazards progressively Reactive to proactive As a result of a crisis many of today’s leading sustainability businesses such as Nike CocaCola Telenor IKEA Siemens and Nestlé have stepped up mainly For instance in locations like Indonesia throughout the 90s Nike confronted boycotts and government anger for abusive labor practices but turned the tide around It became a pioneer in the establishment of transparency in 2005 by releasing a full list of the factories with which it contracts and a comprehensive 108page report revealing conditions and payment in its factories It also recognized huge problems especially in its factories in South Asia These businesses have all created more proactive sustainability approaches by acknowledging the effect of sustainability in a crisis Quantify including the company situation all businesses are struggling to quantify their sustainability investment returns This is a straightforward problem with respect to compliance  Transparency is a precondition for assessing and enhancing sustainability practices The only way for companies to achieve transparency is through open communication with all key stakeholders based on high levels of information disclosure clarity and accuracy as well as an openness to recognize faults and improve practices Sustainability triple bottom line can drive a company’s achievement beyond shareholder value creation by building corporate shared value at its core and help in addressing social environmental problems Several investors today use ESG metrics to evaluate the ethical effect and sustainability practices of an organization Investors are looking at variables like the carbon footprint of a company water use community development efforts and diversity board before investing Companies have started responding to investors by publishing their annual sustainability reports Research indicates that businesses with elevated ESG scores have reduced debt and equity costs and that sustainability projects can contribute to improving economic efficiency while encouraging government assistance It’s only a matter of time the flow of sustainability nourishes businesses in achieving holistic development for the environment people and its profits Blackcoffer Insights 12  Sanjana Jose Varghese  IIM Lucknow  \n",
      "['The', 'business', 'of', 'business', 'is', 'no', 'longer', 'to', 'do', 'just', 'business', 'or', 'increase', 'the', 'bottom', 'line', 'to', 'maximize', 'shareholder', 'value', 'Rather', 'the', 'concept', 'of', 'business', 'is', 'moving', 'towards', 'a', 'new', 'dimension', 'of', 'sustainable', 'business', 'the', 'triple', 'bottom', 'line', 'People', 'planet', 'and', 'profits', 'are', 'the', 'core', 'ideologies', 'that', 'are', 'rooted', 'in', 'sustainable', 'business', 'Sustainability', 'is', 'taken', 'into', 'account', 'when', 'companies', 'want', 'to', 'create', 'longterm', 'value', 'creation', 'along', 'with', 'strategies', 'that', 'promote', 'the', 'longevity', 'of', 'the', 'company', 'As', 'corporate', 'accountability', 'rises', 'expectations', 'and', 'need', 'for', 'transparency', 'among', 'stakeholders', 'increases', 'therefore', 'companies', 'have', 'started', 'to', 'recognize', 'the', 'need', 'to', 'be', 'sustainable', 'to', 'stay', 'alert', 'and', 'alive', 'Business', 'globalization', 'that', 'has', 'happened', 'over', 'the', 'previous', 'few', 'decades', 'has', 'made', 'some', 'companies', 'more', 'powerful', 'than', 'some', 'national', 'governments', 'making', 'it', 'easy', 'for', 'them', 'to', 'exploit', 'inexpensive', 'labor', 'plunder', 'natural', 'resources', 'causing', 'severe', 'impacts', 'through', 'pollution', 'on', 'the', 'natural', 'environment', 'human', 'health', 'and', 'biodiversity', 'Unfortunately', 'for', 'them', 'their', 'horrible', 'past', 'has', 'been', 'catching', 'up', 'with', 'them', 'like', 'in', 'the', 'case', 'of', 'child', 'labor', 'issues', 'of', 'IKEA', 'Nike', 'Rana', 'Plaza', 'accident', 'in', 'Bangladesh', 'affecting', 'Zara', 'HM', 'and', 'other', 'clothing', 'brands', 'environment', 'pollution', 'by', 'BP', 'Shell', 'Exxon', 'Mobil', 'etc', 'With', 'the', 'emergence', 'of', 'internet', 'and', 'social', 'media', 'these', 'practices', 'can', 'no', 'longer', 'be', 'covered', 'up', 'and', 'silenced', 'the', 'world', 'has', 'become', 'more', 'educated', 'and', 'less', 'tolerant', 'and', 'therefore', 'with', 'every', 'misdemeanor', 'that', 'is', 'committed', 'brand', 'equity', 'takes', 'a', 'hit', 'The', 'media', 'is', 'fast', 'picking', 'up', 'on', 'coverups', 'halftruths', 'and', 'bad', 'corporate', 'behavior', 'and', 'demanding', 'accountability', 'and', 'transparency', 'from', 'corporates', 'Therefore', 'to', 'survive', 'companies', 'are', 'compelled', 'to', 'adopt', 'sustainability', 'and', 'bring', 'forth', 'the', 'rules', 'for', 'their', 'suppliers', 'as', 'well', 'Many', 'of', 'the', 'irresponsible', 'company', 'practices', 'and', 'disasters', 'that', 'are', 'witnessed', 'in', 'that', 'last', 'couple', 'of', 'decades', 'were', 'motivated', 'solely', 'by', 'shorttermism', 'the', 'desire', 'for', 'instant', 'gratification', 'and', 'the', 'appeal', 'of', 'shortterm', 'performance', 'incentives', 'For', 'instance', 'deferred', 'maintenance', 'and', 'slack', 'leadership', 'were', 'to', 'blame', 'for', 'the', '1984', 'leaks', 'from', 'the', 'pesticide', 'plant', 'Union', 'Carbide', 'India', 'Ltd', 'in', 'Bhopal', 'Estimates', 'placed', 'more', 'than', 'half', 'a', 'million', 'casualties', 'from', 'the', 'gas', 'discharge', 'of', 'the', 'plant', 'Finally', 'Union', 'Carbide', 'Corporation’s', '1989', 'litigation', 'payout', 'came', 'out', 'to', 'today’s', 'equivalent', 'of', 'nearly', 'one', 'billion', 'US', 'dollars', 'Another', 'example', 'where', 'the', 'company', 'was', 'forced', 'to', 'shut', 'down', 'operations', 'was', 'Coca', 'Cola', 'at', 'its', 'Plachimada', 'plant', 'in', 'Kerala', 'The', 'local', 'communities', 'faced', 'acute', 'water', 'shortage', 'after', 'the', 'commissioning', 'of', 'the', 'plant', 'and', 'the', 'company', 'authorities', 'blatantly', 'ignored', 'the', 'community', 'woes', 'These', 'businesses', 'stated', 'above', 'didn’t', 'respect', 'stakeholder', 'engagement', 'which', 'ultimately', 'lead', 'to', 'their', 'untimely', 'demise', 'Today’s', 'issues', 'cannot', 'be', 'solved', 'without', 'participation', 'from', 'all', 'stakeholders', 'and', 'companies', 'with', 'influence', 'should', 'be', 'the', 'torchbearers', 'of', 'change', 'They', 'need', 'to', 'engage', 'with', 'regulators', 'communities', 'societies', 'suppliers', 'and', 'NGOs', 'for', 'effective', 'and', 'desired', 'outcomes', 'Issues', 'where', 'engagement', 'are', 'required', 'include', 'population', 'growth', 'global', 'middleclass', 'growth', 'decline', 'in', 'ecosystems', 'water', 'scarcity', 'food', 'safety', 'material', 'resource', 'security', 'higher', 'global', 'energy', 'demand', 'changes', 'in', 'geographic', 'patterns', 'of', 'energy', 'consumption', 'and', 'increasing', 'climate', 'change', 'regulatory', 'interventions', 'By', 'actively', 'pursuing', 'the', 'triple', 'bottom', 'line', 'the', 'essential', 'possibilities', 'available', 'are', 'save', 'expenses', 'by', 'reducing', 'environmental', 'effects', 'motivate', 'employees', 'and', 'decreased', 'employee', 'turnoverdecrease', 'risk', 'through', 'engaging', 'with', 'stakeholders', 'create', 'a', 'reputation', 'by', 'improving', 'environmental', 'effectiveness', 'In', 'order', 'for', 'companies', 'to', 'commit', 'to', 'sustainability', 'they', 'should', 'have', 'the', 'below', 'objectives', 'in', 'place', 'Strategy', 'alignment', 'and', 'sustainability', 'management', 'should', 'ensure', 'alignment', 'between', 'the', 'company’s', 'strategy', 'and', 'its', 'sustainability', 'initiatives', 'Sometimes', 'there', 'is', 'a', 'divergence', 'between', 'the', 'two', 'concepts', 'making', 'sustainability', 'attempts', 'to', 'look', 'fragile', 'and', 'lacking', 'real', 'dedication', 'and', 'prioritization', 'For', 'example', 'Toyota', 'is', 'well', 'known', 'for', 'hybrid', 'engine', 'development', 'but', 'less', 'so', 'for', 'decreasing', 'its', 'reliance', 'on', 'rare', 'earth', 'minerals', 'Toyota', 'decreased', 'its', 'dependence', 'on', 'imports', 'and', 'operational', 'risk', 'thus', 'reducing', 'its', 'economic', 'hazards', 'in', 'the', 'event', 'of', 'price', 'risesCompliance', 'first', 'then', 'competitive', 'advantage', 'Compliance', 'must', 'be', 'addressed', 'first', 'and', 'foremost', 'by', 'businesses', 'which', 'often', 'involves', 'laws', 'on', 'waste', 'management', 'pollution', 'and', 'energy', 'efficiency', 'as', 'well', 'as', 'human', 'rights', 'and', 'labor', 'accountability', 'Recent', 'reports', 'show', 'that', 'investors', 'are', 'shying', 'away', 'from', 'compliance', 'hazards', 'progressively', 'Reactive', 'to', 'proactive', 'As', 'a', 'result', 'of', 'a', 'crisis', 'many', 'of', 'today’s', 'leading', 'sustainability', 'businesses', 'such', 'as', 'Nike', 'CocaCola', 'Telenor', 'IKEA', 'Siemens', 'and', 'Nestlé', 'have', 'stepped', 'up', 'mainly', 'For', 'instance', 'in', 'locations', 'like', 'Indonesia', 'throughout', 'the', '90s', 'Nike', 'confronted', 'boycotts', 'and', 'government', 'anger', 'for', 'abusive', 'labor', 'practices', 'but', 'turned', 'the', 'tide', 'around', 'It', 'became', 'a', 'pioneer', 'in', 'the', 'establishment', 'of', 'transparency', 'in', '2005', 'by', 'releasing', 'a', 'full', 'list', 'of', 'the', 'factories', 'with', 'which', 'it', 'contracts', 'and', 'a', 'comprehensive', '108page', 'report', 'revealing', 'conditions', 'and', 'payment', 'in', 'its', 'factories', 'It', 'also', 'recognized', 'huge', 'problems', 'especially', 'in', 'its', 'factories', 'in', 'South', 'Asia', 'These', 'businesses', 'have', 'all', 'created', 'more', 'proactive', 'sustainability', 'approaches', 'by', 'acknowledging', 'the', 'effect', 'of', 'sustainability', 'in', 'a', 'crisis', 'Quantify', 'including', 'the', 'company', 'situation', 'all', 'businesses', 'are', 'struggling', 'to', 'quantify', 'their', 'sustainability', 'investment', 'returns', 'This', 'is', 'a', 'straightforward', 'problem', 'with', 'respect', 'to', 'compliance', 'Transparency', 'is', 'a', 'precondition', 'for', 'assessing', 'and', 'enhancing', 'sustainability', 'practices', 'The', 'only', 'way', 'for', 'companies', 'to', 'achieve', 'transparency', 'is', 'through', 'open', 'communication', 'with', 'all', 'key', 'stakeholders', 'based', 'on', 'high', 'levels', 'of', 'information', 'disclosure', 'clarity', 'and', 'accuracy', 'as', 'well', 'as', 'an', 'openness', 'to', 'recognize', 'faults', 'and', 'improve', 'practices', 'Sustainability', 'triple', 'bottom', 'line', 'can', 'drive', 'a', 'company’s', 'achievement', 'beyond', 'shareholder', 'value', 'creation', 'by', 'building', 'corporate', 'shared', 'value', 'at', 'its', 'core', 'and', 'help', 'in', 'addressing', 'social', 'environmental', 'problems', 'Several', 'investors', 'today', 'use', 'ESG', 'metrics', 'to', 'evaluate', 'the', 'ethical', 'effect', 'and', 'sustainability', 'practices', 'of', 'an', 'organization', 'Investors', 'are', 'looking', 'at', 'variables', 'like', 'the', 'carbon', 'footprint', 'of', 'a', 'company', 'water', 'use', 'community', 'development', 'efforts', 'and', 'diversity', 'board', 'before', 'investing', 'Companies', 'have', 'started', 'responding', 'to', 'investors', 'by', 'publishing', 'their', 'annual', 'sustainability', 'reports', 'Research', 'indicates', 'that', 'businesses', 'with', 'elevated', 'ESG', 'scores', 'have', 'reduced', 'debt', 'and', 'equity', 'costs', 'and', 'that', 'sustainability', 'projects', 'can', 'contribute', 'to', 'improving', 'economic', 'efficiency', 'while', 'encouraging', 'government', 'assistance', 'It’s', 'only', 'a', 'matter', 'of', 'time', 'the', 'flow', 'of', 'sustainability', 'nourishes', 'businesses', 'in', 'achieving', 'holistic', 'development', 'for', 'the', 'environment', 'people', 'and', 'its', 'profits', 'Blackcoffer', 'Insights', '12', 'Sanjana', 'Jose', 'Varghese', 'IIM', 'Lucknow']\n"
     ]
    }
   ],
   "source": [
    "content=soup.findAll(attrs={'class':'td-post-content'})\n",
    "content=content[0].text.replace('\\n',\" \")\n",
    "print(content)\n",
    "#Punctuation\n",
    "content = content.translate(str.maketrans('', '', string.punctuation)) \n",
    "print(content)\n",
    "text = content.split()\n",
    "print(text)\n"
   ]
  },
  {
   "cell_type": "code",
   "execution_count": 4,
   "id": "8939b6e7",
   "metadata": {},
   "outputs": [
    {
     "data": {
      "text/plain": [
       "992"
      ]
     },
     "execution_count": 4,
     "metadata": {},
     "output_type": "execute_result"
    }
   ],
   "source": [
    "len(text)"
   ]
  },
  {
   "cell_type": "code",
   "execution_count": 5,
   "id": "749b28df",
   "metadata": {},
   "outputs": [
    {
     "name": "stdout",
     "output_type": "stream",
     "text": [
      "56\n"
     ]
    }
   ],
   "source": [
    "#Positive Score \n",
    "with open(r\"C:\\Users\\Om Bhandwalkar\\Desktop\\pos\\positive-words.txt\") as pos:\n",
    "    poswords = pos.read().split(\"\\n\")  \n",
    "    poswords = poswords[5:]\n",
    "pos_count = \" \".join ([w for w in text if w in poswords])\n",
    "pos_count=pos_count.split(\" \")\n",
    "Positive_score=len(pos_count)\n",
    "print(Positive_score)"
   ]
  },
  {
   "cell_type": "code",
   "execution_count": 6,
   "id": "71e5a587",
   "metadata": {},
   "outputs": [
    {
     "name": "stdout",
     "output_type": "stream",
     "text": [
      "32\n"
     ]
    }
   ],
   "source": [
    "#Negative Score\n",
    "with open(r\"C:\\Users\\Om Bhandwalkar\\Desktop\\pos\\negative-words.txt\",encoding =\"ISO-8859-1\") as neg:\n",
    "    negwords = neg.read().split(\"\\n\")\n",
    "    \n",
    "negwords = negwords[36:]\n",
    "neg_count = \" \".join ([w for w in text if w in negwords])\n",
    "neg_count=neg_count.split(\" \")\n",
    "Negative_score=len(neg_count)\n",
    "print(Negative_score)"
   ]
  },
  {
   "cell_type": "code",
   "execution_count": 7,
   "id": "87706a83",
   "metadata": {},
   "outputs": [
    {
     "data": {
      "text/html": [
       "<div>\n",
       "<style scoped>\n",
       "    .dataframe tbody tr th:only-of-type {\n",
       "        vertical-align: middle;\n",
       "    }\n",
       "\n",
       "    .dataframe tbody tr th {\n",
       "        vertical-align: top;\n",
       "    }\n",
       "\n",
       "    .dataframe thead th {\n",
       "        text-align: right;\n",
       "    }\n",
       "</style>\n",
       "<table border=\"1\" class=\"dataframe\">\n",
       "  <thead>\n",
       "    <tr style=\"text-align: right;\">\n",
       "      <th></th>\n",
       "      <th>url</th>\n",
       "      <th>title</th>\n",
       "      <th>content</th>\n",
       "      <th>filter_content</th>\n",
       "      <th>Positive_Score</th>\n",
       "      <th>Negative_Score</th>\n",
       "      <th>polarity</th>\n",
       "      <th>subjectivity</th>\n",
       "    </tr>\n",
       "  </thead>\n",
       "  <tbody>\n",
       "    <tr>\n",
       "      <th>0</th>\n",
       "      <td>https://insights.blackcoffer.com/continued-dem...</td>\n",
       "      <td>Continued Demand for Sustainability</td>\n",
       "      <td>The business of business is no longer to do j...</td>\n",
       "      <td>The business of business is no longer to do ju...</td>\n",
       "      <td>56</td>\n",
       "      <td>32</td>\n",
       "      <td>0.0561</td>\n",
       "      <td>0.44689</td>\n",
       "    </tr>\n",
       "  </tbody>\n",
       "</table>\n",
       "</div>"
      ],
      "text/plain": [
       "                                                 url  \\\n",
       "0  https://insights.blackcoffer.com/continued-dem...   \n",
       "\n",
       "                                 title  \\\n",
       "0  Continued Demand for Sustainability   \n",
       "\n",
       "                                             content  \\\n",
       "0   The business of business is no longer to do j...   \n",
       "\n",
       "                                      filter_content  Positive_Score  \\\n",
       "0  The business of business is no longer to do ju...              56   \n",
       "\n",
       "   Negative_Score  polarity  subjectivity  \n",
       "0              32    0.0561       0.44689  "
      ]
     },
     "execution_count": 7,
     "metadata": {},
     "output_type": "execute_result"
    }
   ],
   "source": [
    "filter_content = ' '.join(text)\n",
    "data=[[url,title,content,filter_content,Positive_score,Negative_score]]\n",
    "data=pd.DataFrame(data,columns=[\"url\",\"title\",\"content\",\"filter_content\",\"Positive_Score\",\"Negative_Score\"])\n",
    "from textblob import TextBlob\n",
    "# Get The Subjectivity\n",
    "def sentiment_analysis(data):\n",
    "    sentiment = TextBlob(data[\"content\"]).sentiment\n",
    "    return pd.Series([sentiment.polarity,sentiment.subjectivity ])\n",
    "\n",
    "# Adding Subjectivity & Polarity\n",
    "data[[\"polarity\", \"subjectivity\"]] = data.apply(sentiment_analysis, axis=1)\n",
    "\n",
    "data"
   ]
  },
  {
   "cell_type": "code",
   "execution_count": 8,
   "id": "3679075d",
   "metadata": {},
   "outputs": [
    {
     "name": "stdout",
     "output_type": "stream",
     "text": [
      "Word average = 5801.0\n",
      "FOG INDEX =  403.25\n",
      "Average no of words per sentence\n",
      "992.0\n",
      "Complex Words 2105\n"
     ]
    }
   ],
   "source": [
    "#AVG SENTENCE LENGTH\n",
    "AVG_SENTENCE_LENGTH = len(content.replace(' ',''))/len(re.split(r'[?!.]', content))\n",
    "print('Word average =', AVG_SENTENCE_LENGTH)\n",
    "import textstat\n",
    "#Fog index \n",
    "FOG_INDEX=(textstat.gunning_fog(content))\n",
    "print(\"FOG INDEX = \",FOG_INDEX)\n",
    "#Average No of Words Per Sentence \n",
    "AVG_NUMBER_OF_WORDS_PER_SENTENCE = [len(l.split()) for l in re.split(r'[?!.]', content) if l.strip()]\n",
    "print(\"Average no of words per sentence\")\n",
    "AVG_NUMBER_OF_WORDS_PER_SENTENCE=print(sum(AVG_NUMBER_OF_WORDS_PER_SENTENCE)/len(AVG_NUMBER_OF_WORDS_PER_SENTENCE))\n",
    "#Complex words\n",
    "def syllable_count(word):\n",
    "    count = 0\n",
    "    vowels = \"AEIOUYaeiouy\"\n",
    "    if word[0] in vowels:\n",
    "        count += 1\n",
    "    for index in range(1, len(word)): \n",
    "        if word[index] in vowels and word[index - 1] not in vowels:\n",
    "            count += 1\n",
    "            if word.endswith(\"es\"or \"ed\"):\n",
    "                count -= 1\n",
    "    if count == 0:\n",
    "        count += 1\n",
    "    return count\n",
    "\n",
    "\n",
    "\n",
    "COMPLEX_WORDS=syllable_count(content)\n",
    "print(\"Complex Words\",COMPLEX_WORDS)\n"
   ]
  },
  {
   "cell_type": "code",
   "execution_count": 9,
   "id": "83e13158",
   "metadata": {},
   "outputs": [
    {
     "name": "stdout",
     "output_type": "stream",
     "text": [
      "Word Count 6802\n",
      "Percentage of Complex Words 30.946780358718023\n",
      "Average Word per Length 5.847782258064516\n",
      "The AVG number of syllables in the word is: \n",
      "2.3618951612903225\n",
      "Word Count 6802\n",
      "Percentage of Complex Words 30.946780358718023\n",
      "Average Word per Length 5.847782258064516\n",
      "The AVG number of syllables in the word is: \n",
      "2.3618951612903225\n"
     ]
    }
   ],
   "source": [
    "#Word Count\n",
    "Word_Count=len(content)\n",
    "print(\"Word Count\",Word_Count)\n",
    "#Percentage Complex Words\n",
    "pcw=(COMPLEX_WORDS/Word_Count)*100\n",
    "print(\"Percentage of Complex Words\",pcw)\n",
    "#Average Word Length\n",
    "Average_Word_Length=len(content.replace(' ',''))/len(content.split())\n",
    "print(\"Average Word per Length\",Average_Word_Length)\n",
    "#Syllable Count Per Word\n",
    "word=content.replace(' ','')\n",
    "syllable_count=0\n",
    "for w in word:\n",
    "      if(w=='a' or w=='e' or w=='i' or w=='o' or w=='y' or w=='u' or w=='A' or w=='E' or w=='I' or w=='O' or w=='U' or w=='Y'):\n",
    "            syllable_count=syllable_count+1\n",
    "print(\"The AVG number of syllables in the word is: \")\n",
    "print(syllable_count/len(content.split()))#Word Count\n",
    "Word_Count=len(content)\n",
    "print(\"Word Count\",Word_Count)\n",
    "#Percentage Complex Words\n",
    "pcw=(COMPLEX_WORDS/Word_Count)*100\n",
    "print(\"Percentage of Complex Words\",pcw)\n",
    "#Average Word Length\n",
    "Average_Word_Length=len(content.replace(' ',''))/len(content.split())\n",
    "print(\"Average Word per Length\",Average_Word_Length)\n",
    "#Syllable Count Per Word\n",
    "word=content.replace(' ','')\n",
    "syllable_count=0\n",
    "for w in word:\n",
    "      if(w=='a' or w=='e' or w=='i' or w=='o' or w=='y' or w=='u' or w=='A' or w=='E' or w=='I' or w=='O' or w=='U' or w=='Y'):\n",
    "            syllable_count=syllable_count+1\n",
    "print(\"The AVG number of syllables in the word is: \")\n",
    "print(syllable_count/len(content.split()))"
   ]
  },
  {
   "cell_type": "code",
   "execution_count": 1,
   "id": "847aead6",
   "metadata": {},
   "outputs": [
    {
     "name": "stdout",
     "output_type": "stream",
     "text": [
      "56\n",
      "32\n",
      "Word average = 5801.0\n",
      "FOG INDEX =  403.25\n",
      "Average no of words per sentence\n",
      "992.0\n",
      "Complex Words 2105\n",
      "Word Count 6803\n",
      "Percentage of Complex Words 30.94223136851389\n",
      "Average Word per Length 5.847782258064516\n",
      "The AVG number of syllables in the word is: \n",
      "2.3618951612903225\n"
     ]
    },
    {
     "data": {
      "text/html": [
       "<div>\n",
       "<style scoped>\n",
       "    .dataframe tbody tr th:only-of-type {\n",
       "        vertical-align: middle;\n",
       "    }\n",
       "\n",
       "    .dataframe tbody tr th {\n",
       "        vertical-align: top;\n",
       "    }\n",
       "\n",
       "    .dataframe thead th {\n",
       "        text-align: right;\n",
       "    }\n",
       "</style>\n",
       "<table border=\"1\" class=\"dataframe\">\n",
       "  <thead>\n",
       "    <tr style=\"text-align: right;\">\n",
       "      <th></th>\n",
       "      <th>url</th>\n",
       "      <th>title</th>\n",
       "      <th>content</th>\n",
       "      <th>filter_content</th>\n",
       "      <th>Positive_Score</th>\n",
       "      <th>Negative_Score</th>\n",
       "      <th>Avg_Sentence_Length</th>\n",
       "      <th>Percentage_Complex_Word</th>\n",
       "      <th>Fog_Index</th>\n",
       "      <th>AVG_NUMBER_OF_WORDS_PER_SENTENCE</th>\n",
       "      <th>COMPLEX_WORDS</th>\n",
       "      <th>Word_Count</th>\n",
       "      <th>syllable</th>\n",
       "      <th>Average_Word_Length</th>\n",
       "      <th>polarity</th>\n",
       "      <th>subjectivity</th>\n",
       "    </tr>\n",
       "  </thead>\n",
       "  <tbody>\n",
       "    <tr>\n",
       "      <th>0</th>\n",
       "      <td>https://insights.blackcoffer.com/continued-dem...</td>\n",
       "      <td>Continued Demand for Sustainability</td>\n",
       "      <td>The business of business is no longer to do ...</td>\n",
       "      <td>The business of business is no longer to do ju...</td>\n",
       "      <td>56</td>\n",
       "      <td>32</td>\n",
       "      <td>5801.0</td>\n",
       "      <td>30.942231</td>\n",
       "      <td>403.25</td>\n",
       "      <td>992.0</td>\n",
       "      <td>2105</td>\n",
       "      <td>6803</td>\n",
       "      <td>2.361895</td>\n",
       "      <td>5.847782</td>\n",
       "      <td>0.0561</td>\n",
       "      <td>0.44689</td>\n",
       "    </tr>\n",
       "  </tbody>\n",
       "</table>\n",
       "</div>"
      ],
      "text/plain": [
       "                                                 url  \\\n",
       "0  https://insights.blackcoffer.com/continued-dem...   \n",
       "\n",
       "                                 title  \\\n",
       "0  Continued Demand for Sustainability   \n",
       "\n",
       "                                             content  \\\n",
       "0    The business of business is no longer to do ...   \n",
       "\n",
       "                                      filter_content  Positive_Score  \\\n",
       "0  The business of business is no longer to do ju...              56   \n",
       "\n",
       "   Negative_Score  Avg_Sentence_Length  Percentage_Complex_Word  Fog_Index  \\\n",
       "0              32               5801.0                30.942231     403.25   \n",
       "\n",
       "    AVG_NUMBER_OF_WORDS_PER_SENTENCE  COMPLEX_WORDS  Word_Count  syllable  \\\n",
       "0                              992.0           2105        6803  2.361895   \n",
       "\n",
       "   Average_Word_Length  polarity  subjectivity  \n",
       "0             5.847782    0.0561       0.44689  "
      ]
     },
     "execution_count": 1,
     "metadata": {},
     "output_type": "execute_result"
    }
   ],
   "source": [
    "import requests\n",
    "import pandas as pd \n",
    "from bs4 import BeautifulSoup\n",
    "import string\n",
    "import spacy\n",
    "import re\n",
    "url = \"\"\"https://insights.blackcoffer.com/continued-demand-for-sustainability/\"\"\"\n",
    "headers = {\"User-Agent\": \"Mozilla/5.0 (X11; Linux x86_64; rv:60.0) Gecko/20100101 Firefox/60.0\"}\n",
    "page = requests.get(url, headers=headers)\n",
    "soup = BeautifulSoup(page.content, 'html.parser')\n",
    "soup=BeautifulSoup(page.content, 'html.parser')\n",
    "title=soup.find('h1',class_=\"entry-title\")\n",
    "title=title.text.replace('\\n',\" \")\n",
    "# title\n",
    "\n",
    "content=soup.findAll(attrs={'class':'td-post-content'})\n",
    "content=content[0].text.replace('\\n',\" \")\n",
    "# print(content)\n",
    "#Punctuation\n",
    "content = content.translate(str.maketrans('', '', string.punctuation)) \n",
    "# print(content)\n",
    "text = content.split()\n",
    "# print(text)\n",
    "len(text)\n",
    "#Positive Score \n",
    "with open(r\"C:\\Users\\Om Bhandwalkar\\Desktop\\pos\\positive-words.txt\") as pos:\n",
    "    poswords = pos.read().split(\"\\n\")  \n",
    "    poswords = poswords[5:]\n",
    "pos_count = \" \".join ([w for w in text if w in poswords])\n",
    "pos_count=pos_count.split(\" \")\n",
    "Positive_score=len(pos_count)\n",
    "print(Positive_score)\n",
    "\n",
    "#Negative Score\n",
    "with open(r\"C:\\Users\\Om Bhandwalkar\\Desktop\\pos\\negative-words.txt\",encoding =\"ISO-8859-1\") as neg:\n",
    "    negwords = neg.read().split(\"\\n\")\n",
    "    \n",
    "negwords = negwords[36:]\n",
    "neg_count = \" \".join ([w for w in text if w in negwords])\n",
    "neg_count=neg_count.split(\" \")\n",
    "Negative_score=len(neg_count)\n",
    "print(Negative_score)\n",
    "\n",
    "\n",
    "filter_content = ' '.join(text)\n",
    "data=[[url,title,content,filter_content,Positive_score,Negative_score]]\n",
    "data=pd.DataFrame(data,columns=[\"url\",\"title\",\"content\",\"filter_content\",\"Positive_Score\",\"Negative_Score\"])\n",
    "from textblob import TextBlob\n",
    "# Get The Subjectivity\n",
    "def sentiment_analysis(data):\n",
    "    sentiment = TextBlob(data[\"content\"]).sentiment\n",
    "    return pd.Series([sentiment.polarity,sentiment.subjectivity ])\n",
    "data[[\"polarity\", \"subjectivity\"]] = data.apply(sentiment_analysis, axis=1)\n",
    "data\n",
    "#AVG SENTENCE LENGTH\n",
    "AVG_SENTENCE_LENGTH = len(content.replace(' ',''))/len(re.split(r'[?!.]', content))\n",
    "print('Word average =', AVG_SENTENCE_LENGTH)\n",
    "import textstat\n",
    "#Fog index \n",
    "FOG_INDEX=(textstat.gunning_fog(content))\n",
    "print(\"FOG INDEX = \",FOG_INDEX)\n",
    "#Average No of Words Per Sentence \n",
    "AVG_NUMBER_OF_WORDS_PER_SENTENCE = [len(l.split()) for l in re.split(r'[?!.]', content) if l.strip()]\n",
    "print(\"Average no of words per sentence\")\n",
    "AVG_NUMBER_OF_WORDS_PER_SENTENCE=(sum(AVG_NUMBER_OF_WORDS_PER_SENTENCE)/len(AVG_NUMBER_OF_WORDS_PER_SENTENCE))\n",
    "print(AVG_NUMBER_OF_WORDS_PER_SENTENCE)\n",
    "#Complex words\n",
    "def syllable_count(word):\n",
    "    count = 0\n",
    "    vowels = \"AEIOUYaeiouy\"\n",
    "    if word[0] in vowels:\n",
    "        count += 1\n",
    "    for index in range(1, len(word)): \n",
    "        if word[index] in vowels and word[index - 1] not in vowels:\n",
    "            count += 1\n",
    "            if word.endswith(\"es\"or \"ed\"):\n",
    "                count -= 1\n",
    "    if count == 0:\n",
    "        count += 1\n",
    "    return count\n",
    "\n",
    "\n",
    "\n",
    "COMPLEX_WORDS=syllable_count(content)\n",
    "print(\"Complex Words\",COMPLEX_WORDS)\n",
    "#Word Count\n",
    "Word_Count=len(content)\n",
    "print(\"Word Count\",Word_Count)\n",
    "#Percentage Complex Words\n",
    "pcw=(COMPLEX_WORDS/Word_Count)*100\n",
    "print(\"Percentage of Complex Words\",pcw)\n",
    "#Average Word Length\n",
    "Average_Word_Length=len(content.replace(' ',''))/len(content.split())\n",
    "print(\"Average Word per Length\",Average_Word_Length)\n",
    "#Syllable Count Per Word\n",
    "word=content.replace(' ','')\n",
    "syllable_count=0\n",
    "for w in word:\n",
    "      if(w=='a' or w=='e' or w=='i' or w=='o' or w=='y' or w=='u' or w=='A' or w=='E' or w=='I' or w=='O' or w=='U' or w=='Y'):\n",
    "            syllable_count=syllable_count+1\n",
    "print(\"The AVG number of syllables in the word is: \")\n",
    "syllable = (syllable_count/len(content.split()))\n",
    "print(syllable)\n",
    "\n",
    "data = [[url,title,content,filter_content,Positive_score,Negative_score,AVG_SENTENCE_LENGTH,pcw,FOG_INDEX,\n",
    "         AVG_NUMBER_OF_WORDS_PER_SENTENCE,COMPLEX_WORDS,Word_Count,syllable,Average_Word_Length]]\n",
    "data=pd.DataFrame(data,columns=[\"url\",\"title\",\"content\",\"filter_content\",\"Positive_Score\",\"Negative_Score\",\"Avg_Sentence_Length\"\n",
    "                               ,\"Percentage_Complex_Word\",\"Fog_Index\",\" AVG_NUMBER_OF_WORDS_PER_SENTENCE\",\"COMPLEX_WORDS\",\n",
    "                               \"Word_Count\",\"syllable\",\"Average_Word_Length\"])\n",
    "from textblob import TextBlob\n",
    "# Get The Subjectivity\n",
    "def sentiment_analysis(data):\n",
    "    sentiment = TextBlob(data[\"content\"]).sentiment\n",
    "    return pd.Series([sentiment.polarity,sentiment.subjectivity ])\n",
    "data[[\"polarity\", \"subjectivity\"]] = data.apply(sentiment_analysis, axis=1)\n",
    "data"
   ]
  },
  {
   "cell_type": "code",
   "execution_count": 2,
   "id": "8552ce0f",
   "metadata": {},
   "outputs": [],
   "source": [
    "data.to_csv(r'C:\\Users\\Om Bhandwalkar\\Desktop\\BlackCoffer Assignment\\Output\\url_133.csv')"
   ]
  },
  {
   "cell_type": "code",
   "execution_count": null,
   "id": "cbf095a8",
   "metadata": {},
   "outputs": [],
   "source": []
  }
 ],
 "metadata": {
  "kernelspec": {
   "display_name": "Python 3 (ipykernel)",
   "language": "python",
   "name": "python3"
  },
  "language_info": {
   "codemirror_mode": {
    "name": "ipython",
    "version": 3
   },
   "file_extension": ".py",
   "mimetype": "text/x-python",
   "name": "python",
   "nbconvert_exporter": "python",
   "pygments_lexer": "ipython3",
   "version": "3.9.12"
  }
 },
 "nbformat": 4,
 "nbformat_minor": 5
}
