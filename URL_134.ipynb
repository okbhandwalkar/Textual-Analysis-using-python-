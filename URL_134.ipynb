{
 "cells": [
  {
   "cell_type": "code",
   "execution_count": 1,
   "id": "2fe9b88c",
   "metadata": {},
   "outputs": [
    {
     "data": {
      "text/plain": [
       "'Coronavirus Disease (COVID-19) Effect: The Impact and Role of Mass Media During the Pandemic'"
      ]
     },
     "execution_count": 1,
     "metadata": {},
     "output_type": "execute_result"
    }
   ],
   "source": [
    "import requests\n",
    "import pandas as pd \n",
    "from bs4 import BeautifulSoup\n",
    "import string\n",
    "import spacy\n",
    "import re\n",
    "url = \"\"\"https://insights.blackcoffer.com/coronavirus-disease-covid-19-effect-the-impact-and-role-of-mass-media-during-the-pandemic/\"\"\"\n",
    "headers = {\"User-Agent\": \"Mozilla/5.0 (X11; Linux x86_64; rv:60.0) Gecko/20100101 Firefox/60.0\"}\n",
    "page = requests.get(url, headers=headers)\n",
    "soup = BeautifulSoup(page.content, 'html.parser')\n",
    "soup=BeautifulSoup(page.content, 'html.parser')\n",
    "title=soup.find('h1',class_=\"entry-title\")\n",
    "title=title.text.replace('\\n',\" \")\n",
    "title\n"
   ]
  },
  {
   "cell_type": "code",
   "execution_count": 2,
   "id": "9956bf6e",
   "metadata": {},
   "outputs": [
    {
     "name": "stdout",
     "output_type": "stream",
     "text": [
      " The outbreak of coronavirus disease 2019 (COVID-19) has created a global health crisis that has had a deep impact on the way we perceive our world and our everyday lives. Not only the rate of contagion and patterns of transmission threatens our sense of agency, but the safety measures put in place to contain the spread of the virus also require social distancing by refraining from doing what is inherently human, which is to find solace in the company of others. Within this context of physical threat, social and physical distancing, as well as public alarm, what has been (and can be) the role of the different mass media channels in our lives on individual, social and societal levels?Mass media have long been recognized as powerful forces shaping how we experience the world and ourselves. This recognition is accompanied by a growing volume of research, that closely follows the footsteps of technological transformations (e.g. radio, movies, television, the internet, mobiles) and the zeitgeist (e.g. cold war, 9/11, climate change) in an attempt to map mass media major impacts on how we perceive ourselves, both as individuals and citizens. Are media (broadcast and digital) still able to convey a sense of unity reaching large audiences, or are messages lost in the noisy crowd of mass self-communication? Do social media provide solace or grounds for misinformation, (de)humanization, and discrimination? Can we harness the flexibility and ubiquity of media technologies to increase the public’s adherence to the safety measures suggested by global health organizations to combat the spread of COVID-19? How can different media industries and channels for mass communication promote adaptive responses to foster positive health attitudes and adherence to preventive measures? How media impact the dynamics in the private domain (e.g. strengthen family bonds versus domestic conflict and violence)? Coronavirus Disease (COVID-19) Effect Effective health communication for the adoption of sustainable preventive measures and curtailing misinformationPublic health communication to increase psychological resources and resilience in distinct age groups and socioeconomic conditionsEffective strategies for helping individuals in dealing with social and physical distancingReduction of stigma, prejudice, discrimination, and inequalities. COVID-19, coronavirus disease, mass media, health communication, prevention, intervention, social-behavioral changes \n",
      " The outbreak of coronavirus disease 2019 COVID19 has created a global health crisis that has had a deep impact on the way we perceive our world and our everyday lives Not only the rate of contagion and patterns of transmission threatens our sense of agency but the safety measures put in place to contain the spread of the virus also require social distancing by refraining from doing what is inherently human which is to find solace in the company of others Within this context of physical threat social and physical distancing as well as public alarm what has been and can be the role of the different mass media channels in our lives on individual social and societal levelsMass media have long been recognized as powerful forces shaping how we experience the world and ourselves This recognition is accompanied by a growing volume of research that closely follows the footsteps of technological transformations eg radio movies television the internet mobiles and the zeitgeist eg cold war 911 climate change in an attempt to map mass media major impacts on how we perceive ourselves both as individuals and citizens Are media broadcast and digital still able to convey a sense of unity reaching large audiences or are messages lost in the noisy crowd of mass selfcommunication Do social media provide solace or grounds for misinformation dehumanization and discrimination Can we harness the flexibility and ubiquity of media technologies to increase the public’s adherence to the safety measures suggested by global health organizations to combat the spread of COVID19 How can different media industries and channels for mass communication promote adaptive responses to foster positive health attitudes and adherence to preventive measures How media impact the dynamics in the private domain eg strengthen family bonds versus domestic conflict and violence Coronavirus Disease COVID19 Effect Effective health communication for the adoption of sustainable preventive measures and curtailing misinformationPublic health communication to increase psychological resources and resilience in distinct age groups and socioeconomic conditionsEffective strategies for helping individuals in dealing with social and physical distancingReduction of stigma prejudice discrimination and inequalities COVID19 coronavirus disease mass media health communication prevention intervention socialbehavioral changes \n",
      "['The', 'outbreak', 'of', 'coronavirus', 'disease', '2019', 'COVID19', 'has', 'created', 'a', 'global', 'health', 'crisis', 'that', 'has', 'had', 'a', 'deep', 'impact', 'on', 'the', 'way', 'we', 'perceive', 'our', 'world', 'and', 'our', 'everyday', 'lives', 'Not', 'only', 'the', 'rate', 'of', 'contagion', 'and', 'patterns', 'of', 'transmission', 'threatens', 'our', 'sense', 'of', 'agency', 'but', 'the', 'safety', 'measures', 'put', 'in', 'place', 'to', 'contain', 'the', 'spread', 'of', 'the', 'virus', 'also', 'require', 'social', 'distancing', 'by', 'refraining', 'from', 'doing', 'what', 'is', 'inherently', 'human', 'which', 'is', 'to', 'find', 'solace', 'in', 'the', 'company', 'of', 'others', 'Within', 'this', 'context', 'of', 'physical', 'threat', 'social', 'and', 'physical', 'distancing', 'as', 'well', 'as', 'public', 'alarm', 'what', 'has', 'been', 'and', 'can', 'be', 'the', 'role', 'of', 'the', 'different', 'mass', 'media', 'channels', 'in', 'our', 'lives', 'on', 'individual', 'social', 'and', 'societal', 'levelsMass', 'media', 'have', 'long', 'been', 'recognized', 'as', 'powerful', 'forces', 'shaping', 'how', 'we', 'experience', 'the', 'world', 'and', 'ourselves', 'This', 'recognition', 'is', 'accompanied', 'by', 'a', 'growing', 'volume', 'of', 'research', 'that', 'closely', 'follows', 'the', 'footsteps', 'of', 'technological', 'transformations', 'eg', 'radio', 'movies', 'television', 'the', 'internet', 'mobiles', 'and', 'the', 'zeitgeist', 'eg', 'cold', 'war', '911', 'climate', 'change', 'in', 'an', 'attempt', 'to', 'map', 'mass', 'media', 'major', 'impacts', 'on', 'how', 'we', 'perceive', 'ourselves', 'both', 'as', 'individuals', 'and', 'citizens', 'Are', 'media', 'broadcast', 'and', 'digital', 'still', 'able', 'to', 'convey', 'a', 'sense', 'of', 'unity', 'reaching', 'large', 'audiences', 'or', 'are', 'messages', 'lost', 'in', 'the', 'noisy', 'crowd', 'of', 'mass', 'selfcommunication', 'Do', 'social', 'media', 'provide', 'solace', 'or', 'grounds', 'for', 'misinformation', 'dehumanization', 'and', 'discrimination', 'Can', 'we', 'harness', 'the', 'flexibility', 'and', 'ubiquity', 'of', 'media', 'technologies', 'to', 'increase', 'the', 'public’s', 'adherence', 'to', 'the', 'safety', 'measures', 'suggested', 'by', 'global', 'health', 'organizations', 'to', 'combat', 'the', 'spread', 'of', 'COVID19', 'How', 'can', 'different', 'media', 'industries', 'and', 'channels', 'for', 'mass', 'communication', 'promote', 'adaptive', 'responses', 'to', 'foster', 'positive', 'health', 'attitudes', 'and', 'adherence', 'to', 'preventive', 'measures', 'How', 'media', 'impact', 'the', 'dynamics', 'in', 'the', 'private', 'domain', 'eg', 'strengthen', 'family', 'bonds', 'versus', 'domestic', 'conflict', 'and', 'violence', 'Coronavirus', 'Disease', 'COVID19', 'Effect', 'Effective', 'health', 'communication', 'for', 'the', 'adoption', 'of', 'sustainable', 'preventive', 'measures', 'and', 'curtailing', 'misinformationPublic', 'health', 'communication', 'to', 'increase', 'psychological', 'resources', 'and', 'resilience', 'in', 'distinct', 'age', 'groups', 'and', 'socioeconomic', 'conditionsEffective', 'strategies', 'for', 'helping', 'individuals', 'in', 'dealing', 'with', 'social', 'and', 'physical', 'distancingReduction', 'of', 'stigma', 'prejudice', 'discrimination', 'and', 'inequalities', 'COVID19', 'coronavirus', 'disease', 'mass', 'media', 'health', 'communication', 'prevention', 'intervention', 'socialbehavioral', 'changes']\n"
     ]
    }
   ],
   "source": [
    "content=soup.findAll(attrs={'class':'td-post-content'})\n",
    "content=content[0].text.replace('\\n',\" \")\n",
    "print(content)\n",
    "#Punctuation\n",
    "content = content.translate(str.maketrans('', '', string.punctuation)) \n",
    "print(content)\n",
    "text = content.split()\n",
    "print(text)\n"
   ]
  },
  {
   "cell_type": "code",
   "execution_count": 3,
   "id": "b11606d3",
   "metadata": {},
   "outputs": [
    {
     "data": {
      "text/plain": [
       "358"
      ]
     },
     "execution_count": 3,
     "metadata": {},
     "output_type": "execute_result"
    }
   ],
   "source": [
    "len(text)"
   ]
  },
  {
   "cell_type": "code",
   "execution_count": 4,
   "id": "2c9af963",
   "metadata": {},
   "outputs": [
    {
     "name": "stdout",
     "output_type": "stream",
     "text": [
      "10\n"
     ]
    }
   ],
   "source": [
    "#Positive Score \n",
    "with open(r\"C:\\Users\\Om Bhandwalkar\\Desktop\\pos\\positive-words.txt\") as pos:\n",
    "    poswords = pos.read().split(\"\\n\")  \n",
    "    poswords = poswords[5:]\n",
    "pos_count = \" \".join ([w for w in text if w in poswords])\n",
    "pos_count=pos_count.split(\" \")\n",
    "Positive_score=len(pos_count)\n",
    "print(Positive_score)"
   ]
  },
  {
   "cell_type": "code",
   "execution_count": 5,
   "id": "4a2fa2db",
   "metadata": {},
   "outputs": [
    {
     "name": "stdout",
     "output_type": "stream",
     "text": [
      "15\n"
     ]
    }
   ],
   "source": [
    "#Negative Score\n",
    "with open(r\"C:\\Users\\Om Bhandwalkar\\Desktop\\pos\\negative-words.txt\",encoding =\"ISO-8859-1\") as neg:\n",
    "    negwords = neg.read().split(\"\\n\")\n",
    "    \n",
    "negwords = negwords[36:]\n",
    "neg_count = \" \".join ([w for w in text if w in negwords])\n",
    "neg_count=neg_count.split(\" \")\n",
    "Negative_score=len(neg_count)\n",
    "print(Negative_score)"
   ]
  },
  {
   "cell_type": "code",
   "execution_count": 6,
   "id": "4057e790",
   "metadata": {},
   "outputs": [
    {
     "data": {
      "text/html": [
       "<div>\n",
       "<style scoped>\n",
       "    .dataframe tbody tr th:only-of-type {\n",
       "        vertical-align: middle;\n",
       "    }\n",
       "\n",
       "    .dataframe tbody tr th {\n",
       "        vertical-align: top;\n",
       "    }\n",
       "\n",
       "    .dataframe thead th {\n",
       "        text-align: right;\n",
       "    }\n",
       "</style>\n",
       "<table border=\"1\" class=\"dataframe\">\n",
       "  <thead>\n",
       "    <tr style=\"text-align: right;\">\n",
       "      <th></th>\n",
       "      <th>url</th>\n",
       "      <th>title</th>\n",
       "      <th>content</th>\n",
       "      <th>filter_content</th>\n",
       "      <th>Positive_Score</th>\n",
       "      <th>Negative_Score</th>\n",
       "      <th>polarity</th>\n",
       "      <th>subjectivity</th>\n",
       "    </tr>\n",
       "  </thead>\n",
       "  <tbody>\n",
       "    <tr>\n",
       "      <th>0</th>\n",
       "      <td>https://insights.blackcoffer.com/coronavirus-d...</td>\n",
       "      <td>Coronavirus Disease (COVID-19) Effect: The Imp...</td>\n",
       "      <td>The outbreak of coronavirus disease 2019 COVI...</td>\n",
       "      <td>The outbreak of coronavirus disease 2019 COVID...</td>\n",
       "      <td>10</td>\n",
       "      <td>15</td>\n",
       "      <td>0.047523</td>\n",
       "      <td>0.33654</td>\n",
       "    </tr>\n",
       "  </tbody>\n",
       "</table>\n",
       "</div>"
      ],
      "text/plain": [
       "                                                 url  \\\n",
       "0  https://insights.blackcoffer.com/coronavirus-d...   \n",
       "\n",
       "                                               title  \\\n",
       "0  Coronavirus Disease (COVID-19) Effect: The Imp...   \n",
       "\n",
       "                                             content  \\\n",
       "0   The outbreak of coronavirus disease 2019 COVI...   \n",
       "\n",
       "                                      filter_content  Positive_Score  \\\n",
       "0  The outbreak of coronavirus disease 2019 COVID...              10   \n",
       "\n",
       "   Negative_Score  polarity  subjectivity  \n",
       "0              15  0.047523       0.33654  "
      ]
     },
     "execution_count": 6,
     "metadata": {},
     "output_type": "execute_result"
    }
   ],
   "source": [
    "filter_content = ' '.join(text)\n",
    "data=[[url,title,content,filter_content,Positive_score,Negative_score]]\n",
    "data=pd.DataFrame(data,columns=[\"url\",\"title\",\"content\",\"filter_content\",\"Positive_Score\",\"Negative_Score\"])\n",
    "from textblob import TextBlob\n",
    "# Get The Subjectivity\n",
    "def sentiment_analysis(data):\n",
    "    sentiment = TextBlob(data[\"content\"]).sentiment\n",
    "    return pd.Series([sentiment.polarity,sentiment.subjectivity ])\n",
    "\n",
    "# Adding Subjectivity & Polarity\n",
    "data[[\"polarity\", \"subjectivity\"]] = data.apply(sentiment_analysis, axis=1)\n",
    "\n",
    "data"
   ]
  },
  {
   "cell_type": "code",
   "execution_count": 7,
   "id": "3b54cef1",
   "metadata": {},
   "outputs": [
    {
     "name": "stdout",
     "output_type": "stream",
     "text": [
      "Word average = 2042.0\n",
      "FOG INDEX =  149.35\n",
      "Average no of words per sentence\n",
      "358.0\n",
      "Complex Words 726\n"
     ]
    }
   ],
   "source": [
    "#AVG SENTENCE LENGTH\n",
    "AVG_SENTENCE_LENGTH = len(content.replace(' ',''))/len(re.split(r'[?!.]', content))\n",
    "print('Word average =', AVG_SENTENCE_LENGTH)\n",
    "import textstat\n",
    "#Fog index \n",
    "FOG_INDEX=(textstat.gunning_fog(content))\n",
    "print(\"FOG INDEX = \",FOG_INDEX)\n",
    "#Average No of Words Per Sentence \n",
    "AVG_NUMBER_OF_WORDS_PER_SENTENCE = [len(l.split()) for l in re.split(r'[?!.]', content) if l.strip()]\n",
    "print(\"Average no of words per sentence\")\n",
    "AVG_NUMBER_OF_WORDS_PER_SENTENCE=print(sum(AVG_NUMBER_OF_WORDS_PER_SENTENCE)/len(AVG_NUMBER_OF_WORDS_PER_SENTENCE))\n",
    "#Complex words\n",
    "def syllable_count(word):\n",
    "    count = 0\n",
    "    vowels = \"AEIOUYaeiouy\"\n",
    "    if word[0] in vowels:\n",
    "        count += 1\n",
    "    for index in range(1, len(word)): \n",
    "        if word[index] in vowels and word[index - 1] not in vowels:\n",
    "            count += 1\n",
    "            if word.endswith(\"es\"or \"ed\"):\n",
    "                count -= 1\n",
    "    if count == 0:\n",
    "        count += 1\n",
    "    return count\n",
    "\n",
    "\n",
    "\n",
    "COMPLEX_WORDS=syllable_count(content)\n",
    "print(\"Complex Words\",COMPLEX_WORDS)\n"
   ]
  },
  {
   "cell_type": "code",
   "execution_count": 8,
   "id": "a560690f",
   "metadata": {},
   "outputs": [
    {
     "name": "stdout",
     "output_type": "stream",
     "text": [
      "Word Count 2401\n",
      "Percentage of Complex Words 30.23740108288213\n",
      "Average Word per Length 5.70391061452514\n",
      "The AVG number of syllables in the word is: \n",
      "2.3379888268156424\n",
      "Word Count 2401\n",
      "Percentage of Complex Words 30.23740108288213\n",
      "Average Word per Length 5.70391061452514\n",
      "The AVG number of syllables in the word is: \n",
      "2.3379888268156424\n"
     ]
    }
   ],
   "source": [
    "#Word Count\n",
    "Word_Count=len(content)\n",
    "print(\"Word Count\",Word_Count)\n",
    "#Percentage Complex Words\n",
    "pcw=(COMPLEX_WORDS/Word_Count)*100\n",
    "print(\"Percentage of Complex Words\",pcw)\n",
    "#Average Word Length\n",
    "Average_Word_Length=len(content.replace(' ',''))/len(content.split())\n",
    "print(\"Average Word per Length\",Average_Word_Length)\n",
    "#Syllable Count Per Word\n",
    "word=content.replace(' ','')\n",
    "syllable_count=0\n",
    "for w in word:\n",
    "      if(w=='a' or w=='e' or w=='i' or w=='o' or w=='y' or w=='u' or w=='A' or w=='E' or w=='I' or w=='O' or w=='U' or w=='Y'):\n",
    "            syllable_count=syllable_count+1\n",
    "print(\"The AVG number of syllables in the word is: \")\n",
    "print(syllable_count/len(content.split()))#Word Count\n",
    "Word_Count=len(content)\n",
    "print(\"Word Count\",Word_Count)\n",
    "#Percentage Complex Words\n",
    "pcw=(COMPLEX_WORDS/Word_Count)*100\n",
    "print(\"Percentage of Complex Words\",pcw)\n",
    "#Average Word Length\n",
    "Average_Word_Length=len(content.replace(' ',''))/len(content.split())\n",
    "print(\"Average Word per Length\",Average_Word_Length)\n",
    "#Syllable Count Per Word\n",
    "word=content.replace(' ','')\n",
    "syllable_count=0\n",
    "for w in word:\n",
    "      if(w=='a' or w=='e' or w=='i' or w=='o' or w=='y' or w=='u' or w=='A' or w=='E' or w=='I' or w=='O' or w=='U' or w=='Y'):\n",
    "            syllable_count=syllable_count+1\n",
    "print(\"The AVG number of syllables in the word is: \")\n",
    "print(syllable_count/len(content.split()))"
   ]
  },
  {
   "cell_type": "code",
   "execution_count": 1,
   "id": "ab9284a4",
   "metadata": {},
   "outputs": [
    {
     "name": "stdout",
     "output_type": "stream",
     "text": [
      "10\n",
      "15\n",
      "Word average = 2042.0\n",
      "FOG INDEX =  149.35\n",
      "Average no of words per sentence\n",
      "358.0\n",
      "Complex Words 726\n",
      "Word Count 2402\n",
      "Percentage of Complex Words 30.224812656119898\n",
      "Average Word per Length 5.70391061452514\n",
      "The AVG number of syllables in the word is: \n",
      "2.3379888268156424\n"
     ]
    },
    {
     "data": {
      "text/html": [
       "<div>\n",
       "<style scoped>\n",
       "    .dataframe tbody tr th:only-of-type {\n",
       "        vertical-align: middle;\n",
       "    }\n",
       "\n",
       "    .dataframe tbody tr th {\n",
       "        vertical-align: top;\n",
       "    }\n",
       "\n",
       "    .dataframe thead th {\n",
       "        text-align: right;\n",
       "    }\n",
       "</style>\n",
       "<table border=\"1\" class=\"dataframe\">\n",
       "  <thead>\n",
       "    <tr style=\"text-align: right;\">\n",
       "      <th></th>\n",
       "      <th>url</th>\n",
       "      <th>title</th>\n",
       "      <th>content</th>\n",
       "      <th>filter_content</th>\n",
       "      <th>Positive_Score</th>\n",
       "      <th>Negative_Score</th>\n",
       "      <th>Avg_Sentence_Length</th>\n",
       "      <th>Percentage_Complex_Word</th>\n",
       "      <th>Fog_Index</th>\n",
       "      <th>AVG_NUMBER_OF_WORDS_PER_SENTENCE</th>\n",
       "      <th>COMPLEX_WORDS</th>\n",
       "      <th>Word_Count</th>\n",
       "      <th>syllable</th>\n",
       "      <th>Average_Word_Length</th>\n",
       "      <th>polarity</th>\n",
       "      <th>subjectivity</th>\n",
       "    </tr>\n",
       "  </thead>\n",
       "  <tbody>\n",
       "    <tr>\n",
       "      <th>0</th>\n",
       "      <td>https://insights.blackcoffer.com/coronavirus-d...</td>\n",
       "      <td>Coronavirus Disease (COVID-19) Effect: The Imp...</td>\n",
       "      <td>The outbreak of coronavirus disease 2019 COV...</td>\n",
       "      <td>The outbreak of coronavirus disease 2019 COVID...</td>\n",
       "      <td>10</td>\n",
       "      <td>15</td>\n",
       "      <td>2042.0</td>\n",
       "      <td>30.224813</td>\n",
       "      <td>149.35</td>\n",
       "      <td>358.0</td>\n",
       "      <td>726</td>\n",
       "      <td>2402</td>\n",
       "      <td>2.337989</td>\n",
       "      <td>5.703911</td>\n",
       "      <td>0.047523</td>\n",
       "      <td>0.33654</td>\n",
       "    </tr>\n",
       "  </tbody>\n",
       "</table>\n",
       "</div>"
      ],
      "text/plain": [
       "                                                 url  \\\n",
       "0  https://insights.blackcoffer.com/coronavirus-d...   \n",
       "\n",
       "                                               title  \\\n",
       "0  Coronavirus Disease (COVID-19) Effect: The Imp...   \n",
       "\n",
       "                                             content  \\\n",
       "0    The outbreak of coronavirus disease 2019 COV...   \n",
       "\n",
       "                                      filter_content  Positive_Score  \\\n",
       "0  The outbreak of coronavirus disease 2019 COVID...              10   \n",
       "\n",
       "   Negative_Score  Avg_Sentence_Length  Percentage_Complex_Word  Fog_Index  \\\n",
       "0              15               2042.0                30.224813     149.35   \n",
       "\n",
       "    AVG_NUMBER_OF_WORDS_PER_SENTENCE  COMPLEX_WORDS  Word_Count  syllable  \\\n",
       "0                              358.0            726        2402  2.337989   \n",
       "\n",
       "   Average_Word_Length  polarity  subjectivity  \n",
       "0             5.703911  0.047523       0.33654  "
      ]
     },
     "execution_count": 1,
     "metadata": {},
     "output_type": "execute_result"
    }
   ],
   "source": [
    "import requests\n",
    "import pandas as pd \n",
    "from bs4 import BeautifulSoup\n",
    "import string\n",
    "import spacy\n",
    "import re\n",
    "url = \"\"\"https://insights.blackcoffer.com/coronavirus-disease-covid-19-effect-the-impact-and-role-of-mass-media-during-the-pandemic/\"\"\"\n",
    "headers = {\"User-Agent\": \"Mozilla/5.0 (X11; Linux x86_64; rv:60.0) Gecko/20100101 Firefox/60.0\"}\n",
    "page = requests.get(url, headers=headers)\n",
    "soup = BeautifulSoup(page.content, 'html.parser')\n",
    "soup=BeautifulSoup(page.content, 'html.parser')\n",
    "title=soup.find('h1',class_=\"entry-title\")\n",
    "title=title.text.replace('\\n',\" \")\n",
    "# title\n",
    "\n",
    "content=soup.findAll(attrs={'class':'td-post-content'})\n",
    "content=content[0].text.replace('\\n',\" \")\n",
    "# print(content)\n",
    "#Punctuation\n",
    "content = content.translate(str.maketrans('', '', string.punctuation)) \n",
    "# print(content)\n",
    "text = content.split()\n",
    "# print(text)\n",
    "len(text)\n",
    "#Positive Score \n",
    "with open(r\"C:\\Users\\Om Bhandwalkar\\Desktop\\pos\\positive-words.txt\") as pos:\n",
    "    poswords = pos.read().split(\"\\n\")  \n",
    "    poswords = poswords[5:]\n",
    "pos_count = \" \".join ([w for w in text if w in poswords])\n",
    "pos_count=pos_count.split(\" \")\n",
    "Positive_score=len(pos_count)\n",
    "print(Positive_score)\n",
    "\n",
    "#Negative Score\n",
    "with open(r\"C:\\Users\\Om Bhandwalkar\\Desktop\\pos\\negative-words.txt\",encoding =\"ISO-8859-1\") as neg:\n",
    "    negwords = neg.read().split(\"\\n\")\n",
    "    \n",
    "negwords = negwords[36:]\n",
    "neg_count = \" \".join ([w for w in text if w in negwords])\n",
    "neg_count=neg_count.split(\" \")\n",
    "Negative_score=len(neg_count)\n",
    "print(Negative_score)\n",
    "\n",
    "\n",
    "filter_content = ' '.join(text)\n",
    "data=[[url,title,content,filter_content,Positive_score,Negative_score]]\n",
    "data=pd.DataFrame(data,columns=[\"url\",\"title\",\"content\",\"filter_content\",\"Positive_Score\",\"Negative_Score\"])\n",
    "from textblob import TextBlob\n",
    "# Get The Subjectivity\n",
    "def sentiment_analysis(data):\n",
    "    sentiment = TextBlob(data[\"content\"]).sentiment\n",
    "    return pd.Series([sentiment.polarity,sentiment.subjectivity ])\n",
    "data[[\"polarity\", \"subjectivity\"]] = data.apply(sentiment_analysis, axis=1)\n",
    "data\n",
    "#AVG SENTENCE LENGTH\n",
    "AVG_SENTENCE_LENGTH = len(content.replace(' ',''))/len(re.split(r'[?!.]', content))\n",
    "print('Word average =', AVG_SENTENCE_LENGTH)\n",
    "import textstat\n",
    "#Fog index \n",
    "FOG_INDEX=(textstat.gunning_fog(content))\n",
    "print(\"FOG INDEX = \",FOG_INDEX)\n",
    "#Average No of Words Per Sentence \n",
    "AVG_NUMBER_OF_WORDS_PER_SENTENCE = [len(l.split()) for l in re.split(r'[?!.]', content) if l.strip()]\n",
    "print(\"Average no of words per sentence\")\n",
    "AVG_NUMBER_OF_WORDS_PER_SENTENCE=(sum(AVG_NUMBER_OF_WORDS_PER_SENTENCE)/len(AVG_NUMBER_OF_WORDS_PER_SENTENCE))\n",
    "print(AVG_NUMBER_OF_WORDS_PER_SENTENCE)\n",
    "#Complex words\n",
    "def syllable_count(word):\n",
    "    count = 0\n",
    "    vowels = \"AEIOUYaeiouy\"\n",
    "    if word[0] in vowels:\n",
    "        count += 1\n",
    "    for index in range(1, len(word)): \n",
    "        if word[index] in vowels and word[index - 1] not in vowels:\n",
    "            count += 1\n",
    "            if word.endswith(\"es\"or \"ed\"):\n",
    "                count -= 1\n",
    "    if count == 0:\n",
    "        count += 1\n",
    "    return count\n",
    "\n",
    "\n",
    "\n",
    "COMPLEX_WORDS=syllable_count(content)\n",
    "print(\"Complex Words\",COMPLEX_WORDS)\n",
    "#Word Count\n",
    "Word_Count=len(content)\n",
    "print(\"Word Count\",Word_Count)\n",
    "#Percentage Complex Words\n",
    "pcw=(COMPLEX_WORDS/Word_Count)*100\n",
    "print(\"Percentage of Complex Words\",pcw)\n",
    "#Average Word Length\n",
    "Average_Word_Length=len(content.replace(' ',''))/len(content.split())\n",
    "print(\"Average Word per Length\",Average_Word_Length)\n",
    "#Syllable Count Per Word\n",
    "word=content.replace(' ','')\n",
    "syllable_count=0\n",
    "for w in word:\n",
    "      if(w=='a' or w=='e' or w=='i' or w=='o' or w=='y' or w=='u' or w=='A' or w=='E' or w=='I' or w=='O' or w=='U' or w=='Y'):\n",
    "            syllable_count=syllable_count+1\n",
    "print(\"The AVG number of syllables in the word is: \")\n",
    "syllable = (syllable_count/len(content.split()))\n",
    "print(syllable)\n",
    "\n",
    "data = [[url,title,content,filter_content,Positive_score,Negative_score,AVG_SENTENCE_LENGTH,pcw,FOG_INDEX,\n",
    "         AVG_NUMBER_OF_WORDS_PER_SENTENCE,COMPLEX_WORDS,Word_Count,syllable,Average_Word_Length]]\n",
    "data=pd.DataFrame(data,columns=[\"url\",\"title\",\"content\",\"filter_content\",\"Positive_Score\",\"Negative_Score\",\"Avg_Sentence_Length\"\n",
    "                               ,\"Percentage_Complex_Word\",\"Fog_Index\",\" AVG_NUMBER_OF_WORDS_PER_SENTENCE\",\"COMPLEX_WORDS\",\n",
    "                               \"Word_Count\",\"syllable\",\"Average_Word_Length\"])\n",
    "from textblob import TextBlob\n",
    "# Get The Subjectivity\n",
    "def sentiment_analysis(data):\n",
    "    sentiment = TextBlob(data[\"content\"]).sentiment\n",
    "    return pd.Series([sentiment.polarity,sentiment.subjectivity ])\n",
    "data[[\"polarity\", \"subjectivity\"]] = data.apply(sentiment_analysis, axis=1)\n",
    "data"
   ]
  },
  {
   "cell_type": "code",
   "execution_count": 2,
   "id": "bd0e3251",
   "metadata": {},
   "outputs": [],
   "source": [
    "data.to_csv(r'C:\\Users\\Om Bhandwalkar\\Desktop\\BlackCoffer Assignment\\Output\\url_134.csv')"
   ]
  },
  {
   "cell_type": "code",
   "execution_count": null,
   "id": "598a4c45",
   "metadata": {},
   "outputs": [],
   "source": []
  }
 ],
 "metadata": {
  "kernelspec": {
   "display_name": "Python 3 (ipykernel)",
   "language": "python",
   "name": "python3"
  },
  "language_info": {
   "codemirror_mode": {
    "name": "ipython",
    "version": 3
   },
   "file_extension": ".py",
   "mimetype": "text/x-python",
   "name": "python",
   "nbconvert_exporter": "python",
   "pygments_lexer": "ipython3",
   "version": "3.9.12"
  }
 },
 "nbformat": 4,
 "nbformat_minor": 5
}
