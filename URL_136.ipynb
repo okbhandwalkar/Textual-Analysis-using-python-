{
 "cells": [
  {
   "cell_type": "code",
   "execution_count": 1,
   "id": "4aa7feb2",
   "metadata": {},
   "outputs": [
    {
     "data": {
      "text/plain": [
       "'Why is there a severe immunological and inflammatory explosion in those affected by sarms covid-19?'"
      ]
     },
     "execution_count": 1,
     "metadata": {},
     "output_type": "execute_result"
    }
   ],
   "source": [
    "import requests\n",
    "import pandas as pd \n",
    "from bs4 import BeautifulSoup\n",
    "import string\n",
    "import spacy\n",
    "import re\n",
    "url = \"\"\"https://insights.blackcoffer.com/why-is-there-a-severe-immunological-and-inflammatory-explosion-in-those-affected-by-sarms-covid-19/\"\"\"\n",
    "headers = {\"User-Agent\": \"Mozilla/5.0 (X11; Linux x86_64; rv:60.0) Gecko/20100101 Firefox/60.0\"}\n",
    "page = requests.get(url, headers=headers)\n",
    "soup = BeautifulSoup(page.content, 'html.parser')\n",
    "soup=BeautifulSoup(page.content, 'html.parser')\n",
    "title=soup.find('h1',class_=\"entry-title\")\n",
    "title=title.text.replace('\\n',\" \")\n",
    "title\n"
   ]
  },
  {
   "cell_type": "code",
   "execution_count": 2,
   "id": "0a706e75",
   "metadata": {},
   "outputs": [
    {
     "name": "stdout",
     "output_type": "stream",
     "text": [
      " Why is there a severe immunological and inflammatory explosion in those affected by arms covid-19? are these only genetic causes related to the immune response of il6 and macrophages, or would other types of scenarios be related to some environmental element?  il-6 is a marker for macrophages, as an essential and pre-inflammatory marker, but my question is not directed at that already known factor, but what I am asking is the reason for such a brutal response by the immune system. For example, here in Spain one of the parallel treatments is the administration of corticosteroids and anti-inflammatory drugs. And another of the most worrying markers in patients is the increase in ferritin, or that its values are out of range.  The exacerbated response of the immune system, specifically il-6, which in addition to being pre-inflammatory, also has an anti-inflammatory function, depending on which synergies occur with its two types of receptors. R-il-6 and gp 130 this acts as an antagonist, these types of proteins are very typical in endothelial cells or in macrophages. But my question is why this so severe call of il-6 and il-1 by those affected by covid-19. Could it be that the virus’s nexus protein had some synergy with R-il-6 binding to it and in this case, it was acting as an agonist,? and to act, making a call effect. I don’t know. My question is directed more at him, why? of that abrupt and exaggerated call. And in such a short time. Could it have to do with the virus replication speed vs. slower activation speed of T and B lymphocytes? In innate immunity, Monocytes in this case macrophages are cells that present il-6 in their cell membranes, but such a large amount … of response. It is as if the immune response is more associated with cellular damage (DAMP). Why? Even soluble peptides like cathelicidins HDPs that react and are produced by cells of the epithelial tissue of the respiratory, digestive system or the skin itself, which are pro- and anti-inflammatory. and they also act as chemoattraction agents, pro-apoptosis in the case of epithelial cells and anti-apoptotic in the case of neutrophils, they are one more barrier of the innate immune system, yes, but to such an extent of producing that inflammation so severe, and that cell death in such a short time?  \n",
      " Why is there a severe immunological and inflammatory explosion in those affected by arms covid19 are these only genetic causes related to the immune response of il6 and macrophages or would other types of scenarios be related to some environmental element  il6 is a marker for macrophages as an essential and preinflammatory marker but my question is not directed at that already known factor but what I am asking is the reason for such a brutal response by the immune system For example here in Spain one of the parallel treatments is the administration of corticosteroids and antiinflammatory drugs And another of the most worrying markers in patients is the increase in ferritin or that its values are out of range  The exacerbated response of the immune system specifically il6 which in addition to being preinflammatory also has an antiinflammatory function depending on which synergies occur with its two types of receptors Ril6 and gp 130 this acts as an antagonist these types of proteins are very typical in endothelial cells or in macrophages But my question is why this so severe call of il6 and il1 by those affected by covid19 Could it be that the virus’s nexus protein had some synergy with Ril6 binding to it and in this case it was acting as an agonist and to act making a call effect I don’t know My question is directed more at him why of that abrupt and exaggerated call And in such a short time Could it have to do with the virus replication speed vs slower activation speed of T and B lymphocytes In innate immunity Monocytes in this case macrophages are cells that present il6 in their cell membranes but such a large amount … of response It is as if the immune response is more associated with cellular damage DAMP Why Even soluble peptides like cathelicidins HDPs that react and are produced by cells of the epithelial tissue of the respiratory digestive system or the skin itself which are pro and antiinflammatory and they also act as chemoattraction agents proapoptosis in the case of epithelial cells and antiapoptotic in the case of neutrophils they are one more barrier of the innate immune system yes but to such an extent of producing that inflammation so severe and that cell death in such a short time  \n",
      "['Why', 'is', 'there', 'a', 'severe', 'immunological', 'and', 'inflammatory', 'explosion', 'in', 'those', 'affected', 'by', 'arms', 'covid19', 'are', 'these', 'only', 'genetic', 'causes', 'related', 'to', 'the', 'immune', 'response', 'of', 'il6', 'and', 'macrophages', 'or', 'would', 'other', 'types', 'of', 'scenarios', 'be', 'related', 'to', 'some', 'environmental', 'element', 'il6', 'is', 'a', 'marker', 'for', 'macrophages', 'as', 'an', 'essential', 'and', 'preinflammatory', 'marker', 'but', 'my', 'question', 'is', 'not', 'directed', 'at', 'that', 'already', 'known', 'factor', 'but', 'what', 'I', 'am', 'asking', 'is', 'the', 'reason', 'for', 'such', 'a', 'brutal', 'response', 'by', 'the', 'immune', 'system', 'For', 'example', 'here', 'in', 'Spain', 'one', 'of', 'the', 'parallel', 'treatments', 'is', 'the', 'administration', 'of', 'corticosteroids', 'and', 'antiinflammatory', 'drugs', 'And', 'another', 'of', 'the', 'most', 'worrying', 'markers', 'in', 'patients', 'is', 'the', 'increase', 'in', 'ferritin', 'or', 'that', 'its', 'values', 'are', 'out', 'of', 'range', 'The', 'exacerbated', 'response', 'of', 'the', 'immune', 'system', 'specifically', 'il6', 'which', 'in', 'addition', 'to', 'being', 'preinflammatory', 'also', 'has', 'an', 'antiinflammatory', 'function', 'depending', 'on', 'which', 'synergies', 'occur', 'with', 'its', 'two', 'types', 'of', 'receptors', 'Ril6', 'and', 'gp', '130', 'this', 'acts', 'as', 'an', 'antagonist', 'these', 'types', 'of', 'proteins', 'are', 'very', 'typical', 'in', 'endothelial', 'cells', 'or', 'in', 'macrophages', 'But', 'my', 'question', 'is', 'why', 'this', 'so', 'severe', 'call', 'of', 'il6', 'and', 'il1', 'by', 'those', 'affected', 'by', 'covid19', 'Could', 'it', 'be', 'that', 'the', 'virus’s', 'nexus', 'protein', 'had', 'some', 'synergy', 'with', 'Ril6', 'binding', 'to', 'it', 'and', 'in', 'this', 'case', 'it', 'was', 'acting', 'as', 'an', 'agonist', 'and', 'to', 'act', 'making', 'a', 'call', 'effect', 'I', 'don’t', 'know', 'My', 'question', 'is', 'directed', 'more', 'at', 'him', 'why', 'of', 'that', 'abrupt', 'and', 'exaggerated', 'call', 'And', 'in', 'such', 'a', 'short', 'time', 'Could', 'it', 'have', 'to', 'do', 'with', 'the', 'virus', 'replication', 'speed', 'vs', 'slower', 'activation', 'speed', 'of', 'T', 'and', 'B', 'lymphocytes', 'In', 'innate', 'immunity', 'Monocytes', 'in', 'this', 'case', 'macrophages', 'are', 'cells', 'that', 'present', 'il6', 'in', 'their', 'cell', 'membranes', 'but', 'such', 'a', 'large', 'amount', '…', 'of', 'response', 'It', 'is', 'as', 'if', 'the', 'immune', 'response', 'is', 'more', 'associated', 'with', 'cellular', 'damage', 'DAMP', 'Why', 'Even', 'soluble', 'peptides', 'like', 'cathelicidins', 'HDPs', 'that', 'react', 'and', 'are', 'produced', 'by', 'cells', 'of', 'the', 'epithelial', 'tissue', 'of', 'the', 'respiratory', 'digestive', 'system', 'or', 'the', 'skin', 'itself', 'which', 'are', 'pro', 'and', 'antiinflammatory', 'and', 'they', 'also', 'act', 'as', 'chemoattraction', 'agents', 'proapoptosis', 'in', 'the', 'case', 'of', 'epithelial', 'cells', 'and', 'antiapoptotic', 'in', 'the', 'case', 'of', 'neutrophils', 'they', 'are', 'one', 'more', 'barrier', 'of', 'the', 'innate', 'immune', 'system', 'yes', 'but', 'to', 'such', 'an', 'extent', 'of', 'producing', 'that', 'inflammation', 'so', 'severe', 'and', 'that', 'cell', 'death', 'in', 'such', 'a', 'short', 'time']\n"
     ]
    }
   ],
   "source": [
    "content=soup.findAll(attrs={'class':'td-post-content'})\n",
    "content=content[0].text.replace('\\n',\" \")\n",
    "print(content)\n",
    "#Punctuation\n",
    "content = content.translate(str.maketrans('', '', string.punctuation)) \n",
    "print(content)\n",
    "text = content.split()\n",
    "print(text)\n"
   ]
  },
  {
   "cell_type": "code",
   "execution_count": 3,
   "id": "b14aff2f",
   "metadata": {},
   "outputs": [
    {
     "data": {
      "text/plain": [
       "390"
      ]
     },
     "execution_count": 3,
     "metadata": {},
     "output_type": "execute_result"
    }
   ],
   "source": [
    "len(text)"
   ]
  },
  {
   "cell_type": "code",
   "execution_count": 4,
   "id": "c57b81fc",
   "metadata": {},
   "outputs": [
    {
     "name": "stdout",
     "output_type": "stream",
     "text": [
      "1\n"
     ]
    }
   ],
   "source": [
    "#Positive Score \n",
    "with open(r\"C:\\Users\\Om Bhandwalkar\\Desktop\\pos\\positive-words.txt\") as pos:\n",
    "    poswords = pos.read().split(\"\\n\")  \n",
    "    poswords = poswords[5:]\n",
    "pos_count = \" \".join ([w for w in text if w in poswords])\n",
    "pos_count=pos_count.split(\" \")\n",
    "Positive_score=len(pos_count)\n",
    "print(Positive_score)"
   ]
  },
  {
   "cell_type": "code",
   "execution_count": 5,
   "id": "d318ca9a",
   "metadata": {},
   "outputs": [
    {
     "name": "stdout",
     "output_type": "stream",
     "text": [
      "13\n"
     ]
    }
   ],
   "source": [
    "#Negative Score\n",
    "with open(r\"C:\\Users\\Om Bhandwalkar\\Desktop\\pos\\negative-words.txt\",encoding =\"ISO-8859-1\") as neg:\n",
    "    negwords = neg.read().split(\"\\n\")\n",
    "    \n",
    "negwords = negwords[36:]\n",
    "neg_count = \" \".join ([w for w in text if w in negwords])\n",
    "neg_count=neg_count.split(\" \")\n",
    "Negative_score=len(neg_count)\n",
    "print(Negative_score)"
   ]
  },
  {
   "cell_type": "code",
   "execution_count": 6,
   "id": "5773a77b",
   "metadata": {},
   "outputs": [
    {
     "data": {
      "text/html": [
       "<div>\n",
       "<style scoped>\n",
       "    .dataframe tbody tr th:only-of-type {\n",
       "        vertical-align: middle;\n",
       "    }\n",
       "\n",
       "    .dataframe tbody tr th {\n",
       "        vertical-align: top;\n",
       "    }\n",
       "\n",
       "    .dataframe thead th {\n",
       "        text-align: right;\n",
       "    }\n",
       "</style>\n",
       "<table border=\"1\" class=\"dataframe\">\n",
       "  <thead>\n",
       "    <tr style=\"text-align: right;\">\n",
       "      <th></th>\n",
       "      <th>url</th>\n",
       "      <th>title</th>\n",
       "      <th>content</th>\n",
       "      <th>filter_content</th>\n",
       "      <th>Positive_Score</th>\n",
       "      <th>Negative_Score</th>\n",
       "      <th>polarity</th>\n",
       "      <th>subjectivity</th>\n",
       "    </tr>\n",
       "  </thead>\n",
       "  <tbody>\n",
       "    <tr>\n",
       "      <th>0</th>\n",
       "      <td>https://insights.blackcoffer.com/why-is-there-...</td>\n",
       "      <td>Why is there a severe immunological and inflam...</td>\n",
       "      <td>Why is there a severe immunological and infla...</td>\n",
       "      <td>Why is there a severe immunological and inflam...</td>\n",
       "      <td>1</td>\n",
       "      <td>13</td>\n",
       "      <td>0.015526</td>\n",
       "      <td>0.485565</td>\n",
       "    </tr>\n",
       "  </tbody>\n",
       "</table>\n",
       "</div>"
      ],
      "text/plain": [
       "                                                 url  \\\n",
       "0  https://insights.blackcoffer.com/why-is-there-...   \n",
       "\n",
       "                                               title  \\\n",
       "0  Why is there a severe immunological and inflam...   \n",
       "\n",
       "                                             content  \\\n",
       "0   Why is there a severe immunological and infla...   \n",
       "\n",
       "                                      filter_content  Positive_Score  \\\n",
       "0  Why is there a severe immunological and inflam...               1   \n",
       "\n",
       "   Negative_Score  polarity  subjectivity  \n",
       "0              13  0.015526      0.485565  "
      ]
     },
     "execution_count": 6,
     "metadata": {},
     "output_type": "execute_result"
    }
   ],
   "source": [
    "filter_content = ' '.join(text)\n",
    "data=[[url,title,content,filter_content,Positive_score,Negative_score]]\n",
    "data=pd.DataFrame(data,columns=[\"url\",\"title\",\"content\",\"filter_content\",\"Positive_Score\",\"Negative_Score\"])\n",
    "from textblob import TextBlob\n",
    "# Get The Subjectivity\n",
    "def sentiment_analysis(data):\n",
    "    sentiment = TextBlob(data[\"content\"]).sentiment\n",
    "    return pd.Series([sentiment.polarity,sentiment.subjectivity ])\n",
    "\n",
    "# Adding Subjectivity & Polarity\n",
    "data[[\"polarity\", \"subjectivity\"]] = data.apply(sentiment_analysis, axis=1)\n",
    "\n",
    "data"
   ]
  },
  {
   "cell_type": "code",
   "execution_count": 7,
   "id": "d1c2cf48",
   "metadata": {},
   "outputs": [
    {
     "name": "stdout",
     "output_type": "stream",
     "text": [
      "Word average = 1844.0\n",
      "FOG INDEX =  160.43\n",
      "Average no of words per sentence\n",
      "390.0\n",
      "Complex Words 679\n"
     ]
    }
   ],
   "source": [
    "#AVG SENTENCE LENGTH\n",
    "AVG_SENTENCE_LENGTH = len(content.replace(' ',''))/len(re.split(r'[?!.]', content))\n",
    "print('Word average =', AVG_SENTENCE_LENGTH)\n",
    "import textstat\n",
    "#Fog index \n",
    "FOG_INDEX=(textstat.gunning_fog(content))\n",
    "print(\"FOG INDEX = \",FOG_INDEX)\n",
    "#Average No of Words Per Sentence \n",
    "AVG_NUMBER_OF_WORDS_PER_SENTENCE = [len(l.split()) for l in re.split(r'[?!.]', content) if l.strip()]\n",
    "print(\"Average no of words per sentence\")\n",
    "AVG_NUMBER_OF_WORDS_PER_SENTENCE=print(sum(AVG_NUMBER_OF_WORDS_PER_SENTENCE)/len(AVG_NUMBER_OF_WORDS_PER_SENTENCE))\n",
    "#Complex words\n",
    "def syllable_count(word):\n",
    "    count = 0\n",
    "    vowels = \"AEIOUYaeiouy\"\n",
    "    if word[0] in vowels:\n",
    "        count += 1\n",
    "    for index in range(1, len(word)): \n",
    "        if word[index] in vowels and word[index - 1] not in vowels:\n",
    "            count += 1\n",
    "            if word.endswith(\"es\"or \"ed\"):\n",
    "                count -= 1\n",
    "    if count == 0:\n",
    "        count += 1\n",
    "    return count\n",
    "\n",
    "\n",
    "\n",
    "COMPLEX_WORDS=syllable_count(content)\n",
    "print(\"Complex Words\",COMPLEX_WORDS)\n"
   ]
  },
  {
   "cell_type": "code",
   "execution_count": 8,
   "id": "bebff7fa",
   "metadata": {},
   "outputs": [
    {
     "name": "stdout",
     "output_type": "stream",
     "text": [
      "Word Count 2238\n",
      "Percentage of Complex Words 30.33958891867739\n",
      "Average Word per Length 4.728205128205128\n",
      "The AVG number of syllables in the word is: \n",
      "1.8897435897435897\n",
      "Word Count 2238\n",
      "Percentage of Complex Words 30.33958891867739\n",
      "Average Word per Length 4.728205128205128\n",
      "The AVG number of syllables in the word is: \n",
      "1.8897435897435897\n"
     ]
    }
   ],
   "source": [
    "#Word Count\n",
    "Word_Count=len(content)\n",
    "print(\"Word Count\",Word_Count)\n",
    "#Percentage Complex Words\n",
    "pcw=(COMPLEX_WORDS/Word_Count)*100\n",
    "print(\"Percentage of Complex Words\",pcw)\n",
    "#Average Word Length\n",
    "Average_Word_Length=len(content.replace(' ',''))/len(content.split())\n",
    "print(\"Average Word per Length\",Average_Word_Length)\n",
    "#Syllable Count Per Word\n",
    "word=content.replace(' ','')\n",
    "syllable_count=0\n",
    "for w in word:\n",
    "      if(w=='a' or w=='e' or w=='i' or w=='o' or w=='y' or w=='u' or w=='A' or w=='E' or w=='I' or w=='O' or w=='U' or w=='Y'):\n",
    "            syllable_count=syllable_count+1\n",
    "print(\"The AVG number of syllables in the word is: \")\n",
    "print(syllable_count/len(content.split()))#Word Count\n",
    "Word_Count=len(content)\n",
    "print(\"Word Count\",Word_Count)\n",
    "#Percentage Complex Words\n",
    "pcw=(COMPLEX_WORDS/Word_Count)*100\n",
    "print(\"Percentage of Complex Words\",pcw)\n",
    "#Average Word Length\n",
    "Average_Word_Length=len(content.replace(' ',''))/len(content.split())\n",
    "print(\"Average Word per Length\",Average_Word_Length)\n",
    "#Syllable Count Per Word\n",
    "word=content.replace(' ','')\n",
    "syllable_count=0\n",
    "for w in word:\n",
    "      if(w=='a' or w=='e' or w=='i' or w=='o' or w=='y' or w=='u' or w=='A' or w=='E' or w=='I' or w=='O' or w=='U' or w=='Y'):\n",
    "            syllable_count=syllable_count+1\n",
    "print(\"The AVG number of syllables in the word is: \")\n",
    "print(syllable_count/len(content.split()))"
   ]
  },
  {
   "cell_type": "code",
   "execution_count": 1,
   "id": "37fb81f4",
   "metadata": {},
   "outputs": [
    {
     "name": "stdout",
     "output_type": "stream",
     "text": [
      "1\n",
      "13\n",
      "Word average = 1844.0\n",
      "FOG INDEX =  160.43\n",
      "Average no of words per sentence\n",
      "390.0\n",
      "Complex Words 679\n",
      "Word Count 2239\n",
      "Percentage of Complex Words 30.326038410004468\n",
      "Average Word per Length 4.728205128205128\n",
      "The AVG number of syllables in the word is: \n",
      "1.8897435897435897\n"
     ]
    },
    {
     "data": {
      "text/html": [
       "<div>\n",
       "<style scoped>\n",
       "    .dataframe tbody tr th:only-of-type {\n",
       "        vertical-align: middle;\n",
       "    }\n",
       "\n",
       "    .dataframe tbody tr th {\n",
       "        vertical-align: top;\n",
       "    }\n",
       "\n",
       "    .dataframe thead th {\n",
       "        text-align: right;\n",
       "    }\n",
       "</style>\n",
       "<table border=\"1\" class=\"dataframe\">\n",
       "  <thead>\n",
       "    <tr style=\"text-align: right;\">\n",
       "      <th></th>\n",
       "      <th>url</th>\n",
       "      <th>title</th>\n",
       "      <th>content</th>\n",
       "      <th>filter_content</th>\n",
       "      <th>Positive_Score</th>\n",
       "      <th>Negative_Score</th>\n",
       "      <th>Avg_Sentence_Length</th>\n",
       "      <th>Percentage_Complex_Word</th>\n",
       "      <th>Fog_Index</th>\n",
       "      <th>AVG_NUMBER_OF_WORDS_PER_SENTENCE</th>\n",
       "      <th>COMPLEX_WORDS</th>\n",
       "      <th>Word_Count</th>\n",
       "      <th>syllable</th>\n",
       "      <th>Average_Word_Length</th>\n",
       "      <th>polarity</th>\n",
       "      <th>subjectivity</th>\n",
       "    </tr>\n",
       "  </thead>\n",
       "  <tbody>\n",
       "    <tr>\n",
       "      <th>0</th>\n",
       "      <td>https://insights.blackcoffer.com/why-is-there-...</td>\n",
       "      <td>Why is there a severe immunological and inflam...</td>\n",
       "      <td>Why is there a severe immunological and infl...</td>\n",
       "      <td>Why is there a severe immunological and inflam...</td>\n",
       "      <td>1</td>\n",
       "      <td>13</td>\n",
       "      <td>1844.0</td>\n",
       "      <td>30.326038</td>\n",
       "      <td>160.43</td>\n",
       "      <td>390.0</td>\n",
       "      <td>679</td>\n",
       "      <td>2239</td>\n",
       "      <td>1.889744</td>\n",
       "      <td>4.728205</td>\n",
       "      <td>0.015526</td>\n",
       "      <td>0.485565</td>\n",
       "    </tr>\n",
       "  </tbody>\n",
       "</table>\n",
       "</div>"
      ],
      "text/plain": [
       "                                                 url  \\\n",
       "0  https://insights.blackcoffer.com/why-is-there-...   \n",
       "\n",
       "                                               title  \\\n",
       "0  Why is there a severe immunological and inflam...   \n",
       "\n",
       "                                             content  \\\n",
       "0    Why is there a severe immunological and infl...   \n",
       "\n",
       "                                      filter_content  Positive_Score  \\\n",
       "0  Why is there a severe immunological and inflam...               1   \n",
       "\n",
       "   Negative_Score  Avg_Sentence_Length  Percentage_Complex_Word  Fog_Index  \\\n",
       "0              13               1844.0                30.326038     160.43   \n",
       "\n",
       "    AVG_NUMBER_OF_WORDS_PER_SENTENCE  COMPLEX_WORDS  Word_Count  syllable  \\\n",
       "0                              390.0            679        2239  1.889744   \n",
       "\n",
       "   Average_Word_Length  polarity  subjectivity  \n",
       "0             4.728205  0.015526      0.485565  "
      ]
     },
     "execution_count": 1,
     "metadata": {},
     "output_type": "execute_result"
    }
   ],
   "source": [
    "import requests\n",
    "import pandas as pd \n",
    "from bs4 import BeautifulSoup\n",
    "import string\n",
    "import spacy\n",
    "import re\n",
    "url = \"\"\"https://insights.blackcoffer.com/why-is-there-a-severe-immunological-and-inflammatory-explosion-in-those-affected-by-sarms-covid-19/\"\"\"\n",
    "headers = {\"User-Agent\": \"Mozilla/5.0 (X11; Linux x86_64; rv:60.0) Gecko/20100101 Firefox/60.0\"}\n",
    "page = requests.get(url, headers=headers)\n",
    "soup = BeautifulSoup(page.content, 'html.parser')\n",
    "soup=BeautifulSoup(page.content, 'html.parser')\n",
    "title=soup.find('h1',class_=\"entry-title\")\n",
    "title=title.text.replace('\\n',\" \")\n",
    "# title\n",
    "\n",
    "content=soup.findAll(attrs={'class':'td-post-content'})\n",
    "content=content[0].text.replace('\\n',\" \")\n",
    "# print(content)\n",
    "#Punctuation\n",
    "content = content.translate(str.maketrans('', '', string.punctuation)) \n",
    "# print(content)\n",
    "text = content.split()\n",
    "# print(text)\n",
    "len(text)\n",
    "#Positive Score \n",
    "with open(r\"C:\\Users\\Om Bhandwalkar\\Desktop\\pos\\positive-words.txt\") as pos:\n",
    "    poswords = pos.read().split(\"\\n\")  \n",
    "    poswords = poswords[5:]\n",
    "pos_count = \" \".join ([w for w in text if w in poswords])\n",
    "pos_count=pos_count.split(\" \")\n",
    "Positive_score=len(pos_count)\n",
    "print(Positive_score)\n",
    "\n",
    "#Negative Score\n",
    "with open(r\"C:\\Users\\Om Bhandwalkar\\Desktop\\pos\\negative-words.txt\",encoding =\"ISO-8859-1\") as neg:\n",
    "    negwords = neg.read().split(\"\\n\")\n",
    "    \n",
    "negwords = negwords[36:]\n",
    "neg_count = \" \".join ([w for w in text if w in negwords])\n",
    "neg_count=neg_count.split(\" \")\n",
    "Negative_score=len(neg_count)\n",
    "print(Negative_score)\n",
    "\n",
    "\n",
    "filter_content = ' '.join(text)\n",
    "data=[[url,title,content,filter_content,Positive_score,Negative_score]]\n",
    "data=pd.DataFrame(data,columns=[\"url\",\"title\",\"content\",\"filter_content\",\"Positive_Score\",\"Negative_Score\"])\n",
    "from textblob import TextBlob\n",
    "# Get The Subjectivity\n",
    "def sentiment_analysis(data):\n",
    "    sentiment = TextBlob(data[\"content\"]).sentiment\n",
    "    return pd.Series([sentiment.polarity,sentiment.subjectivity ])\n",
    "data[[\"polarity\", \"subjectivity\"]] = data.apply(sentiment_analysis, axis=1)\n",
    "data\n",
    "#AVG SENTENCE LENGTH\n",
    "AVG_SENTENCE_LENGTH = len(content.replace(' ',''))/len(re.split(r'[?!.]', content))\n",
    "print('Word average =', AVG_SENTENCE_LENGTH)\n",
    "import textstat\n",
    "#Fog index \n",
    "FOG_INDEX=(textstat.gunning_fog(content))\n",
    "print(\"FOG INDEX = \",FOG_INDEX)\n",
    "#Average No of Words Per Sentence \n",
    "AVG_NUMBER_OF_WORDS_PER_SENTENCE = [len(l.split()) for l in re.split(r'[?!.]', content) if l.strip()]\n",
    "print(\"Average no of words per sentence\")\n",
    "AVG_NUMBER_OF_WORDS_PER_SENTENCE=(sum(AVG_NUMBER_OF_WORDS_PER_SENTENCE)/len(AVG_NUMBER_OF_WORDS_PER_SENTENCE))\n",
    "print(AVG_NUMBER_OF_WORDS_PER_SENTENCE)\n",
    "#Complex words\n",
    "def syllable_count(word):\n",
    "    count = 0\n",
    "    vowels = \"AEIOUYaeiouy\"\n",
    "    if word[0] in vowels:\n",
    "        count += 1\n",
    "    for index in range(1, len(word)): \n",
    "        if word[index] in vowels and word[index - 1] not in vowels:\n",
    "            count += 1\n",
    "            if word.endswith(\"es\"or \"ed\"):\n",
    "                count -= 1\n",
    "    if count == 0:\n",
    "        count += 1\n",
    "    return count\n",
    "\n",
    "\n",
    "\n",
    "COMPLEX_WORDS=syllable_count(content)\n",
    "print(\"Complex Words\",COMPLEX_WORDS)\n",
    "#Word Count\n",
    "Word_Count=len(content)\n",
    "print(\"Word Count\",Word_Count)\n",
    "#Percentage Complex Words\n",
    "pcw=(COMPLEX_WORDS/Word_Count)*100\n",
    "print(\"Percentage of Complex Words\",pcw)\n",
    "#Average Word Length\n",
    "Average_Word_Length=len(content.replace(' ',''))/len(content.split())\n",
    "print(\"Average Word per Length\",Average_Word_Length)\n",
    "#Syllable Count Per Word\n",
    "word=content.replace(' ','')\n",
    "syllable_count=0\n",
    "for w in word:\n",
    "      if(w=='a' or w=='e' or w=='i' or w=='o' or w=='y' or w=='u' or w=='A' or w=='E' or w=='I' or w=='O' or w=='U' or w=='Y'):\n",
    "            syllable_count=syllable_count+1\n",
    "print(\"The AVG number of syllables in the word is: \")\n",
    "syllable = (syllable_count/len(content.split()))\n",
    "print(syllable)\n",
    "\n",
    "data = [[url,title,content,filter_content,Positive_score,Negative_score,AVG_SENTENCE_LENGTH,pcw,FOG_INDEX,\n",
    "         AVG_NUMBER_OF_WORDS_PER_SENTENCE,COMPLEX_WORDS,Word_Count,syllable,Average_Word_Length]]\n",
    "data=pd.DataFrame(data,columns=[\"url\",\"title\",\"content\",\"filter_content\",\"Positive_Score\",\"Negative_Score\",\"Avg_Sentence_Length\"\n",
    "                               ,\"Percentage_Complex_Word\",\"Fog_Index\",\" AVG_NUMBER_OF_WORDS_PER_SENTENCE\",\"COMPLEX_WORDS\",\n",
    "                               \"Word_Count\",\"syllable\",\"Average_Word_Length\"])\n",
    "from textblob import TextBlob\n",
    "# Get The Subjectivity\n",
    "def sentiment_analysis(data):\n",
    "    sentiment = TextBlob(data[\"content\"]).sentiment\n",
    "    return pd.Series([sentiment.polarity,sentiment.subjectivity ])\n",
    "data[[\"polarity\", \"subjectivity\"]] = data.apply(sentiment_analysis, axis=1)\n",
    "data"
   ]
  },
  {
   "cell_type": "code",
   "execution_count": 3,
   "id": "066b6d3a",
   "metadata": {},
   "outputs": [],
   "source": [
    "data.to_csv(r'C:\\Users\\Om Bhandwalkar\\Desktop\\BlackCoffer Assignment\\Output\\url_136.csv')"
   ]
  },
  {
   "cell_type": "code",
   "execution_count": null,
   "id": "ce68e945",
   "metadata": {},
   "outputs": [],
   "source": []
  }
 ],
 "metadata": {
  "kernelspec": {
   "display_name": "Python 3 (ipykernel)",
   "language": "python",
   "name": "python3"
  },
  "language_info": {
   "codemirror_mode": {
    "name": "ipython",
    "version": 3
   },
   "file_extension": ".py",
   "mimetype": "text/x-python",
   "name": "python",
   "nbconvert_exporter": "python",
   "pygments_lexer": "ipython3",
   "version": "3.9.12"
  }
 },
 "nbformat": 4,
 "nbformat_minor": 5
}
