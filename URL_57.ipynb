{
 "cells": [
  {
   "cell_type": "code",
   "execution_count": 1,
   "id": "9accca08",
   "metadata": {},
   "outputs": [],
   "source": [
    "import requests\n",
    "import pandas as pd \n",
    "from bs4 import BeautifulSoup\n",
    "import string\n",
    "import spacy\n",
    "import re"
   ]
  },
  {
   "cell_type": "code",
   "execution_count": 2,
   "id": "c1128267",
   "metadata": {},
   "outputs": [],
   "source": [
    "url = \"\"\"https://insights.blackcoffer.com/covid-19-environmental-impact-for-the-future/\"\"\""
   ]
  },
  {
   "cell_type": "code",
   "execution_count": 4,
   "id": "ed8a3d65",
   "metadata": {},
   "outputs": [],
   "source": [
    "# headers = {\"User-Agent\": \"Mozilla/5.0 (X11; Linux x86_64; rv:60.0) Gecko/20100101 Firefox/60.0\"}\n",
    "# page = requests.get(url, headers=headers)\n",
    "# soup = BeautifulSoup(page.content, 'html.parser')\n",
    "# soup=BeautifulSoup(page.content, 'html.parser')\n",
    "# title=soup.find('h1',class_=\"entry-title\")\n",
    "# title=title.text.replace('\\n',\" \")\n",
    "# title\n"
   ]
  },
  {
   "cell_type": "code",
   "execution_count": 6,
   "id": "579abad6",
   "metadata": {},
   "outputs": [],
   "source": [
    "# Link not opening "
   ]
  },
  {
   "cell_type": "code",
   "execution_count": 4,
   "id": "7ae326d0",
   "metadata": {},
   "outputs": [],
   "source": [
    "import pandas as pd\n",
    "data=pd.DataFrame(columns=[\"url\",\"title\",\"content\",\"filter_content\",\"Positive_Score\",\"Negative_Score\",\"Avg_Sentence_Length\"\n",
    "                               ,\"Percentage_Complex_Word\",\"Fog_Index\",\" AVG_NUMBER_OF_WORDS_PER_SENTENCE\",\"COMPLEX_WORDS\",\n",
    "                               \"Word_Count\",\"syllable\",\"Average_Word_Length\"])\n",
    "data.to_csv(r'C:\\Users\\Om Bhandwalkar\\Desktop\\BlackCoffer Assignment\\Output\\url_57.csv')"
   ]
  },
  {
   "cell_type": "code",
   "execution_count": null,
   "id": "ed2aa2fa",
   "metadata": {},
   "outputs": [],
   "source": []
  }
 ],
 "metadata": {
  "kernelspec": {
   "display_name": "Python 3 (ipykernel)",
   "language": "python",
   "name": "python3"
  },
  "language_info": {
   "codemirror_mode": {
    "name": "ipython",
    "version": 3
   },
   "file_extension": ".py",
   "mimetype": "text/x-python",
   "name": "python",
   "nbconvert_exporter": "python",
   "pygments_lexer": "ipython3",
   "version": "3.9.12"
  }
 },
 "nbformat": 4,
 "nbformat_minor": 5
}
