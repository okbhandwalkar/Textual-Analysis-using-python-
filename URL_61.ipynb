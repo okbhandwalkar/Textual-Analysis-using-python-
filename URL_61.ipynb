{
 "cells": [
  {
   "cell_type": "code",
   "execution_count": 1,
   "id": "528adbab",
   "metadata": {},
   "outputs": [
    {
     "data": {
      "text/plain": [
       "'How Python became the first choice for Data Science.'"
      ]
     },
     "execution_count": 1,
     "metadata": {},
     "output_type": "execute_result"
    }
   ],
   "source": [
    "import requests\n",
    "import pandas as pd \n",
    "from bs4 import BeautifulSoup\n",
    "import string\n",
    "import spacy\n",
    "import re\n",
    "url = \"\"\"https://insights.blackcoffer.com/how-python-became-the-first-choice-for-data-science/\"\"\"\n",
    "headers = {\"User-Agent\": \"Mozilla/5.0 (X11; Linux x86_64; rv:60.0) Gecko/20100101 Firefox/60.0\"}\n",
    "page = requests.get(url, headers=headers)\n",
    "soup = BeautifulSoup(page.content, 'html.parser')\n",
    "soup=BeautifulSoup(page.content, 'html.parser')\n",
    "title=soup.find('h1',class_=\"entry-title\")\n",
    "title=title.text.replace('\\n',\" \")\n",
    "title\n"
   ]
  },
  {
   "cell_type": "code",
   "execution_count": 2,
   "id": "807b9146",
   "metadata": {},
   "outputs": [
    {
     "name": "stdout",
     "output_type": "stream",
     "text": [
      " Data Science is gaining popularity exponentially over the past decade, and thanks to that we are now enjoying better products, recommendations, and smoother life. Data science is an interdisciplinary subject that includes statistics, math, IT, etc.    Now there is so much to do in Data Science,  so we need an arrangement where all this can be accessible in one place. It will be very hectic to go to hundreds of different resources while doing analysis or building models. But don’t worry, PYTHON is there for you. Yes, you read it right, Python is a general programming language that can provide everything you need for Data Science. Several features that have made Python become the choice of data science in past times are: 1. Python is a progressively typed language, so the variables are defined automatically. 2. Python is more readable and uses lesser code to play out a similar task when contrasted with other programming languages. 3. Python is specifically typed. In this way, developers need to cast types manually. 4. Python is an interpreted language. This implies the program need not have complied. 5. Python is flexible, convenient, and can run on any platform effectively. It is adaptable and can be integrated with other third-party software effectively. Now let’s see why Python become the choice of data science: PANDAS This library available in python makes it very easier to analyze the data, you can read a variety of data sets like CSV, XML, XLSX, JSON, etc. You can perform several operations like Groupby, sorting with the help of easily accessible objects from pandas. NUMPY This package helps you with any numerical operation that is needed to be performed in Data science, for example calculating Euclidean distance, finding ranks of the matrix, etc. matplotlib AND SEABORN These are excellent data visualization libraries available in python that produce some excellent visualization like shown here,    sklearn It provides you state of the art machine learning algorithms for your accurate predictive analysis. Scikit–Learn is characterized by a clean, uniform, and streamlined API, as well as by very useful and complete online documentation. It provides a selection of efficient tools for machine learning and statistical modeling including classification, regression, clustering, and dimensionality reduction via a consistent interface in Python. KERAS Keras is an open-source software library that provides a Python interface for artificial neural networks. Keras acts as an interface for the TensorFlow library. Keras is an industry-strength framework that can scale to large clusters of GPUs or an entire TPU pod. See, Now that you have a variety of resources available here in python, then why go anywhere else. Python I also becoming the world’s most loved and most wanted programming language and it will surely help to get you the job. Data science consulting organizations are empowering their group of developers and data scientists to utilize Python as a programming language. Python has gotten well-known and the most significant programming language in an extremely brief timeframe. Data Scientists need to manage a large amount of data known as big data. With simple utilization and a huge arrangement of python libraries, Python has become a popular choice to deal with big data.    Seeing the stats we can clearly see that Python has taken over other Languages needed for data science. It has also surpassed R which is exclusively built for Data science. Isn’t this exciting.    Python in Data science has empowered data scientists to accomplish more in less time. Python is an adaptable programming language that can be effectively understood and is exceptionally amazing as well. Python is highly adaptable and can work in any environment effectively. Additionally, with negligible changes, it can run on any operating system and can be integrated with other programming languages. These qualities have settled on Python as the top choice for developers & data scientists. So next time you do analysis or work on any Data Science project, feel proud cause you are working with the most loved language of the world. Blackcoffer Insights 25: Divyansh Bobade, LNCT (Bhopal) \n",
      " Data Science is gaining popularity exponentially over the past decade and thanks to that we are now enjoying better products recommendations and smoother life Data science is an interdisciplinary subject that includes statistics math IT etc    Now there is so much to do in Data Science  so we need an arrangement where all this can be accessible in one place It will be very hectic to go to hundreds of different resources while doing analysis or building models But don’t worry PYTHON is there for you Yes you read it right Python is a general programming language that can provide everything you need for Data Science Several features that have made Python become the choice of data science in past times are 1 Python is a progressively typed language so the variables are defined automatically 2 Python is more readable and uses lesser code to play out a similar task when contrasted with other programming languages 3 Python is specifically typed In this way developers need to cast types manually 4 Python is an interpreted language This implies the program need not have complied 5 Python is flexible convenient and can run on any platform effectively It is adaptable and can be integrated with other thirdparty software effectively Now let’s see why Python become the choice of data science PANDAS This library available in python makes it very easier to analyze the data you can read a variety of data sets like CSV XML XLSX JSON etc You can perform several operations like Groupby sorting with the help of easily accessible objects from pandas NUMPY This package helps you with any numerical operation that is needed to be performed in Data science for example calculating Euclidean distance finding ranks of the matrix etc matplotlib AND SEABORN These are excellent data visualization libraries available in python that produce some excellent visualization like shown here    sklearn It provides you state of the art machine learning algorithms for your accurate predictive analysis Scikit–Learn is characterized by a clean uniform and streamlined API as well as by very useful and complete online documentation It provides a selection of efficient tools for machine learning and statistical modeling including classification regression clustering and dimensionality reduction via a consistent interface in Python KERAS Keras is an opensource software library that provides a Python interface for artificial neural networks Keras acts as an interface for the TensorFlow library Keras is an industrystrength framework that can scale to large clusters of GPUs or an entire TPU pod See Now that you have a variety of resources available here in python then why go anywhere else Python I also becoming the world’s most loved and most wanted programming language and it will surely help to get you the job Data science consulting organizations are empowering their group of developers and data scientists to utilize Python as a programming language Python has gotten wellknown and the most significant programming language in an extremely brief timeframe Data Scientists need to manage a large amount of data known as big data With simple utilization and a huge arrangement of python libraries Python has become a popular choice to deal with big data    Seeing the stats we can clearly see that Python has taken over other Languages needed for data science It has also surpassed R which is exclusively built for Data science Isn’t this exciting    Python in Data science has empowered data scientists to accomplish more in less time Python is an adaptable programming language that can be effectively understood and is exceptionally amazing as well Python is highly adaptable and can work in any environment effectively Additionally with negligible changes it can run on any operating system and can be integrated with other programming languages These qualities have settled on Python as the top choice for developers  data scientists So next time you do analysis or work on any Data Science project feel proud cause you are working with the most loved language of the world Blackcoffer Insights 25 Divyansh Bobade LNCT Bhopal \n",
      "['Data', 'Science', 'is', 'gaining', 'popularity', 'exponentially', 'over', 'the', 'past', 'decade', 'and', 'thanks', 'to', 'that', 'we', 'are', 'now', 'enjoying', 'better', 'products', 'recommendations', 'and', 'smoother', 'life', 'Data', 'science', 'is', 'an', 'interdisciplinary', 'subject', 'that', 'includes', 'statistics', 'math', 'IT', 'etc', 'Now', 'there', 'is', 'so', 'much', 'to', 'do', 'in', 'Data', 'Science', 'so', 'we', 'need', 'an', 'arrangement', 'where', 'all', 'this', 'can', 'be', 'accessible', 'in', 'one', 'place', 'It', 'will', 'be', 'very', 'hectic', 'to', 'go', 'to', 'hundreds', 'of', 'different', 'resources', 'while', 'doing', 'analysis', 'or', 'building', 'models', 'But', 'don’t', 'worry', 'PYTHON', 'is', 'there', 'for', 'you', 'Yes', 'you', 'read', 'it', 'right', 'Python', 'is', 'a', 'general', 'programming', 'language', 'that', 'can', 'provide', 'everything', 'you', 'need', 'for', 'Data', 'Science', 'Several', 'features', 'that', 'have', 'made', 'Python', 'become', 'the', 'choice', 'of', 'data', 'science', 'in', 'past', 'times', 'are', '1', 'Python', 'is', 'a', 'progressively', 'typed', 'language', 'so', 'the', 'variables', 'are', 'defined', 'automatically', '2', 'Python', 'is', 'more', 'readable', 'and', 'uses', 'lesser', 'code', 'to', 'play', 'out', 'a', 'similar', 'task', 'when', 'contrasted', 'with', 'other', 'programming', 'languages', '3', 'Python', 'is', 'specifically', 'typed', 'In', 'this', 'way', 'developers', 'need', 'to', 'cast', 'types', 'manually', '4', 'Python', 'is', 'an', 'interpreted', 'language', 'This', 'implies', 'the', 'program', 'need', 'not', 'have', 'complied', '5', 'Python', 'is', 'flexible', 'convenient', 'and', 'can', 'run', 'on', 'any', 'platform', 'effectively', 'It', 'is', 'adaptable', 'and', 'can', 'be', 'integrated', 'with', 'other', 'thirdparty', 'software', 'effectively', 'Now', 'let’s', 'see', 'why', 'Python', 'become', 'the', 'choice', 'of', 'data', 'science', 'PANDAS', 'This', 'library', 'available', 'in', 'python', 'makes', 'it', 'very', 'easier', 'to', 'analyze', 'the', 'data', 'you', 'can', 'read', 'a', 'variety', 'of', 'data', 'sets', 'like', 'CSV', 'XML', 'XLSX', 'JSON', 'etc', 'You', 'can', 'perform', 'several', 'operations', 'like', 'Groupby', 'sorting', 'with', 'the', 'help', 'of', 'easily', 'accessible', 'objects', 'from', 'pandas', 'NUMPY', 'This', 'package', 'helps', 'you', 'with', 'any', 'numerical', 'operation', 'that', 'is', 'needed', 'to', 'be', 'performed', 'in', 'Data', 'science', 'for', 'example', 'calculating', 'Euclidean', 'distance', 'finding', 'ranks', 'of', 'the', 'matrix', 'etc', 'matplotlib', 'AND', 'SEABORN', 'These', 'are', 'excellent', 'data', 'visualization', 'libraries', 'available', 'in', 'python', 'that', 'produce', 'some', 'excellent', 'visualization', 'like', 'shown', 'here', 'sklearn', 'It', 'provides', 'you', 'state', 'of', 'the', 'art', 'machine', 'learning', 'algorithms', 'for', 'your', 'accurate', 'predictive', 'analysis', 'Scikit–Learn', 'is', 'characterized', 'by', 'a', 'clean', 'uniform', 'and', 'streamlined', 'API', 'as', 'well', 'as', 'by', 'very', 'useful', 'and', 'complete', 'online', 'documentation', 'It', 'provides', 'a', 'selection', 'of', 'efficient', 'tools', 'for', 'machine', 'learning', 'and', 'statistical', 'modeling', 'including', 'classification', 'regression', 'clustering', 'and', 'dimensionality', 'reduction', 'via', 'a', 'consistent', 'interface', 'in', 'Python', 'KERAS', 'Keras', 'is', 'an', 'opensource', 'software', 'library', 'that', 'provides', 'a', 'Python', 'interface', 'for', 'artificial', 'neural', 'networks', 'Keras', 'acts', 'as', 'an', 'interface', 'for', 'the', 'TensorFlow', 'library', 'Keras', 'is', 'an', 'industrystrength', 'framework', 'that', 'can', 'scale', 'to', 'large', 'clusters', 'of', 'GPUs', 'or', 'an', 'entire', 'TPU', 'pod', 'See', 'Now', 'that', 'you', 'have', 'a', 'variety', 'of', 'resources', 'available', 'here', 'in', 'python', 'then', 'why', 'go', 'anywhere', 'else', 'Python', 'I', 'also', 'becoming', 'the', 'world’s', 'most', 'loved', 'and', 'most', 'wanted', 'programming', 'language', 'and', 'it', 'will', 'surely', 'help', 'to', 'get', 'you', 'the', 'job', 'Data', 'science', 'consulting', 'organizations', 'are', 'empowering', 'their', 'group', 'of', 'developers', 'and', 'data', 'scientists', 'to', 'utilize', 'Python', 'as', 'a', 'programming', 'language', 'Python', 'has', 'gotten', 'wellknown', 'and', 'the', 'most', 'significant', 'programming', 'language', 'in', 'an', 'extremely', 'brief', 'timeframe', 'Data', 'Scientists', 'need', 'to', 'manage', 'a', 'large', 'amount', 'of', 'data', 'known', 'as', 'big', 'data', 'With', 'simple', 'utilization', 'and', 'a', 'huge', 'arrangement', 'of', 'python', 'libraries', 'Python', 'has', 'become', 'a', 'popular', 'choice', 'to', 'deal', 'with', 'big', 'data', 'Seeing', 'the', 'stats', 'we', 'can', 'clearly', 'see', 'that', 'Python', 'has', 'taken', 'over', 'other', 'Languages', 'needed', 'for', 'data', 'science', 'It', 'has', 'also', 'surpassed', 'R', 'which', 'is', 'exclusively', 'built', 'for', 'Data', 'science', 'Isn’t', 'this', 'exciting', 'Python', 'in', 'Data', 'science', 'has', 'empowered', 'data', 'scientists', 'to', 'accomplish', 'more', 'in', 'less', 'time', 'Python', 'is', 'an', 'adaptable', 'programming', 'language', 'that', 'can', 'be', 'effectively', 'understood', 'and', 'is', 'exceptionally', 'amazing', 'as', 'well', 'Python', 'is', 'highly', 'adaptable', 'and', 'can', 'work', 'in', 'any', 'environment', 'effectively', 'Additionally', 'with', 'negligible', 'changes', 'it', 'can', 'run', 'on', 'any', 'operating', 'system', 'and', 'can', 'be', 'integrated', 'with', 'other', 'programming', 'languages', 'These', 'qualities', 'have', 'settled', 'on', 'Python', 'as', 'the', 'top', 'choice', 'for', 'developers', 'data', 'scientists', 'So', 'next', 'time', 'you', 'do', 'analysis', 'or', 'work', 'on', 'any', 'Data', 'Science', 'project', 'feel', 'proud', 'cause', 'you', 'are', 'working', 'with', 'the', 'most', 'loved', 'language', 'of', 'the', 'world', 'Blackcoffer', 'Insights', '25', 'Divyansh', 'Bobade', 'LNCT', 'Bhopal']\n"
     ]
    }
   ],
   "source": [
    "content=soup.findAll(attrs={'class':'td-post-content'})\n",
    "content=content[0].text.replace('\\n',\" \")\n",
    "print(content)\n",
    "#Punctuation\n",
    "content = content.translate(str.maketrans('', '', string.punctuation)) \n",
    "print(content)\n",
    "text = content.split()\n",
    "print(text)\n"
   ]
  },
  {
   "cell_type": "code",
   "execution_count": 3,
   "id": "bcec71cf",
   "metadata": {},
   "outputs": [
    {
     "data": {
      "text/plain": [
       "671"
      ]
     },
     "execution_count": 3,
     "metadata": {},
     "output_type": "execute_result"
    }
   ],
   "source": [
    "len(text)"
   ]
  },
  {
   "cell_type": "code",
   "execution_count": 4,
   "id": "a678ba34",
   "metadata": {},
   "outputs": [
    {
     "name": "stdout",
     "output_type": "stream",
     "text": [
      "52\n"
     ]
    }
   ],
   "source": [
    "#Positive Score \n",
    "with open(r\"C:\\Users\\Om Bhandwalkar\\Desktop\\pos\\positive-words.txt\") as pos:\n",
    "    poswords = pos.read().split(\"\\n\")  \n",
    "    poswords = poswords[5:]\n",
    "pos_count = \" \".join ([w for w in text if w in poswords])\n",
    "pos_count=pos_count.split(\" \")\n",
    "Positive_score=len(pos_count)\n",
    "print(Positive_score)"
   ]
  },
  {
   "cell_type": "code",
   "execution_count": 5,
   "id": "050bf2d6",
   "metadata": {},
   "outputs": [
    {
     "name": "stdout",
     "output_type": "stream",
     "text": [
      "3\n"
     ]
    }
   ],
   "source": [
    "#Negative Score\n",
    "with open(r\"C:\\Users\\Om Bhandwalkar\\Desktop\\pos\\negative-words.txt\",encoding =\"ISO-8859-1\") as neg:\n",
    "    negwords = neg.read().split(\"\\n\")\n",
    "    \n",
    "negwords = negwords[36:]\n",
    "neg_count = \" \".join ([w for w in text if w in negwords])\n",
    "neg_count=neg_count.split(\" \")\n",
    "Negative_score=len(neg_count)\n",
    "print(Negative_score)"
   ]
  },
  {
   "cell_type": "code",
   "execution_count": 6,
   "id": "33ddc36f",
   "metadata": {},
   "outputs": [
    {
     "data": {
      "text/html": [
       "<div>\n",
       "<style scoped>\n",
       "    .dataframe tbody tr th:only-of-type {\n",
       "        vertical-align: middle;\n",
       "    }\n",
       "\n",
       "    .dataframe tbody tr th {\n",
       "        vertical-align: top;\n",
       "    }\n",
       "\n",
       "    .dataframe thead th {\n",
       "        text-align: right;\n",
       "    }\n",
       "</style>\n",
       "<table border=\"1\" class=\"dataframe\">\n",
       "  <thead>\n",
       "    <tr style=\"text-align: right;\">\n",
       "      <th></th>\n",
       "      <th>url</th>\n",
       "      <th>title</th>\n",
       "      <th>content</th>\n",
       "      <th>filter_content</th>\n",
       "      <th>Positive_Score</th>\n",
       "      <th>Negative_Score</th>\n",
       "      <th>polarity</th>\n",
       "      <th>subjectivity</th>\n",
       "    </tr>\n",
       "  </thead>\n",
       "  <tbody>\n",
       "    <tr>\n",
       "      <th>0</th>\n",
       "      <td>https://insights.blackcoffer.com/how-python-be...</td>\n",
       "      <td>How Python became the first choice for Data Sc...</td>\n",
       "      <td>Data Science is gaining popularity exponentia...</td>\n",
       "      <td>Data Science is gaining popularity exponential...</td>\n",
       "      <td>52</td>\n",
       "      <td>3</td>\n",
       "      <td>0.271886</td>\n",
       "      <td>0.502752</td>\n",
       "    </tr>\n",
       "  </tbody>\n",
       "</table>\n",
       "</div>"
      ],
      "text/plain": [
       "                                                 url  \\\n",
       "0  https://insights.blackcoffer.com/how-python-be...   \n",
       "\n",
       "                                               title  \\\n",
       "0  How Python became the first choice for Data Sc...   \n",
       "\n",
       "                                             content  \\\n",
       "0   Data Science is gaining popularity exponentia...   \n",
       "\n",
       "                                      filter_content  Positive_Score  \\\n",
       "0  Data Science is gaining popularity exponential...              52   \n",
       "\n",
       "   Negative_Score  polarity  subjectivity  \n",
       "0               3  0.271886      0.502752  "
      ]
     },
     "execution_count": 6,
     "metadata": {},
     "output_type": "execute_result"
    }
   ],
   "source": [
    "filter_content = ' '.join(text)\n",
    "data=[[url,title,content,filter_content,Positive_score,Negative_score]]\n",
    "data=pd.DataFrame(data,columns=[\"url\",\"title\",\"content\",\"filter_content\",\"Positive_Score\",\"Negative_Score\"])\n",
    "from textblob import TextBlob\n",
    "# Get The Subjectivity\n",
    "def sentiment_analysis(data):\n",
    "    sentiment = TextBlob(data[\"content\"]).sentiment\n",
    "    return pd.Series([sentiment.polarity,sentiment.subjectivity ])\n",
    "\n",
    "# Adding Subjectivity & Polarity\n",
    "data[[\"polarity\", \"subjectivity\"]] = data.apply(sentiment_analysis, axis=1)\n",
    "\n",
    "data"
   ]
  },
  {
   "cell_type": "code",
   "execution_count": 7,
   "id": "78fbf26d",
   "metadata": {},
   "outputs": [
    {
     "name": "stdout",
     "output_type": "stream",
     "text": [
      "Word average = 3450.0\n",
      "FOG INDEX =  272.75\n",
      "Average no of words per sentence\n",
      "671.0\n",
      "Complex Words 1259\n"
     ]
    }
   ],
   "source": [
    "#AVG SENTENCE LENGTH\n",
    "AVG_SENTENCE_LENGTH = len(content.replace(' ',''))/len(re.split(r'[?!.]', content))\n",
    "print('Word average =', AVG_SENTENCE_LENGTH)\n",
    "import textstat\n",
    "#Fog index \n",
    "FOG_INDEX=(textstat.gunning_fog(content))\n",
    "print(\"FOG INDEX = \",FOG_INDEX)\n",
    "#Average No of Words Per Sentence \n",
    "AVG_NUMBER_OF_WORDS_PER_SENTENCE = [len(l.split()) for l in re.split(r'[?!.]', content) if l.strip()]\n",
    "print(\"Average no of words per sentence\")\n",
    "AVG_NUMBER_OF_WORDS_PER_SENTENCE=print(sum(AVG_NUMBER_OF_WORDS_PER_SENTENCE)/len(AVG_NUMBER_OF_WORDS_PER_SENTENCE))\n",
    "#Complex words\n",
    "def syllable_count(word):\n",
    "    count = 0\n",
    "    vowels = \"AEIOUYaeiouy\"\n",
    "    if word[0] in vowels:\n",
    "        count += 1\n",
    "    for index in range(1, len(word)): \n",
    "        if word[index] in vowels and word[index - 1] not in vowels:\n",
    "            count += 1\n",
    "            if word.endswith(\"es\"or \"ed\"):\n",
    "                count -= 1\n",
    "    if count == 0:\n",
    "        count += 1\n",
    "    return count\n",
    "\n",
    "\n",
    "\n",
    "COMPLEX_WORDS=syllable_count(content)\n",
    "print(\"Complex Words\",COMPLEX_WORDS)\n"
   ]
  },
  {
   "cell_type": "code",
   "execution_count": 8,
   "id": "53c8dfa3",
   "metadata": {},
   "outputs": [
    {
     "name": "stdout",
     "output_type": "stream",
     "text": [
      "Word Count 4135\n",
      "Percentage of Complex Words 30.44740024183797\n",
      "Average Word per Length 5.141579731743666\n",
      "The AVG number of syllables in the word is: \n",
      "2.0953800298062593\n"
     ]
    }
   ],
   "source": [
    "#Word Count\n",
    "Word_Count=len(content)\n",
    "print(\"Word Count\",Word_Count)\n",
    "#Percentage Complex Words\n",
    "pcw=(COMPLEX_WORDS/Word_Count)*100\n",
    "print(\"Percentage of Complex Words\",pcw)\n",
    "#Average Word Length\n",
    "Average_Word_Length=len(content.replace(' ',''))/len(content.split())\n",
    "print(\"Average Word per Length\",Average_Word_Length)\n",
    "#Syllable Count Per Word\n",
    "word=content.replace(' ','')\n",
    "syllable_count=0\n",
    "for w in word:\n",
    "      if(w=='a' or w=='e' or w=='i' or w=='o' or w=='y' or w=='u' or w=='A' or w=='E' or w=='I' or w=='O' or w=='U' or w=='Y'):\n",
    "            syllable_count=syllable_count+1\n",
    "print(\"The AVG number of syllables in the word is: \")\n",
    "print(syllable_count/len(content.split()))"
   ]
  },
  {
   "cell_type": "code",
   "execution_count": 1,
   "id": "065578c0",
   "metadata": {},
   "outputs": [
    {
     "name": "stdout",
     "output_type": "stream",
     "text": [
      "52\n",
      "3\n",
      "Word average = 3450.0\n",
      "FOG INDEX =  272.75\n",
      "Average no of words per sentence\n",
      "671.0\n",
      "Complex Words 1259\n",
      "Word Count 4135\n",
      "Percentage of Complex Words 30.44740024183797\n",
      "Average Word per Length 5.141579731743666\n",
      "The AVG number of syllables in the word is: \n",
      "2.0953800298062593\n"
     ]
    },
    {
     "data": {
      "text/html": [
       "<div>\n",
       "<style scoped>\n",
       "    .dataframe tbody tr th:only-of-type {\n",
       "        vertical-align: middle;\n",
       "    }\n",
       "\n",
       "    .dataframe tbody tr th {\n",
       "        vertical-align: top;\n",
       "    }\n",
       "\n",
       "    .dataframe thead th {\n",
       "        text-align: right;\n",
       "    }\n",
       "</style>\n",
       "<table border=\"1\" class=\"dataframe\">\n",
       "  <thead>\n",
       "    <tr style=\"text-align: right;\">\n",
       "      <th></th>\n",
       "      <th>url</th>\n",
       "      <th>title</th>\n",
       "      <th>content</th>\n",
       "      <th>filter_content</th>\n",
       "      <th>Positive_Score</th>\n",
       "      <th>Negative_Score</th>\n",
       "      <th>Avg_Sentence_Length</th>\n",
       "      <th>Percentage_Complex_Word</th>\n",
       "      <th>Fog_Index</th>\n",
       "      <th>AVG_NUMBER_OF_WORDS_PER_SENTENCE</th>\n",
       "      <th>COMPLEX_WORDS</th>\n",
       "      <th>Word_Count</th>\n",
       "      <th>syllable</th>\n",
       "      <th>Average_Word_Length</th>\n",
       "      <th>polarity</th>\n",
       "      <th>subjectivity</th>\n",
       "    </tr>\n",
       "  </thead>\n",
       "  <tbody>\n",
       "    <tr>\n",
       "      <th>0</th>\n",
       "      <td>https://insights.blackcoffer.com/how-python-be...</td>\n",
       "      <td>How Python became the first choice for Data Sc...</td>\n",
       "      <td>Data Science is gaining popularity exponentia...</td>\n",
       "      <td>Data Science is gaining popularity exponential...</td>\n",
       "      <td>52</td>\n",
       "      <td>3</td>\n",
       "      <td>3450.0</td>\n",
       "      <td>30.4474</td>\n",
       "      <td>272.75</td>\n",
       "      <td>671.0</td>\n",
       "      <td>1259</td>\n",
       "      <td>4135</td>\n",
       "      <td>2.09538</td>\n",
       "      <td>5.14158</td>\n",
       "      <td>0.271886</td>\n",
       "      <td>0.502752</td>\n",
       "    </tr>\n",
       "  </tbody>\n",
       "</table>\n",
       "</div>"
      ],
      "text/plain": [
       "                                                 url  \\\n",
       "0  https://insights.blackcoffer.com/how-python-be...   \n",
       "\n",
       "                                               title  \\\n",
       "0  How Python became the first choice for Data Sc...   \n",
       "\n",
       "                                             content  \\\n",
       "0   Data Science is gaining popularity exponentia...   \n",
       "\n",
       "                                      filter_content  Positive_Score  \\\n",
       "0  Data Science is gaining popularity exponential...              52   \n",
       "\n",
       "   Negative_Score  Avg_Sentence_Length  Percentage_Complex_Word  Fog_Index  \\\n",
       "0               3               3450.0                  30.4474     272.75   \n",
       "\n",
       "    AVG_NUMBER_OF_WORDS_PER_SENTENCE  COMPLEX_WORDS  Word_Count  syllable  \\\n",
       "0                              671.0           1259        4135   2.09538   \n",
       "\n",
       "   Average_Word_Length  polarity  subjectivity  \n",
       "0              5.14158  0.271886      0.502752  "
      ]
     },
     "execution_count": 1,
     "metadata": {},
     "output_type": "execute_result"
    }
   ],
   "source": [
    "import requests\n",
    "import pandas as pd \n",
    "from bs4 import BeautifulSoup\n",
    "import string\n",
    "import spacy\n",
    "import re\n",
    "url = \"\"\"https://insights.blackcoffer.com/how-python-became-the-first-choice-for-data-science/\"\"\"\n",
    "headers = {\"User-Agent\": \"Mozilla/5.0 (X11; Linux x86_64; rv:60.0) Gecko/20100101 Firefox/60.0\"}\n",
    "page = requests.get(url, headers=headers)\n",
    "soup = BeautifulSoup(page.content, 'html.parser')\n",
    "soup=BeautifulSoup(page.content, 'html.parser')\n",
    "title=soup.find('h1',class_=\"entry-title\")\n",
    "title=title.text.replace('\\n',\" \")\n",
    "# title\n",
    "\n",
    "content=soup.findAll(attrs={'class':'td-post-content'})\n",
    "content=content[0].text.replace('\\n',\" \")\n",
    "# print(content)\n",
    "#Punctuation\n",
    "content = content.translate(str.maketrans('', '', string.punctuation)) \n",
    "# print(content)\n",
    "text = content.split()\n",
    "# print(text)\n",
    "len(text)\n",
    "#Positive Score \n",
    "with open(r\"C:\\Users\\Om Bhandwalkar\\Desktop\\pos\\positive-words.txt\") as pos:\n",
    "    poswords = pos.read().split(\"\\n\")  \n",
    "    poswords = poswords[5:]\n",
    "pos_count = \" \".join ([w for w in text if w in poswords])\n",
    "pos_count=pos_count.split(\" \")\n",
    "Positive_score=len(pos_count)\n",
    "print(Positive_score)\n",
    "\n",
    "#Negative Score\n",
    "with open(r\"C:\\Users\\Om Bhandwalkar\\Desktop\\pos\\negative-words.txt\",encoding =\"ISO-8859-1\") as neg:\n",
    "    negwords = neg.read().split(\"\\n\")\n",
    "    \n",
    "negwords = negwords[36:]\n",
    "neg_count = \" \".join ([w for w in text if w in negwords])\n",
    "neg_count=neg_count.split(\" \")\n",
    "Negative_score=len(neg_count)\n",
    "print(Negative_score)\n",
    "\n",
    "\n",
    "filter_content = ' '.join(text)\n",
    "data=[[url,title,content,filter_content,Positive_score,Negative_score]]\n",
    "data=pd.DataFrame(data,columns=[\"url\",\"title\",\"content\",\"filter_content\",\"Positive_Score\",\"Negative_Score\"])\n",
    "from textblob import TextBlob\n",
    "# Get The Subjectivity\n",
    "def sentiment_analysis(data):\n",
    "    sentiment = TextBlob(data[\"content\"]).sentiment\n",
    "    return pd.Series([sentiment.polarity,sentiment.subjectivity ])\n",
    "data[[\"polarity\", \"subjectivity\"]] = data.apply(sentiment_analysis, axis=1)\n",
    "data\n",
    "#AVG SENTENCE LENGTH\n",
    "AVG_SENTENCE_LENGTH = len(content.replace(' ',''))/len(re.split(r'[?!.]', content))\n",
    "print('Word average =', AVG_SENTENCE_LENGTH)\n",
    "import textstat\n",
    "#Fog index \n",
    "FOG_INDEX=(textstat.gunning_fog(content))\n",
    "print(\"FOG INDEX = \",FOG_INDEX)\n",
    "#Average No of Words Per Sentence \n",
    "AVG_NUMBER_OF_WORDS_PER_SENTENCE = [len(l.split()) for l in re.split(r'[?!.]', content) if l.strip()]\n",
    "print(\"Average no of words per sentence\")\n",
    "AVG_NUMBER_OF_WORDS_PER_SENTENCE=(sum(AVG_NUMBER_OF_WORDS_PER_SENTENCE)/len(AVG_NUMBER_OF_WORDS_PER_SENTENCE))\n",
    "print(AVG_NUMBER_OF_WORDS_PER_SENTENCE)\n",
    "#Complex words\n",
    "def syllable_count(word):\n",
    "    count = 0\n",
    "    vowels = \"AEIOUYaeiouy\"\n",
    "    if word[0] in vowels:\n",
    "        count += 1\n",
    "    for index in range(1, len(word)): \n",
    "        if word[index] in vowels and word[index - 1] not in vowels:\n",
    "            count += 1\n",
    "            if word.endswith(\"es\"or \"ed\"):\n",
    "                count -= 1\n",
    "    if count == 0:\n",
    "        count += 1\n",
    "    return count\n",
    "\n",
    "\n",
    "\n",
    "COMPLEX_WORDS=syllable_count(content)\n",
    "print(\"Complex Words\",COMPLEX_WORDS)\n",
    "#Word Count\n",
    "Word_Count=len(content)\n",
    "print(\"Word Count\",Word_Count)\n",
    "#Percentage Complex Words\n",
    "pcw=(COMPLEX_WORDS/Word_Count)*100\n",
    "print(\"Percentage of Complex Words\",pcw)\n",
    "#Average Word Length\n",
    "Average_Word_Length=len(content.replace(' ',''))/len(content.split())\n",
    "print(\"Average Word per Length\",Average_Word_Length)\n",
    "#Syllable Count Per Word\n",
    "word=content.replace(' ','')\n",
    "syllable_count=0\n",
    "for w in word:\n",
    "      if(w=='a' or w=='e' or w=='i' or w=='o' or w=='y' or w=='u' or w=='A' or w=='E' or w=='I' or w=='O' or w=='U' or w=='Y'):\n",
    "            syllable_count=syllable_count+1\n",
    "print(\"The AVG number of syllables in the word is: \")\n",
    "syllable = (syllable_count/len(content.split()))\n",
    "print(syllable)\n",
    "\n",
    "data = [[url,title,content,filter_content,Positive_score,Negative_score,AVG_SENTENCE_LENGTH,pcw,FOG_INDEX,\n",
    "         AVG_NUMBER_OF_WORDS_PER_SENTENCE,COMPLEX_WORDS,Word_Count,syllable,Average_Word_Length]]\n",
    "data=pd.DataFrame(data,columns=[\"url\",\"title\",\"content\",\"filter_content\",\"Positive_Score\",\"Negative_Score\",\"Avg_Sentence_Length\"\n",
    "                               ,\"Percentage_Complex_Word\",\"Fog_Index\",\" AVG_NUMBER_OF_WORDS_PER_SENTENCE\",\"COMPLEX_WORDS\",\n",
    "                               \"Word_Count\",\"syllable\",\"Average_Word_Length\"])\n",
    "from textblob import TextBlob\n",
    "# Get The Subjectivity\n",
    "def sentiment_analysis(data):\n",
    "    sentiment = TextBlob(data[\"content\"]).sentiment\n",
    "    return pd.Series([sentiment.polarity,sentiment.subjectivity ])\n",
    "data[[\"polarity\", \"subjectivity\"]] = data.apply(sentiment_analysis, axis=1)\n",
    "data"
   ]
  },
  {
   "cell_type": "code",
   "execution_count": 2,
   "id": "cf713fe7",
   "metadata": {},
   "outputs": [],
   "source": [
    "data.to_csv(r'C:\\Users\\Om Bhandwalkar\\Desktop\\BlackCoffer Assignment\\Output\\url_61.csv')"
   ]
  },
  {
   "cell_type": "code",
   "execution_count": null,
   "id": "39fa96fd",
   "metadata": {},
   "outputs": [],
   "source": []
  }
 ],
 "metadata": {
  "kernelspec": {
   "display_name": "Python 3 (ipykernel)",
   "language": "python",
   "name": "python3"
  },
  "language_info": {
   "codemirror_mode": {
    "name": "ipython",
    "version": 3
   },
   "file_extension": ".py",
   "mimetype": "text/x-python",
   "name": "python",
   "nbconvert_exporter": "python",
   "pygments_lexer": "ipython3",
   "version": "3.9.12"
  }
 },
 "nbformat": 4,
 "nbformat_minor": 5
}
