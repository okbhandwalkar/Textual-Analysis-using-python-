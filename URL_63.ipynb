{
 "cells": [
  {
   "cell_type": "code",
   "execution_count": 1,
   "id": "f5dff98d",
   "metadata": {},
   "outputs": [
    {
     "data": {
      "text/plain": [
       "'What is the future of mobile apps?'"
      ]
     },
     "execution_count": 1,
     "metadata": {},
     "output_type": "execute_result"
    }
   ],
   "source": [
    "import requests\n",
    "import pandas as pd \n",
    "from bs4 import BeautifulSoup\n",
    "import string\n",
    "import spacy\n",
    "import re\n",
    "url = \"\"\"https://insights.blackcoffer.com/what-is-the-future-of-mobile-apps/\"\"\"\n",
    "headers = {\"User-Agent\": \"Mozilla/5.0 (X11; Linux x86_64; rv:60.0) Gecko/20100101 Firefox/60.0\"}\n",
    "page = requests.get(url, headers=headers)\n",
    "soup = BeautifulSoup(page.content, 'html.parser')\n",
    "soup=BeautifulSoup(page.content, 'html.parser')\n",
    "title=soup.find('h1',class_=\"entry-title\")\n",
    "title=title.text.replace('\\n',\" \")\n",
    "title\n"
   ]
  },
  {
   "cell_type": "code",
   "execution_count": 2,
   "id": "a24f78da",
   "metadata": {},
   "outputs": [
    {
     "name": "stdout",
     "output_type": "stream",
     "text": [
      " From what I have learned on the mobile apps development market recently, it is becoming harder for an Android or iOS developer to find a suitable and well-paying job in the market. Some major reasons include the increasing supply of mobile engineers, people generally stop downloading apps, and many more. In this article, I will go through a more detailed explanation of the recent trend mentioned above and my two cents on what mobile engineers could do to prepare themself for the upcoming challenge! and the future of mobile apps. Coding Bootcamps Increase the Supply Side for mobile apps  Developers Although the demand for mobile developers has not fallen sharply compared with previous years, the growth rate has slowed. On the other hand, owing to a great number of coding boot camps that target to bring up mobile and frontend engineers, a great number of developers are flooding into the developer job market. The supply side for mobile engineers has increased rapidly in recent years, raising the standards for qualified mobile engineers. The days of a mobile engineer easily getting over 10 job offers are over. Recode ran an article in mid-2016, that begins: “The mobile app boom kicked off in July 2008, when Apple introduced the App Store. Now it is over.” According to data gathered and analyzed by the CakeResume team, JavaScript and Python are now the most in-demand programming languages for companies who post product development jobs on CakeResume, both together taking up almost half of the job opportunities, while mobile engineers taking up merely 10% of the job opportunities. learn more about tech salaries in Taiwan Tech Salaries in Taiwan 2019 Overview People Stop Downloading mobile apps While App usage continues to grow and revenue also ascends, the majority of consumers actually download zero apps per month let’s face the truth, born and raised up in the era of the information explosion, individuals don’t have the leisure to check on what’s new on the app store every day. When it comes to choosing an App to download, many people feel overwhelmed by the sheer number of options available. Take the productivity category of the App Store as an example, there are over thousands of Apps in this category, and new Apps popping up almost every week. It is almost impossible for users to dig through and learn all the apps. They just choose what is on top then click Install. And not to mention that if you could build an awesome productivity app, Google and Apple could do it 10 times better and faster than you. In the end, there’s not as much need for individual apps to accomplish similar convenience factors. What You Could Do to Prepare for The future Changes for mobile apps Although the bull run for mobile development has ended, there are still over 2 billion smartphone users, 27.5 billion mobile apps downloaded, and time spent per day on mobile devices has increased rapidly in recent years. Moreover, apps offer a user experience that even ‘Responsive Websites’ are unable to provide. In order to stay on top of the game, you will have to differentiate yourself from the pack — other mobile engineers. If you are a mobile engineer who only knows how to code and tweak your App’s UI, you aren’t that different from others after all. Below I listed a few ways that you could implement so that you could stay competitive in the job market. 1. Choose Newer Technologies When You Have the Chance If you are an Android developer, you could start choosing a job involving Kotlin or Flutter, which are backed by Google. If you are an iOS developer, try to look for a job to get involved with using Swift. Although older mobile coding languages, such as Java and Objective-C, still have their upsides, the main reason why Kotlin and Swift are created at first is to address the older languages issue. It means that Kotlin and swift provide many safety mechanisms available out-of-the-box while being more concise and expressive than Java and Objective-C at the same time. Kotlin vs. Java: Which One You Should Choose for Your Next Android App A detailed comparison of Java and Kotlin to help you decide which language will work best for your next mobile…      Objective-C vs Swift in 2019 The article covers a brief comparison between Objective-C and Swift in 2019, with ABI Stability. 2. Build Up Your Domain Knowledge and Industry Skills This point is especially crucial. Each industry has its specific skills to learn and refine. For example, if you are building a stock, foreign exchange, future, or options market app, you will have to understand the WebSocket protocol, which lets you transfer as much data as you like without incurring the overhead associated with traditional HTTP requests. For the streaming media industry, possessing experience with live streaming protocols such as HLS, RTMP, WebRTC will be a must to deal with streaming-related apps. These industry skills can really make you stand out, and adds another layer of expertise to your already pretty impressive mobile engineer title, making you more valuable in the job market. 3. Follow the Irresistible Tech Trend The future of mobile app development will be shaped by how businesses harness mobile technology to solve people’s everyday problems. Don’t try to fight the irresistible trend, see how you can surf the trend! Exposing yourself or trying to get a job in the field mentioned below will absolutely give you more opportunities as a mobile developer. So what are the trends for mobile apps development?  IoT (Internet of Things)“The driving force behind the growing mobility market is the impact of the IoT and its broad reach,” writes the experts at Maryville University online. In the future, apps will need to speak to each other, in the same way, that devices in the IoT communicate. The market needs companies that can develop custom IoT applications — sensors and devices, web apps, and both B2B and B2C mobile end-user apps. AI (Artificial Intelligence)According to experts at Maryville University, AI is everywhere, from predictive analytics algorithms used by retailers like Target and Amazon to anticipate shopping needs to fraud detection monitors from banks and credit cards. Some more examples: Tinder uses machine learning to increase a user’s chances to find a match. Google Maps makes the process of choosing a parking spot easier.  AR (Augmented Reality) and VR (Virtual Reality)\r",
      " Tech Giants such as Apple and Google have launched their own augmented reality kits — AR Kit and AR Core resp to help app developers to create high-quality mobile apps. As for VR, the latest buzzword associated with it is v-commerce. One of the examples is Alibaba, which in November of 2016 introduced VR shopping to its customers across China.  Blackcoffer Insights 24: Nikhil Singh, St.peter's college agra \n",
      " From what I have learned on the mobile apps development market recently it is becoming harder for an Android or iOS developer to find a suitable and wellpaying job in the market Some major reasons include the increasing supply of mobile engineers people generally stop downloading apps and many more In this article I will go through a more detailed explanation of the recent trend mentioned above and my two cents on what mobile engineers could do to prepare themself for the upcoming challenge and the future of mobile apps Coding Bootcamps Increase the Supply Side for mobile apps  Developers Although the demand for mobile developers has not fallen sharply compared with previous years the growth rate has slowed On the other hand owing to a great number of coding boot camps that target to bring up mobile and frontend engineers a great number of developers are flooding into the developer job market The supply side for mobile engineers has increased rapidly in recent years raising the standards for qualified mobile engineers The days of a mobile engineer easily getting over 10 job offers are over Recode ran an article in mid2016 that begins “The mobile app boom kicked off in July 2008 when Apple introduced the App Store Now it is over” According to data gathered and analyzed by the CakeResume team JavaScript and Python are now the most indemand programming languages for companies who post product development jobs on CakeResume both together taking up almost half of the job opportunities while mobile engineers taking up merely 10 of the job opportunities learn more about tech salaries in Taiwan Tech Salaries in Taiwan 2019 Overview People Stop Downloading mobile apps While App usage continues to grow and revenue also ascends the majority of consumers actually download zero apps per month let’s face the truth born and raised up in the era of the information explosion individuals don’t have the leisure to check on what’s new on the app store every day When it comes to choosing an App to download many people feel overwhelmed by the sheer number of options available Take the productivity category of the App Store as an example there are over thousands of Apps in this category and new Apps popping up almost every week It is almost impossible for users to dig through and learn all the apps They just choose what is on top then click Install And not to mention that if you could build an awesome productivity app Google and Apple could do it 10 times better and faster than you In the end there’s not as much need for individual apps to accomplish similar convenience factors What You Could Do to Prepare for The future Changes for mobile apps Although the bull run for mobile development has ended there are still over 2 billion smartphone users 275 billion mobile apps downloaded and time spent per day on mobile devices has increased rapidly in recent years Moreover apps offer a user experience that even ‘Responsive Websites’ are unable to provide In order to stay on top of the game you will have to differentiate yourself from the pack — other mobile engineers If you are a mobile engineer who only knows how to code and tweak your App’s UI you aren’t that different from others after all Below I listed a few ways that you could implement so that you could stay competitive in the job market 1 Choose Newer Technologies When You Have the Chance If you are an Android developer you could start choosing a job involving Kotlin or Flutter which are backed by Google If you are an iOS developer try to look for a job to get involved with using Swift Although older mobile coding languages such as Java and ObjectiveC still have their upsides the main reason why Kotlin and Swift are created at first is to address the older languages issue It means that Kotlin and swift provide many safety mechanisms available outofthebox while being more concise and expressive than Java and ObjectiveC at the same time Kotlin vs Java Which One You Should Choose for Your Next Android App A detailed comparison of Java and Kotlin to help you decide which language will work best for your next mobile…      ObjectiveC vs Swift in 2019 The article covers a brief comparison between ObjectiveC and Swift in 2019 with ABI Stability 2 Build Up Your Domain Knowledge and Industry Skills This point is especially crucial Each industry has its specific skills to learn and refine For example if you are building a stock foreign exchange future or options market app you will have to understand the WebSocket protocol which lets you transfer as much data as you like without incurring the overhead associated with traditional HTTP requests For the streaming media industry possessing experience with live streaming protocols such as HLS RTMP WebRTC will be a must to deal with streamingrelated apps These industry skills can really make you stand out and adds another layer of expertise to your already pretty impressive mobile engineer title making you more valuable in the job market 3 Follow the Irresistible Tech Trend The future of mobile app development will be shaped by how businesses harness mobile technology to solve people’s everyday problems Don’t try to fight the irresistible trend see how you can surf the trend Exposing yourself or trying to get a job in the field mentioned below will absolutely give you more opportunities as a mobile developer So what are the trends for mobile apps development  IoT Internet of Things“The driving force behind the growing mobility market is the impact of the IoT and its broad reach” writes the experts at Maryville University online In the future apps will need to speak to each other in the same way that devices in the IoT communicate The market needs companies that can develop custom IoT applications — sensors and devices web apps and both B2B and B2C mobile enduser apps AI Artificial IntelligenceAccording to experts at Maryville University AI is everywhere from predictive analytics algorithms used by retailers like Target and Amazon to anticipate shopping needs to fraud detection monitors from banks and credit cards Some more examples Tinder uses machine learning to increase a user’s chances to find a match Google Maps makes the process of choosing a parking spot easier  AR Augmented Reality and VR Virtual Reality\r",
      " Tech Giants such as Apple and Google have launched their own augmented reality kits — AR Kit and AR Core resp to help app developers to create highquality mobile apps As for VR the latest buzzword associated with it is vcommerce One of the examples is Alibaba which in November of 2016 introduced VR shopping to its customers across China  Blackcoffer Insights 24 Nikhil Singh Stpeters college agra \n",
      "['From', 'what', 'I', 'have', 'learned', 'on', 'the', 'mobile', 'apps', 'development', 'market', 'recently', 'it', 'is', 'becoming', 'harder', 'for', 'an', 'Android', 'or', 'iOS', 'developer', 'to', 'find', 'a', 'suitable', 'and', 'wellpaying', 'job', 'in', 'the', 'market', 'Some', 'major', 'reasons', 'include', 'the', 'increasing', 'supply', 'of', 'mobile', 'engineers', 'people', 'generally', 'stop', 'downloading', 'apps', 'and', 'many', 'more', 'In', 'this', 'article', 'I', 'will', 'go', 'through', 'a', 'more', 'detailed', 'explanation', 'of', 'the', 'recent', 'trend', 'mentioned', 'above', 'and', 'my', 'two', 'cents', 'on', 'what', 'mobile', 'engineers', 'could', 'do', 'to', 'prepare', 'themself', 'for', 'the', 'upcoming', 'challenge', 'and', 'the', 'future', 'of', 'mobile', 'apps', 'Coding', 'Bootcamps', 'Increase', 'the', 'Supply', 'Side', 'for', 'mobile', 'apps', 'Developers', 'Although', 'the', 'demand', 'for', 'mobile', 'developers', 'has', 'not', 'fallen', 'sharply', 'compared', 'with', 'previous', 'years', 'the', 'growth', 'rate', 'has', 'slowed', 'On', 'the', 'other', 'hand', 'owing', 'to', 'a', 'great', 'number', 'of', 'coding', 'boot', 'camps', 'that', 'target', 'to', 'bring', 'up', 'mobile', 'and', 'frontend', 'engineers', 'a', 'great', 'number', 'of', 'developers', 'are', 'flooding', 'into', 'the', 'developer', 'job', 'market', 'The', 'supply', 'side', 'for', 'mobile', 'engineers', 'has', 'increased', 'rapidly', 'in', 'recent', 'years', 'raising', 'the', 'standards', 'for', 'qualified', 'mobile', 'engineers', 'The', 'days', 'of', 'a', 'mobile', 'engineer', 'easily', 'getting', 'over', '10', 'job', 'offers', 'are', 'over', 'Recode', 'ran', 'an', 'article', 'in', 'mid2016', 'that', 'begins', '“The', 'mobile', 'app', 'boom', 'kicked', 'off', 'in', 'July', '2008', 'when', 'Apple', 'introduced', 'the', 'App', 'Store', 'Now', 'it', 'is', 'over”', 'According', 'to', 'data', 'gathered', 'and', 'analyzed', 'by', 'the', 'CakeResume', 'team', 'JavaScript', 'and', 'Python', 'are', 'now', 'the', 'most', 'indemand', 'programming', 'languages', 'for', 'companies', 'who', 'post', 'product', 'development', 'jobs', 'on', 'CakeResume', 'both', 'together', 'taking', 'up', 'almost', 'half', 'of', 'the', 'job', 'opportunities', 'while', 'mobile', 'engineers', 'taking', 'up', 'merely', '10', 'of', 'the', 'job', 'opportunities', 'learn', 'more', 'about', 'tech', 'salaries', 'in', 'Taiwan', 'Tech', 'Salaries', 'in', 'Taiwan', '2019', 'Overview', 'People', 'Stop', 'Downloading', 'mobile', 'apps', 'While', 'App', 'usage', 'continues', 'to', 'grow', 'and', 'revenue', 'also', 'ascends', 'the', 'majority', 'of', 'consumers', 'actually', 'download', 'zero', 'apps', 'per', 'month', 'let’s', 'face', 'the', 'truth', 'born', 'and', 'raised', 'up', 'in', 'the', 'era', 'of', 'the', 'information', 'explosion', 'individuals', 'don’t', 'have', 'the', 'leisure', 'to', 'check', 'on', 'what’s', 'new', 'on', 'the', 'app', 'store', 'every', 'day', 'When', 'it', 'comes', 'to', 'choosing', 'an', 'App', 'to', 'download', 'many', 'people', 'feel', 'overwhelmed', 'by', 'the', 'sheer', 'number', 'of', 'options', 'available', 'Take', 'the', 'productivity', 'category', 'of', 'the', 'App', 'Store', 'as', 'an', 'example', 'there', 'are', 'over', 'thousands', 'of', 'Apps', 'in', 'this', 'category', 'and', 'new', 'Apps', 'popping', 'up', 'almost', 'every', 'week', 'It', 'is', 'almost', 'impossible', 'for', 'users', 'to', 'dig', 'through', 'and', 'learn', 'all', 'the', 'apps', 'They', 'just', 'choose', 'what', 'is', 'on', 'top', 'then', 'click', 'Install', 'And', 'not', 'to', 'mention', 'that', 'if', 'you', 'could', 'build', 'an', 'awesome', 'productivity', 'app', 'Google', 'and', 'Apple', 'could', 'do', 'it', '10', 'times', 'better', 'and', 'faster', 'than', 'you', 'In', 'the', 'end', 'there’s', 'not', 'as', 'much', 'need', 'for', 'individual', 'apps', 'to', 'accomplish', 'similar', 'convenience', 'factors', 'What', 'You', 'Could', 'Do', 'to', 'Prepare', 'for', 'The', 'future', 'Changes', 'for', 'mobile', 'apps', 'Although', 'the', 'bull', 'run', 'for', 'mobile', 'development', 'has', 'ended', 'there', 'are', 'still', 'over', '2', 'billion', 'smartphone', 'users', '275', 'billion', 'mobile', 'apps', 'downloaded', 'and', 'time', 'spent', 'per', 'day', 'on', 'mobile', 'devices', 'has', 'increased', 'rapidly', 'in', 'recent', 'years', 'Moreover', 'apps', 'offer', 'a', 'user', 'experience', 'that', 'even', '‘Responsive', 'Websites’', 'are', 'unable', 'to', 'provide', 'In', 'order', 'to', 'stay', 'on', 'top', 'of', 'the', 'game', 'you', 'will', 'have', 'to', 'differentiate', 'yourself', 'from', 'the', 'pack', '—', 'other', 'mobile', 'engineers', 'If', 'you', 'are', 'a', 'mobile', 'engineer', 'who', 'only', 'knows', 'how', 'to', 'code', 'and', 'tweak', 'your', 'App’s', 'UI', 'you', 'aren’t', 'that', 'different', 'from', 'others', 'after', 'all', 'Below', 'I', 'listed', 'a', 'few', 'ways', 'that', 'you', 'could', 'implement', 'so', 'that', 'you', 'could', 'stay', 'competitive', 'in', 'the', 'job', 'market', '1', 'Choose', 'Newer', 'Technologies', 'When', 'You', 'Have', 'the', 'Chance', 'If', 'you', 'are', 'an', 'Android', 'developer', 'you', 'could', 'start', 'choosing', 'a', 'job', 'involving', 'Kotlin', 'or', 'Flutter', 'which', 'are', 'backed', 'by', 'Google', 'If', 'you', 'are', 'an', 'iOS', 'developer', 'try', 'to', 'look', 'for', 'a', 'job', 'to', 'get', 'involved', 'with', 'using', 'Swift', 'Although', 'older', 'mobile', 'coding', 'languages', 'such', 'as', 'Java', 'and', 'ObjectiveC', 'still', 'have', 'their', 'upsides', 'the', 'main', 'reason', 'why', 'Kotlin', 'and', 'Swift', 'are', 'created', 'at', 'first', 'is', 'to', 'address', 'the', 'older', 'languages', 'issue', 'It', 'means', 'that', 'Kotlin', 'and', 'swift', 'provide', 'many', 'safety', 'mechanisms', 'available', 'outofthebox', 'while', 'being', 'more', 'concise', 'and', 'expressive', 'than', 'Java', 'and', 'ObjectiveC', 'at', 'the', 'same', 'time', 'Kotlin', 'vs', 'Java', 'Which', 'One', 'You', 'Should', 'Choose', 'for', 'Your', 'Next', 'Android', 'App', 'A', 'detailed', 'comparison', 'of', 'Java', 'and', 'Kotlin', 'to', 'help', 'you', 'decide', 'which', 'language', 'will', 'work', 'best', 'for', 'your', 'next', 'mobile…', 'ObjectiveC', 'vs', 'Swift', 'in', '2019', 'The', 'article', 'covers', 'a', 'brief', 'comparison', 'between', 'ObjectiveC', 'and', 'Swift', 'in', '2019', 'with', 'ABI', 'Stability', '2', 'Build', 'Up', 'Your', 'Domain', 'Knowledge', 'and', 'Industry', 'Skills', 'This', 'point', 'is', 'especially', 'crucial', 'Each', 'industry', 'has', 'its', 'specific', 'skills', 'to', 'learn', 'and', 'refine', 'For', 'example', 'if', 'you', 'are', 'building', 'a', 'stock', 'foreign', 'exchange', 'future', 'or', 'options', 'market', 'app', 'you', 'will', 'have', 'to', 'understand', 'the', 'WebSocket', 'protocol', 'which', 'lets', 'you', 'transfer', 'as', 'much', 'data', 'as', 'you', 'like', 'without', 'incurring', 'the', 'overhead', 'associated', 'with', 'traditional', 'HTTP', 'requests', 'For', 'the', 'streaming', 'media', 'industry', 'possessing', 'experience', 'with', 'live', 'streaming', 'protocols', 'such', 'as', 'HLS', 'RTMP', 'WebRTC', 'will', 'be', 'a', 'must', 'to', 'deal', 'with', 'streamingrelated', 'apps', 'These', 'industry', 'skills', 'can', 'really', 'make', 'you', 'stand', 'out', 'and', 'adds', 'another', 'layer', 'of', 'expertise', 'to', 'your', 'already', 'pretty', 'impressive', 'mobile', 'engineer', 'title', 'making', 'you', 'more', 'valuable', 'in', 'the', 'job', 'market', '3', 'Follow', 'the', 'Irresistible', 'Tech', 'Trend', 'The', 'future', 'of', 'mobile', 'app', 'development', 'will', 'be', 'shaped', 'by', 'how', 'businesses', 'harness', 'mobile', 'technology', 'to', 'solve', 'people’s', 'everyday', 'problems', 'Don’t', 'try', 'to', 'fight', 'the', 'irresistible', 'trend', 'see', 'how', 'you', 'can', 'surf', 'the', 'trend', 'Exposing', 'yourself', 'or', 'trying', 'to', 'get', 'a', 'job', 'in', 'the', 'field', 'mentioned', 'below', 'will', 'absolutely', 'give', 'you', 'more', 'opportunities', 'as', 'a', 'mobile', 'developer', 'So', 'what', 'are', 'the', 'trends', 'for', 'mobile', 'apps', 'development', 'IoT', 'Internet', 'of', 'Things“The', 'driving', 'force', 'behind', 'the', 'growing', 'mobility', 'market', 'is', 'the', 'impact', 'of', 'the', 'IoT', 'and', 'its', 'broad', 'reach”', 'writes', 'the', 'experts', 'at', 'Maryville', 'University', 'online', 'In', 'the', 'future', 'apps', 'will', 'need', 'to', 'speak', 'to', 'each', 'other', 'in', 'the', 'same', 'way', 'that', 'devices', 'in', 'the', 'IoT', 'communicate', 'The', 'market', 'needs', 'companies', 'that', 'can', 'develop', 'custom', 'IoT', 'applications', '—', 'sensors', 'and', 'devices', 'web', 'apps', 'and', 'both', 'B2B', 'and', 'B2C', 'mobile', 'enduser', 'apps', 'AI', 'Artificial', 'IntelligenceAccording', 'to', 'experts', 'at', 'Maryville', 'University', 'AI', 'is', 'everywhere', 'from', 'predictive', 'analytics', 'algorithms', 'used', 'by', 'retailers', 'like', 'Target', 'and', 'Amazon', 'to', 'anticipate', 'shopping', 'needs', 'to', 'fraud', 'detection', 'monitors', 'from', 'banks', 'and', 'credit', 'cards', 'Some', 'more', 'examples', 'Tinder', 'uses', 'machine', 'learning', 'to', 'increase', 'a', 'user’s', 'chances', 'to', 'find', 'a', 'match', 'Google', 'Maps', 'makes', 'the', 'process', 'of', 'choosing', 'a', 'parking', 'spot', 'easier', 'AR', 'Augmented', 'Reality', 'and', 'VR', 'Virtual', 'Reality', 'Tech', 'Giants', 'such', 'as', 'Apple', 'and', 'Google', 'have', 'launched', 'their', 'own', 'augmented', 'reality', 'kits', '—', 'AR', 'Kit', 'and', 'AR', 'Core', 'resp', 'to', 'help', 'app', 'developers', 'to', 'create', 'highquality', 'mobile', 'apps', 'As', 'for', 'VR', 'the', 'latest', 'buzzword', 'associated', 'with', 'it', 'is', 'vcommerce', 'One', 'of', 'the', 'examples', 'is', 'Alibaba', 'which', 'in', 'November', 'of', '2016', 'introduced', 'VR', 'shopping', 'to', 'its', 'customers', 'across', 'China', 'Blackcoffer', 'Insights', '24', 'Nikhil', 'Singh', 'Stpeters', 'college', 'agra']\n"
     ]
    }
   ],
   "source": [
    "content=soup.findAll(attrs={'class':'td-post-content'})\n",
    "content=content[0].text.replace('\\n',\" \")\n",
    "print(content)\n",
    "#Punctuation\n",
    "content = content.translate(str.maketrans('', '', string.punctuation)) \n",
    "print(content)\n",
    "text = content.split()\n",
    "print(text)\n"
   ]
  },
  {
   "cell_type": "code",
   "execution_count": 3,
   "id": "0cf56250",
   "metadata": {},
   "outputs": [
    {
     "data": {
      "text/plain": [
       "1139"
      ]
     },
     "execution_count": 3,
     "metadata": {},
     "output_type": "execute_result"
    }
   ],
   "source": [
    "len(text)"
   ]
  },
  {
   "cell_type": "code",
   "execution_count": 4,
   "id": "ace3e81f",
   "metadata": {},
   "outputs": [
    {
     "name": "stdout",
     "output_type": "stream",
     "text": [
      "27\n"
     ]
    }
   ],
   "source": [
    "#Positive Score \n",
    "with open(r\"C:\\Users\\Om Bhandwalkar\\Desktop\\pos\\positive-words.txt\") as pos:\n",
    "    poswords = pos.read().split(\"\\n\")  \n",
    "    poswords = poswords[5:]\n",
    "pos_count = \" \".join ([w for w in text if w in poswords])\n",
    "pos_count=pos_count.split(\" \")\n",
    "Positive_score=len(pos_count)\n",
    "print(Positive_score)"
   ]
  },
  {
   "cell_type": "code",
   "execution_count": 5,
   "id": "ebdde142",
   "metadata": {},
   "outputs": [
    {
     "name": "stdout",
     "output_type": "stream",
     "text": [
      "9\n"
     ]
    }
   ],
   "source": [
    "#Negative Score\n",
    "with open(r\"C:\\Users\\Om Bhandwalkar\\Desktop\\pos\\negative-words.txt\",encoding =\"ISO-8859-1\") as neg:\n",
    "    negwords = neg.read().split(\"\\n\")\n",
    "    \n",
    "negwords = negwords[36:]\n",
    "neg_count = \" \".join ([w for w in text if w in negwords])\n",
    "neg_count=neg_count.split(\" \")\n",
    "Negative_score=len(neg_count)\n",
    "print(Negative_score)"
   ]
  },
  {
   "cell_type": "code",
   "execution_count": 6,
   "id": "b0434bba",
   "metadata": {},
   "outputs": [
    {
     "data": {
      "text/html": [
       "<div>\n",
       "<style scoped>\n",
       "    .dataframe tbody tr th:only-of-type {\n",
       "        vertical-align: middle;\n",
       "    }\n",
       "\n",
       "    .dataframe tbody tr th {\n",
       "        vertical-align: top;\n",
       "    }\n",
       "\n",
       "    .dataframe thead th {\n",
       "        text-align: right;\n",
       "    }\n",
       "</style>\n",
       "<table border=\"1\" class=\"dataframe\">\n",
       "  <thead>\n",
       "    <tr style=\"text-align: right;\">\n",
       "      <th></th>\n",
       "      <th>url</th>\n",
       "      <th>title</th>\n",
       "      <th>content</th>\n",
       "      <th>filter_content</th>\n",
       "      <th>Positive_Score</th>\n",
       "      <th>Negative_Score</th>\n",
       "      <th>polarity</th>\n",
       "      <th>subjectivity</th>\n",
       "    </tr>\n",
       "  </thead>\n",
       "  <tbody>\n",
       "    <tr>\n",
       "      <th>0</th>\n",
       "      <td>https://insights.blackcoffer.com/what-is-the-f...</td>\n",
       "      <td>What is the future of mobile apps?</td>\n",
       "      <td>From what I have learned on the mobile apps d...</td>\n",
       "      <td>From what I have learned on the mobile apps de...</td>\n",
       "      <td>27</td>\n",
       "      <td>9</td>\n",
       "      <td>0.162836</td>\n",
       "      <td>0.466347</td>\n",
       "    </tr>\n",
       "  </tbody>\n",
       "</table>\n",
       "</div>"
      ],
      "text/plain": [
       "                                                 url  \\\n",
       "0  https://insights.blackcoffer.com/what-is-the-f...   \n",
       "\n",
       "                                title  \\\n",
       "0  What is the future of mobile apps?   \n",
       "\n",
       "                                             content  \\\n",
       "0   From what I have learned on the mobile apps d...   \n",
       "\n",
       "                                      filter_content  Positive_Score  \\\n",
       "0  From what I have learned on the mobile apps de...              27   \n",
       "\n",
       "   Negative_Score  polarity  subjectivity  \n",
       "0               9  0.162836      0.466347  "
      ]
     },
     "execution_count": 6,
     "metadata": {},
     "output_type": "execute_result"
    }
   ],
   "source": [
    "filter_content = ' '.join(text)\n",
    "data=[[url,title,content,filter_content,Positive_score,Negative_score]]\n",
    "data=pd.DataFrame(data,columns=[\"url\",\"title\",\"content\",\"filter_content\",\"Positive_Score\",\"Negative_Score\"])\n",
    "from textblob import TextBlob\n",
    "# Get The Subjectivity\n",
    "def sentiment_analysis(data):\n",
    "    sentiment = TextBlob(data[\"content\"]).sentiment\n",
    "    return pd.Series([sentiment.polarity,sentiment.subjectivity ])\n",
    "\n",
    "# Adding Subjectivity & Polarity\n",
    "data[[\"polarity\", \"subjectivity\"]] = data.apply(sentiment_analysis, axis=1)\n",
    "\n",
    "data"
   ]
  },
  {
   "cell_type": "code",
   "execution_count": 7,
   "id": "3212fb91",
   "metadata": {},
   "outputs": [
    {
     "name": "stdout",
     "output_type": "stream",
     "text": [
      "Word average = 5557.0\n",
      "FOG INDEX =  457.67\n",
      "Average no of words per sentence\n",
      "1139.0\n",
      "Complex Words 1961\n"
     ]
    }
   ],
   "source": [
    "#AVG SENTENCE LENGTH\n",
    "AVG_SENTENCE_LENGTH = len(content.replace(' ',''))/len(re.split(r'[?!.]', content))\n",
    "print('Word average =', AVG_SENTENCE_LENGTH)\n",
    "import textstat\n",
    "#Fog index \n",
    "FOG_INDEX=(textstat.gunning_fog(content))\n",
    "print(\"FOG INDEX = \",FOG_INDEX)\n",
    "#Average No of Words Per Sentence \n",
    "AVG_NUMBER_OF_WORDS_PER_SENTENCE = [len(l.split()) for l in re.split(r'[?!.]', content) if l.strip()]\n",
    "print(\"Average no of words per sentence\")\n",
    "AVG_NUMBER_OF_WORDS_PER_SENTENCE=print(sum(AVG_NUMBER_OF_WORDS_PER_SENTENCE)/len(AVG_NUMBER_OF_WORDS_PER_SENTENCE))\n",
    "#Complex words\n",
    "def syllable_count(word):\n",
    "    count = 0\n",
    "    vowels = \"AEIOUYaeiouy\"\n",
    "    if word[0] in vowels:\n",
    "        count += 1\n",
    "    for index in range(1, len(word)): \n",
    "        if word[index] in vowels and word[index - 1] not in vowels:\n",
    "            count += 1\n",
    "            if word.endswith(\"es\"or \"ed\"):\n",
    "                count -= 1\n",
    "    if count == 0:\n",
    "        count += 1\n",
    "    return count\n",
    "\n",
    "\n",
    "\n",
    "COMPLEX_WORDS=syllable_count(content)\n",
    "print(\"Complex Words\",COMPLEX_WORDS)\n"
   ]
  },
  {
   "cell_type": "code",
   "execution_count": 8,
   "id": "92f0f93d",
   "metadata": {},
   "outputs": [
    {
     "name": "stdout",
     "output_type": "stream",
     "text": [
      "Word Count 6693\n",
      "Percentage of Complex Words 29.29926789182728\n",
      "Average Word per Length 4.8788410886742755\n",
      "The AVG number of syllables in the word is: \n",
      "1.9569798068481123\n"
     ]
    }
   ],
   "source": [
    "#Word Count\n",
    "Word_Count=len(content)\n",
    "print(\"Word Count\",Word_Count)\n",
    "#Percentage Complex Words\n",
    "pcw=(COMPLEX_WORDS/Word_Count)*100\n",
    "print(\"Percentage of Complex Words\",pcw)\n",
    "#Average Word Length\n",
    "Average_Word_Length=len(content.replace(' ',''))/len(content.split())\n",
    "print(\"Average Word per Length\",Average_Word_Length)\n",
    "#Syllable Count Per Word\n",
    "word=content.replace(' ','')\n",
    "syllable_count=0\n",
    "for w in word:\n",
    "      if(w=='a' or w=='e' or w=='i' or w=='o' or w=='y' or w=='u' or w=='A' or w=='E' or w=='I' or w=='O' or w=='U' or w=='Y'):\n",
    "            syllable_count=syllable_count+1\n",
    "print(\"The AVG number of syllables in the word is: \")\n",
    "print(syllable_count/len(content.split()))"
   ]
  },
  {
   "cell_type": "code",
   "execution_count": 1,
   "id": "cef493ed",
   "metadata": {},
   "outputs": [
    {
     "name": "stdout",
     "output_type": "stream",
     "text": [
      "27\n",
      "9\n",
      "Word average = 5557.0\n",
      "FOG INDEX =  457.67\n",
      "Average no of words per sentence\n",
      "1139.0\n",
      "Complex Words 1961\n",
      "Word Count 6693\n",
      "Percentage of Complex Words 29.29926789182728\n",
      "Average Word per Length 4.8788410886742755\n",
      "The AVG number of syllables in the word is: \n",
      "1.9569798068481123\n"
     ]
    },
    {
     "data": {
      "text/html": [
       "<div>\n",
       "<style scoped>\n",
       "    .dataframe tbody tr th:only-of-type {\n",
       "        vertical-align: middle;\n",
       "    }\n",
       "\n",
       "    .dataframe tbody tr th {\n",
       "        vertical-align: top;\n",
       "    }\n",
       "\n",
       "    .dataframe thead th {\n",
       "        text-align: right;\n",
       "    }\n",
       "</style>\n",
       "<table border=\"1\" class=\"dataframe\">\n",
       "  <thead>\n",
       "    <tr style=\"text-align: right;\">\n",
       "      <th></th>\n",
       "      <th>url</th>\n",
       "      <th>title</th>\n",
       "      <th>content</th>\n",
       "      <th>filter_content</th>\n",
       "      <th>Positive_Score</th>\n",
       "      <th>Negative_Score</th>\n",
       "      <th>Avg_Sentence_Length</th>\n",
       "      <th>Percentage_Complex_Word</th>\n",
       "      <th>Fog_Index</th>\n",
       "      <th>AVG_NUMBER_OF_WORDS_PER_SENTENCE</th>\n",
       "      <th>COMPLEX_WORDS</th>\n",
       "      <th>Word_Count</th>\n",
       "      <th>syllable</th>\n",
       "      <th>Average_Word_Length</th>\n",
       "      <th>polarity</th>\n",
       "      <th>subjectivity</th>\n",
       "    </tr>\n",
       "  </thead>\n",
       "  <tbody>\n",
       "    <tr>\n",
       "      <th>0</th>\n",
       "      <td>https://insights.blackcoffer.com/what-is-the-f...</td>\n",
       "      <td>What is the future of mobile apps?</td>\n",
       "      <td>From what I have learned on the mobile apps d...</td>\n",
       "      <td>From what I have learned on the mobile apps de...</td>\n",
       "      <td>27</td>\n",
       "      <td>9</td>\n",
       "      <td>5557.0</td>\n",
       "      <td>29.299268</td>\n",
       "      <td>457.67</td>\n",
       "      <td>1139.0</td>\n",
       "      <td>1961</td>\n",
       "      <td>6693</td>\n",
       "      <td>1.95698</td>\n",
       "      <td>4.878841</td>\n",
       "      <td>0.162836</td>\n",
       "      <td>0.466347</td>\n",
       "    </tr>\n",
       "  </tbody>\n",
       "</table>\n",
       "</div>"
      ],
      "text/plain": [
       "                                                 url  \\\n",
       "0  https://insights.blackcoffer.com/what-is-the-f...   \n",
       "\n",
       "                                title  \\\n",
       "0  What is the future of mobile apps?   \n",
       "\n",
       "                                             content  \\\n",
       "0   From what I have learned on the mobile apps d...   \n",
       "\n",
       "                                      filter_content  Positive_Score  \\\n",
       "0  From what I have learned on the mobile apps de...              27   \n",
       "\n",
       "   Negative_Score  Avg_Sentence_Length  Percentage_Complex_Word  Fog_Index  \\\n",
       "0               9               5557.0                29.299268     457.67   \n",
       "\n",
       "    AVG_NUMBER_OF_WORDS_PER_SENTENCE  COMPLEX_WORDS  Word_Count  syllable  \\\n",
       "0                             1139.0           1961        6693   1.95698   \n",
       "\n",
       "   Average_Word_Length  polarity  subjectivity  \n",
       "0             4.878841  0.162836      0.466347  "
      ]
     },
     "execution_count": 1,
     "metadata": {},
     "output_type": "execute_result"
    }
   ],
   "source": [
    "import requests\n",
    "import pandas as pd \n",
    "from bs4 import BeautifulSoup\n",
    "import string\n",
    "import spacy\n",
    "import re\n",
    "url = \"\"\"https://insights.blackcoffer.com/what-is-the-future-of-mobile-apps/\"\"\"\n",
    "headers = {\"User-Agent\": \"Mozilla/5.0 (X11; Linux x86_64; rv:60.0) Gecko/20100101 Firefox/60.0\"}\n",
    "page = requests.get(url, headers=headers)\n",
    "soup = BeautifulSoup(page.content, 'html.parser')\n",
    "soup=BeautifulSoup(page.content, 'html.parser')\n",
    "title=soup.find('h1',class_=\"entry-title\")\n",
    "title=title.text.replace('\\n',\" \")\n",
    "# title\n",
    "\n",
    "content=soup.findAll(attrs={'class':'td-post-content'})\n",
    "content=content[0].text.replace('\\n',\" \")\n",
    "# print(content)\n",
    "#Punctuation\n",
    "content = content.translate(str.maketrans('', '', string.punctuation)) \n",
    "# print(content)\n",
    "text = content.split()\n",
    "# print(text)\n",
    "len(text)\n",
    "#Positive Score \n",
    "with open(r\"C:\\Users\\Om Bhandwalkar\\Desktop\\pos\\positive-words.txt\") as pos:\n",
    "    poswords = pos.read().split(\"\\n\")  \n",
    "    poswords = poswords[5:]\n",
    "pos_count = \" \".join ([w for w in text if w in poswords])\n",
    "pos_count=pos_count.split(\" \")\n",
    "Positive_score=len(pos_count)\n",
    "print(Positive_score)\n",
    "\n",
    "#Negative Score\n",
    "with open(r\"C:\\Users\\Om Bhandwalkar\\Desktop\\pos\\negative-words.txt\",encoding =\"ISO-8859-1\") as neg:\n",
    "    negwords = neg.read().split(\"\\n\")\n",
    "    \n",
    "negwords = negwords[36:]\n",
    "neg_count = \" \".join ([w for w in text if w in negwords])\n",
    "neg_count=neg_count.split(\" \")\n",
    "Negative_score=len(neg_count)\n",
    "print(Negative_score)\n",
    "\n",
    "\n",
    "filter_content = ' '.join(text)\n",
    "data=[[url,title,content,filter_content,Positive_score,Negative_score]]\n",
    "data=pd.DataFrame(data,columns=[\"url\",\"title\",\"content\",\"filter_content\",\"Positive_Score\",\"Negative_Score\"])\n",
    "from textblob import TextBlob\n",
    "# Get The Subjectivity\n",
    "def sentiment_analysis(data):\n",
    "    sentiment = TextBlob(data[\"content\"]).sentiment\n",
    "    return pd.Series([sentiment.polarity,sentiment.subjectivity ])\n",
    "data[[\"polarity\", \"subjectivity\"]] = data.apply(sentiment_analysis, axis=1)\n",
    "data\n",
    "#AVG SENTENCE LENGTH\n",
    "AVG_SENTENCE_LENGTH = len(content.replace(' ',''))/len(re.split(r'[?!.]', content))\n",
    "print('Word average =', AVG_SENTENCE_LENGTH)\n",
    "import textstat\n",
    "#Fog index \n",
    "FOG_INDEX=(textstat.gunning_fog(content))\n",
    "print(\"FOG INDEX = \",FOG_INDEX)\n",
    "#Average No of Words Per Sentence \n",
    "AVG_NUMBER_OF_WORDS_PER_SENTENCE = [len(l.split()) for l in re.split(r'[?!.]', content) if l.strip()]\n",
    "print(\"Average no of words per sentence\")\n",
    "AVG_NUMBER_OF_WORDS_PER_SENTENCE=(sum(AVG_NUMBER_OF_WORDS_PER_SENTENCE)/len(AVG_NUMBER_OF_WORDS_PER_SENTENCE))\n",
    "print(AVG_NUMBER_OF_WORDS_PER_SENTENCE)\n",
    "#Complex words\n",
    "def syllable_count(word):\n",
    "    count = 0\n",
    "    vowels = \"AEIOUYaeiouy\"\n",
    "    if word[0] in vowels:\n",
    "        count += 1\n",
    "    for index in range(1, len(word)): \n",
    "        if word[index] in vowels and word[index - 1] not in vowels:\n",
    "            count += 1\n",
    "            if word.endswith(\"es\"or \"ed\"):\n",
    "                count -= 1\n",
    "    if count == 0:\n",
    "        count += 1\n",
    "    return count\n",
    "\n",
    "\n",
    "\n",
    "COMPLEX_WORDS=syllable_count(content)\n",
    "print(\"Complex Words\",COMPLEX_WORDS)\n",
    "#Word Count\n",
    "Word_Count=len(content)\n",
    "print(\"Word Count\",Word_Count)\n",
    "#Percentage Complex Words\n",
    "pcw=(COMPLEX_WORDS/Word_Count)*100\n",
    "print(\"Percentage of Complex Words\",pcw)\n",
    "#Average Word Length\n",
    "Average_Word_Length=len(content.replace(' ',''))/len(content.split())\n",
    "print(\"Average Word per Length\",Average_Word_Length)\n",
    "#Syllable Count Per Word\n",
    "word=content.replace(' ','')\n",
    "syllable_count=0\n",
    "for w in word:\n",
    "      if(w=='a' or w=='e' or w=='i' or w=='o' or w=='y' or w=='u' or w=='A' or w=='E' or w=='I' or w=='O' or w=='U' or w=='Y'):\n",
    "            syllable_count=syllable_count+1\n",
    "print(\"The AVG number of syllables in the word is: \")\n",
    "syllable = (syllable_count/len(content.split()))\n",
    "print(syllable)\n",
    "\n",
    "data = [[url,title,content,filter_content,Positive_score,Negative_score,AVG_SENTENCE_LENGTH,pcw,FOG_INDEX,\n",
    "         AVG_NUMBER_OF_WORDS_PER_SENTENCE,COMPLEX_WORDS,Word_Count,syllable,Average_Word_Length]]\n",
    "data=pd.DataFrame(data,columns=[\"url\",\"title\",\"content\",\"filter_content\",\"Positive_Score\",\"Negative_Score\",\"Avg_Sentence_Length\"\n",
    "                               ,\"Percentage_Complex_Word\",\"Fog_Index\",\" AVG_NUMBER_OF_WORDS_PER_SENTENCE\",\"COMPLEX_WORDS\",\n",
    "                               \"Word_Count\",\"syllable\",\"Average_Word_Length\"])\n",
    "from textblob import TextBlob\n",
    "# Get The Subjectivity\n",
    "def sentiment_analysis(data):\n",
    "    sentiment = TextBlob(data[\"content\"]).sentiment\n",
    "    return pd.Series([sentiment.polarity,sentiment.subjectivity ])\n",
    "data[[\"polarity\", \"subjectivity\"]] = data.apply(sentiment_analysis, axis=1)\n",
    "data"
   ]
  },
  {
   "cell_type": "code",
   "execution_count": 2,
   "id": "13497864",
   "metadata": {},
   "outputs": [],
   "source": [
    "data.to_csv(r'C:\\Users\\Om Bhandwalkar\\Desktop\\BlackCoffer Assignment\\Output\\url_63.csv')"
   ]
  },
  {
   "cell_type": "code",
   "execution_count": null,
   "id": "e97e8886",
   "metadata": {},
   "outputs": [],
   "source": []
  }
 ],
 "metadata": {
  "kernelspec": {
   "display_name": "Python 3 (ipykernel)",
   "language": "python",
   "name": "python3"
  },
  "language_info": {
   "codemirror_mode": {
    "name": "ipython",
    "version": 3
   },
   "file_extension": ".py",
   "mimetype": "text/x-python",
   "name": "python",
   "nbconvert_exporter": "python",
   "pygments_lexer": "ipython3",
   "version": "3.9.12"
  }
 },
 "nbformat": 4,
 "nbformat_minor": 5
}
