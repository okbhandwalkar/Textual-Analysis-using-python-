{
 "cells": [
  {
   "cell_type": "code",
   "execution_count": 1,
   "id": "b6239dec",
   "metadata": {},
   "outputs": [
    {
     "data": {
      "text/plain": [
       "'Impact of AI in health and medicine'"
      ]
     },
     "execution_count": 1,
     "metadata": {},
     "output_type": "execute_result"
    }
   ],
   "source": [
    "import requests\n",
    "import pandas as pd \n",
    "from bs4 import BeautifulSoup\n",
    "import string\n",
    "import spacy\n",
    "import re\n",
    "url = \"\"\"https://insights.blackcoffer.com/impact-of-ai-in-health-and-medicine/\"\"\"\n",
    "headers = {\"User-Agent\": \"Mozilla/5.0 (X11; Linux x86_64; rv:60.0) Gecko/20100101 Firefox/60.0\"}\n",
    "page = requests.get(url, headers=headers)\n",
    "soup = BeautifulSoup(page.content, 'html.parser')\n",
    "soup=BeautifulSoup(page.content, 'html.parser')\n",
    "title=soup.find('h1',class_=\"entry-title\")\n",
    "title=title.text.replace('\\n',\" \")\n",
    "title\n"
   ]
  },
  {
   "cell_type": "code",
   "execution_count": 2,
   "id": "aa765fc8",
   "metadata": {},
   "outputs": [
    {
     "name": "stdout",
     "output_type": "stream",
     "text": [
      " AI allows those in training to go through naturalistic simulations in a way that simple computer-driven algorithms cannot. The advent of natural speech and the ability of an AI  computer to draw instantly on a large database of scenarios means the response to questions, decisions, or advice from a trainee can challenge in a way that humans cannot in health and medicine Health monitoring: Wearable health trackers-like those from FitBit, Apple, Garmin, and others- monitor health rate and activity levels. They can send alerts to the user to get more exercise and can share this information with doctors.  Technology applications and apps encourage healthier behavior in individuals and help with the proactive management of a healthy lifestyle. AI increases the ability for healthcare professionals to better understand the day-to-day patterns and needs of the people they care, for better feedback, guidance, and support.  Medical imaging:  Machine learning algorithms can process unimaginable amounts of information in the blink of an eye and provide more precision than humans in spotting even the smallest detail in medical imaging.  A few of them are Blackford, Zebra, Enlitic, Lunit. The company “Zebra Medical Vision” developed a new platform called profound, which analyzes all types of medical imaging reports that are able to find every sign of potential conditions such as osteoporosis, aortic aneurysms, and many more with a 90% accuracy rate. Digital consultation:  For eg, the digital health firm #HealthTap developed “Dr. AI”, and apps like Babylon in the UK use AI to give medical consultations based on personal medical history and common medical knowledge. Users report their symptoms into the app, which uses speech recognition to compare against a database of illness and asks patients to specify symptoms to triage whether they should go to the ED, urgent care, or a primary care doctor. AI robot-assisted surgery: Robots have been used in medicine for more than 30 years. Surgical robots can either aid a human surgeon or execute operations by themselves. They’re also used in hospitals and labs for repetitive tasks, in rehabilitation, physical therapy, and in support of those with long-term conditions.       Health chatbots such as Babylon, Ada, and mostly close-ended communications. Machine learning is a type of AI that allows computers to make predictions without being explicitly  Provides formal conceptual Framework for input processing and decision making in diagnosis and management Objective decision making with less variance High speed and efficiency Unlock the power of big data and gain insight into patients. Support evidence-based decision-making, improving quality, safety, and efficiency. Coordination care and faster communication Improve patient experiences and outcomes Deliver value and reduce costs Improve health system performance and optimization  Examples of AI in healthcare and medicine #MICROSOFT: Predictive analysis in vision care #GOOGLE: clinical decision support in breast cancer diagnosis #IBM WATSON: precision medicine in population health management Actionable medical insights:  An ever-increasing amount of medical data are being digitized at all public and private healthcare institutions. However, by its very nature, this kind of data is messy and unstructured. Unlike other types of business data, where traditional statistical methods can be used for quick insights, patient data is not particularly amenable to simple modeling and analytics tools.  For eg.- Enlitic, a San Francisco-based start-up, has a mission of mixing intelligence with empathy and leverage the power of AI in health and medicine for precisely generating. Therefore, a massive parallel effort to rationalize the legal and policy-making is needed to bring the full benefit of advancement in AI technologies into the healthcare space. As technologies and AI/ML enthusiasts, we can only hope for such a bright future where the power of this intelligence. Blackcoffer Insights 24: Shaffy Garg, Baba Farid college of management and technology    \n",
      " AI allows those in training to go through naturalistic simulations in a way that simple computerdriven algorithms cannot The advent of natural speech and the ability of an AI  computer to draw instantly on a large database of scenarios means the response to questions decisions or advice from a trainee can challenge in a way that humans cannot in health and medicine Health monitoring Wearable health trackerslike those from FitBit Apple Garmin and others monitor health rate and activity levels They can send alerts to the user to get more exercise and can share this information with doctors  Technology applications and apps encourage healthier behavior in individuals and help with the proactive management of a healthy lifestyle AI increases the ability for healthcare professionals to better understand the daytoday patterns and needs of the people they care for better feedback guidance and support  Medical imaging  Machine learning algorithms can process unimaginable amounts of information in the blink of an eye and provide more precision than humans in spotting even the smallest detail in medical imaging  A few of them are Blackford Zebra Enlitic Lunit The company “Zebra Medical Vision” developed a new platform called profound which analyzes all types of medical imaging reports that are able to find every sign of potential conditions such as osteoporosis aortic aneurysms and many more with a 90 accuracy rate Digital consultation  For eg the digital health firm HealthTap developed “Dr AI” and apps like Babylon in the UK use AI to give medical consultations based on personal medical history and common medical knowledge Users report their symptoms into the app which uses speech recognition to compare against a database of illness and asks patients to specify symptoms to triage whether they should go to the ED urgent care or a primary care doctor AI robotassisted surgery Robots have been used in medicine for more than 30 years Surgical robots can either aid a human surgeon or execute operations by themselves They’re also used in hospitals and labs for repetitive tasks in rehabilitation physical therapy and in support of those with longterm conditions       Health chatbots such as Babylon Ada and mostly closeended communications Machine learning is a type of AI that allows computers to make predictions without being explicitly  Provides formal conceptual Framework for input processing and decision making in diagnosis and management Objective decision making with less variance High speed and efficiency Unlock the power of big data and gain insight into patients Support evidencebased decisionmaking improving quality safety and efficiency Coordination care and faster communication Improve patient experiences and outcomes Deliver value and reduce costs Improve health system performance and optimization  Examples of AI in healthcare and medicine MICROSOFT Predictive analysis in vision care GOOGLE clinical decision support in breast cancer diagnosis IBM WATSON precision medicine in population health management Actionable medical insights  An everincreasing amount of medical data are being digitized at all public and private healthcare institutions However by its very nature this kind of data is messy and unstructured Unlike other types of business data where traditional statistical methods can be used for quick insights patient data is not particularly amenable to simple modeling and analytics tools  For eg Enlitic a San Franciscobased startup has a mission of mixing intelligence with empathy and leverage the power of AI in health and medicine for precisely generating Therefore a massive parallel effort to rationalize the legal and policymaking is needed to bring the full benefit of advancement in AI technologies into the healthcare space As technologies and AIML enthusiasts we can only hope for such a bright future where the power of this intelligence Blackcoffer Insights 24 Shaffy Garg Baba Farid college of management and technology    \n",
      "['AI', 'allows', 'those', 'in', 'training', 'to', 'go', 'through', 'naturalistic', 'simulations', 'in', 'a', 'way', 'that', 'simple', 'computerdriven', 'algorithms', 'cannot', 'The', 'advent', 'of', 'natural', 'speech', 'and', 'the', 'ability', 'of', 'an', 'AI', 'computer', 'to', 'draw', 'instantly', 'on', 'a', 'large', 'database', 'of', 'scenarios', 'means', 'the', 'response', 'to', 'questions', 'decisions', 'or', 'advice', 'from', 'a', 'trainee', 'can', 'challenge', 'in', 'a', 'way', 'that', 'humans', 'cannot', 'in', 'health', 'and', 'medicine', 'Health', 'monitoring', 'Wearable', 'health', 'trackerslike', 'those', 'from', 'FitBit', 'Apple', 'Garmin', 'and', 'others', 'monitor', 'health', 'rate', 'and', 'activity', 'levels', 'They', 'can', 'send', 'alerts', 'to', 'the', 'user', 'to', 'get', 'more', 'exercise', 'and', 'can', 'share', 'this', 'information', 'with', 'doctors', 'Technology', 'applications', 'and', 'apps', 'encourage', 'healthier', 'behavior', 'in', 'individuals', 'and', 'help', 'with', 'the', 'proactive', 'management', 'of', 'a', 'healthy', 'lifestyle', 'AI', 'increases', 'the', 'ability', 'for', 'healthcare', 'professionals', 'to', 'better', 'understand', 'the', 'daytoday', 'patterns', 'and', 'needs', 'of', 'the', 'people', 'they', 'care', 'for', 'better', 'feedback', 'guidance', 'and', 'support', 'Medical', 'imaging', 'Machine', 'learning', 'algorithms', 'can', 'process', 'unimaginable', 'amounts', 'of', 'information', 'in', 'the', 'blink', 'of', 'an', 'eye', 'and', 'provide', 'more', 'precision', 'than', 'humans', 'in', 'spotting', 'even', 'the', 'smallest', 'detail', 'in', 'medical', 'imaging', 'A', 'few', 'of', 'them', 'are', 'Blackford', 'Zebra', 'Enlitic', 'Lunit', 'The', 'company', '“Zebra', 'Medical', 'Vision”', 'developed', 'a', 'new', 'platform', 'called', 'profound', 'which', 'analyzes', 'all', 'types', 'of', 'medical', 'imaging', 'reports', 'that', 'are', 'able', 'to', 'find', 'every', 'sign', 'of', 'potential', 'conditions', 'such', 'as', 'osteoporosis', 'aortic', 'aneurysms', 'and', 'many', 'more', 'with', 'a', '90', 'accuracy', 'rate', 'Digital', 'consultation', 'For', 'eg', 'the', 'digital', 'health', 'firm', 'HealthTap', 'developed', '“Dr', 'AI”', 'and', 'apps', 'like', 'Babylon', 'in', 'the', 'UK', 'use', 'AI', 'to', 'give', 'medical', 'consultations', 'based', 'on', 'personal', 'medical', 'history', 'and', 'common', 'medical', 'knowledge', 'Users', 'report', 'their', 'symptoms', 'into', 'the', 'app', 'which', 'uses', 'speech', 'recognition', 'to', 'compare', 'against', 'a', 'database', 'of', 'illness', 'and', 'asks', 'patients', 'to', 'specify', 'symptoms', 'to', 'triage', 'whether', 'they', 'should', 'go', 'to', 'the', 'ED', 'urgent', 'care', 'or', 'a', 'primary', 'care', 'doctor', 'AI', 'robotassisted', 'surgery', 'Robots', 'have', 'been', 'used', 'in', 'medicine', 'for', 'more', 'than', '30', 'years', 'Surgical', 'robots', 'can', 'either', 'aid', 'a', 'human', 'surgeon', 'or', 'execute', 'operations', 'by', 'themselves', 'They’re', 'also', 'used', 'in', 'hospitals', 'and', 'labs', 'for', 'repetitive', 'tasks', 'in', 'rehabilitation', 'physical', 'therapy', 'and', 'in', 'support', 'of', 'those', 'with', 'longterm', 'conditions', 'Health', 'chatbots', 'such', 'as', 'Babylon', 'Ada', 'and', 'mostly', 'closeended', 'communications', 'Machine', 'learning', 'is', 'a', 'type', 'of', 'AI', 'that', 'allows', 'computers', 'to', 'make', 'predictions', 'without', 'being', 'explicitly', 'Provides', 'formal', 'conceptual', 'Framework', 'for', 'input', 'processing', 'and', 'decision', 'making', 'in', 'diagnosis', 'and', 'management', 'Objective', 'decision', 'making', 'with', 'less', 'variance', 'High', 'speed', 'and', 'efficiency', 'Unlock', 'the', 'power', 'of', 'big', 'data', 'and', 'gain', 'insight', 'into', 'patients', 'Support', 'evidencebased', 'decisionmaking', 'improving', 'quality', 'safety', 'and', 'efficiency', 'Coordination', 'care', 'and', 'faster', 'communication', 'Improve', 'patient', 'experiences', 'and', 'outcomes', 'Deliver', 'value', 'and', 'reduce', 'costs', 'Improve', 'health', 'system', 'performance', 'and', 'optimization', 'Examples', 'of', 'AI', 'in', 'healthcare', 'and', 'medicine', 'MICROSOFT', 'Predictive', 'analysis', 'in', 'vision', 'care', 'GOOGLE', 'clinical', 'decision', 'support', 'in', 'breast', 'cancer', 'diagnosis', 'IBM', 'WATSON', 'precision', 'medicine', 'in', 'population', 'health', 'management', 'Actionable', 'medical', 'insights', 'An', 'everincreasing', 'amount', 'of', 'medical', 'data', 'are', 'being', 'digitized', 'at', 'all', 'public', 'and', 'private', 'healthcare', 'institutions', 'However', 'by', 'its', 'very', 'nature', 'this', 'kind', 'of', 'data', 'is', 'messy', 'and', 'unstructured', 'Unlike', 'other', 'types', 'of', 'business', 'data', 'where', 'traditional', 'statistical', 'methods', 'can', 'be', 'used', 'for', 'quick', 'insights', 'patient', 'data', 'is', 'not', 'particularly', 'amenable', 'to', 'simple', 'modeling', 'and', 'analytics', 'tools', 'For', 'eg', 'Enlitic', 'a', 'San', 'Franciscobased', 'startup', 'has', 'a', 'mission', 'of', 'mixing', 'intelligence', 'with', 'empathy', 'and', 'leverage', 'the', 'power', 'of', 'AI', 'in', 'health', 'and', 'medicine', 'for', 'precisely', 'generating', 'Therefore', 'a', 'massive', 'parallel', 'effort', 'to', 'rationalize', 'the', 'legal', 'and', 'policymaking', 'is', 'needed', 'to', 'bring', 'the', 'full', 'benefit', 'of', 'advancement', 'in', 'AI', 'technologies', 'into', 'the', 'healthcare', 'space', 'As', 'technologies', 'and', 'AIML', 'enthusiasts', 'we', 'can', 'only', 'hope', 'for', 'such', 'a', 'bright', 'future', 'where', 'the', 'power', 'of', 'this', 'intelligence', 'Blackcoffer', 'Insights', '24', 'Shaffy', 'Garg', 'Baba', 'Farid', 'college', 'of', 'management', 'and', 'technology']\n"
     ]
    }
   ],
   "source": [
    "content=soup.findAll(attrs={'class':'td-post-content'})\n",
    "content=content[0].text.replace('\\n',\" \")\n",
    "print(content)\n",
    "#Punctuation\n",
    "content = content.translate(str.maketrans('', '', string.punctuation)) \n",
    "print(content)\n",
    "text = content.split()\n",
    "print(text)\n"
   ]
  },
  {
   "cell_type": "code",
   "execution_count": 3,
   "id": "cf8f05e4",
   "metadata": {},
   "outputs": [
    {
     "data": {
      "text/plain": [
       "615"
      ]
     },
     "execution_count": 3,
     "metadata": {},
     "output_type": "execute_result"
    }
   ],
   "source": [
    "len(text)"
   ]
  },
  {
   "cell_type": "code",
   "execution_count": 4,
   "id": "c2fff2d4",
   "metadata": {},
   "outputs": [
    {
     "name": "stdout",
     "output_type": "stream",
     "text": [
      "25\n"
     ]
    }
   ],
   "source": [
    "#Positive Score \n",
    "with open(r\"C:\\Users\\Om Bhandwalkar\\Desktop\\pos\\positive-words.txt\") as pos:\n",
    "    poswords = pos.read().split(\"\\n\")  \n",
    "    poswords = poswords[5:]\n",
    "pos_count = \" \".join ([w for w in text if w in poswords])\n",
    "pos_count=pos_count.split(\" \")\n",
    "Positive_score=len(pos_count)\n",
    "print(Positive_score)"
   ]
  },
  {
   "cell_type": "code",
   "execution_count": 5,
   "id": "a4d37772",
   "metadata": {},
   "outputs": [
    {
     "name": "stdout",
     "output_type": "stream",
     "text": [
      "8\n"
     ]
    }
   ],
   "source": [
    "#Negative Score\n",
    "with open(r\"C:\\Users\\Om Bhandwalkar\\Desktop\\pos\\negative-words.txt\",encoding =\"ISO-8859-1\") as neg:\n",
    "    negwords = neg.read().split(\"\\n\")\n",
    "    \n",
    "negwords = negwords[36:]\n",
    "neg_count = \" \".join ([w for w in text if w in negwords])\n",
    "neg_count=neg_count.split(\" \")\n",
    "Negative_score=len(neg_count)\n",
    "print(Negative_score)"
   ]
  },
  {
   "cell_type": "code",
   "execution_count": 6,
   "id": "348e083f",
   "metadata": {},
   "outputs": [
    {
     "data": {
      "text/html": [
       "<div>\n",
       "<style scoped>\n",
       "    .dataframe tbody tr th:only-of-type {\n",
       "        vertical-align: middle;\n",
       "    }\n",
       "\n",
       "    .dataframe tbody tr th {\n",
       "        vertical-align: top;\n",
       "    }\n",
       "\n",
       "    .dataframe thead th {\n",
       "        text-align: right;\n",
       "    }\n",
       "</style>\n",
       "<table border=\"1\" class=\"dataframe\">\n",
       "  <thead>\n",
       "    <tr style=\"text-align: right;\">\n",
       "      <th></th>\n",
       "      <th>url</th>\n",
       "      <th>title</th>\n",
       "      <th>content</th>\n",
       "      <th>filter_content</th>\n",
       "      <th>Positive_Score</th>\n",
       "      <th>Negative_Score</th>\n",
       "      <th>polarity</th>\n",
       "      <th>subjectivity</th>\n",
       "    </tr>\n",
       "  </thead>\n",
       "  <tbody>\n",
       "    <tr>\n",
       "      <th>0</th>\n",
       "      <td>https://insights.blackcoffer.com/impact-of-ai-...</td>\n",
       "      <td>Impact of AI in health and medicine</td>\n",
       "      <td>AI allows those in training to go through nat...</td>\n",
       "      <td>AI allows those in training to go through natu...</td>\n",
       "      <td>25</td>\n",
       "      <td>8</td>\n",
       "      <td>0.125963</td>\n",
       "      <td>0.375613</td>\n",
       "    </tr>\n",
       "  </tbody>\n",
       "</table>\n",
       "</div>"
      ],
      "text/plain": [
       "                                                 url  \\\n",
       "0  https://insights.blackcoffer.com/impact-of-ai-...   \n",
       "\n",
       "                                 title  \\\n",
       "0  Impact of AI in health and medicine   \n",
       "\n",
       "                                             content  \\\n",
       "0   AI allows those in training to go through nat...   \n",
       "\n",
       "                                      filter_content  Positive_Score  \\\n",
       "0  AI allows those in training to go through natu...              25   \n",
       "\n",
       "   Negative_Score  polarity  subjectivity  \n",
       "0               8  0.125963      0.375613  "
      ]
     },
     "execution_count": 6,
     "metadata": {},
     "output_type": "execute_result"
    }
   ],
   "source": [
    "filter_content = ' '.join(text)\n",
    "data=[[url,title,content,filter_content,Positive_score,Negative_score]]\n",
    "data=pd.DataFrame(data,columns=[\"url\",\"title\",\"content\",\"filter_content\",\"Positive_Score\",\"Negative_Score\"])\n",
    "from textblob import TextBlob\n",
    "# Get The Subjectivity\n",
    "def sentiment_analysis(data):\n",
    "    sentiment = TextBlob(data[\"content\"]).sentiment\n",
    "    return pd.Series([sentiment.polarity,sentiment.subjectivity ])\n",
    "\n",
    "# Adding Subjectivity & Polarity\n",
    "data[[\"polarity\", \"subjectivity\"]] = data.apply(sentiment_analysis, axis=1)\n",
    "\n",
    "data"
   ]
  },
  {
   "cell_type": "code",
   "execution_count": 7,
   "id": "4a55b18f",
   "metadata": {},
   "outputs": [
    {
     "name": "stdout",
     "output_type": "stream",
     "text": [
      "Word average = 3375.0\n",
      "FOG INDEX =  252.5\n",
      "Average no of words per sentence\n",
      "615.0\n",
      "Complex Words 1233\n"
     ]
    }
   ],
   "source": [
    "#AVG SENTENCE LENGTH\n",
    "AVG_SENTENCE_LENGTH = len(content.replace(' ',''))/len(re.split(r'[?!.]', content))\n",
    "print('Word average =', AVG_SENTENCE_LENGTH)\n",
    "import textstat\n",
    "#Fog index \n",
    "FOG_INDEX=(textstat.gunning_fog(content))\n",
    "print(\"FOG INDEX = \",FOG_INDEX)\n",
    "#Average No of Words Per Sentence \n",
    "AVG_NUMBER_OF_WORDS_PER_SENTENCE = [len(l.split()) for l in re.split(r'[?!.]', content) if l.strip()]\n",
    "print(\"Average no of words per sentence\")\n",
    "AVG_NUMBER_OF_WORDS_PER_SENTENCE=print(sum(AVG_NUMBER_OF_WORDS_PER_SENTENCE)/len(AVG_NUMBER_OF_WORDS_PER_SENTENCE))\n",
    "#Complex words\n",
    "def syllable_count(word):\n",
    "    count = 0\n",
    "    vowels = \"AEIOUYaeiouy\"\n",
    "    if word[0] in vowels:\n",
    "        count += 1\n",
    "    for index in range(1, len(word)): \n",
    "        if word[index] in vowels and word[index - 1] not in vowels:\n",
    "            count += 1\n",
    "            if word.endswith(\"es\"or \"ed\"):\n",
    "                count -= 1\n",
    "    if count == 0:\n",
    "        count += 1\n",
    "    return count\n",
    "\n",
    "\n",
    "\n",
    "COMPLEX_WORDS=syllable_count(content)\n",
    "print(\"Complex Words\",COMPLEX_WORDS)\n"
   ]
  },
  {
   "cell_type": "code",
   "execution_count": 8,
   "id": "89299530",
   "metadata": {},
   "outputs": [
    {
     "name": "stdout",
     "output_type": "stream",
     "text": [
      "Word Count 3999\n",
      "Percentage of Complex Words 30.83270817704426\n",
      "Average Word per Length 5.487804878048781\n",
      "The AVG number of syllables in the word is: \n",
      "2.232520325203252\n"
     ]
    }
   ],
   "source": [
    "#Word Count\n",
    "Word_Count=len(content)\n",
    "print(\"Word Count\",Word_Count)\n",
    "#Percentage Complex Words\n",
    "pcw=(COMPLEX_WORDS/Word_Count)*100\n",
    "print(\"Percentage of Complex Words\",pcw)\n",
    "#Average Word Length\n",
    "Average_Word_Length=len(content.replace(' ',''))/len(content.split())\n",
    "print(\"Average Word per Length\",Average_Word_Length)\n",
    "#Syllable Count Per Word\n",
    "word=content.replace(' ','')\n",
    "syllable_count=0\n",
    "for w in word:\n",
    "      if(w=='a' or w=='e' or w=='i' or w=='o' or w=='y' or w=='u' or w=='A' or w=='E' or w=='I' or w=='O' or w=='U' or w=='Y'):\n",
    "            syllable_count=syllable_count+1\n",
    "print(\"The AVG number of syllables in the word is: \")\n",
    "print(syllable_count/len(content.split()))"
   ]
  },
  {
   "cell_type": "code",
   "execution_count": 2,
   "id": "01565637",
   "metadata": {},
   "outputs": [
    {
     "name": "stdout",
     "output_type": "stream",
     "text": [
      "25\n",
      "8\n",
      "Word average = 3375.0\n",
      "FOG INDEX =  252.5\n",
      "Average no of words per sentence\n",
      "615.0\n",
      "Complex Words 1233\n",
      "Word Count 3999\n",
      "Percentage of Complex Words 30.83270817704426\n",
      "Average Word per Length 5.487804878048781\n",
      "The AVG number of syllables in the word is: \n",
      "2.232520325203252\n"
     ]
    },
    {
     "data": {
      "text/html": [
       "<div>\n",
       "<style scoped>\n",
       "    .dataframe tbody tr th:only-of-type {\n",
       "        vertical-align: middle;\n",
       "    }\n",
       "\n",
       "    .dataframe tbody tr th {\n",
       "        vertical-align: top;\n",
       "    }\n",
       "\n",
       "    .dataframe thead th {\n",
       "        text-align: right;\n",
       "    }\n",
       "</style>\n",
       "<table border=\"1\" class=\"dataframe\">\n",
       "  <thead>\n",
       "    <tr style=\"text-align: right;\">\n",
       "      <th></th>\n",
       "      <th>url</th>\n",
       "      <th>title</th>\n",
       "      <th>content</th>\n",
       "      <th>filter_content</th>\n",
       "      <th>Positive_Score</th>\n",
       "      <th>Negative_Score</th>\n",
       "      <th>Avg_Sentence_Length</th>\n",
       "      <th>Percentage_Complex_Word</th>\n",
       "      <th>Fog_Index</th>\n",
       "      <th>AVG_NUMBER_OF_WORDS_PER_SENTENCE</th>\n",
       "      <th>COMPLEX_WORDS</th>\n",
       "      <th>Word_Count</th>\n",
       "      <th>syllable</th>\n",
       "      <th>Average_Word_Length</th>\n",
       "      <th>polarity</th>\n",
       "      <th>subjectivity</th>\n",
       "    </tr>\n",
       "  </thead>\n",
       "  <tbody>\n",
       "    <tr>\n",
       "      <th>0</th>\n",
       "      <td>https://insights.blackcoffer.com/impact-of-ai-...</td>\n",
       "      <td>Impact of AI in health and medicine</td>\n",
       "      <td>AI allows those in training to go through nat...</td>\n",
       "      <td>AI allows those in training to go through natu...</td>\n",
       "      <td>25</td>\n",
       "      <td>8</td>\n",
       "      <td>3375.0</td>\n",
       "      <td>30.832708</td>\n",
       "      <td>252.5</td>\n",
       "      <td>615.0</td>\n",
       "      <td>1233</td>\n",
       "      <td>3999</td>\n",
       "      <td>2.23252</td>\n",
       "      <td>5.487805</td>\n",
       "      <td>0.125963</td>\n",
       "      <td>0.375613</td>\n",
       "    </tr>\n",
       "  </tbody>\n",
       "</table>\n",
       "</div>"
      ],
      "text/plain": [
       "                                                 url  \\\n",
       "0  https://insights.blackcoffer.com/impact-of-ai-...   \n",
       "\n",
       "                                 title  \\\n",
       "0  Impact of AI in health and medicine   \n",
       "\n",
       "                                             content  \\\n",
       "0   AI allows those in training to go through nat...   \n",
       "\n",
       "                                      filter_content  Positive_Score  \\\n",
       "0  AI allows those in training to go through natu...              25   \n",
       "\n",
       "   Negative_Score  Avg_Sentence_Length  Percentage_Complex_Word  Fog_Index  \\\n",
       "0               8               3375.0                30.832708      252.5   \n",
       "\n",
       "    AVG_NUMBER_OF_WORDS_PER_SENTENCE  COMPLEX_WORDS  Word_Count  syllable  \\\n",
       "0                              615.0           1233        3999   2.23252   \n",
       "\n",
       "   Average_Word_Length  polarity  subjectivity  \n",
       "0             5.487805  0.125963      0.375613  "
      ]
     },
     "execution_count": 2,
     "metadata": {},
     "output_type": "execute_result"
    }
   ],
   "source": [
    "import requests\n",
    "import pandas as pd \n",
    "from bs4 import BeautifulSoup\n",
    "import string\n",
    "import spacy\n",
    "import re\n",
    "url = \"\"\"https://insights.blackcoffer.com/impact-of-ai-in-health-and-medicine/\"\"\"\n",
    "headers = {\"User-Agent\": \"Mozilla/5.0 (X11; Linux x86_64; rv:60.0) Gecko/20100101 Firefox/60.0\"}\n",
    "page = requests.get(url, headers=headers)\n",
    "soup = BeautifulSoup(page.content, 'html.parser')\n",
    "soup=BeautifulSoup(page.content, 'html.parser')\n",
    "title=soup.find('h1',class_=\"entry-title\")\n",
    "title=title.text.replace('\\n',\" \")\n",
    "# title\n",
    "\n",
    "content=soup.findAll(attrs={'class':'td-post-content'})\n",
    "content=content[0].text.replace('\\n',\" \")\n",
    "# print(content)\n",
    "#Punctuation\n",
    "content = content.translate(str.maketrans('', '', string.punctuation)) \n",
    "# print(content)\n",
    "text = content.split()\n",
    "# print(text)\n",
    "len(text)\n",
    "#Positive Score \n",
    "with open(r\"C:\\Users\\Om Bhandwalkar\\Desktop\\pos\\positive-words.txt\") as pos:\n",
    "    poswords = pos.read().split(\"\\n\")  \n",
    "    poswords = poswords[5:]\n",
    "pos_count = \" \".join ([w for w in text if w in poswords])\n",
    "pos_count=pos_count.split(\" \")\n",
    "Positive_score=len(pos_count)\n",
    "print(Positive_score)\n",
    "\n",
    "#Negative Score\n",
    "with open(r\"C:\\Users\\Om Bhandwalkar\\Desktop\\pos\\negative-words.txt\",encoding =\"ISO-8859-1\") as neg:\n",
    "    negwords = neg.read().split(\"\\n\")\n",
    "    \n",
    "negwords = negwords[36:]\n",
    "neg_count = \" \".join ([w for w in text if w in negwords])\n",
    "neg_count=neg_count.split(\" \")\n",
    "Negative_score=len(neg_count)\n",
    "print(Negative_score)\n",
    "\n",
    "\n",
    "filter_content = ' '.join(text)\n",
    "data=[[url,title,content,filter_content,Positive_score,Negative_score]]\n",
    "data=pd.DataFrame(data,columns=[\"url\",\"title\",\"content\",\"filter_content\",\"Positive_Score\",\"Negative_Score\"])\n",
    "from textblob import TextBlob\n",
    "# Get The Subjectivity\n",
    "def sentiment_analysis(data):\n",
    "    sentiment = TextBlob(data[\"content\"]).sentiment\n",
    "    return pd.Series([sentiment.polarity,sentiment.subjectivity ])\n",
    "data[[\"polarity\", \"subjectivity\"]] = data.apply(sentiment_analysis, axis=1)\n",
    "data\n",
    "#AVG SENTENCE LENGTH\n",
    "AVG_SENTENCE_LENGTH = len(content.replace(' ',''))/len(re.split(r'[?!.]', content))\n",
    "print('Word average =', AVG_SENTENCE_LENGTH)\n",
    "import textstat\n",
    "#Fog index \n",
    "FOG_INDEX=(textstat.gunning_fog(content))\n",
    "print(\"FOG INDEX = \",FOG_INDEX)\n",
    "#Average No of Words Per Sentence \n",
    "AVG_NUMBER_OF_WORDS_PER_SENTENCE = [len(l.split()) for l in re.split(r'[?!.]', content) if l.strip()]\n",
    "print(\"Average no of words per sentence\")\n",
    "AVG_NUMBER_OF_WORDS_PER_SENTENCE=(sum(AVG_NUMBER_OF_WORDS_PER_SENTENCE)/len(AVG_NUMBER_OF_WORDS_PER_SENTENCE))\n",
    "print(AVG_NUMBER_OF_WORDS_PER_SENTENCE)\n",
    "#Complex words\n",
    "def syllable_count(word):\n",
    "    count = 0\n",
    "    vowels = \"AEIOUYaeiouy\"\n",
    "    if word[0] in vowels:\n",
    "        count += 1\n",
    "    for index in range(1, len(word)): \n",
    "        if word[index] in vowels and word[index - 1] not in vowels:\n",
    "            count += 1\n",
    "            if word.endswith(\"es\"or \"ed\"):\n",
    "                count -= 1\n",
    "    if count == 0:\n",
    "        count += 1\n",
    "    return count\n",
    "\n",
    "\n",
    "\n",
    "COMPLEX_WORDS=syllable_count(content)\n",
    "print(\"Complex Words\",COMPLEX_WORDS)\n",
    "#Word Count\n",
    "Word_Count=len(content)\n",
    "print(\"Word Count\",Word_Count)\n",
    "#Percentage Complex Words\n",
    "pcw=(COMPLEX_WORDS/Word_Count)*100\n",
    "print(\"Percentage of Complex Words\",pcw)\n",
    "#Average Word Length\n",
    "Average_Word_Length=len(content.replace(' ',''))/len(content.split())\n",
    "print(\"Average Word per Length\",Average_Word_Length)\n",
    "#Syllable Count Per Word\n",
    "word=content.replace(' ','')\n",
    "syllable_count=0\n",
    "for w in word:\n",
    "      if(w=='a' or w=='e' or w=='i' or w=='o' or w=='y' or w=='u' or w=='A' or w=='E' or w=='I' or w=='O' or w=='U' or w=='Y'):\n",
    "            syllable_count=syllable_count+1\n",
    "print(\"The AVG number of syllables in the word is: \")\n",
    "syllable = (syllable_count/len(content.split()))\n",
    "print(syllable)\n",
    "\n",
    "data = [[url,title,content,filter_content,Positive_score,Negative_score,AVG_SENTENCE_LENGTH,pcw,FOG_INDEX,\n",
    "         AVG_NUMBER_OF_WORDS_PER_SENTENCE,COMPLEX_WORDS,Word_Count,syllable,Average_Word_Length]]\n",
    "data=pd.DataFrame(data,columns=[\"url\",\"title\",\"content\",\"filter_content\",\"Positive_Score\",\"Negative_Score\",\"Avg_Sentence_Length\"\n",
    "                               ,\"Percentage_Complex_Word\",\"Fog_Index\",\" AVG_NUMBER_OF_WORDS_PER_SENTENCE\",\"COMPLEX_WORDS\",\n",
    "                               \"Word_Count\",\"syllable\",\"Average_Word_Length\"])\n",
    "from textblob import TextBlob\n",
    "# Get The Subjectivity\n",
    "def sentiment_analysis(data):\n",
    "    sentiment = TextBlob(data[\"content\"]).sentiment\n",
    "    return pd.Series([sentiment.polarity,sentiment.subjectivity ])\n",
    "data[[\"polarity\", \"subjectivity\"]] = data.apply(sentiment_analysis, axis=1)\n",
    "data"
   ]
  },
  {
   "cell_type": "code",
   "execution_count": 3,
   "id": "2fccc82b",
   "metadata": {},
   "outputs": [],
   "source": [
    "data.to_csv(r'C:\\Users\\Om Bhandwalkar\\Desktop\\BlackCoffer Assignment\\Output\\url_64.csv')"
   ]
  },
  {
   "cell_type": "code",
   "execution_count": null,
   "id": "a2cce9f5",
   "metadata": {},
   "outputs": [],
   "source": []
  }
 ],
 "metadata": {
  "kernelspec": {
   "display_name": "Python 3 (ipykernel)",
   "language": "python",
   "name": "python3"
  },
  "language_info": {
   "codemirror_mode": {
    "name": "ipython",
    "version": 3
   },
   "file_extension": ".py",
   "mimetype": "text/x-python",
   "name": "python",
   "nbconvert_exporter": "python",
   "pygments_lexer": "ipython3",
   "version": "3.9.12"
  }
 },
 "nbformat": 4,
 "nbformat_minor": 5
}
