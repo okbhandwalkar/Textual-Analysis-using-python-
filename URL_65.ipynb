{
 "cells": [
  {
   "cell_type": "code",
   "execution_count": 1,
   "id": "506bbda8",
   "metadata": {},
   "outputs": [
    {
     "data": {
      "text/plain": [
       "'What patients like and dislike about telemedicine?'"
      ]
     },
     "execution_count": 1,
     "metadata": {},
     "output_type": "execute_result"
    }
   ],
   "source": [
    "import requests\n",
    "import pandas as pd \n",
    "from bs4 import BeautifulSoup\n",
    "import string\n",
    "import spacy\n",
    "import re\n",
    "url = \"\"\"https://insights.blackcoffer.com/telemedicine-what-patients-like-and-dislike-about-it/\"\"\"\n",
    "headers = {\"User-Agent\": \"Mozilla/5.0 (X11; Linux x86_64; rv:60.0) Gecko/20100101 Firefox/60.0\"}\n",
    "page = requests.get(url, headers=headers)\n",
    "soup = BeautifulSoup(page.content, 'html.parser')\n",
    "soup=BeautifulSoup(page.content, 'html.parser')\n",
    "title=soup.find('h1',class_=\"entry-title\")\n",
    "title=title.text.replace('\\n',\" \")\n",
    "title\n"
   ]
  },
  {
   "cell_type": "code",
   "execution_count": 2,
   "id": "d62c9fa2",
   "metadata": {},
   "outputs": [
    {
     "name": "stdout",
     "output_type": "stream",
     "text": [
      " In today’s world, telemedicine technology is one of those technologies which has brought about a change. Compared to the early days there have been remarkable differences in the methods of consultation with a doctor. In the years that have passed by, consultation for a disease with a doctor was quite hectic. It involved waiting, traveling, etc. But with the advent of telemedicine opportunities, this has completely changed. It is a rural area that has been completely blessed with the invention of telemedicine. Today a considerable amount of people are able to consult doctors remotely. Not just doctors, but specialists in various fields of medicine. This has been of great importance as far as rural people are concerned. There are a lot of telemedicine tools that have been found. There are a lot of areas like ophthalmology, oncology, dermatology, etc where the facility of telemedicine has been practiced. Most of the patients are truly benefitting from telemedicine. Patients are pretty satisfied with the consultation they are getting. They don’t have to travel now. They can consult doctors and other specialists from remote areas. The cost of consultation has become pretty much affordable. Moreover, they get exposed to highly efficient and qualified experts in the field of medicine. On the other hand, there can be patients who do not fully get satisfied through a virtual consultation. Rather they might feel that they need to have a direct talk with the doctor, which can boost up their confidence and also it helps to maintain a better relationship with the doctor and patient. The patients feel trust when they talk to doctors face to face. Moreover, doctors also might be able to console their patients when they have direct interaction with their patients. There could also be patients who doubt if these virtual methodologies are really trusted worthy or not. It is so because, while the patients have direct contact with their patients, the qualifications are visible to the patients. So there shall be no question of distrust. There are major challenges like better connectivity of the internet, without which the patients will not be able to have continuous interaction with the doctors. Technical glitches may hinder the consultation too. Moreover, emergency situations cannot be addressed beyond a limit through telemedicine. Blackcoffer Insights 23: Miriam sam, Scms school of technology and management. \n",
      " In today’s world telemedicine technology is one of those technologies which has brought about a change Compared to the early days there have been remarkable differences in the methods of consultation with a doctor In the years that have passed by consultation for a disease with a doctor was quite hectic It involved waiting traveling etc But with the advent of telemedicine opportunities this has completely changed It is a rural area that has been completely blessed with the invention of telemedicine Today a considerable amount of people are able to consult doctors remotely Not just doctors but specialists in various fields of medicine This has been of great importance as far as rural people are concerned There are a lot of telemedicine tools that have been found There are a lot of areas like ophthalmology oncology dermatology etc where the facility of telemedicine has been practiced Most of the patients are truly benefitting from telemedicine Patients are pretty satisfied with the consultation they are getting They don’t have to travel now They can consult doctors and other specialists from remote areas The cost of consultation has become pretty much affordable Moreover they get exposed to highly efficient and qualified experts in the field of medicine On the other hand there can be patients who do not fully get satisfied through a virtual consultation Rather they might feel that they need to have a direct talk with the doctor which can boost up their confidence and also it helps to maintain a better relationship with the doctor and patient The patients feel trust when they talk to doctors face to face Moreover doctors also might be able to console their patients when they have direct interaction with their patients There could also be patients who doubt if these virtual methodologies are really trusted worthy or not It is so because while the patients have direct contact with their patients the qualifications are visible to the patients So there shall be no question of distrust There are major challenges like better connectivity of the internet without which the patients will not be able to have continuous interaction with the doctors Technical glitches may hinder the consultation too Moreover emergency situations cannot be addressed beyond a limit through telemedicine Blackcoffer Insights 23 Miriam sam Scms school of technology and management \n",
      "['In', 'today’s', 'world', 'telemedicine', 'technology', 'is', 'one', 'of', 'those', 'technologies', 'which', 'has', 'brought', 'about', 'a', 'change', 'Compared', 'to', 'the', 'early', 'days', 'there', 'have', 'been', 'remarkable', 'differences', 'in', 'the', 'methods', 'of', 'consultation', 'with', 'a', 'doctor', 'In', 'the', 'years', 'that', 'have', 'passed', 'by', 'consultation', 'for', 'a', 'disease', 'with', 'a', 'doctor', 'was', 'quite', 'hectic', 'It', 'involved', 'waiting', 'traveling', 'etc', 'But', 'with', 'the', 'advent', 'of', 'telemedicine', 'opportunities', 'this', 'has', 'completely', 'changed', 'It', 'is', 'a', 'rural', 'area', 'that', 'has', 'been', 'completely', 'blessed', 'with', 'the', 'invention', 'of', 'telemedicine', 'Today', 'a', 'considerable', 'amount', 'of', 'people', 'are', 'able', 'to', 'consult', 'doctors', 'remotely', 'Not', 'just', 'doctors', 'but', 'specialists', 'in', 'various', 'fields', 'of', 'medicine', 'This', 'has', 'been', 'of', 'great', 'importance', 'as', 'far', 'as', 'rural', 'people', 'are', 'concerned', 'There', 'are', 'a', 'lot', 'of', 'telemedicine', 'tools', 'that', 'have', 'been', 'found', 'There', 'are', 'a', 'lot', 'of', 'areas', 'like', 'ophthalmology', 'oncology', 'dermatology', 'etc', 'where', 'the', 'facility', 'of', 'telemedicine', 'has', 'been', 'practiced', 'Most', 'of', 'the', 'patients', 'are', 'truly', 'benefitting', 'from', 'telemedicine', 'Patients', 'are', 'pretty', 'satisfied', 'with', 'the', 'consultation', 'they', 'are', 'getting', 'They', 'don’t', 'have', 'to', 'travel', 'now', 'They', 'can', 'consult', 'doctors', 'and', 'other', 'specialists', 'from', 'remote', 'areas', 'The', 'cost', 'of', 'consultation', 'has', 'become', 'pretty', 'much', 'affordable', 'Moreover', 'they', 'get', 'exposed', 'to', 'highly', 'efficient', 'and', 'qualified', 'experts', 'in', 'the', 'field', 'of', 'medicine', 'On', 'the', 'other', 'hand', 'there', 'can', 'be', 'patients', 'who', 'do', 'not', 'fully', 'get', 'satisfied', 'through', 'a', 'virtual', 'consultation', 'Rather', 'they', 'might', 'feel', 'that', 'they', 'need', 'to', 'have', 'a', 'direct', 'talk', 'with', 'the', 'doctor', 'which', 'can', 'boost', 'up', 'their', 'confidence', 'and', 'also', 'it', 'helps', 'to', 'maintain', 'a', 'better', 'relationship', 'with', 'the', 'doctor', 'and', 'patient', 'The', 'patients', 'feel', 'trust', 'when', 'they', 'talk', 'to', 'doctors', 'face', 'to', 'face', 'Moreover', 'doctors', 'also', 'might', 'be', 'able', 'to', 'console', 'their', 'patients', 'when', 'they', 'have', 'direct', 'interaction', 'with', 'their', 'patients', 'There', 'could', 'also', 'be', 'patients', 'who', 'doubt', 'if', 'these', 'virtual', 'methodologies', 'are', 'really', 'trusted', 'worthy', 'or', 'not', 'It', 'is', 'so', 'because', 'while', 'the', 'patients', 'have', 'direct', 'contact', 'with', 'their', 'patients', 'the', 'qualifications', 'are', 'visible', 'to', 'the', 'patients', 'So', 'there', 'shall', 'be', 'no', 'question', 'of', 'distrust', 'There', 'are', 'major', 'challenges', 'like', 'better', 'connectivity', 'of', 'the', 'internet', 'without', 'which', 'the', 'patients', 'will', 'not', 'be', 'able', 'to', 'have', 'continuous', 'interaction', 'with', 'the', 'doctors', 'Technical', 'glitches', 'may', 'hinder', 'the', 'consultation', 'too', 'Moreover', 'emergency', 'situations', 'cannot', 'be', 'addressed', 'beyond', 'a', 'limit', 'through', 'telemedicine', 'Blackcoffer', 'Insights', '23', 'Miriam', 'sam', 'Scms', 'school', 'of', 'technology', 'and', 'management']\n"
     ]
    }
   ],
   "source": [
    "content=soup.findAll(attrs={'class':'td-post-content'})\n",
    "content=content[0].text.replace('\\n',\" \")\n",
    "print(content)\n",
    "#Punctuation\n",
    "content = content.translate(str.maketrans('', '', string.punctuation)) \n",
    "print(content)\n",
    "text = content.split()\n",
    "print(text)\n"
   ]
  },
  {
   "cell_type": "code",
   "execution_count": 3,
   "id": "27de79fe",
   "metadata": {},
   "outputs": [
    {
     "data": {
      "text/plain": [
       "388"
      ]
     },
     "execution_count": 3,
     "metadata": {},
     "output_type": "execute_result"
    }
   ],
   "source": [
    "len(text)"
   ]
  },
  {
   "cell_type": "code",
   "execution_count": 4,
   "id": "430dbc79",
   "metadata": {},
   "outputs": [
    {
     "name": "stdout",
     "output_type": "stream",
     "text": [
      "19\n"
     ]
    }
   ],
   "source": [
    "#Positive Score \n",
    "with open(r\"C:\\Users\\Om Bhandwalkar\\Desktop\\pos\\positive-words.txt\") as pos:\n",
    "    poswords = pos.read().split(\"\\n\")  \n",
    "    poswords = poswords[5:]\n",
    "pos_count = \" \".join ([w for w in text if w in poswords])\n",
    "pos_count=pos_count.split(\" \")\n",
    "Positive_score=len(pos_count)\n",
    "print(Positive_score)"
   ]
  },
  {
   "cell_type": "code",
   "execution_count": 5,
   "id": "747eb6fd",
   "metadata": {},
   "outputs": [
    {
     "name": "stdout",
     "output_type": "stream",
     "text": [
      "8\n"
     ]
    }
   ],
   "source": [
    "#Negative Score\n",
    "with open(r\"C:\\Users\\Om Bhandwalkar\\Desktop\\pos\\negative-words.txt\",encoding =\"ISO-8859-1\") as neg:\n",
    "    negwords = neg.read().split(\"\\n\")\n",
    "    \n",
    "negwords = negwords[36:]\n",
    "neg_count = \" \".join ([w for w in text if w in negwords])\n",
    "neg_count=neg_count.split(\" \")\n",
    "Negative_score=len(neg_count)\n",
    "print(Negative_score)"
   ]
  },
  {
   "cell_type": "code",
   "execution_count": 6,
   "id": "5983f066",
   "metadata": {},
   "outputs": [
    {
     "data": {
      "text/html": [
       "<div>\n",
       "<style scoped>\n",
       "    .dataframe tbody tr th:only-of-type {\n",
       "        vertical-align: middle;\n",
       "    }\n",
       "\n",
       "    .dataframe tbody tr th {\n",
       "        vertical-align: top;\n",
       "    }\n",
       "\n",
       "    .dataframe thead th {\n",
       "        text-align: right;\n",
       "    }\n",
       "</style>\n",
       "<table border=\"1\" class=\"dataframe\">\n",
       "  <thead>\n",
       "    <tr style=\"text-align: right;\">\n",
       "      <th></th>\n",
       "      <th>url</th>\n",
       "      <th>title</th>\n",
       "      <th>content</th>\n",
       "      <th>filter_content</th>\n",
       "      <th>Positive_Score</th>\n",
       "      <th>Negative_Score</th>\n",
       "      <th>polarity</th>\n",
       "      <th>subjectivity</th>\n",
       "    </tr>\n",
       "  </thead>\n",
       "  <tbody>\n",
       "    <tr>\n",
       "      <th>0</th>\n",
       "      <td>https://insights.blackcoffer.com/telemedicine-...</td>\n",
       "      <td>What patients like and dislike about telemedic...</td>\n",
       "      <td>In today’s world telemedicine technology is o...</td>\n",
       "      <td>In today’s world telemedicine technology is on...</td>\n",
       "      <td>19</td>\n",
       "      <td>8</td>\n",
       "      <td>0.227449</td>\n",
       "      <td>0.509545</td>\n",
       "    </tr>\n",
       "  </tbody>\n",
       "</table>\n",
       "</div>"
      ],
      "text/plain": [
       "                                                 url  \\\n",
       "0  https://insights.blackcoffer.com/telemedicine-...   \n",
       "\n",
       "                                               title  \\\n",
       "0  What patients like and dislike about telemedic...   \n",
       "\n",
       "                                             content  \\\n",
       "0   In today’s world telemedicine technology is o...   \n",
       "\n",
       "                                      filter_content  Positive_Score  \\\n",
       "0  In today’s world telemedicine technology is on...              19   \n",
       "\n",
       "   Negative_Score  polarity  subjectivity  \n",
       "0               8  0.227449      0.509545  "
      ]
     },
     "execution_count": 6,
     "metadata": {},
     "output_type": "execute_result"
    }
   ],
   "source": [
    "filter_content = ' '.join(text)\n",
    "data=[[url,title,content,filter_content,Positive_score,Negative_score]]\n",
    "data=pd.DataFrame(data,columns=[\"url\",\"title\",\"content\",\"filter_content\",\"Positive_Score\",\"Negative_Score\"])\n",
    "from textblob import TextBlob\n",
    "# Get The Subjectivity\n",
    "def sentiment_analysis(data):\n",
    "    sentiment = TextBlob(data[\"content\"]).sentiment\n",
    "    return pd.Series([sentiment.polarity,sentiment.subjectivity ])\n",
    "\n",
    "# Adding Subjectivity & Polarity\n",
    "data[[\"polarity\", \"subjectivity\"]] = data.apply(sentiment_analysis, axis=1)\n",
    "\n",
    "data"
   ]
  },
  {
   "cell_type": "code",
   "execution_count": 7,
   "id": "cdfa7039",
   "metadata": {},
   "outputs": [
    {
     "name": "stdout",
     "output_type": "stream",
     "text": [
      "Word average = 1998.0\n",
      "FOG INDEX =  159.12\n",
      "Average no of words per sentence\n",
      "388.0\n",
      "Complex Words 707\n"
     ]
    }
   ],
   "source": [
    "#AVG SENTENCE LENGTH\n",
    "AVG_SENTENCE_LENGTH = len(content.replace(' ',''))/len(re.split(r'[?!.]', content))\n",
    "print('Word average =', AVG_SENTENCE_LENGTH)\n",
    "import textstat\n",
    "#Fog index \n",
    "FOG_INDEX=(textstat.gunning_fog(content))\n",
    "print(\"FOG INDEX = \",FOG_INDEX)\n",
    "#Average No of Words Per Sentence \n",
    "AVG_NUMBER_OF_WORDS_PER_SENTENCE = [len(l.split()) for l in re.split(r'[?!.]', content) if l.strip()]\n",
    "print(\"Average no of words per sentence\")\n",
    "AVG_NUMBER_OF_WORDS_PER_SENTENCE=print(sum(AVG_NUMBER_OF_WORDS_PER_SENTENCE)/len(AVG_NUMBER_OF_WORDS_PER_SENTENCE))\n",
    "#Complex words\n",
    "def syllable_count(word):\n",
    "    count = 0\n",
    "    vowels = \"AEIOUYaeiouy\"\n",
    "    if word[0] in vowels:\n",
    "        count += 1\n",
    "    for index in range(1, len(word)): \n",
    "        if word[index] in vowels and word[index - 1] not in vowels:\n",
    "            count += 1\n",
    "            if word.endswith(\"es\"or \"ed\"):\n",
    "                count -= 1\n",
    "    if count == 0:\n",
    "        count += 1\n",
    "    return count\n",
    "\n",
    "\n",
    "\n",
    "COMPLEX_WORDS=syllable_count(content)\n",
    "print(\"Complex Words\",COMPLEX_WORDS)\n"
   ]
  },
  {
   "cell_type": "code",
   "execution_count": 8,
   "id": "4800a909",
   "metadata": {},
   "outputs": [
    {
     "name": "stdout",
     "output_type": "stream",
     "text": [
      "Word Count 2387\n",
      "Percentage of Complex Words 29.61876832844575\n",
      "Average Word per Length 5.149484536082475\n",
      "The AVG number of syllables in the word is: \n",
      "2.0927835051546393\n"
     ]
    }
   ],
   "source": [
    "#Word Count\n",
    "Word_Count=len(content)\n",
    "print(\"Word Count\",Word_Count)\n",
    "#Percentage Complex Words\n",
    "pcw=(COMPLEX_WORDS/Word_Count)*100\n",
    "print(\"Percentage of Complex Words\",pcw)\n",
    "#Average Word Length\n",
    "Average_Word_Length=len(content.replace(' ',''))/len(content.split())\n",
    "print(\"Average Word per Length\",Average_Word_Length)\n",
    "#Syllable Count Per Word\n",
    "word=content.replace(' ','')\n",
    "syllable_count=0\n",
    "for w in word:\n",
    "      if(w=='a' or w=='e' or w=='i' or w=='o' or w=='y' or w=='u' or w=='A' or w=='E' or w=='I' or w=='O' or w=='U' or w=='Y'):\n",
    "            syllable_count=syllable_count+1\n",
    "print(\"The AVG number of syllables in the word is: \")\n",
    "print(syllable_count/len(content.split()))"
   ]
  },
  {
   "cell_type": "code",
   "execution_count": 1,
   "id": "24e89cae",
   "metadata": {},
   "outputs": [
    {
     "name": "stdout",
     "output_type": "stream",
     "text": [
      "19\n",
      "8\n",
      "Word average = 1998.0\n",
      "FOG INDEX =  159.12\n",
      "Average no of words per sentence\n",
      "388.0\n",
      "Complex Words 707\n",
      "Word Count 2387\n",
      "Percentage of Complex Words 29.61876832844575\n",
      "Average Word per Length 5.149484536082475\n",
      "The AVG number of syllables in the word is: \n",
      "2.0927835051546393\n"
     ]
    },
    {
     "data": {
      "text/html": [
       "<div>\n",
       "<style scoped>\n",
       "    .dataframe tbody tr th:only-of-type {\n",
       "        vertical-align: middle;\n",
       "    }\n",
       "\n",
       "    .dataframe tbody tr th {\n",
       "        vertical-align: top;\n",
       "    }\n",
       "\n",
       "    .dataframe thead th {\n",
       "        text-align: right;\n",
       "    }\n",
       "</style>\n",
       "<table border=\"1\" class=\"dataframe\">\n",
       "  <thead>\n",
       "    <tr style=\"text-align: right;\">\n",
       "      <th></th>\n",
       "      <th>url</th>\n",
       "      <th>title</th>\n",
       "      <th>content</th>\n",
       "      <th>filter_content</th>\n",
       "      <th>Positive_Score</th>\n",
       "      <th>Negative_Score</th>\n",
       "      <th>Avg_Sentence_Length</th>\n",
       "      <th>Percentage_Complex_Word</th>\n",
       "      <th>Fog_Index</th>\n",
       "      <th>AVG_NUMBER_OF_WORDS_PER_SENTENCE</th>\n",
       "      <th>COMPLEX_WORDS</th>\n",
       "      <th>Word_Count</th>\n",
       "      <th>syllable</th>\n",
       "      <th>Average_Word_Length</th>\n",
       "      <th>polarity</th>\n",
       "      <th>subjectivity</th>\n",
       "    </tr>\n",
       "  </thead>\n",
       "  <tbody>\n",
       "    <tr>\n",
       "      <th>0</th>\n",
       "      <td>https://insights.blackcoffer.com/telemedicine-...</td>\n",
       "      <td>What patients like and dislike about telemedic...</td>\n",
       "      <td>In today’s world telemedicine technology is o...</td>\n",
       "      <td>In today’s world telemedicine technology is on...</td>\n",
       "      <td>19</td>\n",
       "      <td>8</td>\n",
       "      <td>1998.0</td>\n",
       "      <td>29.618768</td>\n",
       "      <td>159.12</td>\n",
       "      <td>388.0</td>\n",
       "      <td>707</td>\n",
       "      <td>2387</td>\n",
       "      <td>2.092784</td>\n",
       "      <td>5.149485</td>\n",
       "      <td>0.227449</td>\n",
       "      <td>0.509545</td>\n",
       "    </tr>\n",
       "  </tbody>\n",
       "</table>\n",
       "</div>"
      ],
      "text/plain": [
       "                                                 url  \\\n",
       "0  https://insights.blackcoffer.com/telemedicine-...   \n",
       "\n",
       "                                               title  \\\n",
       "0  What patients like and dislike about telemedic...   \n",
       "\n",
       "                                             content  \\\n",
       "0   In today’s world telemedicine technology is o...   \n",
       "\n",
       "                                      filter_content  Positive_Score  \\\n",
       "0  In today’s world telemedicine technology is on...              19   \n",
       "\n",
       "   Negative_Score  Avg_Sentence_Length  Percentage_Complex_Word  Fog_Index  \\\n",
       "0               8               1998.0                29.618768     159.12   \n",
       "\n",
       "    AVG_NUMBER_OF_WORDS_PER_SENTENCE  COMPLEX_WORDS  Word_Count  syllable  \\\n",
       "0                              388.0            707        2387  2.092784   \n",
       "\n",
       "   Average_Word_Length  polarity  subjectivity  \n",
       "0             5.149485  0.227449      0.509545  "
      ]
     },
     "execution_count": 1,
     "metadata": {},
     "output_type": "execute_result"
    }
   ],
   "source": [
    "import requests\n",
    "import pandas as pd \n",
    "from bs4 import BeautifulSoup\n",
    "import string\n",
    "import spacy\n",
    "import re\n",
    "url = \"\"\"https://insights.blackcoffer.com/telemedicine-what-patients-like-and-dislike-about-it/\"\"\"\n",
    "headers = {\"User-Agent\": \"Mozilla/5.0 (X11; Linux x86_64; rv:60.0) Gecko/20100101 Firefox/60.0\"}\n",
    "page = requests.get(url, headers=headers)\n",
    "soup = BeautifulSoup(page.content, 'html.parser')\n",
    "soup=BeautifulSoup(page.content, 'html.parser')\n",
    "title=soup.find('h1',class_=\"entry-title\")\n",
    "title=title.text.replace('\\n',\" \")\n",
    "# title\n",
    "\n",
    "content=soup.findAll(attrs={'class':'td-post-content'})\n",
    "content=content[0].text.replace('\\n',\" \")\n",
    "# print(content)\n",
    "#Punctuation\n",
    "content = content.translate(str.maketrans('', '', string.punctuation)) \n",
    "# print(content)\n",
    "text = content.split()\n",
    "# print(text)\n",
    "len(text)\n",
    "#Positive Score \n",
    "with open(r\"C:\\Users\\Om Bhandwalkar\\Desktop\\pos\\positive-words.txt\") as pos:\n",
    "    poswords = pos.read().split(\"\\n\")  \n",
    "    poswords = poswords[5:]\n",
    "pos_count = \" \".join ([w for w in text if w in poswords])\n",
    "pos_count=pos_count.split(\" \")\n",
    "Positive_score=len(pos_count)\n",
    "print(Positive_score)\n",
    "\n",
    "#Negative Score\n",
    "with open(r\"C:\\Users\\Om Bhandwalkar\\Desktop\\pos\\negative-words.txt\",encoding =\"ISO-8859-1\") as neg:\n",
    "    negwords = neg.read().split(\"\\n\")\n",
    "    \n",
    "negwords = negwords[36:]\n",
    "neg_count = \" \".join ([w for w in text if w in negwords])\n",
    "neg_count=neg_count.split(\" \")\n",
    "Negative_score=len(neg_count)\n",
    "print(Negative_score)\n",
    "\n",
    "\n",
    "filter_content = ' '.join(text)\n",
    "data=[[url,title,content,filter_content,Positive_score,Negative_score]]\n",
    "data=pd.DataFrame(data,columns=[\"url\",\"title\",\"content\",\"filter_content\",\"Positive_Score\",\"Negative_Score\"])\n",
    "from textblob import TextBlob\n",
    "# Get The Subjectivity\n",
    "def sentiment_analysis(data):\n",
    "    sentiment = TextBlob(data[\"content\"]).sentiment\n",
    "    return pd.Series([sentiment.polarity,sentiment.subjectivity ])\n",
    "data[[\"polarity\", \"subjectivity\"]] = data.apply(sentiment_analysis, axis=1)\n",
    "data\n",
    "#AVG SENTENCE LENGTH\n",
    "AVG_SENTENCE_LENGTH = len(content.replace(' ',''))/len(re.split(r'[?!.]', content))\n",
    "print('Word average =', AVG_SENTENCE_LENGTH)\n",
    "import textstat\n",
    "#Fog index \n",
    "FOG_INDEX=(textstat.gunning_fog(content))\n",
    "print(\"FOG INDEX = \",FOG_INDEX)\n",
    "#Average No of Words Per Sentence \n",
    "AVG_NUMBER_OF_WORDS_PER_SENTENCE = [len(l.split()) for l in re.split(r'[?!.]', content) if l.strip()]\n",
    "print(\"Average no of words per sentence\")\n",
    "AVG_NUMBER_OF_WORDS_PER_SENTENCE=(sum(AVG_NUMBER_OF_WORDS_PER_SENTENCE)/len(AVG_NUMBER_OF_WORDS_PER_SENTENCE))\n",
    "print(AVG_NUMBER_OF_WORDS_PER_SENTENCE)\n",
    "#Complex words\n",
    "def syllable_count(word):\n",
    "    count = 0\n",
    "    vowels = \"AEIOUYaeiouy\"\n",
    "    if word[0] in vowels:\n",
    "        count += 1\n",
    "    for index in range(1, len(word)): \n",
    "        if word[index] in vowels and word[index - 1] not in vowels:\n",
    "            count += 1\n",
    "            if word.endswith(\"es\"or \"ed\"):\n",
    "                count -= 1\n",
    "    if count == 0:\n",
    "        count += 1\n",
    "    return count\n",
    "\n",
    "\n",
    "\n",
    "COMPLEX_WORDS=syllable_count(content)\n",
    "print(\"Complex Words\",COMPLEX_WORDS)\n",
    "#Word Count\n",
    "Word_Count=len(content)\n",
    "print(\"Word Count\",Word_Count)\n",
    "#Percentage Complex Words\n",
    "pcw=(COMPLEX_WORDS/Word_Count)*100\n",
    "print(\"Percentage of Complex Words\",pcw)\n",
    "#Average Word Length\n",
    "Average_Word_Length=len(content.replace(' ',''))/len(content.split())\n",
    "print(\"Average Word per Length\",Average_Word_Length)\n",
    "#Syllable Count Per Word\n",
    "word=content.replace(' ','')\n",
    "syllable_count=0\n",
    "for w in word:\n",
    "      if(w=='a' or w=='e' or w=='i' or w=='o' or w=='y' or w=='u' or w=='A' or w=='E' or w=='I' or w=='O' or w=='U' or w=='Y'):\n",
    "            syllable_count=syllable_count+1\n",
    "print(\"The AVG number of syllables in the word is: \")\n",
    "syllable = (syllable_count/len(content.split()))\n",
    "print(syllable)\n",
    "\n",
    "data = [[url,title,content,filter_content,Positive_score,Negative_score,AVG_SENTENCE_LENGTH,pcw,FOG_INDEX,\n",
    "         AVG_NUMBER_OF_WORDS_PER_SENTENCE,COMPLEX_WORDS,Word_Count,syllable,Average_Word_Length]]\n",
    "data=pd.DataFrame(data,columns=[\"url\",\"title\",\"content\",\"filter_content\",\"Positive_Score\",\"Negative_Score\",\"Avg_Sentence_Length\"\n",
    "                               ,\"Percentage_Complex_Word\",\"Fog_Index\",\" AVG_NUMBER_OF_WORDS_PER_SENTENCE\",\"COMPLEX_WORDS\",\n",
    "                               \"Word_Count\",\"syllable\",\"Average_Word_Length\"])\n",
    "from textblob import TextBlob\n",
    "# Get The Subjectivity\n",
    "def sentiment_analysis(data):\n",
    "    sentiment = TextBlob(data[\"content\"]).sentiment\n",
    "    return pd.Series([sentiment.polarity,sentiment.subjectivity ])\n",
    "data[[\"polarity\", \"subjectivity\"]] = data.apply(sentiment_analysis, axis=1)\n",
    "data"
   ]
  },
  {
   "cell_type": "code",
   "execution_count": 2,
   "id": "e4fa111c",
   "metadata": {},
   "outputs": [],
   "source": [
    "data.to_csv(r'C:\\Users\\Om Bhandwalkar\\Desktop\\BlackCoffer Assignment\\Output\\url_65.csv')"
   ]
  },
  {
   "cell_type": "code",
   "execution_count": null,
   "id": "39fceb08",
   "metadata": {},
   "outputs": [],
   "source": []
  }
 ],
 "metadata": {
  "kernelspec": {
   "display_name": "Python 3 (ipykernel)",
   "language": "python",
   "name": "python3"
  },
  "language_info": {
   "codemirror_mode": {
    "name": "ipython",
    "version": 3
   },
   "file_extension": ".py",
   "mimetype": "text/x-python",
   "name": "python",
   "nbconvert_exporter": "python",
   "pygments_lexer": "ipython3",
   "version": "3.9.12"
  }
 },
 "nbformat": 4,
 "nbformat_minor": 5
}
