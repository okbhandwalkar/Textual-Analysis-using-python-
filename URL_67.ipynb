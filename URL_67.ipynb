{
 "cells": [
  {
   "cell_type": "code",
   "execution_count": 1,
   "id": "f61178c4",
   "metadata": {},
   "outputs": [
    {
     "data": {
      "text/plain": [
       "'Can robots tackle late-life loneliness?'"
      ]
     },
     "execution_count": 1,
     "metadata": {},
     "output_type": "execute_result"
    }
   ],
   "source": [
    "import requests\n",
    "import pandas as pd \n",
    "from bs4 import BeautifulSoup\n",
    "import string\n",
    "import spacy\n",
    "import re\n",
    "url = \"\"\"https://insights.blackcoffer.com/can-robots-tackle-late-life-loneliness/\"\"\"\n",
    "headers = {\"User-Agent\": \"Mozilla/5.0 (X11; Linux x86_64; rv:60.0) Gecko/20100101 Firefox/60.0\"}\n",
    "page = requests.get(url, headers=headers)\n",
    "soup = BeautifulSoup(page.content, 'html.parser')\n",
    "soup=BeautifulSoup(page.content, 'html.parser')\n",
    "title=soup.find('h1',class_=\"entry-title\")\n",
    "title=title.text.replace('\\n',\" \")\n",
    "title\n"
   ]
  },
  {
   "cell_type": "code",
   "execution_count": 2,
   "id": "75377d95",
   "metadata": {},
   "outputs": [
    {
     "name": "stdout",
     "output_type": "stream",
     "text": [
      " In this era, everyone is busy in his life. No one spares time for someone. so robots tackle life loneliness? We have no time to stand and stare. This causes loneliness. Loneliness is due to fast-moving life and hurry and worry. In the 21st century, everyone is spending most of their time earning money. They are day-by-day transforming into money-earning machines. Due to his perception, we are losing our relations as we can’t give enough time to our families. They are busy earning their livelihood. They never get satisfies and always want more. Everyone is in a race of earning and then sends his children far away from himself to make them well settled in order to maintain their status. But one faces the consequences of this kind of lifestyle in his old age. People usually don’t spend time with their children when their children are in their childhood but they yearn for the company of their children in their old age. They feel lonely but have none to talk with. They are still attached to people, places, belongings, and memorable events from the past, although they understand that life cannot continue the same way as earlier, and this may easily result in feelings of loneliness and social isolation. As they become older, they need to be attended to in order to meet their daily needs. Robots can indeed serve the purpose but they can aid only mechanical care. They are just emotionless, feeling fewer entities. Robots aren’t creative. They can work only according to a pre-programmed system and till now no such software has been created that can transfer human feelings into robots. This is the major loophole of using robots to tackle late-life loneliness. They can undoubtedly serve their masters but their masters can’t share their feelings with them as they are incapable to understand or react to them. They can’t change their activity according to the occasion. They can provide anything except emotional satisfaction and without emotional gratification, loneliness can’t be tackled. A master can be attached to his robot but that attachment is only due to their service. They can’t share their thoughts with them. In this era, we are rendered lonely and in late- life feel the need for a companion with whom we can talk. We feel a need for someone who can listen to us, react, and advise us to tackle our day-to-day life problems. But we can’t find one. We have, undoubtedly, achieved great progress in terms of technology but we can never fill the void in the heart of a person struggling with his late-life loneliness with our advancements. We are in a kind of mental trance in which we experience fame, progress, wealth, etc. but when we gain our consciousness, we find ourselves lonely in this world. Relations in life are actual wealth in a person’s life. We can never enjoy such a bond with a robot. It will follow our commands, take our appropriate care but can’t react to our emotions. It can’t console us. When a man lives in loneliness for a long time, it eats up his conscience and transforms him into a machine. Robots can never become our friends, crack jokes, weep our tears, or establish an emotional connection with us. They can’t understand our feelings. Many people go into depression. Depression or the occurrence of depressive symptoms is a prominent condition amongst older people, with a significant impact on their well-being and quality of life. They remain sick and loneliness directly impacts longevity. Lonely people often think that they are no longer needed in this world and thus they want to die. It impacts their mental, psychological, social, and physical health. Robots prove to be useless in these matters. They can provide motivation, only if they have the software to do so but can’t, themselves, react to such a situation. They don’t know about anger, happiness, or sadness. They don’t themselves bring food when their master is hungry until commanded to do so. They can’t even offer a glass of water themselves. A man living without relations and without fellow feeling no longer remains a human being. He becomes none less than a machine as, due to his loneliness, he becomes mentally ill and goes into a condition like trauma where he no longer enjoys nature’s blessings, becomes happy or sad as he loses the ability to react and hence can’t act. It’s a dangerous situation. We face a plethora of challenges in assisted living facilities such as not being addressed to emotional needs, being neglected, and forcing a withdrawal from social activities. Relations in life, interaction with fellow beings, sharing of joy and happiness, and fellow feeling make a man from mere a ‘being’ to a ‘social being’ and finally a human being. Blackcoffer Insights 22: Ishatpreet Singh, IISER (Mohali) \n",
      " In this era everyone is busy in his life No one spares time for someone so robots tackle life loneliness We have no time to stand and stare This causes loneliness Loneliness is due to fastmoving life and hurry and worry In the 21st century everyone is spending most of their time earning money They are daybyday transforming into moneyearning machines Due to his perception we are losing our relations as we can’t give enough time to our families They are busy earning their livelihood They never get satisfies and always want more Everyone is in a race of earning and then sends his children far away from himself to make them well settled in order to maintain their status But one faces the consequences of this kind of lifestyle in his old age People usually don’t spend time with their children when their children are in their childhood but they yearn for the company of their children in their old age They feel lonely but have none to talk with They are still attached to people places belongings and memorable events from the past although they understand that life cannot continue the same way as earlier and this may easily result in feelings of loneliness and social isolation As they become older they need to be attended to in order to meet their daily needs Robots can indeed serve the purpose but they can aid only mechanical care They are just emotionless feeling fewer entities Robots aren’t creative They can work only according to a preprogrammed system and till now no such software has been created that can transfer human feelings into robots This is the major loophole of using robots to tackle latelife loneliness They can undoubtedly serve their masters but their masters can’t share their feelings with them as they are incapable to understand or react to them They can’t change their activity according to the occasion They can provide anything except emotional satisfaction and without emotional gratification loneliness can’t be tackled A master can be attached to his robot but that attachment is only due to their service They can’t share their thoughts with them In this era we are rendered lonely and in late life feel the need for a companion with whom we can talk We feel a need for someone who can listen to us react and advise us to tackle our daytoday life problems But we can’t find one We have undoubtedly achieved great progress in terms of technology but we can never fill the void in the heart of a person struggling with his latelife loneliness with our advancements We are in a kind of mental trance in which we experience fame progress wealth etc but when we gain our consciousness we find ourselves lonely in this world Relations in life are actual wealth in a person’s life We can never enjoy such a bond with a robot It will follow our commands take our appropriate care but can’t react to our emotions It can’t console us When a man lives in loneliness for a long time it eats up his conscience and transforms him into a machine Robots can never become our friends crack jokes weep our tears or establish an emotional connection with us They can’t understand our feelings Many people go into depression Depression or the occurrence of depressive symptoms is a prominent condition amongst older people with a significant impact on their wellbeing and quality of life They remain sick and loneliness directly impacts longevity Lonely people often think that they are no longer needed in this world and thus they want to die It impacts their mental psychological social and physical health Robots prove to be useless in these matters They can provide motivation only if they have the software to do so but can’t themselves react to such a situation They don’t know about anger happiness or sadness They don’t themselves bring food when their master is hungry until commanded to do so They can’t even offer a glass of water themselves A man living without relations and without fellow feeling no longer remains a human being He becomes none less than a machine as due to his loneliness he becomes mentally ill and goes into a condition like trauma where he no longer enjoys nature’s blessings becomes happy or sad as he loses the ability to react and hence can’t act It’s a dangerous situation We face a plethora of challenges in assisted living facilities such as not being addressed to emotional needs being neglected and forcing a withdrawal from social activities Relations in life interaction with fellow beings sharing of joy and happiness and fellow feeling make a man from mere a ‘being’ to a ‘social being’ and finally a human being Blackcoffer Insights 22 Ishatpreet Singh IISER Mohali \n",
      "['In', 'this', 'era', 'everyone', 'is', 'busy', 'in', 'his', 'life', 'No', 'one', 'spares', 'time', 'for', 'someone', 'so', 'robots', 'tackle', 'life', 'loneliness', 'We', 'have', 'no', 'time', 'to', 'stand', 'and', 'stare', 'This', 'causes', 'loneliness', 'Loneliness', 'is', 'due', 'to', 'fastmoving', 'life', 'and', 'hurry', 'and', 'worry', 'In', 'the', '21st', 'century', 'everyone', 'is', 'spending', 'most', 'of', 'their', 'time', 'earning', 'money', 'They', 'are', 'daybyday', 'transforming', 'into', 'moneyearning', 'machines', 'Due', 'to', 'his', 'perception', 'we', 'are', 'losing', 'our', 'relations', 'as', 'we', 'can’t', 'give', 'enough', 'time', 'to', 'our', 'families', 'They', 'are', 'busy', 'earning', 'their', 'livelihood', 'They', 'never', 'get', 'satisfies', 'and', 'always', 'want', 'more', 'Everyone', 'is', 'in', 'a', 'race', 'of', 'earning', 'and', 'then', 'sends', 'his', 'children', 'far', 'away', 'from', 'himself', 'to', 'make', 'them', 'well', 'settled', 'in', 'order', 'to', 'maintain', 'their', 'status', 'But', 'one', 'faces', 'the', 'consequences', 'of', 'this', 'kind', 'of', 'lifestyle', 'in', 'his', 'old', 'age', 'People', 'usually', 'don’t', 'spend', 'time', 'with', 'their', 'children', 'when', 'their', 'children', 'are', 'in', 'their', 'childhood', 'but', 'they', 'yearn', 'for', 'the', 'company', 'of', 'their', 'children', 'in', 'their', 'old', 'age', 'They', 'feel', 'lonely', 'but', 'have', 'none', 'to', 'talk', 'with', 'They', 'are', 'still', 'attached', 'to', 'people', 'places', 'belongings', 'and', 'memorable', 'events', 'from', 'the', 'past', 'although', 'they', 'understand', 'that', 'life', 'cannot', 'continue', 'the', 'same', 'way', 'as', 'earlier', 'and', 'this', 'may', 'easily', 'result', 'in', 'feelings', 'of', 'loneliness', 'and', 'social', 'isolation', 'As', 'they', 'become', 'older', 'they', 'need', 'to', 'be', 'attended', 'to', 'in', 'order', 'to', 'meet', 'their', 'daily', 'needs', 'Robots', 'can', 'indeed', 'serve', 'the', 'purpose', 'but', 'they', 'can', 'aid', 'only', 'mechanical', 'care', 'They', 'are', 'just', 'emotionless', 'feeling', 'fewer', 'entities', 'Robots', 'aren’t', 'creative', 'They', 'can', 'work', 'only', 'according', 'to', 'a', 'preprogrammed', 'system', 'and', 'till', 'now', 'no', 'such', 'software', 'has', 'been', 'created', 'that', 'can', 'transfer', 'human', 'feelings', 'into', 'robots', 'This', 'is', 'the', 'major', 'loophole', 'of', 'using', 'robots', 'to', 'tackle', 'latelife', 'loneliness', 'They', 'can', 'undoubtedly', 'serve', 'their', 'masters', 'but', 'their', 'masters', 'can’t', 'share', 'their', 'feelings', 'with', 'them', 'as', 'they', 'are', 'incapable', 'to', 'understand', 'or', 'react', 'to', 'them', 'They', 'can’t', 'change', 'their', 'activity', 'according', 'to', 'the', 'occasion', 'They', 'can', 'provide', 'anything', 'except', 'emotional', 'satisfaction', 'and', 'without', 'emotional', 'gratification', 'loneliness', 'can’t', 'be', 'tackled', 'A', 'master', 'can', 'be', 'attached', 'to', 'his', 'robot', 'but', 'that', 'attachment', 'is', 'only', 'due', 'to', 'their', 'service', 'They', 'can’t', 'share', 'their', 'thoughts', 'with', 'them', 'In', 'this', 'era', 'we', 'are', 'rendered', 'lonely', 'and', 'in', 'late', 'life', 'feel', 'the', 'need', 'for', 'a', 'companion', 'with', 'whom', 'we', 'can', 'talk', 'We', 'feel', 'a', 'need', 'for', 'someone', 'who', 'can', 'listen', 'to', 'us', 'react', 'and', 'advise', 'us', 'to', 'tackle', 'our', 'daytoday', 'life', 'problems', 'But', 'we', 'can’t', 'find', 'one', 'We', 'have', 'undoubtedly', 'achieved', 'great', 'progress', 'in', 'terms', 'of', 'technology', 'but', 'we', 'can', 'never', 'fill', 'the', 'void', 'in', 'the', 'heart', 'of', 'a', 'person', 'struggling', 'with', 'his', 'latelife', 'loneliness', 'with', 'our', 'advancements', 'We', 'are', 'in', 'a', 'kind', 'of', 'mental', 'trance', 'in', 'which', 'we', 'experience', 'fame', 'progress', 'wealth', 'etc', 'but', 'when', 'we', 'gain', 'our', 'consciousness', 'we', 'find', 'ourselves', 'lonely', 'in', 'this', 'world', 'Relations', 'in', 'life', 'are', 'actual', 'wealth', 'in', 'a', 'person’s', 'life', 'We', 'can', 'never', 'enjoy', 'such', 'a', 'bond', 'with', 'a', 'robot', 'It', 'will', 'follow', 'our', 'commands', 'take', 'our', 'appropriate', 'care', 'but', 'can’t', 'react', 'to', 'our', 'emotions', 'It', 'can’t', 'console', 'us', 'When', 'a', 'man', 'lives', 'in', 'loneliness', 'for', 'a', 'long', 'time', 'it', 'eats', 'up', 'his', 'conscience', 'and', 'transforms', 'him', 'into', 'a', 'machine', 'Robots', 'can', 'never', 'become', 'our', 'friends', 'crack', 'jokes', 'weep', 'our', 'tears', 'or', 'establish', 'an', 'emotional', 'connection', 'with', 'us', 'They', 'can’t', 'understand', 'our', 'feelings', 'Many', 'people', 'go', 'into', 'depression', 'Depression', 'or', 'the', 'occurrence', 'of', 'depressive', 'symptoms', 'is', 'a', 'prominent', 'condition', 'amongst', 'older', 'people', 'with', 'a', 'significant', 'impact', 'on', 'their', 'wellbeing', 'and', 'quality', 'of', 'life', 'They', 'remain', 'sick', 'and', 'loneliness', 'directly', 'impacts', 'longevity', 'Lonely', 'people', 'often', 'think', 'that', 'they', 'are', 'no', 'longer', 'needed', 'in', 'this', 'world', 'and', 'thus', 'they', 'want', 'to', 'die', 'It', 'impacts', 'their', 'mental', 'psychological', 'social', 'and', 'physical', 'health', 'Robots', 'prove', 'to', 'be', 'useless', 'in', 'these', 'matters', 'They', 'can', 'provide', 'motivation', 'only', 'if', 'they', 'have', 'the', 'software', 'to', 'do', 'so', 'but', 'can’t', 'themselves', 'react', 'to', 'such', 'a', 'situation', 'They', 'don’t', 'know', 'about', 'anger', 'happiness', 'or', 'sadness', 'They', 'don’t', 'themselves', 'bring', 'food', 'when', 'their', 'master', 'is', 'hungry', 'until', 'commanded', 'to', 'do', 'so', 'They', 'can’t', 'even', 'offer', 'a', 'glass', 'of', 'water', 'themselves', 'A', 'man', 'living', 'without', 'relations', 'and', 'without', 'fellow', 'feeling', 'no', 'longer', 'remains', 'a', 'human', 'being', 'He', 'becomes', 'none', 'less', 'than', 'a', 'machine', 'as', 'due', 'to', 'his', 'loneliness', 'he', 'becomes', 'mentally', 'ill', 'and', 'goes', 'into', 'a', 'condition', 'like', 'trauma', 'where', 'he', 'no', 'longer', 'enjoys', 'nature’s', 'blessings', 'becomes', 'happy', 'or', 'sad', 'as', 'he', 'loses', 'the', 'ability', 'to', 'react', 'and', 'hence', 'can’t', 'act', 'It’s', 'a', 'dangerous', 'situation', 'We', 'face', 'a', 'plethora', 'of', 'challenges', 'in', 'assisted', 'living', 'facilities', 'such', 'as', 'not', 'being', 'addressed', 'to', 'emotional', 'needs', 'being', 'neglected', 'and', 'forcing', 'a', 'withdrawal', 'from', 'social', 'activities', 'Relations', 'in', 'life', 'interaction', 'with', 'fellow', 'beings', 'sharing', 'of', 'joy', 'and', 'happiness', 'and', 'fellow', 'feeling', 'make', 'a', 'man', 'from', 'mere', 'a', '‘being’', 'to', 'a', '‘social', 'being’', 'and', 'finally', 'a', 'human', 'being', 'Blackcoffer', 'Insights', '22', 'Ishatpreet', 'Singh', 'IISER', 'Mohali']\n"
     ]
    }
   ],
   "source": [
    "content=soup.findAll(attrs={'class':'td-post-content'})\n",
    "content=content[0].text.replace('\\n',\" \")\n",
    "print(content)\n",
    "#Punctuation\n",
    "content = content.translate(str.maketrans('', '', string.punctuation)) \n",
    "print(content)\n",
    "text = content.split()\n",
    "print(text)\n"
   ]
  },
  {
   "cell_type": "code",
   "execution_count": 3,
   "id": "24e6038f",
   "metadata": {},
   "outputs": [
    {
     "data": {
      "text/plain": [
       "806"
      ]
     },
     "execution_count": 3,
     "metadata": {},
     "output_type": "execute_result"
    }
   ],
   "source": [
    "len(text)"
   ]
  },
  {
   "cell_type": "code",
   "execution_count": 4,
   "id": "71568e48",
   "metadata": {},
   "outputs": [
    {
     "name": "stdout",
     "output_type": "stream",
     "text": [
      "27\n"
     ]
    }
   ],
   "source": [
    "#Positive Score \n",
    "with open(r\"C:\\Users\\Om Bhandwalkar\\Desktop\\pos\\positive-words.txt\") as pos:\n",
    "    poswords = pos.read().split(\"\\n\")  \n",
    "    poswords = poswords[5:]\n",
    "pos_count = \" \".join ([w for w in text if w in poswords])\n",
    "pos_count=pos_count.split(\" \")\n",
    "Positive_score=len(pos_count)\n",
    "print(Positive_score)"
   ]
  },
  {
   "cell_type": "code",
   "execution_count": 5,
   "id": "8c100aa6",
   "metadata": {},
   "outputs": [
    {
     "name": "stdout",
     "output_type": "stream",
     "text": [
      "33\n"
     ]
    }
   ],
   "source": [
    "#Negative Score\n",
    "with open(r\"C:\\Users\\Om Bhandwalkar\\Desktop\\pos\\negative-words.txt\",encoding =\"ISO-8859-1\") as neg:\n",
    "    negwords = neg.read().split(\"\\n\")\n",
    "    \n",
    "negwords = negwords[36:]\n",
    "neg_count = \" \".join ([w for w in text if w in negwords])\n",
    "neg_count=neg_count.split(\" \")\n",
    "Negative_score=len(neg_count)\n",
    "print(Negative_score)"
   ]
  },
  {
   "cell_type": "code",
   "execution_count": 6,
   "id": "79147c68",
   "metadata": {},
   "outputs": [
    {
     "data": {
      "text/html": [
       "<div>\n",
       "<style scoped>\n",
       "    .dataframe tbody tr th:only-of-type {\n",
       "        vertical-align: middle;\n",
       "    }\n",
       "\n",
       "    .dataframe tbody tr th {\n",
       "        vertical-align: top;\n",
       "    }\n",
       "\n",
       "    .dataframe thead th {\n",
       "        text-align: right;\n",
       "    }\n",
       "</style>\n",
       "<table border=\"1\" class=\"dataframe\">\n",
       "  <thead>\n",
       "    <tr style=\"text-align: right;\">\n",
       "      <th></th>\n",
       "      <th>url</th>\n",
       "      <th>title</th>\n",
       "      <th>content</th>\n",
       "      <th>filter_content</th>\n",
       "      <th>Positive_Score</th>\n",
       "      <th>Negative_Score</th>\n",
       "      <th>polarity</th>\n",
       "      <th>subjectivity</th>\n",
       "    </tr>\n",
       "  </thead>\n",
       "  <tbody>\n",
       "    <tr>\n",
       "      <th>0</th>\n",
       "      <td>https://insights.blackcoffer.com/can-robots-ta...</td>\n",
       "      <td>Can robots tackle late-life loneliness?</td>\n",
       "      <td>In this era everyone is busy in his life No o...</td>\n",
       "      <td>In this era everyone is busy in his life No on...</td>\n",
       "      <td>27</td>\n",
       "      <td>33</td>\n",
       "      <td>0.050086</td>\n",
       "      <td>0.48136</td>\n",
       "    </tr>\n",
       "  </tbody>\n",
       "</table>\n",
       "</div>"
      ],
      "text/plain": [
       "                                                 url  \\\n",
       "0  https://insights.blackcoffer.com/can-robots-ta...   \n",
       "\n",
       "                                     title  \\\n",
       "0  Can robots tackle late-life loneliness?   \n",
       "\n",
       "                                             content  \\\n",
       "0   In this era everyone is busy in his life No o...   \n",
       "\n",
       "                                      filter_content  Positive_Score  \\\n",
       "0  In this era everyone is busy in his life No on...              27   \n",
       "\n",
       "   Negative_Score  polarity  subjectivity  \n",
       "0              33  0.050086       0.48136  "
      ]
     },
     "execution_count": 6,
     "metadata": {},
     "output_type": "execute_result"
    }
   ],
   "source": [
    "filter_content = ' '.join(text)\n",
    "data=[[url,title,content,filter_content,Positive_score,Negative_score]]\n",
    "data=pd.DataFrame(data,columns=[\"url\",\"title\",\"content\",\"filter_content\",\"Positive_Score\",\"Negative_Score\"])\n",
    "from textblob import TextBlob\n",
    "# Get The Subjectivity\n",
    "def sentiment_analysis(data):\n",
    "    sentiment = TextBlob(data[\"content\"]).sentiment\n",
    "    return pd.Series([sentiment.polarity,sentiment.subjectivity ])\n",
    "\n",
    "# Adding Subjectivity & Polarity\n",
    "data[[\"polarity\", \"subjectivity\"]] = data.apply(sentiment_analysis, axis=1)\n",
    "\n",
    "data"
   ]
  },
  {
   "cell_type": "code",
   "execution_count": 7,
   "id": "abf4d06b",
   "metadata": {},
   "outputs": [
    {
     "name": "stdout",
     "output_type": "stream",
     "text": [
      "Word average = 3836.0\n",
      "FOG INDEX =  325.68\n",
      "Average no of words per sentence\n",
      "806.0\n",
      "Complex Words 1348\n"
     ]
    }
   ],
   "source": [
    "#AVG SENTENCE LENGTH\n",
    "AVG_SENTENCE_LENGTH = len(content.replace(' ',''))/len(re.split(r'[?!.]', content))\n",
    "print('Word average =', AVG_SENTENCE_LENGTH)\n",
    "import textstat\n",
    "#Fog index \n",
    "FOG_INDEX=(textstat.gunning_fog(content))\n",
    "print(\"FOG INDEX = \",FOG_INDEX)\n",
    "#Average No of Words Per Sentence \n",
    "AVG_NUMBER_OF_WORDS_PER_SENTENCE = [len(l.split()) for l in re.split(r'[?!.]', content) if l.strip()]\n",
    "print(\"Average no of words per sentence\")\n",
    "AVG_NUMBER_OF_WORDS_PER_SENTENCE=print(sum(AVG_NUMBER_OF_WORDS_PER_SENTENCE)/len(AVG_NUMBER_OF_WORDS_PER_SENTENCE))\n",
    "#Complex words\n",
    "def syllable_count(word):\n",
    "    count = 0\n",
    "    vowels = \"AEIOUYaeiouy\"\n",
    "    if word[0] in vowels:\n",
    "        count += 1\n",
    "    for index in range(1, len(word)): \n",
    "        if word[index] in vowels and word[index - 1] not in vowels:\n",
    "            count += 1\n",
    "            if word.endswith(\"es\"or \"ed\"):\n",
    "                count -= 1\n",
    "    if count == 0:\n",
    "        count += 1\n",
    "    return count\n",
    "\n",
    "\n",
    "\n",
    "COMPLEX_WORDS=syllable_count(content)\n",
    "print(\"Complex Words\",COMPLEX_WORDS)\n"
   ]
  },
  {
   "cell_type": "code",
   "execution_count": 8,
   "id": "7cbd130f",
   "metadata": {},
   "outputs": [
    {
     "name": "stdout",
     "output_type": "stream",
     "text": [
      "Word Count 4643\n",
      "Percentage of Complex Words 29.03295283222055\n",
      "Average Word per Length 4.759305210918114\n",
      "The AVG number of syllables in the word is: \n",
      "1.93424317617866\n"
     ]
    }
   ],
   "source": [
    "#Word Count\n",
    "Word_Count=len(content)\n",
    "print(\"Word Count\",Word_Count)\n",
    "#Percentage Complex Words\n",
    "pcw=(COMPLEX_WORDS/Word_Count)*100\n",
    "print(\"Percentage of Complex Words\",pcw)\n",
    "#Average Word Length\n",
    "Average_Word_Length=len(content.replace(' ',''))/len(content.split())\n",
    "print(\"Average Word per Length\",Average_Word_Length)\n",
    "#Syllable Count Per Word\n",
    "word=content.replace(' ','')\n",
    "syllable_count=0\n",
    "for w in word:\n",
    "      if(w=='a' or w=='e' or w=='i' or w=='o' or w=='y' or w=='u' or w=='A' or w=='E' or w=='I' or w=='O' or w=='U' or w=='Y'):\n",
    "            syllable_count=syllable_count+1\n",
    "print(\"The AVG number of syllables in the word is: \")\n",
    "print(syllable_count/len(content.split()))"
   ]
  },
  {
   "cell_type": "code",
   "execution_count": 1,
   "id": "78505069",
   "metadata": {},
   "outputs": [
    {
     "name": "stdout",
     "output_type": "stream",
     "text": [
      "27\n",
      "33\n",
      "Word average = 3836.0\n",
      "FOG INDEX =  325.68\n",
      "Average no of words per sentence\n",
      "806.0\n",
      "Complex Words 1348\n",
      "Word Count 4643\n",
      "Percentage of Complex Words 29.03295283222055\n",
      "Average Word per Length 4.759305210918114\n",
      "The AVG number of syllables in the word is: \n",
      "1.93424317617866\n"
     ]
    },
    {
     "data": {
      "text/html": [
       "<div>\n",
       "<style scoped>\n",
       "    .dataframe tbody tr th:only-of-type {\n",
       "        vertical-align: middle;\n",
       "    }\n",
       "\n",
       "    .dataframe tbody tr th {\n",
       "        vertical-align: top;\n",
       "    }\n",
       "\n",
       "    .dataframe thead th {\n",
       "        text-align: right;\n",
       "    }\n",
       "</style>\n",
       "<table border=\"1\" class=\"dataframe\">\n",
       "  <thead>\n",
       "    <tr style=\"text-align: right;\">\n",
       "      <th></th>\n",
       "      <th>url</th>\n",
       "      <th>title</th>\n",
       "      <th>content</th>\n",
       "      <th>filter_content</th>\n",
       "      <th>Positive_Score</th>\n",
       "      <th>Negative_Score</th>\n",
       "      <th>Avg_Sentence_Length</th>\n",
       "      <th>Percentage_Complex_Word</th>\n",
       "      <th>Fog_Index</th>\n",
       "      <th>AVG_NUMBER_OF_WORDS_PER_SENTENCE</th>\n",
       "      <th>COMPLEX_WORDS</th>\n",
       "      <th>Word_Count</th>\n",
       "      <th>syllable</th>\n",
       "      <th>Average_Word_Length</th>\n",
       "      <th>polarity</th>\n",
       "      <th>subjectivity</th>\n",
       "    </tr>\n",
       "  </thead>\n",
       "  <tbody>\n",
       "    <tr>\n",
       "      <th>0</th>\n",
       "      <td>https://insights.blackcoffer.com/can-robots-ta...</td>\n",
       "      <td>Can robots tackle late-life loneliness?</td>\n",
       "      <td>In this era everyone is busy in his life No o...</td>\n",
       "      <td>In this era everyone is busy in his life No on...</td>\n",
       "      <td>27</td>\n",
       "      <td>33</td>\n",
       "      <td>3836.0</td>\n",
       "      <td>29.032953</td>\n",
       "      <td>325.68</td>\n",
       "      <td>806.0</td>\n",
       "      <td>1348</td>\n",
       "      <td>4643</td>\n",
       "      <td>1.934243</td>\n",
       "      <td>4.759305</td>\n",
       "      <td>0.050086</td>\n",
       "      <td>0.48136</td>\n",
       "    </tr>\n",
       "  </tbody>\n",
       "</table>\n",
       "</div>"
      ],
      "text/plain": [
       "                                                 url  \\\n",
       "0  https://insights.blackcoffer.com/can-robots-ta...   \n",
       "\n",
       "                                     title  \\\n",
       "0  Can robots tackle late-life loneliness?   \n",
       "\n",
       "                                             content  \\\n",
       "0   In this era everyone is busy in his life No o...   \n",
       "\n",
       "                                      filter_content  Positive_Score  \\\n",
       "0  In this era everyone is busy in his life No on...              27   \n",
       "\n",
       "   Negative_Score  Avg_Sentence_Length  Percentage_Complex_Word  Fog_Index  \\\n",
       "0              33               3836.0                29.032953     325.68   \n",
       "\n",
       "    AVG_NUMBER_OF_WORDS_PER_SENTENCE  COMPLEX_WORDS  Word_Count  syllable  \\\n",
       "0                              806.0           1348        4643  1.934243   \n",
       "\n",
       "   Average_Word_Length  polarity  subjectivity  \n",
       "0             4.759305  0.050086       0.48136  "
      ]
     },
     "execution_count": 1,
     "metadata": {},
     "output_type": "execute_result"
    }
   ],
   "source": [
    "import requests\n",
    "import pandas as pd \n",
    "from bs4 import BeautifulSoup\n",
    "import string\n",
    "import spacy\n",
    "import re\n",
    "url = \"\"\"https://insights.blackcoffer.com/can-robots-tackle-late-life-loneliness/\"\"\"\n",
    "headers = {\"User-Agent\": \"Mozilla/5.0 (X11; Linux x86_64; rv:60.0) Gecko/20100101 Firefox/60.0\"}\n",
    "page = requests.get(url, headers=headers)\n",
    "soup = BeautifulSoup(page.content, 'html.parser')\n",
    "soup=BeautifulSoup(page.content, 'html.parser')\n",
    "title=soup.find('h1',class_=\"entry-title\")\n",
    "title=title.text.replace('\\n',\" \")\n",
    "# title\n",
    "\n",
    "content=soup.findAll(attrs={'class':'td-post-content'})\n",
    "content=content[0].text.replace('\\n',\" \")\n",
    "# print(content)\n",
    "#Punctuation\n",
    "content = content.translate(str.maketrans('', '', string.punctuation)) \n",
    "# print(content)\n",
    "text = content.split()\n",
    "# print(text)\n",
    "len(text)\n",
    "#Positive Score \n",
    "with open(r\"C:\\Users\\Om Bhandwalkar\\Desktop\\pos\\positive-words.txt\") as pos:\n",
    "    poswords = pos.read().split(\"\\n\")  \n",
    "    poswords = poswords[5:]\n",
    "pos_count = \" \".join ([w for w in text if w in poswords])\n",
    "pos_count=pos_count.split(\" \")\n",
    "Positive_score=len(pos_count)\n",
    "print(Positive_score)\n",
    "\n",
    "#Negative Score\n",
    "with open(r\"C:\\Users\\Om Bhandwalkar\\Desktop\\pos\\negative-words.txt\",encoding =\"ISO-8859-1\") as neg:\n",
    "    negwords = neg.read().split(\"\\n\")\n",
    "    \n",
    "negwords = negwords[36:]\n",
    "neg_count = \" \".join ([w for w in text if w in negwords])\n",
    "neg_count=neg_count.split(\" \")\n",
    "Negative_score=len(neg_count)\n",
    "print(Negative_score)\n",
    "\n",
    "\n",
    "filter_content = ' '.join(text)\n",
    "data=[[url,title,content,filter_content,Positive_score,Negative_score]]\n",
    "data=pd.DataFrame(data,columns=[\"url\",\"title\",\"content\",\"filter_content\",\"Positive_Score\",\"Negative_Score\"])\n",
    "from textblob import TextBlob\n",
    "# Get The Subjectivity\n",
    "def sentiment_analysis(data):\n",
    "    sentiment = TextBlob(data[\"content\"]).sentiment\n",
    "    return pd.Series([sentiment.polarity,sentiment.subjectivity ])\n",
    "data[[\"polarity\", \"subjectivity\"]] = data.apply(sentiment_analysis, axis=1)\n",
    "data\n",
    "#AVG SENTENCE LENGTH\n",
    "AVG_SENTENCE_LENGTH = len(content.replace(' ',''))/len(re.split(r'[?!.]', content))\n",
    "print('Word average =', AVG_SENTENCE_LENGTH)\n",
    "import textstat\n",
    "#Fog index \n",
    "FOG_INDEX=(textstat.gunning_fog(content))\n",
    "print(\"FOG INDEX = \",FOG_INDEX)\n",
    "#Average No of Words Per Sentence \n",
    "AVG_NUMBER_OF_WORDS_PER_SENTENCE = [len(l.split()) for l in re.split(r'[?!.]', content) if l.strip()]\n",
    "print(\"Average no of words per sentence\")\n",
    "AVG_NUMBER_OF_WORDS_PER_SENTENCE=(sum(AVG_NUMBER_OF_WORDS_PER_SENTENCE)/len(AVG_NUMBER_OF_WORDS_PER_SENTENCE))\n",
    "print(AVG_NUMBER_OF_WORDS_PER_SENTENCE)\n",
    "#Complex words\n",
    "def syllable_count(word):\n",
    "    count = 0\n",
    "    vowels = \"AEIOUYaeiouy\"\n",
    "    if word[0] in vowels:\n",
    "        count += 1\n",
    "    for index in range(1, len(word)): \n",
    "        if word[index] in vowels and word[index - 1] not in vowels:\n",
    "            count += 1\n",
    "            if word.endswith(\"es\"or \"ed\"):\n",
    "                count -= 1\n",
    "    if count == 0:\n",
    "        count += 1\n",
    "    return count\n",
    "\n",
    "\n",
    "\n",
    "COMPLEX_WORDS=syllable_count(content)\n",
    "print(\"Complex Words\",COMPLEX_WORDS)\n",
    "#Word Count\n",
    "Word_Count=len(content)\n",
    "print(\"Word Count\",Word_Count)\n",
    "#Percentage Complex Words\n",
    "pcw=(COMPLEX_WORDS/Word_Count)*100\n",
    "print(\"Percentage of Complex Words\",pcw)\n",
    "#Average Word Length\n",
    "Average_Word_Length=len(content.replace(' ',''))/len(content.split())\n",
    "print(\"Average Word per Length\",Average_Word_Length)\n",
    "#Syllable Count Per Word\n",
    "word=content.replace(' ','')\n",
    "syllable_count=0\n",
    "for w in word:\n",
    "      if(w=='a' or w=='e' or w=='i' or w=='o' or w=='y' or w=='u' or w=='A' or w=='E' or w=='I' or w=='O' or w=='U' or w=='Y'):\n",
    "            syllable_count=syllable_count+1\n",
    "print(\"The AVG number of syllables in the word is: \")\n",
    "syllable = (syllable_count/len(content.split()))\n",
    "print(syllable)\n",
    "\n",
    "data = [[url,title,content,filter_content,Positive_score,Negative_score,AVG_SENTENCE_LENGTH,pcw,FOG_INDEX,\n",
    "         AVG_NUMBER_OF_WORDS_PER_SENTENCE,COMPLEX_WORDS,Word_Count,syllable,Average_Word_Length]]\n",
    "data=pd.DataFrame(data,columns=[\"url\",\"title\",\"content\",\"filter_content\",\"Positive_Score\",\"Negative_Score\",\"Avg_Sentence_Length\"\n",
    "                               ,\"Percentage_Complex_Word\",\"Fog_Index\",\" AVG_NUMBER_OF_WORDS_PER_SENTENCE\",\"COMPLEX_WORDS\",\n",
    "                               \"Word_Count\",\"syllable\",\"Average_Word_Length\"])\n",
    "from textblob import TextBlob\n",
    "# Get The Subjectivity\n",
    "def sentiment_analysis(data):\n",
    "    sentiment = TextBlob(data[\"content\"]).sentiment\n",
    "    return pd.Series([sentiment.polarity,sentiment.subjectivity ])\n",
    "data[[\"polarity\", \"subjectivity\"]] = data.apply(sentiment_analysis, axis=1)\n",
    "data"
   ]
  },
  {
   "cell_type": "code",
   "execution_count": 2,
   "id": "e983bcdd",
   "metadata": {},
   "outputs": [],
   "source": [
    "data.to_csv(r'C:\\Users\\Om Bhandwalkar\\Desktop\\BlackCoffer Assignment\\Output\\url_67.csv')"
   ]
  },
  {
   "cell_type": "code",
   "execution_count": null,
   "id": "55564a28",
   "metadata": {},
   "outputs": [],
   "source": []
  }
 ],
 "metadata": {
  "kernelspec": {
   "display_name": "Python 3 (ipykernel)",
   "language": "python",
   "name": "python3"
  },
  "language_info": {
   "codemirror_mode": {
    "name": "ipython",
    "version": 3
   },
   "file_extension": ".py",
   "mimetype": "text/x-python",
   "name": "python",
   "nbconvert_exporter": "python",
   "pygments_lexer": "ipython3",
   "version": "3.9.12"
  }
 },
 "nbformat": 4,
 "nbformat_minor": 5
}
