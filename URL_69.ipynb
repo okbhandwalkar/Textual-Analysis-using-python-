{
 "cells": [
  {
   "cell_type": "code",
   "execution_count": 1,
   "id": "2302b711",
   "metadata": {},
   "outputs": [
    {
     "data": {
      "text/plain": [
       "'Management challenges for future digitalization of healthcare services'"
      ]
     },
     "execution_count": 1,
     "metadata": {},
     "output_type": "execute_result"
    }
   ],
   "source": [
    "import requests\n",
    "import pandas as pd \n",
    "from bs4 import BeautifulSoup\n",
    "import string\n",
    "import spacy\n",
    "import re\n",
    "url = \"\"\"https://insights.blackcoffer.com/management-challenges-for-future-digitalization-of-healthcare-services/\"\"\"\n",
    "headers = {\"User-Agent\": \"Mozilla/5.0 (X11; Linux x86_64; rv:60.0) Gecko/20100101 Firefox/60.0\"}\n",
    "page = requests.get(url, headers=headers)\n",
    "soup = BeautifulSoup(page.content, 'html.parser')\n",
    "soup=BeautifulSoup(page.content, 'html.parser')\n",
    "title=soup.find('h1',class_=\"entry-title\")\n",
    "title=title.text.replace('\\n',\" \")\n",
    "title\n"
   ]
  },
  {
   "cell_type": "code",
   "execution_count": 2,
   "id": "95d5a0e0",
   "metadata": {},
   "outputs": [
    {
     "name": "stdout",
     "output_type": "stream",
     "text": [
      " Management acts as a guide to a group of people working in the organization and coordinating their efforts, towards the attainment of the common objective.Management challenges for future digitalization of healthcare services CHARACTERISTICS for future digitalization of healthcare  Universal: All organizations, whether it is profit-making or not, require management, for managing their activities. Hence it is universal in nature. Goal-Oriented: Every organization is set up with a predetermined objective and management helps in reaching those goals timely, and smoothly. Continuous Process: It is an ongoing process that tends to persist as long as the organization exists. It is required in every sphere of the organization whether it is production, human resource, finance, or marketing. Multi-dimensional: Management is not confined to the administration of people only, but it also manages work, processes, and operations, which makes it a multi-disciplinary activity. Group activity: An organization consists of various members who have different needs, expectations, and beliefs. Every person joins the organization with a different motive, but after becoming a part of the organization they work for achieving the same goal. It requires supervision, teamwork, and coordination, and in this way, management comes into the picture.  LEVELS OF MANAGEMENT  Top-Level Management: This is the highest level in the organizational hierarchy, which includes the Board of Directors and Chief Executives. They are responsible for defining the objectives, formulating plans, strategies, and policies. Middle-Level Management: It is the second and most important level in the corporate ladder, as it creates a link between the top and lower-level management. It includes departmental and division heads and managers who are responsible for implementing and controlling plans and strategies which are formulated by the top executives. Lower Level Management: Otherwise called functional or operational level management. It includes first-line managers, foremen, supervisors. As lower-level management directly interacts with the workers, it plays a crucial role in the organization because it helps in reducing wastage and idle time of the workers, improving the quality and quantity of output.  future digitalization of healthcare     In the current day and age, a wave of digitization has taken over the world. All the emerging technologies like Artificial Intelligence and others are helping people live better and easier life. The service sector has also benefited a lot from digitization. It got further boost when Prime Minister Narendra Modi, in the year 2015, launched a campaign known as ‘Digital India.’ Among the various industries in the service sector, digitization has had a massive impact on the operation of the healthcare and diagnostic industry. It has helped in the development of this industry and enhances life for millions of people. The condition of India in terms of healthcare has been quite grim. Patients who need attention are neglected and are unable to avail proper treatment or diagnosis. However, with the coming up of digitization, there has been hoped for this industry also. According to Dr. Keshab Panda, CEO & MD, L&T Technology Services,  there are three trends emerging in the healthcare and diagnostics ecosystem as a result of digitization. 1. Value-based healthcare This is a model of healthcare where doctors and hospitals are paid based on patient health outcomes. The coming up of digital tools in this segment of healthcare can be considered as the starting tool. Dr. Panda further says that the implementation of advanced digital technologies in patient-care domains like- mobile health apps, telehealth, wearables, and remote monitoring can help in enhancing accessibility, boost efficiency and augment the effectiveness of treatment and preventive care. 2. New product development The healthcare industry over the past few decades has changed drastically. With the coming of emerging technologies, new surgical procedures and medical devices have been made available. 3. Connectivity While talking about connectivity in healthcare, Dr. Panda said that with digitization taking over the industry, it is only a matter of time when with the help of the internet and smartphones, digital healthcare will be everywhere. The internet for once has helped doctors connect to their patients and also with one another. This has helped in enhancing the doctor-patient engagement by increasing their interaction time. Big data aggregates information about a business through formats such as social media, eCommerce, online transactions, and financial transactions, and identifies patterns and trends for future use. For the healthcare industry, big data can provide several important benefits, including:  Lower rate of medication errors – through patient record analysis, the software can flag any inconsistencies between a patient’s health and drug prescriptions, alerting health professionals and patients when there is a potential risk of a medication error. Facilitating Preventive Care – a high volume of people stepping into emergency rooms are recurring patients also called “frequent flyers.” They can account for up to 28% of visits. Big data analysis could identify these people and create preventive plans to keep them from returning. More Accurate Staffing – big data’s predictive analysis could help hospitals and clinics estimate future admission rates, which helps these facilities allocate the proper staff to deal with patients. This saves money and reduces emergency room wait times when a facility is understaffed.  Challenges  for future digitalization of healthcare  1. Cybersecurity Although ransomware, data breaches, and other cybersecurity concerns are nothing new to the healthcare industry, the 2020 Covid-19 pandemic revealed just how vulnerable sensitive patient health information really is. The recent growth of digital health initiatives- like telehealth doctor visits — is a major contributor to the severe increase in breached patient records. As more healthcare functions continue to move online over the next year, it’s extremely important to ensure these processes are protected from outside threats. 2. Invoicing and Payment Processing: Medical practices are citing patient collections as their top revenue cycle management struggle as patients are becoming responsible for a larger portion of their medical bills. In order to help encourage patients to submit payments in a timely manner, providers must adhere to patient payment preferences. To meet patient expectations and improve the user experience, ensure billing statements are patient-friendly. You should offer paperless statements and a variety of payment options (e.g. credit card, etc.) via an online patient portal and utilize the latest payment technologies, such as mobile and text-to-pay. New features like text or email reminders help effectively communicate with patients and encourage them to pay their financial obligations. 3. Patient Experience The medical insurance landscape has experienced some significant changes in recent years. As more patients are responsible for a larger portion of their healthcare bill, they naturally demand better services from their providers. Healthcare organizations will face tougher competition in attracting and retaining patients who demand an experience that matches the level of customer service they expect from other consumer brands. They demand a streamlined patient experience so they can “self-service” to resolve most questions, issues, or concerns (e.g., downloading an immunization record, booking an appointment, paying their bills, or checking their account/insurance status) whenever, wherever, and however is most convenient for them. Blackcoffer Insights 22: PRIYAM VERMA AND RIYA MALIK \n",
      " Management acts as a guide to a group of people working in the organization and coordinating their efforts towards the attainment of the common objectiveManagement challenges for future digitalization of healthcare services CHARACTERISTICS for future digitalization of healthcare  Universal All organizations whether it is profitmaking or not require management for managing their activities Hence it is universal in nature GoalOriented Every organization is set up with a predetermined objective and management helps in reaching those goals timely and smoothly Continuous Process It is an ongoing process that tends to persist as long as the organization exists It is required in every sphere of the organization whether it is production human resource finance or marketing Multidimensional Management is not confined to the administration of people only but it also manages work processes and operations which makes it a multidisciplinary activity Group activity An organization consists of various members who have different needs expectations and beliefs Every person joins the organization with a different motive but after becoming a part of the organization they work for achieving the same goal It requires supervision teamwork and coordination and in this way management comes into the picture  LEVELS OF MANAGEMENT  TopLevel Management This is the highest level in the organizational hierarchy which includes the Board of Directors and Chief Executives They are responsible for defining the objectives formulating plans strategies and policies MiddleLevel Management It is the second and most important level in the corporate ladder as it creates a link between the top and lowerlevel management It includes departmental and division heads and managers who are responsible for implementing and controlling plans and strategies which are formulated by the top executives Lower Level Management Otherwise called functional or operational level management It includes firstline managers foremen supervisors As lowerlevel management directly interacts with the workers it plays a crucial role in the organization because it helps in reducing wastage and idle time of the workers improving the quality and quantity of output  future digitalization of healthcare     In the current day and age a wave of digitization has taken over the world All the emerging technologies like Artificial Intelligence and others are helping people live better and easier life The service sector has also benefited a lot from digitization It got further boost when Prime Minister Narendra Modi in the year 2015 launched a campaign known as ‘Digital India’ Among the various industries in the service sector digitization has had a massive impact on the operation of the healthcare and diagnostic industry It has helped in the development of this industry and enhances life for millions of people The condition of India in terms of healthcare has been quite grim Patients who need attention are neglected and are unable to avail proper treatment or diagnosis However with the coming up of digitization there has been hoped for this industry also According to Dr Keshab Panda CEO  MD LT Technology Services  there are three trends emerging in the healthcare and diagnostics ecosystem as a result of digitization 1 Valuebased healthcare This is a model of healthcare where doctors and hospitals are paid based on patient health outcomes The coming up of digital tools in this segment of healthcare can be considered as the starting tool Dr Panda further says that the implementation of advanced digital technologies in patientcare domains like mobile health apps telehealth wearables and remote monitoring can help in enhancing accessibility boost efficiency and augment the effectiveness of treatment and preventive care 2 New product development The healthcare industry over the past few decades has changed drastically With the coming of emerging technologies new surgical procedures and medical devices have been made available 3 Connectivity While talking about connectivity in healthcare Dr Panda said that with digitization taking over the industry it is only a matter of time when with the help of the internet and smartphones digital healthcare will be everywhere The internet for once has helped doctors connect to their patients and also with one another This has helped in enhancing the doctorpatient engagement by increasing their interaction time Big data aggregates information about a business through formats such as social media eCommerce online transactions and financial transactions and identifies patterns and trends for future use For the healthcare industry big data can provide several important benefits including  Lower rate of medication errors – through patient record analysis the software can flag any inconsistencies between a patient’s health and drug prescriptions alerting health professionals and patients when there is a potential risk of a medication error Facilitating Preventive Care – a high volume of people stepping into emergency rooms are recurring patients also called “frequent flyers” They can account for up to 28 of visits Big data analysis could identify these people and create preventive plans to keep them from returning More Accurate Staffing – big data’s predictive analysis could help hospitals and clinics estimate future admission rates which helps these facilities allocate the proper staff to deal with patients This saves money and reduces emergency room wait times when a facility is understaffed  Challenges  for future digitalization of healthcare  1 Cybersecurity Although ransomware data breaches and other cybersecurity concerns are nothing new to the healthcare industry the 2020 Covid19 pandemic revealed just how vulnerable sensitive patient health information really is The recent growth of digital health initiatives like telehealth doctor visits — is a major contributor to the severe increase in breached patient records As more healthcare functions continue to move online over the next year it’s extremely important to ensure these processes are protected from outside threats 2 Invoicing and Payment Processing Medical practices are citing patient collections as their top revenue cycle management struggle as patients are becoming responsible for a larger portion of their medical bills In order to help encourage patients to submit payments in a timely manner providers must adhere to patient payment preferences To meet patient expectations and improve the user experience ensure billing statements are patientfriendly You should offer paperless statements and a variety of payment options eg credit card etc via an online patient portal and utilize the latest payment technologies such as mobile and texttopay New features like text or email reminders help effectively communicate with patients and encourage them to pay their financial obligations 3 Patient Experience The medical insurance landscape has experienced some significant changes in recent years As more patients are responsible for a larger portion of their healthcare bill they naturally demand better services from their providers Healthcare organizations will face tougher competition in attracting and retaining patients who demand an experience that matches the level of customer service they expect from other consumer brands They demand a streamlined patient experience so they can “selfservice” to resolve most questions issues or concerns eg downloading an immunization record booking an appointment paying their bills or checking their accountinsurance status whenever wherever and however is most convenient for them Blackcoffer Insights 22 PRIYAM VERMA AND RIYA MALIK \n",
      "['Management', 'acts', 'as', 'a', 'guide', 'to', 'a', 'group', 'of', 'people', 'working', 'in', 'the', 'organization', 'and', 'coordinating', 'their', 'efforts', 'towards', 'the', 'attainment', 'of', 'the', 'common', 'objectiveManagement', 'challenges', 'for', 'future', 'digitalization', 'of', 'healthcare', 'services', 'CHARACTERISTICS', 'for', 'future', 'digitalization', 'of', 'healthcare', 'Universal', 'All', 'organizations', 'whether', 'it', 'is', 'profitmaking', 'or', 'not', 'require', 'management', 'for', 'managing', 'their', 'activities', 'Hence', 'it', 'is', 'universal', 'in', 'nature', 'GoalOriented', 'Every', 'organization', 'is', 'set', 'up', 'with', 'a', 'predetermined', 'objective', 'and', 'management', 'helps', 'in', 'reaching', 'those', 'goals', 'timely', 'and', 'smoothly', 'Continuous', 'Process', 'It', 'is', 'an', 'ongoing', 'process', 'that', 'tends', 'to', 'persist', 'as', 'long', 'as', 'the', 'organization', 'exists', 'It', 'is', 'required', 'in', 'every', 'sphere', 'of', 'the', 'organization', 'whether', 'it', 'is', 'production', 'human', 'resource', 'finance', 'or', 'marketing', 'Multidimensional', 'Management', 'is', 'not', 'confined', 'to', 'the', 'administration', 'of', 'people', 'only', 'but', 'it', 'also', 'manages', 'work', 'processes', 'and', 'operations', 'which', 'makes', 'it', 'a', 'multidisciplinary', 'activity', 'Group', 'activity', 'An', 'organization', 'consists', 'of', 'various', 'members', 'who', 'have', 'different', 'needs', 'expectations', 'and', 'beliefs', 'Every', 'person', 'joins', 'the', 'organization', 'with', 'a', 'different', 'motive', 'but', 'after', 'becoming', 'a', 'part', 'of', 'the', 'organization', 'they', 'work', 'for', 'achieving', 'the', 'same', 'goal', 'It', 'requires', 'supervision', 'teamwork', 'and', 'coordination', 'and', 'in', 'this', 'way', 'management', 'comes', 'into', 'the', 'picture', 'LEVELS', 'OF', 'MANAGEMENT', 'TopLevel', 'Management', 'This', 'is', 'the', 'highest', 'level', 'in', 'the', 'organizational', 'hierarchy', 'which', 'includes', 'the', 'Board', 'of', 'Directors', 'and', 'Chief', 'Executives', 'They', 'are', 'responsible', 'for', 'defining', 'the', 'objectives', 'formulating', 'plans', 'strategies', 'and', 'policies', 'MiddleLevel', 'Management', 'It', 'is', 'the', 'second', 'and', 'most', 'important', 'level', 'in', 'the', 'corporate', 'ladder', 'as', 'it', 'creates', 'a', 'link', 'between', 'the', 'top', 'and', 'lowerlevel', 'management', 'It', 'includes', 'departmental', 'and', 'division', 'heads', 'and', 'managers', 'who', 'are', 'responsible', 'for', 'implementing', 'and', 'controlling', 'plans', 'and', 'strategies', 'which', 'are', 'formulated', 'by', 'the', 'top', 'executives', 'Lower', 'Level', 'Management', 'Otherwise', 'called', 'functional', 'or', 'operational', 'level', 'management', 'It', 'includes', 'firstline', 'managers', 'foremen', 'supervisors', 'As', 'lowerlevel', 'management', 'directly', 'interacts', 'with', 'the', 'workers', 'it', 'plays', 'a', 'crucial', 'role', 'in', 'the', 'organization', 'because', 'it', 'helps', 'in', 'reducing', 'wastage', 'and', 'idle', 'time', 'of', 'the', 'workers', 'improving', 'the', 'quality', 'and', 'quantity', 'of', 'output', 'future', 'digitalization', 'of', 'healthcare', 'In', 'the', 'current', 'day', 'and', 'age', 'a', 'wave', 'of', 'digitization', 'has', 'taken', 'over', 'the', 'world', 'All', 'the', 'emerging', 'technologies', 'like', 'Artificial', 'Intelligence', 'and', 'others', 'are', 'helping', 'people', 'live', 'better', 'and', 'easier', 'life', 'The', 'service', 'sector', 'has', 'also', 'benefited', 'a', 'lot', 'from', 'digitization', 'It', 'got', 'further', 'boost', 'when', 'Prime', 'Minister', 'Narendra', 'Modi', 'in', 'the', 'year', '2015', 'launched', 'a', 'campaign', 'known', 'as', '‘Digital', 'India’', 'Among', 'the', 'various', 'industries', 'in', 'the', 'service', 'sector', 'digitization', 'has', 'had', 'a', 'massive', 'impact', 'on', 'the', 'operation', 'of', 'the', 'healthcare', 'and', 'diagnostic', 'industry', 'It', 'has', 'helped', 'in', 'the', 'development', 'of', 'this', 'industry', 'and', 'enhances', 'life', 'for', 'millions', 'of', 'people', 'The', 'condition', 'of', 'India', 'in', 'terms', 'of', 'healthcare', 'has', 'been', 'quite', 'grim', 'Patients', 'who', 'need', 'attention', 'are', 'neglected', 'and', 'are', 'unable', 'to', 'avail', 'proper', 'treatment', 'or', 'diagnosis', 'However', 'with', 'the', 'coming', 'up', 'of', 'digitization', 'there', 'has', 'been', 'hoped', 'for', 'this', 'industry', 'also', 'According', 'to', 'Dr', 'Keshab', 'Panda', 'CEO', 'MD', 'LT', 'Technology', 'Services', 'there', 'are', 'three', 'trends', 'emerging', 'in', 'the', 'healthcare', 'and', 'diagnostics', 'ecosystem', 'as', 'a', 'result', 'of', 'digitization', '1', 'Valuebased', 'healthcare', 'This', 'is', 'a', 'model', 'of', 'healthcare', 'where', 'doctors', 'and', 'hospitals', 'are', 'paid', 'based', 'on', 'patient', 'health', 'outcomes', 'The', 'coming', 'up', 'of', 'digital', 'tools', 'in', 'this', 'segment', 'of', 'healthcare', 'can', 'be', 'considered', 'as', 'the', 'starting', 'tool', 'Dr', 'Panda', 'further', 'says', 'that', 'the', 'implementation', 'of', 'advanced', 'digital', 'technologies', 'in', 'patientcare', 'domains', 'like', 'mobile', 'health', 'apps', 'telehealth', 'wearables', 'and', 'remote', 'monitoring', 'can', 'help', 'in', 'enhancing', 'accessibility', 'boost', 'efficiency', 'and', 'augment', 'the', 'effectiveness', 'of', 'treatment', 'and', 'preventive', 'care', '2', 'New', 'product', 'development', 'The', 'healthcare', 'industry', 'over', 'the', 'past', 'few', 'decades', 'has', 'changed', 'drastically', 'With', 'the', 'coming', 'of', 'emerging', 'technologies', 'new', 'surgical', 'procedures', 'and', 'medical', 'devices', 'have', 'been', 'made', 'available', '3', 'Connectivity', 'While', 'talking', 'about', 'connectivity', 'in', 'healthcare', 'Dr', 'Panda', 'said', 'that', 'with', 'digitization', 'taking', 'over', 'the', 'industry', 'it', 'is', 'only', 'a', 'matter', 'of', 'time', 'when', 'with', 'the', 'help', 'of', 'the', 'internet', 'and', 'smartphones', 'digital', 'healthcare', 'will', 'be', 'everywhere', 'The', 'internet', 'for', 'once', 'has', 'helped', 'doctors', 'connect', 'to', 'their', 'patients', 'and', 'also', 'with', 'one', 'another', 'This', 'has', 'helped', 'in', 'enhancing', 'the', 'doctorpatient', 'engagement', 'by', 'increasing', 'their', 'interaction', 'time', 'Big', 'data', 'aggregates', 'information', 'about', 'a', 'business', 'through', 'formats', 'such', 'as', 'social', 'media', 'eCommerce', 'online', 'transactions', 'and', 'financial', 'transactions', 'and', 'identifies', 'patterns', 'and', 'trends', 'for', 'future', 'use', 'For', 'the', 'healthcare', 'industry', 'big', 'data', 'can', 'provide', 'several', 'important', 'benefits', 'including', 'Lower', 'rate', 'of', 'medication', 'errors', '–', 'through', 'patient', 'record', 'analysis', 'the', 'software', 'can', 'flag', 'any', 'inconsistencies', 'between', 'a', 'patient’s', 'health', 'and', 'drug', 'prescriptions', 'alerting', 'health', 'professionals', 'and', 'patients', 'when', 'there', 'is', 'a', 'potential', 'risk', 'of', 'a', 'medication', 'error', 'Facilitating', 'Preventive', 'Care', '–', 'a', 'high', 'volume', 'of', 'people', 'stepping', 'into', 'emergency', 'rooms', 'are', 'recurring', 'patients', 'also', 'called', '“frequent', 'flyers”', 'They', 'can', 'account', 'for', 'up', 'to', '28', 'of', 'visits', 'Big', 'data', 'analysis', 'could', 'identify', 'these', 'people', 'and', 'create', 'preventive', 'plans', 'to', 'keep', 'them', 'from', 'returning', 'More', 'Accurate', 'Staffing', '–', 'big', 'data’s', 'predictive', 'analysis', 'could', 'help', 'hospitals', 'and', 'clinics', 'estimate', 'future', 'admission', 'rates', 'which', 'helps', 'these', 'facilities', 'allocate', 'the', 'proper', 'staff', 'to', 'deal', 'with', 'patients', 'This', 'saves', 'money', 'and', 'reduces', 'emergency', 'room', 'wait', 'times', 'when', 'a', 'facility', 'is', 'understaffed', 'Challenges', 'for', 'future', 'digitalization', 'of', 'healthcare', '1', 'Cybersecurity', 'Although', 'ransomware', 'data', 'breaches', 'and', 'other', 'cybersecurity', 'concerns', 'are', 'nothing', 'new', 'to', 'the', 'healthcare', 'industry', 'the', '2020', 'Covid19', 'pandemic', 'revealed', 'just', 'how', 'vulnerable', 'sensitive', 'patient', 'health', 'information', 'really', 'is', 'The', 'recent', 'growth', 'of', 'digital', 'health', 'initiatives', 'like', 'telehealth', 'doctor', 'visits', '—', 'is', 'a', 'major', 'contributor', 'to', 'the', 'severe', 'increase', 'in', 'breached', 'patient', 'records', 'As', 'more', 'healthcare', 'functions', 'continue', 'to', 'move', 'online', 'over', 'the', 'next', 'year', 'it’s', 'extremely', 'important', 'to', 'ensure', 'these', 'processes', 'are', 'protected', 'from', 'outside', 'threats', '2', 'Invoicing', 'and', 'Payment', 'Processing', 'Medical', 'practices', 'are', 'citing', 'patient', 'collections', 'as', 'their', 'top', 'revenue', 'cycle', 'management', 'struggle', 'as', 'patients', 'are', 'becoming', 'responsible', 'for', 'a', 'larger', 'portion', 'of', 'their', 'medical', 'bills', 'In', 'order', 'to', 'help', 'encourage', 'patients', 'to', 'submit', 'payments', 'in', 'a', 'timely', 'manner', 'providers', 'must', 'adhere', 'to', 'patient', 'payment', 'preferences', 'To', 'meet', 'patient', 'expectations', 'and', 'improve', 'the', 'user', 'experience', 'ensure', 'billing', 'statements', 'are', 'patientfriendly', 'You', 'should', 'offer', 'paperless', 'statements', 'and', 'a', 'variety', 'of', 'payment', 'options', 'eg', 'credit', 'card', 'etc', 'via', 'an', 'online', 'patient', 'portal', 'and', 'utilize', 'the', 'latest', 'payment', 'technologies', 'such', 'as', 'mobile', 'and', 'texttopay', 'New', 'features', 'like', 'text', 'or', 'email', 'reminders', 'help', 'effectively', 'communicate', 'with', 'patients', 'and', 'encourage', 'them', 'to', 'pay', 'their', 'financial', 'obligations', '3', 'Patient', 'Experience', 'The', 'medical', 'insurance', 'landscape', 'has', 'experienced', 'some', 'significant', 'changes', 'in', 'recent', 'years', 'As', 'more', 'patients', 'are', 'responsible', 'for', 'a', 'larger', 'portion', 'of', 'their', 'healthcare', 'bill', 'they', 'naturally', 'demand', 'better', 'services', 'from', 'their', 'providers', 'Healthcare', 'organizations', 'will', 'face', 'tougher', 'competition', 'in', 'attracting', 'and', 'retaining', 'patients', 'who', 'demand', 'an', 'experience', 'that', 'matches', 'the', 'level', 'of', 'customer', 'service', 'they', 'expect', 'from', 'other', 'consumer', 'brands', 'They', 'demand', 'a', 'streamlined', 'patient', 'experience', 'so', 'they', 'can', '“selfservice”', 'to', 'resolve', 'most', 'questions', 'issues', 'or', 'concerns', 'eg', 'downloading', 'an', 'immunization', 'record', 'booking', 'an', 'appointment', 'paying', 'their', 'bills', 'or', 'checking', 'their', 'accountinsurance', 'status', 'whenever', 'wherever', 'and', 'however', 'is', 'most', 'convenient', 'for', 'them', 'Blackcoffer', 'Insights', '22', 'PRIYAM', 'VERMA', 'AND', 'RIYA', 'MALIK']\n"
     ]
    }
   ],
   "source": [
    "content=soup.findAll(attrs={'class':'td-post-content'})\n",
    "content=content[0].text.replace('\\n',\" \")\n",
    "print(content)\n",
    "#Punctuation\n",
    "content = content.translate(str.maketrans('', '', string.punctuation)) \n",
    "print(content)\n",
    "text = content.split()\n",
    "print(text)\n"
   ]
  },
  {
   "cell_type": "code",
   "execution_count": 3,
   "id": "a3035847",
   "metadata": {},
   "outputs": [
    {
     "data": {
      "text/plain": [
       "1158"
      ]
     },
     "execution_count": 3,
     "metadata": {},
     "output_type": "execute_result"
    }
   ],
   "source": [
    "len(text)"
   ]
  },
  {
   "cell_type": "code",
   "execution_count": 4,
   "id": "af5de4e8",
   "metadata": {},
   "outputs": [
    {
     "name": "stdout",
     "output_type": "stream",
     "text": [
      "51\n"
     ]
    }
   ],
   "source": [
    "#Positive Score \n",
    "with open(r\"C:\\Users\\Om Bhandwalkar\\Desktop\\pos\\positive-words.txt\") as pos:\n",
    "    poswords = pos.read().split(\"\\n\")  \n",
    "    poswords = poswords[5:]\n",
    "pos_count = \" \".join ([w for w in text if w in poswords])\n",
    "pos_count=pos_count.split(\" \")\n",
    "Positive_score=len(pos_count)\n",
    "print(Positive_score)"
   ]
  },
  {
   "cell_type": "code",
   "execution_count": 5,
   "id": "c12b4bb5",
   "metadata": {},
   "outputs": [
    {
     "name": "stdout",
     "output_type": "stream",
     "text": [
      "19\n"
     ]
    }
   ],
   "source": [
    "#Negative Score\n",
    "with open(r\"C:\\Users\\Om Bhandwalkar\\Desktop\\pos\\negative-words.txt\",encoding =\"ISO-8859-1\") as neg:\n",
    "    negwords = neg.read().split(\"\\n\")\n",
    "    \n",
    "negwords = negwords[36:]\n",
    "neg_count = \" \".join ([w for w in text if w in negwords])\n",
    "neg_count=neg_count.split(\" \")\n",
    "Negative_score=len(neg_count)\n",
    "print(Negative_score)"
   ]
  },
  {
   "cell_type": "code",
   "execution_count": 6,
   "id": "3b6833ac",
   "metadata": {},
   "outputs": [
    {
     "data": {
      "text/html": [
       "<div>\n",
       "<style scoped>\n",
       "    .dataframe tbody tr th:only-of-type {\n",
       "        vertical-align: middle;\n",
       "    }\n",
       "\n",
       "    .dataframe tbody tr th {\n",
       "        vertical-align: top;\n",
       "    }\n",
       "\n",
       "    .dataframe thead th {\n",
       "        text-align: right;\n",
       "    }\n",
       "</style>\n",
       "<table border=\"1\" class=\"dataframe\">\n",
       "  <thead>\n",
       "    <tr style=\"text-align: right;\">\n",
       "      <th></th>\n",
       "      <th>url</th>\n",
       "      <th>title</th>\n",
       "      <th>content</th>\n",
       "      <th>filter_content</th>\n",
       "      <th>Positive_Score</th>\n",
       "      <th>Negative_Score</th>\n",
       "      <th>polarity</th>\n",
       "      <th>subjectivity</th>\n",
       "    </tr>\n",
       "  </thead>\n",
       "  <tbody>\n",
       "    <tr>\n",
       "      <th>0</th>\n",
       "      <td>https://insights.blackcoffer.com/management-ch...</td>\n",
       "      <td>Management challenges for future digitalizatio...</td>\n",
       "      <td>Management acts as a guide to a group of peop...</td>\n",
       "      <td>Management acts as a guide to a group of peopl...</td>\n",
       "      <td>51</td>\n",
       "      <td>19</td>\n",
       "      <td>0.094882</td>\n",
       "      <td>0.397697</td>\n",
       "    </tr>\n",
       "  </tbody>\n",
       "</table>\n",
       "</div>"
      ],
      "text/plain": [
       "                                                 url  \\\n",
       "0  https://insights.blackcoffer.com/management-ch...   \n",
       "\n",
       "                                               title  \\\n",
       "0  Management challenges for future digitalizatio...   \n",
       "\n",
       "                                             content  \\\n",
       "0   Management acts as a guide to a group of peop...   \n",
       "\n",
       "                                      filter_content  Positive_Score  \\\n",
       "0  Management acts as a guide to a group of peopl...              51   \n",
       "\n",
       "   Negative_Score  polarity  subjectivity  \n",
       "0              19  0.094882      0.397697  "
      ]
     },
     "execution_count": 6,
     "metadata": {},
     "output_type": "execute_result"
    }
   ],
   "source": [
    "filter_content = ' '.join(text)\n",
    "data=[[url,title,content,filter_content,Positive_score,Negative_score]]\n",
    "data=pd.DataFrame(data,columns=[\"url\",\"title\",\"content\",\"filter_content\",\"Positive_Score\",\"Negative_Score\"])\n",
    "from textblob import TextBlob\n",
    "# Get The Subjectivity\n",
    "def sentiment_analysis(data):\n",
    "    sentiment = TextBlob(data[\"content\"]).sentiment\n",
    "    return pd.Series([sentiment.polarity,sentiment.subjectivity ])\n",
    "\n",
    "# Adding Subjectivity & Polarity\n",
    "data[[\"polarity\", \"subjectivity\"]] = data.apply(sentiment_analysis, axis=1)\n",
    "\n",
    "data"
   ]
  },
  {
   "cell_type": "code",
   "execution_count": 7,
   "id": "95635461",
   "metadata": {},
   "outputs": [
    {
     "name": "stdout",
     "output_type": "stream",
     "text": [
      "Word average = 6548.0\n",
      "FOG INDEX =  467.04\n",
      "Average no of words per sentence\n",
      "1158.0\n",
      "Complex Words 2340\n"
     ]
    }
   ],
   "source": [
    "#AVG SENTENCE LENGTH\n",
    "AVG_SENTENCE_LENGTH = len(content.replace(' ',''))/len(re.split(r'[?!.]', content))\n",
    "print('Word average =', AVG_SENTENCE_LENGTH)\n",
    "import textstat\n",
    "#Fog index \n",
    "FOG_INDEX=(textstat.gunning_fog(content))\n",
    "print(\"FOG INDEX = \",FOG_INDEX)\n",
    "#Average No of Words Per Sentence \n",
    "AVG_NUMBER_OF_WORDS_PER_SENTENCE = [len(l.split()) for l in re.split(r'[?!.]', content) if l.strip()]\n",
    "print(\"Average no of words per sentence\")\n",
    "AVG_NUMBER_OF_WORDS_PER_SENTENCE=print(sum(AVG_NUMBER_OF_WORDS_PER_SENTENCE)/len(AVG_NUMBER_OF_WORDS_PER_SENTENCE))\n",
    "#Complex words\n",
    "def syllable_count(word):\n",
    "    count = 0\n",
    "    vowels = \"AEIOUYaeiouy\"\n",
    "    if word[0] in vowels:\n",
    "        count += 1\n",
    "    for index in range(1, len(word)): \n",
    "        if word[index] in vowels and word[index - 1] not in vowels:\n",
    "            count += 1\n",
    "            if word.endswith(\"es\"or \"ed\"):\n",
    "                count -= 1\n",
    "    if count == 0:\n",
    "        count += 1\n",
    "    return count\n",
    "\n",
    "\n",
    "\n",
    "COMPLEX_WORDS=syllable_count(content)\n",
    "print(\"Complex Words\",COMPLEX_WORDS)\n"
   ]
  },
  {
   "cell_type": "code",
   "execution_count": 8,
   "id": "fec0441f",
   "metadata": {},
   "outputs": [
    {
     "name": "stdout",
     "output_type": "stream",
     "text": [
      "Word Count 7709\n",
      "Percentage of Complex Words 30.354131534569984\n",
      "Average Word per Length 5.6545768566493955\n",
      "The AVG number of syllables in the word is: \n",
      "2.2780656303972364\n"
     ]
    }
   ],
   "source": [
    "#Word Count\n",
    "Word_Count=len(content)\n",
    "print(\"Word Count\",Word_Count)\n",
    "#Percentage Complex Words\n",
    "pcw=(COMPLEX_WORDS/Word_Count)*100\n",
    "print(\"Percentage of Complex Words\",pcw)\n",
    "#Average Word Length\n",
    "Average_Word_Length=len(content.replace(' ',''))/len(content.split())\n",
    "print(\"Average Word per Length\",Average_Word_Length)\n",
    "#Syllable Count Per Word\n",
    "word=content.replace(' ','')\n",
    "syllable_count=0\n",
    "for w in word:\n",
    "      if(w=='a' or w=='e' or w=='i' or w=='o' or w=='y' or w=='u' or w=='A' or w=='E' or w=='I' or w=='O' or w=='U' or w=='Y'):\n",
    "            syllable_count=syllable_count+1\n",
    "print(\"The AVG number of syllables in the word is: \")\n",
    "print(syllable_count/len(content.split()))"
   ]
  },
  {
   "cell_type": "code",
   "execution_count": 1,
   "id": "f8dc9167",
   "metadata": {},
   "outputs": [
    {
     "name": "stdout",
     "output_type": "stream",
     "text": [
      "51\n",
      "19\n",
      "Word average = 6548.0\n",
      "FOG INDEX =  467.04\n",
      "Average no of words per sentence\n",
      "1158.0\n",
      "Complex Words 2340\n",
      "Word Count 7709\n",
      "Percentage of Complex Words 30.354131534569984\n",
      "Average Word per Length 5.6545768566493955\n",
      "The AVG number of syllables in the word is: \n",
      "2.2780656303972364\n"
     ]
    },
    {
     "data": {
      "text/html": [
       "<div>\n",
       "<style scoped>\n",
       "    .dataframe tbody tr th:only-of-type {\n",
       "        vertical-align: middle;\n",
       "    }\n",
       "\n",
       "    .dataframe tbody tr th {\n",
       "        vertical-align: top;\n",
       "    }\n",
       "\n",
       "    .dataframe thead th {\n",
       "        text-align: right;\n",
       "    }\n",
       "</style>\n",
       "<table border=\"1\" class=\"dataframe\">\n",
       "  <thead>\n",
       "    <tr style=\"text-align: right;\">\n",
       "      <th></th>\n",
       "      <th>url</th>\n",
       "      <th>title</th>\n",
       "      <th>content</th>\n",
       "      <th>filter_content</th>\n",
       "      <th>Positive_Score</th>\n",
       "      <th>Negative_Score</th>\n",
       "      <th>Avg_Sentence_Length</th>\n",
       "      <th>Percentage_Complex_Word</th>\n",
       "      <th>Fog_Index</th>\n",
       "      <th>AVG_NUMBER_OF_WORDS_PER_SENTENCE</th>\n",
       "      <th>COMPLEX_WORDS</th>\n",
       "      <th>Word_Count</th>\n",
       "      <th>syllable</th>\n",
       "      <th>Average_Word_Length</th>\n",
       "      <th>polarity</th>\n",
       "      <th>subjectivity</th>\n",
       "    </tr>\n",
       "  </thead>\n",
       "  <tbody>\n",
       "    <tr>\n",
       "      <th>0</th>\n",
       "      <td>https://insights.blackcoffer.com/management-ch...</td>\n",
       "      <td>Management challenges for future digitalizatio...</td>\n",
       "      <td>Management acts as a guide to a group of peop...</td>\n",
       "      <td>Management acts as a guide to a group of peopl...</td>\n",
       "      <td>51</td>\n",
       "      <td>19</td>\n",
       "      <td>6548.0</td>\n",
       "      <td>30.354132</td>\n",
       "      <td>467.04</td>\n",
       "      <td>1158.0</td>\n",
       "      <td>2340</td>\n",
       "      <td>7709</td>\n",
       "      <td>2.278066</td>\n",
       "      <td>5.654577</td>\n",
       "      <td>0.094882</td>\n",
       "      <td>0.397697</td>\n",
       "    </tr>\n",
       "  </tbody>\n",
       "</table>\n",
       "</div>"
      ],
      "text/plain": [
       "                                                 url  \\\n",
       "0  https://insights.blackcoffer.com/management-ch...   \n",
       "\n",
       "                                               title  \\\n",
       "0  Management challenges for future digitalizatio...   \n",
       "\n",
       "                                             content  \\\n",
       "0   Management acts as a guide to a group of peop...   \n",
       "\n",
       "                                      filter_content  Positive_Score  \\\n",
       "0  Management acts as a guide to a group of peopl...              51   \n",
       "\n",
       "   Negative_Score  Avg_Sentence_Length  Percentage_Complex_Word  Fog_Index  \\\n",
       "0              19               6548.0                30.354132     467.04   \n",
       "\n",
       "    AVG_NUMBER_OF_WORDS_PER_SENTENCE  COMPLEX_WORDS  Word_Count  syllable  \\\n",
       "0                             1158.0           2340        7709  2.278066   \n",
       "\n",
       "   Average_Word_Length  polarity  subjectivity  \n",
       "0             5.654577  0.094882      0.397697  "
      ]
     },
     "execution_count": 1,
     "metadata": {},
     "output_type": "execute_result"
    }
   ],
   "source": [
    "\n",
    "import requests\n",
    "import pandas as pd \n",
    "from bs4 import BeautifulSoup\n",
    "import string\n",
    "import spacy\n",
    "import re\n",
    "url = \"\"\"https://insights.blackcoffer.com/management-challenges-for-future-digitalization-of-healthcare-services/\"\"\"\n",
    "\n",
    "headers = {\"User-Agent\": \"Mozilla/5.0 (X11; Linux x86_64; rv:60.0) Gecko/20100101 Firefox/60.0\"}\n",
    "page = requests.get(url, headers=headers)\n",
    "soup = BeautifulSoup(page.content, 'html.parser')\n",
    "soup=BeautifulSoup(page.content, 'html.parser')\n",
    "title=soup.find('h1',class_=\"entry-title\")\n",
    "title=title.text.replace('\\n',\" \")\n",
    "# title\n",
    "\n",
    "content=soup.findAll(attrs={'class':'td-post-content'})\n",
    "content=content[0].text.replace('\\n',\" \")\n",
    "# print(content)\n",
    "#Punctuation\n",
    "content = content.translate(str.maketrans('', '', string.punctuation)) \n",
    "# print(content)\n",
    "text = content.split()\n",
    "# print(text)\n",
    "len(text)\n",
    "#Positive Score \n",
    "with open(r\"C:\\Users\\Om Bhandwalkar\\Desktop\\pos\\positive-words.txt\") as pos:\n",
    "    poswords = pos.read().split(\"\\n\")  \n",
    "    poswords = poswords[5:]\n",
    "pos_count = \" \".join ([w for w in text if w in poswords])\n",
    "pos_count=pos_count.split(\" \")\n",
    "Positive_score=len(pos_count)\n",
    "print(Positive_score)\n",
    "\n",
    "#Negative Score\n",
    "with open(r\"C:\\Users\\Om Bhandwalkar\\Desktop\\pos\\negative-words.txt\",encoding =\"ISO-8859-1\") as neg:\n",
    "    negwords = neg.read().split(\"\\n\")\n",
    "    \n",
    "negwords = negwords[36:]\n",
    "neg_count = \" \".join ([w for w in text if w in negwords])\n",
    "neg_count=neg_count.split(\" \")\n",
    "Negative_score=len(neg_count)\n",
    "print(Negative_score)\n",
    "\n",
    "\n",
    "filter_content = ' '.join(text)\n",
    "data=[[url,title,content,filter_content,Positive_score,Negative_score]]\n",
    "data=pd.DataFrame(data,columns=[\"url\",\"title\",\"content\",\"filter_content\",\"Positive_Score\",\"Negative_Score\"])\n",
    "from textblob import TextBlob\n",
    "# Get The Subjectivity\n",
    "def sentiment_analysis(data):\n",
    "    sentiment = TextBlob(data[\"content\"]).sentiment\n",
    "    return pd.Series([sentiment.polarity,sentiment.subjectivity ])\n",
    "data[[\"polarity\", \"subjectivity\"]] = data.apply(sentiment_analysis, axis=1)\n",
    "data\n",
    "#AVG SENTENCE LENGTH\n",
    "AVG_SENTENCE_LENGTH = len(content.replace(' ',''))/len(re.split(r'[?!.]', content))\n",
    "print('Word average =', AVG_SENTENCE_LENGTH)\n",
    "import textstat\n",
    "#Fog index \n",
    "FOG_INDEX=(textstat.gunning_fog(content))\n",
    "print(\"FOG INDEX = \",FOG_INDEX)\n",
    "#Average No of Words Per Sentence \n",
    "AVG_NUMBER_OF_WORDS_PER_SENTENCE = [len(l.split()) for l in re.split(r'[?!.]', content) if l.strip()]\n",
    "print(\"Average no of words per sentence\")\n",
    "AVG_NUMBER_OF_WORDS_PER_SENTENCE=(sum(AVG_NUMBER_OF_WORDS_PER_SENTENCE)/len(AVG_NUMBER_OF_WORDS_PER_SENTENCE))\n",
    "print(AVG_NUMBER_OF_WORDS_PER_SENTENCE)\n",
    "#Complex words\n",
    "def syllable_count(word):\n",
    "    count = 0\n",
    "    vowels = \"AEIOUYaeiouy\"\n",
    "    if word[0] in vowels:\n",
    "        count += 1\n",
    "    for index in range(1, len(word)): \n",
    "        if word[index] in vowels and word[index - 1] not in vowels:\n",
    "            count += 1\n",
    "            if word.endswith(\"es\"or \"ed\"):\n",
    "                count -= 1\n",
    "    if count == 0:\n",
    "        count += 1\n",
    "    return count\n",
    "\n",
    "\n",
    "\n",
    "COMPLEX_WORDS=syllable_count(content)\n",
    "print(\"Complex Words\",COMPLEX_WORDS)\n",
    "#Word Count\n",
    "Word_Count=len(content)\n",
    "print(\"Word Count\",Word_Count)\n",
    "#Percentage Complex Words\n",
    "pcw=(COMPLEX_WORDS/Word_Count)*100\n",
    "print(\"Percentage of Complex Words\",pcw)\n",
    "#Average Word Length\n",
    "Average_Word_Length=len(content.replace(' ',''))/len(content.split())\n",
    "print(\"Average Word per Length\",Average_Word_Length)\n",
    "#Syllable Count Per Word\n",
    "word=content.replace(' ','')\n",
    "syllable_count=0\n",
    "for w in word:\n",
    "      if(w=='a' or w=='e' or w=='i' or w=='o' or w=='y' or w=='u' or w=='A' or w=='E' or w=='I' or w=='O' or w=='U' or w=='Y'):\n",
    "            syllable_count=syllable_count+1\n",
    "print(\"The AVG number of syllables in the word is: \")\n",
    "syllable = (syllable_count/len(content.split()))\n",
    "print(syllable)\n",
    "\n",
    "data = [[url,title,content,filter_content,Positive_score,Negative_score,AVG_SENTENCE_LENGTH,pcw,FOG_INDEX,\n",
    "         AVG_NUMBER_OF_WORDS_PER_SENTENCE,COMPLEX_WORDS,Word_Count,syllable,Average_Word_Length]]\n",
    "data=pd.DataFrame(data,columns=[\"url\",\"title\",\"content\",\"filter_content\",\"Positive_Score\",\"Negative_Score\",\"Avg_Sentence_Length\"\n",
    "                               ,\"Percentage_Complex_Word\",\"Fog_Index\",\" AVG_NUMBER_OF_WORDS_PER_SENTENCE\",\"COMPLEX_WORDS\",\n",
    "                               \"Word_Count\",\"syllable\",\"Average_Word_Length\"])\n",
    "from textblob import TextBlob\n",
    "# Get The Subjectivity\n",
    "def sentiment_analysis(data):\n",
    "    sentiment = TextBlob(data[\"content\"]).sentiment\n",
    "    return pd.Series([sentiment.polarity,sentiment.subjectivity ])\n",
    "data[[\"polarity\", \"subjectivity\"]] = data.apply(sentiment_analysis, axis=1)\n",
    "data"
   ]
  },
  {
   "cell_type": "code",
   "execution_count": 2,
   "id": "52b8235f",
   "metadata": {},
   "outputs": [],
   "source": [
    "data.to_csv(r'C:\\Users\\Om Bhandwalkar\\Desktop\\BlackCoffer Assignment\\Output\\url_69.csv')"
   ]
  },
  {
   "cell_type": "code",
   "execution_count": null,
   "id": "3b0e7bac",
   "metadata": {},
   "outputs": [],
   "source": []
  }
 ],
 "metadata": {
  "kernelspec": {
   "display_name": "Python 3 (ipykernel)",
   "language": "python",
   "name": "python3"
  },
  "language_info": {
   "codemirror_mode": {
    "name": "ipython",
    "version": 3
   },
   "file_extension": ".py",
   "mimetype": "text/x-python",
   "name": "python",
   "nbconvert_exporter": "python",
   "pygments_lexer": "ipython3",
   "version": "3.9.12"
  }
 },
 "nbformat": 4,
 "nbformat_minor": 5
}
