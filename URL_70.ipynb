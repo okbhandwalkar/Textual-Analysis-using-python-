{
 "cells": [
  {
   "cell_type": "code",
   "execution_count": 1,
   "id": "c1fea85d",
   "metadata": {},
   "outputs": [
    {
     "data": {
      "text/plain": [
       "'Are we any closer to preventing a nuclear holocaust?'"
      ]
     },
     "execution_count": 1,
     "metadata": {},
     "output_type": "execute_result"
    }
   ],
   "source": [
    "import requests\n",
    "import pandas as pd \n",
    "from bs4 import BeautifulSoup\n",
    "import string\n",
    "import spacy\n",
    "import re\n",
    "url = \"\"\"https://insights.blackcoffer.com/are-we-any-closer-to-preventing-a-nuclear-holocaust/\"\"\"\n",
    "headers = {\"User-Agent\": \"Mozilla/5.0 (X11; Linux x86_64; rv:60.0) Gecko/20100101 Firefox/60.0\"}\n",
    "page = requests.get(url, headers=headers)\n",
    "soup = BeautifulSoup(page.content, 'html.parser')\n",
    "soup=BeautifulSoup(page.content, 'html.parser')\n",
    "title=soup.find('h1',class_=\"entry-title\")\n",
    "title=title.text.replace('\\n',\" \")\n",
    "title\n"
   ]
  },
  {
   "cell_type": "code",
   "execution_count": 2,
   "id": "dd046d47",
   "metadata": {},
   "outputs": [
    {
     "name": "stdout",
     "output_type": "stream",
     "text": [
      " One thought always comes to my mind…What if we lived without that dander hanging over our heads?And you all know what is that danger is. For more than 70 years the world has faced the very real threat of nuclear war.Nuclear war is a real and growing threat. The United States and Russia have left critical agreements and treaties, while actively planning to add new types of weapons to their arsenals.Meanwhile, US nuclear policy remains rooted in the Cold War, increasing the risk that nuclear weapons could be used again.It doesn’t have to be this way. With the right policy changes and a commitment to diplomacy, the United States can be a leader in reducing the nuclear threat and we can also help them. But the question arises is what are the activities are being done for the prevention of nuclear holocaust?And they are : Pressuring Congress to support change,Holding the White House accountable through independent research and analysis,Increasing public demand for changing nuclear weapon policies.Now the question is what can we do to prevent a nuclear holocaust?Tell government: Don’t fund a nuclear arms race.Call for investment in public health and public security, not nuclear weapons.Tell government: The United States should never start a nuclear war.Urge presidential candidates to make preventing nuclear war a priority. ACTIVIST RESOURCESnuclear weapons are extremely strong to show the power of a nation. But no one knows the drawback of this attack between the two countries. For example Hiroshima and Nagasaki, the realistic bomb blast explained the blood of each people. The crux of my presentation is that the circumstances surrounding nuclear war call for a new level of commitment by the scientific community to reduce the risk of nuclear war. To generate new options for decreasing the risk, we need analytical work by people who know the weaponry and its military uses. But that is far from enough to do the job. We also need scholars who know the superpowers in-depth; people who know other nuclear powers; people who know third-world flashpoints; people who know international relations very broadly; people who know a lot about policy formation and implementation, especially in the superpowers; people who understand human behavior under stress, especially leadership under stress; people who understand negotiation and conflict resolution people and much more. In other words, the relevant knowledge and skills cut right across all the physical, biological, behavioral, social. International Physicians for the Prevention of Nuclear War, World Health, British Medical Association, and the American Medical Association; others have contributed as well. The central point is that a kind of awakening has occurred in the medical community to the responsibility of addressing the immense nature of the threat to public health. At last, I want to conclude that: “ In a nuclear war, except evil force, no one is the winner. Science and humanity become the villain. Everyone knows that but the gamblers want to play their cards. Be aware of the nuclear gamblers “.I hope that soon the world will be full of love and affection and there will be no place for hate and the wars will be held. Blackcoffer Insights 21: Rutika Pagar, C.M.C.S College Nashik \n",
      " One thought always comes to my mind…What if we lived without that dander hanging over our headsAnd you all know what is that danger is For more than 70 years the world has faced the very real threat of nuclear warNuclear war is a real and growing threat The United States and Russia have left critical agreements and treaties while actively planning to add new types of weapons to their arsenalsMeanwhile US nuclear policy remains rooted in the Cold War increasing the risk that nuclear weapons could be used againIt doesn’t have to be this way With the right policy changes and a commitment to diplomacy the United States can be a leader in reducing the nuclear threat and we can also help them But the question arises is what are the activities are being done for the prevention of nuclear holocaustAnd they are  Pressuring Congress to support changeHolding the White House accountable through independent research and analysisIncreasing public demand for changing nuclear weapon policiesNow the question is what can we do to prevent a nuclear holocaustTell government Don’t fund a nuclear arms raceCall for investment in public health and public security not nuclear weaponsTell government The United States should never start a nuclear warUrge presidential candidates to make preventing nuclear war a priority ACTIVIST RESOURCESnuclear weapons are extremely strong to show the power of a nation But no one knows the drawback of this attack between the two countries For example Hiroshima and Nagasaki the realistic bomb blast explained the blood of each people The crux of my presentation is that the circumstances surrounding nuclear war call for a new level of commitment by the scientific community to reduce the risk of nuclear war To generate new options for decreasing the risk we need analytical work by people who know the weaponry and its military uses But that is far from enough to do the job We also need scholars who know the superpowers indepth people who know other nuclear powers people who know thirdworld flashpoints people who know international relations very broadly people who know a lot about policy formation and implementation especially in the superpowers people who understand human behavior under stress especially leadership under stress people who understand negotiation and conflict resolution people and much more In other words the relevant knowledge and skills cut right across all the physical biological behavioral social International Physicians for the Prevention of Nuclear War World Health British Medical Association and the American Medical Association others have contributed as well The central point is that a kind of awakening has occurred in the medical community to the responsibility of addressing the immense nature of the threat to public health At last I want to conclude that “ In a nuclear war except evil force no one is the winner Science and humanity become the villain Everyone knows that but the gamblers want to play their cards Be aware of the nuclear gamblers “I hope that soon the world will be full of love and affection and there will be no place for hate and the wars will be held Blackcoffer Insights 21 Rutika Pagar CMCS College Nashik \n",
      "['One', 'thought', 'always', 'comes', 'to', 'my', 'mind…What', 'if', 'we', 'lived', 'without', 'that', 'dander', 'hanging', 'over', 'our', 'headsAnd', 'you', 'all', 'know', 'what', 'is', 'that', 'danger', 'is', 'For', 'more', 'than', '70', 'years', 'the', 'world', 'has', 'faced', 'the', 'very', 'real', 'threat', 'of', 'nuclear', 'warNuclear', 'war', 'is', 'a', 'real', 'and', 'growing', 'threat', 'The', 'United', 'States', 'and', 'Russia', 'have', 'left', 'critical', 'agreements', 'and', 'treaties', 'while', 'actively', 'planning', 'to', 'add', 'new', 'types', 'of', 'weapons', 'to', 'their', 'arsenalsMeanwhile', 'US', 'nuclear', 'policy', 'remains', 'rooted', 'in', 'the', 'Cold', 'War', 'increasing', 'the', 'risk', 'that', 'nuclear', 'weapons', 'could', 'be', 'used', 'againIt', 'doesn’t', 'have', 'to', 'be', 'this', 'way', 'With', 'the', 'right', 'policy', 'changes', 'and', 'a', 'commitment', 'to', 'diplomacy', 'the', 'United', 'States', 'can', 'be', 'a', 'leader', 'in', 'reducing', 'the', 'nuclear', 'threat', 'and', 'we', 'can', 'also', 'help', 'them', 'But', 'the', 'question', 'arises', 'is', 'what', 'are', 'the', 'activities', 'are', 'being', 'done', 'for', 'the', 'prevention', 'of', 'nuclear', 'holocaustAnd', 'they', 'are', 'Pressuring', 'Congress', 'to', 'support', 'changeHolding', 'the', 'White', 'House', 'accountable', 'through', 'independent', 'research', 'and', 'analysisIncreasing', 'public', 'demand', 'for', 'changing', 'nuclear', 'weapon', 'policiesNow', 'the', 'question', 'is', 'what', 'can', 'we', 'do', 'to', 'prevent', 'a', 'nuclear', 'holocaustTell', 'government', 'Don’t', 'fund', 'a', 'nuclear', 'arms', 'raceCall', 'for', 'investment', 'in', 'public', 'health', 'and', 'public', 'security', 'not', 'nuclear', 'weaponsTell', 'government', 'The', 'United', 'States', 'should', 'never', 'start', 'a', 'nuclear', 'warUrge', 'presidential', 'candidates', 'to', 'make', 'preventing', 'nuclear', 'war', 'a', 'priority', 'ACTIVIST', 'RESOURCESnuclear', 'weapons', 'are', 'extremely', 'strong', 'to', 'show', 'the', 'power', 'of', 'a', 'nation', 'But', 'no', 'one', 'knows', 'the', 'drawback', 'of', 'this', 'attack', 'between', 'the', 'two', 'countries', 'For', 'example', 'Hiroshima', 'and', 'Nagasaki', 'the', 'realistic', 'bomb', 'blast', 'explained', 'the', 'blood', 'of', 'each', 'people', 'The', 'crux', 'of', 'my', 'presentation', 'is', 'that', 'the', 'circumstances', 'surrounding', 'nuclear', 'war', 'call', 'for', 'a', 'new', 'level', 'of', 'commitment', 'by', 'the', 'scientific', 'community', 'to', 'reduce', 'the', 'risk', 'of', 'nuclear', 'war', 'To', 'generate', 'new', 'options', 'for', 'decreasing', 'the', 'risk', 'we', 'need', 'analytical', 'work', 'by', 'people', 'who', 'know', 'the', 'weaponry', 'and', 'its', 'military', 'uses', 'But', 'that', 'is', 'far', 'from', 'enough', 'to', 'do', 'the', 'job', 'We', 'also', 'need', 'scholars', 'who', 'know', 'the', 'superpowers', 'indepth', 'people', 'who', 'know', 'other', 'nuclear', 'powers', 'people', 'who', 'know', 'thirdworld', 'flashpoints', 'people', 'who', 'know', 'international', 'relations', 'very', 'broadly', 'people', 'who', 'know', 'a', 'lot', 'about', 'policy', 'formation', 'and', 'implementation', 'especially', 'in', 'the', 'superpowers', 'people', 'who', 'understand', 'human', 'behavior', 'under', 'stress', 'especially', 'leadership', 'under', 'stress', 'people', 'who', 'understand', 'negotiation', 'and', 'conflict', 'resolution', 'people', 'and', 'much', 'more', 'In', 'other', 'words', 'the', 'relevant', 'knowledge', 'and', 'skills', 'cut', 'right', 'across', 'all', 'the', 'physical', 'biological', 'behavioral', 'social', 'International', 'Physicians', 'for', 'the', 'Prevention', 'of', 'Nuclear', 'War', 'World', 'Health', 'British', 'Medical', 'Association', 'and', 'the', 'American', 'Medical', 'Association', 'others', 'have', 'contributed', 'as', 'well', 'The', 'central', 'point', 'is', 'that', 'a', 'kind', 'of', 'awakening', 'has', 'occurred', 'in', 'the', 'medical', 'community', 'to', 'the', 'responsibility', 'of', 'addressing', 'the', 'immense', 'nature', 'of', 'the', 'threat', 'to', 'public', 'health', 'At', 'last', 'I', 'want', 'to', 'conclude', 'that', '“', 'In', 'a', 'nuclear', 'war', 'except', 'evil', 'force', 'no', 'one', 'is', 'the', 'winner', 'Science', 'and', 'humanity', 'become', 'the', 'villain', 'Everyone', 'knows', 'that', 'but', 'the', 'gamblers', 'want', 'to', 'play', 'their', 'cards', 'Be', 'aware', 'of', 'the', 'nuclear', 'gamblers', '“I', 'hope', 'that', 'soon', 'the', 'world', 'will', 'be', 'full', 'of', 'love', 'and', 'affection', 'and', 'there', 'will', 'be', 'no', 'place', 'for', 'hate', 'and', 'the', 'wars', 'will', 'be', 'held', 'Blackcoffer', 'Insights', '21', 'Rutika', 'Pagar', 'CMCS', 'College', 'Nashik']\n"
     ]
    }
   ],
   "source": [
    "content=soup.findAll(attrs={'class':'td-post-content'})\n",
    "content=content[0].text.replace('\\n',\" \")\n",
    "print(content)\n",
    "#Punctuation\n",
    "content = content.translate(str.maketrans('', '', string.punctuation)) \n",
    "print(content)\n",
    "text = content.split()\n",
    "print(text)\n"
   ]
  },
  {
   "cell_type": "code",
   "execution_count": 3,
   "id": "1a32e808",
   "metadata": {},
   "outputs": [
    {
     "data": {
      "text/plain": [
       "527"
      ]
     },
     "execution_count": 3,
     "metadata": {},
     "output_type": "execute_result"
    }
   ],
   "source": [
    "len(text)"
   ]
  },
  {
   "cell_type": "code",
   "execution_count": 4,
   "id": "c3b0b50b",
   "metadata": {},
   "outputs": [
    {
     "name": "stdout",
     "output_type": "stream",
     "text": [
      "14\n"
     ]
    }
   ],
   "source": [
    "#Positive Score \n",
    "with open(r\"C:\\Users\\Om Bhandwalkar\\Desktop\\pos\\positive-words.txt\") as pos:\n",
    "    poswords = pos.read().split(\"\\n\")  \n",
    "    poswords = poswords[5:]\n",
    "pos_count = \" \".join ([w for w in text if w in poswords])\n",
    "pos_count=pos_count.split(\" \")\n",
    "Positive_score=len(pos_count)\n",
    "print(Positive_score)"
   ]
  },
  {
   "cell_type": "code",
   "execution_count": 5,
   "id": "d12df088",
   "metadata": {},
   "outputs": [
    {
     "name": "stdout",
     "output_type": "stream",
     "text": [
      "17\n"
     ]
    }
   ],
   "source": [
    "#Negative Score\n",
    "with open(r\"C:\\Users\\Om Bhandwalkar\\Desktop\\pos\\negative-words.txt\",encoding =\"ISO-8859-1\") as neg:\n",
    "    negwords = neg.read().split(\"\\n\")\n",
    "    \n",
    "negwords = negwords[36:]\n",
    "neg_count = \" \".join ([w for w in text if w in negwords])\n",
    "neg_count=neg_count.split(\" \")\n",
    "Negative_score=len(neg_count)\n",
    "print(Negative_score)"
   ]
  },
  {
   "cell_type": "code",
   "execution_count": 6,
   "id": "2e79eeda",
   "metadata": {},
   "outputs": [
    {
     "data": {
      "text/html": [
       "<div>\n",
       "<style scoped>\n",
       "    .dataframe tbody tr th:only-of-type {\n",
       "        vertical-align: middle;\n",
       "    }\n",
       "\n",
       "    .dataframe tbody tr th {\n",
       "        vertical-align: top;\n",
       "    }\n",
       "\n",
       "    .dataframe thead th {\n",
       "        text-align: right;\n",
       "    }\n",
       "</style>\n",
       "<table border=\"1\" class=\"dataframe\">\n",
       "  <thead>\n",
       "    <tr style=\"text-align: right;\">\n",
       "      <th></th>\n",
       "      <th>url</th>\n",
       "      <th>title</th>\n",
       "      <th>content</th>\n",
       "      <th>filter_content</th>\n",
       "      <th>Positive_Score</th>\n",
       "      <th>Negative_Score</th>\n",
       "      <th>polarity</th>\n",
       "      <th>subjectivity</th>\n",
       "    </tr>\n",
       "  </thead>\n",
       "  <tbody>\n",
       "    <tr>\n",
       "      <th>0</th>\n",
       "      <td>https://insights.blackcoffer.com/are-we-any-cl...</td>\n",
       "      <td>Are we any closer to preventing a nuclear holo...</td>\n",
       "      <td>One thought always comes to my mind…What if w...</td>\n",
       "      <td>One thought always comes to my mind…What if we...</td>\n",
       "      <td>14</td>\n",
       "      <td>17</td>\n",
       "      <td>0.050444</td>\n",
       "      <td>0.397262</td>\n",
       "    </tr>\n",
       "  </tbody>\n",
       "</table>\n",
       "</div>"
      ],
      "text/plain": [
       "                                                 url  \\\n",
       "0  https://insights.blackcoffer.com/are-we-any-cl...   \n",
       "\n",
       "                                               title  \\\n",
       "0  Are we any closer to preventing a nuclear holo...   \n",
       "\n",
       "                                             content  \\\n",
       "0   One thought always comes to my mind…What if w...   \n",
       "\n",
       "                                      filter_content  Positive_Score  \\\n",
       "0  One thought always comes to my mind…What if we...              14   \n",
       "\n",
       "   Negative_Score  polarity  subjectivity  \n",
       "0              17  0.050444      0.397262  "
      ]
     },
     "execution_count": 6,
     "metadata": {},
     "output_type": "execute_result"
    }
   ],
   "source": [
    "filter_content = ' '.join(text)\n",
    "data=[[url,title,content,filter_content,Positive_score,Negative_score]]\n",
    "data=pd.DataFrame(data,columns=[\"url\",\"title\",\"content\",\"filter_content\",\"Positive_Score\",\"Negative_Score\"])\n",
    "from textblob import TextBlob\n",
    "# Get The Subjectivity\n",
    "def sentiment_analysis(data):\n",
    "    sentiment = TextBlob(data[\"content\"]).sentiment\n",
    "    return pd.Series([sentiment.polarity,sentiment.subjectivity ])\n",
    "\n",
    "# Adding Subjectivity & Polarity\n",
    "data[[\"polarity\", \"subjectivity\"]] = data.apply(sentiment_analysis, axis=1)\n",
    "\n",
    "data"
   ]
  },
  {
   "cell_type": "code",
   "execution_count": 7,
   "id": "97130329",
   "metadata": {},
   "outputs": [
    {
     "name": "stdout",
     "output_type": "stream",
     "text": [
      "Word average = 2680.0\n",
      "FOG INDEX =  215.34\n",
      "Average no of words per sentence\n",
      "527.0\n",
      "Complex Words 917\n"
     ]
    }
   ],
   "source": [
    "#AVG SENTENCE LENGTH\n",
    "AVG_SENTENCE_LENGTH = len(content.replace(' ',''))/len(re.split(r'[?!.]', content))\n",
    "print('Word average =', AVG_SENTENCE_LENGTH)\n",
    "import textstat\n",
    "#Fog index \n",
    "FOG_INDEX=(textstat.gunning_fog(content))\n",
    "print(\"FOG INDEX = \",FOG_INDEX)\n",
    "#Average No of Words Per Sentence \n",
    "AVG_NUMBER_OF_WORDS_PER_SENTENCE = [len(l.split()) for l in re.split(r'[?!.]', content) if l.strip()]\n",
    "print(\"Average no of words per sentence\")\n",
    "AVG_NUMBER_OF_WORDS_PER_SENTENCE=print(sum(AVG_NUMBER_OF_WORDS_PER_SENTENCE)/len(AVG_NUMBER_OF_WORDS_PER_SENTENCE))\n",
    "#Complex words\n",
    "def syllable_count(word):\n",
    "    count = 0\n",
    "    vowels = \"AEIOUYaeiouy\"\n",
    "    if word[0] in vowels:\n",
    "        count += 1\n",
    "    for index in range(1, len(word)): \n",
    "        if word[index] in vowels and word[index - 1] not in vowels:\n",
    "            count += 1\n",
    "            if word.endswith(\"es\"or \"ed\"):\n",
    "                count -= 1\n",
    "    if count == 0:\n",
    "        count += 1\n",
    "    return count\n",
    "\n",
    "\n",
    "\n",
    "COMPLEX_WORDS=syllable_count(content)\n",
    "print(\"Complex Words\",COMPLEX_WORDS)\n"
   ]
  },
  {
   "cell_type": "code",
   "execution_count": 8,
   "id": "8064e8d7",
   "metadata": {},
   "outputs": [
    {
     "name": "stdout",
     "output_type": "stream",
     "text": [
      "Word Count 3209\n",
      "Percentage of Complex Words 28.575880336553443\n",
      "Average Word per Length 5.0853889943074\n",
      "The AVG number of syllables in the word is: \n",
      "1.9943074003795067\n"
     ]
    }
   ],
   "source": [
    "#Word Count\n",
    "Word_Count=len(content)\n",
    "print(\"Word Count\",Word_Count)\n",
    "#Percentage Complex Words\n",
    "pcw=(COMPLEX_WORDS/Word_Count)*100\n",
    "print(\"Percentage of Complex Words\",pcw)\n",
    "#Average Word Length\n",
    "Average_Word_Length=len(content.replace(' ',''))/len(content.split())\n",
    "print(\"Average Word per Length\",Average_Word_Length)\n",
    "#Syllable Count Per Word\n",
    "word=content.replace(' ','')\n",
    "syllable_count=0\n",
    "for w in word:\n",
    "      if(w=='a' or w=='e' or w=='i' or w=='o' or w=='y' or w=='u' or w=='A' or w=='E' or w=='I' or w=='O' or w=='U' or w=='Y'):\n",
    "            syllable_count=syllable_count+1\n",
    "print(\"The AVG number of syllables in the word is: \")\n",
    "print(syllable_count/len(content.split()))"
   ]
  },
  {
   "cell_type": "code",
   "execution_count": 1,
   "id": "98b83b4d",
   "metadata": {},
   "outputs": [
    {
     "name": "stdout",
     "output_type": "stream",
     "text": [
      "14\n",
      "17\n",
      "Word average = 2680.0\n",
      "FOG INDEX =  215.34\n",
      "Average no of words per sentence\n",
      "527.0\n",
      "Complex Words 917\n",
      "Word Count 3209\n",
      "Percentage of Complex Words 28.575880336553443\n",
      "Average Word per Length 5.0853889943074\n",
      "The AVG number of syllables in the word is: \n",
      "1.9943074003795067\n"
     ]
    },
    {
     "data": {
      "text/html": [
       "<div>\n",
       "<style scoped>\n",
       "    .dataframe tbody tr th:only-of-type {\n",
       "        vertical-align: middle;\n",
       "    }\n",
       "\n",
       "    .dataframe tbody tr th {\n",
       "        vertical-align: top;\n",
       "    }\n",
       "\n",
       "    .dataframe thead th {\n",
       "        text-align: right;\n",
       "    }\n",
       "</style>\n",
       "<table border=\"1\" class=\"dataframe\">\n",
       "  <thead>\n",
       "    <tr style=\"text-align: right;\">\n",
       "      <th></th>\n",
       "      <th>url</th>\n",
       "      <th>title</th>\n",
       "      <th>content</th>\n",
       "      <th>filter_content</th>\n",
       "      <th>Positive_Score</th>\n",
       "      <th>Negative_Score</th>\n",
       "      <th>Avg_Sentence_Length</th>\n",
       "      <th>Percentage_Complex_Word</th>\n",
       "      <th>Fog_Index</th>\n",
       "      <th>AVG_NUMBER_OF_WORDS_PER_SENTENCE</th>\n",
       "      <th>COMPLEX_WORDS</th>\n",
       "      <th>Word_Count</th>\n",
       "      <th>syllable</th>\n",
       "      <th>Average_Word_Length</th>\n",
       "      <th>polarity</th>\n",
       "      <th>subjectivity</th>\n",
       "    </tr>\n",
       "  </thead>\n",
       "  <tbody>\n",
       "    <tr>\n",
       "      <th>0</th>\n",
       "      <td>https://insights.blackcoffer.com/are-we-any-cl...</td>\n",
       "      <td>Are we any closer to preventing a nuclear holo...</td>\n",
       "      <td>One thought always comes to my mind…What if w...</td>\n",
       "      <td>One thought always comes to my mind…What if we...</td>\n",
       "      <td>14</td>\n",
       "      <td>17</td>\n",
       "      <td>2680.0</td>\n",
       "      <td>28.57588</td>\n",
       "      <td>215.34</td>\n",
       "      <td>527.0</td>\n",
       "      <td>917</td>\n",
       "      <td>3209</td>\n",
       "      <td>1.994307</td>\n",
       "      <td>5.085389</td>\n",
       "      <td>0.050444</td>\n",
       "      <td>0.397262</td>\n",
       "    </tr>\n",
       "  </tbody>\n",
       "</table>\n",
       "</div>"
      ],
      "text/plain": [
       "                                                 url  \\\n",
       "0  https://insights.blackcoffer.com/are-we-any-cl...   \n",
       "\n",
       "                                               title  \\\n",
       "0  Are we any closer to preventing a nuclear holo...   \n",
       "\n",
       "                                             content  \\\n",
       "0   One thought always comes to my mind…What if w...   \n",
       "\n",
       "                                      filter_content  Positive_Score  \\\n",
       "0  One thought always comes to my mind…What if we...              14   \n",
       "\n",
       "   Negative_Score  Avg_Sentence_Length  Percentage_Complex_Word  Fog_Index  \\\n",
       "0              17               2680.0                 28.57588     215.34   \n",
       "\n",
       "    AVG_NUMBER_OF_WORDS_PER_SENTENCE  COMPLEX_WORDS  Word_Count  syllable  \\\n",
       "0                              527.0            917        3209  1.994307   \n",
       "\n",
       "   Average_Word_Length  polarity  subjectivity  \n",
       "0             5.085389  0.050444      0.397262  "
      ]
     },
     "execution_count": 1,
     "metadata": {},
     "output_type": "execute_result"
    }
   ],
   "source": [
    "import requests\n",
    "import pandas as pd \n",
    "from bs4 import BeautifulSoup\n",
    "import string\n",
    "import spacy\n",
    "import re\n",
    "url = \"\"\"https://insights.blackcoffer.com/are-we-any-closer-to-preventing-a-nuclear-holocaust/\"\"\"\n",
    "\n",
    "headers = {\"User-Agent\": \"Mozilla/5.0 (X11; Linux x86_64; rv:60.0) Gecko/20100101 Firefox/60.0\"}\n",
    "page = requests.get(url, headers=headers)\n",
    "soup = BeautifulSoup(page.content, 'html.parser')\n",
    "soup=BeautifulSoup(page.content, 'html.parser')\n",
    "title=soup.find('h1',class_=\"entry-title\")\n",
    "title=title.text.replace('\\n',\" \")\n",
    "# title\n",
    "\n",
    "content=soup.findAll(attrs={'class':'td-post-content'})\n",
    "content=content[0].text.replace('\\n',\" \")\n",
    "# print(content)\n",
    "#Punctuation\n",
    "content = content.translate(str.maketrans('', '', string.punctuation)) \n",
    "# print(content)\n",
    "text = content.split()\n",
    "# print(text)\n",
    "len(text)\n",
    "#Positive Score \n",
    "with open(r\"C:\\Users\\Om Bhandwalkar\\Desktop\\pos\\positive-words.txt\") as pos:\n",
    "    poswords = pos.read().split(\"\\n\")  \n",
    "    poswords = poswords[5:]\n",
    "pos_count = \" \".join ([w for w in text if w in poswords])\n",
    "pos_count=pos_count.split(\" \")\n",
    "Positive_score=len(pos_count)\n",
    "print(Positive_score)\n",
    "\n",
    "#Negative Score\n",
    "with open(r\"C:\\Users\\Om Bhandwalkar\\Desktop\\pos\\negative-words.txt\",encoding =\"ISO-8859-1\") as neg:\n",
    "    negwords = neg.read().split(\"\\n\")\n",
    "    \n",
    "negwords = negwords[36:]\n",
    "neg_count = \" \".join ([w for w in text if w in negwords])\n",
    "neg_count=neg_count.split(\" \")\n",
    "Negative_score=len(neg_count)\n",
    "print(Negative_score)\n",
    "\n",
    "\n",
    "filter_content = ' '.join(text)\n",
    "data=[[url,title,content,filter_content,Positive_score,Negative_score]]\n",
    "data=pd.DataFrame(data,columns=[\"url\",\"title\",\"content\",\"filter_content\",\"Positive_Score\",\"Negative_Score\"])\n",
    "from textblob import TextBlob\n",
    "# Get The Subjectivity\n",
    "def sentiment_analysis(data):\n",
    "    sentiment = TextBlob(data[\"content\"]).sentiment\n",
    "    return pd.Series([sentiment.polarity,sentiment.subjectivity ])\n",
    "data[[\"polarity\", \"subjectivity\"]] = data.apply(sentiment_analysis, axis=1)\n",
    "data\n",
    "#AVG SENTENCE LENGTH\n",
    "AVG_SENTENCE_LENGTH = len(content.replace(' ',''))/len(re.split(r'[?!.]', content))\n",
    "print('Word average =', AVG_SENTENCE_LENGTH)\n",
    "import textstat\n",
    "#Fog index \n",
    "FOG_INDEX=(textstat.gunning_fog(content))\n",
    "print(\"FOG INDEX = \",FOG_INDEX)\n",
    "#Average No of Words Per Sentence \n",
    "AVG_NUMBER_OF_WORDS_PER_SENTENCE = [len(l.split()) for l in re.split(r'[?!.]', content) if l.strip()]\n",
    "print(\"Average no of words per sentence\")\n",
    "AVG_NUMBER_OF_WORDS_PER_SENTENCE=(sum(AVG_NUMBER_OF_WORDS_PER_SENTENCE)/len(AVG_NUMBER_OF_WORDS_PER_SENTENCE))\n",
    "print(AVG_NUMBER_OF_WORDS_PER_SENTENCE)\n",
    "#Complex words\n",
    "def syllable_count(word):\n",
    "    count = 0\n",
    "    vowels = \"AEIOUYaeiouy\"\n",
    "    if word[0] in vowels:\n",
    "        count += 1\n",
    "    for index in range(1, len(word)): \n",
    "        if word[index] in vowels and word[index - 1] not in vowels:\n",
    "            count += 1\n",
    "            if word.endswith(\"es\"or \"ed\"):\n",
    "                count -= 1\n",
    "    if count == 0:\n",
    "        count += 1\n",
    "    return count\n",
    "\n",
    "\n",
    "\n",
    "COMPLEX_WORDS=syllable_count(content)\n",
    "print(\"Complex Words\",COMPLEX_WORDS)\n",
    "#Word Count\n",
    "Word_Count=len(content)\n",
    "print(\"Word Count\",Word_Count)\n",
    "#Percentage Complex Words\n",
    "pcw=(COMPLEX_WORDS/Word_Count)*100\n",
    "print(\"Percentage of Complex Words\",pcw)\n",
    "#Average Word Length\n",
    "Average_Word_Length=len(content.replace(' ',''))/len(content.split())\n",
    "print(\"Average Word per Length\",Average_Word_Length)\n",
    "#Syllable Count Per Word\n",
    "word=content.replace(' ','')\n",
    "syllable_count=0\n",
    "for w in word:\n",
    "      if(w=='a' or w=='e' or w=='i' or w=='o' or w=='y' or w=='u' or w=='A' or w=='E' or w=='I' or w=='O' or w=='U' or w=='Y'):\n",
    "            syllable_count=syllable_count+1\n",
    "print(\"The AVG number of syllables in the word is: \")\n",
    "syllable = (syllable_count/len(content.split()))\n",
    "print(syllable)\n",
    "\n",
    "data = [[url,title,content,filter_content,Positive_score,Negative_score,AVG_SENTENCE_LENGTH,pcw,FOG_INDEX,\n",
    "         AVG_NUMBER_OF_WORDS_PER_SENTENCE,COMPLEX_WORDS,Word_Count,syllable,Average_Word_Length]]\n",
    "data=pd.DataFrame(data,columns=[\"url\",\"title\",\"content\",\"filter_content\",\"Positive_Score\",\"Negative_Score\",\"Avg_Sentence_Length\"\n",
    "                               ,\"Percentage_Complex_Word\",\"Fog_Index\",\" AVG_NUMBER_OF_WORDS_PER_SENTENCE\",\"COMPLEX_WORDS\",\n",
    "                               \"Word_Count\",\"syllable\",\"Average_Word_Length\"])\n",
    "from textblob import TextBlob\n",
    "# Get The Subjectivity\n",
    "def sentiment_analysis(data):\n",
    "    sentiment = TextBlob(data[\"content\"]).sentiment\n",
    "    return pd.Series([sentiment.polarity,sentiment.subjectivity ])\n",
    "data[[\"polarity\", \"subjectivity\"]] = data.apply(sentiment_analysis, axis=1)\n",
    "data"
   ]
  },
  {
   "cell_type": "code",
   "execution_count": 2,
   "id": "b6b7de61",
   "metadata": {},
   "outputs": [],
   "source": [
    "data.to_csv(r'C:\\Users\\Om Bhandwalkar\\Desktop\\BlackCoffer Assignment\\Output\\url_70.csv')"
   ]
  },
  {
   "cell_type": "code",
   "execution_count": null,
   "id": "85f5135f",
   "metadata": {},
   "outputs": [],
   "source": []
  }
 ],
 "metadata": {
  "kernelspec": {
   "display_name": "Python 3 (ipykernel)",
   "language": "python",
   "name": "python3"
  },
  "language_info": {
   "codemirror_mode": {
    "name": "ipython",
    "version": 3
   },
   "file_extension": ".py",
   "mimetype": "text/x-python",
   "name": "python",
   "nbconvert_exporter": "python",
   "pygments_lexer": "ipython3",
   "version": "3.9.12"
  }
 },
 "nbformat": 4,
 "nbformat_minor": 5
}
