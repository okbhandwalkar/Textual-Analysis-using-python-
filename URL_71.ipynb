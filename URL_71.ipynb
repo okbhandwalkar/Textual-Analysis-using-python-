{
 "cells": [
  {
   "cell_type": "code",
   "execution_count": 1,
   "id": "756dd58e",
   "metadata": {},
   "outputs": [
    {
     "data": {
      "text/plain": [
       "'Will technology eliminate the need for animal testing in drug development?'"
      ]
     },
     "execution_count": 1,
     "metadata": {},
     "output_type": "execute_result"
    }
   ],
   "source": [
    "import requests\n",
    "import pandas as pd \n",
    "from bs4 import BeautifulSoup\n",
    "import string\n",
    "import spacy\n",
    "import re\n",
    "url = \"\"\"https://insights.blackcoffer.com/will-technology-eliminate-the-need-for-animal-testing-in-drug-development/\"\"\"\n",
    "headers = {\"User-Agent\": \"Mozilla/5.0 (X11; Linux x86_64; rv:60.0) Gecko/20100101 Firefox/60.0\"}\n",
    "page = requests.get(url, headers=headers)\n",
    "soup = BeautifulSoup(page.content, 'html.parser')\n",
    "soup=BeautifulSoup(page.content, 'html.parser')\n",
    "title=soup.find('h1',class_=\"entry-title\")\n",
    "title=title.text.replace('\\n',\" \")\n",
    "title\n"
   ]
  },
  {
   "cell_type": "code",
   "execution_count": 2,
   "id": "b19e7593",
   "metadata": {},
   "outputs": [
    {
     "name": "stdout",
     "output_type": "stream",
     "text": [
      "  Imagine yourself as a being who can speak but no one can comprehend you. You are kept in captivity, in a place where you can hardly breathe. You are finally selected and taken out of that place, it is a happy moment for you. You can finally have your freedom but sadly instead of being free, you are prodded by rods and fed toxic substances against your will. The only thing you can do is scream in vain. Your voice is heard by everyone but it gets lost in the noise of scientific advancement. You writhe in pain as the substances take effect on your body, the pain slowly creeps into your body and you slowly succumb to it, never to wake up again.   Since the time of Aristotle, animals have been subjected to various inhumane experiments for the sake of knowledge. These experiments though unethical were very necessary for the advancement of science. Animal testing has become an important part of experimenting on living organisms to ensure that a product is safe for humans to consume. The lab animals are generally subjected to high levels of toxicity while being kept in isolation due to which they have to suffer a lot of stress and discomfort. Animal testing has a large number of drawbacks: Animals and human beings react differently to certain substances. For example, in 2004, Vioxx withdrew “rofexocib” after more than 80,000 people suffered heart attacks after taking the drug. Although the drug showed no such effects during animal testing, it posed threat to human beings. It is very costly to conduct animal testing as animals need to be provided with shelter and food over a large period until the trials are completed. Animal testing might not lead to a scientific breakthrough. There are various instances of animal testing failing to achieve the desired result which ultimately leads to loss of time, resources and money. Some products like cosmetics may not be essential to humans and therefore don’t require animal testing at all. The cosmetic industry is notorious for animal testing of products and it’s a pity that some of those products aren’t even launched in the market. All of these things make us question ourselves. Is it even worth it? Is it possible to stop this cruelty without hampering our growth? With the advancement in science, it can be made possible that we don’t have to use animals ever again.   Advanced computing– With the availability of various software programs it has become easier to understand the working of a biological organism. We can replicate the entire human body and conduct various tests to get generate simulations to assess the possible effects of a chemical or biological reaction. For example, CADD (Computer-aided drug design) is becoming popular for stimulating whether a particular drug affects the cells or not. This cuts down the requirement of using animals for testing and also reduces the experimentation time as the researchers don’t have to wait for the animals to show response. Tissue Culture – Growing tissues in Petri dishes and in vitro cells can be a viable alternative to animal testing. Tissues and cells from brain, liver, kidney etc. is taken from an animal and kept in a suitable growth medium for a few weeks or even for a year. These cultures can be used to test the toxicity and efficacy of substances. For example: In eye irritancy tests, new animals have to be used in each experiment to check if the substance is irritating the eye or not. Many animals permanently lose their eyesight and using a new animal every time is just simply inhumane. Using bovine corneal organ culture in which the corneal tissue is cultured for three weeks before using it yields the same result without any complications. Scientists have started to use this method to test for toxicity and efficacy in cosmetics, drugs and chemical sectors. 3-D printing– Making complex tissue structures from a single digital file is astonishing. Printing tissues can help in carrying out experiments on it and getting results similar to the real tissues. For example Earlier animal organs, charts and 3-D models were used to explain the functioning of a particular organ to medical students but now bio-printing companies have started making human tissues and organs which are used by students in various medical schools to understand the intricacies of human organs which has helped in bringing down animal experimentation to a large extent. These bio-printed models can also be used by the researchers to conduct experiments on them without using animals for it. A French company is working on a bio-printed liver model to test liver toxicity without having to use animals at all. This is a breakthrough in the field of bio-technology as it can bring down animal experimentation by a large percentage.    Organ-on-a-chip method – It is a fairly new technology which consists of growing cells inside chips where they imitate the structure and behavior of human organs. Researchers can test drugs on these chips and it is far cheaper and humane than testing on animals. For example, UK Company CN Bio has come with a system which consists of 10 organs on a single chip and they have tissues ranging from the liver to the brain.Micro dosing: Humans can participate in these experiments in which they are injected with small one time doses and are constantly monitored under imaging techniques to gather information on the changes happening in the body. These tests can replace certain tests on animals and help in removing drug compounds that don’t have the desired effect on the human body. For example, COVID-19 tests were carried on human volunteers in which they were given small doses of the vaccine and kept under constant surveillance. This helped the researchers in removing the drugs that were not having the desired effect on the human body and thus they were also able to remove animal testing as one of the processes. These alternatives can help in bringing down animal experimentation to a large extent. If science can progress without harming animals then we should go for it rather than putting them through excruciating pain. We must protect the animals as much as we can or else we would soon be living in a world without them.  Blackcoffer Insights 21: Eeshan Singh and Sowmya K P, ICFAI Business School, Hyderabad \n",
      "  Imagine yourself as a being who can speak but no one can comprehend you You are kept in captivity in a place where you can hardly breathe You are finally selected and taken out of that place it is a happy moment for you You can finally have your freedom but sadly instead of being free you are prodded by rods and fed toxic substances against your will The only thing you can do is scream in vain Your voice is heard by everyone but it gets lost in the noise of scientific advancement You writhe in pain as the substances take effect on your body the pain slowly creeps into your body and you slowly succumb to it never to wake up again   Since the time of Aristotle animals have been subjected to various inhumane experiments for the sake of knowledge These experiments though unethical were very necessary for the advancement of science Animal testing has become an important part of experimenting on living organisms to ensure that a product is safe for humans to consume The lab animals are generally subjected to high levels of toxicity while being kept in isolation due to which they have to suffer a lot of stress and discomfort Animal testing has a large number of drawbacks Animals and human beings react differently to certain substances For example in 2004 Vioxx withdrew “rofexocib” after more than 80000 people suffered heart attacks after taking the drug Although the drug showed no such effects during animal testing it posed threat to human beings It is very costly to conduct animal testing as animals need to be provided with shelter and food over a large period until the trials are completed Animal testing might not lead to a scientific breakthrough There are various instances of animal testing failing to achieve the desired result which ultimately leads to loss of time resources and money Some products like cosmetics may not be essential to humans and therefore don’t require animal testing at all The cosmetic industry is notorious for animal testing of products and it’s a pity that some of those products aren’t even launched in the market All of these things make us question ourselves Is it even worth it Is it possible to stop this cruelty without hampering our growth With the advancement in science it can be made possible that we don’t have to use animals ever again   Advanced computing– With the availability of various software programs it has become easier to understand the working of a biological organism We can replicate the entire human body and conduct various tests to get generate simulations to assess the possible effects of a chemical or biological reaction For example CADD Computeraided drug design is becoming popular for stimulating whether a particular drug affects the cells or not This cuts down the requirement of using animals for testing and also reduces the experimentation time as the researchers don’t have to wait for the animals to show response Tissue Culture – Growing tissues in Petri dishes and in vitro cells can be a viable alternative to animal testing Tissues and cells from brain liver kidney etc is taken from an animal and kept in a suitable growth medium for a few weeks or even for a year These cultures can be used to test the toxicity and efficacy of substances For example In eye irritancy tests new animals have to be used in each experiment to check if the substance is irritating the eye or not Many animals permanently lose their eyesight and using a new animal every time is just simply inhumane Using bovine corneal organ culture in which the corneal tissue is cultured for three weeks before using it yields the same result without any complications Scientists have started to use this method to test for toxicity and efficacy in cosmetics drugs and chemical sectors 3D printing– Making complex tissue structures from a single digital file is astonishing Printing tissues can help in carrying out experiments on it and getting results similar to the real tissues For example Earlier animal organs charts and 3D models were used to explain the functioning of a particular organ to medical students but now bioprinting companies have started making human tissues and organs which are used by students in various medical schools to understand the intricacies of human organs which has helped in bringing down animal experimentation to a large extent These bioprinted models can also be used by the researchers to conduct experiments on them without using animals for it A French company is working on a bioprinted liver model to test liver toxicity without having to use animals at all This is a breakthrough in the field of biotechnology as it can bring down animal experimentation by a large percentage    Organonachip method – It is a fairly new technology which consists of growing cells inside chips where they imitate the structure and behavior of human organs Researchers can test drugs on these chips and it is far cheaper and humane than testing on animals For example UK Company CN Bio has come with a system which consists of 10 organs on a single chip and they have tissues ranging from the liver to the brainMicro dosing Humans can participate in these experiments in which they are injected with small one time doses and are constantly monitored under imaging techniques to gather information on the changes happening in the body These tests can replace certain tests on animals and help in removing drug compounds that don’t have the desired effect on the human body For example COVID19 tests were carried on human volunteers in which they were given small doses of the vaccine and kept under constant surveillance This helped the researchers in removing the drugs that were not having the desired effect on the human body and thus they were also able to remove animal testing as one of the processes These alternatives can help in bringing down animal experimentation to a large extent If science can progress without harming animals then we should go for it rather than putting them through excruciating pain We must protect the animals as much as we can or else we would soon be living in a world without them  Blackcoffer Insights 21 Eeshan Singh and Sowmya K P ICFAI Business School Hyderabad \n",
      "['Imagine', 'yourself', 'as', 'a', 'being', 'who', 'can', 'speak', 'but', 'no', 'one', 'can', 'comprehend', 'you', 'You', 'are', 'kept', 'in', 'captivity', 'in', 'a', 'place', 'where', 'you', 'can', 'hardly', 'breathe', 'You', 'are', 'finally', 'selected', 'and', 'taken', 'out', 'of', 'that', 'place', 'it', 'is', 'a', 'happy', 'moment', 'for', 'you', 'You', 'can', 'finally', 'have', 'your', 'freedom', 'but', 'sadly', 'instead', 'of', 'being', 'free', 'you', 'are', 'prodded', 'by', 'rods', 'and', 'fed', 'toxic', 'substances', 'against', 'your', 'will', 'The', 'only', 'thing', 'you', 'can', 'do', 'is', 'scream', 'in', 'vain', 'Your', 'voice', 'is', 'heard', 'by', 'everyone', 'but', 'it', 'gets', 'lost', 'in', 'the', 'noise', 'of', 'scientific', 'advancement', 'You', 'writhe', 'in', 'pain', 'as', 'the', 'substances', 'take', 'effect', 'on', 'your', 'body', 'the', 'pain', 'slowly', 'creeps', 'into', 'your', 'body', 'and', 'you', 'slowly', 'succumb', 'to', 'it', 'never', 'to', 'wake', 'up', 'again', 'Since', 'the', 'time', 'of', 'Aristotle', 'animals', 'have', 'been', 'subjected', 'to', 'various', 'inhumane', 'experiments', 'for', 'the', 'sake', 'of', 'knowledge', 'These', 'experiments', 'though', 'unethical', 'were', 'very', 'necessary', 'for', 'the', 'advancement', 'of', 'science', 'Animal', 'testing', 'has', 'become', 'an', 'important', 'part', 'of', 'experimenting', 'on', 'living', 'organisms', 'to', 'ensure', 'that', 'a', 'product', 'is', 'safe', 'for', 'humans', 'to', 'consume', 'The', 'lab', 'animals', 'are', 'generally', 'subjected', 'to', 'high', 'levels', 'of', 'toxicity', 'while', 'being', 'kept', 'in', 'isolation', 'due', 'to', 'which', 'they', 'have', 'to', 'suffer', 'a', 'lot', 'of', 'stress', 'and', 'discomfort', 'Animal', 'testing', 'has', 'a', 'large', 'number', 'of', 'drawbacks', 'Animals', 'and', 'human', 'beings', 'react', 'differently', 'to', 'certain', 'substances', 'For', 'example', 'in', '2004', 'Vioxx', 'withdrew', '“rofexocib”', 'after', 'more', 'than', '80000', 'people', 'suffered', 'heart', 'attacks', 'after', 'taking', 'the', 'drug', 'Although', 'the', 'drug', 'showed', 'no', 'such', 'effects', 'during', 'animal', 'testing', 'it', 'posed', 'threat', 'to', 'human', 'beings', 'It', 'is', 'very', 'costly', 'to', 'conduct', 'animal', 'testing', 'as', 'animals', 'need', 'to', 'be', 'provided', 'with', 'shelter', 'and', 'food', 'over', 'a', 'large', 'period', 'until', 'the', 'trials', 'are', 'completed', 'Animal', 'testing', 'might', 'not', 'lead', 'to', 'a', 'scientific', 'breakthrough', 'There', 'are', 'various', 'instances', 'of', 'animal', 'testing', 'failing', 'to', 'achieve', 'the', 'desired', 'result', 'which', 'ultimately', 'leads', 'to', 'loss', 'of', 'time', 'resources', 'and', 'money', 'Some', 'products', 'like', 'cosmetics', 'may', 'not', 'be', 'essential', 'to', 'humans', 'and', 'therefore', 'don’t', 'require', 'animal', 'testing', 'at', 'all', 'The', 'cosmetic', 'industry', 'is', 'notorious', 'for', 'animal', 'testing', 'of', 'products', 'and', 'it’s', 'a', 'pity', 'that', 'some', 'of', 'those', 'products', 'aren’t', 'even', 'launched', 'in', 'the', 'market', 'All', 'of', 'these', 'things', 'make', 'us', 'question', 'ourselves', 'Is', 'it', 'even', 'worth', 'it', 'Is', 'it', 'possible', 'to', 'stop', 'this', 'cruelty', 'without', 'hampering', 'our', 'growth', 'With', 'the', 'advancement', 'in', 'science', 'it', 'can', 'be', 'made', 'possible', 'that', 'we', 'don’t', 'have', 'to', 'use', 'animals', 'ever', 'again', 'Advanced', 'computing–', 'With', 'the', 'availability', 'of', 'various', 'software', 'programs', 'it', 'has', 'become', 'easier', 'to', 'understand', 'the', 'working', 'of', 'a', 'biological', 'organism', 'We', 'can', 'replicate', 'the', 'entire', 'human', 'body', 'and', 'conduct', 'various', 'tests', 'to', 'get', 'generate', 'simulations', 'to', 'assess', 'the', 'possible', 'effects', 'of', 'a', 'chemical', 'or', 'biological', 'reaction', 'For', 'example', 'CADD', 'Computeraided', 'drug', 'design', 'is', 'becoming', 'popular', 'for', 'stimulating', 'whether', 'a', 'particular', 'drug', 'affects', 'the', 'cells', 'or', 'not', 'This', 'cuts', 'down', 'the', 'requirement', 'of', 'using', 'animals', 'for', 'testing', 'and', 'also', 'reduces', 'the', 'experimentation', 'time', 'as', 'the', 'researchers', 'don’t', 'have', 'to', 'wait', 'for', 'the', 'animals', 'to', 'show', 'response', 'Tissue', 'Culture', '–', 'Growing', 'tissues', 'in', 'Petri', 'dishes', 'and', 'in', 'vitro', 'cells', 'can', 'be', 'a', 'viable', 'alternative', 'to', 'animal', 'testing', 'Tissues', 'and', 'cells', 'from', 'brain', 'liver', 'kidney', 'etc', 'is', 'taken', 'from', 'an', 'animal', 'and', 'kept', 'in', 'a', 'suitable', 'growth', 'medium', 'for', 'a', 'few', 'weeks', 'or', 'even', 'for', 'a', 'year', 'These', 'cultures', 'can', 'be', 'used', 'to', 'test', 'the', 'toxicity', 'and', 'efficacy', 'of', 'substances', 'For', 'example', 'In', 'eye', 'irritancy', 'tests', 'new', 'animals', 'have', 'to', 'be', 'used', 'in', 'each', 'experiment', 'to', 'check', 'if', 'the', 'substance', 'is', 'irritating', 'the', 'eye', 'or', 'not', 'Many', 'animals', 'permanently', 'lose', 'their', 'eyesight', 'and', 'using', 'a', 'new', 'animal', 'every', 'time', 'is', 'just', 'simply', 'inhumane', 'Using', 'bovine', 'corneal', 'organ', 'culture', 'in', 'which', 'the', 'corneal', 'tissue', 'is', 'cultured', 'for', 'three', 'weeks', 'before', 'using', 'it', 'yields', 'the', 'same', 'result', 'without', 'any', 'complications', 'Scientists', 'have', 'started', 'to', 'use', 'this', 'method', 'to', 'test', 'for', 'toxicity', 'and', 'efficacy', 'in', 'cosmetics', 'drugs', 'and', 'chemical', 'sectors', '3D', 'printing–', 'Making', 'complex', 'tissue', 'structures', 'from', 'a', 'single', 'digital', 'file', 'is', 'astonishing', 'Printing', 'tissues', 'can', 'help', 'in', 'carrying', 'out', 'experiments', 'on', 'it', 'and', 'getting', 'results', 'similar', 'to', 'the', 'real', 'tissues', 'For', 'example', 'Earlier', 'animal', 'organs', 'charts', 'and', '3D', 'models', 'were', 'used', 'to', 'explain', 'the', 'functioning', 'of', 'a', 'particular', 'organ', 'to', 'medical', 'students', 'but', 'now', 'bioprinting', 'companies', 'have', 'started', 'making', 'human', 'tissues', 'and', 'organs', 'which', 'are', 'used', 'by', 'students', 'in', 'various', 'medical', 'schools', 'to', 'understand', 'the', 'intricacies', 'of', 'human', 'organs', 'which', 'has', 'helped', 'in', 'bringing', 'down', 'animal', 'experimentation', 'to', 'a', 'large', 'extent', 'These', 'bioprinted', 'models', 'can', 'also', 'be', 'used', 'by', 'the', 'researchers', 'to', 'conduct', 'experiments', 'on', 'them', 'without', 'using', 'animals', 'for', 'it', 'A', 'French', 'company', 'is', 'working', 'on', 'a', 'bioprinted', 'liver', 'model', 'to', 'test', 'liver', 'toxicity', 'without', 'having', 'to', 'use', 'animals', 'at', 'all', 'This', 'is', 'a', 'breakthrough', 'in', 'the', 'field', 'of', 'biotechnology', 'as', 'it', 'can', 'bring', 'down', 'animal', 'experimentation', 'by', 'a', 'large', 'percentage', 'Organonachip', 'method', '–', 'It', 'is', 'a', 'fairly', 'new', 'technology', 'which', 'consists', 'of', 'growing', 'cells', 'inside', 'chips', 'where', 'they', 'imitate', 'the', 'structure', 'and', 'behavior', 'of', 'human', 'organs', 'Researchers', 'can', 'test', 'drugs', 'on', 'these', 'chips', 'and', 'it', 'is', 'far', 'cheaper', 'and', 'humane', 'than', 'testing', 'on', 'animals', 'For', 'example', 'UK', 'Company', 'CN', 'Bio', 'has', 'come', 'with', 'a', 'system', 'which', 'consists', 'of', '10', 'organs', 'on', 'a', 'single', 'chip', 'and', 'they', 'have', 'tissues', 'ranging', 'from', 'the', 'liver', 'to', 'the', 'brainMicro', 'dosing', 'Humans', 'can', 'participate', 'in', 'these', 'experiments', 'in', 'which', 'they', 'are', 'injected', 'with', 'small', 'one', 'time', 'doses', 'and', 'are', 'constantly', 'monitored', 'under', 'imaging', 'techniques', 'to', 'gather', 'information', 'on', 'the', 'changes', 'happening', 'in', 'the', 'body', 'These', 'tests', 'can', 'replace', 'certain', 'tests', 'on', 'animals', 'and', 'help', 'in', 'removing', 'drug', 'compounds', 'that', 'don’t', 'have', 'the', 'desired', 'effect', 'on', 'the', 'human', 'body', 'For', 'example', 'COVID19', 'tests', 'were', 'carried', 'on', 'human', 'volunteers', 'in', 'which', 'they', 'were', 'given', 'small', 'doses', 'of', 'the', 'vaccine', 'and', 'kept', 'under', 'constant', 'surveillance', 'This', 'helped', 'the', 'researchers', 'in', 'removing', 'the', 'drugs', 'that', 'were', 'not', 'having', 'the', 'desired', 'effect', 'on', 'the', 'human', 'body', 'and', 'thus', 'they', 'were', 'also', 'able', 'to', 'remove', 'animal', 'testing', 'as', 'one', 'of', 'the', 'processes', 'These', 'alternatives', 'can', 'help', 'in', 'bringing', 'down', 'animal', 'experimentation', 'to', 'a', 'large', 'extent', 'If', 'science', 'can', 'progress', 'without', 'harming', 'animals', 'then', 'we', 'should', 'go', 'for', 'it', 'rather', 'than', 'putting', 'them', 'through', 'excruciating', 'pain', 'We', 'must', 'protect', 'the', 'animals', 'as', 'much', 'as', 'we', 'can', 'or', 'else', 'we', 'would', 'soon', 'be', 'living', 'in', 'a', 'world', 'without', 'them', 'Blackcoffer', 'Insights', '21', 'Eeshan', 'Singh', 'and', 'Sowmya', 'K', 'P', 'ICFAI', 'Business', 'School', 'Hyderabad']\n"
     ]
    }
   ],
   "source": [
    "content=soup.findAll(attrs={'class':'td-post-content'})\n",
    "content=content[0].text.replace('\\n',\" \")\n",
    "print(content)\n",
    "#Punctuation\n",
    "content = content.translate(str.maketrans('', '', string.punctuation)) \n",
    "print(content)\n",
    "text = content.split()\n",
    "print(text)\n"
   ]
  },
  {
   "cell_type": "code",
   "execution_count": 3,
   "id": "08a11193",
   "metadata": {},
   "outputs": [
    {
     "data": {
      "text/plain": [
       "1060"
      ]
     },
     "execution_count": 3,
     "metadata": {},
     "output_type": "execute_result"
    }
   ],
   "source": [
    "len(text)"
   ]
  },
  {
   "cell_type": "code",
   "execution_count": 4,
   "id": "bc3679de",
   "metadata": {},
   "outputs": [
    {
     "name": "stdout",
     "output_type": "stream",
     "text": [
      "23\n"
     ]
    }
   ],
   "source": [
    "#Positive Score \n",
    "with open(r\"C:\\Users\\Om Bhandwalkar\\Desktop\\pos\\positive-words.txt\") as pos:\n",
    "    poswords = pos.read().split(\"\\n\")  \n",
    "    poswords = poswords[5:]\n",
    "pos_count = \" \".join ([w for w in text if w in poswords])\n",
    "pos_count=pos_count.split(\" \")\n",
    "Positive_score=len(pos_count)\n",
    "print(Positive_score)"
   ]
  },
  {
   "cell_type": "code",
   "execution_count": 5,
   "id": "54aa6c97",
   "metadata": {},
   "outputs": [
    {
     "name": "stdout",
     "output_type": "stream",
     "text": [
      "37\n"
     ]
    }
   ],
   "source": [
    "#Negative Score\n",
    "with open(r\"C:\\Users\\Om Bhandwalkar\\Desktop\\pos\\negative-words.txt\",encoding =\"ISO-8859-1\") as neg:\n",
    "    negwords = neg.read().split(\"\\n\")\n",
    "    \n",
    "negwords = negwords[36:]\n",
    "neg_count = \" \".join ([w for w in text if w in negwords])\n",
    "neg_count=neg_count.split(\" \")\n",
    "Negative_score=len(neg_count)\n",
    "print(Negative_score)"
   ]
  },
  {
   "cell_type": "code",
   "execution_count": 6,
   "id": "b0faf385",
   "metadata": {},
   "outputs": [
    {
     "data": {
      "text/html": [
       "<div>\n",
       "<style scoped>\n",
       "    .dataframe tbody tr th:only-of-type {\n",
       "        vertical-align: middle;\n",
       "    }\n",
       "\n",
       "    .dataframe tbody tr th {\n",
       "        vertical-align: top;\n",
       "    }\n",
       "\n",
       "    .dataframe thead th {\n",
       "        text-align: right;\n",
       "    }\n",
       "</style>\n",
       "<table border=\"1\" class=\"dataframe\">\n",
       "  <thead>\n",
       "    <tr style=\"text-align: right;\">\n",
       "      <th></th>\n",
       "      <th>url</th>\n",
       "      <th>title</th>\n",
       "      <th>content</th>\n",
       "      <th>filter_content</th>\n",
       "      <th>Positive_Score</th>\n",
       "      <th>Negative_Score</th>\n",
       "      <th>polarity</th>\n",
       "      <th>subjectivity</th>\n",
       "    </tr>\n",
       "  </thead>\n",
       "  <tbody>\n",
       "    <tr>\n",
       "      <th>0</th>\n",
       "      <td>https://insights.blackcoffer.com/will-technolo...</td>\n",
       "      <td>Will technology eliminate the need for animal ...</td>\n",
       "      <td>Imagine yourself as a being who can speak bu...</td>\n",
       "      <td>Imagine yourself as a being who can speak but ...</td>\n",
       "      <td>23</td>\n",
       "      <td>37</td>\n",
       "      <td>0.038341</td>\n",
       "      <td>0.478553</td>\n",
       "    </tr>\n",
       "  </tbody>\n",
       "</table>\n",
       "</div>"
      ],
      "text/plain": [
       "                                                 url  \\\n",
       "0  https://insights.blackcoffer.com/will-technolo...   \n",
       "\n",
       "                                               title  \\\n",
       "0  Will technology eliminate the need for animal ...   \n",
       "\n",
       "                                             content  \\\n",
       "0    Imagine yourself as a being who can speak bu...   \n",
       "\n",
       "                                      filter_content  Positive_Score  \\\n",
       "0  Imagine yourself as a being who can speak but ...              23   \n",
       "\n",
       "   Negative_Score  polarity  subjectivity  \n",
       "0              37  0.038341      0.478553  "
      ]
     },
     "execution_count": 6,
     "metadata": {},
     "output_type": "execute_result"
    }
   ],
   "source": [
    "filter_content = ' '.join(text)\n",
    "data=[[url,title,content,filter_content,Positive_score,Negative_score]]\n",
    "data=pd.DataFrame(data,columns=[\"url\",\"title\",\"content\",\"filter_content\",\"Positive_Score\",\"Negative_Score\"])\n",
    "from textblob import TextBlob\n",
    "# Get The Subjectivity\n",
    "def sentiment_analysis(data):\n",
    "    sentiment = TextBlob(data[\"content\"]).sentiment\n",
    "    return pd.Series([sentiment.polarity,sentiment.subjectivity ])\n",
    "\n",
    "# Adding Subjectivity & Polarity\n",
    "data[[\"polarity\", \"subjectivity\"]] = data.apply(sentiment_analysis, axis=1)\n",
    "\n",
    "data"
   ]
  },
  {
   "cell_type": "code",
   "execution_count": 7,
   "id": "34cf5daf",
   "metadata": {},
   "outputs": [
    {
     "name": "stdout",
     "output_type": "stream",
     "text": [
      "Word average = 5144.0\n",
      "FOG INDEX =  426.49\n",
      "Average no of words per sentence\n",
      "1060.0\n",
      "Complex Words 1837\n"
     ]
    }
   ],
   "source": [
    "#AVG SENTENCE LENGTH\n",
    "AVG_SENTENCE_LENGTH = len(content.replace(' ',''))/len(re.split(r'[?!.]', content))\n",
    "print('Word average =', AVG_SENTENCE_LENGTH)\n",
    "import textstat\n",
    "#Fog index \n",
    "FOG_INDEX=(textstat.gunning_fog(content))\n",
    "print(\"FOG INDEX = \",FOG_INDEX)\n",
    "#Average No of Words Per Sentence \n",
    "AVG_NUMBER_OF_WORDS_PER_SENTENCE = [len(l.split()) for l in re.split(r'[?!.]', content) if l.strip()]\n",
    "print(\"Average no of words per sentence\")\n",
    "AVG_NUMBER_OF_WORDS_PER_SENTENCE=print(sum(AVG_NUMBER_OF_WORDS_PER_SENTENCE)/len(AVG_NUMBER_OF_WORDS_PER_SENTENCE))\n",
    "#Complex words\n",
    "def syllable_count(word):\n",
    "    count = 0\n",
    "    vowels = \"AEIOUYaeiouy\"\n",
    "    if word[0] in vowels:\n",
    "        count += 1\n",
    "    for index in range(1, len(word)): \n",
    "        if word[index] in vowels and word[index - 1] not in vowels:\n",
    "            count += 1\n",
    "            if word.endswith(\"es\"or \"ed\"):\n",
    "                count -= 1\n",
    "    if count == 0:\n",
    "        count += 1\n",
    "    return count\n",
    "\n",
    "\n",
    "\n",
    "COMPLEX_WORDS=syllable_count(content)\n",
    "print(\"Complex Words\",COMPLEX_WORDS)\n"
   ]
  },
  {
   "cell_type": "code",
   "execution_count": 8,
   "id": "c5f74093",
   "metadata": {},
   "outputs": [
    {
     "name": "stdout",
     "output_type": "stream",
     "text": [
      "Word Count 6200\n",
      "Percentage of Complex Words 29.629032258064512\n",
      "Average Word per Length 4.8528301886792455\n",
      "The AVG number of syllables in the word is: \n",
      "1.9283018867924528\n"
     ]
    }
   ],
   "source": [
    "#Word Count\n",
    "Word_Count=len(content)\n",
    "print(\"Word Count\",Word_Count)\n",
    "#Percentage Complex Words\n",
    "pcw=(COMPLEX_WORDS/Word_Count)*100\n",
    "print(\"Percentage of Complex Words\",pcw)\n",
    "#Average Word Length\n",
    "Average_Word_Length=len(content.replace(' ',''))/len(content.split())\n",
    "print(\"Average Word per Length\",Average_Word_Length)\n",
    "#Syllable Count Per Word\n",
    "word=content.replace(' ','')\n",
    "syllable_count=0\n",
    "for w in word:\n",
    "      if(w=='a' or w=='e' or w=='i' or w=='o' or w=='y' or w=='u' or w=='A' or w=='E' or w=='I' or w=='O' or w=='U' or w=='Y'):\n",
    "            syllable_count=syllable_count+1\n",
    "print(\"The AVG number of syllables in the word is: \")\n",
    "print(syllable_count/len(content.split()))"
   ]
  },
  {
   "cell_type": "code",
   "execution_count": 1,
   "id": "996cf564",
   "metadata": {},
   "outputs": [
    {
     "name": "stdout",
     "output_type": "stream",
     "text": [
      "23\n",
      "37\n",
      "Word average = 5144.0\n",
      "FOG INDEX =  426.49\n",
      "Average no of words per sentence\n",
      "1060.0\n",
      "Complex Words 1837\n",
      "Word Count 6200\n",
      "Percentage of Complex Words 29.629032258064512\n",
      "Average Word per Length 4.8528301886792455\n",
      "The AVG number of syllables in the word is: \n",
      "1.9283018867924528\n"
     ]
    },
    {
     "data": {
      "text/html": [
       "<div>\n",
       "<style scoped>\n",
       "    .dataframe tbody tr th:only-of-type {\n",
       "        vertical-align: middle;\n",
       "    }\n",
       "\n",
       "    .dataframe tbody tr th {\n",
       "        vertical-align: top;\n",
       "    }\n",
       "\n",
       "    .dataframe thead th {\n",
       "        text-align: right;\n",
       "    }\n",
       "</style>\n",
       "<table border=\"1\" class=\"dataframe\">\n",
       "  <thead>\n",
       "    <tr style=\"text-align: right;\">\n",
       "      <th></th>\n",
       "      <th>url</th>\n",
       "      <th>title</th>\n",
       "      <th>content</th>\n",
       "      <th>filter_content</th>\n",
       "      <th>Positive_Score</th>\n",
       "      <th>Negative_Score</th>\n",
       "      <th>Avg_Sentence_Length</th>\n",
       "      <th>Percentage_Complex_Word</th>\n",
       "      <th>Fog_Index</th>\n",
       "      <th>AVG_NUMBER_OF_WORDS_PER_SENTENCE</th>\n",
       "      <th>COMPLEX_WORDS</th>\n",
       "      <th>Word_Count</th>\n",
       "      <th>syllable</th>\n",
       "      <th>Average_Word_Length</th>\n",
       "      <th>polarity</th>\n",
       "      <th>subjectivity</th>\n",
       "    </tr>\n",
       "  </thead>\n",
       "  <tbody>\n",
       "    <tr>\n",
       "      <th>0</th>\n",
       "      <td>https://insights.blackcoffer.com/will-technolo...</td>\n",
       "      <td>Will technology eliminate the need for animal ...</td>\n",
       "      <td>Imagine yourself as a being who can speak bu...</td>\n",
       "      <td>Imagine yourself as a being who can speak but ...</td>\n",
       "      <td>23</td>\n",
       "      <td>37</td>\n",
       "      <td>5144.0</td>\n",
       "      <td>29.629032</td>\n",
       "      <td>426.49</td>\n",
       "      <td>1060.0</td>\n",
       "      <td>1837</td>\n",
       "      <td>6200</td>\n",
       "      <td>1.928302</td>\n",
       "      <td>4.85283</td>\n",
       "      <td>0.038341</td>\n",
       "      <td>0.478553</td>\n",
       "    </tr>\n",
       "  </tbody>\n",
       "</table>\n",
       "</div>"
      ],
      "text/plain": [
       "                                                 url  \\\n",
       "0  https://insights.blackcoffer.com/will-technolo...   \n",
       "\n",
       "                                               title  \\\n",
       "0  Will technology eliminate the need for animal ...   \n",
       "\n",
       "                                             content  \\\n",
       "0    Imagine yourself as a being who can speak bu...   \n",
       "\n",
       "                                      filter_content  Positive_Score  \\\n",
       "0  Imagine yourself as a being who can speak but ...              23   \n",
       "\n",
       "   Negative_Score  Avg_Sentence_Length  Percentage_Complex_Word  Fog_Index  \\\n",
       "0              37               5144.0                29.629032     426.49   \n",
       "\n",
       "    AVG_NUMBER_OF_WORDS_PER_SENTENCE  COMPLEX_WORDS  Word_Count  syllable  \\\n",
       "0                             1060.0           1837        6200  1.928302   \n",
       "\n",
       "   Average_Word_Length  polarity  subjectivity  \n",
       "0              4.85283  0.038341      0.478553  "
      ]
     },
     "execution_count": 1,
     "metadata": {},
     "output_type": "execute_result"
    }
   ],
   "source": [
    "import requests\n",
    "import pandas as pd \n",
    "from bs4 import BeautifulSoup\n",
    "import string\n",
    "import spacy\n",
    "import re\n",
    "url = \"\"\"https://insights.blackcoffer.com/will-technology-eliminate-the-need-for-animal-testing-in-drug-development/\"\"\"\n",
    "\n",
    "headers = {\"User-Agent\": \"Mozilla/5.0 (X11; Linux x86_64; rv:60.0) Gecko/20100101 Firefox/60.0\"}\n",
    "page = requests.get(url, headers=headers)\n",
    "soup = BeautifulSoup(page.content, 'html.parser')\n",
    "soup=BeautifulSoup(page.content, 'html.parser')\n",
    "title=soup.find('h1',class_=\"entry-title\")\n",
    "title=title.text.replace('\\n',\" \")\n",
    "# title\n",
    "\n",
    "content=soup.findAll(attrs={'class':'td-post-content'})\n",
    "content=content[0].text.replace('\\n',\" \")\n",
    "# print(content)\n",
    "#Punctuation\n",
    "content = content.translate(str.maketrans('', '', string.punctuation)) \n",
    "# print(content)\n",
    "text = content.split()\n",
    "# print(text)\n",
    "len(text)\n",
    "#Positive Score \n",
    "with open(r\"C:\\Users\\Om Bhandwalkar\\Desktop\\pos\\positive-words.txt\") as pos:\n",
    "    poswords = pos.read().split(\"\\n\")  \n",
    "    poswords = poswords[5:]\n",
    "pos_count = \" \".join ([w for w in text if w in poswords])\n",
    "pos_count=pos_count.split(\" \")\n",
    "Positive_score=len(pos_count)\n",
    "print(Positive_score)\n",
    "\n",
    "#Negative Score\n",
    "with open(r\"C:\\Users\\Om Bhandwalkar\\Desktop\\pos\\negative-words.txt\",encoding =\"ISO-8859-1\") as neg:\n",
    "    negwords = neg.read().split(\"\\n\")\n",
    "    \n",
    "negwords = negwords[36:]\n",
    "neg_count = \" \".join ([w for w in text if w in negwords])\n",
    "neg_count=neg_count.split(\" \")\n",
    "Negative_score=len(neg_count)\n",
    "print(Negative_score)\n",
    "\n",
    "\n",
    "filter_content = ' '.join(text)\n",
    "data=[[url,title,content,filter_content,Positive_score,Negative_score]]\n",
    "data=pd.DataFrame(data,columns=[\"url\",\"title\",\"content\",\"filter_content\",\"Positive_Score\",\"Negative_Score\"])\n",
    "from textblob import TextBlob\n",
    "# Get The Subjectivity\n",
    "def sentiment_analysis(data):\n",
    "    sentiment = TextBlob(data[\"content\"]).sentiment\n",
    "    return pd.Series([sentiment.polarity,sentiment.subjectivity ])\n",
    "data[[\"polarity\", \"subjectivity\"]] = data.apply(sentiment_analysis, axis=1)\n",
    "data\n",
    "#AVG SENTENCE LENGTH\n",
    "AVG_SENTENCE_LENGTH = len(content.replace(' ',''))/len(re.split(r'[?!.]', content))\n",
    "print('Word average =', AVG_SENTENCE_LENGTH)\n",
    "import textstat\n",
    "#Fog index \n",
    "FOG_INDEX=(textstat.gunning_fog(content))\n",
    "print(\"FOG INDEX = \",FOG_INDEX)\n",
    "#Average No of Words Per Sentence \n",
    "AVG_NUMBER_OF_WORDS_PER_SENTENCE = [len(l.split()) for l in re.split(r'[?!.]', content) if l.strip()]\n",
    "print(\"Average no of words per sentence\")\n",
    "AVG_NUMBER_OF_WORDS_PER_SENTENCE=(sum(AVG_NUMBER_OF_WORDS_PER_SENTENCE)/len(AVG_NUMBER_OF_WORDS_PER_SENTENCE))\n",
    "print(AVG_NUMBER_OF_WORDS_PER_SENTENCE)\n",
    "#Complex words\n",
    "def syllable_count(word):\n",
    "    count = 0\n",
    "    vowels = \"AEIOUYaeiouy\"\n",
    "    if word[0] in vowels:\n",
    "        count += 1\n",
    "    for index in range(1, len(word)): \n",
    "        if word[index] in vowels and word[index - 1] not in vowels:\n",
    "            count += 1\n",
    "            if word.endswith(\"es\"or \"ed\"):\n",
    "                count -= 1\n",
    "    if count == 0:\n",
    "        count += 1\n",
    "    return count\n",
    "\n",
    "\n",
    "\n",
    "COMPLEX_WORDS=syllable_count(content)\n",
    "print(\"Complex Words\",COMPLEX_WORDS)\n",
    "#Word Count\n",
    "Word_Count=len(content)\n",
    "print(\"Word Count\",Word_Count)\n",
    "#Percentage Complex Words\n",
    "pcw=(COMPLEX_WORDS/Word_Count)*100\n",
    "print(\"Percentage of Complex Words\",pcw)\n",
    "#Average Word Length\n",
    "Average_Word_Length=len(content.replace(' ',''))/len(content.split())\n",
    "print(\"Average Word per Length\",Average_Word_Length)\n",
    "#Syllable Count Per Word\n",
    "word=content.replace(' ','')\n",
    "syllable_count=0\n",
    "for w in word:\n",
    "      if(w=='a' or w=='e' or w=='i' or w=='o' or w=='y' or w=='u' or w=='A' or w=='E' or w=='I' or w=='O' or w=='U' or w=='Y'):\n",
    "            syllable_count=syllable_count+1\n",
    "print(\"The AVG number of syllables in the word is: \")\n",
    "syllable = (syllable_count/len(content.split()))\n",
    "print(syllable)\n",
    "\n",
    "data = [[url,title,content,filter_content,Positive_score,Negative_score,AVG_SENTENCE_LENGTH,pcw,FOG_INDEX,\n",
    "         AVG_NUMBER_OF_WORDS_PER_SENTENCE,COMPLEX_WORDS,Word_Count,syllable,Average_Word_Length]]\n",
    "data=pd.DataFrame(data,columns=[\"url\",\"title\",\"content\",\"filter_content\",\"Positive_Score\",\"Negative_Score\",\"Avg_Sentence_Length\"\n",
    "                               ,\"Percentage_Complex_Word\",\"Fog_Index\",\" AVG_NUMBER_OF_WORDS_PER_SENTENCE\",\"COMPLEX_WORDS\",\n",
    "                               \"Word_Count\",\"syllable\",\"Average_Word_Length\"])\n",
    "from textblob import TextBlob\n",
    "# Get The Subjectivity\n",
    "def sentiment_analysis(data):\n",
    "    sentiment = TextBlob(data[\"content\"]).sentiment\n",
    "    return pd.Series([sentiment.polarity,sentiment.subjectivity ])\n",
    "data[[\"polarity\", \"subjectivity\"]] = data.apply(sentiment_analysis, axis=1)\n",
    "data"
   ]
  },
  {
   "cell_type": "code",
   "execution_count": 2,
   "id": "bd140f51",
   "metadata": {},
   "outputs": [],
   "source": [
    "data.to_csv(r'C:\\Users\\Om Bhandwalkar\\Desktop\\BlackCoffer Assignment\\Output\\url_71.csv')"
   ]
  },
  {
   "cell_type": "code",
   "execution_count": null,
   "id": "20ca685f",
   "metadata": {},
   "outputs": [],
   "source": []
  }
 ],
 "metadata": {
  "kernelspec": {
   "display_name": "Python 3 (ipykernel)",
   "language": "python",
   "name": "python3"
  },
  "language_info": {
   "codemirror_mode": {
    "name": "ipython",
    "version": 3
   },
   "file_extension": ".py",
   "mimetype": "text/x-python",
   "name": "python",
   "nbconvert_exporter": "python",
   "pygments_lexer": "ipython3",
   "version": "3.9.12"
  }
 },
 "nbformat": 4,
 "nbformat_minor": 5
}
