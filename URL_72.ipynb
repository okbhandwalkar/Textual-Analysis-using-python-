{
 "cells": [
  {
   "cell_type": "code",
   "execution_count": 1,
   "id": "14352b57",
   "metadata": {},
   "outputs": [
    {
     "data": {
      "text/plain": [
       "'Will we ever understand the nature of consciousness?'"
      ]
     },
     "execution_count": 1,
     "metadata": {},
     "output_type": "execute_result"
    }
   ],
   "source": [
    "import requests\n",
    "import pandas as pd \n",
    "from bs4 import BeautifulSoup\n",
    "import string\n",
    "import spacy\n",
    "import re\n",
    "url = \"\"\"https://insights.blackcoffer.com/will-we-ever-understand-the-nature-of-consciousness/\"\"\"\n",
    "headers = {\"User-Agent\": \"Mozilla/5.0 (X11; Linux x86_64; rv:60.0) Gecko/20100101 Firefox/60.0\"}\n",
    "page = requests.get(url, headers=headers)\n",
    "soup = BeautifulSoup(page.content, 'html.parser')\n",
    "soup=BeautifulSoup(page.content, 'html.parser')\n",
    "title=soup.find('h1',class_=\"entry-title\")\n",
    "title=title.text.replace('\\n',\" \")\n",
    "title\n"
   ]
  },
  {
   "cell_type": "code",
   "execution_count": 2,
   "id": "f7956824",
   "metadata": {},
   "outputs": [
    {
     "name": "stdout",
     "output_type": "stream",
     "text": [
      " Introduction The definition of consciousness has been controversial for centuries, hence it is given the title of the ‘most familiar and yet mysterious aspects of our lives’. An idea of this concept would be an awareness in beings of their surroundings, themselves, and their own perception. The reason this part of our mind remains unascertained is that consciousness isn’t observable, unlike brain matter that is studied scientifically. the physical clarification of awareness is in a general sense incomplete: it doesn’t include what it feels to be the subject, for the subject. There likewise is by all accounts an unbridgeable illustrative gap between the physical world and our consciousness. As suggested by an incident of Eastern and Shamir traditions, consciousness is both universal and primal. Whilst we have made tremendous progress in understanding brain activity over the years, this research hasn’t been able to answer all the questions relating to the nature of emotions and experiences. History Beginning within the late nineteenth century, this was a time that once had psychological queries driven by a philosophical understanding of the mind, which was typically equated with consciousness. As a result, the analysis of brain and behavior naturally thought of the role of consciousness in behavioral management by the brain. The Ancient Mayans were among the first to propose a sorted out feeling of each degree of consciousness, its purpose, and its worldly association with mankind. Since consciousness incorporates stimuli from nature as well as interior stimuli, the Mayans trusted it to be the most essential type of existence, equipped for evolution. The Incas, however, thought about consciousness as a movement of mindfulness as well as of worry for others too. John Locke, an early philosopher, said that consciousness, and so individuality, are freelanced of all substances. He also detected that there is no reason to believe that consciousness is stuck to any specific body or mind, or that consciousness cannot be transferred from one body or mind to a different one. Karl Marx, another early thinker, denies the mind-body classification and holds that consciousness is jeopardized by the material eventualities of one’s settings. William James, an American psychologist, differentiated consciousness to a stream – unbroken and continuous despite several changes and shifts. While the main center of a lot of the analysis moved to strictly note cable behaviors throughout the primary half of the twentieth century, analysis of human consciousness has grown staggeringly after the 1950s. In Sigmund Freud’s psychoanalytic theory, we can see that he believed that all three levels of awareness- preconscious, conscious, and unconscious were responsible for one’s behavior and thinking. He believed that the mid itself was divided into three parts- the id, the ego, and the superego. The Id is present at birth, instinctual, and operates according to the pleasure principle. The ego underseals reality and logic and develops out of the id in infancy. Finally, the superego is an internalization of society’s moral standards and responsible for guilt. Now, the Id is regarded as unconscious, whereas the ego and superego are also conscious and preconscious. Freud constantly revised his own clinical qualities researches, however, and didn’t conduct scientific experiments and hence his work is heavily scrutinized, leaving the questions unanswered.   Sigmund Freud’s theory differed from the other psychologists since his theories were more understandable and very easily conveyed to the people. Sigmund Freud’s work and hypotheses helped people shape their perspectives on youth, character, memory, sexuality, and therapy. However, his theories were subject to considerable criticism both now and during his own life. Whilst John Locke and William James took a more practical approach to the mystery by conducting experiments, Sigmund Freud didn’t provide any evidence to support his claims. Brain Today, the essential focal point of consciousness research is on understanding what consciousness implies both biologically and mentally. Issues of interest include phenomena such as perception, blindsight, brainwaves during sleep, and altered states of consciousness produced by psychoactive drugs. A greater part of the test assesses consciousness by approaching human subjects for a verbal report of their encounters. However, to confirm the criticalness of these verbal reports, researchers must contrast them with the action that all the while happens in the brain —that is, they should search for the neural connections of consciousness. Hope is to locate that noticeable action in a specific aspect of the brain, or a particular pattern of global brain activity, will be greatly predictive of consciousness mindfulness. A few brain imaging strategies, for example, EEG and MRI scans, have been utilized for physical proportions of brain activities in these examinations. A few investigations have shown that movement in essential primary sensory areas of the brain isn’t adequate to create consciousness: it is workable for subjects to report an absence of awareness in any event, when areas, for example, the primary visual cortex show clear electrical reactions to a stimulus. Higher brain areas are viewed as all the more encouraging, particularly the prefrontal cortex, which is involved in a range of high order functions. One mainstream theory implicates various examples of brain waves in creating various conditions of consciousness. Analysts can record mind waves, or drawings of electrical movement inside the cerebrum, using an electroencephalograph (EEG) and placing electrodes on the scalp. The four types of brain waves (alpha, beta, theta, and delta) each correspond with one mental state (relaxed, alert, lightly asleep, and deeply asleep) Memory Episodic memory can be regarded as the only form of conscious memory. This is because it is the capacity to consciously remember personally experienced events and situations in the past. The hippocampus located in the brain’s temporal lobe is responsible for this type of memory. Consciousness also plays a part in important memory distinctions. One such distinction is the implicit and explicit characteristics; in which explicit memory is what you consciously know and implicit memory includes events you may not be conscious of. Furthermore, several empirical findings suggest that declarative memory is related to consciousness as well; meaning that the retrieval and formation of this memory are connected to awareness. Working memory operates/maintains consciously perceived information as well since it temporarily stores and tampers with information whilst working on tasks. The current ways of testing this information are lacking in several essential aspects, including spatial resolution, temporal resolution, or scope. Examples of such methods are PET, fMRI, EEG, implanted electrodes, etc. PET and fMRI have temporal resolution problems, EEG is well-known to have localizability difficulties, and implanted electrodes whilst great in temporal and spatial resolution can only test a set number of neurons; that is, they are restricted in scope. Hence, huge numbers of our speculations, while testable on a fundamental level, appear to be difficult to test as of now. Mental illness Consciousness has an influence on the way we see objects around us, which encourages us to settle on choices about how to communicate with them. Experiencing difficulty perceiving objects is connected to a few problems, for example, agnosia (a failure to decipher visual data), Alzheimer’s disease, and autism. However, we actually don’t comprehend what visual data is basic for the mind to intentionally perceive an object. Several different disorders of consciousness include locked-in syndrome, minimally conscious state, persistent vegetative state, chronic coma, and brain death. Locked-in syndrome, otherwise called pseudo coma, is a condition wherein a patient is aware however can’t move or impart verbally because of complete loss of motion of essentially all voluntary muscles in the body aside from vertical eye developments and squinting. The individual is conscious and is able to speak with eye movements. In a minimally conscious state, the patient has intermittent periods of awareness and wakefulness. Patients need to give restricted, however reproducible indications of consciousness of themself or their current circumstance. This could be following straightforward orders, comprehensible speech, or purposeful conduct. In a persistent vegetative state, the patient has sleep-wake cycles, but lacks awareness, is not able to communicate, and only displays reflexive and non-purposeful behavior. The term refers to an organic body that is able to grow and develop devoid of intellectual activity or social intercourse Like coma, chronic coma results generally from cortical or white-matter harm after neuronal or axonal injury, or from central brainstem sores. Usually, the metabolism in the grey matter decreases to 50-70% of the normal range. The patient lies with eyes shut and doesn’t know about self or environmental factors. Brain death is the irreversible end of all brain activity, and function (including involuntary activity necessary to sustain life). The main cause is total necrosis of the cerebral neurons following loss of brain oxygenation. After brain death the patient lacks any sense of awareness; sleep-wake cycles or behavior, and typically look as if they are dead or are in a deep sleep state. Future predictions and conclusion As we can see from the history of scholar’s endeavors to study consciousness empirically, its nature is not one that can be defined using scientific methods. In the past, psychologists such as Descartes came up with dualistic theories that did not line up with the fundamental laws of physics. In the battle between realists and illusionists, taking sides is fundamentally impossible as the topic doesn’t allow for concrete evidence. As we can observe from neural examinations of the brain to detect the causes of consciousness, there is no sensory sector of the brain that is the cause for one to be aware during a certain event even if there are clear signs of a reaction to a stimulus. Similarly, even though consciousness plays a major role in memory, we currently lack the facilities to research it fully. In the future, there is a possibility that we will be able to access such facilities, however, which could allow us to find the neural connections and its ties to mental illness as well. Not only would this help several people by making us aware of the causes of our perspective on certain things, but it would also give us a better chance of recognizing signs of possible mental illness or other issues beforehand. As it seems, researchers continue to study this unknown part of our mind and once we are able to fund and recover from the global pandemic, we will be able to answer one of psychology’s most difficult questions. Blackcoffer Insights 21: Amara Arora and Vaanya Kaushal, Scottish High International School  \n",
      " Introduction The definition of consciousness has been controversial for centuries hence it is given the title of the ‘most familiar and yet mysterious aspects of our lives’ An idea of this concept would be an awareness in beings of their surroundings themselves and their own perception The reason this part of our mind remains unascertained is that consciousness isn’t observable unlike brain matter that is studied scientifically the physical clarification of awareness is in a general sense incomplete it doesn’t include what it feels to be the subject for the subject There likewise is by all accounts an unbridgeable illustrative gap between the physical world and our consciousness As suggested by an incident of Eastern and Shamir traditions consciousness is both universal and primal Whilst we have made tremendous progress in understanding brain activity over the years this research hasn’t been able to answer all the questions relating to the nature of emotions and experiences History Beginning within the late nineteenth century this was a time that once had psychological queries driven by a philosophical understanding of the mind which was typically equated with consciousness As a result the analysis of brain and behavior naturally thought of the role of consciousness in behavioral management by the brain The Ancient Mayans were among the first to propose a sorted out feeling of each degree of consciousness its purpose and its worldly association with mankind Since consciousness incorporates stimuli from nature as well as interior stimuli the Mayans trusted it to be the most essential type of existence equipped for evolution The Incas however thought about consciousness as a movement of mindfulness as well as of worry for others too John Locke an early philosopher said that consciousness and so individuality are freelanced of all substances He also detected that there is no reason to believe that consciousness is stuck to any specific body or mind or that consciousness cannot be transferred from one body or mind to a different one Karl Marx another early thinker denies the mindbody classification and holds that consciousness is jeopardized by the material eventualities of one’s settings William James an American psychologist differentiated consciousness to a stream – unbroken and continuous despite several changes and shifts While the main center of a lot of the analysis moved to strictly note cable behaviors throughout the primary half of the twentieth century analysis of human consciousness has grown staggeringly after the 1950s In Sigmund Freud’s psychoanalytic theory we can see that he believed that all three levels of awareness preconscious conscious and unconscious were responsible for one’s behavior and thinking He believed that the mid itself was divided into three parts the id the ego and the superego The Id is present at birth instinctual and operates according to the pleasure principle The ego underseals reality and logic and develops out of the id in infancy Finally the superego is an internalization of society’s moral standards and responsible for guilt Now the Id is regarded as unconscious whereas the ego and superego are also conscious and preconscious Freud constantly revised his own clinical qualities researches however and didn’t conduct scientific experiments and hence his work is heavily scrutinized leaving the questions unanswered   Sigmund Freud’s theory differed from the other psychologists since his theories were more understandable and very easily conveyed to the people Sigmund Freud’s work and hypotheses helped people shape their perspectives on youth character memory sexuality and therapy However his theories were subject to considerable criticism both now and during his own life Whilst John Locke and William James took a more practical approach to the mystery by conducting experiments Sigmund Freud didn’t provide any evidence to support his claims Brain Today the essential focal point of consciousness research is on understanding what consciousness implies both biologically and mentally Issues of interest include phenomena such as perception blindsight brainwaves during sleep and altered states of consciousness produced by psychoactive drugs A greater part of the test assesses consciousness by approaching human subjects for a verbal report of their encounters However to confirm the criticalness of these verbal reports researchers must contrast them with the action that all the while happens in the brain —that is they should search for the neural connections of consciousness Hope is to locate that noticeable action in a specific aspect of the brain or a particular pattern of global brain activity will be greatly predictive of consciousness mindfulness A few brain imaging strategies for example EEG and MRI scans have been utilized for physical proportions of brain activities in these examinations A few investigations have shown that movement in essential primary sensory areas of the brain isn’t adequate to create consciousness it is workable for subjects to report an absence of awareness in any event when areas for example the primary visual cortex show clear electrical reactions to a stimulus Higher brain areas are viewed as all the more encouraging particularly the prefrontal cortex which is involved in a range of high order functions One mainstream theory implicates various examples of brain waves in creating various conditions of consciousness Analysts can record mind waves or drawings of electrical movement inside the cerebrum using an electroencephalograph EEG and placing electrodes on the scalp The four types of brain waves alpha beta theta and delta each correspond with one mental state relaxed alert lightly asleep and deeply asleep Memory Episodic memory can be regarded as the only form of conscious memory This is because it is the capacity to consciously remember personally experienced events and situations in the past The hippocampus located in the brain’s temporal lobe is responsible for this type of memory Consciousness also plays a part in important memory distinctions One such distinction is the implicit and explicit characteristics in which explicit memory is what you consciously know and implicit memory includes events you may not be conscious of Furthermore several empirical findings suggest that declarative memory is related to consciousness as well meaning that the retrieval and formation of this memory are connected to awareness Working memory operatesmaintains consciously perceived information as well since it temporarily stores and tampers with information whilst working on tasks The current ways of testing this information are lacking in several essential aspects including spatial resolution temporal resolution or scope Examples of such methods are PET fMRI EEG implanted electrodes etc PET and fMRI have temporal resolution problems EEG is wellknown to have localizability difficulties and implanted electrodes whilst great in temporal and spatial resolution can only test a set number of neurons that is they are restricted in scope Hence huge numbers of our speculations while testable on a fundamental level appear to be difficult to test as of now Mental illness Consciousness has an influence on the way we see objects around us which encourages us to settle on choices about how to communicate with them Experiencing difficulty perceiving objects is connected to a few problems for example agnosia a failure to decipher visual data Alzheimer’s disease and autism However we actually don’t comprehend what visual data is basic for the mind to intentionally perceive an object Several different disorders of consciousness include lockedin syndrome minimally conscious state persistent vegetative state chronic coma and brain death Lockedin syndrome otherwise called pseudo coma is a condition wherein a patient is aware however can’t move or impart verbally because of complete loss of motion of essentially all voluntary muscles in the body aside from vertical eye developments and squinting The individual is conscious and is able to speak with eye movements In a minimally conscious state the patient has intermittent periods of awareness and wakefulness Patients need to give restricted however reproducible indications of consciousness of themself or their current circumstance This could be following straightforward orders comprehensible speech or purposeful conduct In a persistent vegetative state the patient has sleepwake cycles but lacks awareness is not able to communicate and only displays reflexive and nonpurposeful behavior The term refers to an organic body that is able to grow and develop devoid of intellectual activity or social intercourse Like coma chronic coma results generally from cortical or whitematter harm after neuronal or axonal injury or from central brainstem sores Usually the metabolism in the grey matter decreases to 5070 of the normal range The patient lies with eyes shut and doesn’t know about self or environmental factors Brain death is the irreversible end of all brain activity and function including involuntary activity necessary to sustain life The main cause is total necrosis of the cerebral neurons following loss of brain oxygenation After brain death the patient lacks any sense of awareness sleepwake cycles or behavior and typically look as if they are dead or are in a deep sleep state Future predictions and conclusion As we can see from the history of scholar’s endeavors to study consciousness empirically its nature is not one that can be defined using scientific methods In the past psychologists such as Descartes came up with dualistic theories that did not line up with the fundamental laws of physics In the battle between realists and illusionists taking sides is fundamentally impossible as the topic doesn’t allow for concrete evidence As we can observe from neural examinations of the brain to detect the causes of consciousness there is no sensory sector of the brain that is the cause for one to be aware during a certain event even if there are clear signs of a reaction to a stimulus Similarly even though consciousness plays a major role in memory we currently lack the facilities to research it fully In the future there is a possibility that we will be able to access such facilities however which could allow us to find the neural connections and its ties to mental illness as well Not only would this help several people by making us aware of the causes of our perspective on certain things but it would also give us a better chance of recognizing signs of possible mental illness or other issues beforehand As it seems researchers continue to study this unknown part of our mind and once we are able to fund and recover from the global pandemic we will be able to answer one of psychology’s most difficult questions Blackcoffer Insights 21 Amara Arora and Vaanya Kaushal Scottish High International School  \n",
      "['Introduction', 'The', 'definition', 'of', 'consciousness', 'has', 'been', 'controversial', 'for', 'centuries', 'hence', 'it', 'is', 'given', 'the', 'title', 'of', 'the', '‘most', 'familiar', 'and', 'yet', 'mysterious', 'aspects', 'of', 'our', 'lives’', 'An', 'idea', 'of', 'this', 'concept', 'would', 'be', 'an', 'awareness', 'in', 'beings', 'of', 'their', 'surroundings', 'themselves', 'and', 'their', 'own', 'perception', 'The', 'reason', 'this', 'part', 'of', 'our', 'mind', 'remains', 'unascertained', 'is', 'that', 'consciousness', 'isn’t', 'observable', 'unlike', 'brain', 'matter', 'that', 'is', 'studied', 'scientifically', 'the', 'physical', 'clarification', 'of', 'awareness', 'is', 'in', 'a', 'general', 'sense', 'incomplete', 'it', 'doesn’t', 'include', 'what', 'it', 'feels', 'to', 'be', 'the', 'subject', 'for', 'the', 'subject', 'There', 'likewise', 'is', 'by', 'all', 'accounts', 'an', 'unbridgeable', 'illustrative', 'gap', 'between', 'the', 'physical', 'world', 'and', 'our', 'consciousness', 'As', 'suggested', 'by', 'an', 'incident', 'of', 'Eastern', 'and', 'Shamir', 'traditions', 'consciousness', 'is', 'both', 'universal', 'and', 'primal', 'Whilst', 'we', 'have', 'made', 'tremendous', 'progress', 'in', 'understanding', 'brain', 'activity', 'over', 'the', 'years', 'this', 'research', 'hasn’t', 'been', 'able', 'to', 'answer', 'all', 'the', 'questions', 'relating', 'to', 'the', 'nature', 'of', 'emotions', 'and', 'experiences', 'History', 'Beginning', 'within', 'the', 'late', 'nineteenth', 'century', 'this', 'was', 'a', 'time', 'that', 'once', 'had', 'psychological', 'queries', 'driven', 'by', 'a', 'philosophical', 'understanding', 'of', 'the', 'mind', 'which', 'was', 'typically', 'equated', 'with', 'consciousness', 'As', 'a', 'result', 'the', 'analysis', 'of', 'brain', 'and', 'behavior', 'naturally', 'thought', 'of', 'the', 'role', 'of', 'consciousness', 'in', 'behavioral', 'management', 'by', 'the', 'brain', 'The', 'Ancient', 'Mayans', 'were', 'among', 'the', 'first', 'to', 'propose', 'a', 'sorted', 'out', 'feeling', 'of', 'each', 'degree', 'of', 'consciousness', 'its', 'purpose', 'and', 'its', 'worldly', 'association', 'with', 'mankind', 'Since', 'consciousness', 'incorporates', 'stimuli', 'from', 'nature', 'as', 'well', 'as', 'interior', 'stimuli', 'the', 'Mayans', 'trusted', 'it', 'to', 'be', 'the', 'most', 'essential', 'type', 'of', 'existence', 'equipped', 'for', 'evolution', 'The', 'Incas', 'however', 'thought', 'about', 'consciousness', 'as', 'a', 'movement', 'of', 'mindfulness', 'as', 'well', 'as', 'of', 'worry', 'for', 'others', 'too', 'John', 'Locke', 'an', 'early', 'philosopher', 'said', 'that', 'consciousness', 'and', 'so', 'individuality', 'are', 'freelanced', 'of', 'all', 'substances', 'He', 'also', 'detected', 'that', 'there', 'is', 'no', 'reason', 'to', 'believe', 'that', 'consciousness', 'is', 'stuck', 'to', 'any', 'specific', 'body', 'or', 'mind', 'or', 'that', 'consciousness', 'cannot', 'be', 'transferred', 'from', 'one', 'body', 'or', 'mind', 'to', 'a', 'different', 'one', 'Karl', 'Marx', 'another', 'early', 'thinker', 'denies', 'the', 'mindbody', 'classification', 'and', 'holds', 'that', 'consciousness', 'is', 'jeopardized', 'by', 'the', 'material', 'eventualities', 'of', 'one’s', 'settings', 'William', 'James', 'an', 'American', 'psychologist', 'differentiated', 'consciousness', 'to', 'a', 'stream', '–', 'unbroken', 'and', 'continuous', 'despite', 'several', 'changes', 'and', 'shifts', 'While', 'the', 'main', 'center', 'of', 'a', 'lot', 'of', 'the', 'analysis', 'moved', 'to', 'strictly', 'note', 'cable', 'behaviors', 'throughout', 'the', 'primary', 'half', 'of', 'the', 'twentieth', 'century', 'analysis', 'of', 'human', 'consciousness', 'has', 'grown', 'staggeringly', 'after', 'the', '1950s', 'In', 'Sigmund', 'Freud’s', 'psychoanalytic', 'theory', 'we', 'can', 'see', 'that', 'he', 'believed', 'that', 'all', 'three', 'levels', 'of', 'awareness', 'preconscious', 'conscious', 'and', 'unconscious', 'were', 'responsible', 'for', 'one’s', 'behavior', 'and', 'thinking', 'He', 'believed', 'that', 'the', 'mid', 'itself', 'was', 'divided', 'into', 'three', 'parts', 'the', 'id', 'the', 'ego', 'and', 'the', 'superego', 'The', 'Id', 'is', 'present', 'at', 'birth', 'instinctual', 'and', 'operates', 'according', 'to', 'the', 'pleasure', 'principle', 'The', 'ego', 'underseals', 'reality', 'and', 'logic', 'and', 'develops', 'out', 'of', 'the', 'id', 'in', 'infancy', 'Finally', 'the', 'superego', 'is', 'an', 'internalization', 'of', 'society’s', 'moral', 'standards', 'and', 'responsible', 'for', 'guilt', 'Now', 'the', 'Id', 'is', 'regarded', 'as', 'unconscious', 'whereas', 'the', 'ego', 'and', 'superego', 'are', 'also', 'conscious', 'and', 'preconscious', 'Freud', 'constantly', 'revised', 'his', 'own', 'clinical', 'qualities', 'researches', 'however', 'and', 'didn’t', 'conduct', 'scientific', 'experiments', 'and', 'hence', 'his', 'work', 'is', 'heavily', 'scrutinized', 'leaving', 'the', 'questions', 'unanswered', 'Sigmund', 'Freud’s', 'theory', 'differed', 'from', 'the', 'other', 'psychologists', 'since', 'his', 'theories', 'were', 'more', 'understandable', 'and', 'very', 'easily', 'conveyed', 'to', 'the', 'people', 'Sigmund', 'Freud’s', 'work', 'and', 'hypotheses', 'helped', 'people', 'shape', 'their', 'perspectives', 'on', 'youth', 'character', 'memory', 'sexuality', 'and', 'therapy', 'However', 'his', 'theories', 'were', 'subject', 'to', 'considerable', 'criticism', 'both', 'now', 'and', 'during', 'his', 'own', 'life', 'Whilst', 'John', 'Locke', 'and', 'William', 'James', 'took', 'a', 'more', 'practical', 'approach', 'to', 'the', 'mystery', 'by', 'conducting', 'experiments', 'Sigmund', 'Freud', 'didn’t', 'provide', 'any', 'evidence', 'to', 'support', 'his', 'claims', 'Brain', 'Today', 'the', 'essential', 'focal', 'point', 'of', 'consciousness', 'research', 'is', 'on', 'understanding', 'what', 'consciousness', 'implies', 'both', 'biologically', 'and', 'mentally', 'Issues', 'of', 'interest', 'include', 'phenomena', 'such', 'as', 'perception', 'blindsight', 'brainwaves', 'during', 'sleep', 'and', 'altered', 'states', 'of', 'consciousness', 'produced', 'by', 'psychoactive', 'drugs', 'A', 'greater', 'part', 'of', 'the', 'test', 'assesses', 'consciousness', 'by', 'approaching', 'human', 'subjects', 'for', 'a', 'verbal', 'report', 'of', 'their', 'encounters', 'However', 'to', 'confirm', 'the', 'criticalness', 'of', 'these', 'verbal', 'reports', 'researchers', 'must', 'contrast', 'them', 'with', 'the', 'action', 'that', 'all', 'the', 'while', 'happens', 'in', 'the', 'brain', '—that', 'is', 'they', 'should', 'search', 'for', 'the', 'neural', 'connections', 'of', 'consciousness', 'Hope', 'is', 'to', 'locate', 'that', 'noticeable', 'action', 'in', 'a', 'specific', 'aspect', 'of', 'the', 'brain', 'or', 'a', 'particular', 'pattern', 'of', 'global', 'brain', 'activity', 'will', 'be', 'greatly', 'predictive', 'of', 'consciousness', 'mindfulness', 'A', 'few', 'brain', 'imaging', 'strategies', 'for', 'example', 'EEG', 'and', 'MRI', 'scans', 'have', 'been', 'utilized', 'for', 'physical', 'proportions', 'of', 'brain', 'activities', 'in', 'these', 'examinations', 'A', 'few', 'investigations', 'have', 'shown', 'that', 'movement', 'in', 'essential', 'primary', 'sensory', 'areas', 'of', 'the', 'brain', 'isn’t', 'adequate', 'to', 'create', 'consciousness', 'it', 'is', 'workable', 'for', 'subjects', 'to', 'report', 'an', 'absence', 'of', 'awareness', 'in', 'any', 'event', 'when', 'areas', 'for', 'example', 'the', 'primary', 'visual', 'cortex', 'show', 'clear', 'electrical', 'reactions', 'to', 'a', 'stimulus', 'Higher', 'brain', 'areas', 'are', 'viewed', 'as', 'all', 'the', 'more', 'encouraging', 'particularly', 'the', 'prefrontal', 'cortex', 'which', 'is', 'involved', 'in', 'a', 'range', 'of', 'high', 'order', 'functions', 'One', 'mainstream', 'theory', 'implicates', 'various', 'examples', 'of', 'brain', 'waves', 'in', 'creating', 'various', 'conditions', 'of', 'consciousness', 'Analysts', 'can', 'record', 'mind', 'waves', 'or', 'drawings', 'of', 'electrical', 'movement', 'inside', 'the', 'cerebrum', 'using', 'an', 'electroencephalograph', 'EEG', 'and', 'placing', 'electrodes', 'on', 'the', 'scalp', 'The', 'four', 'types', 'of', 'brain', 'waves', 'alpha', 'beta', 'theta', 'and', 'delta', 'each', 'correspond', 'with', 'one', 'mental', 'state', 'relaxed', 'alert', 'lightly', 'asleep', 'and', 'deeply', 'asleep', 'Memory', 'Episodic', 'memory', 'can', 'be', 'regarded', 'as', 'the', 'only', 'form', 'of', 'conscious', 'memory', 'This', 'is', 'because', 'it', 'is', 'the', 'capacity', 'to', 'consciously', 'remember', 'personally', 'experienced', 'events', 'and', 'situations', 'in', 'the', 'past', 'The', 'hippocampus', 'located', 'in', 'the', 'brain’s', 'temporal', 'lobe', 'is', 'responsible', 'for', 'this', 'type', 'of', 'memory', 'Consciousness', 'also', 'plays', 'a', 'part', 'in', 'important', 'memory', 'distinctions', 'One', 'such', 'distinction', 'is', 'the', 'implicit', 'and', 'explicit', 'characteristics', 'in', 'which', 'explicit', 'memory', 'is', 'what', 'you', 'consciously', 'know', 'and', 'implicit', 'memory', 'includes', 'events', 'you', 'may', 'not', 'be', 'conscious', 'of', 'Furthermore', 'several', 'empirical', 'findings', 'suggest', 'that', 'declarative', 'memory', 'is', 'related', 'to', 'consciousness', 'as', 'well', 'meaning', 'that', 'the', 'retrieval', 'and', 'formation', 'of', 'this', 'memory', 'are', 'connected', 'to', 'awareness', 'Working', 'memory', 'operatesmaintains', 'consciously', 'perceived', 'information', 'as', 'well', 'since', 'it', 'temporarily', 'stores', 'and', 'tampers', 'with', 'information', 'whilst', 'working', 'on', 'tasks', 'The', 'current', 'ways', 'of', 'testing', 'this', 'information', 'are', 'lacking', 'in', 'several', 'essential', 'aspects', 'including', 'spatial', 'resolution', 'temporal', 'resolution', 'or', 'scope', 'Examples', 'of', 'such', 'methods', 'are', 'PET', 'fMRI', 'EEG', 'implanted', 'electrodes', 'etc', 'PET', 'and', 'fMRI', 'have', 'temporal', 'resolution', 'problems', 'EEG', 'is', 'wellknown', 'to', 'have', 'localizability', 'difficulties', 'and', 'implanted', 'electrodes', 'whilst', 'great', 'in', 'temporal', 'and', 'spatial', 'resolution', 'can', 'only', 'test', 'a', 'set', 'number', 'of', 'neurons', 'that', 'is', 'they', 'are', 'restricted', 'in', 'scope', 'Hence', 'huge', 'numbers', 'of', 'our', 'speculations', 'while', 'testable', 'on', 'a', 'fundamental', 'level', 'appear', 'to', 'be', 'difficult', 'to', 'test', 'as', 'of', 'now', 'Mental', 'illness', 'Consciousness', 'has', 'an', 'influence', 'on', 'the', 'way', 'we', 'see', 'objects', 'around', 'us', 'which', 'encourages', 'us', 'to', 'settle', 'on', 'choices', 'about', 'how', 'to', 'communicate', 'with', 'them', 'Experiencing', 'difficulty', 'perceiving', 'objects', 'is', 'connected', 'to', 'a', 'few', 'problems', 'for', 'example', 'agnosia', 'a', 'failure', 'to', 'decipher', 'visual', 'data', 'Alzheimer’s', 'disease', 'and', 'autism', 'However', 'we', 'actually', 'don’t', 'comprehend', 'what', 'visual', 'data', 'is', 'basic', 'for', 'the', 'mind', 'to', 'intentionally', 'perceive', 'an', 'object', 'Several', 'different', 'disorders', 'of', 'consciousness', 'include', 'lockedin', 'syndrome', 'minimally', 'conscious', 'state', 'persistent', 'vegetative', 'state', 'chronic', 'coma', 'and', 'brain', 'death', 'Lockedin', 'syndrome', 'otherwise', 'called', 'pseudo', 'coma', 'is', 'a', 'condition', 'wherein', 'a', 'patient', 'is', 'aware', 'however', 'can’t', 'move', 'or', 'impart', 'verbally', 'because', 'of', 'complete', 'loss', 'of', 'motion', 'of', 'essentially', 'all', 'voluntary', 'muscles', 'in', 'the', 'body', 'aside', 'from', 'vertical', 'eye', 'developments', 'and', 'squinting', 'The', 'individual', 'is', 'conscious', 'and', 'is', 'able', 'to', 'speak', 'with', 'eye', 'movements', 'In', 'a', 'minimally', 'conscious', 'state', 'the', 'patient', 'has', 'intermittent', 'periods', 'of', 'awareness', 'and', 'wakefulness', 'Patients', 'need', 'to', 'give', 'restricted', 'however', 'reproducible', 'indications', 'of', 'consciousness', 'of', 'themself', 'or', 'their', 'current', 'circumstance', 'This', 'could', 'be', 'following', 'straightforward', 'orders', 'comprehensible', 'speech', 'or', 'purposeful', 'conduct', 'In', 'a', 'persistent', 'vegetative', 'state', 'the', 'patient', 'has', 'sleepwake', 'cycles', 'but', 'lacks', 'awareness', 'is', 'not', 'able', 'to', 'communicate', 'and', 'only', 'displays', 'reflexive', 'and', 'nonpurposeful', 'behavior', 'The', 'term', 'refers', 'to', 'an', 'organic', 'body', 'that', 'is', 'able', 'to', 'grow', 'and', 'develop', 'devoid', 'of', 'intellectual', 'activity', 'or', 'social', 'intercourse', 'Like', 'coma', 'chronic', 'coma', 'results', 'generally', 'from', 'cortical', 'or', 'whitematter', 'harm', 'after', 'neuronal', 'or', 'axonal', 'injury', 'or', 'from', 'central', 'brainstem', 'sores', 'Usually', 'the', 'metabolism', 'in', 'the', 'grey', 'matter', 'decreases', 'to', '5070', 'of', 'the', 'normal', 'range', 'The', 'patient', 'lies', 'with', 'eyes', 'shut', 'and', 'doesn’t', 'know', 'about', 'self', 'or', 'environmental', 'factors', 'Brain', 'death', 'is', 'the', 'irreversible', 'end', 'of', 'all', 'brain', 'activity', 'and', 'function', 'including', 'involuntary', 'activity', 'necessary', 'to', 'sustain', 'life', 'The', 'main', 'cause', 'is', 'total', 'necrosis', 'of', 'the', 'cerebral', 'neurons', 'following', 'loss', 'of', 'brain', 'oxygenation', 'After', 'brain', 'death', 'the', 'patient', 'lacks', 'any', 'sense', 'of', 'awareness', 'sleepwake', 'cycles', 'or', 'behavior', 'and', 'typically', 'look', 'as', 'if', 'they', 'are', 'dead', 'or', 'are', 'in', 'a', 'deep', 'sleep', 'state', 'Future', 'predictions', 'and', 'conclusion', 'As', 'we', 'can', 'see', 'from', 'the', 'history', 'of', 'scholar’s', 'endeavors', 'to', 'study', 'consciousness', 'empirically', 'its', 'nature', 'is', 'not', 'one', 'that', 'can', 'be', 'defined', 'using', 'scientific', 'methods', 'In', 'the', 'past', 'psychologists', 'such', 'as', 'Descartes', 'came', 'up', 'with', 'dualistic', 'theories', 'that', 'did', 'not', 'line', 'up', 'with', 'the', 'fundamental', 'laws', 'of', 'physics', 'In', 'the', 'battle', 'between', 'realists', 'and', 'illusionists', 'taking', 'sides', 'is', 'fundamentally', 'impossible', 'as', 'the', 'topic', 'doesn’t', 'allow', 'for', 'concrete', 'evidence', 'As', 'we', 'can', 'observe', 'from', 'neural', 'examinations', 'of', 'the', 'brain', 'to', 'detect', 'the', 'causes', 'of', 'consciousness', 'there', 'is', 'no', 'sensory', 'sector', 'of', 'the', 'brain', 'that', 'is', 'the', 'cause', 'for', 'one', 'to', 'be', 'aware', 'during', 'a', 'certain', 'event', 'even', 'if', 'there', 'are', 'clear', 'signs', 'of', 'a', 'reaction', 'to', 'a', 'stimulus', 'Similarly', 'even', 'though', 'consciousness', 'plays', 'a', 'major', 'role', 'in', 'memory', 'we', 'currently', 'lack', 'the', 'facilities', 'to', 'research', 'it', 'fully', 'In', 'the', 'future', 'there', 'is', 'a', 'possibility', 'that', 'we', 'will', 'be', 'able', 'to', 'access', 'such', 'facilities', 'however', 'which', 'could', 'allow', 'us', 'to', 'find', 'the', 'neural', 'connections', 'and', 'its', 'ties', 'to', 'mental', 'illness', 'as', 'well', 'Not', 'only', 'would', 'this', 'help', 'several', 'people', 'by', 'making', 'us', 'aware', 'of', 'the', 'causes', 'of', 'our', 'perspective', 'on', 'certain', 'things', 'but', 'it', 'would', 'also', 'give', 'us', 'a', 'better', 'chance', 'of', 'recognizing', 'signs', 'of', 'possible', 'mental', 'illness', 'or', 'other', 'issues', 'beforehand', 'As', 'it', 'seems', 'researchers', 'continue', 'to', 'study', 'this', 'unknown', 'part', 'of', 'our', 'mind', 'and', 'once', 'we', 'are', 'able', 'to', 'fund', 'and', 'recover', 'from', 'the', 'global', 'pandemic', 'we', 'will', 'be', 'able', 'to', 'answer', 'one', 'of', 'psychology’s', 'most', 'difficult', 'questions', 'Blackcoffer', 'Insights', '21', 'Amara', 'Arora', 'and', 'Vaanya', 'Kaushal', 'Scottish', 'High', 'International', 'School']\n"
     ]
    }
   ],
   "source": [
    "content=soup.findAll(attrs={'class':'td-post-content'})\n",
    "content=content[0].text.replace('\\n',\" \")\n",
    "print(content)\n",
    "#Punctuation\n",
    "content = content.translate(str.maketrans('', '', string.punctuation)) \n",
    "print(content)\n",
    "text = content.split()\n",
    "print(text)\n"
   ]
  },
  {
   "cell_type": "code",
   "execution_count": 3,
   "id": "a8eb0922",
   "metadata": {},
   "outputs": [
    {
     "data": {
      "text/plain": [
       "1721"
      ]
     },
     "execution_count": 3,
     "metadata": {},
     "output_type": "execute_result"
    }
   ],
   "source": [
    "len(text)"
   ]
  },
  {
   "cell_type": "code",
   "execution_count": 4,
   "id": "49073ef9",
   "metadata": {},
   "outputs": [
    {
     "name": "stdout",
     "output_type": "stream",
     "text": [
      "31\n"
     ]
    }
   ],
   "source": [
    "#Positive Score \n",
    "with open(r\"C:\\Users\\Om Bhandwalkar\\Desktop\\pos\\positive-words.txt\") as pos:\n",
    "    poswords = pos.read().split(\"\\n\")  \n",
    "    poswords = poswords[5:]\n",
    "pos_count = \" \".join ([w for w in text if w in poswords])\n",
    "pos_count=pos_count.split(\" \")\n",
    "Positive_score=len(pos_count)\n",
    "print(Positive_score)"
   ]
  },
  {
   "cell_type": "code",
   "execution_count": 5,
   "id": "0cb041ea",
   "metadata": {},
   "outputs": [
    {
     "name": "stdout",
     "output_type": "stream",
     "text": [
      "48\n"
     ]
    }
   ],
   "source": [
    "#Negative Score\n",
    "with open(r\"C:\\Users\\Om Bhandwalkar\\Desktop\\pos\\negative-words.txt\",encoding =\"ISO-8859-1\") as neg:\n",
    "    negwords = neg.read().split(\"\\n\")\n",
    "    \n",
    "negwords = negwords[36:]\n",
    "neg_count = \" \".join ([w for w in text if w in negwords])\n",
    "neg_count=neg_count.split(\" \")\n",
    "Negative_score=len(neg_count)\n",
    "print(Negative_score)"
   ]
  },
  {
   "cell_type": "code",
   "execution_count": 6,
   "id": "e1de1fc5",
   "metadata": {},
   "outputs": [
    {
     "data": {
      "text/html": [
       "<div>\n",
       "<style scoped>\n",
       "    .dataframe tbody tr th:only-of-type {\n",
       "        vertical-align: middle;\n",
       "    }\n",
       "\n",
       "    .dataframe tbody tr th {\n",
       "        vertical-align: top;\n",
       "    }\n",
       "\n",
       "    .dataframe thead th {\n",
       "        text-align: right;\n",
       "    }\n",
       "</style>\n",
       "<table border=\"1\" class=\"dataframe\">\n",
       "  <thead>\n",
       "    <tr style=\"text-align: right;\">\n",
       "      <th></th>\n",
       "      <th>url</th>\n",
       "      <th>title</th>\n",
       "      <th>content</th>\n",
       "      <th>filter_content</th>\n",
       "      <th>Positive_Score</th>\n",
       "      <th>Negative_Score</th>\n",
       "      <th>polarity</th>\n",
       "      <th>subjectivity</th>\n",
       "    </tr>\n",
       "  </thead>\n",
       "  <tbody>\n",
       "    <tr>\n",
       "      <th>0</th>\n",
       "      <td>https://insights.blackcoffer.com/will-we-ever-...</td>\n",
       "      <td>Will we ever understand the nature of consciou...</td>\n",
       "      <td>Introduction The definition of consciousness ...</td>\n",
       "      <td>Introduction The definition of consciousness h...</td>\n",
       "      <td>31</td>\n",
       "      <td>48</td>\n",
       "      <td>0.088242</td>\n",
       "      <td>0.402569</td>\n",
       "    </tr>\n",
       "  </tbody>\n",
       "</table>\n",
       "</div>"
      ],
      "text/plain": [
       "                                                 url  \\\n",
       "0  https://insights.blackcoffer.com/will-we-ever-...   \n",
       "\n",
       "                                               title  \\\n",
       "0  Will we ever understand the nature of consciou...   \n",
       "\n",
       "                                             content  \\\n",
       "0   Introduction The definition of consciousness ...   \n",
       "\n",
       "                                      filter_content  Positive_Score  \\\n",
       "0  Introduction The definition of consciousness h...              31   \n",
       "\n",
       "   Negative_Score  polarity  subjectivity  \n",
       "0              48  0.088242      0.402569  "
      ]
     },
     "execution_count": 6,
     "metadata": {},
     "output_type": "execute_result"
    }
   ],
   "source": [
    "filter_content = ' '.join(text)\n",
    "data=[[url,title,content,filter_content,Positive_score,Negative_score]]\n",
    "data=pd.DataFrame(data,columns=[\"url\",\"title\",\"content\",\"filter_content\",\"Positive_Score\",\"Negative_Score\"])\n",
    "from textblob import TextBlob\n",
    "# Get The Subjectivity\n",
    "def sentiment_analysis(data):\n",
    "    sentiment = TextBlob(data[\"content\"]).sentiment\n",
    "    return pd.Series([sentiment.polarity,sentiment.subjectivity ])\n",
    "\n",
    "# Adding Subjectivity & Polarity\n",
    "data[[\"polarity\", \"subjectivity\"]] = data.apply(sentiment_analysis, axis=1)\n",
    "\n",
    "data"
   ]
  },
  {
   "cell_type": "code",
   "execution_count": 7,
   "id": "ce930c5f",
   "metadata": {},
   "outputs": [
    {
     "name": "stdout",
     "output_type": "stream",
     "text": [
      "Word average = 9249.0\n",
      "FOG INDEX =  693.3\n",
      "Average no of words per sentence\n",
      "1721.0\n",
      "Complex Words 3248\n"
     ]
    }
   ],
   "source": [
    "#AVG SENTENCE LENGTH\n",
    "AVG_SENTENCE_LENGTH = len(content.replace(' ',''))/len(re.split(r'[?!.]', content))\n",
    "print('Word average =', AVG_SENTENCE_LENGTH)\n",
    "import textstat\n",
    "#Fog index \n",
    "FOG_INDEX=(textstat.gunning_fog(content))\n",
    "print(\"FOG INDEX = \",FOG_INDEX)\n",
    "#Average No of Words Per Sentence \n",
    "AVG_NUMBER_OF_WORDS_PER_SENTENCE = [len(l.split()) for l in re.split(r'[?!.]', content) if l.strip()]\n",
    "print(\"Average no of words per sentence\")\n",
    "AVG_NUMBER_OF_WORDS_PER_SENTENCE=print(sum(AVG_NUMBER_OF_WORDS_PER_SENTENCE)/len(AVG_NUMBER_OF_WORDS_PER_SENTENCE))\n",
    "#Complex words\n",
    "def syllable_count(word):\n",
    "    count = 0\n",
    "    vowels = \"AEIOUYaeiouy\"\n",
    "    if word[0] in vowels:\n",
    "        count += 1\n",
    "    for index in range(1, len(word)): \n",
    "        if word[index] in vowels and word[index - 1] not in vowels:\n",
    "            count += 1\n",
    "            if word.endswith(\"es\"or \"ed\"):\n",
    "                count -= 1\n",
    "    if count == 0:\n",
    "        count += 1\n",
    "    return count\n",
    "\n",
    "\n",
    "\n",
    "COMPLEX_WORDS=syllable_count(content)\n",
    "print(\"Complex Words\",COMPLEX_WORDS)\n"
   ]
  },
  {
   "cell_type": "code",
   "execution_count": 8,
   "id": "0fb3bf30",
   "metadata": {},
   "outputs": [
    {
     "name": "stdout",
     "output_type": "stream",
     "text": [
      "Word Count 10971\n",
      "Percentage of Complex Words 29.605323124601224\n",
      "Average Word per Length 5.374201045903544\n",
      "The AVG number of syllables in the word is: \n",
      "2.1621150493898895\n"
     ]
    }
   ],
   "source": [
    "#Word Count\n",
    "Word_Count=len(content)\n",
    "print(\"Word Count\",Word_Count)\n",
    "#Percentage Complex Words\n",
    "pcw=(COMPLEX_WORDS/Word_Count)*100\n",
    "print(\"Percentage of Complex Words\",pcw)\n",
    "#Average Word Length\n",
    "Average_Word_Length=len(content.replace(' ',''))/len(content.split())\n",
    "print(\"Average Word per Length\",Average_Word_Length)\n",
    "#Syllable Count Per Word\n",
    "word=content.replace(' ','')\n",
    "syllable_count=0\n",
    "for w in word:\n",
    "      if(w=='a' or w=='e' or w=='i' or w=='o' or w=='y' or w=='u' or w=='A' or w=='E' or w=='I' or w=='O' or w=='U' or w=='Y'):\n",
    "            syllable_count=syllable_count+1\n",
    "print(\"The AVG number of syllables in the word is: \")\n",
    "print(syllable_count/len(content.split()))"
   ]
  },
  {
   "cell_type": "code",
   "execution_count": 1,
   "id": "229aef98",
   "metadata": {},
   "outputs": [
    {
     "name": "stdout",
     "output_type": "stream",
     "text": [
      "31\n",
      "48\n",
      "Word average = 9249.0\n",
      "FOG INDEX =  693.3\n",
      "Average no of words per sentence\n",
      "1721.0\n",
      "Complex Words 3248\n",
      "Word Count 10971\n",
      "Percentage of Complex Words 29.605323124601224\n",
      "Average Word per Length 5.374201045903544\n",
      "The AVG number of syllables in the word is: \n",
      "2.1621150493898895\n"
     ]
    },
    {
     "data": {
      "text/html": [
       "<div>\n",
       "<style scoped>\n",
       "    .dataframe tbody tr th:only-of-type {\n",
       "        vertical-align: middle;\n",
       "    }\n",
       "\n",
       "    .dataframe tbody tr th {\n",
       "        vertical-align: top;\n",
       "    }\n",
       "\n",
       "    .dataframe thead th {\n",
       "        text-align: right;\n",
       "    }\n",
       "</style>\n",
       "<table border=\"1\" class=\"dataframe\">\n",
       "  <thead>\n",
       "    <tr style=\"text-align: right;\">\n",
       "      <th></th>\n",
       "      <th>url</th>\n",
       "      <th>title</th>\n",
       "      <th>content</th>\n",
       "      <th>filter_content</th>\n",
       "      <th>Positive_Score</th>\n",
       "      <th>Negative_Score</th>\n",
       "      <th>Avg_Sentence_Length</th>\n",
       "      <th>Percentage_Complex_Word</th>\n",
       "      <th>Fog_Index</th>\n",
       "      <th>AVG_NUMBER_OF_WORDS_PER_SENTENCE</th>\n",
       "      <th>COMPLEX_WORDS</th>\n",
       "      <th>Word_Count</th>\n",
       "      <th>syllable</th>\n",
       "      <th>Average_Word_Length</th>\n",
       "      <th>polarity</th>\n",
       "      <th>subjectivity</th>\n",
       "    </tr>\n",
       "  </thead>\n",
       "  <tbody>\n",
       "    <tr>\n",
       "      <th>0</th>\n",
       "      <td>https://insights.blackcoffer.com/will-we-ever-...</td>\n",
       "      <td>Will we ever understand the nature of consciou...</td>\n",
       "      <td>Introduction The definition of consciousness ...</td>\n",
       "      <td>Introduction The definition of consciousness h...</td>\n",
       "      <td>31</td>\n",
       "      <td>48</td>\n",
       "      <td>9249.0</td>\n",
       "      <td>29.605323</td>\n",
       "      <td>693.3</td>\n",
       "      <td>1721.0</td>\n",
       "      <td>3248</td>\n",
       "      <td>10971</td>\n",
       "      <td>2.162115</td>\n",
       "      <td>5.374201</td>\n",
       "      <td>0.088242</td>\n",
       "      <td>0.402569</td>\n",
       "    </tr>\n",
       "  </tbody>\n",
       "</table>\n",
       "</div>"
      ],
      "text/plain": [
       "                                                 url  \\\n",
       "0  https://insights.blackcoffer.com/will-we-ever-...   \n",
       "\n",
       "                                               title  \\\n",
       "0  Will we ever understand the nature of consciou...   \n",
       "\n",
       "                                             content  \\\n",
       "0   Introduction The definition of consciousness ...   \n",
       "\n",
       "                                      filter_content  Positive_Score  \\\n",
       "0  Introduction The definition of consciousness h...              31   \n",
       "\n",
       "   Negative_Score  Avg_Sentence_Length  Percentage_Complex_Word  Fog_Index  \\\n",
       "0              48               9249.0                29.605323      693.3   \n",
       "\n",
       "    AVG_NUMBER_OF_WORDS_PER_SENTENCE  COMPLEX_WORDS  Word_Count  syllable  \\\n",
       "0                             1721.0           3248       10971  2.162115   \n",
       "\n",
       "   Average_Word_Length  polarity  subjectivity  \n",
       "0             5.374201  0.088242      0.402569  "
      ]
     },
     "execution_count": 1,
     "metadata": {},
     "output_type": "execute_result"
    }
   ],
   "source": [
    "import requests\n",
    "import pandas as pd \n",
    "from bs4 import BeautifulSoup\n",
    "import string\n",
    "import spacy\n",
    "import re\n",
    "url = \"\"\"https://insights.blackcoffer.com/will-we-ever-understand-the-nature-of-consciousness/\"\"\"\n",
    "\n",
    "headers = {\"User-Agent\": \"Mozilla/5.0 (X11; Linux x86_64; rv:60.0) Gecko/20100101 Firefox/60.0\"}\n",
    "page = requests.get(url, headers=headers)\n",
    "soup = BeautifulSoup(page.content, 'html.parser')\n",
    "soup=BeautifulSoup(page.content, 'html.parser')\n",
    "title=soup.find('h1',class_=\"entry-title\")\n",
    "title=title.text.replace('\\n',\" \")\n",
    "# title\n",
    "\n",
    "content=soup.findAll(attrs={'class':'td-post-content'})\n",
    "content=content[0].text.replace('\\n',\" \")\n",
    "# print(content)\n",
    "#Punctuation\n",
    "content = content.translate(str.maketrans('', '', string.punctuation)) \n",
    "# print(content)\n",
    "text = content.split()\n",
    "# print(text)\n",
    "len(text)\n",
    "#Positive Score \n",
    "with open(r\"C:\\Users\\Om Bhandwalkar\\Desktop\\pos\\positive-words.txt\") as pos:\n",
    "    poswords = pos.read().split(\"\\n\")  \n",
    "    poswords = poswords[5:]\n",
    "pos_count = \" \".join ([w for w in text if w in poswords])\n",
    "pos_count=pos_count.split(\" \")\n",
    "Positive_score=len(pos_count)\n",
    "print(Positive_score)\n",
    "\n",
    "#Negative Score\n",
    "with open(r\"C:\\Users\\Om Bhandwalkar\\Desktop\\pos\\negative-words.txt\",encoding =\"ISO-8859-1\") as neg:\n",
    "    negwords = neg.read().split(\"\\n\")\n",
    "    \n",
    "negwords = negwords[36:]\n",
    "neg_count = \" \".join ([w for w in text if w in negwords])\n",
    "neg_count=neg_count.split(\" \")\n",
    "Negative_score=len(neg_count)\n",
    "print(Negative_score)\n",
    "\n",
    "\n",
    "filter_content = ' '.join(text)\n",
    "data=[[url,title,content,filter_content,Positive_score,Negative_score]]\n",
    "data=pd.DataFrame(data,columns=[\"url\",\"title\",\"content\",\"filter_content\",\"Positive_Score\",\"Negative_Score\"])\n",
    "from textblob import TextBlob\n",
    "# Get The Subjectivity\n",
    "def sentiment_analysis(data):\n",
    "    sentiment = TextBlob(data[\"content\"]).sentiment\n",
    "    return pd.Series([sentiment.polarity,sentiment.subjectivity ])\n",
    "data[[\"polarity\", \"subjectivity\"]] = data.apply(sentiment_analysis, axis=1)\n",
    "data\n",
    "#AVG SENTENCE LENGTH\n",
    "AVG_SENTENCE_LENGTH = len(content.replace(' ',''))/len(re.split(r'[?!.]', content))\n",
    "print('Word average =', AVG_SENTENCE_LENGTH)\n",
    "import textstat\n",
    "#Fog index \n",
    "FOG_INDEX=(textstat.gunning_fog(content))\n",
    "print(\"FOG INDEX = \",FOG_INDEX)\n",
    "#Average No of Words Per Sentence \n",
    "AVG_NUMBER_OF_WORDS_PER_SENTENCE = [len(l.split()) for l in re.split(r'[?!.]', content) if l.strip()]\n",
    "print(\"Average no of words per sentence\")\n",
    "AVG_NUMBER_OF_WORDS_PER_SENTENCE=(sum(AVG_NUMBER_OF_WORDS_PER_SENTENCE)/len(AVG_NUMBER_OF_WORDS_PER_SENTENCE))\n",
    "print(AVG_NUMBER_OF_WORDS_PER_SENTENCE)\n",
    "#Complex words\n",
    "def syllable_count(word):\n",
    "    count = 0\n",
    "    vowels = \"AEIOUYaeiouy\"\n",
    "    if word[0] in vowels:\n",
    "        count += 1\n",
    "    for index in range(1, len(word)): \n",
    "        if word[index] in vowels and word[index - 1] not in vowels:\n",
    "            count += 1\n",
    "            if word.endswith(\"es\"or \"ed\"):\n",
    "                count -= 1\n",
    "    if count == 0:\n",
    "        count += 1\n",
    "    return count\n",
    "\n",
    "\n",
    "\n",
    "COMPLEX_WORDS=syllable_count(content)\n",
    "print(\"Complex Words\",COMPLEX_WORDS)\n",
    "#Word Count\n",
    "Word_Count=len(content)\n",
    "print(\"Word Count\",Word_Count)\n",
    "#Percentage Complex Words\n",
    "pcw=(COMPLEX_WORDS/Word_Count)*100\n",
    "print(\"Percentage of Complex Words\",pcw)\n",
    "#Average Word Length\n",
    "Average_Word_Length=len(content.replace(' ',''))/len(content.split())\n",
    "print(\"Average Word per Length\",Average_Word_Length)\n",
    "#Syllable Count Per Word\n",
    "word=content.replace(' ','')\n",
    "syllable_count=0\n",
    "for w in word:\n",
    "      if(w=='a' or w=='e' or w=='i' or w=='o' or w=='y' or w=='u' or w=='A' or w=='E' or w=='I' or w=='O' or w=='U' or w=='Y'):\n",
    "            syllable_count=syllable_count+1\n",
    "print(\"The AVG number of syllables in the word is: \")\n",
    "syllable = (syllable_count/len(content.split()))\n",
    "print(syllable)\n",
    "\n",
    "data = [[url,title,content,filter_content,Positive_score,Negative_score,AVG_SENTENCE_LENGTH,pcw,FOG_INDEX,\n",
    "         AVG_NUMBER_OF_WORDS_PER_SENTENCE,COMPLEX_WORDS,Word_Count,syllable,Average_Word_Length]]\n",
    "data=pd.DataFrame(data,columns=[\"url\",\"title\",\"content\",\"filter_content\",\"Positive_Score\",\"Negative_Score\",\"Avg_Sentence_Length\"\n",
    "                               ,\"Percentage_Complex_Word\",\"Fog_Index\",\" AVG_NUMBER_OF_WORDS_PER_SENTENCE\",\"COMPLEX_WORDS\",\n",
    "                               \"Word_Count\",\"syllable\",\"Average_Word_Length\"])\n",
    "from textblob import TextBlob\n",
    "# Get The Subjectivity\n",
    "def sentiment_analysis(data):\n",
    "    sentiment = TextBlob(data[\"content\"]).sentiment\n",
    "    return pd.Series([sentiment.polarity,sentiment.subjectivity ])\n",
    "data[[\"polarity\", \"subjectivity\"]] = data.apply(sentiment_analysis, axis=1)\n",
    "data"
   ]
  },
  {
   "cell_type": "code",
   "execution_count": 2,
   "id": "d3b0b001",
   "metadata": {},
   "outputs": [],
   "source": [
    "data.to_csv(r'C:\\Users\\Om Bhandwalkar\\Desktop\\BlackCoffer Assignment\\Output\\url_72.csv')"
   ]
  },
  {
   "cell_type": "code",
   "execution_count": null,
   "id": "16660b61",
   "metadata": {},
   "outputs": [],
   "source": []
  }
 ],
 "metadata": {
  "kernelspec": {
   "display_name": "Python 3 (ipykernel)",
   "language": "python",
   "name": "python3"
  },
  "language_info": {
   "codemirror_mode": {
    "name": "ipython",
    "version": 3
   },
   "file_extension": ".py",
   "mimetype": "text/x-python",
   "name": "python",
   "nbconvert_exporter": "python",
   "pygments_lexer": "ipython3",
   "version": "3.9.12"
  }
 },
 "nbformat": 4,
 "nbformat_minor": 5
}
