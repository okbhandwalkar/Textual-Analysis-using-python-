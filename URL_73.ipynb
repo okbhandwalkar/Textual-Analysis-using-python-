{
 "cells": [
  {
   "cell_type": "code",
   "execution_count": 1,
   "id": "aade739d",
   "metadata": {},
   "outputs": [
    {
     "data": {
      "text/plain": [
       "'Will we ever colonize outer space?'"
      ]
     },
     "execution_count": 1,
     "metadata": {},
     "output_type": "execute_result"
    }
   ],
   "source": [
    "import requests\n",
    "import pandas as pd \n",
    "from bs4 import BeautifulSoup\n",
    "import string\n",
    "import spacy\n",
    "import re\n",
    "url = \"\"\"https://insights.blackcoffer.com/will-we-ever-colonize-outer-space/\"\"\"\n",
    "headers = {\"User-Agent\": \"Mozilla/5.0 (X11; Linux x86_64; rv:60.0) Gecko/20100101 Firefox/60.0\"}\n",
    "page = requests.get(url, headers=headers)\n",
    "soup = BeautifulSoup(page.content, 'html.parser')\n",
    "soup=BeautifulSoup(page.content, 'html.parser')\n",
    "title=soup.find('h1',class_=\"entry-title\")\n",
    "title=title.text.replace('\\n',\" \")\n",
    "title\n"
   ]
  },
  {
   "cell_type": "code",
   "execution_count": 2,
   "id": "fca8785a",
   "metadata": {},
   "outputs": [
    {
     "name": "stdout",
     "output_type": "stream",
     "text": [
      " Nature has blessed humanity with earth, a rounded globe where all essential necessity lies in the hand of a human. Though in this 21st-century building Space shuttle and exploring space has become an obvious activity among the human raise, now with the inclusion of Start-ups like Space X once dreamed for reaching out at space now is coming true. We all have to agree upon a fact that in the Growth of industrialization we have generated a humungous carbon footprint and colonize at outer space will create a much-needed area for our survival. With time the human race has visualized and has undergone many transformations, and these transformations may for starters were not that effective but were a major role at existence to this age. Be it a natural transformation like shifting of tectonic plates or manmade like Dumping water and damaging water bodies, somehow have affected usual life of humans so creating space of humans is what next humans are eyeing for. All this idea for Colonizing in outer space emerged when NASA was able to launch a space shuttle with a heavy payload in the late 1990s this idea didn’t stir brain at that time but later was like apple eyes when various articles from astronauts and their writeup came into limelight and this idea saw its progression, space exploration was not a new normal, companies were petrified by the number of investments that these kinds of projects ask for. But things change with the entry of PayPal’s owner Elon Musk, in 2002 where he laid stones of Space X, with NASA providing the launchpad for their exploration. Being space travel legitimate there where many bottlenecks knowing the nature of outer space will boost the idea of colonizing, here one has to realize the optimum. But the main target that these company put forward with themself was to not just get into other planet but to get back at earth safely, earlier these projects due to high fund was always subdued and priority was given to the rocket technology. Thus, this unimaginable quest for the search of space was far-fetched though. Now being in 2020 we do not find it out of a place of colonizing outside of space, the kind of emergence of technologies has led to the escalation of spreading the roots of human existence, the plan for reaching out to outer space too plays a key role for this idea too. Proper Planning, Analysing, Organising, and Executing were required for these projects to be successful for deeper know how I would like to mention here an example of Space X, According to them they wud be successful for sending Rockets by 2022 and would able to colonize by 2050, For achieving these vision they have planned a total of 36 times pre-launch of the same rocket which they will be launching by 2020. Not only that they have already placed their star link satellites which will provide the basic network connectivity for their colonized world, they have planned this to that extent that they have targeted a profit of $ 22 billion yearly by 2025. Already they have sent the first manned rocket successfully what Elon musk plan is to create that infrastructure by which going to Mars with cost as a regular air flight ticket all this will lead to better chances for colonizing at another planet. With setting up their commercial flight once started to the red planet it wud just be a stepping stone for the colonizing at the outer space. But the fundamental change that people have to undergo while living on another planet will be a change in gravity and being able to be near to live support if any technical issues arise to their suit until unless we find a similar place like the earth that is the change which humans have to adjust. Aspects like Ultraviolet rays too will play an immense role in the survival, but with the rate of technology expanding and challenging at very boundaries there are not many days left when we find solutions to these aspects but this idea of colonizing has more to do with monetary terms it has been projected that building a colony at space will cost at about $10 Trillian which is more than many countries GDP. Placing that much of an amount and getting funding for such highly anticipated projects is tough. Elon to have addressed with these questions with an open Door he believes that this cost is nothing when we find a route to colonize space and these costs will be justifiable when space exploration will reach new heights. Also, our world is around water and the percentage of land comparison to water is too less. Whereas the population is increasing with the speed and the level of excitement in order to search for new things and the obsession with the new and innovative things never going to finish. Because in the end, we do not satisfy what we have achieved, we are only looking for other things and crave to achieve that. In order to achieve that planning is most crucial stage. As of now we have searched 9 planets but still didn’t shortlisted the outcomes. But according to the 3-decade theory of ELON MUSK, it seems to be possible. As the most important thing to survive is the atmospheric environment, whether is this suitable or not, and in order to make it suitable what steps had to take and maintain the suitable level of oxygen.  The missions are now what everyone is focusing about. Finding the source of water, because its 2nd crucial thing which is needed to survive. Apart from the excitement and the things, the threats or the uncertainties are bound to happen like any kind of mammal which could occur during construction or after that. So the security for that or any protection so that uncertainties could be replicated. After the basic things, other factors like what are the natural habitats available there, whether the plants could be grown over there or not. If yes, then what types of plants could survive there. The environment for the animals is safe or not. Because to balance the nature we need all types of animals, natural habitat, even insects and other small things which seems to be ignorable but plays an important role in maintaining the environmental balance. For e.g.  – Ants are among the leading predators of other insects, helping to keep pest populations low.  Ants move approximately the same amount of soil as earthworms, loosening the soil in the process and increasing air and water movement into the ground.  They keep the ecosystem clean of dead insect carcasses and aid in the destruction and decomposition of plant and animal matter. So, every small thing contributes in its own way. Another matter of concern is the level of artificial intelligence and machine learning required to maintain that kind of requirement. Because as the current scenario, we need energy to run any vehicle or even for the robotics. So, the availability of the energy and the source of energy is needed. And apart from this, the heat of sun is equally important in order to maintain the level. Because with artificial air we can survive but not for so long. So, in order to remain healthy as well the calculation has to be done. When thinking about disease, you may have heard in the news about the concern that antibiotics (such as penicillin) – which help fight infections – may eventually stop working. Global health organisations are trying to reduce the use of antibiotics, especially for conditions that aren’t serious. This is because their overuse in recent years means that they’re becoming less effective. But still we can survive without antibiotics. Because there are ways of dealing with diseases caused by bacteria such as isolation which is how they were treated before penicillin. It might sound like something set firmly in the realm of fantasy, but experts in private industry and governments around the world are trying to understand how feasible it would be to establish a lunar base. Some scientists think humans could survive comfortably on the moon. In some ways, the very minimal gravity of the moon might actually be more conducive to life than the microgravity astronauts experience on the International Space Station. Although it hasn’t been formally tested, some experts hypothesize that the small amount of gravitational force put on an astronaut’s body when on the moon could help stem some of the adverse effects like bone-density and muscle loss that space flyers experience while living in microgravity on the International Space Station. By using the moon’s indigenous material, space agencies can save money on the cost of flying pricey missions to and from the moon’s surface. Once on the moon, instead of having to stage costly missions aimed at delivering oxygen and other necessary resources from Earth, experts might be able to actually use the material to manufacture gasses needed to sustain life on the satellite. On earth, we are protected from radioactive solar winds and cosmic rays by our own magnet field known as the magnetosphere. But out in the space, we can’t rely on this type of protection, and in order to make that protection, it could take a lot but yes with more upgraded technology it could achieve. Although till now the approximate value of the project is $10 trillion. But the aim is to make the fare equivalent to the normal air fare. As once we are comfortable with all the resources, securities for uncertainties, risk analysis, and the probability of survival of the human being and many other factors after consideration, then development won’t take much time. Because to construct a building it take normally 8-9 months. Which is totally acceptable. But the main concern is the density of the land, i.e. whether the land has the capacity to bear that much weight or not. And the type of land is adaptable for cultivation or nor. Although land can be converted into different types of cultivation but with the help of upgraded technology. In order to transport the equipments on the regular basis, a large amount of fuel Is required, and other factors as well and Built the propellor depo for rocket landing building various infrastructure for the city one by one will create a way forward for idea of Colonizing at outer space. Blackcoffer Insights 21: Anubhav Sassendran and Shivay Agarwal, NEW DELHI INSTITUTE OF MANAGEMENT. \n",
      " Nature has blessed humanity with earth a rounded globe where all essential necessity lies in the hand of a human Though in this 21stcentury building Space shuttle and exploring space has become an obvious activity among the human raise now with the inclusion of Startups like Space X once dreamed for reaching out at space now is coming true We all have to agree upon a fact that in the Growth of industrialization we have generated a humungous carbon footprint and colonize at outer space will create a muchneeded area for our survival With time the human race has visualized and has undergone many transformations and these transformations may for starters were not that effective but were a major role at existence to this age Be it a natural transformation like shifting of tectonic plates or manmade like Dumping water and damaging water bodies somehow have affected usual life of humans so creating space of humans is what next humans are eyeing for All this idea for Colonizing in outer space emerged when NASA was able to launch a space shuttle with a heavy payload in the late 1990s this idea didn’t stir brain at that time but later was like apple eyes when various articles from astronauts and their writeup came into limelight and this idea saw its progression space exploration was not a new normal companies were petrified by the number of investments that these kinds of projects ask for But things change with the entry of PayPal’s owner Elon Musk in 2002 where he laid stones of Space X with NASA providing the launchpad for their exploration Being space travel legitimate there where many bottlenecks knowing the nature of outer space will boost the idea of colonizing here one has to realize the optimum But the main target that these company put forward with themself was to not just get into other planet but to get back at earth safely earlier these projects due to high fund was always subdued and priority was given to the rocket technology Thus this unimaginable quest for the search of space was farfetched though Now being in 2020 we do not find it out of a place of colonizing outside of space the kind of emergence of technologies has led to the escalation of spreading the roots of human existence the plan for reaching out to outer space too plays a key role for this idea too Proper Planning Analysing Organising and Executing were required for these projects to be successful for deeper know how I would like to mention here an example of Space X According to them they wud be successful for sending Rockets by 2022 and would able to colonize by 2050 For achieving these vision they have planned a total of 36 times prelaunch of the same rocket which they will be launching by 2020 Not only that they have already placed their star link satellites which will provide the basic network connectivity for their colonized world they have planned this to that extent that they have targeted a profit of  22 billion yearly by 2025 Already they have sent the first manned rocket successfully what Elon musk plan is to create that infrastructure by which going to Mars with cost as a regular air flight ticket all this will lead to better chances for colonizing at another planet With setting up their commercial flight once started to the red planet it wud just be a stepping stone for the colonizing at the outer space But the fundamental change that people have to undergo while living on another planet will be a change in gravity and being able to be near to live support if any technical issues arise to their suit until unless we find a similar place like the earth that is the change which humans have to adjust Aspects like Ultraviolet rays too will play an immense role in the survival but with the rate of technology expanding and challenging at very boundaries there are not many days left when we find solutions to these aspects but this idea of colonizing has more to do with monetary terms it has been projected that building a colony at space will cost at about 10 Trillian which is more than many countries GDP Placing that much of an amount and getting funding for such highly anticipated projects is tough Elon to have addressed with these questions with an open Door he believes that this cost is nothing when we find a route to colonize space and these costs will be justifiable when space exploration will reach new heights Also our world is around water and the percentage of land comparison to water is too less Whereas the population is increasing with the speed and the level of excitement in order to search for new things and the obsession with the new and innovative things never going to finish Because in the end we do not satisfy what we have achieved we are only looking for other things and crave to achieve that In order to achieve that planning is most crucial stage As of now we have searched 9 planets but still didn’t shortlisted the outcomes But according to the 3decade theory of ELON MUSK it seems to be possible As the most important thing to survive is the atmospheric environment whether is this suitable or not and in order to make it suitable what steps had to take and maintain the suitable level of oxygen  The missions are now what everyone is focusing about Finding the source of water because its 2nd crucial thing which is needed to survive Apart from the excitement and the things the threats or the uncertainties are bound to happen like any kind of mammal which could occur during construction or after that So the security for that or any protection so that uncertainties could be replicated After the basic things other factors like what are the natural habitats available there whether the plants could be grown over there or not If yes then what types of plants could survive there The environment for the animals is safe or not Because to balance the nature we need all types of animals natural habitat even insects and other small things which seems to be ignorable but plays an important role in maintaining the environmental balance For eg  – Ants are among the leading predators of other insects helping to keep pest populations low  Ants move approximately the same amount of soil as earthworms loosening the soil in the process and increasing air and water movement into the ground  They keep the ecosystem clean of dead insect carcasses and aid in the destruction and decomposition of plant and animal matter So every small thing contributes in its own way Another matter of concern is the level of artificial intelligence and machine learning required to maintain that kind of requirement Because as the current scenario we need energy to run any vehicle or even for the robotics So the availability of the energy and the source of energy is needed And apart from this the heat of sun is equally important in order to maintain the level Because with artificial air we can survive but not for so long So in order to remain healthy as well the calculation has to be done When thinking about disease you may have heard in the news about the concern that antibiotics such as penicillin – which help fight infections – may eventually stop working Global health organisations are trying to reduce the use of antibiotics especially for conditions that aren’t serious This is because their overuse in recent years means that they’re becoming less effective But still we can survive without antibiotics Because there are ways of dealing with diseases caused by bacteria such as isolation which is how they were treated before penicillin It might sound like something set firmly in the realm of fantasy but experts in private industry and governments around the world are trying to understand how feasible it would be to establish a lunar base Some scientists think humans could survive comfortably on the moon In some ways the very minimal gravity of the moon might actually be more conducive to life than the microgravity astronauts experience on the International Space Station Although it hasn’t been formally tested some experts hypothesize that the small amount of gravitational force put on an astronaut’s body when on the moon could help stem some of the adverse effects like bonedensity and muscle loss that space flyers experience while living in microgravity on the International Space Station By using the moon’s indigenous material space agencies can save money on the cost of flying pricey missions to and from the moon’s surface Once on the moon instead of having to stage costly missions aimed at delivering oxygen and other necessary resources from Earth experts might be able to actually use the material to manufacture gasses needed to sustain life on the satellite On earth we are protected from radioactive solar winds and cosmic rays by our own magnet field known as the magnetosphere But out in the space we can’t rely on this type of protection and in order to make that protection it could take a lot but yes with more upgraded technology it could achieve Although till now the approximate value of the project is 10 trillion But the aim is to make the fare equivalent to the normal air fare As once we are comfortable with all the resources securities for uncertainties risk analysis and the probability of survival of the human being and many other factors after consideration then development won’t take much time Because to construct a building it take normally 89 months Which is totally acceptable But the main concern is the density of the land ie whether the land has the capacity to bear that much weight or not And the type of land is adaptable for cultivation or nor Although land can be converted into different types of cultivation but with the help of upgraded technology In order to transport the equipments on the regular basis a large amount of fuel Is required and other factors as well and Built the propellor depo for rocket landing building various infrastructure for the city one by one will create a way forward for idea of Colonizing at outer space Blackcoffer Insights 21 Anubhav Sassendran and Shivay Agarwal NEW DELHI INSTITUTE OF MANAGEMENT \n",
      "['Nature', 'has', 'blessed', 'humanity', 'with', 'earth', 'a', 'rounded', 'globe', 'where', 'all', 'essential', 'necessity', 'lies', 'in', 'the', 'hand', 'of', 'a', 'human', 'Though', 'in', 'this', '21stcentury', 'building', 'Space', 'shuttle', 'and', 'exploring', 'space', 'has', 'become', 'an', 'obvious', 'activity', 'among', 'the', 'human', 'raise', 'now', 'with', 'the', 'inclusion', 'of', 'Startups', 'like', 'Space', 'X', 'once', 'dreamed', 'for', 'reaching', 'out', 'at', 'space', 'now', 'is', 'coming', 'true', 'We', 'all', 'have', 'to', 'agree', 'upon', 'a', 'fact', 'that', 'in', 'the', 'Growth', 'of', 'industrialization', 'we', 'have', 'generated', 'a', 'humungous', 'carbon', 'footprint', 'and', 'colonize', 'at', 'outer', 'space', 'will', 'create', 'a', 'muchneeded', 'area', 'for', 'our', 'survival', 'With', 'time', 'the', 'human', 'race', 'has', 'visualized', 'and', 'has', 'undergone', 'many', 'transformations', 'and', 'these', 'transformations', 'may', 'for', 'starters', 'were', 'not', 'that', 'effective', 'but', 'were', 'a', 'major', 'role', 'at', 'existence', 'to', 'this', 'age', 'Be', 'it', 'a', 'natural', 'transformation', 'like', 'shifting', 'of', 'tectonic', 'plates', 'or', 'manmade', 'like', 'Dumping', 'water', 'and', 'damaging', 'water', 'bodies', 'somehow', 'have', 'affected', 'usual', 'life', 'of', 'humans', 'so', 'creating', 'space', 'of', 'humans', 'is', 'what', 'next', 'humans', 'are', 'eyeing', 'for', 'All', 'this', 'idea', 'for', 'Colonizing', 'in', 'outer', 'space', 'emerged', 'when', 'NASA', 'was', 'able', 'to', 'launch', 'a', 'space', 'shuttle', 'with', 'a', 'heavy', 'payload', 'in', 'the', 'late', '1990s', 'this', 'idea', 'didn’t', 'stir', 'brain', 'at', 'that', 'time', 'but', 'later', 'was', 'like', 'apple', 'eyes', 'when', 'various', 'articles', 'from', 'astronauts', 'and', 'their', 'writeup', 'came', 'into', 'limelight', 'and', 'this', 'idea', 'saw', 'its', 'progression', 'space', 'exploration', 'was', 'not', 'a', 'new', 'normal', 'companies', 'were', 'petrified', 'by', 'the', 'number', 'of', 'investments', 'that', 'these', 'kinds', 'of', 'projects', 'ask', 'for', 'But', 'things', 'change', 'with', 'the', 'entry', 'of', 'PayPal’s', 'owner', 'Elon', 'Musk', 'in', '2002', 'where', 'he', 'laid', 'stones', 'of', 'Space', 'X', 'with', 'NASA', 'providing', 'the', 'launchpad', 'for', 'their', 'exploration', 'Being', 'space', 'travel', 'legitimate', 'there', 'where', 'many', 'bottlenecks', 'knowing', 'the', 'nature', 'of', 'outer', 'space', 'will', 'boost', 'the', 'idea', 'of', 'colonizing', 'here', 'one', 'has', 'to', 'realize', 'the', 'optimum', 'But', 'the', 'main', 'target', 'that', 'these', 'company', 'put', 'forward', 'with', 'themself', 'was', 'to', 'not', 'just', 'get', 'into', 'other', 'planet', 'but', 'to', 'get', 'back', 'at', 'earth', 'safely', 'earlier', 'these', 'projects', 'due', 'to', 'high', 'fund', 'was', 'always', 'subdued', 'and', 'priority', 'was', 'given', 'to', 'the', 'rocket', 'technology', 'Thus', 'this', 'unimaginable', 'quest', 'for', 'the', 'search', 'of', 'space', 'was', 'farfetched', 'though', 'Now', 'being', 'in', '2020', 'we', 'do', 'not', 'find', 'it', 'out', 'of', 'a', 'place', 'of', 'colonizing', 'outside', 'of', 'space', 'the', 'kind', 'of', 'emergence', 'of', 'technologies', 'has', 'led', 'to', 'the', 'escalation', 'of', 'spreading', 'the', 'roots', 'of', 'human', 'existence', 'the', 'plan', 'for', 'reaching', 'out', 'to', 'outer', 'space', 'too', 'plays', 'a', 'key', 'role', 'for', 'this', 'idea', 'too', 'Proper', 'Planning', 'Analysing', 'Organising', 'and', 'Executing', 'were', 'required', 'for', 'these', 'projects', 'to', 'be', 'successful', 'for', 'deeper', 'know', 'how', 'I', 'would', 'like', 'to', 'mention', 'here', 'an', 'example', 'of', 'Space', 'X', 'According', 'to', 'them', 'they', 'wud', 'be', 'successful', 'for', 'sending', 'Rockets', 'by', '2022', 'and', 'would', 'able', 'to', 'colonize', 'by', '2050', 'For', 'achieving', 'these', 'vision', 'they', 'have', 'planned', 'a', 'total', 'of', '36', 'times', 'prelaunch', 'of', 'the', 'same', 'rocket', 'which', 'they', 'will', 'be', 'launching', 'by', '2020', 'Not', 'only', 'that', 'they', 'have', 'already', 'placed', 'their', 'star', 'link', 'satellites', 'which', 'will', 'provide', 'the', 'basic', 'network', 'connectivity', 'for', 'their', 'colonized', 'world', 'they', 'have', 'planned', 'this', 'to', 'that', 'extent', 'that', 'they', 'have', 'targeted', 'a', 'profit', 'of', '22', 'billion', 'yearly', 'by', '2025', 'Already', 'they', 'have', 'sent', 'the', 'first', 'manned', 'rocket', 'successfully', 'what', 'Elon', 'musk', 'plan', 'is', 'to', 'create', 'that', 'infrastructure', 'by', 'which', 'going', 'to', 'Mars', 'with', 'cost', 'as', 'a', 'regular', 'air', 'flight', 'ticket', 'all', 'this', 'will', 'lead', 'to', 'better', 'chances', 'for', 'colonizing', 'at', 'another', 'planet', 'With', 'setting', 'up', 'their', 'commercial', 'flight', 'once', 'started', 'to', 'the', 'red', 'planet', 'it', 'wud', 'just', 'be', 'a', 'stepping', 'stone', 'for', 'the', 'colonizing', 'at', 'the', 'outer', 'space', 'But', 'the', 'fundamental', 'change', 'that', 'people', 'have', 'to', 'undergo', 'while', 'living', 'on', 'another', 'planet', 'will', 'be', 'a', 'change', 'in', 'gravity', 'and', 'being', 'able', 'to', 'be', 'near', 'to', 'live', 'support', 'if', 'any', 'technical', 'issues', 'arise', 'to', 'their', 'suit', 'until', 'unless', 'we', 'find', 'a', 'similar', 'place', 'like', 'the', 'earth', 'that', 'is', 'the', 'change', 'which', 'humans', 'have', 'to', 'adjust', 'Aspects', 'like', 'Ultraviolet', 'rays', 'too', 'will', 'play', 'an', 'immense', 'role', 'in', 'the', 'survival', 'but', 'with', 'the', 'rate', 'of', 'technology', 'expanding', 'and', 'challenging', 'at', 'very', 'boundaries', 'there', 'are', 'not', 'many', 'days', 'left', 'when', 'we', 'find', 'solutions', 'to', 'these', 'aspects', 'but', 'this', 'idea', 'of', 'colonizing', 'has', 'more', 'to', 'do', 'with', 'monetary', 'terms', 'it', 'has', 'been', 'projected', 'that', 'building', 'a', 'colony', 'at', 'space', 'will', 'cost', 'at', 'about', '10', 'Trillian', 'which', 'is', 'more', 'than', 'many', 'countries', 'GDP', 'Placing', 'that', 'much', 'of', 'an', 'amount', 'and', 'getting', 'funding', 'for', 'such', 'highly', 'anticipated', 'projects', 'is', 'tough', 'Elon', 'to', 'have', 'addressed', 'with', 'these', 'questions', 'with', 'an', 'open', 'Door', 'he', 'believes', 'that', 'this', 'cost', 'is', 'nothing', 'when', 'we', 'find', 'a', 'route', 'to', 'colonize', 'space', 'and', 'these', 'costs', 'will', 'be', 'justifiable', 'when', 'space', 'exploration', 'will', 'reach', 'new', 'heights', 'Also', 'our', 'world', 'is', 'around', 'water', 'and', 'the', 'percentage', 'of', 'land', 'comparison', 'to', 'water', 'is', 'too', 'less', 'Whereas', 'the', 'population', 'is', 'increasing', 'with', 'the', 'speed', 'and', 'the', 'level', 'of', 'excitement', 'in', 'order', 'to', 'search', 'for', 'new', 'things', 'and', 'the', 'obsession', 'with', 'the', 'new', 'and', 'innovative', 'things', 'never', 'going', 'to', 'finish', 'Because', 'in', 'the', 'end', 'we', 'do', 'not', 'satisfy', 'what', 'we', 'have', 'achieved', 'we', 'are', 'only', 'looking', 'for', 'other', 'things', 'and', 'crave', 'to', 'achieve', 'that', 'In', 'order', 'to', 'achieve', 'that', 'planning', 'is', 'most', 'crucial', 'stage', 'As', 'of', 'now', 'we', 'have', 'searched', '9', 'planets', 'but', 'still', 'didn’t', 'shortlisted', 'the', 'outcomes', 'But', 'according', 'to', 'the', '3decade', 'theory', 'of', 'ELON', 'MUSK', 'it', 'seems', 'to', 'be', 'possible', 'As', 'the', 'most', 'important', 'thing', 'to', 'survive', 'is', 'the', 'atmospheric', 'environment', 'whether', 'is', 'this', 'suitable', 'or', 'not', 'and', 'in', 'order', 'to', 'make', 'it', 'suitable', 'what', 'steps', 'had', 'to', 'take', 'and', 'maintain', 'the', 'suitable', 'level', 'of', 'oxygen', 'The', 'missions', 'are', 'now', 'what', 'everyone', 'is', 'focusing', 'about', 'Finding', 'the', 'source', 'of', 'water', 'because', 'its', '2nd', 'crucial', 'thing', 'which', 'is', 'needed', 'to', 'survive', 'Apart', 'from', 'the', 'excitement', 'and', 'the', 'things', 'the', 'threats', 'or', 'the', 'uncertainties', 'are', 'bound', 'to', 'happen', 'like', 'any', 'kind', 'of', 'mammal', 'which', 'could', 'occur', 'during', 'construction', 'or', 'after', 'that', 'So', 'the', 'security', 'for', 'that', 'or', 'any', 'protection', 'so', 'that', 'uncertainties', 'could', 'be', 'replicated', 'After', 'the', 'basic', 'things', 'other', 'factors', 'like', 'what', 'are', 'the', 'natural', 'habitats', 'available', 'there', 'whether', 'the', 'plants', 'could', 'be', 'grown', 'over', 'there', 'or', 'not', 'If', 'yes', 'then', 'what', 'types', 'of', 'plants', 'could', 'survive', 'there', 'The', 'environment', 'for', 'the', 'animals', 'is', 'safe', 'or', 'not', 'Because', 'to', 'balance', 'the', 'nature', 'we', 'need', 'all', 'types', 'of', 'animals', 'natural', 'habitat', 'even', 'insects', 'and', 'other', 'small', 'things', 'which', 'seems', 'to', 'be', 'ignorable', 'but', 'plays', 'an', 'important', 'role', 'in', 'maintaining', 'the', 'environmental', 'balance', 'For', 'eg', '–', 'Ants', 'are', 'among', 'the', 'leading', 'predators', 'of', 'other', 'insects', 'helping', 'to', 'keep', 'pest', 'populations', 'low', 'Ants', 'move', 'approximately', 'the', 'same', 'amount', 'of', 'soil', 'as', 'earthworms', 'loosening', 'the', 'soil', 'in', 'the', 'process', 'and', 'increasing', 'air', 'and', 'water', 'movement', 'into', 'the', 'ground', 'They', 'keep', 'the', 'ecosystem', 'clean', 'of', 'dead', 'insect', 'carcasses', 'and', 'aid', 'in', 'the', 'destruction', 'and', 'decomposition', 'of', 'plant', 'and', 'animal', 'matter', 'So', 'every', 'small', 'thing', 'contributes', 'in', 'its', 'own', 'way', 'Another', 'matter', 'of', 'concern', 'is', 'the', 'level', 'of', 'artificial', 'intelligence', 'and', 'machine', 'learning', 'required', 'to', 'maintain', 'that', 'kind', 'of', 'requirement', 'Because', 'as', 'the', 'current', 'scenario', 'we', 'need', 'energy', 'to', 'run', 'any', 'vehicle', 'or', 'even', 'for', 'the', 'robotics', 'So', 'the', 'availability', 'of', 'the', 'energy', 'and', 'the', 'source', 'of', 'energy', 'is', 'needed', 'And', 'apart', 'from', 'this', 'the', 'heat', 'of', 'sun', 'is', 'equally', 'important', 'in', 'order', 'to', 'maintain', 'the', 'level', 'Because', 'with', 'artificial', 'air', 'we', 'can', 'survive', 'but', 'not', 'for', 'so', 'long', 'So', 'in', 'order', 'to', 'remain', 'healthy', 'as', 'well', 'the', 'calculation', 'has', 'to', 'be', 'done', 'When', 'thinking', 'about', 'disease', 'you', 'may', 'have', 'heard', 'in', 'the', 'news', 'about', 'the', 'concern', 'that', 'antibiotics', 'such', 'as', 'penicillin', '–', 'which', 'help', 'fight', 'infections', '–', 'may', 'eventually', 'stop', 'working', 'Global', 'health', 'organisations', 'are', 'trying', 'to', 'reduce', 'the', 'use', 'of', 'antibiotics', 'especially', 'for', 'conditions', 'that', 'aren’t', 'serious', 'This', 'is', 'because', 'their', 'overuse', 'in', 'recent', 'years', 'means', 'that', 'they’re', 'becoming', 'less', 'effective', 'But', 'still', 'we', 'can', 'survive', 'without', 'antibiotics', 'Because', 'there', 'are', 'ways', 'of', 'dealing', 'with', 'diseases', 'caused', 'by', 'bacteria', 'such', 'as', 'isolation', 'which', 'is', 'how', 'they', 'were', 'treated', 'before', 'penicillin', 'It', 'might', 'sound', 'like', 'something', 'set', 'firmly', 'in', 'the', 'realm', 'of', 'fantasy', 'but', 'experts', 'in', 'private', 'industry', 'and', 'governments', 'around', 'the', 'world', 'are', 'trying', 'to', 'understand', 'how', 'feasible', 'it', 'would', 'be', 'to', 'establish', 'a', 'lunar', 'base', 'Some', 'scientists', 'think', 'humans', 'could', 'survive', 'comfortably', 'on', 'the', 'moon', 'In', 'some', 'ways', 'the', 'very', 'minimal', 'gravity', 'of', 'the', 'moon', 'might', 'actually', 'be', 'more', 'conducive', 'to', 'life', 'than', 'the', 'microgravity', 'astronauts', 'experience', 'on', 'the', 'International', 'Space', 'Station', 'Although', 'it', 'hasn’t', 'been', 'formally', 'tested', 'some', 'experts', 'hypothesize', 'that', 'the', 'small', 'amount', 'of', 'gravitational', 'force', 'put', 'on', 'an', 'astronaut’s', 'body', 'when', 'on', 'the', 'moon', 'could', 'help', 'stem', 'some', 'of', 'the', 'adverse', 'effects', 'like', 'bonedensity', 'and', 'muscle', 'loss', 'that', 'space', 'flyers', 'experience', 'while', 'living', 'in', 'microgravity', 'on', 'the', 'International', 'Space', 'Station', 'By', 'using', 'the', 'moon’s', 'indigenous', 'material', 'space', 'agencies', 'can', 'save', 'money', 'on', 'the', 'cost', 'of', 'flying', 'pricey', 'missions', 'to', 'and', 'from', 'the', 'moon’s', 'surface', 'Once', 'on', 'the', 'moon', 'instead', 'of', 'having', 'to', 'stage', 'costly', 'missions', 'aimed', 'at', 'delivering', 'oxygen', 'and', 'other', 'necessary', 'resources', 'from', 'Earth', 'experts', 'might', 'be', 'able', 'to', 'actually', 'use', 'the', 'material', 'to', 'manufacture', 'gasses', 'needed', 'to', 'sustain', 'life', 'on', 'the', 'satellite', 'On', 'earth', 'we', 'are', 'protected', 'from', 'radioactive', 'solar', 'winds', 'and', 'cosmic', 'rays', 'by', 'our', 'own', 'magnet', 'field', 'known', 'as', 'the', 'magnetosphere', 'But', 'out', 'in', 'the', 'space', 'we', 'can’t', 'rely', 'on', 'this', 'type', 'of', 'protection', 'and', 'in', 'order', 'to', 'make', 'that', 'protection', 'it', 'could', 'take', 'a', 'lot', 'but', 'yes', 'with', 'more', 'upgraded', 'technology', 'it', 'could', 'achieve', 'Although', 'till', 'now', 'the', 'approximate', 'value', 'of', 'the', 'project', 'is', '10', 'trillion', 'But', 'the', 'aim', 'is', 'to', 'make', 'the', 'fare', 'equivalent', 'to', 'the', 'normal', 'air', 'fare', 'As', 'once', 'we', 'are', 'comfortable', 'with', 'all', 'the', 'resources', 'securities', 'for', 'uncertainties', 'risk', 'analysis', 'and', 'the', 'probability', 'of', 'survival', 'of', 'the', 'human', 'being', 'and', 'many', 'other', 'factors', 'after', 'consideration', 'then', 'development', 'won’t', 'take', 'much', 'time', 'Because', 'to', 'construct', 'a', 'building', 'it', 'take', 'normally', '89', 'months', 'Which', 'is', 'totally', 'acceptable', 'But', 'the', 'main', 'concern', 'is', 'the', 'density', 'of', 'the', 'land', 'ie', 'whether', 'the', 'land', 'has', 'the', 'capacity', 'to', 'bear', 'that', 'much', 'weight', 'or', 'not', 'And', 'the', 'type', 'of', 'land', 'is', 'adaptable', 'for', 'cultivation', 'or', 'nor', 'Although', 'land', 'can', 'be', 'converted', 'into', 'different', 'types', 'of', 'cultivation', 'but', 'with', 'the', 'help', 'of', 'upgraded', 'technology', 'In', 'order', 'to', 'transport', 'the', 'equipments', 'on', 'the', 'regular', 'basis', 'a', 'large', 'amount', 'of', 'fuel', 'Is', 'required', 'and', 'other', 'factors', 'as', 'well', 'and', 'Built', 'the', 'propellor', 'depo', 'for', 'rocket', 'landing', 'building', 'various', 'infrastructure', 'for', 'the', 'city', 'one', 'by', 'one', 'will', 'create', 'a', 'way', 'forward', 'for', 'idea', 'of', 'Colonizing', 'at', 'outer', 'space', 'Blackcoffer', 'Insights', '21', 'Anubhav', 'Sassendran', 'and', 'Shivay', 'Agarwal', 'NEW', 'DELHI', 'INSTITUTE', 'OF', 'MANAGEMENT']\n"
     ]
    }
   ],
   "source": [
    "content=soup.findAll(attrs={'class':'td-post-content'})\n",
    "content=content[0].text.replace('\\n',\" \")\n",
    "print(content)\n",
    "#Punctuation\n",
    "content = content.translate(str.maketrans('', '', string.punctuation)) \n",
    "print(content)\n",
    "text = content.split()\n",
    "print(text)\n"
   ]
  },
  {
   "cell_type": "code",
   "execution_count": 3,
   "id": "b2b15ab0",
   "metadata": {},
   "outputs": [
    {
     "data": {
      "text/plain": [
       "1753"
      ]
     },
     "execution_count": 3,
     "metadata": {},
     "output_type": "execute_result"
    }
   ],
   "source": [
    "len(text)"
   ]
  },
  {
   "cell_type": "code",
   "execution_count": 4,
   "id": "79444534",
   "metadata": {},
   "outputs": [
    {
     "name": "stdout",
     "output_type": "stream",
     "text": [
      "56\n"
     ]
    }
   ],
   "source": [
    "#Positive Score \n",
    "with open(r\"C:\\Users\\Om Bhandwalkar\\Desktop\\pos\\positive-words.txt\") as pos:\n",
    "    poswords = pos.read().split(\"\\n\")  \n",
    "    poswords = poswords[5:]\n",
    "pos_count = \" \".join ([w for w in text if w in poswords])\n",
    "pos_count=pos_count.split(\" \")\n",
    "Positive_score=len(pos_count)\n",
    "print(Positive_score)"
   ]
  },
  {
   "cell_type": "code",
   "execution_count": 5,
   "id": "beac0f90",
   "metadata": {},
   "outputs": [
    {
     "name": "stdout",
     "output_type": "stream",
     "text": [
      "22\n"
     ]
    }
   ],
   "source": [
    "#Negative Score\n",
    "with open(r\"C:\\Users\\Om Bhandwalkar\\Desktop\\pos\\negative-words.txt\",encoding =\"ISO-8859-1\") as neg:\n",
    "    negwords = neg.read().split(\"\\n\")\n",
    "    \n",
    "negwords = negwords[36:]\n",
    "neg_count = \" \".join ([w for w in text if w in negwords])\n",
    "neg_count=neg_count.split(\" \")\n",
    "Negative_score=len(neg_count)\n",
    "print(Negative_score)"
   ]
  },
  {
   "cell_type": "code",
   "execution_count": 6,
   "id": "ccb34e2d",
   "metadata": {},
   "outputs": [
    {
     "data": {
      "text/html": [
       "<div>\n",
       "<style scoped>\n",
       "    .dataframe tbody tr th:only-of-type {\n",
       "        vertical-align: middle;\n",
       "    }\n",
       "\n",
       "    .dataframe tbody tr th {\n",
       "        vertical-align: top;\n",
       "    }\n",
       "\n",
       "    .dataframe thead th {\n",
       "        text-align: right;\n",
       "    }\n",
       "</style>\n",
       "<table border=\"1\" class=\"dataframe\">\n",
       "  <thead>\n",
       "    <tr style=\"text-align: right;\">\n",
       "      <th></th>\n",
       "      <th>url</th>\n",
       "      <th>title</th>\n",
       "      <th>content</th>\n",
       "      <th>filter_content</th>\n",
       "      <th>Positive_Score</th>\n",
       "      <th>Negative_Score</th>\n",
       "      <th>polarity</th>\n",
       "      <th>subjectivity</th>\n",
       "    </tr>\n",
       "  </thead>\n",
       "  <tbody>\n",
       "    <tr>\n",
       "      <th>0</th>\n",
       "      <td>https://insights.blackcoffer.com/will-we-ever-...</td>\n",
       "      <td>Will we ever colonize outer space?</td>\n",
       "      <td>Nature has blessed humanity with earth a roun...</td>\n",
       "      <td>Nature has blessed humanity with earth a round...</td>\n",
       "      <td>56</td>\n",
       "      <td>22</td>\n",
       "      <td>0.124323</td>\n",
       "      <td>0.49999</td>\n",
       "    </tr>\n",
       "  </tbody>\n",
       "</table>\n",
       "</div>"
      ],
      "text/plain": [
       "                                                 url  \\\n",
       "0  https://insights.blackcoffer.com/will-we-ever-...   \n",
       "\n",
       "                                title  \\\n",
       "0  Will we ever colonize outer space?   \n",
       "\n",
       "                                             content  \\\n",
       "0   Nature has blessed humanity with earth a roun...   \n",
       "\n",
       "                                      filter_content  Positive_Score  \\\n",
       "0  Nature has blessed humanity with earth a round...              56   \n",
       "\n",
       "   Negative_Score  polarity  subjectivity  \n",
       "0              22  0.124323       0.49999  "
      ]
     },
     "execution_count": 6,
     "metadata": {},
     "output_type": "execute_result"
    }
   ],
   "source": [
    "filter_content = ' '.join(text)\n",
    "data=[[url,title,content,filter_content,Positive_score,Negative_score]]\n",
    "data=pd.DataFrame(data,columns=[\"url\",\"title\",\"content\",\"filter_content\",\"Positive_Score\",\"Negative_Score\"])\n",
    "from textblob import TextBlob\n",
    "# Get The Subjectivity\n",
    "def sentiment_analysis(data):\n",
    "    sentiment = TextBlob(data[\"content\"]).sentiment\n",
    "    return pd.Series([sentiment.polarity,sentiment.subjectivity ])\n",
    "\n",
    "# Adding Subjectivity & Polarity\n",
    "data[[\"polarity\", \"subjectivity\"]] = data.apply(sentiment_analysis, axis=1)\n",
    "\n",
    "data"
   ]
  },
  {
   "cell_type": "code",
   "execution_count": 7,
   "id": "7d698f95",
   "metadata": {},
   "outputs": [
    {
     "name": "stdout",
     "output_type": "stream",
     "text": [
      "Word average = 8328.0\n",
      "FOG INDEX =  703.66\n",
      "Average no of words per sentence\n",
      "1753.0\n",
      "Complex Words 2948\n"
     ]
    }
   ],
   "source": [
    "#AVG SENTENCE LENGTH\n",
    "AVG_SENTENCE_LENGTH = len(content.replace(' ',''))/len(re.split(r'[?!.]', content))\n",
    "print('Word average =', AVG_SENTENCE_LENGTH)\n",
    "import textstat\n",
    "#Fog index \n",
    "FOG_INDEX=(textstat.gunning_fog(content))\n",
    "print(\"FOG INDEX = \",FOG_INDEX)\n",
    "#Average No of Words Per Sentence \n",
    "AVG_NUMBER_OF_WORDS_PER_SENTENCE = [len(l.split()) for l in re.split(r'[?!.]', content) if l.strip()]\n",
    "print(\"Average no of words per sentence\")\n",
    "AVG_NUMBER_OF_WORDS_PER_SENTENCE=print(sum(AVG_NUMBER_OF_WORDS_PER_SENTENCE)/len(AVG_NUMBER_OF_WORDS_PER_SENTENCE))\n",
    "#Complex words\n",
    "def syllable_count(word):\n",
    "    count = 0\n",
    "    vowels = \"AEIOUYaeiouy\"\n",
    "    if word[0] in vowels:\n",
    "        count += 1\n",
    "    for index in range(1, len(word)): \n",
    "        if word[index] in vowels and word[index - 1] not in vowels:\n",
    "            count += 1\n",
    "            if word.endswith(\"es\"or \"ed\"):\n",
    "                count -= 1\n",
    "    if count == 0:\n",
    "        count += 1\n",
    "    return count\n",
    "\n",
    "\n",
    "\n",
    "COMPLEX_WORDS=syllable_count(content)\n",
    "print(\"Complex Words\",COMPLEX_WORDS)\n"
   ]
  },
  {
   "cell_type": "code",
   "execution_count": 8,
   "id": "21c25fae",
   "metadata": {},
   "outputs": [
    {
     "name": "stdout",
     "output_type": "stream",
     "text": [
      "Word Count 10079\n",
      "Percentage of Complex Words 29.248933425935114\n",
      "Average Word per Length 4.750713063320023\n",
      "The AVG number of syllables in the word is: \n",
      "1.8961779806046777\n"
     ]
    }
   ],
   "source": [
    "#Word Count\n",
    "Word_Count=len(content)\n",
    "print(\"Word Count\",Word_Count)\n",
    "#Percentage Complex Words\n",
    "pcw=(COMPLEX_WORDS/Word_Count)*100\n",
    "print(\"Percentage of Complex Words\",pcw)\n",
    "#Average Word Length\n",
    "Average_Word_Length=len(content.replace(' ',''))/len(content.split())\n",
    "print(\"Average Word per Length\",Average_Word_Length)\n",
    "#Syllable Count Per Word\n",
    "word=content.replace(' ','')\n",
    "syllable_count=0\n",
    "for w in word:\n",
    "      if(w=='a' or w=='e' or w=='i' or w=='o' or w=='y' or w=='u' or w=='A' or w=='E' or w=='I' or w=='O' or w=='U' or w=='Y'):\n",
    "            syllable_count=syllable_count+1\n",
    "print(\"The AVG number of syllables in the word is: \")\n",
    "print(syllable_count/len(content.split()))"
   ]
  },
  {
   "cell_type": "code",
   "execution_count": 1,
   "id": "1ba1ac81",
   "metadata": {},
   "outputs": [
    {
     "name": "stdout",
     "output_type": "stream",
     "text": [
      "56\n",
      "22\n",
      "Word average = 8328.0\n",
      "FOG INDEX =  703.66\n",
      "Average no of words per sentence\n",
      "1753.0\n",
      "Complex Words 2948\n",
      "Word Count 10079\n",
      "Percentage of Complex Words 29.248933425935114\n",
      "Average Word per Length 4.750713063320023\n",
      "The AVG number of syllables in the word is: \n",
      "1.8961779806046777\n"
     ]
    },
    {
     "data": {
      "text/html": [
       "<div>\n",
       "<style scoped>\n",
       "    .dataframe tbody tr th:only-of-type {\n",
       "        vertical-align: middle;\n",
       "    }\n",
       "\n",
       "    .dataframe tbody tr th {\n",
       "        vertical-align: top;\n",
       "    }\n",
       "\n",
       "    .dataframe thead th {\n",
       "        text-align: right;\n",
       "    }\n",
       "</style>\n",
       "<table border=\"1\" class=\"dataframe\">\n",
       "  <thead>\n",
       "    <tr style=\"text-align: right;\">\n",
       "      <th></th>\n",
       "      <th>url</th>\n",
       "      <th>title</th>\n",
       "      <th>content</th>\n",
       "      <th>filter_content</th>\n",
       "      <th>Positive_Score</th>\n",
       "      <th>Negative_Score</th>\n",
       "      <th>Avg_Sentence_Length</th>\n",
       "      <th>Percentage_Complex_Word</th>\n",
       "      <th>Fog_Index</th>\n",
       "      <th>AVG_NUMBER_OF_WORDS_PER_SENTENCE</th>\n",
       "      <th>COMPLEX_WORDS</th>\n",
       "      <th>Word_Count</th>\n",
       "      <th>syllable</th>\n",
       "      <th>Average_Word_Length</th>\n",
       "      <th>polarity</th>\n",
       "      <th>subjectivity</th>\n",
       "    </tr>\n",
       "  </thead>\n",
       "  <tbody>\n",
       "    <tr>\n",
       "      <th>0</th>\n",
       "      <td>https://insights.blackcoffer.com/will-we-ever-...</td>\n",
       "      <td>Will we ever colonize outer space?</td>\n",
       "      <td>Nature has blessed humanity with earth a roun...</td>\n",
       "      <td>Nature has blessed humanity with earth a round...</td>\n",
       "      <td>56</td>\n",
       "      <td>22</td>\n",
       "      <td>8328.0</td>\n",
       "      <td>29.248933</td>\n",
       "      <td>703.66</td>\n",
       "      <td>1753.0</td>\n",
       "      <td>2948</td>\n",
       "      <td>10079</td>\n",
       "      <td>1.896178</td>\n",
       "      <td>4.750713</td>\n",
       "      <td>0.124323</td>\n",
       "      <td>0.49999</td>\n",
       "    </tr>\n",
       "  </tbody>\n",
       "</table>\n",
       "</div>"
      ],
      "text/plain": [
       "                                                 url  \\\n",
       "0  https://insights.blackcoffer.com/will-we-ever-...   \n",
       "\n",
       "                                title  \\\n",
       "0  Will we ever colonize outer space?   \n",
       "\n",
       "                                             content  \\\n",
       "0   Nature has blessed humanity with earth a roun...   \n",
       "\n",
       "                                      filter_content  Positive_Score  \\\n",
       "0  Nature has blessed humanity with earth a round...              56   \n",
       "\n",
       "   Negative_Score  Avg_Sentence_Length  Percentage_Complex_Word  Fog_Index  \\\n",
       "0              22               8328.0                29.248933     703.66   \n",
       "\n",
       "    AVG_NUMBER_OF_WORDS_PER_SENTENCE  COMPLEX_WORDS  Word_Count  syllable  \\\n",
       "0                             1753.0           2948       10079  1.896178   \n",
       "\n",
       "   Average_Word_Length  polarity  subjectivity  \n",
       "0             4.750713  0.124323       0.49999  "
      ]
     },
     "execution_count": 1,
     "metadata": {},
     "output_type": "execute_result"
    }
   ],
   "source": [
    "import requests\n",
    "import pandas as pd \n",
    "from bs4 import BeautifulSoup\n",
    "import string\n",
    "import spacy\n",
    "import re\n",
    "url = \"\"\"https://insights.blackcoffer.com/will-we-ever-colonize-outer-space/\"\"\"\n",
    "\n",
    "headers = {\"User-Agent\": \"Mozilla/5.0 (X11; Linux x86_64; rv:60.0) Gecko/20100101 Firefox/60.0\"}\n",
    "page = requests.get(url, headers=headers)\n",
    "soup = BeautifulSoup(page.content, 'html.parser')\n",
    "soup=BeautifulSoup(page.content, 'html.parser')\n",
    "title=soup.find('h1',class_=\"entry-title\")\n",
    "title=title.text.replace('\\n',\" \")\n",
    "# title\n",
    "\n",
    "content=soup.findAll(attrs={'class':'td-post-content'})\n",
    "content=content[0].text.replace('\\n',\" \")\n",
    "# print(content)\n",
    "#Punctuation\n",
    "content = content.translate(str.maketrans('', '', string.punctuation)) \n",
    "# print(content)\n",
    "text = content.split()\n",
    "# print(text)\n",
    "len(text)\n",
    "#Positive Score \n",
    "with open(r\"C:\\Users\\Om Bhandwalkar\\Desktop\\pos\\positive-words.txt\") as pos:\n",
    "    poswords = pos.read().split(\"\\n\")  \n",
    "    poswords = poswords[5:]\n",
    "pos_count = \" \".join ([w for w in text if w in poswords])\n",
    "pos_count=pos_count.split(\" \")\n",
    "Positive_score=len(pos_count)\n",
    "print(Positive_score)\n",
    "\n",
    "#Negative Score\n",
    "with open(r\"C:\\Users\\Om Bhandwalkar\\Desktop\\pos\\negative-words.txt\",encoding =\"ISO-8859-1\") as neg:\n",
    "    negwords = neg.read().split(\"\\n\")\n",
    "    \n",
    "negwords = negwords[36:]\n",
    "neg_count = \" \".join ([w for w in text if w in negwords])\n",
    "neg_count=neg_count.split(\" \")\n",
    "Negative_score=len(neg_count)\n",
    "print(Negative_score)\n",
    "\n",
    "\n",
    "filter_content = ' '.join(text)\n",
    "data=[[url,title,content,filter_content,Positive_score,Negative_score]]\n",
    "data=pd.DataFrame(data,columns=[\"url\",\"title\",\"content\",\"filter_content\",\"Positive_Score\",\"Negative_Score\"])\n",
    "from textblob import TextBlob\n",
    "# Get The Subjectivity\n",
    "def sentiment_analysis(data):\n",
    "    sentiment = TextBlob(data[\"content\"]).sentiment\n",
    "    return pd.Series([sentiment.polarity,sentiment.subjectivity ])\n",
    "data[[\"polarity\", \"subjectivity\"]] = data.apply(sentiment_analysis, axis=1)\n",
    "data\n",
    "#AVG SENTENCE LENGTH\n",
    "AVG_SENTENCE_LENGTH = len(content.replace(' ',''))/len(re.split(r'[?!.]', content))\n",
    "print('Word average =', AVG_SENTENCE_LENGTH)\n",
    "import textstat\n",
    "#Fog index \n",
    "FOG_INDEX=(textstat.gunning_fog(content))\n",
    "print(\"FOG INDEX = \",FOG_INDEX)\n",
    "#Average No of Words Per Sentence \n",
    "AVG_NUMBER_OF_WORDS_PER_SENTENCE = [len(l.split()) for l in re.split(r'[?!.]', content) if l.strip()]\n",
    "print(\"Average no of words per sentence\")\n",
    "AVG_NUMBER_OF_WORDS_PER_SENTENCE=(sum(AVG_NUMBER_OF_WORDS_PER_SENTENCE)/len(AVG_NUMBER_OF_WORDS_PER_SENTENCE))\n",
    "print(AVG_NUMBER_OF_WORDS_PER_SENTENCE)\n",
    "#Complex words\n",
    "def syllable_count(word):\n",
    "    count = 0\n",
    "    vowels = \"AEIOUYaeiouy\"\n",
    "    if word[0] in vowels:\n",
    "        count += 1\n",
    "    for index in range(1, len(word)): \n",
    "        if word[index] in vowels and word[index - 1] not in vowels:\n",
    "            count += 1\n",
    "            if word.endswith(\"es\"or \"ed\"):\n",
    "                count -= 1\n",
    "    if count == 0:\n",
    "        count += 1\n",
    "    return count\n",
    "\n",
    "\n",
    "\n",
    "COMPLEX_WORDS=syllable_count(content)\n",
    "print(\"Complex Words\",COMPLEX_WORDS)\n",
    "#Word Count\n",
    "Word_Count=len(content)\n",
    "print(\"Word Count\",Word_Count)\n",
    "#Percentage Complex Words\n",
    "pcw=(COMPLEX_WORDS/Word_Count)*100\n",
    "print(\"Percentage of Complex Words\",pcw)\n",
    "#Average Word Length\n",
    "Average_Word_Length=len(content.replace(' ',''))/len(content.split())\n",
    "print(\"Average Word per Length\",Average_Word_Length)\n",
    "#Syllable Count Per Word\n",
    "word=content.replace(' ','')\n",
    "syllable_count=0\n",
    "for w in word:\n",
    "      if(w=='a' or w=='e' or w=='i' or w=='o' or w=='y' or w=='u' or w=='A' or w=='E' or w=='I' or w=='O' or w=='U' or w=='Y'):\n",
    "            syllable_count=syllable_count+1\n",
    "print(\"The AVG number of syllables in the word is: \")\n",
    "syllable = (syllable_count/len(content.split()))\n",
    "print(syllable)\n",
    "\n",
    "data = [[url,title,content,filter_content,Positive_score,Negative_score,AVG_SENTENCE_LENGTH,pcw,FOG_INDEX,\n",
    "         AVG_NUMBER_OF_WORDS_PER_SENTENCE,COMPLEX_WORDS,Word_Count,syllable,Average_Word_Length]]\n",
    "data=pd.DataFrame(data,columns=[\"url\",\"title\",\"content\",\"filter_content\",\"Positive_Score\",\"Negative_Score\",\"Avg_Sentence_Length\"\n",
    "                               ,\"Percentage_Complex_Word\",\"Fog_Index\",\" AVG_NUMBER_OF_WORDS_PER_SENTENCE\",\"COMPLEX_WORDS\",\n",
    "                               \"Word_Count\",\"syllable\",\"Average_Word_Length\"])\n",
    "from textblob import TextBlob\n",
    "# Get The Subjectivity\n",
    "def sentiment_analysis(data):\n",
    "    sentiment = TextBlob(data[\"content\"]).sentiment\n",
    "    return pd.Series([sentiment.polarity,sentiment.subjectivity ])\n",
    "data[[\"polarity\", \"subjectivity\"]] = data.apply(sentiment_analysis, axis=1)\n",
    "data"
   ]
  },
  {
   "cell_type": "code",
   "execution_count": 2,
   "id": "477d932b",
   "metadata": {},
   "outputs": [],
   "source": [
    "data.to_csv(r'C:\\Users\\Om Bhandwalkar\\Desktop\\BlackCoffer Assignment\\Output\\url_73.csv')"
   ]
  },
  {
   "cell_type": "code",
   "execution_count": null,
   "id": "79e40131",
   "metadata": {},
   "outputs": [],
   "source": []
  }
 ],
 "metadata": {
  "kernelspec": {
   "display_name": "Python 3 (ipykernel)",
   "language": "python",
   "name": "python3"
  },
  "language_info": {
   "codemirror_mode": {
    "name": "ipython",
    "version": 3
   },
   "file_extension": ".py",
   "mimetype": "text/x-python",
   "name": "python",
   "nbconvert_exporter": "python",
   "pygments_lexer": "ipython3",
   "version": "3.9.12"
  }
 },
 "nbformat": 4,
 "nbformat_minor": 5
}
