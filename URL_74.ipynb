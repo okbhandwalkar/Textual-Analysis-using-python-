{
 "cells": [
  {
   "cell_type": "code",
   "execution_count": 1,
   "id": "5f117fd5",
   "metadata": {},
   "outputs": [
    {
     "data": {
      "text/plain": [
       "'What is the chance Homo sapiens will survive for the next 500 years?'"
      ]
     },
     "execution_count": 1,
     "metadata": {},
     "output_type": "execute_result"
    }
   ],
   "source": [
    "import requests\n",
    "import pandas as pd \n",
    "from bs4 import BeautifulSoup\n",
    "import string\n",
    "import spacy\n",
    "import re\n",
    "url = \"\"\"https://insights.blackcoffer.com/what-is-the-chance-homo-sapiens-will-survive-for-the-next-500-years/\"\"\"\n",
    "headers = {\"User-Agent\": \"Mozilla/5.0 (X11; Linux x86_64; rv:60.0) Gecko/20100101 Firefox/60.0\"}\n",
    "page = requests.get(url, headers=headers)\n",
    "soup = BeautifulSoup(page.content, 'html.parser')\n",
    "soup=BeautifulSoup(page.content, 'html.parser')\n",
    "title=soup.find('h1',class_=\"entry-title\")\n",
    "title=title.text.replace('\\n',\" \")\n",
    "title\n"
   ]
  },
  {
   "cell_type": "code",
   "execution_count": 2,
   "id": "4da45432",
   "metadata": {},
   "outputs": [
    {
     "name": "stdout",
     "output_type": "stream",
     "text": [
      " We’ve really done it this year. Like an insatiable glutton, the law of averages has come home to roost. We should’ve taken the hint when on the 1st of January, 66 people lost their lives in the Jakarta floods. What followed was like the highlights reel of a disaster movie franchise – a volcanic eruption in The Philippines, irrepressible bushfires in Australia, earthquakes in Russia, Iran, Turkey, India, and China. And speaking of China. 2020 has brought home the fragile mortality of the human race into sharp focus. As global Covid-19 deaths stoutly push past the grim 1 million marks, we have no choice but to question our place in the universe – are we the all-conquering masters of our domain, or mere tourists in a ruthlessly apathetic ecosystem? Is the human race on the ubiquitous three-part literary arc that defines every story, every life, every civilization – ascent, apex, and descent? Maybe when Michael Jackson unveiled his moonwalk in 1983, or when Barack Obama stepped into the White House as President of the United States in 2008, or indeed when MS Dhoni lifted the Cricket World Cup in 2011, we peaked, as a species, and everything since then has been a steady unraveling. 500 years is a long time. For context, the world population in 1500 AD was a mere 461 million. The 16-fold explosion since then is unprecedented in history, but we might just be at the tip of an iceberg. Though fertility rates are dropping and more and more people are foregoing the chance to have babies, we might just have crossed the threshold – the population projections for the year 2050 is 9.8 billion, and for 2100 is a whopping 11.2 billion1. Somewhere out there, Malthus is cackling in his grave. The year 2500 suddenly seems a long way off, and this conversation seems ever-more pertinent today. The Bulletin of Atomic Scientists is not optimistic – the famed Doomsday Clock they maintain is the closest to ‘midnight’ (our proximity to global catastrophe), since its inception in 1947. Global warming? Check. The threat of nuclear war? Check. Ongoing pandemic? Check, check, check. And yet, hope floats, for three reasons. Mankind may just have its back to the wall right now, but there are three shoots of potential that might just help us make it to 2500 AD – the advent of a basket of disruptive technologies (artificial intelligence, bio-enhancement, genetic engineering), the private sector focus on space exploration and terraforming, and good old fashioned human resilience. While the first two factors will no doubt be critical to human survival, it is the third one that we must pin our hopes on – our long-demonstrated history of surviving whatever nature, the universe, or our own self-destructive tendency, throws our way. The Next Superman? In the 13th century, in the Italian town of Pisa, an enterprising tinkerer developed the first eyeglasses, for a local friar with weakening eyesight2. All of a sudden, there existed an external device that could amplify our senses, a tool that gave us an advantage in survival. Today, LASIK surgeries obviate the need for eyeglasses entirely. Hearing aids give the gift of auditory perception back to those who had gotten used to a world of muffled voices and unheard sounds. The iPhone routinely comes with an augmented reality tool that allows us to measure the length of objects in front of us. But the real science starts where the imagination ends – augmented reality glasses, smart wearables, and virtual reality tools will be ubiquitous in the next few decades. But what after that? Science has the answer, and it’s both thrilling and scary. Artificial intelligence has become the stuff of fable, the filler for all questions left unanswered. But AI, combined with bio-enhancement and genetic engineering, might just lead to the evolution of what some are calling Homo nouveau3. Homo nouveau will be smarter, faster, more agile, and better equipped to adapt to what promises to be a world that is VUCA beyond our imaginations. What might such a human being look like? They might have a small chip embedded in their brain that utilizes artificial intelligence for enhanced sensory perception. What does that mean? It means that they would be able to see better, focuses their attention for longer, hears what they want to hear, and communicate the appropriate reaction to the rest of the body. Through a chemical in the blood, this AI chip would be able to demand the appropriate response from the body. Bio-augmentation of limbs and organs, internal and external, would mean that what a person can or cannot do is no longer determined at birth, but can simply be bought. All of a sudden, the average Joe can run faster than Usain Bolt, swim better than Michael Phelps, and…fly? Maybe. Genetic engineering will be the missing link. Already there are feverish conversations about a dystopian future featuring designer babies and a digital divide that simply cannot be overcome because it is inbuilt into one’s DNA. The breakthrough with CRISPR-Cas9 might just be the key to unlock the mysteries of DNA manipulation. So what if there’s no food left? Our body AI will adjust our appetite accordingly. No water? Absorb humidity from the air through specialized pores in the skin. The human being in 2500 AD may not be how we recognize one today. That may be our only shot. Galactic Dominance SpaceX, led by its mercurial leader Elon Musk, has been the leader here. The SpaceX Mars Programme is based on a very simple premise – as the earth’s closest planet in terms of distance and terrestrial conditions, Mars would be our best bet for colonization. Musk has invested billions of dollars in the Mars Space Programme and remains a fervent believer in the concept. And among tech visionaries, Musk is not alone. Jeff Bezos, the richest man in the world, owns Blue Origin, which simply aims to make spaceflight cheaper through incremental technological growth. Bezos, who took an online retailer of books and turned it into an ever-expanding behemoth, is not a man who thinks small. With more and more business leaders finding spaceflight and planetary colonization a tantalizing prospect, there will inevitably be a concerted push to developing an actual colony on another planet. And when the pull-factor to this development starts hitting diminishing returns, there will be the inevitable push factor as global warming and the possible increase in the eruption of pandemics begin to take their toll. It might just become a more feasible option for people to find an alternate home, if not on Mars, then on one of Saturn’s moons. A human colony on Mars sounds like a concept straight out of science fiction, but so did a permanent station in Antarctica until a few decades ago. Mount Everest seemed like an unapproachable summit until someone went ahead and planted a flag at the peak. Today, hundreds of people every year attempt the climb. As spaceflight becomes more reasonable, as the urge to explore supersedes the inertia of investment, we become closer to our best chance of survival – leaving planet earth behind and finding another home, perhaps one more forgiving of our follies. The Human Spirit The introduction to this article includes an illustrative list of disasters and misfortunes that have struck the global community this year. And yet, we survive. Businesses surge ahead, people adapt to a world of masks and social distancing, the world goes on. Earthquakes, tsunamis, pandemics, we’ve seen them all before and survived, and the human race, in its intrepid exploration of the world, pushes onward and upward. Technological visionaries envision a future that the rest of us cannot see, and then invest money in their vision. Gradually, what seemed unthinkable suddenly becomes real – the moon landing is the best possible example of that. Google launched Google Glass as the first augmented reality wearable technology, and suddenly we could foresee a future with smart eyewear. While the product didn’t quite catch on, that doesn’t mean other companies aren’t trying. Bio-augmentation is already a fast-developing industry, while CRISPR-Cas9, the “genetic scissors” is being held back only by regulatory bottlenecks. How long before the prospect of fiddling with the gene code becomes not a luxury but a necessity? The human spirit, the tendency to survive and thrive at all costs, will eventually win. The human race will survive to 2500, of that there is no doubt. The real question is, will the person who exists in 2500, with bionic chips and a bio-enhanced body structure and a modified genetic code, be called a Homo sapien? Or is Homo nouveau the way forward? Blackcoffer Insights 21: Ayush Kumar, XLRI Jamshedpur  \n",
      " We’ve really done it this year Like an insatiable glutton the law of averages has come home to roost We should’ve taken the hint when on the 1st of January 66 people lost their lives in the Jakarta floods What followed was like the highlights reel of a disaster movie franchise – a volcanic eruption in The Philippines irrepressible bushfires in Australia earthquakes in Russia Iran Turkey India and China And speaking of China 2020 has brought home the fragile mortality of the human race into sharp focus As global Covid19 deaths stoutly push past the grim 1 million marks we have no choice but to question our place in the universe – are we the allconquering masters of our domain or mere tourists in a ruthlessly apathetic ecosystem Is the human race on the ubiquitous threepart literary arc that defines every story every life every civilization – ascent apex and descent Maybe when Michael Jackson unveiled his moonwalk in 1983 or when Barack Obama stepped into the White House as President of the United States in 2008 or indeed when MS Dhoni lifted the Cricket World Cup in 2011 we peaked as a species and everything since then has been a steady unraveling 500 years is a long time For context the world population in 1500 AD was a mere 461 million The 16fold explosion since then is unprecedented in history but we might just be at the tip of an iceberg Though fertility rates are dropping and more and more people are foregoing the chance to have babies we might just have crossed the threshold – the population projections for the year 2050 is 98 billion and for 2100 is a whopping 112 billion1 Somewhere out there Malthus is cackling in his grave The year 2500 suddenly seems a long way off and this conversation seems evermore pertinent today The Bulletin of Atomic Scientists is not optimistic – the famed Doomsday Clock they maintain is the closest to ‘midnight’ our proximity to global catastrophe since its inception in 1947 Global warming Check The threat of nuclear war Check Ongoing pandemic Check check check And yet hope floats for three reasons Mankind may just have its back to the wall right now but there are three shoots of potential that might just help us make it to 2500 AD – the advent of a basket of disruptive technologies artificial intelligence bioenhancement genetic engineering the private sector focus on space exploration and terraforming and good old fashioned human resilience While the first two factors will no doubt be critical to human survival it is the third one that we must pin our hopes on – our longdemonstrated history of surviving whatever nature the universe or our own selfdestructive tendency throws our way The Next Superman In the 13th century in the Italian town of Pisa an enterprising tinkerer developed the first eyeglasses for a local friar with weakening eyesight2 All of a sudden there existed an external device that could amplify our senses a tool that gave us an advantage in survival Today LASIK surgeries obviate the need for eyeglasses entirely Hearing aids give the gift of auditory perception back to those who had gotten used to a world of muffled voices and unheard sounds The iPhone routinely comes with an augmented reality tool that allows us to measure the length of objects in front of us But the real science starts where the imagination ends – augmented reality glasses smart wearables and virtual reality tools will be ubiquitous in the next few decades But what after that Science has the answer and it’s both thrilling and scary Artificial intelligence has become the stuff of fable the filler for all questions left unanswered But AI combined with bioenhancement and genetic engineering might just lead to the evolution of what some are calling Homo nouveau3 Homo nouveau will be smarter faster more agile and better equipped to adapt to what promises to be a world that is VUCA beyond our imaginations What might such a human being look like They might have a small chip embedded in their brain that utilizes artificial intelligence for enhanced sensory perception What does that mean It means that they would be able to see better focuses their attention for longer hears what they want to hear and communicate the appropriate reaction to the rest of the body Through a chemical in the blood this AI chip would be able to demand the appropriate response from the body Bioaugmentation of limbs and organs internal and external would mean that what a person can or cannot do is no longer determined at birth but can simply be bought All of a sudden the average Joe can run faster than Usain Bolt swim better than Michael Phelps and…fly Maybe Genetic engineering will be the missing link Already there are feverish conversations about a dystopian future featuring designer babies and a digital divide that simply cannot be overcome because it is inbuilt into one’s DNA The breakthrough with CRISPRCas9 might just be the key to unlock the mysteries of DNA manipulation So what if there’s no food left Our body AI will adjust our appetite accordingly No water Absorb humidity from the air through specialized pores in the skin The human being in 2500 AD may not be how we recognize one today That may be our only shot Galactic Dominance SpaceX led by its mercurial leader Elon Musk has been the leader here The SpaceX Mars Programme is based on a very simple premise – as the earth’s closest planet in terms of distance and terrestrial conditions Mars would be our best bet for colonization Musk has invested billions of dollars in the Mars Space Programme and remains a fervent believer in the concept And among tech visionaries Musk is not alone Jeff Bezos the richest man in the world owns Blue Origin which simply aims to make spaceflight cheaper through incremental technological growth Bezos who took an online retailer of books and turned it into an everexpanding behemoth is not a man who thinks small With more and more business leaders finding spaceflight and planetary colonization a tantalizing prospect there will inevitably be a concerted push to developing an actual colony on another planet And when the pullfactor to this development starts hitting diminishing returns there will be the inevitable push factor as global warming and the possible increase in the eruption of pandemics begin to take their toll It might just become a more feasible option for people to find an alternate home if not on Mars then on one of Saturn’s moons A human colony on Mars sounds like a concept straight out of science fiction but so did a permanent station in Antarctica until a few decades ago Mount Everest seemed like an unapproachable summit until someone went ahead and planted a flag at the peak Today hundreds of people every year attempt the climb As spaceflight becomes more reasonable as the urge to explore supersedes the inertia of investment we become closer to our best chance of survival – leaving planet earth behind and finding another home perhaps one more forgiving of our follies The Human Spirit The introduction to this article includes an illustrative list of disasters and misfortunes that have struck the global community this year And yet we survive Businesses surge ahead people adapt to a world of masks and social distancing the world goes on Earthquakes tsunamis pandemics we’ve seen them all before and survived and the human race in its intrepid exploration of the world pushes onward and upward Technological visionaries envision a future that the rest of us cannot see and then invest money in their vision Gradually what seemed unthinkable suddenly becomes real – the moon landing is the best possible example of that Google launched Google Glass as the first augmented reality wearable technology and suddenly we could foresee a future with smart eyewear While the product didn’t quite catch on that doesn’t mean other companies aren’t trying Bioaugmentation is already a fastdeveloping industry while CRISPRCas9 the “genetic scissors” is being held back only by regulatory bottlenecks How long before the prospect of fiddling with the gene code becomes not a luxury but a necessity The human spirit the tendency to survive and thrive at all costs will eventually win The human race will survive to 2500 of that there is no doubt The real question is will the person who exists in 2500 with bionic chips and a bioenhanced body structure and a modified genetic code be called a Homo sapien Or is Homo nouveau the way forward Blackcoffer Insights 21 Ayush Kumar XLRI Jamshedpur  \n",
      "['We’ve', 'really', 'done', 'it', 'this', 'year', 'Like', 'an', 'insatiable', 'glutton', 'the', 'law', 'of', 'averages', 'has', 'come', 'home', 'to', 'roost', 'We', 'should’ve', 'taken', 'the', 'hint', 'when', 'on', 'the', '1st', 'of', 'January', '66', 'people', 'lost', 'their', 'lives', 'in', 'the', 'Jakarta', 'floods', 'What', 'followed', 'was', 'like', 'the', 'highlights', 'reel', 'of', 'a', 'disaster', 'movie', 'franchise', '–', 'a', 'volcanic', 'eruption', 'in', 'The', 'Philippines', 'irrepressible', 'bushfires', 'in', 'Australia', 'earthquakes', 'in', 'Russia', 'Iran', 'Turkey', 'India', 'and', 'China', 'And', 'speaking', 'of', 'China', '2020', 'has', 'brought', 'home', 'the', 'fragile', 'mortality', 'of', 'the', 'human', 'race', 'into', 'sharp', 'focus', 'As', 'global', 'Covid19', 'deaths', 'stoutly', 'push', 'past', 'the', 'grim', '1', 'million', 'marks', 'we', 'have', 'no', 'choice', 'but', 'to', 'question', 'our', 'place', 'in', 'the', 'universe', '–', 'are', 'we', 'the', 'allconquering', 'masters', 'of', 'our', 'domain', 'or', 'mere', 'tourists', 'in', 'a', 'ruthlessly', 'apathetic', 'ecosystem', 'Is', 'the', 'human', 'race', 'on', 'the', 'ubiquitous', 'threepart', 'literary', 'arc', 'that', 'defines', 'every', 'story', 'every', 'life', 'every', 'civilization', '–', 'ascent', 'apex', 'and', 'descent', 'Maybe', 'when', 'Michael', 'Jackson', 'unveiled', 'his', 'moonwalk', 'in', '1983', 'or', 'when', 'Barack', 'Obama', 'stepped', 'into', 'the', 'White', 'House', 'as', 'President', 'of', 'the', 'United', 'States', 'in', '2008', 'or', 'indeed', 'when', 'MS', 'Dhoni', 'lifted', 'the', 'Cricket', 'World', 'Cup', 'in', '2011', 'we', 'peaked', 'as', 'a', 'species', 'and', 'everything', 'since', 'then', 'has', 'been', 'a', 'steady', 'unraveling', '500', 'years', 'is', 'a', 'long', 'time', 'For', 'context', 'the', 'world', 'population', 'in', '1500', 'AD', 'was', 'a', 'mere', '461', 'million', 'The', '16fold', 'explosion', 'since', 'then', 'is', 'unprecedented', 'in', 'history', 'but', 'we', 'might', 'just', 'be', 'at', 'the', 'tip', 'of', 'an', 'iceberg', 'Though', 'fertility', 'rates', 'are', 'dropping', 'and', 'more', 'and', 'more', 'people', 'are', 'foregoing', 'the', 'chance', 'to', 'have', 'babies', 'we', 'might', 'just', 'have', 'crossed', 'the', 'threshold', '–', 'the', 'population', 'projections', 'for', 'the', 'year', '2050', 'is', '98', 'billion', 'and', 'for', '2100', 'is', 'a', 'whopping', '112', 'billion1', 'Somewhere', 'out', 'there', 'Malthus', 'is', 'cackling', 'in', 'his', 'grave', 'The', 'year', '2500', 'suddenly', 'seems', 'a', 'long', 'way', 'off', 'and', 'this', 'conversation', 'seems', 'evermore', 'pertinent', 'today', 'The', 'Bulletin', 'of', 'Atomic', 'Scientists', 'is', 'not', 'optimistic', '–', 'the', 'famed', 'Doomsday', 'Clock', 'they', 'maintain', 'is', 'the', 'closest', 'to', '‘midnight’', 'our', 'proximity', 'to', 'global', 'catastrophe', 'since', 'its', 'inception', 'in', '1947', 'Global', 'warming', 'Check', 'The', 'threat', 'of', 'nuclear', 'war', 'Check', 'Ongoing', 'pandemic', 'Check', 'check', 'check', 'And', 'yet', 'hope', 'floats', 'for', 'three', 'reasons', 'Mankind', 'may', 'just', 'have', 'its', 'back', 'to', 'the', 'wall', 'right', 'now', 'but', 'there', 'are', 'three', 'shoots', 'of', 'potential', 'that', 'might', 'just', 'help', 'us', 'make', 'it', 'to', '2500', 'AD', '–', 'the', 'advent', 'of', 'a', 'basket', 'of', 'disruptive', 'technologies', 'artificial', 'intelligence', 'bioenhancement', 'genetic', 'engineering', 'the', 'private', 'sector', 'focus', 'on', 'space', 'exploration', 'and', 'terraforming', 'and', 'good', 'old', 'fashioned', 'human', 'resilience', 'While', 'the', 'first', 'two', 'factors', 'will', 'no', 'doubt', 'be', 'critical', 'to', 'human', 'survival', 'it', 'is', 'the', 'third', 'one', 'that', 'we', 'must', 'pin', 'our', 'hopes', 'on', '–', 'our', 'longdemonstrated', 'history', 'of', 'surviving', 'whatever', 'nature', 'the', 'universe', 'or', 'our', 'own', 'selfdestructive', 'tendency', 'throws', 'our', 'way', 'The', 'Next', 'Superman', 'In', 'the', '13th', 'century', 'in', 'the', 'Italian', 'town', 'of', 'Pisa', 'an', 'enterprising', 'tinkerer', 'developed', 'the', 'first', 'eyeglasses', 'for', 'a', 'local', 'friar', 'with', 'weakening', 'eyesight2', 'All', 'of', 'a', 'sudden', 'there', 'existed', 'an', 'external', 'device', 'that', 'could', 'amplify', 'our', 'senses', 'a', 'tool', 'that', 'gave', 'us', 'an', 'advantage', 'in', 'survival', 'Today', 'LASIK', 'surgeries', 'obviate', 'the', 'need', 'for', 'eyeglasses', 'entirely', 'Hearing', 'aids', 'give', 'the', 'gift', 'of', 'auditory', 'perception', 'back', 'to', 'those', 'who', 'had', 'gotten', 'used', 'to', 'a', 'world', 'of', 'muffled', 'voices', 'and', 'unheard', 'sounds', 'The', 'iPhone', 'routinely', 'comes', 'with', 'an', 'augmented', 'reality', 'tool', 'that', 'allows', 'us', 'to', 'measure', 'the', 'length', 'of', 'objects', 'in', 'front', 'of', 'us', 'But', 'the', 'real', 'science', 'starts', 'where', 'the', 'imagination', 'ends', '–', 'augmented', 'reality', 'glasses', 'smart', 'wearables', 'and', 'virtual', 'reality', 'tools', 'will', 'be', 'ubiquitous', 'in', 'the', 'next', 'few', 'decades', 'But', 'what', 'after', 'that', 'Science', 'has', 'the', 'answer', 'and', 'it’s', 'both', 'thrilling', 'and', 'scary', 'Artificial', 'intelligence', 'has', 'become', 'the', 'stuff', 'of', 'fable', 'the', 'filler', 'for', 'all', 'questions', 'left', 'unanswered', 'But', 'AI', 'combined', 'with', 'bioenhancement', 'and', 'genetic', 'engineering', 'might', 'just', 'lead', 'to', 'the', 'evolution', 'of', 'what', 'some', 'are', 'calling', 'Homo', 'nouveau3', 'Homo', 'nouveau', 'will', 'be', 'smarter', 'faster', 'more', 'agile', 'and', 'better', 'equipped', 'to', 'adapt', 'to', 'what', 'promises', 'to', 'be', 'a', 'world', 'that', 'is', 'VUCA', 'beyond', 'our', 'imaginations', 'What', 'might', 'such', 'a', 'human', 'being', 'look', 'like', 'They', 'might', 'have', 'a', 'small', 'chip', 'embedded', 'in', 'their', 'brain', 'that', 'utilizes', 'artificial', 'intelligence', 'for', 'enhanced', 'sensory', 'perception', 'What', 'does', 'that', 'mean', 'It', 'means', 'that', 'they', 'would', 'be', 'able', 'to', 'see', 'better', 'focuses', 'their', 'attention', 'for', 'longer', 'hears', 'what', 'they', 'want', 'to', 'hear', 'and', 'communicate', 'the', 'appropriate', 'reaction', 'to', 'the', 'rest', 'of', 'the', 'body', 'Through', 'a', 'chemical', 'in', 'the', 'blood', 'this', 'AI', 'chip', 'would', 'be', 'able', 'to', 'demand', 'the', 'appropriate', 'response', 'from', 'the', 'body', 'Bioaugmentation', 'of', 'limbs', 'and', 'organs', 'internal', 'and', 'external', 'would', 'mean', 'that', 'what', 'a', 'person', 'can', 'or', 'cannot', 'do', 'is', 'no', 'longer', 'determined', 'at', 'birth', 'but', 'can', 'simply', 'be', 'bought', 'All', 'of', 'a', 'sudden', 'the', 'average', 'Joe', 'can', 'run', 'faster', 'than', 'Usain', 'Bolt', 'swim', 'better', 'than', 'Michael', 'Phelps', 'and…fly', 'Maybe', 'Genetic', 'engineering', 'will', 'be', 'the', 'missing', 'link', 'Already', 'there', 'are', 'feverish', 'conversations', 'about', 'a', 'dystopian', 'future', 'featuring', 'designer', 'babies', 'and', 'a', 'digital', 'divide', 'that', 'simply', 'cannot', 'be', 'overcome', 'because', 'it', 'is', 'inbuilt', 'into', 'one’s', 'DNA', 'The', 'breakthrough', 'with', 'CRISPRCas9', 'might', 'just', 'be', 'the', 'key', 'to', 'unlock', 'the', 'mysteries', 'of', 'DNA', 'manipulation', 'So', 'what', 'if', 'there’s', 'no', 'food', 'left', 'Our', 'body', 'AI', 'will', 'adjust', 'our', 'appetite', 'accordingly', 'No', 'water', 'Absorb', 'humidity', 'from', 'the', 'air', 'through', 'specialized', 'pores', 'in', 'the', 'skin', 'The', 'human', 'being', 'in', '2500', 'AD', 'may', 'not', 'be', 'how', 'we', 'recognize', 'one', 'today', 'That', 'may', 'be', 'our', 'only', 'shot', 'Galactic', 'Dominance', 'SpaceX', 'led', 'by', 'its', 'mercurial', 'leader', 'Elon', 'Musk', 'has', 'been', 'the', 'leader', 'here', 'The', 'SpaceX', 'Mars', 'Programme', 'is', 'based', 'on', 'a', 'very', 'simple', 'premise', '–', 'as', 'the', 'earth’s', 'closest', 'planet', 'in', 'terms', 'of', 'distance', 'and', 'terrestrial', 'conditions', 'Mars', 'would', 'be', 'our', 'best', 'bet', 'for', 'colonization', 'Musk', 'has', 'invested', 'billions', 'of', 'dollars', 'in', 'the', 'Mars', 'Space', 'Programme', 'and', 'remains', 'a', 'fervent', 'believer', 'in', 'the', 'concept', 'And', 'among', 'tech', 'visionaries', 'Musk', 'is', 'not', 'alone', 'Jeff', 'Bezos', 'the', 'richest', 'man', 'in', 'the', 'world', 'owns', 'Blue', 'Origin', 'which', 'simply', 'aims', 'to', 'make', 'spaceflight', 'cheaper', 'through', 'incremental', 'technological', 'growth', 'Bezos', 'who', 'took', 'an', 'online', 'retailer', 'of', 'books', 'and', 'turned', 'it', 'into', 'an', 'everexpanding', 'behemoth', 'is', 'not', 'a', 'man', 'who', 'thinks', 'small', 'With', 'more', 'and', 'more', 'business', 'leaders', 'finding', 'spaceflight', 'and', 'planetary', 'colonization', 'a', 'tantalizing', 'prospect', 'there', 'will', 'inevitably', 'be', 'a', 'concerted', 'push', 'to', 'developing', 'an', 'actual', 'colony', 'on', 'another', 'planet', 'And', 'when', 'the', 'pullfactor', 'to', 'this', 'development', 'starts', 'hitting', 'diminishing', 'returns', 'there', 'will', 'be', 'the', 'inevitable', 'push', 'factor', 'as', 'global', 'warming', 'and', 'the', 'possible', 'increase', 'in', 'the', 'eruption', 'of', 'pandemics', 'begin', 'to', 'take', 'their', 'toll', 'It', 'might', 'just', 'become', 'a', 'more', 'feasible', 'option', 'for', 'people', 'to', 'find', 'an', 'alternate', 'home', 'if', 'not', 'on', 'Mars', 'then', 'on', 'one', 'of', 'Saturn’s', 'moons', 'A', 'human', 'colony', 'on', 'Mars', 'sounds', 'like', 'a', 'concept', 'straight', 'out', 'of', 'science', 'fiction', 'but', 'so', 'did', 'a', 'permanent', 'station', 'in', 'Antarctica', 'until', 'a', 'few', 'decades', 'ago', 'Mount', 'Everest', 'seemed', 'like', 'an', 'unapproachable', 'summit', 'until', 'someone', 'went', 'ahead', 'and', 'planted', 'a', 'flag', 'at', 'the', 'peak', 'Today', 'hundreds', 'of', 'people', 'every', 'year', 'attempt', 'the', 'climb', 'As', 'spaceflight', 'becomes', 'more', 'reasonable', 'as', 'the', 'urge', 'to', 'explore', 'supersedes', 'the', 'inertia', 'of', 'investment', 'we', 'become', 'closer', 'to', 'our', 'best', 'chance', 'of', 'survival', '–', 'leaving', 'planet', 'earth', 'behind', 'and', 'finding', 'another', 'home', 'perhaps', 'one', 'more', 'forgiving', 'of', 'our', 'follies', 'The', 'Human', 'Spirit', 'The', 'introduction', 'to', 'this', 'article', 'includes', 'an', 'illustrative', 'list', 'of', 'disasters', 'and', 'misfortunes', 'that', 'have', 'struck', 'the', 'global', 'community', 'this', 'year', 'And', 'yet', 'we', 'survive', 'Businesses', 'surge', 'ahead', 'people', 'adapt', 'to', 'a', 'world', 'of', 'masks', 'and', 'social', 'distancing', 'the', 'world', 'goes', 'on', 'Earthquakes', 'tsunamis', 'pandemics', 'we’ve', 'seen', 'them', 'all', 'before', 'and', 'survived', 'and', 'the', 'human', 'race', 'in', 'its', 'intrepid', 'exploration', 'of', 'the', 'world', 'pushes', 'onward', 'and', 'upward', 'Technological', 'visionaries', 'envision', 'a', 'future', 'that', 'the', 'rest', 'of', 'us', 'cannot', 'see', 'and', 'then', 'invest', 'money', 'in', 'their', 'vision', 'Gradually', 'what', 'seemed', 'unthinkable', 'suddenly', 'becomes', 'real', '–', 'the', 'moon', 'landing', 'is', 'the', 'best', 'possible', 'example', 'of', 'that', 'Google', 'launched', 'Google', 'Glass', 'as', 'the', 'first', 'augmented', 'reality', 'wearable', 'technology', 'and', 'suddenly', 'we', 'could', 'foresee', 'a', 'future', 'with', 'smart', 'eyewear', 'While', 'the', 'product', 'didn’t', 'quite', 'catch', 'on', 'that', 'doesn’t', 'mean', 'other', 'companies', 'aren’t', 'trying', 'Bioaugmentation', 'is', 'already', 'a', 'fastdeveloping', 'industry', 'while', 'CRISPRCas9', 'the', '“genetic', 'scissors”', 'is', 'being', 'held', 'back', 'only', 'by', 'regulatory', 'bottlenecks', 'How', 'long', 'before', 'the', 'prospect', 'of', 'fiddling', 'with', 'the', 'gene', 'code', 'becomes', 'not', 'a', 'luxury', 'but', 'a', 'necessity', 'The', 'human', 'spirit', 'the', 'tendency', 'to', 'survive', 'and', 'thrive', 'at', 'all', 'costs', 'will', 'eventually', 'win', 'The', 'human', 'race', 'will', 'survive', 'to', '2500', 'of', 'that', 'there', 'is', 'no', 'doubt', 'The', 'real', 'question', 'is', 'will', 'the', 'person', 'who', 'exists', 'in', '2500', 'with', 'bionic', 'chips', 'and', 'a', 'bioenhanced', 'body', 'structure', 'and', 'a', 'modified', 'genetic', 'code', 'be', 'called', 'a', 'Homo', 'sapien', 'Or', 'is', 'Homo', 'nouveau', 'the', 'way', 'forward', 'Blackcoffer', 'Insights', '21', 'Ayush', 'Kumar', 'XLRI', 'Jamshedpur']\n"
     ]
    }
   ],
   "source": [
    "content=soup.findAll(attrs={'class':'td-post-content'})\n",
    "content=content[0].text.replace('\\n',\" \")\n",
    "print(content)\n",
    "#Punctuation\n",
    "content = content.translate(str.maketrans('', '', string.punctuation)) \n",
    "print(content)\n",
    "text = content.split()\n",
    "print(text)\n"
   ]
  },
  {
   "cell_type": "code",
   "execution_count": 3,
   "id": "11c103db",
   "metadata": {},
   "outputs": [
    {
     "data": {
      "text/plain": [
       "1451"
      ]
     },
     "execution_count": 3,
     "metadata": {},
     "output_type": "execute_result"
    }
   ],
   "source": [
    "len(text)"
   ]
  },
  {
   "cell_type": "code",
   "execution_count": 4,
   "id": "d2712aae",
   "metadata": {},
   "outputs": [
    {
     "name": "stdout",
     "output_type": "stream",
     "text": [
      "47\n"
     ]
    }
   ],
   "source": [
    "#Positive Score \n",
    "with open(r\"C:\\Users\\Om Bhandwalkar\\Desktop\\pos\\positive-words.txt\") as pos:\n",
    "    poswords = pos.read().split(\"\\n\")  \n",
    "    poswords = poswords[5:]\n",
    "pos_count = \" \".join ([w for w in text if w in poswords])\n",
    "pos_count=pos_count.split(\" \")\n",
    "Positive_score=len(pos_count)\n",
    "print(Positive_score)"
   ]
  },
  {
   "cell_type": "code",
   "execution_count": 5,
   "id": "5e409061",
   "metadata": {},
   "outputs": [
    {
     "name": "stdout",
     "output_type": "stream",
     "text": [
      "24\n"
     ]
    }
   ],
   "source": [
    "#Negative Score\n",
    "with open(r\"C:\\Users\\Om Bhandwalkar\\Desktop\\pos\\negative-words.txt\",encoding =\"ISO-8859-1\") as neg:\n",
    "    negwords = neg.read().split(\"\\n\")\n",
    "    \n",
    "negwords = negwords[36:]\n",
    "neg_count = \" \".join ([w for w in text if w in negwords])\n",
    "neg_count=neg_count.split(\" \")\n",
    "Negative_score=len(neg_count)\n",
    "print(Negative_score)"
   ]
  },
  {
   "cell_type": "code",
   "execution_count": 6,
   "id": "4ea1cba9",
   "metadata": {},
   "outputs": [
    {
     "data": {
      "text/html": [
       "<div>\n",
       "<style scoped>\n",
       "    .dataframe tbody tr th:only-of-type {\n",
       "        vertical-align: middle;\n",
       "    }\n",
       "\n",
       "    .dataframe tbody tr th {\n",
       "        vertical-align: top;\n",
       "    }\n",
       "\n",
       "    .dataframe thead th {\n",
       "        text-align: right;\n",
       "    }\n",
       "</style>\n",
       "<table border=\"1\" class=\"dataframe\">\n",
       "  <thead>\n",
       "    <tr style=\"text-align: right;\">\n",
       "      <th></th>\n",
       "      <th>url</th>\n",
       "      <th>title</th>\n",
       "      <th>content</th>\n",
       "      <th>filter_content</th>\n",
       "      <th>Positive_Score</th>\n",
       "      <th>Negative_Score</th>\n",
       "      <th>polarity</th>\n",
       "      <th>subjectivity</th>\n",
       "    </tr>\n",
       "  </thead>\n",
       "  <tbody>\n",
       "    <tr>\n",
       "      <th>0</th>\n",
       "      <td>https://insights.blackcoffer.com/what-is-the-c...</td>\n",
       "      <td>What is the chance Homo sapiens will survive f...</td>\n",
       "      <td>We’ve really done it this year Like an insati...</td>\n",
       "      <td>We’ve really done it this year Like an insatia...</td>\n",
       "      <td>47</td>\n",
       "      <td>24</td>\n",
       "      <td>0.064549</td>\n",
       "      <td>0.398343</td>\n",
       "    </tr>\n",
       "  </tbody>\n",
       "</table>\n",
       "</div>"
      ],
      "text/plain": [
       "                                                 url  \\\n",
       "0  https://insights.blackcoffer.com/what-is-the-c...   \n",
       "\n",
       "                                               title  \\\n",
       "0  What is the chance Homo sapiens will survive f...   \n",
       "\n",
       "                                             content  \\\n",
       "0   We’ve really done it this year Like an insati...   \n",
       "\n",
       "                                      filter_content  Positive_Score  \\\n",
       "0  We’ve really done it this year Like an insatia...              47   \n",
       "\n",
       "   Negative_Score  polarity  subjectivity  \n",
       "0              24  0.064549      0.398343  "
      ]
     },
     "execution_count": 6,
     "metadata": {},
     "output_type": "execute_result"
    }
   ],
   "source": [
    "filter_content = ' '.join(text)\n",
    "data=[[url,title,content,filter_content,Positive_score,Negative_score]]\n",
    "data=pd.DataFrame(data,columns=[\"url\",\"title\",\"content\",\"filter_content\",\"Positive_Score\",\"Negative_Score\"])\n",
    "from textblob import TextBlob\n",
    "# Get The Subjectivity\n",
    "def sentiment_analysis(data):\n",
    "    sentiment = TextBlob(data[\"content\"]).sentiment\n",
    "    return pd.Series([sentiment.polarity,sentiment.subjectivity ])\n",
    "\n",
    "# Adding Subjectivity & Polarity\n",
    "data[[\"polarity\", \"subjectivity\"]] = data.apply(sentiment_analysis, axis=1)\n",
    "\n",
    "data"
   ]
  },
  {
   "cell_type": "code",
   "execution_count": 7,
   "id": "d82ad644",
   "metadata": {},
   "outputs": [
    {
     "name": "stdout",
     "output_type": "stream",
     "text": [
      "Word average = 7046.0\n",
      "FOG INDEX =  580.03\n",
      "Average no of words per sentence\n",
      "1451.0\n",
      "Complex Words 2452\n"
     ]
    }
   ],
   "source": [
    "#AVG SENTENCE LENGTH\n",
    "AVG_SENTENCE_LENGTH = len(content.replace(' ',''))/len(re.split(r'[?!.]', content))\n",
    "print('Word average =', AVG_SENTENCE_LENGTH)\n",
    "import textstat\n",
    "#Fog index \n",
    "FOG_INDEX=(textstat.gunning_fog(content))\n",
    "print(\"FOG INDEX = \",FOG_INDEX)\n",
    "#Average No of Words Per Sentence \n",
    "AVG_NUMBER_OF_WORDS_PER_SENTENCE = [len(l.split()) for l in re.split(r'[?!.]', content) if l.strip()]\n",
    "print(\"Average no of words per sentence\")\n",
    "AVG_NUMBER_OF_WORDS_PER_SENTENCE=print(sum(AVG_NUMBER_OF_WORDS_PER_SENTENCE)/len(AVG_NUMBER_OF_WORDS_PER_SENTENCE))\n",
    "#Complex words\n",
    "def syllable_count(word):\n",
    "    count = 0\n",
    "    vowels = \"AEIOUYaeiouy\"\n",
    "    if word[0] in vowels:\n",
    "        count += 1\n",
    "    for index in range(1, len(word)): \n",
    "        if word[index] in vowels and word[index - 1] not in vowels:\n",
    "            count += 1\n",
    "            if word.endswith(\"es\"or \"ed\"):\n",
    "                count -= 1\n",
    "    if count == 0:\n",
    "        count += 1\n",
    "    return count\n",
    "\n",
    "\n",
    "\n",
    "COMPLEX_WORDS=syllable_count(content)\n",
    "print(\"Complex Words\",COMPLEX_WORDS)\n"
   ]
  },
  {
   "cell_type": "code",
   "execution_count": 8,
   "id": "976ebeb4",
   "metadata": {},
   "outputs": [
    {
     "name": "stdout",
     "output_type": "stream",
     "text": [
      "Word Count 8499\n",
      "Percentage of Complex Words 28.85045299446994\n",
      "Average Word per Length 4.855961405926947\n",
      "The AVG number of syllables in the word is: \n",
      "1.9262577532736045\n"
     ]
    }
   ],
   "source": [
    "#Word Count\n",
    "Word_Count=len(content)\n",
    "print(\"Word Count\",Word_Count)\n",
    "#Percentage Complex Words\n",
    "pcw=(COMPLEX_WORDS/Word_Count)*100\n",
    "print(\"Percentage of Complex Words\",pcw)\n",
    "#Average Word Length\n",
    "Average_Word_Length=len(content.replace(' ',''))/len(content.split())\n",
    "print(\"Average Word per Length\",Average_Word_Length)\n",
    "#Syllable Count Per Word\n",
    "word=content.replace(' ','')\n",
    "syllable_count=0\n",
    "for w in word:\n",
    "      if(w=='a' or w=='e' or w=='i' or w=='o' or w=='y' or w=='u' or w=='A' or w=='E' or w=='I' or w=='O' or w=='U' or w=='Y'):\n",
    "            syllable_count=syllable_count+1\n",
    "print(\"The AVG number of syllables in the word is: \")\n",
    "print(syllable_count/len(content.split()))"
   ]
  },
  {
   "cell_type": "code",
   "execution_count": 1,
   "id": "241807a4",
   "metadata": {},
   "outputs": [
    {
     "name": "stdout",
     "output_type": "stream",
     "text": [
      "47\n",
      "24\n",
      "Word average = 7046.0\n",
      "FOG INDEX =  580.03\n",
      "Average no of words per sentence\n",
      "1451.0\n",
      "Complex Words 2452\n",
      "Word Count 8499\n",
      "Percentage of Complex Words 28.85045299446994\n",
      "Average Word per Length 4.855961405926947\n",
      "The AVG number of syllables in the word is: \n",
      "1.9262577532736045\n"
     ]
    },
    {
     "data": {
      "text/html": [
       "<div>\n",
       "<style scoped>\n",
       "    .dataframe tbody tr th:only-of-type {\n",
       "        vertical-align: middle;\n",
       "    }\n",
       "\n",
       "    .dataframe tbody tr th {\n",
       "        vertical-align: top;\n",
       "    }\n",
       "\n",
       "    .dataframe thead th {\n",
       "        text-align: right;\n",
       "    }\n",
       "</style>\n",
       "<table border=\"1\" class=\"dataframe\">\n",
       "  <thead>\n",
       "    <tr style=\"text-align: right;\">\n",
       "      <th></th>\n",
       "      <th>url</th>\n",
       "      <th>title</th>\n",
       "      <th>content</th>\n",
       "      <th>filter_content</th>\n",
       "      <th>Positive_Score</th>\n",
       "      <th>Negative_Score</th>\n",
       "      <th>Avg_Sentence_Length</th>\n",
       "      <th>Percentage_Complex_Word</th>\n",
       "      <th>Fog_Index</th>\n",
       "      <th>AVG_NUMBER_OF_WORDS_PER_SENTENCE</th>\n",
       "      <th>COMPLEX_WORDS</th>\n",
       "      <th>Word_Count</th>\n",
       "      <th>syllable</th>\n",
       "      <th>Average_Word_Length</th>\n",
       "      <th>polarity</th>\n",
       "      <th>subjectivity</th>\n",
       "    </tr>\n",
       "  </thead>\n",
       "  <tbody>\n",
       "    <tr>\n",
       "      <th>0</th>\n",
       "      <td>https://insights.blackcoffer.com/what-is-the-c...</td>\n",
       "      <td>What is the chance Homo sapiens will survive f...</td>\n",
       "      <td>We’ve really done it this year Like an insati...</td>\n",
       "      <td>We’ve really done it this year Like an insatia...</td>\n",
       "      <td>47</td>\n",
       "      <td>24</td>\n",
       "      <td>7046.0</td>\n",
       "      <td>28.850453</td>\n",
       "      <td>580.03</td>\n",
       "      <td>1451.0</td>\n",
       "      <td>2452</td>\n",
       "      <td>8499</td>\n",
       "      <td>1.926258</td>\n",
       "      <td>4.855961</td>\n",
       "      <td>0.064549</td>\n",
       "      <td>0.398343</td>\n",
       "    </tr>\n",
       "  </tbody>\n",
       "</table>\n",
       "</div>"
      ],
      "text/plain": [
       "                                                 url  \\\n",
       "0  https://insights.blackcoffer.com/what-is-the-c...   \n",
       "\n",
       "                                               title  \\\n",
       "0  What is the chance Homo sapiens will survive f...   \n",
       "\n",
       "                                             content  \\\n",
       "0   We’ve really done it this year Like an insati...   \n",
       "\n",
       "                                      filter_content  Positive_Score  \\\n",
       "0  We’ve really done it this year Like an insatia...              47   \n",
       "\n",
       "   Negative_Score  Avg_Sentence_Length  Percentage_Complex_Word  Fog_Index  \\\n",
       "0              24               7046.0                28.850453     580.03   \n",
       "\n",
       "    AVG_NUMBER_OF_WORDS_PER_SENTENCE  COMPLEX_WORDS  Word_Count  syllable  \\\n",
       "0                             1451.0           2452        8499  1.926258   \n",
       "\n",
       "   Average_Word_Length  polarity  subjectivity  \n",
       "0             4.855961  0.064549      0.398343  "
      ]
     },
     "execution_count": 1,
     "metadata": {},
     "output_type": "execute_result"
    }
   ],
   "source": [
    "import requests\n",
    "import pandas as pd \n",
    "from bs4 import BeautifulSoup\n",
    "import string\n",
    "import spacy\n",
    "import re\n",
    "url = \"\"\"https://insights.blackcoffer.com/what-is-the-chance-homo-sapiens-will-survive-for-the-next-500-years/\"\"\"\n",
    "\n",
    "headers = {\"User-Agent\": \"Mozilla/5.0 (X11; Linux x86_64; rv:60.0) Gecko/20100101 Firefox/60.0\"}\n",
    "page = requests.get(url, headers=headers)\n",
    "soup = BeautifulSoup(page.content, 'html.parser')\n",
    "soup=BeautifulSoup(page.content, 'html.parser')\n",
    "title=soup.find('h1',class_=\"entry-title\")\n",
    "title=title.text.replace('\\n',\" \")\n",
    "# title\n",
    "\n",
    "content=soup.findAll(attrs={'class':'td-post-content'})\n",
    "content=content[0].text.replace('\\n',\" \")\n",
    "# print(content)\n",
    "#Punctuation\n",
    "content = content.translate(str.maketrans('', '', string.punctuation)) \n",
    "# print(content)\n",
    "text = content.split()\n",
    "# print(text)\n",
    "len(text)\n",
    "#Positive Score \n",
    "with open(r\"C:\\Users\\Om Bhandwalkar\\Desktop\\pos\\positive-words.txt\") as pos:\n",
    "    poswords = pos.read().split(\"\\n\")  \n",
    "    poswords = poswords[5:]\n",
    "pos_count = \" \".join ([w for w in text if w in poswords])\n",
    "pos_count=pos_count.split(\" \")\n",
    "Positive_score=len(pos_count)\n",
    "print(Positive_score)\n",
    "\n",
    "#Negative Score\n",
    "with open(r\"C:\\Users\\Om Bhandwalkar\\Desktop\\pos\\negative-words.txt\",encoding =\"ISO-8859-1\") as neg:\n",
    "    negwords = neg.read().split(\"\\n\")\n",
    "    \n",
    "negwords = negwords[36:]\n",
    "neg_count = \" \".join ([w for w in text if w in negwords])\n",
    "neg_count=neg_count.split(\" \")\n",
    "Negative_score=len(neg_count)\n",
    "print(Negative_score)\n",
    "\n",
    "\n",
    "filter_content = ' '.join(text)\n",
    "data=[[url,title,content,filter_content,Positive_score,Negative_score]]\n",
    "data=pd.DataFrame(data,columns=[\"url\",\"title\",\"content\",\"filter_content\",\"Positive_Score\",\"Negative_Score\"])\n",
    "from textblob import TextBlob\n",
    "# Get The Subjectivity\n",
    "def sentiment_analysis(data):\n",
    "    sentiment = TextBlob(data[\"content\"]).sentiment\n",
    "    return pd.Series([sentiment.polarity,sentiment.subjectivity ])\n",
    "data[[\"polarity\", \"subjectivity\"]] = data.apply(sentiment_analysis, axis=1)\n",
    "data\n",
    "#AVG SENTENCE LENGTH\n",
    "AVG_SENTENCE_LENGTH = len(content.replace(' ',''))/len(re.split(r'[?!.]', content))\n",
    "print('Word average =', AVG_SENTENCE_LENGTH)\n",
    "import textstat\n",
    "#Fog index \n",
    "FOG_INDEX=(textstat.gunning_fog(content))\n",
    "print(\"FOG INDEX = \",FOG_INDEX)\n",
    "#Average No of Words Per Sentence \n",
    "AVG_NUMBER_OF_WORDS_PER_SENTENCE = [len(l.split()) for l in re.split(r'[?!.]', content) if l.strip()]\n",
    "print(\"Average no of words per sentence\")\n",
    "AVG_NUMBER_OF_WORDS_PER_SENTENCE=(sum(AVG_NUMBER_OF_WORDS_PER_SENTENCE)/len(AVG_NUMBER_OF_WORDS_PER_SENTENCE))\n",
    "print(AVG_NUMBER_OF_WORDS_PER_SENTENCE)\n",
    "#Complex words\n",
    "def syllable_count(word):\n",
    "    count = 0\n",
    "    vowels = \"AEIOUYaeiouy\"\n",
    "    if word[0] in vowels:\n",
    "        count += 1\n",
    "    for index in range(1, len(word)): \n",
    "        if word[index] in vowels and word[index - 1] not in vowels:\n",
    "            count += 1\n",
    "            if word.endswith(\"es\"or \"ed\"):\n",
    "                count -= 1\n",
    "    if count == 0:\n",
    "        count += 1\n",
    "    return count\n",
    "\n",
    "\n",
    "\n",
    "COMPLEX_WORDS=syllable_count(content)\n",
    "print(\"Complex Words\",COMPLEX_WORDS)\n",
    "#Word Count\n",
    "Word_Count=len(content)\n",
    "print(\"Word Count\",Word_Count)\n",
    "#Percentage Complex Words\n",
    "pcw=(COMPLEX_WORDS/Word_Count)*100\n",
    "print(\"Percentage of Complex Words\",pcw)\n",
    "#Average Word Length\n",
    "Average_Word_Length=len(content.replace(' ',''))/len(content.split())\n",
    "print(\"Average Word per Length\",Average_Word_Length)\n",
    "#Syllable Count Per Word\n",
    "word=content.replace(' ','')\n",
    "syllable_count=0\n",
    "for w in word:\n",
    "      if(w=='a' or w=='e' or w=='i' or w=='o' or w=='y' or w=='u' or w=='A' or w=='E' or w=='I' or w=='O' or w=='U' or w=='Y'):\n",
    "            syllable_count=syllable_count+1\n",
    "print(\"The AVG number of syllables in the word is: \")\n",
    "syllable = (syllable_count/len(content.split()))\n",
    "print(syllable)\n",
    "\n",
    "data = [[url,title,content,filter_content,Positive_score,Negative_score,AVG_SENTENCE_LENGTH,pcw,FOG_INDEX,\n",
    "         AVG_NUMBER_OF_WORDS_PER_SENTENCE,COMPLEX_WORDS,Word_Count,syllable,Average_Word_Length]]\n",
    "data=pd.DataFrame(data,columns=[\"url\",\"title\",\"content\",\"filter_content\",\"Positive_Score\",\"Negative_Score\",\"Avg_Sentence_Length\"\n",
    "                               ,\"Percentage_Complex_Word\",\"Fog_Index\",\" AVG_NUMBER_OF_WORDS_PER_SENTENCE\",\"COMPLEX_WORDS\",\n",
    "                               \"Word_Count\",\"syllable\",\"Average_Word_Length\"])\n",
    "from textblob import TextBlob\n",
    "# Get The Subjectivity\n",
    "def sentiment_analysis(data):\n",
    "    sentiment = TextBlob(data[\"content\"]).sentiment\n",
    "    return pd.Series([sentiment.polarity,sentiment.subjectivity ])\n",
    "data[[\"polarity\", \"subjectivity\"]] = data.apply(sentiment_analysis, axis=1)\n",
    "data"
   ]
  },
  {
   "cell_type": "code",
   "execution_count": 2,
   "id": "d732cf12",
   "metadata": {},
   "outputs": [],
   "source": [
    "data.to_csv(r'C:\\Users\\Om Bhandwalkar\\Desktop\\BlackCoffer Assignment\\Output\\url_74.csv')"
   ]
  },
  {
   "cell_type": "code",
   "execution_count": null,
   "id": "c8f8cd51",
   "metadata": {},
   "outputs": [],
   "source": []
  }
 ],
 "metadata": {
  "kernelspec": {
   "display_name": "Python 3 (ipykernel)",
   "language": "python",
   "name": "python3"
  },
  "language_info": {
   "codemirror_mode": {
    "name": "ipython",
    "version": 3
   },
   "file_extension": ".py",
   "mimetype": "text/x-python",
   "name": "python",
   "nbconvert_exporter": "python",
   "pygments_lexer": "ipython3",
   "version": "3.9.12"
  }
 },
 "nbformat": 4,
 "nbformat_minor": 5
}
