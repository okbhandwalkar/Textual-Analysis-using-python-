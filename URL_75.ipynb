{
 "cells": [
  {
   "cell_type": "code",
   "execution_count": 1,
   "id": "7206029a",
   "metadata": {},
   "outputs": [
    {
     "data": {
      "text/plain": [
       "'Why does your business need a chatbot?'"
      ]
     },
     "execution_count": 1,
     "metadata": {},
     "output_type": "execute_result"
    }
   ],
   "source": [
    "import requests\n",
    "import pandas as pd \n",
    "from bs4 import BeautifulSoup\n",
    "import string\n",
    "import spacy\n",
    "import re\n",
    "url = \"\"\"https://insights.blackcoffer.com/why-does-your-business-need-a-chatbot/\"\"\"\n",
    "headers = {\"User-Agent\": \"Mozilla/5.0 (X11; Linux x86_64; rv:60.0) Gecko/20100101 Firefox/60.0\"}\n",
    "page = requests.get(url, headers=headers)\n",
    "soup = BeautifulSoup(page.content, 'html.parser')\n",
    "soup=BeautifulSoup(page.content, 'html.parser')\n",
    "title=soup.find('h1',class_=\"entry-title\")\n",
    "title=title.text.replace('\\n',\" \")\n",
    "title\n"
   ]
  },
  {
   "cell_type": "code",
   "execution_count": 2,
   "id": "6fcfce12",
   "metadata": {},
   "outputs": [
    {
     "name": "stdout",
     "output_type": "stream",
     "text": [
      " Mr. Sakamoto is a bonsai artist, lives downtown Kyoto, Japan. Bonsai is a Japanese art form that is the cultivation of small trees in a small or medium container. He is in this field of business for the last ten years and he loves what he does on a daily basis. People from different cities in Japan, come to buy his artwork. But, in the early stage of his business, he was just another regular Bosai artist. His popularity has increased because of the stories he tells for every art he is selling. His customer immediately loved him for this while buying A Bonsai art. He loved to sell his customer with his artwork and a story related to that product which resurrects his presence through his art in customers. Soon enough his business thrived and nowadays he is always busy. After the digital revolution, although his sales increased, he was not happy. He was not satisfied. Something is eating up his mind day by day. He could not understand what’s the reason behind his remorse. A chatbot is an awesome invention of the digital revolution. It is the real-life embodiment of Customer Engagement. Every business needs this feature- will be an understatement. Because Customer engagement is the base of any business. The chatbot does the exact thing digitally. It helps customers to answer the queries and tell about the product that the business has to offer is a fully automated way with vibrant customizations.              Mr. Sakamoto is running his business for the last fifteen years now. And now he is happy that he was not for the past couple of years. The rationale behind his happiness is the chatbot. Though he has a website and app to sell his Bonsai art, he could not engage with the customers in the way he wanted to. He has trained his employees and apprentices, but they are not providing the same service in the way he does. He was unsatisfied and the chatbot relives him from his sadness. He has done all that at affordable prices in no time. Let’s understand the Mr. Sakamoto’s “Mondai Nai”- perspective about why chatbot is the answer of his problems. Building the Trust with Customers This is the fundamental and root cause for which Mr. Sakamoto has to implement the chatbot in the first place. His stories are embedded with each art. The product which he sells needs this story to be with it. His stories which were not been told to all the customers before are now sharing with this chatbot and building the trust between them. We all can agree on this one statement that trust is the most impactful aspect, maybe the best of aspects, in the relation between any customer and business-owner, whether the business is small, medium, or large. Target the Millennial Customer Millennials, a word that was not introduced before 1990. The generation which is stuck in between Gen-x and Gen-y. A generation of people accustomed to both digitization and old culture. They are the most targeted audience in this era. What else would be more approachable to this generation than a chatbot? It’s easy, less time consuming to use. Mr. Sakamoto is now one of the few Gen-x persons who can do business with the millennial so easily. Better Human Interactions Mr. Sakamoto has some employees and apprentices. He has trained them as per his needs. But there is a limit. They can’t deliver the exact things that he can or the way he does. Neither chatbot can do that exactly, it will accurately follow the instructions. Not only the chatbot solve the queries of the customer in his way, but also give a recommendation to the product in the way he wants too. Is there any more attribute he would care about that? Absolutely no! 24*7 Service The most expensive thing for any businessman is the return of their customer with an empty hand because of his unavailability. A chatbot is a perfect way to solve it. For Mr. Sakamoto’s customized chatbot is not only present for customers in their availability, but also It was giving the response to the customer in all the time zone, all over the world. Mr. Sakamoto wouldn’t be happier for this feature. Scaling Up Business in Globalization In the era of globalization, what is more, helpful than a chatbot? It can be customized in any language. It can be accessed by any human being residing in any part of the world. And at the end of the day, when that foreigner is happy with the buy and the felicitation and says “Arigato” but in his own language, at that moment he feels so warm and happy. Handling a lot of customers is really hard. He assigned employees, but the rate is growing fast. So, in the competition of the market, Mr. Sakamoto took the help of a chatbot. Now this automated customized application is handling a greater number of customers than his employees can do. His business is growing exponentially. Now, when you found out why Mr. Sakamoto is happy and his business is growing in this competitive industry then, do you still have a question in mind that why does your business need a chatbot? Blackcoffer Insights 20: Aniket Bhunia, Netaji Subhash Engineering College \n",
      " Mr Sakamoto is a bonsai artist lives downtown Kyoto Japan Bonsai is a Japanese art form that is the cultivation of small trees in a small or medium container He is in this field of business for the last ten years and he loves what he does on a daily basis People from different cities in Japan come to buy his artwork But in the early stage of his business he was just another regular Bosai artist His popularity has increased because of the stories he tells for every art he is selling His customer immediately loved him for this while buying A Bonsai art He loved to sell his customer with his artwork and a story related to that product which resurrects his presence through his art in customers Soon enough his business thrived and nowadays he is always busy After the digital revolution although his sales increased he was not happy He was not satisfied Something is eating up his mind day by day He could not understand what’s the reason behind his remorse A chatbot is an awesome invention of the digital revolution It is the reallife embodiment of Customer Engagement Every business needs this feature will be an understatement Because Customer engagement is the base of any business The chatbot does the exact thing digitally It helps customers to answer the queries and tell about the product that the business has to offer is a fully automated way with vibrant customizations              Mr Sakamoto is running his business for the last fifteen years now And now he is happy that he was not for the past couple of years The rationale behind his happiness is the chatbot Though he has a website and app to sell his Bonsai art he could not engage with the customers in the way he wanted to He has trained his employees and apprentices but they are not providing the same service in the way he does He was unsatisfied and the chatbot relives him from his sadness He has done all that at affordable prices in no time Let’s understand the Mr Sakamoto’s “Mondai Nai” perspective about why chatbot is the answer of his problems Building the Trust with Customers This is the fundamental and root cause for which Mr Sakamoto has to implement the chatbot in the first place His stories are embedded with each art The product which he sells needs this story to be with it His stories which were not been told to all the customers before are now sharing with this chatbot and building the trust between them We all can agree on this one statement that trust is the most impactful aspect maybe the best of aspects in the relation between any customer and businessowner whether the business is small medium or large Target the Millennial Customer Millennials a word that was not introduced before 1990 The generation which is stuck in between Genx and Geny A generation of people accustomed to both digitization and old culture They are the most targeted audience in this era What else would be more approachable to this generation than a chatbot It’s easy less time consuming to use Mr Sakamoto is now one of the few Genx persons who can do business with the millennial so easily Better Human Interactions Mr Sakamoto has some employees and apprentices He has trained them as per his needs But there is a limit They can’t deliver the exact things that he can or the way he does Neither chatbot can do that exactly it will accurately follow the instructions Not only the chatbot solve the queries of the customer in his way but also give a recommendation to the product in the way he wants too Is there any more attribute he would care about that Absolutely no 247 Service The most expensive thing for any businessman is the return of their customer with an empty hand because of his unavailability A chatbot is a perfect way to solve it For Mr Sakamoto’s customized chatbot is not only present for customers in their availability but also It was giving the response to the customer in all the time zone all over the world Mr Sakamoto wouldn’t be happier for this feature Scaling Up Business in Globalization In the era of globalization what is more helpful than a chatbot It can be customized in any language It can be accessed by any human being residing in any part of the world And at the end of the day when that foreigner is happy with the buy and the felicitation and says “Arigato” but in his own language at that moment he feels so warm and happy Handling a lot of customers is really hard He assigned employees but the rate is growing fast So in the competition of the market Mr Sakamoto took the help of a chatbot Now this automated customized application is handling a greater number of customers than his employees can do His business is growing exponentially Now when you found out why Mr Sakamoto is happy and his business is growing in this competitive industry then do you still have a question in mind that why does your business need a chatbot Blackcoffer Insights 20 Aniket Bhunia Netaji Subhash Engineering College \n",
      "['Mr', 'Sakamoto', 'is', 'a', 'bonsai', 'artist', 'lives', 'downtown', 'Kyoto', 'Japan', 'Bonsai', 'is', 'a', 'Japanese', 'art', 'form', 'that', 'is', 'the', 'cultivation', 'of', 'small', 'trees', 'in', 'a', 'small', 'or', 'medium', 'container', 'He', 'is', 'in', 'this', 'field', 'of', 'business', 'for', 'the', 'last', 'ten', 'years', 'and', 'he', 'loves', 'what', 'he', 'does', 'on', 'a', 'daily', 'basis', 'People', 'from', 'different', 'cities', 'in', 'Japan', 'come', 'to', 'buy', 'his', 'artwork', 'But', 'in', 'the', 'early', 'stage', 'of', 'his', 'business', 'he', 'was', 'just', 'another', 'regular', 'Bosai', 'artist', 'His', 'popularity', 'has', 'increased', 'because', 'of', 'the', 'stories', 'he', 'tells', 'for', 'every', 'art', 'he', 'is', 'selling', 'His', 'customer', 'immediately', 'loved', 'him', 'for', 'this', 'while', 'buying', 'A', 'Bonsai', 'art', 'He', 'loved', 'to', 'sell', 'his', 'customer', 'with', 'his', 'artwork', 'and', 'a', 'story', 'related', 'to', 'that', 'product', 'which', 'resurrects', 'his', 'presence', 'through', 'his', 'art', 'in', 'customers', 'Soon', 'enough', 'his', 'business', 'thrived', 'and', 'nowadays', 'he', 'is', 'always', 'busy', 'After', 'the', 'digital', 'revolution', 'although', 'his', 'sales', 'increased', 'he', 'was', 'not', 'happy', 'He', 'was', 'not', 'satisfied', 'Something', 'is', 'eating', 'up', 'his', 'mind', 'day', 'by', 'day', 'He', 'could', 'not', 'understand', 'what’s', 'the', 'reason', 'behind', 'his', 'remorse', 'A', 'chatbot', 'is', 'an', 'awesome', 'invention', 'of', 'the', 'digital', 'revolution', 'It', 'is', 'the', 'reallife', 'embodiment', 'of', 'Customer', 'Engagement', 'Every', 'business', 'needs', 'this', 'feature', 'will', 'be', 'an', 'understatement', 'Because', 'Customer', 'engagement', 'is', 'the', 'base', 'of', 'any', 'business', 'The', 'chatbot', 'does', 'the', 'exact', 'thing', 'digitally', 'It', 'helps', 'customers', 'to', 'answer', 'the', 'queries', 'and', 'tell', 'about', 'the', 'product', 'that', 'the', 'business', 'has', 'to', 'offer', 'is', 'a', 'fully', 'automated', 'way', 'with', 'vibrant', 'customizations', 'Mr', 'Sakamoto', 'is', 'running', 'his', 'business', 'for', 'the', 'last', 'fifteen', 'years', 'now', 'And', 'now', 'he', 'is', 'happy', 'that', 'he', 'was', 'not', 'for', 'the', 'past', 'couple', 'of', 'years', 'The', 'rationale', 'behind', 'his', 'happiness', 'is', 'the', 'chatbot', 'Though', 'he', 'has', 'a', 'website', 'and', 'app', 'to', 'sell', 'his', 'Bonsai', 'art', 'he', 'could', 'not', 'engage', 'with', 'the', 'customers', 'in', 'the', 'way', 'he', 'wanted', 'to', 'He', 'has', 'trained', 'his', 'employees', 'and', 'apprentices', 'but', 'they', 'are', 'not', 'providing', 'the', 'same', 'service', 'in', 'the', 'way', 'he', 'does', 'He', 'was', 'unsatisfied', 'and', 'the', 'chatbot', 'relives', 'him', 'from', 'his', 'sadness', 'He', 'has', 'done', 'all', 'that', 'at', 'affordable', 'prices', 'in', 'no', 'time', 'Let’s', 'understand', 'the', 'Mr', 'Sakamoto’s', '“Mondai', 'Nai”', 'perspective', 'about', 'why', 'chatbot', 'is', 'the', 'answer', 'of', 'his', 'problems', 'Building', 'the', 'Trust', 'with', 'Customers', 'This', 'is', 'the', 'fundamental', 'and', 'root', 'cause', 'for', 'which', 'Mr', 'Sakamoto', 'has', 'to', 'implement', 'the', 'chatbot', 'in', 'the', 'first', 'place', 'His', 'stories', 'are', 'embedded', 'with', 'each', 'art', 'The', 'product', 'which', 'he', 'sells', 'needs', 'this', 'story', 'to', 'be', 'with', 'it', 'His', 'stories', 'which', 'were', 'not', 'been', 'told', 'to', 'all', 'the', 'customers', 'before', 'are', 'now', 'sharing', 'with', 'this', 'chatbot', 'and', 'building', 'the', 'trust', 'between', 'them', 'We', 'all', 'can', 'agree', 'on', 'this', 'one', 'statement', 'that', 'trust', 'is', 'the', 'most', 'impactful', 'aspect', 'maybe', 'the', 'best', 'of', 'aspects', 'in', 'the', 'relation', 'between', 'any', 'customer', 'and', 'businessowner', 'whether', 'the', 'business', 'is', 'small', 'medium', 'or', 'large', 'Target', 'the', 'Millennial', 'Customer', 'Millennials', 'a', 'word', 'that', 'was', 'not', 'introduced', 'before', '1990', 'The', 'generation', 'which', 'is', 'stuck', 'in', 'between', 'Genx', 'and', 'Geny', 'A', 'generation', 'of', 'people', 'accustomed', 'to', 'both', 'digitization', 'and', 'old', 'culture', 'They', 'are', 'the', 'most', 'targeted', 'audience', 'in', 'this', 'era', 'What', 'else', 'would', 'be', 'more', 'approachable', 'to', 'this', 'generation', 'than', 'a', 'chatbot', 'It’s', 'easy', 'less', 'time', 'consuming', 'to', 'use', 'Mr', 'Sakamoto', 'is', 'now', 'one', 'of', 'the', 'few', 'Genx', 'persons', 'who', 'can', 'do', 'business', 'with', 'the', 'millennial', 'so', 'easily', 'Better', 'Human', 'Interactions', 'Mr', 'Sakamoto', 'has', 'some', 'employees', 'and', 'apprentices', 'He', 'has', 'trained', 'them', 'as', 'per', 'his', 'needs', 'But', 'there', 'is', 'a', 'limit', 'They', 'can’t', 'deliver', 'the', 'exact', 'things', 'that', 'he', 'can', 'or', 'the', 'way', 'he', 'does', 'Neither', 'chatbot', 'can', 'do', 'that', 'exactly', 'it', 'will', 'accurately', 'follow', 'the', 'instructions', 'Not', 'only', 'the', 'chatbot', 'solve', 'the', 'queries', 'of', 'the', 'customer', 'in', 'his', 'way', 'but', 'also', 'give', 'a', 'recommendation', 'to', 'the', 'product', 'in', 'the', 'way', 'he', 'wants', 'too', 'Is', 'there', 'any', 'more', 'attribute', 'he', 'would', 'care', 'about', 'that', 'Absolutely', 'no', '247', 'Service', 'The', 'most', 'expensive', 'thing', 'for', 'any', 'businessman', 'is', 'the', 'return', 'of', 'their', 'customer', 'with', 'an', 'empty', 'hand', 'because', 'of', 'his', 'unavailability', 'A', 'chatbot', 'is', 'a', 'perfect', 'way', 'to', 'solve', 'it', 'For', 'Mr', 'Sakamoto’s', 'customized', 'chatbot', 'is', 'not', 'only', 'present', 'for', 'customers', 'in', 'their', 'availability', 'but', 'also', 'It', 'was', 'giving', 'the', 'response', 'to', 'the', 'customer', 'in', 'all', 'the', 'time', 'zone', 'all', 'over', 'the', 'world', 'Mr', 'Sakamoto', 'wouldn’t', 'be', 'happier', 'for', 'this', 'feature', 'Scaling', 'Up', 'Business', 'in', 'Globalization', 'In', 'the', 'era', 'of', 'globalization', 'what', 'is', 'more', 'helpful', 'than', 'a', 'chatbot', 'It', 'can', 'be', 'customized', 'in', 'any', 'language', 'It', 'can', 'be', 'accessed', 'by', 'any', 'human', 'being', 'residing', 'in', 'any', 'part', 'of', 'the', 'world', 'And', 'at', 'the', 'end', 'of', 'the', 'day', 'when', 'that', 'foreigner', 'is', 'happy', 'with', 'the', 'buy', 'and', 'the', 'felicitation', 'and', 'says', '“Arigato”', 'but', 'in', 'his', 'own', 'language', 'at', 'that', 'moment', 'he', 'feels', 'so', 'warm', 'and', 'happy', 'Handling', 'a', 'lot', 'of', 'customers', 'is', 'really', 'hard', 'He', 'assigned', 'employees', 'but', 'the', 'rate', 'is', 'growing', 'fast', 'So', 'in', 'the', 'competition', 'of', 'the', 'market', 'Mr', 'Sakamoto', 'took', 'the', 'help', 'of', 'a', 'chatbot', 'Now', 'this', 'automated', 'customized', 'application', 'is', 'handling', 'a', 'greater', 'number', 'of', 'customers', 'than', 'his', 'employees', 'can', 'do', 'His', 'business', 'is', 'growing', 'exponentially', 'Now', 'when', 'you', 'found', 'out', 'why', 'Mr', 'Sakamoto', 'is', 'happy', 'and', 'his', 'business', 'is', 'growing', 'in', 'this', 'competitive', 'industry', 'then', 'do', 'you', 'still', 'have', 'a', 'question', 'in', 'mind', 'that', 'why', 'does', 'your', 'business', 'need', 'a', 'chatbot', 'Blackcoffer', 'Insights', '20', 'Aniket', 'Bhunia', 'Netaji', 'Subhash', 'Engineering', 'College']\n"
     ]
    }
   ],
   "source": [
    "content=soup.findAll(attrs={'class':'td-post-content'})\n",
    "content=content[0].text.replace('\\n',\" \")\n",
    "print(content)\n",
    "#Punctuation\n",
    "content = content.translate(str.maketrans('', '', string.punctuation)) \n",
    "print(content)\n",
    "text = content.split()\n",
    "print(text)\n"
   ]
  },
  {
   "cell_type": "code",
   "execution_count": 3,
   "id": "3a93537b",
   "metadata": {},
   "outputs": [
    {
     "data": {
      "text/plain": [
       "883"
      ]
     },
     "execution_count": 3,
     "metadata": {},
     "output_type": "execute_result"
    }
   ],
   "source": [
    "len(text)"
   ]
  },
  {
   "cell_type": "code",
   "execution_count": 4,
   "id": "fbbacf85",
   "metadata": {},
   "outputs": [
    {
     "name": "stdout",
     "output_type": "stream",
     "text": [
      "26\n"
     ]
    }
   ],
   "source": [
    "#Positive Score \n",
    "with open(r\"C:\\Users\\Om Bhandwalkar\\Desktop\\pos\\positive-words.txt\") as pos:\n",
    "    poswords = pos.read().split(\"\\n\")  \n",
    "    poswords = poswords[5:]\n",
    "pos_count = \" \".join ([w for w in text if w in poswords])\n",
    "pos_count=pos_count.split(\" \")\n",
    "Positive_score=len(pos_count)\n",
    "print(Positive_score)"
   ]
  },
  {
   "cell_type": "code",
   "execution_count": 5,
   "id": "6a1ec767",
   "metadata": {},
   "outputs": [
    {
     "name": "stdout",
     "output_type": "stream",
     "text": [
      "7\n"
     ]
    }
   ],
   "source": [
    "#Negative Score\n",
    "with open(r\"C:\\Users\\Om Bhandwalkar\\Desktop\\pos\\negative-words.txt\",encoding =\"ISO-8859-1\") as neg:\n",
    "    negwords = neg.read().split(\"\\n\")\n",
    "    \n",
    "negwords = negwords[36:]\n",
    "neg_count = \" \".join ([w for w in text if w in negwords])\n",
    "neg_count=neg_count.split(\" \")\n",
    "Negative_score=len(neg_count)\n",
    "print(Negative_score)"
   ]
  },
  {
   "cell_type": "code",
   "execution_count": 6,
   "id": "d0c0eaeb",
   "metadata": {},
   "outputs": [
    {
     "data": {
      "text/html": [
       "<div>\n",
       "<style scoped>\n",
       "    .dataframe tbody tr th:only-of-type {\n",
       "        vertical-align: middle;\n",
       "    }\n",
       "\n",
       "    .dataframe tbody tr th {\n",
       "        vertical-align: top;\n",
       "    }\n",
       "\n",
       "    .dataframe thead th {\n",
       "        text-align: right;\n",
       "    }\n",
       "</style>\n",
       "<table border=\"1\" class=\"dataframe\">\n",
       "  <thead>\n",
       "    <tr style=\"text-align: right;\">\n",
       "      <th></th>\n",
       "      <th>url</th>\n",
       "      <th>title</th>\n",
       "      <th>content</th>\n",
       "      <th>filter_content</th>\n",
       "      <th>Positive_Score</th>\n",
       "      <th>Negative_Score</th>\n",
       "      <th>polarity</th>\n",
       "      <th>subjectivity</th>\n",
       "    </tr>\n",
       "  </thead>\n",
       "  <tbody>\n",
       "    <tr>\n",
       "      <th>0</th>\n",
       "      <td>https://insights.blackcoffer.com/why-does-your...</td>\n",
       "      <td>Why does your business need a chatbot?</td>\n",
       "      <td>Mr Sakamoto is a bonsai artist lives downtown...</td>\n",
       "      <td>Mr Sakamoto is a bonsai artist lives downtown ...</td>\n",
       "      <td>26</td>\n",
       "      <td>7</td>\n",
       "      <td>0.178878</td>\n",
       "      <td>0.472811</td>\n",
       "    </tr>\n",
       "  </tbody>\n",
       "</table>\n",
       "</div>"
      ],
      "text/plain": [
       "                                                 url  \\\n",
       "0  https://insights.blackcoffer.com/why-does-your...   \n",
       "\n",
       "                                    title  \\\n",
       "0  Why does your business need a chatbot?   \n",
       "\n",
       "                                             content  \\\n",
       "0   Mr Sakamoto is a bonsai artist lives downtown...   \n",
       "\n",
       "                                      filter_content  Positive_Score  \\\n",
       "0  Mr Sakamoto is a bonsai artist lives downtown ...              26   \n",
       "\n",
       "   Negative_Score  polarity  subjectivity  \n",
       "0               7  0.178878      0.472811  "
      ]
     },
     "execution_count": 6,
     "metadata": {},
     "output_type": "execute_result"
    }
   ],
   "source": [
    "filter_content = ' '.join(text)\n",
    "data=[[url,title,content,filter_content,Positive_score,Negative_score]]\n",
    "data=pd.DataFrame(data,columns=[\"url\",\"title\",\"content\",\"filter_content\",\"Positive_Score\",\"Negative_Score\"])\n",
    "from textblob import TextBlob\n",
    "# Get The Subjectivity\n",
    "def sentiment_analysis(data):\n",
    "    sentiment = TextBlob(data[\"content\"]).sentiment\n",
    "    return pd.Series([sentiment.polarity,sentiment.subjectivity ])\n",
    "\n",
    "# Adding Subjectivity & Polarity\n",
    "data[[\"polarity\", \"subjectivity\"]] = data.apply(sentiment_analysis, axis=1)\n",
    "\n",
    "data"
   ]
  },
  {
   "cell_type": "code",
   "execution_count": 7,
   "id": "c633fa9f",
   "metadata": {},
   "outputs": [
    {
     "name": "stdout",
     "output_type": "stream",
     "text": [
      "Word average = 4049.0\n",
      "FOG INDEX =  356.33\n",
      "Average no of words per sentence\n",
      "883.0\n",
      "Complex Words 1441\n"
     ]
    }
   ],
   "source": [
    "#AVG SENTENCE LENGTH\n",
    "AVG_SENTENCE_LENGTH = len(content.replace(' ',''))/len(re.split(r'[?!.]', content))\n",
    "print('Word average =', AVG_SENTENCE_LENGTH)\n",
    "import textstat\n",
    "#Fog index \n",
    "FOG_INDEX=(textstat.gunning_fog(content))\n",
    "print(\"FOG INDEX = \",FOG_INDEX)\n",
    "#Average No of Words Per Sentence \n",
    "AVG_NUMBER_OF_WORDS_PER_SENTENCE = [len(l.split()) for l in re.split(r'[?!.]', content) if l.strip()]\n",
    "print(\"Average no of words per sentence\")\n",
    "AVG_NUMBER_OF_WORDS_PER_SENTENCE=print(sum(AVG_NUMBER_OF_WORDS_PER_SENTENCE)/len(AVG_NUMBER_OF_WORDS_PER_SENTENCE))\n",
    "#Complex words\n",
    "def syllable_count(word):\n",
    "    count = 0\n",
    "    vowels = \"AEIOUYaeiouy\"\n",
    "    if word[0] in vowels:\n",
    "        count += 1\n",
    "    for index in range(1, len(word)): \n",
    "        if word[index] in vowels and word[index - 1] not in vowels:\n",
    "            count += 1\n",
    "            if word.endswith(\"es\"or \"ed\"):\n",
    "                count -= 1\n",
    "    if count == 0:\n",
    "        count += 1\n",
    "    return count\n",
    "\n",
    "\n",
    "\n",
    "COMPLEX_WORDS=syllable_count(content)\n",
    "print(\"Complex Words\",COMPLEX_WORDS)\n"
   ]
  },
  {
   "cell_type": "code",
   "execution_count": 8,
   "id": "0d39c15a",
   "metadata": {},
   "outputs": [
    {
     "name": "stdout",
     "output_type": "stream",
     "text": [
      "Word Count 4935\n",
      "Percentage of Complex Words 29.199594731509627\n",
      "Average Word per Length 4.585503963759909\n",
      "The AVG number of syllables in the word is: \n",
      "1.824462061155153\n"
     ]
    }
   ],
   "source": [
    "#Word Count\n",
    "Word_Count=len(content)\n",
    "print(\"Word Count\",Word_Count)\n",
    "#Percentage Complex Words\n",
    "pcw=(COMPLEX_WORDS/Word_Count)*100\n",
    "print(\"Percentage of Complex Words\",pcw)\n",
    "#Average Word Length\n",
    "Average_Word_Length=len(content.replace(' ',''))/len(content.split())\n",
    "print(\"Average Word per Length\",Average_Word_Length)\n",
    "#Syllable Count Per Word\n",
    "word=content.replace(' ','')\n",
    "syllable_count=0\n",
    "for w in word:\n",
    "      if(w=='a' or w=='e' or w=='i' or w=='o' or w=='y' or w=='u' or w=='A' or w=='E' or w=='I' or w=='O' or w=='U' or w=='Y'):\n",
    "            syllable_count=syllable_count+1\n",
    "print(\"The AVG number of syllables in the word is: \")\n",
    "print(syllable_count/len(content.split()))"
   ]
  },
  {
   "cell_type": "code",
   "execution_count": 1,
   "id": "7d4c932a",
   "metadata": {},
   "outputs": [
    {
     "name": "stdout",
     "output_type": "stream",
     "text": [
      "26\n",
      "7\n",
      "Word average = 4049.0\n",
      "FOG INDEX =  356.33\n",
      "Average no of words per sentence\n",
      "883.0\n",
      "Complex Words 1441\n",
      "Word Count 4935\n",
      "Percentage of Complex Words 29.199594731509627\n",
      "Average Word per Length 4.585503963759909\n",
      "The AVG number of syllables in the word is: \n",
      "1.824462061155153\n"
     ]
    },
    {
     "data": {
      "text/html": [
       "<div>\n",
       "<style scoped>\n",
       "    .dataframe tbody tr th:only-of-type {\n",
       "        vertical-align: middle;\n",
       "    }\n",
       "\n",
       "    .dataframe tbody tr th {\n",
       "        vertical-align: top;\n",
       "    }\n",
       "\n",
       "    .dataframe thead th {\n",
       "        text-align: right;\n",
       "    }\n",
       "</style>\n",
       "<table border=\"1\" class=\"dataframe\">\n",
       "  <thead>\n",
       "    <tr style=\"text-align: right;\">\n",
       "      <th></th>\n",
       "      <th>url</th>\n",
       "      <th>title</th>\n",
       "      <th>content</th>\n",
       "      <th>filter_content</th>\n",
       "      <th>Positive_Score</th>\n",
       "      <th>Negative_Score</th>\n",
       "      <th>Avg_Sentence_Length</th>\n",
       "      <th>Percentage_Complex_Word</th>\n",
       "      <th>Fog_Index</th>\n",
       "      <th>AVG_NUMBER_OF_WORDS_PER_SENTENCE</th>\n",
       "      <th>COMPLEX_WORDS</th>\n",
       "      <th>Word_Count</th>\n",
       "      <th>syllable</th>\n",
       "      <th>Average_Word_Length</th>\n",
       "      <th>polarity</th>\n",
       "      <th>subjectivity</th>\n",
       "    </tr>\n",
       "  </thead>\n",
       "  <tbody>\n",
       "    <tr>\n",
       "      <th>0</th>\n",
       "      <td>https://insights.blackcoffer.com/why-does-your...</td>\n",
       "      <td>Why does your business need a chatbot?</td>\n",
       "      <td>Mr Sakamoto is a bonsai artist lives downtown...</td>\n",
       "      <td>Mr Sakamoto is a bonsai artist lives downtown ...</td>\n",
       "      <td>26</td>\n",
       "      <td>7</td>\n",
       "      <td>4049.0</td>\n",
       "      <td>29.199595</td>\n",
       "      <td>356.33</td>\n",
       "      <td>883.0</td>\n",
       "      <td>1441</td>\n",
       "      <td>4935</td>\n",
       "      <td>1.824462</td>\n",
       "      <td>4.585504</td>\n",
       "      <td>0.178878</td>\n",
       "      <td>0.472811</td>\n",
       "    </tr>\n",
       "  </tbody>\n",
       "</table>\n",
       "</div>"
      ],
      "text/plain": [
       "                                                 url  \\\n",
       "0  https://insights.blackcoffer.com/why-does-your...   \n",
       "\n",
       "                                    title  \\\n",
       "0  Why does your business need a chatbot?   \n",
       "\n",
       "                                             content  \\\n",
       "0   Mr Sakamoto is a bonsai artist lives downtown...   \n",
       "\n",
       "                                      filter_content  Positive_Score  \\\n",
       "0  Mr Sakamoto is a bonsai artist lives downtown ...              26   \n",
       "\n",
       "   Negative_Score  Avg_Sentence_Length  Percentage_Complex_Word  Fog_Index  \\\n",
       "0               7               4049.0                29.199595     356.33   \n",
       "\n",
       "    AVG_NUMBER_OF_WORDS_PER_SENTENCE  COMPLEX_WORDS  Word_Count  syllable  \\\n",
       "0                              883.0           1441        4935  1.824462   \n",
       "\n",
       "   Average_Word_Length  polarity  subjectivity  \n",
       "0             4.585504  0.178878      0.472811  "
      ]
     },
     "execution_count": 1,
     "metadata": {},
     "output_type": "execute_result"
    }
   ],
   "source": [
    "import requests\n",
    "import pandas as pd \n",
    "from bs4 import BeautifulSoup\n",
    "import string\n",
    "import spacy\n",
    "import re\n",
    "url = \"\"\"https://insights.blackcoffer.com/why-does-your-business-need-a-chatbot/\"\"\"\n",
    "headers = {\"User-Agent\": \"Mozilla/5.0 (X11; Linux x86_64; rv:60.0) Gecko/20100101 Firefox/60.0\"}\n",
    "page = requests.get(url, headers=headers)\n",
    "soup = BeautifulSoup(page.content, 'html.parser')\n",
    "soup=BeautifulSoup(page.content, 'html.parser')\n",
    "title=soup.find('h1',class_=\"entry-title\")\n",
    "title=title.text.replace('\\n',\" \")\n",
    "# title\n",
    "\n",
    "content=soup.findAll(attrs={'class':'td-post-content'})\n",
    "content=content[0].text.replace('\\n',\" \")\n",
    "# print(content)\n",
    "#Punctuation\n",
    "content = content.translate(str.maketrans('', '', string.punctuation)) \n",
    "# print(content)\n",
    "text = content.split()\n",
    "# print(text)\n",
    "len(text)\n",
    "#Positive Score \n",
    "with open(r\"C:\\Users\\Om Bhandwalkar\\Desktop\\pos\\positive-words.txt\") as pos:\n",
    "    poswords = pos.read().split(\"\\n\")  \n",
    "    poswords = poswords[5:]\n",
    "pos_count = \" \".join ([w for w in text if w in poswords])\n",
    "pos_count=pos_count.split(\" \")\n",
    "Positive_score=len(pos_count)\n",
    "print(Positive_score)\n",
    "\n",
    "#Negative Score\n",
    "with open(r\"C:\\Users\\Om Bhandwalkar\\Desktop\\pos\\negative-words.txt\",encoding =\"ISO-8859-1\") as neg:\n",
    "    negwords = neg.read().split(\"\\n\")\n",
    "    \n",
    "negwords = negwords[36:]\n",
    "neg_count = \" \".join ([w for w in text if w in negwords])\n",
    "neg_count=neg_count.split(\" \")\n",
    "Negative_score=len(neg_count)\n",
    "print(Negative_score)\n",
    "\n",
    "\n",
    "filter_content = ' '.join(text)\n",
    "data=[[url,title,content,filter_content,Positive_score,Negative_score]]\n",
    "data=pd.DataFrame(data,columns=[\"url\",\"title\",\"content\",\"filter_content\",\"Positive_Score\",\"Negative_Score\"])\n",
    "from textblob import TextBlob\n",
    "# Get The Subjectivity\n",
    "def sentiment_analysis(data):\n",
    "    sentiment = TextBlob(data[\"content\"]).sentiment\n",
    "    return pd.Series([sentiment.polarity,sentiment.subjectivity ])\n",
    "data[[\"polarity\", \"subjectivity\"]] = data.apply(sentiment_analysis, axis=1)\n",
    "data\n",
    "#AVG SENTENCE LENGTH\n",
    "AVG_SENTENCE_LENGTH = len(content.replace(' ',''))/len(re.split(r'[?!.]', content))\n",
    "print('Word average =', AVG_SENTENCE_LENGTH)\n",
    "import textstat\n",
    "#Fog index \n",
    "FOG_INDEX=(textstat.gunning_fog(content))\n",
    "print(\"FOG INDEX = \",FOG_INDEX)\n",
    "#Average No of Words Per Sentence \n",
    "AVG_NUMBER_OF_WORDS_PER_SENTENCE = [len(l.split()) for l in re.split(r'[?!.]', content) if l.strip()]\n",
    "print(\"Average no of words per sentence\")\n",
    "AVG_NUMBER_OF_WORDS_PER_SENTENCE=(sum(AVG_NUMBER_OF_WORDS_PER_SENTENCE)/len(AVG_NUMBER_OF_WORDS_PER_SENTENCE))\n",
    "print(AVG_NUMBER_OF_WORDS_PER_SENTENCE)\n",
    "#Complex words\n",
    "def syllable_count(word):\n",
    "    count = 0\n",
    "    vowels = \"AEIOUYaeiouy\"\n",
    "    if word[0] in vowels:\n",
    "        count += 1\n",
    "    for index in range(1, len(word)): \n",
    "        if word[index] in vowels and word[index - 1] not in vowels:\n",
    "            count += 1\n",
    "            if word.endswith(\"es\"or \"ed\"):\n",
    "                count -= 1\n",
    "    if count == 0:\n",
    "        count += 1\n",
    "    return count\n",
    "\n",
    "\n",
    "\n",
    "COMPLEX_WORDS=syllable_count(content)\n",
    "print(\"Complex Words\",COMPLEX_WORDS)\n",
    "#Word Count\n",
    "Word_Count=len(content)\n",
    "print(\"Word Count\",Word_Count)\n",
    "#Percentage Complex Words\n",
    "pcw=(COMPLEX_WORDS/Word_Count)*100\n",
    "print(\"Percentage of Complex Words\",pcw)\n",
    "#Average Word Length\n",
    "Average_Word_Length=len(content.replace(' ',''))/len(content.split())\n",
    "print(\"Average Word per Length\",Average_Word_Length)\n",
    "#Syllable Count Per Word\n",
    "word=content.replace(' ','')\n",
    "syllable_count=0\n",
    "for w in word:\n",
    "      if(w=='a' or w=='e' or w=='i' or w=='o' or w=='y' or w=='u' or w=='A' or w=='E' or w=='I' or w=='O' or w=='U' or w=='Y'):\n",
    "            syllable_count=syllable_count+1\n",
    "print(\"The AVG number of syllables in the word is: \")\n",
    "syllable = (syllable_count/len(content.split()))\n",
    "print(syllable)\n",
    "\n",
    "data = [[url,title,content,filter_content,Positive_score,Negative_score,AVG_SENTENCE_LENGTH,pcw,FOG_INDEX,\n",
    "         AVG_NUMBER_OF_WORDS_PER_SENTENCE,COMPLEX_WORDS,Word_Count,syllable,Average_Word_Length]]\n",
    "data=pd.DataFrame(data,columns=[\"url\",\"title\",\"content\",\"filter_content\",\"Positive_Score\",\"Negative_Score\",\"Avg_Sentence_Length\"\n",
    "                               ,\"Percentage_Complex_Word\",\"Fog_Index\",\" AVG_NUMBER_OF_WORDS_PER_SENTENCE\",\"COMPLEX_WORDS\",\n",
    "                               \"Word_Count\",\"syllable\",\"Average_Word_Length\"])\n",
    "from textblob import TextBlob\n",
    "# Get The Subjectivity\n",
    "def sentiment_analysis(data):\n",
    "    sentiment = TextBlob(data[\"content\"]).sentiment\n",
    "    return pd.Series([sentiment.polarity,sentiment.subjectivity ])\n",
    "data[[\"polarity\", \"subjectivity\"]] = data.apply(sentiment_analysis, axis=1)\n",
    "data"
   ]
  },
  {
   "cell_type": "code",
   "execution_count": 2,
   "id": "2d012e75",
   "metadata": {},
   "outputs": [],
   "source": [
    "data.to_csv(r'C:\\Users\\Om Bhandwalkar\\Desktop\\BlackCoffer Assignment\\Output\\url_75.csv')"
   ]
  },
  {
   "cell_type": "code",
   "execution_count": null,
   "id": "25efce1f",
   "metadata": {},
   "outputs": [],
   "source": []
  },
  {
   "cell_type": "code",
   "execution_count": null,
   "id": "6b4ed8b4",
   "metadata": {},
   "outputs": [],
   "source": []
  }
 ],
 "metadata": {
  "kernelspec": {
   "display_name": "Python 3 (ipykernel)",
   "language": "python",
   "name": "python3"
  },
  "language_info": {
   "codemirror_mode": {
    "name": "ipython",
    "version": 3
   },
   "file_extension": ".py",
   "mimetype": "text/x-python",
   "name": "python",
   "nbconvert_exporter": "python",
   "pygments_lexer": "ipython3",
   "version": "3.9.12"
  }
 },
 "nbformat": 4,
 "nbformat_minor": 5
}
