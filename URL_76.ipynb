{
 "cells": [
  {
   "cell_type": "code",
   "execution_count": 1,
   "id": "5e79ad26",
   "metadata": {},
   "outputs": [
    {
     "data": {
      "text/plain": [
       "'How you lead a project or a team without any technical expertise?'"
      ]
     },
     "execution_count": 1,
     "metadata": {},
     "output_type": "execute_result"
    }
   ],
   "source": [
    "import requests\n",
    "import pandas as pd \n",
    "from bs4 import BeautifulSoup\n",
    "import string\n",
    "import spacy\n",
    "import re\n",
    "url = \"\"\"https://insights.blackcoffer.com/how-you-lead-a-project-or-a-team-without-any-technical-expertise/\"\"\"\n",
    "headers = {\"User-Agent\": \"Mozilla/5.0 (X11; Linux x86_64; rv:60.0) Gecko/20100101 Firefox/60.0\"}\n",
    "page = requests.get(url, headers=headers)\n",
    "soup = BeautifulSoup(page.content, 'html.parser')\n",
    "soup=BeautifulSoup(page.content, 'html.parser')\n",
    "title=soup.find('h1',class_=\"entry-title\")\n",
    "title=title.text.replace('\\n',\" \")\n",
    "title\n"
   ]
  },
  {
   "cell_type": "code",
   "execution_count": 2,
   "id": "dff4a9dd",
   "metadata": {},
   "outputs": [
    {
     "name": "stdout",
     "output_type": "stream",
     "text": [
      " Have you ever wondered what’s common between Sir Alex Ferguson, Pep Guardiola, and Jose Mourinho? I know it might look a lame question, especially to the ardent football followers. At first instinct, the answer is that they are regarded as the top managers in the football universe. #UCLwinners. But when given a closer look, these managers, weren’t that great when it came to their careers as football players. Any naïve observer can build a fallacy of causation and correlation that those who don’t have a great career as a football player will go on to become a great football manager. But is this restricted just to football? Mike Brearley, one of the greatest captains in the history of cricket and the author of the book the art of captaincy, wasn’t the prolific batsman of his time. Our former President, A P J Abdul Kalam didn’t have a political background, but was still appointed as the president of our country and went to become one of the finest presidents our country has ever had. So, can it be stated with confidence that great leaders need not be the expert in their respective fields?Let’s understand the leadership role, types of leaders, and explore a few more perspectives before we arrive at a conclusion.  Let’s start by first understanding what or who is a leader. A leader is not a position or a designation. It’s a virtue if employed correctly. From a janitor to the CEO, from a student to a researcher, from a content writer to a philosopher everybody is a leader. (#leadersareeverywhere) So, what are the virtues of a leader? One of the famous personality trait theories, the Big 5 personality trait theory is always linked closely with leadership. As per the various researches, the personality traits of extraversion, openness, and conscientiousness are associated with leaders more often than the other two traits. Not just these humble and empathetic are also considered as the adjectives that are frequently associated with leaders. But nowhere is technical expertise related to a leader. #NOTSOTECHNICAL As stated by Colin Powell Leadership is the art of accomplishing more than the science of management says is possible. #It’sART If leadership is an art and leaders are the artists then more or less the leaders can be viewed as directors of the films who are organizing, arranging, managing, and directing the scenes. Another analogy for that can be the orchestra where the conductor is using the baton/stick to set the rhythm of the band. So, is it necessary for the conductor to himself or herself by a great violinist? No. When it comes to the corporate sector the leader need not be an expert on the technology but should know how the technology functions so that he/she can utilize it in the best possible way. They can allocate the task of building technology to the right technical experts. And how do the leaders identify the right person for that job? Or how do leaders know what qualities to look for in a person? #Experience. Every great leader once started off as one of the frontline workers or at the bottom of the pyramid in the hierarchical structure. Even though they might not have had the technical expertise in their respective fields, their visionary outlook, their management skills, and the experience they gathered helped them in achieving their targets. Leaders can always take the assistance of the subject matter experts to guide them in situations of technical difficulties. As per the great man, situational and trait theory of leadership, leadership is innate to the person. Leadership though can be conditioned or can be brought out in a person by rewarding him, great leaders show unconditional attachment towards their vision. Everyone knows how to read a map, but which path to choose isn’t something that can be taught. Leaders give the direction or vision to the company and drive it closer to the target that the company wants to achieve. Leadership theories don’t focus on the technical knowledge of the leaders, but rather more on people skills, their approach towards a problem, and how well they guide and hire others to get the job done, which is also evident as per the managerial skills required as per Robert Katz.  Though it can be argued that technical experts are also the great leaders in their areas, but these leaders are generally at the middle management level. As per the different leadership styles, a servant leader is the one who always tries to achieve the goal of the team. These leaders are the ones who have a management objective laid out in front of them and they drive the team closer to achieving the target by having the people-first mindset, a collaborative approach towards solving the problem. These are the people or the leaders needed at the execution level of the project or those who are too close to the employees at the bottom-most level. Since the managers at the top of the pyramid don’t get much time to invest in people they appoint the right people on their behalf to get the job done.   Consider an IT firm. So as per the points mentioned above, does it mean that a leader or the manager shouldn’t know how to code? Depends. If the person is the first line manager then he or she should probably know how to code so that he or she can help the team in achieving the target of producing less garbage which might be one of the project’s KPIs. The project manager, who might be an operations manager, (#MBA) from an IT background, probably need not know what line of code is to be written but should know the algorithms or the logic behind the code so that he or she can validate the code from the client’s perspective. The CEO, might not be from an IT background but should know how to run an IT firm rather than the syntax of the code. But in today’s competitive world leaders can’t be one dimensional. They need to have expertise in multiple areas to be at the top. Mike Brearley if got a chance to play a T20 match, won’t even get picked into aside, not because of his age, but because of his not so great looking batting statistics(#Thegamehaschanged). His leadership skills won’t be enough to get him into the squad. But he can be a great leader if selected to coach the top 15 captains in the world today. As we have already discussed the film directors, their job isn’t to teach the cameramen on how to set up or operate (lens settings, etc) the camera. Their job is to guide the cameramen on what angle it should be held and how he or she should coordinate with the lights crew so that a perfect shot is captured. So even if a leader may not be a technical expert of his field, but if he or she has the right approach and mindset, understands the system and its process, then he or she can hire the best talent for the job and can get the work done by guiding the talent, with his or her vision.  So, the answer to the question, which we came across in the first paragraph, is yes and no. Depending upon the position in the hierarchy (yes for a front-line manager and no for a CXO) and the type of the leader you are, the level of technical expertise needed varies. Though as stated earlier by Robert Katz, the CXO’s need to have the least amount of technical expertise, the CXO should know how the technology functions or what are the applications. What processes are to be followed to build the technology.  He or she should now what is to be done rather than how it is to be done, (#itsnothowitswhat). Otherwise, even though the company might be sitting on a gold mine but If the leader isn’t aware of that or isn’t learned enough to know what to do with it, no company can succeed even with having all the resources at their disposal. Leaders command respect and don’t demand it and that’s possible when they give value to their front-line employees, seek timely advice from the technical experts, and put the resources to the best of its uses. Otherwise, you will be surrounded by technical experts like dilberts. (#dilbert) Blackcoffer Insights 20: Rohan Mehta, Symbiosis Institute of Operations Management \n",
      " Have you ever wondered what’s common between Sir Alex Ferguson Pep Guardiola and Jose Mourinho I know it might look a lame question especially to the ardent football followers At first instinct the answer is that they are regarded as the top managers in the football universe UCLwinners But when given a closer look these managers weren’t that great when it came to their careers as football players Any naïve observer can build a fallacy of causation and correlation that those who don’t have a great career as a football player will go on to become a great football manager But is this restricted just to football Mike Brearley one of the greatest captains in the history of cricket and the author of the book the art of captaincy wasn’t the prolific batsman of his time Our former President A P J Abdul Kalam didn’t have a political background but was still appointed as the president of our country and went to become one of the finest presidents our country has ever had So can it be stated with confidence that great leaders need not be the expert in their respective fieldsLet’s understand the leadership role types of leaders and explore a few more perspectives before we arrive at a conclusion  Let’s start by first understanding what or who is a leader A leader is not a position or a designation It’s a virtue if employed correctly From a janitor to the CEO from a student to a researcher from a content writer to a philosopher everybody is a leader leadersareeverywhere So what are the virtues of a leader One of the famous personality trait theories the Big 5 personality trait theory is always linked closely with leadership As per the various researches the personality traits of extraversion openness and conscientiousness are associated with leaders more often than the other two traits Not just these humble and empathetic are also considered as the adjectives that are frequently associated with leaders But nowhere is technical expertise related to a leader NOTSOTECHNICAL As stated by Colin Powell Leadership is the art of accomplishing more than the science of management says is possible It’sART If leadership is an art and leaders are the artists then more or less the leaders can be viewed as directors of the films who are organizing arranging managing and directing the scenes Another analogy for that can be the orchestra where the conductor is using the batonstick to set the rhythm of the band So is it necessary for the conductor to himself or herself by a great violinist No When it comes to the corporate sector the leader need not be an expert on the technology but should know how the technology functions so that heshe can utilize it in the best possible way They can allocate the task of building technology to the right technical experts And how do the leaders identify the right person for that job Or how do leaders know what qualities to look for in a person Experience Every great leader once started off as one of the frontline workers or at the bottom of the pyramid in the hierarchical structure Even though they might not have had the technical expertise in their respective fields their visionary outlook their management skills and the experience they gathered helped them in achieving their targets Leaders can always take the assistance of the subject matter experts to guide them in situations of technical difficulties As per the great man situational and trait theory of leadership leadership is innate to the person Leadership though can be conditioned or can be brought out in a person by rewarding him great leaders show unconditional attachment towards their vision Everyone knows how to read a map but which path to choose isn’t something that can be taught Leaders give the direction or vision to the company and drive it closer to the target that the company wants to achieve Leadership theories don’t focus on the technical knowledge of the leaders but rather more on people skills their approach towards a problem and how well they guide and hire others to get the job done which is also evident as per the managerial skills required as per Robert Katz  Though it can be argued that technical experts are also the great leaders in their areas but these leaders are generally at the middle management level As per the different leadership styles a servant leader is the one who always tries to achieve the goal of the team These leaders are the ones who have a management objective laid out in front of them and they drive the team closer to achieving the target by having the peoplefirst mindset a collaborative approach towards solving the problem These are the people or the leaders needed at the execution level of the project or those who are too close to the employees at the bottommost level Since the managers at the top of the pyramid don’t get much time to invest in people they appoint the right people on their behalf to get the job done   Consider an IT firm So as per the points mentioned above does it mean that a leader or the manager shouldn’t know how to code Depends If the person is the first line manager then he or she should probably know how to code so that he or she can help the team in achieving the target of producing less garbage which might be one of the project’s KPIs The project manager who might be an operations manager MBA from an IT background probably need not know what line of code is to be written but should know the algorithms or the logic behind the code so that he or she can validate the code from the client’s perspective The CEO might not be from an IT background but should know how to run an IT firm rather than the syntax of the code But in today’s competitive world leaders can’t be one dimensional They need to have expertise in multiple areas to be at the top Mike Brearley if got a chance to play a T20 match won’t even get picked into aside not because of his age but because of his not so great looking batting statisticsThegamehaschanged His leadership skills won’t be enough to get him into the squad But he can be a great leader if selected to coach the top 15 captains in the world today As we have already discussed the film directors their job isn’t to teach the cameramen on how to set up or operate lens settings etc the camera Their job is to guide the cameramen on what angle it should be held and how he or she should coordinate with the lights crew so that a perfect shot is captured So even if a leader may not be a technical expert of his field but if he or she has the right approach and mindset understands the system and its process then he or she can hire the best talent for the job and can get the work done by guiding the talent with his or her vision  So the answer to the question which we came across in the first paragraph is yes and no Depending upon the position in the hierarchy yes for a frontline manager and no for a CXO and the type of the leader you are the level of technical expertise needed varies Though as stated earlier by Robert Katz the CXO’s need to have the least amount of technical expertise the CXO should know how the technology functions or what are the applications What processes are to be followed to build the technology  He or she should now what is to be done rather than how it is to be done itsnothowitswhat Otherwise even though the company might be sitting on a gold mine but If the leader isn’t aware of that or isn’t learned enough to know what to do with it no company can succeed even with having all the resources at their disposal Leaders command respect and don’t demand it and that’s possible when they give value to their frontline employees seek timely advice from the technical experts and put the resources to the best of its uses Otherwise you will be surrounded by technical experts like dilberts dilbert Blackcoffer Insights 20 Rohan Mehta Symbiosis Institute of Operations Management \n",
      "['Have', 'you', 'ever', 'wondered', 'what’s', 'common', 'between', 'Sir', 'Alex', 'Ferguson', 'Pep', 'Guardiola', 'and', 'Jose', 'Mourinho', 'I', 'know', 'it', 'might', 'look', 'a', 'lame', 'question', 'especially', 'to', 'the', 'ardent', 'football', 'followers', 'At', 'first', 'instinct', 'the', 'answer', 'is', 'that', 'they', 'are', 'regarded', 'as', 'the', 'top', 'managers', 'in', 'the', 'football', 'universe', 'UCLwinners', 'But', 'when', 'given', 'a', 'closer', 'look', 'these', 'managers', 'weren’t', 'that', 'great', 'when', 'it', 'came', 'to', 'their', 'careers', 'as', 'football', 'players', 'Any', 'naïve', 'observer', 'can', 'build', 'a', 'fallacy', 'of', 'causation', 'and', 'correlation', 'that', 'those', 'who', 'don’t', 'have', 'a', 'great', 'career', 'as', 'a', 'football', 'player', 'will', 'go', 'on', 'to', 'become', 'a', 'great', 'football', 'manager', 'But', 'is', 'this', 'restricted', 'just', 'to', 'football', 'Mike', 'Brearley', 'one', 'of', 'the', 'greatest', 'captains', 'in', 'the', 'history', 'of', 'cricket', 'and', 'the', 'author', 'of', 'the', 'book', 'the', 'art', 'of', 'captaincy', 'wasn’t', 'the', 'prolific', 'batsman', 'of', 'his', 'time', 'Our', 'former', 'President', 'A', 'P', 'J', 'Abdul', 'Kalam', 'didn’t', 'have', 'a', 'political', 'background', 'but', 'was', 'still', 'appointed', 'as', 'the', 'president', 'of', 'our', 'country', 'and', 'went', 'to', 'become', 'one', 'of', 'the', 'finest', 'presidents', 'our', 'country', 'has', 'ever', 'had', 'So', 'can', 'it', 'be', 'stated', 'with', 'confidence', 'that', 'great', 'leaders', 'need', 'not', 'be', 'the', 'expert', 'in', 'their', 'respective', 'fieldsLet’s', 'understand', 'the', 'leadership', 'role', 'types', 'of', 'leaders', 'and', 'explore', 'a', 'few', 'more', 'perspectives', 'before', 'we', 'arrive', 'at', 'a', 'conclusion', 'Let’s', 'start', 'by', 'first', 'understanding', 'what', 'or', 'who', 'is', 'a', 'leader', 'A', 'leader', 'is', 'not', 'a', 'position', 'or', 'a', 'designation', 'It’s', 'a', 'virtue', 'if', 'employed', 'correctly', 'From', 'a', 'janitor', 'to', 'the', 'CEO', 'from', 'a', 'student', 'to', 'a', 'researcher', 'from', 'a', 'content', 'writer', 'to', 'a', 'philosopher', 'everybody', 'is', 'a', 'leader', 'leadersareeverywhere', 'So', 'what', 'are', 'the', 'virtues', 'of', 'a', 'leader', 'One', 'of', 'the', 'famous', 'personality', 'trait', 'theories', 'the', 'Big', '5', 'personality', 'trait', 'theory', 'is', 'always', 'linked', 'closely', 'with', 'leadership', 'As', 'per', 'the', 'various', 'researches', 'the', 'personality', 'traits', 'of', 'extraversion', 'openness', 'and', 'conscientiousness', 'are', 'associated', 'with', 'leaders', 'more', 'often', 'than', 'the', 'other', 'two', 'traits', 'Not', 'just', 'these', 'humble', 'and', 'empathetic', 'are', 'also', 'considered', 'as', 'the', 'adjectives', 'that', 'are', 'frequently', 'associated', 'with', 'leaders', 'But', 'nowhere', 'is', 'technical', 'expertise', 'related', 'to', 'a', 'leader', 'NOTSOTECHNICAL', 'As', 'stated', 'by', 'Colin', 'Powell', 'Leadership', 'is', 'the', 'art', 'of', 'accomplishing', 'more', 'than', 'the', 'science', 'of', 'management', 'says', 'is', 'possible', 'It’sART', 'If', 'leadership', 'is', 'an', 'art', 'and', 'leaders', 'are', 'the', 'artists', 'then', 'more', 'or', 'less', 'the', 'leaders', 'can', 'be', 'viewed', 'as', 'directors', 'of', 'the', 'films', 'who', 'are', 'organizing', 'arranging', 'managing', 'and', 'directing', 'the', 'scenes', 'Another', 'analogy', 'for', 'that', 'can', 'be', 'the', 'orchestra', 'where', 'the', 'conductor', 'is', 'using', 'the', 'batonstick', 'to', 'set', 'the', 'rhythm', 'of', 'the', 'band', 'So', 'is', 'it', 'necessary', 'for', 'the', 'conductor', 'to', 'himself', 'or', 'herself', 'by', 'a', 'great', 'violinist', 'No', 'When', 'it', 'comes', 'to', 'the', 'corporate', 'sector', 'the', 'leader', 'need', 'not', 'be', 'an', 'expert', 'on', 'the', 'technology', 'but', 'should', 'know', 'how', 'the', 'technology', 'functions', 'so', 'that', 'heshe', 'can', 'utilize', 'it', 'in', 'the', 'best', 'possible', 'way', 'They', 'can', 'allocate', 'the', 'task', 'of', 'building', 'technology', 'to', 'the', 'right', 'technical', 'experts', 'And', 'how', 'do', 'the', 'leaders', 'identify', 'the', 'right', 'person', 'for', 'that', 'job', 'Or', 'how', 'do', 'leaders', 'know', 'what', 'qualities', 'to', 'look', 'for', 'in', 'a', 'person', 'Experience', 'Every', 'great', 'leader', 'once', 'started', 'off', 'as', 'one', 'of', 'the', 'frontline', 'workers', 'or', 'at', 'the', 'bottom', 'of', 'the', 'pyramid', 'in', 'the', 'hierarchical', 'structure', 'Even', 'though', 'they', 'might', 'not', 'have', 'had', 'the', 'technical', 'expertise', 'in', 'their', 'respective', 'fields', 'their', 'visionary', 'outlook', 'their', 'management', 'skills', 'and', 'the', 'experience', 'they', 'gathered', 'helped', 'them', 'in', 'achieving', 'their', 'targets', 'Leaders', 'can', 'always', 'take', 'the', 'assistance', 'of', 'the', 'subject', 'matter', 'experts', 'to', 'guide', 'them', 'in', 'situations', 'of', 'technical', 'difficulties', 'As', 'per', 'the', 'great', 'man', 'situational', 'and', 'trait', 'theory', 'of', 'leadership', 'leadership', 'is', 'innate', 'to', 'the', 'person', 'Leadership', 'though', 'can', 'be', 'conditioned', 'or', 'can', 'be', 'brought', 'out', 'in', 'a', 'person', 'by', 'rewarding', 'him', 'great', 'leaders', 'show', 'unconditional', 'attachment', 'towards', 'their', 'vision', 'Everyone', 'knows', 'how', 'to', 'read', 'a', 'map', 'but', 'which', 'path', 'to', 'choose', 'isn’t', 'something', 'that', 'can', 'be', 'taught', 'Leaders', 'give', 'the', 'direction', 'or', 'vision', 'to', 'the', 'company', 'and', 'drive', 'it', 'closer', 'to', 'the', 'target', 'that', 'the', 'company', 'wants', 'to', 'achieve', 'Leadership', 'theories', 'don’t', 'focus', 'on', 'the', 'technical', 'knowledge', 'of', 'the', 'leaders', 'but', 'rather', 'more', 'on', 'people', 'skills', 'their', 'approach', 'towards', 'a', 'problem', 'and', 'how', 'well', 'they', 'guide', 'and', 'hire', 'others', 'to', 'get', 'the', 'job', 'done', 'which', 'is', 'also', 'evident', 'as', 'per', 'the', 'managerial', 'skills', 'required', 'as', 'per', 'Robert', 'Katz', 'Though', 'it', 'can', 'be', 'argued', 'that', 'technical', 'experts', 'are', 'also', 'the', 'great', 'leaders', 'in', 'their', 'areas', 'but', 'these', 'leaders', 'are', 'generally', 'at', 'the', 'middle', 'management', 'level', 'As', 'per', 'the', 'different', 'leadership', 'styles', 'a', 'servant', 'leader', 'is', 'the', 'one', 'who', 'always', 'tries', 'to', 'achieve', 'the', 'goal', 'of', 'the', 'team', 'These', 'leaders', 'are', 'the', 'ones', 'who', 'have', 'a', 'management', 'objective', 'laid', 'out', 'in', 'front', 'of', 'them', 'and', 'they', 'drive', 'the', 'team', 'closer', 'to', 'achieving', 'the', 'target', 'by', 'having', 'the', 'peoplefirst', 'mindset', 'a', 'collaborative', 'approach', 'towards', 'solving', 'the', 'problem', 'These', 'are', 'the', 'people', 'or', 'the', 'leaders', 'needed', 'at', 'the', 'execution', 'level', 'of', 'the', 'project', 'or', 'those', 'who', 'are', 'too', 'close', 'to', 'the', 'employees', 'at', 'the', 'bottommost', 'level', 'Since', 'the', 'managers', 'at', 'the', 'top', 'of', 'the', 'pyramid', 'don’t', 'get', 'much', 'time', 'to', 'invest', 'in', 'people', 'they', 'appoint', 'the', 'right', 'people', 'on', 'their', 'behalf', 'to', 'get', 'the', 'job', 'done', 'Consider', 'an', 'IT', 'firm', 'So', 'as', 'per', 'the', 'points', 'mentioned', 'above', 'does', 'it', 'mean', 'that', 'a', 'leader', 'or', 'the', 'manager', 'shouldn’t', 'know', 'how', 'to', 'code', 'Depends', 'If', 'the', 'person', 'is', 'the', 'first', 'line', 'manager', 'then', 'he', 'or', 'she', 'should', 'probably', 'know', 'how', 'to', 'code', 'so', 'that', 'he', 'or', 'she', 'can', 'help', 'the', 'team', 'in', 'achieving', 'the', 'target', 'of', 'producing', 'less', 'garbage', 'which', 'might', 'be', 'one', 'of', 'the', 'project’s', 'KPIs', 'The', 'project', 'manager', 'who', 'might', 'be', 'an', 'operations', 'manager', 'MBA', 'from', 'an', 'IT', 'background', 'probably', 'need', 'not', 'know', 'what', 'line', 'of', 'code', 'is', 'to', 'be', 'written', 'but', 'should', 'know', 'the', 'algorithms', 'or', 'the', 'logic', 'behind', 'the', 'code', 'so', 'that', 'he', 'or', 'she', 'can', 'validate', 'the', 'code', 'from', 'the', 'client’s', 'perspective', 'The', 'CEO', 'might', 'not', 'be', 'from', 'an', 'IT', 'background', 'but', 'should', 'know', 'how', 'to', 'run', 'an', 'IT', 'firm', 'rather', 'than', 'the', 'syntax', 'of', 'the', 'code', 'But', 'in', 'today’s', 'competitive', 'world', 'leaders', 'can’t', 'be', 'one', 'dimensional', 'They', 'need', 'to', 'have', 'expertise', 'in', 'multiple', 'areas', 'to', 'be', 'at', 'the', 'top', 'Mike', 'Brearley', 'if', 'got', 'a', 'chance', 'to', 'play', 'a', 'T20', 'match', 'won’t', 'even', 'get', 'picked', 'into', 'aside', 'not', 'because', 'of', 'his', 'age', 'but', 'because', 'of', 'his', 'not', 'so', 'great', 'looking', 'batting', 'statisticsThegamehaschanged', 'His', 'leadership', 'skills', 'won’t', 'be', 'enough', 'to', 'get', 'him', 'into', 'the', 'squad', 'But', 'he', 'can', 'be', 'a', 'great', 'leader', 'if', 'selected', 'to', 'coach', 'the', 'top', '15', 'captains', 'in', 'the', 'world', 'today', 'As', 'we', 'have', 'already', 'discussed', 'the', 'film', 'directors', 'their', 'job', 'isn’t', 'to', 'teach', 'the', 'cameramen', 'on', 'how', 'to', 'set', 'up', 'or', 'operate', 'lens', 'settings', 'etc', 'the', 'camera', 'Their', 'job', 'is', 'to', 'guide', 'the', 'cameramen', 'on', 'what', 'angle', 'it', 'should', 'be', 'held', 'and', 'how', 'he', 'or', 'she', 'should', 'coordinate', 'with', 'the', 'lights', 'crew', 'so', 'that', 'a', 'perfect', 'shot', 'is', 'captured', 'So', 'even', 'if', 'a', 'leader', 'may', 'not', 'be', 'a', 'technical', 'expert', 'of', 'his', 'field', 'but', 'if', 'he', 'or', 'she', 'has', 'the', 'right', 'approach', 'and', 'mindset', 'understands', 'the', 'system', 'and', 'its', 'process', 'then', 'he', 'or', 'she', 'can', 'hire', 'the', 'best', 'talent', 'for', 'the', 'job', 'and', 'can', 'get', 'the', 'work', 'done', 'by', 'guiding', 'the', 'talent', 'with', 'his', 'or', 'her', 'vision', 'So', 'the', 'answer', 'to', 'the', 'question', 'which', 'we', 'came', 'across', 'in', 'the', 'first', 'paragraph', 'is', 'yes', 'and', 'no', 'Depending', 'upon', 'the', 'position', 'in', 'the', 'hierarchy', 'yes', 'for', 'a', 'frontline', 'manager', 'and', 'no', 'for', 'a', 'CXO', 'and', 'the', 'type', 'of', 'the', 'leader', 'you', 'are', 'the', 'level', 'of', 'technical', 'expertise', 'needed', 'varies', 'Though', 'as', 'stated', 'earlier', 'by', 'Robert', 'Katz', 'the', 'CXO’s', 'need', 'to', 'have', 'the', 'least', 'amount', 'of', 'technical', 'expertise', 'the', 'CXO', 'should', 'know', 'how', 'the', 'technology', 'functions', 'or', 'what', 'are', 'the', 'applications', 'What', 'processes', 'are', 'to', 'be', 'followed', 'to', 'build', 'the', 'technology', 'He', 'or', 'she', 'should', 'now', 'what', 'is', 'to', 'be', 'done', 'rather', 'than', 'how', 'it', 'is', 'to', 'be', 'done', 'itsnothowitswhat', 'Otherwise', 'even', 'though', 'the', 'company', 'might', 'be', 'sitting', 'on', 'a', 'gold', 'mine', 'but', 'If', 'the', 'leader', 'isn’t', 'aware', 'of', 'that', 'or', 'isn’t', 'learned', 'enough', 'to', 'know', 'what', 'to', 'do', 'with', 'it', 'no', 'company', 'can', 'succeed', 'even', 'with', 'having', 'all', 'the', 'resources', 'at', 'their', 'disposal', 'Leaders', 'command', 'respect', 'and', 'don’t', 'demand', 'it', 'and', 'that’s', 'possible', 'when', 'they', 'give', 'value', 'to', 'their', 'frontline', 'employees', 'seek', 'timely', 'advice', 'from', 'the', 'technical', 'experts', 'and', 'put', 'the', 'resources', 'to', 'the', 'best', 'of', 'its', 'uses', 'Otherwise', 'you', 'will', 'be', 'surrounded', 'by', 'technical', 'experts', 'like', 'dilberts', 'dilbert', 'Blackcoffer', 'Insights', '20', 'Rohan', 'Mehta', 'Symbiosis', 'Institute', 'of', 'Operations', 'Management']\n"
     ]
    }
   ],
   "source": [
    "content=soup.findAll(attrs={'class':'td-post-content'})\n",
    "content=content[0].text.replace('\\n',\" \")\n",
    "print(content)\n",
    "#Punctuation\n",
    "content = content.translate(str.maketrans('', '', string.punctuation)) \n",
    "print(content)\n",
    "text = content.split()\n",
    "print(text)\n"
   ]
  },
  {
   "cell_type": "code",
   "execution_count": 3,
   "id": "ea148099",
   "metadata": {},
   "outputs": [
    {
     "data": {
      "text/plain": [
       "1410"
      ]
     },
     "execution_count": 3,
     "metadata": {},
     "output_type": "execute_result"
    }
   ],
   "source": [
    "len(text)"
   ]
  },
  {
   "cell_type": "code",
   "execution_count": 4,
   "id": "316c6825",
   "metadata": {},
   "outputs": [
    {
     "name": "stdout",
     "output_type": "stream",
     "text": [
      "49\n"
     ]
    }
   ],
   "source": [
    "#Positive Score \n",
    "with open(r\"C:\\Users\\Om Bhandwalkar\\Desktop\\pos\\positive-words.txt\") as pos:\n",
    "    poswords = pos.read().split(\"\\n\")  \n",
    "    poswords = poswords[5:]\n",
    "pos_count = \" \".join ([w for w in text if w in poswords])\n",
    "pos_count=pos_count.split(\" \")\n",
    "Positive_score=len(pos_count)\n",
    "print(Positive_score)"
   ]
  },
  {
   "cell_type": "code",
   "execution_count": 5,
   "id": "26ae560b",
   "metadata": {},
   "outputs": [
    {
     "name": "stdout",
     "output_type": "stream",
     "text": [
      "7\n"
     ]
    }
   ],
   "source": [
    "#Negative Score\n",
    "with open(r\"C:\\Users\\Om Bhandwalkar\\Desktop\\pos\\negative-words.txt\",encoding =\"ISO-8859-1\") as neg:\n",
    "    negwords = neg.read().split(\"\\n\")\n",
    "    \n",
    "negwords = negwords[36:]\n",
    "neg_count = \" \".join ([w for w in text if w in negwords])\n",
    "neg_count=neg_count.split(\" \")\n",
    "Negative_score=len(neg_count)\n",
    "print(Negative_score)"
   ]
  },
  {
   "cell_type": "code",
   "execution_count": 6,
   "id": "b5fc8b16",
   "metadata": {},
   "outputs": [
    {
     "data": {
      "text/html": [
       "<div>\n",
       "<style scoped>\n",
       "    .dataframe tbody tr th:only-of-type {\n",
       "        vertical-align: middle;\n",
       "    }\n",
       "\n",
       "    .dataframe tbody tr th {\n",
       "        vertical-align: top;\n",
       "    }\n",
       "\n",
       "    .dataframe thead th {\n",
       "        text-align: right;\n",
       "    }\n",
       "</style>\n",
       "<table border=\"1\" class=\"dataframe\">\n",
       "  <thead>\n",
       "    <tr style=\"text-align: right;\">\n",
       "      <th></th>\n",
       "      <th>url</th>\n",
       "      <th>title</th>\n",
       "      <th>content</th>\n",
       "      <th>filter_content</th>\n",
       "      <th>Positive_Score</th>\n",
       "      <th>Negative_Score</th>\n",
       "      <th>polarity</th>\n",
       "      <th>subjectivity</th>\n",
       "    </tr>\n",
       "  </thead>\n",
       "  <tbody>\n",
       "    <tr>\n",
       "      <th>0</th>\n",
       "      <td>https://insights.blackcoffer.com/how-you-lead-...</td>\n",
       "      <td>How you lead a project or a team without any t...</td>\n",
       "      <td>Have you ever wondered what’s common between ...</td>\n",
       "      <td>Have you ever wondered what’s common between S...</td>\n",
       "      <td>49</td>\n",
       "      <td>7</td>\n",
       "      <td>0.220177</td>\n",
       "      <td>0.436843</td>\n",
       "    </tr>\n",
       "  </tbody>\n",
       "</table>\n",
       "</div>"
      ],
      "text/plain": [
       "                                                 url  \\\n",
       "0  https://insights.blackcoffer.com/how-you-lead-...   \n",
       "\n",
       "                                               title  \\\n",
       "0  How you lead a project or a team without any t...   \n",
       "\n",
       "                                             content  \\\n",
       "0   Have you ever wondered what’s common between ...   \n",
       "\n",
       "                                      filter_content  Positive_Score  \\\n",
       "0  Have you ever wondered what’s common between S...              49   \n",
       "\n",
       "   Negative_Score  polarity  subjectivity  \n",
       "0               7  0.220177      0.436843  "
      ]
     },
     "execution_count": 6,
     "metadata": {},
     "output_type": "execute_result"
    }
   ],
   "source": [
    "filter_content = ' '.join(text)\n",
    "data=[[url,title,content,filter_content,Positive_score,Negative_score]]\n",
    "data=pd.DataFrame(data,columns=[\"url\",\"title\",\"content\",\"filter_content\",\"Positive_Score\",\"Negative_Score\"])\n",
    "from textblob import TextBlob\n",
    "# Get The Subjectivity\n",
    "def sentiment_analysis(data):\n",
    "    sentiment = TextBlob(data[\"content\"]).sentiment\n",
    "    return pd.Series([sentiment.polarity,sentiment.subjectivity ])\n",
    "\n",
    "# Adding Subjectivity & Polarity\n",
    "data[[\"polarity\", \"subjectivity\"]] = data.apply(sentiment_analysis, axis=1)\n",
    "\n",
    "data"
   ]
  },
  {
   "cell_type": "code",
   "execution_count": 7,
   "id": "ff977b81",
   "metadata": {},
   "outputs": [
    {
     "name": "stdout",
     "output_type": "stream",
     "text": [
      "Word average = 6464.0\n",
      "FOG INDEX =  567.06\n",
      "Average no of words per sentence\n",
      "1410.0\n",
      "Complex Words 2259\n"
     ]
    }
   ],
   "source": [
    "#AVG SENTENCE LENGTH\n",
    "AVG_SENTENCE_LENGTH = len(content.replace(' ',''))/len(re.split(r'[?!.]', content))\n",
    "print('Word average =', AVG_SENTENCE_LENGTH)\n",
    "import textstat\n",
    "#Fog index \n",
    "FOG_INDEX=(textstat.gunning_fog(content))\n",
    "print(\"FOG INDEX = \",FOG_INDEX)\n",
    "#Average No of Words Per Sentence \n",
    "AVG_NUMBER_OF_WORDS_PER_SENTENCE = [len(l.split()) for l in re.split(r'[?!.]', content) if l.strip()]\n",
    "print(\"Average no of words per sentence\")\n",
    "AVG_NUMBER_OF_WORDS_PER_SENTENCE=print(sum(AVG_NUMBER_OF_WORDS_PER_SENTENCE)/len(AVG_NUMBER_OF_WORDS_PER_SENTENCE))\n",
    "#Complex words\n",
    "def syllable_count(word):\n",
    "    count = 0\n",
    "    vowels = \"AEIOUYaeiouy\"\n",
    "    if word[0] in vowels:\n",
    "        count += 1\n",
    "    for index in range(1, len(word)): \n",
    "        if word[index] in vowels and word[index - 1] not in vowels:\n",
    "            count += 1\n",
    "            if word.endswith(\"es\"or \"ed\"):\n",
    "                count -= 1\n",
    "    if count == 0:\n",
    "        count += 1\n",
    "    return count\n",
    "\n",
    "\n",
    "\n",
    "COMPLEX_WORDS=syllable_count(content)\n",
    "print(\"Complex Words\",COMPLEX_WORDS)\n"
   ]
  },
  {
   "cell_type": "code",
   "execution_count": 8,
   "id": "a25c5ab4",
   "metadata": {},
   "outputs": [
    {
     "name": "stdout",
     "output_type": "stream",
     "text": [
      "Word Count 7878\n",
      "Percentage of Complex Words 28.674790555978674\n",
      "Average Word per Length 4.584397163120568\n",
      "The AVG number of syllables in the word is: \n",
      "1.8156028368794326\n"
     ]
    }
   ],
   "source": [
    "#Word Count\n",
    "Word_Count=len(content)\n",
    "print(\"Word Count\",Word_Count)\n",
    "#Percentage Complex Words\n",
    "pcw=(COMPLEX_WORDS/Word_Count)*100\n",
    "print(\"Percentage of Complex Words\",pcw)\n",
    "#Average Word Length\n",
    "Average_Word_Length=len(content.replace(' ',''))/len(content.split())\n",
    "print(\"Average Word per Length\",Average_Word_Length)\n",
    "#Syllable Count Per Word\n",
    "word=content.replace(' ','')\n",
    "syllable_count=0\n",
    "for w in word:\n",
    "      if(w=='a' or w=='e' or w=='i' or w=='o' or w=='y' or w=='u' or w=='A' or w=='E' or w=='I' or w=='O' or w=='U' or w=='Y'):\n",
    "            syllable_count=syllable_count+1\n",
    "print(\"The AVG number of syllables in the word is: \")\n",
    "print(syllable_count/len(content.split()))"
   ]
  },
  {
   "cell_type": "code",
   "execution_count": 2,
   "id": "2d3d9a7a",
   "metadata": {},
   "outputs": [
    {
     "name": "stdout",
     "output_type": "stream",
     "text": [
      "49\n",
      "7\n",
      "Word average = 6464.0\n",
      "FOG INDEX =  567.06\n",
      "Average no of words per sentence\n",
      "1410.0\n",
      "Complex Words 2259\n",
      "Word Count 7878\n",
      "Percentage of Complex Words 28.674790555978674\n",
      "Average Word per Length 4.584397163120568\n",
      "The AVG number of syllables in the word is: \n",
      "1.8156028368794326\n"
     ]
    },
    {
     "data": {
      "text/html": [
       "<div>\n",
       "<style scoped>\n",
       "    .dataframe tbody tr th:only-of-type {\n",
       "        vertical-align: middle;\n",
       "    }\n",
       "\n",
       "    .dataframe tbody tr th {\n",
       "        vertical-align: top;\n",
       "    }\n",
       "\n",
       "    .dataframe thead th {\n",
       "        text-align: right;\n",
       "    }\n",
       "</style>\n",
       "<table border=\"1\" class=\"dataframe\">\n",
       "  <thead>\n",
       "    <tr style=\"text-align: right;\">\n",
       "      <th></th>\n",
       "      <th>url</th>\n",
       "      <th>title</th>\n",
       "      <th>content</th>\n",
       "      <th>filter_content</th>\n",
       "      <th>Positive_Score</th>\n",
       "      <th>Negative_Score</th>\n",
       "      <th>Avg_Sentence_Length</th>\n",
       "      <th>Percentage_Complex_Word</th>\n",
       "      <th>Fog_Index</th>\n",
       "      <th>AVG_NUMBER_OF_WORDS_PER_SENTENCE</th>\n",
       "      <th>COMPLEX_WORDS</th>\n",
       "      <th>Word_Count</th>\n",
       "      <th>syllable</th>\n",
       "      <th>Average_Word_Length</th>\n",
       "      <th>polarity</th>\n",
       "      <th>subjectivity</th>\n",
       "    </tr>\n",
       "  </thead>\n",
       "  <tbody>\n",
       "    <tr>\n",
       "      <th>0</th>\n",
       "      <td>https://insights.blackcoffer.com/how-you-lead-...</td>\n",
       "      <td>How you lead a project or a team without any t...</td>\n",
       "      <td>Have you ever wondered what’s common between ...</td>\n",
       "      <td>Have you ever wondered what’s common between S...</td>\n",
       "      <td>49</td>\n",
       "      <td>7</td>\n",
       "      <td>6464.0</td>\n",
       "      <td>28.674791</td>\n",
       "      <td>567.06</td>\n",
       "      <td>1410.0</td>\n",
       "      <td>2259</td>\n",
       "      <td>7878</td>\n",
       "      <td>1.815603</td>\n",
       "      <td>4.584397</td>\n",
       "      <td>0.220177</td>\n",
       "      <td>0.436843</td>\n",
       "    </tr>\n",
       "  </tbody>\n",
       "</table>\n",
       "</div>"
      ],
      "text/plain": [
       "                                                 url  \\\n",
       "0  https://insights.blackcoffer.com/how-you-lead-...   \n",
       "\n",
       "                                               title  \\\n",
       "0  How you lead a project or a team without any t...   \n",
       "\n",
       "                                             content  \\\n",
       "0   Have you ever wondered what’s common between ...   \n",
       "\n",
       "                                      filter_content  Positive_Score  \\\n",
       "0  Have you ever wondered what’s common between S...              49   \n",
       "\n",
       "   Negative_Score  Avg_Sentence_Length  Percentage_Complex_Word  Fog_Index  \\\n",
       "0               7               6464.0                28.674791     567.06   \n",
       "\n",
       "    AVG_NUMBER_OF_WORDS_PER_SENTENCE  COMPLEX_WORDS  Word_Count  syllable  \\\n",
       "0                             1410.0           2259        7878  1.815603   \n",
       "\n",
       "   Average_Word_Length  polarity  subjectivity  \n",
       "0             4.584397  0.220177      0.436843  "
      ]
     },
     "execution_count": 2,
     "metadata": {},
     "output_type": "execute_result"
    }
   ],
   "source": [
    "import requests\n",
    "import pandas as pd \n",
    "from bs4 import BeautifulSoup\n",
    "import string\n",
    "import spacy\n",
    "import re\n",
    "url = \"\"\"https://insights.blackcoffer.com/how-you-lead-a-project-or-a-team-without-any-technical-expertise/\"\"\"\n",
    "headers = {\"User-Agent\": \"Mozilla/5.0 (X11; Linux x86_64; rv:60.0) Gecko/20100101 Firefox/60.0\"}\n",
    "page = requests.get(url, headers=headers)\n",
    "soup = BeautifulSoup(page.content, 'html.parser')\n",
    "soup=BeautifulSoup(page.content, 'html.parser')\n",
    "title=soup.find('h1',class_=\"entry-title\")\n",
    "title=title.text.replace('\\n',\" \")\n",
    "# title\n",
    "\n",
    "content=soup.findAll(attrs={'class':'td-post-content'})\n",
    "content=content[0].text.replace('\\n',\" \")\n",
    "# print(content)\n",
    "#Punctuation\n",
    "content = content.translate(str.maketrans('', '', string.punctuation)) \n",
    "# print(content)\n",
    "text = content.split()\n",
    "# print(text)\n",
    "len(text)\n",
    "#Positive Score \n",
    "with open(r\"C:\\Users\\Om Bhandwalkar\\Desktop\\pos\\positive-words.txt\") as pos:\n",
    "    poswords = pos.read().split(\"\\n\")  \n",
    "    poswords = poswords[5:]\n",
    "pos_count = \" \".join ([w for w in text if w in poswords])\n",
    "pos_count=pos_count.split(\" \")\n",
    "Positive_score=len(pos_count)\n",
    "print(Positive_score)\n",
    "\n",
    "#Negative Score\n",
    "with open(r\"C:\\Users\\Om Bhandwalkar\\Desktop\\pos\\negative-words.txt\",encoding =\"ISO-8859-1\") as neg:\n",
    "    negwords = neg.read().split(\"\\n\")\n",
    "    \n",
    "negwords = negwords[36:]\n",
    "neg_count = \" \".join ([w for w in text if w in negwords])\n",
    "neg_count=neg_count.split(\" \")\n",
    "Negative_score=len(neg_count)\n",
    "print(Negative_score)\n",
    "\n",
    "\n",
    "filter_content = ' '.join(text)\n",
    "data=[[url,title,content,filter_content,Positive_score,Negative_score]]\n",
    "data=pd.DataFrame(data,columns=[\"url\",\"title\",\"content\",\"filter_content\",\"Positive_Score\",\"Negative_Score\"])\n",
    "from textblob import TextBlob\n",
    "# Get The Subjectivity\n",
    "def sentiment_analysis(data):\n",
    "    sentiment = TextBlob(data[\"content\"]).sentiment\n",
    "    return pd.Series([sentiment.polarity,sentiment.subjectivity ])\n",
    "data[[\"polarity\", \"subjectivity\"]] = data.apply(sentiment_analysis, axis=1)\n",
    "data\n",
    "#AVG SENTENCE LENGTH\n",
    "AVG_SENTENCE_LENGTH = len(content.replace(' ',''))/len(re.split(r'[?!.]', content))\n",
    "print('Word average =', AVG_SENTENCE_LENGTH)\n",
    "import textstat\n",
    "#Fog index \n",
    "FOG_INDEX=(textstat.gunning_fog(content))\n",
    "print(\"FOG INDEX = \",FOG_INDEX)\n",
    "#Average No of Words Per Sentence \n",
    "AVG_NUMBER_OF_WORDS_PER_SENTENCE = [len(l.split()) for l in re.split(r'[?!.]', content) if l.strip()]\n",
    "print(\"Average no of words per sentence\")\n",
    "AVG_NUMBER_OF_WORDS_PER_SENTENCE=(sum(AVG_NUMBER_OF_WORDS_PER_SENTENCE)/len(AVG_NUMBER_OF_WORDS_PER_SENTENCE))\n",
    "print(AVG_NUMBER_OF_WORDS_PER_SENTENCE)\n",
    "#Complex words\n",
    "def syllable_count(word):\n",
    "    count = 0\n",
    "    vowels = \"AEIOUYaeiouy\"\n",
    "    if word[0] in vowels:\n",
    "        count += 1\n",
    "    for index in range(1, len(word)): \n",
    "        if word[index] in vowels and word[index - 1] not in vowels:\n",
    "            count += 1\n",
    "            if word.endswith(\"es\"or \"ed\"):\n",
    "                count -= 1\n",
    "    if count == 0:\n",
    "        count += 1\n",
    "    return count\n",
    "\n",
    "\n",
    "\n",
    "COMPLEX_WORDS=syllable_count(content)\n",
    "print(\"Complex Words\",COMPLEX_WORDS)\n",
    "#Word Count\n",
    "Word_Count=len(content)\n",
    "print(\"Word Count\",Word_Count)\n",
    "#Percentage Complex Words\n",
    "pcw=(COMPLEX_WORDS/Word_Count)*100\n",
    "print(\"Percentage of Complex Words\",pcw)\n",
    "#Average Word Length\n",
    "Average_Word_Length=len(content.replace(' ',''))/len(content.split())\n",
    "print(\"Average Word per Length\",Average_Word_Length)\n",
    "#Syllable Count Per Word\n",
    "word=content.replace(' ','')\n",
    "syllable_count=0\n",
    "for w in word:\n",
    "      if(w=='a' or w=='e' or w=='i' or w=='o' or w=='y' or w=='u' or w=='A' or w=='E' or w=='I' or w=='O' or w=='U' or w=='Y'):\n",
    "            syllable_count=syllable_count+1\n",
    "print(\"The AVG number of syllables in the word is: \")\n",
    "syllable = (syllable_count/len(content.split()))\n",
    "print(syllable)\n",
    "\n",
    "data = [[url,title,content,filter_content,Positive_score,Negative_score,AVG_SENTENCE_LENGTH,pcw,FOG_INDEX,\n",
    "         AVG_NUMBER_OF_WORDS_PER_SENTENCE,COMPLEX_WORDS,Word_Count,syllable,Average_Word_Length]]\n",
    "data=pd.DataFrame(data,columns=[\"url\",\"title\",\"content\",\"filter_content\",\"Positive_Score\",\"Negative_Score\",\"Avg_Sentence_Length\"\n",
    "                               ,\"Percentage_Complex_Word\",\"Fog_Index\",\" AVG_NUMBER_OF_WORDS_PER_SENTENCE\",\"COMPLEX_WORDS\",\n",
    "                               \"Word_Count\",\"syllable\",\"Average_Word_Length\"])\n",
    "from textblob import TextBlob\n",
    "# Get The Subjectivity\n",
    "def sentiment_analysis(data):\n",
    "    sentiment = TextBlob(data[\"content\"]).sentiment\n",
    "    return pd.Series([sentiment.polarity,sentiment.subjectivity ])\n",
    "data[[\"polarity\", \"subjectivity\"]] = data.apply(sentiment_analysis, axis=1)\n",
    "data"
   ]
  },
  {
   "cell_type": "code",
   "execution_count": 4,
   "id": "a1f12767",
   "metadata": {},
   "outputs": [],
   "source": [
    "data.to_csv(r'C:\\Users\\Om Bhandwalkar\\Desktop\\BlackCoffer Assignment\\Output\\url_76.csv')"
   ]
  },
  {
   "cell_type": "code",
   "execution_count": null,
   "id": "39b8d617",
   "metadata": {},
   "outputs": [],
   "source": []
  }
 ],
 "metadata": {
  "kernelspec": {
   "display_name": "Python 3 (ipykernel)",
   "language": "python",
   "name": "python3"
  },
  "language_info": {
   "codemirror_mode": {
    "name": "ipython",
    "version": 3
   },
   "file_extension": ".py",
   "mimetype": "text/x-python",
   "name": "python",
   "nbconvert_exporter": "python",
   "pygments_lexer": "ipython3",
   "version": "3.9.12"
  }
 },
 "nbformat": 4,
 "nbformat_minor": 5
}
