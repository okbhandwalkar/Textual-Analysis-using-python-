{
 "cells": [
  {
   "cell_type": "code",
   "execution_count": 1,
   "id": "aa791a02",
   "metadata": {},
   "outputs": [
    {
     "data": {
      "text/plain": [
       "'Can You Be Great Leader Without Technical Expertise'"
      ]
     },
     "execution_count": 1,
     "metadata": {},
     "output_type": "execute_result"
    }
   ],
   "source": [
    "import requests\n",
    "import pandas as pd \n",
    "from bs4 import BeautifulSoup\n",
    "import string\n",
    "import spacy\n",
    "import re\n",
    "url = \"\"\"https://insights.blackcoffer.com/can-you-be-great-leader-without-technical-expertise/\"\"\"\n",
    "headers = {\"User-Agent\": \"Mozilla/5.0 (X11; Linux x86_64; rv:60.0) Gecko/20100101 Firefox/60.0\"}\n",
    "page = requests.get(url, headers=headers)\n",
    "soup = BeautifulSoup(page.content, 'html.parser')\n",
    "soup=BeautifulSoup(page.content, 'html.parser')\n",
    "title=soup.find('h1',class_=\"entry-title\")\n",
    "title=title.text.replace('\\n',\" \")\n",
    "title\n"
   ]
  },
  {
   "cell_type": "code",
   "execution_count": 2,
   "id": "e2ebd9c8",
   "metadata": {},
   "outputs": [
    {
     "name": "stdout",
     "output_type": "stream",
     "text": [
      " The word “leadership” can bring to mind a variety of images. For example, A political leader, pursuing a passionate, personal cause or An executive, developing his/her company’s strategy to beat the competition. Leaders help themselves and others to do the right things. They set direction, build an inspiring vision, and create something new. Leadership is about mapping out where you need to go to “win” as a team or an organization; and it is dynamic, exciting, and inspiring. In my point of view we cannot become a good leader without technical expertise because every task in the organization it’s required a lot of skills, knowledge, consistent, enthusiastic, patience, motivating, inspiring, industrious, and critical thinking on the basis of the field we are doing. A leader should have the ability to motivate self and others, effective oral and written communication, critical thinking skills at the working team and delegating a task. Good leaders do have these abilities and if we wanted to create a future leader. They need to take in a large volume of information and to take the essential elements that define the core problem to solve. They need to organize a team to solve these problems and to communicate to a group, they need to established trust with a group and use the trust to allow the team to accomplish the work more than it could be done alone. Though all these skills we have but it’s would not sufficient to make us a great leader because to excel and utilize these abilities in practice we need a lot of technical expertise in a particular domain. For example, Like in a hospital if the head of the hospital is lead by other people rather than Doctor then the hospital would become worse at a point because the person from other fields he could not lead and understand the real scenario and mechanism that the hospital is functioning and he would not understand the staff and the patient as well. Hence, to lead the hospital Doctor is deserved who knows his own field how to lead and understand the real scenario of it. That’s why being a leader requires technical expertise to have great knowledge and understanding about his own organization. Every person if they want to become a leader they should have technical expertise on their own organization so that their organization would run smoothly, hence nobody could run other organization if we do not have the technical expertise on that field. So, be a leader, not a boss which makes your life much better, as they’re a saying that “ A good objective of leadership is to help those who are doing poorly to do well and to help those who are doing well to do even better.” Blackcoffer Insights 20: Caldinus Nongrang, NIT Meghalaya \n",
      " The word “leadership” can bring to mind a variety of images For example A political leader pursuing a passionate personal cause or An executive developing hisher company’s strategy to beat the competition Leaders help themselves and others to do the right things They set direction build an inspiring vision and create something new Leadership is about mapping out where you need to go to “win” as a team or an organization and it is dynamic exciting and inspiring In my point of view we cannot become a good leader without technical expertise because every task in the organization it’s required a lot of skills knowledge consistent enthusiastic patience motivating inspiring industrious and critical thinking on the basis of the field we are doing A leader should have the ability to motivate self and others effective oral and written communication critical thinking skills at the working team and delegating a task Good leaders do have these abilities and if we wanted to create a future leader They need to take in a large volume of information and to take the essential elements that define the core problem to solve They need to organize a team to solve these problems and to communicate to a group they need to established trust with a group and use the trust to allow the team to accomplish the work more than it could be done alone Though all these skills we have but it’s would not sufficient to make us a great leader because to excel and utilize these abilities in practice we need a lot of technical expertise in a particular domain For example Like in a hospital if the head of the hospital is lead by other people rather than Doctor then the hospital would become worse at a point because the person from other fields he could not lead and understand the real scenario and mechanism that the hospital is functioning and he would not understand the staff and the patient as well Hence to lead the hospital Doctor is deserved who knows his own field how to lead and understand the real scenario of it That’s why being a leader requires technical expertise to have great knowledge and understanding about his own organization Every person if they want to become a leader they should have technical expertise on their own organization so that their organization would run smoothly hence nobody could run other organization if we do not have the technical expertise on that field So be a leader not a boss which makes your life much better as they’re a saying that “ A good objective of leadership is to help those who are doing poorly to do well and to help those who are doing well to do even better” Blackcoffer Insights 20 Caldinus Nongrang NIT Meghalaya \n",
      "['The', 'word', '“leadership”', 'can', 'bring', 'to', 'mind', 'a', 'variety', 'of', 'images', 'For', 'example', 'A', 'political', 'leader', 'pursuing', 'a', 'passionate', 'personal', 'cause', 'or', 'An', 'executive', 'developing', 'hisher', 'company’s', 'strategy', 'to', 'beat', 'the', 'competition', 'Leaders', 'help', 'themselves', 'and', 'others', 'to', 'do', 'the', 'right', 'things', 'They', 'set', 'direction', 'build', 'an', 'inspiring', 'vision', 'and', 'create', 'something', 'new', 'Leadership', 'is', 'about', 'mapping', 'out', 'where', 'you', 'need', 'to', 'go', 'to', '“win”', 'as', 'a', 'team', 'or', 'an', 'organization', 'and', 'it', 'is', 'dynamic', 'exciting', 'and', 'inspiring', 'In', 'my', 'point', 'of', 'view', 'we', 'cannot', 'become', 'a', 'good', 'leader', 'without', 'technical', 'expertise', 'because', 'every', 'task', 'in', 'the', 'organization', 'it’s', 'required', 'a', 'lot', 'of', 'skills', 'knowledge', 'consistent', 'enthusiastic', 'patience', 'motivating', 'inspiring', 'industrious', 'and', 'critical', 'thinking', 'on', 'the', 'basis', 'of', 'the', 'field', 'we', 'are', 'doing', 'A', 'leader', 'should', 'have', 'the', 'ability', 'to', 'motivate', 'self', 'and', 'others', 'effective', 'oral', 'and', 'written', 'communication', 'critical', 'thinking', 'skills', 'at', 'the', 'working', 'team', 'and', 'delegating', 'a', 'task', 'Good', 'leaders', 'do', 'have', 'these', 'abilities', 'and', 'if', 'we', 'wanted', 'to', 'create', 'a', 'future', 'leader', 'They', 'need', 'to', 'take', 'in', 'a', 'large', 'volume', 'of', 'information', 'and', 'to', 'take', 'the', 'essential', 'elements', 'that', 'define', 'the', 'core', 'problem', 'to', 'solve', 'They', 'need', 'to', 'organize', 'a', 'team', 'to', 'solve', 'these', 'problems', 'and', 'to', 'communicate', 'to', 'a', 'group', 'they', 'need', 'to', 'established', 'trust', 'with', 'a', 'group', 'and', 'use', 'the', 'trust', 'to', 'allow', 'the', 'team', 'to', 'accomplish', 'the', 'work', 'more', 'than', 'it', 'could', 'be', 'done', 'alone', 'Though', 'all', 'these', 'skills', 'we', 'have', 'but', 'it’s', 'would', 'not', 'sufficient', 'to', 'make', 'us', 'a', 'great', 'leader', 'because', 'to', 'excel', 'and', 'utilize', 'these', 'abilities', 'in', 'practice', 'we', 'need', 'a', 'lot', 'of', 'technical', 'expertise', 'in', 'a', 'particular', 'domain', 'For', 'example', 'Like', 'in', 'a', 'hospital', 'if', 'the', 'head', 'of', 'the', 'hospital', 'is', 'lead', 'by', 'other', 'people', 'rather', 'than', 'Doctor', 'then', 'the', 'hospital', 'would', 'become', 'worse', 'at', 'a', 'point', 'because', 'the', 'person', 'from', 'other', 'fields', 'he', 'could', 'not', 'lead', 'and', 'understand', 'the', 'real', 'scenario', 'and', 'mechanism', 'that', 'the', 'hospital', 'is', 'functioning', 'and', 'he', 'would', 'not', 'understand', 'the', 'staff', 'and', 'the', 'patient', 'as', 'well', 'Hence', 'to', 'lead', 'the', 'hospital', 'Doctor', 'is', 'deserved', 'who', 'knows', 'his', 'own', 'field', 'how', 'to', 'lead', 'and', 'understand', 'the', 'real', 'scenario', 'of', 'it', 'That’s', 'why', 'being', 'a', 'leader', 'requires', 'technical', 'expertise', 'to', 'have', 'great', 'knowledge', 'and', 'understanding', 'about', 'his', 'own', 'organization', 'Every', 'person', 'if', 'they', 'want', 'to', 'become', 'a', 'leader', 'they', 'should', 'have', 'technical', 'expertise', 'on', 'their', 'own', 'organization', 'so', 'that', 'their', 'organization', 'would', 'run', 'smoothly', 'hence', 'nobody', 'could', 'run', 'other', 'organization', 'if', 'we', 'do', 'not', 'have', 'the', 'technical', 'expertise', 'on', 'that', 'field', 'So', 'be', 'a', 'leader', 'not', 'a', 'boss', 'which', 'makes', 'your', 'life', 'much', 'better', 'as', 'they’re', 'a', 'saying', 'that', '“', 'A', 'good', 'objective', 'of', 'leadership', 'is', 'to', 'help', 'those', 'who', 'are', 'doing', 'poorly', 'to', 'do', 'well', 'and', 'to', 'help', 'those', 'who', 'are', 'doing', 'well', 'to', 'do', 'even', 'better”', 'Blackcoffer', 'Insights', '20', 'Caldinus', 'Nongrang', 'NIT', 'Meghalaya']\n"
     ]
    }
   ],
   "source": [
    "content=soup.findAll(attrs={'class':'td-post-content'})\n",
    "content=content[0].text.replace('\\n',\" \")\n",
    "print(content)\n",
    "#Punctuation\n",
    "content = content.translate(str.maketrans('', '', string.punctuation)) \n",
    "print(content)\n",
    "text = content.split()\n",
    "print(text)\n"
   ]
  },
  {
   "cell_type": "code",
   "execution_count": 3,
   "id": "221e1548",
   "metadata": {},
   "outputs": [
    {
     "data": {
      "text/plain": [
       "468"
      ]
     },
     "execution_count": 3,
     "metadata": {},
     "output_type": "execute_result"
    }
   ],
   "source": [
    "len(text)"
   ]
  },
  {
   "cell_type": "code",
   "execution_count": 4,
   "id": "0cc7b5da",
   "metadata": {},
   "outputs": [
    {
     "name": "stdout",
     "output_type": "stream",
     "text": [
      "33\n"
     ]
    }
   ],
   "source": [
    "#Positive Score \n",
    "with open(r\"C:\\Users\\Om Bhandwalkar\\Desktop\\pos\\positive-words.txt\") as pos:\n",
    "    poswords = pos.read().split(\"\\n\")  \n",
    "    poswords = poswords[5:]\n",
    "pos_count = \" \".join ([w for w in text if w in poswords])\n",
    "pos_count=pos_count.split(\" \")\n",
    "Positive_score=len(pos_count)\n",
    "print(Positive_score)"
   ]
  },
  {
   "cell_type": "code",
   "execution_count": 5,
   "id": "070510b1",
   "metadata": {},
   "outputs": [
    {
     "name": "stdout",
     "output_type": "stream",
     "text": [
      "6\n"
     ]
    }
   ],
   "source": [
    "#Negative Score\n",
    "with open(r\"C:\\Users\\Om Bhandwalkar\\Desktop\\pos\\negative-words.txt\",encoding =\"ISO-8859-1\") as neg:\n",
    "    negwords = neg.read().split(\"\\n\")\n",
    "    \n",
    "negwords = negwords[36:]\n",
    "neg_count = \" \".join ([w for w in text if w in negwords])\n",
    "neg_count=neg_count.split(\" \")\n",
    "Negative_score=len(neg_count)\n",
    "print(Negative_score)"
   ]
  },
  {
   "cell_type": "code",
   "execution_count": 6,
   "id": "2570de8c",
   "metadata": {},
   "outputs": [
    {
     "data": {
      "text/html": [
       "<div>\n",
       "<style scoped>\n",
       "    .dataframe tbody tr th:only-of-type {\n",
       "        vertical-align: middle;\n",
       "    }\n",
       "\n",
       "    .dataframe tbody tr th {\n",
       "        vertical-align: top;\n",
       "    }\n",
       "\n",
       "    .dataframe thead th {\n",
       "        text-align: right;\n",
       "    }\n",
       "</style>\n",
       "<table border=\"1\" class=\"dataframe\">\n",
       "  <thead>\n",
       "    <tr style=\"text-align: right;\">\n",
       "      <th></th>\n",
       "      <th>url</th>\n",
       "      <th>title</th>\n",
       "      <th>content</th>\n",
       "      <th>filter_content</th>\n",
       "      <th>Positive_Score</th>\n",
       "      <th>Negative_Score</th>\n",
       "      <th>polarity</th>\n",
       "      <th>subjectivity</th>\n",
       "    </tr>\n",
       "  </thead>\n",
       "  <tbody>\n",
       "    <tr>\n",
       "      <th>0</th>\n",
       "      <td>https://insights.blackcoffer.com/can-you-be-gr...</td>\n",
       "      <td>Can You Be Great Leader Without Technical Expe...</td>\n",
       "      <td>The word “leadership” can bring to mind a var...</td>\n",
       "      <td>The word “leadership” can bring to mind a vari...</td>\n",
       "      <td>33</td>\n",
       "      <td>6</td>\n",
       "      <td>0.253956</td>\n",
       "      <td>0.514863</td>\n",
       "    </tr>\n",
       "  </tbody>\n",
       "</table>\n",
       "</div>"
      ],
      "text/plain": [
       "                                                 url  \\\n",
       "0  https://insights.blackcoffer.com/can-you-be-gr...   \n",
       "\n",
       "                                               title  \\\n",
       "0  Can You Be Great Leader Without Technical Expe...   \n",
       "\n",
       "                                             content  \\\n",
       "0   The word “leadership” can bring to mind a var...   \n",
       "\n",
       "                                      filter_content  Positive_Score  \\\n",
       "0  The word “leadership” can bring to mind a vari...              33   \n",
       "\n",
       "   Negative_Score  polarity  subjectivity  \n",
       "0               6  0.253956      0.514863  "
      ]
     },
     "execution_count": 6,
     "metadata": {},
     "output_type": "execute_result"
    }
   ],
   "source": [
    "filter_content = ' '.join(text)\n",
    "data=[[url,title,content,filter_content,Positive_score,Negative_score]]\n",
    "data=pd.DataFrame(data,columns=[\"url\",\"title\",\"content\",\"filter_content\",\"Positive_Score\",\"Negative_Score\"])\n",
    "from textblob import TextBlob\n",
    "# Get The Subjectivity\n",
    "def sentiment_analysis(data):\n",
    "    sentiment = TextBlob(data[\"content\"]).sentiment\n",
    "    return pd.Series([sentiment.polarity,sentiment.subjectivity ])\n",
    "\n",
    "# Adding Subjectivity & Polarity\n",
    "data[[\"polarity\", \"subjectivity\"]] = data.apply(sentiment_analysis, axis=1)\n",
    "\n",
    "data"
   ]
  },
  {
   "cell_type": "code",
   "execution_count": 7,
   "id": "88a7bfdd",
   "metadata": {},
   "outputs": [
    {
     "name": "stdout",
     "output_type": "stream",
     "text": [
      "Word average = 2202.0\n",
      "FOG INDEX =  190.48\n",
      "Average no of words per sentence\n",
      "468.0\n",
      "Complex Words 791\n"
     ]
    }
   ],
   "source": [
    "#AVG SENTENCE LENGTH\n",
    "AVG_SENTENCE_LENGTH = len(content.replace(' ',''))/len(re.split(r'[?!.]', content))\n",
    "print('Word average =', AVG_SENTENCE_LENGTH)\n",
    "import textstat\n",
    "#Fog index \n",
    "FOG_INDEX=(textstat.gunning_fog(content))\n",
    "print(\"FOG INDEX = \",FOG_INDEX)\n",
    "#Average No of Words Per Sentence \n",
    "AVG_NUMBER_OF_WORDS_PER_SENTENCE = [len(l.split()) for l in re.split(r'[?!.]', content) if l.strip()]\n",
    "print(\"Average no of words per sentence\")\n",
    "AVG_NUMBER_OF_WORDS_PER_SENTENCE=print(sum(AVG_NUMBER_OF_WORDS_PER_SENTENCE)/len(AVG_NUMBER_OF_WORDS_PER_SENTENCE))\n",
    "#Complex words\n",
    "def syllable_count(word):\n",
    "    count = 0\n",
    "    vowels = \"AEIOUYaeiouy\"\n",
    "    if word[0] in vowels:\n",
    "        count += 1\n",
    "    for index in range(1, len(word)): \n",
    "        if word[index] in vowels and word[index - 1] not in vowels:\n",
    "            count += 1\n",
    "            if word.endswith(\"es\"or \"ed\"):\n",
    "                count -= 1\n",
    "    if count == 0:\n",
    "        count += 1\n",
    "    return count\n",
    "\n",
    "\n",
    "\n",
    "COMPLEX_WORDS=syllable_count(content)\n",
    "print(\"Complex Words\",COMPLEX_WORDS)\n"
   ]
  },
  {
   "cell_type": "code",
   "execution_count": 8,
   "id": "a76378fc",
   "metadata": {},
   "outputs": [
    {
     "name": "stdout",
     "output_type": "stream",
     "text": [
      "Word Count 2671\n",
      "Percentage of Complex Words 29.614376637963307\n",
      "Average Word per Length 4.705128205128205\n",
      "The AVG number of syllables in the word is: \n",
      "1.9423076923076923\n"
     ]
    }
   ],
   "source": [
    "#Word Count\n",
    "Word_Count=len(content)\n",
    "print(\"Word Count\",Word_Count)\n",
    "#Percentage Complex Words\n",
    "pcw=(COMPLEX_WORDS/Word_Count)*100\n",
    "print(\"Percentage of Complex Words\",pcw)\n",
    "#Average Word Length\n",
    "Average_Word_Length=len(content.replace(' ',''))/len(content.split())\n",
    "print(\"Average Word per Length\",Average_Word_Length)\n",
    "#Syllable Count Per Word\n",
    "word=content.replace(' ','')\n",
    "syllable_count=0\n",
    "for w in word:\n",
    "      if(w=='a' or w=='e' or w=='i' or w=='o' or w=='y' or w=='u' or w=='A' or w=='E' or w=='I' or w=='O' or w=='U' or w=='Y'):\n",
    "            syllable_count=syllable_count+1\n",
    "print(\"The AVG number of syllables in the word is: \")\n",
    "print(syllable_count/len(content.split()))"
   ]
  },
  {
   "cell_type": "code",
   "execution_count": 1,
   "id": "980e4f89",
   "metadata": {},
   "outputs": [
    {
     "name": "stdout",
     "output_type": "stream",
     "text": [
      "33\n",
      "6\n",
      "Word average = 2202.0\n",
      "FOG INDEX =  190.48\n",
      "Average no of words per sentence\n",
      "468.0\n",
      "Complex Words 791\n",
      "Word Count 2671\n",
      "Percentage of Complex Words 29.614376637963307\n",
      "Average Word per Length 4.705128205128205\n",
      "The AVG number of syllables in the word is: \n",
      "1.9423076923076923\n"
     ]
    },
    {
     "data": {
      "text/html": [
       "<div>\n",
       "<style scoped>\n",
       "    .dataframe tbody tr th:only-of-type {\n",
       "        vertical-align: middle;\n",
       "    }\n",
       "\n",
       "    .dataframe tbody tr th {\n",
       "        vertical-align: top;\n",
       "    }\n",
       "\n",
       "    .dataframe thead th {\n",
       "        text-align: right;\n",
       "    }\n",
       "</style>\n",
       "<table border=\"1\" class=\"dataframe\">\n",
       "  <thead>\n",
       "    <tr style=\"text-align: right;\">\n",
       "      <th></th>\n",
       "      <th>url</th>\n",
       "      <th>title</th>\n",
       "      <th>content</th>\n",
       "      <th>filter_content</th>\n",
       "      <th>Positive_Score</th>\n",
       "      <th>Negative_Score</th>\n",
       "      <th>Avg_Sentence_Length</th>\n",
       "      <th>Percentage_Complex_Word</th>\n",
       "      <th>Fog_Index</th>\n",
       "      <th>AVG_NUMBER_OF_WORDS_PER_SENTENCE</th>\n",
       "      <th>COMPLEX_WORDS</th>\n",
       "      <th>Word_Count</th>\n",
       "      <th>syllable</th>\n",
       "      <th>Average_Word_Length</th>\n",
       "      <th>polarity</th>\n",
       "      <th>subjectivity</th>\n",
       "    </tr>\n",
       "  </thead>\n",
       "  <tbody>\n",
       "    <tr>\n",
       "      <th>0</th>\n",
       "      <td>https://insights.blackcoffer.com/can-you-be-gr...</td>\n",
       "      <td>Can You Be Great Leader Without Technical Expe...</td>\n",
       "      <td>The word “leadership” can bring to mind a var...</td>\n",
       "      <td>The word “leadership” can bring to mind a vari...</td>\n",
       "      <td>33</td>\n",
       "      <td>6</td>\n",
       "      <td>2202.0</td>\n",
       "      <td>29.614377</td>\n",
       "      <td>190.48</td>\n",
       "      <td>468.0</td>\n",
       "      <td>791</td>\n",
       "      <td>2671</td>\n",
       "      <td>1.942308</td>\n",
       "      <td>4.705128</td>\n",
       "      <td>0.253956</td>\n",
       "      <td>0.514863</td>\n",
       "    </tr>\n",
       "  </tbody>\n",
       "</table>\n",
       "</div>"
      ],
      "text/plain": [
       "                                                 url  \\\n",
       "0  https://insights.blackcoffer.com/can-you-be-gr...   \n",
       "\n",
       "                                               title  \\\n",
       "0  Can You Be Great Leader Without Technical Expe...   \n",
       "\n",
       "                                             content  \\\n",
       "0   The word “leadership” can bring to mind a var...   \n",
       "\n",
       "                                      filter_content  Positive_Score  \\\n",
       "0  The word “leadership” can bring to mind a vari...              33   \n",
       "\n",
       "   Negative_Score  Avg_Sentence_Length  Percentage_Complex_Word  Fog_Index  \\\n",
       "0               6               2202.0                29.614377     190.48   \n",
       "\n",
       "    AVG_NUMBER_OF_WORDS_PER_SENTENCE  COMPLEX_WORDS  Word_Count  syllable  \\\n",
       "0                              468.0            791        2671  1.942308   \n",
       "\n",
       "   Average_Word_Length  polarity  subjectivity  \n",
       "0             4.705128  0.253956      0.514863  "
      ]
     },
     "execution_count": 1,
     "metadata": {},
     "output_type": "execute_result"
    }
   ],
   "source": [
    "import requests\n",
    "import pandas as pd \n",
    "from bs4 import BeautifulSoup\n",
    "import string\n",
    "import spacy\n",
    "import re\n",
    "url = \"\"\"https://insights.blackcoffer.com/can-you-be-great-leader-without-technical-expertise/\"\"\"\n",
    "headers = {\"User-Agent\": \"Mozilla/5.0 (X11; Linux x86_64; rv:60.0) Gecko/20100101 Firefox/60.0\"}\n",
    "page = requests.get(url, headers=headers)\n",
    "soup = BeautifulSoup(page.content, 'html.parser')\n",
    "soup=BeautifulSoup(page.content, 'html.parser')\n",
    "title=soup.find('h1',class_=\"entry-title\")\n",
    "title=title.text.replace('\\n',\" \")\n",
    "# title\n",
    "\n",
    "content=soup.findAll(attrs={'class':'td-post-content'})\n",
    "content=content[0].text.replace('\\n',\" \")\n",
    "# print(content)\n",
    "#Punctuation\n",
    "content = content.translate(str.maketrans('', '', string.punctuation)) \n",
    "# print(content)\n",
    "text = content.split()\n",
    "# print(text)\n",
    "len(text)\n",
    "#Positive Score \n",
    "with open(r\"C:\\Users\\Om Bhandwalkar\\Desktop\\pos\\positive-words.txt\") as pos:\n",
    "    poswords = pos.read().split(\"\\n\")  \n",
    "    poswords = poswords[5:]\n",
    "pos_count = \" \".join ([w for w in text if w in poswords])\n",
    "pos_count=pos_count.split(\" \")\n",
    "Positive_score=len(pos_count)\n",
    "print(Positive_score)\n",
    "\n",
    "#Negative Score\n",
    "with open(r\"C:\\Users\\Om Bhandwalkar\\Desktop\\pos\\negative-words.txt\",encoding =\"ISO-8859-1\") as neg:\n",
    "    negwords = neg.read().split(\"\\n\")\n",
    "    \n",
    "negwords = negwords[36:]\n",
    "neg_count = \" \".join ([w for w in text if w in negwords])\n",
    "neg_count=neg_count.split(\" \")\n",
    "Negative_score=len(neg_count)\n",
    "print(Negative_score)\n",
    "\n",
    "\n",
    "filter_content = ' '.join(text)\n",
    "data=[[url,title,content,filter_content,Positive_score,Negative_score]]\n",
    "data=pd.DataFrame(data,columns=[\"url\",\"title\",\"content\",\"filter_content\",\"Positive_Score\",\"Negative_Score\"])\n",
    "from textblob import TextBlob\n",
    "# Get The Subjectivity\n",
    "def sentiment_analysis(data):\n",
    "    sentiment = TextBlob(data[\"content\"]).sentiment\n",
    "    return pd.Series([sentiment.polarity,sentiment.subjectivity ])\n",
    "data[[\"polarity\", \"subjectivity\"]] = data.apply(sentiment_analysis, axis=1)\n",
    "data\n",
    "#AVG SENTENCE LENGTH\n",
    "AVG_SENTENCE_LENGTH = len(content.replace(' ',''))/len(re.split(r'[?!.]', content))\n",
    "print('Word average =', AVG_SENTENCE_LENGTH)\n",
    "import textstat\n",
    "#Fog index \n",
    "FOG_INDEX=(textstat.gunning_fog(content))\n",
    "print(\"FOG INDEX = \",FOG_INDEX)\n",
    "#Average No of Words Per Sentence \n",
    "AVG_NUMBER_OF_WORDS_PER_SENTENCE = [len(l.split()) for l in re.split(r'[?!.]', content) if l.strip()]\n",
    "print(\"Average no of words per sentence\")\n",
    "AVG_NUMBER_OF_WORDS_PER_SENTENCE=(sum(AVG_NUMBER_OF_WORDS_PER_SENTENCE)/len(AVG_NUMBER_OF_WORDS_PER_SENTENCE))\n",
    "print(AVG_NUMBER_OF_WORDS_PER_SENTENCE)\n",
    "#Complex words\n",
    "def syllable_count(word):\n",
    "    count = 0\n",
    "    vowels = \"AEIOUYaeiouy\"\n",
    "    if word[0] in vowels:\n",
    "        count += 1\n",
    "    for index in range(1, len(word)): \n",
    "        if word[index] in vowels and word[index - 1] not in vowels:\n",
    "            count += 1\n",
    "            if word.endswith(\"es\"or \"ed\"):\n",
    "                count -= 1\n",
    "    if count == 0:\n",
    "        count += 1\n",
    "    return count\n",
    "\n",
    "\n",
    "\n",
    "COMPLEX_WORDS=syllable_count(content)\n",
    "print(\"Complex Words\",COMPLEX_WORDS)\n",
    "#Word Count\n",
    "Word_Count=len(content)\n",
    "print(\"Word Count\",Word_Count)\n",
    "#Percentage Complex Words\n",
    "pcw=(COMPLEX_WORDS/Word_Count)*100\n",
    "print(\"Percentage of Complex Words\",pcw)\n",
    "#Average Word Length\n",
    "Average_Word_Length=len(content.replace(' ',''))/len(content.split())\n",
    "print(\"Average Word per Length\",Average_Word_Length)\n",
    "#Syllable Count Per Word\n",
    "word=content.replace(' ','')\n",
    "syllable_count=0\n",
    "for w in word:\n",
    "      if(w=='a' or w=='e' or w=='i' or w=='o' or w=='y' or w=='u' or w=='A' or w=='E' or w=='I' or w=='O' or w=='U' or w=='Y'):\n",
    "            syllable_count=syllable_count+1\n",
    "print(\"The AVG number of syllables in the word is: \")\n",
    "syllable = (syllable_count/len(content.split()))\n",
    "print(syllable)\n",
    "\n",
    "data = [[url,title,content,filter_content,Positive_score,Negative_score,AVG_SENTENCE_LENGTH,pcw,FOG_INDEX,\n",
    "         AVG_NUMBER_OF_WORDS_PER_SENTENCE,COMPLEX_WORDS,Word_Count,syllable,Average_Word_Length]]\n",
    "data=pd.DataFrame(data,columns=[\"url\",\"title\",\"content\",\"filter_content\",\"Positive_Score\",\"Negative_Score\",\"Avg_Sentence_Length\"\n",
    "                               ,\"Percentage_Complex_Word\",\"Fog_Index\",\" AVG_NUMBER_OF_WORDS_PER_SENTENCE\",\"COMPLEX_WORDS\",\n",
    "                               \"Word_Count\",\"syllable\",\"Average_Word_Length\"])\n",
    "from textblob import TextBlob\n",
    "# Get The Subjectivity\n",
    "def sentiment_analysis(data):\n",
    "    sentiment = TextBlob(data[\"content\"]).sentiment\n",
    "    return pd.Series([sentiment.polarity,sentiment.subjectivity ])\n",
    "data[[\"polarity\", \"subjectivity\"]] = data.apply(sentiment_analysis, axis=1)\n",
    "data"
   ]
  },
  {
   "cell_type": "code",
   "execution_count": 2,
   "id": "d7729276",
   "metadata": {},
   "outputs": [],
   "source": [
    "data.to_csv(r'C:\\Users\\Om Bhandwalkar\\Desktop\\BlackCoffer Assignment\\Output\\url_77.csv')"
   ]
  },
  {
   "cell_type": "code",
   "execution_count": null,
   "id": "3e4bf2d4",
   "metadata": {},
   "outputs": [],
   "source": []
  },
  {
   "cell_type": "code",
   "execution_count": null,
   "id": "f4a1da25",
   "metadata": {},
   "outputs": [],
   "source": []
  }
 ],
 "metadata": {
  "kernelspec": {
   "display_name": "Python 3 (ipykernel)",
   "language": "python",
   "name": "python3"
  },
  "language_info": {
   "codemirror_mode": {
    "name": "ipython",
    "version": 3
   },
   "file_extension": ".py",
   "mimetype": "text/x-python",
   "name": "python",
   "nbconvert_exporter": "python",
   "pygments_lexer": "ipython3",
   "version": "3.9.12"
  }
 },
 "nbformat": 4,
 "nbformat_minor": 5
}
