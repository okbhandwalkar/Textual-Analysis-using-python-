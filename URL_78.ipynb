{
 "cells": [
  {
   "cell_type": "code",
   "execution_count": 1,
   "id": "9625623a",
   "metadata": {},
   "outputs": [
    {
     "data": {
      "text/plain": [
       "'How does artificial intelligence affect the environment'"
      ]
     },
     "execution_count": 1,
     "metadata": {},
     "output_type": "execute_result"
    }
   ],
   "source": [
    "import requests\n",
    "import pandas as pd \n",
    "from bs4 import BeautifulSoup\n",
    "import string\n",
    "import spacy\n",
    "import re\n",
    "url = \"\"\"https://insights.blackcoffer.com/how-does-artificial-intelligence-affect-the-environment/\"\"\"\n",
    "headers = {\"User-Agent\": \"Mozilla/5.0 (X11; Linux x86_64; rv:60.0) Gecko/20100101 Firefox/60.0\"}\n",
    "page = requests.get(url, headers=headers)\n",
    "soup = BeautifulSoup(page.content, 'html.parser')\n",
    "soup=BeautifulSoup(page.content, 'html.parser')\n",
    "title=soup.find('h1',class_=\"entry-title\")\n",
    "title=title.text.replace('\\n',\" \")\n",
    "title\n"
   ]
  },
  {
   "cell_type": "code",
   "execution_count": 2,
   "id": "aa1ca6dd",
   "metadata": {},
   "outputs": [
    {
     "name": "stdout",
     "output_type": "stream",
     "text": [
      " When we talk about AI, different people have different perspectives about it. There is one group of people, having good knowledge about the real potential of AI, who believe that AI can be a novel solution to many problems that the world is facing today. There is another group of people who are merely threatened by the thought of AI taking over the world. The field of AI took birth when Alan Turing in 1950 had this thought “Can machines think?”. Later in the 1980s, with the adoption of “expert systems” by the companies around the world, the booming of the field of AI was initiated. Initially, it was a matter of awe for everyone to see the results of what AI can achieve. AI’s growth in the past few decades has been exponential and it has transformed the way we live, work and solve challenges. AI has made its impact in a wide variety of areas including healthcare, education, business and many more. But, one of the areas of highest impact that AI has made recently is in the environment and climate change. Is AI Revolutionizing the way we deal with Environment and Climate Change? AI can strengthen climate predictions, enable smarter decision-making for decarbonising industries from building to transport, and work out how to allocate renewable energy. In recent years, AI has been a game-changer in how many people, as well as organizations, deal with climate change. Microsoft believes that artificial intelligence, often encompassing machine learning and deep learning, is a “game-changer” for climate change and environmental issues. The company’s ‘AI for Earth’ program has committed $50 million over five years to create and test new applications for AI. AI is increasingly used to manage the intermittency of renewable energy so that more can be incorporated into the grid; it can handle power fluctuations and improve energy storage as well. Wind companies are using AI to get each turbine’s propeller to produce more electricity per rotation by incorporating real-time weather and operational data. AI can also improve energy efficiency on the city scale by incorporating data from smart meters and the Internet of Things (the internet of computing devices that are embedded in everyday objects, enabling them to send and receive data) to forecast energy demand. Besides, artificial intelligence systems can simulate potential zoning laws, building ordinances, and flood plains to help with urban planning and disaster preparedness. One vision for a sustainable city is to create an “urban dashboard” consisting of real-time data on energy and water use and availability, traffic and weather to make cities more energy-efficient and livable. Hotter temperatures will have significant impacts on agriculture as well. Data from sensors in the field that monitor crop moisture, soil composition and temperature help AI improve production and know when crops need watering. Incorporating this information with that from drones, which are also used to monitor conditions, can help increasingly automatic AI systems know the best times to plant, spray and harvest crops, and when to head off diseases and other problems. This will result in increased efficiency, enhanced yields, and lower use of water, fertilizer and pesticides. But, is AI as good as it looks or does it have a downside? When we talk about the effect of AI in the environment and climate, both sides of the coin must be elucidated. So, apart from all the positives discussed above, the usage of AI also has a downside. Last year’s World Economic Forum report showed that while AI can address some of Earth’s environmental challenges, it is important to manage it properly. According to the forum and experts in the field, AI has the potential to accelerate environmental degradation. The use of power-intensive GPUs to run machine learning training has already been cited as contributing to increased C02 emissions. Although AI has been around for about half a century, the question of environmental impact – and other ethical issues – is only arising now because the techniques developed over decades can now be used in combination with an explosion in data and strong computational power. For all the advances enabled by artificial intelligence, from speech recognition to self-driving cars, AI systems consume a lot of power and can generate high volumes of climate-changing carbon emissions. A study last year found that training an off-the-shelf AI language-processing system produced 1,400 pounds of emissions – about the amount produced by flying one person roundtrip between New York and San Francisco. But there are ways to make machine learning cleaner and greener, a movement that has been called “Green AI.” Some algorithms are less power-hungry than others, for example, and many training sessions can be moved to remote locations that get most of their power from renewable sources. The key, however, is for AI developers and companies to know how much their machine learning experiments are spewing and how much those volumes could be reduced. What can be done? To prevent this, the proposition by the World Economic Forum report is that advancements in “safe” AI should be pursued, to ensure that humanity is not developing AI that is harmful to the environment. Specifically, the World Economic Forum said in its report that AI developers “must incorporate the health of the natural environment as a fundamental dimension.” This means safeguarding against models that will demand the consumption of energy or natural resources beyond what is sustainable, among other factors. In a sense, all programs need to be designed with the dimension of environmental protection and improvement in mind. In the future development of AI programs, it will also be important to note the environmental impact of creating these systems in the first place. According to an academic study on energy usage for deep learning processes, the creation of an effective AI might be costly to the environment. Nearly 300,000 kilograms of carbon dioxide equivalent emissions are created during the process of training a single model. This is basically equal to the emissions of five average cars in the United States. Considering the negative environmental impact in addition to the positive implications of AI and climate change will be crucial, moving forward. There is always room for improvement, some pioneers of machine learning recently published a paper called Tackling Climate Change with Machine Learning was discussed at a major AI conference. David Rolnick, a postdoctoral fellow of the University of Pennsylvania said “call to arms” which means to bring researchers together. This paper covers thirteen areas of research where machine learning can be used, including energy production, CO2 removal, education, solar geoengineering, finance and many more. The main idea is to build more energy-efficient buildings, creating new low-carbon materials, high tech monitoring of deforestation and greener transportation sources. Artificial intelligence and machine learning can be a medium but the real work is to be done by us as a caretaker of mother earth. How about better forecasting of climate change?  The kick start was already done by climate informatics in 2011 which regulates the collaboration of data science and climate science. It covers a wide range of topics like improving prediction of extreme events such as hurricanes, paleoclimatology, collecting data from ice cores, climate up-down scaling and its impact on us. “There’s a lot of uncertainty,” Monteleoni Claire Monteleoni, a computer science professor at the University of Colorado concludes that AI/ ML models generally forecast for the short-term. There is a significant difference when it comes to long-term forecasting. The first system was developed at Princeton in the 1960s. All the AI/ ML models developed till now revolve around atmosphere, oceans, land, cryosphere or ice. AI can help to achieve new heights with the amount of data collected at this point of time, and compute more complex climate conditions using climate modeling algorithms. What about showing the effects of extreme weather? We all know that climate change is real and the rise in atmospheric temperature the proof, but to make it more realistic, Montreal Institute of Learning Algorithms (MILA), Microsoft and ConscientAI Labs uses Generative Adversarial Networks popularly know as GANs to simulate what mother earth will look like with the rising sea levels, atmospheric temperature, air pollution and intensive storms. “Our goal is not to convince people climate change is real, it’s to get people who do believe it is real to do more about that,” said Victor Schmidt, a co-author of the paper and Ph.D. candidate at MILA The project is deployed for the people to look at what their places will look like in the future when there will be a significant climate change. Can we track carbon emissions? Short answer, yes. Tracking of carbon emission is one of the agendas of the UN. For this year 2020, the UN’s goal is to prevent new coal plants from being built. Satellite images come into picture using deep learning techniques, data science researchers can analyze these high quality satellite images and track the emission. Google is expanding its horizon of nonprofit’s satellite imagery, including gas-powered plants emissions which can be used by researchers to track the pollution. There are countries organizations which govern CO2 emission on the ground level but these data are unreachable by global monitoring associations. AI can automate the analysis of images of power plants to get regular updates on emissions. It also introduces new ways to measure a plant’s impact, by crunching numbers of nearby infrastructure and electricity use. That’s beneficial for gas-powered plants that don’t have the easy-to-measure plumes that coal-powered plants have. Blackcoffer Insights 19: Shivendra Agarwal & Teena Mary (CHRIST University, Bangalore) \n",
      " When we talk about AI different people have different perspectives about it There is one group of people having good knowledge about the real potential of AI who believe that AI can be a novel solution to many problems that the world is facing today There is another group of people who are merely threatened by the thought of AI taking over the world The field of AI took birth when Alan Turing in 1950 had this thought “Can machines think” Later in the 1980s with the adoption of “expert systems” by the companies around the world the booming of the field of AI was initiated Initially it was a matter of awe for everyone to see the results of what AI can achieve AI’s growth in the past few decades has been exponential and it has transformed the way we live work and solve challenges AI has made its impact in a wide variety of areas including healthcare education business and many more But one of the areas of highest impact that AI has made recently is in the environment and climate change Is AI Revolutionizing the way we deal with Environment and Climate Change AI can strengthen climate predictions enable smarter decisionmaking for decarbonising industries from building to transport and work out how to allocate renewable energy In recent years AI has been a gamechanger in how many people as well as organizations deal with climate change Microsoft believes that artificial intelligence often encompassing machine learning and deep learning is a “gamechanger” for climate change and environmental issues The company’s ‘AI for Earth’ program has committed 50 million over five years to create and test new applications for AI AI is increasingly used to manage the intermittency of renewable energy so that more can be incorporated into the grid it can handle power fluctuations and improve energy storage as well Wind companies are using AI to get each turbine’s propeller to produce more electricity per rotation by incorporating realtime weather and operational data AI can also improve energy efficiency on the city scale by incorporating data from smart meters and the Internet of Things the internet of computing devices that are embedded in everyday objects enabling them to send and receive data to forecast energy demand Besides artificial intelligence systems can simulate potential zoning laws building ordinances and flood plains to help with urban planning and disaster preparedness One vision for a sustainable city is to create an “urban dashboard” consisting of realtime data on energy and water use and availability traffic and weather to make cities more energyefficient and livable Hotter temperatures will have significant impacts on agriculture as well Data from sensors in the field that monitor crop moisture soil composition and temperature help AI improve production and know when crops need watering Incorporating this information with that from drones which are also used to monitor conditions can help increasingly automatic AI systems know the best times to plant spray and harvest crops and when to head off diseases and other problems This will result in increased efficiency enhanced yields and lower use of water fertilizer and pesticides But is AI as good as it looks or does it have a downside When we talk about the effect of AI in the environment and climate both sides of the coin must be elucidated So apart from all the positives discussed above the usage of AI also has a downside Last year’s World Economic Forum report showed that while AI can address some of Earth’s environmental challenges it is important to manage it properly According to the forum and experts in the field AI has the potential to accelerate environmental degradation The use of powerintensive GPUs to run machine learning training has already been cited as contributing to increased C02 emissions Although AI has been around for about half a century the question of environmental impact – and other ethical issues – is only arising now because the techniques developed over decades can now be used in combination with an explosion in data and strong computational power For all the advances enabled by artificial intelligence from speech recognition to selfdriving cars AI systems consume a lot of power and can generate high volumes of climatechanging carbon emissions A study last year found that training an offtheshelf AI languageprocessing system produced 1400 pounds of emissions – about the amount produced by flying one person roundtrip between New York and San Francisco But there are ways to make machine learning cleaner and greener a movement that has been called “Green AI” Some algorithms are less powerhungry than others for example and many training sessions can be moved to remote locations that get most of their power from renewable sources The key however is for AI developers and companies to know how much their machine learning experiments are spewing and how much those volumes could be reduced What can be done To prevent this the proposition by the World Economic Forum report is that advancements in “safe” AI should be pursued to ensure that humanity is not developing AI that is harmful to the environment Specifically the World Economic Forum said in its report that AI developers “must incorporate the health of the natural environment as a fundamental dimension” This means safeguarding against models that will demand the consumption of energy or natural resources beyond what is sustainable among other factors In a sense all programs need to be designed with the dimension of environmental protection and improvement in mind In the future development of AI programs it will also be important to note the environmental impact of creating these systems in the first place According to an academic study on energy usage for deep learning processes the creation of an effective AI might be costly to the environment Nearly 300000 kilograms of carbon dioxide equivalent emissions are created during the process of training a single model This is basically equal to the emissions of five average cars in the United States Considering the negative environmental impact in addition to the positive implications of AI and climate change will be crucial moving forward There is always room for improvement some pioneers of machine learning recently published a paper called Tackling Climate Change with Machine Learning was discussed at a major AI conference David Rolnick a postdoctoral fellow of the University of Pennsylvania said “call to arms” which means to bring researchers together This paper covers thirteen areas of research where machine learning can be used including energy production CO2 removal education solar geoengineering finance and many more The main idea is to build more energyefficient buildings creating new lowcarbon materials high tech monitoring of deforestation and greener transportation sources Artificial intelligence and machine learning can be a medium but the real work is to be done by us as a caretaker of mother earth How about better forecasting of climate change  The kick start was already done by climate informatics in 2011 which regulates the collaboration of data science and climate science It covers a wide range of topics like improving prediction of extreme events such as hurricanes paleoclimatology collecting data from ice cores climate updown scaling and its impact on us “There’s a lot of uncertainty” Monteleoni Claire Monteleoni a computer science professor at the University of Colorado concludes that AI ML models generally forecast for the shortterm There is a significant difference when it comes to longterm forecasting The first system was developed at Princeton in the 1960s All the AI ML models developed till now revolve around atmosphere oceans land cryosphere or ice AI can help to achieve new heights with the amount of data collected at this point of time and compute more complex climate conditions using climate modeling algorithms What about showing the effects of extreme weather We all know that climate change is real and the rise in atmospheric temperature the proof but to make it more realistic Montreal Institute of Learning Algorithms MILA Microsoft and ConscientAI Labs uses Generative Adversarial Networks popularly know as GANs to simulate what mother earth will look like with the rising sea levels atmospheric temperature air pollution and intensive storms “Our goal is not to convince people climate change is real it’s to get people who do believe it is real to do more about that” said Victor Schmidt a coauthor of the paper and PhD candidate at MILA The project is deployed for the people to look at what their places will look like in the future when there will be a significant climate change Can we track carbon emissions Short answer yes Tracking of carbon emission is one of the agendas of the UN For this year 2020 the UN’s goal is to prevent new coal plants from being built Satellite images come into picture using deep learning techniques data science researchers can analyze these high quality satellite images and track the emission Google is expanding its horizon of nonprofit’s satellite imagery including gaspowered plants emissions which can be used by researchers to track the pollution There are countries organizations which govern CO2 emission on the ground level but these data are unreachable by global monitoring associations AI can automate the analysis of images of power plants to get regular updates on emissions It also introduces new ways to measure a plant’s impact by crunching numbers of nearby infrastructure and electricity use That’s beneficial for gaspowered plants that don’t have the easytomeasure plumes that coalpowered plants have Blackcoffer Insights 19 Shivendra Agarwal  Teena Mary CHRIST University Bangalore \n",
      "['When', 'we', 'talk', 'about', 'AI', 'different', 'people', 'have', 'different', 'perspectives', 'about', 'it', 'There', 'is', 'one', 'group', 'of', 'people', 'having', 'good', 'knowledge', 'about', 'the', 'real', 'potential', 'of', 'AI', 'who', 'believe', 'that', 'AI', 'can', 'be', 'a', 'novel', 'solution', 'to', 'many', 'problems', 'that', 'the', 'world', 'is', 'facing', 'today', 'There', 'is', 'another', 'group', 'of', 'people', 'who', 'are', 'merely', 'threatened', 'by', 'the', 'thought', 'of', 'AI', 'taking', 'over', 'the', 'world', 'The', 'field', 'of', 'AI', 'took', 'birth', 'when', 'Alan', 'Turing', 'in', '1950', 'had', 'this', 'thought', '“Can', 'machines', 'think”', 'Later', 'in', 'the', '1980s', 'with', 'the', 'adoption', 'of', '“expert', 'systems”', 'by', 'the', 'companies', 'around', 'the', 'world', 'the', 'booming', 'of', 'the', 'field', 'of', 'AI', 'was', 'initiated', 'Initially', 'it', 'was', 'a', 'matter', 'of', 'awe', 'for', 'everyone', 'to', 'see', 'the', 'results', 'of', 'what', 'AI', 'can', 'achieve', 'AI’s', 'growth', 'in', 'the', 'past', 'few', 'decades', 'has', 'been', 'exponential', 'and', 'it', 'has', 'transformed', 'the', 'way', 'we', 'live', 'work', 'and', 'solve', 'challenges', 'AI', 'has', 'made', 'its', 'impact', 'in', 'a', 'wide', 'variety', 'of', 'areas', 'including', 'healthcare', 'education', 'business', 'and', 'many', 'more', 'But', 'one', 'of', 'the', 'areas', 'of', 'highest', 'impact', 'that', 'AI', 'has', 'made', 'recently', 'is', 'in', 'the', 'environment', 'and', 'climate', 'change', 'Is', 'AI', 'Revolutionizing', 'the', 'way', 'we', 'deal', 'with', 'Environment', 'and', 'Climate', 'Change', 'AI', 'can', 'strengthen', 'climate', 'predictions', 'enable', 'smarter', 'decisionmaking', 'for', 'decarbonising', 'industries', 'from', 'building', 'to', 'transport', 'and', 'work', 'out', 'how', 'to', 'allocate', 'renewable', 'energy', 'In', 'recent', 'years', 'AI', 'has', 'been', 'a', 'gamechanger', 'in', 'how', 'many', 'people', 'as', 'well', 'as', 'organizations', 'deal', 'with', 'climate', 'change', 'Microsoft', 'believes', 'that', 'artificial', 'intelligence', 'often', 'encompassing', 'machine', 'learning', 'and', 'deep', 'learning', 'is', 'a', '“gamechanger”', 'for', 'climate', 'change', 'and', 'environmental', 'issues', 'The', 'company’s', '‘AI', 'for', 'Earth’', 'program', 'has', 'committed', '50', 'million', 'over', 'five', 'years', 'to', 'create', 'and', 'test', 'new', 'applications', 'for', 'AI', 'AI', 'is', 'increasingly', 'used', 'to', 'manage', 'the', 'intermittency', 'of', 'renewable', 'energy', 'so', 'that', 'more', 'can', 'be', 'incorporated', 'into', 'the', 'grid', 'it', 'can', 'handle', 'power', 'fluctuations', 'and', 'improve', 'energy', 'storage', 'as', 'well', 'Wind', 'companies', 'are', 'using', 'AI', 'to', 'get', 'each', 'turbine’s', 'propeller', 'to', 'produce', 'more', 'electricity', 'per', 'rotation', 'by', 'incorporating', 'realtime', 'weather', 'and', 'operational', 'data', 'AI', 'can', 'also', 'improve', 'energy', 'efficiency', 'on', 'the', 'city', 'scale', 'by', 'incorporating', 'data', 'from', 'smart', 'meters', 'and', 'the', 'Internet', 'of', 'Things', 'the', 'internet', 'of', 'computing', 'devices', 'that', 'are', 'embedded', 'in', 'everyday', 'objects', 'enabling', 'them', 'to', 'send', 'and', 'receive', 'data', 'to', 'forecast', 'energy', 'demand', 'Besides', 'artificial', 'intelligence', 'systems', 'can', 'simulate', 'potential', 'zoning', 'laws', 'building', 'ordinances', 'and', 'flood', 'plains', 'to', 'help', 'with', 'urban', 'planning', 'and', 'disaster', 'preparedness', 'One', 'vision', 'for', 'a', 'sustainable', 'city', 'is', 'to', 'create', 'an', '“urban', 'dashboard”', 'consisting', 'of', 'realtime', 'data', 'on', 'energy', 'and', 'water', 'use', 'and', 'availability', 'traffic', 'and', 'weather', 'to', 'make', 'cities', 'more', 'energyefficient', 'and', 'livable', 'Hotter', 'temperatures', 'will', 'have', 'significant', 'impacts', 'on', 'agriculture', 'as', 'well', 'Data', 'from', 'sensors', 'in', 'the', 'field', 'that', 'monitor', 'crop', 'moisture', 'soil', 'composition', 'and', 'temperature', 'help', 'AI', 'improve', 'production', 'and', 'know', 'when', 'crops', 'need', 'watering', 'Incorporating', 'this', 'information', 'with', 'that', 'from', 'drones', 'which', 'are', 'also', 'used', 'to', 'monitor', 'conditions', 'can', 'help', 'increasingly', 'automatic', 'AI', 'systems', 'know', 'the', 'best', 'times', 'to', 'plant', 'spray', 'and', 'harvest', 'crops', 'and', 'when', 'to', 'head', 'off', 'diseases', 'and', 'other', 'problems', 'This', 'will', 'result', 'in', 'increased', 'efficiency', 'enhanced', 'yields', 'and', 'lower', 'use', 'of', 'water', 'fertilizer', 'and', 'pesticides', 'But', 'is', 'AI', 'as', 'good', 'as', 'it', 'looks', 'or', 'does', 'it', 'have', 'a', 'downside', 'When', 'we', 'talk', 'about', 'the', 'effect', 'of', 'AI', 'in', 'the', 'environment', 'and', 'climate', 'both', 'sides', 'of', 'the', 'coin', 'must', 'be', 'elucidated', 'So', 'apart', 'from', 'all', 'the', 'positives', 'discussed', 'above', 'the', 'usage', 'of', 'AI', 'also', 'has', 'a', 'downside', 'Last', 'year’s', 'World', 'Economic', 'Forum', 'report', 'showed', 'that', 'while', 'AI', 'can', 'address', 'some', 'of', 'Earth’s', 'environmental', 'challenges', 'it', 'is', 'important', 'to', 'manage', 'it', 'properly', 'According', 'to', 'the', 'forum', 'and', 'experts', 'in', 'the', 'field', 'AI', 'has', 'the', 'potential', 'to', 'accelerate', 'environmental', 'degradation', 'The', 'use', 'of', 'powerintensive', 'GPUs', 'to', 'run', 'machine', 'learning', 'training', 'has', 'already', 'been', 'cited', 'as', 'contributing', 'to', 'increased', 'C02', 'emissions', 'Although', 'AI', 'has', 'been', 'around', 'for', 'about', 'half', 'a', 'century', 'the', 'question', 'of', 'environmental', 'impact', '–', 'and', 'other', 'ethical', 'issues', '–', 'is', 'only', 'arising', 'now', 'because', 'the', 'techniques', 'developed', 'over', 'decades', 'can', 'now', 'be', 'used', 'in', 'combination', 'with', 'an', 'explosion', 'in', 'data', 'and', 'strong', 'computational', 'power', 'For', 'all', 'the', 'advances', 'enabled', 'by', 'artificial', 'intelligence', 'from', 'speech', 'recognition', 'to', 'selfdriving', 'cars', 'AI', 'systems', 'consume', 'a', 'lot', 'of', 'power', 'and', 'can', 'generate', 'high', 'volumes', 'of', 'climatechanging', 'carbon', 'emissions', 'A', 'study', 'last', 'year', 'found', 'that', 'training', 'an', 'offtheshelf', 'AI', 'languageprocessing', 'system', 'produced', '1400', 'pounds', 'of', 'emissions', '–', 'about', 'the', 'amount', 'produced', 'by', 'flying', 'one', 'person', 'roundtrip', 'between', 'New', 'York', 'and', 'San', 'Francisco', 'But', 'there', 'are', 'ways', 'to', 'make', 'machine', 'learning', 'cleaner', 'and', 'greener', 'a', 'movement', 'that', 'has', 'been', 'called', '“Green', 'AI”', 'Some', 'algorithms', 'are', 'less', 'powerhungry', 'than', 'others', 'for', 'example', 'and', 'many', 'training', 'sessions', 'can', 'be', 'moved', 'to', 'remote', 'locations', 'that', 'get', 'most', 'of', 'their', 'power', 'from', 'renewable', 'sources', 'The', 'key', 'however', 'is', 'for', 'AI', 'developers', 'and', 'companies', 'to', 'know', 'how', 'much', 'their', 'machine', 'learning', 'experiments', 'are', 'spewing', 'and', 'how', 'much', 'those', 'volumes', 'could', 'be', 'reduced', 'What', 'can', 'be', 'done', 'To', 'prevent', 'this', 'the', 'proposition', 'by', 'the', 'World', 'Economic', 'Forum', 'report', 'is', 'that', 'advancements', 'in', '“safe”', 'AI', 'should', 'be', 'pursued', 'to', 'ensure', 'that', 'humanity', 'is', 'not', 'developing', 'AI', 'that', 'is', 'harmful', 'to', 'the', 'environment', 'Specifically', 'the', 'World', 'Economic', 'Forum', 'said', 'in', 'its', 'report', 'that', 'AI', 'developers', '“must', 'incorporate', 'the', 'health', 'of', 'the', 'natural', 'environment', 'as', 'a', 'fundamental', 'dimension”', 'This', 'means', 'safeguarding', 'against', 'models', 'that', 'will', 'demand', 'the', 'consumption', 'of', 'energy', 'or', 'natural', 'resources', 'beyond', 'what', 'is', 'sustainable', 'among', 'other', 'factors', 'In', 'a', 'sense', 'all', 'programs', 'need', 'to', 'be', 'designed', 'with', 'the', 'dimension', 'of', 'environmental', 'protection', 'and', 'improvement', 'in', 'mind', 'In', 'the', 'future', 'development', 'of', 'AI', 'programs', 'it', 'will', 'also', 'be', 'important', 'to', 'note', 'the', 'environmental', 'impact', 'of', 'creating', 'these', 'systems', 'in', 'the', 'first', 'place', 'According', 'to', 'an', 'academic', 'study', 'on', 'energy', 'usage', 'for', 'deep', 'learning', 'processes', 'the', 'creation', 'of', 'an', 'effective', 'AI', 'might', 'be', 'costly', 'to', 'the', 'environment', 'Nearly', '300000', 'kilograms', 'of', 'carbon', 'dioxide', 'equivalent', 'emissions', 'are', 'created', 'during', 'the', 'process', 'of', 'training', 'a', 'single', 'model', 'This', 'is', 'basically', 'equal', 'to', 'the', 'emissions', 'of', 'five', 'average', 'cars', 'in', 'the', 'United', 'States', 'Considering', 'the', 'negative', 'environmental', 'impact', 'in', 'addition', 'to', 'the', 'positive', 'implications', 'of', 'AI', 'and', 'climate', 'change', 'will', 'be', 'crucial', 'moving', 'forward', 'There', 'is', 'always', 'room', 'for', 'improvement', 'some', 'pioneers', 'of', 'machine', 'learning', 'recently', 'published', 'a', 'paper', 'called', 'Tackling', 'Climate', 'Change', 'with', 'Machine', 'Learning', 'was', 'discussed', 'at', 'a', 'major', 'AI', 'conference', 'David', 'Rolnick', 'a', 'postdoctoral', 'fellow', 'of', 'the', 'University', 'of', 'Pennsylvania', 'said', '“call', 'to', 'arms”', 'which', 'means', 'to', 'bring', 'researchers', 'together', 'This', 'paper', 'covers', 'thirteen', 'areas', 'of', 'research', 'where', 'machine', 'learning', 'can', 'be', 'used', 'including', 'energy', 'production', 'CO2', 'removal', 'education', 'solar', 'geoengineering', 'finance', 'and', 'many', 'more', 'The', 'main', 'idea', 'is', 'to', 'build', 'more', 'energyefficient', 'buildings', 'creating', 'new', 'lowcarbon', 'materials', 'high', 'tech', 'monitoring', 'of', 'deforestation', 'and', 'greener', 'transportation', 'sources', 'Artificial', 'intelligence', 'and', 'machine', 'learning', 'can', 'be', 'a', 'medium', 'but', 'the', 'real', 'work', 'is', 'to', 'be', 'done', 'by', 'us', 'as', 'a', 'caretaker', 'of', 'mother', 'earth', 'How', 'about', 'better', 'forecasting', 'of', 'climate', 'change', 'The', 'kick', 'start', 'was', 'already', 'done', 'by', 'climate', 'informatics', 'in', '2011', 'which', 'regulates', 'the', 'collaboration', 'of', 'data', 'science', 'and', 'climate', 'science', 'It', 'covers', 'a', 'wide', 'range', 'of', 'topics', 'like', 'improving', 'prediction', 'of', 'extreme', 'events', 'such', 'as', 'hurricanes', 'paleoclimatology', 'collecting', 'data', 'from', 'ice', 'cores', 'climate', 'updown', 'scaling', 'and', 'its', 'impact', 'on', 'us', '“There’s', 'a', 'lot', 'of', 'uncertainty”', 'Monteleoni', 'Claire', 'Monteleoni', 'a', 'computer', 'science', 'professor', 'at', 'the', 'University', 'of', 'Colorado', 'concludes', 'that', 'AI', 'ML', 'models', 'generally', 'forecast', 'for', 'the', 'shortterm', 'There', 'is', 'a', 'significant', 'difference', 'when', 'it', 'comes', 'to', 'longterm', 'forecasting', 'The', 'first', 'system', 'was', 'developed', 'at', 'Princeton', 'in', 'the', '1960s', 'All', 'the', 'AI', 'ML', 'models', 'developed', 'till', 'now', 'revolve', 'around', 'atmosphere', 'oceans', 'land', 'cryosphere', 'or', 'ice', 'AI', 'can', 'help', 'to', 'achieve', 'new', 'heights', 'with', 'the', 'amount', 'of', 'data', 'collected', 'at', 'this', 'point', 'of', 'time', 'and', 'compute', 'more', 'complex', 'climate', 'conditions', 'using', 'climate', 'modeling', 'algorithms', 'What', 'about', 'showing', 'the', 'effects', 'of', 'extreme', 'weather', 'We', 'all', 'know', 'that', 'climate', 'change', 'is', 'real', 'and', 'the', 'rise', 'in', 'atmospheric', 'temperature', 'the', 'proof', 'but', 'to', 'make', 'it', 'more', 'realistic', 'Montreal', 'Institute', 'of', 'Learning', 'Algorithms', 'MILA', 'Microsoft', 'and', 'ConscientAI', 'Labs', 'uses', 'Generative', 'Adversarial', 'Networks', 'popularly', 'know', 'as', 'GANs', 'to', 'simulate', 'what', 'mother', 'earth', 'will', 'look', 'like', 'with', 'the', 'rising', 'sea', 'levels', 'atmospheric', 'temperature', 'air', 'pollution', 'and', 'intensive', 'storms', '“Our', 'goal', 'is', 'not', 'to', 'convince', 'people', 'climate', 'change', 'is', 'real', 'it’s', 'to', 'get', 'people', 'who', 'do', 'believe', 'it', 'is', 'real', 'to', 'do', 'more', 'about', 'that”', 'said', 'Victor', 'Schmidt', 'a', 'coauthor', 'of', 'the', 'paper', 'and', 'PhD', 'candidate', 'at', 'MILA', 'The', 'project', 'is', 'deployed', 'for', 'the', 'people', 'to', 'look', 'at', 'what', 'their', 'places', 'will', 'look', 'like', 'in', 'the', 'future', 'when', 'there', 'will', 'be', 'a', 'significant', 'climate', 'change', 'Can', 'we', 'track', 'carbon', 'emissions', 'Short', 'answer', 'yes', 'Tracking', 'of', 'carbon', 'emission', 'is', 'one', 'of', 'the', 'agendas', 'of', 'the', 'UN', 'For', 'this', 'year', '2020', 'the', 'UN’s', 'goal', 'is', 'to', 'prevent', 'new', 'coal', 'plants', 'from', 'being', 'built', 'Satellite', 'images', 'come', 'into', 'picture', 'using', 'deep', 'learning', 'techniques', 'data', 'science', 'researchers', 'can', 'analyze', 'these', 'high', 'quality', 'satellite', 'images', 'and', 'track', 'the', 'emission', 'Google', 'is', 'expanding', 'its', 'horizon', 'of', 'nonprofit’s', 'satellite', 'imagery', 'including', 'gaspowered', 'plants', 'emissions', 'which', 'can', 'be', 'used', 'by', 'researchers', 'to', 'track', 'the', 'pollution', 'There', 'are', 'countries', 'organizations', 'which', 'govern', 'CO2', 'emission', 'on', 'the', 'ground', 'level', 'but', 'these', 'data', 'are', 'unreachable', 'by', 'global', 'monitoring', 'associations', 'AI', 'can', 'automate', 'the', 'analysis', 'of', 'images', 'of', 'power', 'plants', 'to', 'get', 'regular', 'updates', 'on', 'emissions', 'It', 'also', 'introduces', 'new', 'ways', 'to', 'measure', 'a', 'plant’s', 'impact', 'by', 'crunching', 'numbers', 'of', 'nearby', 'infrastructure', 'and', 'electricity', 'use', 'That’s', 'beneficial', 'for', 'gaspowered', 'plants', 'that', 'don’t', 'have', 'the', 'easytomeasure', 'plumes', 'that', 'coalpowered', 'plants', 'have', 'Blackcoffer', 'Insights', '19', 'Shivendra', 'Agarwal', 'Teena', 'Mary', 'CHRIST', 'University', 'Bangalore']\n"
     ]
    }
   ],
   "source": [
    "content=soup.findAll(attrs={'class':'td-post-content'})\n",
    "content=content[0].text.replace('\\n',\" \")\n",
    "print(content)\n",
    "#Punctuation\n",
    "content = content.translate(str.maketrans('', '', string.punctuation)) \n",
    "print(content)\n",
    "text = content.split()\n",
    "print(text)\n"
   ]
  },
  {
   "cell_type": "code",
   "execution_count": 3,
   "id": "a20646d5",
   "metadata": {},
   "outputs": [
    {
     "data": {
      "text/plain": [
       "1591"
      ]
     },
     "execution_count": 3,
     "metadata": {},
     "output_type": "execute_result"
    }
   ],
   "source": [
    "len(text)"
   ]
  },
  {
   "cell_type": "code",
   "execution_count": 4,
   "id": "b0e98cfe",
   "metadata": {},
   "outputs": [
    {
     "name": "stdout",
     "output_type": "stream",
     "text": [
      "46\n"
     ]
    }
   ],
   "source": [
    "#Positive Score \n",
    "with open(r\"C:\\Users\\Om Bhandwalkar\\Desktop\\pos\\positive-words.txt\") as pos:\n",
    "    poswords = pos.read().split(\"\\n\")  \n",
    "    poswords = poswords[5:]\n",
    "pos_count = \" \".join ([w for w in text if w in poswords])\n",
    "pos_count=pos_count.split(\" \")\n",
    "Positive_score=len(pos_count)\n",
    "print(Positive_score)"
   ]
  },
  {
   "cell_type": "code",
   "execution_count": 5,
   "id": "8512ef05",
   "metadata": {},
   "outputs": [
    {
     "name": "stdout",
     "output_type": "stream",
     "text": [
      "15\n"
     ]
    }
   ],
   "source": [
    "#Negative Score\n",
    "with open(r\"C:\\Users\\Om Bhandwalkar\\Desktop\\pos\\negative-words.txt\",encoding =\"ISO-8859-1\") as neg:\n",
    "    negwords = neg.read().split(\"\\n\")\n",
    "    \n",
    "negwords = negwords[36:]\n",
    "neg_count = \" \".join ([w for w in text if w in negwords])\n",
    "neg_count=neg_count.split(\" \")\n",
    "Negative_score=len(neg_count)\n",
    "print(Negative_score)"
   ]
  },
  {
   "cell_type": "code",
   "execution_count": 6,
   "id": "3f2e1024",
   "metadata": {},
   "outputs": [
    {
     "data": {
      "text/html": [
       "<div>\n",
       "<style scoped>\n",
       "    .dataframe tbody tr th:only-of-type {\n",
       "        vertical-align: middle;\n",
       "    }\n",
       "\n",
       "    .dataframe tbody tr th {\n",
       "        vertical-align: top;\n",
       "    }\n",
       "\n",
       "    .dataframe thead th {\n",
       "        text-align: right;\n",
       "    }\n",
       "</style>\n",
       "<table border=\"1\" class=\"dataframe\">\n",
       "  <thead>\n",
       "    <tr style=\"text-align: right;\">\n",
       "      <th></th>\n",
       "      <th>url</th>\n",
       "      <th>title</th>\n",
       "      <th>content</th>\n",
       "      <th>filter_content</th>\n",
       "      <th>Positive_Score</th>\n",
       "      <th>Negative_Score</th>\n",
       "      <th>polarity</th>\n",
       "      <th>subjectivity</th>\n",
       "    </tr>\n",
       "  </thead>\n",
       "  <tbody>\n",
       "    <tr>\n",
       "      <th>0</th>\n",
       "      <td>https://insights.blackcoffer.com/how-does-arti...</td>\n",
       "      <td>How does artificial intelligence affect the en...</td>\n",
       "      <td>When we talk about AI different people have d...</td>\n",
       "      <td>When we talk about AI different people have di...</td>\n",
       "      <td>46</td>\n",
       "      <td>15</td>\n",
       "      <td>0.124581</td>\n",
       "      <td>0.446272</td>\n",
       "    </tr>\n",
       "  </tbody>\n",
       "</table>\n",
       "</div>"
      ],
      "text/plain": [
       "                                                 url  \\\n",
       "0  https://insights.blackcoffer.com/how-does-arti...   \n",
       "\n",
       "                                               title  \\\n",
       "0  How does artificial intelligence affect the en...   \n",
       "\n",
       "                                             content  \\\n",
       "0   When we talk about AI different people have d...   \n",
       "\n",
       "                                      filter_content  Positive_Score  \\\n",
       "0  When we talk about AI different people have di...              46   \n",
       "\n",
       "   Negative_Score  polarity  subjectivity  \n",
       "0              15  0.124581      0.446272  "
      ]
     },
     "execution_count": 6,
     "metadata": {},
     "output_type": "execute_result"
    }
   ],
   "source": [
    "filter_content = ' '.join(text)\n",
    "data=[[url,title,content,filter_content,Positive_score,Negative_score]]\n",
    "data=pd.DataFrame(data,columns=[\"url\",\"title\",\"content\",\"filter_content\",\"Positive_Score\",\"Negative_Score\"])\n",
    "from textblob import TextBlob\n",
    "# Get The Subjectivity\n",
    "def sentiment_analysis(data):\n",
    "    sentiment = TextBlob(data[\"content\"]).sentiment\n",
    "    return pd.Series([sentiment.polarity,sentiment.subjectivity ])\n",
    "\n",
    "# Adding Subjectivity & Polarity\n",
    "data[[\"polarity\", \"subjectivity\"]] = data.apply(sentiment_analysis, axis=1)\n",
    "\n",
    "data"
   ]
  },
  {
   "cell_type": "code",
   "execution_count": 7,
   "id": "d76ccd3e",
   "metadata": {},
   "outputs": [
    {
     "name": "stdout",
     "output_type": "stream",
     "text": [
      "Word average = 8204.0\n",
      "FOG INDEX =  639.56\n",
      "Average no of words per sentence\n",
      "1591.0\n",
      "Complex Words 2951\n"
     ]
    }
   ],
   "source": [
    "#AVG SENTENCE LENGTH\n",
    "AVG_SENTENCE_LENGTH = len(content.replace(' ',''))/len(re.split(r'[?!.]', content))\n",
    "print('Word average =', AVG_SENTENCE_LENGTH)\n",
    "import textstat\n",
    "#Fog index \n",
    "FOG_INDEX=(textstat.gunning_fog(content))\n",
    "print(\"FOG INDEX = \",FOG_INDEX)\n",
    "#Average No of Words Per Sentence \n",
    "AVG_NUMBER_OF_WORDS_PER_SENTENCE = [len(l.split()) for l in re.split(r'[?!.]', content) if l.strip()]\n",
    "print(\"Average no of words per sentence\")\n",
    "AVG_NUMBER_OF_WORDS_PER_SENTENCE=print(sum(AVG_NUMBER_OF_WORDS_PER_SENTENCE)/len(AVG_NUMBER_OF_WORDS_PER_SENTENCE))\n",
    "#Complex words\n",
    "def syllable_count(word):\n",
    "    count = 0\n",
    "    vowels = \"AEIOUYaeiouy\"\n",
    "    if word[0] in vowels:\n",
    "        count += 1\n",
    "    for index in range(1, len(word)): \n",
    "        if word[index] in vowels and word[index - 1] not in vowels:\n",
    "            count += 1\n",
    "            if word.endswith(\"es\"or \"ed\"):\n",
    "                count -= 1\n",
    "    if count == 0:\n",
    "        count += 1\n",
    "    return count\n",
    "\n",
    "\n",
    "\n",
    "COMPLEX_WORDS=syllable_count(content)\n",
    "print(\"Complex Words\",COMPLEX_WORDS)\n"
   ]
  },
  {
   "cell_type": "code",
   "execution_count": 8,
   "id": "4887e332",
   "metadata": {},
   "outputs": [
    {
     "name": "stdout",
     "output_type": "stream",
     "text": [
      "Word Count 9797\n",
      "Percentage of Complex Words 30.121465754822907\n",
      "Average Word per Length 5.1565053425518546\n",
      "The AVG number of syllables in the word is: \n",
      "2.086737900691389\n"
     ]
    }
   ],
   "source": [
    "#Word Count\n",
    "Word_Count=len(content)\n",
    "print(\"Word Count\",Word_Count)\n",
    "#Percentage Complex Words\n",
    "pcw=(COMPLEX_WORDS/Word_Count)*100\n",
    "print(\"Percentage of Complex Words\",pcw)\n",
    "#Average Word Length\n",
    "Average_Word_Length=len(content.replace(' ',''))/len(content.split())\n",
    "print(\"Average Word per Length\",Average_Word_Length)\n",
    "#Syllable Count Per Word\n",
    "word=content.replace(' ','')\n",
    "syllable_count=0\n",
    "for w in word:\n",
    "      if(w=='a' or w=='e' or w=='i' or w=='o' or w=='y' or w=='u' or w=='A' or w=='E' or w=='I' or w=='O' or w=='U' or w=='Y'):\n",
    "            syllable_count=syllable_count+1\n",
    "print(\"The AVG number of syllables in the word is: \")\n",
    "print(syllable_count/len(content.split()))"
   ]
  },
  {
   "cell_type": "code",
   "execution_count": 1,
   "id": "8a31e138",
   "metadata": {},
   "outputs": [
    {
     "name": "stdout",
     "output_type": "stream",
     "text": [
      "46\n",
      "15\n",
      "Word average = 8204.0\n",
      "FOG INDEX =  639.56\n",
      "Average no of words per sentence\n",
      "1591.0\n",
      "Complex Words 2951\n",
      "Word Count 9797\n",
      "Percentage of Complex Words 30.121465754822907\n",
      "Average Word per Length 5.1565053425518546\n",
      "The AVG number of syllables in the word is: \n",
      "2.086737900691389\n"
     ]
    },
    {
     "data": {
      "text/html": [
       "<div>\n",
       "<style scoped>\n",
       "    .dataframe tbody tr th:only-of-type {\n",
       "        vertical-align: middle;\n",
       "    }\n",
       "\n",
       "    .dataframe tbody tr th {\n",
       "        vertical-align: top;\n",
       "    }\n",
       "\n",
       "    .dataframe thead th {\n",
       "        text-align: right;\n",
       "    }\n",
       "</style>\n",
       "<table border=\"1\" class=\"dataframe\">\n",
       "  <thead>\n",
       "    <tr style=\"text-align: right;\">\n",
       "      <th></th>\n",
       "      <th>url</th>\n",
       "      <th>title</th>\n",
       "      <th>content</th>\n",
       "      <th>filter_content</th>\n",
       "      <th>Positive_Score</th>\n",
       "      <th>Negative_Score</th>\n",
       "      <th>Avg_Sentence_Length</th>\n",
       "      <th>Percentage_Complex_Word</th>\n",
       "      <th>Fog_Index</th>\n",
       "      <th>AVG_NUMBER_OF_WORDS_PER_SENTENCE</th>\n",
       "      <th>COMPLEX_WORDS</th>\n",
       "      <th>Word_Count</th>\n",
       "      <th>syllable</th>\n",
       "      <th>Average_Word_Length</th>\n",
       "      <th>polarity</th>\n",
       "      <th>subjectivity</th>\n",
       "    </tr>\n",
       "  </thead>\n",
       "  <tbody>\n",
       "    <tr>\n",
       "      <th>0</th>\n",
       "      <td>https://insights.blackcoffer.com/how-does-arti...</td>\n",
       "      <td>How does artificial intelligence affect the en...</td>\n",
       "      <td>When we talk about AI different people have d...</td>\n",
       "      <td>When we talk about AI different people have di...</td>\n",
       "      <td>46</td>\n",
       "      <td>15</td>\n",
       "      <td>8204.0</td>\n",
       "      <td>30.121466</td>\n",
       "      <td>639.56</td>\n",
       "      <td>1591.0</td>\n",
       "      <td>2951</td>\n",
       "      <td>9797</td>\n",
       "      <td>2.086738</td>\n",
       "      <td>5.156505</td>\n",
       "      <td>0.124581</td>\n",
       "      <td>0.446272</td>\n",
       "    </tr>\n",
       "  </tbody>\n",
       "</table>\n",
       "</div>"
      ],
      "text/plain": [
       "                                                 url  \\\n",
       "0  https://insights.blackcoffer.com/how-does-arti...   \n",
       "\n",
       "                                               title  \\\n",
       "0  How does artificial intelligence affect the en...   \n",
       "\n",
       "                                             content  \\\n",
       "0   When we talk about AI different people have d...   \n",
       "\n",
       "                                      filter_content  Positive_Score  \\\n",
       "0  When we talk about AI different people have di...              46   \n",
       "\n",
       "   Negative_Score  Avg_Sentence_Length  Percentage_Complex_Word  Fog_Index  \\\n",
       "0              15               8204.0                30.121466     639.56   \n",
       "\n",
       "    AVG_NUMBER_OF_WORDS_PER_SENTENCE  COMPLEX_WORDS  Word_Count  syllable  \\\n",
       "0                             1591.0           2951        9797  2.086738   \n",
       "\n",
       "   Average_Word_Length  polarity  subjectivity  \n",
       "0             5.156505  0.124581      0.446272  "
      ]
     },
     "execution_count": 1,
     "metadata": {},
     "output_type": "execute_result"
    }
   ],
   "source": [
    "import requests\n",
    "import pandas as pd \n",
    "from bs4 import BeautifulSoup\n",
    "import string\n",
    "import spacy\n",
    "import re\n",
    "url = \"\"\"https://insights.blackcoffer.com/how-does-artificial-intelligence-affect-the-environment/\"\"\"\n",
    "headers = {\"User-Agent\": \"Mozilla/5.0 (X11; Linux x86_64; rv:60.0) Gecko/20100101 Firefox/60.0\"}\n",
    "page = requests.get(url, headers=headers)\n",
    "soup = BeautifulSoup(page.content, 'html.parser')\n",
    "soup=BeautifulSoup(page.content, 'html.parser')\n",
    "title=soup.find('h1',class_=\"entry-title\")\n",
    "title=title.text.replace('\\n',\" \")\n",
    "# title\n",
    "\n",
    "content=soup.findAll(attrs={'class':'td-post-content'})\n",
    "content=content[0].text.replace('\\n',\" \")\n",
    "# print(content)\n",
    "#Punctuation\n",
    "content = content.translate(str.maketrans('', '', string.punctuation)) \n",
    "# print(content)\n",
    "text = content.split()\n",
    "# print(text)\n",
    "len(text)\n",
    "#Positive Score \n",
    "with open(r\"C:\\Users\\Om Bhandwalkar\\Desktop\\pos\\positive-words.txt\") as pos:\n",
    "    poswords = pos.read().split(\"\\n\")  \n",
    "    poswords = poswords[5:]\n",
    "pos_count = \" \".join ([w for w in text if w in poswords])\n",
    "pos_count=pos_count.split(\" \")\n",
    "Positive_score=len(pos_count)\n",
    "print(Positive_score)\n",
    "\n",
    "#Negative Score\n",
    "with open(r\"C:\\Users\\Om Bhandwalkar\\Desktop\\pos\\negative-words.txt\",encoding =\"ISO-8859-1\") as neg:\n",
    "    negwords = neg.read().split(\"\\n\")\n",
    "    \n",
    "negwords = negwords[36:]\n",
    "neg_count = \" \".join ([w for w in text if w in negwords])\n",
    "neg_count=neg_count.split(\" \")\n",
    "Negative_score=len(neg_count)\n",
    "print(Negative_score)\n",
    "\n",
    "\n",
    "filter_content = ' '.join(text)\n",
    "data=[[url,title,content,filter_content,Positive_score,Negative_score]]\n",
    "data=pd.DataFrame(data,columns=[\"url\",\"title\",\"content\",\"filter_content\",\"Positive_Score\",\"Negative_Score\"])\n",
    "from textblob import TextBlob\n",
    "# Get The Subjectivity\n",
    "def sentiment_analysis(data):\n",
    "    sentiment = TextBlob(data[\"content\"]).sentiment\n",
    "    return pd.Series([sentiment.polarity,sentiment.subjectivity ])\n",
    "data[[\"polarity\", \"subjectivity\"]] = data.apply(sentiment_analysis, axis=1)\n",
    "data\n",
    "#AVG SENTENCE LENGTH\n",
    "AVG_SENTENCE_LENGTH = len(content.replace(' ',''))/len(re.split(r'[?!.]', content))\n",
    "print('Word average =', AVG_SENTENCE_LENGTH)\n",
    "import textstat\n",
    "#Fog index \n",
    "FOG_INDEX=(textstat.gunning_fog(content))\n",
    "print(\"FOG INDEX = \",FOG_INDEX)\n",
    "#Average No of Words Per Sentence \n",
    "AVG_NUMBER_OF_WORDS_PER_SENTENCE = [len(l.split()) for l in re.split(r'[?!.]', content) if l.strip()]\n",
    "print(\"Average no of words per sentence\")\n",
    "AVG_NUMBER_OF_WORDS_PER_SENTENCE=(sum(AVG_NUMBER_OF_WORDS_PER_SENTENCE)/len(AVG_NUMBER_OF_WORDS_PER_SENTENCE))\n",
    "print(AVG_NUMBER_OF_WORDS_PER_SENTENCE)\n",
    "#Complex words\n",
    "def syllable_count(word):\n",
    "    count = 0\n",
    "    vowels = \"AEIOUYaeiouy\"\n",
    "    if word[0] in vowels:\n",
    "        count += 1\n",
    "    for index in range(1, len(word)): \n",
    "        if word[index] in vowels and word[index - 1] not in vowels:\n",
    "            count += 1\n",
    "            if word.endswith(\"es\"or \"ed\"):\n",
    "                count -= 1\n",
    "    if count == 0:\n",
    "        count += 1\n",
    "    return count\n",
    "\n",
    "\n",
    "\n",
    "COMPLEX_WORDS=syllable_count(content)\n",
    "print(\"Complex Words\",COMPLEX_WORDS)\n",
    "#Word Count\n",
    "Word_Count=len(content)\n",
    "print(\"Word Count\",Word_Count)\n",
    "#Percentage Complex Words\n",
    "pcw=(COMPLEX_WORDS/Word_Count)*100\n",
    "print(\"Percentage of Complex Words\",pcw)\n",
    "#Average Word Length\n",
    "Average_Word_Length=len(content.replace(' ',''))/len(content.split())\n",
    "print(\"Average Word per Length\",Average_Word_Length)\n",
    "#Syllable Count Per Word\n",
    "word=content.replace(' ','')\n",
    "syllable_count=0\n",
    "for w in word:\n",
    "      if(w=='a' or w=='e' or w=='i' or w=='o' or w=='y' or w=='u' or w=='A' or w=='E' or w=='I' or w=='O' or w=='U' or w=='Y'):\n",
    "            syllable_count=syllable_count+1\n",
    "print(\"The AVG number of syllables in the word is: \")\n",
    "syllable = (syllable_count/len(content.split()))\n",
    "print(syllable)\n",
    "\n",
    "data = [[url,title,content,filter_content,Positive_score,Negative_score,AVG_SENTENCE_LENGTH,pcw,FOG_INDEX,\n",
    "         AVG_NUMBER_OF_WORDS_PER_SENTENCE,COMPLEX_WORDS,Word_Count,syllable,Average_Word_Length]]\n",
    "data=pd.DataFrame(data,columns=[\"url\",\"title\",\"content\",\"filter_content\",\"Positive_Score\",\"Negative_Score\",\"Avg_Sentence_Length\"\n",
    "                               ,\"Percentage_Complex_Word\",\"Fog_Index\",\" AVG_NUMBER_OF_WORDS_PER_SENTENCE\",\"COMPLEX_WORDS\",\n",
    "                               \"Word_Count\",\"syllable\",\"Average_Word_Length\"])\n",
    "from textblob import TextBlob\n",
    "# Get The Subjectivity\n",
    "def sentiment_analysis(data):\n",
    "    sentiment = TextBlob(data[\"content\"]).sentiment\n",
    "    return pd.Series([sentiment.polarity,sentiment.subjectivity ])\n",
    "data[[\"polarity\", \"subjectivity\"]] = data.apply(sentiment_analysis, axis=1)\n",
    "data"
   ]
  },
  {
   "cell_type": "code",
   "execution_count": 2,
   "id": "edb69b1b",
   "metadata": {},
   "outputs": [],
   "source": [
    "data.to_csv(r'C:\\Users\\Om Bhandwalkar\\Desktop\\BlackCoffer Assignment\\Output\\url_78.csv')"
   ]
  },
  {
   "cell_type": "code",
   "execution_count": null,
   "id": "e97d130a",
   "metadata": {},
   "outputs": [],
   "source": []
  }
 ],
 "metadata": {
  "kernelspec": {
   "display_name": "Python 3 (ipykernel)",
   "language": "python",
   "name": "python3"
  },
  "language_info": {
   "codemirror_mode": {
    "name": "ipython",
    "version": 3
   },
   "file_extension": ".py",
   "mimetype": "text/x-python",
   "name": "python",
   "nbconvert_exporter": "python",
   "pygments_lexer": "ipython3",
   "version": "3.9.12"
  }
 },
 "nbformat": 4,
 "nbformat_minor": 5
}
