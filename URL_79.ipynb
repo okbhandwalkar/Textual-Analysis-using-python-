{
 "cells": [
  {
   "cell_type": "code",
   "execution_count": 1,
   "id": "b03079c1",
   "metadata": {},
   "outputs": [
    {
     "data": {
      "text/plain": [
       "'How to Overcome Your Fear of Making Mistakes'"
      ]
     },
     "execution_count": 1,
     "metadata": {},
     "output_type": "execute_result"
    }
   ],
   "source": [
    "import requests\n",
    "import pandas as pd \n",
    "from bs4 import BeautifulSoup\n",
    "import string\n",
    "import spacy\n",
    "import re\n",
    "url = \"\"\"https://insights.blackcoffer.com/how-to-overcome-your-fear-of-making-mistakes-2/\"\"\"\n",
    "headers = {\"User-Agent\": \"Mozilla/5.0 (X11; Linux x86_64; rv:60.0) Gecko/20100101 Firefox/60.0\"}\n",
    "page = requests.get(url, headers=headers)\n",
    "soup = BeautifulSoup(page.content, 'html.parser')\n",
    "soup=BeautifulSoup(page.content, 'html.parser')\n",
    "title=soup.find('h1',class_=\"entry-title\")\n",
    "title=title.text.replace('\\n',\" \")\n",
    "title\n"
   ]
  },
  {
   "cell_type": "code",
   "execution_count": 2,
   "id": "75a0e391",
   "metadata": {},
   "outputs": [
    {
     "name": "stdout",
     "output_type": "stream",
     "text": [
      " No one can reduce mistakes to zero, but you can learn to harness your drive to prevent them and channel it into better decision making. Use these tips to become a more effective worrier. Don’t be afraid or ashamed of your fear.  Our culture glorifies fearlessness. The traditional image of a leader is one who is smart, tough, and unafraid. But fear, like any emotion, has an evolutionary purpose and upside. Your concern about making mistakes is there to remind you that we’re in a challenging situation. A cautious leader has value. This is especially true in times like these. So don’t get caught up in ruminating: “I shouldn’t be so fearful.” Don’t be ashamed or afraid of your fear of making mistakes and don’t interpret it as evidence that you’re an indecisive leader, or not bold, not visionary. If you have a natural tendency to be prevention-focused, channel it to be bold and visionary! (If you struggle to believe this, identify leaders who have done just that by figuring out how to prevent disasters.) Use emotional agility skills.  Fear of mistakes can paralyze people. Emotional agility skills are an antidote to this paralysis. This process starts with labeling your thoughts and feelings, such as “I feel anxious I’m not going to be able to control my customers enough to keep my staff safe.” Stating your fears out loud helps diffuse them. It’s like turning the light on in a dark room. Next comes accepting reality. For example, “I understand that people will not always behave in ideal ways.” List off every truth you need to accept. Then comes acting your values. Let’s say one of your highest values is conscientiousness. How might that value apply in this situation? For example, it might involve making sure your employees all have masks that fit them well or feel comfortable airing any grievances they have. Identify your five most important values related to decision-making in a crisis. Then ask yourself how each of those is relevant to the important choices you face. Repeat this process for each of your fears. It will help you tolerate the fact that we sometimes need to act when the course of action isn’t clear and avoid the common anxiety trap whereby people try to reduce uncertainty to zero. Focus on your processes.  Worrying can help you make better decisions if you do it effectively. Most people don’t. When you worry, it should be solutions-focused, not just perseverating on the presence of a threat. Direct your worry towards behaviors that will realistically reduce the chances of failure. We can control systems, not outcomes. What are your systems and processes for avoiding making mistakes? Direct your worries into answering questions like these: Is the data you’re relying on reliable? What are the limitations of it? How do your systems help prevent groupthink? What procedures do you have in place to help you see your blind spots? How do you ensure that you hear valuable perspectives from underrepresented stakeholders? What are your processes for being alerted to a problem quickly and rectifying it if a decision has unexpected consequences? Broaden your thinking.  When we’re scared of making a mistake, our thinking can narrow around that particular scenario. Imagine you’re out walking at night. You’re worried about tripping, so you keep looking down at your feet. Next thing you know you’ve walked into a lamp post. Or, imagine the person who is scared of flying. They drive everywhere, even though driving is objectively more dangerous. When you open the aperture, it can help you see your greatest fears in the broader context of all the other threats out there. This can help you get a better perspective on what you fear the most. It might seem illogical that you could reduce your fear of making a mistake by thinking about other negative outcomes. But this strategy can help kick you into problem-solving mode and lessen the mental grip a particular fear has on you. A leader might be so highly focused on minimizing or optimizing for one particular thing, they don’t realize that other people care most about something else. Find out what other people’s priorities are. Recognize the value of leisure. Fear grabs us. It makes it difficult to direct our attention away. This is how it is designed to work so that we don’t ignore threats. Some people react to fear with extreme hypervigilance. They want to be on guard, at their command post, at all times. This might manifest as behavior like staying up all night to work. That type of adrenalin-fueled behavior can have short-term value, but it can also be myopic. A different approach can be more useful for bigger picture thinking. We need leisure (and sleep!) to step back, integrate the threads of our thinking, see blindspots, and think creatively. Get some silent time. Although much maligned, a game of golf might be exactly what you need to think about tough problems holistically. Detach from judgment-clouding noise.  As mentioned, when people are fearful they can go into always-on monitoring mode. You may have the urge to constantly look at what everyone else is doing, to always be on social media, or check data too frequently. This can result in information overload. Your mind can become so overwhelmed that you start to feel cloudy or shut down. Recognize if you’re doing this and limit over-monitoring or over checking. Avoid panicked, frenzied behavior. On its own, being afraid of making mistakes doesn’t make you more or less likely to make good decisions. If you worry excessively in a way that focuses only on how bad the experience of stress and uncertainty feels, you might make do or say the wrong things. However, if you understand how anxiety works at a cognitive level, you can use it to motivate careful but bold and well-reasoned choices. Blackcoffer Insights 19: HARSH ARYA & ABHISHEK KUMAR SINGH (AKGEC, Ghaziabad) \n",
      " No one can reduce mistakes to zero but you can learn to harness your drive to prevent them and channel it into better decision making Use these tips to become a more effective worrier Don’t be afraid or ashamed of your fear  Our culture glorifies fearlessness The traditional image of a leader is one who is smart tough and unafraid But fear like any emotion has an evolutionary purpose and upside Your concern about making mistakes is there to remind you that we’re in a challenging situation A cautious leader has value This is especially true in times like these So don’t get caught up in ruminating “I shouldn’t be so fearful” Don’t be ashamed or afraid of your fear of making mistakes and don’t interpret it as evidence that you’re an indecisive leader or not bold not visionary If you have a natural tendency to be preventionfocused channel it to be bold and visionary If you struggle to believe this identify leaders who have done just that by figuring out how to prevent disasters Use emotional agility skills  Fear of mistakes can paralyze people Emotional agility skills are an antidote to this paralysis This process starts with labeling your thoughts and feelings such as “I feel anxious I’m not going to be able to control my customers enough to keep my staff safe” Stating your fears out loud helps diffuse them It’s like turning the light on in a dark room Next comes accepting reality For example “I understand that people will not always behave in ideal ways” List off every truth you need to accept Then comes acting your values Let’s say one of your highest values is conscientiousness How might that value apply in this situation For example it might involve making sure your employees all have masks that fit them well or feel comfortable airing any grievances they have Identify your five most important values related to decisionmaking in a crisis Then ask yourself how each of those is relevant to the important choices you face Repeat this process for each of your fears It will help you tolerate the fact that we sometimes need to act when the course of action isn’t clear and avoid the common anxiety trap whereby people try to reduce uncertainty to zero Focus on your processes  Worrying can help you make better decisions if you do it effectively Most people don’t When you worry it should be solutionsfocused not just perseverating on the presence of a threat Direct your worry towards behaviors that will realistically reduce the chances of failure We can control systems not outcomes What are your systems and processes for avoiding making mistakes Direct your worries into answering questions like these Is the data you’re relying on reliable What are the limitations of it How do your systems help prevent groupthink What procedures do you have in place to help you see your blind spots How do you ensure that you hear valuable perspectives from underrepresented stakeholders What are your processes for being alerted to a problem quickly and rectifying it if a decision has unexpected consequences Broaden your thinking  When we’re scared of making a mistake our thinking can narrow around that particular scenario Imagine you’re out walking at night You’re worried about tripping so you keep looking down at your feet Next thing you know you’ve walked into a lamp post Or imagine the person who is scared of flying They drive everywhere even though driving is objectively more dangerous When you open the aperture it can help you see your greatest fears in the broader context of all the other threats out there This can help you get a better perspective on what you fear the most It might seem illogical that you could reduce your fear of making a mistake by thinking about other negative outcomes But this strategy can help kick you into problemsolving mode and lessen the mental grip a particular fear has on you A leader might be so highly focused on minimizing or optimizing for one particular thing they don’t realize that other people care most about something else Find out what other people’s priorities are Recognize the value of leisure Fear grabs us It makes it difficult to direct our attention away This is how it is designed to work so that we don’t ignore threats Some people react to fear with extreme hypervigilance They want to be on guard at their command post at all times This might manifest as behavior like staying up all night to work That type of adrenalinfueled behavior can have shortterm value but it can also be myopic A different approach can be more useful for bigger picture thinking We need leisure and sleep to step back integrate the threads of our thinking see blindspots and think creatively Get some silent time Although much maligned a game of golf might be exactly what you need to think about tough problems holistically Detach from judgmentclouding noise  As mentioned when people are fearful they can go into alwayson monitoring mode You may have the urge to constantly look at what everyone else is doing to always be on social media or check data too frequently This can result in information overload Your mind can become so overwhelmed that you start to feel cloudy or shut down Recognize if you’re doing this and limit overmonitoring or over checking Avoid panicked frenzied behavior On its own being afraid of making mistakes doesn’t make you more or less likely to make good decisions If you worry excessively in a way that focuses only on how bad the experience of stress and uncertainty feels you might make do or say the wrong things However if you understand how anxiety works at a cognitive level you can use it to motivate careful but bold and wellreasoned choices Blackcoffer Insights 19 HARSH ARYA  ABHISHEK KUMAR SINGH AKGEC Ghaziabad \n",
      "['No', 'one', 'can', 'reduce', 'mistakes', 'to', 'zero', 'but', 'you', 'can', 'learn', 'to', 'harness', 'your', 'drive', 'to', 'prevent', 'them', 'and', 'channel', 'it', 'into', 'better', 'decision', 'making', 'Use', 'these', 'tips', 'to', 'become', 'a', 'more', 'effective', 'worrier', 'Don’t', 'be', 'afraid', 'or', 'ashamed', 'of', 'your', 'fear', 'Our', 'culture', 'glorifies', 'fearlessness', 'The', 'traditional', 'image', 'of', 'a', 'leader', 'is', 'one', 'who', 'is', 'smart', 'tough', 'and', 'unafraid', 'But', 'fear', 'like', 'any', 'emotion', 'has', 'an', 'evolutionary', 'purpose', 'and', 'upside', 'Your', 'concern', 'about', 'making', 'mistakes', 'is', 'there', 'to', 'remind', 'you', 'that', 'we’re', 'in', 'a', 'challenging', 'situation', 'A', 'cautious', 'leader', 'has', 'value', 'This', 'is', 'especially', 'true', 'in', 'times', 'like', 'these', 'So', 'don’t', 'get', 'caught', 'up', 'in', 'ruminating', '“I', 'shouldn’t', 'be', 'so', 'fearful”', 'Don’t', 'be', 'ashamed', 'or', 'afraid', 'of', 'your', 'fear', 'of', 'making', 'mistakes', 'and', 'don’t', 'interpret', 'it', 'as', 'evidence', 'that', 'you’re', 'an', 'indecisive', 'leader', 'or', 'not', 'bold', 'not', 'visionary', 'If', 'you', 'have', 'a', 'natural', 'tendency', 'to', 'be', 'preventionfocused', 'channel', 'it', 'to', 'be', 'bold', 'and', 'visionary', 'If', 'you', 'struggle', 'to', 'believe', 'this', 'identify', 'leaders', 'who', 'have', 'done', 'just', 'that', 'by', 'figuring', 'out', 'how', 'to', 'prevent', 'disasters', 'Use', 'emotional', 'agility', 'skills', 'Fear', 'of', 'mistakes', 'can', 'paralyze', 'people', 'Emotional', 'agility', 'skills', 'are', 'an', 'antidote', 'to', 'this', 'paralysis', 'This', 'process', 'starts', 'with', 'labeling', 'your', 'thoughts', 'and', 'feelings', 'such', 'as', '“I', 'feel', 'anxious', 'I’m', 'not', 'going', 'to', 'be', 'able', 'to', 'control', 'my', 'customers', 'enough', 'to', 'keep', 'my', 'staff', 'safe”', 'Stating', 'your', 'fears', 'out', 'loud', 'helps', 'diffuse', 'them', 'It’s', 'like', 'turning', 'the', 'light', 'on', 'in', 'a', 'dark', 'room', 'Next', 'comes', 'accepting', 'reality', 'For', 'example', '“I', 'understand', 'that', 'people', 'will', 'not', 'always', 'behave', 'in', 'ideal', 'ways”', 'List', 'off', 'every', 'truth', 'you', 'need', 'to', 'accept', 'Then', 'comes', 'acting', 'your', 'values', 'Let’s', 'say', 'one', 'of', 'your', 'highest', 'values', 'is', 'conscientiousness', 'How', 'might', 'that', 'value', 'apply', 'in', 'this', 'situation', 'For', 'example', 'it', 'might', 'involve', 'making', 'sure', 'your', 'employees', 'all', 'have', 'masks', 'that', 'fit', 'them', 'well', 'or', 'feel', 'comfortable', 'airing', 'any', 'grievances', 'they', 'have', 'Identify', 'your', 'five', 'most', 'important', 'values', 'related', 'to', 'decisionmaking', 'in', 'a', 'crisis', 'Then', 'ask', 'yourself', 'how', 'each', 'of', 'those', 'is', 'relevant', 'to', 'the', 'important', 'choices', 'you', 'face', 'Repeat', 'this', 'process', 'for', 'each', 'of', 'your', 'fears', 'It', 'will', 'help', 'you', 'tolerate', 'the', 'fact', 'that', 'we', 'sometimes', 'need', 'to', 'act', 'when', 'the', 'course', 'of', 'action', 'isn’t', 'clear', 'and', 'avoid', 'the', 'common', 'anxiety', 'trap', 'whereby', 'people', 'try', 'to', 'reduce', 'uncertainty', 'to', 'zero', 'Focus', 'on', 'your', 'processes', 'Worrying', 'can', 'help', 'you', 'make', 'better', 'decisions', 'if', 'you', 'do', 'it', 'effectively', 'Most', 'people', 'don’t', 'When', 'you', 'worry', 'it', 'should', 'be', 'solutionsfocused', 'not', 'just', 'perseverating', 'on', 'the', 'presence', 'of', 'a', 'threat', 'Direct', 'your', 'worry', 'towards', 'behaviors', 'that', 'will', 'realistically', 'reduce', 'the', 'chances', 'of', 'failure', 'We', 'can', 'control', 'systems', 'not', 'outcomes', 'What', 'are', 'your', 'systems', 'and', 'processes', 'for', 'avoiding', 'making', 'mistakes', 'Direct', 'your', 'worries', 'into', 'answering', 'questions', 'like', 'these', 'Is', 'the', 'data', 'you’re', 'relying', 'on', 'reliable', 'What', 'are', 'the', 'limitations', 'of', 'it', 'How', 'do', 'your', 'systems', 'help', 'prevent', 'groupthink', 'What', 'procedures', 'do', 'you', 'have', 'in', 'place', 'to', 'help', 'you', 'see', 'your', 'blind', 'spots', 'How', 'do', 'you', 'ensure', 'that', 'you', 'hear', 'valuable', 'perspectives', 'from', 'underrepresented', 'stakeholders', 'What', 'are', 'your', 'processes', 'for', 'being', 'alerted', 'to', 'a', 'problem', 'quickly', 'and', 'rectifying', 'it', 'if', 'a', 'decision', 'has', 'unexpected', 'consequences', 'Broaden', 'your', 'thinking', 'When', 'we’re', 'scared', 'of', 'making', 'a', 'mistake', 'our', 'thinking', 'can', 'narrow', 'around', 'that', 'particular', 'scenario', 'Imagine', 'you’re', 'out', 'walking', 'at', 'night', 'You’re', 'worried', 'about', 'tripping', 'so', 'you', 'keep', 'looking', 'down', 'at', 'your', 'feet', 'Next', 'thing', 'you', 'know', 'you’ve', 'walked', 'into', 'a', 'lamp', 'post', 'Or', 'imagine', 'the', 'person', 'who', 'is', 'scared', 'of', 'flying', 'They', 'drive', 'everywhere', 'even', 'though', 'driving', 'is', 'objectively', 'more', 'dangerous', 'When', 'you', 'open', 'the', 'aperture', 'it', 'can', 'help', 'you', 'see', 'your', 'greatest', 'fears', 'in', 'the', 'broader', 'context', 'of', 'all', 'the', 'other', 'threats', 'out', 'there', 'This', 'can', 'help', 'you', 'get', 'a', 'better', 'perspective', 'on', 'what', 'you', 'fear', 'the', 'most', 'It', 'might', 'seem', 'illogical', 'that', 'you', 'could', 'reduce', 'your', 'fear', 'of', 'making', 'a', 'mistake', 'by', 'thinking', 'about', 'other', 'negative', 'outcomes', 'But', 'this', 'strategy', 'can', 'help', 'kick', 'you', 'into', 'problemsolving', 'mode', 'and', 'lessen', 'the', 'mental', 'grip', 'a', 'particular', 'fear', 'has', 'on', 'you', 'A', 'leader', 'might', 'be', 'so', 'highly', 'focused', 'on', 'minimizing', 'or', 'optimizing', 'for', 'one', 'particular', 'thing', 'they', 'don’t', 'realize', 'that', 'other', 'people', 'care', 'most', 'about', 'something', 'else', 'Find', 'out', 'what', 'other', 'people’s', 'priorities', 'are', 'Recognize', 'the', 'value', 'of', 'leisure', 'Fear', 'grabs', 'us', 'It', 'makes', 'it', 'difficult', 'to', 'direct', 'our', 'attention', 'away', 'This', 'is', 'how', 'it', 'is', 'designed', 'to', 'work', 'so', 'that', 'we', 'don’t', 'ignore', 'threats', 'Some', 'people', 'react', 'to', 'fear', 'with', 'extreme', 'hypervigilance', 'They', 'want', 'to', 'be', 'on', 'guard', 'at', 'their', 'command', 'post', 'at', 'all', 'times', 'This', 'might', 'manifest', 'as', 'behavior', 'like', 'staying', 'up', 'all', 'night', 'to', 'work', 'That', 'type', 'of', 'adrenalinfueled', 'behavior', 'can', 'have', 'shortterm', 'value', 'but', 'it', 'can', 'also', 'be', 'myopic', 'A', 'different', 'approach', 'can', 'be', 'more', 'useful', 'for', 'bigger', 'picture', 'thinking', 'We', 'need', 'leisure', 'and', 'sleep', 'to', 'step', 'back', 'integrate', 'the', 'threads', 'of', 'our', 'thinking', 'see', 'blindspots', 'and', 'think', 'creatively', 'Get', 'some', 'silent', 'time', 'Although', 'much', 'maligned', 'a', 'game', 'of', 'golf', 'might', 'be', 'exactly', 'what', 'you', 'need', 'to', 'think', 'about', 'tough', 'problems', 'holistically', 'Detach', 'from', 'judgmentclouding', 'noise', 'As', 'mentioned', 'when', 'people', 'are', 'fearful', 'they', 'can', 'go', 'into', 'alwayson', 'monitoring', 'mode', 'You', 'may', 'have', 'the', 'urge', 'to', 'constantly', 'look', 'at', 'what', 'everyone', 'else', 'is', 'doing', 'to', 'always', 'be', 'on', 'social', 'media', 'or', 'check', 'data', 'too', 'frequently', 'This', 'can', 'result', 'in', 'information', 'overload', 'Your', 'mind', 'can', 'become', 'so', 'overwhelmed', 'that', 'you', 'start', 'to', 'feel', 'cloudy', 'or', 'shut', 'down', 'Recognize', 'if', 'you’re', 'doing', 'this', 'and', 'limit', 'overmonitoring', 'or', 'over', 'checking', 'Avoid', 'panicked', 'frenzied', 'behavior', 'On', 'its', 'own', 'being', 'afraid', 'of', 'making', 'mistakes', 'doesn’t', 'make', 'you', 'more', 'or', 'less', 'likely', 'to', 'make', 'good', 'decisions', 'If', 'you', 'worry', 'excessively', 'in', 'a', 'way', 'that', 'focuses', 'only', 'on', 'how', 'bad', 'the', 'experience', 'of', 'stress', 'and', 'uncertainty', 'feels', 'you', 'might', 'make', 'do', 'or', 'say', 'the', 'wrong', 'things', 'However', 'if', 'you', 'understand', 'how', 'anxiety', 'works', 'at', 'a', 'cognitive', 'level', 'you', 'can', 'use', 'it', 'to', 'motivate', 'careful', 'but', 'bold', 'and', 'wellreasoned', 'choices', 'Blackcoffer', 'Insights', '19', 'HARSH', 'ARYA', 'ABHISHEK', 'KUMAR', 'SINGH', 'AKGEC', 'Ghaziabad']\n"
     ]
    }
   ],
   "source": [
    "content=soup.findAll(attrs={'class':'td-post-content'})\n",
    "content=content[0].text.replace('\\n',\" \")\n",
    "print(content)\n",
    "#Punctuation\n",
    "content = content.translate(str.maketrans('', '', string.punctuation)) \n",
    "print(content)\n",
    "text = content.split()\n",
    "print(text)\n"
   ]
  },
  {
   "cell_type": "code",
   "execution_count": 3,
   "id": "c82a2e3c",
   "metadata": {},
   "outputs": [
    {
     "data": {
      "text/plain": [
       "988"
      ]
     },
     "execution_count": 3,
     "metadata": {},
     "output_type": "execute_result"
    }
   ],
   "source": [
    "len(text)"
   ]
  },
  {
   "cell_type": "code",
   "execution_count": 4,
   "id": "f5fa5675",
   "metadata": {},
   "outputs": [
    {
     "name": "stdout",
     "output_type": "stream",
     "text": [
      "34\n"
     ]
    }
   ],
   "source": [
    "#Positive Score \n",
    "with open(r\"C:\\Users\\Om Bhandwalkar\\Desktop\\pos\\positive-words.txt\") as pos:\n",
    "    poswords = pos.read().split(\"\\n\")  \n",
    "    poswords = poswords[5:]\n",
    "pos_count = \" \".join ([w for w in text if w in poswords])\n",
    "pos_count=pos_count.split(\" \")\n",
    "Positive_score=len(pos_count)\n",
    "print(Positive_score)"
   ]
  },
  {
   "cell_type": "code",
   "execution_count": 5,
   "id": "cd8bc5a8",
   "metadata": {},
   "outputs": [
    {
     "name": "stdout",
     "output_type": "stream",
     "text": [
      "68\n"
     ]
    }
   ],
   "source": [
    "#Negative Score\n",
    "with open(r\"C:\\Users\\Om Bhandwalkar\\Desktop\\pos\\negative-words.txt\",encoding =\"ISO-8859-1\") as neg:\n",
    "    negwords = neg.read().split(\"\\n\")\n",
    "    \n",
    "negwords = negwords[36:]\n",
    "neg_count = \" \".join ([w for w in text if w in negwords])\n",
    "neg_count=neg_count.split(\" \")\n",
    "Negative_score=len(neg_count)\n",
    "print(Negative_score)"
   ]
  },
  {
   "cell_type": "code",
   "execution_count": 6,
   "id": "a0aed6d4",
   "metadata": {},
   "outputs": [
    {
     "data": {
      "text/html": [
       "<div>\n",
       "<style scoped>\n",
       "    .dataframe tbody tr th:only-of-type {\n",
       "        vertical-align: middle;\n",
       "    }\n",
       "\n",
       "    .dataframe tbody tr th {\n",
       "        vertical-align: top;\n",
       "    }\n",
       "\n",
       "    .dataframe thead th {\n",
       "        text-align: right;\n",
       "    }\n",
       "</style>\n",
       "<table border=\"1\" class=\"dataframe\">\n",
       "  <thead>\n",
       "    <tr style=\"text-align: right;\">\n",
       "      <th></th>\n",
       "      <th>url</th>\n",
       "      <th>title</th>\n",
       "      <th>content</th>\n",
       "      <th>filter_content</th>\n",
       "      <th>Positive_Score</th>\n",
       "      <th>Negative_Score</th>\n",
       "      <th>polarity</th>\n",
       "      <th>subjectivity</th>\n",
       "    </tr>\n",
       "  </thead>\n",
       "  <tbody>\n",
       "    <tr>\n",
       "      <th>0</th>\n",
       "      <td>https://insights.blackcoffer.com/how-to-overco...</td>\n",
       "      <td>How to Overcome Your Fear of Making Mistakes</td>\n",
       "      <td>No one can reduce mistakes to zero but you ca...</td>\n",
       "      <td>No one can reduce mistakes to zero but you can...</td>\n",
       "      <td>34</td>\n",
       "      <td>68</td>\n",
       "      <td>0.075956</td>\n",
       "      <td>0.576781</td>\n",
       "    </tr>\n",
       "  </tbody>\n",
       "</table>\n",
       "</div>"
      ],
      "text/plain": [
       "                                                 url  \\\n",
       "0  https://insights.blackcoffer.com/how-to-overco...   \n",
       "\n",
       "                                          title  \\\n",
       "0  How to Overcome Your Fear of Making Mistakes   \n",
       "\n",
       "                                             content  \\\n",
       "0   No one can reduce mistakes to zero but you ca...   \n",
       "\n",
       "                                      filter_content  Positive_Score  \\\n",
       "0  No one can reduce mistakes to zero but you can...              34   \n",
       "\n",
       "   Negative_Score  polarity  subjectivity  \n",
       "0              68  0.075956      0.576781  "
      ]
     },
     "execution_count": 6,
     "metadata": {},
     "output_type": "execute_result"
    }
   ],
   "source": [
    "filter_content = ' '.join(text)\n",
    "data=[[url,title,content,filter_content,Positive_score,Negative_score]]\n",
    "data=pd.DataFrame(data,columns=[\"url\",\"title\",\"content\",\"filter_content\",\"Positive_Score\",\"Negative_Score\"])\n",
    "from textblob import TextBlob\n",
    "# Get The Subjectivity\n",
    "def sentiment_analysis(data):\n",
    "    sentiment = TextBlob(data[\"content\"]).sentiment\n",
    "    return pd.Series([sentiment.polarity,sentiment.subjectivity ])\n",
    "\n",
    "# Adding Subjectivity & Polarity\n",
    "data[[\"polarity\", \"subjectivity\"]] = data.apply(sentiment_analysis, axis=1)\n",
    "\n",
    "data"
   ]
  },
  {
   "cell_type": "code",
   "execution_count": 7,
   "id": "c56e4860",
   "metadata": {},
   "outputs": [
    {
     "name": "stdout",
     "output_type": "stream",
     "text": [
      "Word average = 4749.0\n",
      "FOG INDEX =  398.88\n",
      "Average no of words per sentence\n",
      "988.0\n",
      "Complex Words 1671\n"
     ]
    }
   ],
   "source": [
    "#AVG SENTENCE LENGTH\n",
    "AVG_SENTENCE_LENGTH = len(content.replace(' ',''))/len(re.split(r'[?!.]', content))\n",
    "print('Word average =', AVG_SENTENCE_LENGTH)\n",
    "import textstat\n",
    "#Fog index \n",
    "FOG_INDEX=(textstat.gunning_fog(content))\n",
    "print(\"FOG INDEX = \",FOG_INDEX)\n",
    "#Average No of Words Per Sentence \n",
    "AVG_NUMBER_OF_WORDS_PER_SENTENCE = [len(l.split()) for l in re.split(r'[?!.]', content) if l.strip()]\n",
    "print(\"Average no of words per sentence\")\n",
    "AVG_NUMBER_OF_WORDS_PER_SENTENCE=print(sum(AVG_NUMBER_OF_WORDS_PER_SENTENCE)/len(AVG_NUMBER_OF_WORDS_PER_SENTENCE))\n",
    "#Complex words\n",
    "def syllable_count(word):\n",
    "    count = 0\n",
    "    vowels = \"AEIOUYaeiouy\"\n",
    "    if word[0] in vowels:\n",
    "        count += 1\n",
    "    for index in range(1, len(word)): \n",
    "        if word[index] in vowels and word[index - 1] not in vowels:\n",
    "            count += 1\n",
    "            if word.endswith(\"es\"or \"ed\"):\n",
    "                count -= 1\n",
    "    if count == 0:\n",
    "        count += 1\n",
    "    return count\n",
    "\n",
    "\n",
    "\n",
    "COMPLEX_WORDS=syllable_count(content)\n",
    "print(\"Complex Words\",COMPLEX_WORDS)\n"
   ]
  },
  {
   "cell_type": "code",
   "execution_count": 8,
   "id": "6d8f885d",
   "metadata": {},
   "outputs": [
    {
     "name": "stdout",
     "output_type": "stream",
     "text": [
      "Word Count 5732\n",
      "Percentage of Complex Words 29.15212840195394\n",
      "Average Word per Length 4.80668016194332\n",
      "The AVG number of syllables in the word is: \n",
      "2.0404858299595143\n"
     ]
    }
   ],
   "source": [
    "#Word Count\n",
    "Word_Count=len(content)\n",
    "print(\"Word Count\",Word_Count)\n",
    "#Percentage Complex Words\n",
    "pcw=(COMPLEX_WORDS/Word_Count)*100\n",
    "print(\"Percentage of Complex Words\",pcw)\n",
    "#Average Word Length\n",
    "Average_Word_Length=len(content.replace(' ',''))/len(content.split())\n",
    "print(\"Average Word per Length\",Average_Word_Length)\n",
    "#Syllable Count Per Word\n",
    "word=content.replace(' ','')\n",
    "syllable_count=0\n",
    "for w in word:\n",
    "      if(w=='a' or w=='e' or w=='i' or w=='o' or w=='y' or w=='u' or w=='A' or w=='E' or w=='I' or w=='O' or w=='U' or w=='Y'):\n",
    "            syllable_count=syllable_count+1\n",
    "print(\"The AVG number of syllables in the word is: \")\n",
    "print(syllable_count/len(content.split()))"
   ]
  },
  {
   "cell_type": "code",
   "execution_count": 1,
   "id": "7f744a69",
   "metadata": {},
   "outputs": [
    {
     "name": "stdout",
     "output_type": "stream",
     "text": [
      "34\n",
      "68\n",
      "Word average = 4749.0\n",
      "FOG INDEX =  398.88\n",
      "Average no of words per sentence\n",
      "988.0\n",
      "Complex Words 1671\n",
      "Word Count 5732\n",
      "Percentage of Complex Words 29.15212840195394\n",
      "Average Word per Length 4.80668016194332\n",
      "The AVG number of syllables in the word is: \n",
      "2.0404858299595143\n"
     ]
    },
    {
     "data": {
      "text/html": [
       "<div>\n",
       "<style scoped>\n",
       "    .dataframe tbody tr th:only-of-type {\n",
       "        vertical-align: middle;\n",
       "    }\n",
       "\n",
       "    .dataframe tbody tr th {\n",
       "        vertical-align: top;\n",
       "    }\n",
       "\n",
       "    .dataframe thead th {\n",
       "        text-align: right;\n",
       "    }\n",
       "</style>\n",
       "<table border=\"1\" class=\"dataframe\">\n",
       "  <thead>\n",
       "    <tr style=\"text-align: right;\">\n",
       "      <th></th>\n",
       "      <th>url</th>\n",
       "      <th>title</th>\n",
       "      <th>content</th>\n",
       "      <th>filter_content</th>\n",
       "      <th>Positive_Score</th>\n",
       "      <th>Negative_Score</th>\n",
       "      <th>Avg_Sentence_Length</th>\n",
       "      <th>Percentage_Complex_Word</th>\n",
       "      <th>Fog_Index</th>\n",
       "      <th>AVG_NUMBER_OF_WORDS_PER_SENTENCE</th>\n",
       "      <th>COMPLEX_WORDS</th>\n",
       "      <th>Word_Count</th>\n",
       "      <th>syllable</th>\n",
       "      <th>Average_Word_Length</th>\n",
       "      <th>polarity</th>\n",
       "      <th>subjectivity</th>\n",
       "    </tr>\n",
       "  </thead>\n",
       "  <tbody>\n",
       "    <tr>\n",
       "      <th>0</th>\n",
       "      <td>https://insights.blackcoffer.com/how-to-overco...</td>\n",
       "      <td>How to Overcome Your Fear of Making Mistakes</td>\n",
       "      <td>No one can reduce mistakes to zero but you ca...</td>\n",
       "      <td>No one can reduce mistakes to zero but you can...</td>\n",
       "      <td>34</td>\n",
       "      <td>68</td>\n",
       "      <td>4749.0</td>\n",
       "      <td>29.152128</td>\n",
       "      <td>398.88</td>\n",
       "      <td>988.0</td>\n",
       "      <td>1671</td>\n",
       "      <td>5732</td>\n",
       "      <td>2.040486</td>\n",
       "      <td>4.80668</td>\n",
       "      <td>0.075956</td>\n",
       "      <td>0.576781</td>\n",
       "    </tr>\n",
       "  </tbody>\n",
       "</table>\n",
       "</div>"
      ],
      "text/plain": [
       "                                                 url  \\\n",
       "0  https://insights.blackcoffer.com/how-to-overco...   \n",
       "\n",
       "                                          title  \\\n",
       "0  How to Overcome Your Fear of Making Mistakes   \n",
       "\n",
       "                                             content  \\\n",
       "0   No one can reduce mistakes to zero but you ca...   \n",
       "\n",
       "                                      filter_content  Positive_Score  \\\n",
       "0  No one can reduce mistakes to zero but you can...              34   \n",
       "\n",
       "   Negative_Score  Avg_Sentence_Length  Percentage_Complex_Word  Fog_Index  \\\n",
       "0              68               4749.0                29.152128     398.88   \n",
       "\n",
       "    AVG_NUMBER_OF_WORDS_PER_SENTENCE  COMPLEX_WORDS  Word_Count  syllable  \\\n",
       "0                              988.0           1671        5732  2.040486   \n",
       "\n",
       "   Average_Word_Length  polarity  subjectivity  \n",
       "0              4.80668  0.075956      0.576781  "
      ]
     },
     "execution_count": 1,
     "metadata": {},
     "output_type": "execute_result"
    }
   ],
   "source": [
    "import requests\n",
    "import pandas as pd \n",
    "from bs4 import BeautifulSoup\n",
    "import string\n",
    "import spacy\n",
    "import re\n",
    "url = \"\"\"https://insights.blackcoffer.com/how-to-overcome-your-fear-of-making-mistakes-2/\"\"\"\n",
    "headers = {\"User-Agent\": \"Mozilla/5.0 (X11; Linux x86_64; rv:60.0) Gecko/20100101 Firefox/60.0\"}\n",
    "page = requests.get(url, headers=headers)\n",
    "soup = BeautifulSoup(page.content, 'html.parser')\n",
    "soup=BeautifulSoup(page.content, 'html.parser')\n",
    "title=soup.find('h1',class_=\"entry-title\")\n",
    "title=title.text.replace('\\n',\" \")\n",
    "# title\n",
    "\n",
    "content=soup.findAll(attrs={'class':'td-post-content'})\n",
    "content=content[0].text.replace('\\n',\" \")\n",
    "# print(content)\n",
    "#Punctuation\n",
    "content = content.translate(str.maketrans('', '', string.punctuation)) \n",
    "# print(content)\n",
    "text = content.split()\n",
    "# print(text)\n",
    "len(text)\n",
    "#Positive Score \n",
    "with open(r\"C:\\Users\\Om Bhandwalkar\\Desktop\\pos\\positive-words.txt\") as pos:\n",
    "    poswords = pos.read().split(\"\\n\")  \n",
    "    poswords = poswords[5:]\n",
    "pos_count = \" \".join ([w for w in text if w in poswords])\n",
    "pos_count=pos_count.split(\" \")\n",
    "Positive_score=len(pos_count)\n",
    "print(Positive_score)\n",
    "\n",
    "#Negative Score\n",
    "with open(r\"C:\\Users\\Om Bhandwalkar\\Desktop\\pos\\negative-words.txt\",encoding =\"ISO-8859-1\") as neg:\n",
    "    negwords = neg.read().split(\"\\n\")\n",
    "    \n",
    "negwords = negwords[36:]\n",
    "neg_count = \" \".join ([w for w in text if w in negwords])\n",
    "neg_count=neg_count.split(\" \")\n",
    "Negative_score=len(neg_count)\n",
    "print(Negative_score)\n",
    "\n",
    "\n",
    "filter_content = ' '.join(text)\n",
    "data=[[url,title,content,filter_content,Positive_score,Negative_score]]\n",
    "data=pd.DataFrame(data,columns=[\"url\",\"title\",\"content\",\"filter_content\",\"Positive_Score\",\"Negative_Score\"])\n",
    "from textblob import TextBlob\n",
    "# Get The Subjectivity\n",
    "def sentiment_analysis(data):\n",
    "    sentiment = TextBlob(data[\"content\"]).sentiment\n",
    "    return pd.Series([sentiment.polarity,sentiment.subjectivity ])\n",
    "data[[\"polarity\", \"subjectivity\"]] = data.apply(sentiment_analysis, axis=1)\n",
    "data\n",
    "#AVG SENTENCE LENGTH\n",
    "AVG_SENTENCE_LENGTH = len(content.replace(' ',''))/len(re.split(r'[?!.]', content))\n",
    "print('Word average =', AVG_SENTENCE_LENGTH)\n",
    "import textstat\n",
    "#Fog index \n",
    "FOG_INDEX=(textstat.gunning_fog(content))\n",
    "print(\"FOG INDEX = \",FOG_INDEX)\n",
    "#Average No of Words Per Sentence \n",
    "AVG_NUMBER_OF_WORDS_PER_SENTENCE = [len(l.split()) for l in re.split(r'[?!.]', content) if l.strip()]\n",
    "print(\"Average no of words per sentence\")\n",
    "AVG_NUMBER_OF_WORDS_PER_SENTENCE=(sum(AVG_NUMBER_OF_WORDS_PER_SENTENCE)/len(AVG_NUMBER_OF_WORDS_PER_SENTENCE))\n",
    "print(AVG_NUMBER_OF_WORDS_PER_SENTENCE)\n",
    "#Complex words\n",
    "def syllable_count(word):\n",
    "    count = 0\n",
    "    vowels = \"AEIOUYaeiouy\"\n",
    "    if word[0] in vowels:\n",
    "        count += 1\n",
    "    for index in range(1, len(word)): \n",
    "        if word[index] in vowels and word[index - 1] not in vowels:\n",
    "            count += 1\n",
    "            if word.endswith(\"es\"or \"ed\"):\n",
    "                count -= 1\n",
    "    if count == 0:\n",
    "        count += 1\n",
    "    return count\n",
    "\n",
    "\n",
    "\n",
    "COMPLEX_WORDS=syllable_count(content)\n",
    "print(\"Complex Words\",COMPLEX_WORDS)\n",
    "#Word Count\n",
    "Word_Count=len(content)\n",
    "print(\"Word Count\",Word_Count)\n",
    "#Percentage Complex Words\n",
    "pcw=(COMPLEX_WORDS/Word_Count)*100\n",
    "print(\"Percentage of Complex Words\",pcw)\n",
    "#Average Word Length\n",
    "Average_Word_Length=len(content.replace(' ',''))/len(content.split())\n",
    "print(\"Average Word per Length\",Average_Word_Length)\n",
    "#Syllable Count Per Word\n",
    "word=content.replace(' ','')\n",
    "syllable_count=0\n",
    "for w in word:\n",
    "      if(w=='a' or w=='e' or w=='i' or w=='o' or w=='y' or w=='u' or w=='A' or w=='E' or w=='I' or w=='O' or w=='U' or w=='Y'):\n",
    "            syllable_count=syllable_count+1\n",
    "print(\"The AVG number of syllables in the word is: \")\n",
    "syllable = (syllable_count/len(content.split()))\n",
    "print(syllable)\n",
    "\n",
    "data = [[url,title,content,filter_content,Positive_score,Negative_score,AVG_SENTENCE_LENGTH,pcw,FOG_INDEX,\n",
    "         AVG_NUMBER_OF_WORDS_PER_SENTENCE,COMPLEX_WORDS,Word_Count,syllable,Average_Word_Length]]\n",
    "data=pd.DataFrame(data,columns=[\"url\",\"title\",\"content\",\"filter_content\",\"Positive_Score\",\"Negative_Score\",\"Avg_Sentence_Length\"\n",
    "                               ,\"Percentage_Complex_Word\",\"Fog_Index\",\" AVG_NUMBER_OF_WORDS_PER_SENTENCE\",\"COMPLEX_WORDS\",\n",
    "                               \"Word_Count\",\"syllable\",\"Average_Word_Length\"])\n",
    "from textblob import TextBlob\n",
    "# Get The Subjectivity\n",
    "def sentiment_analysis(data):\n",
    "    sentiment = TextBlob(data[\"content\"]).sentiment\n",
    "    return pd.Series([sentiment.polarity,sentiment.subjectivity ])\n",
    "data[[\"polarity\", \"subjectivity\"]] = data.apply(sentiment_analysis, axis=1)\n",
    "data"
   ]
  },
  {
   "cell_type": "code",
   "execution_count": 2,
   "id": "16ee695e",
   "metadata": {},
   "outputs": [],
   "source": [
    "data.to_csv(r'C:\\Users\\Om Bhandwalkar\\Desktop\\BlackCoffer Assignment\\Output\\url_79.csv')"
   ]
  },
  {
   "cell_type": "code",
   "execution_count": null,
   "id": "7ec71c5a",
   "metadata": {},
   "outputs": [],
   "source": []
  }
 ],
 "metadata": {
  "kernelspec": {
   "display_name": "Python 3 (ipykernel)",
   "language": "python",
   "name": "python3"
  },
  "language_info": {
   "codemirror_mode": {
    "name": "ipython",
    "version": 3
   },
   "file_extension": ".py",
   "mimetype": "text/x-python",
   "name": "python",
   "nbconvert_exporter": "python",
   "pygments_lexer": "ipython3",
   "version": "3.9.12"
  }
 },
 "nbformat": 4,
 "nbformat_minor": 5
}
