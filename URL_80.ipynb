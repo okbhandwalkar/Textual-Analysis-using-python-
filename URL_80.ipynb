{
 "cells": [
  {
   "cell_type": "code",
   "execution_count": 1,
   "id": "4742091e",
   "metadata": {},
   "outputs": [
    {
     "data": {
      "text/plain": [
       "'Is Perfection the Greatest enemy of Productivity?'"
      ]
     },
     "execution_count": 1,
     "metadata": {},
     "output_type": "execute_result"
    }
   ],
   "source": [
    "import requests\n",
    "import pandas as pd \n",
    "from bs4 import BeautifulSoup\n",
    "import string\n",
    "import spacy\n",
    "import re\n",
    "url = \"\"\"https://insights.blackcoffer.com/is-perfection-the-greatest-enemy-of-productivity/\"\"\"\n",
    "headers = {\"User-Agent\": \"Mozilla/5.0 (X11; Linux x86_64; rv:60.0) Gecko/20100101 Firefox/60.0\"}\n",
    "page = requests.get(url, headers=headers)\n",
    "soup = BeautifulSoup(page.content, 'html.parser')\n",
    "soup=BeautifulSoup(page.content, 'html.parser')\n",
    "title=soup.find('h1',class_=\"entry-title\")\n",
    "title=title.text.replace('\\n',\" \")\n",
    "title\n"
   ]
  },
  {
   "cell_type": "code",
   "execution_count": 2,
   "id": "d3a53829",
   "metadata": {},
   "outputs": [
    {
     "name": "stdout",
     "output_type": "stream",
     "text": [
      " What’s perfection really? Does every person expect perfection from oneself or someone else? Or is it in certain amounts? Many times the certain question comes to the mind when we think about what we deem perfect. But how do we verify it? Let us understand this through the work of three individuals who know are to be put on a task in carpentry on a budget. All are given Rs. 5000 (Assumed) to complete this task. They can’t go beyond this budget. Manish, Vinay, and Sameer need to make a stool for themselves each. Manish has no understanding of carpentry; he learns from YouTube. Vinay took his carpentry lessons during engineering, so he has a practical idea of how to make a stool. But Sameer is a Carpenter, so he has a total understanding of the material, process, and final product. Let us start with Manish. Understand that the task is to get their jobs done. Manish has two options here. He can either order parts and assemble it himself or order the material required such as wood, glue, nails, etc and then work on it before the assembly of the final product. The only difference is his lack of expertise in this field. Vinay has the same options but has practical experience from his carpentry classes during the workshop in Engineering. Sameer has an advantage since he has both skill and experience perfected over a course of time. All three are given three days for the task. Since Manish finds it easy to assemble the stool using parts procured from another carpenter; he talks to a carpenter he knows and orders 3 leg parts, 6 horizontal support bars, and one circular base which will sit on the top. Vinay thinks he will be able to shape the parts because of his experience as a student and orders several cylindrical wooden leg parts, cuboidal bars, and a thick sheet. Sameer has all the required material in his shop and he begins to work on the stool on the first day. Manish and Vinay wait for a day for the parts to come. They begin to work on the second day. Manish uses the tricks learned from YouTube videos; uses a hammer to place the nails purchased from a nearby shop in the pre-made hole, applies glue in certain areas as directed in the video, and places weight on the assembled stool. He waits for the glue to cure. Vinay uses borrowed drill bits, drill machines, cutters, sandpapers purchased from a shop, etc, and starts working on the wooden parts as soon as the parts arrive in the morning. He is able to recall his carpentry instructions and attempts to shape the parts based on drawing of his product he made last night. Sameer meanwhile has completed his assembly and has put the assembly to rest for the glue to cure. On the third day, each of them has the stool ready. They evaluate their own work and notice certain facts. Manish notices that he did complete the task but, his stool was wobbly and not glued well. It could fall the moment he sits on it. Also, he forgets to polish the wooden parts and give it a professional finish since he forgot to watch that bit of video over YouTube. Vinay completes the task his stool is sturdy and cured well overnight. But there are minor issues with it. One of the three legs is cut short by a few mm and the stool, a tad unstable. Sameer on the other hand completes the task with a good product. The stool is well-balanced, and polished, as he expected from him. Sameer is satisfied with his work and finds it to stool Perfect. Manish thinks he did his best considering he had no experience of the task to be done. He is satisfied with his work. But Vinay is unhappy, he could have done better and made the product better. He doesn’t find his efforts well put and thinks he wasn’t productive enough and hence his stool is nowhere perfect. Understand that all of them had a set of skills and experience, but only Sameer had the right skills and experience to produce a perfect product. Manish and Sameer were satisfied and happy with their work. Manish made a wobbly stool which could break the moment someone sat on it but happy he gave the task a go. He thinks put the efforts and he did a good job. It was only Vinay who could not overcome the fact that his work was not perfect. In Vinay’s case, it can be observed that he could not deliver what he learned from carpentry classes. The reason is simple, he put effort but didn’t have the experience. Experience mattered. Since Vinay thinks otherwise, he believes he has the perfect skills to complete the task but he could not deliver the results. He is not satisfied with his results and wishes to spend another day working on the stool on his own to get to his idea of the perfect result. In this case, the idea of perfection itself is misplaced. You see, the end product made by Vinay and Manish would not match Sameer’s but the task could have been completed had they understood where their shortcomings lied. For both, it was their skill. Sameer had the perfect skill to get the expected result which resulted in better productivity, others didn’t. And in this story, every individual put effort regardless of the result. But some were satisfied and some dissatisfied. Their satisfaction made their creations perfect in their eyes and dissatisfaction made one believe he wasn’t productive enough.   “Perfection is subjective and productivity is utility extracted given a certain amount of effort”. You can try to be as productive to achieve something but ultimately, it’s the satisfaction you get that defines the boundary of perfection. If you aren’t satisfied, you won’t find anything perfect. You would just waste both your time and effort over something that doesn’t suit you in the first place, as explained in the story before.  “It isn’t productivity that will be the greatest enemy but your satisfaction”. Satisfaction will determine how you perceive perfection and defines where your threshold for perfection lies. The real enemy is dissatisfaction. You get demotivated and restless. You lose sight and discontinue only because you are unable to pass your own expectation. So, it’s the only obstacle that comes in between productivity, from time to time. Productivity is far from being your enemy. The greatest enemy will be your expectations which lead to dissatisfaction. It will play a major role in crafting your idea of Perfection in every day. Blackcoffer Insights 19: Jude Francis, Institute of Management Technology (IMT), Nagpur \n",
      " What’s perfection really Does every person expect perfection from oneself or someone else Or is it in certain amounts Many times the certain question comes to the mind when we think about what we deem perfect But how do we verify it Let us understand this through the work of three individuals who know are to be put on a task in carpentry on a budget All are given Rs 5000 Assumed to complete this task They can’t go beyond this budget Manish Vinay and Sameer need to make a stool for themselves each Manish has no understanding of carpentry he learns from YouTube Vinay took his carpentry lessons during engineering so he has a practical idea of how to make a stool But Sameer is a Carpenter so he has a total understanding of the material process and final product Let us start with Manish Understand that the task is to get their jobs done Manish has two options here He can either order parts and assemble it himself or order the material required such as wood glue nails etc and then work on it before the assembly of the final product The only difference is his lack of expertise in this field Vinay has the same options but has practical experience from his carpentry classes during the workshop in Engineering Sameer has an advantage since he has both skill and experience perfected over a course of time All three are given three days for the task Since Manish finds it easy to assemble the stool using parts procured from another carpenter he talks to a carpenter he knows and orders 3 leg parts 6 horizontal support bars and one circular base which will sit on the top Vinay thinks he will be able to shape the parts because of his experience as a student and orders several cylindrical wooden leg parts cuboidal bars and a thick sheet Sameer has all the required material in his shop and he begins to work on the stool on the first day Manish and Vinay wait for a day for the parts to come They begin to work on the second day Manish uses the tricks learned from YouTube videos uses a hammer to place the nails purchased from a nearby shop in the premade hole applies glue in certain areas as directed in the video and places weight on the assembled stool He waits for the glue to cure Vinay uses borrowed drill bits drill machines cutters sandpapers purchased from a shop etc and starts working on the wooden parts as soon as the parts arrive in the morning He is able to recall his carpentry instructions and attempts to shape the parts based on drawing of his product he made last night Sameer meanwhile has completed his assembly and has put the assembly to rest for the glue to cure On the third day each of them has the stool ready They evaluate their own work and notice certain facts Manish notices that he did complete the task but his stool was wobbly and not glued well It could fall the moment he sits on it Also he forgets to polish the wooden parts and give it a professional finish since he forgot to watch that bit of video over YouTube Vinay completes the task his stool is sturdy and cured well overnight But there are minor issues with it One of the three legs is cut short by a few mm and the stool a tad unstable Sameer on the other hand completes the task with a good product The stool is wellbalanced and polished as he expected from him Sameer is satisfied with his work and finds it to stool Perfect Manish thinks he did his best considering he had no experience of the task to be done He is satisfied with his work But Vinay is unhappy he could have done better and made the product better He doesn’t find his efforts well put and thinks he wasn’t productive enough and hence his stool is nowhere perfect Understand that all of them had a set of skills and experience but only Sameer had the right skills and experience to produce a perfect product Manish and Sameer were satisfied and happy with their work Manish made a wobbly stool which could break the moment someone sat on it but happy he gave the task a go He thinks put the efforts and he did a good job It was only Vinay who could not overcome the fact that his work was not perfect In Vinay’s case it can be observed that he could not deliver what he learned from carpentry classes The reason is simple he put effort but didn’t have the experience Experience mattered Since Vinay thinks otherwise he believes he has the perfect skills to complete the task but he could not deliver the results He is not satisfied with his results and wishes to spend another day working on the stool on his own to get to his idea of the perfect result In this case the idea of perfection itself is misplaced You see the end product made by Vinay and Manish would not match Sameer’s but the task could have been completed had they understood where their shortcomings lied For both it was their skill Sameer had the perfect skill to get the expected result which resulted in better productivity others didn’t And in this story every individual put effort regardless of the result But some were satisfied and some dissatisfied Their satisfaction made their creations perfect in their eyes and dissatisfaction made one believe he wasn’t productive enough   “Perfection is subjective and productivity is utility extracted given a certain amount of effort” You can try to be as productive to achieve something but ultimately it’s the satisfaction you get that defines the boundary of perfection If you aren’t satisfied you won’t find anything perfect You would just waste both your time and effort over something that doesn’t suit you in the first place as explained in the story before  “It isn’t productivity that will be the greatest enemy but your satisfaction” Satisfaction will determine how you perceive perfection and defines where your threshold for perfection lies The real enemy is dissatisfaction You get demotivated and restless You lose sight and discontinue only because you are unable to pass your own expectation So it’s the only obstacle that comes in between productivity from time to time Productivity is far from being your enemy The greatest enemy will be your expectations which lead to dissatisfaction It will play a major role in crafting your idea of Perfection in every day Blackcoffer Insights 19 Jude Francis Institute of Management Technology IMT Nagpur \n",
      "['What’s', 'perfection', 'really', 'Does', 'every', 'person', 'expect', 'perfection', 'from', 'oneself', 'or', 'someone', 'else', 'Or', 'is', 'it', 'in', 'certain', 'amounts', 'Many', 'times', 'the', 'certain', 'question', 'comes', 'to', 'the', 'mind', 'when', 'we', 'think', 'about', 'what', 'we', 'deem', 'perfect', 'But', 'how', 'do', 'we', 'verify', 'it', 'Let', 'us', 'understand', 'this', 'through', 'the', 'work', 'of', 'three', 'individuals', 'who', 'know', 'are', 'to', 'be', 'put', 'on', 'a', 'task', 'in', 'carpentry', 'on', 'a', 'budget', 'All', 'are', 'given', 'Rs', '5000', 'Assumed', 'to', 'complete', 'this', 'task', 'They', 'can’t', 'go', 'beyond', 'this', 'budget', 'Manish', 'Vinay', 'and', 'Sameer', 'need', 'to', 'make', 'a', 'stool', 'for', 'themselves', 'each', 'Manish', 'has', 'no', 'understanding', 'of', 'carpentry', 'he', 'learns', 'from', 'YouTube', 'Vinay', 'took', 'his', 'carpentry', 'lessons', 'during', 'engineering', 'so', 'he', 'has', 'a', 'practical', 'idea', 'of', 'how', 'to', 'make', 'a', 'stool', 'But', 'Sameer', 'is', 'a', 'Carpenter', 'so', 'he', 'has', 'a', 'total', 'understanding', 'of', 'the', 'material', 'process', 'and', 'final', 'product', 'Let', 'us', 'start', 'with', 'Manish', 'Understand', 'that', 'the', 'task', 'is', 'to', 'get', 'their', 'jobs', 'done', 'Manish', 'has', 'two', 'options', 'here', 'He', 'can', 'either', 'order', 'parts', 'and', 'assemble', 'it', 'himself', 'or', 'order', 'the', 'material', 'required', 'such', 'as', 'wood', 'glue', 'nails', 'etc', 'and', 'then', 'work', 'on', 'it', 'before', 'the', 'assembly', 'of', 'the', 'final', 'product', 'The', 'only', 'difference', 'is', 'his', 'lack', 'of', 'expertise', 'in', 'this', 'field', 'Vinay', 'has', 'the', 'same', 'options', 'but', 'has', 'practical', 'experience', 'from', 'his', 'carpentry', 'classes', 'during', 'the', 'workshop', 'in', 'Engineering', 'Sameer', 'has', 'an', 'advantage', 'since', 'he', 'has', 'both', 'skill', 'and', 'experience', 'perfected', 'over', 'a', 'course', 'of', 'time', 'All', 'three', 'are', 'given', 'three', 'days', 'for', 'the', 'task', 'Since', 'Manish', 'finds', 'it', 'easy', 'to', 'assemble', 'the', 'stool', 'using', 'parts', 'procured', 'from', 'another', 'carpenter', 'he', 'talks', 'to', 'a', 'carpenter', 'he', 'knows', 'and', 'orders', '3', 'leg', 'parts', '6', 'horizontal', 'support', 'bars', 'and', 'one', 'circular', 'base', 'which', 'will', 'sit', 'on', 'the', 'top', 'Vinay', 'thinks', 'he', 'will', 'be', 'able', 'to', 'shape', 'the', 'parts', 'because', 'of', 'his', 'experience', 'as', 'a', 'student', 'and', 'orders', 'several', 'cylindrical', 'wooden', 'leg', 'parts', 'cuboidal', 'bars', 'and', 'a', 'thick', 'sheet', 'Sameer', 'has', 'all', 'the', 'required', 'material', 'in', 'his', 'shop', 'and', 'he', 'begins', 'to', 'work', 'on', 'the', 'stool', 'on', 'the', 'first', 'day', 'Manish', 'and', 'Vinay', 'wait', 'for', 'a', 'day', 'for', 'the', 'parts', 'to', 'come', 'They', 'begin', 'to', 'work', 'on', 'the', 'second', 'day', 'Manish', 'uses', 'the', 'tricks', 'learned', 'from', 'YouTube', 'videos', 'uses', 'a', 'hammer', 'to', 'place', 'the', 'nails', 'purchased', 'from', 'a', 'nearby', 'shop', 'in', 'the', 'premade', 'hole', 'applies', 'glue', 'in', 'certain', 'areas', 'as', 'directed', 'in', 'the', 'video', 'and', 'places', 'weight', 'on', 'the', 'assembled', 'stool', 'He', 'waits', 'for', 'the', 'glue', 'to', 'cure', 'Vinay', 'uses', 'borrowed', 'drill', 'bits', 'drill', 'machines', 'cutters', 'sandpapers', 'purchased', 'from', 'a', 'shop', 'etc', 'and', 'starts', 'working', 'on', 'the', 'wooden', 'parts', 'as', 'soon', 'as', 'the', 'parts', 'arrive', 'in', 'the', 'morning', 'He', 'is', 'able', 'to', 'recall', 'his', 'carpentry', 'instructions', 'and', 'attempts', 'to', 'shape', 'the', 'parts', 'based', 'on', 'drawing', 'of', 'his', 'product', 'he', 'made', 'last', 'night', 'Sameer', 'meanwhile', 'has', 'completed', 'his', 'assembly', 'and', 'has', 'put', 'the', 'assembly', 'to', 'rest', 'for', 'the', 'glue', 'to', 'cure', 'On', 'the', 'third', 'day', 'each', 'of', 'them', 'has', 'the', 'stool', 'ready', 'They', 'evaluate', 'their', 'own', 'work', 'and', 'notice', 'certain', 'facts', 'Manish', 'notices', 'that', 'he', 'did', 'complete', 'the', 'task', 'but', 'his', 'stool', 'was', 'wobbly', 'and', 'not', 'glued', 'well', 'It', 'could', 'fall', 'the', 'moment', 'he', 'sits', 'on', 'it', 'Also', 'he', 'forgets', 'to', 'polish', 'the', 'wooden', 'parts', 'and', 'give', 'it', 'a', 'professional', 'finish', 'since', 'he', 'forgot', 'to', 'watch', 'that', 'bit', 'of', 'video', 'over', 'YouTube', 'Vinay', 'completes', 'the', 'task', 'his', 'stool', 'is', 'sturdy', 'and', 'cured', 'well', 'overnight', 'But', 'there', 'are', 'minor', 'issues', 'with', 'it', 'One', 'of', 'the', 'three', 'legs', 'is', 'cut', 'short', 'by', 'a', 'few', 'mm', 'and', 'the', 'stool', 'a', 'tad', 'unstable', 'Sameer', 'on', 'the', 'other', 'hand', 'completes', 'the', 'task', 'with', 'a', 'good', 'product', 'The', 'stool', 'is', 'wellbalanced', 'and', 'polished', 'as', 'he', 'expected', 'from', 'him', 'Sameer', 'is', 'satisfied', 'with', 'his', 'work', 'and', 'finds', 'it', 'to', 'stool', 'Perfect', 'Manish', 'thinks', 'he', 'did', 'his', 'best', 'considering', 'he', 'had', 'no', 'experience', 'of', 'the', 'task', 'to', 'be', 'done', 'He', 'is', 'satisfied', 'with', 'his', 'work', 'But', 'Vinay', 'is', 'unhappy', 'he', 'could', 'have', 'done', 'better', 'and', 'made', 'the', 'product', 'better', 'He', 'doesn’t', 'find', 'his', 'efforts', 'well', 'put', 'and', 'thinks', 'he', 'wasn’t', 'productive', 'enough', 'and', 'hence', 'his', 'stool', 'is', 'nowhere', 'perfect', 'Understand', 'that', 'all', 'of', 'them', 'had', 'a', 'set', 'of', 'skills', 'and', 'experience', 'but', 'only', 'Sameer', 'had', 'the', 'right', 'skills', 'and', 'experience', 'to', 'produce', 'a', 'perfect', 'product', 'Manish', 'and', 'Sameer', 'were', 'satisfied', 'and', 'happy', 'with', 'their', 'work', 'Manish', 'made', 'a', 'wobbly', 'stool', 'which', 'could', 'break', 'the', 'moment', 'someone', 'sat', 'on', 'it', 'but', 'happy', 'he', 'gave', 'the', 'task', 'a', 'go', 'He', 'thinks', 'put', 'the', 'efforts', 'and', 'he', 'did', 'a', 'good', 'job', 'It', 'was', 'only', 'Vinay', 'who', 'could', 'not', 'overcome', 'the', 'fact', 'that', 'his', 'work', 'was', 'not', 'perfect', 'In', 'Vinay’s', 'case', 'it', 'can', 'be', 'observed', 'that', 'he', 'could', 'not', 'deliver', 'what', 'he', 'learned', 'from', 'carpentry', 'classes', 'The', 'reason', 'is', 'simple', 'he', 'put', 'effort', 'but', 'didn’t', 'have', 'the', 'experience', 'Experience', 'mattered', 'Since', 'Vinay', 'thinks', 'otherwise', 'he', 'believes', 'he', 'has', 'the', 'perfect', 'skills', 'to', 'complete', 'the', 'task', 'but', 'he', 'could', 'not', 'deliver', 'the', 'results', 'He', 'is', 'not', 'satisfied', 'with', 'his', 'results', 'and', 'wishes', 'to', 'spend', 'another', 'day', 'working', 'on', 'the', 'stool', 'on', 'his', 'own', 'to', 'get', 'to', 'his', 'idea', 'of', 'the', 'perfect', 'result', 'In', 'this', 'case', 'the', 'idea', 'of', 'perfection', 'itself', 'is', 'misplaced', 'You', 'see', 'the', 'end', 'product', 'made', 'by', 'Vinay', 'and', 'Manish', 'would', 'not', 'match', 'Sameer’s', 'but', 'the', 'task', 'could', 'have', 'been', 'completed', 'had', 'they', 'understood', 'where', 'their', 'shortcomings', 'lied', 'For', 'both', 'it', 'was', 'their', 'skill', 'Sameer', 'had', 'the', 'perfect', 'skill', 'to', 'get', 'the', 'expected', 'result', 'which', 'resulted', 'in', 'better', 'productivity', 'others', 'didn’t', 'And', 'in', 'this', 'story', 'every', 'individual', 'put', 'effort', 'regardless', 'of', 'the', 'result', 'But', 'some', 'were', 'satisfied', 'and', 'some', 'dissatisfied', 'Their', 'satisfaction', 'made', 'their', 'creations', 'perfect', 'in', 'their', 'eyes', 'and', 'dissatisfaction', 'made', 'one', 'believe', 'he', 'wasn’t', 'productive', 'enough', '“Perfection', 'is', 'subjective', 'and', 'productivity', 'is', 'utility', 'extracted', 'given', 'a', 'certain', 'amount', 'of', 'effort”', 'You', 'can', 'try', 'to', 'be', 'as', 'productive', 'to', 'achieve', 'something', 'but', 'ultimately', 'it’s', 'the', 'satisfaction', 'you', 'get', 'that', 'defines', 'the', 'boundary', 'of', 'perfection', 'If', 'you', 'aren’t', 'satisfied', 'you', 'won’t', 'find', 'anything', 'perfect', 'You', 'would', 'just', 'waste', 'both', 'your', 'time', 'and', 'effort', 'over', 'something', 'that', 'doesn’t', 'suit', 'you', 'in', 'the', 'first', 'place', 'as', 'explained', 'in', 'the', 'story', 'before', '“It', 'isn’t', 'productivity', 'that', 'will', 'be', 'the', 'greatest', 'enemy', 'but', 'your', 'satisfaction”', 'Satisfaction', 'will', 'determine', 'how', 'you', 'perceive', 'perfection', 'and', 'defines', 'where', 'your', 'threshold', 'for', 'perfection', 'lies', 'The', 'real', 'enemy', 'is', 'dissatisfaction', 'You', 'get', 'demotivated', 'and', 'restless', 'You', 'lose', 'sight', 'and', 'discontinue', 'only', 'because', 'you', 'are', 'unable', 'to', 'pass', 'your', 'own', 'expectation', 'So', 'it’s', 'the', 'only', 'obstacle', 'that', 'comes', 'in', 'between', 'productivity', 'from', 'time', 'to', 'time', 'Productivity', 'is', 'far', 'from', 'being', 'your', 'enemy', 'The', 'greatest', 'enemy', 'will', 'be', 'your', 'expectations', 'which', 'lead', 'to', 'dissatisfaction', 'It', 'will', 'play', 'a', 'major', 'role', 'in', 'crafting', 'your', 'idea', 'of', 'Perfection', 'in', 'every', 'day', 'Blackcoffer', 'Insights', '19', 'Jude', 'Francis', 'Institute', 'of', 'Management', 'Technology', 'IMT', 'Nagpur']\n"
     ]
    }
   ],
   "source": [
    "content=soup.findAll(attrs={'class':'td-post-content'})\n",
    "content=content[0].text.replace('\\n',\" \")\n",
    "print(content)\n",
    "#Punctuation\n",
    "content = content.translate(str.maketrans('', '', string.punctuation)) \n",
    "print(content)\n",
    "text = content.split()\n",
    "print(text)\n"
   ]
  },
  {
   "cell_type": "code",
   "execution_count": 3,
   "id": "c00db00a",
   "metadata": {},
   "outputs": [
    {
     "data": {
      "text/plain": [
       "1127"
      ]
     },
     "execution_count": 3,
     "metadata": {},
     "output_type": "execute_result"
    }
   ],
   "source": [
    "len(text)"
   ]
  },
  {
   "cell_type": "code",
   "execution_count": 4,
   "id": "0c74a8a1",
   "metadata": {},
   "outputs": [
    {
     "name": "stdout",
     "output_type": "stream",
     "text": [
      "62\n"
     ]
    }
   ],
   "source": [
    "#Positive Score \n",
    "with open(r\"C:\\Users\\Om Bhandwalkar\\Desktop\\pos\\positive-words.txt\") as pos:\n",
    "    poswords = pos.read().split(\"\\n\")  \n",
    "    poswords = poswords[5:]\n",
    "pos_count = \" \".join ([w for w in text if w in poswords])\n",
    "pos_count=pos_count.split(\" \")\n",
    "Positive_score=len(pos_count)\n",
    "print(Positive_score)"
   ]
  },
  {
   "cell_type": "code",
   "execution_count": 5,
   "id": "af3ef825",
   "metadata": {},
   "outputs": [
    {
     "name": "stdout",
     "output_type": "stream",
     "text": [
      "22\n"
     ]
    }
   ],
   "source": [
    "#Negative Score\n",
    "with open(r\"C:\\Users\\Om Bhandwalkar\\Desktop\\pos\\negative-words.txt\",encoding =\"ISO-8859-1\") as neg:\n",
    "    negwords = neg.read().split(\"\\n\")\n",
    "    \n",
    "negwords = negwords[36:]\n",
    "neg_count = \" \".join ([w for w in text if w in negwords])\n",
    "neg_count=neg_count.split(\" \")\n",
    "Negative_score=len(neg_count)\n",
    "print(Negative_score)"
   ]
  },
  {
   "cell_type": "code",
   "execution_count": 6,
   "id": "2b5e4817",
   "metadata": {},
   "outputs": [
    {
     "data": {
      "text/html": [
       "<div>\n",
       "<style scoped>\n",
       "    .dataframe tbody tr th:only-of-type {\n",
       "        vertical-align: middle;\n",
       "    }\n",
       "\n",
       "    .dataframe tbody tr th {\n",
       "        vertical-align: top;\n",
       "    }\n",
       "\n",
       "    .dataframe thead th {\n",
       "        text-align: right;\n",
       "    }\n",
       "</style>\n",
       "<table border=\"1\" class=\"dataframe\">\n",
       "  <thead>\n",
       "    <tr style=\"text-align: right;\">\n",
       "      <th></th>\n",
       "      <th>url</th>\n",
       "      <th>title</th>\n",
       "      <th>content</th>\n",
       "      <th>filter_content</th>\n",
       "      <th>Positive_Score</th>\n",
       "      <th>Negative_Score</th>\n",
       "      <th>polarity</th>\n",
       "      <th>subjectivity</th>\n",
       "    </tr>\n",
       "  </thead>\n",
       "  <tbody>\n",
       "    <tr>\n",
       "      <th>0</th>\n",
       "      <td>https://insights.blackcoffer.com/is-perfection...</td>\n",
       "      <td>Is Perfection the Greatest enemy of Productivity?</td>\n",
       "      <td>What’s perfection really Does every person ex...</td>\n",
       "      <td>What’s perfection really Does every person exp...</td>\n",
       "      <td>62</td>\n",
       "      <td>22</td>\n",
       "      <td>0.262682</td>\n",
       "      <td>0.623431</td>\n",
       "    </tr>\n",
       "  </tbody>\n",
       "</table>\n",
       "</div>"
      ],
      "text/plain": [
       "                                                 url  \\\n",
       "0  https://insights.blackcoffer.com/is-perfection...   \n",
       "\n",
       "                                               title  \\\n",
       "0  Is Perfection the Greatest enemy of Productivity?   \n",
       "\n",
       "                                             content  \\\n",
       "0   What’s perfection really Does every person ex...   \n",
       "\n",
       "                                      filter_content  Positive_Score  \\\n",
       "0  What’s perfection really Does every person exp...              62   \n",
       "\n",
       "   Negative_Score  polarity  subjectivity  \n",
       "0              22  0.262682      0.623431  "
      ]
     },
     "execution_count": 6,
     "metadata": {},
     "output_type": "execute_result"
    }
   ],
   "source": [
    "filter_content = ' '.join(text)\n",
    "data=[[url,title,content,filter_content,Positive_score,Negative_score]]\n",
    "data=pd.DataFrame(data,columns=[\"url\",\"title\",\"content\",\"filter_content\",\"Positive_Score\",\"Negative_Score\"])\n",
    "from textblob import TextBlob\n",
    "# Get The Subjectivity\n",
    "def sentiment_analysis(data):\n",
    "    sentiment = TextBlob(data[\"content\"]).sentiment\n",
    "    return pd.Series([sentiment.polarity,sentiment.subjectivity ])\n",
    "\n",
    "# Adding Subjectivity & Polarity\n",
    "data[[\"polarity\", \"subjectivity\"]] = data.apply(sentiment_analysis, axis=1)\n",
    "\n",
    "data"
   ]
  },
  {
   "cell_type": "code",
   "execution_count": 7,
   "id": "16c73fd3",
   "metadata": {},
   "outputs": [
    {
     "name": "stdout",
     "output_type": "stream",
     "text": [
      "Word average = 5131.0\n",
      "FOG INDEX =  452.72\n",
      "Average no of words per sentence\n",
      "1127.0\n",
      "Complex Words 1768\n"
     ]
    }
   ],
   "source": [
    "#AVG SENTENCE LENGTH\n",
    "AVG_SENTENCE_LENGTH = len(content.replace(' ',''))/len(re.split(r'[?!.]', content))\n",
    "print('Word average =', AVG_SENTENCE_LENGTH)\n",
    "import textstat\n",
    "#Fog index \n",
    "FOG_INDEX=(textstat.gunning_fog(content))\n",
    "print(\"FOG INDEX = \",FOG_INDEX)\n",
    "#Average No of Words Per Sentence \n",
    "AVG_NUMBER_OF_WORDS_PER_SENTENCE = [len(l.split()) for l in re.split(r'[?!.]', content) if l.strip()]\n",
    "print(\"Average no of words per sentence\")\n",
    "AVG_NUMBER_OF_WORDS_PER_SENTENCE=print(sum(AVG_NUMBER_OF_WORDS_PER_SENTENCE)/len(AVG_NUMBER_OF_WORDS_PER_SENTENCE))\n",
    "#Complex words\n",
    "def syllable_count(word):\n",
    "    count = 0\n",
    "    vowels = \"AEIOUYaeiouy\"\n",
    "    if word[0] in vowels:\n",
    "        count += 1\n",
    "    for index in range(1, len(word)): \n",
    "        if word[index] in vowels and word[index - 1] not in vowels:\n",
    "            count += 1\n",
    "            if word.endswith(\"es\"or \"ed\"):\n",
    "                count -= 1\n",
    "    if count == 0:\n",
    "        count += 1\n",
    "    return count\n",
    "\n",
    "\n",
    "\n",
    "COMPLEX_WORDS=syllable_count(content)\n",
    "print(\"Complex Words\",COMPLEX_WORDS)\n"
   ]
  },
  {
   "cell_type": "code",
   "execution_count": 8,
   "id": "1a8a9f41",
   "metadata": {},
   "outputs": [
    {
     "name": "stdout",
     "output_type": "stream",
     "text": [
      "Word Count 6261\n",
      "Percentage of Complex Words 28.23830059095991\n",
      "Average Word per Length 4.552795031055901\n",
      "The AVG number of syllables in the word is: \n",
      "1.7905944986690328\n"
     ]
    }
   ],
   "source": [
    "#Word Count\n",
    "Word_Count=len(content)\n",
    "print(\"Word Count\",Word_Count)\n",
    "#Percentage Complex Words\n",
    "pcw=(COMPLEX_WORDS/Word_Count)*100\n",
    "print(\"Percentage of Complex Words\",pcw)\n",
    "#Average Word Length\n",
    "Average_Word_Length=len(content.replace(' ',''))/len(content.split())\n",
    "print(\"Average Word per Length\",Average_Word_Length)\n",
    "#Syllable Count Per Word\n",
    "word=content.replace(' ','')\n",
    "syllable_count=0\n",
    "for w in word:\n",
    "      if(w=='a' or w=='e' or w=='i' or w=='o' or w=='y' or w=='u' or w=='A' or w=='E' or w=='I' or w=='O' or w=='U' or w=='Y'):\n",
    "            syllable_count=syllable_count+1\n",
    "print(\"The AVG number of syllables in the word is: \")\n",
    "print(syllable_count/len(content.split()))"
   ]
  },
  {
   "cell_type": "code",
   "execution_count": 1,
   "id": "b14655dd",
   "metadata": {},
   "outputs": [
    {
     "name": "stdout",
     "output_type": "stream",
     "text": [
      "62\n",
      "22\n",
      "Word average = 5131.0\n",
      "FOG INDEX =  452.72\n",
      "Average no of words per sentence\n",
      "1127.0\n",
      "Complex Words 1768\n",
      "Word Count 6261\n",
      "Percentage of Complex Words 28.23830059095991\n",
      "Average Word per Length 4.552795031055901\n",
      "The AVG number of syllables in the word is: \n",
      "1.7905944986690328\n"
     ]
    },
    {
     "data": {
      "text/html": [
       "<div>\n",
       "<style scoped>\n",
       "    .dataframe tbody tr th:only-of-type {\n",
       "        vertical-align: middle;\n",
       "    }\n",
       "\n",
       "    .dataframe tbody tr th {\n",
       "        vertical-align: top;\n",
       "    }\n",
       "\n",
       "    .dataframe thead th {\n",
       "        text-align: right;\n",
       "    }\n",
       "</style>\n",
       "<table border=\"1\" class=\"dataframe\">\n",
       "  <thead>\n",
       "    <tr style=\"text-align: right;\">\n",
       "      <th></th>\n",
       "      <th>url</th>\n",
       "      <th>title</th>\n",
       "      <th>content</th>\n",
       "      <th>filter_content</th>\n",
       "      <th>Positive_Score</th>\n",
       "      <th>Negative_Score</th>\n",
       "      <th>Avg_Sentence_Length</th>\n",
       "      <th>Percentage_Complex_Word</th>\n",
       "      <th>Fog_Index</th>\n",
       "      <th>AVG_NUMBER_OF_WORDS_PER_SENTENCE</th>\n",
       "      <th>COMPLEX_WORDS</th>\n",
       "      <th>Word_Count</th>\n",
       "      <th>syllable</th>\n",
       "      <th>Average_Word_Length</th>\n",
       "      <th>polarity</th>\n",
       "      <th>subjectivity</th>\n",
       "    </tr>\n",
       "  </thead>\n",
       "  <tbody>\n",
       "    <tr>\n",
       "      <th>0</th>\n",
       "      <td>https://insights.blackcoffer.com/is-perfection...</td>\n",
       "      <td>Is Perfection the Greatest enemy of Productivity?</td>\n",
       "      <td>What’s perfection really Does every person ex...</td>\n",
       "      <td>What’s perfection really Does every person exp...</td>\n",
       "      <td>62</td>\n",
       "      <td>22</td>\n",
       "      <td>5131.0</td>\n",
       "      <td>28.238301</td>\n",
       "      <td>452.72</td>\n",
       "      <td>1127.0</td>\n",
       "      <td>1768</td>\n",
       "      <td>6261</td>\n",
       "      <td>1.790594</td>\n",
       "      <td>4.552795</td>\n",
       "      <td>0.262682</td>\n",
       "      <td>0.623431</td>\n",
       "    </tr>\n",
       "  </tbody>\n",
       "</table>\n",
       "</div>"
      ],
      "text/plain": [
       "                                                 url  \\\n",
       "0  https://insights.blackcoffer.com/is-perfection...   \n",
       "\n",
       "                                               title  \\\n",
       "0  Is Perfection the Greatest enemy of Productivity?   \n",
       "\n",
       "                                             content  \\\n",
       "0   What’s perfection really Does every person ex...   \n",
       "\n",
       "                                      filter_content  Positive_Score  \\\n",
       "0  What’s perfection really Does every person exp...              62   \n",
       "\n",
       "   Negative_Score  Avg_Sentence_Length  Percentage_Complex_Word  Fog_Index  \\\n",
       "0              22               5131.0                28.238301     452.72   \n",
       "\n",
       "    AVG_NUMBER_OF_WORDS_PER_SENTENCE  COMPLEX_WORDS  Word_Count  syllable  \\\n",
       "0                             1127.0           1768        6261  1.790594   \n",
       "\n",
       "   Average_Word_Length  polarity  subjectivity  \n",
       "0             4.552795  0.262682      0.623431  "
      ]
     },
     "execution_count": 1,
     "metadata": {},
     "output_type": "execute_result"
    }
   ],
   "source": [
    "import requests\n",
    "import pandas as pd \n",
    "from bs4 import BeautifulSoup\n",
    "import string\n",
    "import spacy\n",
    "import re\n",
    "url = \"\"\"https://insights.blackcoffer.com/is-perfection-the-greatest-enemy-of-productivity/\"\"\"\n",
    "headers = {\"User-Agent\": \"Mozilla/5.0 (X11; Linux x86_64; rv:60.0) Gecko/20100101 Firefox/60.0\"}\n",
    "page = requests.get(url, headers=headers)\n",
    "soup = BeautifulSoup(page.content, 'html.parser')\n",
    "soup=BeautifulSoup(page.content, 'html.parser')\n",
    "title=soup.find('h1',class_=\"entry-title\")\n",
    "title=title.text.replace('\\n',\" \")\n",
    "# title\n",
    "\n",
    "content=soup.findAll(attrs={'class':'td-post-content'})\n",
    "content=content[0].text.replace('\\n',\" \")\n",
    "# print(content)\n",
    "#Punctuation\n",
    "content = content.translate(str.maketrans('', '', string.punctuation)) \n",
    "# print(content)\n",
    "text = content.split()\n",
    "# print(text)\n",
    "len(text)\n",
    "#Positive Score \n",
    "with open(r\"C:\\Users\\Om Bhandwalkar\\Desktop\\pos\\positive-words.txt\") as pos:\n",
    "    poswords = pos.read().split(\"\\n\")  \n",
    "    poswords = poswords[5:]\n",
    "pos_count = \" \".join ([w for w in text if w in poswords])\n",
    "pos_count=pos_count.split(\" \")\n",
    "Positive_score=len(pos_count)\n",
    "print(Positive_score)\n",
    "\n",
    "#Negative Score\n",
    "with open(r\"C:\\Users\\Om Bhandwalkar\\Desktop\\pos\\negative-words.txt\",encoding =\"ISO-8859-1\") as neg:\n",
    "    negwords = neg.read().split(\"\\n\")\n",
    "    \n",
    "negwords = negwords[36:]\n",
    "neg_count = \" \".join ([w for w in text if w in negwords])\n",
    "neg_count=neg_count.split(\" \")\n",
    "Negative_score=len(neg_count)\n",
    "print(Negative_score)\n",
    "\n",
    "\n",
    "filter_content = ' '.join(text)\n",
    "data=[[url,title,content,filter_content,Positive_score,Negative_score]]\n",
    "data=pd.DataFrame(data,columns=[\"url\",\"title\",\"content\",\"filter_content\",\"Positive_Score\",\"Negative_Score\"])\n",
    "from textblob import TextBlob\n",
    "# Get The Subjectivity\n",
    "def sentiment_analysis(data):\n",
    "    sentiment = TextBlob(data[\"content\"]).sentiment\n",
    "    return pd.Series([sentiment.polarity,sentiment.subjectivity ])\n",
    "data[[\"polarity\", \"subjectivity\"]] = data.apply(sentiment_analysis, axis=1)\n",
    "data\n",
    "#AVG SENTENCE LENGTH\n",
    "AVG_SENTENCE_LENGTH = len(content.replace(' ',''))/len(re.split(r'[?!.]', content))\n",
    "print('Word average =', AVG_SENTENCE_LENGTH)\n",
    "import textstat\n",
    "#Fog index \n",
    "FOG_INDEX=(textstat.gunning_fog(content))\n",
    "print(\"FOG INDEX = \",FOG_INDEX)\n",
    "#Average No of Words Per Sentence \n",
    "AVG_NUMBER_OF_WORDS_PER_SENTENCE = [len(l.split()) for l in re.split(r'[?!.]', content) if l.strip()]\n",
    "print(\"Average no of words per sentence\")\n",
    "AVG_NUMBER_OF_WORDS_PER_SENTENCE=(sum(AVG_NUMBER_OF_WORDS_PER_SENTENCE)/len(AVG_NUMBER_OF_WORDS_PER_SENTENCE))\n",
    "print(AVG_NUMBER_OF_WORDS_PER_SENTENCE)\n",
    "#Complex words\n",
    "def syllable_count(word):\n",
    "    count = 0\n",
    "    vowels = \"AEIOUYaeiouy\"\n",
    "    if word[0] in vowels:\n",
    "        count += 1\n",
    "    for index in range(1, len(word)): \n",
    "        if word[index] in vowels and word[index - 1] not in vowels:\n",
    "            count += 1\n",
    "            if word.endswith(\"es\"or \"ed\"):\n",
    "                count -= 1\n",
    "    if count == 0:\n",
    "        count += 1\n",
    "    return count\n",
    "\n",
    "\n",
    "\n",
    "COMPLEX_WORDS=syllable_count(content)\n",
    "print(\"Complex Words\",COMPLEX_WORDS)\n",
    "#Word Count\n",
    "Word_Count=len(content)\n",
    "print(\"Word Count\",Word_Count)\n",
    "#Percentage Complex Words\n",
    "pcw=(COMPLEX_WORDS/Word_Count)*100\n",
    "print(\"Percentage of Complex Words\",pcw)\n",
    "#Average Word Length\n",
    "Average_Word_Length=len(content.replace(' ',''))/len(content.split())\n",
    "print(\"Average Word per Length\",Average_Word_Length)\n",
    "#Syllable Count Per Word\n",
    "word=content.replace(' ','')\n",
    "syllable_count=0\n",
    "for w in word:\n",
    "      if(w=='a' or w=='e' or w=='i' or w=='o' or w=='y' or w=='u' or w=='A' or w=='E' or w=='I' or w=='O' or w=='U' or w=='Y'):\n",
    "            syllable_count=syllable_count+1\n",
    "print(\"The AVG number of syllables in the word is: \")\n",
    "syllable = (syllable_count/len(content.split()))\n",
    "print(syllable)\n",
    "\n",
    "data = [[url,title,content,filter_content,Positive_score,Negative_score,AVG_SENTENCE_LENGTH,pcw,FOG_INDEX,\n",
    "         AVG_NUMBER_OF_WORDS_PER_SENTENCE,COMPLEX_WORDS,Word_Count,syllable,Average_Word_Length]]\n",
    "data=pd.DataFrame(data,columns=[\"url\",\"title\",\"content\",\"filter_content\",\"Positive_Score\",\"Negative_Score\",\"Avg_Sentence_Length\"\n",
    "                               ,\"Percentage_Complex_Word\",\"Fog_Index\",\" AVG_NUMBER_OF_WORDS_PER_SENTENCE\",\"COMPLEX_WORDS\",\n",
    "                               \"Word_Count\",\"syllable\",\"Average_Word_Length\"])\n",
    "from textblob import TextBlob\n",
    "# Get The Subjectivity\n",
    "def sentiment_analysis(data):\n",
    "    sentiment = TextBlob(data[\"content\"]).sentiment\n",
    "    return pd.Series([sentiment.polarity,sentiment.subjectivity ])\n",
    "data[[\"polarity\", \"subjectivity\"]] = data.apply(sentiment_analysis, axis=1)\n",
    "data"
   ]
  },
  {
   "cell_type": "code",
   "execution_count": 2,
   "id": "62350b71",
   "metadata": {},
   "outputs": [],
   "source": [
    "data.to_csv(r'C:\\Users\\Om Bhandwalkar\\Desktop\\BlackCoffer Assignment\\Output\\url_80.csv')"
   ]
  },
  {
   "cell_type": "code",
   "execution_count": null,
   "id": "d66901d5",
   "metadata": {},
   "outputs": [],
   "source": []
  }
 ],
 "metadata": {
  "kernelspec": {
   "display_name": "Python 3 (ipykernel)",
   "language": "python",
   "name": "python3"
  },
  "language_info": {
   "codemirror_mode": {
    "name": "ipython",
    "version": 3
   },
   "file_extension": ".py",
   "mimetype": "text/x-python",
   "name": "python",
   "nbconvert_exporter": "python",
   "pygments_lexer": "ipython3",
   "version": "3.9.12"
  }
 },
 "nbformat": 4,
 "nbformat_minor": 5
}
