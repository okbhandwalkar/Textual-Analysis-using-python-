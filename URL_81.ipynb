{
 "cells": [
  {
   "cell_type": "code",
   "execution_count": 1,
   "id": "5667bb40",
   "metadata": {},
   "outputs": [
    {
     "data": {
      "text/plain": [
       "'Global financial crisis 2008 causes/effects and its solution'"
      ]
     },
     "execution_count": 1,
     "metadata": {},
     "output_type": "execute_result"
    }
   ],
   "source": [
    "\n",
    "import requests\n",
    "import pandas as pd \n",
    "from bs4 import BeautifulSoup\n",
    "import string\n",
    "import spacy\n",
    "import re\n",
    "url = \"\"\"https://insights.blackcoffer.com/global-financial-crisis-2008-causes-effects-and-its-solution/\"\"\"\n",
    "headers = {\"User-Agent\": \"Mozilla/5.0 (X11; Linux x86_64; rv:60.0) Gecko/20100101 Firefox/60.0\"}\n",
    "page = requests.get(url, headers=headers)\n",
    "soup = BeautifulSoup(page.content, 'html.parser')\n",
    "soup=BeautifulSoup(page.content, 'html.parser')\n",
    "title=soup.find('h1',class_=\"entry-title\")\n",
    "title=title.text.replace('\\n',\" \")\n",
    "title\n"
   ]
  },
  {
   "cell_type": "code",
   "execution_count": 2,
   "id": "06b817dc",
   "metadata": {},
   "outputs": [
    {
     "name": "stdout",
     "output_type": "stream",
     "text": [
      " Brief  The Financial Crisis of 2008 started as a crisis in the subprime mortgage market (i.e. in a market where lending of loans is done to people who may have difficulty in maintaining the repayment schedule or in simple terms, loans were given out to people without proper checks and low credit scores) which ultimately led onto a huge global collapse. The Financial Crisis of 2008 or Great Recession is considered the worst economic crisis since the Great Depression. Financial Crisis Explained – In the year 1996, there was a dot-com boom (or otherwise known as the dot com bubble) in the United States, a period of massive growth in the use of the internet because of which the stock market prices started increasing rapidly. However, around the year 2000, it dropped which led people and investors to withdraw their investments from the stock market rapidly. It led to the decline of the price of shares in stock markets and the interest rate plummeted to around 1% very quickly in a short span. Investors were now looking for a brighter option than investing in stock markets.   Fig – Rise and fall of the Dot Com Bubble As interest rates went lower and lower, real estate prices started rising and the US Govt also encouraged people to buy houses and properties. The demand for the same started rising rapidly and investors now found a great option to invest in (i.e. in Real Estate). During that same time, Investment Banks saw an opportunity, chimed in and started buying loans from Banks in bulk and clubbed multiple loans under a complex derivative called CDO (Collateralized Debt Obligations) and started providing it to these Investors after getting a credit rating of “AAA” (Very Safe Investment) from the Credit Rating Agencies. Investors naturally fell for it and started buying these CDOs. So now, the risk factor of these loans got transferred from the Banks to the Investment Banks and then again to the CDO Investors. With the high buying demand of CDOs, Investment banks started demanding or pressurizing Banks to provide even more Loans so that they can provide more CDOs to the Investors. However, Banks had already provided loans to people with good credit history and regular income people. But in the hope of getting even more credit from Investment Banks, these same banks then started giving out subprime housing loans to people with low credit scores.Approximately $174Bn worth of loans were given out during the period 2000-2007 and most of them were clubbed as CDOs with a “AAA” rating from the Credit Rating Agencies. Approximately 70% of these CDO’s were marked with a “AAA” rating. Investment Banks and Credit Rating Agencies were now enjoying large profits during this time. Moody’s (a credit rating agency) profits increased 4x times during that period (2000-2007). Looking at the huge profits being made by the Investment Banks and Credit Rating Agencies, Insurance companies (like AIG) now started giving out insurance on these CDOs to the investors and they called it CDS (Credit Default Swap). AIG believed that since the CDOs were rated as “AAA” (Very Safe Investment), the failure chances of these CDOs were very minimal. They misjudged or were unaware of the fact that some of the loans that were clubbed under these CDOs were Sub Prime loans. Now CDO Investors started buying out CDS from AIG and other companies to safeguard and protect them from any losses. AIG then started making huge profits because of the premiums that the investors had to pay. But they never realized the outcome if by any chance the CDOs fail at some point in time. Thus, the risk factor again got transferred from the CDO investors to the Insurance Companies.  Fig – Flow Diagram showing how the Risk Factors got transferred Coming to the loan borrowers now, Sub Prime Borrowers from banks were unaware of the fact of Adjustable Rate Loans (interest rate of these loans keeps changing) and thus had to pay lower interests at the start but more interest rates later on. The borrowers started defaulting on these loans when the interest rates increased dramatically around 2007 and thus banks had to then resell those houses to make up for the loans defaulted.  Added to the problem was the fact that borrowers were not spending any amount of money from their pockets while taking loans and banks were providing the full amount of loans. Almost 50% of the borrowers did not pay anything from their own pocket and bought the home only using the housing loan. This led to a huge increase in the defaulters of borrowers and ultimately banks had to auction houses to gain credit back. With the high-interest rates and no one to buy the auctioned houses, this ultimately caused a chain reaction and banks were no longer receiving credit. The prices of Real Estate started falling drastically and people with good credit scores who had earlier taken housing loans also started defaulting because the price of their houses/homes fell below the loan amount that they had taken earlier. Banks stopped receiving money and also because of this chain reaction, the value of CDOs ultimately came down to 0. Some Investors went for huge losses and few Investment companies went bankrupt (ex – Lehman Brothers). Moreover, insurance companies had to pay back those investors who had taken insurance. As a result, some of the insurance companies also went bankrupt. AIG too almost lost about $100Bn in paying back the investors who had earlier insured their CDOs. However, the US Govt. finally decided to bail out AIG in order to save them from going bankrupt. CDOs and CDSs were not regulated during that time by the Federal Reserve and thus this whole situation ultimately led to credit crunch (became very difficult to get loans) and the whole economy of the US underwent a crisis that led to a global impact all around the world. Unemployment increased manifold and many new businesses had to shut down. Global trades all around the world also saw a crisis and finally, Global Recession hit the World. Causes of the Crisis – Improper screening of loan borrowers resulting in subprime loan borrowers which included even borrowers with no stable income.Credit rating agencies rated all the CDOs highly and investors were purchasing without proper monitoring. the same goes for Insurance companies.Lax regulation of CDOs and CDS’ by federal reserve banks.The large size of interbank lending that compounded the crisis Effects of the Crisis – House prices plummeted.The unemployment rate increased all over the US and the EU.8M people lost jobs globally2.5M business devastated4M houses foreclosed.Approx. $450Bn losses (Banks and Investment Banks combined)  Ways to Avoid Such Crisis in Future – Tighter regulations on loan screenings.Regulations to prevent banks from growing too big and preventing systemic risks (addressing ‘Too Big to Fail’ problem)Borrowers must be made aware of rate adjustable loansCredit rating agencies should not rate the CDOs without proper risk assessment.Partnership with Fintech companies to develop robust alternative credit scoring models for people with less credit history.Strict regulation on CDOs and CDS’ by Federal Banks Blackcoffer Insights 19: Neermalya Pratim Das, SCMHRD-Pune \n",
      " Brief  The Financial Crisis of 2008 started as a crisis in the subprime mortgage market ie in a market where lending of loans is done to people who may have difficulty in maintaining the repayment schedule or in simple terms loans were given out to people without proper checks and low credit scores which ultimately led onto a huge global collapse The Financial Crisis of 2008 or Great Recession is considered the worst economic crisis since the Great Depression Financial Crisis Explained – In the year 1996 there was a dotcom boom or otherwise known as the dot com bubble in the United States a period of massive growth in the use of the internet because of which the stock market prices started increasing rapidly However around the year 2000 it dropped which led people and investors to withdraw their investments from the stock market rapidly It led to the decline of the price of shares in stock markets and the interest rate plummeted to around 1 very quickly in a short span Investors were now looking for a brighter option than investing in stock markets   Fig – Rise and fall of the Dot Com Bubble As interest rates went lower and lower real estate prices started rising and the US Govt also encouraged people to buy houses and properties The demand for the same started rising rapidly and investors now found a great option to invest in ie in Real Estate During that same time Investment Banks saw an opportunity chimed in and started buying loans from Banks in bulk and clubbed multiple loans under a complex derivative called CDO Collateralized Debt Obligations and started providing it to these Investors after getting a credit rating of “AAA” Very Safe Investment from the Credit Rating Agencies Investors naturally fell for it and started buying these CDOs So now the risk factor of these loans got transferred from the Banks to the Investment Banks and then again to the CDO Investors With the high buying demand of CDOs Investment banks started demanding or pressurizing Banks to provide even more Loans so that they can provide more CDOs to the Investors However Banks had already provided loans to people with good credit history and regular income people But in the hope of getting even more credit from Investment Banks these same banks then started giving out subprime housing loans to people with low credit scoresApproximately 174Bn worth of loans were given out during the period 20002007 and most of them were clubbed as CDOs with a “AAA” rating from the Credit Rating Agencies Approximately 70 of these CDO’s were marked with a “AAA” rating Investment Banks and Credit Rating Agencies were now enjoying large profits during this time Moody’s a credit rating agency profits increased 4x times during that period 20002007 Looking at the huge profits being made by the Investment Banks and Credit Rating Agencies Insurance companies like AIG now started giving out insurance on these CDOs to the investors and they called it CDS Credit Default Swap AIG believed that since the CDOs were rated as “AAA” Very Safe Investment the failure chances of these CDOs were very minimal They misjudged or were unaware of the fact that some of the loans that were clubbed under these CDOs were Sub Prime loans Now CDO Investors started buying out CDS from AIG and other companies to safeguard and protect them from any losses AIG then started making huge profits because of the premiums that the investors had to pay But they never realized the outcome if by any chance the CDOs fail at some point in time Thus the risk factor again got transferred from the CDO investors to the Insurance Companies  Fig – Flow Diagram showing how the Risk Factors got transferred Coming to the loan borrowers now Sub Prime Borrowers from banks were unaware of the fact of Adjustable Rate Loans interest rate of these loans keeps changing and thus had to pay lower interests at the start but more interest rates later on The borrowers started defaulting on these loans when the interest rates increased dramatically around 2007 and thus banks had to then resell those houses to make up for the loans defaulted  Added to the problem was the fact that borrowers were not spending any amount of money from their pockets while taking loans and banks were providing the full amount of loans Almost 50 of the borrowers did not pay anything from their own pocket and bought the home only using the housing loan This led to a huge increase in the defaulters of borrowers and ultimately banks had to auction houses to gain credit back With the highinterest rates and no one to buy the auctioned houses this ultimately caused a chain reaction and banks were no longer receiving credit The prices of Real Estate started falling drastically and people with good credit scores who had earlier taken housing loans also started defaulting because the price of their houseshomes fell below the loan amount that they had taken earlier Banks stopped receiving money and also because of this chain reaction the value of CDOs ultimately came down to 0 Some Investors went for huge losses and few Investment companies went bankrupt ex – Lehman Brothers Moreover insurance companies had to pay back those investors who had taken insurance As a result some of the insurance companies also went bankrupt AIG too almost lost about 100Bn in paying back the investors who had earlier insured their CDOs However the US Govt finally decided to bail out AIG in order to save them from going bankrupt CDOs and CDSs were not regulated during that time by the Federal Reserve and thus this whole situation ultimately led to credit crunch became very difficult to get loans and the whole economy of the US underwent a crisis that led to a global impact all around the world Unemployment increased manifold and many new businesses had to shut down Global trades all around the world also saw a crisis and finally Global Recession hit the World Causes of the Crisis – Improper screening of loan borrowers resulting in subprime loan borrowers which included even borrowers with no stable incomeCredit rating agencies rated all the CDOs highly and investors were purchasing without proper monitoring the same goes for Insurance companiesLax regulation of CDOs and CDS’ by federal reserve banksThe large size of interbank lending that compounded the crisis Effects of the Crisis – House prices plummetedThe unemployment rate increased all over the US and the EU8M people lost jobs globally25M business devastated4M houses foreclosedApprox 450Bn losses Banks and Investment Banks combined  Ways to Avoid Such Crisis in Future – Tighter regulations on loan screeningsRegulations to prevent banks from growing too big and preventing systemic risks addressing ‘Too Big to Fail’ problemBorrowers must be made aware of rate adjustable loansCredit rating agencies should not rate the CDOs without proper risk assessmentPartnership with Fintech companies to develop robust alternative credit scoring models for people with less credit historyStrict regulation on CDOs and CDS’ by Federal Banks Blackcoffer Insights 19 Neermalya Pratim Das SCMHRDPune \n",
      "['Brief', 'The', 'Financial', 'Crisis', 'of', '2008', 'started', 'as', 'a', 'crisis', 'in', 'the', 'subprime', 'mortgage', 'market', 'ie', 'in', 'a', 'market', 'where', 'lending', 'of', 'loans', 'is', 'done', 'to', 'people', 'who', 'may', 'have', 'difficulty', 'in', 'maintaining', 'the', 'repayment', 'schedule', 'or', 'in', 'simple', 'terms', 'loans', 'were', 'given', 'out', 'to', 'people', 'without', 'proper', 'checks', 'and', 'low', 'credit', 'scores', 'which', 'ultimately', 'led', 'onto', 'a', 'huge', 'global', 'collapse', 'The', 'Financial', 'Crisis', 'of', '2008', 'or', 'Great', 'Recession', 'is', 'considered', 'the', 'worst', 'economic', 'crisis', 'since', 'the', 'Great', 'Depression', 'Financial', 'Crisis', 'Explained', '–', 'In', 'the', 'year', '1996', 'there', 'was', 'a', 'dotcom', 'boom', 'or', 'otherwise', 'known', 'as', 'the', 'dot', 'com', 'bubble', 'in', 'the', 'United', 'States', 'a', 'period', 'of', 'massive', 'growth', 'in', 'the', 'use', 'of', 'the', 'internet', 'because', 'of', 'which', 'the', 'stock', 'market', 'prices', 'started', 'increasing', 'rapidly', 'However', 'around', 'the', 'year', '2000', 'it', 'dropped', 'which', 'led', 'people', 'and', 'investors', 'to', 'withdraw', 'their', 'investments', 'from', 'the', 'stock', 'market', 'rapidly', 'It', 'led', 'to', 'the', 'decline', 'of', 'the', 'price', 'of', 'shares', 'in', 'stock', 'markets', 'and', 'the', 'interest', 'rate', 'plummeted', 'to', 'around', '1', 'very', 'quickly', 'in', 'a', 'short', 'span', 'Investors', 'were', 'now', 'looking', 'for', 'a', 'brighter', 'option', 'than', 'investing', 'in', 'stock', 'markets', 'Fig', '–', 'Rise', 'and', 'fall', 'of', 'the', 'Dot', 'Com', 'Bubble', 'As', 'interest', 'rates', 'went', 'lower', 'and', 'lower', 'real', 'estate', 'prices', 'started', 'rising', 'and', 'the', 'US', 'Govt', 'also', 'encouraged', 'people', 'to', 'buy', 'houses', 'and', 'properties', 'The', 'demand', 'for', 'the', 'same', 'started', 'rising', 'rapidly', 'and', 'investors', 'now', 'found', 'a', 'great', 'option', 'to', 'invest', 'in', 'ie', 'in', 'Real', 'Estate', 'During', 'that', 'same', 'time', 'Investment', 'Banks', 'saw', 'an', 'opportunity', 'chimed', 'in', 'and', 'started', 'buying', 'loans', 'from', 'Banks', 'in', 'bulk', 'and', 'clubbed', 'multiple', 'loans', 'under', 'a', 'complex', 'derivative', 'called', 'CDO', 'Collateralized', 'Debt', 'Obligations', 'and', 'started', 'providing', 'it', 'to', 'these', 'Investors', 'after', 'getting', 'a', 'credit', 'rating', 'of', '“AAA”', 'Very', 'Safe', 'Investment', 'from', 'the', 'Credit', 'Rating', 'Agencies', 'Investors', 'naturally', 'fell', 'for', 'it', 'and', 'started', 'buying', 'these', 'CDOs', 'So', 'now', 'the', 'risk', 'factor', 'of', 'these', 'loans', 'got', 'transferred', 'from', 'the', 'Banks', 'to', 'the', 'Investment', 'Banks', 'and', 'then', 'again', 'to', 'the', 'CDO', 'Investors', 'With', 'the', 'high', 'buying', 'demand', 'of', 'CDOs', 'Investment', 'banks', 'started', 'demanding', 'or', 'pressurizing', 'Banks', 'to', 'provide', 'even', 'more', 'Loans', 'so', 'that', 'they', 'can', 'provide', 'more', 'CDOs', 'to', 'the', 'Investors', 'However', 'Banks', 'had', 'already', 'provided', 'loans', 'to', 'people', 'with', 'good', 'credit', 'history', 'and', 'regular', 'income', 'people', 'But', 'in', 'the', 'hope', 'of', 'getting', 'even', 'more', 'credit', 'from', 'Investment', 'Banks', 'these', 'same', 'banks', 'then', 'started', 'giving', 'out', 'subprime', 'housing', 'loans', 'to', 'people', 'with', 'low', 'credit', 'scoresApproximately', '174Bn', 'worth', 'of', 'loans', 'were', 'given', 'out', 'during', 'the', 'period', '20002007', 'and', 'most', 'of', 'them', 'were', 'clubbed', 'as', 'CDOs', 'with', 'a', '“AAA”', 'rating', 'from', 'the', 'Credit', 'Rating', 'Agencies', 'Approximately', '70', 'of', 'these', 'CDO’s', 'were', 'marked', 'with', 'a', '“AAA”', 'rating', 'Investment', 'Banks', 'and', 'Credit', 'Rating', 'Agencies', 'were', 'now', 'enjoying', 'large', 'profits', 'during', 'this', 'time', 'Moody’s', 'a', 'credit', 'rating', 'agency', 'profits', 'increased', '4x', 'times', 'during', 'that', 'period', '20002007', 'Looking', 'at', 'the', 'huge', 'profits', 'being', 'made', 'by', 'the', 'Investment', 'Banks', 'and', 'Credit', 'Rating', 'Agencies', 'Insurance', 'companies', 'like', 'AIG', 'now', 'started', 'giving', 'out', 'insurance', 'on', 'these', 'CDOs', 'to', 'the', 'investors', 'and', 'they', 'called', 'it', 'CDS', 'Credit', 'Default', 'Swap', 'AIG', 'believed', 'that', 'since', 'the', 'CDOs', 'were', 'rated', 'as', '“AAA”', 'Very', 'Safe', 'Investment', 'the', 'failure', 'chances', 'of', 'these', 'CDOs', 'were', 'very', 'minimal', 'They', 'misjudged', 'or', 'were', 'unaware', 'of', 'the', 'fact', 'that', 'some', 'of', 'the', 'loans', 'that', 'were', 'clubbed', 'under', 'these', 'CDOs', 'were', 'Sub', 'Prime', 'loans', 'Now', 'CDO', 'Investors', 'started', 'buying', 'out', 'CDS', 'from', 'AIG', 'and', 'other', 'companies', 'to', 'safeguard', 'and', 'protect', 'them', 'from', 'any', 'losses', 'AIG', 'then', 'started', 'making', 'huge', 'profits', 'because', 'of', 'the', 'premiums', 'that', 'the', 'investors', 'had', 'to', 'pay', 'But', 'they', 'never', 'realized', 'the', 'outcome', 'if', 'by', 'any', 'chance', 'the', 'CDOs', 'fail', 'at', 'some', 'point', 'in', 'time', 'Thus', 'the', 'risk', 'factor', 'again', 'got', 'transferred', 'from', 'the', 'CDO', 'investors', 'to', 'the', 'Insurance', 'Companies', 'Fig', '–', 'Flow', 'Diagram', 'showing', 'how', 'the', 'Risk', 'Factors', 'got', 'transferred', 'Coming', 'to', 'the', 'loan', 'borrowers', 'now', 'Sub', 'Prime', 'Borrowers', 'from', 'banks', 'were', 'unaware', 'of', 'the', 'fact', 'of', 'Adjustable', 'Rate', 'Loans', 'interest', 'rate', 'of', 'these', 'loans', 'keeps', 'changing', 'and', 'thus', 'had', 'to', 'pay', 'lower', 'interests', 'at', 'the', 'start', 'but', 'more', 'interest', 'rates', 'later', 'on', 'The', 'borrowers', 'started', 'defaulting', 'on', 'these', 'loans', 'when', 'the', 'interest', 'rates', 'increased', 'dramatically', 'around', '2007', 'and', 'thus', 'banks', 'had', 'to', 'then', 'resell', 'those', 'houses', 'to', 'make', 'up', 'for', 'the', 'loans', 'defaulted', 'Added', 'to', 'the', 'problem', 'was', 'the', 'fact', 'that', 'borrowers', 'were', 'not', 'spending', 'any', 'amount', 'of', 'money', 'from', 'their', 'pockets', 'while', 'taking', 'loans', 'and', 'banks', 'were', 'providing', 'the', 'full', 'amount', 'of', 'loans', 'Almost', '50', 'of', 'the', 'borrowers', 'did', 'not', 'pay', 'anything', 'from', 'their', 'own', 'pocket', 'and', 'bought', 'the', 'home', 'only', 'using', 'the', 'housing', 'loan', 'This', 'led', 'to', 'a', 'huge', 'increase', 'in', 'the', 'defaulters', 'of', 'borrowers', 'and', 'ultimately', 'banks', 'had', 'to', 'auction', 'houses', 'to', 'gain', 'credit', 'back', 'With', 'the', 'highinterest', 'rates', 'and', 'no', 'one', 'to', 'buy', 'the', 'auctioned', 'houses', 'this', 'ultimately', 'caused', 'a', 'chain', 'reaction', 'and', 'banks', 'were', 'no', 'longer', 'receiving', 'credit', 'The', 'prices', 'of', 'Real', 'Estate', 'started', 'falling', 'drastically', 'and', 'people', 'with', 'good', 'credit', 'scores', 'who', 'had', 'earlier', 'taken', 'housing', 'loans', 'also', 'started', 'defaulting', 'because', 'the', 'price', 'of', 'their', 'houseshomes', 'fell', 'below', 'the', 'loan', 'amount', 'that', 'they', 'had', 'taken', 'earlier', 'Banks', 'stopped', 'receiving', 'money', 'and', 'also', 'because', 'of', 'this', 'chain', 'reaction', 'the', 'value', 'of', 'CDOs', 'ultimately', 'came', 'down', 'to', '0', 'Some', 'Investors', 'went', 'for', 'huge', 'losses', 'and', 'few', 'Investment', 'companies', 'went', 'bankrupt', 'ex', '–', 'Lehman', 'Brothers', 'Moreover', 'insurance', 'companies', 'had', 'to', 'pay', 'back', 'those', 'investors', 'who', 'had', 'taken', 'insurance', 'As', 'a', 'result', 'some', 'of', 'the', 'insurance', 'companies', 'also', 'went', 'bankrupt', 'AIG', 'too', 'almost', 'lost', 'about', '100Bn', 'in', 'paying', 'back', 'the', 'investors', 'who', 'had', 'earlier', 'insured', 'their', 'CDOs', 'However', 'the', 'US', 'Govt', 'finally', 'decided', 'to', 'bail', 'out', 'AIG', 'in', 'order', 'to', 'save', 'them', 'from', 'going', 'bankrupt', 'CDOs', 'and', 'CDSs', 'were', 'not', 'regulated', 'during', 'that', 'time', 'by', 'the', 'Federal', 'Reserve', 'and', 'thus', 'this', 'whole', 'situation', 'ultimately', 'led', 'to', 'credit', 'crunch', 'became', 'very', 'difficult', 'to', 'get', 'loans', 'and', 'the', 'whole', 'economy', 'of', 'the', 'US', 'underwent', 'a', 'crisis', 'that', 'led', 'to', 'a', 'global', 'impact', 'all', 'around', 'the', 'world', 'Unemployment', 'increased', 'manifold', 'and', 'many', 'new', 'businesses', 'had', 'to', 'shut', 'down', 'Global', 'trades', 'all', 'around', 'the', 'world', 'also', 'saw', 'a', 'crisis', 'and', 'finally', 'Global', 'Recession', 'hit', 'the', 'World', 'Causes', 'of', 'the', 'Crisis', '–', 'Improper', 'screening', 'of', 'loan', 'borrowers', 'resulting', 'in', 'subprime', 'loan', 'borrowers', 'which', 'included', 'even', 'borrowers', 'with', 'no', 'stable', 'incomeCredit', 'rating', 'agencies', 'rated', 'all', 'the', 'CDOs', 'highly', 'and', 'investors', 'were', 'purchasing', 'without', 'proper', 'monitoring', 'the', 'same', 'goes', 'for', 'Insurance', 'companiesLax', 'regulation', 'of', 'CDOs', 'and', 'CDS’', 'by', 'federal', 'reserve', 'banksThe', 'large', 'size', 'of', 'interbank', 'lending', 'that', 'compounded', 'the', 'crisis', 'Effects', 'of', 'the', 'Crisis', '–', 'House', 'prices', 'plummetedThe', 'unemployment', 'rate', 'increased', 'all', 'over', 'the', 'US', 'and', 'the', 'EU8M', 'people', 'lost', 'jobs', 'globally25M', 'business', 'devastated4M', 'houses', 'foreclosedApprox', '450Bn', 'losses', 'Banks', 'and', 'Investment', 'Banks', 'combined', 'Ways', 'to', 'Avoid', 'Such', 'Crisis', 'in', 'Future', '–', 'Tighter', 'regulations', 'on', 'loan', 'screeningsRegulations', 'to', 'prevent', 'banks', 'from', 'growing', 'too', 'big', 'and', 'preventing', 'systemic', 'risks', 'addressing', '‘Too', 'Big', 'to', 'Fail’', 'problemBorrowers', 'must', 'be', 'made', 'aware', 'of', 'rate', 'adjustable', 'loansCredit', 'rating', 'agencies', 'should', 'not', 'rate', 'the', 'CDOs', 'without', 'proper', 'risk', 'assessmentPartnership', 'with', 'Fintech', 'companies', 'to', 'develop', 'robust', 'alternative', 'credit', 'scoring', 'models', 'for', 'people', 'with', 'less', 'credit', 'historyStrict', 'regulation', 'on', 'CDOs', 'and', 'CDS’', 'by', 'Federal', 'Banks', 'Blackcoffer', 'Insights', '19', 'Neermalya', 'Pratim', 'Das', 'SCMHRDPune']\n"
     ]
    }
   ],
   "source": [
    "content=soup.findAll(attrs={'class':'td-post-content'})\n",
    "content=content[0].text.replace('\\n',\" \")\n",
    "print(content)\n",
    "#Punctuation\n",
    "content = content.translate(str.maketrans('', '', string.punctuation)) \n",
    "print(content)\n",
    "text = content.split()\n",
    "print(text)\n"
   ]
  },
  {
   "cell_type": "code",
   "execution_count": 3,
   "id": "77e8bcce",
   "metadata": {},
   "outputs": [
    {
     "data": {
      "text/plain": [
       "1191"
      ]
     },
     "execution_count": 3,
     "metadata": {},
     "output_type": "execute_result"
    }
   ],
   "source": [
    "len(text)"
   ]
  },
  {
   "cell_type": "code",
   "execution_count": 4,
   "id": "d568b016",
   "metadata": {},
   "outputs": [
    {
     "name": "stdout",
     "output_type": "stream",
     "text": [
      "23\n"
     ]
    }
   ],
   "source": [
    "#Positive Score \n",
    "with open(r\"C:\\Users\\Om Bhandwalkar\\Desktop\\pos\\positive-words.txt\") as pos:\n",
    "    poswords = pos.read().split(\"\\n\")  \n",
    "    poswords = poswords[5:]\n",
    "pos_count = \" \".join ([w for w in text if w in poswords])\n",
    "pos_count=pos_count.split(\" \")\n",
    "Positive_score=len(pos_count)\n",
    "print(Positive_score)"
   ]
  },
  {
   "cell_type": "code",
   "execution_count": 5,
   "id": "e2434787",
   "metadata": {},
   "outputs": [
    {
     "name": "stdout",
     "output_type": "stream",
     "text": [
      "31\n"
     ]
    }
   ],
   "source": [
    "#Negative Score\n",
    "with open(r\"C:\\Users\\Om Bhandwalkar\\Desktop\\pos\\negative-words.txt\",encoding =\"ISO-8859-1\") as neg:\n",
    "    negwords = neg.read().split(\"\\n\")\n",
    "    \n",
    "negwords = negwords[36:]\n",
    "neg_count = \" \".join ([w for w in text if w in negwords])\n",
    "neg_count=neg_count.split(\" \")\n",
    "Negative_score=len(neg_count)\n",
    "print(Negative_score)"
   ]
  },
  {
   "cell_type": "code",
   "execution_count": 7,
   "id": "df53b42a",
   "metadata": {},
   "outputs": [
    {
     "data": {
      "text/html": [
       "<div>\n",
       "<style scoped>\n",
       "    .dataframe tbody tr th:only-of-type {\n",
       "        vertical-align: middle;\n",
       "    }\n",
       "\n",
       "    .dataframe tbody tr th {\n",
       "        vertical-align: top;\n",
       "    }\n",
       "\n",
       "    .dataframe thead th {\n",
       "        text-align: right;\n",
       "    }\n",
       "</style>\n",
       "<table border=\"1\" class=\"dataframe\">\n",
       "  <thead>\n",
       "    <tr style=\"text-align: right;\">\n",
       "      <th></th>\n",
       "      <th>url</th>\n",
       "      <th>title</th>\n",
       "      <th>content</th>\n",
       "      <th>filter_content</th>\n",
       "      <th>Positive_Score</th>\n",
       "      <th>Negative_Score</th>\n",
       "      <th>polarity</th>\n",
       "      <th>subjectivity</th>\n",
       "    </tr>\n",
       "  </thead>\n",
       "  <tbody>\n",
       "    <tr>\n",
       "      <th>0</th>\n",
       "      <td>https://insights.blackcoffer.com/global-financ...</td>\n",
       "      <td>Global financial crisis 2008 causes/effects an...</td>\n",
       "      <td>Brief  The Financial Crisis of 2008 started a...</td>\n",
       "      <td>Brief The Financial Crisis of 2008 started as ...</td>\n",
       "      <td>23</td>\n",
       "      <td>31</td>\n",
       "      <td>0.107533</td>\n",
       "      <td>0.435533</td>\n",
       "    </tr>\n",
       "  </tbody>\n",
       "</table>\n",
       "</div>"
      ],
      "text/plain": [
       "                                                 url  \\\n",
       "0  https://insights.blackcoffer.com/global-financ...   \n",
       "\n",
       "                                               title  \\\n",
       "0  Global financial crisis 2008 causes/effects an...   \n",
       "\n",
       "                                             content  \\\n",
       "0   Brief  The Financial Crisis of 2008 started a...   \n",
       "\n",
       "                                      filter_content  Positive_Score  \\\n",
       "0  Brief The Financial Crisis of 2008 started as ...              23   \n",
       "\n",
       "   Negative_Score  polarity  subjectivity  \n",
       "0              31  0.107533      0.435533  "
      ]
     },
     "execution_count": 7,
     "metadata": {},
     "output_type": "execute_result"
    }
   ],
   "source": [
    "filter_content = ' '.join(text)\n",
    "data=[[url,title,content,filter_content,Positive_score,Negative_score]]\n",
    "data=pd.DataFrame(data,columns=[\"url\",\"title\",\"content\",\"filter_content\",\"Positive_Score\",\"Negative_Score\"])\n",
    "from textblob import TextBlob\n",
    "# Get The Subjectivity\n",
    "def sentiment_analysis(data):\n",
    "    sentiment = TextBlob(data[\"content\"]).sentiment\n",
    "    return pd.Series([sentiment.polarity,sentiment.subjectivity ])\n",
    "\n",
    "# Adding Subjectivity & Polarity\n",
    "data[[\"polarity\", \"subjectivity\"]] = data.apply(sentiment_analysis, axis=1)\n",
    "\n",
    "data"
   ]
  },
  {
   "cell_type": "code",
   "execution_count": 8,
   "id": "7ae6ad5b",
   "metadata": {},
   "outputs": [
    {
     "name": "stdout",
     "output_type": "stream",
     "text": [
      "Word average = 5904.0\n",
      "FOG INDEX =  476.47\n",
      "Average no of words per sentence\n",
      "1191.0\n",
      "Complex Words 2004\n"
     ]
    }
   ],
   "source": [
    "#AVG SENTENCE LENGTH\n",
    "AVG_SENTENCE_LENGTH = len(content.replace(' ',''))/len(re.split(r'[?!.]', content))\n",
    "print('Word average =', AVG_SENTENCE_LENGTH)\n",
    "import textstat\n",
    "#Fog index \n",
    "FOG_INDEX=(textstat.gunning_fog(content))\n",
    "print(\"FOG INDEX = \",FOG_INDEX)\n",
    "#Average No of Words Per Sentence \n",
    "AVG_NUMBER_OF_WORDS_PER_SENTENCE = [len(l.split()) for l in re.split(r'[?!.]', content) if l.strip()]\n",
    "print(\"Average no of words per sentence\")\n",
    "AVG_NUMBER_OF_WORDS_PER_SENTENCE=print(sum(AVG_NUMBER_OF_WORDS_PER_SENTENCE)/len(AVG_NUMBER_OF_WORDS_PER_SENTENCE))\n",
    "#Complex words\n",
    "def syllable_count(word):\n",
    "    count = 0\n",
    "    vowels = \"AEIOUYaeiouy\"\n",
    "    if word[0] in vowels:\n",
    "        count += 1\n",
    "    for index in range(1, len(word)): \n",
    "        if word[index] in vowels and word[index - 1] not in vowels:\n",
    "            count += 1\n",
    "            if word.endswith(\"es\"or \"ed\"):\n",
    "                count -= 1\n",
    "    if count == 0:\n",
    "        count += 1\n",
    "    return count\n",
    "\n",
    "\n",
    "\n",
    "COMPLEX_WORDS=syllable_count(content)\n",
    "print(\"Complex Words\",COMPLEX_WORDS)\n"
   ]
  },
  {
   "cell_type": "code",
   "execution_count": 9,
   "id": "04f3a027",
   "metadata": {},
   "outputs": [
    {
     "name": "stdout",
     "output_type": "stream",
     "text": [
      "Word Count 7100\n",
      "Percentage of Complex Words 28.225352112676056\n",
      "Average Word per Length 4.9571788413098234\n",
      "The AVG number of syllables in the word is: \n",
      "1.8832913518052057\n"
     ]
    }
   ],
   "source": [
    "#Word Count\n",
    "Word_Count=len(content)\n",
    "print(\"Word Count\",Word_Count)\n",
    "#Percentage Complex Words\n",
    "pcw=(COMPLEX_WORDS/Word_Count)*100\n",
    "print(\"Percentage of Complex Words\",pcw)\n",
    "#Average Word Length\n",
    "Average_Word_Length=len(content.replace(' ',''))/len(content.split())\n",
    "print(\"Average Word per Length\",Average_Word_Length)\n",
    "#Syllable Count Per Word\n",
    "word=content.replace(' ','')\n",
    "syllable_count=0\n",
    "for w in word:\n",
    "      if(w=='a' or w=='e' or w=='i' or w=='o' or w=='y' or w=='u' or w=='A' or w=='E' or w=='I' or w=='O' or w=='U' or w=='Y'):\n",
    "            syllable_count=syllable_count+1\n",
    "print(\"The AVG number of syllables in the word is: \")\n",
    "print(syllable_count/len(content.split()))"
   ]
  },
  {
   "cell_type": "code",
   "execution_count": 1,
   "id": "0a155de8",
   "metadata": {},
   "outputs": [
    {
     "name": "stdout",
     "output_type": "stream",
     "text": [
      "23\n",
      "31\n",
      "Word average = 5904.0\n",
      "FOG INDEX =  476.47\n",
      "Average no of words per sentence\n",
      "1191.0\n",
      "Complex Words 2004\n",
      "Word Count 7100\n",
      "Percentage of Complex Words 28.225352112676056\n",
      "Average Word per Length 4.9571788413098234\n",
      "The AVG number of syllables in the word is: \n",
      "1.8832913518052057\n"
     ]
    },
    {
     "data": {
      "text/html": [
       "<div>\n",
       "<style scoped>\n",
       "    .dataframe tbody tr th:only-of-type {\n",
       "        vertical-align: middle;\n",
       "    }\n",
       "\n",
       "    .dataframe tbody tr th {\n",
       "        vertical-align: top;\n",
       "    }\n",
       "\n",
       "    .dataframe thead th {\n",
       "        text-align: right;\n",
       "    }\n",
       "</style>\n",
       "<table border=\"1\" class=\"dataframe\">\n",
       "  <thead>\n",
       "    <tr style=\"text-align: right;\">\n",
       "      <th></th>\n",
       "      <th>url</th>\n",
       "      <th>title</th>\n",
       "      <th>content</th>\n",
       "      <th>filter_content</th>\n",
       "      <th>Positive_Score</th>\n",
       "      <th>Negative_Score</th>\n",
       "      <th>Avg_Sentence_Length</th>\n",
       "      <th>Percentage_Complex_Word</th>\n",
       "      <th>Fog_Index</th>\n",
       "      <th>AVG_NUMBER_OF_WORDS_PER_SENTENCE</th>\n",
       "      <th>COMPLEX_WORDS</th>\n",
       "      <th>Word_Count</th>\n",
       "      <th>syllable</th>\n",
       "      <th>Average_Word_Length</th>\n",
       "      <th>polarity</th>\n",
       "      <th>subjectivity</th>\n",
       "    </tr>\n",
       "  </thead>\n",
       "  <tbody>\n",
       "    <tr>\n",
       "      <th>0</th>\n",
       "      <td>https://insights.blackcoffer.com/global-financ...</td>\n",
       "      <td>Global financial crisis 2008 causes/effects an...</td>\n",
       "      <td>Brief  The Financial Crisis of 2008 started a...</td>\n",
       "      <td>Brief The Financial Crisis of 2008 started as ...</td>\n",
       "      <td>23</td>\n",
       "      <td>31</td>\n",
       "      <td>5904.0</td>\n",
       "      <td>28.225352</td>\n",
       "      <td>476.47</td>\n",
       "      <td>1191.0</td>\n",
       "      <td>2004</td>\n",
       "      <td>7100</td>\n",
       "      <td>1.883291</td>\n",
       "      <td>4.957179</td>\n",
       "      <td>0.107533</td>\n",
       "      <td>0.435533</td>\n",
       "    </tr>\n",
       "  </tbody>\n",
       "</table>\n",
       "</div>"
      ],
      "text/plain": [
       "                                                 url  \\\n",
       "0  https://insights.blackcoffer.com/global-financ...   \n",
       "\n",
       "                                               title  \\\n",
       "0  Global financial crisis 2008 causes/effects an...   \n",
       "\n",
       "                                             content  \\\n",
       "0   Brief  The Financial Crisis of 2008 started a...   \n",
       "\n",
       "                                      filter_content  Positive_Score  \\\n",
       "0  Brief The Financial Crisis of 2008 started as ...              23   \n",
       "\n",
       "   Negative_Score  Avg_Sentence_Length  Percentage_Complex_Word  Fog_Index  \\\n",
       "0              31               5904.0                28.225352     476.47   \n",
       "\n",
       "    AVG_NUMBER_OF_WORDS_PER_SENTENCE  COMPLEX_WORDS  Word_Count  syllable  \\\n",
       "0                             1191.0           2004        7100  1.883291   \n",
       "\n",
       "   Average_Word_Length  polarity  subjectivity  \n",
       "0             4.957179  0.107533      0.435533  "
      ]
     },
     "execution_count": 1,
     "metadata": {},
     "output_type": "execute_result"
    }
   ],
   "source": [
    "import requests\n",
    "import pandas as pd \n",
    "from bs4 import BeautifulSoup\n",
    "import string\n",
    "import spacy\n",
    "import re\n",
    "url = \"\"\"https://insights.blackcoffer.com/global-financial-crisis-2008-causes-effects-and-its-solution/\"\"\"\n",
    "headers = {\"User-Agent\": \"Mozilla/5.0 (X11; Linux x86_64; rv:60.0) Gecko/20100101 Firefox/60.0\"}\n",
    "page = requests.get(url, headers=headers)\n",
    "soup = BeautifulSoup(page.content, 'html.parser')\n",
    "soup=BeautifulSoup(page.content, 'html.parser')\n",
    "title=soup.find('h1',class_=\"entry-title\")\n",
    "title=title.text.replace('\\n',\" \")\n",
    "# title\n",
    "\n",
    "content=soup.findAll(attrs={'class':'td-post-content'})\n",
    "content=content[0].text.replace('\\n',\" \")\n",
    "# print(content)\n",
    "#Punctuation\n",
    "content = content.translate(str.maketrans('', '', string.punctuation)) \n",
    "# print(content)\n",
    "text = content.split()\n",
    "# print(text)\n",
    "len(text)\n",
    "#Positive Score \n",
    "with open(r\"C:\\Users\\Om Bhandwalkar\\Desktop\\pos\\positive-words.txt\") as pos:\n",
    "    poswords = pos.read().split(\"\\n\")  \n",
    "    poswords = poswords[5:]\n",
    "pos_count = \" \".join ([w for w in text if w in poswords])\n",
    "pos_count=pos_count.split(\" \")\n",
    "Positive_score=len(pos_count)\n",
    "print(Positive_score)\n",
    "\n",
    "#Negative Score\n",
    "with open(r\"C:\\Users\\Om Bhandwalkar\\Desktop\\pos\\negative-words.txt\",encoding =\"ISO-8859-1\") as neg:\n",
    "    negwords = neg.read().split(\"\\n\")\n",
    "    \n",
    "negwords = negwords[36:]\n",
    "neg_count = \" \".join ([w for w in text if w in negwords])\n",
    "neg_count=neg_count.split(\" \")\n",
    "Negative_score=len(neg_count)\n",
    "print(Negative_score)\n",
    "\n",
    "\n",
    "filter_content = ' '.join(text)\n",
    "data=[[url,title,content,filter_content,Positive_score,Negative_score]]\n",
    "data=pd.DataFrame(data,columns=[\"url\",\"title\",\"content\",\"filter_content\",\"Positive_Score\",\"Negative_Score\"])\n",
    "from textblob import TextBlob\n",
    "# Get The Subjectivity\n",
    "def sentiment_analysis(data):\n",
    "    sentiment = TextBlob(data[\"content\"]).sentiment\n",
    "    return pd.Series([sentiment.polarity,sentiment.subjectivity ])\n",
    "data[[\"polarity\", \"subjectivity\"]] = data.apply(sentiment_analysis, axis=1)\n",
    "data\n",
    "#AVG SENTENCE LENGTH\n",
    "AVG_SENTENCE_LENGTH = len(content.replace(' ',''))/len(re.split(r'[?!.]', content))\n",
    "print('Word average =', AVG_SENTENCE_LENGTH)\n",
    "import textstat\n",
    "#Fog index \n",
    "FOG_INDEX=(textstat.gunning_fog(content))\n",
    "print(\"FOG INDEX = \",FOG_INDEX)\n",
    "#Average No of Words Per Sentence \n",
    "AVG_NUMBER_OF_WORDS_PER_SENTENCE = [len(l.split()) for l in re.split(r'[?!.]', content) if l.strip()]\n",
    "print(\"Average no of words per sentence\")\n",
    "AVG_NUMBER_OF_WORDS_PER_SENTENCE=(sum(AVG_NUMBER_OF_WORDS_PER_SENTENCE)/len(AVG_NUMBER_OF_WORDS_PER_SENTENCE))\n",
    "print(AVG_NUMBER_OF_WORDS_PER_SENTENCE)\n",
    "#Complex words\n",
    "def syllable_count(word):\n",
    "    count = 0\n",
    "    vowels = \"AEIOUYaeiouy\"\n",
    "    if word[0] in vowels:\n",
    "        count += 1\n",
    "    for index in range(1, len(word)): \n",
    "        if word[index] in vowels and word[index - 1] not in vowels:\n",
    "            count += 1\n",
    "            if word.endswith(\"es\"or \"ed\"):\n",
    "                count -= 1\n",
    "    if count == 0:\n",
    "        count += 1\n",
    "    return count\n",
    "\n",
    "\n",
    "\n",
    "COMPLEX_WORDS=syllable_count(content)\n",
    "print(\"Complex Words\",COMPLEX_WORDS)\n",
    "#Word Count\n",
    "Word_Count=len(content)\n",
    "print(\"Word Count\",Word_Count)\n",
    "#Percentage Complex Words\n",
    "pcw=(COMPLEX_WORDS/Word_Count)*100\n",
    "print(\"Percentage of Complex Words\",pcw)\n",
    "#Average Word Length\n",
    "Average_Word_Length=len(content.replace(' ',''))/len(content.split())\n",
    "print(\"Average Word per Length\",Average_Word_Length)\n",
    "#Syllable Count Per Word\n",
    "word=content.replace(' ','')\n",
    "syllable_count=0\n",
    "for w in word:\n",
    "      if(w=='a' or w=='e' or w=='i' or w=='o' or w=='y' or w=='u' or w=='A' or w=='E' or w=='I' or w=='O' or w=='U' or w=='Y'):\n",
    "            syllable_count=syllable_count+1\n",
    "print(\"The AVG number of syllables in the word is: \")\n",
    "syllable = (syllable_count/len(content.split()))\n",
    "print(syllable)\n",
    "\n",
    "data = [[url,title,content,filter_content,Positive_score,Negative_score,AVG_SENTENCE_LENGTH,pcw,FOG_INDEX,\n",
    "         AVG_NUMBER_OF_WORDS_PER_SENTENCE,COMPLEX_WORDS,Word_Count,syllable,Average_Word_Length]]\n",
    "data=pd.DataFrame(data,columns=[\"url\",\"title\",\"content\",\"filter_content\",\"Positive_Score\",\"Negative_Score\",\"Avg_Sentence_Length\"\n",
    "                               ,\"Percentage_Complex_Word\",\"Fog_Index\",\" AVG_NUMBER_OF_WORDS_PER_SENTENCE\",\"COMPLEX_WORDS\",\n",
    "                               \"Word_Count\",\"syllable\",\"Average_Word_Length\"])\n",
    "from textblob import TextBlob\n",
    "# Get The Subjectivity\n",
    "def sentiment_analysis(data):\n",
    "    sentiment = TextBlob(data[\"content\"]).sentiment\n",
    "    return pd.Series([sentiment.polarity,sentiment.subjectivity ])\n",
    "data[[\"polarity\", \"subjectivity\"]] = data.apply(sentiment_analysis, axis=1)\n",
    "data"
   ]
  },
  {
   "cell_type": "code",
   "execution_count": 2,
   "id": "065e4b14",
   "metadata": {},
   "outputs": [],
   "source": [
    "data.to_csv(r'C:\\Users\\Om Bhandwalkar\\Desktop\\BlackCoffer Assignment\\Output\\url_81.csv')"
   ]
  },
  {
   "cell_type": "code",
   "execution_count": null,
   "id": "ccd46e1a",
   "metadata": {},
   "outputs": [],
   "source": []
  }
 ],
 "metadata": {
  "kernelspec": {
   "display_name": "Python 3 (ipykernel)",
   "language": "python",
   "name": "python3"
  },
  "language_info": {
   "codemirror_mode": {
    "name": "ipython",
    "version": 3
   },
   "file_extension": ".py",
   "mimetype": "text/x-python",
   "name": "python",
   "nbconvert_exporter": "python",
   "pygments_lexer": "ipython3",
   "version": "3.9.12"
  }
 },
 "nbformat": 4,
 "nbformat_minor": 5
}
