{
 "cells": [
  {
   "cell_type": "code",
   "execution_count": 2,
   "id": "d191b5c8",
   "metadata": {},
   "outputs": [
    {
     "data": {
      "text/plain": [
       "'Gender diversity and Equality in the tech industry'"
      ]
     },
     "execution_count": 2,
     "metadata": {},
     "output_type": "execute_result"
    }
   ],
   "source": [
    "import requests\n",
    "import pandas as pd \n",
    "from bs4 import BeautifulSoup\n",
    "import string\n",
    "import spacy\n",
    "import re\n",
    "url = \"\"\"https://insights.blackcoffer.com/gender-diversity-and-equality-in-the-tech-industry/\"\"\"\n",
    "headers = {\"User-Agent\": \"Mozilla/5.0 (X11; Linux x86_64; rv:60.0) Gecko/20100101 Firefox/60.0\"}\n",
    "page = requests.get(url, headers=headers)\n",
    "soup = BeautifulSoup(page.content, 'html.parser')\n",
    "soup=BeautifulSoup(page.content, 'html.parser')\n",
    "title=soup.find('h1',class_=\"entry-title\")\n",
    "title=title.text.replace('\\n',\" \")\n",
    "title\n"
   ]
  },
  {
   "cell_type": "code",
   "execution_count": 3,
   "id": "b632a428",
   "metadata": {},
   "outputs": [
    {
     "name": "stdout",
     "output_type": "stream",
     "text": [
      " Gender diversity is an equal representation of all genders in workplaces. One of the most important sectors where there is under-representation of gender diversity is the technological industry. Gender diversity means you have an equal opportunity which is not limited by gender. But, the true reality is gender diversity is a far outcry in the world. Gender diversity isn’t a new topic but an old and global phenomenon and technology industry is not a stranger to it.  Women are often underrepresented in the technology sector. To understand the gap, let’s look at some statistics.  The percentage of women employed across all job sectors in the US has grown to be 47%. Out of 47%. 34% belong to the top 5 technology companies (Amazon, Apple, Facebook, Google, and Microsoft). Women software engineer hires have only increased 2% over the last 20 years 50% of women said they have experienced gender discrimination at work. Only 37% of tech startups have at least one woman on the board of directors. The ratio of men to women in engineering is 5:1. 25.5% of Google’s leaders on a global scale are women.  Even in the tech conference organizations, there were fewer female keynote speakers than male speakers. Eight percent to 17 percent of gay and transgender workers report being passed over for a job or fired because of their sexual orientation or gender identity. Globally, women only earn 77 cents to the dollar when compared to men. According to a McKinsey Global Institute report, if women were to play an identical role in labor markets to that of men, as much as $28 trillion, or 26%, could be added to the global annual GDP by 2025. According to UNESCO, over 2.7 billion women are legally restricted from having the same choice of jobs as men. And women’s labor force participation rate is 48.5 % compared to a rate of 75% for men.  After looking at these staggering numbers, we see how biased gender diversity is even in the technological sector. Need of the hour With rapid industrialization and education about the importance of rights, gender diversity is very important in today’s world. Gender equality represents a society that has lesser violence and provides a safer world for everyone. It is also directly proportional to sustainable development and ensures human rights to everyone. As today’s markets are increasing along with customers’ preferences, to understand customer profiles and build products we need gender diversity in our organizations. Equal representation helps in a better decision-making process for a positive impact. Men and Women invest back into their families and having gender equality and diversity helps build values into families and households. Empowering individuals not only help themselves but also the economy of the nations. Gender equality and diversity should be built into organizations’ beliefs and values.   https://www.statista.com/chart/4467/female-employees-at-tech-companies/   Global Gender Gap Report (2017) Why is this happening? Perception: If we see the word “gender”, it is a socially constructed definition. And this definition changes as per different cultural norms. In a much broader term, our society is also not aware of the concept of binary and non-binary gender, which includes queer, Trans, and Intersex individuals as well. The socially acceptable thing is to have gender expressions as per our gender identity. So, when it comes to choosing their career, people tend to choose a job role that gives them higher social belongingness. E.g. We see more women(as compared to men) in nursing careers as it requires more feminine qualities. There are different versions of this perception: which we can see either in the society(in terms of socially assigned gender roles) or in the workplace(in the form of gender discrimination, stereotypical thinking, sexism, etc.). E.g. As per their assigned roles in society, women are most likely to take care of their family and children, and this affects their income and career growth. The motherhood penalty is a term defined by sociologists which states about the inverse correlation between income level and the number of children, i.e. there is also an income difference between a mother and a non-mother employee. As per OECD data(2012), there is a 7% reduction in wages for women per child. Lack of economic opportunities: Even in the tech industry, women are paid less than men. As per ILO data(2019), on average women are paid 20% less than men worldwide.  Even when it comes to promotion, men are preferred more. It is to be noted that the numbers are even worse when there is intersectionality involved. E.g., a transgender woman will be paid less than a white woman and so on. As per the National Centre for Transgender equality, one out of two transgender people faces adverse effects: including 23% were denied a promotion, 44% were passed over for a particular job position and 26% are fired from their workplace just because they are transgender.  Ways to improve gender diversity: We can improve this scenario from the perspective of different stakeholders who are involved. For Society : Creating Tech awareness from School level: As per the HDR report( 2017), no. of boys pursuing STEM program is 97% higher than girls. One way to improve this is to introduce more strong role models to advocate for this issue. Minority gender communities should be aware of the multiple job opportunities and career growth available in this field. These job roles are not even gender-specific anymore. For developing countries like India, STEM scholarship programs can be introduced from the secondary education level.  Address Bias/Stereotypes: It is to be noted that perceptions, stereotypes, and biases are not just something we learn in school but our upbringing also creates these, the things we watch, listen, and read daily. So, it also becomes the duty of the society to create a more inclusive environment. E.g. A more privileged person should fight for the fundamental right of the less empowered or less privileged person in society. There should be active encouragement from parents, teachers, and educators for students in STEM programs regardless of their gender identity. For Companies: To promote gender diversity in the workplace, companies need to focus on three things: Unbiased Recruitment policies: Generally, there is a lot of unconscious bias and prejudices when hiring women, trans, intersex, and queer individuals. There needs to be a diversity and inclusivity team in the HR itself that addresses these issues. A blind recruitment drive can be conducted where there is no need to mention gender in any of the documents. Having structured questions during the interview might help to remove any unconscious biases. Diversity sensitivity training: Workplace policies need to create a company image that hires everyone irrespective of their gender identity and can even keep it optional in all the job formalities and documents. Conducting proper sensitivity training to employees is essential as they need to use correct pronoun/gender-neutral language. Not just sensitivity training, strong workplace policies need to be in place which deal with any form of harassment or gender discrimination.  To create accountability and transparency in their process, companies can also share diversity and inclusivity company data. Retention policies: Creating Mentorship models:  Have a mentorship program in the workplace that advocates for women, trans, intersex, and non-binary individuals as leaders and encourages role models within this community.   Need to promote diversity in the workplace via proper workplace policies and legal guidelines(e.g. conducting mandatory sensitization training for all employees or framing zero-tolerance policies.)  Including proper maternity leaves, child care facilities, and flexibility of working hours/remote working arrangements can be helpful for minority gender in keeping their work-life balance. Develop support programs for these communities who are joining after maternity leave. It might be in terms of psychiatric or mentorship support. Increase Pay parities: It can be done in the following ways:  Create flexibility in job roles so that women can move on to higher positions. Build an inclusive workplace that supports pay parity— no salary difference based on gender for the same job roles. Create a transparent performance review process and ensure that there are no unconscious biases during the recruitment process. Doing a pay review within the organization to check how much pay difference exists before making framing policies.  Lastly, there needs to be proper government policies in place which provide a constitutional or legal framework starting from the basic education level. It may begin from increasing the gross enrollment rates of all students in schools (irrespective of their gender identity) for developing countries( like India) to have proper compensation policies in the workplace(as similar to what states like California, New York has adopted) to ensure pay parity. Blackcoffer Insights 19: Sushmitha & Sujatha, IIM Kozhikode   \n",
      " Gender diversity is an equal representation of all genders in workplaces One of the most important sectors where there is underrepresentation of gender diversity is the technological industry Gender diversity means you have an equal opportunity which is not limited by gender But the true reality is gender diversity is a far outcry in the world Gender diversity isn’t a new topic but an old and global phenomenon and technology industry is not a stranger to it  Women are often underrepresented in the technology sector To understand the gap let’s look at some statistics  The percentage of women employed across all job sectors in the US has grown to be 47 Out of 47 34 belong to the top 5 technology companies Amazon Apple Facebook Google and Microsoft Women software engineer hires have only increased 2 over the last 20 years 50 of women said they have experienced gender discrimination at work Only 37 of tech startups have at least one woman on the board of directors The ratio of men to women in engineering is 51 255 of Google’s leaders on a global scale are women  Even in the tech conference organizations there were fewer female keynote speakers than male speakers Eight percent to 17 percent of gay and transgender workers report being passed over for a job or fired because of their sexual orientation or gender identity Globally women only earn 77 cents to the dollar when compared to men According to a McKinsey Global Institute report if women were to play an identical role in labor markets to that of men as much as 28 trillion or 26 could be added to the global annual GDP by 2025 According to UNESCO over 27 billion women are legally restricted from having the same choice of jobs as men And women’s labor force participation rate is 485  compared to a rate of 75 for men  After looking at these staggering numbers we see how biased gender diversity is even in the technological sector Need of the hour With rapid industrialization and education about the importance of rights gender diversity is very important in today’s world Gender equality represents a society that has lesser violence and provides a safer world for everyone It is also directly proportional to sustainable development and ensures human rights to everyone As today’s markets are increasing along with customers’ preferences to understand customer profiles and build products we need gender diversity in our organizations Equal representation helps in a better decisionmaking process for a positive impact Men and Women invest back into their families and having gender equality and diversity helps build values into families and households Empowering individuals not only help themselves but also the economy of the nations Gender equality and diversity should be built into organizations’ beliefs and values   httpswwwstatistacomchart4467femaleemployeesattechcompanies   Global Gender Gap Report 2017 Why is this happening Perception If we see the word “gender” it is a socially constructed definition And this definition changes as per different cultural norms In a much broader term our society is also not aware of the concept of binary and nonbinary gender which includes queer Trans and Intersex individuals as well The socially acceptable thing is to have gender expressions as per our gender identity So when it comes to choosing their career people tend to choose a job role that gives them higher social belongingness Eg We see more womenas compared to men in nursing careers as it requires more feminine qualities There are different versions of this perception which we can see either in the societyin terms of socially assigned gender roles or in the workplacein the form of gender discrimination stereotypical thinking sexism etc Eg As per their assigned roles in society women are most likely to take care of their family and children and this affects their income and career growth The motherhood penalty is a term defined by sociologists which states about the inverse correlation between income level and the number of children ie there is also an income difference between a mother and a nonmother employee As per OECD data2012 there is a 7 reduction in wages for women per child Lack of economic opportunities Even in the tech industry women are paid less than men As per ILO data2019 on average women are paid 20 less than men worldwide  Even when it comes to promotion men are preferred more It is to be noted that the numbers are even worse when there is intersectionality involved Eg a transgender woman will be paid less than a white woman and so on As per the National Centre for Transgender equality one out of two transgender people faces adverse effects including 23 were denied a promotion 44 were passed over for a particular job position and 26 are fired from their workplace just because they are transgender  Ways to improve gender diversity We can improve this scenario from the perspective of different stakeholders who are involved For Society  Creating Tech awareness from School level As per the HDR report 2017 no of boys pursuing STEM program is 97 higher than girls One way to improve this is to introduce more strong role models to advocate for this issue Minority gender communities should be aware of the multiple job opportunities and career growth available in this field These job roles are not even genderspecific anymore For developing countries like India STEM scholarship programs can be introduced from the secondary education level  Address BiasStereotypes It is to be noted that perceptions stereotypes and biases are not just something we learn in school but our upbringing also creates these the things we watch listen and read daily So it also becomes the duty of the society to create a more inclusive environment Eg A more privileged person should fight for the fundamental right of the less empowered or less privileged person in society There should be active encouragement from parents teachers and educators for students in STEM programs regardless of their gender identity For Companies To promote gender diversity in the workplace companies need to focus on three things Unbiased Recruitment policies Generally there is a lot of unconscious bias and prejudices when hiring women trans intersex and queer individuals There needs to be a diversity and inclusivity team in the HR itself that addresses these issues A blind recruitment drive can be conducted where there is no need to mention gender in any of the documents Having structured questions during the interview might help to remove any unconscious biases Diversity sensitivity training Workplace policies need to create a company image that hires everyone irrespective of their gender identity and can even keep it optional in all the job formalities and documents Conducting proper sensitivity training to employees is essential as they need to use correct pronoungenderneutral language Not just sensitivity training strong workplace policies need to be in place which deal with any form of harassment or gender discrimination  To create accountability and transparency in their process companies can also share diversity and inclusivity company data Retention policies Creating Mentorship models  Have a mentorship program in the workplace that advocates for women trans intersex and nonbinary individuals as leaders and encourages role models within this community   Need to promote diversity in the workplace via proper workplace policies and legal guidelineseg conducting mandatory sensitization training for all employees or framing zerotolerance policies  Including proper maternity leaves child care facilities and flexibility of working hoursremote working arrangements can be helpful for minority gender in keeping their worklife balance Develop support programs for these communities who are joining after maternity leave It might be in terms of psychiatric or mentorship support Increase Pay parities It can be done in the following ways  Create flexibility in job roles so that women can move on to higher positions Build an inclusive workplace that supports pay parity— no salary difference based on gender for the same job roles Create a transparent performance review process and ensure that there are no unconscious biases during the recruitment process Doing a pay review within the organization to check how much pay difference exists before making framing policies  Lastly there needs to be proper government policies in place which provide a constitutional or legal framework starting from the basic education level It may begin from increasing the gross enrollment rates of all students in schools irrespective of their gender identity for developing countries like India to have proper compensation policies in the workplaceas similar to what states like California New York has adopted to ensure pay parity Blackcoffer Insights 19 Sushmitha  Sujatha IIM Kozhikode   \n",
      "['Gender', 'diversity', 'is', 'an', 'equal', 'representation', 'of', 'all', 'genders', 'in', 'workplaces', 'One', 'of', 'the', 'most', 'important', 'sectors', 'where', 'there', 'is', 'underrepresentation', 'of', 'gender', 'diversity', 'is', 'the', 'technological', 'industry', 'Gender', 'diversity', 'means', 'you', 'have', 'an', 'equal', 'opportunity', 'which', 'is', 'not', 'limited', 'by', 'gender', 'But', 'the', 'true', 'reality', 'is', 'gender', 'diversity', 'is', 'a', 'far', 'outcry', 'in', 'the', 'world', 'Gender', 'diversity', 'isn’t', 'a', 'new', 'topic', 'but', 'an', 'old', 'and', 'global', 'phenomenon', 'and', 'technology', 'industry', 'is', 'not', 'a', 'stranger', 'to', 'it', 'Women', 'are', 'often', 'underrepresented', 'in', 'the', 'technology', 'sector', 'To', 'understand', 'the', 'gap', 'let’s', 'look', 'at', 'some', 'statistics', 'The', 'percentage', 'of', 'women', 'employed', 'across', 'all', 'job', 'sectors', 'in', 'the', 'US', 'has', 'grown', 'to', 'be', '47', 'Out', 'of', '47', '34', 'belong', 'to', 'the', 'top', '5', 'technology', 'companies', 'Amazon', 'Apple', 'Facebook', 'Google', 'and', 'Microsoft', 'Women', 'software', 'engineer', 'hires', 'have', 'only', 'increased', '2', 'over', 'the', 'last', '20', 'years', '50', 'of', 'women', 'said', 'they', 'have', 'experienced', 'gender', 'discrimination', 'at', 'work', 'Only', '37', 'of', 'tech', 'startups', 'have', 'at', 'least', 'one', 'woman', 'on', 'the', 'board', 'of', 'directors', 'The', 'ratio', 'of', 'men', 'to', 'women', 'in', 'engineering', 'is', '51', '255', 'of', 'Google’s', 'leaders', 'on', 'a', 'global', 'scale', 'are', 'women', 'Even', 'in', 'the', 'tech', 'conference', 'organizations', 'there', 'were', 'fewer', 'female', 'keynote', 'speakers', 'than', 'male', 'speakers', 'Eight', 'percent', 'to', '17', 'percent', 'of', 'gay', 'and', 'transgender', 'workers', 'report', 'being', 'passed', 'over', 'for', 'a', 'job', 'or', 'fired', 'because', 'of', 'their', 'sexual', 'orientation', 'or', 'gender', 'identity', 'Globally', 'women', 'only', 'earn', '77', 'cents', 'to', 'the', 'dollar', 'when', 'compared', 'to', 'men', 'According', 'to', 'a', 'McKinsey', 'Global', 'Institute', 'report', 'if', 'women', 'were', 'to', 'play', 'an', 'identical', 'role', 'in', 'labor', 'markets', 'to', 'that', 'of', 'men', 'as', 'much', 'as', '28', 'trillion', 'or', '26', 'could', 'be', 'added', 'to', 'the', 'global', 'annual', 'GDP', 'by', '2025', 'According', 'to', 'UNESCO', 'over', '27', 'billion', 'women', 'are', 'legally', 'restricted', 'from', 'having', 'the', 'same', 'choice', 'of', 'jobs', 'as', 'men', 'And', 'women’s', 'labor', 'force', 'participation', 'rate', 'is', '485', 'compared', 'to', 'a', 'rate', 'of', '75', 'for', 'men', 'After', 'looking', 'at', 'these', 'staggering', 'numbers', 'we', 'see', 'how', 'biased', 'gender', 'diversity', 'is', 'even', 'in', 'the', 'technological', 'sector', 'Need', 'of', 'the', 'hour', 'With', 'rapid', 'industrialization', 'and', 'education', 'about', 'the', 'importance', 'of', 'rights', 'gender', 'diversity', 'is', 'very', 'important', 'in', 'today’s', 'world', 'Gender', 'equality', 'represents', 'a', 'society', 'that', 'has', 'lesser', 'violence', 'and', 'provides', 'a', 'safer', 'world', 'for', 'everyone', 'It', 'is', 'also', 'directly', 'proportional', 'to', 'sustainable', 'development', 'and', 'ensures', 'human', 'rights', 'to', 'everyone', 'As', 'today’s', 'markets', 'are', 'increasing', 'along', 'with', 'customers’', 'preferences', 'to', 'understand', 'customer', 'profiles', 'and', 'build', 'products', 'we', 'need', 'gender', 'diversity', 'in', 'our', 'organizations', 'Equal', 'representation', 'helps', 'in', 'a', 'better', 'decisionmaking', 'process', 'for', 'a', 'positive', 'impact', 'Men', 'and', 'Women', 'invest', 'back', 'into', 'their', 'families', 'and', 'having', 'gender', 'equality', 'and', 'diversity', 'helps', 'build', 'values', 'into', 'families', 'and', 'households', 'Empowering', 'individuals', 'not', 'only', 'help', 'themselves', 'but', 'also', 'the', 'economy', 'of', 'the', 'nations', 'Gender', 'equality', 'and', 'diversity', 'should', 'be', 'built', 'into', 'organizations’', 'beliefs', 'and', 'values', 'httpswwwstatistacomchart4467femaleemployeesattechcompanies', 'Global', 'Gender', 'Gap', 'Report', '2017', 'Why', 'is', 'this', 'happening', 'Perception', 'If', 'we', 'see', 'the', 'word', '“gender”', 'it', 'is', 'a', 'socially', 'constructed', 'definition', 'And', 'this', 'definition', 'changes', 'as', 'per', 'different', 'cultural', 'norms', 'In', 'a', 'much', 'broader', 'term', 'our', 'society', 'is', 'also', 'not', 'aware', 'of', 'the', 'concept', 'of', 'binary', 'and', 'nonbinary', 'gender', 'which', 'includes', 'queer', 'Trans', 'and', 'Intersex', 'individuals', 'as', 'well', 'The', 'socially', 'acceptable', 'thing', 'is', 'to', 'have', 'gender', 'expressions', 'as', 'per', 'our', 'gender', 'identity', 'So', 'when', 'it', 'comes', 'to', 'choosing', 'their', 'career', 'people', 'tend', 'to', 'choose', 'a', 'job', 'role', 'that', 'gives', 'them', 'higher', 'social', 'belongingness', 'Eg', 'We', 'see', 'more', 'womenas', 'compared', 'to', 'men', 'in', 'nursing', 'careers', 'as', 'it', 'requires', 'more', 'feminine', 'qualities', 'There', 'are', 'different', 'versions', 'of', 'this', 'perception', 'which', 'we', 'can', 'see', 'either', 'in', 'the', 'societyin', 'terms', 'of', 'socially', 'assigned', 'gender', 'roles', 'or', 'in', 'the', 'workplacein', 'the', 'form', 'of', 'gender', 'discrimination', 'stereotypical', 'thinking', 'sexism', 'etc', 'Eg', 'As', 'per', 'their', 'assigned', 'roles', 'in', 'society', 'women', 'are', 'most', 'likely', 'to', 'take', 'care', 'of', 'their', 'family', 'and', 'children', 'and', 'this', 'affects', 'their', 'income', 'and', 'career', 'growth', 'The', 'motherhood', 'penalty', 'is', 'a', 'term', 'defined', 'by', 'sociologists', 'which', 'states', 'about', 'the', 'inverse', 'correlation', 'between', 'income', 'level', 'and', 'the', 'number', 'of', 'children', 'ie', 'there', 'is', 'also', 'an', 'income', 'difference', 'between', 'a', 'mother', 'and', 'a', 'nonmother', 'employee', 'As', 'per', 'OECD', 'data2012', 'there', 'is', 'a', '7', 'reduction', 'in', 'wages', 'for', 'women', 'per', 'child', 'Lack', 'of', 'economic', 'opportunities', 'Even', 'in', 'the', 'tech', 'industry', 'women', 'are', 'paid', 'less', 'than', 'men', 'As', 'per', 'ILO', 'data2019', 'on', 'average', 'women', 'are', 'paid', '20', 'less', 'than', 'men', 'worldwide', 'Even', 'when', 'it', 'comes', 'to', 'promotion', 'men', 'are', 'preferred', 'more', 'It', 'is', 'to', 'be', 'noted', 'that', 'the', 'numbers', 'are', 'even', 'worse', 'when', 'there', 'is', 'intersectionality', 'involved', 'Eg', 'a', 'transgender', 'woman', 'will', 'be', 'paid', 'less', 'than', 'a', 'white', 'woman', 'and', 'so', 'on', 'As', 'per', 'the', 'National', 'Centre', 'for', 'Transgender', 'equality', 'one', 'out', 'of', 'two', 'transgender', 'people', 'faces', 'adverse', 'effects', 'including', '23', 'were', 'denied', 'a', 'promotion', '44', 'were', 'passed', 'over', 'for', 'a', 'particular', 'job', 'position', 'and', '26', 'are', 'fired', 'from', 'their', 'workplace', 'just', 'because', 'they', 'are', 'transgender', 'Ways', 'to', 'improve', 'gender', 'diversity', 'We', 'can', 'improve', 'this', 'scenario', 'from', 'the', 'perspective', 'of', 'different', 'stakeholders', 'who', 'are', 'involved', 'For', 'Society', 'Creating', 'Tech', 'awareness', 'from', 'School', 'level', 'As', 'per', 'the', 'HDR', 'report', '2017', 'no', 'of', 'boys', 'pursuing', 'STEM', 'program', 'is', '97', 'higher', 'than', 'girls', 'One', 'way', 'to', 'improve', 'this', 'is', 'to', 'introduce', 'more', 'strong', 'role', 'models', 'to', 'advocate', 'for', 'this', 'issue', 'Minority', 'gender', 'communities', 'should', 'be', 'aware', 'of', 'the', 'multiple', 'job', 'opportunities', 'and', 'career', 'growth', 'available', 'in', 'this', 'field', 'These', 'job', 'roles', 'are', 'not', 'even', 'genderspecific', 'anymore', 'For', 'developing', 'countries', 'like', 'India', 'STEM', 'scholarship', 'programs', 'can', 'be', 'introduced', 'from', 'the', 'secondary', 'education', 'level', 'Address', 'BiasStereotypes', 'It', 'is', 'to', 'be', 'noted', 'that', 'perceptions', 'stereotypes', 'and', 'biases', 'are', 'not', 'just', 'something', 'we', 'learn', 'in', 'school', 'but', 'our', 'upbringing', 'also', 'creates', 'these', 'the', 'things', 'we', 'watch', 'listen', 'and', 'read', 'daily', 'So', 'it', 'also', 'becomes', 'the', 'duty', 'of', 'the', 'society', 'to', 'create', 'a', 'more', 'inclusive', 'environment', 'Eg', 'A', 'more', 'privileged', 'person', 'should', 'fight', 'for', 'the', 'fundamental', 'right', 'of', 'the', 'less', 'empowered', 'or', 'less', 'privileged', 'person', 'in', 'society', 'There', 'should', 'be', 'active', 'encouragement', 'from', 'parents', 'teachers', 'and', 'educators', 'for', 'students', 'in', 'STEM', 'programs', 'regardless', 'of', 'their', 'gender', 'identity', 'For', 'Companies', 'To', 'promote', 'gender', 'diversity', 'in', 'the', 'workplace', 'companies', 'need', 'to', 'focus', 'on', 'three', 'things', 'Unbiased', 'Recruitment', 'policies', 'Generally', 'there', 'is', 'a', 'lot', 'of', 'unconscious', 'bias', 'and', 'prejudices', 'when', 'hiring', 'women', 'trans', 'intersex', 'and', 'queer', 'individuals', 'There', 'needs', 'to', 'be', 'a', 'diversity', 'and', 'inclusivity', 'team', 'in', 'the', 'HR', 'itself', 'that', 'addresses', 'these', 'issues', 'A', 'blind', 'recruitment', 'drive', 'can', 'be', 'conducted', 'where', 'there', 'is', 'no', 'need', 'to', 'mention', 'gender', 'in', 'any', 'of', 'the', 'documents', 'Having', 'structured', 'questions', 'during', 'the', 'interview', 'might', 'help', 'to', 'remove', 'any', 'unconscious', 'biases', 'Diversity', 'sensitivity', 'training', 'Workplace', 'policies', 'need', 'to', 'create', 'a', 'company', 'image', 'that', 'hires', 'everyone', 'irrespective', 'of', 'their', 'gender', 'identity', 'and', 'can', 'even', 'keep', 'it', 'optional', 'in', 'all', 'the', 'job', 'formalities', 'and', 'documents', 'Conducting', 'proper', 'sensitivity', 'training', 'to', 'employees', 'is', 'essential', 'as', 'they', 'need', 'to', 'use', 'correct', 'pronoungenderneutral', 'language', 'Not', 'just', 'sensitivity', 'training', 'strong', 'workplace', 'policies', 'need', 'to', 'be', 'in', 'place', 'which', 'deal', 'with', 'any', 'form', 'of', 'harassment', 'or', 'gender', 'discrimination', 'To', 'create', 'accountability', 'and', 'transparency', 'in', 'their', 'process', 'companies', 'can', 'also', 'share', 'diversity', 'and', 'inclusivity', 'company', 'data', 'Retention', 'policies', 'Creating', 'Mentorship', 'models', 'Have', 'a', 'mentorship', 'program', 'in', 'the', 'workplace', 'that', 'advocates', 'for', 'women', 'trans', 'intersex', 'and', 'nonbinary', 'individuals', 'as', 'leaders', 'and', 'encourages', 'role', 'models', 'within', 'this', 'community', 'Need', 'to', 'promote', 'diversity', 'in', 'the', 'workplace', 'via', 'proper', 'workplace', 'policies', 'and', 'legal', 'guidelineseg', 'conducting', 'mandatory', 'sensitization', 'training', 'for', 'all', 'employees', 'or', 'framing', 'zerotolerance', 'policies', 'Including', 'proper', 'maternity', 'leaves', 'child', 'care', 'facilities', 'and', 'flexibility', 'of', 'working', 'hoursremote', 'working', 'arrangements', 'can', 'be', 'helpful', 'for', 'minority', 'gender', 'in', 'keeping', 'their', 'worklife', 'balance', 'Develop', 'support', 'programs', 'for', 'these', 'communities', 'who', 'are', 'joining', 'after', 'maternity', 'leave', 'It', 'might', 'be', 'in', 'terms', 'of', 'psychiatric', 'or', 'mentorship', 'support', 'Increase', 'Pay', 'parities', 'It', 'can', 'be', 'done', 'in', 'the', 'following', 'ways', 'Create', 'flexibility', 'in', 'job', 'roles', 'so', 'that', 'women', 'can', 'move', 'on', 'to', 'higher', 'positions', 'Build', 'an', 'inclusive', 'workplace', 'that', 'supports', 'pay', 'parity—', 'no', 'salary', 'difference', 'based', 'on', 'gender', 'for', 'the', 'same', 'job', 'roles', 'Create', 'a', 'transparent', 'performance', 'review', 'process', 'and', 'ensure', 'that', 'there', 'are', 'no', 'unconscious', 'biases', 'during', 'the', 'recruitment', 'process', 'Doing', 'a', 'pay', 'review', 'within', 'the', 'organization', 'to', 'check', 'how', 'much', 'pay', 'difference', 'exists', 'before', 'making', 'framing', 'policies', 'Lastly', 'there', 'needs', 'to', 'be', 'proper', 'government', 'policies', 'in', 'place', 'which', 'provide', 'a', 'constitutional', 'or', 'legal', 'framework', 'starting', 'from', 'the', 'basic', 'education', 'level', 'It', 'may', 'begin', 'from', 'increasing', 'the', 'gross', 'enrollment', 'rates', 'of', 'all', 'students', 'in', 'schools', 'irrespective', 'of', 'their', 'gender', 'identity', 'for', 'developing', 'countries', 'like', 'India', 'to', 'have', 'proper', 'compensation', 'policies', 'in', 'the', 'workplaceas', 'similar', 'to', 'what', 'states', 'like', 'California', 'New', 'York', 'has', 'adopted', 'to', 'ensure', 'pay', 'parity', 'Blackcoffer', 'Insights', '19', 'Sushmitha', 'Sujatha', 'IIM', 'Kozhikode']\n"
     ]
    }
   ],
   "source": [
    "content=soup.findAll(attrs={'class':'td-post-content'})\n",
    "content=content[0].text.replace('\\n',\" \")\n",
    "print(content)\n",
    "#Punctuation\n",
    "content = content.translate(str.maketrans('', '', string.punctuation)) \n",
    "print(content)\n",
    "text = content.split()\n",
    "print(text)\n"
   ]
  },
  {
   "cell_type": "code",
   "execution_count": 4,
   "id": "de5a0b74",
   "metadata": {},
   "outputs": [
    {
     "data": {
      "text/plain": [
       "1432"
      ]
     },
     "execution_count": 4,
     "metadata": {},
     "output_type": "execute_result"
    }
   ],
   "source": [
    "len(text)"
   ]
  },
  {
   "cell_type": "code",
   "execution_count": 5,
   "id": "88c65cf3",
   "metadata": {},
   "outputs": [
    {
     "name": "stdout",
     "output_type": "stream",
     "text": [
      "37\n"
     ]
    }
   ],
   "source": [
    "#Positive Score \n",
    "with open(r\"C:\\Users\\Om Bhandwalkar\\Desktop\\pos\\positive-words.txt\") as pos:\n",
    "    poswords = pos.read().split(\"\\n\")  \n",
    "    poswords = poswords[5:]\n",
    "pos_count = \" \".join ([w for w in text if w in poswords])\n",
    "pos_count=pos_count.split(\" \")\n",
    "Positive_score=len(pos_count)\n",
    "print(Positive_score)"
   ]
  },
  {
   "cell_type": "code",
   "execution_count": 6,
   "id": "2c4c3fa6",
   "metadata": {},
   "outputs": [
    {
     "name": "stdout",
     "output_type": "stream",
     "text": [
      "25\n"
     ]
    }
   ],
   "source": [
    "#Negative Score\n",
    "with open(r\"C:\\Users\\Om Bhandwalkar\\Desktop\\pos\\negative-words.txt\",encoding =\"ISO-8859-1\") as neg:\n",
    "    negwords = neg.read().split(\"\\n\")\n",
    "    \n",
    "negwords = negwords[36:]\n",
    "neg_count = \" \".join ([w for w in text if w in negwords])\n",
    "neg_count=neg_count.split(\" \")\n",
    "Negative_score=len(neg_count)\n",
    "print(Negative_score)"
   ]
  },
  {
   "cell_type": "code",
   "execution_count": 7,
   "id": "3508ad65",
   "metadata": {},
   "outputs": [
    {
     "data": {
      "text/html": [
       "<div>\n",
       "<style scoped>\n",
       "    .dataframe tbody tr th:only-of-type {\n",
       "        vertical-align: middle;\n",
       "    }\n",
       "\n",
       "    .dataframe tbody tr th {\n",
       "        vertical-align: top;\n",
       "    }\n",
       "\n",
       "    .dataframe thead th {\n",
       "        text-align: right;\n",
       "    }\n",
       "</style>\n",
       "<table border=\"1\" class=\"dataframe\">\n",
       "  <thead>\n",
       "    <tr style=\"text-align: right;\">\n",
       "      <th></th>\n",
       "      <th>url</th>\n",
       "      <th>title</th>\n",
       "      <th>content</th>\n",
       "      <th>filter_content</th>\n",
       "      <th>Positive_Score</th>\n",
       "      <th>Negative_Score</th>\n",
       "      <th>polarity</th>\n",
       "      <th>subjectivity</th>\n",
       "    </tr>\n",
       "  </thead>\n",
       "  <tbody>\n",
       "    <tr>\n",
       "      <th>0</th>\n",
       "      <td>https://insights.blackcoffer.com/gender-divers...</td>\n",
       "      <td>Gender diversity and Equality in the tech indu...</td>\n",
       "      <td>Gender diversity is an equal representation o...</td>\n",
       "      <td>Gender diversity is an equal representation of...</td>\n",
       "      <td>37</td>\n",
       "      <td>25</td>\n",
       "      <td>0.101868</td>\n",
       "      <td>0.355015</td>\n",
       "    </tr>\n",
       "  </tbody>\n",
       "</table>\n",
       "</div>"
      ],
      "text/plain": [
       "                                                 url  \\\n",
       "0  https://insights.blackcoffer.com/gender-divers...   \n",
       "\n",
       "                                               title  \\\n",
       "0  Gender diversity and Equality in the tech indu...   \n",
       "\n",
       "                                             content  \\\n",
       "0   Gender diversity is an equal representation o...   \n",
       "\n",
       "                                      filter_content  Positive_Score  \\\n",
       "0  Gender diversity is an equal representation of...              37   \n",
       "\n",
       "   Negative_Score  polarity  subjectivity  \n",
       "0              25  0.101868      0.355015  "
      ]
     },
     "execution_count": 7,
     "metadata": {},
     "output_type": "execute_result"
    }
   ],
   "source": [
    "filter_content = ' '.join(text)\n",
    "data=[[url,title,content,filter_content,Positive_score,Negative_score]]\n",
    "data=pd.DataFrame(data,columns=[\"url\",\"title\",\"content\",\"filter_content\",\"Positive_Score\",\"Negative_Score\"])\n",
    "from textblob import TextBlob\n",
    "# Get The Subjectivity\n",
    "def sentiment_analysis(data):\n",
    "    sentiment = TextBlob(data[\"content\"]).sentiment\n",
    "    return pd.Series([sentiment.polarity,sentiment.subjectivity ])\n",
    "\n",
    "# Adding Subjectivity & Polarity\n",
    "data[[\"polarity\", \"subjectivity\"]] = data.apply(sentiment_analysis, axis=1)\n",
    "\n",
    "data"
   ]
  },
  {
   "cell_type": "code",
   "execution_count": 8,
   "id": "fc959985",
   "metadata": {},
   "outputs": [
    {
     "name": "stdout",
     "output_type": "stream",
     "text": [
      "Word average = 7456.0\n",
      "FOG INDEX =  577.3\n",
      "Average no of words per sentence\n",
      "1432.0\n",
      "Complex Words 2679\n"
     ]
    }
   ],
   "source": [
    "#AVG SENTENCE LENGTH\n",
    "AVG_SENTENCE_LENGTH = len(content.replace(' ',''))/len(re.split(r'[?!.]', content))\n",
    "print('Word average =', AVG_SENTENCE_LENGTH)\n",
    "import textstat\n",
    "#Fog index \n",
    "FOG_INDEX=(textstat.gunning_fog(content))\n",
    "print(\"FOG INDEX = \",FOG_INDEX)\n",
    "#Average No of Words Per Sentence \n",
    "AVG_NUMBER_OF_WORDS_PER_SENTENCE = [len(l.split()) for l in re.split(r'[?!.]', content) if l.strip()]\n",
    "print(\"Average no of words per sentence\")\n",
    "AVG_NUMBER_OF_WORDS_PER_SENTENCE=print(sum(AVG_NUMBER_OF_WORDS_PER_SENTENCE)/len(AVG_NUMBER_OF_WORDS_PER_SENTENCE))\n",
    "#Complex words\n",
    "def syllable_count(word):\n",
    "    count = 0\n",
    "    vowels = \"AEIOUYaeiouy\"\n",
    "    if word[0] in vowels:\n",
    "        count += 1\n",
    "    for index in range(1, len(word)): \n",
    "        if word[index] in vowels and word[index - 1] not in vowels:\n",
    "            count += 1\n",
    "            if word.endswith(\"es\"or \"ed\"):\n",
    "                count -= 1\n",
    "    if count == 0:\n",
    "        count += 1\n",
    "    return count\n",
    "\n",
    "\n",
    "\n",
    "COMPLEX_WORDS=syllable_count(content)\n",
    "print(\"Complex Words\",COMPLEX_WORDS)\n"
   ]
  },
  {
   "cell_type": "code",
   "execution_count": 9,
   "id": "2f206ab8",
   "metadata": {},
   "outputs": [
    {
     "name": "stdout",
     "output_type": "stream",
     "text": [
      "Word Count 8908\n",
      "Percentage of Complex Words 30.074090704984286\n",
      "Average Word per Length 5.206703910614525\n",
      "The AVG number of syllables in the word is: \n",
      "2.09427374301676\n"
     ]
    }
   ],
   "source": [
    "#Word Count\n",
    "Word_Count=len(content)\n",
    "print(\"Word Count\",Word_Count)\n",
    "#Percentage Complex Words\n",
    "pcw=(COMPLEX_WORDS/Word_Count)*100\n",
    "print(\"Percentage of Complex Words\",pcw)\n",
    "#Average Word Length\n",
    "Average_Word_Length=len(content.replace(' ',''))/len(content.split())\n",
    "print(\"Average Word per Length\",Average_Word_Length)\n",
    "#Syllable Count Per Word\n",
    "word=content.replace(' ','')\n",
    "syllable_count=0\n",
    "for w in word:\n",
    "      if(w=='a' or w=='e' or w=='i' or w=='o' or w=='y' or w=='u' or w=='A' or w=='E' or w=='I' or w=='O' or w=='U' or w=='Y'):\n",
    "            syllable_count=syllable_count+1\n",
    "print(\"The AVG number of syllables in the word is: \")\n",
    "print(syllable_count/len(content.split()))"
   ]
  },
  {
   "cell_type": "code",
   "execution_count": 1,
   "id": "d03cd2d9",
   "metadata": {},
   "outputs": [
    {
     "name": "stdout",
     "output_type": "stream",
     "text": [
      "37\n",
      "25\n",
      "Word average = 7456.0\n",
      "FOG INDEX =  577.3\n",
      "Average no of words per sentence\n",
      "1432.0\n",
      "Complex Words 2679\n",
      "Word Count 8908\n",
      "Percentage of Complex Words 30.074090704984286\n",
      "Average Word per Length 5.206703910614525\n",
      "The AVG number of syllables in the word is: \n",
      "2.09427374301676\n"
     ]
    },
    {
     "data": {
      "text/html": [
       "<div>\n",
       "<style scoped>\n",
       "    .dataframe tbody tr th:only-of-type {\n",
       "        vertical-align: middle;\n",
       "    }\n",
       "\n",
       "    .dataframe tbody tr th {\n",
       "        vertical-align: top;\n",
       "    }\n",
       "\n",
       "    .dataframe thead th {\n",
       "        text-align: right;\n",
       "    }\n",
       "</style>\n",
       "<table border=\"1\" class=\"dataframe\">\n",
       "  <thead>\n",
       "    <tr style=\"text-align: right;\">\n",
       "      <th></th>\n",
       "      <th>url</th>\n",
       "      <th>title</th>\n",
       "      <th>content</th>\n",
       "      <th>filter_content</th>\n",
       "      <th>Positive_Score</th>\n",
       "      <th>Negative_Score</th>\n",
       "      <th>Avg_Sentence_Length</th>\n",
       "      <th>Percentage_Complex_Word</th>\n",
       "      <th>Fog_Index</th>\n",
       "      <th>AVG_NUMBER_OF_WORDS_PER_SENTENCE</th>\n",
       "      <th>COMPLEX_WORDS</th>\n",
       "      <th>Word_Count</th>\n",
       "      <th>syllable</th>\n",
       "      <th>Average_Word_Length</th>\n",
       "      <th>polarity</th>\n",
       "      <th>subjectivity</th>\n",
       "    </tr>\n",
       "  </thead>\n",
       "  <tbody>\n",
       "    <tr>\n",
       "      <th>0</th>\n",
       "      <td>https://insights.blackcoffer.com/gender-divers...</td>\n",
       "      <td>Gender diversity and Equality in the tech indu...</td>\n",
       "      <td>Gender diversity is an equal representation o...</td>\n",
       "      <td>Gender diversity is an equal representation of...</td>\n",
       "      <td>37</td>\n",
       "      <td>25</td>\n",
       "      <td>7456.0</td>\n",
       "      <td>30.074091</td>\n",
       "      <td>577.3</td>\n",
       "      <td>1432.0</td>\n",
       "      <td>2679</td>\n",
       "      <td>8908</td>\n",
       "      <td>2.094274</td>\n",
       "      <td>5.206704</td>\n",
       "      <td>0.101868</td>\n",
       "      <td>0.355015</td>\n",
       "    </tr>\n",
       "  </tbody>\n",
       "</table>\n",
       "</div>"
      ],
      "text/plain": [
       "                                                 url  \\\n",
       "0  https://insights.blackcoffer.com/gender-divers...   \n",
       "\n",
       "                                               title  \\\n",
       "0  Gender diversity and Equality in the tech indu...   \n",
       "\n",
       "                                             content  \\\n",
       "0   Gender diversity is an equal representation o...   \n",
       "\n",
       "                                      filter_content  Positive_Score  \\\n",
       "0  Gender diversity is an equal representation of...              37   \n",
       "\n",
       "   Negative_Score  Avg_Sentence_Length  Percentage_Complex_Word  Fog_Index  \\\n",
       "0              25               7456.0                30.074091      577.3   \n",
       "\n",
       "    AVG_NUMBER_OF_WORDS_PER_SENTENCE  COMPLEX_WORDS  Word_Count  syllable  \\\n",
       "0                             1432.0           2679        8908  2.094274   \n",
       "\n",
       "   Average_Word_Length  polarity  subjectivity  \n",
       "0             5.206704  0.101868      0.355015  "
      ]
     },
     "execution_count": 1,
     "metadata": {},
     "output_type": "execute_result"
    }
   ],
   "source": [
    "import requests\n",
    "import pandas as pd \n",
    "from bs4 import BeautifulSoup\n",
    "import string\n",
    "import spacy\n",
    "import re\n",
    "url = \"\"\"https://insights.blackcoffer.com/gender-diversity-and-equality-in-the-tech-industry/\"\"\"\n",
    "headers = {\"User-Agent\": \"Mozilla/5.0 (X11; Linux x86_64; rv:60.0) Gecko/20100101 Firefox/60.0\"}\n",
    "page = requests.get(url, headers=headers)\n",
    "soup = BeautifulSoup(page.content, 'html.parser')\n",
    "soup=BeautifulSoup(page.content, 'html.parser')\n",
    "title=soup.find('h1',class_=\"entry-title\")\n",
    "title=title.text.replace('\\n',\" \")\n",
    "# title\n",
    "\n",
    "content=soup.findAll(attrs={'class':'td-post-content'})\n",
    "content=content[0].text.replace('\\n',\" \")\n",
    "# print(content)\n",
    "#Punctuation\n",
    "content = content.translate(str.maketrans('', '', string.punctuation)) \n",
    "# print(content)\n",
    "text = content.split()\n",
    "# print(text)\n",
    "len(text)\n",
    "#Positive Score \n",
    "with open(r\"C:\\Users\\Om Bhandwalkar\\Desktop\\pos\\positive-words.txt\") as pos:\n",
    "    poswords = pos.read().split(\"\\n\")  \n",
    "    poswords = poswords[5:]\n",
    "pos_count = \" \".join ([w for w in text if w in poswords])\n",
    "pos_count=pos_count.split(\" \")\n",
    "Positive_score=len(pos_count)\n",
    "print(Positive_score)\n",
    "\n",
    "#Negative Score\n",
    "with open(r\"C:\\Users\\Om Bhandwalkar\\Desktop\\pos\\negative-words.txt\",encoding =\"ISO-8859-1\") as neg:\n",
    "    negwords = neg.read().split(\"\\n\")\n",
    "    \n",
    "negwords = negwords[36:]\n",
    "neg_count = \" \".join ([w for w in text if w in negwords])\n",
    "neg_count=neg_count.split(\" \")\n",
    "Negative_score=len(neg_count)\n",
    "print(Negative_score)\n",
    "\n",
    "\n",
    "filter_content = ' '.join(text)\n",
    "data=[[url,title,content,filter_content,Positive_score,Negative_score]]\n",
    "data=pd.DataFrame(data,columns=[\"url\",\"title\",\"content\",\"filter_content\",\"Positive_Score\",\"Negative_Score\"])\n",
    "from textblob import TextBlob\n",
    "# Get The Subjectivity\n",
    "def sentiment_analysis(data):\n",
    "    sentiment = TextBlob(data[\"content\"]).sentiment\n",
    "    return pd.Series([sentiment.polarity,sentiment.subjectivity ])\n",
    "data[[\"polarity\", \"subjectivity\"]] = data.apply(sentiment_analysis, axis=1)\n",
    "data\n",
    "#AVG SENTENCE LENGTH\n",
    "AVG_SENTENCE_LENGTH = len(content.replace(' ',''))/len(re.split(r'[?!.]', content))\n",
    "print('Word average =', AVG_SENTENCE_LENGTH)\n",
    "import textstat\n",
    "#Fog index \n",
    "FOG_INDEX=(textstat.gunning_fog(content))\n",
    "print(\"FOG INDEX = \",FOG_INDEX)\n",
    "#Average No of Words Per Sentence \n",
    "AVG_NUMBER_OF_WORDS_PER_SENTENCE = [len(l.split()) for l in re.split(r'[?!.]', content) if l.strip()]\n",
    "print(\"Average no of words per sentence\")\n",
    "AVG_NUMBER_OF_WORDS_PER_SENTENCE=(sum(AVG_NUMBER_OF_WORDS_PER_SENTENCE)/len(AVG_NUMBER_OF_WORDS_PER_SENTENCE))\n",
    "print(AVG_NUMBER_OF_WORDS_PER_SENTENCE)\n",
    "#Complex words\n",
    "def syllable_count(word):\n",
    "    count = 0\n",
    "    vowels = \"AEIOUYaeiouy\"\n",
    "    if word[0] in vowels:\n",
    "        count += 1\n",
    "    for index in range(1, len(word)): \n",
    "        if word[index] in vowels and word[index - 1] not in vowels:\n",
    "            count += 1\n",
    "            if word.endswith(\"es\"or \"ed\"):\n",
    "                count -= 1\n",
    "    if count == 0:\n",
    "        count += 1\n",
    "    return count\n",
    "\n",
    "\n",
    "\n",
    "COMPLEX_WORDS=syllable_count(content)\n",
    "print(\"Complex Words\",COMPLEX_WORDS)\n",
    "#Word Count\n",
    "Word_Count=len(content)\n",
    "print(\"Word Count\",Word_Count)\n",
    "#Percentage Complex Words\n",
    "pcw=(COMPLEX_WORDS/Word_Count)*100\n",
    "print(\"Percentage of Complex Words\",pcw)\n",
    "#Average Word Length\n",
    "Average_Word_Length=len(content.replace(' ',''))/len(content.split())\n",
    "print(\"Average Word per Length\",Average_Word_Length)\n",
    "#Syllable Count Per Word\n",
    "word=content.replace(' ','')\n",
    "syllable_count=0\n",
    "for w in word:\n",
    "      if(w=='a' or w=='e' or w=='i' or w=='o' or w=='y' or w=='u' or w=='A' or w=='E' or w=='I' or w=='O' or w=='U' or w=='Y'):\n",
    "            syllable_count=syllable_count+1\n",
    "print(\"The AVG number of syllables in the word is: \")\n",
    "syllable = (syllable_count/len(content.split()))\n",
    "print(syllable)\n",
    "\n",
    "data = [[url,title,content,filter_content,Positive_score,Negative_score,AVG_SENTENCE_LENGTH,pcw,FOG_INDEX,\n",
    "         AVG_NUMBER_OF_WORDS_PER_SENTENCE,COMPLEX_WORDS,Word_Count,syllable,Average_Word_Length]]\n",
    "data=pd.DataFrame(data,columns=[\"url\",\"title\",\"content\",\"filter_content\",\"Positive_Score\",\"Negative_Score\",\"Avg_Sentence_Length\"\n",
    "                               ,\"Percentage_Complex_Word\",\"Fog_Index\",\" AVG_NUMBER_OF_WORDS_PER_SENTENCE\",\"COMPLEX_WORDS\",\n",
    "                               \"Word_Count\",\"syllable\",\"Average_Word_Length\"])\n",
    "from textblob import TextBlob\n",
    "# Get The Subjectivity\n",
    "def sentiment_analysis(data):\n",
    "    sentiment = TextBlob(data[\"content\"]).sentiment\n",
    "    return pd.Series([sentiment.polarity,sentiment.subjectivity ])\n",
    "data[[\"polarity\", \"subjectivity\"]] = data.apply(sentiment_analysis, axis=1)\n",
    "data"
   ]
  },
  {
   "cell_type": "code",
   "execution_count": 2,
   "id": "412f1aa4",
   "metadata": {},
   "outputs": [],
   "source": [
    "data.to_csv(r'C:\\Users\\Om Bhandwalkar\\Desktop\\BlackCoffer Assignment\\Output\\url_82.csv')"
   ]
  },
  {
   "cell_type": "code",
   "execution_count": null,
   "id": "40e08c26",
   "metadata": {},
   "outputs": [],
   "source": []
  }
 ],
 "metadata": {
  "kernelspec": {
   "display_name": "Python 3 (ipykernel)",
   "language": "python",
   "name": "python3"
  },
  "language_info": {
   "codemirror_mode": {
    "name": "ipython",
    "version": 3
   },
   "file_extension": ".py",
   "mimetype": "text/x-python",
   "name": "python",
   "nbconvert_exporter": "python",
   "pygments_lexer": "ipython3",
   "version": "3.9.12"
  }
 },
 "nbformat": 4,
 "nbformat_minor": 5
}
