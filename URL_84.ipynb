{
 "cells": [
  {
   "cell_type": "code",
   "execution_count": 1,
   "id": "30dfe032",
   "metadata": {},
   "outputs": [
    {
     "data": {
      "text/plain": [
       "'How Small Business can survive the Coronavirus Crisis'"
      ]
     },
     "execution_count": 1,
     "metadata": {},
     "output_type": "execute_result"
    }
   ],
   "source": [
    "import requests\n",
    "import pandas as pd \n",
    "from bs4 import BeautifulSoup\n",
    "import string\n",
    "import spacy\n",
    "import re\n",
    "url = \"\"\"https://insights.blackcoffer.com/how-small-business-can-survive-the-coronavirus-crisis/\"\"\"\n",
    "headers = {\"User-Agent\": \"Mozilla/5.0 (X11; Linux x86_64; rv:60.0) Gecko/20100101 Firefox/60.0\"}\n",
    "page = requests.get(url, headers=headers)\n",
    "soup = BeautifulSoup(page.content, 'html.parser')\n",
    "soup=BeautifulSoup(page.content, 'html.parser')\n",
    "title=soup.find('h1',class_=\"entry-title\")\n",
    "title=title.text.replace('\\n',\" \")\n",
    "title\n"
   ]
  },
  {
   "cell_type": "code",
   "execution_count": 2,
   "id": "6d086d42",
   "metadata": {},
   "outputs": [
    {
     "name": "stdout",
     "output_type": "stream",
     "text": [
      " The word pandemic may be the most used word for the last decade, and we know why. The year 2020 comes with a lot of unprecedented threats to humans as well as to nature. While no business was left insulated from its effect, small businesses were one of the most affected, as they rely on day to day sales and keep the inventory minimum, based on the demand of customers and have a low margin to maneuver. In an article by HSBC’s Navigator, which described the preparedness and contingency plan for the future, Indian business rated high among its peers. The businesses in India have shown resilience to face adversity which can be attributed to varying degrees of adjustment and adaptability. The businesses, while able to adhere to government guidelines have managed to facilitate their customers efficiently and effectively. However, the impact on micro, small, and medium enterprises cannot be left unattended.  The Indian subcontinent has an estimated ₹ 633.88 lakh of MSME, out of which 51.2% are in rural areas which employ 44.84% of the total employment provided by this Sector. The MSME sector with 1170 lakh people constitutes 40% of the total workforce. As per the ministry of commerce MSME contribution in Gross Domestic Product (GDP) and export are 37% and 43% respectively. With the huge contribution toward GDP as well as export, the impact on the national economy due to the shock in the MSME sector from the pandemic will be equally devastating. While different businesses face different types of obstacles, we have pointed out 8 of the most common issues faced by them. Low Working Capital -: Small Businesses usually have a low working capital ratio which means that they don’t have enough capital to finance their daily requirements. In these difficult times, this problem has gone to the next level as they will have obligations to pay but due to less or no revenue for a few months, there are high chances that they may not be able to meet them.Low Cash Cycle -: According to a survey done by economic times, they have found that small businesses usually run on a 27 days cash cycle and due to pandemic looming around they are not able to operate efficiently. More than half of the small businesses of the country have either exhausted their funds or are close to doing so. It is because of the unprecedented demand crash due to lockdown.  Not Registered -: Many of the small businesses in India are not registered as they are just too small and this invisibility is both an advantage and disadvantage for them. Being out of the formal system, they don’t have to maintain proper books of accounts, pay the taxes and follow all the regulatory norms but the downside of this is that it is difficult for them to access government programs focused on them and make use of it.Difficult to get financial support -: It becomes a huge task for small businesses when it comes to getting loans. This is because they don’t have proper accounts and assets which they can keep as mortgage to get loans from banks. Due to this, they have to use a traditional method of lending which involves a high rate of interest and during these times it is also getting difficult to get loans from this area. Existential Crisis: – With the abrupt change in the business environment the businesses either have low production or they cease to exist. While low production will put a burden on the owner’s pocket but if they closed their business and start fresh, the cost of starting a new business post-crisis will be high and with limited creditworthiness which makes business difficult to regain their lost market share. Migration -: In the starting days of lockdown small businesses were not able to pay their workers which led to migration, as they moved back to their hometowns. This has led to a problem of the availability of a suitable workforce for these businesses as they are trying to get things back to normal. Absence of skills required -: As, hiring of new workers is done to get things to normal it is getting difficult for them to provide them with suitable skills needed for some particular jobs and also the existing workforce is not trained enough to cope with the new normal of working online.Creditworthiness: – It is defined as the extent to which a company considered suitable to receive financial credit, often based on the reliability in the paying money in the past. As businesses are dependent upon the line of credit and the supply chain if it gets hampered it will result in the loss of revenue as well as reputation. For any business, cash in hand is oxygen. The small business which usually has at most 1-month cash to run the business if the revenue stream dries up, which in this tough time has to improve gradually. To manage the optimal cash balance is the key to success in this tough time. The optimal cash balance here, defined as “the less of the amount of cash outflow in form rent, employee salaries, and raw material without postponing the payable as they are doing what banks have to do, to the inflow from sale”.  Cash Conversion Cycle -: It refers to how fast cash moves through the business. In these times, when a lot of businesses are switching to online platforms they should think of improving the cash cycle maybe by making changes in the sales cycle, reducing inventory in hand, and improving upon debtor’s turnover ratio and cash collection period.Prioritize the products – The owner of the business should do an analysis of all the products and services it offers and ranks them on the basis of profitability. They should focus more on the most profitable product and remove the least profitable product from their portfolio.Labour Productivity – While it is difficult to manage the business with the current scenario, if any business manages to do so, they can have a huge advantage over others. The productivity of the employee defined as the unit output produced by per employee. While firing underperforming employees, reduce the salary expense but variable performance-based compensation will strive them to increase productivity.Getting new skills – There are many online platforms available from which existing employees can be provided with new skills at a very lower cost. This can also give them an advantage in the future if the investment is strategically done.Tapping the resources provided by the government and other financial institutions -: The government of India has launched a rescue plan for small businesses through which they can get loans in a much easier way compared to before. It increased the upper limit of the outstanding loan amount from ₹. 25 crores to ₹ 50 crores. Some financial institutions also launched schemes like COVID-19 Start-up Assistance Scheme (‘CSAS’) by SIDBI, RBI enhancing the limit for loans to 90% from 75%, etc.Making a 3-month financial plan – Small business owners should make a different financial plan for the next 3 months and focus on the areas where cost can be cut like delaying payments of rent if possible. It should majorly focus on what costs are necessary and which cost can be put on hold for some time.Tapping the newly available opportunities -: It is a very good opportunity to capitalize on the available resources and encash the different opportunities which have arisen due to this scenario like demand for sanitizers, masks, more online platforms for essentials, etc. In any given situation, business is like juggling between multiple tasks to optimize the performance while maximizing the revenue. The current situation has added another layer of challenge. This challenge will test management skills in various aspects of our business owner.  With this article, we have pointed out the major challenges and possible ways to alleviate the impact. As Anthony Robbins quotes, “Every problem is a gift—without problems we would not grow”, the current market has wiped out their share in the market which gives an opportunity to other businesses to grow and lower the expense. While there may be many facets that need to be handled precisely, communication is one of the major tools that will create a positive environment among workers or teams which will influence the customer behavior and result in terms of revenue. The communication will also help to increase productivity and create trust in a supply chain which will improve the cash conversion cycles and working capital ratio. Marketing through word of mouth has no added cost but the benefit can be scaled too much-required revenue. The choice of an effective marketing tool can also influence our target customer and will influence their will to buy the product or service(s) strategically. Cash from operating activity improves if we were able to lower our expenses. To lower these expenses, small business owners have to create a different plan (good, average, and worst) keeping the 6-month frame in mind. Breaking down them in monthly targets would further help them to identify the actual scenario and update the strategy accordingly.   As Warren Buffet quotes, “You only have to do a few things right in your life so long as you don’t do too many things wrong.” this is the right time to do the right thing and over time businesses will ripe its benefits.  Blackcoffer Insights 19: Nidhi Khandelwal & Sudeep Shrivastava, IMT Nagpur \n",
      " The word pandemic may be the most used word for the last decade and we know why The year 2020 comes with a lot of unprecedented threats to humans as well as to nature While no business was left insulated from its effect small businesses were one of the most affected as they rely on day to day sales and keep the inventory minimum based on the demand of customers and have a low margin to maneuver In an article by HSBC’s Navigator which described the preparedness and contingency plan for the future Indian business rated high among its peers The businesses in India have shown resilience to face adversity which can be attributed to varying degrees of adjustment and adaptability The businesses while able to adhere to government guidelines have managed to facilitate their customers efficiently and effectively However the impact on micro small and medium enterprises cannot be left unattended  The Indian subcontinent has an estimated ₹ 63388 lakh of MSME out of which 512 are in rural areas which employ 4484 of the total employment provided by this Sector The MSME sector with 1170 lakh people constitutes 40 of the total workforce As per the ministry of commerce MSME contribution in Gross Domestic Product GDP and export are 37 and 43 respectively With the huge contribution toward GDP as well as export the impact on the national economy due to the shock in the MSME sector from the pandemic will be equally devastating While different businesses face different types of obstacles we have pointed out 8 of the most common issues faced by them Low Working Capital  Small Businesses usually have a low working capital ratio which means that they don’t have enough capital to finance their daily requirements In these difficult times this problem has gone to the next level as they will have obligations to pay but due to less or no revenue for a few months there are high chances that they may not be able to meet themLow Cash Cycle  According to a survey done by economic times they have found that small businesses usually run on a 27 days cash cycle and due to pandemic looming around they are not able to operate efficiently More than half of the small businesses of the country have either exhausted their funds or are close to doing so It is because of the unprecedented demand crash due to lockdown  Not Registered  Many of the small businesses in India are not registered as they are just too small and this invisibility is both an advantage and disadvantage for them Being out of the formal system they don’t have to maintain proper books of accounts pay the taxes and follow all the regulatory norms but the downside of this is that it is difficult for them to access government programs focused on them and make use of itDifficult to get financial support  It becomes a huge task for small businesses when it comes to getting loans This is because they don’t have proper accounts and assets which they can keep as mortgage to get loans from banks Due to this they have to use a traditional method of lending which involves a high rate of interest and during these times it is also getting difficult to get loans from this area Existential Crisis – With the abrupt change in the business environment the businesses either have low production or they cease to exist While low production will put a burden on the owner’s pocket but if they closed their business and start fresh the cost of starting a new business postcrisis will be high and with limited creditworthiness which makes business difficult to regain their lost market share Migration  In the starting days of lockdown small businesses were not able to pay their workers which led to migration as they moved back to their hometowns This has led to a problem of the availability of a suitable workforce for these businesses as they are trying to get things back to normal Absence of skills required  As hiring of new workers is done to get things to normal it is getting difficult for them to provide them with suitable skills needed for some particular jobs and also the existing workforce is not trained enough to cope with the new normal of working onlineCreditworthiness – It is defined as the extent to which a company considered suitable to receive financial credit often based on the reliability in the paying money in the past As businesses are dependent upon the line of credit and the supply chain if it gets hampered it will result in the loss of revenue as well as reputation For any business cash in hand is oxygen The small business which usually has at most 1month cash to run the business if the revenue stream dries up which in this tough time has to improve gradually To manage the optimal cash balance is the key to success in this tough time The optimal cash balance here defined as “the less of the amount of cash outflow in form rent employee salaries and raw material without postponing the payable as they are doing what banks have to do to the inflow from sale”  Cash Conversion Cycle  It refers to how fast cash moves through the business In these times when a lot of businesses are switching to online platforms they should think of improving the cash cycle maybe by making changes in the sales cycle reducing inventory in hand and improving upon debtor’s turnover ratio and cash collection periodPrioritize the products – The owner of the business should do an analysis of all the products and services it offers and ranks them on the basis of profitability They should focus more on the most profitable product and remove the least profitable product from their portfolioLabour Productivity – While it is difficult to manage the business with the current scenario if any business manages to do so they can have a huge advantage over others The productivity of the employee defined as the unit output produced by per employee While firing underperforming employees reduce the salary expense but variable performancebased compensation will strive them to increase productivityGetting new skills – There are many online platforms available from which existing employees can be provided with new skills at a very lower cost This can also give them an advantage in the future if the investment is strategically doneTapping the resources provided by the government and other financial institutions  The government of India has launched a rescue plan for small businesses through which they can get loans in a much easier way compared to before It increased the upper limit of the outstanding loan amount from ₹ 25 crores to ₹ 50 crores Some financial institutions also launched schemes like COVID19 Startup Assistance Scheme ‘CSAS’ by SIDBI RBI enhancing the limit for loans to 90 from 75 etcMaking a 3month financial plan – Small business owners should make a different financial plan for the next 3 months and focus on the areas where cost can be cut like delaying payments of rent if possible It should majorly focus on what costs are necessary and which cost can be put on hold for some timeTapping the newly available opportunities  It is a very good opportunity to capitalize on the available resources and encash the different opportunities which have arisen due to this scenario like demand for sanitizers masks more online platforms for essentials etc In any given situation business is like juggling between multiple tasks to optimize the performance while maximizing the revenue The current situation has added another layer of challenge This challenge will test management skills in various aspects of our business owner  With this article we have pointed out the major challenges and possible ways to alleviate the impact As Anthony Robbins quotes “Every problem is a gift—without problems we would not grow” the current market has wiped out their share in the market which gives an opportunity to other businesses to grow and lower the expense While there may be many facets that need to be handled precisely communication is one of the major tools that will create a positive environment among workers or teams which will influence the customer behavior and result in terms of revenue The communication will also help to increase productivity and create trust in a supply chain which will improve the cash conversion cycles and working capital ratio Marketing through word of mouth has no added cost but the benefit can be scaled too muchrequired revenue The choice of an effective marketing tool can also influence our target customer and will influence their will to buy the product or services strategically Cash from operating activity improves if we were able to lower our expenses To lower these expenses small business owners have to create a different plan good average and worst keeping the 6month frame in mind Breaking down them in monthly targets would further help them to identify the actual scenario and update the strategy accordingly   As Warren Buffet quotes “You only have to do a few things right in your life so long as you don’t do too many things wrong” this is the right time to do the right thing and over time businesses will ripe its benefits  Blackcoffer Insights 19 Nidhi Khandelwal  Sudeep Shrivastava IMT Nagpur \n",
      "['The', 'word', 'pandemic', 'may', 'be', 'the', 'most', 'used', 'word', 'for', 'the', 'last', 'decade', 'and', 'we', 'know', 'why', 'The', 'year', '2020', 'comes', 'with', 'a', 'lot', 'of', 'unprecedented', 'threats', 'to', 'humans', 'as', 'well', 'as', 'to', 'nature', 'While', 'no', 'business', 'was', 'left', 'insulated', 'from', 'its', 'effect', 'small', 'businesses', 'were', 'one', 'of', 'the', 'most', 'affected', 'as', 'they', 'rely', 'on', 'day', 'to', 'day', 'sales', 'and', 'keep', 'the', 'inventory', 'minimum', 'based', 'on', 'the', 'demand', 'of', 'customers', 'and', 'have', 'a', 'low', 'margin', 'to', 'maneuver', 'In', 'an', 'article', 'by', 'HSBC’s', 'Navigator', 'which', 'described', 'the', 'preparedness', 'and', 'contingency', 'plan', 'for', 'the', 'future', 'Indian', 'business', 'rated', 'high', 'among', 'its', 'peers', 'The', 'businesses', 'in', 'India', 'have', 'shown', 'resilience', 'to', 'face', 'adversity', 'which', 'can', 'be', 'attributed', 'to', 'varying', 'degrees', 'of', 'adjustment', 'and', 'adaptability', 'The', 'businesses', 'while', 'able', 'to', 'adhere', 'to', 'government', 'guidelines', 'have', 'managed', 'to', 'facilitate', 'their', 'customers', 'efficiently', 'and', 'effectively', 'However', 'the', 'impact', 'on', 'micro', 'small', 'and', 'medium', 'enterprises', 'cannot', 'be', 'left', 'unattended', 'The', 'Indian', 'subcontinent', 'has', 'an', 'estimated', '₹', '63388', 'lakh', 'of', 'MSME', 'out', 'of', 'which', '512', 'are', 'in', 'rural', 'areas', 'which', 'employ', '4484', 'of', 'the', 'total', 'employment', 'provided', 'by', 'this', 'Sector', 'The', 'MSME', 'sector', 'with', '1170', 'lakh', 'people', 'constitutes', '40', 'of', 'the', 'total', 'workforce', 'As', 'per', 'the', 'ministry', 'of', 'commerce', 'MSME', 'contribution', 'in', 'Gross', 'Domestic', 'Product', 'GDP', 'and', 'export', 'are', '37', 'and', '43', 'respectively', 'With', 'the', 'huge', 'contribution', 'toward', 'GDP', 'as', 'well', 'as', 'export', 'the', 'impact', 'on', 'the', 'national', 'economy', 'due', 'to', 'the', 'shock', 'in', 'the', 'MSME', 'sector', 'from', 'the', 'pandemic', 'will', 'be', 'equally', 'devastating', 'While', 'different', 'businesses', 'face', 'different', 'types', 'of', 'obstacles', 'we', 'have', 'pointed', 'out', '8', 'of', 'the', 'most', 'common', 'issues', 'faced', 'by', 'them', 'Low', 'Working', 'Capital', 'Small', 'Businesses', 'usually', 'have', 'a', 'low', 'working', 'capital', 'ratio', 'which', 'means', 'that', 'they', 'don’t', 'have', 'enough', 'capital', 'to', 'finance', 'their', 'daily', 'requirements', 'In', 'these', 'difficult', 'times', 'this', 'problem', 'has', 'gone', 'to', 'the', 'next', 'level', 'as', 'they', 'will', 'have', 'obligations', 'to', 'pay', 'but', 'due', 'to', 'less', 'or', 'no', 'revenue', 'for', 'a', 'few', 'months', 'there', 'are', 'high', 'chances', 'that', 'they', 'may', 'not', 'be', 'able', 'to', 'meet', 'themLow', 'Cash', 'Cycle', 'According', 'to', 'a', 'survey', 'done', 'by', 'economic', 'times', 'they', 'have', 'found', 'that', 'small', 'businesses', 'usually', 'run', 'on', 'a', '27', 'days', 'cash', 'cycle', 'and', 'due', 'to', 'pandemic', 'looming', 'around', 'they', 'are', 'not', 'able', 'to', 'operate', 'efficiently', 'More', 'than', 'half', 'of', 'the', 'small', 'businesses', 'of', 'the', 'country', 'have', 'either', 'exhausted', 'their', 'funds', 'or', 'are', 'close', 'to', 'doing', 'so', 'It', 'is', 'because', 'of', 'the', 'unprecedented', 'demand', 'crash', 'due', 'to', 'lockdown', 'Not', 'Registered', 'Many', 'of', 'the', 'small', 'businesses', 'in', 'India', 'are', 'not', 'registered', 'as', 'they', 'are', 'just', 'too', 'small', 'and', 'this', 'invisibility', 'is', 'both', 'an', 'advantage', 'and', 'disadvantage', 'for', 'them', 'Being', 'out', 'of', 'the', 'formal', 'system', 'they', 'don’t', 'have', 'to', 'maintain', 'proper', 'books', 'of', 'accounts', 'pay', 'the', 'taxes', 'and', 'follow', 'all', 'the', 'regulatory', 'norms', 'but', 'the', 'downside', 'of', 'this', 'is', 'that', 'it', 'is', 'difficult', 'for', 'them', 'to', 'access', 'government', 'programs', 'focused', 'on', 'them', 'and', 'make', 'use', 'of', 'itDifficult', 'to', 'get', 'financial', 'support', 'It', 'becomes', 'a', 'huge', 'task', 'for', 'small', 'businesses', 'when', 'it', 'comes', 'to', 'getting', 'loans', 'This', 'is', 'because', 'they', 'don’t', 'have', 'proper', 'accounts', 'and', 'assets', 'which', 'they', 'can', 'keep', 'as', 'mortgage', 'to', 'get', 'loans', 'from', 'banks', 'Due', 'to', 'this', 'they', 'have', 'to', 'use', 'a', 'traditional', 'method', 'of', 'lending', 'which', 'involves', 'a', 'high', 'rate', 'of', 'interest', 'and', 'during', 'these', 'times', 'it', 'is', 'also', 'getting', 'difficult', 'to', 'get', 'loans', 'from', 'this', 'area', 'Existential', 'Crisis', '–', 'With', 'the', 'abrupt', 'change', 'in', 'the', 'business', 'environment', 'the', 'businesses', 'either', 'have', 'low', 'production', 'or', 'they', 'cease', 'to', 'exist', 'While', 'low', 'production', 'will', 'put', 'a', 'burden', 'on', 'the', 'owner’s', 'pocket', 'but', 'if', 'they', 'closed', 'their', 'business', 'and', 'start', 'fresh', 'the', 'cost', 'of', 'starting', 'a', 'new', 'business', 'postcrisis', 'will', 'be', 'high', 'and', 'with', 'limited', 'creditworthiness', 'which', 'makes', 'business', 'difficult', 'to', 'regain', 'their', 'lost', 'market', 'share', 'Migration', 'In', 'the', 'starting', 'days', 'of', 'lockdown', 'small', 'businesses', 'were', 'not', 'able', 'to', 'pay', 'their', 'workers', 'which', 'led', 'to', 'migration', 'as', 'they', 'moved', 'back', 'to', 'their', 'hometowns', 'This', 'has', 'led', 'to', 'a', 'problem', 'of', 'the', 'availability', 'of', 'a', 'suitable', 'workforce', 'for', 'these', 'businesses', 'as', 'they', 'are', 'trying', 'to', 'get', 'things', 'back', 'to', 'normal', 'Absence', 'of', 'skills', 'required', 'As', 'hiring', 'of', 'new', 'workers', 'is', 'done', 'to', 'get', 'things', 'to', 'normal', 'it', 'is', 'getting', 'difficult', 'for', 'them', 'to', 'provide', 'them', 'with', 'suitable', 'skills', 'needed', 'for', 'some', 'particular', 'jobs', 'and', 'also', 'the', 'existing', 'workforce', 'is', 'not', 'trained', 'enough', 'to', 'cope', 'with', 'the', 'new', 'normal', 'of', 'working', 'onlineCreditworthiness', '–', 'It', 'is', 'defined', 'as', 'the', 'extent', 'to', 'which', 'a', 'company', 'considered', 'suitable', 'to', 'receive', 'financial', 'credit', 'often', 'based', 'on', 'the', 'reliability', 'in', 'the', 'paying', 'money', 'in', 'the', 'past', 'As', 'businesses', 'are', 'dependent', 'upon', 'the', 'line', 'of', 'credit', 'and', 'the', 'supply', 'chain', 'if', 'it', 'gets', 'hampered', 'it', 'will', 'result', 'in', 'the', 'loss', 'of', 'revenue', 'as', 'well', 'as', 'reputation', 'For', 'any', 'business', 'cash', 'in', 'hand', 'is', 'oxygen', 'The', 'small', 'business', 'which', 'usually', 'has', 'at', 'most', '1month', 'cash', 'to', 'run', 'the', 'business', 'if', 'the', 'revenue', 'stream', 'dries', 'up', 'which', 'in', 'this', 'tough', 'time', 'has', 'to', 'improve', 'gradually', 'To', 'manage', 'the', 'optimal', 'cash', 'balance', 'is', 'the', 'key', 'to', 'success', 'in', 'this', 'tough', 'time', 'The', 'optimal', 'cash', 'balance', 'here', 'defined', 'as', '“the', 'less', 'of', 'the', 'amount', 'of', 'cash', 'outflow', 'in', 'form', 'rent', 'employee', 'salaries', 'and', 'raw', 'material', 'without', 'postponing', 'the', 'payable', 'as', 'they', 'are', 'doing', 'what', 'banks', 'have', 'to', 'do', 'to', 'the', 'inflow', 'from', 'sale”', 'Cash', 'Conversion', 'Cycle', 'It', 'refers', 'to', 'how', 'fast', 'cash', 'moves', 'through', 'the', 'business', 'In', 'these', 'times', 'when', 'a', 'lot', 'of', 'businesses', 'are', 'switching', 'to', 'online', 'platforms', 'they', 'should', 'think', 'of', 'improving', 'the', 'cash', 'cycle', 'maybe', 'by', 'making', 'changes', 'in', 'the', 'sales', 'cycle', 'reducing', 'inventory', 'in', 'hand', 'and', 'improving', 'upon', 'debtor’s', 'turnover', 'ratio', 'and', 'cash', 'collection', 'periodPrioritize', 'the', 'products', '–', 'The', 'owner', 'of', 'the', 'business', 'should', 'do', 'an', 'analysis', 'of', 'all', 'the', 'products', 'and', 'services', 'it', 'offers', 'and', 'ranks', 'them', 'on', 'the', 'basis', 'of', 'profitability', 'They', 'should', 'focus', 'more', 'on', 'the', 'most', 'profitable', 'product', 'and', 'remove', 'the', 'least', 'profitable', 'product', 'from', 'their', 'portfolioLabour', 'Productivity', '–', 'While', 'it', 'is', 'difficult', 'to', 'manage', 'the', 'business', 'with', 'the', 'current', 'scenario', 'if', 'any', 'business', 'manages', 'to', 'do', 'so', 'they', 'can', 'have', 'a', 'huge', 'advantage', 'over', 'others', 'The', 'productivity', 'of', 'the', 'employee', 'defined', 'as', 'the', 'unit', 'output', 'produced', 'by', 'per', 'employee', 'While', 'firing', 'underperforming', 'employees', 'reduce', 'the', 'salary', 'expense', 'but', 'variable', 'performancebased', 'compensation', 'will', 'strive', 'them', 'to', 'increase', 'productivityGetting', 'new', 'skills', '–', 'There', 'are', 'many', 'online', 'platforms', 'available', 'from', 'which', 'existing', 'employees', 'can', 'be', 'provided', 'with', 'new', 'skills', 'at', 'a', 'very', 'lower', 'cost', 'This', 'can', 'also', 'give', 'them', 'an', 'advantage', 'in', 'the', 'future', 'if', 'the', 'investment', 'is', 'strategically', 'doneTapping', 'the', 'resources', 'provided', 'by', 'the', 'government', 'and', 'other', 'financial', 'institutions', 'The', 'government', 'of', 'India', 'has', 'launched', 'a', 'rescue', 'plan', 'for', 'small', 'businesses', 'through', 'which', 'they', 'can', 'get', 'loans', 'in', 'a', 'much', 'easier', 'way', 'compared', 'to', 'before', 'It', 'increased', 'the', 'upper', 'limit', 'of', 'the', 'outstanding', 'loan', 'amount', 'from', '₹', '25', 'crores', 'to', '₹', '50', 'crores', 'Some', 'financial', 'institutions', 'also', 'launched', 'schemes', 'like', 'COVID19', 'Startup', 'Assistance', 'Scheme', '‘CSAS’', 'by', 'SIDBI', 'RBI', 'enhancing', 'the', 'limit', 'for', 'loans', 'to', '90', 'from', '75', 'etcMaking', 'a', '3month', 'financial', 'plan', '–', 'Small', 'business', 'owners', 'should', 'make', 'a', 'different', 'financial', 'plan', 'for', 'the', 'next', '3', 'months', 'and', 'focus', 'on', 'the', 'areas', 'where', 'cost', 'can', 'be', 'cut', 'like', 'delaying', 'payments', 'of', 'rent', 'if', 'possible', 'It', 'should', 'majorly', 'focus', 'on', 'what', 'costs', 'are', 'necessary', 'and', 'which', 'cost', 'can', 'be', 'put', 'on', 'hold', 'for', 'some', 'timeTapping', 'the', 'newly', 'available', 'opportunities', 'It', 'is', 'a', 'very', 'good', 'opportunity', 'to', 'capitalize', 'on', 'the', 'available', 'resources', 'and', 'encash', 'the', 'different', 'opportunities', 'which', 'have', 'arisen', 'due', 'to', 'this', 'scenario', 'like', 'demand', 'for', 'sanitizers', 'masks', 'more', 'online', 'platforms', 'for', 'essentials', 'etc', 'In', 'any', 'given', 'situation', 'business', 'is', 'like', 'juggling', 'between', 'multiple', 'tasks', 'to', 'optimize', 'the', 'performance', 'while', 'maximizing', 'the', 'revenue', 'The', 'current', 'situation', 'has', 'added', 'another', 'layer', 'of', 'challenge', 'This', 'challenge', 'will', 'test', 'management', 'skills', 'in', 'various', 'aspects', 'of', 'our', 'business', 'owner', 'With', 'this', 'article', 'we', 'have', 'pointed', 'out', 'the', 'major', 'challenges', 'and', 'possible', 'ways', 'to', 'alleviate', 'the', 'impact', 'As', 'Anthony', 'Robbins', 'quotes', '“Every', 'problem', 'is', 'a', 'gift—without', 'problems', 'we', 'would', 'not', 'grow”', 'the', 'current', 'market', 'has', 'wiped', 'out', 'their', 'share', 'in', 'the', 'market', 'which', 'gives', 'an', 'opportunity', 'to', 'other', 'businesses', 'to', 'grow', 'and', 'lower', 'the', 'expense', 'While', 'there', 'may', 'be', 'many', 'facets', 'that', 'need', 'to', 'be', 'handled', 'precisely', 'communication', 'is', 'one', 'of', 'the', 'major', 'tools', 'that', 'will', 'create', 'a', 'positive', 'environment', 'among', 'workers', 'or', 'teams', 'which', 'will', 'influence', 'the', 'customer', 'behavior', 'and', 'result', 'in', 'terms', 'of', 'revenue', 'The', 'communication', 'will', 'also', 'help', 'to', 'increase', 'productivity', 'and', 'create', 'trust', 'in', 'a', 'supply', 'chain', 'which', 'will', 'improve', 'the', 'cash', 'conversion', 'cycles', 'and', 'working', 'capital', 'ratio', 'Marketing', 'through', 'word', 'of', 'mouth', 'has', 'no', 'added', 'cost', 'but', 'the', 'benefit', 'can', 'be', 'scaled', 'too', 'muchrequired', 'revenue', 'The', 'choice', 'of', 'an', 'effective', 'marketing', 'tool', 'can', 'also', 'influence', 'our', 'target', 'customer', 'and', 'will', 'influence', 'their', 'will', 'to', 'buy', 'the', 'product', 'or', 'services', 'strategically', 'Cash', 'from', 'operating', 'activity', 'improves', 'if', 'we', 'were', 'able', 'to', 'lower', 'our', 'expenses', 'To', 'lower', 'these', 'expenses', 'small', 'business', 'owners', 'have', 'to', 'create', 'a', 'different', 'plan', 'good', 'average', 'and', 'worst', 'keeping', 'the', '6month', 'frame', 'in', 'mind', 'Breaking', 'down', 'them', 'in', 'monthly', 'targets', 'would', 'further', 'help', 'them', 'to', 'identify', 'the', 'actual', 'scenario', 'and', 'update', 'the', 'strategy', 'accordingly', 'As', 'Warren', 'Buffet', 'quotes', '“You', 'only', 'have', 'to', 'do', 'a', 'few', 'things', 'right', 'in', 'your', 'life', 'so', 'long', 'as', 'you', 'don’t', 'do', 'too', 'many', 'things', 'wrong”', 'this', 'is', 'the', 'right', 'time', 'to', 'do', 'the', 'right', 'thing', 'and', 'over', 'time', 'businesses', 'will', 'ripe', 'its', 'benefits', 'Blackcoffer', 'Insights', '19', 'Nidhi', 'Khandelwal', 'Sudeep', 'Shrivastava', 'IMT', 'Nagpur']\n"
     ]
    }
   ],
   "source": [
    "content=soup.findAll(attrs={'class':'td-post-content'})\n",
    "content=content[0].text.replace('\\n',\" \")\n",
    "print(content)\n",
    "#Punctuation\n",
    "content = content.translate(str.maketrans('', '', string.punctuation)) \n",
    "print(content)\n",
    "text = content.split()\n",
    "print(text)\n"
   ]
  },
  {
   "cell_type": "code",
   "execution_count": 3,
   "id": "f708a59f",
   "metadata": {},
   "outputs": [
    {
     "data": {
      "text/plain": [
       "1568"
      ]
     },
     "execution_count": 3,
     "metadata": {},
     "output_type": "execute_result"
    }
   ],
   "source": [
    "len(text)"
   ]
  },
  {
   "cell_type": "code",
   "execution_count": 4,
   "id": "e28961da",
   "metadata": {},
   "outputs": [
    {
     "name": "stdout",
     "output_type": "stream",
     "text": [
      "55\n"
     ]
    }
   ],
   "source": [
    "#Positive Score \n",
    "with open(r\"C:\\Users\\Om Bhandwalkar\\Desktop\\pos\\positive-words.txt\") as pos:\n",
    "    poswords = pos.read().split(\"\\n\")  \n",
    "    poswords = poswords[5:]\n",
    "pos_count = \" \".join ([w for w in text if w in poswords])\n",
    "pos_count=pos_count.split(\" \")\n",
    "Positive_score=len(pos_count)\n",
    "print(Positive_score)"
   ]
  },
  {
   "cell_type": "code",
   "execution_count": 5,
   "id": "de32564b",
   "metadata": {},
   "outputs": [
    {
     "name": "stdout",
     "output_type": "stream",
     "text": [
      "29\n"
     ]
    }
   ],
   "source": [
    "#Negative Score\n",
    "with open(r\"C:\\Users\\Om Bhandwalkar\\Desktop\\pos\\negative-words.txt\",encoding =\"ISO-8859-1\") as neg:\n",
    "    negwords = neg.read().split(\"\\n\")\n",
    "    \n",
    "negwords = negwords[36:]\n",
    "neg_count = \" \".join ([w for w in text if w in negwords])\n",
    "neg_count=neg_count.split(\" \")\n",
    "Negative_score=len(neg_count)\n",
    "print(Negative_score)"
   ]
  },
  {
   "cell_type": "code",
   "execution_count": 6,
   "id": "6d9ace1f",
   "metadata": {},
   "outputs": [
    {
     "data": {
      "text/html": [
       "<div>\n",
       "<style scoped>\n",
       "    .dataframe tbody tr th:only-of-type {\n",
       "        vertical-align: middle;\n",
       "    }\n",
       "\n",
       "    .dataframe tbody tr th {\n",
       "        vertical-align: top;\n",
       "    }\n",
       "\n",
       "    .dataframe thead th {\n",
       "        text-align: right;\n",
       "    }\n",
       "</style>\n",
       "<table border=\"1\" class=\"dataframe\">\n",
       "  <thead>\n",
       "    <tr style=\"text-align: right;\">\n",
       "      <th></th>\n",
       "      <th>url</th>\n",
       "      <th>title</th>\n",
       "      <th>content</th>\n",
       "      <th>filter_content</th>\n",
       "      <th>Positive_Score</th>\n",
       "      <th>Negative_Score</th>\n",
       "      <th>polarity</th>\n",
       "      <th>subjectivity</th>\n",
       "    </tr>\n",
       "  </thead>\n",
       "  <tbody>\n",
       "    <tr>\n",
       "      <th>0</th>\n",
       "      <td>https://insights.blackcoffer.com/how-small-bus...</td>\n",
       "      <td>How Small Business can survive the Coronavirus...</td>\n",
       "      <td>The word pandemic may be the most used word f...</td>\n",
       "      <td>The word pandemic may be the most used word fo...</td>\n",
       "      <td>55</td>\n",
       "      <td>29</td>\n",
       "      <td>0.037936</td>\n",
       "      <td>0.448947</td>\n",
       "    </tr>\n",
       "  </tbody>\n",
       "</table>\n",
       "</div>"
      ],
      "text/plain": [
       "                                                 url  \\\n",
       "0  https://insights.blackcoffer.com/how-small-bus...   \n",
       "\n",
       "                                               title  \\\n",
       "0  How Small Business can survive the Coronavirus...   \n",
       "\n",
       "                                             content  \\\n",
       "0   The word pandemic may be the most used word f...   \n",
       "\n",
       "                                      filter_content  Positive_Score  \\\n",
       "0  The word pandemic may be the most used word fo...              55   \n",
       "\n",
       "   Negative_Score  polarity  subjectivity  \n",
       "0              29  0.037936      0.448947  "
      ]
     },
     "execution_count": 6,
     "metadata": {},
     "output_type": "execute_result"
    }
   ],
   "source": [
    "filter_content = ' '.join(text)\n",
    "data=[[url,title,content,filter_content,Positive_score,Negative_score]]\n",
    "data=pd.DataFrame(data,columns=[\"url\",\"title\",\"content\",\"filter_content\",\"Positive_Score\",\"Negative_Score\"])\n",
    "from textblob import TextBlob\n",
    "# Get The Subjectivity\n",
    "def sentiment_analysis(data):\n",
    "    sentiment = TextBlob(data[\"content\"]).sentiment\n",
    "    return pd.Series([sentiment.polarity,sentiment.subjectivity ])\n",
    "\n",
    "# Adding Subjectivity & Polarity\n",
    "data[[\"polarity\", \"subjectivity\"]] = data.apply(sentiment_analysis, axis=1)\n",
    "\n",
    "data"
   ]
  },
  {
   "cell_type": "code",
   "execution_count": 7,
   "id": "dd7b136e",
   "metadata": {},
   "outputs": [
    {
     "name": "stdout",
     "output_type": "stream",
     "text": [
      "Word average = 7590.0\n",
      "FOG INDEX =  626.91\n",
      "Average no of words per sentence\n",
      "1568.0\n",
      "Complex Words 2676\n"
     ]
    }
   ],
   "source": [
    "#AVG SENTENCE LENGTH\n",
    "AVG_SENTENCE_LENGTH = len(content.replace(' ',''))/len(re.split(r'[?!.]', content))\n",
    "print('Word average =', AVG_SENTENCE_LENGTH)\n",
    "import textstat\n",
    "#Fog index \n",
    "FOG_INDEX=(textstat.gunning_fog(content))\n",
    "print(\"FOG INDEX = \",FOG_INDEX)\n",
    "#Average No of Words Per Sentence \n",
    "AVG_NUMBER_OF_WORDS_PER_SENTENCE = [len(l.split()) for l in re.split(r'[?!.]', content) if l.strip()]\n",
    "print(\"Average no of words per sentence\")\n",
    "AVG_NUMBER_OF_WORDS_PER_SENTENCE=print(sum(AVG_NUMBER_OF_WORDS_PER_SENTENCE)/len(AVG_NUMBER_OF_WORDS_PER_SENTENCE))\n",
    "#Complex words\n",
    "def syllable_count(word):\n",
    "    count = 0\n",
    "    vowels = \"AEIOUYaeiouy\"\n",
    "    if word[0] in vowels:\n",
    "        count += 1\n",
    "    for index in range(1, len(word)): \n",
    "        if word[index] in vowels and word[index - 1] not in vowels:\n",
    "            count += 1\n",
    "            if word.endswith(\"es\"or \"ed\"):\n",
    "                count -= 1\n",
    "    if count == 0:\n",
    "        count += 1\n",
    "    return count\n",
    "\n",
    "\n",
    "\n",
    "COMPLEX_WORDS=syllable_count(content)\n",
    "print(\"Complex Words\",COMPLEX_WORDS)\n"
   ]
  },
  {
   "cell_type": "code",
   "execution_count": 8,
   "id": "0e8cefb7",
   "metadata": {},
   "outputs": [
    {
     "name": "stdout",
     "output_type": "stream",
     "text": [
      "Word Count 9158\n",
      "Percentage of Complex Words 29.220353789036906\n",
      "Average Word per Length 4.840561224489796\n",
      "The AVG number of syllables in the word is: \n",
      "1.8864795918367347\n"
     ]
    }
   ],
   "source": [
    "#Word Count\n",
    "Word_Count=len(content)\n",
    "print(\"Word Count\",Word_Count)\n",
    "#Percentage Complex Words\n",
    "pcw=(COMPLEX_WORDS/Word_Count)*100\n",
    "print(\"Percentage of Complex Words\",pcw)\n",
    "#Average Word Length\n",
    "Average_Word_Length=len(content.replace(' ',''))/len(content.split())\n",
    "print(\"Average Word per Length\",Average_Word_Length)\n",
    "#Syllable Count Per Word\n",
    "word=content.replace(' ','')\n",
    "syllable_count=0\n",
    "for w in word:\n",
    "      if(w=='a' or w=='e' or w=='i' or w=='o' or w=='y' or w=='u' or w=='A' or w=='E' or w=='I' or w=='O' or w=='U' or w=='Y'):\n",
    "            syllable_count=syllable_count+1\n",
    "print(\"The AVG number of syllables in the word is: \")\n",
    "print(syllable_count/len(content.split()))"
   ]
  },
  {
   "cell_type": "code",
   "execution_count": 1,
   "id": "4c0b3e5e",
   "metadata": {},
   "outputs": [
    {
     "name": "stdout",
     "output_type": "stream",
     "text": [
      "55\n",
      "29\n",
      "Word average = 7590.0\n",
      "FOG INDEX =  626.91\n",
      "Average no of words per sentence\n",
      "1568.0\n",
      "Complex Words 2676\n",
      "Word Count 9158\n",
      "Percentage of Complex Words 29.220353789036906\n",
      "Average Word per Length 4.840561224489796\n",
      "The AVG number of syllables in the word is: \n",
      "1.8864795918367347\n"
     ]
    },
    {
     "data": {
      "text/html": [
       "<div>\n",
       "<style scoped>\n",
       "    .dataframe tbody tr th:only-of-type {\n",
       "        vertical-align: middle;\n",
       "    }\n",
       "\n",
       "    .dataframe tbody tr th {\n",
       "        vertical-align: top;\n",
       "    }\n",
       "\n",
       "    .dataframe thead th {\n",
       "        text-align: right;\n",
       "    }\n",
       "</style>\n",
       "<table border=\"1\" class=\"dataframe\">\n",
       "  <thead>\n",
       "    <tr style=\"text-align: right;\">\n",
       "      <th></th>\n",
       "      <th>url</th>\n",
       "      <th>title</th>\n",
       "      <th>content</th>\n",
       "      <th>filter_content</th>\n",
       "      <th>Positive_Score</th>\n",
       "      <th>Negative_Score</th>\n",
       "      <th>Avg_Sentence_Length</th>\n",
       "      <th>Percentage_Complex_Word</th>\n",
       "      <th>Fog_Index</th>\n",
       "      <th>AVG_NUMBER_OF_WORDS_PER_SENTENCE</th>\n",
       "      <th>COMPLEX_WORDS</th>\n",
       "      <th>Word_Count</th>\n",
       "      <th>syllable</th>\n",
       "      <th>Average_Word_Length</th>\n",
       "      <th>polarity</th>\n",
       "      <th>subjectivity</th>\n",
       "    </tr>\n",
       "  </thead>\n",
       "  <tbody>\n",
       "    <tr>\n",
       "      <th>0</th>\n",
       "      <td>https://insights.blackcoffer.com/how-small-bus...</td>\n",
       "      <td>How Small Business can survive the Coronavirus...</td>\n",
       "      <td>The word pandemic may be the most used word f...</td>\n",
       "      <td>The word pandemic may be the most used word fo...</td>\n",
       "      <td>55</td>\n",
       "      <td>29</td>\n",
       "      <td>7590.0</td>\n",
       "      <td>29.220354</td>\n",
       "      <td>626.91</td>\n",
       "      <td>1568.0</td>\n",
       "      <td>2676</td>\n",
       "      <td>9158</td>\n",
       "      <td>1.88648</td>\n",
       "      <td>4.840561</td>\n",
       "      <td>0.037936</td>\n",
       "      <td>0.448947</td>\n",
       "    </tr>\n",
       "  </tbody>\n",
       "</table>\n",
       "</div>"
      ],
      "text/plain": [
       "                                                 url  \\\n",
       "0  https://insights.blackcoffer.com/how-small-bus...   \n",
       "\n",
       "                                               title  \\\n",
       "0  How Small Business can survive the Coronavirus...   \n",
       "\n",
       "                                             content  \\\n",
       "0   The word pandemic may be the most used word f...   \n",
       "\n",
       "                                      filter_content  Positive_Score  \\\n",
       "0  The word pandemic may be the most used word fo...              55   \n",
       "\n",
       "   Negative_Score  Avg_Sentence_Length  Percentage_Complex_Word  Fog_Index  \\\n",
       "0              29               7590.0                29.220354     626.91   \n",
       "\n",
       "    AVG_NUMBER_OF_WORDS_PER_SENTENCE  COMPLEX_WORDS  Word_Count  syllable  \\\n",
       "0                             1568.0           2676        9158   1.88648   \n",
       "\n",
       "   Average_Word_Length  polarity  subjectivity  \n",
       "0             4.840561  0.037936      0.448947  "
      ]
     },
     "execution_count": 1,
     "metadata": {},
     "output_type": "execute_result"
    }
   ],
   "source": [
    "import requests\n",
    "import pandas as pd \n",
    "from bs4 import BeautifulSoup\n",
    "import string\n",
    "import spacy\n",
    "import re\n",
    "url = \"\"\"https://insights.blackcoffer.com/how-small-business-can-survive-the-coronavirus-crisis/\"\"\"\n",
    "headers = {\"User-Agent\": \"Mozilla/5.0 (X11; Linux x86_64; rv:60.0) Gecko/20100101 Firefox/60.0\"}\n",
    "page = requests.get(url, headers=headers)\n",
    "soup = BeautifulSoup(page.content, 'html.parser')\n",
    "soup=BeautifulSoup(page.content, 'html.parser')\n",
    "title=soup.find('h1',class_=\"entry-title\")\n",
    "title=title.text.replace('\\n',\" \")\n",
    "# title\n",
    "\n",
    "content=soup.findAll(attrs={'class':'td-post-content'})\n",
    "content=content[0].text.replace('\\n',\" \")\n",
    "# print(content)\n",
    "#Punctuation\n",
    "content = content.translate(str.maketrans('', '', string.punctuation)) \n",
    "# print(content)\n",
    "text = content.split()\n",
    "# print(text)\n",
    "len(text)\n",
    "#Positive Score \n",
    "with open(r\"C:\\Users\\Om Bhandwalkar\\Desktop\\pos\\positive-words.txt\") as pos:\n",
    "    poswords = pos.read().split(\"\\n\")  \n",
    "    poswords = poswords[5:]\n",
    "pos_count = \" \".join ([w for w in text if w in poswords])\n",
    "pos_count=pos_count.split(\" \")\n",
    "Positive_score=len(pos_count)\n",
    "print(Positive_score)\n",
    "\n",
    "#Negative Score\n",
    "with open(r\"C:\\Users\\Om Bhandwalkar\\Desktop\\pos\\negative-words.txt\",encoding =\"ISO-8859-1\") as neg:\n",
    "    negwords = neg.read().split(\"\\n\")\n",
    "    \n",
    "negwords = negwords[36:]\n",
    "neg_count = \" \".join ([w for w in text if w in negwords])\n",
    "neg_count=neg_count.split(\" \")\n",
    "Negative_score=len(neg_count)\n",
    "print(Negative_score)\n",
    "\n",
    "\n",
    "filter_content = ' '.join(text)\n",
    "data=[[url,title,content,filter_content,Positive_score,Negative_score]]\n",
    "data=pd.DataFrame(data,columns=[\"url\",\"title\",\"content\",\"filter_content\",\"Positive_Score\",\"Negative_Score\"])\n",
    "from textblob import TextBlob\n",
    "# Get The Subjectivity\n",
    "def sentiment_analysis(data):\n",
    "    sentiment = TextBlob(data[\"content\"]).sentiment\n",
    "    return pd.Series([sentiment.polarity,sentiment.subjectivity ])\n",
    "data[[\"polarity\", \"subjectivity\"]] = data.apply(sentiment_analysis, axis=1)\n",
    "data\n",
    "#AVG SENTENCE LENGTH\n",
    "AVG_SENTENCE_LENGTH = len(content.replace(' ',''))/len(re.split(r'[?!.]', content))\n",
    "print('Word average =', AVG_SENTENCE_LENGTH)\n",
    "import textstat\n",
    "#Fog index \n",
    "FOG_INDEX=(textstat.gunning_fog(content))\n",
    "print(\"FOG INDEX = \",FOG_INDEX)\n",
    "#Average No of Words Per Sentence \n",
    "AVG_NUMBER_OF_WORDS_PER_SENTENCE = [len(l.split()) for l in re.split(r'[?!.]', content) if l.strip()]\n",
    "print(\"Average no of words per sentence\")\n",
    "AVG_NUMBER_OF_WORDS_PER_SENTENCE=(sum(AVG_NUMBER_OF_WORDS_PER_SENTENCE)/len(AVG_NUMBER_OF_WORDS_PER_SENTENCE))\n",
    "print(AVG_NUMBER_OF_WORDS_PER_SENTENCE)\n",
    "#Complex words\n",
    "def syllable_count(word):\n",
    "    count = 0\n",
    "    vowels = \"AEIOUYaeiouy\"\n",
    "    if word[0] in vowels:\n",
    "        count += 1\n",
    "    for index in range(1, len(word)): \n",
    "        if word[index] in vowels and word[index - 1] not in vowels:\n",
    "            count += 1\n",
    "            if word.endswith(\"es\"or \"ed\"):\n",
    "                count -= 1\n",
    "    if count == 0:\n",
    "        count += 1\n",
    "    return count\n",
    "\n",
    "\n",
    "\n",
    "COMPLEX_WORDS=syllable_count(content)\n",
    "print(\"Complex Words\",COMPLEX_WORDS)\n",
    "#Word Count\n",
    "Word_Count=len(content)\n",
    "print(\"Word Count\",Word_Count)\n",
    "#Percentage Complex Words\n",
    "pcw=(COMPLEX_WORDS/Word_Count)*100\n",
    "print(\"Percentage of Complex Words\",pcw)\n",
    "#Average Word Length\n",
    "Average_Word_Length=len(content.replace(' ',''))/len(content.split())\n",
    "print(\"Average Word per Length\",Average_Word_Length)\n",
    "#Syllable Count Per Word\n",
    "word=content.replace(' ','')\n",
    "syllable_count=0\n",
    "for w in word:\n",
    "      if(w=='a' or w=='e' or w=='i' or w=='o' or w=='y' or w=='u' or w=='A' or w=='E' or w=='I' or w=='O' or w=='U' or w=='Y'):\n",
    "            syllable_count=syllable_count+1\n",
    "print(\"The AVG number of syllables in the word is: \")\n",
    "syllable = (syllable_count/len(content.split()))\n",
    "print(syllable)\n",
    "\n",
    "data = [[url,title,content,filter_content,Positive_score,Negative_score,AVG_SENTENCE_LENGTH,pcw,FOG_INDEX,\n",
    "         AVG_NUMBER_OF_WORDS_PER_SENTENCE,COMPLEX_WORDS,Word_Count,syllable,Average_Word_Length]]\n",
    "data=pd.DataFrame(data,columns=[\"url\",\"title\",\"content\",\"filter_content\",\"Positive_Score\",\"Negative_Score\",\"Avg_Sentence_Length\"\n",
    "                               ,\"Percentage_Complex_Word\",\"Fog_Index\",\" AVG_NUMBER_OF_WORDS_PER_SENTENCE\",\"COMPLEX_WORDS\",\n",
    "                               \"Word_Count\",\"syllable\",\"Average_Word_Length\"])\n",
    "from textblob import TextBlob\n",
    "# Get The Subjectivity\n",
    "def sentiment_analysis(data):\n",
    "    sentiment = TextBlob(data[\"content\"]).sentiment\n",
    "    return pd.Series([sentiment.polarity,sentiment.subjectivity ])\n",
    "data[[\"polarity\", \"subjectivity\"]] = data.apply(sentiment_analysis, axis=1)\n",
    "data"
   ]
  },
  {
   "cell_type": "code",
   "execution_count": 2,
   "id": "6fbd01c2",
   "metadata": {},
   "outputs": [],
   "source": [
    "data.to_csv(r'C:\\Users\\Om Bhandwalkar\\Desktop\\BlackCoffer Assignment\\Output\\url_84.csv')"
   ]
  },
  {
   "cell_type": "code",
   "execution_count": null,
   "id": "8261c9f2",
   "metadata": {},
   "outputs": [],
   "source": []
  },
  {
   "cell_type": "code",
   "execution_count": null,
   "id": "1b5296ea",
   "metadata": {},
   "outputs": [],
   "source": []
  }
 ],
 "metadata": {
  "kernelspec": {
   "display_name": "Python 3 (ipykernel)",
   "language": "python",
   "name": "python3"
  },
  "language_info": {
   "codemirror_mode": {
    "name": "ipython",
    "version": 3
   },
   "file_extension": ".py",
   "mimetype": "text/x-python",
   "name": "python",
   "nbconvert_exporter": "python",
   "pygments_lexer": "ipython3",
   "version": "3.9.12"
  }
 },
 "nbformat": 4,
 "nbformat_minor": 5
}
