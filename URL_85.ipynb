{
 "cells": [
  {
   "cell_type": "code",
   "execution_count": 1,
   "id": "1daf9d4c",
   "metadata": {},
   "outputs": [
    {
     "data": {
      "text/plain": [
       "'Impacts of COVID 19 on Food products'"
      ]
     },
     "execution_count": 1,
     "metadata": {},
     "output_type": "execute_result"
    }
   ],
   "source": [
    "import requests\n",
    "import pandas as pd \n",
    "from bs4 import BeautifulSoup\n",
    "import string\n",
    "import spacy\n",
    "import re\n",
    "url = \"\"\"https://insights.blackcoffer.com/impacts-of-covid-19-on-vegetable-vendors-and-food-stalls/\"\"\"\n",
    "headers = {\"User-Agent\": \"Mozilla/5.0 (X11; Linux x86_64; rv:60.0) Gecko/20100101 Firefox/60.0\"}\n",
    "page = requests.get(url, headers=headers)\n",
    "soup = BeautifulSoup(page.content, 'html.parser')\n",
    "soup=BeautifulSoup(page.content, 'html.parser')\n",
    "title=soup.find('h1',class_=\"entry-title\")\n",
    "title=title.text.replace('\\n',\" \")\n",
    "title\n"
   ]
  },
  {
   "cell_type": "code",
   "execution_count": 2,
   "id": "fd3d39e5",
   "metadata": {},
   "outputs": [
    {
     "name": "stdout",
     "output_type": "stream",
     "text": [
      " Some vendors (fruit and vegetable sellers) began venturing out after a few days without explicit permission and immediately faced police harassment. After a few weeks, the government eased restrictions and essential vendors were being permitted to vend (due in large part to the advocacy of vendor organizations and activist networks). However, the cost of doing business, as well as the risk, has gone up significantly, with vendors not having access to wholesale markets and suppliers and having to spend more on travel costs due to travel restrictions in place in the city. Also, with the lockdown still partially in place, the number of buyers has gone down and so have earnings. Due to the harsh summer heat, perishable fruits and vegetables also have a reduced shelf life so vendors are unable to capitalize on whatever produce they do have. The state has recently announced a stimulus package of INR 5000 crore for nearly 50 lakh vendors, acknowledging the grave impact of their loss of livelihood. The intended relief for vendors will be a credit loan that will provide an initial working capital of INR 10,000 for all vendors, but this is not sufficient. Instead of credit, the government should think of converting it into direct income benefit, a cash grant, as livelihood support to start the income activity regularly. The vendors need income support to be able to restart work, and if they are not able to do so, how will they return the loan. In the face of the ever-changing crisis, vendor organizations have to step forward and advocate for vendors to be provided the resources they need to be able to resume their livelihoods. To this end, vendors organizations could consider the following for an advocacy agenda: Livelihood promotion for all vendors, including those selling non-essential goods: The impact of COVID-19 has been very harsh on informal workers who have exhausted their capital and earnings in trying to feed themselves during the extended lockdown period. Vendors need to be able to resume vending for survival and the government should take steps to begin to reopen markets and allow vendors back on the streets.Reopening of Markets keeping in mind social distancing and hygiene: Delhi has many different types of traditionally crowded markets including weekly markets (for fresh food, cooked food and essential household items) and daily markets that operate on the sides of roads. These markets will need to resume keeping in mind the need for social distancing and the government should release guidelines for the same. Going forward, vending zones must also be designed keeping in mind the need for social distancing and for sufficient hygiene facilities (running water, washing stations and toilets). The authorities should work with Town Vending Committees (TVCs) for the same.Provide direct support which is de-linked from existing registration requirements: As lockdown is lifted and vending resumes, vendors who have been at home for months will need direct income benefits to resume their work. The government stimulus package, while a welcome step, is insufficient in the nature of relief (credit not direct cash transfer) and eligibility (only registered vendors are eligible, which leaves out the majority of vendors in the country). In addition, government relief and support needs to be de-linked from very rigid registration requirements, as very few vendors have been registered in India. In Delhi, out of roughly 300,000 street vendors, only about 131,00 have some form of occupational identification. If the criteria for any kind of cash grant or livelihood support is linked to occupational identification by the state, then the government should also accept registration with a workers’ organisation/union as a proxy for government-issued vending passes.Ensuring hygiene and social distancing at sites of vending: The government needs to take steps for provision of running water and soap/sanitisers for street vendors at their place of work. Additionally, vendor organisations should work with food safety authorities in the country to train vendors (especially cooked food vendors) in ways to maintain hygiene while working.Taking steps to survey and register more vendors for access to government benefits: As mentioned earlier, the number of vendors who have some form of identification are a fraction of the actual population of vendors in Delhi. Before the crisis and subsequent lockdown, the Town Vending Committees (TVCs) were supposed to start surveying and registering vendors. As we get used to the new normal, the process of survey and registration should also begin to ensure that all vendors are able to access social security benefits and financial aid during this period of crisis. Blackcoffer Insights 34: Parth Goyal, IET DAVV \n",
      " Some vendors fruit and vegetable sellers began venturing out after a few days without explicit permission and immediately faced police harassment After a few weeks the government eased restrictions and essential vendors were being permitted to vend due in large part to the advocacy of vendor organizations and activist networks However the cost of doing business as well as the risk has gone up significantly with vendors not having access to wholesale markets and suppliers and having to spend more on travel costs due to travel restrictions in place in the city Also with the lockdown still partially in place the number of buyers has gone down and so have earnings Due to the harsh summer heat perishable fruits and vegetables also have a reduced shelf life so vendors are unable to capitalize on whatever produce they do have The state has recently announced a stimulus package of INR 5000 crore for nearly 50 lakh vendors acknowledging the grave impact of their loss of livelihood The intended relief for vendors will be a credit loan that will provide an initial working capital of INR 10000 for all vendors but this is not sufficient Instead of credit the government should think of converting it into direct income benefit a cash grant as livelihood support to start the income activity regularly The vendors need income support to be able to restart work and if they are not able to do so how will they return the loan In the face of the everchanging crisis vendor organizations have to step forward and advocate for vendors to be provided the resources they need to be able to resume their livelihoods To this end vendors organizations could consider the following for an advocacy agenda Livelihood promotion for all vendors including those selling nonessential goods The impact of COVID19 has been very harsh on informal workers who have exhausted their capital and earnings in trying to feed themselves during the extended lockdown period Vendors need to be able to resume vending for survival and the government should take steps to begin to reopen markets and allow vendors back on the streetsReopening of Markets keeping in mind social distancing and hygiene Delhi has many different types of traditionally crowded markets including weekly markets for fresh food cooked food and essential household items and daily markets that operate on the sides of roads These markets will need to resume keeping in mind the need for social distancing and the government should release guidelines for the same Going forward vending zones must also be designed keeping in mind the need for social distancing and for sufficient hygiene facilities running water washing stations and toilets The authorities should work with Town Vending Committees TVCs for the sameProvide direct support which is delinked from existing registration requirements As lockdown is lifted and vending resumes vendors who have been at home for months will need direct income benefits to resume their work The government stimulus package while a welcome step is insufficient in the nature of relief credit not direct cash transfer and eligibility only registered vendors are eligible which leaves out the majority of vendors in the country In addition government relief and support needs to be delinked from very rigid registration requirements as very few vendors have been registered in India In Delhi out of roughly 300000 street vendors only about 13100 have some form of occupational identification If the criteria for any kind of cash grant or livelihood support is linked to occupational identification by the state then the government should also accept registration with a workers’ organisationunion as a proxy for governmentissued vending passesEnsuring hygiene and social distancing at sites of vending The government needs to take steps for provision of running water and soapsanitisers for street vendors at their place of work Additionally vendor organisations should work with food safety authorities in the country to train vendors especially cooked food vendors in ways to maintain hygiene while workingTaking steps to survey and register more vendors for access to government benefits As mentioned earlier the number of vendors who have some form of identification are a fraction of the actual population of vendors in Delhi Before the crisis and subsequent lockdown the Town Vending Committees TVCs were supposed to start surveying and registering vendors As we get used to the new normal the process of survey and registration should also begin to ensure that all vendors are able to access social security benefits and financial aid during this period of crisis Blackcoffer Insights 34 Parth Goyal IET DAVV \n",
      "['Some', 'vendors', 'fruit', 'and', 'vegetable', 'sellers', 'began', 'venturing', 'out', 'after', 'a', 'few', 'days', 'without', 'explicit', 'permission', 'and', 'immediately', 'faced', 'police', 'harassment', 'After', 'a', 'few', 'weeks', 'the', 'government', 'eased', 'restrictions', 'and', 'essential', 'vendors', 'were', 'being', 'permitted', 'to', 'vend', 'due', 'in', 'large', 'part', 'to', 'the', 'advocacy', 'of', 'vendor', 'organizations', 'and', 'activist', 'networks', 'However', 'the', 'cost', 'of', 'doing', 'business', 'as', 'well', 'as', 'the', 'risk', 'has', 'gone', 'up', 'significantly', 'with', 'vendors', 'not', 'having', 'access', 'to', 'wholesale', 'markets', 'and', 'suppliers', 'and', 'having', 'to', 'spend', 'more', 'on', 'travel', 'costs', 'due', 'to', 'travel', 'restrictions', 'in', 'place', 'in', 'the', 'city', 'Also', 'with', 'the', 'lockdown', 'still', 'partially', 'in', 'place', 'the', 'number', 'of', 'buyers', 'has', 'gone', 'down', 'and', 'so', 'have', 'earnings', 'Due', 'to', 'the', 'harsh', 'summer', 'heat', 'perishable', 'fruits', 'and', 'vegetables', 'also', 'have', 'a', 'reduced', 'shelf', 'life', 'so', 'vendors', 'are', 'unable', 'to', 'capitalize', 'on', 'whatever', 'produce', 'they', 'do', 'have', 'The', 'state', 'has', 'recently', 'announced', 'a', 'stimulus', 'package', 'of', 'INR', '5000', 'crore', 'for', 'nearly', '50', 'lakh', 'vendors', 'acknowledging', 'the', 'grave', 'impact', 'of', 'their', 'loss', 'of', 'livelihood', 'The', 'intended', 'relief', 'for', 'vendors', 'will', 'be', 'a', 'credit', 'loan', 'that', 'will', 'provide', 'an', 'initial', 'working', 'capital', 'of', 'INR', '10000', 'for', 'all', 'vendors', 'but', 'this', 'is', 'not', 'sufficient', 'Instead', 'of', 'credit', 'the', 'government', 'should', 'think', 'of', 'converting', 'it', 'into', 'direct', 'income', 'benefit', 'a', 'cash', 'grant', 'as', 'livelihood', 'support', 'to', 'start', 'the', 'income', 'activity', 'regularly', 'The', 'vendors', 'need', 'income', 'support', 'to', 'be', 'able', 'to', 'restart', 'work', 'and', 'if', 'they', 'are', 'not', 'able', 'to', 'do', 'so', 'how', 'will', 'they', 'return', 'the', 'loan', 'In', 'the', 'face', 'of', 'the', 'everchanging', 'crisis', 'vendor', 'organizations', 'have', 'to', 'step', 'forward', 'and', 'advocate', 'for', 'vendors', 'to', 'be', 'provided', 'the', 'resources', 'they', 'need', 'to', 'be', 'able', 'to', 'resume', 'their', 'livelihoods', 'To', 'this', 'end', 'vendors', 'organizations', 'could', 'consider', 'the', 'following', 'for', 'an', 'advocacy', 'agenda', 'Livelihood', 'promotion', 'for', 'all', 'vendors', 'including', 'those', 'selling', 'nonessential', 'goods', 'The', 'impact', 'of', 'COVID19', 'has', 'been', 'very', 'harsh', 'on', 'informal', 'workers', 'who', 'have', 'exhausted', 'their', 'capital', 'and', 'earnings', 'in', 'trying', 'to', 'feed', 'themselves', 'during', 'the', 'extended', 'lockdown', 'period', 'Vendors', 'need', 'to', 'be', 'able', 'to', 'resume', 'vending', 'for', 'survival', 'and', 'the', 'government', 'should', 'take', 'steps', 'to', 'begin', 'to', 'reopen', 'markets', 'and', 'allow', 'vendors', 'back', 'on', 'the', 'streetsReopening', 'of', 'Markets', 'keeping', 'in', 'mind', 'social', 'distancing', 'and', 'hygiene', 'Delhi', 'has', 'many', 'different', 'types', 'of', 'traditionally', 'crowded', 'markets', 'including', 'weekly', 'markets', 'for', 'fresh', 'food', 'cooked', 'food', 'and', 'essential', 'household', 'items', 'and', 'daily', 'markets', 'that', 'operate', 'on', 'the', 'sides', 'of', 'roads', 'These', 'markets', 'will', 'need', 'to', 'resume', 'keeping', 'in', 'mind', 'the', 'need', 'for', 'social', 'distancing', 'and', 'the', 'government', 'should', 'release', 'guidelines', 'for', 'the', 'same', 'Going', 'forward', 'vending', 'zones', 'must', 'also', 'be', 'designed', 'keeping', 'in', 'mind', 'the', 'need', 'for', 'social', 'distancing', 'and', 'for', 'sufficient', 'hygiene', 'facilities', 'running', 'water', 'washing', 'stations', 'and', 'toilets', 'The', 'authorities', 'should', 'work', 'with', 'Town', 'Vending', 'Committees', 'TVCs', 'for', 'the', 'sameProvide', 'direct', 'support', 'which', 'is', 'delinked', 'from', 'existing', 'registration', 'requirements', 'As', 'lockdown', 'is', 'lifted', 'and', 'vending', 'resumes', 'vendors', 'who', 'have', 'been', 'at', 'home', 'for', 'months', 'will', 'need', 'direct', 'income', 'benefits', 'to', 'resume', 'their', 'work', 'The', 'government', 'stimulus', 'package', 'while', 'a', 'welcome', 'step', 'is', 'insufficient', 'in', 'the', 'nature', 'of', 'relief', 'credit', 'not', 'direct', 'cash', 'transfer', 'and', 'eligibility', 'only', 'registered', 'vendors', 'are', 'eligible', 'which', 'leaves', 'out', 'the', 'majority', 'of', 'vendors', 'in', 'the', 'country', 'In', 'addition', 'government', 'relief', 'and', 'support', 'needs', 'to', 'be', 'delinked', 'from', 'very', 'rigid', 'registration', 'requirements', 'as', 'very', 'few', 'vendors', 'have', 'been', 'registered', 'in', 'India', 'In', 'Delhi', 'out', 'of', 'roughly', '300000', 'street', 'vendors', 'only', 'about', '13100', 'have', 'some', 'form', 'of', 'occupational', 'identification', 'If', 'the', 'criteria', 'for', 'any', 'kind', 'of', 'cash', 'grant', 'or', 'livelihood', 'support', 'is', 'linked', 'to', 'occupational', 'identification', 'by', 'the', 'state', 'then', 'the', 'government', 'should', 'also', 'accept', 'registration', 'with', 'a', 'workers’', 'organisationunion', 'as', 'a', 'proxy', 'for', 'governmentissued', 'vending', 'passesEnsuring', 'hygiene', 'and', 'social', 'distancing', 'at', 'sites', 'of', 'vending', 'The', 'government', 'needs', 'to', 'take', 'steps', 'for', 'provision', 'of', 'running', 'water', 'and', 'soapsanitisers', 'for', 'street', 'vendors', 'at', 'their', 'place', 'of', 'work', 'Additionally', 'vendor', 'organisations', 'should', 'work', 'with', 'food', 'safety', 'authorities', 'in', 'the', 'country', 'to', 'train', 'vendors', 'especially', 'cooked', 'food', 'vendors', 'in', 'ways', 'to', 'maintain', 'hygiene', 'while', 'workingTaking', 'steps', 'to', 'survey', 'and', 'register', 'more', 'vendors', 'for', 'access', 'to', 'government', 'benefits', 'As', 'mentioned', 'earlier', 'the', 'number', 'of', 'vendors', 'who', 'have', 'some', 'form', 'of', 'identification', 'are', 'a', 'fraction', 'of', 'the', 'actual', 'population', 'of', 'vendors', 'in', 'Delhi', 'Before', 'the', 'crisis', 'and', 'subsequent', 'lockdown', 'the', 'Town', 'Vending', 'Committees', 'TVCs', 'were', 'supposed', 'to', 'start', 'surveying', 'and', 'registering', 'vendors', 'As', 'we', 'get', 'used', 'to', 'the', 'new', 'normal', 'the', 'process', 'of', 'survey', 'and', 'registration', 'should', 'also', 'begin', 'to', 'ensure', 'that', 'all', 'vendors', 'are', 'able', 'to', 'access', 'social', 'security', 'benefits', 'and', 'financial', 'aid', 'during', 'this', 'period', 'of', 'crisis', 'Blackcoffer', 'Insights', '34', 'Parth', 'Goyal', 'IET', 'DAVV']\n"
     ]
    }
   ],
   "source": [
    "content=soup.findAll(attrs={'class':'td-post-content'})\n",
    "content=content[0].text.replace('\\n',\" \")\n",
    "print(content)\n",
    "#Punctuation\n",
    "content = content.translate(str.maketrans('', '', string.punctuation)) \n",
    "print(content)\n",
    "text = content.split()\n",
    "print(text)\n"
   ]
  },
  {
   "cell_type": "code",
   "execution_count": 3,
   "id": "97018a1e",
   "metadata": {},
   "outputs": [
    {
     "data": {
      "text/plain": [
       "760"
      ]
     },
     "execution_count": 3,
     "metadata": {},
     "output_type": "execute_result"
    }
   ],
   "source": [
    "len(text)"
   ]
  },
  {
   "cell_type": "code",
   "execution_count": 4,
   "id": "e91e38f2",
   "metadata": {},
   "outputs": [
    {
     "name": "stdout",
     "output_type": "stream",
     "text": [
      "25\n"
     ]
    }
   ],
   "source": [
    "#Positive Score \n",
    "with open(r\"C:\\Users\\Om Bhandwalkar\\Desktop\\pos\\positive-words.txt\") as pos:\n",
    "    poswords = pos.read().split(\"\\n\")  \n",
    "    poswords = poswords[5:]\n",
    "pos_count = \" \".join ([w for w in text if w in poswords])\n",
    "pos_count=pos_count.split(\" \")\n",
    "Positive_score=len(pos_count)\n",
    "print(Positive_score)"
   ]
  },
  {
   "cell_type": "code",
   "execution_count": 5,
   "id": "393607dc",
   "metadata": {},
   "outputs": [
    {
     "name": "stdout",
     "output_type": "stream",
     "text": [
      "13\n"
     ]
    }
   ],
   "source": [
    "#Negative Score\n",
    "with open(r\"C:\\Users\\Om Bhandwalkar\\Desktop\\pos\\negative-words.txt\",encoding =\"ISO-8859-1\") as neg:\n",
    "    negwords = neg.read().split(\"\\n\")\n",
    "    \n",
    "negwords = negwords[36:]\n",
    "neg_count = \" \".join ([w for w in text if w in negwords])\n",
    "neg_count=neg_count.split(\" \")\n",
    "Negative_score=len(neg_count)\n",
    "print(Negative_score)"
   ]
  },
  {
   "cell_type": "code",
   "execution_count": 6,
   "id": "516c1655",
   "metadata": {},
   "outputs": [
    {
     "data": {
      "text/html": [
       "<div>\n",
       "<style scoped>\n",
       "    .dataframe tbody tr th:only-of-type {\n",
       "        vertical-align: middle;\n",
       "    }\n",
       "\n",
       "    .dataframe tbody tr th {\n",
       "        vertical-align: top;\n",
       "    }\n",
       "\n",
       "    .dataframe thead th {\n",
       "        text-align: right;\n",
       "    }\n",
       "</style>\n",
       "<table border=\"1\" class=\"dataframe\">\n",
       "  <thead>\n",
       "    <tr style=\"text-align: right;\">\n",
       "      <th></th>\n",
       "      <th>url</th>\n",
       "      <th>title</th>\n",
       "      <th>content</th>\n",
       "      <th>filter_content</th>\n",
       "      <th>Positive_Score</th>\n",
       "      <th>Negative_Score</th>\n",
       "      <th>polarity</th>\n",
       "      <th>subjectivity</th>\n",
       "    </tr>\n",
       "  </thead>\n",
       "  <tbody>\n",
       "    <tr>\n",
       "      <th>0</th>\n",
       "      <td>https://insights.blackcoffer.com/impacts-of-co...</td>\n",
       "      <td>Impacts of COVID 19 on Food products</td>\n",
       "      <td>Some vendors fruit and vegetable sellers bega...</td>\n",
       "      <td>Some vendors fruit and vegetable sellers began...</td>\n",
       "      <td>25</td>\n",
       "      <td>13</td>\n",
       "      <td>0.066522</td>\n",
       "      <td>0.41004</td>\n",
       "    </tr>\n",
       "  </tbody>\n",
       "</table>\n",
       "</div>"
      ],
      "text/plain": [
       "                                                 url  \\\n",
       "0  https://insights.blackcoffer.com/impacts-of-co...   \n",
       "\n",
       "                                  title  \\\n",
       "0  Impacts of COVID 19 on Food products   \n",
       "\n",
       "                                             content  \\\n",
       "0   Some vendors fruit and vegetable sellers bega...   \n",
       "\n",
       "                                      filter_content  Positive_Score  \\\n",
       "0  Some vendors fruit and vegetable sellers began...              25   \n",
       "\n",
       "   Negative_Score  polarity  subjectivity  \n",
       "0              13  0.066522       0.41004  "
      ]
     },
     "execution_count": 6,
     "metadata": {},
     "output_type": "execute_result"
    }
   ],
   "source": [
    "filter_content = ' '.join(text)\n",
    "data=[[url,title,content,filter_content,Positive_score,Negative_score]]\n",
    "data=pd.DataFrame(data,columns=[\"url\",\"title\",\"content\",\"filter_content\",\"Positive_Score\",\"Negative_Score\"])\n",
    "from textblob import TextBlob\n",
    "# Get The Subjectivity\n",
    "def sentiment_analysis(data):\n",
    "    sentiment = TextBlob(data[\"content\"]).sentiment\n",
    "    return pd.Series([sentiment.polarity,sentiment.subjectivity ])\n",
    "\n",
    "# Adding Subjectivity & Polarity\n",
    "data[[\"polarity\", \"subjectivity\"]] = data.apply(sentiment_analysis, axis=1)\n",
    "\n",
    "data"
   ]
  },
  {
   "cell_type": "code",
   "execution_count": 7,
   "id": "12713aa3",
   "metadata": {},
   "outputs": [
    {
     "name": "stdout",
     "output_type": "stream",
     "text": [
      "Word average = 3948.0\n",
      "FOG INDEX =  308.0\n",
      "Average no of words per sentence\n",
      "760.0\n",
      "Complex Words 1369\n"
     ]
    }
   ],
   "source": [
    "#AVG SENTENCE LENGTH\n",
    "AVG_SENTENCE_LENGTH = len(content.replace(' ',''))/len(re.split(r'[?!.]', content))\n",
    "print('Word average =', AVG_SENTENCE_LENGTH)\n",
    "import textstat\n",
    "#Fog index \n",
    "FOG_INDEX=(textstat.gunning_fog(content))\n",
    "print(\"FOG INDEX = \",FOG_INDEX)\n",
    "#Average No of Words Per Sentence \n",
    "AVG_NUMBER_OF_WORDS_PER_SENTENCE = [len(l.split()) for l in re.split(r'[?!.]', content) if l.strip()]\n",
    "print(\"Average no of words per sentence\")\n",
    "AVG_NUMBER_OF_WORDS_PER_SENTENCE=print(sum(AVG_NUMBER_OF_WORDS_PER_SENTENCE)/len(AVG_NUMBER_OF_WORDS_PER_SENTENCE))\n",
    "#Complex words\n",
    "def syllable_count(word):\n",
    "    count = 0\n",
    "    vowels = \"AEIOUYaeiouy\"\n",
    "    if word[0] in vowels:\n",
    "        count += 1\n",
    "    for index in range(1, len(word)): \n",
    "        if word[index] in vowels and word[index - 1] not in vowels:\n",
    "            count += 1\n",
    "            if word.endswith(\"es\"or \"ed\"):\n",
    "                count -= 1\n",
    "    if count == 0:\n",
    "        count += 1\n",
    "    return count\n",
    "\n",
    "\n",
    "\n",
    "COMPLEX_WORDS=syllable_count(content)\n",
    "print(\"Complex Words\",COMPLEX_WORDS)\n"
   ]
  },
  {
   "cell_type": "code",
   "execution_count": 8,
   "id": "be9e280e",
   "metadata": {},
   "outputs": [
    {
     "name": "stdout",
     "output_type": "stream",
     "text": [
      "Word Count 4706\n",
      "Percentage of Complex Words 29.09052273693158\n",
      "Average Word per Length 5.1947368421052635\n",
      "The AVG number of syllables in the word is: \n",
      "2.0276315789473682\n"
     ]
    }
   ],
   "source": [
    "#Word Count\n",
    "Word_Count=len(content)\n",
    "print(\"Word Count\",Word_Count)\n",
    "#Percentage Complex Words\n",
    "pcw=(COMPLEX_WORDS/Word_Count)*100\n",
    "print(\"Percentage of Complex Words\",pcw)\n",
    "#Average Word Length\n",
    "Average_Word_Length=len(content.replace(' ',''))/len(content.split())\n",
    "print(\"Average Word per Length\",Average_Word_Length)\n",
    "#Syllable Count Per Word\n",
    "word=content.replace(' ','')\n",
    "syllable_count=0\n",
    "for w in word:\n",
    "      if(w=='a' or w=='e' or w=='i' or w=='o' or w=='y' or w=='u' or w=='A' or w=='E' or w=='I' or w=='O' or w=='U' or w=='Y'):\n",
    "            syllable_count=syllable_count+1\n",
    "print(\"The AVG number of syllables in the word is: \")\n",
    "print(syllable_count/len(content.split()))"
   ]
  },
  {
   "cell_type": "code",
   "execution_count": 2,
   "id": "c25a8636",
   "metadata": {},
   "outputs": [
    {
     "name": "stdout",
     "output_type": "stream",
     "text": [
      "25\n",
      "13\n",
      "Word average = 3948.0\n",
      "FOG INDEX =  308.0\n",
      "Average no of words per sentence\n",
      "760.0\n",
      "Complex Words 1369\n",
      "Word Count 4706\n",
      "Percentage of Complex Words 29.09052273693158\n",
      "Average Word per Length 5.1947368421052635\n",
      "The AVG number of syllables in the word is: \n",
      "2.0276315789473682\n"
     ]
    },
    {
     "data": {
      "text/html": [
       "<div>\n",
       "<style scoped>\n",
       "    .dataframe tbody tr th:only-of-type {\n",
       "        vertical-align: middle;\n",
       "    }\n",
       "\n",
       "    .dataframe tbody tr th {\n",
       "        vertical-align: top;\n",
       "    }\n",
       "\n",
       "    .dataframe thead th {\n",
       "        text-align: right;\n",
       "    }\n",
       "</style>\n",
       "<table border=\"1\" class=\"dataframe\">\n",
       "  <thead>\n",
       "    <tr style=\"text-align: right;\">\n",
       "      <th></th>\n",
       "      <th>url</th>\n",
       "      <th>title</th>\n",
       "      <th>content</th>\n",
       "      <th>filter_content</th>\n",
       "      <th>Positive_Score</th>\n",
       "      <th>Negative_Score</th>\n",
       "      <th>Avg_Sentence_Length</th>\n",
       "      <th>Percentage_Complex_Word</th>\n",
       "      <th>Fog_Index</th>\n",
       "      <th>AVG_NUMBER_OF_WORDS_PER_SENTENCE</th>\n",
       "      <th>COMPLEX_WORDS</th>\n",
       "      <th>Word_Count</th>\n",
       "      <th>syllable</th>\n",
       "      <th>Average_Word_Length</th>\n",
       "      <th>polarity</th>\n",
       "      <th>subjectivity</th>\n",
       "    </tr>\n",
       "  </thead>\n",
       "  <tbody>\n",
       "    <tr>\n",
       "      <th>0</th>\n",
       "      <td>https://insights.blackcoffer.com/impacts-of-co...</td>\n",
       "      <td>Impacts of COVID 19 on Food products</td>\n",
       "      <td>Some vendors fruit and vegetable sellers bega...</td>\n",
       "      <td>Some vendors fruit and vegetable sellers began...</td>\n",
       "      <td>25</td>\n",
       "      <td>13</td>\n",
       "      <td>3948.0</td>\n",
       "      <td>29.090523</td>\n",
       "      <td>308.0</td>\n",
       "      <td>760.0</td>\n",
       "      <td>1369</td>\n",
       "      <td>4706</td>\n",
       "      <td>2.027632</td>\n",
       "      <td>5.194737</td>\n",
       "      <td>0.066522</td>\n",
       "      <td>0.41004</td>\n",
       "    </tr>\n",
       "  </tbody>\n",
       "</table>\n",
       "</div>"
      ],
      "text/plain": [
       "                                                 url  \\\n",
       "0  https://insights.blackcoffer.com/impacts-of-co...   \n",
       "\n",
       "                                  title  \\\n",
       "0  Impacts of COVID 19 on Food products   \n",
       "\n",
       "                                             content  \\\n",
       "0   Some vendors fruit and vegetable sellers bega...   \n",
       "\n",
       "                                      filter_content  Positive_Score  \\\n",
       "0  Some vendors fruit and vegetable sellers began...              25   \n",
       "\n",
       "   Negative_Score  Avg_Sentence_Length  Percentage_Complex_Word  Fog_Index  \\\n",
       "0              13               3948.0                29.090523      308.0   \n",
       "\n",
       "    AVG_NUMBER_OF_WORDS_PER_SENTENCE  COMPLEX_WORDS  Word_Count  syllable  \\\n",
       "0                              760.0           1369        4706  2.027632   \n",
       "\n",
       "   Average_Word_Length  polarity  subjectivity  \n",
       "0             5.194737  0.066522       0.41004  "
      ]
     },
     "execution_count": 2,
     "metadata": {},
     "output_type": "execute_result"
    }
   ],
   "source": [
    "import requests\n",
    "import pandas as pd \n",
    "from bs4 import BeautifulSoup\n",
    "import string\n",
    "import spacy\n",
    "import re\n",
    "url = \"\"\"https://insights.blackcoffer.com/impacts-of-covid-19-on-vegetable-vendors-and-food-stalls/\"\"\"\n",
    "headers = {\"User-Agent\": \"Mozilla/5.0 (X11; Linux x86_64; rv:60.0) Gecko/20100101 Firefox/60.0\"}\n",
    "page = requests.get(url, headers=headers)\n",
    "soup = BeautifulSoup(page.content, 'html.parser')\n",
    "soup=BeautifulSoup(page.content, 'html.parser')\n",
    "title=soup.find('h1',class_=\"entry-title\")\n",
    "title=title.text.replace('\\n',\" \")\n",
    "# title\n",
    "\n",
    "content=soup.findAll(attrs={'class':'td-post-content'})\n",
    "content=content[0].text.replace('\\n',\" \")\n",
    "# print(content)\n",
    "#Punctuation\n",
    "content = content.translate(str.maketrans('', '', string.punctuation)) \n",
    "# print(content)\n",
    "text = content.split()\n",
    "# print(text)\n",
    "len(text)\n",
    "#Positive Score \n",
    "with open(r\"C:\\Users\\Om Bhandwalkar\\Desktop\\pos\\positive-words.txt\") as pos:\n",
    "    poswords = pos.read().split(\"\\n\")  \n",
    "    poswords = poswords[5:]\n",
    "pos_count = \" \".join ([w for w in text if w in poswords])\n",
    "pos_count=pos_count.split(\" \")\n",
    "Positive_score=len(pos_count)\n",
    "print(Positive_score)\n",
    "\n",
    "#Negative Score\n",
    "with open(r\"C:\\Users\\Om Bhandwalkar\\Desktop\\pos\\negative-words.txt\",encoding =\"ISO-8859-1\") as neg:\n",
    "    negwords = neg.read().split(\"\\n\")\n",
    "    \n",
    "negwords = negwords[36:]\n",
    "neg_count = \" \".join ([w for w in text if w in negwords])\n",
    "neg_count=neg_count.split(\" \")\n",
    "Negative_score=len(neg_count)\n",
    "print(Negative_score)\n",
    "\n",
    "\n",
    "filter_content = ' '.join(text)\n",
    "data=[[url,title,content,filter_content,Positive_score,Negative_score]]\n",
    "data=pd.DataFrame(data,columns=[\"url\",\"title\",\"content\",\"filter_content\",\"Positive_Score\",\"Negative_Score\"])\n",
    "from textblob import TextBlob\n",
    "# Get The Subjectivity\n",
    "def sentiment_analysis(data):\n",
    "    sentiment = TextBlob(data[\"content\"]).sentiment\n",
    "    return pd.Series([sentiment.polarity,sentiment.subjectivity ])\n",
    "data[[\"polarity\", \"subjectivity\"]] = data.apply(sentiment_analysis, axis=1)\n",
    "data\n",
    "#AVG SENTENCE LENGTH\n",
    "AVG_SENTENCE_LENGTH = len(content.replace(' ',''))/len(re.split(r'[?!.]', content))\n",
    "print('Word average =', AVG_SENTENCE_LENGTH)\n",
    "import textstat\n",
    "#Fog index \n",
    "FOG_INDEX=(textstat.gunning_fog(content))\n",
    "print(\"FOG INDEX = \",FOG_INDEX)\n",
    "#Average No of Words Per Sentence \n",
    "AVG_NUMBER_OF_WORDS_PER_SENTENCE = [len(l.split()) for l in re.split(r'[?!.]', content) if l.strip()]\n",
    "print(\"Average no of words per sentence\")\n",
    "AVG_NUMBER_OF_WORDS_PER_SENTENCE=(sum(AVG_NUMBER_OF_WORDS_PER_SENTENCE)/len(AVG_NUMBER_OF_WORDS_PER_SENTENCE))\n",
    "print(AVG_NUMBER_OF_WORDS_PER_SENTENCE)\n",
    "#Complex words\n",
    "def syllable_count(word):\n",
    "    count = 0\n",
    "    vowels = \"AEIOUYaeiouy\"\n",
    "    if word[0] in vowels:\n",
    "        count += 1\n",
    "    for index in range(1, len(word)): \n",
    "        if word[index] in vowels and word[index - 1] not in vowels:\n",
    "            count += 1\n",
    "            if word.endswith(\"es\"or \"ed\"):\n",
    "                count -= 1\n",
    "    if count == 0:\n",
    "        count += 1\n",
    "    return count\n",
    "\n",
    "\n",
    "\n",
    "COMPLEX_WORDS=syllable_count(content)\n",
    "print(\"Complex Words\",COMPLEX_WORDS)\n",
    "#Word Count\n",
    "Word_Count=len(content)\n",
    "print(\"Word Count\",Word_Count)\n",
    "#Percentage Complex Words\n",
    "pcw=(COMPLEX_WORDS/Word_Count)*100\n",
    "print(\"Percentage of Complex Words\",pcw)\n",
    "#Average Word Length\n",
    "Average_Word_Length=len(content.replace(' ',''))/len(content.split())\n",
    "print(\"Average Word per Length\",Average_Word_Length)\n",
    "#Syllable Count Per Word\n",
    "word=content.replace(' ','')\n",
    "syllable_count=0\n",
    "for w in word:\n",
    "      if(w=='a' or w=='e' or w=='i' or w=='o' or w=='y' or w=='u' or w=='A' or w=='E' or w=='I' or w=='O' or w=='U' or w=='Y'):\n",
    "            syllable_count=syllable_count+1\n",
    "print(\"The AVG number of syllables in the word is: \")\n",
    "syllable = (syllable_count/len(content.split()))\n",
    "print(syllable)\n",
    "\n",
    "data = [[url,title,content,filter_content,Positive_score,Negative_score,AVG_SENTENCE_LENGTH,pcw,FOG_INDEX,\n",
    "         AVG_NUMBER_OF_WORDS_PER_SENTENCE,COMPLEX_WORDS,Word_Count,syllable,Average_Word_Length]]\n",
    "data=pd.DataFrame(data,columns=[\"url\",\"title\",\"content\",\"filter_content\",\"Positive_Score\",\"Negative_Score\",\"Avg_Sentence_Length\"\n",
    "                               ,\"Percentage_Complex_Word\",\"Fog_Index\",\" AVG_NUMBER_OF_WORDS_PER_SENTENCE\",\"COMPLEX_WORDS\",\n",
    "                               \"Word_Count\",\"syllable\",\"Average_Word_Length\"])\n",
    "from textblob import TextBlob\n",
    "# Get The Subjectivity\n",
    "def sentiment_analysis(data):\n",
    "    sentiment = TextBlob(data[\"content\"]).sentiment\n",
    "    return pd.Series([sentiment.polarity,sentiment.subjectivity ])\n",
    "data[[\"polarity\", \"subjectivity\"]] = data.apply(sentiment_analysis, axis=1)\n",
    "data"
   ]
  },
  {
   "cell_type": "code",
   "execution_count": 3,
   "id": "5341e272",
   "metadata": {},
   "outputs": [],
   "source": [
    "data.to_csv(r'C:\\Users\\Om Bhandwalkar\\Desktop\\BlackCoffer Assignment\\Output\\url_85.csv')"
   ]
  },
  {
   "cell_type": "code",
   "execution_count": null,
   "id": "3585d04d",
   "metadata": {},
   "outputs": [],
   "source": []
  }
 ],
 "metadata": {
  "kernelspec": {
   "display_name": "Python 3 (ipykernel)",
   "language": "python",
   "name": "python3"
  },
  "language_info": {
   "codemirror_mode": {
    "name": "ipython",
    "version": 3
   },
   "file_extension": ".py",
   "mimetype": "text/x-python",
   "name": "python",
   "nbconvert_exporter": "python",
   "pygments_lexer": "ipython3",
   "version": "3.9.12"
  }
 },
 "nbformat": 4,
 "nbformat_minor": 5
}
