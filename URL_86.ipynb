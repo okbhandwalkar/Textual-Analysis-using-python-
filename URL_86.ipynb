{
 "cells": [
  {
   "cell_type": "code",
   "execution_count": 6,
   "id": "939a014e",
   "metadata": {},
   "outputs": [
    {
     "data": {
      "text/plain": [
       "'Impacts of COVID 19 on Vegetable Vendors'"
      ]
     },
     "execution_count": 6,
     "metadata": {},
     "output_type": "execute_result"
    }
   ],
   "source": [
    "import requests\n",
    "import pandas as pd \n",
    "from bs4 import BeautifulSoup\n",
    "import string\n",
    "import spacy\n",
    "import re\n",
    "url = \"\"\"https://insights.blackcoffer.com/impacts-of-covid-19-on-vegetable-vendors/\"\"\"\n",
    "headers = {\"User-Agent\": \"Mozilla/5.0 (X11; Linux x86_64; rv:60.0) Gecko/20100101 Firefox/60.0\"}\n",
    "page = requests.get(url, headers=headers)\n",
    "soup = BeautifulSoup(page.content, 'html.parser')\n",
    "soup=BeautifulSoup(page.content, 'html.parser')\n",
    "title=soup.find('h1',class_=\"entry-title\")\n",
    "title=title.text.replace('\\n',\" \")\n",
    "title\n"
   ]
  },
  {
   "cell_type": "code",
   "execution_count": 7,
   "id": "a1b8b84a",
   "metadata": {},
   "outputs": [
    {
     "name": "stdout",
     "output_type": "stream",
     "text": [
      " The COVID-19 pandemic has grown into one of the most major and socially disruptive health crises in recent memory, with growing worried about how the pandemic’s catastrophic economic and social repercussions are affecting food systems at both the global and local levels. Given the importance of the retail food environment in establishing and sustaining healthy diets, interruptions to specific aspects of it, such as the availability of fresh vegetables, could have a negative influence on population health, which has already been noted as a source of worry. Despite the dominance of national and international supermarket chains, warehouse clubs, and supercenters in grocery retail, vegetables are offered in a number of other food retail settings. Fresh vegetable #vendors are typically smaller and more community-oriented than other restaurant or retail food outlets and can include chain or independent grocery stores, greengrocers, storefront stands, street carts, and even makeshift platforms dedicated to the sale of fresh vegetables. Smaller community fresh vegetable vendors who may conduct business on the sides of major streets or on storefronts have played an integral role in the food environment in large urban centers such as New York City (NYC), particularly in ethnic enclaves, despite the fact that fresh produce does not have a significantly higher nutritional value and fresh produce can also be purchased at these larger food retailers. Since the COVID-19 pandemic began, many fresh fruit and vegetable vendors, notably street carts selling fresh vegetables in cities across the United States, including New York City, have been forced to close owing to a combination of falling demand and fear of catching COVID-19. The importance of fresh vegetable vendors varies by neighborhood within cities. Furthermore, these fresh vegetable vendors attract visitors and interborough shoppers from a variety of cultural backgrounds not only Asian ones who are looking for things that are not available elsewhere in the city or for the same low prices. These fresh vegetable vendors, unlike larger, well-established grocery store vendors, may not have the financial infrastructure to sustain the shifts in supply and demand produced by the COVID-19 epidemic; consequently, the danger of closure or modifications in services may be greater for these vendors. In order to assess the impact of the COVID-19 pandemic on services offered by fresh vegetable vendors, surveillance #data from both before and after the pandemic’s inception is required. After a few days, vegetable dealers began venturing out without explicit permission and were quickly harassed by police. After a few weeks, the government relaxed the limitations, allowing vital traders to sell their wares (due in large part to the advocacy of vendor organizations and activist networks). However, the cost of doing business has increased dramatically, as vendors no longer have access to wholesale markets and suppliers, and they must spend more on travel expenditures owing to city-imposed travel limitations. Furthermore, with the partial lockdown still in place, the number of buyers has decreased, as have earnings. Perishable vegetables have a shorter shelf life in the summer heat, thus vendors are unable to capitalize on whatever produce they do have. Consider the situation of Delhi at the starting of COVID 19. The state has launched an INR 5000 crore stimulus package for over 50 lakh vendors, realizing the serious consequences of their loss of livelihood. The targeted relief for vendors is a credit facility that will provide all sellers with an initial working capital of INR 10,000, but this will not be enough. Instead of credit, the government should consider changing it into a direct income benefit, such as a cash grant, to help people start earning money on a regular basis. The vendors require income support in order to resume work, and how will they repay the loan if they are unable to do so? Vendor organizations must step forth in the face of the ever-changing crises and lobby for vendors to be given the resources they need to continue their livelihoods. Vendor organizations could use the following as part of their advocacy agenda: Promotion of vendors’ livelihoods, particularly those selling non-essential goods: COVID-19 has had a particularly painful impact on informal labourers, who have spent all of their savings and wages trying to feed themselves during the prolonged lockdown. Vendors must be permitted to restart peddling in order to survive, and the government should take steps to reopen marketplaces and reintroduce vendors to the streets.Market reopening with social distance and hygiene in mind: Delhi features a variety of typically crowded markets, including weekly markets (for fresh food, cooked meals, and necessary household items) and daily markets on the sides of highways. These markets will need to resume considering the necessity for social separation, and the government should issue recommendations in this regard. In the future, vending zones must be planned with social distancing in mind, as well as adequate sanitary facilities (running water, washing stations and toilets). For this, the government should collaborate with Town Vending Committees (TVCs).Provide direct assistance that is not tied to existing registration requirements: When the lockdown is lifted and vending starts, vendors who have been at home for months will require direct income benefits in order to return to work. While the government stimulus plan is a positive step, it falls short in terms of assistance (credit rather than direct cash transfer) and eligibility (only registered vendors are eligible, which leaves out the majority of vendors in the country). Furthermore, government assistance and support must be divorced from the country’s strict registration requirements, as only a few vendors have been registered in India. Only about 131,00 of Delhi’s 300,000 street sellers have any type of employment identity. If the state requires occupational identity for any type of monetary grant or livelihood assistance, the government should accept registration with a workers’ organization/union as a surrogate for government-issued vending passes.Providing flowing water and soap/sanitizers to street sellers at their place of business: The government should take steps to provide street vendors with running water and soap/sanitizers at their place of business. Additionally, vendor organizations should collaborate with local food safety authorities to instruct vendors (particularly those selling prepared foods) on how to maintain hygiene while on the job.Taking measures to conduct a survey and register additional vendors for government assistance: As previously stated, the number of sellers with some sort of identity is a small percentage of the total number of vendors in Delhi. The Town Vending Committees (TVCs) were expected to begin surveying and registering vendors before the crisis and ensuing lockout. As we adjust to the new normal, the survey and registration procedure should begin to guarantee that all vendors have access to social security benefits and financial assistance during this difficult time. Finally, some fresh vegetable sellers may have shuttered for a period of time early in the epidemic, only to reopen recently. Alternatively, vendors may have launched soon after the in-person checks were completed, but still within the June-July 2020 endpoint timeframe. This is a drawback of the method; in order to offer the most reliable COVID-19 pandemic monitoring data, data must be collected in a short period of time. Blackcoffer Insights 34: Priyanshu Kumar, MDI Murshidabad \n",
      " The COVID19 pandemic has grown into one of the most major and socially disruptive health crises in recent memory with growing worried about how the pandemic’s catastrophic economic and social repercussions are affecting food systems at both the global and local levels Given the importance of the retail food environment in establishing and sustaining healthy diets interruptions to specific aspects of it such as the availability of fresh vegetables could have a negative influence on population health which has already been noted as a source of worry Despite the dominance of national and international supermarket chains warehouse clubs and supercenters in grocery retail vegetables are offered in a number of other food retail settings Fresh vegetable vendors are typically smaller and more communityoriented than other restaurant or retail food outlets and can include chain or independent grocery stores greengrocers storefront stands street carts and even makeshift platforms dedicated to the sale of fresh vegetables Smaller community fresh vegetable vendors who may conduct business on the sides of major streets or on storefronts have played an integral role in the food environment in large urban centers such as New York City NYC particularly in ethnic enclaves despite the fact that fresh produce does not have a significantly higher nutritional value and fresh produce can also be purchased at these larger food retailers Since the COVID19 pandemic began many fresh fruit and vegetable vendors notably street carts selling fresh vegetables in cities across the United States including New York City have been forced to close owing to a combination of falling demand and fear of catching COVID19 The importance of fresh vegetable vendors varies by neighborhood within cities Furthermore these fresh vegetable vendors attract visitors and interborough shoppers from a variety of cultural backgrounds not only Asian ones who are looking for things that are not available elsewhere in the city or for the same low prices These fresh vegetable vendors unlike larger wellestablished grocery store vendors may not have the financial infrastructure to sustain the shifts in supply and demand produced by the COVID19 epidemic consequently the danger of closure or modifications in services may be greater for these vendors In order to assess the impact of the COVID19 pandemic on services offered by fresh vegetable vendors surveillance data from both before and after the pandemic’s inception is required After a few days vegetable dealers began venturing out without explicit permission and were quickly harassed by police After a few weeks the government relaxed the limitations allowing vital traders to sell their wares due in large part to the advocacy of vendor organizations and activist networks However the cost of doing business has increased dramatically as vendors no longer have access to wholesale markets and suppliers and they must spend more on travel expenditures owing to cityimposed travel limitations Furthermore with the partial lockdown still in place the number of buyers has decreased as have earnings Perishable vegetables have a shorter shelf life in the summer heat thus vendors are unable to capitalize on whatever produce they do have Consider the situation of Delhi at the starting of COVID 19 The state has launched an INR 5000 crore stimulus package for over 50 lakh vendors realizing the serious consequences of their loss of livelihood The targeted relief for vendors is a credit facility that will provide all sellers with an initial working capital of INR 10000 but this will not be enough Instead of credit the government should consider changing it into a direct income benefit such as a cash grant to help people start earning money on a regular basis The vendors require income support in order to resume work and how will they repay the loan if they are unable to do so Vendor organizations must step forth in the face of the everchanging crises and lobby for vendors to be given the resources they need to continue their livelihoods Vendor organizations could use the following as part of their advocacy agenda Promotion of vendors’ livelihoods particularly those selling nonessential goods COVID19 has had a particularly painful impact on informal labourers who have spent all of their savings and wages trying to feed themselves during the prolonged lockdown Vendors must be permitted to restart peddling in order to survive and the government should take steps to reopen marketplaces and reintroduce vendors to the streetsMarket reopening with social distance and hygiene in mind Delhi features a variety of typically crowded markets including weekly markets for fresh food cooked meals and necessary household items and daily markets on the sides of highways These markets will need to resume considering the necessity for social separation and the government should issue recommendations in this regard In the future vending zones must be planned with social distancing in mind as well as adequate sanitary facilities running water washing stations and toilets For this the government should collaborate with Town Vending Committees TVCsProvide direct assistance that is not tied to existing registration requirements When the lockdown is lifted and vending starts vendors who have been at home for months will require direct income benefits in order to return to work While the government stimulus plan is a positive step it falls short in terms of assistance credit rather than direct cash transfer and eligibility only registered vendors are eligible which leaves out the majority of vendors in the country Furthermore government assistance and support must be divorced from the country’s strict registration requirements as only a few vendors have been registered in India Only about 13100 of Delhi’s 300000 street sellers have any type of employment identity If the state requires occupational identity for any type of monetary grant or livelihood assistance the government should accept registration with a workers’ organizationunion as a surrogate for governmentissued vending passesProviding flowing water and soapsanitizers to street sellers at their place of business The government should take steps to provide street vendors with running water and soapsanitizers at their place of business Additionally vendor organizations should collaborate with local food safety authorities to instruct vendors particularly those selling prepared foods on how to maintain hygiene while on the jobTaking measures to conduct a survey and register additional vendors for government assistance As previously stated the number of sellers with some sort of identity is a small percentage of the total number of vendors in Delhi The Town Vending Committees TVCs were expected to begin surveying and registering vendors before the crisis and ensuing lockout As we adjust to the new normal the survey and registration procedure should begin to guarantee that all vendors have access to social security benefits and financial assistance during this difficult time Finally some fresh vegetable sellers may have shuttered for a period of time early in the epidemic only to reopen recently Alternatively vendors may have launched soon after the inperson checks were completed but still within the JuneJuly 2020 endpoint timeframe This is a drawback of the method in order to offer the most reliable COVID19 pandemic monitoring data data must be collected in a short period of time Blackcoffer Insights 34 Priyanshu Kumar MDI Murshidabad \n",
      "['The', 'COVID19', 'pandemic', 'has', 'grown', 'into', 'one', 'of', 'the', 'most', 'major', 'and', 'socially', 'disruptive', 'health', 'crises', 'in', 'recent', 'memory', 'with', 'growing', 'worried', 'about', 'how', 'the', 'pandemic’s', 'catastrophic', 'economic', 'and', 'social', 'repercussions', 'are', 'affecting', 'food', 'systems', 'at', 'both', 'the', 'global', 'and', 'local', 'levels', 'Given', 'the', 'importance', 'of', 'the', 'retail', 'food', 'environment', 'in', 'establishing', 'and', 'sustaining', 'healthy', 'diets', 'interruptions', 'to', 'specific', 'aspects', 'of', 'it', 'such', 'as', 'the', 'availability', 'of', 'fresh', 'vegetables', 'could', 'have', 'a', 'negative', 'influence', 'on', 'population', 'health', 'which', 'has', 'already', 'been', 'noted', 'as', 'a', 'source', 'of', 'worry', 'Despite', 'the', 'dominance', 'of', 'national', 'and', 'international', 'supermarket', 'chains', 'warehouse', 'clubs', 'and', 'supercenters', 'in', 'grocery', 'retail', 'vegetables', 'are', 'offered', 'in', 'a', 'number', 'of', 'other', 'food', 'retail', 'settings', 'Fresh', 'vegetable', 'vendors', 'are', 'typically', 'smaller', 'and', 'more', 'communityoriented', 'than', 'other', 'restaurant', 'or', 'retail', 'food', 'outlets', 'and', 'can', 'include', 'chain', 'or', 'independent', 'grocery', 'stores', 'greengrocers', 'storefront', 'stands', 'street', 'carts', 'and', 'even', 'makeshift', 'platforms', 'dedicated', 'to', 'the', 'sale', 'of', 'fresh', 'vegetables', 'Smaller', 'community', 'fresh', 'vegetable', 'vendors', 'who', 'may', 'conduct', 'business', 'on', 'the', 'sides', 'of', 'major', 'streets', 'or', 'on', 'storefronts', 'have', 'played', 'an', 'integral', 'role', 'in', 'the', 'food', 'environment', 'in', 'large', 'urban', 'centers', 'such', 'as', 'New', 'York', 'City', 'NYC', 'particularly', 'in', 'ethnic', 'enclaves', 'despite', 'the', 'fact', 'that', 'fresh', 'produce', 'does', 'not', 'have', 'a', 'significantly', 'higher', 'nutritional', 'value', 'and', 'fresh', 'produce', 'can', 'also', 'be', 'purchased', 'at', 'these', 'larger', 'food', 'retailers', 'Since', 'the', 'COVID19', 'pandemic', 'began', 'many', 'fresh', 'fruit', 'and', 'vegetable', 'vendors', 'notably', 'street', 'carts', 'selling', 'fresh', 'vegetables', 'in', 'cities', 'across', 'the', 'United', 'States', 'including', 'New', 'York', 'City', 'have', 'been', 'forced', 'to', 'close', 'owing', 'to', 'a', 'combination', 'of', 'falling', 'demand', 'and', 'fear', 'of', 'catching', 'COVID19', 'The', 'importance', 'of', 'fresh', 'vegetable', 'vendors', 'varies', 'by', 'neighborhood', 'within', 'cities', 'Furthermore', 'these', 'fresh', 'vegetable', 'vendors', 'attract', 'visitors', 'and', 'interborough', 'shoppers', 'from', 'a', 'variety', 'of', 'cultural', 'backgrounds', 'not', 'only', 'Asian', 'ones', 'who', 'are', 'looking', 'for', 'things', 'that', 'are', 'not', 'available', 'elsewhere', 'in', 'the', 'city', 'or', 'for', 'the', 'same', 'low', 'prices', 'These', 'fresh', 'vegetable', 'vendors', 'unlike', 'larger', 'wellestablished', 'grocery', 'store', 'vendors', 'may', 'not', 'have', 'the', 'financial', 'infrastructure', 'to', 'sustain', 'the', 'shifts', 'in', 'supply', 'and', 'demand', 'produced', 'by', 'the', 'COVID19', 'epidemic', 'consequently', 'the', 'danger', 'of', 'closure', 'or', 'modifications', 'in', 'services', 'may', 'be', 'greater', 'for', 'these', 'vendors', 'In', 'order', 'to', 'assess', 'the', 'impact', 'of', 'the', 'COVID19', 'pandemic', 'on', 'services', 'offered', 'by', 'fresh', 'vegetable', 'vendors', 'surveillance', 'data', 'from', 'both', 'before', 'and', 'after', 'the', 'pandemic’s', 'inception', 'is', 'required', 'After', 'a', 'few', 'days', 'vegetable', 'dealers', 'began', 'venturing', 'out', 'without', 'explicit', 'permission', 'and', 'were', 'quickly', 'harassed', 'by', 'police', 'After', 'a', 'few', 'weeks', 'the', 'government', 'relaxed', 'the', 'limitations', 'allowing', 'vital', 'traders', 'to', 'sell', 'their', 'wares', 'due', 'in', 'large', 'part', 'to', 'the', 'advocacy', 'of', 'vendor', 'organizations', 'and', 'activist', 'networks', 'However', 'the', 'cost', 'of', 'doing', 'business', 'has', 'increased', 'dramatically', 'as', 'vendors', 'no', 'longer', 'have', 'access', 'to', 'wholesale', 'markets', 'and', 'suppliers', 'and', 'they', 'must', 'spend', 'more', 'on', 'travel', 'expenditures', 'owing', 'to', 'cityimposed', 'travel', 'limitations', 'Furthermore', 'with', 'the', 'partial', 'lockdown', 'still', 'in', 'place', 'the', 'number', 'of', 'buyers', 'has', 'decreased', 'as', 'have', 'earnings', 'Perishable', 'vegetables', 'have', 'a', 'shorter', 'shelf', 'life', 'in', 'the', 'summer', 'heat', 'thus', 'vendors', 'are', 'unable', 'to', 'capitalize', 'on', 'whatever', 'produce', 'they', 'do', 'have', 'Consider', 'the', 'situation', 'of', 'Delhi', 'at', 'the', 'starting', 'of', 'COVID', '19', 'The', 'state', 'has', 'launched', 'an', 'INR', '5000', 'crore', 'stimulus', 'package', 'for', 'over', '50', 'lakh', 'vendors', 'realizing', 'the', 'serious', 'consequences', 'of', 'their', 'loss', 'of', 'livelihood', 'The', 'targeted', 'relief', 'for', 'vendors', 'is', 'a', 'credit', 'facility', 'that', 'will', 'provide', 'all', 'sellers', 'with', 'an', 'initial', 'working', 'capital', 'of', 'INR', '10000', 'but', 'this', 'will', 'not', 'be', 'enough', 'Instead', 'of', 'credit', 'the', 'government', 'should', 'consider', 'changing', 'it', 'into', 'a', 'direct', 'income', 'benefit', 'such', 'as', 'a', 'cash', 'grant', 'to', 'help', 'people', 'start', 'earning', 'money', 'on', 'a', 'regular', 'basis', 'The', 'vendors', 'require', 'income', 'support', 'in', 'order', 'to', 'resume', 'work', 'and', 'how', 'will', 'they', 'repay', 'the', 'loan', 'if', 'they', 'are', 'unable', 'to', 'do', 'so', 'Vendor', 'organizations', 'must', 'step', 'forth', 'in', 'the', 'face', 'of', 'the', 'everchanging', 'crises', 'and', 'lobby', 'for', 'vendors', 'to', 'be', 'given', 'the', 'resources', 'they', 'need', 'to', 'continue', 'their', 'livelihoods', 'Vendor', 'organizations', 'could', 'use', 'the', 'following', 'as', 'part', 'of', 'their', 'advocacy', 'agenda', 'Promotion', 'of', 'vendors’', 'livelihoods', 'particularly', 'those', 'selling', 'nonessential', 'goods', 'COVID19', 'has', 'had', 'a', 'particularly', 'painful', 'impact', 'on', 'informal', 'labourers', 'who', 'have', 'spent', 'all', 'of', 'their', 'savings', 'and', 'wages', 'trying', 'to', 'feed', 'themselves', 'during', 'the', 'prolonged', 'lockdown', 'Vendors', 'must', 'be', 'permitted', 'to', 'restart', 'peddling', 'in', 'order', 'to', 'survive', 'and', 'the', 'government', 'should', 'take', 'steps', 'to', 'reopen', 'marketplaces', 'and', 'reintroduce', 'vendors', 'to', 'the', 'streetsMarket', 'reopening', 'with', 'social', 'distance', 'and', 'hygiene', 'in', 'mind', 'Delhi', 'features', 'a', 'variety', 'of', 'typically', 'crowded', 'markets', 'including', 'weekly', 'markets', 'for', 'fresh', 'food', 'cooked', 'meals', 'and', 'necessary', 'household', 'items', 'and', 'daily', 'markets', 'on', 'the', 'sides', 'of', 'highways', 'These', 'markets', 'will', 'need', 'to', 'resume', 'considering', 'the', 'necessity', 'for', 'social', 'separation', 'and', 'the', 'government', 'should', 'issue', 'recommendations', 'in', 'this', 'regard', 'In', 'the', 'future', 'vending', 'zones', 'must', 'be', 'planned', 'with', 'social', 'distancing', 'in', 'mind', 'as', 'well', 'as', 'adequate', 'sanitary', 'facilities', 'running', 'water', 'washing', 'stations', 'and', 'toilets', 'For', 'this', 'the', 'government', 'should', 'collaborate', 'with', 'Town', 'Vending', 'Committees', 'TVCsProvide', 'direct', 'assistance', 'that', 'is', 'not', 'tied', 'to', 'existing', 'registration', 'requirements', 'When', 'the', 'lockdown', 'is', 'lifted', 'and', 'vending', 'starts', 'vendors', 'who', 'have', 'been', 'at', 'home', 'for', 'months', 'will', 'require', 'direct', 'income', 'benefits', 'in', 'order', 'to', 'return', 'to', 'work', 'While', 'the', 'government', 'stimulus', 'plan', 'is', 'a', 'positive', 'step', 'it', 'falls', 'short', 'in', 'terms', 'of', 'assistance', 'credit', 'rather', 'than', 'direct', 'cash', 'transfer', 'and', 'eligibility', 'only', 'registered', 'vendors', 'are', 'eligible', 'which', 'leaves', 'out', 'the', 'majority', 'of', 'vendors', 'in', 'the', 'country', 'Furthermore', 'government', 'assistance', 'and', 'support', 'must', 'be', 'divorced', 'from', 'the', 'country’s', 'strict', 'registration', 'requirements', 'as', 'only', 'a', 'few', 'vendors', 'have', 'been', 'registered', 'in', 'India', 'Only', 'about', '13100', 'of', 'Delhi’s', '300000', 'street', 'sellers', 'have', 'any', 'type', 'of', 'employment', 'identity', 'If', 'the', 'state', 'requires', 'occupational', 'identity', 'for', 'any', 'type', 'of', 'monetary', 'grant', 'or', 'livelihood', 'assistance', 'the', 'government', 'should', 'accept', 'registration', 'with', 'a', 'workers’', 'organizationunion', 'as', 'a', 'surrogate', 'for', 'governmentissued', 'vending', 'passesProviding', 'flowing', 'water', 'and', 'soapsanitizers', 'to', 'street', 'sellers', 'at', 'their', 'place', 'of', 'business', 'The', 'government', 'should', 'take', 'steps', 'to', 'provide', 'street', 'vendors', 'with', 'running', 'water', 'and', 'soapsanitizers', 'at', 'their', 'place', 'of', 'business', 'Additionally', 'vendor', 'organizations', 'should', 'collaborate', 'with', 'local', 'food', 'safety', 'authorities', 'to', 'instruct', 'vendors', 'particularly', 'those', 'selling', 'prepared', 'foods', 'on', 'how', 'to', 'maintain', 'hygiene', 'while', 'on', 'the', 'jobTaking', 'measures', 'to', 'conduct', 'a', 'survey', 'and', 'register', 'additional', 'vendors', 'for', 'government', 'assistance', 'As', 'previously', 'stated', 'the', 'number', 'of', 'sellers', 'with', 'some', 'sort', 'of', 'identity', 'is', 'a', 'small', 'percentage', 'of', 'the', 'total', 'number', 'of', 'vendors', 'in', 'Delhi', 'The', 'Town', 'Vending', 'Committees', 'TVCs', 'were', 'expected', 'to', 'begin', 'surveying', 'and', 'registering', 'vendors', 'before', 'the', 'crisis', 'and', 'ensuing', 'lockout', 'As', 'we', 'adjust', 'to', 'the', 'new', 'normal', 'the', 'survey', 'and', 'registration', 'procedure', 'should', 'begin', 'to', 'guarantee', 'that', 'all', 'vendors', 'have', 'access', 'to', 'social', 'security', 'benefits', 'and', 'financial', 'assistance', 'during', 'this', 'difficult', 'time', 'Finally', 'some', 'fresh', 'vegetable', 'sellers', 'may', 'have', 'shuttered', 'for', 'a', 'period', 'of', 'time', 'early', 'in', 'the', 'epidemic', 'only', 'to', 'reopen', 'recently', 'Alternatively', 'vendors', 'may', 'have', 'launched', 'soon', 'after', 'the', 'inperson', 'checks', 'were', 'completed', 'but', 'still', 'within', 'the', 'JuneJuly', '2020', 'endpoint', 'timeframe', 'This', 'is', 'a', 'drawback', 'of', 'the', 'method', 'in', 'order', 'to', 'offer', 'the', 'most', 'reliable', 'COVID19', 'pandemic', 'monitoring', 'data', 'data', 'must', 'be', 'collected', 'in', 'a', 'short', 'period', 'of', 'time', 'Blackcoffer', 'Insights', '34', 'Priyanshu', 'Kumar', 'MDI', 'Murshidabad']\n"
     ]
    }
   ],
   "source": [
    "content=soup.findAll(attrs={'class':'td-post-content'})\n",
    "content=content[0].text.replace('\\n',\" \")\n",
    "print(content)\n",
    "#Punctuation\n",
    "content = content.translate(str.maketrans('', '', string.punctuation)) \n",
    "print(content)\n",
    "text = content.split()\n",
    "print(text)\n"
   ]
  },
  {
   "cell_type": "code",
   "execution_count": 8,
   "id": "7c0f9d8d",
   "metadata": {},
   "outputs": [
    {
     "data": {
      "text/plain": [
       "1184"
      ]
     },
     "execution_count": 8,
     "metadata": {},
     "output_type": "execute_result"
    }
   ],
   "source": [
    "len(text)"
   ]
  },
  {
   "cell_type": "code",
   "execution_count": 9,
   "id": "6708cccb",
   "metadata": {},
   "outputs": [
    {
     "name": "stdout",
     "output_type": "stream",
     "text": [
      "38\n"
     ]
    }
   ],
   "source": [
    "#Positive Score \n",
    "with open(r\"C:\\Users\\Om Bhandwalkar\\Desktop\\pos\\positive-words.txt\") as pos:\n",
    "    poswords = pos.read().split(\"\\n\")  \n",
    "    poswords = poswords[5:]\n",
    "pos_count = \" \".join ([w for w in text if w in poswords])\n",
    "pos_count=pos_count.split(\" \")\n",
    "Positive_score=len(pos_count)\n",
    "print(Positive_score)"
   ]
  },
  {
   "cell_type": "code",
   "execution_count": 10,
   "id": "94b5eb78",
   "metadata": {},
   "outputs": [
    {
     "name": "stdout",
     "output_type": "stream",
     "text": [
      "25\n"
     ]
    }
   ],
   "source": [
    "#Negative Score\n",
    "with open(r\"C:\\Users\\Om Bhandwalkar\\Desktop\\pos\\negative-words.txt\",encoding =\"ISO-8859-1\") as neg:\n",
    "    negwords = neg.read().split(\"\\n\")\n",
    "    \n",
    "negwords = negwords[36:]\n",
    "neg_count = \" \".join ([w for w in text if w in negwords])\n",
    "neg_count=neg_count.split(\" \")\n",
    "Negative_score=len(neg_count)\n",
    "print(Negative_score)"
   ]
  },
  {
   "cell_type": "code",
   "execution_count": 11,
   "id": "acba67e2",
   "metadata": {},
   "outputs": [
    {
     "data": {
      "text/html": [
       "<div>\n",
       "<style scoped>\n",
       "    .dataframe tbody tr th:only-of-type {\n",
       "        vertical-align: middle;\n",
       "    }\n",
       "\n",
       "    .dataframe tbody tr th {\n",
       "        vertical-align: top;\n",
       "    }\n",
       "\n",
       "    .dataframe thead th {\n",
       "        text-align: right;\n",
       "    }\n",
       "</style>\n",
       "<table border=\"1\" class=\"dataframe\">\n",
       "  <thead>\n",
       "    <tr style=\"text-align: right;\">\n",
       "      <th></th>\n",
       "      <th>url</th>\n",
       "      <th>title</th>\n",
       "      <th>content</th>\n",
       "      <th>filter_content</th>\n",
       "      <th>Positive_Score</th>\n",
       "      <th>Negative_Score</th>\n",
       "      <th>polarity</th>\n",
       "      <th>subjectivity</th>\n",
       "    </tr>\n",
       "  </thead>\n",
       "  <tbody>\n",
       "    <tr>\n",
       "      <th>0</th>\n",
       "      <td>https://insights.blackcoffer.com/impacts-of-co...</td>\n",
       "      <td>Impacts of COVID 19 on Vegetable Vendors</td>\n",
       "      <td>The COVID19 pandemic has grown into one of th...</td>\n",
       "      <td>The COVID19 pandemic has grown into one of the...</td>\n",
       "      <td>38</td>\n",
       "      <td>25</td>\n",
       "      <td>0.063648</td>\n",
       "      <td>0.397611</td>\n",
       "    </tr>\n",
       "  </tbody>\n",
       "</table>\n",
       "</div>"
      ],
      "text/plain": [
       "                                                 url  \\\n",
       "0  https://insights.blackcoffer.com/impacts-of-co...   \n",
       "\n",
       "                                      title  \\\n",
       "0  Impacts of COVID 19 on Vegetable Vendors   \n",
       "\n",
       "                                             content  \\\n",
       "0   The COVID19 pandemic has grown into one of th...   \n",
       "\n",
       "                                      filter_content  Positive_Score  \\\n",
       "0  The COVID19 pandemic has grown into one of the...              38   \n",
       "\n",
       "   Negative_Score  polarity  subjectivity  \n",
       "0              25  0.063648      0.397611  "
      ]
     },
     "execution_count": 11,
     "metadata": {},
     "output_type": "execute_result"
    }
   ],
   "source": [
    "filter_content = ' '.join(text)\n",
    "data=[[url,title,content,filter_content,Positive_score,Negative_score]]\n",
    "data=pd.DataFrame(data,columns=[\"url\",\"title\",\"content\",\"filter_content\",\"Positive_Score\",\"Negative_Score\"])\n",
    "from textblob import TextBlob\n",
    "# Get The Subjectivity\n",
    "def sentiment_analysis(data):\n",
    "    sentiment = TextBlob(data[\"content\"]).sentiment\n",
    "    return pd.Series([sentiment.polarity,sentiment.subjectivity ])\n",
    "\n",
    "# Adding Subjectivity & Polarity\n",
    "data[[\"polarity\", \"subjectivity\"]] = data.apply(sentiment_analysis, axis=1)\n",
    "\n",
    "data"
   ]
  },
  {
   "cell_type": "code",
   "execution_count": 12,
   "id": "0a006651",
   "metadata": {},
   "outputs": [
    {
     "name": "stdout",
     "output_type": "stream",
     "text": [
      "Word average = 6394.0\n",
      "FOG INDEX =  478.3\n",
      "Average no of words per sentence\n",
      "1184.0\n",
      "Complex Words 2254\n"
     ]
    }
   ],
   "source": [
    "#AVG SENTENCE LENGTH\n",
    "AVG_SENTENCE_LENGTH = len(content.replace(' ',''))/len(re.split(r'[?!.]', content))\n",
    "print('Word average =', AVG_SENTENCE_LENGTH)\n",
    "import textstat\n",
    "#Fog index \n",
    "FOG_INDEX=(textstat.gunning_fog(content))\n",
    "print(\"FOG INDEX = \",FOG_INDEX)\n",
    "#Average No of Words Per Sentence \n",
    "AVG_NUMBER_OF_WORDS_PER_SENTENCE = [len(l.split()) for l in re.split(r'[?!.]', content) if l.strip()]\n",
    "print(\"Average no of words per sentence\")\n",
    "AVG_NUMBER_OF_WORDS_PER_SENTENCE=print(sum(AVG_NUMBER_OF_WORDS_PER_SENTENCE)/len(AVG_NUMBER_OF_WORDS_PER_SENTENCE))\n",
    "#Complex words\n",
    "def syllable_count(word):\n",
    "    count = 0\n",
    "    vowels = \"AEIOUYaeiouy\"\n",
    "    if word[0] in vowels:\n",
    "        count += 1\n",
    "    for index in range(1, len(word)): \n",
    "        if word[index] in vowels and word[index - 1] not in vowels:\n",
    "            count += 1\n",
    "            if word.endswith(\"es\"or \"ed\"):\n",
    "                count -= 1\n",
    "    if count == 0:\n",
    "        count += 1\n",
    "    return count\n",
    "\n",
    "\n",
    "\n",
    "COMPLEX_WORDS=syllable_count(content)\n",
    "print(\"Complex Words\",COMPLEX_WORDS)\n"
   ]
  },
  {
   "cell_type": "code",
   "execution_count": 13,
   "id": "bed3b861",
   "metadata": {},
   "outputs": [
    {
     "name": "stdout",
     "output_type": "stream",
     "text": [
      "Word Count 7579\n",
      "Percentage of Complex Words 29.740071249505213\n",
      "Average Word per Length 5.400337837837838\n",
      "The AVG number of syllables in the word is: \n",
      "2.105574324324324\n"
     ]
    }
   ],
   "source": [
    "#Word Count\n",
    "Word_Count=len(content)\n",
    "print(\"Word Count\",Word_Count)\n",
    "#Percentage Complex Words\n",
    "pcw=(COMPLEX_WORDS/Word_Count)*100\n",
    "print(\"Percentage of Complex Words\",pcw)\n",
    "#Average Word Length\n",
    "Average_Word_Length=len(content.replace(' ',''))/len(content.split())\n",
    "print(\"Average Word per Length\",Average_Word_Length)\n",
    "#Syllable Count Per Word\n",
    "word=content.replace(' ','')\n",
    "syllable_count=0\n",
    "for w in word:\n",
    "      if(w=='a' or w=='e' or w=='i' or w=='o' or w=='y' or w=='u' or w=='A' or w=='E' or w=='I' or w=='O' or w=='U' or w=='Y'):\n",
    "            syllable_count=syllable_count+1\n",
    "print(\"The AVG number of syllables in the word is: \")\n",
    "print(syllable_count/len(content.split()))"
   ]
  },
  {
   "cell_type": "code",
   "execution_count": 1,
   "id": "fcd53189",
   "metadata": {},
   "outputs": [
    {
     "name": "stdout",
     "output_type": "stream",
     "text": [
      "38\n",
      "25\n",
      "Word average = 6394.0\n",
      "FOG INDEX =  478.3\n",
      "Average no of words per sentence\n",
      "1184.0\n",
      "Complex Words 2254\n",
      "Word Count 7579\n",
      "Percentage of Complex Words 29.740071249505213\n",
      "Average Word per Length 5.400337837837838\n",
      "The AVG number of syllables in the word is: \n",
      "2.105574324324324\n"
     ]
    },
    {
     "data": {
      "text/html": [
       "<div>\n",
       "<style scoped>\n",
       "    .dataframe tbody tr th:only-of-type {\n",
       "        vertical-align: middle;\n",
       "    }\n",
       "\n",
       "    .dataframe tbody tr th {\n",
       "        vertical-align: top;\n",
       "    }\n",
       "\n",
       "    .dataframe thead th {\n",
       "        text-align: right;\n",
       "    }\n",
       "</style>\n",
       "<table border=\"1\" class=\"dataframe\">\n",
       "  <thead>\n",
       "    <tr style=\"text-align: right;\">\n",
       "      <th></th>\n",
       "      <th>url</th>\n",
       "      <th>title</th>\n",
       "      <th>content</th>\n",
       "      <th>filter_content</th>\n",
       "      <th>Positive_Score</th>\n",
       "      <th>Negative_Score</th>\n",
       "      <th>Avg_Sentence_Length</th>\n",
       "      <th>Percentage_Complex_Word</th>\n",
       "      <th>Fog_Index</th>\n",
       "      <th>AVG_NUMBER_OF_WORDS_PER_SENTENCE</th>\n",
       "      <th>COMPLEX_WORDS</th>\n",
       "      <th>Word_Count</th>\n",
       "      <th>syllable</th>\n",
       "      <th>Average_Word_Length</th>\n",
       "      <th>polarity</th>\n",
       "      <th>subjectivity</th>\n",
       "    </tr>\n",
       "  </thead>\n",
       "  <tbody>\n",
       "    <tr>\n",
       "      <th>0</th>\n",
       "      <td>https://insights.blackcoffer.com/impacts-of-co...</td>\n",
       "      <td>Impacts of COVID 19 on Vegetable Vendors</td>\n",
       "      <td>The COVID19 pandemic has grown into one of th...</td>\n",
       "      <td>The COVID19 pandemic has grown into one of the...</td>\n",
       "      <td>38</td>\n",
       "      <td>25</td>\n",
       "      <td>6394.0</td>\n",
       "      <td>29.740071</td>\n",
       "      <td>478.3</td>\n",
       "      <td>1184.0</td>\n",
       "      <td>2254</td>\n",
       "      <td>7579</td>\n",
       "      <td>2.105574</td>\n",
       "      <td>5.400338</td>\n",
       "      <td>0.063648</td>\n",
       "      <td>0.397611</td>\n",
       "    </tr>\n",
       "  </tbody>\n",
       "</table>\n",
       "</div>"
      ],
      "text/plain": [
       "                                                 url  \\\n",
       "0  https://insights.blackcoffer.com/impacts-of-co...   \n",
       "\n",
       "                                      title  \\\n",
       "0  Impacts of COVID 19 on Vegetable Vendors   \n",
       "\n",
       "                                             content  \\\n",
       "0   The COVID19 pandemic has grown into one of th...   \n",
       "\n",
       "                                      filter_content  Positive_Score  \\\n",
       "0  The COVID19 pandemic has grown into one of the...              38   \n",
       "\n",
       "   Negative_Score  Avg_Sentence_Length  Percentage_Complex_Word  Fog_Index  \\\n",
       "0              25               6394.0                29.740071      478.3   \n",
       "\n",
       "    AVG_NUMBER_OF_WORDS_PER_SENTENCE  COMPLEX_WORDS  Word_Count  syllable  \\\n",
       "0                             1184.0           2254        7579  2.105574   \n",
       "\n",
       "   Average_Word_Length  polarity  subjectivity  \n",
       "0             5.400338  0.063648      0.397611  "
      ]
     },
     "execution_count": 1,
     "metadata": {},
     "output_type": "execute_result"
    }
   ],
   "source": [
    "import requests\n",
    "import pandas as pd \n",
    "from bs4 import BeautifulSoup\n",
    "import string\n",
    "import spacy\n",
    "import re\n",
    "url = \"\"\"https://insights.blackcoffer.com/impacts-of-covid-19-on-vegetable-vendors/\"\"\"\n",
    "headers = {\"User-Agent\": \"Mozilla/5.0 (X11; Linux x86_64; rv:60.0) Gecko/20100101 Firefox/60.0\"}\n",
    "page = requests.get(url, headers=headers)\n",
    "soup = BeautifulSoup(page.content, 'html.parser')\n",
    "soup=BeautifulSoup(page.content, 'html.parser')\n",
    "title=soup.find('h1',class_=\"entry-title\")\n",
    "title=title.text.replace('\\n',\" \")\n",
    "# title\n",
    "\n",
    "content=soup.findAll(attrs={'class':'td-post-content'})\n",
    "content=content[0].text.replace('\\n',\" \")\n",
    "# print(content)\n",
    "#Punctuation\n",
    "content = content.translate(str.maketrans('', '', string.punctuation)) \n",
    "# print(content)\n",
    "text = content.split()\n",
    "# print(text)\n",
    "len(text)\n",
    "#Positive Score \n",
    "with open(r\"C:\\Users\\Om Bhandwalkar\\Desktop\\pos\\positive-words.txt\") as pos:\n",
    "    poswords = pos.read().split(\"\\n\")  \n",
    "    poswords = poswords[5:]\n",
    "pos_count = \" \".join ([w for w in text if w in poswords])\n",
    "pos_count=pos_count.split(\" \")\n",
    "Positive_score=len(pos_count)\n",
    "print(Positive_score)\n",
    "\n",
    "#Negative Score\n",
    "with open(r\"C:\\Users\\Om Bhandwalkar\\Desktop\\pos\\negative-words.txt\",encoding =\"ISO-8859-1\") as neg:\n",
    "    negwords = neg.read().split(\"\\n\")\n",
    "    \n",
    "negwords = negwords[36:]\n",
    "neg_count = \" \".join ([w for w in text if w in negwords])\n",
    "neg_count=neg_count.split(\" \")\n",
    "Negative_score=len(neg_count)\n",
    "print(Negative_score)\n",
    "\n",
    "\n",
    "filter_content = ' '.join(text)\n",
    "data=[[url,title,content,filter_content,Positive_score,Negative_score]]\n",
    "data=pd.DataFrame(data,columns=[\"url\",\"title\",\"content\",\"filter_content\",\"Positive_Score\",\"Negative_Score\"])\n",
    "from textblob import TextBlob\n",
    "# Get The Subjectivity\n",
    "def sentiment_analysis(data):\n",
    "    sentiment = TextBlob(data[\"content\"]).sentiment\n",
    "    return pd.Series([sentiment.polarity,sentiment.subjectivity ])\n",
    "data[[\"polarity\", \"subjectivity\"]] = data.apply(sentiment_analysis, axis=1)\n",
    "data\n",
    "#AVG SENTENCE LENGTH\n",
    "AVG_SENTENCE_LENGTH = len(content.replace(' ',''))/len(re.split(r'[?!.]', content))\n",
    "print('Word average =', AVG_SENTENCE_LENGTH)\n",
    "import textstat\n",
    "#Fog index \n",
    "FOG_INDEX=(textstat.gunning_fog(content))\n",
    "print(\"FOG INDEX = \",FOG_INDEX)\n",
    "#Average No of Words Per Sentence \n",
    "AVG_NUMBER_OF_WORDS_PER_SENTENCE = [len(l.split()) for l in re.split(r'[?!.]', content) if l.strip()]\n",
    "print(\"Average no of words per sentence\")\n",
    "AVG_NUMBER_OF_WORDS_PER_SENTENCE=(sum(AVG_NUMBER_OF_WORDS_PER_SENTENCE)/len(AVG_NUMBER_OF_WORDS_PER_SENTENCE))\n",
    "print(AVG_NUMBER_OF_WORDS_PER_SENTENCE)\n",
    "#Complex words\n",
    "def syllable_count(word):\n",
    "    count = 0\n",
    "    vowels = \"AEIOUYaeiouy\"\n",
    "    if word[0] in vowels:\n",
    "        count += 1\n",
    "    for index in range(1, len(word)): \n",
    "        if word[index] in vowels and word[index - 1] not in vowels:\n",
    "            count += 1\n",
    "            if word.endswith(\"es\"or \"ed\"):\n",
    "                count -= 1\n",
    "    if count == 0:\n",
    "        count += 1\n",
    "    return count\n",
    "\n",
    "\n",
    "\n",
    "COMPLEX_WORDS=syllable_count(content)\n",
    "print(\"Complex Words\",COMPLEX_WORDS)\n",
    "#Word Count\n",
    "Word_Count=len(content)\n",
    "print(\"Word Count\",Word_Count)\n",
    "#Percentage Complex Words\n",
    "pcw=(COMPLEX_WORDS/Word_Count)*100\n",
    "print(\"Percentage of Complex Words\",pcw)\n",
    "#Average Word Length\n",
    "Average_Word_Length=len(content.replace(' ',''))/len(content.split())\n",
    "print(\"Average Word per Length\",Average_Word_Length)\n",
    "#Syllable Count Per Word\n",
    "word=content.replace(' ','')\n",
    "syllable_count=0\n",
    "for w in word:\n",
    "      if(w=='a' or w=='e' or w=='i' or w=='o' or w=='y' or w=='u' or w=='A' or w=='E' or w=='I' or w=='O' or w=='U' or w=='Y'):\n",
    "            syllable_count=syllable_count+1\n",
    "print(\"The AVG number of syllables in the word is: \")\n",
    "syllable = (syllable_count/len(content.split()))\n",
    "print(syllable)\n",
    "\n",
    "data = [[url,title,content,filter_content,Positive_score,Negative_score,AVG_SENTENCE_LENGTH,pcw,FOG_INDEX,\n",
    "         AVG_NUMBER_OF_WORDS_PER_SENTENCE,COMPLEX_WORDS,Word_Count,syllable,Average_Word_Length]]\n",
    "data=pd.DataFrame(data,columns=[\"url\",\"title\",\"content\",\"filter_content\",\"Positive_Score\",\"Negative_Score\",\"Avg_Sentence_Length\"\n",
    "                               ,\"Percentage_Complex_Word\",\"Fog_Index\",\" AVG_NUMBER_OF_WORDS_PER_SENTENCE\",\"COMPLEX_WORDS\",\n",
    "                               \"Word_Count\",\"syllable\",\"Average_Word_Length\"])\n",
    "from textblob import TextBlob\n",
    "# Get The Subjectivity\n",
    "def sentiment_analysis(data):\n",
    "    sentiment = TextBlob(data[\"content\"]).sentiment\n",
    "    return pd.Series([sentiment.polarity,sentiment.subjectivity ])\n",
    "data[[\"polarity\", \"subjectivity\"]] = data.apply(sentiment_analysis, axis=1)\n",
    "data"
   ]
  },
  {
   "cell_type": "code",
   "execution_count": 2,
   "id": "14c4e833",
   "metadata": {},
   "outputs": [],
   "source": [
    "data.to_csv(r'C:\\Users\\Om Bhandwalkar\\Desktop\\BlackCoffer Assignment\\Output\\url_86.csv')"
   ]
  },
  {
   "cell_type": "code",
   "execution_count": null,
   "id": "a518f9dd",
   "metadata": {},
   "outputs": [],
   "source": []
  }
 ],
 "metadata": {
  "kernelspec": {
   "display_name": "Python 3 (ipykernel)",
   "language": "python",
   "name": "python3"
  },
  "language_info": {
   "codemirror_mode": {
    "name": "ipython",
    "version": 3
   },
   "file_extension": ".py",
   "mimetype": "text/x-python",
   "name": "python",
   "nbconvert_exporter": "python",
   "pygments_lexer": "ipython3",
   "version": "3.9.12"
  }
 },
 "nbformat": 4,
 "nbformat_minor": 5
}
