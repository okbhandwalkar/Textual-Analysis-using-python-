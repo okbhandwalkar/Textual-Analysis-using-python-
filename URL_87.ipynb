{
 "cells": [
  {
   "cell_type": "code",
   "execution_count": 2,
   "id": "60ef6d3a",
   "metadata": {},
   "outputs": [
    {
     "data": {
      "text/plain": [
       "'Impact of COVID-19 pandemic on Tourism & Aviation industries'"
      ]
     },
     "execution_count": 2,
     "metadata": {},
     "output_type": "execute_result"
    }
   ],
   "source": [
    "import requests\n",
    "import pandas as pd \n",
    "from bs4 import BeautifulSoup\n",
    "import string\n",
    "import spacy\n",
    "import re\n",
    "url = \"\"\"https://insights.blackcoffer.com/impact-of-covid-19-pandemic-on-tourism-aviation-industries/\"\"\"\n",
    "headers = {\"User-Agent\": \"Mozilla/5.0 (X11; Linux x86_64; rv:60.0) Gecko/20100101 Firefox/60.0\"}\n",
    "page = requests.get(url, headers=headers)\n",
    "soup = BeautifulSoup(page.content, 'html.parser')\n",
    "soup=BeautifulSoup(page.content, 'html.parser')\n",
    "title=soup.find('h1',class_=\"entry-title\")\n",
    "title=title.text.replace('\\n',\" \")\n",
    "title\n"
   ]
  },
  {
   "cell_type": "code",
   "execution_count": 3,
   "id": "4a20adec",
   "metadata": {},
   "outputs": [
    {
     "name": "stdout",
     "output_type": "stream",
     "text": [
      " As the Coronavirus pandemic unfolds, most industries face problems they had never imagined or prepared for. The Aviation and Tourism industries face the highest stress as Coronavirus spreads because not only are they a (usually) a leisure spending but also the nature of the disease directly conflicts with the industries’ innate business models. In this article, we will look at the impact of COVID-19 pandemic on the Tourism and Aviation industries both from the demand side and the supply side. The Aviation and Tourism industries has two major customers: tourists and business travellers. Let us base this essay in the India and see what the reaction of the customer segments is expected to be like. Almost all tourists will avoid vacationing for the foreseeable future because of: Financial hardship: an exceptionally large part of the world’s working population has been affected financially because of the pandemic. Unemployment rates are soaring and the ones who do still have a job are facing pay-cuts, furloughs and deferment of salaries.Risk of contraction: because the disease spreads via social contact, it will only be safe to vacation if the destination is regularly sanitized and is not crowded. Inherently, tourist destinations are not compliant with these regulations and even if the industry makes a change to being clean and introducing social distancing measures, convincing risk averse tourists of to travel to these vacation spots will be difficult.Expansion of alternatives ways to relax: as most people adapt to work-from-home environments, the burnout rate is declining. People are more relaxed in their own homes and very few people are eagerly looking for a getaway. Combined with this deterrent is the rise of alternative ways to relax. More and more people are going out for walks, doing yoga and finding new hobbies. Due to this increase for pursuit for happiness at home, it might be likely that tourists will avoid traveling because they don’t feel the urge to break-free and move away for a holiday. Now, let us look at different types of holiday revellers. Tourists can be foreigners or domestic tourists. According to Business Insider “In 2019, almost 10 million foreign tourists visited India — spending over ₹1,800 billion during January to November period.”. However, because of the pandemic, almost all this business has been lost. Due to the reasons stated above most foreigners will not prefer to travel. Those who do dare to venture out, perhaps wooed by discounted deals to places which would have otherwise been out of their budgets, will possibly be warded off by the one of the following factors: Poor quality of health care in India: in the off chance that a tourist contracts COVID-19, they will probably be accustomed to a better healthcare system than the one India provides. Being a developing country India will find it hard to convince foreign tourists that our healthcare systems are up to the mark of their home countries.Densely populated regions around tourist destinations: because most tourist destinations support a neighbouring economy, the areas are often densely populated, which leads to a higher risk of transmission of COVID-19 and the foreign tourists are cognizant of this fact. Moving our focus to domestic tourists, we subdivide our population according to income levels: Below Poverty Line: these people don’t travelLower Income Families: these people majorly only travel to religious places or to visit family. Thus, they don’t contribute to the aviation industry at all and generate very little revenue for the tourism industry as they prefer to stay in cheap lodges or at a relative’s place.Middle Income Families: they travel once in a year or two and tend to avoid airplanes. Revenue in the tourism industry is also limited from this subsection.Upper Middle Income Families: they vacation regularly, often flying to near-by holiday spots. This section of our economy is severely hit by the Coronavirus’ financial hardships. People have lost jobs and almost everyone has low liquidity. Being risk averse, these people will probably save money and avoid spending on vacations for some time. The loss of volumes from this sector will affect the Aviation and Tourism industries severely.High Income Families: this sector is relatively insulated from the financial hardships caused by Coronavirus and is likely to spend on holidays if they are assured of the sanitization and social distancing. In order to attract well paying customers, the Aviation and Tourism industries will have to spend a considerable amount of money to become sanitation compliant which will push profit margins even lower. Most Aviation and Tourism activities made money not on individual margins but on collective volumes, thus, they are inherently incompatible with the concept of social distancing. Because of COVID-19 pandemic, businesses have realized that more and more meetings can be handled over video calls, thus, the movement of business personnel will be restricted. There will still be some representatives who will fly out to conduct business, but the industry can expect a permanent drop in revenue from this sector. Moving over to the supply side, the Aviation and Tourism industries face strong disruptions in their supply chain. Because the industry is a leisure expense, manufacturing of many supporting equipment like the adventure sports gears and even parts of planes themselves has stopped. Because of the drop in demand, it is going to be tough to get the supply chain back up again. Furthermore, workers are afraid to show up to their jobs because of the high risk of contracting the virus due to exposure to multiple customers from different geographies. Let us now see some examples of how the industry has done through March and April. Airbnbs (in America):  The bookings vanished in mid-March. Property owners had bought or leased real estate to list on the app were severely affected. The sharing economy, like Uber, Lyft and DoorDash had taken a hit but Airbnb was worse off because their expenses include cleaning services, interior design (one-time spend), and property maintenance which are fixed costs. Thus, because of the pandemic the revenue was gone but the costs exist. They have people who depend on the owner’s rental income which made the problem worse. Hosts usually decide cancellation policy, but under extreme circumstances, like this one, the company decided to override all existing policies (many of whom weren’t strict) and gave full refund to the guests. The company got $2 billion loan and has helped out the owners, financially by paying 25% for cancelled bookings capping at 5k/host. They have helped some hosts by getting them eligible for small business loans and avoid eviction. Thankfully, there are too few properties to cause a housing crisis, but breakdown could cause strain on lenders and undermine property values (all want to sell to avoid foreclosure or defaulting on loans). AirDNA states that the listing split-up for Airbnb is: 33% list single property, 33% owners list 2-24 properties, 33% hosts have 25+ properties. Some state governments in America have banned short-term rentals. This hurt the Airbnb owners because people looking to quarantine outside their homes or near relatives could’ve generated revenues. So, what are hosts doing now? Many are discounting units and looking for long-term tenants (12 months). Many are planning to apply for a small-business loan, seek forbearance from banks, find long-term tenants independently of Airbnb and sell property. Reluctance of workers to comeback to work (America): According to the Wall Street Journal, roughly half of all US workers stand to earn more from the Coronavirus rather than their work pay cheques. However, it must be noted that some have not gotten their money due to bureaucratical issues. This complicates reopening because workers don’t want to come back and expose themselves to the virus and earn less. But businesses want workers to come back so that their small business loans can be forgiven, and business can reopen. However, money in the consumer’s pockets means the economy expected to rebound quickly when businesses open. About 40 million Americans are now on unemployment benefits, majorly from restaurant, hospitality, and retail industries. Congress chose a flat amount of relief because it was really time-consuming for payments to be calibrated to each worker’s lost wages. Their $600 federal payment corresponds to $15/hours wage, but 21 states follow $7.25/hours. Most workers don’t want to sit at home and are anxious to get back to work, but right now staying at home is the smartest financial decision for their families. Workers should be ineligible for unemployment benefits if a job is made available to them. But owners are reluctant to report workers to authorities and sever relationships with employees they may need more later in the year when tourism demand is expected to pick up. Without income support, low-wage workers would likely seek out other jobs, including side hustles and gig work, which could expose them and their households to the virus. Thus, according to the government, it was important to give such a large stimulus to the economy. Coronavirus on planes: Studies of SARs suggested that people sitting close to infectious persons were at large risk. Combined with that, in long journeys, passengers may take off masks. Thus, the risks of transmission are large and airlines need to focus on figuring out how to prevent transmission in planes. Currently, the airlines plan on using self-cleaning material, long-lasting disinfectant, touchless lavatories, UV light as a disinfectant, antimicrobial coating for frequently touched surfaces, and cleaning between flights. However, even after these efforts, only 12% of people are flying (compared to last year, same time) as of 27th May 2020. Aviation and Tourism industries have the curse of being a luxury expense and thus, as the Coronavirus pandemic spread, the entire industry jolted to a halt. They are one of the hardest-hit sectors and have to adapt to a new normal wherein the revenue levels are unlikely to match to pre-COVID levels and margins have also reduced. However, in with a bleak future, this industry is here to stay because people have to travel, and eventually they will vacation as well. Coronavirus has become a “survival of the fittest” test for this industry and the stakeholders will come out of this disaster with strong business processes. Blackcoffer Insights 18: Ishita Srivastava, BITS Pilani \n",
      " As the Coronavirus pandemic unfolds most industries face problems they had never imagined or prepared for The Aviation and Tourism industries face the highest stress as Coronavirus spreads because not only are they a usually a leisure spending but also the nature of the disease directly conflicts with the industries’ innate business models In this article we will look at the impact of COVID19 pandemic on the Tourism and Aviation industries both from the demand side and the supply side The Aviation and Tourism industries has two major customers tourists and business travellers Let us base this essay in the India and see what the reaction of the customer segments is expected to be like Almost all tourists will avoid vacationing for the foreseeable future because of Financial hardship an exceptionally large part of the world’s working population has been affected financially because of the pandemic Unemployment rates are soaring and the ones who do still have a job are facing paycuts furloughs and deferment of salariesRisk of contraction because the disease spreads via social contact it will only be safe to vacation if the destination is regularly sanitized and is not crowded Inherently tourist destinations are not compliant with these regulations and even if the industry makes a change to being clean and introducing social distancing measures convincing risk averse tourists of to travel to these vacation spots will be difficultExpansion of alternatives ways to relax as most people adapt to workfromhome environments the burnout rate is declining People are more relaxed in their own homes and very few people are eagerly looking for a getaway Combined with this deterrent is the rise of alternative ways to relax More and more people are going out for walks doing yoga and finding new hobbies Due to this increase for pursuit for happiness at home it might be likely that tourists will avoid traveling because they don’t feel the urge to breakfree and move away for a holiday Now let us look at different types of holiday revellers Tourists can be foreigners or domestic tourists According to Business Insider “In 2019 almost 10 million foreign tourists visited India — spending over ₹1800 billion during January to November period” However because of the pandemic almost all this business has been lost Due to the reasons stated above most foreigners will not prefer to travel Those who do dare to venture out perhaps wooed by discounted deals to places which would have otherwise been out of their budgets will possibly be warded off by the one of the following factors Poor quality of health care in India in the off chance that a tourist contracts COVID19 they will probably be accustomed to a better healthcare system than the one India provides Being a developing country India will find it hard to convince foreign tourists that our healthcare systems are up to the mark of their home countriesDensely populated regions around tourist destinations because most tourist destinations support a neighbouring economy the areas are often densely populated which leads to a higher risk of transmission of COVID19 and the foreign tourists are cognizant of this fact Moving our focus to domestic tourists we subdivide our population according to income levels Below Poverty Line these people don’t travelLower Income Families these people majorly only travel to religious places or to visit family Thus they don’t contribute to the aviation industry at all and generate very little revenue for the tourism industry as they prefer to stay in cheap lodges or at a relative’s placeMiddle Income Families they travel once in a year or two and tend to avoid airplanes Revenue in the tourism industry is also limited from this subsectionUpper Middle Income Families they vacation regularly often flying to nearby holiday spots This section of our economy is severely hit by the Coronavirus’ financial hardships People have lost jobs and almost everyone has low liquidity Being risk averse these people will probably save money and avoid spending on vacations for some time The loss of volumes from this sector will affect the Aviation and Tourism industries severelyHigh Income Families this sector is relatively insulated from the financial hardships caused by Coronavirus and is likely to spend on holidays if they are assured of the sanitization and social distancing In order to attract well paying customers the Aviation and Tourism industries will have to spend a considerable amount of money to become sanitation compliant which will push profit margins even lower Most Aviation and Tourism activities made money not on individual margins but on collective volumes thus they are inherently incompatible with the concept of social distancing Because of COVID19 pandemic businesses have realized that more and more meetings can be handled over video calls thus the movement of business personnel will be restricted There will still be some representatives who will fly out to conduct business but the industry can expect a permanent drop in revenue from this sector Moving over to the supply side the Aviation and Tourism industries face strong disruptions in their supply chain Because the industry is a leisure expense manufacturing of many supporting equipment like the adventure sports gears and even parts of planes themselves has stopped Because of the drop in demand it is going to be tough to get the supply chain back up again Furthermore workers are afraid to show up to their jobs because of the high risk of contracting the virus due to exposure to multiple customers from different geographies Let us now see some examples of how the industry has done through March and April Airbnbs in America  The bookings vanished in midMarch Property owners had bought or leased real estate to list on the app were severely affected The sharing economy like Uber Lyft and DoorDash had taken a hit but Airbnb was worse off because their expenses include cleaning services interior design onetime spend and property maintenance which are fixed costs Thus because of the pandemic the revenue was gone but the costs exist They have people who depend on the owner’s rental income which made the problem worse Hosts usually decide cancellation policy but under extreme circumstances like this one the company decided to override all existing policies many of whom weren’t strict and gave full refund to the guests The company got 2 billion loan and has helped out the owners financially by paying 25 for cancelled bookings capping at 5khost They have helped some hosts by getting them eligible for small business loans and avoid eviction Thankfully there are too few properties to cause a housing crisis but breakdown could cause strain on lenders and undermine property values all want to sell to avoid foreclosure or defaulting on loans AirDNA states that the listing splitup for Airbnb is 33 list single property 33 owners list 224 properties 33 hosts have 25 properties Some state governments in America have banned shortterm rentals This hurt the Airbnb owners because people looking to quarantine outside their homes or near relatives could’ve generated revenues So what are hosts doing now Many are discounting units and looking for longterm tenants 12 months Many are planning to apply for a smallbusiness loan seek forbearance from banks find longterm tenants independently of Airbnb and sell property Reluctance of workers to comeback to work America According to the Wall Street Journal roughly half of all US workers stand to earn more from the Coronavirus rather than their work pay cheques However it must be noted that some have not gotten their money due to bureaucratical issues This complicates reopening because workers don’t want to come back and expose themselves to the virus and earn less But businesses want workers to come back so that their small business loans can be forgiven and business can reopen However money in the consumer’s pockets means the economy expected to rebound quickly when businesses open About 40 million Americans are now on unemployment benefits majorly from restaurant hospitality and retail industries Congress chose a flat amount of relief because it was really timeconsuming for payments to be calibrated to each worker’s lost wages Their 600 federal payment corresponds to 15hours wage but 21 states follow 725hours Most workers don’t want to sit at home and are anxious to get back to work but right now staying at home is the smartest financial decision for their families Workers should be ineligible for unemployment benefits if a job is made available to them But owners are reluctant to report workers to authorities and sever relationships with employees they may need more later in the year when tourism demand is expected to pick up Without income support lowwage workers would likely seek out other jobs including side hustles and gig work which could expose them and their households to the virus Thus according to the government it was important to give such a large stimulus to the economy Coronavirus on planes Studies of SARs suggested that people sitting close to infectious persons were at large risk Combined with that in long journeys passengers may take off masks Thus the risks of transmission are large and airlines need to focus on figuring out how to prevent transmission in planes Currently the airlines plan on using selfcleaning material longlasting disinfectant touchless lavatories UV light as a disinfectant antimicrobial coating for frequently touched surfaces and cleaning between flights However even after these efforts only 12 of people are flying compared to last year same time as of 27th May 2020 Aviation and Tourism industries have the curse of being a luxury expense and thus as the Coronavirus pandemic spread the entire industry jolted to a halt They are one of the hardesthit sectors and have to adapt to a new normal wherein the revenue levels are unlikely to match to preCOVID levels and margins have also reduced However in with a bleak future this industry is here to stay because people have to travel and eventually they will vacation as well Coronavirus has become a “survival of the fittest” test for this industry and the stakeholders will come out of this disaster with strong business processes Blackcoffer Insights 18 Ishita Srivastava BITS Pilani \n",
      "['As', 'the', 'Coronavirus', 'pandemic', 'unfolds', 'most', 'industries', 'face', 'problems', 'they', 'had', 'never', 'imagined', 'or', 'prepared', 'for', 'The', 'Aviation', 'and', 'Tourism', 'industries', 'face', 'the', 'highest', 'stress', 'as', 'Coronavirus', 'spreads', 'because', 'not', 'only', 'are', 'they', 'a', 'usually', 'a', 'leisure', 'spending', 'but', 'also', 'the', 'nature', 'of', 'the', 'disease', 'directly', 'conflicts', 'with', 'the', 'industries’', 'innate', 'business', 'models', 'In', 'this', 'article', 'we', 'will', 'look', 'at', 'the', 'impact', 'of', 'COVID19', 'pandemic', 'on', 'the', 'Tourism', 'and', 'Aviation', 'industries', 'both', 'from', 'the', 'demand', 'side', 'and', 'the', 'supply', 'side', 'The', 'Aviation', 'and', 'Tourism', 'industries', 'has', 'two', 'major', 'customers', 'tourists', 'and', 'business', 'travellers', 'Let', 'us', 'base', 'this', 'essay', 'in', 'the', 'India', 'and', 'see', 'what', 'the', 'reaction', 'of', 'the', 'customer', 'segments', 'is', 'expected', 'to', 'be', 'like', 'Almost', 'all', 'tourists', 'will', 'avoid', 'vacationing', 'for', 'the', 'foreseeable', 'future', 'because', 'of', 'Financial', 'hardship', 'an', 'exceptionally', 'large', 'part', 'of', 'the', 'world’s', 'working', 'population', 'has', 'been', 'affected', 'financially', 'because', 'of', 'the', 'pandemic', 'Unemployment', 'rates', 'are', 'soaring', 'and', 'the', 'ones', 'who', 'do', 'still', 'have', 'a', 'job', 'are', 'facing', 'paycuts', 'furloughs', 'and', 'deferment', 'of', 'salariesRisk', 'of', 'contraction', 'because', 'the', 'disease', 'spreads', 'via', 'social', 'contact', 'it', 'will', 'only', 'be', 'safe', 'to', 'vacation', 'if', 'the', 'destination', 'is', 'regularly', 'sanitized', 'and', 'is', 'not', 'crowded', 'Inherently', 'tourist', 'destinations', 'are', 'not', 'compliant', 'with', 'these', 'regulations', 'and', 'even', 'if', 'the', 'industry', 'makes', 'a', 'change', 'to', 'being', 'clean', 'and', 'introducing', 'social', 'distancing', 'measures', 'convincing', 'risk', 'averse', 'tourists', 'of', 'to', 'travel', 'to', 'these', 'vacation', 'spots', 'will', 'be', 'difficultExpansion', 'of', 'alternatives', 'ways', 'to', 'relax', 'as', 'most', 'people', 'adapt', 'to', 'workfromhome', 'environments', 'the', 'burnout', 'rate', 'is', 'declining', 'People', 'are', 'more', 'relaxed', 'in', 'their', 'own', 'homes', 'and', 'very', 'few', 'people', 'are', 'eagerly', 'looking', 'for', 'a', 'getaway', 'Combined', 'with', 'this', 'deterrent', 'is', 'the', 'rise', 'of', 'alternative', 'ways', 'to', 'relax', 'More', 'and', 'more', 'people', 'are', 'going', 'out', 'for', 'walks', 'doing', 'yoga', 'and', 'finding', 'new', 'hobbies', 'Due', 'to', 'this', 'increase', 'for', 'pursuit', 'for', 'happiness', 'at', 'home', 'it', 'might', 'be', 'likely', 'that', 'tourists', 'will', 'avoid', 'traveling', 'because', 'they', 'don’t', 'feel', 'the', 'urge', 'to', 'breakfree', 'and', 'move', 'away', 'for', 'a', 'holiday', 'Now', 'let', 'us', 'look', 'at', 'different', 'types', 'of', 'holiday', 'revellers', 'Tourists', 'can', 'be', 'foreigners', 'or', 'domestic', 'tourists', 'According', 'to', 'Business', 'Insider', '“In', '2019', 'almost', '10', 'million', 'foreign', 'tourists', 'visited', 'India', '—', 'spending', 'over', '₹1800', 'billion', 'during', 'January', 'to', 'November', 'period”', 'However', 'because', 'of', 'the', 'pandemic', 'almost', 'all', 'this', 'business', 'has', 'been', 'lost', 'Due', 'to', 'the', 'reasons', 'stated', 'above', 'most', 'foreigners', 'will', 'not', 'prefer', 'to', 'travel', 'Those', 'who', 'do', 'dare', 'to', 'venture', 'out', 'perhaps', 'wooed', 'by', 'discounted', 'deals', 'to', 'places', 'which', 'would', 'have', 'otherwise', 'been', 'out', 'of', 'their', 'budgets', 'will', 'possibly', 'be', 'warded', 'off', 'by', 'the', 'one', 'of', 'the', 'following', 'factors', 'Poor', 'quality', 'of', 'health', 'care', 'in', 'India', 'in', 'the', 'off', 'chance', 'that', 'a', 'tourist', 'contracts', 'COVID19', 'they', 'will', 'probably', 'be', 'accustomed', 'to', 'a', 'better', 'healthcare', 'system', 'than', 'the', 'one', 'India', 'provides', 'Being', 'a', 'developing', 'country', 'India', 'will', 'find', 'it', 'hard', 'to', 'convince', 'foreign', 'tourists', 'that', 'our', 'healthcare', 'systems', 'are', 'up', 'to', 'the', 'mark', 'of', 'their', 'home', 'countriesDensely', 'populated', 'regions', 'around', 'tourist', 'destinations', 'because', 'most', 'tourist', 'destinations', 'support', 'a', 'neighbouring', 'economy', 'the', 'areas', 'are', 'often', 'densely', 'populated', 'which', 'leads', 'to', 'a', 'higher', 'risk', 'of', 'transmission', 'of', 'COVID19', 'and', 'the', 'foreign', 'tourists', 'are', 'cognizant', 'of', 'this', 'fact', 'Moving', 'our', 'focus', 'to', 'domestic', 'tourists', 'we', 'subdivide', 'our', 'population', 'according', 'to', 'income', 'levels', 'Below', 'Poverty', 'Line', 'these', 'people', 'don’t', 'travelLower', 'Income', 'Families', 'these', 'people', 'majorly', 'only', 'travel', 'to', 'religious', 'places', 'or', 'to', 'visit', 'family', 'Thus', 'they', 'don’t', 'contribute', 'to', 'the', 'aviation', 'industry', 'at', 'all', 'and', 'generate', 'very', 'little', 'revenue', 'for', 'the', 'tourism', 'industry', 'as', 'they', 'prefer', 'to', 'stay', 'in', 'cheap', 'lodges', 'or', 'at', 'a', 'relative’s', 'placeMiddle', 'Income', 'Families', 'they', 'travel', 'once', 'in', 'a', 'year', 'or', 'two', 'and', 'tend', 'to', 'avoid', 'airplanes', 'Revenue', 'in', 'the', 'tourism', 'industry', 'is', 'also', 'limited', 'from', 'this', 'subsectionUpper', 'Middle', 'Income', 'Families', 'they', 'vacation', 'regularly', 'often', 'flying', 'to', 'nearby', 'holiday', 'spots', 'This', 'section', 'of', 'our', 'economy', 'is', 'severely', 'hit', 'by', 'the', 'Coronavirus’', 'financial', 'hardships', 'People', 'have', 'lost', 'jobs', 'and', 'almost', 'everyone', 'has', 'low', 'liquidity', 'Being', 'risk', 'averse', 'these', 'people', 'will', 'probably', 'save', 'money', 'and', 'avoid', 'spending', 'on', 'vacations', 'for', 'some', 'time', 'The', 'loss', 'of', 'volumes', 'from', 'this', 'sector', 'will', 'affect', 'the', 'Aviation', 'and', 'Tourism', 'industries', 'severelyHigh', 'Income', 'Families', 'this', 'sector', 'is', 'relatively', 'insulated', 'from', 'the', 'financial', 'hardships', 'caused', 'by', 'Coronavirus', 'and', 'is', 'likely', 'to', 'spend', 'on', 'holidays', 'if', 'they', 'are', 'assured', 'of', 'the', 'sanitization', 'and', 'social', 'distancing', 'In', 'order', 'to', 'attract', 'well', 'paying', 'customers', 'the', 'Aviation', 'and', 'Tourism', 'industries', 'will', 'have', 'to', 'spend', 'a', 'considerable', 'amount', 'of', 'money', 'to', 'become', 'sanitation', 'compliant', 'which', 'will', 'push', 'profit', 'margins', 'even', 'lower', 'Most', 'Aviation', 'and', 'Tourism', 'activities', 'made', 'money', 'not', 'on', 'individual', 'margins', 'but', 'on', 'collective', 'volumes', 'thus', 'they', 'are', 'inherently', 'incompatible', 'with', 'the', 'concept', 'of', 'social', 'distancing', 'Because', 'of', 'COVID19', 'pandemic', 'businesses', 'have', 'realized', 'that', 'more', 'and', 'more', 'meetings', 'can', 'be', 'handled', 'over', 'video', 'calls', 'thus', 'the', 'movement', 'of', 'business', 'personnel', 'will', 'be', 'restricted', 'There', 'will', 'still', 'be', 'some', 'representatives', 'who', 'will', 'fly', 'out', 'to', 'conduct', 'business', 'but', 'the', 'industry', 'can', 'expect', 'a', 'permanent', 'drop', 'in', 'revenue', 'from', 'this', 'sector', 'Moving', 'over', 'to', 'the', 'supply', 'side', 'the', 'Aviation', 'and', 'Tourism', 'industries', 'face', 'strong', 'disruptions', 'in', 'their', 'supply', 'chain', 'Because', 'the', 'industry', 'is', 'a', 'leisure', 'expense', 'manufacturing', 'of', 'many', 'supporting', 'equipment', 'like', 'the', 'adventure', 'sports', 'gears', 'and', 'even', 'parts', 'of', 'planes', 'themselves', 'has', 'stopped', 'Because', 'of', 'the', 'drop', 'in', 'demand', 'it', 'is', 'going', 'to', 'be', 'tough', 'to', 'get', 'the', 'supply', 'chain', 'back', 'up', 'again', 'Furthermore', 'workers', 'are', 'afraid', 'to', 'show', 'up', 'to', 'their', 'jobs', 'because', 'of', 'the', 'high', 'risk', 'of', 'contracting', 'the', 'virus', 'due', 'to', 'exposure', 'to', 'multiple', 'customers', 'from', 'different', 'geographies', 'Let', 'us', 'now', 'see', 'some', 'examples', 'of', 'how', 'the', 'industry', 'has', 'done', 'through', 'March', 'and', 'April', 'Airbnbs', 'in', 'America', 'The', 'bookings', 'vanished', 'in', 'midMarch', 'Property', 'owners', 'had', 'bought', 'or', 'leased', 'real', 'estate', 'to', 'list', 'on', 'the', 'app', 'were', 'severely', 'affected', 'The', 'sharing', 'economy', 'like', 'Uber', 'Lyft', 'and', 'DoorDash', 'had', 'taken', 'a', 'hit', 'but', 'Airbnb', 'was', 'worse', 'off', 'because', 'their', 'expenses', 'include', 'cleaning', 'services', 'interior', 'design', 'onetime', 'spend', 'and', 'property', 'maintenance', 'which', 'are', 'fixed', 'costs', 'Thus', 'because', 'of', 'the', 'pandemic', 'the', 'revenue', 'was', 'gone', 'but', 'the', 'costs', 'exist', 'They', 'have', 'people', 'who', 'depend', 'on', 'the', 'owner’s', 'rental', 'income', 'which', 'made', 'the', 'problem', 'worse', 'Hosts', 'usually', 'decide', 'cancellation', 'policy', 'but', 'under', 'extreme', 'circumstances', 'like', 'this', 'one', 'the', 'company', 'decided', 'to', 'override', 'all', 'existing', 'policies', 'many', 'of', 'whom', 'weren’t', 'strict', 'and', 'gave', 'full', 'refund', 'to', 'the', 'guests', 'The', 'company', 'got', '2', 'billion', 'loan', 'and', 'has', 'helped', 'out', 'the', 'owners', 'financially', 'by', 'paying', '25', 'for', 'cancelled', 'bookings', 'capping', 'at', '5khost', 'They', 'have', 'helped', 'some', 'hosts', 'by', 'getting', 'them', 'eligible', 'for', 'small', 'business', 'loans', 'and', 'avoid', 'eviction', 'Thankfully', 'there', 'are', 'too', 'few', 'properties', 'to', 'cause', 'a', 'housing', 'crisis', 'but', 'breakdown', 'could', 'cause', 'strain', 'on', 'lenders', 'and', 'undermine', 'property', 'values', 'all', 'want', 'to', 'sell', 'to', 'avoid', 'foreclosure', 'or', 'defaulting', 'on', 'loans', 'AirDNA', 'states', 'that', 'the', 'listing', 'splitup', 'for', 'Airbnb', 'is', '33', 'list', 'single', 'property', '33', 'owners', 'list', '224', 'properties', '33', 'hosts', 'have', '25', 'properties', 'Some', 'state', 'governments', 'in', 'America', 'have', 'banned', 'shortterm', 'rentals', 'This', 'hurt', 'the', 'Airbnb', 'owners', 'because', 'people', 'looking', 'to', 'quarantine', 'outside', 'their', 'homes', 'or', 'near', 'relatives', 'could’ve', 'generated', 'revenues', 'So', 'what', 'are', 'hosts', 'doing', 'now', 'Many', 'are', 'discounting', 'units', 'and', 'looking', 'for', 'longterm', 'tenants', '12', 'months', 'Many', 'are', 'planning', 'to', 'apply', 'for', 'a', 'smallbusiness', 'loan', 'seek', 'forbearance', 'from', 'banks', 'find', 'longterm', 'tenants', 'independently', 'of', 'Airbnb', 'and', 'sell', 'property', 'Reluctance', 'of', 'workers', 'to', 'comeback', 'to', 'work', 'America', 'According', 'to', 'the', 'Wall', 'Street', 'Journal', 'roughly', 'half', 'of', 'all', 'US', 'workers', 'stand', 'to', 'earn', 'more', 'from', 'the', 'Coronavirus', 'rather', 'than', 'their', 'work', 'pay', 'cheques', 'However', 'it', 'must', 'be', 'noted', 'that', 'some', 'have', 'not', 'gotten', 'their', 'money', 'due', 'to', 'bureaucratical', 'issues', 'This', 'complicates', 'reopening', 'because', 'workers', 'don’t', 'want', 'to', 'come', 'back', 'and', 'expose', 'themselves', 'to', 'the', 'virus', 'and', 'earn', 'less', 'But', 'businesses', 'want', 'workers', 'to', 'come', 'back', 'so', 'that', 'their', 'small', 'business', 'loans', 'can', 'be', 'forgiven', 'and', 'business', 'can', 'reopen', 'However', 'money', 'in', 'the', 'consumer’s', 'pockets', 'means', 'the', 'economy', 'expected', 'to', 'rebound', 'quickly', 'when', 'businesses', 'open', 'About', '40', 'million', 'Americans', 'are', 'now', 'on', 'unemployment', 'benefits', 'majorly', 'from', 'restaurant', 'hospitality', 'and', 'retail', 'industries', 'Congress', 'chose', 'a', 'flat', 'amount', 'of', 'relief', 'because', 'it', 'was', 'really', 'timeconsuming', 'for', 'payments', 'to', 'be', 'calibrated', 'to', 'each', 'worker’s', 'lost', 'wages', 'Their', '600', 'federal', 'payment', 'corresponds', 'to', '15hours', 'wage', 'but', '21', 'states', 'follow', '725hours', 'Most', 'workers', 'don’t', 'want', 'to', 'sit', 'at', 'home', 'and', 'are', 'anxious', 'to', 'get', 'back', 'to', 'work', 'but', 'right', 'now', 'staying', 'at', 'home', 'is', 'the', 'smartest', 'financial', 'decision', 'for', 'their', 'families', 'Workers', 'should', 'be', 'ineligible', 'for', 'unemployment', 'benefits', 'if', 'a', 'job', 'is', 'made', 'available', 'to', 'them', 'But', 'owners', 'are', 'reluctant', 'to', 'report', 'workers', 'to', 'authorities', 'and', 'sever', 'relationships', 'with', 'employees', 'they', 'may', 'need', 'more', 'later', 'in', 'the', 'year', 'when', 'tourism', 'demand', 'is', 'expected', 'to', 'pick', 'up', 'Without', 'income', 'support', 'lowwage', 'workers', 'would', 'likely', 'seek', 'out', 'other', 'jobs', 'including', 'side', 'hustles', 'and', 'gig', 'work', 'which', 'could', 'expose', 'them', 'and', 'their', 'households', 'to', 'the', 'virus', 'Thus', 'according', 'to', 'the', 'government', 'it', 'was', 'important', 'to', 'give', 'such', 'a', 'large', 'stimulus', 'to', 'the', 'economy', 'Coronavirus', 'on', 'planes', 'Studies', 'of', 'SARs', 'suggested', 'that', 'people', 'sitting', 'close', 'to', 'infectious', 'persons', 'were', 'at', 'large', 'risk', 'Combined', 'with', 'that', 'in', 'long', 'journeys', 'passengers', 'may', 'take', 'off', 'masks', 'Thus', 'the', 'risks', 'of', 'transmission', 'are', 'large', 'and', 'airlines', 'need', 'to', 'focus', 'on', 'figuring', 'out', 'how', 'to', 'prevent', 'transmission', 'in', 'planes', 'Currently', 'the', 'airlines', 'plan', 'on', 'using', 'selfcleaning', 'material', 'longlasting', 'disinfectant', 'touchless', 'lavatories', 'UV', 'light', 'as', 'a', 'disinfectant', 'antimicrobial', 'coating', 'for', 'frequently', 'touched', 'surfaces', 'and', 'cleaning', 'between', 'flights', 'However', 'even', 'after', 'these', 'efforts', 'only', '12', 'of', 'people', 'are', 'flying', 'compared', 'to', 'last', 'year', 'same', 'time', 'as', 'of', '27th', 'May', '2020', 'Aviation', 'and', 'Tourism', 'industries', 'have', 'the', 'curse', 'of', 'being', 'a', 'luxury', 'expense', 'and', 'thus', 'as', 'the', 'Coronavirus', 'pandemic', 'spread', 'the', 'entire', 'industry', 'jolted', 'to', 'a', 'halt', 'They', 'are', 'one', 'of', 'the', 'hardesthit', 'sectors', 'and', 'have', 'to', 'adapt', 'to', 'a', 'new', 'normal', 'wherein', 'the', 'revenue', 'levels', 'are', 'unlikely', 'to', 'match', 'to', 'preCOVID', 'levels', 'and', 'margins', 'have', 'also', 'reduced', 'However', 'in', 'with', 'a', 'bleak', 'future', 'this', 'industry', 'is', 'here', 'to', 'stay', 'because', 'people', 'have', 'to', 'travel', 'and', 'eventually', 'they', 'will', 'vacation', 'as', 'well', 'Coronavirus', 'has', 'become', 'a', '“survival', 'of', 'the', 'fittest”', 'test', 'for', 'this', 'industry', 'and', 'the', 'stakeholders', 'will', 'come', 'out', 'of', 'this', 'disaster', 'with', 'strong', 'business', 'processes', 'Blackcoffer', 'Insights', '18', 'Ishita', 'Srivastava', 'BITS', 'Pilani']\n"
     ]
    }
   ],
   "source": [
    "content=soup.findAll(attrs={'class':'td-post-content'})\n",
    "content=content[0].text.replace('\\n',\" \")\n",
    "print(content)\n",
    "#Punctuation\n",
    "content = content.translate(str.maketrans('', '', string.punctuation)) \n",
    "print(content)\n",
    "text = content.split()\n",
    "print(text)\n"
   ]
  },
  {
   "cell_type": "code",
   "execution_count": 4,
   "id": "c3d6046a",
   "metadata": {},
   "outputs": [
    {
     "data": {
      "text/plain": [
       "1696"
      ]
     },
     "execution_count": 4,
     "metadata": {},
     "output_type": "execute_result"
    }
   ],
   "source": [
    "len(text)"
   ]
  },
  {
   "cell_type": "code",
   "execution_count": 5,
   "id": "d9d3c3f5",
   "metadata": {},
   "outputs": [
    {
     "name": "stdout",
     "output_type": "stream",
     "text": [
      "40\n"
     ]
    }
   ],
   "source": [
    "#Positive Score \n",
    "with open(r\"C:\\Users\\Om Bhandwalkar\\Desktop\\pos\\positive-words.txt\") as pos:\n",
    "    poswords = pos.read().split(\"\\n\")  \n",
    "    poswords = poswords[5:]\n",
    "pos_count = \" \".join ([w for w in text if w in poswords])\n",
    "pos_count=pos_count.split(\" \")\n",
    "Positive_score=len(pos_count)\n",
    "print(Positive_score)"
   ]
  },
  {
   "cell_type": "code",
   "execution_count": 6,
   "id": "42ffab3a",
   "metadata": {},
   "outputs": [
    {
     "name": "stdout",
     "output_type": "stream",
     "text": [
      "48\n"
     ]
    }
   ],
   "source": [
    "#Negative Score\n",
    "with open(r\"C:\\Users\\Om Bhandwalkar\\Desktop\\pos\\negative-words.txt\",encoding =\"ISO-8859-1\") as neg:\n",
    "    negwords = neg.read().split(\"\\n\")\n",
    "    \n",
    "negwords = negwords[36:]\n",
    "neg_count = \" \".join ([w for w in text if w in negwords])\n",
    "neg_count=neg_count.split(\" \")\n",
    "Negative_score=len(neg_count)\n",
    "print(Negative_score)"
   ]
  },
  {
   "cell_type": "code",
   "execution_count": 7,
   "id": "b492466c",
   "metadata": {},
   "outputs": [
    {
     "data": {
      "text/html": [
       "<div>\n",
       "<style scoped>\n",
       "    .dataframe tbody tr th:only-of-type {\n",
       "        vertical-align: middle;\n",
       "    }\n",
       "\n",
       "    .dataframe tbody tr th {\n",
       "        vertical-align: top;\n",
       "    }\n",
       "\n",
       "    .dataframe thead th {\n",
       "        text-align: right;\n",
       "    }\n",
       "</style>\n",
       "<table border=\"1\" class=\"dataframe\">\n",
       "  <thead>\n",
       "    <tr style=\"text-align: right;\">\n",
       "      <th></th>\n",
       "      <th>url</th>\n",
       "      <th>title</th>\n",
       "      <th>content</th>\n",
       "      <th>filter_content</th>\n",
       "      <th>Positive_Score</th>\n",
       "      <th>Negative_Score</th>\n",
       "      <th>polarity</th>\n",
       "      <th>subjectivity</th>\n",
       "    </tr>\n",
       "  </thead>\n",
       "  <tbody>\n",
       "    <tr>\n",
       "      <th>0</th>\n",
       "      <td>https://insights.blackcoffer.com/impact-of-cov...</td>\n",
       "      <td>Impact of COVID-19 pandemic on Tourism &amp; Aviat...</td>\n",
       "      <td>As the Coronavirus pandemic unfolds most indu...</td>\n",
       "      <td>As the Coronavirus pandemic unfolds most indus...</td>\n",
       "      <td>40</td>\n",
       "      <td>48</td>\n",
       "      <td>0.076223</td>\n",
       "      <td>0.414062</td>\n",
       "    </tr>\n",
       "  </tbody>\n",
       "</table>\n",
       "</div>"
      ],
      "text/plain": [
       "                                                 url  \\\n",
       "0  https://insights.blackcoffer.com/impact-of-cov...   \n",
       "\n",
       "                                               title  \\\n",
       "0  Impact of COVID-19 pandemic on Tourism & Aviat...   \n",
       "\n",
       "                                             content  \\\n",
       "0   As the Coronavirus pandemic unfolds most indu...   \n",
       "\n",
       "                                      filter_content  Positive_Score  \\\n",
       "0  As the Coronavirus pandemic unfolds most indus...              40   \n",
       "\n",
       "   Negative_Score  polarity  subjectivity  \n",
       "0              48  0.076223      0.414062  "
      ]
     },
     "execution_count": 7,
     "metadata": {},
     "output_type": "execute_result"
    }
   ],
   "source": [
    "filter_content = ' '.join(text)\n",
    "data=[[url,title,content,filter_content,Positive_score,Negative_score]]\n",
    "data=pd.DataFrame(data,columns=[\"url\",\"title\",\"content\",\"filter_content\",\"Positive_Score\",\"Negative_Score\"])\n",
    "from textblob import TextBlob\n",
    "# Get The Subjectivity\n",
    "def sentiment_analysis(data):\n",
    "    sentiment = TextBlob(data[\"content\"]).sentiment\n",
    "    return pd.Series([sentiment.polarity,sentiment.subjectivity ])\n",
    "\n",
    "# Adding Subjectivity & Polarity\n",
    "data[[\"polarity\", \"subjectivity\"]] = data.apply(sentiment_analysis, axis=1)\n",
    "\n",
    "data"
   ]
  },
  {
   "cell_type": "code",
   "execution_count": 8,
   "id": "fa04a133",
   "metadata": {},
   "outputs": [
    {
     "name": "stdout",
     "output_type": "stream",
     "text": [
      "Word average = 8683.0\n",
      "FOG INDEX =  681.8\n",
      "Average no of words per sentence\n",
      "1696.0\n",
      "Complex Words 3049\n"
     ]
    }
   ],
   "source": [
    "#AVG SENTENCE LENGTH\n",
    "AVG_SENTENCE_LENGTH = len(content.replace(' ',''))/len(re.split(r'[?!.]', content))\n",
    "print('Word average =', AVG_SENTENCE_LENGTH)\n",
    "import textstat\n",
    "#Fog index \n",
    "FOG_INDEX=(textstat.gunning_fog(content))\n",
    "print(\"FOG INDEX = \",FOG_INDEX)\n",
    "#Average No of Words Per Sentence \n",
    "AVG_NUMBER_OF_WORDS_PER_SENTENCE = [len(l.split()) for l in re.split(r'[?!.]', content) if l.strip()]\n",
    "print(\"Average no of words per sentence\")\n",
    "AVG_NUMBER_OF_WORDS_PER_SENTENCE=print(sum(AVG_NUMBER_OF_WORDS_PER_SENTENCE)/len(AVG_NUMBER_OF_WORDS_PER_SENTENCE))\n",
    "#Complex words\n",
    "def syllable_count(word):\n",
    "    count = 0\n",
    "    vowels = \"AEIOUYaeiouy\"\n",
    "    if word[0] in vowels:\n",
    "        count += 1\n",
    "    for index in range(1, len(word)): \n",
    "        if word[index] in vowels and word[index - 1] not in vowels:\n",
    "            count += 1\n",
    "            if word.endswith(\"es\"or \"ed\"):\n",
    "                count -= 1\n",
    "    if count == 0:\n",
    "        count += 1\n",
    "    return count\n",
    "\n",
    "\n",
    "\n",
    "COMPLEX_WORDS=syllable_count(content)\n",
    "print(\"Complex Words\",COMPLEX_WORDS)\n"
   ]
  },
  {
   "cell_type": "code",
   "execution_count": 9,
   "id": "b718a38c",
   "metadata": {},
   "outputs": [
    {
     "name": "stdout",
     "output_type": "stream",
     "text": [
      "Word Count 10375\n",
      "Percentage of Complex Words 29.38795180722892\n",
      "Average Word per Length 5.119693396226415\n",
      "The AVG number of syllables in the word is: \n",
      "2.051297169811321\n"
     ]
    }
   ],
   "source": [
    "#Word Count\n",
    "Word_Count=len(content)\n",
    "print(\"Word Count\",Word_Count)\n",
    "#Percentage Complex Words\n",
    "pcw=(COMPLEX_WORDS/Word_Count)*100\n",
    "print(\"Percentage of Complex Words\",pcw)\n",
    "#Average Word Length\n",
    "Average_Word_Length=len(content.replace(' ',''))/len(content.split())\n",
    "print(\"Average Word per Length\",Average_Word_Length)\n",
    "#Syllable Count Per Word\n",
    "word=content.replace(' ','')\n",
    "syllable_count=0\n",
    "for w in word:\n",
    "      if(w=='a' or w=='e' or w=='i' or w=='o' or w=='y' or w=='u' or w=='A' or w=='E' or w=='I' or w=='O' or w=='U' or w=='Y'):\n",
    "            syllable_count=syllable_count+1\n",
    "print(\"The AVG number of syllables in the word is: \")\n",
    "print(syllable_count/len(content.split()))"
   ]
  },
  {
   "cell_type": "code",
   "execution_count": 1,
   "id": "92e0d412",
   "metadata": {},
   "outputs": [
    {
     "name": "stdout",
     "output_type": "stream",
     "text": [
      "40\n",
      "48\n",
      "Word average = 8683.0\n",
      "FOG INDEX =  681.8\n",
      "Average no of words per sentence\n",
      "1696.0\n",
      "Complex Words 3049\n",
      "Word Count 10375\n",
      "Percentage of Complex Words 29.38795180722892\n",
      "Average Word per Length 5.119693396226415\n",
      "The AVG number of syllables in the word is: \n",
      "2.051297169811321\n"
     ]
    },
    {
     "data": {
      "text/html": [
       "<div>\n",
       "<style scoped>\n",
       "    .dataframe tbody tr th:only-of-type {\n",
       "        vertical-align: middle;\n",
       "    }\n",
       "\n",
       "    .dataframe tbody tr th {\n",
       "        vertical-align: top;\n",
       "    }\n",
       "\n",
       "    .dataframe thead th {\n",
       "        text-align: right;\n",
       "    }\n",
       "</style>\n",
       "<table border=\"1\" class=\"dataframe\">\n",
       "  <thead>\n",
       "    <tr style=\"text-align: right;\">\n",
       "      <th></th>\n",
       "      <th>url</th>\n",
       "      <th>title</th>\n",
       "      <th>content</th>\n",
       "      <th>filter_content</th>\n",
       "      <th>Positive_Score</th>\n",
       "      <th>Negative_Score</th>\n",
       "      <th>Avg_Sentence_Length</th>\n",
       "      <th>Percentage_Complex_Word</th>\n",
       "      <th>Fog_Index</th>\n",
       "      <th>AVG_NUMBER_OF_WORDS_PER_SENTENCE</th>\n",
       "      <th>COMPLEX_WORDS</th>\n",
       "      <th>Word_Count</th>\n",
       "      <th>syllable</th>\n",
       "      <th>Average_Word_Length</th>\n",
       "      <th>polarity</th>\n",
       "      <th>subjectivity</th>\n",
       "    </tr>\n",
       "  </thead>\n",
       "  <tbody>\n",
       "    <tr>\n",
       "      <th>0</th>\n",
       "      <td>https://insights.blackcoffer.com/impact-of-cov...</td>\n",
       "      <td>Impact of COVID-19 pandemic on Tourism &amp; Aviat...</td>\n",
       "      <td>As the Coronavirus pandemic unfolds most indu...</td>\n",
       "      <td>As the Coronavirus pandemic unfolds most indus...</td>\n",
       "      <td>40</td>\n",
       "      <td>48</td>\n",
       "      <td>8683.0</td>\n",
       "      <td>29.387952</td>\n",
       "      <td>681.8</td>\n",
       "      <td>1696.0</td>\n",
       "      <td>3049</td>\n",
       "      <td>10375</td>\n",
       "      <td>2.051297</td>\n",
       "      <td>5.119693</td>\n",
       "      <td>0.076223</td>\n",
       "      <td>0.414062</td>\n",
       "    </tr>\n",
       "  </tbody>\n",
       "</table>\n",
       "</div>"
      ],
      "text/plain": [
       "                                                 url  \\\n",
       "0  https://insights.blackcoffer.com/impact-of-cov...   \n",
       "\n",
       "                                               title  \\\n",
       "0  Impact of COVID-19 pandemic on Tourism & Aviat...   \n",
       "\n",
       "                                             content  \\\n",
       "0   As the Coronavirus pandemic unfolds most indu...   \n",
       "\n",
       "                                      filter_content  Positive_Score  \\\n",
       "0  As the Coronavirus pandemic unfolds most indus...              40   \n",
       "\n",
       "   Negative_Score  Avg_Sentence_Length  Percentage_Complex_Word  Fog_Index  \\\n",
       "0              48               8683.0                29.387952      681.8   \n",
       "\n",
       "    AVG_NUMBER_OF_WORDS_PER_SENTENCE  COMPLEX_WORDS  Word_Count  syllable  \\\n",
       "0                             1696.0           3049       10375  2.051297   \n",
       "\n",
       "   Average_Word_Length  polarity  subjectivity  \n",
       "0             5.119693  0.076223      0.414062  "
      ]
     },
     "execution_count": 1,
     "metadata": {},
     "output_type": "execute_result"
    }
   ],
   "source": [
    "import requests\n",
    "import pandas as pd \n",
    "from bs4 import BeautifulSoup\n",
    "import string\n",
    "import spacy\n",
    "import re\n",
    "url = \"\"\"https://insights.blackcoffer.com/impact-of-covid-19-pandemic-on-tourism-aviation-industries/\"\"\"\n",
    "headers = {\"User-Agent\": \"Mozilla/5.0 (X11; Linux x86_64; rv:60.0) Gecko/20100101 Firefox/60.0\"}\n",
    "page = requests.get(url, headers=headers)\n",
    "soup = BeautifulSoup(page.content, 'html.parser')\n",
    "soup=BeautifulSoup(page.content, 'html.parser')\n",
    "title=soup.find('h1',class_=\"entry-title\")\n",
    "title=title.text.replace('\\n',\" \")\n",
    "# title\n",
    "\n",
    "content=soup.findAll(attrs={'class':'td-post-content'})\n",
    "content=content[0].text.replace('\\n',\" \")\n",
    "# print(content)\n",
    "#Punctuation\n",
    "content = content.translate(str.maketrans('', '', string.punctuation)) \n",
    "# print(content)\n",
    "text = content.split()\n",
    "# print(text)\n",
    "len(text)\n",
    "#Positive Score \n",
    "with open(r\"C:\\Users\\Om Bhandwalkar\\Desktop\\pos\\positive-words.txt\") as pos:\n",
    "    poswords = pos.read().split(\"\\n\")  \n",
    "    poswords = poswords[5:]\n",
    "pos_count = \" \".join ([w for w in text if w in poswords])\n",
    "pos_count=pos_count.split(\" \")\n",
    "Positive_score=len(pos_count)\n",
    "print(Positive_score)\n",
    "\n",
    "#Negative Score\n",
    "with open(r\"C:\\Users\\Om Bhandwalkar\\Desktop\\pos\\negative-words.txt\",encoding =\"ISO-8859-1\") as neg:\n",
    "    negwords = neg.read().split(\"\\n\")\n",
    "    \n",
    "negwords = negwords[36:]\n",
    "neg_count = \" \".join ([w for w in text if w in negwords])\n",
    "neg_count=neg_count.split(\" \")\n",
    "Negative_score=len(neg_count)\n",
    "print(Negative_score)\n",
    "\n",
    "\n",
    "filter_content = ' '.join(text)\n",
    "data=[[url,title,content,filter_content,Positive_score,Negative_score]]\n",
    "data=pd.DataFrame(data,columns=[\"url\",\"title\",\"content\",\"filter_content\",\"Positive_Score\",\"Negative_Score\"])\n",
    "from textblob import TextBlob\n",
    "# Get The Subjectivity\n",
    "def sentiment_analysis(data):\n",
    "    sentiment = TextBlob(data[\"content\"]).sentiment\n",
    "    return pd.Series([sentiment.polarity,sentiment.subjectivity ])\n",
    "data[[\"polarity\", \"subjectivity\"]] = data.apply(sentiment_analysis, axis=1)\n",
    "data\n",
    "#AVG SENTENCE LENGTH\n",
    "AVG_SENTENCE_LENGTH = len(content.replace(' ',''))/len(re.split(r'[?!.]', content))\n",
    "print('Word average =', AVG_SENTENCE_LENGTH)\n",
    "import textstat\n",
    "#Fog index \n",
    "FOG_INDEX=(textstat.gunning_fog(content))\n",
    "print(\"FOG INDEX = \",FOG_INDEX)\n",
    "#Average No of Words Per Sentence \n",
    "AVG_NUMBER_OF_WORDS_PER_SENTENCE = [len(l.split()) for l in re.split(r'[?!.]', content) if l.strip()]\n",
    "print(\"Average no of words per sentence\")\n",
    "AVG_NUMBER_OF_WORDS_PER_SENTENCE=(sum(AVG_NUMBER_OF_WORDS_PER_SENTENCE)/len(AVG_NUMBER_OF_WORDS_PER_SENTENCE))\n",
    "print(AVG_NUMBER_OF_WORDS_PER_SENTENCE)\n",
    "#Complex words\n",
    "def syllable_count(word):\n",
    "    count = 0\n",
    "    vowels = \"AEIOUYaeiouy\"\n",
    "    if word[0] in vowels:\n",
    "        count += 1\n",
    "    for index in range(1, len(word)): \n",
    "        if word[index] in vowels and word[index - 1] not in vowels:\n",
    "            count += 1\n",
    "            if word.endswith(\"es\"or \"ed\"):\n",
    "                count -= 1\n",
    "    if count == 0:\n",
    "        count += 1\n",
    "    return count\n",
    "\n",
    "\n",
    "\n",
    "COMPLEX_WORDS=syllable_count(content)\n",
    "print(\"Complex Words\",COMPLEX_WORDS)\n",
    "#Word Count\n",
    "Word_Count=len(content)\n",
    "print(\"Word Count\",Word_Count)\n",
    "#Percentage Complex Words\n",
    "pcw=(COMPLEX_WORDS/Word_Count)*100\n",
    "print(\"Percentage of Complex Words\",pcw)\n",
    "#Average Word Length\n",
    "Average_Word_Length=len(content.replace(' ',''))/len(content.split())\n",
    "print(\"Average Word per Length\",Average_Word_Length)\n",
    "#Syllable Count Per Word\n",
    "word=content.replace(' ','')\n",
    "syllable_count=0\n",
    "for w in word:\n",
    "      if(w=='a' or w=='e' or w=='i' or w=='o' or w=='y' or w=='u' or w=='A' or w=='E' or w=='I' or w=='O' or w=='U' or w=='Y'):\n",
    "            syllable_count=syllable_count+1\n",
    "print(\"The AVG number of syllables in the word is: \")\n",
    "syllable = (syllable_count/len(content.split()))\n",
    "print(syllable)\n",
    "\n",
    "data = [[url,title,content,filter_content,Positive_score,Negative_score,AVG_SENTENCE_LENGTH,pcw,FOG_INDEX,\n",
    "         AVG_NUMBER_OF_WORDS_PER_SENTENCE,COMPLEX_WORDS,Word_Count,syllable,Average_Word_Length]]\n",
    "data=pd.DataFrame(data,columns=[\"url\",\"title\",\"content\",\"filter_content\",\"Positive_Score\",\"Negative_Score\",\"Avg_Sentence_Length\"\n",
    "                               ,\"Percentage_Complex_Word\",\"Fog_Index\",\" AVG_NUMBER_OF_WORDS_PER_SENTENCE\",\"COMPLEX_WORDS\",\n",
    "                               \"Word_Count\",\"syllable\",\"Average_Word_Length\"])\n",
    "from textblob import TextBlob\n",
    "# Get The Subjectivity\n",
    "def sentiment_analysis(data):\n",
    "    sentiment = TextBlob(data[\"content\"]).sentiment\n",
    "    return pd.Series([sentiment.polarity,sentiment.subjectivity ])\n",
    "data[[\"polarity\", \"subjectivity\"]] = data.apply(sentiment_analysis, axis=1)\n",
    "data"
   ]
  },
  {
   "cell_type": "code",
   "execution_count": 2,
   "id": "ea235046",
   "metadata": {},
   "outputs": [],
   "source": [
    "data.to_csv(r'C:\\Users\\Om Bhandwalkar\\Desktop\\BlackCoffer Assignment\\Output\\url_87.csv')"
   ]
  },
  {
   "cell_type": "code",
   "execution_count": null,
   "id": "d98fab0b",
   "metadata": {},
   "outputs": [],
   "source": []
  }
 ],
 "metadata": {
  "kernelspec": {
   "display_name": "Python 3 (ipykernel)",
   "language": "python",
   "name": "python3"
  },
  "language_info": {
   "codemirror_mode": {
    "name": "ipython",
    "version": 3
   },
   "file_extension": ".py",
   "mimetype": "text/x-python",
   "name": "python",
   "nbconvert_exporter": "python",
   "pygments_lexer": "ipython3",
   "version": "3.9.12"
  }
 },
 "nbformat": 4,
 "nbformat_minor": 5
}
