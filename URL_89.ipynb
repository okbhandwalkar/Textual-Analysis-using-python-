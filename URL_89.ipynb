{
 "cells": [
  {
   "cell_type": "code",
   "execution_count": 1,
   "id": "86f4bcbc",
   "metadata": {},
   "outputs": [
    {
     "data": {
      "text/plain": [
       "'Changing landscape and emerging trends in the Indian IT/ITeS Industry.'"
      ]
     },
     "execution_count": 1,
     "metadata": {},
     "output_type": "execute_result"
    }
   ],
   "source": [
    "import requests\n",
    "import pandas as pd \n",
    "from bs4 import BeautifulSoup\n",
    "import string\n",
    "import spacy\n",
    "import re\n",
    "url = \"\"\"https://insights.blackcoffer.com/changing-landscape-and-emerging-trends-in-the-indian-it-ites-industry/\"\"\"\n",
    "headers = {\"User-Agent\": \"Mozilla/5.0 (X11; Linux x86_64; rv:60.0) Gecko/20100101 Firefox/60.0\"}\n",
    "page = requests.get(url, headers=headers)\n",
    "soup = BeautifulSoup(page.content, 'html.parser')\n",
    "soup=BeautifulSoup(page.content, 'html.parser')\n",
    "title=soup.find('h1',class_=\"entry-title\")\n",
    "title=title.text.replace('\\n',\" \")\n",
    "title\n"
   ]
  },
  {
   "cell_type": "code",
   "execution_count": 2,
   "id": "f2fa6b3a",
   "metadata": {},
   "outputs": [
    {
     "name": "stdout",
     "output_type": "stream",
     "text": [
      " The COVID 19 pandemic has reshaped the fundamental fabric of our world. Initiating in China in late December 2019, the virus has since then spread to every corner of the world, infecting millions in its wake. Countries around the world have responded by shutting down their economies and advocating lockdowns of varying degrees. India has arguably had one of the most stringent lockdowns of all countries, restricting the movement of people, goods and effectively transforming every city into a ghost town. Due to such stringent restrictions on movement, the economy has received a fatal blow. The virus arrived in India at a time when the country was already in strife, dealing with a slowing GDP growth rate and an ever-increasing fiscal deficit. The lockdown has simply exacerbated the economic predicament; pushing multiple businesses and industries to a moribund state. Other countries have also faced a similar predicament, particularly in the US and Europe, both being hotspots for virus transmission. However, upon taking a closer look at the global economy, there seems to have been an upward mobilization in some of the sectors in the IT domain. These sectors seem to have exorbitantly increased their scale of operations and have overall reaped hefty profits. So what is it that differentiates these areas from the rest and what can we learn from them? A path to victory If we look at the evolving IT/ITeS industry around the world, the domains that have flourished in this strenuous time all have had one key characteristic in common; flexibility. These sectors have adopted a more flexible approach to dealing with the lockdown. Be it flexible working procedures or adopting newer, more advanced ways of working in line with the requirements of our time, they haven’t shied away from changing the rules of the game. Let’s look at some of these areas within the tech domain that have been successful in conquering the lockdown. Social Media Lockdowns around the globe have confined people inside their homes, with nothing much to do of significance. As a result, social networking sites have reported a gigantic rise in user engagement over the lockdown period. Reportedly, there has been close to a 50% rise in daily text transmissions across messaging platforms such as Facebook, Instagram, and WhatsApp in the hardest-hit economies. Twitter has reported a 23% increase in its user base as compared to last year. The data makes it evident that social media platforms are here to reap the benefits of a lockdown situation. Video consumption sites such as YouTube, Instagram, and TikTok are in line to reap massive profits. It’s no wonder that viewership on these platforms has increased manifolds due to lockdowns. These platforms serve to be a distraction from the tragedies of the real world in such stressing times and offer an easy escape. Be it rumors regarding the cure for COVID 19, gossips, or rap battles; these platforms provide viewers with their much-needed dose of distractions. As they say, “ignorance is bliss”. Data-Mining Enterprises The lockdown has proven to be a miracle for data-mining companies. With such an exorbitant increase in the number of hours spent online globally, these firms now have access to significantly larger sets of data than they otherwise could ever have. Widespread implementation of data-mining has been seen recently with most countries opting for Government-regulated surveillance applications that monitor your movement at all times. Moreover, these applications have access to your personal information as well as medical records. Countries such as South Korea and Singapore are at the helm of relying on such means to control the outbreak. Although noble, such initiatives do raise a red flag with regards to user privacy. The public has been provided with very little information about how these applications operate and what goes on behind the scenes. This creates an atmosphere of obscurity that is frankly harmful to the premise of a democracy. Cloud Computing Cloud computing has been on the rise for the last couple of years. However, the pandemic has made it the de facto king in terms of computational services. With an increasing reliance on remote working, the ability to store data in one secure location has turned out to be critical. The cloud computing services such as Amazon Web Services, Microsoft Azure, and Google Cloud have reaped hefty profits in the process. The emerging landscape in the tech world seems to suggest an upward trend in reliability on these services as far as large scale data storage and computing is concerned. E-Commerce Social distancing measures have made it practically impossible for people to physically go shopping for groceries and other necessities. Moreover, a majority of retail outlets in cities have reported negligible engagement, for the fear of transmission of the virus. E-commerce sites have been the real winners in this predicament of global consumerism. With high standards of hygiene and at-home delivery, these sites have provided an easy alternative to retail stores. Other similar businesses include food delivery apps and grocery sites that are also flourishing today amidst the pandemic. Recent weeks have made it evident that E-commerce websites are well on their way to abolish traditional shopping methods. OTT Platforms Online streaming platforms consist of a relatively newer approach to entertainment; having only been in existence for the past couple of years. They had already, however, established a name for themselves before the lockdowns. Sites such as Netflix and Amazon Prime had been dominating a chunk of the market share and competing heavily with movie theatres for new releases, for a while now. Now with the lockdown practically deleting theatres and cable TV from the collective psyche of the entertainment industry, they are well on their way to becoming the platform of choice as far as entertainment for the masses is concerned. This has already become evident, with Zee5 India reporting a whopping 80% increase in subscriptions and a 50% increase in the time spent on their site, within the first couple of weeks of the lockdown itself. Another such platform MUBI reported a 28% rise in its viewership in India only a week after lockdown commenced. These facts are a clear indication of the exponential growth that is in store for these platforms, which is unlikely to change anytime soon. Video-Conferencing Platforms The idea of working from home is all set to be the new norm in our professional culture, which requires an easy and effective way to communicate over the internet. Not just audio or text, but video conferencing is the need today. Hence it’s understandable why multiple video conferencing services are set to reap massive profits off of the new norm. Arguably the most popular of these, Zoom has reported a 130% increase in its price share since the beginning of 2020. Another such platform known as the Microsoft Teams collaboration suite, operated by Microsoft, has reported a whopping 12 million increase in its user base in the very first week of the lockdown in the US. This data is only likely to have an upwards trajectory considering the increasing pace at which industries are going online. The Indian Picture The Indian IT landscape has also undergone massive cultural changes. According to Rajesh Gopinathan, chief executive officer and managing director of Tata Consultancy Services Ltd., the “work from home” model of operations is here to stay. He also claimed that the firms only requires a 25% workforce to be physically present for any project at any of the locations. Tata Consultancy Services which is one of the major players in the Indian IT landscape has shifted almost 90% of its workforce into a remote borderless workspace model, and other smaller firms have followed suit. What it tells us is that we’re headed in a direction we’re unlikely to return from. Remote working appears to be the modern protocol for operations and is unlikely to change anytime soon. However, a major challenge often overlooked in such circumstances is that of an adaptable culture. The culture of workspaces has to be drastically altered and members of the workforce have to dive headfirst into the new way of doing business. This is critical to ensure that the industry can combat the pandemic and recover gloriously. A duality unlike any other The lockdown has presented us with a stark contrast unlike any other we’ve witnessed. Where on the one hand, the industries mentioned above seem to be exhibiting exponential growth with their people thriving and having every possible resource at their disposal, the unorganized sector and the MSMEs (Micro, Small and Medium Enterprises) seem to be at the crux of death. The sector that consists of people for whom having guidelines to work from home is irrelevant as that was never really an option; people with no fixed wages or social security to fall back on during this time of crisis. As a result of the lockdown, several of these MSMEs have effectively become inoperable and have resorted to massive layoffs just to survive. This has resulted in thousands of workers losing their jobs with nowhere to go to for refuge. A chunk of these people includes migrant workers who have lost their jobs and are left with little to no avenue to feed themselves. Not receiving significant support from the government, these people have been initiating treks back to their villages. What is witnessed is a massive influx of migrant workers flooding the highways, walking weeks to find shelter and food. Truck drivers responsible for delivering goods have also resigned stating that they have no means to eat because of the closure of every food joint on the highways. Both these realities present a stark contrast and expose a deep crack in our societal framework. One I reckon won’t heal anytime soon. A train Unlikely to Halt The COVID 19 pandemic has restructured our social fabric in a way that is unlikely to change anytime soon. The areas that we’ve discussed are likely to become the flagbearers of the digital revolution of the decade. An upward mobilization with regards to massive scale movement of industries online seems pertinent today being led by these domains in the IT industry. An unfortunate consequence of it is that a majority of the MSMEs may soon cease to exist, having been replaced by some of the other alternatives that we’ve discussed. It seems to be a never-ending circle where the ones who are making a profit out of this situation will continue to do so, while the others will be washed out from our collective memory. Blackcoffer Insights 18: Souvik Chakraborty,Indian Institute of Engineering Science and Technology, Shibpur \n",
      " The COVID 19 pandemic has reshaped the fundamental fabric of our world Initiating in China in late December 2019 the virus has since then spread to every corner of the world infecting millions in its wake Countries around the world have responded by shutting down their economies and advocating lockdowns of varying degrees India has arguably had one of the most stringent lockdowns of all countries restricting the movement of people goods and effectively transforming every city into a ghost town Due to such stringent restrictions on movement the economy has received a fatal blow The virus arrived in India at a time when the country was already in strife dealing with a slowing GDP growth rate and an everincreasing fiscal deficit The lockdown has simply exacerbated the economic predicament pushing multiple businesses and industries to a moribund state Other countries have also faced a similar predicament particularly in the US and Europe both being hotspots for virus transmission However upon taking a closer look at the global economy there seems to have been an upward mobilization in some of the sectors in the IT domain These sectors seem to have exorbitantly increased their scale of operations and have overall reaped hefty profits So what is it that differentiates these areas from the rest and what can we learn from them A path to victory If we look at the evolving ITITeS industry around the world the domains that have flourished in this strenuous time all have had one key characteristic in common flexibility These sectors have adopted a more flexible approach to dealing with the lockdown Be it flexible working procedures or adopting newer more advanced ways of working in line with the requirements of our time they haven’t shied away from changing the rules of the game Let’s look at some of these areas within the tech domain that have been successful in conquering the lockdown Social Media Lockdowns around the globe have confined people inside their homes with nothing much to do of significance As a result social networking sites have reported a gigantic rise in user engagement over the lockdown period Reportedly there has been close to a 50 rise in daily text transmissions across messaging platforms such as Facebook Instagram and WhatsApp in the hardesthit economies Twitter has reported a 23 increase in its user base as compared to last year The data makes it evident that social media platforms are here to reap the benefits of a lockdown situation Video consumption sites such as YouTube Instagram and TikTok are in line to reap massive profits It’s no wonder that viewership on these platforms has increased manifolds due to lockdowns These platforms serve to be a distraction from the tragedies of the real world in such stressing times and offer an easy escape Be it rumors regarding the cure for COVID 19 gossips or rap battles these platforms provide viewers with their muchneeded dose of distractions As they say “ignorance is bliss” DataMining Enterprises The lockdown has proven to be a miracle for datamining companies With such an exorbitant increase in the number of hours spent online globally these firms now have access to significantly larger sets of data than they otherwise could ever have Widespread implementation of datamining has been seen recently with most countries opting for Governmentregulated surveillance applications that monitor your movement at all times Moreover these applications have access to your personal information as well as medical records Countries such as South Korea and Singapore are at the helm of relying on such means to control the outbreak Although noble such initiatives do raise a red flag with regards to user privacy The public has been provided with very little information about how these applications operate and what goes on behind the scenes This creates an atmosphere of obscurity that is frankly harmful to the premise of a democracy Cloud Computing Cloud computing has been on the rise for the last couple of years However the pandemic has made it the de facto king in terms of computational services With an increasing reliance on remote working the ability to store data in one secure location has turned out to be critical The cloud computing services such as Amazon Web Services Microsoft Azure and Google Cloud have reaped hefty profits in the process The emerging landscape in the tech world seems to suggest an upward trend in reliability on these services as far as large scale data storage and computing is concerned ECommerce Social distancing measures have made it practically impossible for people to physically go shopping for groceries and other necessities Moreover a majority of retail outlets in cities have reported negligible engagement for the fear of transmission of the virus Ecommerce sites have been the real winners in this predicament of global consumerism With high standards of hygiene and athome delivery these sites have provided an easy alternative to retail stores Other similar businesses include food delivery apps and grocery sites that are also flourishing today amidst the pandemic Recent weeks have made it evident that Ecommerce websites are well on their way to abolish traditional shopping methods OTT Platforms Online streaming platforms consist of a relatively newer approach to entertainment having only been in existence for the past couple of years They had already however established a name for themselves before the lockdowns Sites such as Netflix and Amazon Prime had been dominating a chunk of the market share and competing heavily with movie theatres for new releases for a while now Now with the lockdown practically deleting theatres and cable TV from the collective psyche of the entertainment industry they are well on their way to becoming the platform of choice as far as entertainment for the masses is concerned This has already become evident with Zee5 India reporting a whopping 80 increase in subscriptions and a 50 increase in the time spent on their site within the first couple of weeks of the lockdown itself Another such platform MUBI reported a 28 rise in its viewership in India only a week after lockdown commenced These facts are a clear indication of the exponential growth that is in store for these platforms which is unlikely to change anytime soon VideoConferencing Platforms The idea of working from home is all set to be the new norm in our professional culture which requires an easy and effective way to communicate over the internet Not just audio or text but video conferencing is the need today Hence it’s understandable why multiple video conferencing services are set to reap massive profits off of the new norm Arguably the most popular of these Zoom has reported a 130 increase in its price share since the beginning of 2020 Another such platform known as the Microsoft Teams collaboration suite operated by Microsoft has reported a whopping 12 million increase in its user base in the very first week of the lockdown in the US This data is only likely to have an upwards trajectory considering the increasing pace at which industries are going online The Indian Picture The Indian IT landscape has also undergone massive cultural changes According to Rajesh Gopinathan chief executive officer and managing director of Tata Consultancy Services Ltd the “work from home” model of operations is here to stay He also claimed that the firms only requires a 25 workforce to be physically present for any project at any of the locations Tata Consultancy Services which is one of the major players in the Indian IT landscape has shifted almost 90 of its workforce into a remote borderless workspace model and other smaller firms have followed suit What it tells us is that we’re headed in a direction we’re unlikely to return from Remote working appears to be the modern protocol for operations and is unlikely to change anytime soon However a major challenge often overlooked in such circumstances is that of an adaptable culture The culture of workspaces has to be drastically altered and members of the workforce have to dive headfirst into the new way of doing business This is critical to ensure that the industry can combat the pandemic and recover gloriously A duality unlike any other The lockdown has presented us with a stark contrast unlike any other we’ve witnessed Where on the one hand the industries mentioned above seem to be exhibiting exponential growth with their people thriving and having every possible resource at their disposal the unorganized sector and the MSMEs Micro Small and Medium Enterprises seem to be at the crux of death The sector that consists of people for whom having guidelines to work from home is irrelevant as that was never really an option people with no fixed wages or social security to fall back on during this time of crisis As a result of the lockdown several of these MSMEs have effectively become inoperable and have resorted to massive layoffs just to survive This has resulted in thousands of workers losing their jobs with nowhere to go to for refuge A chunk of these people includes migrant workers who have lost their jobs and are left with little to no avenue to feed themselves Not receiving significant support from the government these people have been initiating treks back to their villages What is witnessed is a massive influx of migrant workers flooding the highways walking weeks to find shelter and food Truck drivers responsible for delivering goods have also resigned stating that they have no means to eat because of the closure of every food joint on the highways Both these realities present a stark contrast and expose a deep crack in our societal framework One I reckon won’t heal anytime soon A train Unlikely to Halt The COVID 19 pandemic has restructured our social fabric in a way that is unlikely to change anytime soon The areas that we’ve discussed are likely to become the flagbearers of the digital revolution of the decade An upward mobilization with regards to massive scale movement of industries online seems pertinent today being led by these domains in the IT industry An unfortunate consequence of it is that a majority of the MSMEs may soon cease to exist having been replaced by some of the other alternatives that we’ve discussed It seems to be a neverending circle where the ones who are making a profit out of this situation will continue to do so while the others will be washed out from our collective memory Blackcoffer Insights 18 Souvik ChakrabortyIndian Institute of Engineering Science and Technology Shibpur \n",
      "['The', 'COVID', '19', 'pandemic', 'has', 'reshaped', 'the', 'fundamental', 'fabric', 'of', 'our', 'world', 'Initiating', 'in', 'China', 'in', 'late', 'December', '2019', 'the', 'virus', 'has', 'since', 'then', 'spread', 'to', 'every', 'corner', 'of', 'the', 'world', 'infecting', 'millions', 'in', 'its', 'wake', 'Countries', 'around', 'the', 'world', 'have', 'responded', 'by', 'shutting', 'down', 'their', 'economies', 'and', 'advocating', 'lockdowns', 'of', 'varying', 'degrees', 'India', 'has', 'arguably', 'had', 'one', 'of', 'the', 'most', 'stringent', 'lockdowns', 'of', 'all', 'countries', 'restricting', 'the', 'movement', 'of', 'people', 'goods', 'and', 'effectively', 'transforming', 'every', 'city', 'into', 'a', 'ghost', 'town', 'Due', 'to', 'such', 'stringent', 'restrictions', 'on', 'movement', 'the', 'economy', 'has', 'received', 'a', 'fatal', 'blow', 'The', 'virus', 'arrived', 'in', 'India', 'at', 'a', 'time', 'when', 'the', 'country', 'was', 'already', 'in', 'strife', 'dealing', 'with', 'a', 'slowing', 'GDP', 'growth', 'rate', 'and', 'an', 'everincreasing', 'fiscal', 'deficit', 'The', 'lockdown', 'has', 'simply', 'exacerbated', 'the', 'economic', 'predicament', 'pushing', 'multiple', 'businesses', 'and', 'industries', 'to', 'a', 'moribund', 'state', 'Other', 'countries', 'have', 'also', 'faced', 'a', 'similar', 'predicament', 'particularly', 'in', 'the', 'US', 'and', 'Europe', 'both', 'being', 'hotspots', 'for', 'virus', 'transmission', 'However', 'upon', 'taking', 'a', 'closer', 'look', 'at', 'the', 'global', 'economy', 'there', 'seems', 'to', 'have', 'been', 'an', 'upward', 'mobilization', 'in', 'some', 'of', 'the', 'sectors', 'in', 'the', 'IT', 'domain', 'These', 'sectors', 'seem', 'to', 'have', 'exorbitantly', 'increased', 'their', 'scale', 'of', 'operations', 'and', 'have', 'overall', 'reaped', 'hefty', 'profits', 'So', 'what', 'is', 'it', 'that', 'differentiates', 'these', 'areas', 'from', 'the', 'rest', 'and', 'what', 'can', 'we', 'learn', 'from', 'them', 'A', 'path', 'to', 'victory', 'If', 'we', 'look', 'at', 'the', 'evolving', 'ITITeS', 'industry', 'around', 'the', 'world', 'the', 'domains', 'that', 'have', 'flourished', 'in', 'this', 'strenuous', 'time', 'all', 'have', 'had', 'one', 'key', 'characteristic', 'in', 'common', 'flexibility', 'These', 'sectors', 'have', 'adopted', 'a', 'more', 'flexible', 'approach', 'to', 'dealing', 'with', 'the', 'lockdown', 'Be', 'it', 'flexible', 'working', 'procedures', 'or', 'adopting', 'newer', 'more', 'advanced', 'ways', 'of', 'working', 'in', 'line', 'with', 'the', 'requirements', 'of', 'our', 'time', 'they', 'haven’t', 'shied', 'away', 'from', 'changing', 'the', 'rules', 'of', 'the', 'game', 'Let’s', 'look', 'at', 'some', 'of', 'these', 'areas', 'within', 'the', 'tech', 'domain', 'that', 'have', 'been', 'successful', 'in', 'conquering', 'the', 'lockdown', 'Social', 'Media', 'Lockdowns', 'around', 'the', 'globe', 'have', 'confined', 'people', 'inside', 'their', 'homes', 'with', 'nothing', 'much', 'to', 'do', 'of', 'significance', 'As', 'a', 'result', 'social', 'networking', 'sites', 'have', 'reported', 'a', 'gigantic', 'rise', 'in', 'user', 'engagement', 'over', 'the', 'lockdown', 'period', 'Reportedly', 'there', 'has', 'been', 'close', 'to', 'a', '50', 'rise', 'in', 'daily', 'text', 'transmissions', 'across', 'messaging', 'platforms', 'such', 'as', 'Facebook', 'Instagram', 'and', 'WhatsApp', 'in', 'the', 'hardesthit', 'economies', 'Twitter', 'has', 'reported', 'a', '23', 'increase', 'in', 'its', 'user', 'base', 'as', 'compared', 'to', 'last', 'year', 'The', 'data', 'makes', 'it', 'evident', 'that', 'social', 'media', 'platforms', 'are', 'here', 'to', 'reap', 'the', 'benefits', 'of', 'a', 'lockdown', 'situation', 'Video', 'consumption', 'sites', 'such', 'as', 'YouTube', 'Instagram', 'and', 'TikTok', 'are', 'in', 'line', 'to', 'reap', 'massive', 'profits', 'It’s', 'no', 'wonder', 'that', 'viewership', 'on', 'these', 'platforms', 'has', 'increased', 'manifolds', 'due', 'to', 'lockdowns', 'These', 'platforms', 'serve', 'to', 'be', 'a', 'distraction', 'from', 'the', 'tragedies', 'of', 'the', 'real', 'world', 'in', 'such', 'stressing', 'times', 'and', 'offer', 'an', 'easy', 'escape', 'Be', 'it', 'rumors', 'regarding', 'the', 'cure', 'for', 'COVID', '19', 'gossips', 'or', 'rap', 'battles', 'these', 'platforms', 'provide', 'viewers', 'with', 'their', 'muchneeded', 'dose', 'of', 'distractions', 'As', 'they', 'say', '“ignorance', 'is', 'bliss”', 'DataMining', 'Enterprises', 'The', 'lockdown', 'has', 'proven', 'to', 'be', 'a', 'miracle', 'for', 'datamining', 'companies', 'With', 'such', 'an', 'exorbitant', 'increase', 'in', 'the', 'number', 'of', 'hours', 'spent', 'online', 'globally', 'these', 'firms', 'now', 'have', 'access', 'to', 'significantly', 'larger', 'sets', 'of', 'data', 'than', 'they', 'otherwise', 'could', 'ever', 'have', 'Widespread', 'implementation', 'of', 'datamining', 'has', 'been', 'seen', 'recently', 'with', 'most', 'countries', 'opting', 'for', 'Governmentregulated', 'surveillance', 'applications', 'that', 'monitor', 'your', 'movement', 'at', 'all', 'times', 'Moreover', 'these', 'applications', 'have', 'access', 'to', 'your', 'personal', 'information', 'as', 'well', 'as', 'medical', 'records', 'Countries', 'such', 'as', 'South', 'Korea', 'and', 'Singapore', 'are', 'at', 'the', 'helm', 'of', 'relying', 'on', 'such', 'means', 'to', 'control', 'the', 'outbreak', 'Although', 'noble', 'such', 'initiatives', 'do', 'raise', 'a', 'red', 'flag', 'with', 'regards', 'to', 'user', 'privacy', 'The', 'public', 'has', 'been', 'provided', 'with', 'very', 'little', 'information', 'about', 'how', 'these', 'applications', 'operate', 'and', 'what', 'goes', 'on', 'behind', 'the', 'scenes', 'This', 'creates', 'an', 'atmosphere', 'of', 'obscurity', 'that', 'is', 'frankly', 'harmful', 'to', 'the', 'premise', 'of', 'a', 'democracy', 'Cloud', 'Computing', 'Cloud', 'computing', 'has', 'been', 'on', 'the', 'rise', 'for', 'the', 'last', 'couple', 'of', 'years', 'However', 'the', 'pandemic', 'has', 'made', 'it', 'the', 'de', 'facto', 'king', 'in', 'terms', 'of', 'computational', 'services', 'With', 'an', 'increasing', 'reliance', 'on', 'remote', 'working', 'the', 'ability', 'to', 'store', 'data', 'in', 'one', 'secure', 'location', 'has', 'turned', 'out', 'to', 'be', 'critical', 'The', 'cloud', 'computing', 'services', 'such', 'as', 'Amazon', 'Web', 'Services', 'Microsoft', 'Azure', 'and', 'Google', 'Cloud', 'have', 'reaped', 'hefty', 'profits', 'in', 'the', 'process', 'The', 'emerging', 'landscape', 'in', 'the', 'tech', 'world', 'seems', 'to', 'suggest', 'an', 'upward', 'trend', 'in', 'reliability', 'on', 'these', 'services', 'as', 'far', 'as', 'large', 'scale', 'data', 'storage', 'and', 'computing', 'is', 'concerned', 'ECommerce', 'Social', 'distancing', 'measures', 'have', 'made', 'it', 'practically', 'impossible', 'for', 'people', 'to', 'physically', 'go', 'shopping', 'for', 'groceries', 'and', 'other', 'necessities', 'Moreover', 'a', 'majority', 'of', 'retail', 'outlets', 'in', 'cities', 'have', 'reported', 'negligible', 'engagement', 'for', 'the', 'fear', 'of', 'transmission', 'of', 'the', 'virus', 'Ecommerce', 'sites', 'have', 'been', 'the', 'real', 'winners', 'in', 'this', 'predicament', 'of', 'global', 'consumerism', 'With', 'high', 'standards', 'of', 'hygiene', 'and', 'athome', 'delivery', 'these', 'sites', 'have', 'provided', 'an', 'easy', 'alternative', 'to', 'retail', 'stores', 'Other', 'similar', 'businesses', 'include', 'food', 'delivery', 'apps', 'and', 'grocery', 'sites', 'that', 'are', 'also', 'flourishing', 'today', 'amidst', 'the', 'pandemic', 'Recent', 'weeks', 'have', 'made', 'it', 'evident', 'that', 'Ecommerce', 'websites', 'are', 'well', 'on', 'their', 'way', 'to', 'abolish', 'traditional', 'shopping', 'methods', 'OTT', 'Platforms', 'Online', 'streaming', 'platforms', 'consist', 'of', 'a', 'relatively', 'newer', 'approach', 'to', 'entertainment', 'having', 'only', 'been', 'in', 'existence', 'for', 'the', 'past', 'couple', 'of', 'years', 'They', 'had', 'already', 'however', 'established', 'a', 'name', 'for', 'themselves', 'before', 'the', 'lockdowns', 'Sites', 'such', 'as', 'Netflix', 'and', 'Amazon', 'Prime', 'had', 'been', 'dominating', 'a', 'chunk', 'of', 'the', 'market', 'share', 'and', 'competing', 'heavily', 'with', 'movie', 'theatres', 'for', 'new', 'releases', 'for', 'a', 'while', 'now', 'Now', 'with', 'the', 'lockdown', 'practically', 'deleting', 'theatres', 'and', 'cable', 'TV', 'from', 'the', 'collective', 'psyche', 'of', 'the', 'entertainment', 'industry', 'they', 'are', 'well', 'on', 'their', 'way', 'to', 'becoming', 'the', 'platform', 'of', 'choice', 'as', 'far', 'as', 'entertainment', 'for', 'the', 'masses', 'is', 'concerned', 'This', 'has', 'already', 'become', 'evident', 'with', 'Zee5', 'India', 'reporting', 'a', 'whopping', '80', 'increase', 'in', 'subscriptions', 'and', 'a', '50', 'increase', 'in', 'the', 'time', 'spent', 'on', 'their', 'site', 'within', 'the', 'first', 'couple', 'of', 'weeks', 'of', 'the', 'lockdown', 'itself', 'Another', 'such', 'platform', 'MUBI', 'reported', 'a', '28', 'rise', 'in', 'its', 'viewership', 'in', 'India', 'only', 'a', 'week', 'after', 'lockdown', 'commenced', 'These', 'facts', 'are', 'a', 'clear', 'indication', 'of', 'the', 'exponential', 'growth', 'that', 'is', 'in', 'store', 'for', 'these', 'platforms', 'which', 'is', 'unlikely', 'to', 'change', 'anytime', 'soon', 'VideoConferencing', 'Platforms', 'The', 'idea', 'of', 'working', 'from', 'home', 'is', 'all', 'set', 'to', 'be', 'the', 'new', 'norm', 'in', 'our', 'professional', 'culture', 'which', 'requires', 'an', 'easy', 'and', 'effective', 'way', 'to', 'communicate', 'over', 'the', 'internet', 'Not', 'just', 'audio', 'or', 'text', 'but', 'video', 'conferencing', 'is', 'the', 'need', 'today', 'Hence', 'it’s', 'understandable', 'why', 'multiple', 'video', 'conferencing', 'services', 'are', 'set', 'to', 'reap', 'massive', 'profits', 'off', 'of', 'the', 'new', 'norm', 'Arguably', 'the', 'most', 'popular', 'of', 'these', 'Zoom', 'has', 'reported', 'a', '130', 'increase', 'in', 'its', 'price', 'share', 'since', 'the', 'beginning', 'of', '2020', 'Another', 'such', 'platform', 'known', 'as', 'the', 'Microsoft', 'Teams', 'collaboration', 'suite', 'operated', 'by', 'Microsoft', 'has', 'reported', 'a', 'whopping', '12', 'million', 'increase', 'in', 'its', 'user', 'base', 'in', 'the', 'very', 'first', 'week', 'of', 'the', 'lockdown', 'in', 'the', 'US', 'This', 'data', 'is', 'only', 'likely', 'to', 'have', 'an', 'upwards', 'trajectory', 'considering', 'the', 'increasing', 'pace', 'at', 'which', 'industries', 'are', 'going', 'online', 'The', 'Indian', 'Picture', 'The', 'Indian', 'IT', 'landscape', 'has', 'also', 'undergone', 'massive', 'cultural', 'changes', 'According', 'to', 'Rajesh', 'Gopinathan', 'chief', 'executive', 'officer', 'and', 'managing', 'director', 'of', 'Tata', 'Consultancy', 'Services', 'Ltd', 'the', '“work', 'from', 'home”', 'model', 'of', 'operations', 'is', 'here', 'to', 'stay', 'He', 'also', 'claimed', 'that', 'the', 'firms', 'only', 'requires', 'a', '25', 'workforce', 'to', 'be', 'physically', 'present', 'for', 'any', 'project', 'at', 'any', 'of', 'the', 'locations', 'Tata', 'Consultancy', 'Services', 'which', 'is', 'one', 'of', 'the', 'major', 'players', 'in', 'the', 'Indian', 'IT', 'landscape', 'has', 'shifted', 'almost', '90', 'of', 'its', 'workforce', 'into', 'a', 'remote', 'borderless', 'workspace', 'model', 'and', 'other', 'smaller', 'firms', 'have', 'followed', 'suit', 'What', 'it', 'tells', 'us', 'is', 'that', 'we’re', 'headed', 'in', 'a', 'direction', 'we’re', 'unlikely', 'to', 'return', 'from', 'Remote', 'working', 'appears', 'to', 'be', 'the', 'modern', 'protocol', 'for', 'operations', 'and', 'is', 'unlikely', 'to', 'change', 'anytime', 'soon', 'However', 'a', 'major', 'challenge', 'often', 'overlooked', 'in', 'such', 'circumstances', 'is', 'that', 'of', 'an', 'adaptable', 'culture', 'The', 'culture', 'of', 'workspaces', 'has', 'to', 'be', 'drastically', 'altered', 'and', 'members', 'of', 'the', 'workforce', 'have', 'to', 'dive', 'headfirst', 'into', 'the', 'new', 'way', 'of', 'doing', 'business', 'This', 'is', 'critical', 'to', 'ensure', 'that', 'the', 'industry', 'can', 'combat', 'the', 'pandemic', 'and', 'recover', 'gloriously', 'A', 'duality', 'unlike', 'any', 'other', 'The', 'lockdown', 'has', 'presented', 'us', 'with', 'a', 'stark', 'contrast', 'unlike', 'any', 'other', 'we’ve', 'witnessed', 'Where', 'on', 'the', 'one', 'hand', 'the', 'industries', 'mentioned', 'above', 'seem', 'to', 'be', 'exhibiting', 'exponential', 'growth', 'with', 'their', 'people', 'thriving', 'and', 'having', 'every', 'possible', 'resource', 'at', 'their', 'disposal', 'the', 'unorganized', 'sector', 'and', 'the', 'MSMEs', 'Micro', 'Small', 'and', 'Medium', 'Enterprises', 'seem', 'to', 'be', 'at', 'the', 'crux', 'of', 'death', 'The', 'sector', 'that', 'consists', 'of', 'people', 'for', 'whom', 'having', 'guidelines', 'to', 'work', 'from', 'home', 'is', 'irrelevant', 'as', 'that', 'was', 'never', 'really', 'an', 'option', 'people', 'with', 'no', 'fixed', 'wages', 'or', 'social', 'security', 'to', 'fall', 'back', 'on', 'during', 'this', 'time', 'of', 'crisis', 'As', 'a', 'result', 'of', 'the', 'lockdown', 'several', 'of', 'these', 'MSMEs', 'have', 'effectively', 'become', 'inoperable', 'and', 'have', 'resorted', 'to', 'massive', 'layoffs', 'just', 'to', 'survive', 'This', 'has', 'resulted', 'in', 'thousands', 'of', 'workers', 'losing', 'their', 'jobs', 'with', 'nowhere', 'to', 'go', 'to', 'for', 'refuge', 'A', 'chunk', 'of', 'these', 'people', 'includes', 'migrant', 'workers', 'who', 'have', 'lost', 'their', 'jobs', 'and', 'are', 'left', 'with', 'little', 'to', 'no', 'avenue', 'to', 'feed', 'themselves', 'Not', 'receiving', 'significant', 'support', 'from', 'the', 'government', 'these', 'people', 'have', 'been', 'initiating', 'treks', 'back', 'to', 'their', 'villages', 'What', 'is', 'witnessed', 'is', 'a', 'massive', 'influx', 'of', 'migrant', 'workers', 'flooding', 'the', 'highways', 'walking', 'weeks', 'to', 'find', 'shelter', 'and', 'food', 'Truck', 'drivers', 'responsible', 'for', 'delivering', 'goods', 'have', 'also', 'resigned', 'stating', 'that', 'they', 'have', 'no', 'means', 'to', 'eat', 'because', 'of', 'the', 'closure', 'of', 'every', 'food', 'joint', 'on', 'the', 'highways', 'Both', 'these', 'realities', 'present', 'a', 'stark', 'contrast', 'and', 'expose', 'a', 'deep', 'crack', 'in', 'our', 'societal', 'framework', 'One', 'I', 'reckon', 'won’t', 'heal', 'anytime', 'soon', 'A', 'train', 'Unlikely', 'to', 'Halt', 'The', 'COVID', '19', 'pandemic', 'has', 'restructured', 'our', 'social', 'fabric', 'in', 'a', 'way', 'that', 'is', 'unlikely', 'to', 'change', 'anytime', 'soon', 'The', 'areas', 'that', 'we’ve', 'discussed', 'are', 'likely', 'to', 'become', 'the', 'flagbearers', 'of', 'the', 'digital', 'revolution', 'of', 'the', 'decade', 'An', 'upward', 'mobilization', 'with', 'regards', 'to', 'massive', 'scale', 'movement', 'of', 'industries', 'online', 'seems', 'pertinent', 'today', 'being', 'led', 'by', 'these', 'domains', 'in', 'the', 'IT', 'industry', 'An', 'unfortunate', 'consequence', 'of', 'it', 'is', 'that', 'a', 'majority', 'of', 'the', 'MSMEs', 'may', 'soon', 'cease', 'to', 'exist', 'having', 'been', 'replaced', 'by', 'some', 'of', 'the', 'other', 'alternatives', 'that', 'we’ve', 'discussed', 'It', 'seems', 'to', 'be', 'a', 'neverending', 'circle', 'where', 'the', 'ones', 'who', 'are', 'making', 'a', 'profit', 'out', 'of', 'this', 'situation', 'will', 'continue', 'to', 'do', 'so', 'while', 'the', 'others', 'will', 'be', 'washed', 'out', 'from', 'our', 'collective', 'memory', 'Blackcoffer', 'Insights', '18', 'Souvik', 'ChakrabortyIndian', 'Institute', 'of', 'Engineering', 'Science', 'and', 'Technology', 'Shibpur']\n"
     ]
    }
   ],
   "source": [
    "content=soup.findAll(attrs={'class':'td-post-content'})\n",
    "content=content[0].text.replace('\\n',\" \")\n",
    "print(content)\n",
    "#Punctuation\n",
    "content = content.translate(str.maketrans('', '', string.punctuation)) \n",
    "print(content)\n",
    "text = content.split()\n",
    "print(text)\n"
   ]
  },
  {
   "cell_type": "code",
   "execution_count": 3,
   "id": "d9d0a6a5",
   "metadata": {},
   "outputs": [
    {
     "data": {
      "text/plain": [
       "1764"
      ]
     },
     "execution_count": 3,
     "metadata": {},
     "output_type": "execute_result"
    }
   ],
   "source": [
    "len(text)"
   ]
  },
  {
   "cell_type": "code",
   "execution_count": 4,
   "id": "54436d8a",
   "metadata": {},
   "outputs": [
    {
     "name": "stdout",
     "output_type": "stream",
     "text": [
      "38\n"
     ]
    }
   ],
   "source": [
    "#Positive Score \n",
    "with open(r\"C:\\Users\\Om Bhandwalkar\\Desktop\\pos\\positive-words.txt\") as pos:\n",
    "    poswords = pos.read().split(\"\\n\")  \n",
    "    poswords = poswords[5:]\n",
    "pos_count = \" \".join ([w for w in text if w in poswords])\n",
    "pos_count=pos_count.split(\" \")\n",
    "Positive_score=len(pos_count)\n",
    "print(Positive_score)"
   ]
  },
  {
   "cell_type": "code",
   "execution_count": 5,
   "id": "bc2168b6",
   "metadata": {},
   "outputs": [
    {
     "name": "stdout",
     "output_type": "stream",
     "text": [
      "49\n"
     ]
    }
   ],
   "source": [
    "#Negative Score\n",
    "with open(r\"C:\\Users\\Om Bhandwalkar\\Desktop\\pos\\negative-words.txt\",encoding =\"ISO-8859-1\") as neg:\n",
    "    negwords = neg.read().split(\"\\n\")\n",
    "    \n",
    "negwords = negwords[36:]\n",
    "neg_count = \" \".join ([w for w in text if w in negwords])\n",
    "neg_count=neg_count.split(\" \")\n",
    "Negative_score=len(neg_count)\n",
    "print(Negative_score)"
   ]
  },
  {
   "cell_type": "code",
   "execution_count": 6,
   "id": "eb82a05f",
   "metadata": {},
   "outputs": [
    {
     "data": {
      "text/html": [
       "<div>\n",
       "<style scoped>\n",
       "    .dataframe tbody tr th:only-of-type {\n",
       "        vertical-align: middle;\n",
       "    }\n",
       "\n",
       "    .dataframe tbody tr th {\n",
       "        vertical-align: top;\n",
       "    }\n",
       "\n",
       "    .dataframe thead th {\n",
       "        text-align: right;\n",
       "    }\n",
       "</style>\n",
       "<table border=\"1\" class=\"dataframe\">\n",
       "  <thead>\n",
       "    <tr style=\"text-align: right;\">\n",
       "      <th></th>\n",
       "      <th>url</th>\n",
       "      <th>title</th>\n",
       "      <th>content</th>\n",
       "      <th>filter_content</th>\n",
       "      <th>Positive_Score</th>\n",
       "      <th>Negative_Score</th>\n",
       "      <th>polarity</th>\n",
       "      <th>subjectivity</th>\n",
       "    </tr>\n",
       "  </thead>\n",
       "  <tbody>\n",
       "    <tr>\n",
       "      <th>0</th>\n",
       "      <td>https://insights.blackcoffer.com/changing-land...</td>\n",
       "      <td>Changing landscape and emerging trends in the ...</td>\n",
       "      <td>The COVID 19 pandemic has reshaped the fundam...</td>\n",
       "      <td>The COVID 19 pandemic has reshaped the fundame...</td>\n",
       "      <td>38</td>\n",
       "      <td>49</td>\n",
       "      <td>0.019572</td>\n",
       "      <td>0.461246</td>\n",
       "    </tr>\n",
       "  </tbody>\n",
       "</table>\n",
       "</div>"
      ],
      "text/plain": [
       "                                                 url  \\\n",
       "0  https://insights.blackcoffer.com/changing-land...   \n",
       "\n",
       "                                               title  \\\n",
       "0  Changing landscape and emerging trends in the ...   \n",
       "\n",
       "                                             content  \\\n",
       "0   The COVID 19 pandemic has reshaped the fundam...   \n",
       "\n",
       "                                      filter_content  Positive_Score  \\\n",
       "0  The COVID 19 pandemic has reshaped the fundame...              38   \n",
       "\n",
       "   Negative_Score  polarity  subjectivity  \n",
       "0              49  0.019572      0.461246  "
      ]
     },
     "execution_count": 6,
     "metadata": {},
     "output_type": "execute_result"
    }
   ],
   "source": [
    "filter_content = ' '.join(text)\n",
    "data=[[url,title,content,filter_content,Positive_score,Negative_score]]\n",
    "data=pd.DataFrame(data,columns=[\"url\",\"title\",\"content\",\"filter_content\",\"Positive_Score\",\"Negative_Score\"])\n",
    "from textblob import TextBlob\n",
    "# Get The Subjectivity\n",
    "def sentiment_analysis(data):\n",
    "    sentiment = TextBlob(data[\"content\"]).sentiment\n",
    "    return pd.Series([sentiment.polarity,sentiment.subjectivity ])\n",
    "\n",
    "# Adding Subjectivity & Polarity\n",
    "data[[\"polarity\", \"subjectivity\"]] = data.apply(sentiment_analysis, axis=1)\n",
    "\n",
    "data"
   ]
  },
  {
   "cell_type": "code",
   "execution_count": 8,
   "id": "50e0bb21",
   "metadata": {},
   "outputs": [
    {
     "name": "stdout",
     "output_type": "stream",
     "text": [
      "Word average = 8837.0\n",
      "FOG INDEX =  709.41\n",
      "Average no of words per sentence\n",
      "1764.0\n",
      "Complex Words 3181\n"
     ]
    }
   ],
   "source": [
    "#AVG SENTENCE LENGTH\n",
    "AVG_SENTENCE_LENGTH = len(content.replace(' ',''))/len(re.split(r'[?!.]', content))\n",
    "print('Word average =', AVG_SENTENCE_LENGTH)\n",
    "import textstat\n",
    "#Fog index \n",
    "FOG_INDEX=(textstat.gunning_fog(content))\n",
    "print(\"FOG INDEX = \",FOG_INDEX)\n",
    "#Average No of Words Per Sentence \n",
    "AVG_NUMBER_OF_WORDS_PER_SENTENCE = [len(l.split()) for l in re.split(r'[?!.]', content) if l.strip()]\n",
    "print(\"Average no of words per sentence\")\n",
    "AVG_NUMBER_OF_WORDS_PER_SENTENCE=print(sum(AVG_NUMBER_OF_WORDS_PER_SENTENCE)/len(AVG_NUMBER_OF_WORDS_PER_SENTENCE))\n",
    "#Complex words\n",
    "def syllable_count(word):\n",
    "    count = 0\n",
    "    vowels = \"AEIOUYaeiouy\"\n",
    "    if word[0] in vowels:\n",
    "        count += 1\n",
    "    for index in range(1, len(word)): \n",
    "        if word[index] in vowels and word[index - 1] not in vowels:\n",
    "            count += 1\n",
    "            if word.endswith(\"es\"or \"ed\"):\n",
    "                count -= 1\n",
    "    if count == 0:\n",
    "        count += 1\n",
    "    return count\n",
    "\n",
    "\n",
    "\n",
    "COMPLEX_WORDS=syllable_count(content)\n",
    "print(\"Complex Words\",COMPLEX_WORDS)\n"
   ]
  },
  {
   "cell_type": "code",
   "execution_count": 9,
   "id": "0aaefa03",
   "metadata": {},
   "outputs": [
    {
     "name": "stdout",
     "output_type": "stream",
     "text": [
      "Word Count 10602\n",
      "Percentage of Complex Words 30.003772873042823\n",
      "Average Word per Length 5.009637188208616\n",
      "The AVG number of syllables in the word is: \n",
      "1.9994331065759636\n"
     ]
    }
   ],
   "source": [
    "#Word Count\n",
    "Word_Count=len(content)\n",
    "print(\"Word Count\",Word_Count)\n",
    "#Percentage Complex Words\n",
    "pcw=(COMPLEX_WORDS/Word_Count)*100\n",
    "print(\"Percentage of Complex Words\",pcw)\n",
    "#Average Word Length\n",
    "Average_Word_Length=len(content.replace(' ',''))/len(content.split())\n",
    "print(\"Average Word per Length\",Average_Word_Length)\n",
    "#Syllable Count Per Word\n",
    "word=content.replace(' ','')\n",
    "syllable_count=0\n",
    "for w in word:\n",
    "      if(w=='a' or w=='e' or w=='i' or w=='o' or w=='y' or w=='u' or w=='A' or w=='E' or w=='I' or w=='O' or w=='U' or w=='Y'):\n",
    "            syllable_count=syllable_count+1\n",
    "print(\"The AVG number of syllables in the word is: \")\n",
    "print(syllable_count/len(content.split()))"
   ]
  },
  {
   "cell_type": "code",
   "execution_count": 1,
   "id": "06762a0d",
   "metadata": {},
   "outputs": [
    {
     "name": "stdout",
     "output_type": "stream",
     "text": [
      "38\n",
      "49\n",
      "Word average = 8837.0\n",
      "FOG INDEX =  709.41\n",
      "Average no of words per sentence\n",
      "1764.0\n",
      "Complex Words 3181\n",
      "Word Count 10602\n",
      "Percentage of Complex Words 30.003772873042823\n",
      "Average Word per Length 5.009637188208616\n",
      "The AVG number of syllables in the word is: \n",
      "1.9994331065759636\n"
     ]
    },
    {
     "data": {
      "text/html": [
       "<div>\n",
       "<style scoped>\n",
       "    .dataframe tbody tr th:only-of-type {\n",
       "        vertical-align: middle;\n",
       "    }\n",
       "\n",
       "    .dataframe tbody tr th {\n",
       "        vertical-align: top;\n",
       "    }\n",
       "\n",
       "    .dataframe thead th {\n",
       "        text-align: right;\n",
       "    }\n",
       "</style>\n",
       "<table border=\"1\" class=\"dataframe\">\n",
       "  <thead>\n",
       "    <tr style=\"text-align: right;\">\n",
       "      <th></th>\n",
       "      <th>url</th>\n",
       "      <th>title</th>\n",
       "      <th>content</th>\n",
       "      <th>filter_content</th>\n",
       "      <th>Positive_Score</th>\n",
       "      <th>Negative_Score</th>\n",
       "      <th>Avg_Sentence_Length</th>\n",
       "      <th>Percentage_Complex_Word</th>\n",
       "      <th>Fog_Index</th>\n",
       "      <th>AVG_NUMBER_OF_WORDS_PER_SENTENCE</th>\n",
       "      <th>COMPLEX_WORDS</th>\n",
       "      <th>Word_Count</th>\n",
       "      <th>syllable</th>\n",
       "      <th>Average_Word_Length</th>\n",
       "      <th>polarity</th>\n",
       "      <th>subjectivity</th>\n",
       "    </tr>\n",
       "  </thead>\n",
       "  <tbody>\n",
       "    <tr>\n",
       "      <th>0</th>\n",
       "      <td>https://insights.blackcoffer.com/changing-land...</td>\n",
       "      <td>Changing landscape and emerging trends in the ...</td>\n",
       "      <td>The COVID 19 pandemic has reshaped the fundam...</td>\n",
       "      <td>The COVID 19 pandemic has reshaped the fundame...</td>\n",
       "      <td>38</td>\n",
       "      <td>49</td>\n",
       "      <td>8837.0</td>\n",
       "      <td>30.003773</td>\n",
       "      <td>709.41</td>\n",
       "      <td>1764.0</td>\n",
       "      <td>3181</td>\n",
       "      <td>10602</td>\n",
       "      <td>1.999433</td>\n",
       "      <td>5.009637</td>\n",
       "      <td>0.019572</td>\n",
       "      <td>0.461246</td>\n",
       "    </tr>\n",
       "  </tbody>\n",
       "</table>\n",
       "</div>"
      ],
      "text/plain": [
       "                                                 url  \\\n",
       "0  https://insights.blackcoffer.com/changing-land...   \n",
       "\n",
       "                                               title  \\\n",
       "0  Changing landscape and emerging trends in the ...   \n",
       "\n",
       "                                             content  \\\n",
       "0   The COVID 19 pandemic has reshaped the fundam...   \n",
       "\n",
       "                                      filter_content  Positive_Score  \\\n",
       "0  The COVID 19 pandemic has reshaped the fundame...              38   \n",
       "\n",
       "   Negative_Score  Avg_Sentence_Length  Percentage_Complex_Word  Fog_Index  \\\n",
       "0              49               8837.0                30.003773     709.41   \n",
       "\n",
       "    AVG_NUMBER_OF_WORDS_PER_SENTENCE  COMPLEX_WORDS  Word_Count  syllable  \\\n",
       "0                             1764.0           3181       10602  1.999433   \n",
       "\n",
       "   Average_Word_Length  polarity  subjectivity  \n",
       "0             5.009637  0.019572      0.461246  "
      ]
     },
     "execution_count": 1,
     "metadata": {},
     "output_type": "execute_result"
    }
   ],
   "source": [
    "import requests\n",
    "import pandas as pd \n",
    "from bs4 import BeautifulSoup\n",
    "import string\n",
    "import spacy\n",
    "import re\n",
    "url = \"\"\"https://insights.blackcoffer.com/changing-landscape-and-emerging-trends-in-the-indian-it-ites-industry/\"\"\"\n",
    "headers = {\"User-Agent\": \"Mozilla/5.0 (X11; Linux x86_64; rv:60.0) Gecko/20100101 Firefox/60.0\"}\n",
    "page = requests.get(url, headers=headers)\n",
    "soup = BeautifulSoup(page.content, 'html.parser')\n",
    "soup=BeautifulSoup(page.content, 'html.parser')\n",
    "title=soup.find('h1',class_=\"entry-title\")\n",
    "title=title.text.replace('\\n',\" \")\n",
    "# title\n",
    "\n",
    "content=soup.findAll(attrs={'class':'td-post-content'})\n",
    "content=content[0].text.replace('\\n',\" \")\n",
    "# print(content)\n",
    "#Punctuation\n",
    "content = content.translate(str.maketrans('', '', string.punctuation)) \n",
    "# print(content)\n",
    "text = content.split()\n",
    "# print(text)\n",
    "len(text)\n",
    "#Positive Score \n",
    "with open(r\"C:\\Users\\Om Bhandwalkar\\Desktop\\pos\\positive-words.txt\") as pos:\n",
    "    poswords = pos.read().split(\"\\n\")  \n",
    "    poswords = poswords[5:]\n",
    "pos_count = \" \".join ([w for w in text if w in poswords])\n",
    "pos_count=pos_count.split(\" \")\n",
    "Positive_score=len(pos_count)\n",
    "print(Positive_score)\n",
    "\n",
    "#Negative Score\n",
    "with open(r\"C:\\Users\\Om Bhandwalkar\\Desktop\\pos\\negative-words.txt\",encoding =\"ISO-8859-1\") as neg:\n",
    "    negwords = neg.read().split(\"\\n\")\n",
    "    \n",
    "negwords = negwords[36:]\n",
    "neg_count = \" \".join ([w for w in text if w in negwords])\n",
    "neg_count=neg_count.split(\" \")\n",
    "Negative_score=len(neg_count)\n",
    "print(Negative_score)\n",
    "\n",
    "\n",
    "filter_content = ' '.join(text)\n",
    "data=[[url,title,content,filter_content,Positive_score,Negative_score]]\n",
    "data=pd.DataFrame(data,columns=[\"url\",\"title\",\"content\",\"filter_content\",\"Positive_Score\",\"Negative_Score\"])\n",
    "from textblob import TextBlob\n",
    "# Get The Subjectivity\n",
    "def sentiment_analysis(data):\n",
    "    sentiment = TextBlob(data[\"content\"]).sentiment\n",
    "    return pd.Series([sentiment.polarity,sentiment.subjectivity ])\n",
    "data[[\"polarity\", \"subjectivity\"]] = data.apply(sentiment_analysis, axis=1)\n",
    "data\n",
    "#AVG SENTENCE LENGTH\n",
    "AVG_SENTENCE_LENGTH = len(content.replace(' ',''))/len(re.split(r'[?!.]', content))\n",
    "print('Word average =', AVG_SENTENCE_LENGTH)\n",
    "import textstat\n",
    "#Fog index \n",
    "FOG_INDEX=(textstat.gunning_fog(content))\n",
    "print(\"FOG INDEX = \",FOG_INDEX)\n",
    "#Average No of Words Per Sentence \n",
    "AVG_NUMBER_OF_WORDS_PER_SENTENCE = [len(l.split()) for l in re.split(r'[?!.]', content) if l.strip()]\n",
    "print(\"Average no of words per sentence\")\n",
    "AVG_NUMBER_OF_WORDS_PER_SENTENCE=(sum(AVG_NUMBER_OF_WORDS_PER_SENTENCE)/len(AVG_NUMBER_OF_WORDS_PER_SENTENCE))\n",
    "print(AVG_NUMBER_OF_WORDS_PER_SENTENCE)\n",
    "#Complex words\n",
    "def syllable_count(word):\n",
    "    count = 0\n",
    "    vowels = \"AEIOUYaeiouy\"\n",
    "    if word[0] in vowels:\n",
    "        count += 1\n",
    "    for index in range(1, len(word)): \n",
    "        if word[index] in vowels and word[index - 1] not in vowels:\n",
    "            count += 1\n",
    "            if word.endswith(\"es\"or \"ed\"):\n",
    "                count -= 1\n",
    "    if count == 0:\n",
    "        count += 1\n",
    "    return count\n",
    "\n",
    "\n",
    "\n",
    "COMPLEX_WORDS=syllable_count(content)\n",
    "print(\"Complex Words\",COMPLEX_WORDS)\n",
    "#Word Count\n",
    "Word_Count=len(content)\n",
    "print(\"Word Count\",Word_Count)\n",
    "#Percentage Complex Words\n",
    "pcw=(COMPLEX_WORDS/Word_Count)*100\n",
    "print(\"Percentage of Complex Words\",pcw)\n",
    "#Average Word Length\n",
    "Average_Word_Length=len(content.replace(' ',''))/len(content.split())\n",
    "print(\"Average Word per Length\",Average_Word_Length)\n",
    "#Syllable Count Per Word\n",
    "word=content.replace(' ','')\n",
    "syllable_count=0\n",
    "for w in word:\n",
    "      if(w=='a' or w=='e' or w=='i' or w=='o' or w=='y' or w=='u' or w=='A' or w=='E' or w=='I' or w=='O' or w=='U' or w=='Y'):\n",
    "            syllable_count=syllable_count+1\n",
    "print(\"The AVG number of syllables in the word is: \")\n",
    "syllable = (syllable_count/len(content.split()))\n",
    "print(syllable)\n",
    "\n",
    "data = [[url,title,content,filter_content,Positive_score,Negative_score,AVG_SENTENCE_LENGTH,pcw,FOG_INDEX,\n",
    "         AVG_NUMBER_OF_WORDS_PER_SENTENCE,COMPLEX_WORDS,Word_Count,syllable,Average_Word_Length]]\n",
    "data=pd.DataFrame(data,columns=[\"url\",\"title\",\"content\",\"filter_content\",\"Positive_Score\",\"Negative_Score\",\"Avg_Sentence_Length\"\n",
    "                               ,\"Percentage_Complex_Word\",\"Fog_Index\",\" AVG_NUMBER_OF_WORDS_PER_SENTENCE\",\"COMPLEX_WORDS\",\n",
    "                               \"Word_Count\",\"syllable\",\"Average_Word_Length\"])\n",
    "from textblob import TextBlob\n",
    "# Get The Subjectivity\n",
    "def sentiment_analysis(data):\n",
    "    sentiment = TextBlob(data[\"content\"]).sentiment\n",
    "    return pd.Series([sentiment.polarity,sentiment.subjectivity ])\n",
    "data[[\"polarity\", \"subjectivity\"]] = data.apply(sentiment_analysis, axis=1)\n",
    "data"
   ]
  },
  {
   "cell_type": "code",
   "execution_count": 2,
   "id": "90dc4ef1",
   "metadata": {},
   "outputs": [],
   "source": [
    "data.to_csv(r'C:\\Users\\Om Bhandwalkar\\Desktop\\BlackCoffer Assignment\\Output\\url_89.csv')"
   ]
  },
  {
   "cell_type": "code",
   "execution_count": null,
   "id": "e0b2542c",
   "metadata": {},
   "outputs": [],
   "source": []
  }
 ],
 "metadata": {
  "kernelspec": {
   "display_name": "Python 3 (ipykernel)",
   "language": "python",
   "name": "python3"
  },
  "language_info": {
   "codemirror_mode": {
    "name": "ipython",
    "version": 3
   },
   "file_extension": ".py",
   "mimetype": "text/x-python",
   "name": "python",
   "nbconvert_exporter": "python",
   "pygments_lexer": "ipython3",
   "version": "3.9.12"
  }
 },
 "nbformat": 4,
 "nbformat_minor": 5
}
