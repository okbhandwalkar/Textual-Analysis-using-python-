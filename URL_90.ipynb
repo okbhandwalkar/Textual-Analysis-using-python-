{
 "cells": [
  {
   "cell_type": "code",
   "execution_count": 1,
   "id": "059269d6",
   "metadata": {},
   "outputs": [
    {
     "data": {
      "text/plain": [
       "'Online gaming: Adolescent online gaming effects demotivated, depression, musculoskeletal, and psychosomatic symptoms.'"
      ]
     },
     "execution_count": 1,
     "metadata": {},
     "output_type": "execute_result"
    }
   ],
   "source": [
    "import requests\n",
    "import pandas as pd \n",
    "from bs4 import BeautifulSoup\n",
    "import string\n",
    "import spacy\n",
    "import re\n",
    "url = \"\"\"https://insights.blackcoffer.com/online-gaming-adolescent-online-gaming-effects-demotivated-depression-musculoskeletal-and-psychosomatic-symptoms/\"\"\"\n",
    "headers = {\"User-Agent\": \"Mozilla/5.0 (X11; Linux x86_64; rv:60.0) Gecko/20100101 Firefox/60.0\"}\n",
    "page = requests.get(url, headers=headers)\n",
    "soup = BeautifulSoup(page.content, 'html.parser')\n",
    "soup=BeautifulSoup(page.content, 'html.parser')\n",
    "title=soup.find('h1',class_=\"entry-title\")\n",
    "title=title.text.replace('\\n',\" \")\n",
    "title\n"
   ]
  },
  {
   "cell_type": "code",
   "execution_count": 2,
   "id": "ca9e9a3f",
   "metadata": {},
   "outputs": [
    {
     "name": "stdout",
     "output_type": "stream",
     "text": [
      " Introduction  A video game is any software program that can be played on a computing device, such as a personal computer, gaming console, or mobile device. Video games have been in existence since the early 1970s and have become increasingly popular, spanning different mobile (smartphones, tablets) and stationary (computer or console) platforms. Advances, particularly in mobile devices, have given birth to social networks and group gaming Although the nature of gaming does not require physical stamina and therefore is not limited by factors such as age, gender, or fitness, it is most popular with adolescents. In 2018, the World Health Organization (WHO) classified gaming disorder in their International Classification of Diseases (ICD-11). The ICD-11 is a list of diseases and medical conditions that aids health professionals in making diagnoses and treatment plans for patients having various disorders. It should be noted that, the inclusion of gaming disorder in the ICD-11 by WHO has generated vigorous and sometimes contentious debate and discussion within the medical and mental health community. Although recognized as an area of clinical interest, the Diagnostic and Statistical Manual of Mental Disorders (DSM-5) published by the American Psychiatric Association suggests that more clinical research is required before Gaming Disorder is formally considered as a psychiatric disorder. Similarly, the WHO notes the inclusion of gaming disorder in ICD-11, to encourage more research into excessive gaming behavior, including its prevention and treatment. What is Online gaming disorder? 2018 WHO draft 11th Revision of the ICD-11 denotes the disorder as a pattern of “digital-gaming” or “video-gaming” behavior characterized by impaired control over gaming activity, increasing priority given to gaming over other activities to the extent that gaming takes precedence over other interests and daily activities, and the continuation or escalation of gaming despite the occurrence of negative consequences. Online Gaming disorder has the same similarities with Internet gaming disorder (IGD), which is a condition that the American Psychiatric Association (APA) noted in DSM-5 as an area in need of additional study. The APA does not currently recognize IGD as an official condition. For gaming disorder to be diagnosed, the WHO criteria require that the behavioral pattern of the gamer must be of sufficient severity that major and noticeable impairment and deterioration in personal, family, social, educational, occupational or other important areas of functioning is present for a minimum of 12 months. Signs and symptoms of Online gaming disorder According to the WHO definition, a person with online gaming disorder will demonstrate the following characteristics for at least 12 months; problems controlling control their gaming habits, seeing gaming as more important over other necessities and daily activities or work, continuing to engage in gaming even after its negative health and social problems has been identified or are evident. Further research shows that gaming disorders can also be linked to anxiety, depression, obesity, sleeping disorders, and stress. People who remain physically inactive for long periods because of gaming may also be at higher risk of obesity, sleep disorders, and other health-related issues, according to WHO [1]. Health consequences of video Online gaming Video game-related health problems can cause continuous strain injuries, skin disorders, and other health issues. Other problems according to Shoja et al. (2007), include a condition that could be termed video game-provoked seizures in patients with pre-existing epilepsy. The following health consequences of video gaming have been reported. Vision issues Video game playing is associated with eye problems. Extensive and fixed staring at a video game screen causes eyestrain because the cornea, pupil, and iris are not biologically equipped for chronic heavy viewing of digital images from electronic devices. The visual system strain from frequent video game use over extended periods may result in headaches, dizziness, and in some cases, nausea and vomiting. Interestingly, there is some research that shows that gamers have an enhancement of spatial distribution of attention, compared with non-gamers. This somewhat predictable practice effect occurs with both peripheral and central visual attention. For sufferers of amblyopia (dimness or blurring of the eyesight due to a fault in transmission from the eye to the brain) video games may be helpful. Musculoskeletal problems Persistent gamers may also suffer from musculoskeletal problems. A survey of children indicated increased physical complaints associated with video game playing. Such complaints range from pain in the hands and wrists to back and neck. Furthermore, a case report involving a nine-year-old teenager referenced Playstation thumb. Playstation thumb is, characterized by numbness and a blister is caused by friction between the thumb and the controller from rapid and persistent gameplay. Using dermoscopy, dermatologists discovered hemorrhages and onycholysis (the loosening or separation of a fingernail) in a patient who presented with hyperkeratosis. Also, tendon injuries (tendinosis) of the hands and wrists from tendon overuse, is another health problem associated with video game playing. Furthermore, another case report in the New England Journal of Medicine reported a fracture of the base of the fifth metatarsal from people who play Wii video games. This condition has been termed (perhaps sarcastically), a Wii fracture. There are also postural problems associated with the persistent playing of video games, although, ergonomic measures (including chair to monitor position) could potentially improve postural problems associated with video game playing. Obesity and overweight Playing video games consistently has been associated with obesity. This is maybe related to the lack of physical activity in players. Alternatively, it could be that those who are less physically fit because of obesity gravitate towards less physically demanding activities, such as gaming. In either case, several studies have linked television and video games and increased Body Mass Index (BMI). It has been estimated that children in the United States spend 25% of their waking hours watching either television or playing video games. Furthermore, children who watch the most hours of television or play video games have the highest incidence of obesity. If video games are replacing physical activities and young people do not participate in physical recreation or see playing of video games as a form of recreation, this may be part of the link between times spent while playing video games and a rise in BMI in teenagers. Evidence for this potential link gains some support from a German study reporting that boys who spend no more than 1.5 hours per day engaged in television watching or playing video games, were 75.4% less likely to be overweight than those who spend more than 1.5 hours engaged in the same activity. In a 2011 study, an association between video game activity and an increase of (mostly junk) food intake was reported. Specifically, single video game sessions caused an increase in food intake, regardless of appetite. It has also been suggested that active video game play using two popular gaming platforms has the opposite effect. Other researchers found no evidence that more active video games would result in a beneficial outcome although the study did demonstrate an increase in the amount of physical activity within the children receiving the active video games. Seizures (Epileptic) Health concerns that video games may cause epileptic seizures started in the early 1980s. The first medically documented case of a video game-induced seizure was reported in 1981. In 1993, a story in the popular press (Sun newspaper) reported that a boy choked to death on his own vomit during a seizure triggered by playing a video game. Similar but less serious incidents were subsequently reported by news media around the world, ultimately motivating video game console manufacturers to include that epilepsy warnings in the instruction manuals for their gaming products. In 1994 it was reported that video games only cause seizures in people already predisposed to epilepsy and advised that people with a predisposition to epilepsy can greatly reduce the risk of a seizure by staying 10 feet or more away from the TV set and wearing sunglasses while playing video games. This is clearly an area in need of additional research. Prevention and treatment of online gaming disorder The cost: benefit value of prevention versus treatment of addiction disorders has been known for many years. It is important and beneficial to make use of several types of strategies in combating gaming addictiveness or disorder. Effective strategies include: educating gamers about gaming behaviors and consequences on their mental health; treatment geared towards helping the gamer to control his/her urge for video games, recognizing and dealing with disturbing thoughts and learning how to cope without video games; intrapersonal and interpersonal counseling to help gamers to explore their identity, build self-esteem, and enhance their emotional intelligence outside the fictional world of gaming and learning communication and assertiveness skills needed in social interactions; family involvement, including counseling and discussion family and other relationships; and developing new lifestyles. The latter is particularly important and to paraphrase the well-known mantra of Alcoholics Anonymous, it’s all about, people, places, and things. To prevent the persistent playing of video games, people need to explore new activities, set new goals and metrics of achievements beyond video game scores. Blackcoffer Insights 18: Harsh Arya, Ajay Kumar Garg Engineering College Ghaziabad \n",
      " Introduction  A video game is any software program that can be played on a computing device such as a personal computer gaming console or mobile device Video games have been in existence since the early 1970s and have become increasingly popular spanning different mobile smartphones tablets and stationary computer or console platforms Advances particularly in mobile devices have given birth to social networks and group gaming Although the nature of gaming does not require physical stamina and therefore is not limited by factors such as age gender or fitness it is most popular with adolescents In 2018 the World Health Organization WHO classified gaming disorder in their International Classification of Diseases ICD11 The ICD11 is a list of diseases and medical conditions that aids health professionals in making diagnoses and treatment plans for patients having various disorders It should be noted that the inclusion of gaming disorder in the ICD11 by WHO has generated vigorous and sometimes contentious debate and discussion within the medical and mental health community Although recognized as an area of clinical interest the Diagnostic and Statistical Manual of Mental Disorders DSM5 published by the American Psychiatric Association suggests that more clinical research is required before Gaming Disorder is formally considered as a psychiatric disorder Similarly the WHO notes the inclusion of gaming disorder in ICD11 to encourage more research into excessive gaming behavior including its prevention and treatment What is Online gaming disorder 2018 WHO draft 11th Revision of the ICD11 denotes the disorder as a pattern of “digitalgaming” or “videogaming” behavior characterized by impaired control over gaming activity increasing priority given to gaming over other activities to the extent that gaming takes precedence over other interests and daily activities and the continuation or escalation of gaming despite the occurrence of negative consequences Online Gaming disorder has the same similarities with Internet gaming disorder IGD which is a condition that the American Psychiatric Association APA noted in DSM5 as an area in need of additional study The APA does not currently recognize IGD as an official condition For gaming disorder to be diagnosed the WHO criteria require that the behavioral pattern of the gamer must be of sufficient severity that major and noticeable impairment and deterioration in personal family social educational occupational or other important areas of functioning is present for a minimum of 12 months Signs and symptoms of Online gaming disorder According to the WHO definition a person with online gaming disorder will demonstrate the following characteristics for at least 12 months problems controlling control their gaming habits seeing gaming as more important over other necessities and daily activities or work continuing to engage in gaming even after its negative health and social problems has been identified or are evident Further research shows that gaming disorders can also be linked to anxiety depression obesity sleeping disorders and stress People who remain physically inactive for long periods because of gaming may also be at higher risk of obesity sleep disorders and other healthrelated issues according to WHO 1 Health consequences of video Online gaming Video gamerelated health problems can cause continuous strain injuries skin disorders and other health issues Other problems according to Shoja et al 2007 include a condition that could be termed video gameprovoked seizures in patients with preexisting epilepsy The following health consequences of video gaming have been reported Vision issues Video game playing is associated with eye problems Extensive and fixed staring at a video game screen causes eyestrain because the cornea pupil and iris are not biologically equipped for chronic heavy viewing of digital images from electronic devices The visual system strain from frequent video game use over extended periods may result in headaches dizziness and in some cases nausea and vomiting Interestingly there is some research that shows that gamers have an enhancement of spatial distribution of attention compared with nongamers This somewhat predictable practice effect occurs with both peripheral and central visual attention For sufferers of amblyopia dimness or blurring of the eyesight due to a fault in transmission from the eye to the brain video games may be helpful Musculoskeletal problems Persistent gamers may also suffer from musculoskeletal problems A survey of children indicated increased physical complaints associated with video game playing Such complaints range from pain in the hands and wrists to back and neck Furthermore a case report involving a nineyearold teenager referenced Playstation thumb Playstation thumb is characterized by numbness and a blister is caused by friction between the thumb and the controller from rapid and persistent gameplay Using dermoscopy dermatologists discovered hemorrhages and onycholysis the loosening or separation of a fingernail in a patient who presented with hyperkeratosis Also tendon injuries tendinosis of the hands and wrists from tendon overuse is another health problem associated with video game playing Furthermore another case report in the New England Journal of Medicine reported a fracture of the base of the fifth metatarsal from people who play Wii video games This condition has been termed perhaps sarcastically a Wii fracture There are also postural problems associated with the persistent playing of video games although ergonomic measures including chair to monitor position could potentially improve postural problems associated with video game playing Obesity and overweight Playing video games consistently has been associated with obesity This is maybe related to the lack of physical activity in players Alternatively it could be that those who are less physically fit because of obesity gravitate towards less physically demanding activities such as gaming In either case several studies have linked television and video games and increased Body Mass Index BMI It has been estimated that children in the United States spend 25 of their waking hours watching either television or playing video games Furthermore children who watch the most hours of television or play video games have the highest incidence of obesity If video games are replacing physical activities and young people do not participate in physical recreation or see playing of video games as a form of recreation this may be part of the link between times spent while playing video games and a rise in BMI in teenagers Evidence for this potential link gains some support from a German study reporting that boys who spend no more than 15 hours per day engaged in television watching or playing video games were 754 less likely to be overweight than those who spend more than 15 hours engaged in the same activity In a 2011 study an association between video game activity and an increase of mostly junk food intake was reported Specifically single video game sessions caused an increase in food intake regardless of appetite It has also been suggested that active video game play using two popular gaming platforms has the opposite effect Other researchers found no evidence that more active video games would result in a beneficial outcome although the study did demonstrate an increase in the amount of physical activity within the children receiving the active video games Seizures Epileptic Health concerns that video games may cause epileptic seizures started in the early 1980s The first medically documented case of a video gameinduced seizure was reported in 1981 In 1993 a story in the popular press Sun newspaper reported that a boy choked to death on his own vomit during a seizure triggered by playing a video game Similar but less serious incidents were subsequently reported by news media around the world ultimately motivating video game console manufacturers to include that epilepsy warnings in the instruction manuals for their gaming products In 1994 it was reported that video games only cause seizures in people already predisposed to epilepsy and advised that people with a predisposition to epilepsy can greatly reduce the risk of a seizure by staying 10 feet or more away from the TV set and wearing sunglasses while playing video games This is clearly an area in need of additional research Prevention and treatment of online gaming disorder The cost benefit value of prevention versus treatment of addiction disorders has been known for many years It is important and beneficial to make use of several types of strategies in combating gaming addictiveness or disorder Effective strategies include educating gamers about gaming behaviors and consequences on their mental health treatment geared towards helping the gamer to control hisher urge for video games recognizing and dealing with disturbing thoughts and learning how to cope without video games intrapersonal and interpersonal counseling to help gamers to explore their identity build selfesteem and enhance their emotional intelligence outside the fictional world of gaming and learning communication and assertiveness skills needed in social interactions family involvement including counseling and discussion family and other relationships and developing new lifestyles The latter is particularly important and to paraphrase the wellknown mantra of Alcoholics Anonymous it’s all about people places and things To prevent the persistent playing of video games people need to explore new activities set new goals and metrics of achievements beyond video game scores Blackcoffer Insights 18 Harsh Arya Ajay Kumar Garg Engineering College Ghaziabad \n",
      "['Introduction', 'A', 'video', 'game', 'is', 'any', 'software', 'program', 'that', 'can', 'be', 'played', 'on', 'a', 'computing', 'device', 'such', 'as', 'a', 'personal', 'computer', 'gaming', 'console', 'or', 'mobile', 'device', 'Video', 'games', 'have', 'been', 'in', 'existence', 'since', 'the', 'early', '1970s', 'and', 'have', 'become', 'increasingly', 'popular', 'spanning', 'different', 'mobile', 'smartphones', 'tablets', 'and', 'stationary', 'computer', 'or', 'console', 'platforms', 'Advances', 'particularly', 'in', 'mobile', 'devices', 'have', 'given', 'birth', 'to', 'social', 'networks', 'and', 'group', 'gaming', 'Although', 'the', 'nature', 'of', 'gaming', 'does', 'not', 'require', 'physical', 'stamina', 'and', 'therefore', 'is', 'not', 'limited', 'by', 'factors', 'such', 'as', 'age', 'gender', 'or', 'fitness', 'it', 'is', 'most', 'popular', 'with', 'adolescents', 'In', '2018', 'the', 'World', 'Health', 'Organization', 'WHO', 'classified', 'gaming', 'disorder', 'in', 'their', 'International', 'Classification', 'of', 'Diseases', 'ICD11', 'The', 'ICD11', 'is', 'a', 'list', 'of', 'diseases', 'and', 'medical', 'conditions', 'that', 'aids', 'health', 'professionals', 'in', 'making', 'diagnoses', 'and', 'treatment', 'plans', 'for', 'patients', 'having', 'various', 'disorders', 'It', 'should', 'be', 'noted', 'that', 'the', 'inclusion', 'of', 'gaming', 'disorder', 'in', 'the', 'ICD11', 'by', 'WHO', 'has', 'generated', 'vigorous', 'and', 'sometimes', 'contentious', 'debate', 'and', 'discussion', 'within', 'the', 'medical', 'and', 'mental', 'health', 'community', 'Although', 'recognized', 'as', 'an', 'area', 'of', 'clinical', 'interest', 'the', 'Diagnostic', 'and', 'Statistical', 'Manual', 'of', 'Mental', 'Disorders', 'DSM5', 'published', 'by', 'the', 'American', 'Psychiatric', 'Association', 'suggests', 'that', 'more', 'clinical', 'research', 'is', 'required', 'before', 'Gaming', 'Disorder', 'is', 'formally', 'considered', 'as', 'a', 'psychiatric', 'disorder', 'Similarly', 'the', 'WHO', 'notes', 'the', 'inclusion', 'of', 'gaming', 'disorder', 'in', 'ICD11', 'to', 'encourage', 'more', 'research', 'into', 'excessive', 'gaming', 'behavior', 'including', 'its', 'prevention', 'and', 'treatment', 'What', 'is', 'Online', 'gaming', 'disorder', '2018', 'WHO', 'draft', '11th', 'Revision', 'of', 'the', 'ICD11', 'denotes', 'the', 'disorder', 'as', 'a', 'pattern', 'of', '“digitalgaming”', 'or', '“videogaming”', 'behavior', 'characterized', 'by', 'impaired', 'control', 'over', 'gaming', 'activity', 'increasing', 'priority', 'given', 'to', 'gaming', 'over', 'other', 'activities', 'to', 'the', 'extent', 'that', 'gaming', 'takes', 'precedence', 'over', 'other', 'interests', 'and', 'daily', 'activities', 'and', 'the', 'continuation', 'or', 'escalation', 'of', 'gaming', 'despite', 'the', 'occurrence', 'of', 'negative', 'consequences', 'Online', 'Gaming', 'disorder', 'has', 'the', 'same', 'similarities', 'with', 'Internet', 'gaming', 'disorder', 'IGD', 'which', 'is', 'a', 'condition', 'that', 'the', 'American', 'Psychiatric', 'Association', 'APA', 'noted', 'in', 'DSM5', 'as', 'an', 'area', 'in', 'need', 'of', 'additional', 'study', 'The', 'APA', 'does', 'not', 'currently', 'recognize', 'IGD', 'as', 'an', 'official', 'condition', 'For', 'gaming', 'disorder', 'to', 'be', 'diagnosed', 'the', 'WHO', 'criteria', 'require', 'that', 'the', 'behavioral', 'pattern', 'of', 'the', 'gamer', 'must', 'be', 'of', 'sufficient', 'severity', 'that', 'major', 'and', 'noticeable', 'impairment', 'and', 'deterioration', 'in', 'personal', 'family', 'social', 'educational', 'occupational', 'or', 'other', 'important', 'areas', 'of', 'functioning', 'is', 'present', 'for', 'a', 'minimum', 'of', '12', 'months', 'Signs', 'and', 'symptoms', 'of', 'Online', 'gaming', 'disorder', 'According', 'to', 'the', 'WHO', 'definition', 'a', 'person', 'with', 'online', 'gaming', 'disorder', 'will', 'demonstrate', 'the', 'following', 'characteristics', 'for', 'at', 'least', '12', 'months', 'problems', 'controlling', 'control', 'their', 'gaming', 'habits', 'seeing', 'gaming', 'as', 'more', 'important', 'over', 'other', 'necessities', 'and', 'daily', 'activities', 'or', 'work', 'continuing', 'to', 'engage', 'in', 'gaming', 'even', 'after', 'its', 'negative', 'health', 'and', 'social', 'problems', 'has', 'been', 'identified', 'or', 'are', 'evident', 'Further', 'research', 'shows', 'that', 'gaming', 'disorders', 'can', 'also', 'be', 'linked', 'to', 'anxiety', 'depression', 'obesity', 'sleeping', 'disorders', 'and', 'stress', 'People', 'who', 'remain', 'physically', 'inactive', 'for', 'long', 'periods', 'because', 'of', 'gaming', 'may', 'also', 'be', 'at', 'higher', 'risk', 'of', 'obesity', 'sleep', 'disorders', 'and', 'other', 'healthrelated', 'issues', 'according', 'to', 'WHO', '1', 'Health', 'consequences', 'of', 'video', 'Online', 'gaming', 'Video', 'gamerelated', 'health', 'problems', 'can', 'cause', 'continuous', 'strain', 'injuries', 'skin', 'disorders', 'and', 'other', 'health', 'issues', 'Other', 'problems', 'according', 'to', 'Shoja', 'et', 'al', '2007', 'include', 'a', 'condition', 'that', 'could', 'be', 'termed', 'video', 'gameprovoked', 'seizures', 'in', 'patients', 'with', 'preexisting', 'epilepsy', 'The', 'following', 'health', 'consequences', 'of', 'video', 'gaming', 'have', 'been', 'reported', 'Vision', 'issues', 'Video', 'game', 'playing', 'is', 'associated', 'with', 'eye', 'problems', 'Extensive', 'and', 'fixed', 'staring', 'at', 'a', 'video', 'game', 'screen', 'causes', 'eyestrain', 'because', 'the', 'cornea', 'pupil', 'and', 'iris', 'are', 'not', 'biologically', 'equipped', 'for', 'chronic', 'heavy', 'viewing', 'of', 'digital', 'images', 'from', 'electronic', 'devices', 'The', 'visual', 'system', 'strain', 'from', 'frequent', 'video', 'game', 'use', 'over', 'extended', 'periods', 'may', 'result', 'in', 'headaches', 'dizziness', 'and', 'in', 'some', 'cases', 'nausea', 'and', 'vomiting', 'Interestingly', 'there', 'is', 'some', 'research', 'that', 'shows', 'that', 'gamers', 'have', 'an', 'enhancement', 'of', 'spatial', 'distribution', 'of', 'attention', 'compared', 'with', 'nongamers', 'This', 'somewhat', 'predictable', 'practice', 'effect', 'occurs', 'with', 'both', 'peripheral', 'and', 'central', 'visual', 'attention', 'For', 'sufferers', 'of', 'amblyopia', 'dimness', 'or', 'blurring', 'of', 'the', 'eyesight', 'due', 'to', 'a', 'fault', 'in', 'transmission', 'from', 'the', 'eye', 'to', 'the', 'brain', 'video', 'games', 'may', 'be', 'helpful', 'Musculoskeletal', 'problems', 'Persistent', 'gamers', 'may', 'also', 'suffer', 'from', 'musculoskeletal', 'problems', 'A', 'survey', 'of', 'children', 'indicated', 'increased', 'physical', 'complaints', 'associated', 'with', 'video', 'game', 'playing', 'Such', 'complaints', 'range', 'from', 'pain', 'in', 'the', 'hands', 'and', 'wrists', 'to', 'back', 'and', 'neck', 'Furthermore', 'a', 'case', 'report', 'involving', 'a', 'nineyearold', 'teenager', 'referenced', 'Playstation', 'thumb', 'Playstation', 'thumb', 'is', 'characterized', 'by', 'numbness', 'and', 'a', 'blister', 'is', 'caused', 'by', 'friction', 'between', 'the', 'thumb', 'and', 'the', 'controller', 'from', 'rapid', 'and', 'persistent', 'gameplay', 'Using', 'dermoscopy', 'dermatologists', 'discovered', 'hemorrhages', 'and', 'onycholysis', 'the', 'loosening', 'or', 'separation', 'of', 'a', 'fingernail', 'in', 'a', 'patient', 'who', 'presented', 'with', 'hyperkeratosis', 'Also', 'tendon', 'injuries', 'tendinosis', 'of', 'the', 'hands', 'and', 'wrists', 'from', 'tendon', 'overuse', 'is', 'another', 'health', 'problem', 'associated', 'with', 'video', 'game', 'playing', 'Furthermore', 'another', 'case', 'report', 'in', 'the', 'New', 'England', 'Journal', 'of', 'Medicine', 'reported', 'a', 'fracture', 'of', 'the', 'base', 'of', 'the', 'fifth', 'metatarsal', 'from', 'people', 'who', 'play', 'Wii', 'video', 'games', 'This', 'condition', 'has', 'been', 'termed', 'perhaps', 'sarcastically', 'a', 'Wii', 'fracture', 'There', 'are', 'also', 'postural', 'problems', 'associated', 'with', 'the', 'persistent', 'playing', 'of', 'video', 'games', 'although', 'ergonomic', 'measures', 'including', 'chair', 'to', 'monitor', 'position', 'could', 'potentially', 'improve', 'postural', 'problems', 'associated', 'with', 'video', 'game', 'playing', 'Obesity', 'and', 'overweight', 'Playing', 'video', 'games', 'consistently', 'has', 'been', 'associated', 'with', 'obesity', 'This', 'is', 'maybe', 'related', 'to', 'the', 'lack', 'of', 'physical', 'activity', 'in', 'players', 'Alternatively', 'it', 'could', 'be', 'that', 'those', 'who', 'are', 'less', 'physically', 'fit', 'because', 'of', 'obesity', 'gravitate', 'towards', 'less', 'physically', 'demanding', 'activities', 'such', 'as', 'gaming', 'In', 'either', 'case', 'several', 'studies', 'have', 'linked', 'television', 'and', 'video', 'games', 'and', 'increased', 'Body', 'Mass', 'Index', 'BMI', 'It', 'has', 'been', 'estimated', 'that', 'children', 'in', 'the', 'United', 'States', 'spend', '25', 'of', 'their', 'waking', 'hours', 'watching', 'either', 'television', 'or', 'playing', 'video', 'games', 'Furthermore', 'children', 'who', 'watch', 'the', 'most', 'hours', 'of', 'television', 'or', 'play', 'video', 'games', 'have', 'the', 'highest', 'incidence', 'of', 'obesity', 'If', 'video', 'games', 'are', 'replacing', 'physical', 'activities', 'and', 'young', 'people', 'do', 'not', 'participate', 'in', 'physical', 'recreation', 'or', 'see', 'playing', 'of', 'video', 'games', 'as', 'a', 'form', 'of', 'recreation', 'this', 'may', 'be', 'part', 'of', 'the', 'link', 'between', 'times', 'spent', 'while', 'playing', 'video', 'games', 'and', 'a', 'rise', 'in', 'BMI', 'in', 'teenagers', 'Evidence', 'for', 'this', 'potential', 'link', 'gains', 'some', 'support', 'from', 'a', 'German', 'study', 'reporting', 'that', 'boys', 'who', 'spend', 'no', 'more', 'than', '15', 'hours', 'per', 'day', 'engaged', 'in', 'television', 'watching', 'or', 'playing', 'video', 'games', 'were', '754', 'less', 'likely', 'to', 'be', 'overweight', 'than', 'those', 'who', 'spend', 'more', 'than', '15', 'hours', 'engaged', 'in', 'the', 'same', 'activity', 'In', 'a', '2011', 'study', 'an', 'association', 'between', 'video', 'game', 'activity', 'and', 'an', 'increase', 'of', 'mostly', 'junk', 'food', 'intake', 'was', 'reported', 'Specifically', 'single', 'video', 'game', 'sessions', 'caused', 'an', 'increase', 'in', 'food', 'intake', 'regardless', 'of', 'appetite', 'It', 'has', 'also', 'been', 'suggested', 'that', 'active', 'video', 'game', 'play', 'using', 'two', 'popular', 'gaming', 'platforms', 'has', 'the', 'opposite', 'effect', 'Other', 'researchers', 'found', 'no', 'evidence', 'that', 'more', 'active', 'video', 'games', 'would', 'result', 'in', 'a', 'beneficial', 'outcome', 'although', 'the', 'study', 'did', 'demonstrate', 'an', 'increase', 'in', 'the', 'amount', 'of', 'physical', 'activity', 'within', 'the', 'children', 'receiving', 'the', 'active', 'video', 'games', 'Seizures', 'Epileptic', 'Health', 'concerns', 'that', 'video', 'games', 'may', 'cause', 'epileptic', 'seizures', 'started', 'in', 'the', 'early', '1980s', 'The', 'first', 'medically', 'documented', 'case', 'of', 'a', 'video', 'gameinduced', 'seizure', 'was', 'reported', 'in', '1981', 'In', '1993', 'a', 'story', 'in', 'the', 'popular', 'press', 'Sun', 'newspaper', 'reported', 'that', 'a', 'boy', 'choked', 'to', 'death', 'on', 'his', 'own', 'vomit', 'during', 'a', 'seizure', 'triggered', 'by', 'playing', 'a', 'video', 'game', 'Similar', 'but', 'less', 'serious', 'incidents', 'were', 'subsequently', 'reported', 'by', 'news', 'media', 'around', 'the', 'world', 'ultimately', 'motivating', 'video', 'game', 'console', 'manufacturers', 'to', 'include', 'that', 'epilepsy', 'warnings', 'in', 'the', 'instruction', 'manuals', 'for', 'their', 'gaming', 'products', 'In', '1994', 'it', 'was', 'reported', 'that', 'video', 'games', 'only', 'cause', 'seizures', 'in', 'people', 'already', 'predisposed', 'to', 'epilepsy', 'and', 'advised', 'that', 'people', 'with', 'a', 'predisposition', 'to', 'epilepsy', 'can', 'greatly', 'reduce', 'the', 'risk', 'of', 'a', 'seizure', 'by', 'staying', '10', 'feet', 'or', 'more', 'away', 'from', 'the', 'TV', 'set', 'and', 'wearing', 'sunglasses', 'while', 'playing', 'video', 'games', 'This', 'is', 'clearly', 'an', 'area', 'in', 'need', 'of', 'additional', 'research', 'Prevention', 'and', 'treatment', 'of', 'online', 'gaming', 'disorder', 'The', 'cost', 'benefit', 'value', 'of', 'prevention', 'versus', 'treatment', 'of', 'addiction', 'disorders', 'has', 'been', 'known', 'for', 'many', 'years', 'It', 'is', 'important', 'and', 'beneficial', 'to', 'make', 'use', 'of', 'several', 'types', 'of', 'strategies', 'in', 'combating', 'gaming', 'addictiveness', 'or', 'disorder', 'Effective', 'strategies', 'include', 'educating', 'gamers', 'about', 'gaming', 'behaviors', 'and', 'consequences', 'on', 'their', 'mental', 'health', 'treatment', 'geared', 'towards', 'helping', 'the', 'gamer', 'to', 'control', 'hisher', 'urge', 'for', 'video', 'games', 'recognizing', 'and', 'dealing', 'with', 'disturbing', 'thoughts', 'and', 'learning', 'how', 'to', 'cope', 'without', 'video', 'games', 'intrapersonal', 'and', 'interpersonal', 'counseling', 'to', 'help', 'gamers', 'to', 'explore', 'their', 'identity', 'build', 'selfesteem', 'and', 'enhance', 'their', 'emotional', 'intelligence', 'outside', 'the', 'fictional', 'world', 'of', 'gaming', 'and', 'learning', 'communication', 'and', 'assertiveness', 'skills', 'needed', 'in', 'social', 'interactions', 'family', 'involvement', 'including', 'counseling', 'and', 'discussion', 'family', 'and', 'other', 'relationships', 'and', 'developing', 'new', 'lifestyles', 'The', 'latter', 'is', 'particularly', 'important', 'and', 'to', 'paraphrase', 'the', 'wellknown', 'mantra', 'of', 'Alcoholics', 'Anonymous', 'it’s', 'all', 'about', 'people', 'places', 'and', 'things', 'To', 'prevent', 'the', 'persistent', 'playing', 'of', 'video', 'games', 'people', 'need', 'to', 'explore', 'new', 'activities', 'set', 'new', 'goals', 'and', 'metrics', 'of', 'achievements', 'beyond', 'video', 'game', 'scores', 'Blackcoffer', 'Insights', '18', 'Harsh', 'Arya', 'Ajay', 'Kumar', 'Garg', 'Engineering', 'College', 'Ghaziabad']\n"
     ]
    }
   ],
   "source": [
    "content=soup.findAll(attrs={'class':'td-post-content'})\n",
    "content=content[0].text.replace('\\n',\" \")\n",
    "print(content)\n",
    "#Punctuation\n",
    "content = content.translate(str.maketrans('', '', string.punctuation)) \n",
    "print(content)\n",
    "text = content.split()\n",
    "print(text)\n"
   ]
  },
  {
   "cell_type": "code",
   "execution_count": 3,
   "id": "5ca4b884",
   "metadata": {},
   "outputs": [
    {
     "data": {
      "text/plain": [
       "1505"
      ]
     },
     "execution_count": 3,
     "metadata": {},
     "output_type": "execute_result"
    }
   ],
   "source": [
    "len(text)"
   ]
  },
  {
   "cell_type": "code",
   "execution_count": 4,
   "id": "3a5de317",
   "metadata": {},
   "outputs": [
    {
     "name": "stdout",
     "output_type": "stream",
     "text": [
      "28\n"
     ]
    }
   ],
   "source": [
    "#Positive Score \n",
    "with open(r\"C:\\Users\\Om Bhandwalkar\\Desktop\\pos\\positive-words.txt\") as pos:\n",
    "    poswords = pos.read().split(\"\\n\")  \n",
    "    poswords = poswords[5:]\n",
    "pos_count = \" \".join ([w for w in text if w in poswords])\n",
    "pos_count=pos_count.split(\" \")\n",
    "Positive_score=len(pos_count)\n",
    "print(Positive_score)"
   ]
  },
  {
   "cell_type": "code",
   "execution_count": 5,
   "id": "151c5367",
   "metadata": {},
   "outputs": [
    {
     "name": "stdout",
     "output_type": "stream",
     "text": [
      "67\n"
     ]
    }
   ],
   "source": [
    "#Negative Score\n",
    "with open(r\"C:\\Users\\Om Bhandwalkar\\Desktop\\pos\\negative-words.txt\",encoding =\"ISO-8859-1\") as neg:\n",
    "    negwords = neg.read().split(\"\\n\")\n",
    "    \n",
    "negwords = negwords[36:]\n",
    "neg_count = \" \".join ([w for w in text if w in negwords])\n",
    "neg_count=neg_count.split(\" \")\n",
    "Negative_score=len(neg_count)\n",
    "print(Negative_score)"
   ]
  },
  {
   "cell_type": "code",
   "execution_count": 6,
   "id": "419f43cb",
   "metadata": {},
   "outputs": [
    {
     "data": {
      "text/html": [
       "<div>\n",
       "<style scoped>\n",
       "    .dataframe tbody tr th:only-of-type {\n",
       "        vertical-align: middle;\n",
       "    }\n",
       "\n",
       "    .dataframe tbody tr th {\n",
       "        vertical-align: top;\n",
       "    }\n",
       "\n",
       "    .dataframe thead th {\n",
       "        text-align: right;\n",
       "    }\n",
       "</style>\n",
       "<table border=\"1\" class=\"dataframe\">\n",
       "  <thead>\n",
       "    <tr style=\"text-align: right;\">\n",
       "      <th></th>\n",
       "      <th>url</th>\n",
       "      <th>title</th>\n",
       "      <th>content</th>\n",
       "      <th>filter_content</th>\n",
       "      <th>Positive_Score</th>\n",
       "      <th>Negative_Score</th>\n",
       "      <th>polarity</th>\n",
       "      <th>subjectivity</th>\n",
       "    </tr>\n",
       "  </thead>\n",
       "  <tbody>\n",
       "    <tr>\n",
       "      <th>0</th>\n",
       "      <td>https://insights.blackcoffer.com/online-gaming...</td>\n",
       "      <td>Online gaming: Adolescent online gaming effect...</td>\n",
       "      <td>Introduction  A video game is any software pr...</td>\n",
       "      <td>Introduction A video game is any software prog...</td>\n",
       "      <td>28</td>\n",
       "      <td>67</td>\n",
       "      <td>0.018815</td>\n",
       "      <td>0.371677</td>\n",
       "    </tr>\n",
       "  </tbody>\n",
       "</table>\n",
       "</div>"
      ],
      "text/plain": [
       "                                                 url  \\\n",
       "0  https://insights.blackcoffer.com/online-gaming...   \n",
       "\n",
       "                                               title  \\\n",
       "0  Online gaming: Adolescent online gaming effect...   \n",
       "\n",
       "                                             content  \\\n",
       "0   Introduction  A video game is any software pr...   \n",
       "\n",
       "                                      filter_content  Positive_Score  \\\n",
       "0  Introduction A video game is any software prog...              28   \n",
       "\n",
       "   Negative_Score  polarity  subjectivity  \n",
       "0              67  0.018815      0.371677  "
      ]
     },
     "execution_count": 6,
     "metadata": {},
     "output_type": "execute_result"
    }
   ],
   "source": [
    "filter_content = ' '.join(text)\n",
    "data=[[url,title,content,filter_content,Positive_score,Negative_score]]\n",
    "data=pd.DataFrame(data,columns=[\"url\",\"title\",\"content\",\"filter_content\",\"Positive_Score\",\"Negative_Score\"])\n",
    "from textblob import TextBlob\n",
    "# Get The Subjectivity\n",
    "def sentiment_analysis(data):\n",
    "    sentiment = TextBlob(data[\"content\"]).sentiment\n",
    "    return pd.Series([sentiment.polarity,sentiment.subjectivity ])\n",
    "\n",
    "# Adding Subjectivity & Polarity\n",
    "data[[\"polarity\", \"subjectivity\"]] = data.apply(sentiment_analysis, axis=1)\n",
    "\n",
    "data"
   ]
  },
  {
   "cell_type": "code",
   "execution_count": 7,
   "id": "fb9ff4d1",
   "metadata": {},
   "outputs": [
    {
     "name": "stdout",
     "output_type": "stream",
     "text": [
      "Word average = 8277.0\n",
      "FOG INDEX =  607.05\n",
      "Average no of words per sentence\n",
      "1505.0\n",
      "Complex Words 2936\n"
     ]
    }
   ],
   "source": [
    "#AVG SENTENCE LENGTH\n",
    "AVG_SENTENCE_LENGTH = len(content.replace(' ',''))/len(re.split(r'[?!.]', content))\n",
    "print('Word average =', AVG_SENTENCE_LENGTH)\n",
    "import textstat\n",
    "#Fog index \n",
    "FOG_INDEX=(textstat.gunning_fog(content))\n",
    "print(\"FOG INDEX = \",FOG_INDEX)\n",
    "#Average No of Words Per Sentence \n",
    "AVG_NUMBER_OF_WORDS_PER_SENTENCE = [len(l.split()) for l in re.split(r'[?!.]', content) if l.strip()]\n",
    "print(\"Average no of words per sentence\")\n",
    "AVG_NUMBER_OF_WORDS_PER_SENTENCE=print(sum(AVG_NUMBER_OF_WORDS_PER_SENTENCE)/len(AVG_NUMBER_OF_WORDS_PER_SENTENCE))\n",
    "#Complex words\n",
    "def syllable_count(word):\n",
    "    count = 0\n",
    "    vowels = \"AEIOUYaeiouy\"\n",
    "    if word[0] in vowels:\n",
    "        count += 1\n",
    "    for index in range(1, len(word)): \n",
    "        if word[index] in vowels and word[index - 1] not in vowels:\n",
    "            count += 1\n",
    "            if word.endswith(\"es\"or \"ed\"):\n",
    "                count -= 1\n",
    "    if count == 0:\n",
    "        count += 1\n",
    "    return count\n",
    "\n",
    "\n",
    "\n",
    "COMPLEX_WORDS=syllable_count(content)\n",
    "print(\"Complex Words\",COMPLEX_WORDS)\n"
   ]
  },
  {
   "cell_type": "code",
   "execution_count": 8,
   "id": "e501c99f",
   "metadata": {},
   "outputs": [
    {
     "name": "stdout",
     "output_type": "stream",
     "text": [
      "Word Count 9783\n",
      "Percentage of Complex Words 30.011243994684655\n",
      "Average Word per Length 5.499667774086379\n",
      "The AVG number of syllables in the word is: \n",
      "2.2365448504983387\n",
      "Word Count 9783\n",
      "Percentage of Complex Words 30.011243994684655\n",
      "Average Word per Length 5.499667774086379\n",
      "The AVG number of syllables in the word is: \n",
      "2.2365448504983387\n"
     ]
    }
   ],
   "source": [
    "#Word Count\n",
    "Word_Count=len(content)\n",
    "print(\"Word Count\",Word_Count)\n",
    "#Percentage Complex Words\n",
    "pcw=(COMPLEX_WORDS/Word_Count)*100\n",
    "print(\"Percentage of Complex Words\",pcw)\n",
    "#Average Word Length\n",
    "Average_Word_Length=len(content.replace(' ',''))/len(content.split())\n",
    "print(\"Average Word per Length\",Average_Word_Length)\n",
    "#Syllable Count Per Word\n",
    "word=content.replace(' ','')\n",
    "syllable_count=0\n",
    "for w in word:\n",
    "      if(w=='a' or w=='e' or w=='i' or w=='o' or w=='y' or w=='u' or w=='A' or w=='E' or w=='I' or w=='O' or w=='U' or w=='Y'):\n",
    "            syllable_count=syllable_count+1\n",
    "print(\"The AVG number of syllables in the word is: \")\n",
    "print(syllable_count/len(content.split()))#Word Count\n",
    "Word_Count=len(content)\n",
    "print(\"Word Count\",Word_Count)\n",
    "#Percentage Complex Words\n",
    "pcw=(COMPLEX_WORDS/Word_Count)*100\n",
    "print(\"Percentage of Complex Words\",pcw)\n",
    "#Average Word Length\n",
    "Average_Word_Length=len(content.replace(' ',''))/len(content.split())\n",
    "print(\"Average Word per Length\",Average_Word_Length)\n",
    "#Syllable Count Per Word\n",
    "word=content.replace(' ','')\n",
    "syllable_count=0\n",
    "for w in word:\n",
    "      if(w=='a' or w=='e' or w=='i' or w=='o' or w=='y' or w=='u' or w=='A' or w=='E' or w=='I' or w=='O' or w=='U' or w=='Y'):\n",
    "            syllable_count=syllable_count+1\n",
    "print(\"The AVG number of syllables in the word is: \")\n",
    "print(syllable_count/len(content.split()))"
   ]
  },
  {
   "cell_type": "code",
   "execution_count": 1,
   "id": "4e854da5",
   "metadata": {},
   "outputs": [
    {
     "name": "stdout",
     "output_type": "stream",
     "text": [
      "28\n",
      "67\n",
      "Word average = 8277.0\n",
      "FOG INDEX =  607.05\n",
      "Average no of words per sentence\n",
      "1505.0\n",
      "Complex Words 2936\n",
      "Word Count 9783\n",
      "Percentage of Complex Words 30.011243994684655\n",
      "Average Word per Length 5.499667774086379\n",
      "The AVG number of syllables in the word is: \n",
      "2.2365448504983387\n"
     ]
    },
    {
     "data": {
      "text/html": [
       "<div>\n",
       "<style scoped>\n",
       "    .dataframe tbody tr th:only-of-type {\n",
       "        vertical-align: middle;\n",
       "    }\n",
       "\n",
       "    .dataframe tbody tr th {\n",
       "        vertical-align: top;\n",
       "    }\n",
       "\n",
       "    .dataframe thead th {\n",
       "        text-align: right;\n",
       "    }\n",
       "</style>\n",
       "<table border=\"1\" class=\"dataframe\">\n",
       "  <thead>\n",
       "    <tr style=\"text-align: right;\">\n",
       "      <th></th>\n",
       "      <th>url</th>\n",
       "      <th>title</th>\n",
       "      <th>content</th>\n",
       "      <th>filter_content</th>\n",
       "      <th>Positive_Score</th>\n",
       "      <th>Negative_Score</th>\n",
       "      <th>Avg_Sentence_Length</th>\n",
       "      <th>Percentage_Complex_Word</th>\n",
       "      <th>Fog_Index</th>\n",
       "      <th>AVG_NUMBER_OF_WORDS_PER_SENTENCE</th>\n",
       "      <th>COMPLEX_WORDS</th>\n",
       "      <th>Word_Count</th>\n",
       "      <th>syllable</th>\n",
       "      <th>Average_Word_Length</th>\n",
       "      <th>polarity</th>\n",
       "      <th>subjectivity</th>\n",
       "    </tr>\n",
       "  </thead>\n",
       "  <tbody>\n",
       "    <tr>\n",
       "      <th>0</th>\n",
       "      <td>https://insights.blackcoffer.com/online-gaming...</td>\n",
       "      <td>Online gaming: Adolescent online gaming effect...</td>\n",
       "      <td>Introduction  A video game is any software pr...</td>\n",
       "      <td>Introduction A video game is any software prog...</td>\n",
       "      <td>28</td>\n",
       "      <td>67</td>\n",
       "      <td>8277.0</td>\n",
       "      <td>30.011244</td>\n",
       "      <td>607.05</td>\n",
       "      <td>1505.0</td>\n",
       "      <td>2936</td>\n",
       "      <td>9783</td>\n",
       "      <td>2.236545</td>\n",
       "      <td>5.499668</td>\n",
       "      <td>0.018815</td>\n",
       "      <td>0.371677</td>\n",
       "    </tr>\n",
       "  </tbody>\n",
       "</table>\n",
       "</div>"
      ],
      "text/plain": [
       "                                                 url  \\\n",
       "0  https://insights.blackcoffer.com/online-gaming...   \n",
       "\n",
       "                                               title  \\\n",
       "0  Online gaming: Adolescent online gaming effect...   \n",
       "\n",
       "                                             content  \\\n",
       "0   Introduction  A video game is any software pr...   \n",
       "\n",
       "                                      filter_content  Positive_Score  \\\n",
       "0  Introduction A video game is any software prog...              28   \n",
       "\n",
       "   Negative_Score  Avg_Sentence_Length  Percentage_Complex_Word  Fog_Index  \\\n",
       "0              67               8277.0                30.011244     607.05   \n",
       "\n",
       "    AVG_NUMBER_OF_WORDS_PER_SENTENCE  COMPLEX_WORDS  Word_Count  syllable  \\\n",
       "0                             1505.0           2936        9783  2.236545   \n",
       "\n",
       "   Average_Word_Length  polarity  subjectivity  \n",
       "0             5.499668  0.018815      0.371677  "
      ]
     },
     "execution_count": 1,
     "metadata": {},
     "output_type": "execute_result"
    }
   ],
   "source": [
    "import requests\n",
    "import pandas as pd \n",
    "from bs4 import BeautifulSoup\n",
    "import string\n",
    "import spacy\n",
    "import re\n",
    "url = \"\"\"https://insights.blackcoffer.com/online-gaming-adolescent-online-gaming-effects-demotivated-depression-musculoskeletal-and-psychosomatic-symptoms/\"\"\"\n",
    "headers = {\"User-Agent\": \"Mozilla/5.0 (X11; Linux x86_64; rv:60.0) Gecko/20100101 Firefox/60.0\"}\n",
    "page = requests.get(url, headers=headers)\n",
    "soup = BeautifulSoup(page.content, 'html.parser')\n",
    "soup=BeautifulSoup(page.content, 'html.parser')\n",
    "title=soup.find('h1',class_=\"entry-title\")\n",
    "title=title.text.replace('\\n',\" \")\n",
    "# title\n",
    "\n",
    "content=soup.findAll(attrs={'class':'td-post-content'})\n",
    "content=content[0].text.replace('\\n',\" \")\n",
    "# print(content)\n",
    "#Punctuation\n",
    "content = content.translate(str.maketrans('', '', string.punctuation)) \n",
    "# print(content)\n",
    "text = content.split()\n",
    "# print(text)\n",
    "len(text)\n",
    "#Positive Score \n",
    "with open(r\"C:\\Users\\Om Bhandwalkar\\Desktop\\pos\\positive-words.txt\") as pos:\n",
    "    poswords = pos.read().split(\"\\n\")  \n",
    "    poswords = poswords[5:]\n",
    "pos_count = \" \".join ([w for w in text if w in poswords])\n",
    "pos_count=pos_count.split(\" \")\n",
    "Positive_score=len(pos_count)\n",
    "print(Positive_score)\n",
    "\n",
    "#Negative Score\n",
    "with open(r\"C:\\Users\\Om Bhandwalkar\\Desktop\\pos\\negative-words.txt\",encoding =\"ISO-8859-1\") as neg:\n",
    "    negwords = neg.read().split(\"\\n\")\n",
    "    \n",
    "negwords = negwords[36:]\n",
    "neg_count = \" \".join ([w for w in text if w in negwords])\n",
    "neg_count=neg_count.split(\" \")\n",
    "Negative_score=len(neg_count)\n",
    "print(Negative_score)\n",
    "\n",
    "\n",
    "filter_content = ' '.join(text)\n",
    "data=[[url,title,content,filter_content,Positive_score,Negative_score]]\n",
    "data=pd.DataFrame(data,columns=[\"url\",\"title\",\"content\",\"filter_content\",\"Positive_Score\",\"Negative_Score\"])\n",
    "from textblob import TextBlob\n",
    "# Get The Subjectivity\n",
    "def sentiment_analysis(data):\n",
    "    sentiment = TextBlob(data[\"content\"]).sentiment\n",
    "    return pd.Series([sentiment.polarity,sentiment.subjectivity ])\n",
    "data[[\"polarity\", \"subjectivity\"]] = data.apply(sentiment_analysis, axis=1)\n",
    "data\n",
    "#AVG SENTENCE LENGTH\n",
    "AVG_SENTENCE_LENGTH = len(content.replace(' ',''))/len(re.split(r'[?!.]', content))\n",
    "print('Word average =', AVG_SENTENCE_LENGTH)\n",
    "import textstat\n",
    "#Fog index \n",
    "FOG_INDEX=(textstat.gunning_fog(content))\n",
    "print(\"FOG INDEX = \",FOG_INDEX)\n",
    "#Average No of Words Per Sentence \n",
    "AVG_NUMBER_OF_WORDS_PER_SENTENCE = [len(l.split()) for l in re.split(r'[?!.]', content) if l.strip()]\n",
    "print(\"Average no of words per sentence\")\n",
    "AVG_NUMBER_OF_WORDS_PER_SENTENCE=(sum(AVG_NUMBER_OF_WORDS_PER_SENTENCE)/len(AVG_NUMBER_OF_WORDS_PER_SENTENCE))\n",
    "print(AVG_NUMBER_OF_WORDS_PER_SENTENCE)\n",
    "#Complex words\n",
    "def syllable_count(word):\n",
    "    count = 0\n",
    "    vowels = \"AEIOUYaeiouy\"\n",
    "    if word[0] in vowels:\n",
    "        count += 1\n",
    "    for index in range(1, len(word)): \n",
    "        if word[index] in vowels and word[index - 1] not in vowels:\n",
    "            count += 1\n",
    "            if word.endswith(\"es\"or \"ed\"):\n",
    "                count -= 1\n",
    "    if count == 0:\n",
    "        count += 1\n",
    "    return count\n",
    "\n",
    "\n",
    "\n",
    "COMPLEX_WORDS=syllable_count(content)\n",
    "print(\"Complex Words\",COMPLEX_WORDS)\n",
    "#Word Count\n",
    "Word_Count=len(content)\n",
    "print(\"Word Count\",Word_Count)\n",
    "#Percentage Complex Words\n",
    "pcw=(COMPLEX_WORDS/Word_Count)*100\n",
    "print(\"Percentage of Complex Words\",pcw)\n",
    "#Average Word Length\n",
    "Average_Word_Length=len(content.replace(' ',''))/len(content.split())\n",
    "print(\"Average Word per Length\",Average_Word_Length)\n",
    "#Syllable Count Per Word\n",
    "word=content.replace(' ','')\n",
    "syllable_count=0\n",
    "for w in word:\n",
    "      if(w=='a' or w=='e' or w=='i' or w=='o' or w=='y' or w=='u' or w=='A' or w=='E' or w=='I' or w=='O' or w=='U' or w=='Y'):\n",
    "            syllable_count=syllable_count+1\n",
    "print(\"The AVG number of syllables in the word is: \")\n",
    "syllable = (syllable_count/len(content.split()))\n",
    "print(syllable)\n",
    "\n",
    "data = [[url,title,content,filter_content,Positive_score,Negative_score,AVG_SENTENCE_LENGTH,pcw,FOG_INDEX,\n",
    "         AVG_NUMBER_OF_WORDS_PER_SENTENCE,COMPLEX_WORDS,Word_Count,syllable,Average_Word_Length]]\n",
    "data=pd.DataFrame(data,columns=[\"url\",\"title\",\"content\",\"filter_content\",\"Positive_Score\",\"Negative_Score\",\"Avg_Sentence_Length\"\n",
    "                               ,\"Percentage_Complex_Word\",\"Fog_Index\",\" AVG_NUMBER_OF_WORDS_PER_SENTENCE\",\"COMPLEX_WORDS\",\n",
    "                               \"Word_Count\",\"syllable\",\"Average_Word_Length\"])\n",
    "from textblob import TextBlob\n",
    "# Get The Subjectivity\n",
    "def sentiment_analysis(data):\n",
    "    sentiment = TextBlob(data[\"content\"]).sentiment\n",
    "    return pd.Series([sentiment.polarity,sentiment.subjectivity ])\n",
    "data[[\"polarity\", \"subjectivity\"]] = data.apply(sentiment_analysis, axis=1)\n",
    "data"
   ]
  },
  {
   "cell_type": "code",
   "execution_count": 2,
   "id": "16f06279",
   "metadata": {},
   "outputs": [],
   "source": [
    "data.to_csv(r'C:\\Users\\Om Bhandwalkar\\Desktop\\BlackCoffer Assignment\\Output\\url_90.csv')"
   ]
  },
  {
   "cell_type": "code",
   "execution_count": null,
   "id": "8946daf2",
   "metadata": {},
   "outputs": [],
   "source": []
  }
 ],
 "metadata": {
  "kernelspec": {
   "display_name": "Python 3 (ipykernel)",
   "language": "python",
   "name": "python3"
  },
  "language_info": {
   "codemirror_mode": {
    "name": "ipython",
    "version": 3
   },
   "file_extension": ".py",
   "mimetype": "text/x-python",
   "name": "python",
   "nbconvert_exporter": "python",
   "pygments_lexer": "ipython3",
   "version": "3.9.12"
  }
 },
 "nbformat": 4,
 "nbformat_minor": 5
}
