{
 "cells": [
  {
   "cell_type": "code",
   "execution_count": 1,
   "id": "0da51f62",
   "metadata": {},
   "outputs": [
    {
     "data": {
      "text/plain": [
       "'How Voice search makes your business a successful business.'"
      ]
     },
     "execution_count": 1,
     "metadata": {},
     "output_type": "execute_result"
    }
   ],
   "source": [
    "import requests\n",
    "import pandas as pd \n",
    "from bs4 import BeautifulSoup\n",
    "import string\n",
    "import spacy\n",
    "import re\n",
    "url = \"\"\"https://insights.blackcoffer.com/how-voice-search-makes-your-business-a-successful-business/\"\"\"\n",
    "headers = {\"User-Agent\": \"Mozilla/5.0 (X11; Linux x86_64; rv:60.0) Gecko/20100101 Firefox/60.0\"}\n",
    "page = requests.get(url, headers=headers)\n",
    "soup = BeautifulSoup(page.content, 'html.parser')\n",
    "soup=BeautifulSoup(page.content, 'html.parser')\n",
    "title=soup.find('h1',class_=\"entry-title\")\n",
    "title=title.text.replace('\\n',\" \")\n",
    "title\n"
   ]
  },
  {
   "cell_type": "code",
   "execution_count": 2,
   "id": "4b238773",
   "metadata": {},
   "outputs": [
    {
     "name": "stdout",
     "output_type": "stream",
     "text": [
      " Finding ways to make using the Internet easier is something most modern consumers are passionate about. Since the rise of AI-infused technology like Amazon’s Alexa or Apple’s Siri, voice search has grown increasingly popular. In fact, nearly 60 percent of people all over the world use voice search at least once a day. As this technology grows more popular and complex with each passing day, business owners are starting to take notice of voice search. Capitalizing on this trend is only possible when optimizing the content on your website for voice search. Are you trying to make your website more voice search-friendly? If so, check out the following tips. 1. Accuracy of voice search In the past, if you wanted relevant answers from a voice recognition technology, well—good luck with that. But today, machine learning systems can compete with people in terms of accuracy. Google’s voice recognition, Google is now able to understand human language with 95 percent accuracy. These improvements mean that, while you can trust good voice systems to match customers with the right products, services, or information with increasing degrees of nuance, leading businesses already have set customer expectations for delivery. Thanks to machine learning algorithms that can detect speech and respond with meaningful results. 2. The interest in voice is only going to grow Because voice search systems are at a point where they actually can perform reliably and meet customer expectations just as well (if not better) than traditional query options, customer trust in them is growing: 60% of 18-to-49-year-olds talk to automated voice systems at least once a day.Voice shopping is expected to reach $40 billion by 2022—up from $2 billion in 2018; global smart speaker sales expected to exceed $30 billion by 2024.30% of people who don’t have a voice assistant would like to buy one.50% of smart speaker owners would like to get information about deals, sales, and promotions. Yet, only 4% of businesses are properly optimized for voice search. What’s with the disconnect? In other words, business leaders are at an ideal intersection where reliable systems are available and there are still many customers who haven’t been reached or who might want more out of the systems they currently use. Bringing those systems and customers together will help companies avoid being left behind. 3. People are after convenience and all types of information When people use voice search, they don’t just want to locate a great pair of shoes or a TV. People want all kinds of other information, such as your store hours, how to connect to support specialists, and when you’re having your next sale. This is partly why some experts have predicted a “totally different internet” within the next five to 10 years, one where voice-activated chatbots have all but replaced the e-commerce channels we’re used to using.  Shoppers are also after general tips that can take some of the friction out of everyday life—think life hacks and how-tos. In fact, words like “how,” “what,” “best,” and “easy” are among the top voice search queries. This means that when it comes to online marketing, you probably need to change your entire optimization approach, taking elements like grammar and semantics, the structure of your site, and structured data markup that influences Google’s ability to find your content. Of course, optimizing from the start, not as an afterthought, is ideal. 4. How Voice become part of customer-brand interactions  Voice Search can be used on both desktop and mobile searches. We can see that customers want different types of information from voice systems, they also can use it at many points in the customer journey. For example, about half of shoppers use voice to research products, even “near me” searches results are mostly done by customers. Customers also use voice to: Add items to shopping lists (36%)Track packages (30%)Make a purchase (22%)Give a rating or review (20%)Contact support (18%)Reorder something (17%) These statistics show you should think beyond just having customers find you or your products. Voice search and commands can take your buyers from start to finish, so give your customers as much convenience and satisfaction as possible by integrating voice options into more types of interactions. 5. Voice is often just the starting point A survey showed that, once a consumer makes a local voice search, their next most common action is to call the business (28%). Customers also are highly likely to visit company websites (27%), show up at the company’s location (19%), and do more research into that business or additional businesses (14% and 12%, respectively). So, in short, while voice services can allow a customer to complete many steps without human interaction, you shouldn’t see it as a total substitute. Many people are going to take further steps after the initial search, and they still will want to hear a human voice respond back once in a while. They are going to have more questions, and they’re willing to physically connect with you and what you offer. Don’t drop the ball in other areas, like making your site aesthetically pleasing and easy to navigate, having enough staff ready to chat, listing an accurate contact number, or keeping your store well-stocked. Voice search already is shifting the way customers engage with brands, but there’s still time for companies of any size to get involved with voice systems in ways that can benefit both the customer and the business’s bottom line. The next step is to find voice search solutions. However, as with other technologies, these are not necessarily one size fits all, meaning it’s critical to shop around and be specific about your goals. If you can customize and update your options in a scalable way, they’ll be even more effective for your business. \n",
      " Finding ways to make using the Internet easier is something most modern consumers are passionate about Since the rise of AIinfused technology like Amazon’s Alexa or Apple’s Siri voice search has grown increasingly popular In fact nearly 60 percent of people all over the world use voice search at least once a day As this technology grows more popular and complex with each passing day business owners are starting to take notice of voice search Capitalizing on this trend is only possible when optimizing the content on your website for voice search Are you trying to make your website more voice searchfriendly If so check out the following tips 1 Accuracy of voice search In the past if you wanted relevant answers from a voice recognition technology well—good luck with that But today machine learning systems can compete with people in terms of accuracy Google’s voice recognition Google is now able to understand human language with 95 percent accuracy These improvements mean that while you can trust good voice systems to match customers with the right products services or information with increasing degrees of nuance leading businesses already have set customer expectations for delivery Thanks to machine learning algorithms that can detect speech and respond with meaningful results 2 The interest in voice is only going to grow Because voice search systems are at a point where they actually can perform reliably and meet customer expectations just as well if not better than traditional query options customer trust in them is growing 60 of 18to49yearolds talk to automated voice systems at least once a dayVoice shopping is expected to reach 40 billion by 2022—up from 2 billion in 2018 global smart speaker sales expected to exceed 30 billion by 202430 of people who don’t have a voice assistant would like to buy one50 of smart speaker owners would like to get information about deals sales and promotions Yet only 4 of businesses are properly optimized for voice search What’s with the disconnect In other words business leaders are at an ideal intersection where reliable systems are available and there are still many customers who haven’t been reached or who might want more out of the systems they currently use Bringing those systems and customers together will help companies avoid being left behind 3 People are after convenience and all types of information When people use voice search they don’t just want to locate a great pair of shoes or a TV People want all kinds of other information such as your store hours how to connect to support specialists and when you’re having your next sale This is partly why some experts have predicted a “totally different internet” within the next five to 10 years one where voiceactivated chatbots have all but replaced the ecommerce channels we’re used to using  Shoppers are also after general tips that can take some of the friction out of everyday life—think life hacks and howtos In fact words like “how” “what” “best” and “easy” are among the top voice search queries This means that when it comes to online marketing you probably need to change your entire optimization approach taking elements like grammar and semantics the structure of your site and structured data markup that influences Google’s ability to find your content Of course optimizing from the start not as an afterthought is ideal 4 How Voice become part of customerbrand interactions  Voice Search can be used on both desktop and mobile searches We can see that customers want different types of information from voice systems they also can use it at many points in the customer journey For example about half of shoppers use voice to research products even “near me” searches results are mostly done by customers Customers also use voice to Add items to shopping lists 36Track packages 30Make a purchase 22Give a rating or review 20Contact support 18Reorder something 17 These statistics show you should think beyond just having customers find you or your products Voice search and commands can take your buyers from start to finish so give your customers as much convenience and satisfaction as possible by integrating voice options into more types of interactions 5 Voice is often just the starting point A survey showed that once a consumer makes a local voice search their next most common action is to call the business 28 Customers also are highly likely to visit company websites 27 show up at the company’s location 19 and do more research into that business or additional businesses 14 and 12 respectively So in short while voice services can allow a customer to complete many steps without human interaction you shouldn’t see it as a total substitute Many people are going to take further steps after the initial search and they still will want to hear a human voice respond back once in a while They are going to have more questions and they’re willing to physically connect with you and what you offer Don’t drop the ball in other areas like making your site aesthetically pleasing and easy to navigate having enough staff ready to chat listing an accurate contact number or keeping your store wellstocked Voice search already is shifting the way customers engage with brands but there’s still time for companies of any size to get involved with voice systems in ways that can benefit both the customer and the business’s bottom line The next step is to find voice search solutions However as with other technologies these are not necessarily one size fits all meaning it’s critical to shop around and be specific about your goals If you can customize and update your options in a scalable way they’ll be even more effective for your business \n",
      "['Finding', 'ways', 'to', 'make', 'using', 'the', 'Internet', 'easier', 'is', 'something', 'most', 'modern', 'consumers', 'are', 'passionate', 'about', 'Since', 'the', 'rise', 'of', 'AIinfused', 'technology', 'like', 'Amazon’s', 'Alexa', 'or', 'Apple’s', 'Siri', 'voice', 'search', 'has', 'grown', 'increasingly', 'popular', 'In', 'fact', 'nearly', '60', 'percent', 'of', 'people', 'all', 'over', 'the', 'world', 'use', 'voice', 'search', 'at', 'least', 'once', 'a', 'day', 'As', 'this', 'technology', 'grows', 'more', 'popular', 'and', 'complex', 'with', 'each', 'passing', 'day', 'business', 'owners', 'are', 'starting', 'to', 'take', 'notice', 'of', 'voice', 'search', 'Capitalizing', 'on', 'this', 'trend', 'is', 'only', 'possible', 'when', 'optimizing', 'the', 'content', 'on', 'your', 'website', 'for', 'voice', 'search', 'Are', 'you', 'trying', 'to', 'make', 'your', 'website', 'more', 'voice', 'searchfriendly', 'If', 'so', 'check', 'out', 'the', 'following', 'tips', '1', 'Accuracy', 'of', 'voice', 'search', 'In', 'the', 'past', 'if', 'you', 'wanted', 'relevant', 'answers', 'from', 'a', 'voice', 'recognition', 'technology', 'well—good', 'luck', 'with', 'that', 'But', 'today', 'machine', 'learning', 'systems', 'can', 'compete', 'with', 'people', 'in', 'terms', 'of', 'accuracy', 'Google’s', 'voice', 'recognition', 'Google', 'is', 'now', 'able', 'to', 'understand', 'human', 'language', 'with', '95', 'percent', 'accuracy', 'These', 'improvements', 'mean', 'that', 'while', 'you', 'can', 'trust', 'good', 'voice', 'systems', 'to', 'match', 'customers', 'with', 'the', 'right', 'products', 'services', 'or', 'information', 'with', 'increasing', 'degrees', 'of', 'nuance', 'leading', 'businesses', 'already', 'have', 'set', 'customer', 'expectations', 'for', 'delivery', 'Thanks', 'to', 'machine', 'learning', 'algorithms', 'that', 'can', 'detect', 'speech', 'and', 'respond', 'with', 'meaningful', 'results', '2', 'The', 'interest', 'in', 'voice', 'is', 'only', 'going', 'to', 'grow', 'Because', 'voice', 'search', 'systems', 'are', 'at', 'a', 'point', 'where', 'they', 'actually', 'can', 'perform', 'reliably', 'and', 'meet', 'customer', 'expectations', 'just', 'as', 'well', 'if', 'not', 'better', 'than', 'traditional', 'query', 'options', 'customer', 'trust', 'in', 'them', 'is', 'growing', '60', 'of', '18to49yearolds', 'talk', 'to', 'automated', 'voice', 'systems', 'at', 'least', 'once', 'a', 'dayVoice', 'shopping', 'is', 'expected', 'to', 'reach', '40', 'billion', 'by', '2022—up', 'from', '2', 'billion', 'in', '2018', 'global', 'smart', 'speaker', 'sales', 'expected', 'to', 'exceed', '30', 'billion', 'by', '202430', 'of', 'people', 'who', 'don’t', 'have', 'a', 'voice', 'assistant', 'would', 'like', 'to', 'buy', 'one50', 'of', 'smart', 'speaker', 'owners', 'would', 'like', 'to', 'get', 'information', 'about', 'deals', 'sales', 'and', 'promotions', 'Yet', 'only', '4', 'of', 'businesses', 'are', 'properly', 'optimized', 'for', 'voice', 'search', 'What’s', 'with', 'the', 'disconnect', 'In', 'other', 'words', 'business', 'leaders', 'are', 'at', 'an', 'ideal', 'intersection', 'where', 'reliable', 'systems', 'are', 'available', 'and', 'there', 'are', 'still', 'many', 'customers', 'who', 'haven’t', 'been', 'reached', 'or', 'who', 'might', 'want', 'more', 'out', 'of', 'the', 'systems', 'they', 'currently', 'use', 'Bringing', 'those', 'systems', 'and', 'customers', 'together', 'will', 'help', 'companies', 'avoid', 'being', 'left', 'behind', '3', 'People', 'are', 'after', 'convenience', 'and', 'all', 'types', 'of', 'information', 'When', 'people', 'use', 'voice', 'search', 'they', 'don’t', 'just', 'want', 'to', 'locate', 'a', 'great', 'pair', 'of', 'shoes', 'or', 'a', 'TV', 'People', 'want', 'all', 'kinds', 'of', 'other', 'information', 'such', 'as', 'your', 'store', 'hours', 'how', 'to', 'connect', 'to', 'support', 'specialists', 'and', 'when', 'you’re', 'having', 'your', 'next', 'sale', 'This', 'is', 'partly', 'why', 'some', 'experts', 'have', 'predicted', 'a', '“totally', 'different', 'internet”', 'within', 'the', 'next', 'five', 'to', '10', 'years', 'one', 'where', 'voiceactivated', 'chatbots', 'have', 'all', 'but', 'replaced', 'the', 'ecommerce', 'channels', 'we’re', 'used', 'to', 'using', 'Shoppers', 'are', 'also', 'after', 'general', 'tips', 'that', 'can', 'take', 'some', 'of', 'the', 'friction', 'out', 'of', 'everyday', 'life—think', 'life', 'hacks', 'and', 'howtos', 'In', 'fact', 'words', 'like', '“how”', '“what”', '“best”', 'and', '“easy”', 'are', 'among', 'the', 'top', 'voice', 'search', 'queries', 'This', 'means', 'that', 'when', 'it', 'comes', 'to', 'online', 'marketing', 'you', 'probably', 'need', 'to', 'change', 'your', 'entire', 'optimization', 'approach', 'taking', 'elements', 'like', 'grammar', 'and', 'semantics', 'the', 'structure', 'of', 'your', 'site', 'and', 'structured', 'data', 'markup', 'that', 'influences', 'Google’s', 'ability', 'to', 'find', 'your', 'content', 'Of', 'course', 'optimizing', 'from', 'the', 'start', 'not', 'as', 'an', 'afterthought', 'is', 'ideal', '4', 'How', 'Voice', 'become', 'part', 'of', 'customerbrand', 'interactions', 'Voice', 'Search', 'can', 'be', 'used', 'on', 'both', 'desktop', 'and', 'mobile', 'searches', 'We', 'can', 'see', 'that', 'customers', 'want', 'different', 'types', 'of', 'information', 'from', 'voice', 'systems', 'they', 'also', 'can', 'use', 'it', 'at', 'many', 'points', 'in', 'the', 'customer', 'journey', 'For', 'example', 'about', 'half', 'of', 'shoppers', 'use', 'voice', 'to', 'research', 'products', 'even', '“near', 'me”', 'searches', 'results', 'are', 'mostly', 'done', 'by', 'customers', 'Customers', 'also', 'use', 'voice', 'to', 'Add', 'items', 'to', 'shopping', 'lists', '36Track', 'packages', '30Make', 'a', 'purchase', '22Give', 'a', 'rating', 'or', 'review', '20Contact', 'support', '18Reorder', 'something', '17', 'These', 'statistics', 'show', 'you', 'should', 'think', 'beyond', 'just', 'having', 'customers', 'find', 'you', 'or', 'your', 'products', 'Voice', 'search', 'and', 'commands', 'can', 'take', 'your', 'buyers', 'from', 'start', 'to', 'finish', 'so', 'give', 'your', 'customers', 'as', 'much', 'convenience', 'and', 'satisfaction', 'as', 'possible', 'by', 'integrating', 'voice', 'options', 'into', 'more', 'types', 'of', 'interactions', '5', 'Voice', 'is', 'often', 'just', 'the', 'starting', 'point', 'A', 'survey', 'showed', 'that', 'once', 'a', 'consumer', 'makes', 'a', 'local', 'voice', 'search', 'their', 'next', 'most', 'common', 'action', 'is', 'to', 'call', 'the', 'business', '28', 'Customers', 'also', 'are', 'highly', 'likely', 'to', 'visit', 'company', 'websites', '27', 'show', 'up', 'at', 'the', 'company’s', 'location', '19', 'and', 'do', 'more', 'research', 'into', 'that', 'business', 'or', 'additional', 'businesses', '14', 'and', '12', 'respectively', 'So', 'in', 'short', 'while', 'voice', 'services', 'can', 'allow', 'a', 'customer', 'to', 'complete', 'many', 'steps', 'without', 'human', 'interaction', 'you', 'shouldn’t', 'see', 'it', 'as', 'a', 'total', 'substitute', 'Many', 'people', 'are', 'going', 'to', 'take', 'further', 'steps', 'after', 'the', 'initial', 'search', 'and', 'they', 'still', 'will', 'want', 'to', 'hear', 'a', 'human', 'voice', 'respond', 'back', 'once', 'in', 'a', 'while', 'They', 'are', 'going', 'to', 'have', 'more', 'questions', 'and', 'they’re', 'willing', 'to', 'physically', 'connect', 'with', 'you', 'and', 'what', 'you', 'offer', 'Don’t', 'drop', 'the', 'ball', 'in', 'other', 'areas', 'like', 'making', 'your', 'site', 'aesthetically', 'pleasing', 'and', 'easy', 'to', 'navigate', 'having', 'enough', 'staff', 'ready', 'to', 'chat', 'listing', 'an', 'accurate', 'contact', 'number', 'or', 'keeping', 'your', 'store', 'wellstocked', 'Voice', 'search', 'already', 'is', 'shifting', 'the', 'way', 'customers', 'engage', 'with', 'brands', 'but', 'there’s', 'still', 'time', 'for', 'companies', 'of', 'any', 'size', 'to', 'get', 'involved', 'with', 'voice', 'systems', 'in', 'ways', 'that', 'can', 'benefit', 'both', 'the', 'customer', 'and', 'the', 'business’s', 'bottom', 'line', 'The', 'next', 'step', 'is', 'to', 'find', 'voice', 'search', 'solutions', 'However', 'as', 'with', 'other', 'technologies', 'these', 'are', 'not', 'necessarily', 'one', 'size', 'fits', 'all', 'meaning', 'it’s', 'critical', 'to', 'shop', 'around', 'and', 'be', 'specific', 'about', 'your', 'goals', 'If', 'you', 'can', 'customize', 'and', 'update', 'your', 'options', 'in', 'a', 'scalable', 'way', 'they’ll', 'be', 'even', 'more', 'effective', 'for', 'your', 'business']\n"
     ]
    }
   ],
   "source": [
    "content=soup.findAll(attrs={'class':'td-post-content'})\n",
    "content=content[0].text.replace('\\n',\" \")\n",
    "print(content)\n",
    "#Punctuation\n",
    "content = content.translate(str.maketrans('', '', string.punctuation)) \n",
    "print(content)\n",
    "text = content.split()\n",
    "print(text)\n"
   ]
  },
  {
   "cell_type": "code",
   "execution_count": 4,
   "id": "25932cc2",
   "metadata": {},
   "outputs": [
    {
     "data": {
      "text/plain": [
       "957"
      ]
     },
     "execution_count": 4,
     "metadata": {},
     "output_type": "execute_result"
    }
   ],
   "source": [
    "len(text)"
   ]
  },
  {
   "cell_type": "code",
   "execution_count": 5,
   "id": "028de0df",
   "metadata": {},
   "outputs": [
    {
     "name": "stdout",
     "output_type": "stream",
     "text": [
      "44\n"
     ]
    }
   ],
   "source": [
    "#Positive Score \n",
    "with open(r\"C:\\Users\\Om Bhandwalkar\\Desktop\\pos\\positive-words.txt\") as pos:\n",
    "    poswords = pos.read().split(\"\\n\")  \n",
    "    poswords = poswords[5:]\n",
    "pos_count = \" \".join ([w for w in text if w in poswords])\n",
    "pos_count=pos_count.split(\" \")\n",
    "Positive_score=len(pos_count)\n",
    "print(Positive_score)"
   ]
  },
  {
   "cell_type": "code",
   "execution_count": 6,
   "id": "76d18c10",
   "metadata": {},
   "outputs": [
    {
     "name": "stdout",
     "output_type": "stream",
     "text": [
      "4\n"
     ]
    }
   ],
   "source": [
    "#Negative Score\n",
    "with open(r\"C:\\Users\\Om Bhandwalkar\\Desktop\\pos\\negative-words.txt\",encoding =\"ISO-8859-1\") as neg:\n",
    "    negwords = neg.read().split(\"\\n\")\n",
    "    \n",
    "negwords = negwords[36:]\n",
    "neg_count = \" \".join ([w for w in text if w in negwords])\n",
    "neg_count=neg_count.split(\" \")\n",
    "Negative_score=len(neg_count)\n",
    "print(Negative_score)"
   ]
  },
  {
   "cell_type": "code",
   "execution_count": 7,
   "id": "5c6c21c7",
   "metadata": {},
   "outputs": [
    {
     "data": {
      "text/html": [
       "<div>\n",
       "<style scoped>\n",
       "    .dataframe tbody tr th:only-of-type {\n",
       "        vertical-align: middle;\n",
       "    }\n",
       "\n",
       "    .dataframe tbody tr th {\n",
       "        vertical-align: top;\n",
       "    }\n",
       "\n",
       "    .dataframe thead th {\n",
       "        text-align: right;\n",
       "    }\n",
       "</style>\n",
       "<table border=\"1\" class=\"dataframe\">\n",
       "  <thead>\n",
       "    <tr style=\"text-align: right;\">\n",
       "      <th></th>\n",
       "      <th>url</th>\n",
       "      <th>title</th>\n",
       "      <th>content</th>\n",
       "      <th>filter_content</th>\n",
       "      <th>Positive_Score</th>\n",
       "      <th>Negative_Score</th>\n",
       "      <th>polarity</th>\n",
       "      <th>subjectivity</th>\n",
       "    </tr>\n",
       "  </thead>\n",
       "  <tbody>\n",
       "    <tr>\n",
       "      <th>0</th>\n",
       "      <td>https://insights.blackcoffer.com/how-voice-sea...</td>\n",
       "      <td>How Voice search makes your business a success...</td>\n",
       "      <td>Finding ways to make using the Internet easie...</td>\n",
       "      <td>Finding ways to make using the Internet easier...</td>\n",
       "      <td>44</td>\n",
       "      <td>4</td>\n",
       "      <td>0.158266</td>\n",
       "      <td>0.476221</td>\n",
       "    </tr>\n",
       "  </tbody>\n",
       "</table>\n",
       "</div>"
      ],
      "text/plain": [
       "                                                 url  \\\n",
       "0  https://insights.blackcoffer.com/how-voice-sea...   \n",
       "\n",
       "                                               title  \\\n",
       "0  How Voice search makes your business a success...   \n",
       "\n",
       "                                             content  \\\n",
       "0   Finding ways to make using the Internet easie...   \n",
       "\n",
       "                                      filter_content  Positive_Score  \\\n",
       "0  Finding ways to make using the Internet easier...              44   \n",
       "\n",
       "   Negative_Score  polarity  subjectivity  \n",
       "0               4  0.158266      0.476221  "
      ]
     },
     "execution_count": 7,
     "metadata": {},
     "output_type": "execute_result"
    }
   ],
   "source": [
    "filter_content = ' '.join(text)\n",
    "data=[[url,title,content,filter_content,Positive_score,Negative_score]]\n",
    "data=pd.DataFrame(data,columns=[\"url\",\"title\",\"content\",\"filter_content\",\"Positive_Score\",\"Negative_Score\"])\n",
    "from textblob import TextBlob\n",
    "# Get The Subjectivity\n",
    "def sentiment_analysis(data):\n",
    "    sentiment = TextBlob(data[\"content\"]).sentiment\n",
    "    return pd.Series([sentiment.polarity,sentiment.subjectivity ])\n",
    "\n",
    "# Adding Subjectivity & Polarity\n",
    "data[[\"polarity\", \"subjectivity\"]] = data.apply(sentiment_analysis, axis=1)\n",
    "\n",
    "data"
   ]
  },
  {
   "cell_type": "code",
   "execution_count": 8,
   "id": "31a459d7",
   "metadata": {},
   "outputs": [
    {
     "name": "stdout",
     "output_type": "stream",
     "text": [
      "Word average = 4752.0\n",
      "FOG INDEX =  385.89\n",
      "Average no of words per sentence\n",
      "957.0\n",
      "Complex Words 1632\n"
     ]
    }
   ],
   "source": [
    "#AVG SENTENCE LENGTH\n",
    "AVG_SENTENCE_LENGTH = len(content.replace(' ',''))/len(re.split(r'[?!.]', content))\n",
    "print('Word average =', AVG_SENTENCE_LENGTH)\n",
    "import textstat\n",
    "#Fog index \n",
    "FOG_INDEX=(textstat.gunning_fog(content))\n",
    "print(\"FOG INDEX = \",FOG_INDEX)\n",
    "#Average No of Words Per Sentence \n",
    "AVG_NUMBER_OF_WORDS_PER_SENTENCE = [len(l.split()) for l in re.split(r'[?!.]', content) if l.strip()]\n",
    "print(\"Average no of words per sentence\")\n",
    "AVG_NUMBER_OF_WORDS_PER_SENTENCE=print(sum(AVG_NUMBER_OF_WORDS_PER_SENTENCE)/len(AVG_NUMBER_OF_WORDS_PER_SENTENCE))\n",
    "#Complex words\n",
    "def syllable_count(word):\n",
    "    count = 0\n",
    "    vowels = \"AEIOUYaeiouy\"\n",
    "    if word[0] in vowels:\n",
    "        count += 1\n",
    "    for index in range(1, len(word)): \n",
    "        if word[index] in vowels and word[index - 1] not in vowels:\n",
    "            count += 1\n",
    "            if word.endswith(\"es\"or \"ed\"):\n",
    "                count -= 1\n",
    "    if count == 0:\n",
    "        count += 1\n",
    "    return count\n",
    "\n",
    "\n",
    "\n",
    "COMPLEX_WORDS=syllable_count(content)\n",
    "print(\"Complex Words\",COMPLEX_WORDS)\n"
   ]
  },
  {
   "cell_type": "code",
   "execution_count": 9,
   "id": "c0796469",
   "metadata": {},
   "outputs": [
    {
     "name": "stdout",
     "output_type": "stream",
     "text": [
      "Word Count 5698\n",
      "Percentage of Complex Words 28.641628641628643\n",
      "Average Word per Length 4.9655172413793105\n",
      "The AVG number of syllables in the word is: \n",
      "1.993730407523511\n",
      "Word Count 5698\n",
      "Percentage of Complex Words 28.641628641628643\n",
      "Average Word per Length 4.9655172413793105\n",
      "The AVG number of syllables in the word is: \n",
      "1.993730407523511\n"
     ]
    }
   ],
   "source": [
    "#Word Count\n",
    "Word_Count=len(content)\n",
    "print(\"Word Count\",Word_Count)\n",
    "#Percentage Complex Words\n",
    "pcw=(COMPLEX_WORDS/Word_Count)*100\n",
    "print(\"Percentage of Complex Words\",pcw)\n",
    "#Average Word Length\n",
    "Average_Word_Length=len(content.replace(' ',''))/len(content.split())\n",
    "print(\"Average Word per Length\",Average_Word_Length)\n",
    "#Syllable Count Per Word\n",
    "word=content.replace(' ','')\n",
    "syllable_count=0\n",
    "for w in word:\n",
    "      if(w=='a' or w=='e' or w=='i' or w=='o' or w=='y' or w=='u' or w=='A' or w=='E' or w=='I' or w=='O' or w=='U' or w=='Y'):\n",
    "            syllable_count=syllable_count+1\n",
    "print(\"The AVG number of syllables in the word is: \")\n",
    "print(syllable_count/len(content.split()))#Word Count\n",
    "Word_Count=len(content)\n",
    "print(\"Word Count\",Word_Count)\n",
    "#Percentage Complex Words\n",
    "pcw=(COMPLEX_WORDS/Word_Count)*100\n",
    "print(\"Percentage of Complex Words\",pcw)\n",
    "#Average Word Length\n",
    "Average_Word_Length=len(content.replace(' ',''))/len(content.split())\n",
    "print(\"Average Word per Length\",Average_Word_Length)\n",
    "#Syllable Count Per Word\n",
    "word=content.replace(' ','')\n",
    "syllable_count=0\n",
    "for w in word:\n",
    "      if(w=='a' or w=='e' or w=='i' or w=='o' or w=='y' or w=='u' or w=='A' or w=='E' or w=='I' or w=='O' or w=='U' or w=='Y'):\n",
    "            syllable_count=syllable_count+1\n",
    "print(\"The AVG number of syllables in the word is: \")\n",
    "print(syllable_count/len(content.split()))"
   ]
  },
  {
   "cell_type": "code",
   "execution_count": 1,
   "id": "9c0bf65c",
   "metadata": {},
   "outputs": [
    {
     "name": "stdout",
     "output_type": "stream",
     "text": [
      "44\n",
      "4\n",
      "Word average = 4752.0\n",
      "FOG INDEX =  385.89\n",
      "Average no of words per sentence\n",
      "957.0\n",
      "Complex Words 1632\n",
      "Word Count 5698\n",
      "Percentage of Complex Words 28.641628641628643\n",
      "Average Word per Length 4.9655172413793105\n",
      "The AVG number of syllables in the word is: \n",
      "1.993730407523511\n"
     ]
    },
    {
     "data": {
      "text/html": [
       "<div>\n",
       "<style scoped>\n",
       "    .dataframe tbody tr th:only-of-type {\n",
       "        vertical-align: middle;\n",
       "    }\n",
       "\n",
       "    .dataframe tbody tr th {\n",
       "        vertical-align: top;\n",
       "    }\n",
       "\n",
       "    .dataframe thead th {\n",
       "        text-align: right;\n",
       "    }\n",
       "</style>\n",
       "<table border=\"1\" class=\"dataframe\">\n",
       "  <thead>\n",
       "    <tr style=\"text-align: right;\">\n",
       "      <th></th>\n",
       "      <th>url</th>\n",
       "      <th>title</th>\n",
       "      <th>content</th>\n",
       "      <th>filter_content</th>\n",
       "      <th>Positive_Score</th>\n",
       "      <th>Negative_Score</th>\n",
       "      <th>Avg_Sentence_Length</th>\n",
       "      <th>Percentage_Complex_Word</th>\n",
       "      <th>Fog_Index</th>\n",
       "      <th>AVG_NUMBER_OF_WORDS_PER_SENTENCE</th>\n",
       "      <th>COMPLEX_WORDS</th>\n",
       "      <th>Word_Count</th>\n",
       "      <th>syllable</th>\n",
       "      <th>Average_Word_Length</th>\n",
       "      <th>polarity</th>\n",
       "      <th>subjectivity</th>\n",
       "    </tr>\n",
       "  </thead>\n",
       "  <tbody>\n",
       "    <tr>\n",
       "      <th>0</th>\n",
       "      <td>https://insights.blackcoffer.com/how-voice-sea...</td>\n",
       "      <td>How Voice search makes your business a success...</td>\n",
       "      <td>Finding ways to make using the Internet easie...</td>\n",
       "      <td>Finding ways to make using the Internet easier...</td>\n",
       "      <td>44</td>\n",
       "      <td>4</td>\n",
       "      <td>4752.0</td>\n",
       "      <td>28.641629</td>\n",
       "      <td>385.89</td>\n",
       "      <td>957.0</td>\n",
       "      <td>1632</td>\n",
       "      <td>5698</td>\n",
       "      <td>1.99373</td>\n",
       "      <td>4.965517</td>\n",
       "      <td>0.158266</td>\n",
       "      <td>0.476221</td>\n",
       "    </tr>\n",
       "  </tbody>\n",
       "</table>\n",
       "</div>"
      ],
      "text/plain": [
       "                                                 url  \\\n",
       "0  https://insights.blackcoffer.com/how-voice-sea...   \n",
       "\n",
       "                                               title  \\\n",
       "0  How Voice search makes your business a success...   \n",
       "\n",
       "                                             content  \\\n",
       "0   Finding ways to make using the Internet easie...   \n",
       "\n",
       "                                      filter_content  Positive_Score  \\\n",
       "0  Finding ways to make using the Internet easier...              44   \n",
       "\n",
       "   Negative_Score  Avg_Sentence_Length  Percentage_Complex_Word  Fog_Index  \\\n",
       "0               4               4752.0                28.641629     385.89   \n",
       "\n",
       "    AVG_NUMBER_OF_WORDS_PER_SENTENCE  COMPLEX_WORDS  Word_Count  syllable  \\\n",
       "0                              957.0           1632        5698   1.99373   \n",
       "\n",
       "   Average_Word_Length  polarity  subjectivity  \n",
       "0             4.965517  0.158266      0.476221  "
      ]
     },
     "execution_count": 1,
     "metadata": {},
     "output_type": "execute_result"
    }
   ],
   "source": [
    "import requests\n",
    "import pandas as pd \n",
    "from bs4 import BeautifulSoup\n",
    "import string\n",
    "import spacy\n",
    "import re\n",
    "url = \"\"\"https://insights.blackcoffer.com/how-voice-search-makes-your-business-a-successful-business/\"\"\"\n",
    "headers = {\"User-Agent\": \"Mozilla/5.0 (X11; Linux x86_64; rv:60.0) Gecko/20100101 Firefox/60.0\"}\n",
    "page = requests.get(url, headers=headers)\n",
    "soup = BeautifulSoup(page.content, 'html.parser')\n",
    "soup=BeautifulSoup(page.content, 'html.parser')\n",
    "title=soup.find('h1',class_=\"entry-title\")\n",
    "title=title.text.replace('\\n',\" \")\n",
    "# title\n",
    "\n",
    "content=soup.findAll(attrs={'class':'td-post-content'})\n",
    "content=content[0].text.replace('\\n',\" \")\n",
    "# print(content)\n",
    "#Punctuation\n",
    "content = content.translate(str.maketrans('', '', string.punctuation)) \n",
    "# print(content)\n",
    "text = content.split()\n",
    "# print(text)\n",
    "len(text)\n",
    "#Positive Score \n",
    "with open(r\"C:\\Users\\Om Bhandwalkar\\Desktop\\pos\\positive-words.txt\") as pos:\n",
    "    poswords = pos.read().split(\"\\n\")  \n",
    "    poswords = poswords[5:]\n",
    "pos_count = \" \".join ([w for w in text if w in poswords])\n",
    "pos_count=pos_count.split(\" \")\n",
    "Positive_score=len(pos_count)\n",
    "print(Positive_score)\n",
    "\n",
    "#Negative Score\n",
    "with open(r\"C:\\Users\\Om Bhandwalkar\\Desktop\\pos\\negative-words.txt\",encoding =\"ISO-8859-1\") as neg:\n",
    "    negwords = neg.read().split(\"\\n\")\n",
    "    \n",
    "negwords = negwords[36:]\n",
    "neg_count = \" \".join ([w for w in text if w in negwords])\n",
    "neg_count=neg_count.split(\" \")\n",
    "Negative_score=len(neg_count)\n",
    "print(Negative_score)\n",
    "\n",
    "\n",
    "filter_content = ' '.join(text)\n",
    "data=[[url,title,content,filter_content,Positive_score,Negative_score]]\n",
    "data=pd.DataFrame(data,columns=[\"url\",\"title\",\"content\",\"filter_content\",\"Positive_Score\",\"Negative_Score\"])\n",
    "from textblob import TextBlob\n",
    "# Get The Subjectivity\n",
    "def sentiment_analysis(data):\n",
    "    sentiment = TextBlob(data[\"content\"]).sentiment\n",
    "    return pd.Series([sentiment.polarity,sentiment.subjectivity ])\n",
    "data[[\"polarity\", \"subjectivity\"]] = data.apply(sentiment_analysis, axis=1)\n",
    "data\n",
    "#AVG SENTENCE LENGTH\n",
    "AVG_SENTENCE_LENGTH = len(content.replace(' ',''))/len(re.split(r'[?!.]', content))\n",
    "print('Word average =', AVG_SENTENCE_LENGTH)\n",
    "import textstat\n",
    "#Fog index \n",
    "FOG_INDEX=(textstat.gunning_fog(content))\n",
    "print(\"FOG INDEX = \",FOG_INDEX)\n",
    "#Average No of Words Per Sentence \n",
    "AVG_NUMBER_OF_WORDS_PER_SENTENCE = [len(l.split()) for l in re.split(r'[?!.]', content) if l.strip()]\n",
    "print(\"Average no of words per sentence\")\n",
    "AVG_NUMBER_OF_WORDS_PER_SENTENCE=(sum(AVG_NUMBER_OF_WORDS_PER_SENTENCE)/len(AVG_NUMBER_OF_WORDS_PER_SENTENCE))\n",
    "print(AVG_NUMBER_OF_WORDS_PER_SENTENCE)\n",
    "#Complex words\n",
    "def syllable_count(word):\n",
    "    count = 0\n",
    "    vowels = \"AEIOUYaeiouy\"\n",
    "    if word[0] in vowels:\n",
    "        count += 1\n",
    "    for index in range(1, len(word)): \n",
    "        if word[index] in vowels and word[index - 1] not in vowels:\n",
    "            count += 1\n",
    "            if word.endswith(\"es\"or \"ed\"):\n",
    "                count -= 1\n",
    "    if count == 0:\n",
    "        count += 1\n",
    "    return count\n",
    "\n",
    "\n",
    "\n",
    "COMPLEX_WORDS=syllable_count(content)\n",
    "print(\"Complex Words\",COMPLEX_WORDS)\n",
    "#Word Count\n",
    "Word_Count=len(content)\n",
    "print(\"Word Count\",Word_Count)\n",
    "#Percentage Complex Words\n",
    "pcw=(COMPLEX_WORDS/Word_Count)*100\n",
    "print(\"Percentage of Complex Words\",pcw)\n",
    "#Average Word Length\n",
    "Average_Word_Length=len(content.replace(' ',''))/len(content.split())\n",
    "print(\"Average Word per Length\",Average_Word_Length)\n",
    "#Syllable Count Per Word\n",
    "word=content.replace(' ','')\n",
    "syllable_count=0\n",
    "for w in word:\n",
    "      if(w=='a' or w=='e' or w=='i' or w=='o' or w=='y' or w=='u' or w=='A' or w=='E' or w=='I' or w=='O' or w=='U' or w=='Y'):\n",
    "            syllable_count=syllable_count+1\n",
    "print(\"The AVG number of syllables in the word is: \")\n",
    "syllable = (syllable_count/len(content.split()))\n",
    "print(syllable)\n",
    "\n",
    "data = [[url,title,content,filter_content,Positive_score,Negative_score,AVG_SENTENCE_LENGTH,pcw,FOG_INDEX,\n",
    "         AVG_NUMBER_OF_WORDS_PER_SENTENCE,COMPLEX_WORDS,Word_Count,syllable,Average_Word_Length]]\n",
    "data=pd.DataFrame(data,columns=[\"url\",\"title\",\"content\",\"filter_content\",\"Positive_Score\",\"Negative_Score\",\"Avg_Sentence_Length\"\n",
    "                               ,\"Percentage_Complex_Word\",\"Fog_Index\",\" AVG_NUMBER_OF_WORDS_PER_SENTENCE\",\"COMPLEX_WORDS\",\n",
    "                               \"Word_Count\",\"syllable\",\"Average_Word_Length\"])\n",
    "from textblob import TextBlob\n",
    "# Get The Subjectivity\n",
    "def sentiment_analysis(data):\n",
    "    sentiment = TextBlob(data[\"content\"]).sentiment\n",
    "    return pd.Series([sentiment.polarity,sentiment.subjectivity ])\n",
    "data[[\"polarity\", \"subjectivity\"]] = data.apply(sentiment_analysis, axis=1)\n",
    "data"
   ]
  },
  {
   "cell_type": "code",
   "execution_count": 2,
   "id": "7ed32c5a",
   "metadata": {},
   "outputs": [],
   "source": [
    "data.to_csv(r'C:\\Users\\Om Bhandwalkar\\Desktop\\BlackCoffer Assignment\\Output\\url_92.csv')"
   ]
  },
  {
   "cell_type": "code",
   "execution_count": null,
   "id": "55d295d8",
   "metadata": {},
   "outputs": [],
   "source": []
  }
 ],
 "metadata": {
  "kernelspec": {
   "display_name": "Python 3 (ipykernel)",
   "language": "python",
   "name": "python3"
  },
  "language_info": {
   "codemirror_mode": {
    "name": "ipython",
    "version": 3
   },
   "file_extension": ".py",
   "mimetype": "text/x-python",
   "name": "python",
   "nbconvert_exporter": "python",
   "pygments_lexer": "ipython3",
   "version": "3.9.12"
  }
 },
 "nbformat": 4,
 "nbformat_minor": 5
}
