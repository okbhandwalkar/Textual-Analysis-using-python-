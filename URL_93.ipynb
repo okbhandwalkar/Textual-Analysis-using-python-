{
 "cells": [
  {
   "cell_type": "code",
   "execution_count": 1,
   "id": "f1da0c56",
   "metadata": {},
   "outputs": [
    {
     "data": {
      "text/plain": [
       "'How the COVID-19 crisis is redefining jobs and services?'"
      ]
     },
     "execution_count": 1,
     "metadata": {},
     "output_type": "execute_result"
    }
   ],
   "source": [
    "\n",
    "import requests\n",
    "import pandas as pd \n",
    "from bs4 import BeautifulSoup\n",
    "import string\n",
    "import spacy\n",
    "import re\n",
    "url = \"\"\"https://insights.blackcoffer.com/how-the-covid-19-crisis-is-redefining-jobs-and-services/\"\"\"\n",
    "headers = {\"User-Agent\": \"Mozilla/5.0 (X11; Linux x86_64; rv:60.0) Gecko/20100101 Firefox/60.0\"}\n",
    "page = requests.get(url, headers=headers)\n",
    "soup = BeautifulSoup(page.content, 'html.parser')\n",
    "soup=BeautifulSoup(page.content, 'html.parser')\n",
    "title=soup.find('h1',class_=\"entry-title\")\n",
    "title=title.text.replace('\\n',\" \")\n",
    "title\n"
   ]
  },
  {
   "cell_type": "code",
   "execution_count": 2,
   "id": "c98fda5d",
   "metadata": {},
   "outputs": [
    {
     "name": "stdout",
     "output_type": "stream",
     "text": [
      " The pandemic has shaken the world in the way one had hardly imagined. The impact of it on Jobs and Services is going to be long-lasting and it will be the foundation stone of revolution in these sectors. With the work from home and social distancing norms is altering the way of work, the way we interact, what work we will do, how the work will be done, and whatnot. To just give an example, in the middle of the first lockdown, FMCG major Hindustan Unilever (HUL) went ahead with its merger. It took place online entirely. Yes, it took place online. Who could have ever imagined the merger can take place online? Change is inevitable. But some changes are temporary and some are permanent. The pandemic is bringing changes that are going to be permanent. In fact, these changes were due for a long time and we’re coming at a slow pace. What the pandemic has done is, it has become the catalyst for these changes and raised the ante for change. So, what exactly the changes will be? Let’s look at them one by one. The first change is going to be the extensive use of digital communication from now onwards. The Zoom, Jio Meet, Google Meet, and some derivatives like these are going to be the forever meeting rooms where the important discussions will be held. This may be bad news for the employees who are older than 40 years. They would not have pictured themselves doing such transformation at this part of life. Experts believe that the new normal in the offices are going to be hierarchy-less. The older employees would have to work with the younger ones. There would be no geographical boundaries and where the communication and software adaptability among employees is going to be crucial. The symbol of power will be less visible and the decentralization of power in the office will be prominent. There will be more egalitarianism in companies. The corporates will think much more about office space. Rather than expending too much on physical infrastructure, the online infrastructure will always be in their hindsight. The impact would be more prudent in small and mid-sized businesses. The physical offices itself might disappear from such businesses. But it’s not going to be easy for companies. The security and confidentiality of the authentic information going out of the offices’ building are going to be the largest concern in the new normal world. There would be no surprise if a lot of start-ups will bloom in the near future providing software for security for the data and information of the companies. Also, travel is going to be reduced. So, the major component of CTC where the companies fooling the employees must find the other way. The second change is going to be struck down on employees. Already many of the companies and start-ups are reducing the workforce. It is expected that new normal offices would work with an 80% workforce of that of the current workforce. Automation is on the verge. Due to safety reasons, the companies are going to be more and more leaned towards automation with a minimal touch of human possible. This might result in a loss of jobs in some sectors, but it will also create new jobs in the automation sector. It was evident from before pandemic too but now the velocity for the same would be increased. In the new normal tech-enabled world, the job which would be at stake dominantly would be managers’ managers. The IT firms have started firing the vice presidents and assistant vice presidents who draw hefty salaries but don’t really drive the business. In the designation-less set up in the near future accelerated by Pandemic, they automatically become redundant. For the first time, the employees might be given jobs that would require more than the standard jobs. Also, when the workforce in the company would be less in the company, the employees might be given the option of working for extra time or working on the weekends and would be incentivized for the same rather than employing more staff and paying them full salary. It is a win-win situation for both employees and companies. Employees can earn more than what they usually earn and will get to learn new which would be out of their primary domain. The companies would be able to keep their costs low through this. The assessment of employees might change too. Rather than going for an annual performance review, the employees might be evaluated based on the tasks they perform. Creativity and innovation are going to be swords for the employees in the new normal world rather than designations in the office.   The other change might be in the services sector. The services like which involves maximum human touch will be the one which will be affected most adversely. The safety concerns and confidence of people over the system are going to be the issue for at least the next few years. It also opens the opportunity for something very new. The products which could replace the need for visiting such services centers are going to create a boom in the market. According to McKinsey, the sales for such products are multiplying rapidly. There are speculations that the economies will tend to become Minimalist economies. Let’s dig deep into this. Minimalist economies are the economies where people tend to refrain from purchasing luxurious items and focuses on purchasing necessities more and more.  Well, this is the position we are in right now during the pandemic. People are expensing only necessary items like groceries and the demand for luxurious items is way below average. But it would be hard to stay the same as this. The minimalist economy will result in the deterioration of the economy in the short term. It is true that in the minimalist economy the demand might be low, but it would be wrong to assume the demand will be zero. The high-quality products will gather the attention of the purchasers. It is evident from past experiences that the economy always finds its way to come back from the mode of minimalist economy. Though this time may take some time, it will surely return on track. But every trouble comes with an opportunity. This is the time for the companies to act now and grab the opportunities the pandemic has brought with him. But for that companies are required to follow plans, formulate strategies to suit their needs, and pay more attention to the innovation. The companies must form plans for the five stages from here. These stages are 5Rs: Resolve, Resilience, Return, Reimagination, and Reform. Resolve: In the resolve phase companies need to formulate a nerve center to combat Corvid itself. The tendency of the company should not be like that, they will return only after everything becomes normal. In most parts of the country, permission is granted to the companies for their operations. If they wait for normalcy, then bankruptcy might catch them before the normalcy. Resilience: The resilience phase includes maintaining liquidity, addressing solvency, and grow for sustainability. All businesses should know when their cash crunch is coming. Addressing these cash crunches will be crucial for the companies. Businesses must take aggressive options to remain solvent. For example, the businesses might have cash in their hand but might be poor in operational efficiency then it requires the attention of the company. Organizations solving issues of liquidity and solvency will be in a better position to grow with sustainability. Return: In the third phase of return the companies will have to plan for the time when everything will be back on track. Given the possibility of subsequent waves of coronavirus the companies need new ways of working to prevent, identify, report, and contain future flareups. Many industries will face this problem of returning. Staying prepared for resurgence scenarios should include a multi-scenario modeling exercise. Reverting to non-COVID-19 care will require extensive planning and market testing. Reimagine: The phase of reimagining will include the learnings from the pandemic. A small virus and the whole economy at the toss. The businesses will have to introspect them and must look for advancements in technologies such that this kind of pandemic in the future will not disturb their efficiency too much. The pandemic has taught us that the decision which took weeks and months in the normal world can be accelerated and can be taken in some days. This should become a permanent feature. Cross organizational collaboration has become much easier. This should stay in the long run. Reform: The last phase is the reform. In this phase, the companies should look at their bottlenecks and try to fix them. Also, the companies will have to reconsider their relationship with their customers. The confidence in their brands, they must regain it. There are three ways to shift work, talent, and skills to where and when they are needed most, thereby building the organizational resilience and agility necessary to navigate uncertain times and rebound with strength when the economy recovers. Make work portable: In this dismal situation it is more important than ever most of the staff should be in the critical tasks. The tasks could be like the customer complaints redressal. We know that the customers are the ones who make the businesses successful. Thus, retaining their confidence is the utmost priority. The organizations can convert some of the staff to address the queries and concerns of customers. The organizations require to create virtual offices. There should not be the geographical boundaries within the organization. The employees from all over the world from the organization should come together and take the organization back to pre-corvid state. By breaking out of rigid job constraints, the right talent and work can be matched to solve evolving business challenges in real-time. Accelerate Automation: This was happening before the pandemic too. But accelerating it with pace has now become the need of the hour. The perception that automation is a job-killer is totally wrong and in fact, it is the mandatory capability to deal with the crisis. Organizations can increase automation in call centers. This will reduce the response time. Share employees in cross-industry exchanges: Temporarily moving employees from some industries like airlines, restaurants, hospitality can be moved to those organizations which have maximum work at this time like healthcare and logistics. To conclude, the companies should understand “Lives come first, but livelihood matters”. The pandemic will have some adverse effects on jobs and services, but this is not the end. The pandemic has brought many opportunities with him and if they are grabbed then the organizations would be in much better position even compared to pre-corvid situations. The companies need to understand the pandemic is not going to be forever. The last concluding sentence will be corona will bring changes but there will not be a revolution in jobs and services. Blackcoffer Insights 19: Ajay Avaghade, IIM Indore \n",
      " The pandemic has shaken the world in the way one had hardly imagined The impact of it on Jobs and Services is going to be longlasting and it will be the foundation stone of revolution in these sectors With the work from home and social distancing norms is altering the way of work the way we interact what work we will do how the work will be done and whatnot To just give an example in the middle of the first lockdown FMCG major Hindustan Unilever HUL went ahead with its merger It took place online entirely Yes it took place online Who could have ever imagined the merger can take place online Change is inevitable But some changes are temporary and some are permanent The pandemic is bringing changes that are going to be permanent In fact these changes were due for a long time and we’re coming at a slow pace What the pandemic has done is it has become the catalyst for these changes and raised the ante for change So what exactly the changes will be Let’s look at them one by one The first change is going to be the extensive use of digital communication from now onwards The Zoom Jio Meet Google Meet and some derivatives like these are going to be the forever meeting rooms where the important discussions will be held This may be bad news for the employees who are older than 40 years They would not have pictured themselves doing such transformation at this part of life Experts believe that the new normal in the offices are going to be hierarchyless The older employees would have to work with the younger ones There would be no geographical boundaries and where the communication and software adaptability among employees is going to be crucial The symbol of power will be less visible and the decentralization of power in the office will be prominent There will be more egalitarianism in companies The corporates will think much more about office space Rather than expending too much on physical infrastructure the online infrastructure will always be in their hindsight The impact would be more prudent in small and midsized businesses The physical offices itself might disappear from such businesses But it’s not going to be easy for companies The security and confidentiality of the authentic information going out of the offices’ building are going to be the largest concern in the new normal world There would be no surprise if a lot of startups will bloom in the near future providing software for security for the data and information of the companies Also travel is going to be reduced So the major component of CTC where the companies fooling the employees must find the other way The second change is going to be struck down on employees Already many of the companies and startups are reducing the workforce It is expected that new normal offices would work with an 80 workforce of that of the current workforce Automation is on the verge Due to safety reasons the companies are going to be more and more leaned towards automation with a minimal touch of human possible This might result in a loss of jobs in some sectors but it will also create new jobs in the automation sector It was evident from before pandemic too but now the velocity for the same would be increased In the new normal techenabled world the job which would be at stake dominantly would be managers’ managers The IT firms have started firing the vice presidents and assistant vice presidents who draw hefty salaries but don’t really drive the business In the designationless set up in the near future accelerated by Pandemic they automatically become redundant For the first time the employees might be given jobs that would require more than the standard jobs Also when the workforce in the company would be less in the company the employees might be given the option of working for extra time or working on the weekends and would be incentivized for the same rather than employing more staff and paying them full salary It is a winwin situation for both employees and companies Employees can earn more than what they usually earn and will get to learn new which would be out of their primary domain The companies would be able to keep their costs low through this The assessment of employees might change too Rather than going for an annual performance review the employees might be evaluated based on the tasks they perform Creativity and innovation are going to be swords for the employees in the new normal world rather than designations in the office   The other change might be in the services sector The services like which involves maximum human touch will be the one which will be affected most adversely The safety concerns and confidence of people over the system are going to be the issue for at least the next few years It also opens the opportunity for something very new The products which could replace the need for visiting such services centers are going to create a boom in the market According to McKinsey the sales for such products are multiplying rapidly There are speculations that the economies will tend to become Minimalist economies Let’s dig deep into this Minimalist economies are the economies where people tend to refrain from purchasing luxurious items and focuses on purchasing necessities more and more  Well this is the position we are in right now during the pandemic People are expensing only necessary items like groceries and the demand for luxurious items is way below average But it would be hard to stay the same as this The minimalist economy will result in the deterioration of the economy in the short term It is true that in the minimalist economy the demand might be low but it would be wrong to assume the demand will be zero The highquality products will gather the attention of the purchasers It is evident from past experiences that the economy always finds its way to come back from the mode of minimalist economy Though this time may take some time it will surely return on track But every trouble comes with an opportunity This is the time for the companies to act now and grab the opportunities the pandemic has brought with him But for that companies are required to follow plans formulate strategies to suit their needs and pay more attention to the innovation The companies must form plans for the five stages from here These stages are 5Rs Resolve Resilience Return Reimagination and Reform Resolve In the resolve phase companies need to formulate a nerve center to combat Corvid itself The tendency of the company should not be like that they will return only after everything becomes normal In most parts of the country permission is granted to the companies for their operations If they wait for normalcy then bankruptcy might catch them before the normalcy Resilience The resilience phase includes maintaining liquidity addressing solvency and grow for sustainability All businesses should know when their cash crunch is coming Addressing these cash crunches will be crucial for the companies Businesses must take aggressive options to remain solvent For example the businesses might have cash in their hand but might be poor in operational efficiency then it requires the attention of the company Organizations solving issues of liquidity and solvency will be in a better position to grow with sustainability Return In the third phase of return the companies will have to plan for the time when everything will be back on track Given the possibility of subsequent waves of coronavirus the companies need new ways of working to prevent identify report and contain future flareups Many industries will face this problem of returning Staying prepared for resurgence scenarios should include a multiscenario modeling exercise Reverting to nonCOVID19 care will require extensive planning and market testing Reimagine The phase of reimagining will include the learnings from the pandemic A small virus and the whole economy at the toss The businesses will have to introspect them and must look for advancements in technologies such that this kind of pandemic in the future will not disturb their efficiency too much The pandemic has taught us that the decision which took weeks and months in the normal world can be accelerated and can be taken in some days This should become a permanent feature Cross organizational collaboration has become much easier This should stay in the long run Reform The last phase is the reform In this phase the companies should look at their bottlenecks and try to fix them Also the companies will have to reconsider their relationship with their customers The confidence in their brands they must regain it There are three ways to shift work talent and skills to where and when they are needed most thereby building the organizational resilience and agility necessary to navigate uncertain times and rebound with strength when the economy recovers Make work portable In this dismal situation it is more important than ever most of the staff should be in the critical tasks The tasks could be like the customer complaints redressal We know that the customers are the ones who make the businesses successful Thus retaining their confidence is the utmost priority The organizations can convert some of the staff to address the queries and concerns of customers The organizations require to create virtual offices There should not be the geographical boundaries within the organization The employees from all over the world from the organization should come together and take the organization back to precorvid state By breaking out of rigid job constraints the right talent and work can be matched to solve evolving business challenges in realtime Accelerate Automation This was happening before the pandemic too But accelerating it with pace has now become the need of the hour The perception that automation is a jobkiller is totally wrong and in fact it is the mandatory capability to deal with the crisis Organizations can increase automation in call centers This will reduce the response time Share employees in crossindustry exchanges Temporarily moving employees from some industries like airlines restaurants hospitality can be moved to those organizations which have maximum work at this time like healthcare and logistics To conclude the companies should understand “Lives come first but livelihood matters” The pandemic will have some adverse effects on jobs and services but this is not the end The pandemic has brought many opportunities with him and if they are grabbed then the organizations would be in much better position even compared to precorvid situations The companies need to understand the pandemic is not going to be forever The last concluding sentence will be corona will bring changes but there will not be a revolution in jobs and services Blackcoffer Insights 19 Ajay Avaghade IIM Indore \n",
      "['The', 'pandemic', 'has', 'shaken', 'the', 'world', 'in', 'the', 'way', 'one', 'had', 'hardly', 'imagined', 'The', 'impact', 'of', 'it', 'on', 'Jobs', 'and', 'Services', 'is', 'going', 'to', 'be', 'longlasting', 'and', 'it', 'will', 'be', 'the', 'foundation', 'stone', 'of', 'revolution', 'in', 'these', 'sectors', 'With', 'the', 'work', 'from', 'home', 'and', 'social', 'distancing', 'norms', 'is', 'altering', 'the', 'way', 'of', 'work', 'the', 'way', 'we', 'interact', 'what', 'work', 'we', 'will', 'do', 'how', 'the', 'work', 'will', 'be', 'done', 'and', 'whatnot', 'To', 'just', 'give', 'an', 'example', 'in', 'the', 'middle', 'of', 'the', 'first', 'lockdown', 'FMCG', 'major', 'Hindustan', 'Unilever', 'HUL', 'went', 'ahead', 'with', 'its', 'merger', 'It', 'took', 'place', 'online', 'entirely', 'Yes', 'it', 'took', 'place', 'online', 'Who', 'could', 'have', 'ever', 'imagined', 'the', 'merger', 'can', 'take', 'place', 'online', 'Change', 'is', 'inevitable', 'But', 'some', 'changes', 'are', 'temporary', 'and', 'some', 'are', 'permanent', 'The', 'pandemic', 'is', 'bringing', 'changes', 'that', 'are', 'going', 'to', 'be', 'permanent', 'In', 'fact', 'these', 'changes', 'were', 'due', 'for', 'a', 'long', 'time', 'and', 'we’re', 'coming', 'at', 'a', 'slow', 'pace', 'What', 'the', 'pandemic', 'has', 'done', 'is', 'it', 'has', 'become', 'the', 'catalyst', 'for', 'these', 'changes', 'and', 'raised', 'the', 'ante', 'for', 'change', 'So', 'what', 'exactly', 'the', 'changes', 'will', 'be', 'Let’s', 'look', 'at', 'them', 'one', 'by', 'one', 'The', 'first', 'change', 'is', 'going', 'to', 'be', 'the', 'extensive', 'use', 'of', 'digital', 'communication', 'from', 'now', 'onwards', 'The', 'Zoom', 'Jio', 'Meet', 'Google', 'Meet', 'and', 'some', 'derivatives', 'like', 'these', 'are', 'going', 'to', 'be', 'the', 'forever', 'meeting', 'rooms', 'where', 'the', 'important', 'discussions', 'will', 'be', 'held', 'This', 'may', 'be', 'bad', 'news', 'for', 'the', 'employees', 'who', 'are', 'older', 'than', '40', 'years', 'They', 'would', 'not', 'have', 'pictured', 'themselves', 'doing', 'such', 'transformation', 'at', 'this', 'part', 'of', 'life', 'Experts', 'believe', 'that', 'the', 'new', 'normal', 'in', 'the', 'offices', 'are', 'going', 'to', 'be', 'hierarchyless', 'The', 'older', 'employees', 'would', 'have', 'to', 'work', 'with', 'the', 'younger', 'ones', 'There', 'would', 'be', 'no', 'geographical', 'boundaries', 'and', 'where', 'the', 'communication', 'and', 'software', 'adaptability', 'among', 'employees', 'is', 'going', 'to', 'be', 'crucial', 'The', 'symbol', 'of', 'power', 'will', 'be', 'less', 'visible', 'and', 'the', 'decentralization', 'of', 'power', 'in', 'the', 'office', 'will', 'be', 'prominent', 'There', 'will', 'be', 'more', 'egalitarianism', 'in', 'companies', 'The', 'corporates', 'will', 'think', 'much', 'more', 'about', 'office', 'space', 'Rather', 'than', 'expending', 'too', 'much', 'on', 'physical', 'infrastructure', 'the', 'online', 'infrastructure', 'will', 'always', 'be', 'in', 'their', 'hindsight', 'The', 'impact', 'would', 'be', 'more', 'prudent', 'in', 'small', 'and', 'midsized', 'businesses', 'The', 'physical', 'offices', 'itself', 'might', 'disappear', 'from', 'such', 'businesses', 'But', 'it’s', 'not', 'going', 'to', 'be', 'easy', 'for', 'companies', 'The', 'security', 'and', 'confidentiality', 'of', 'the', 'authentic', 'information', 'going', 'out', 'of', 'the', 'offices’', 'building', 'are', 'going', 'to', 'be', 'the', 'largest', 'concern', 'in', 'the', 'new', 'normal', 'world', 'There', 'would', 'be', 'no', 'surprise', 'if', 'a', 'lot', 'of', 'startups', 'will', 'bloom', 'in', 'the', 'near', 'future', 'providing', 'software', 'for', 'security', 'for', 'the', 'data', 'and', 'information', 'of', 'the', 'companies', 'Also', 'travel', 'is', 'going', 'to', 'be', 'reduced', 'So', 'the', 'major', 'component', 'of', 'CTC', 'where', 'the', 'companies', 'fooling', 'the', 'employees', 'must', 'find', 'the', 'other', 'way', 'The', 'second', 'change', 'is', 'going', 'to', 'be', 'struck', 'down', 'on', 'employees', 'Already', 'many', 'of', 'the', 'companies', 'and', 'startups', 'are', 'reducing', 'the', 'workforce', 'It', 'is', 'expected', 'that', 'new', 'normal', 'offices', 'would', 'work', 'with', 'an', '80', 'workforce', 'of', 'that', 'of', 'the', 'current', 'workforce', 'Automation', 'is', 'on', 'the', 'verge', 'Due', 'to', 'safety', 'reasons', 'the', 'companies', 'are', 'going', 'to', 'be', 'more', 'and', 'more', 'leaned', 'towards', 'automation', 'with', 'a', 'minimal', 'touch', 'of', 'human', 'possible', 'This', 'might', 'result', 'in', 'a', 'loss', 'of', 'jobs', 'in', 'some', 'sectors', 'but', 'it', 'will', 'also', 'create', 'new', 'jobs', 'in', 'the', 'automation', 'sector', 'It', 'was', 'evident', 'from', 'before', 'pandemic', 'too', 'but', 'now', 'the', 'velocity', 'for', 'the', 'same', 'would', 'be', 'increased', 'In', 'the', 'new', 'normal', 'techenabled', 'world', 'the', 'job', 'which', 'would', 'be', 'at', 'stake', 'dominantly', 'would', 'be', 'managers’', 'managers', 'The', 'IT', 'firms', 'have', 'started', 'firing', 'the', 'vice', 'presidents', 'and', 'assistant', 'vice', 'presidents', 'who', 'draw', 'hefty', 'salaries', 'but', 'don’t', 'really', 'drive', 'the', 'business', 'In', 'the', 'designationless', 'set', 'up', 'in', 'the', 'near', 'future', 'accelerated', 'by', 'Pandemic', 'they', 'automatically', 'become', 'redundant', 'For', 'the', 'first', 'time', 'the', 'employees', 'might', 'be', 'given', 'jobs', 'that', 'would', 'require', 'more', 'than', 'the', 'standard', 'jobs', 'Also', 'when', 'the', 'workforce', 'in', 'the', 'company', 'would', 'be', 'less', 'in', 'the', 'company', 'the', 'employees', 'might', 'be', 'given', 'the', 'option', 'of', 'working', 'for', 'extra', 'time', 'or', 'working', 'on', 'the', 'weekends', 'and', 'would', 'be', 'incentivized', 'for', 'the', 'same', 'rather', 'than', 'employing', 'more', 'staff', 'and', 'paying', 'them', 'full', 'salary', 'It', 'is', 'a', 'winwin', 'situation', 'for', 'both', 'employees', 'and', 'companies', 'Employees', 'can', 'earn', 'more', 'than', 'what', 'they', 'usually', 'earn', 'and', 'will', 'get', 'to', 'learn', 'new', 'which', 'would', 'be', 'out', 'of', 'their', 'primary', 'domain', 'The', 'companies', 'would', 'be', 'able', 'to', 'keep', 'their', 'costs', 'low', 'through', 'this', 'The', 'assessment', 'of', 'employees', 'might', 'change', 'too', 'Rather', 'than', 'going', 'for', 'an', 'annual', 'performance', 'review', 'the', 'employees', 'might', 'be', 'evaluated', 'based', 'on', 'the', 'tasks', 'they', 'perform', 'Creativity', 'and', 'innovation', 'are', 'going', 'to', 'be', 'swords', 'for', 'the', 'employees', 'in', 'the', 'new', 'normal', 'world', 'rather', 'than', 'designations', 'in', 'the', 'office', 'The', 'other', 'change', 'might', 'be', 'in', 'the', 'services', 'sector', 'The', 'services', 'like', 'which', 'involves', 'maximum', 'human', 'touch', 'will', 'be', 'the', 'one', 'which', 'will', 'be', 'affected', 'most', 'adversely', 'The', 'safety', 'concerns', 'and', 'confidence', 'of', 'people', 'over', 'the', 'system', 'are', 'going', 'to', 'be', 'the', 'issue', 'for', 'at', 'least', 'the', 'next', 'few', 'years', 'It', 'also', 'opens', 'the', 'opportunity', 'for', 'something', 'very', 'new', 'The', 'products', 'which', 'could', 'replace', 'the', 'need', 'for', 'visiting', 'such', 'services', 'centers', 'are', 'going', 'to', 'create', 'a', 'boom', 'in', 'the', 'market', 'According', 'to', 'McKinsey', 'the', 'sales', 'for', 'such', 'products', 'are', 'multiplying', 'rapidly', 'There', 'are', 'speculations', 'that', 'the', 'economies', 'will', 'tend', 'to', 'become', 'Minimalist', 'economies', 'Let’s', 'dig', 'deep', 'into', 'this', 'Minimalist', 'economies', 'are', 'the', 'economies', 'where', 'people', 'tend', 'to', 'refrain', 'from', 'purchasing', 'luxurious', 'items', 'and', 'focuses', 'on', 'purchasing', 'necessities', 'more', 'and', 'more', 'Well', 'this', 'is', 'the', 'position', 'we', 'are', 'in', 'right', 'now', 'during', 'the', 'pandemic', 'People', 'are', 'expensing', 'only', 'necessary', 'items', 'like', 'groceries', 'and', 'the', 'demand', 'for', 'luxurious', 'items', 'is', 'way', 'below', 'average', 'But', 'it', 'would', 'be', 'hard', 'to', 'stay', 'the', 'same', 'as', 'this', 'The', 'minimalist', 'economy', 'will', 'result', 'in', 'the', 'deterioration', 'of', 'the', 'economy', 'in', 'the', 'short', 'term', 'It', 'is', 'true', 'that', 'in', 'the', 'minimalist', 'economy', 'the', 'demand', 'might', 'be', 'low', 'but', 'it', 'would', 'be', 'wrong', 'to', 'assume', 'the', 'demand', 'will', 'be', 'zero', 'The', 'highquality', 'products', 'will', 'gather', 'the', 'attention', 'of', 'the', 'purchasers', 'It', 'is', 'evident', 'from', 'past', 'experiences', 'that', 'the', 'economy', 'always', 'finds', 'its', 'way', 'to', 'come', 'back', 'from', 'the', 'mode', 'of', 'minimalist', 'economy', 'Though', 'this', 'time', 'may', 'take', 'some', 'time', 'it', 'will', 'surely', 'return', 'on', 'track', 'But', 'every', 'trouble', 'comes', 'with', 'an', 'opportunity', 'This', 'is', 'the', 'time', 'for', 'the', 'companies', 'to', 'act', 'now', 'and', 'grab', 'the', 'opportunities', 'the', 'pandemic', 'has', 'brought', 'with', 'him', 'But', 'for', 'that', 'companies', 'are', 'required', 'to', 'follow', 'plans', 'formulate', 'strategies', 'to', 'suit', 'their', 'needs', 'and', 'pay', 'more', 'attention', 'to', 'the', 'innovation', 'The', 'companies', 'must', 'form', 'plans', 'for', 'the', 'five', 'stages', 'from', 'here', 'These', 'stages', 'are', '5Rs', 'Resolve', 'Resilience', 'Return', 'Reimagination', 'and', 'Reform', 'Resolve', 'In', 'the', 'resolve', 'phase', 'companies', 'need', 'to', 'formulate', 'a', 'nerve', 'center', 'to', 'combat', 'Corvid', 'itself', 'The', 'tendency', 'of', 'the', 'company', 'should', 'not', 'be', 'like', 'that', 'they', 'will', 'return', 'only', 'after', 'everything', 'becomes', 'normal', 'In', 'most', 'parts', 'of', 'the', 'country', 'permission', 'is', 'granted', 'to', 'the', 'companies', 'for', 'their', 'operations', 'If', 'they', 'wait', 'for', 'normalcy', 'then', 'bankruptcy', 'might', 'catch', 'them', 'before', 'the', 'normalcy', 'Resilience', 'The', 'resilience', 'phase', 'includes', 'maintaining', 'liquidity', 'addressing', 'solvency', 'and', 'grow', 'for', 'sustainability', 'All', 'businesses', 'should', 'know', 'when', 'their', 'cash', 'crunch', 'is', 'coming', 'Addressing', 'these', 'cash', 'crunches', 'will', 'be', 'crucial', 'for', 'the', 'companies', 'Businesses', 'must', 'take', 'aggressive', 'options', 'to', 'remain', 'solvent', 'For', 'example', 'the', 'businesses', 'might', 'have', 'cash', 'in', 'their', 'hand', 'but', 'might', 'be', 'poor', 'in', 'operational', 'efficiency', 'then', 'it', 'requires', 'the', 'attention', 'of', 'the', 'company', 'Organizations', 'solving', 'issues', 'of', 'liquidity', 'and', 'solvency', 'will', 'be', 'in', 'a', 'better', 'position', 'to', 'grow', 'with', 'sustainability', 'Return', 'In', 'the', 'third', 'phase', 'of', 'return', 'the', 'companies', 'will', 'have', 'to', 'plan', 'for', 'the', 'time', 'when', 'everything', 'will', 'be', 'back', 'on', 'track', 'Given', 'the', 'possibility', 'of', 'subsequent', 'waves', 'of', 'coronavirus', 'the', 'companies', 'need', 'new', 'ways', 'of', 'working', 'to', 'prevent', 'identify', 'report', 'and', 'contain', 'future', 'flareups', 'Many', 'industries', 'will', 'face', 'this', 'problem', 'of', 'returning', 'Staying', 'prepared', 'for', 'resurgence', 'scenarios', 'should', 'include', 'a', 'multiscenario', 'modeling', 'exercise', 'Reverting', 'to', 'nonCOVID19', 'care', 'will', 'require', 'extensive', 'planning', 'and', 'market', 'testing', 'Reimagine', 'The', 'phase', 'of', 'reimagining', 'will', 'include', 'the', 'learnings', 'from', 'the', 'pandemic', 'A', 'small', 'virus', 'and', 'the', 'whole', 'economy', 'at', 'the', 'toss', 'The', 'businesses', 'will', 'have', 'to', 'introspect', 'them', 'and', 'must', 'look', 'for', 'advancements', 'in', 'technologies', 'such', 'that', 'this', 'kind', 'of', 'pandemic', 'in', 'the', 'future', 'will', 'not', 'disturb', 'their', 'efficiency', 'too', 'much', 'The', 'pandemic', 'has', 'taught', 'us', 'that', 'the', 'decision', 'which', 'took', 'weeks', 'and', 'months', 'in', 'the', 'normal', 'world', 'can', 'be', 'accelerated', 'and', 'can', 'be', 'taken', 'in', 'some', 'days', 'This', 'should', 'become', 'a', 'permanent', 'feature', 'Cross', 'organizational', 'collaboration', 'has', 'become', 'much', 'easier', 'This', 'should', 'stay', 'in', 'the', 'long', 'run', 'Reform', 'The', 'last', 'phase', 'is', 'the', 'reform', 'In', 'this', 'phase', 'the', 'companies', 'should', 'look', 'at', 'their', 'bottlenecks', 'and', 'try', 'to', 'fix', 'them', 'Also', 'the', 'companies', 'will', 'have', 'to', 'reconsider', 'their', 'relationship', 'with', 'their', 'customers', 'The', 'confidence', 'in', 'their', 'brands', 'they', 'must', 'regain', 'it', 'There', 'are', 'three', 'ways', 'to', 'shift', 'work', 'talent', 'and', 'skills', 'to', 'where', 'and', 'when', 'they', 'are', 'needed', 'most', 'thereby', 'building', 'the', 'organizational', 'resilience', 'and', 'agility', 'necessary', 'to', 'navigate', 'uncertain', 'times', 'and', 'rebound', 'with', 'strength', 'when', 'the', 'economy', 'recovers', 'Make', 'work', 'portable', 'In', 'this', 'dismal', 'situation', 'it', 'is', 'more', 'important', 'than', 'ever', 'most', 'of', 'the', 'staff', 'should', 'be', 'in', 'the', 'critical', 'tasks', 'The', 'tasks', 'could', 'be', 'like', 'the', 'customer', 'complaints', 'redressal', 'We', 'know', 'that', 'the', 'customers', 'are', 'the', 'ones', 'who', 'make', 'the', 'businesses', 'successful', 'Thus', 'retaining', 'their', 'confidence', 'is', 'the', 'utmost', 'priority', 'The', 'organizations', 'can', 'convert', 'some', 'of', 'the', 'staff', 'to', 'address', 'the', 'queries', 'and', 'concerns', 'of', 'customers', 'The', 'organizations', 'require', 'to', 'create', 'virtual', 'offices', 'There', 'should', 'not', 'be', 'the', 'geographical', 'boundaries', 'within', 'the', 'organization', 'The', 'employees', 'from', 'all', 'over', 'the', 'world', 'from', 'the', 'organization', 'should', 'come', 'together', 'and', 'take', 'the', 'organization', 'back', 'to', 'precorvid', 'state', 'By', 'breaking', 'out', 'of', 'rigid', 'job', 'constraints', 'the', 'right', 'talent', 'and', 'work', 'can', 'be', 'matched', 'to', 'solve', 'evolving', 'business', 'challenges', 'in', 'realtime', 'Accelerate', 'Automation', 'This', 'was', 'happening', 'before', 'the', 'pandemic', 'too', 'But', 'accelerating', 'it', 'with', 'pace', 'has', 'now', 'become', 'the', 'need', 'of', 'the', 'hour', 'The', 'perception', 'that', 'automation', 'is', 'a', 'jobkiller', 'is', 'totally', 'wrong', 'and', 'in', 'fact', 'it', 'is', 'the', 'mandatory', 'capability', 'to', 'deal', 'with', 'the', 'crisis', 'Organizations', 'can', 'increase', 'automation', 'in', 'call', 'centers', 'This', 'will', 'reduce', 'the', 'response', 'time', 'Share', 'employees', 'in', 'crossindustry', 'exchanges', 'Temporarily', 'moving', 'employees', 'from', 'some', 'industries', 'like', 'airlines', 'restaurants', 'hospitality', 'can', 'be', 'moved', 'to', 'those', 'organizations', 'which', 'have', 'maximum', 'work', 'at', 'this', 'time', 'like', 'healthcare', 'and', 'logistics', 'To', 'conclude', 'the', 'companies', 'should', 'understand', '“Lives', 'come', 'first', 'but', 'livelihood', 'matters”', 'The', 'pandemic', 'will', 'have', 'some', 'adverse', 'effects', 'on', 'jobs', 'and', 'services', 'but', 'this', 'is', 'not', 'the', 'end', 'The', 'pandemic', 'has', 'brought', 'many', 'opportunities', 'with', 'him', 'and', 'if', 'they', 'are', 'grabbed', 'then', 'the', 'organizations', 'would', 'be', 'in', 'much', 'better', 'position', 'even', 'compared', 'to', 'precorvid', 'situations', 'The', 'companies', 'need', 'to', 'understand', 'the', 'pandemic', 'is', 'not', 'going', 'to', 'be', 'forever', 'The', 'last', 'concluding', 'sentence', 'will', 'be', 'corona', 'will', 'bring', 'changes', 'but', 'there', 'will', 'not', 'be', 'a', 'revolution', 'in', 'jobs', 'and', 'services', 'Blackcoffer', 'Insights', '19', 'Ajay', 'Avaghade', 'IIM', 'Indore']\n"
     ]
    }
   ],
   "source": [
    "content=soup.findAll(attrs={'class':'td-post-content'})\n",
    "content=content[0].text.replace('\\n',\" \")\n",
    "print(content)\n",
    "#Punctuation\n",
    "content = content.translate(str.maketrans('', '', string.punctuation)) \n",
    "print(content)\n",
    "text = content.split()\n",
    "print(text)\n"
   ]
  },
  {
   "cell_type": "code",
   "execution_count": 3,
   "id": "7176ddf1",
   "metadata": {},
   "outputs": [
    {
     "data": {
      "text/plain": [
       "1828"
      ]
     },
     "execution_count": 3,
     "metadata": {},
     "output_type": "execute_result"
    }
   ],
   "source": [
    "len(text)"
   ]
  },
  {
   "cell_type": "code",
   "execution_count": 4,
   "id": "e22f5219",
   "metadata": {},
   "outputs": [
    {
     "name": "stdout",
     "output_type": "stream",
     "text": [
      "46\n"
     ]
    }
   ],
   "source": [
    "#Positive Score \n",
    "with open(r\"C:\\Users\\Om Bhandwalkar\\Desktop\\pos\\positive-words.txt\") as pos:\n",
    "    poswords = pos.read().split(\"\\n\")  \n",
    "    poswords = poswords[5:]\n",
    "pos_count = \" \".join ([w for w in text if w in poswords])\n",
    "pos_count=pos_count.split(\" \")\n",
    "Positive_score=len(pos_count)\n",
    "print(Positive_score)"
   ]
  },
  {
   "cell_type": "code",
   "execution_count": 5,
   "id": "fbd7a293",
   "metadata": {},
   "outputs": [
    {
     "name": "stdout",
     "output_type": "stream",
     "text": [
      "33\n"
     ]
    }
   ],
   "source": [
    "#Negative Score\n",
    "with open(r\"C:\\Users\\Om Bhandwalkar\\Desktop\\pos\\negative-words.txt\",encoding =\"ISO-8859-1\") as neg:\n",
    "    negwords = neg.read().split(\"\\n\")\n",
    "    \n",
    "negwords = negwords[36:]\n",
    "neg_count = \" \".join ([w for w in text if w in negwords])\n",
    "neg_count=neg_count.split(\" \")\n",
    "Negative_score=len(neg_count)\n",
    "print(Negative_score)"
   ]
  },
  {
   "cell_type": "code",
   "execution_count": 6,
   "id": "8ebc9c3d",
   "metadata": {},
   "outputs": [
    {
     "data": {
      "text/html": [
       "<div>\n",
       "<style scoped>\n",
       "    .dataframe tbody tr th:only-of-type {\n",
       "        vertical-align: middle;\n",
       "    }\n",
       "\n",
       "    .dataframe tbody tr th {\n",
       "        vertical-align: top;\n",
       "    }\n",
       "\n",
       "    .dataframe thead th {\n",
       "        text-align: right;\n",
       "    }\n",
       "</style>\n",
       "<table border=\"1\" class=\"dataframe\">\n",
       "  <thead>\n",
       "    <tr style=\"text-align: right;\">\n",
       "      <th></th>\n",
       "      <th>url</th>\n",
       "      <th>title</th>\n",
       "      <th>content</th>\n",
       "      <th>filter_content</th>\n",
       "      <th>Positive_Score</th>\n",
       "      <th>Negative_Score</th>\n",
       "      <th>polarity</th>\n",
       "      <th>subjectivity</th>\n",
       "    </tr>\n",
       "  </thead>\n",
       "  <tbody>\n",
       "    <tr>\n",
       "      <th>0</th>\n",
       "      <td>https://insights.blackcoffer.com/how-the-covid...</td>\n",
       "      <td>How the COVID-19 crisis is redefining jobs and...</td>\n",
       "      <td>The pandemic has shaken the world in the way ...</td>\n",
       "      <td>The pandemic has shaken the world in the way o...</td>\n",
       "      <td>46</td>\n",
       "      <td>33</td>\n",
       "      <td>0.109603</td>\n",
       "      <td>0.431176</td>\n",
       "    </tr>\n",
       "  </tbody>\n",
       "</table>\n",
       "</div>"
      ],
      "text/plain": [
       "                                                 url  \\\n",
       "0  https://insights.blackcoffer.com/how-the-covid...   \n",
       "\n",
       "                                               title  \\\n",
       "0  How the COVID-19 crisis is redefining jobs and...   \n",
       "\n",
       "                                             content  \\\n",
       "0   The pandemic has shaken the world in the way ...   \n",
       "\n",
       "                                      filter_content  Positive_Score  \\\n",
       "0  The pandemic has shaken the world in the way o...              46   \n",
       "\n",
       "   Negative_Score  polarity  subjectivity  \n",
       "0              33  0.109603      0.431176  "
      ]
     },
     "execution_count": 6,
     "metadata": {},
     "output_type": "execute_result"
    }
   ],
   "source": [
    "filter_content = ' '.join(text)\n",
    "data=[[url,title,content,filter_content,Positive_score,Negative_score]]\n",
    "data=pd.DataFrame(data,columns=[\"url\",\"title\",\"content\",\"filter_content\",\"Positive_Score\",\"Negative_Score\"])\n",
    "from textblob import TextBlob\n",
    "# Get The Subjectivity\n",
    "def sentiment_analysis(data):\n",
    "    sentiment = TextBlob(data[\"content\"]).sentiment\n",
    "    return pd.Series([sentiment.polarity,sentiment.subjectivity ])\n",
    "\n",
    "# Adding Subjectivity & Polarity\n",
    "data[[\"polarity\", \"subjectivity\"]] = data.apply(sentiment_analysis, axis=1)\n",
    "\n",
    "data"
   ]
  },
  {
   "cell_type": "code",
   "execution_count": 7,
   "id": "cd27090d",
   "metadata": {},
   "outputs": [
    {
     "name": "stdout",
     "output_type": "stream",
     "text": [
      "Word average = 8976.0\n",
      "FOG INDEX =  734.59\n",
      "Average no of words per sentence\n",
      "1828.0\n",
      "Complex Words 3158\n"
     ]
    }
   ],
   "source": [
    "#AVG SENTENCE LENGTH\n",
    "AVG_SENTENCE_LENGTH = len(content.replace(' ',''))/len(re.split(r'[?!.]', content))\n",
    "print('Word average =', AVG_SENTENCE_LENGTH)\n",
    "import textstat\n",
    "#Fog index \n",
    "FOG_INDEX=(textstat.gunning_fog(content))\n",
    "print(\"FOG INDEX = \",FOG_INDEX)\n",
    "#Average No of Words Per Sentence \n",
    "AVG_NUMBER_OF_WORDS_PER_SENTENCE = [len(l.split()) for l in re.split(r'[?!.]', content) if l.strip()]\n",
    "print(\"Average no of words per sentence\")\n",
    "AVG_NUMBER_OF_WORDS_PER_SENTENCE=print(sum(AVG_NUMBER_OF_WORDS_PER_SENTENCE)/len(AVG_NUMBER_OF_WORDS_PER_SENTENCE))\n",
    "#Complex words\n",
    "def syllable_count(word):\n",
    "    count = 0\n",
    "    vowels = \"AEIOUYaeiouy\"\n",
    "    if word[0] in vowels:\n",
    "        count += 1\n",
    "    for index in range(1, len(word)): \n",
    "        if word[index] in vowels and word[index - 1] not in vowels:\n",
    "            count += 1\n",
    "            if word.endswith(\"es\"or \"ed\"):\n",
    "                count -= 1\n",
    "    if count == 0:\n",
    "        count += 1\n",
    "    return count\n",
    "\n",
    "\n",
    "\n",
    "COMPLEX_WORDS=syllable_count(content)\n",
    "print(\"Complex Words\",COMPLEX_WORDS)\n"
   ]
  },
  {
   "cell_type": "code",
   "execution_count": 8,
   "id": "c362e52f",
   "metadata": {},
   "outputs": [
    {
     "name": "stdout",
     "output_type": "stream",
     "text": [
      "Word Count 10806\n",
      "Percentage of Complex Words 29.224504904682586\n",
      "Average Word per Length 4.910284463894967\n",
      "The AVG number of syllables in the word is: \n",
      "1.9452954048140043\n",
      "Word Count 10806\n",
      "Percentage of Complex Words 29.224504904682586\n",
      "Average Word per Length 4.910284463894967\n",
      "The AVG number of syllables in the word is: \n",
      "1.9452954048140043\n"
     ]
    }
   ],
   "source": [
    "#Word Count\n",
    "Word_Count=len(content)\n",
    "print(\"Word Count\",Word_Count)\n",
    "#Percentage Complex Words\n",
    "pcw=(COMPLEX_WORDS/Word_Count)*100\n",
    "print(\"Percentage of Complex Words\",pcw)\n",
    "#Average Word Length\n",
    "Average_Word_Length=len(content.replace(' ',''))/len(content.split())\n",
    "print(\"Average Word per Length\",Average_Word_Length)\n",
    "#Syllable Count Per Word\n",
    "word=content.replace(' ','')\n",
    "syllable_count=0\n",
    "for w in word:\n",
    "      if(w=='a' or w=='e' or w=='i' or w=='o' or w=='y' or w=='u' or w=='A' or w=='E' or w=='I' or w=='O' or w=='U' or w=='Y'):\n",
    "            syllable_count=syllable_count+1\n",
    "print(\"The AVG number of syllables in the word is: \")\n",
    "print(syllable_count/len(content.split()))#Word Count\n",
    "Word_Count=len(content)\n",
    "print(\"Word Count\",Word_Count)\n",
    "#Percentage Complex Words\n",
    "pcw=(COMPLEX_WORDS/Word_Count)*100\n",
    "print(\"Percentage of Complex Words\",pcw)\n",
    "#Average Word Length\n",
    "Average_Word_Length=len(content.replace(' ',''))/len(content.split())\n",
    "print(\"Average Word per Length\",Average_Word_Length)\n",
    "#Syllable Count Per Word\n",
    "word=content.replace(' ','')\n",
    "syllable_count=0\n",
    "for w in word:\n",
    "      if(w=='a' or w=='e' or w=='i' or w=='o' or w=='y' or w=='u' or w=='A' or w=='E' or w=='I' or w=='O' or w=='U' or w=='Y'):\n",
    "            syllable_count=syllable_count+1\n",
    "print(\"The AVG number of syllables in the word is: \")\n",
    "print(syllable_count/len(content.split()))"
   ]
  },
  {
   "cell_type": "code",
   "execution_count": 1,
   "id": "6983843a",
   "metadata": {},
   "outputs": [
    {
     "name": "stdout",
     "output_type": "stream",
     "text": [
      "46\n",
      "33\n",
      "Word average = 8976.0\n",
      "FOG INDEX =  734.59\n",
      "Average no of words per sentence\n",
      "1828.0\n",
      "Complex Words 3158\n",
      "Word Count 10806\n",
      "Percentage of Complex Words 29.224504904682586\n",
      "Average Word per Length 4.910284463894967\n",
      "The AVG number of syllables in the word is: \n",
      "1.9452954048140043\n"
     ]
    },
    {
     "data": {
      "text/html": [
       "<div>\n",
       "<style scoped>\n",
       "    .dataframe tbody tr th:only-of-type {\n",
       "        vertical-align: middle;\n",
       "    }\n",
       "\n",
       "    .dataframe tbody tr th {\n",
       "        vertical-align: top;\n",
       "    }\n",
       "\n",
       "    .dataframe thead th {\n",
       "        text-align: right;\n",
       "    }\n",
       "</style>\n",
       "<table border=\"1\" class=\"dataframe\">\n",
       "  <thead>\n",
       "    <tr style=\"text-align: right;\">\n",
       "      <th></th>\n",
       "      <th>url</th>\n",
       "      <th>title</th>\n",
       "      <th>content</th>\n",
       "      <th>filter_content</th>\n",
       "      <th>Positive_Score</th>\n",
       "      <th>Negative_Score</th>\n",
       "      <th>Avg_Sentence_Length</th>\n",
       "      <th>Percentage_Complex_Word</th>\n",
       "      <th>Fog_Index</th>\n",
       "      <th>AVG_NUMBER_OF_WORDS_PER_SENTENCE</th>\n",
       "      <th>COMPLEX_WORDS</th>\n",
       "      <th>Word_Count</th>\n",
       "      <th>syllable</th>\n",
       "      <th>Average_Word_Length</th>\n",
       "      <th>polarity</th>\n",
       "      <th>subjectivity</th>\n",
       "    </tr>\n",
       "  </thead>\n",
       "  <tbody>\n",
       "    <tr>\n",
       "      <th>0</th>\n",
       "      <td>https://insights.blackcoffer.com/how-the-covid...</td>\n",
       "      <td>How the COVID-19 crisis is redefining jobs and...</td>\n",
       "      <td>The pandemic has shaken the world in the way ...</td>\n",
       "      <td>The pandemic has shaken the world in the way o...</td>\n",
       "      <td>46</td>\n",
       "      <td>33</td>\n",
       "      <td>8976.0</td>\n",
       "      <td>29.224505</td>\n",
       "      <td>734.59</td>\n",
       "      <td>1828.0</td>\n",
       "      <td>3158</td>\n",
       "      <td>10806</td>\n",
       "      <td>1.945295</td>\n",
       "      <td>4.910284</td>\n",
       "      <td>0.109603</td>\n",
       "      <td>0.431176</td>\n",
       "    </tr>\n",
       "  </tbody>\n",
       "</table>\n",
       "</div>"
      ],
      "text/plain": [
       "                                                 url  \\\n",
       "0  https://insights.blackcoffer.com/how-the-covid...   \n",
       "\n",
       "                                               title  \\\n",
       "0  How the COVID-19 crisis is redefining jobs and...   \n",
       "\n",
       "                                             content  \\\n",
       "0   The pandemic has shaken the world in the way ...   \n",
       "\n",
       "                                      filter_content  Positive_Score  \\\n",
       "0  The pandemic has shaken the world in the way o...              46   \n",
       "\n",
       "   Negative_Score  Avg_Sentence_Length  Percentage_Complex_Word  Fog_Index  \\\n",
       "0              33               8976.0                29.224505     734.59   \n",
       "\n",
       "    AVG_NUMBER_OF_WORDS_PER_SENTENCE  COMPLEX_WORDS  Word_Count  syllable  \\\n",
       "0                             1828.0           3158       10806  1.945295   \n",
       "\n",
       "   Average_Word_Length  polarity  subjectivity  \n",
       "0             4.910284  0.109603      0.431176  "
      ]
     },
     "execution_count": 1,
     "metadata": {},
     "output_type": "execute_result"
    }
   ],
   "source": [
    "import requests\n",
    "import pandas as pd \n",
    "from bs4 import BeautifulSoup\n",
    "import string\n",
    "import spacy\n",
    "import re\n",
    "url = \"\"\"https://insights.blackcoffer.com/how-the-covid-19-crisis-is-redefining-jobs-and-services/\"\"\"\n",
    "headers = {\"User-Agent\": \"Mozilla/5.0 (X11; Linux x86_64; rv:60.0) Gecko/20100101 Firefox/60.0\"}\n",
    "page = requests.get(url, headers=headers)\n",
    "soup = BeautifulSoup(page.content, 'html.parser')\n",
    "soup=BeautifulSoup(page.content, 'html.parser')\n",
    "title=soup.find('h1',class_=\"entry-title\")\n",
    "title=title.text.replace('\\n',\" \")\n",
    "# title\n",
    "\n",
    "content=soup.findAll(attrs={'class':'td-post-content'})\n",
    "content=content[0].text.replace('\\n',\" \")\n",
    "# print(content)\n",
    "#Punctuation\n",
    "content = content.translate(str.maketrans('', '', string.punctuation)) \n",
    "# print(content)\n",
    "text = content.split()\n",
    "# print(text)\n",
    "len(text)\n",
    "#Positive Score \n",
    "with open(r\"C:\\Users\\Om Bhandwalkar\\Desktop\\pos\\positive-words.txt\") as pos:\n",
    "    poswords = pos.read().split(\"\\n\")  \n",
    "    poswords = poswords[5:]\n",
    "pos_count = \" \".join ([w for w in text if w in poswords])\n",
    "pos_count=pos_count.split(\" \")\n",
    "Positive_score=len(pos_count)\n",
    "print(Positive_score)\n",
    "\n",
    "#Negative Score\n",
    "with open(r\"C:\\Users\\Om Bhandwalkar\\Desktop\\pos\\negative-words.txt\",encoding =\"ISO-8859-1\") as neg:\n",
    "    negwords = neg.read().split(\"\\n\")\n",
    "    \n",
    "negwords = negwords[36:]\n",
    "neg_count = \" \".join ([w for w in text if w in negwords])\n",
    "neg_count=neg_count.split(\" \")\n",
    "Negative_score=len(neg_count)\n",
    "print(Negative_score)\n",
    "\n",
    "\n",
    "filter_content = ' '.join(text)\n",
    "data=[[url,title,content,filter_content,Positive_score,Negative_score]]\n",
    "data=pd.DataFrame(data,columns=[\"url\",\"title\",\"content\",\"filter_content\",\"Positive_Score\",\"Negative_Score\"])\n",
    "from textblob import TextBlob\n",
    "# Get The Subjectivity\n",
    "def sentiment_analysis(data):\n",
    "    sentiment = TextBlob(data[\"content\"]).sentiment\n",
    "    return pd.Series([sentiment.polarity,sentiment.subjectivity ])\n",
    "data[[\"polarity\", \"subjectivity\"]] = data.apply(sentiment_analysis, axis=1)\n",
    "data\n",
    "#AVG SENTENCE LENGTH\n",
    "AVG_SENTENCE_LENGTH = len(content.replace(' ',''))/len(re.split(r'[?!.]', content))\n",
    "print('Word average =', AVG_SENTENCE_LENGTH)\n",
    "import textstat\n",
    "#Fog index \n",
    "FOG_INDEX=(textstat.gunning_fog(content))\n",
    "print(\"FOG INDEX = \",FOG_INDEX)\n",
    "#Average No of Words Per Sentence \n",
    "AVG_NUMBER_OF_WORDS_PER_SENTENCE = [len(l.split()) for l in re.split(r'[?!.]', content) if l.strip()]\n",
    "print(\"Average no of words per sentence\")\n",
    "AVG_NUMBER_OF_WORDS_PER_SENTENCE=(sum(AVG_NUMBER_OF_WORDS_PER_SENTENCE)/len(AVG_NUMBER_OF_WORDS_PER_SENTENCE))\n",
    "print(AVG_NUMBER_OF_WORDS_PER_SENTENCE)\n",
    "#Complex words\n",
    "def syllable_count(word):\n",
    "    count = 0\n",
    "    vowels = \"AEIOUYaeiouy\"\n",
    "    if word[0] in vowels:\n",
    "        count += 1\n",
    "    for index in range(1, len(word)): \n",
    "        if word[index] in vowels and word[index - 1] not in vowels:\n",
    "            count += 1\n",
    "            if word.endswith(\"es\"or \"ed\"):\n",
    "                count -= 1\n",
    "    if count == 0:\n",
    "        count += 1\n",
    "    return count\n",
    "\n",
    "\n",
    "\n",
    "COMPLEX_WORDS=syllable_count(content)\n",
    "print(\"Complex Words\",COMPLEX_WORDS)\n",
    "#Word Count\n",
    "Word_Count=len(content)\n",
    "print(\"Word Count\",Word_Count)\n",
    "#Percentage Complex Words\n",
    "pcw=(COMPLEX_WORDS/Word_Count)*100\n",
    "print(\"Percentage of Complex Words\",pcw)\n",
    "#Average Word Length\n",
    "Average_Word_Length=len(content.replace(' ',''))/len(content.split())\n",
    "print(\"Average Word per Length\",Average_Word_Length)\n",
    "#Syllable Count Per Word\n",
    "word=content.replace(' ','')\n",
    "syllable_count=0\n",
    "for w in word:\n",
    "      if(w=='a' or w=='e' or w=='i' or w=='o' or w=='y' or w=='u' or w=='A' or w=='E' or w=='I' or w=='O' or w=='U' or w=='Y'):\n",
    "            syllable_count=syllable_count+1\n",
    "print(\"The AVG number of syllables in the word is: \")\n",
    "syllable = (syllable_count/len(content.split()))\n",
    "print(syllable)\n",
    "\n",
    "data = [[url,title,content,filter_content,Positive_score,Negative_score,AVG_SENTENCE_LENGTH,pcw,FOG_INDEX,\n",
    "         AVG_NUMBER_OF_WORDS_PER_SENTENCE,COMPLEX_WORDS,Word_Count,syllable,Average_Word_Length]]\n",
    "data=pd.DataFrame(data,columns=[\"url\",\"title\",\"content\",\"filter_content\",\"Positive_Score\",\"Negative_Score\",\"Avg_Sentence_Length\"\n",
    "                               ,\"Percentage_Complex_Word\",\"Fog_Index\",\" AVG_NUMBER_OF_WORDS_PER_SENTENCE\",\"COMPLEX_WORDS\",\n",
    "                               \"Word_Count\",\"syllable\",\"Average_Word_Length\"])\n",
    "from textblob import TextBlob\n",
    "# Get The Subjectivity\n",
    "def sentiment_analysis(data):\n",
    "    sentiment = TextBlob(data[\"content\"]).sentiment\n",
    "    return pd.Series([sentiment.polarity,sentiment.subjectivity ])\n",
    "data[[\"polarity\", \"subjectivity\"]] = data.apply(sentiment_analysis, axis=1)\n",
    "data"
   ]
  },
  {
   "cell_type": "code",
   "execution_count": 2,
   "id": "8e5b57e6",
   "metadata": {},
   "outputs": [],
   "source": [
    "data.to_csv(r'C:\\Users\\Om Bhandwalkar\\Desktop\\BlackCoffer Assignment\\Output\\url_93.csv')"
   ]
  },
  {
   "cell_type": "code",
   "execution_count": null,
   "id": "e750e0c6",
   "metadata": {},
   "outputs": [],
   "source": []
  }
 ],
 "metadata": {
  "kernelspec": {
   "display_name": "Python 3 (ipykernel)",
   "language": "python",
   "name": "python3"
  },
  "language_info": {
   "codemirror_mode": {
    "name": "ipython",
    "version": 3
   },
   "file_extension": ".py",
   "mimetype": "text/x-python",
   "name": "python",
   "nbconvert_exporter": "python",
   "pygments_lexer": "ipython3",
   "version": "3.9.12"
  }
 },
 "nbformat": 4,
 "nbformat_minor": 5
}
