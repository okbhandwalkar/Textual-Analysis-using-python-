{
 "cells": [
  {
   "cell_type": "code",
   "execution_count": 1,
   "id": "33d74617",
   "metadata": {},
   "outputs": [
    {
     "data": {
      "text/plain": [
       "'How to increase social media engagement for marketers?'"
      ]
     },
     "execution_count": 1,
     "metadata": {},
     "output_type": "execute_result"
    }
   ],
   "source": [
    "\n",
    "import requests\n",
    "import pandas as pd \n",
    "from bs4 import BeautifulSoup\n",
    "import string\n",
    "import spacy\n",
    "import re\n",
    "url = \"\"\"https://insights.blackcoffer.com/how-to-increase-social-media-engagement-for-marketers/\"\"\"\n",
    "headers = {\"User-Agent\": \"Mozilla/5.0 (X11; Linux x86_64; rv:60.0) Gecko/20100101 Firefox/60.0\"}\n",
    "page = requests.get(url, headers=headers)\n",
    "soup = BeautifulSoup(page.content, 'html.parser')\n",
    "soup=BeautifulSoup(page.content, 'html.parser')\n",
    "title=soup.find('h1',class_=\"entry-title\")\n",
    "title=title.text.replace('\\n',\" \")\n",
    "title\n"
   ]
  },
  {
   "cell_type": "code",
   "execution_count": 2,
   "id": "9234fdd9",
   "metadata": {},
   "outputs": [
    {
     "name": "stdout",
     "output_type": "stream",
     "text": [
      " Social media is such a staple of our evolving digital culture that it’s almost hard to imagine a time without updates, likes, comments, and shares. People are more concerned about how their food looks than about how it tastes. Thus, it has become necessary for any brand to have a social media presence. The phrase “Out of sight, out of mind” has never been so apt than in today’s time. Social media is as much about engagement with other people as it is about sharing content. It’s why we call it “social” media. Social media engagement simply is the interaction between the customer and the brand on social media platforms. Where else are you going to find a huge database of your target demographic who are already in the mind frame to read, click on, and share your message? In practicality it is not about a one-off communication but more about the construction of a long-term relationship with your target customers. Hence, when we talk about such a relationship it is imperative to consider the positive actions of users as a reaction of any brand’s engagement tactics. A fundamental customer journey can be envisaged in the form of customer funnel. The touchpoints available at every step can be shown as:  AwarenessConsideration DecisionPurchase Post-purchase Touchpoints Word of mouth, social media, regular advertisements on the customer journey map Congruence with perceived and offered benefits, cost-benefit analysis, value propositionPlace and time utility, loyalty towards product, switching costs Retail/on-portal conversion levers, customer schemes Dissonance, purchase complexity  To understand the reach of social media by the use of numbers  Most popular social networks worldwide as of July 2020, ranked by number of active users (in millions) How many retweets on Twitter? How many reactions to the post on Facebook? How many likes on Instagram? How many shares on Linked In? This seems to be the new age Resume. Thus, a good question or mystery for any brand is how to measure their social media engagement. As with most online actions, it’s often difficult to measure offline benefits. More often than not the online campaigns do not drive any conversions on the same day/week, but a user may see those posts and become more familiar with the brand. That familiarity, later on, might result in him choosing that brand over an unknown competitor. Social media engagement as a result helps businesses in developing their brand’s personality, improves visibility, and becomes its voice. Customers exhibit dynamic behavior based on the type of product. It could range from picking and variety-seeking to high involvement processes comprising extensive information search. Top of the mind recall rules due to this purchasing behavior implies that targeted advertising and marketing is extremely important. No one engagement strategy can be applied across brands. Each brand’s strategy must differ based on what the brand is trying to sell, its target customers, and the beliefs of the brand. Some of the key aspects of marketing strategy that we have influenced as vital cogs in the digital marketing wheel are: Influencer Marketing Influencer marketing involves a brand collaborating with an online influencer to market one of its products or services. Here the audience doesn’t care much about your brand but the opinions of the influencers. An influencer as being someone who has: The power to affect the purchasing decisions of others because of their knowledge, position, authority, or relationship with their audience. a following in a distinct niche, with whom they regularly engage. The size of the following depends on the size of their topic of the niche. 2017 saw Chanel being named as the most influential luxury brand on social media. Since then, it has continued to grow and diversify its portfolio, while providing constant engagement to its plethora of followers, especially on Instagram.  Cross-Channel Marketing Cross-channel marketing or multi-channel marketing is the practice of using multiple channels to reach an audience. Because not everyone uses every single platform, it’s a good idea to have a presence on a few, and share some of the same content across the different networks. What makes a difference in this marketing strategy is the choice of platforms. Apart from using basics like Facebook, Instagram, and Twitter a clever use of Spotify, YouTube, or IGTV to showcase the brand can make a real difference. The luxury vehicle brand, Land Rover’s cross-channel marketing includes the Google Display Network, homepage masthead and Masthead in Lightbox ads on YouTube, and visibility through mobile, search, and Google+. The brand’s digital campaign included four different influencers who created visual content for their blogs by taking trips to places like Glacier National Park and the Appalachian Mountains and Land Rover’s microsite. Their cross-channel efforts resulted in 100 million impressions from YouTube, and a 10% increase in search ad CTR. Further results found that online leads from its digital channel efforts now account for 15% of the brand’s total sales. Informative The content created on social media must add some value addition to the customers. The brand must constantly keep informing the customers about their existing products, new products, achievements of the brands, or even casual content. There should be “Wow, I didn’t know this” factor. Only then will they become regular followers of the brand. An example of this would be a cosmetic brand posting make-up tutorials. Fenty Beauty is one such prime example, which has built up to 1.4m followers within just 4 days of its launch, eventually garnering close to 10m followers, with Rihanna being one of their icons. Involving customers & engaging them: “Customer is King” is a known concept. It is the foundation of traditional marketing. So while we shift to Social platforms brands must not forget them. Understanding their needs, addressing them, inviting them to respond and take part in the brand’s online activities while keeping it interesting and entertaining for the customer is the key. Founder and CEO of Glossier, Emily Weiss, described the brand as, “the first socially-driven beauty brand.” Glossier was certainly the pioneer in the term ‘Instagram brands’ – using the platform not only to build awareness but also to have focused conversation with the customer. Glossier often crowdsources product development, asking its Instagram followers what they’d like to see next.  Dynamic The content creation must be dynamic and suitable for the current season, festival, or event that is happening. People must be able to relate to the posts and they must get excited after seeing it. Starbucks does a marvelous job when it comes to being dynamic. Their one-off recipes and continuous hype around seasonal events and related drinks have won them a silver IPA Effectiveness award for its social strategy in 2018. The launch of its now iconic ‘Unicorn Frappuccino’, spurred on the trend of brands deliberately creating ‘Instagrammable’ food and drink. As a result, there are now 557,232 posts using the hashtag #PumpkinSpiceLatte. Product focussed Now of course the real motive behind any marketing activity is to eventually sell the product. So it becomes extremely important to not lose the essence of the product while marketing. In simple terms, the content or strategy must not leave the customer confused about what the brand actually does or what it is trying to sell. To support the product-centric statement, Oreo is the best example. Oreo’s social media strategy has never diverged from its original formula. Completely product-focused and yet always creative, the brand continuously finds ways to put its cookies center stage. The ‘Daily Twist’ campaign to mark its 100th birthday, saw the brand turn its Oreo cookie into something of cultural relevance for 100 days, including Elvis Presley, a baseball, and a rainbow flag in support of Pride.  Visuals “A picture is worth 1,000 words”. This adage has never been more apt than in the age of social media.  This is why visuals are so important in any marketing strategy. You can talk about a product all day, but until you’re able to put it in front of someone’s eyes, it’s not going to have nearly the same effect. Visual content marketing is a great way to make this happen and can be broken down into six basic types- comics, memes, infographics, photos, videos and visual note-taking. Coca-Cola has been a leader and trendsetter in the visual content marketing space for years. The 2020 initiative video paved the way for multiway communication, as opposed to the single way process that was prevalent.  Product demonstration: The barrier for electronic platforms has always been the loss of touch. Customers often complain that till they don’t touch, try or test the product they are not convinced if they want to purchase it. This can also be true for products that are new and the customers need to be educated about its use. Hence it becomes important for brands to bridge this gap as far as possible through their online medium. Product demonstrations are considered one of the most promising and upcoming applications of AR technology, giving brands a way to provide an immersive experience to consumers. Gucci partnered with Snapchat for the first global branded AR shoe try on the lens, hugely increasing fanfare! Social message Corporate Social Responsibility should not be missed when it comes to social media engagement. If a brand has the reach to spread awareness then they must use it. Creating content to spread social awareness adds an emotional touch too. If a customer connects with a brand on an emotional level its hard for competitors to break it. Dove’s steady and impactful social message still stands out as marketing that’s more than just marketing. The ‘Real Beauty’ campaign has been refreshed multiple times since it first launched in 2004. Dove’s latest campaign once again highlighted the core message, going far beyond surface aesthetic to focus on the beauty of real human values. The ‘Courage is Beautiful’ campaign successfully honored the healthcare workers who have been working selflessly throughout the 2020 pandemic. The fact remains that the share of mind and voice are key elements to being the dominant force in the world today. Social media marketing has leveraged all the elements and made its presence felt in every customer engagement. Finding unique ways to really stand out among the competition is key to a successful digital marketing strategy. Newer and more customized tools to feel the pulse of the market come up every single day, to meet the ever-changing needs of marketing heads. At the end of the day, ‘customer is indeed king’. And companies would do well to remember it!  Blackcoffer Insights 19: Debmalya Banik Chowdhury(XLRI Jamshedpur)& Tanisha Gupta(XLRI Delhi) \n",
      " Social media is such a staple of our evolving digital culture that it’s almost hard to imagine a time without updates likes comments and shares People are more concerned about how their food looks than about how it tastes Thus it has become necessary for any brand to have a social media presence The phrase “Out of sight out of mind” has never been so apt than in today’s time Social media is as much about engagement with other people as it is about sharing content It’s why we call it “social” media Social media engagement simply is the interaction between the customer and the brand on social media platforms Where else are you going to find a huge database of your target demographic who are already in the mind frame to read click on and share your message In practicality it is not about a oneoff communication but more about the construction of a longterm relationship with your target customers Hence when we talk about such a relationship it is imperative to consider the positive actions of users as a reaction of any brand’s engagement tactics A fundamental customer journey can be envisaged in the form of customer funnel The touchpoints available at every step can be shown as  AwarenessConsideration DecisionPurchase Postpurchase Touchpoints Word of mouth social media regular advertisements on the customer journey map Congruence with perceived and offered benefits costbenefit analysis value propositionPlace and time utility loyalty towards product switching costs Retailonportal conversion levers customer schemes Dissonance purchase complexity  To understand the reach of social media by the use of numbers  Most popular social networks worldwide as of July 2020 ranked by number of active users in millions How many retweets on Twitter How many reactions to the post on Facebook How many likes on Instagram How many shares on Linked In This seems to be the new age Resume Thus a good question or mystery for any brand is how to measure their social media engagement As with most online actions it’s often difficult to measure offline benefits More often than not the online campaigns do not drive any conversions on the same dayweek but a user may see those posts and become more familiar with the brand That familiarity later on might result in him choosing that brand over an unknown competitor Social media engagement as a result helps businesses in developing their brand’s personality improves visibility and becomes its voice Customers exhibit dynamic behavior based on the type of product It could range from picking and varietyseeking to high involvement processes comprising extensive information search Top of the mind recall rules due to this purchasing behavior implies that targeted advertising and marketing is extremely important No one engagement strategy can be applied across brands Each brand’s strategy must differ based on what the brand is trying to sell its target customers and the beliefs of the brand Some of the key aspects of marketing strategy that we have influenced as vital cogs in the digital marketing wheel are Influencer Marketing Influencer marketing involves a brand collaborating with an online influencer to market one of its products or services Here the audience doesn’t care much about your brand but the opinions of the influencers An influencer as being someone who has The power to affect the purchasing decisions of others because of their knowledge position authority or relationship with their audience a following in a distinct niche with whom they regularly engage The size of the following depends on the size of their topic of the niche 2017 saw Chanel being named as the most influential luxury brand on social media Since then it has continued to grow and diversify its portfolio while providing constant engagement to its plethora of followers especially on Instagram  CrossChannel Marketing Crosschannel marketing or multichannel marketing is the practice of using multiple channels to reach an audience Because not everyone uses every single platform it’s a good idea to have a presence on a few and share some of the same content across the different networks What makes a difference in this marketing strategy is the choice of platforms Apart from using basics like Facebook Instagram and Twitter a clever use of Spotify YouTube or IGTV to showcase the brand can make a real difference The luxury vehicle brand Land Rover’s crosschannel marketing includes the Google Display Network homepage masthead and Masthead in Lightbox ads on YouTube and visibility through mobile search and Google The brand’s digital campaign included four different influencers who created visual content for their blogs by taking trips to places like Glacier National Park and the Appalachian Mountains and Land Rover’s microsite Their crosschannel efforts resulted in 100 million impressions from YouTube and a 10 increase in search ad CTR Further results found that online leads from its digital channel efforts now account for 15 of the brand’s total sales Informative The content created on social media must add some value addition to the customers The brand must constantly keep informing the customers about their existing products new products achievements of the brands or even casual content There should be “Wow I didn’t know this” factor Only then will they become regular followers of the brand An example of this would be a cosmetic brand posting makeup tutorials Fenty Beauty is one such prime example which has built up to 14m followers within just 4 days of its launch eventually garnering close to 10m followers with Rihanna being one of their icons Involving customers  engaging them “Customer is King” is a known concept It is the foundation of traditional marketing So while we shift to Social platforms brands must not forget them Understanding their needs addressing them inviting them to respond and take part in the brand’s online activities while keeping it interesting and entertaining for the customer is the key Founder and CEO of Glossier Emily Weiss described the brand as “the first sociallydriven beauty brand” Glossier was certainly the pioneer in the term ‘Instagram brands’ – using the platform not only to build awareness but also to have focused conversation with the customer Glossier often crowdsources product development asking its Instagram followers what they’d like to see next  Dynamic The content creation must be dynamic and suitable for the current season festival or event that is happening People must be able to relate to the posts and they must get excited after seeing it Starbucks does a marvelous job when it comes to being dynamic Their oneoff recipes and continuous hype around seasonal events and related drinks have won them a silver IPA Effectiveness award for its social strategy in 2018 The launch of its now iconic ‘Unicorn Frappuccino’ spurred on the trend of brands deliberately creating ‘Instagrammable’ food and drink As a result there are now 557232 posts using the hashtag PumpkinSpiceLatte Product focussed Now of course the real motive behind any marketing activity is to eventually sell the product So it becomes extremely important to not lose the essence of the product while marketing In simple terms the content or strategy must not leave the customer confused about what the brand actually does or what it is trying to sell To support the productcentric statement Oreo is the best example Oreo’s social media strategy has never diverged from its original formula Completely productfocused and yet always creative the brand continuously finds ways to put its cookies center stage The ‘Daily Twist’ campaign to mark its 100th birthday saw the brand turn its Oreo cookie into something of cultural relevance for 100 days including Elvis Presley a baseball and a rainbow flag in support of Pride  Visuals “A picture is worth 1000 words” This adage has never been more apt than in the age of social media  This is why visuals are so important in any marketing strategy You can talk about a product all day but until you’re able to put it in front of someone’s eyes it’s not going to have nearly the same effect Visual content marketing is a great way to make this happen and can be broken down into six basic types comics memes infographics photos videos and visual notetaking CocaCola has been a leader and trendsetter in the visual content marketing space for years The 2020 initiative video paved the way for multiway communication as opposed to the single way process that was prevalent  Product demonstration The barrier for electronic platforms has always been the loss of touch Customers often complain that till they don’t touch try or test the product they are not convinced if they want to purchase it This can also be true for products that are new and the customers need to be educated about its use Hence it becomes important for brands to bridge this gap as far as possible through their online medium Product demonstrations are considered one of the most promising and upcoming applications of AR technology giving brands a way to provide an immersive experience to consumers Gucci partnered with Snapchat for the first global branded AR shoe try on the lens hugely increasing fanfare Social message Corporate Social Responsibility should not be missed when it comes to social media engagement If a brand has the reach to spread awareness then they must use it Creating content to spread social awareness adds an emotional touch too If a customer connects with a brand on an emotional level its hard for competitors to break it Dove’s steady and impactful social message still stands out as marketing that’s more than just marketing The ‘Real Beauty’ campaign has been refreshed multiple times since it first launched in 2004 Dove’s latest campaign once again highlighted the core message going far beyond surface aesthetic to focus on the beauty of real human values The ‘Courage is Beautiful’ campaign successfully honored the healthcare workers who have been working selflessly throughout the 2020 pandemic The fact remains that the share of mind and voice are key elements to being the dominant force in the world today Social media marketing has leveraged all the elements and made its presence felt in every customer engagement Finding unique ways to really stand out among the competition is key to a successful digital marketing strategy Newer and more customized tools to feel the pulse of the market come up every single day to meet the everchanging needs of marketing heads At the end of the day ‘customer is indeed king’ And companies would do well to remember it  Blackcoffer Insights 19 Debmalya Banik ChowdhuryXLRI Jamshedpur Tanisha GuptaXLRI Delhi \n",
      "['Social', 'media', 'is', 'such', 'a', 'staple', 'of', 'our', 'evolving', 'digital', 'culture', 'that', 'it’s', 'almost', 'hard', 'to', 'imagine', 'a', 'time', 'without', 'updates', 'likes', 'comments', 'and', 'shares', 'People', 'are', 'more', 'concerned', 'about', 'how', 'their', 'food', 'looks', 'than', 'about', 'how', 'it', 'tastes', 'Thus', 'it', 'has', 'become', 'necessary', 'for', 'any', 'brand', 'to', 'have', 'a', 'social', 'media', 'presence', 'The', 'phrase', '“Out', 'of', 'sight', 'out', 'of', 'mind”', 'has', 'never', 'been', 'so', 'apt', 'than', 'in', 'today’s', 'time', 'Social', 'media', 'is', 'as', 'much', 'about', 'engagement', 'with', 'other', 'people', 'as', 'it', 'is', 'about', 'sharing', 'content', 'It’s', 'why', 'we', 'call', 'it', '“social”', 'media', 'Social', 'media', 'engagement', 'simply', 'is', 'the', 'interaction', 'between', 'the', 'customer', 'and', 'the', 'brand', 'on', 'social', 'media', 'platforms', 'Where', 'else', 'are', 'you', 'going', 'to', 'find', 'a', 'huge', 'database', 'of', 'your', 'target', 'demographic', 'who', 'are', 'already', 'in', 'the', 'mind', 'frame', 'to', 'read', 'click', 'on', 'and', 'share', 'your', 'message', 'In', 'practicality', 'it', 'is', 'not', 'about', 'a', 'oneoff', 'communication', 'but', 'more', 'about', 'the', 'construction', 'of', 'a', 'longterm', 'relationship', 'with', 'your', 'target', 'customers', 'Hence', 'when', 'we', 'talk', 'about', 'such', 'a', 'relationship', 'it', 'is', 'imperative', 'to', 'consider', 'the', 'positive', 'actions', 'of', 'users', 'as', 'a', 'reaction', 'of', 'any', 'brand’s', 'engagement', 'tactics', 'A', 'fundamental', 'customer', 'journey', 'can', 'be', 'envisaged', 'in', 'the', 'form', 'of', 'customer', 'funnel', 'The', 'touchpoints', 'available', 'at', 'every', 'step', 'can', 'be', 'shown', 'as', 'AwarenessConsideration', 'DecisionPurchase', 'Postpurchase', 'Touchpoints', 'Word', 'of', 'mouth', 'social', 'media', 'regular', 'advertisements', 'on', 'the', 'customer', 'journey', 'map', 'Congruence', 'with', 'perceived', 'and', 'offered', 'benefits', 'costbenefit', 'analysis', 'value', 'propositionPlace', 'and', 'time', 'utility', 'loyalty', 'towards', 'product', 'switching', 'costs', 'Retailonportal', 'conversion', 'levers', 'customer', 'schemes', 'Dissonance', 'purchase', 'complexity', 'To', 'understand', 'the', 'reach', 'of', 'social', 'media', 'by', 'the', 'use', 'of', 'numbers', 'Most', 'popular', 'social', 'networks', 'worldwide', 'as', 'of', 'July', '2020', 'ranked', 'by', 'number', 'of', 'active', 'users', 'in', 'millions', 'How', 'many', 'retweets', 'on', 'Twitter', 'How', 'many', 'reactions', 'to', 'the', 'post', 'on', 'Facebook', 'How', 'many', 'likes', 'on', 'Instagram', 'How', 'many', 'shares', 'on', 'Linked', 'In', 'This', 'seems', 'to', 'be', 'the', 'new', 'age', 'Resume', 'Thus', 'a', 'good', 'question', 'or', 'mystery', 'for', 'any', 'brand', 'is', 'how', 'to', 'measure', 'their', 'social', 'media', 'engagement', 'As', 'with', 'most', 'online', 'actions', 'it’s', 'often', 'difficult', 'to', 'measure', 'offline', 'benefits', 'More', 'often', 'than', 'not', 'the', 'online', 'campaigns', 'do', 'not', 'drive', 'any', 'conversions', 'on', 'the', 'same', 'dayweek', 'but', 'a', 'user', 'may', 'see', 'those', 'posts', 'and', 'become', 'more', 'familiar', 'with', 'the', 'brand', 'That', 'familiarity', 'later', 'on', 'might', 'result', 'in', 'him', 'choosing', 'that', 'brand', 'over', 'an', 'unknown', 'competitor', 'Social', 'media', 'engagement', 'as', 'a', 'result', 'helps', 'businesses', 'in', 'developing', 'their', 'brand’s', 'personality', 'improves', 'visibility', 'and', 'becomes', 'its', 'voice', 'Customers', 'exhibit', 'dynamic', 'behavior', 'based', 'on', 'the', 'type', 'of', 'product', 'It', 'could', 'range', 'from', 'picking', 'and', 'varietyseeking', 'to', 'high', 'involvement', 'processes', 'comprising', 'extensive', 'information', 'search', 'Top', 'of', 'the', 'mind', 'recall', 'rules', 'due', 'to', 'this', 'purchasing', 'behavior', 'implies', 'that', 'targeted', 'advertising', 'and', 'marketing', 'is', 'extremely', 'important', 'No', 'one', 'engagement', 'strategy', 'can', 'be', 'applied', 'across', 'brands', 'Each', 'brand’s', 'strategy', 'must', 'differ', 'based', 'on', 'what', 'the', 'brand', 'is', 'trying', 'to', 'sell', 'its', 'target', 'customers', 'and', 'the', 'beliefs', 'of', 'the', 'brand', 'Some', 'of', 'the', 'key', 'aspects', 'of', 'marketing', 'strategy', 'that', 'we', 'have', 'influenced', 'as', 'vital', 'cogs', 'in', 'the', 'digital', 'marketing', 'wheel', 'are', 'Influencer', 'Marketing', 'Influencer', 'marketing', 'involves', 'a', 'brand', 'collaborating', 'with', 'an', 'online', 'influencer', 'to', 'market', 'one', 'of', 'its', 'products', 'or', 'services', 'Here', 'the', 'audience', 'doesn’t', 'care', 'much', 'about', 'your', 'brand', 'but', 'the', 'opinions', 'of', 'the', 'influencers', 'An', 'influencer', 'as', 'being', 'someone', 'who', 'has', 'The', 'power', 'to', 'affect', 'the', 'purchasing', 'decisions', 'of', 'others', 'because', 'of', 'their', 'knowledge', 'position', 'authority', 'or', 'relationship', 'with', 'their', 'audience', 'a', 'following', 'in', 'a', 'distinct', 'niche', 'with', 'whom', 'they', 'regularly', 'engage', 'The', 'size', 'of', 'the', 'following', 'depends', 'on', 'the', 'size', 'of', 'their', 'topic', 'of', 'the', 'niche', '2017', 'saw', 'Chanel', 'being', 'named', 'as', 'the', 'most', 'influential', 'luxury', 'brand', 'on', 'social', 'media', 'Since', 'then', 'it', 'has', 'continued', 'to', 'grow', 'and', 'diversify', 'its', 'portfolio', 'while', 'providing', 'constant', 'engagement', 'to', 'its', 'plethora', 'of', 'followers', 'especially', 'on', 'Instagram', 'CrossChannel', 'Marketing', 'Crosschannel', 'marketing', 'or', 'multichannel', 'marketing', 'is', 'the', 'practice', 'of', 'using', 'multiple', 'channels', 'to', 'reach', 'an', 'audience', 'Because', 'not', 'everyone', 'uses', 'every', 'single', 'platform', 'it’s', 'a', 'good', 'idea', 'to', 'have', 'a', 'presence', 'on', 'a', 'few', 'and', 'share', 'some', 'of', 'the', 'same', 'content', 'across', 'the', 'different', 'networks', 'What', 'makes', 'a', 'difference', 'in', 'this', 'marketing', 'strategy', 'is', 'the', 'choice', 'of', 'platforms', 'Apart', 'from', 'using', 'basics', 'like', 'Facebook', 'Instagram', 'and', 'Twitter', 'a', 'clever', 'use', 'of', 'Spotify', 'YouTube', 'or', 'IGTV', 'to', 'showcase', 'the', 'brand', 'can', 'make', 'a', 'real', 'difference', 'The', 'luxury', 'vehicle', 'brand', 'Land', 'Rover’s', 'crosschannel', 'marketing', 'includes', 'the', 'Google', 'Display', 'Network', 'homepage', 'masthead', 'and', 'Masthead', 'in', 'Lightbox', 'ads', 'on', 'YouTube', 'and', 'visibility', 'through', 'mobile', 'search', 'and', 'Google', 'The', 'brand’s', 'digital', 'campaign', 'included', 'four', 'different', 'influencers', 'who', 'created', 'visual', 'content', 'for', 'their', 'blogs', 'by', 'taking', 'trips', 'to', 'places', 'like', 'Glacier', 'National', 'Park', 'and', 'the', 'Appalachian', 'Mountains', 'and', 'Land', 'Rover’s', 'microsite', 'Their', 'crosschannel', 'efforts', 'resulted', 'in', '100', 'million', 'impressions', 'from', 'YouTube', 'and', 'a', '10', 'increase', 'in', 'search', 'ad', 'CTR', 'Further', 'results', 'found', 'that', 'online', 'leads', 'from', 'its', 'digital', 'channel', 'efforts', 'now', 'account', 'for', '15', 'of', 'the', 'brand’s', 'total', 'sales', 'Informative', 'The', 'content', 'created', 'on', 'social', 'media', 'must', 'add', 'some', 'value', 'addition', 'to', 'the', 'customers', 'The', 'brand', 'must', 'constantly', 'keep', 'informing', 'the', 'customers', 'about', 'their', 'existing', 'products', 'new', 'products', 'achievements', 'of', 'the', 'brands', 'or', 'even', 'casual', 'content', 'There', 'should', 'be', '“Wow', 'I', 'didn’t', 'know', 'this”', 'factor', 'Only', 'then', 'will', 'they', 'become', 'regular', 'followers', 'of', 'the', 'brand', 'An', 'example', 'of', 'this', 'would', 'be', 'a', 'cosmetic', 'brand', 'posting', 'makeup', 'tutorials', 'Fenty', 'Beauty', 'is', 'one', 'such', 'prime', 'example', 'which', 'has', 'built', 'up', 'to', '14m', 'followers', 'within', 'just', '4', 'days', 'of', 'its', 'launch', 'eventually', 'garnering', 'close', 'to', '10m', 'followers', 'with', 'Rihanna', 'being', 'one', 'of', 'their', 'icons', 'Involving', 'customers', 'engaging', 'them', '“Customer', 'is', 'King”', 'is', 'a', 'known', 'concept', 'It', 'is', 'the', 'foundation', 'of', 'traditional', 'marketing', 'So', 'while', 'we', 'shift', 'to', 'Social', 'platforms', 'brands', 'must', 'not', 'forget', 'them', 'Understanding', 'their', 'needs', 'addressing', 'them', 'inviting', 'them', 'to', 'respond', 'and', 'take', 'part', 'in', 'the', 'brand’s', 'online', 'activities', 'while', 'keeping', 'it', 'interesting', 'and', 'entertaining', 'for', 'the', 'customer', 'is', 'the', 'key', 'Founder', 'and', 'CEO', 'of', 'Glossier', 'Emily', 'Weiss', 'described', 'the', 'brand', 'as', '“the', 'first', 'sociallydriven', 'beauty', 'brand”', 'Glossier', 'was', 'certainly', 'the', 'pioneer', 'in', 'the', 'term', '‘Instagram', 'brands’', '–', 'using', 'the', 'platform', 'not', 'only', 'to', 'build', 'awareness', 'but', 'also', 'to', 'have', 'focused', 'conversation', 'with', 'the', 'customer', 'Glossier', 'often', 'crowdsources', 'product', 'development', 'asking', 'its', 'Instagram', 'followers', 'what', 'they’d', 'like', 'to', 'see', 'next', 'Dynamic', 'The', 'content', 'creation', 'must', 'be', 'dynamic', 'and', 'suitable', 'for', 'the', 'current', 'season', 'festival', 'or', 'event', 'that', 'is', 'happening', 'People', 'must', 'be', 'able', 'to', 'relate', 'to', 'the', 'posts', 'and', 'they', 'must', 'get', 'excited', 'after', 'seeing', 'it', 'Starbucks', 'does', 'a', 'marvelous', 'job', 'when', 'it', 'comes', 'to', 'being', 'dynamic', 'Their', 'oneoff', 'recipes', 'and', 'continuous', 'hype', 'around', 'seasonal', 'events', 'and', 'related', 'drinks', 'have', 'won', 'them', 'a', 'silver', 'IPA', 'Effectiveness', 'award', 'for', 'its', 'social', 'strategy', 'in', '2018', 'The', 'launch', 'of', 'its', 'now', 'iconic', '‘Unicorn', 'Frappuccino’', 'spurred', 'on', 'the', 'trend', 'of', 'brands', 'deliberately', 'creating', '‘Instagrammable’', 'food', 'and', 'drink', 'As', 'a', 'result', 'there', 'are', 'now', '557232', 'posts', 'using', 'the', 'hashtag', 'PumpkinSpiceLatte', 'Product', 'focussed', 'Now', 'of', 'course', 'the', 'real', 'motive', 'behind', 'any', 'marketing', 'activity', 'is', 'to', 'eventually', 'sell', 'the', 'product', 'So', 'it', 'becomes', 'extremely', 'important', 'to', 'not', 'lose', 'the', 'essence', 'of', 'the', 'product', 'while', 'marketing', 'In', 'simple', 'terms', 'the', 'content', 'or', 'strategy', 'must', 'not', 'leave', 'the', 'customer', 'confused', 'about', 'what', 'the', 'brand', 'actually', 'does', 'or', 'what', 'it', 'is', 'trying', 'to', 'sell', 'To', 'support', 'the', 'productcentric', 'statement', 'Oreo', 'is', 'the', 'best', 'example', 'Oreo’s', 'social', 'media', 'strategy', 'has', 'never', 'diverged', 'from', 'its', 'original', 'formula', 'Completely', 'productfocused', 'and', 'yet', 'always', 'creative', 'the', 'brand', 'continuously', 'finds', 'ways', 'to', 'put', 'its', 'cookies', 'center', 'stage', 'The', '‘Daily', 'Twist’', 'campaign', 'to', 'mark', 'its', '100th', 'birthday', 'saw', 'the', 'brand', 'turn', 'its', 'Oreo', 'cookie', 'into', 'something', 'of', 'cultural', 'relevance', 'for', '100', 'days', 'including', 'Elvis', 'Presley', 'a', 'baseball', 'and', 'a', 'rainbow', 'flag', 'in', 'support', 'of', 'Pride', 'Visuals', '“A', 'picture', 'is', 'worth', '1000', 'words”', 'This', 'adage', 'has', 'never', 'been', 'more', 'apt', 'than', 'in', 'the', 'age', 'of', 'social', 'media', 'This', 'is', 'why', 'visuals', 'are', 'so', 'important', 'in', 'any', 'marketing', 'strategy', 'You', 'can', 'talk', 'about', 'a', 'product', 'all', 'day', 'but', 'until', 'you’re', 'able', 'to', 'put', 'it', 'in', 'front', 'of', 'someone’s', 'eyes', 'it’s', 'not', 'going', 'to', 'have', 'nearly', 'the', 'same', 'effect', 'Visual', 'content', 'marketing', 'is', 'a', 'great', 'way', 'to', 'make', 'this', 'happen', 'and', 'can', 'be', 'broken', 'down', 'into', 'six', 'basic', 'types', 'comics', 'memes', 'infographics', 'photos', 'videos', 'and', 'visual', 'notetaking', 'CocaCola', 'has', 'been', 'a', 'leader', 'and', 'trendsetter', 'in', 'the', 'visual', 'content', 'marketing', 'space', 'for', 'years', 'The', '2020', 'initiative', 'video', 'paved', 'the', 'way', 'for', 'multiway', 'communication', 'as', 'opposed', 'to', 'the', 'single', 'way', 'process', 'that', 'was', 'prevalent', 'Product', 'demonstration', 'The', 'barrier', 'for', 'electronic', 'platforms', 'has', 'always', 'been', 'the', 'loss', 'of', 'touch', 'Customers', 'often', 'complain', 'that', 'till', 'they', 'don’t', 'touch', 'try', 'or', 'test', 'the', 'product', 'they', 'are', 'not', 'convinced', 'if', 'they', 'want', 'to', 'purchase', 'it', 'This', 'can', 'also', 'be', 'true', 'for', 'products', 'that', 'are', 'new', 'and', 'the', 'customers', 'need', 'to', 'be', 'educated', 'about', 'its', 'use', 'Hence', 'it', 'becomes', 'important', 'for', 'brands', 'to', 'bridge', 'this', 'gap', 'as', 'far', 'as', 'possible', 'through', 'their', 'online', 'medium', 'Product', 'demonstrations', 'are', 'considered', 'one', 'of', 'the', 'most', 'promising', 'and', 'upcoming', 'applications', 'of', 'AR', 'technology', 'giving', 'brands', 'a', 'way', 'to', 'provide', 'an', 'immersive', 'experience', 'to', 'consumers', 'Gucci', 'partnered', 'with', 'Snapchat', 'for', 'the', 'first', 'global', 'branded', 'AR', 'shoe', 'try', 'on', 'the', 'lens', 'hugely', 'increasing', 'fanfare', 'Social', 'message', 'Corporate', 'Social', 'Responsibility', 'should', 'not', 'be', 'missed', 'when', 'it', 'comes', 'to', 'social', 'media', 'engagement', 'If', 'a', 'brand', 'has', 'the', 'reach', 'to', 'spread', 'awareness', 'then', 'they', 'must', 'use', 'it', 'Creating', 'content', 'to', 'spread', 'social', 'awareness', 'adds', 'an', 'emotional', 'touch', 'too', 'If', 'a', 'customer', 'connects', 'with', 'a', 'brand', 'on', 'an', 'emotional', 'level', 'its', 'hard', 'for', 'competitors', 'to', 'break', 'it', 'Dove’s', 'steady', 'and', 'impactful', 'social', 'message', 'still', 'stands', 'out', 'as', 'marketing', 'that’s', 'more', 'than', 'just', 'marketing', 'The', '‘Real', 'Beauty’', 'campaign', 'has', 'been', 'refreshed', 'multiple', 'times', 'since', 'it', 'first', 'launched', 'in', '2004', 'Dove’s', 'latest', 'campaign', 'once', 'again', 'highlighted', 'the', 'core', 'message', 'going', 'far', 'beyond', 'surface', 'aesthetic', 'to', 'focus', 'on', 'the', 'beauty', 'of', 'real', 'human', 'values', 'The', '‘Courage', 'is', 'Beautiful’', 'campaign', 'successfully', 'honored', 'the', 'healthcare', 'workers', 'who', 'have', 'been', 'working', 'selflessly', 'throughout', 'the', '2020', 'pandemic', 'The', 'fact', 'remains', 'that', 'the', 'share', 'of', 'mind', 'and', 'voice', 'are', 'key', 'elements', 'to', 'being', 'the', 'dominant', 'force', 'in', 'the', 'world', 'today', 'Social', 'media', 'marketing', 'has', 'leveraged', 'all', 'the', 'elements', 'and', 'made', 'its', 'presence', 'felt', 'in', 'every', 'customer', 'engagement', 'Finding', 'unique', 'ways', 'to', 'really', 'stand', 'out', 'among', 'the', 'competition', 'is', 'key', 'to', 'a', 'successful', 'digital', 'marketing', 'strategy', 'Newer', 'and', 'more', 'customized', 'tools', 'to', 'feel', 'the', 'pulse', 'of', 'the', 'market', 'come', 'up', 'every', 'single', 'day', 'to', 'meet', 'the', 'everchanging', 'needs', 'of', 'marketing', 'heads', 'At', 'the', 'end', 'of', 'the', 'day', '‘customer', 'is', 'indeed', 'king’', 'And', 'companies', 'would', 'do', 'well', 'to', 'remember', 'it', 'Blackcoffer', 'Insights', '19', 'Debmalya', 'Banik', 'ChowdhuryXLRI', 'Jamshedpur', 'Tanisha', 'GuptaXLRI', 'Delhi']\n"
     ]
    }
   ],
   "source": [
    "content=soup.findAll(attrs={'class':'td-post-content'})\n",
    "content=content[0].text.replace('\\n',\" \")\n",
    "print(content)\n",
    "#Punctuation\n",
    "content = content.translate(str.maketrans('', '', string.punctuation)) \n",
    "print(content)\n",
    "text = content.split()\n",
    "print(text)\n"
   ]
  },
  {
   "cell_type": "code",
   "execution_count": 3,
   "id": "41f38f76",
   "metadata": {},
   "outputs": [
    {
     "data": {
      "text/plain": [
       "1758"
      ]
     },
     "execution_count": 3,
     "metadata": {},
     "output_type": "execute_result"
    }
   ],
   "source": [
    "len(text)"
   ]
  },
  {
   "cell_type": "code",
   "execution_count": 4,
   "id": "6bf5f6ae",
   "metadata": {},
   "outputs": [
    {
     "name": "stdout",
     "output_type": "stream",
     "text": [
      "52\n"
     ]
    }
   ],
   "source": [
    "#Positive Score \n",
    "with open(r\"C:\\Users\\Om Bhandwalkar\\Desktop\\pos\\positive-words.txt\") as pos:\n",
    "    poswords = pos.read().split(\"\\n\")  \n",
    "    poswords = poswords[5:]\n",
    "pos_count = \" \".join ([w for w in text if w in poswords])\n",
    "pos_count=pos_count.split(\" \")\n",
    "Positive_score=len(pos_count)\n",
    "print(Positive_score)"
   ]
  },
  {
   "cell_type": "code",
   "execution_count": 5,
   "id": "8711f967",
   "metadata": {},
   "outputs": [
    {
     "name": "stdout",
     "output_type": "stream",
     "text": [
      "14\n"
     ]
    }
   ],
   "source": [
    "#Negative Score\n",
    "with open(r\"C:\\Users\\Om Bhandwalkar\\Desktop\\pos\\negative-words.txt\",encoding =\"ISO-8859-1\") as neg:\n",
    "    negwords = neg.read().split(\"\\n\")\n",
    "    \n",
    "negwords = negwords[36:]\n",
    "neg_count = \" \".join ([w for w in text if w in negwords])\n",
    "neg_count=neg_count.split(\" \")\n",
    "Negative_score=len(neg_count)\n",
    "print(Negative_score)"
   ]
  },
  {
   "cell_type": "code",
   "execution_count": 6,
   "id": "35bc9b24",
   "metadata": {},
   "outputs": [
    {
     "data": {
      "text/html": [
       "<div>\n",
       "<style scoped>\n",
       "    .dataframe tbody tr th:only-of-type {\n",
       "        vertical-align: middle;\n",
       "    }\n",
       "\n",
       "    .dataframe tbody tr th {\n",
       "        vertical-align: top;\n",
       "    }\n",
       "\n",
       "    .dataframe thead th {\n",
       "        text-align: right;\n",
       "    }\n",
       "</style>\n",
       "<table border=\"1\" class=\"dataframe\">\n",
       "  <thead>\n",
       "    <tr style=\"text-align: right;\">\n",
       "      <th></th>\n",
       "      <th>url</th>\n",
       "      <th>title</th>\n",
       "      <th>content</th>\n",
       "      <th>filter_content</th>\n",
       "      <th>Positive_Score</th>\n",
       "      <th>Negative_Score</th>\n",
       "      <th>polarity</th>\n",
       "      <th>subjectivity</th>\n",
       "    </tr>\n",
       "  </thead>\n",
       "  <tbody>\n",
       "    <tr>\n",
       "      <th>0</th>\n",
       "      <td>https://insights.blackcoffer.com/how-to-increa...</td>\n",
       "      <td>How to increase social media engagement for ma...</td>\n",
       "      <td>Social media is such a staple of our evolving...</td>\n",
       "      <td>Social media is such a staple of our evolving ...</td>\n",
       "      <td>52</td>\n",
       "      <td>14</td>\n",
       "      <td>0.157408</td>\n",
       "      <td>0.43012</td>\n",
       "    </tr>\n",
       "  </tbody>\n",
       "</table>\n",
       "</div>"
      ],
      "text/plain": [
       "                                                 url  \\\n",
       "0  https://insights.blackcoffer.com/how-to-increa...   \n",
       "\n",
       "                                               title  \\\n",
       "0  How to increase social media engagement for ma...   \n",
       "\n",
       "                                             content  \\\n",
       "0   Social media is such a staple of our evolving...   \n",
       "\n",
       "                                      filter_content  Positive_Score  \\\n",
       "0  Social media is such a staple of our evolving ...              52   \n",
       "\n",
       "   Negative_Score  polarity  subjectivity  \n",
       "0              14  0.157408       0.43012  "
      ]
     },
     "execution_count": 6,
     "metadata": {},
     "output_type": "execute_result"
    }
   ],
   "source": [
    "filter_content = ' '.join(text)\n",
    "data=[[url,title,content,filter_content,Positive_score,Negative_score]]\n",
    "data=pd.DataFrame(data,columns=[\"url\",\"title\",\"content\",\"filter_content\",\"Positive_Score\",\"Negative_Score\"])\n",
    "from textblob import TextBlob\n",
    "# Get The Subjectivity\n",
    "def sentiment_analysis(data):\n",
    "    sentiment = TextBlob(data[\"content\"]).sentiment\n",
    "    return pd.Series([sentiment.polarity,sentiment.subjectivity ])\n",
    "\n",
    "# Adding Subjectivity & Polarity\n",
    "data[[\"polarity\", \"subjectivity\"]] = data.apply(sentiment_analysis, axis=1)\n",
    "\n",
    "data"
   ]
  },
  {
   "cell_type": "code",
   "execution_count": 7,
   "id": "a7e3d9a9",
   "metadata": {},
   "outputs": [
    {
     "name": "stdout",
     "output_type": "stream",
     "text": [
      "Word average = 8960.0\n",
      "FOG INDEX =  706.74\n",
      "Average no of words per sentence\n",
      "1758.0\n",
      "Complex Words 3103\n"
     ]
    }
   ],
   "source": [
    "#AVG SENTENCE LENGTH\n",
    "AVG_SENTENCE_LENGTH = len(content.replace(' ',''))/len(re.split(r'[?!.]', content))\n",
    "print('Word average =', AVG_SENTENCE_LENGTH)\n",
    "import textstat\n",
    "#Fog index \n",
    "FOG_INDEX=(textstat.gunning_fog(content))\n",
    "print(\"FOG INDEX = \",FOG_INDEX)\n",
    "#Average No of Words Per Sentence \n",
    "AVG_NUMBER_OF_WORDS_PER_SENTENCE = [len(l.split()) for l in re.split(r'[?!.]', content) if l.strip()]\n",
    "print(\"Average no of words per sentence\")\n",
    "AVG_NUMBER_OF_WORDS_PER_SENTENCE=print(sum(AVG_NUMBER_OF_WORDS_PER_SENTENCE)/len(AVG_NUMBER_OF_WORDS_PER_SENTENCE))\n",
    "#Complex words\n",
    "def syllable_count(word):\n",
    "    count = 0\n",
    "    vowels = \"AEIOUYaeiouy\"\n",
    "    if word[0] in vowels:\n",
    "        count += 1\n",
    "    for index in range(1, len(word)): \n",
    "        if word[index] in vowels and word[index - 1] not in vowels:\n",
    "            count += 1\n",
    "            if word.endswith(\"es\"or \"ed\"):\n",
    "                count -= 1\n",
    "    if count == 0:\n",
    "        count += 1\n",
    "    return count\n",
    "\n",
    "\n",
    "\n",
    "COMPLEX_WORDS=syllable_count(content)\n",
    "print(\"Complex Words\",COMPLEX_WORDS)\n"
   ]
  },
  {
   "cell_type": "code",
   "execution_count": 8,
   "id": "5115e5ed",
   "metadata": {},
   "outputs": [
    {
     "name": "stdout",
     "output_type": "stream",
     "text": [
      "Word Count 10713\n",
      "Percentage of Complex Words 28.964809110426586\n",
      "Average Word per Length 5.0967007963594995\n",
      "The AVG number of syllables in the word is: \n",
      "2.0022753128555175\n",
      "Word Count 10713\n",
      "Percentage of Complex Words 28.964809110426586\n",
      "Average Word per Length 5.0967007963594995\n",
      "The AVG number of syllables in the word is: \n",
      "2.0022753128555175\n"
     ]
    }
   ],
   "source": [
    "#Word Count\n",
    "Word_Count=len(content)\n",
    "print(\"Word Count\",Word_Count)\n",
    "#Percentage Complex Words\n",
    "pcw=(COMPLEX_WORDS/Word_Count)*100\n",
    "print(\"Percentage of Complex Words\",pcw)\n",
    "#Average Word Length\n",
    "Average_Word_Length=len(content.replace(' ',''))/len(content.split())\n",
    "print(\"Average Word per Length\",Average_Word_Length)\n",
    "#Syllable Count Per Word\n",
    "word=content.replace(' ','')\n",
    "syllable_count=0\n",
    "for w in word:\n",
    "      if(w=='a' or w=='e' or w=='i' or w=='o' or w=='y' or w=='u' or w=='A' or w=='E' or w=='I' or w=='O' or w=='U' or w=='Y'):\n",
    "            syllable_count=syllable_count+1\n",
    "print(\"The AVG number of syllables in the word is: \")\n",
    "print(syllable_count/len(content.split()))#Word Count\n",
    "Word_Count=len(content)\n",
    "print(\"Word Count\",Word_Count)\n",
    "#Percentage Complex Words\n",
    "pcw=(COMPLEX_WORDS/Word_Count)*100\n",
    "print(\"Percentage of Complex Words\",pcw)\n",
    "#Average Word Length\n",
    "Average_Word_Length=len(content.replace(' ',''))/len(content.split())\n",
    "print(\"Average Word per Length\",Average_Word_Length)\n",
    "#Syllable Count Per Word\n",
    "word=content.replace(' ','')\n",
    "syllable_count=0\n",
    "for w in word:\n",
    "      if(w=='a' or w=='e' or w=='i' or w=='o' or w=='y' or w=='u' or w=='A' or w=='E' or w=='I' or w=='O' or w=='U' or w=='Y'):\n",
    "            syllable_count=syllable_count+1\n",
    "print(\"The AVG number of syllables in the word is: \")\n",
    "print(syllable_count/len(content.split()))"
   ]
  },
  {
   "cell_type": "code",
   "execution_count": 1,
   "id": "2e307a98",
   "metadata": {},
   "outputs": [
    {
     "name": "stdout",
     "output_type": "stream",
     "text": [
      "52\n",
      "14\n",
      "Word average = 8960.0\n",
      "FOG INDEX =  706.74\n",
      "Average no of words per sentence\n",
      "1758.0\n",
      "Complex Words 3103\n",
      "Word Count 10713\n",
      "Percentage of Complex Words 28.964809110426586\n",
      "Average Word per Length 5.0967007963594995\n",
      "The AVG number of syllables in the word is: \n",
      "2.0022753128555175\n"
     ]
    },
    {
     "data": {
      "text/html": [
       "<div>\n",
       "<style scoped>\n",
       "    .dataframe tbody tr th:only-of-type {\n",
       "        vertical-align: middle;\n",
       "    }\n",
       "\n",
       "    .dataframe tbody tr th {\n",
       "        vertical-align: top;\n",
       "    }\n",
       "\n",
       "    .dataframe thead th {\n",
       "        text-align: right;\n",
       "    }\n",
       "</style>\n",
       "<table border=\"1\" class=\"dataframe\">\n",
       "  <thead>\n",
       "    <tr style=\"text-align: right;\">\n",
       "      <th></th>\n",
       "      <th>url</th>\n",
       "      <th>title</th>\n",
       "      <th>content</th>\n",
       "      <th>filter_content</th>\n",
       "      <th>Positive_Score</th>\n",
       "      <th>Negative_Score</th>\n",
       "      <th>Avg_Sentence_Length</th>\n",
       "      <th>Percentage_Complex_Word</th>\n",
       "      <th>Fog_Index</th>\n",
       "      <th>AVG_NUMBER_OF_WORDS_PER_SENTENCE</th>\n",
       "      <th>COMPLEX_WORDS</th>\n",
       "      <th>Word_Count</th>\n",
       "      <th>syllable</th>\n",
       "      <th>Average_Word_Length</th>\n",
       "      <th>polarity</th>\n",
       "      <th>subjectivity</th>\n",
       "    </tr>\n",
       "  </thead>\n",
       "  <tbody>\n",
       "    <tr>\n",
       "      <th>0</th>\n",
       "      <td>https://insights.blackcoffer.com/how-to-increa...</td>\n",
       "      <td>How to increase social media engagement for ma...</td>\n",
       "      <td>Social media is such a staple of our evolving...</td>\n",
       "      <td>Social media is such a staple of our evolving ...</td>\n",
       "      <td>52</td>\n",
       "      <td>14</td>\n",
       "      <td>8960.0</td>\n",
       "      <td>28.964809</td>\n",
       "      <td>706.74</td>\n",
       "      <td>1758.0</td>\n",
       "      <td>3103</td>\n",
       "      <td>10713</td>\n",
       "      <td>2.002275</td>\n",
       "      <td>5.096701</td>\n",
       "      <td>0.157408</td>\n",
       "      <td>0.43012</td>\n",
       "    </tr>\n",
       "  </tbody>\n",
       "</table>\n",
       "</div>"
      ],
      "text/plain": [
       "                                                 url  \\\n",
       "0  https://insights.blackcoffer.com/how-to-increa...   \n",
       "\n",
       "                                               title  \\\n",
       "0  How to increase social media engagement for ma...   \n",
       "\n",
       "                                             content  \\\n",
       "0   Social media is such a staple of our evolving...   \n",
       "\n",
       "                                      filter_content  Positive_Score  \\\n",
       "0  Social media is such a staple of our evolving ...              52   \n",
       "\n",
       "   Negative_Score  Avg_Sentence_Length  Percentage_Complex_Word  Fog_Index  \\\n",
       "0              14               8960.0                28.964809     706.74   \n",
       "\n",
       "    AVG_NUMBER_OF_WORDS_PER_SENTENCE  COMPLEX_WORDS  Word_Count  syllable  \\\n",
       "0                             1758.0           3103       10713  2.002275   \n",
       "\n",
       "   Average_Word_Length  polarity  subjectivity  \n",
       "0             5.096701  0.157408       0.43012  "
      ]
     },
     "execution_count": 1,
     "metadata": {},
     "output_type": "execute_result"
    }
   ],
   "source": [
    "import requests\n",
    "import pandas as pd \n",
    "from bs4 import BeautifulSoup\n",
    "import string\n",
    "import spacy\n",
    "import re\n",
    "url = \"\"\"https://insights.blackcoffer.com/how-to-increase-social-media-engagement-for-marketers/\"\"\"\n",
    "headers = {\"User-Agent\": \"Mozilla/5.0 (X11; Linux x86_64; rv:60.0) Gecko/20100101 Firefox/60.0\"}\n",
    "page = requests.get(url, headers=headers)\n",
    "soup = BeautifulSoup(page.content, 'html.parser')\n",
    "soup=BeautifulSoup(page.content, 'html.parser')\n",
    "title=soup.find('h1',class_=\"entry-title\")\n",
    "title=title.text.replace('\\n',\" \")\n",
    "# title\n",
    "\n",
    "content=soup.findAll(attrs={'class':'td-post-content'})\n",
    "content=content[0].text.replace('\\n',\" \")\n",
    "# print(content)\n",
    "#Punctuation\n",
    "content = content.translate(str.maketrans('', '', string.punctuation)) \n",
    "# print(content)\n",
    "text = content.split()\n",
    "# print(text)\n",
    "len(text)\n",
    "#Positive Score \n",
    "with open(r\"C:\\Users\\Om Bhandwalkar\\Desktop\\pos\\positive-words.txt\") as pos:\n",
    "    poswords = pos.read().split(\"\\n\")  \n",
    "    poswords = poswords[5:]\n",
    "pos_count = \" \".join ([w for w in text if w in poswords])\n",
    "pos_count=pos_count.split(\" \")\n",
    "Positive_score=len(pos_count)\n",
    "print(Positive_score)\n",
    "\n",
    "#Negative Score\n",
    "with open(r\"C:\\Users\\Om Bhandwalkar\\Desktop\\pos\\negative-words.txt\",encoding =\"ISO-8859-1\") as neg:\n",
    "    negwords = neg.read().split(\"\\n\")\n",
    "    \n",
    "negwords = negwords[36:]\n",
    "neg_count = \" \".join ([w for w in text if w in negwords])\n",
    "neg_count=neg_count.split(\" \")\n",
    "Negative_score=len(neg_count)\n",
    "print(Negative_score)\n",
    "\n",
    "\n",
    "filter_content = ' '.join(text)\n",
    "data=[[url,title,content,filter_content,Positive_score,Negative_score]]\n",
    "data=pd.DataFrame(data,columns=[\"url\",\"title\",\"content\",\"filter_content\",\"Positive_Score\",\"Negative_Score\"])\n",
    "from textblob import TextBlob\n",
    "# Get The Subjectivity\n",
    "def sentiment_analysis(data):\n",
    "    sentiment = TextBlob(data[\"content\"]).sentiment\n",
    "    return pd.Series([sentiment.polarity,sentiment.subjectivity ])\n",
    "data[[\"polarity\", \"subjectivity\"]] = data.apply(sentiment_analysis, axis=1)\n",
    "data\n",
    "#AVG SENTENCE LENGTH\n",
    "AVG_SENTENCE_LENGTH = len(content.replace(' ',''))/len(re.split(r'[?!.]', content))\n",
    "print('Word average =', AVG_SENTENCE_LENGTH)\n",
    "import textstat\n",
    "#Fog index \n",
    "FOG_INDEX=(textstat.gunning_fog(content))\n",
    "print(\"FOG INDEX = \",FOG_INDEX)\n",
    "#Average No of Words Per Sentence \n",
    "AVG_NUMBER_OF_WORDS_PER_SENTENCE = [len(l.split()) for l in re.split(r'[?!.]', content) if l.strip()]\n",
    "print(\"Average no of words per sentence\")\n",
    "AVG_NUMBER_OF_WORDS_PER_SENTENCE=(sum(AVG_NUMBER_OF_WORDS_PER_SENTENCE)/len(AVG_NUMBER_OF_WORDS_PER_SENTENCE))\n",
    "print(AVG_NUMBER_OF_WORDS_PER_SENTENCE)\n",
    "#Complex words\n",
    "def syllable_count(word):\n",
    "    count = 0\n",
    "    vowels = \"AEIOUYaeiouy\"\n",
    "    if word[0] in vowels:\n",
    "        count += 1\n",
    "    for index in range(1, len(word)): \n",
    "        if word[index] in vowels and word[index - 1] not in vowels:\n",
    "            count += 1\n",
    "            if word.endswith(\"es\"or \"ed\"):\n",
    "                count -= 1\n",
    "    if count == 0:\n",
    "        count += 1\n",
    "    return count\n",
    "\n",
    "\n",
    "\n",
    "COMPLEX_WORDS=syllable_count(content)\n",
    "print(\"Complex Words\",COMPLEX_WORDS)\n",
    "#Word Count\n",
    "Word_Count=len(content)\n",
    "print(\"Word Count\",Word_Count)\n",
    "#Percentage Complex Words\n",
    "pcw=(COMPLEX_WORDS/Word_Count)*100\n",
    "print(\"Percentage of Complex Words\",pcw)\n",
    "#Average Word Length\n",
    "Average_Word_Length=len(content.replace(' ',''))/len(content.split())\n",
    "print(\"Average Word per Length\",Average_Word_Length)\n",
    "#Syllable Count Per Word\n",
    "word=content.replace(' ','')\n",
    "syllable_count=0\n",
    "for w in word:\n",
    "      if(w=='a' or w=='e' or w=='i' or w=='o' or w=='y' or w=='u' or w=='A' or w=='E' or w=='I' or w=='O' or w=='U' or w=='Y'):\n",
    "            syllable_count=syllable_count+1\n",
    "print(\"The AVG number of syllables in the word is: \")\n",
    "syllable = (syllable_count/len(content.split()))\n",
    "print(syllable)\n",
    "\n",
    "data = [[url,title,content,filter_content,Positive_score,Negative_score,AVG_SENTENCE_LENGTH,pcw,FOG_INDEX,\n",
    "         AVG_NUMBER_OF_WORDS_PER_SENTENCE,COMPLEX_WORDS,Word_Count,syllable,Average_Word_Length]]\n",
    "data=pd.DataFrame(data,columns=[\"url\",\"title\",\"content\",\"filter_content\",\"Positive_Score\",\"Negative_Score\",\"Avg_Sentence_Length\"\n",
    "                               ,\"Percentage_Complex_Word\",\"Fog_Index\",\" AVG_NUMBER_OF_WORDS_PER_SENTENCE\",\"COMPLEX_WORDS\",\n",
    "                               \"Word_Count\",\"syllable\",\"Average_Word_Length\"])\n",
    "from textblob import TextBlob\n",
    "# Get The Subjectivity\n",
    "def sentiment_analysis(data):\n",
    "    sentiment = TextBlob(data[\"content\"]).sentiment\n",
    "    return pd.Series([sentiment.polarity,sentiment.subjectivity ])\n",
    "data[[\"polarity\", \"subjectivity\"]] = data.apply(sentiment_analysis, axis=1)\n",
    "data"
   ]
  },
  {
   "cell_type": "code",
   "execution_count": 2,
   "id": "51c2d481",
   "metadata": {},
   "outputs": [],
   "source": [
    "data.to_csv(r'C:\\Users\\Om Bhandwalkar\\Desktop\\BlackCoffer Assignment\\Output\\url_94.csv')"
   ]
  },
  {
   "cell_type": "code",
   "execution_count": null,
   "id": "5b657b01",
   "metadata": {},
   "outputs": [],
   "source": []
  }
 ],
 "metadata": {
  "kernelspec": {
   "display_name": "Python 3 (ipykernel)",
   "language": "python",
   "name": "python3"
  },
  "language_info": {
   "codemirror_mode": {
    "name": "ipython",
    "version": 3
   },
   "file_extension": ".py",
   "mimetype": "text/x-python",
   "name": "python",
   "nbconvert_exporter": "python",
   "pygments_lexer": "ipython3",
   "version": "3.9.12"
  }
 },
 "nbformat": 4,
 "nbformat_minor": 5
}
