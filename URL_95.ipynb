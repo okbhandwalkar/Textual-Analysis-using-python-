{
 "cells": [
  {
   "cell_type": "code",
   "execution_count": 1,
   "id": "0e7670f3",
   "metadata": {},
   "outputs": [
    {
     "data": {
      "text/plain": [
       "'Impacts of COVID 19 on Streets Sides Food Stalls'"
      ]
     },
     "execution_count": 1,
     "metadata": {},
     "output_type": "execute_result"
    }
   ],
   "source": [
    "import requests\n",
    "import pandas as pd \n",
    "from bs4 import BeautifulSoup\n",
    "import string\n",
    "import spacy\n",
    "import re\n",
    "url = \"\"\"https://insights.blackcoffer.com/impacts-of-covid-19-on-streets-sides-food-stalls/\"\"\"\n",
    "headers = {\"User-Agent\": \"Mozilla/5.0 (X11; Linux x86_64; rv:60.0) Gecko/20100101 Firefox/60.0\"}\n",
    "page = requests.get(url, headers=headers)\n",
    "soup = BeautifulSoup(page.content, 'html.parser')\n",
    "soup=BeautifulSoup(page.content, 'html.parser')\n",
    "title=soup.find('h1',class_=\"entry-title\")\n",
    "title=title.text.replace('\\n',\" \")\n",
    "title\n"
   ]
  },
  {
   "cell_type": "code",
   "execution_count": 2,
   "id": "5c72d4bc",
   "metadata": {},
   "outputs": [
    {
     "name": "stdout",
     "output_type": "stream",
     "text": [
      " Petty Entrepreneurs like Streetside Food Stalls form an essential part of an economy that plays a significant role in balancing the development of a nation’s economy. The importance of street food vendors not only helps in increasing the country’s per capita income but also helps to make a living for the unemployed in society with a limited investment. Most of them are the sole breadwinners for their families. So, with the Covid-19 wreaking havoc, the uncertainty of the lockdown policies increased the concern of people over hygiene and the lack of investment to upgrade their businesses to provide better hygiene facilities that can take away food from their mouths.  Various states have provided relief packages and support but, in a country, as populous as ours, it has hardly been appropriately implemented. Delhi, for instance, recently announced a rupee 500 million stimulus package to nearly 500,000 rupees, recognizing the severe consequences of the loss of livelihoods. The seller’s intended remedy is a credit loan that provides all sellers with an initial working capital of Rs 10,000, but this is not enough. Instead of loans, the government should consider converting them directly into income benefits, cash subsidies to secure a livelihood in order to initiate income-generating activities on a regular basis. Sellers need income support to get back to work, and if they can’t, they will never be able to repay the loan amount. In an ever-changing crisis, organizations need to take a step forward and ensure that providers are provided with the resources they need to make a living. Pandemics have had a vast economic impact on every sector, but the most vulnerable sectors, such as street vendors, suffer the most. Decreased income can affect most necessities, such as payments to family and yourself. Due to a lack of fixed salaries, stalls cannot quit their jobs. If possible, it might be only a few days, unlike regular employees. For them, the risk of infection is far less frightening than hunger. Unlike many of the businesses, most of these food vendors lack the infrastructure to go online and sell products through platforms like Swiggy or Zomato. “Regret not going digital before,” says Dilip Das, a Street side food stall owner at Sector V, Kolkata. Dilip Das used to run a small streetside food stall that provided meals to all the employees around the area which is filled with multinational companies. It was a booming business till the arrival of Covid. Then with the lockdown arriving, almost all the companies opted for Work from Home policies. Dilip tried to start deliveries, but with a lack of support and fear of infection, that business ended before it even started. Citing similar reasons, Swapan Mondal, who runs a south Indian food stall at Park Street said that he did know how to operate a smartphone. And since sales were good, he did not care about learning either. But with the implementation of lockdown which took place within 4 hours, people like Swapan barely had time to cope with the changes. Furthermore, the Covid 19 pandemic made people realize how important trains are in our life. With most of the train network suspended, the entire supply chain was disrupted. Hundreds of quintals of food products rotted away, awaiting the logistical issues to fix. Many businesses could not afford to run without proper supplies as well. To handle such issues, vendors organizations may consider the following solutions: Promotion of livelihood for all vendors, including sellers of non-essential goods The impact of COVID19 was extremely severe for informal workers who ran out of capital and income and to try to feed themselves during this long embargo. Sellers need to be able to resume sales in order to survive, and governments need to take steps to reopen the market and bring sellers back to the business. Reopening of Markets keeping in mind social distancing and hygiene India has different types of traditionally crowded markets, even weekly markets (fresh food, cooked food, and essentials) and daily roadside markets. These markets have to reopen with the need for social distance in mind, and the government needs to publish guidelines for that. In the future, sales areas will also need to be designed with social distance and the need for adequate sanitation (running water, wash areas, toilets) in mind. Authorities need to work with the Town Bending Commission (TVC). Provision of direct support that is devoid of existing registration requirements Once the restrictions are lifted and the impact of Covid 19 is somewhat manageable, sellers who have been at home for months will need direct income benefits to help them to return to work. The government initiative is a welcome move, but not in terms of the type of bailout and eligibility is enough. In addition, there are very few registered providers in India, so government relief and support must be separated from the very strict registration requirements. In Delhi alone,  of the approximately 300,000 street vendors, only approximately 13100 have some sort of professional ID. If all types of cash grants or livelihood support standards relate to job identification by the state,  the government must also accept registration with workers’ organizations/unions on behalf of government-issued sales badges. Ensuring social distancing and proper sanitation and hygiene at sites of businesses The government and municipal corporations need to take the initiative and running water, and soap/sanitizers need to be provided for street vendors at their place of work. Moreover, the streetside food vendors should work with food safety authorities in the country to train themselves in different ways to maintain hygiene whilst working. Taking steps to spread awareness of different government initiatives and reliefs Many small businessmen and food vendors do not even know their rights and the benefits they can claim. If they did, many still have no idea about how to claim them. Proper awareness camps need to be set up to help these small-time food vendors to know how they can get assistance and help from the government and return back to the business. When Covid was an unknown word, these shopkeepers and vendors brought the taste to our mouth, gave us memories to live for, filled our bellies, and quenched our thirst when we needed them. It’s time to provide them with a hand now when they need it. Blackcoffer Insights 34: Sarthak Satyabrata Mishra and Abhijit Kundu, Symbiosis Institute of Management Studies, Pune \n",
      " Petty Entrepreneurs like Streetside Food Stalls form an essential part of an economy that plays a significant role in balancing the development of a nation’s economy The importance of street food vendors not only helps in increasing the country’s per capita income but also helps to make a living for the unemployed in society with a limited investment Most of them are the sole breadwinners for their families So with the Covid19 wreaking havoc the uncertainty of the lockdown policies increased the concern of people over hygiene and the lack of investment to upgrade their businesses to provide better hygiene facilities that can take away food from their mouths  Various states have provided relief packages and support but in a country as populous as ours it has hardly been appropriately implemented Delhi for instance recently announced a rupee 500 million stimulus package to nearly 500000 rupees recognizing the severe consequences of the loss of livelihoods The seller’s intended remedy is a credit loan that provides all sellers with an initial working capital of Rs 10000 but this is not enough Instead of loans the government should consider converting them directly into income benefits cash subsidies to secure a livelihood in order to initiate incomegenerating activities on a regular basis Sellers need income support to get back to work and if they can’t they will never be able to repay the loan amount In an everchanging crisis organizations need to take a step forward and ensure that providers are provided with the resources they need to make a living Pandemics have had a vast economic impact on every sector but the most vulnerable sectors such as street vendors suffer the most Decreased income can affect most necessities such as payments to family and yourself Due to a lack of fixed salaries stalls cannot quit their jobs If possible it might be only a few days unlike regular employees For them the risk of infection is far less frightening than hunger Unlike many of the businesses most of these food vendors lack the infrastructure to go online and sell products through platforms like Swiggy or Zomato “Regret not going digital before” says Dilip Das a Street side food stall owner at Sector V Kolkata Dilip Das used to run a small streetside food stall that provided meals to all the employees around the area which is filled with multinational companies It was a booming business till the arrival of Covid Then with the lockdown arriving almost all the companies opted for Work from Home policies Dilip tried to start deliveries but with a lack of support and fear of infection that business ended before it even started Citing similar reasons Swapan Mondal who runs a south Indian food stall at Park Street said that he did know how to operate a smartphone And since sales were good he did not care about learning either But with the implementation of lockdown which took place within 4 hours people like Swapan barely had time to cope with the changes Furthermore the Covid 19 pandemic made people realize how important trains are in our life With most of the train network suspended the entire supply chain was disrupted Hundreds of quintals of food products rotted away awaiting the logistical issues to fix Many businesses could not afford to run without proper supplies as well To handle such issues vendors organizations may consider the following solutions Promotion of livelihood for all vendors including sellers of nonessential goods The impact of COVID19 was extremely severe for informal workers who ran out of capital and income and to try to feed themselves during this long embargo Sellers need to be able to resume sales in order to survive and governments need to take steps to reopen the market and bring sellers back to the business Reopening of Markets keeping in mind social distancing and hygiene India has different types of traditionally crowded markets even weekly markets fresh food cooked food and essentials and daily roadside markets These markets have to reopen with the need for social distance in mind and the government needs to publish guidelines for that In the future sales areas will also need to be designed with social distance and the need for adequate sanitation running water wash areas toilets in mind Authorities need to work with the Town Bending Commission TVC Provision of direct support that is devoid of existing registration requirements Once the restrictions are lifted and the impact of Covid 19 is somewhat manageable sellers who have been at home for months will need direct income benefits to help them to return to work The government initiative is a welcome move but not in terms of the type of bailout and eligibility is enough In addition there are very few registered providers in India so government relief and support must be separated from the very strict registration requirements In Delhi alone  of the approximately 300000 street vendors only approximately 13100 have some sort of professional ID If all types of cash grants or livelihood support standards relate to job identification by the state  the government must also accept registration with workers’ organizationsunions on behalf of governmentissued sales badges Ensuring social distancing and proper sanitation and hygiene at sites of businesses The government and municipal corporations need to take the initiative and running water and soapsanitizers need to be provided for street vendors at their place of work Moreover the streetside food vendors should work with food safety authorities in the country to train themselves in different ways to maintain hygiene whilst working Taking steps to spread awareness of different government initiatives and reliefs Many small businessmen and food vendors do not even know their rights and the benefits they can claim If they did many still have no idea about how to claim them Proper awareness camps need to be set up to help these smalltime food vendors to know how they can get assistance and help from the government and return back to the business When Covid was an unknown word these shopkeepers and vendors brought the taste to our mouth gave us memories to live for filled our bellies and quenched our thirst when we needed them It’s time to provide them with a hand now when they need it Blackcoffer Insights 34 Sarthak Satyabrata Mishra and Abhijit Kundu Symbiosis Institute of Management Studies Pune \n",
      "['Petty', 'Entrepreneurs', 'like', 'Streetside', 'Food', 'Stalls', 'form', 'an', 'essential', 'part', 'of', 'an', 'economy', 'that', 'plays', 'a', 'significant', 'role', 'in', 'balancing', 'the', 'development', 'of', 'a', 'nation’s', 'economy', 'The', 'importance', 'of', 'street', 'food', 'vendors', 'not', 'only', 'helps', 'in', 'increasing', 'the', 'country’s', 'per', 'capita', 'income', 'but', 'also', 'helps', 'to', 'make', 'a', 'living', 'for', 'the', 'unemployed', 'in', 'society', 'with', 'a', 'limited', 'investment', 'Most', 'of', 'them', 'are', 'the', 'sole', 'breadwinners', 'for', 'their', 'families', 'So', 'with', 'the', 'Covid19', 'wreaking', 'havoc', 'the', 'uncertainty', 'of', 'the', 'lockdown', 'policies', 'increased', 'the', 'concern', 'of', 'people', 'over', 'hygiene', 'and', 'the', 'lack', 'of', 'investment', 'to', 'upgrade', 'their', 'businesses', 'to', 'provide', 'better', 'hygiene', 'facilities', 'that', 'can', 'take', 'away', 'food', 'from', 'their', 'mouths', 'Various', 'states', 'have', 'provided', 'relief', 'packages', 'and', 'support', 'but', 'in', 'a', 'country', 'as', 'populous', 'as', 'ours', 'it', 'has', 'hardly', 'been', 'appropriately', 'implemented', 'Delhi', 'for', 'instance', 'recently', 'announced', 'a', 'rupee', '500', 'million', 'stimulus', 'package', 'to', 'nearly', '500000', 'rupees', 'recognizing', 'the', 'severe', 'consequences', 'of', 'the', 'loss', 'of', 'livelihoods', 'The', 'seller’s', 'intended', 'remedy', 'is', 'a', 'credit', 'loan', 'that', 'provides', 'all', 'sellers', 'with', 'an', 'initial', 'working', 'capital', 'of', 'Rs', '10000', 'but', 'this', 'is', 'not', 'enough', 'Instead', 'of', 'loans', 'the', 'government', 'should', 'consider', 'converting', 'them', 'directly', 'into', 'income', 'benefits', 'cash', 'subsidies', 'to', 'secure', 'a', 'livelihood', 'in', 'order', 'to', 'initiate', 'incomegenerating', 'activities', 'on', 'a', 'regular', 'basis', 'Sellers', 'need', 'income', 'support', 'to', 'get', 'back', 'to', 'work', 'and', 'if', 'they', 'can’t', 'they', 'will', 'never', 'be', 'able', 'to', 'repay', 'the', 'loan', 'amount', 'In', 'an', 'everchanging', 'crisis', 'organizations', 'need', 'to', 'take', 'a', 'step', 'forward', 'and', 'ensure', 'that', 'providers', 'are', 'provided', 'with', 'the', 'resources', 'they', 'need', 'to', 'make', 'a', 'living', 'Pandemics', 'have', 'had', 'a', 'vast', 'economic', 'impact', 'on', 'every', 'sector', 'but', 'the', 'most', 'vulnerable', 'sectors', 'such', 'as', 'street', 'vendors', 'suffer', 'the', 'most', 'Decreased', 'income', 'can', 'affect', 'most', 'necessities', 'such', 'as', 'payments', 'to', 'family', 'and', 'yourself', 'Due', 'to', 'a', 'lack', 'of', 'fixed', 'salaries', 'stalls', 'cannot', 'quit', 'their', 'jobs', 'If', 'possible', 'it', 'might', 'be', 'only', 'a', 'few', 'days', 'unlike', 'regular', 'employees', 'For', 'them', 'the', 'risk', 'of', 'infection', 'is', 'far', 'less', 'frightening', 'than', 'hunger', 'Unlike', 'many', 'of', 'the', 'businesses', 'most', 'of', 'these', 'food', 'vendors', 'lack', 'the', 'infrastructure', 'to', 'go', 'online', 'and', 'sell', 'products', 'through', 'platforms', 'like', 'Swiggy', 'or', 'Zomato', '“Regret', 'not', 'going', 'digital', 'before”', 'says', 'Dilip', 'Das', 'a', 'Street', 'side', 'food', 'stall', 'owner', 'at', 'Sector', 'V', 'Kolkata', 'Dilip', 'Das', 'used', 'to', 'run', 'a', 'small', 'streetside', 'food', 'stall', 'that', 'provided', 'meals', 'to', 'all', 'the', 'employees', 'around', 'the', 'area', 'which', 'is', 'filled', 'with', 'multinational', 'companies', 'It', 'was', 'a', 'booming', 'business', 'till', 'the', 'arrival', 'of', 'Covid', 'Then', 'with', 'the', 'lockdown', 'arriving', 'almost', 'all', 'the', 'companies', 'opted', 'for', 'Work', 'from', 'Home', 'policies', 'Dilip', 'tried', 'to', 'start', 'deliveries', 'but', 'with', 'a', 'lack', 'of', 'support', 'and', 'fear', 'of', 'infection', 'that', 'business', 'ended', 'before', 'it', 'even', 'started', 'Citing', 'similar', 'reasons', 'Swapan', 'Mondal', 'who', 'runs', 'a', 'south', 'Indian', 'food', 'stall', 'at', 'Park', 'Street', 'said', 'that', 'he', 'did', 'know', 'how', 'to', 'operate', 'a', 'smartphone', 'And', 'since', 'sales', 'were', 'good', 'he', 'did', 'not', 'care', 'about', 'learning', 'either', 'But', 'with', 'the', 'implementation', 'of', 'lockdown', 'which', 'took', 'place', 'within', '4', 'hours', 'people', 'like', 'Swapan', 'barely', 'had', 'time', 'to', 'cope', 'with', 'the', 'changes', 'Furthermore', 'the', 'Covid', '19', 'pandemic', 'made', 'people', 'realize', 'how', 'important', 'trains', 'are', 'in', 'our', 'life', 'With', 'most', 'of', 'the', 'train', 'network', 'suspended', 'the', 'entire', 'supply', 'chain', 'was', 'disrupted', 'Hundreds', 'of', 'quintals', 'of', 'food', 'products', 'rotted', 'away', 'awaiting', 'the', 'logistical', 'issues', 'to', 'fix', 'Many', 'businesses', 'could', 'not', 'afford', 'to', 'run', 'without', 'proper', 'supplies', 'as', 'well', 'To', 'handle', 'such', 'issues', 'vendors', 'organizations', 'may', 'consider', 'the', 'following', 'solutions', 'Promotion', 'of', 'livelihood', 'for', 'all', 'vendors', 'including', 'sellers', 'of', 'nonessential', 'goods', 'The', 'impact', 'of', 'COVID19', 'was', 'extremely', 'severe', 'for', 'informal', 'workers', 'who', 'ran', 'out', 'of', 'capital', 'and', 'income', 'and', 'to', 'try', 'to', 'feed', 'themselves', 'during', 'this', 'long', 'embargo', 'Sellers', 'need', 'to', 'be', 'able', 'to', 'resume', 'sales', 'in', 'order', 'to', 'survive', 'and', 'governments', 'need', 'to', 'take', 'steps', 'to', 'reopen', 'the', 'market', 'and', 'bring', 'sellers', 'back', 'to', 'the', 'business', 'Reopening', 'of', 'Markets', 'keeping', 'in', 'mind', 'social', 'distancing', 'and', 'hygiene', 'India', 'has', 'different', 'types', 'of', 'traditionally', 'crowded', 'markets', 'even', 'weekly', 'markets', 'fresh', 'food', 'cooked', 'food', 'and', 'essentials', 'and', 'daily', 'roadside', 'markets', 'These', 'markets', 'have', 'to', 'reopen', 'with', 'the', 'need', 'for', 'social', 'distance', 'in', 'mind', 'and', 'the', 'government', 'needs', 'to', 'publish', 'guidelines', 'for', 'that', 'In', 'the', 'future', 'sales', 'areas', 'will', 'also', 'need', 'to', 'be', 'designed', 'with', 'social', 'distance', 'and', 'the', 'need', 'for', 'adequate', 'sanitation', 'running', 'water', 'wash', 'areas', 'toilets', 'in', 'mind', 'Authorities', 'need', 'to', 'work', 'with', 'the', 'Town', 'Bending', 'Commission', 'TVC', 'Provision', 'of', 'direct', 'support', 'that', 'is', 'devoid', 'of', 'existing', 'registration', 'requirements', 'Once', 'the', 'restrictions', 'are', 'lifted', 'and', 'the', 'impact', 'of', 'Covid', '19', 'is', 'somewhat', 'manageable', 'sellers', 'who', 'have', 'been', 'at', 'home', 'for', 'months', 'will', 'need', 'direct', 'income', 'benefits', 'to', 'help', 'them', 'to', 'return', 'to', 'work', 'The', 'government', 'initiative', 'is', 'a', 'welcome', 'move', 'but', 'not', 'in', 'terms', 'of', 'the', 'type', 'of', 'bailout', 'and', 'eligibility', 'is', 'enough', 'In', 'addition', 'there', 'are', 'very', 'few', 'registered', 'providers', 'in', 'India', 'so', 'government', 'relief', 'and', 'support', 'must', 'be', 'separated', 'from', 'the', 'very', 'strict', 'registration', 'requirements', 'In', 'Delhi', 'alone', 'of', 'the', 'approximately', '300000', 'street', 'vendors', 'only', 'approximately', '13100', 'have', 'some', 'sort', 'of', 'professional', 'ID', 'If', 'all', 'types', 'of', 'cash', 'grants', 'or', 'livelihood', 'support', 'standards', 'relate', 'to', 'job', 'identification', 'by', 'the', 'state', 'the', 'government', 'must', 'also', 'accept', 'registration', 'with', 'workers’', 'organizationsunions', 'on', 'behalf', 'of', 'governmentissued', 'sales', 'badges', 'Ensuring', 'social', 'distancing', 'and', 'proper', 'sanitation', 'and', 'hygiene', 'at', 'sites', 'of', 'businesses', 'The', 'government', 'and', 'municipal', 'corporations', 'need', 'to', 'take', 'the', 'initiative', 'and', 'running', 'water', 'and', 'soapsanitizers', 'need', 'to', 'be', 'provided', 'for', 'street', 'vendors', 'at', 'their', 'place', 'of', 'work', 'Moreover', 'the', 'streetside', 'food', 'vendors', 'should', 'work', 'with', 'food', 'safety', 'authorities', 'in', 'the', 'country', 'to', 'train', 'themselves', 'in', 'different', 'ways', 'to', 'maintain', 'hygiene', 'whilst', 'working', 'Taking', 'steps', 'to', 'spread', 'awareness', 'of', 'different', 'government', 'initiatives', 'and', 'reliefs', 'Many', 'small', 'businessmen', 'and', 'food', 'vendors', 'do', 'not', 'even', 'know', 'their', 'rights', 'and', 'the', 'benefits', 'they', 'can', 'claim', 'If', 'they', 'did', 'many', 'still', 'have', 'no', 'idea', 'about', 'how', 'to', 'claim', 'them', 'Proper', 'awareness', 'camps', 'need', 'to', 'be', 'set', 'up', 'to', 'help', 'these', 'smalltime', 'food', 'vendors', 'to', 'know', 'how', 'they', 'can', 'get', 'assistance', 'and', 'help', 'from', 'the', 'government', 'and', 'return', 'back', 'to', 'the', 'business', 'When', 'Covid', 'was', 'an', 'unknown', 'word', 'these', 'shopkeepers', 'and', 'vendors', 'brought', 'the', 'taste', 'to', 'our', 'mouth', 'gave', 'us', 'memories', 'to', 'live', 'for', 'filled', 'our', 'bellies', 'and', 'quenched', 'our', 'thirst', 'when', 'we', 'needed', 'them', 'It’s', 'time', 'to', 'provide', 'them', 'with', 'a', 'hand', 'now', 'when', 'they', 'need', 'it', 'Blackcoffer', 'Insights', '34', 'Sarthak', 'Satyabrata', 'Mishra', 'and', 'Abhijit', 'Kundu', 'Symbiosis', 'Institute', 'of', 'Management', 'Studies', 'Pune']\n"
     ]
    }
   ],
   "source": [
    "content=soup.findAll(attrs={'class':'td-post-content'})\n",
    "content=content[0].text.replace('\\n',\" \")\n",
    "print(content)\n",
    "#Punctuation\n",
    "content = content.translate(str.maketrans('', '', string.punctuation)) \n",
    "print(content)\n",
    "text = content.split()\n",
    "print(text)\n"
   ]
  },
  {
   "cell_type": "code",
   "execution_count": 4,
   "id": "2f9bb383",
   "metadata": {},
   "outputs": [
    {
     "data": {
      "text/plain": [
       "1065"
      ]
     },
     "execution_count": 4,
     "metadata": {},
     "output_type": "execute_result"
    }
   ],
   "source": [
    "len(text)"
   ]
  },
  {
   "cell_type": "code",
   "execution_count": 5,
   "id": "d492b936",
   "metadata": {},
   "outputs": [
    {
     "name": "stdout",
     "output_type": "stream",
     "text": [
      "36\n"
     ]
    }
   ],
   "source": [
    "#Positive Score \n",
    "with open(r\"C:\\Users\\Om Bhandwalkar\\Desktop\\pos\\positive-words.txt\") as pos:\n",
    "    poswords = pos.read().split(\"\\n\")  \n",
    "    poswords = poswords[5:]\n",
    "pos_count = \" \".join ([w for w in text if w in poswords])\n",
    "pos_count=pos_count.split(\" \")\n",
    "Positive_score=len(pos_count)\n",
    "print(Positive_score)"
   ]
  },
  {
   "cell_type": "code",
   "execution_count": 6,
   "id": "39452a1f",
   "metadata": {},
   "outputs": [
    {
     "name": "stdout",
     "output_type": "stream",
     "text": [
      "30\n"
     ]
    }
   ],
   "source": [
    "#Negative Score\n",
    "with open(r\"C:\\Users\\Om Bhandwalkar\\Desktop\\pos\\negative-words.txt\",encoding =\"ISO-8859-1\") as neg:\n",
    "    negwords = neg.read().split(\"\\n\")\n",
    "    \n",
    "negwords = negwords[36:]\n",
    "neg_count = \" \".join ([w for w in text if w in negwords])\n",
    "neg_count=neg_count.split(\" \")\n",
    "Negative_score=len(neg_count)\n",
    "print(Negative_score)"
   ]
  },
  {
   "cell_type": "code",
   "execution_count": 7,
   "id": "b85893d3",
   "metadata": {},
   "outputs": [
    {
     "data": {
      "text/html": [
       "<div>\n",
       "<style scoped>\n",
       "    .dataframe tbody tr th:only-of-type {\n",
       "        vertical-align: middle;\n",
       "    }\n",
       "\n",
       "    .dataframe tbody tr th {\n",
       "        vertical-align: top;\n",
       "    }\n",
       "\n",
       "    .dataframe thead th {\n",
       "        text-align: right;\n",
       "    }\n",
       "</style>\n",
       "<table border=\"1\" class=\"dataframe\">\n",
       "  <thead>\n",
       "    <tr style=\"text-align: right;\">\n",
       "      <th></th>\n",
       "      <th>url</th>\n",
       "      <th>title</th>\n",
       "      <th>content</th>\n",
       "      <th>filter_content</th>\n",
       "      <th>Positive_Score</th>\n",
       "      <th>Negative_Score</th>\n",
       "      <th>polarity</th>\n",
       "      <th>subjectivity</th>\n",
       "    </tr>\n",
       "  </thead>\n",
       "  <tbody>\n",
       "    <tr>\n",
       "      <th>0</th>\n",
       "      <td>https://insights.blackcoffer.com/impacts-of-co...</td>\n",
       "      <td>Impacts of COVID 19 on Streets Sides Food Stalls</td>\n",
       "      <td>Petty Entrepreneurs like Streetside Food Stal...</td>\n",
       "      <td>Petty Entrepreneurs like Streetside Food Stall...</td>\n",
       "      <td>36</td>\n",
       "      <td>30</td>\n",
       "      <td>0.094753</td>\n",
       "      <td>0.442444</td>\n",
       "    </tr>\n",
       "  </tbody>\n",
       "</table>\n",
       "</div>"
      ],
      "text/plain": [
       "                                                 url  \\\n",
       "0  https://insights.blackcoffer.com/impacts-of-co...   \n",
       "\n",
       "                                              title  \\\n",
       "0  Impacts of COVID 19 on Streets Sides Food Stalls   \n",
       "\n",
       "                                             content  \\\n",
       "0   Petty Entrepreneurs like Streetside Food Stal...   \n",
       "\n",
       "                                      filter_content  Positive_Score  \\\n",
       "0  Petty Entrepreneurs like Streetside Food Stall...              36   \n",
       "\n",
       "   Negative_Score  polarity  subjectivity  \n",
       "0              30  0.094753      0.442444  "
      ]
     },
     "execution_count": 7,
     "metadata": {},
     "output_type": "execute_result"
    }
   ],
   "source": [
    "filter_content = ' '.join(text)\n",
    "data=[[url,title,content,filter_content,Positive_score,Negative_score]]\n",
    "data=pd.DataFrame(data,columns=[\"url\",\"title\",\"content\",\"filter_content\",\"Positive_Score\",\"Negative_Score\"])\n",
    "from textblob import TextBlob\n",
    "# Get The Subjectivity\n",
    "def sentiment_analysis(data):\n",
    "    sentiment = TextBlob(data[\"content\"]).sentiment\n",
    "    return pd.Series([sentiment.polarity,sentiment.subjectivity ])\n",
    "\n",
    "# Adding Subjectivity & Polarity\n",
    "data[[\"polarity\", \"subjectivity\"]] = data.apply(sentiment_analysis, axis=1)\n",
    "\n",
    "data"
   ]
  },
  {
   "cell_type": "code",
   "execution_count": 8,
   "id": "8d0e0acb",
   "metadata": {},
   "outputs": [
    {
     "name": "stdout",
     "output_type": "stream",
     "text": [
      "Word average = 5355.0\n",
      "FOG INDEX =  429.91\n",
      "Average no of words per sentence\n",
      "1065.0\n",
      "Complex Words 1860\n"
     ]
    }
   ],
   "source": [
    "#AVG SENTENCE LENGTH\n",
    "AVG_SENTENCE_LENGTH = len(content.replace(' ',''))/len(re.split(r'[?!.]', content))\n",
    "print('Word average =', AVG_SENTENCE_LENGTH)\n",
    "import textstat\n",
    "#Fog index \n",
    "FOG_INDEX=(textstat.gunning_fog(content))\n",
    "print(\"FOG INDEX = \",FOG_INDEX)\n",
    "#Average No of Words Per Sentence \n",
    "AVG_NUMBER_OF_WORDS_PER_SENTENCE = [len(l.split()) for l in re.split(r'[?!.]', content) if l.strip()]\n",
    "print(\"Average no of words per sentence\")\n",
    "AVG_NUMBER_OF_WORDS_PER_SENTENCE=print(sum(AVG_NUMBER_OF_WORDS_PER_SENTENCE)/len(AVG_NUMBER_OF_WORDS_PER_SENTENCE))\n",
    "#Complex words\n",
    "def syllable_count(word):\n",
    "    count = 0\n",
    "    vowels = \"AEIOUYaeiouy\"\n",
    "    if word[0] in vowels:\n",
    "        count += 1\n",
    "    for index in range(1, len(word)): \n",
    "        if word[index] in vowels and word[index - 1] not in vowels:\n",
    "            count += 1\n",
    "            if word.endswith(\"es\"or \"ed\"):\n",
    "                count -= 1\n",
    "    if count == 0:\n",
    "        count += 1\n",
    "    return count\n",
    "\n",
    "\n",
    "\n",
    "COMPLEX_WORDS=syllable_count(content)\n",
    "print(\"Complex Words\",COMPLEX_WORDS)\n"
   ]
  },
  {
   "cell_type": "code",
   "execution_count": 9,
   "id": "60ce8460",
   "metadata": {},
   "outputs": [
    {
     "name": "stdout",
     "output_type": "stream",
     "text": [
      "Word Count 6421\n",
      "Percentage of Complex Words 28.967450552873387\n",
      "Average Word per Length 5.028169014084507\n",
      "The AVG number of syllables in the word is: \n",
      "1.9821596244131456\n",
      "Word Count 6421\n",
      "Percentage of Complex Words 28.967450552873387\n",
      "Average Word per Length 5.028169014084507\n",
      "The AVG number of syllables in the word is: \n",
      "1.9821596244131456\n"
     ]
    }
   ],
   "source": [
    "#Word Count\n",
    "Word_Count=len(content)\n",
    "print(\"Word Count\",Word_Count)\n",
    "#Percentage Complex Words\n",
    "pcw=(COMPLEX_WORDS/Word_Count)*100\n",
    "print(\"Percentage of Complex Words\",pcw)\n",
    "#Average Word Length\n",
    "Average_Word_Length=len(content.replace(' ',''))/len(content.split())\n",
    "print(\"Average Word per Length\",Average_Word_Length)\n",
    "#Syllable Count Per Word\n",
    "word=content.replace(' ','')\n",
    "syllable_count=0\n",
    "for w in word:\n",
    "      if(w=='a' or w=='e' or w=='i' or w=='o' or w=='y' or w=='u' or w=='A' or w=='E' or w=='I' or w=='O' or w=='U' or w=='Y'):\n",
    "            syllable_count=syllable_count+1\n",
    "print(\"The AVG number of syllables in the word is: \")\n",
    "print(syllable_count/len(content.split()))#Word Count\n",
    "Word_Count=len(content)\n",
    "print(\"Word Count\",Word_Count)\n",
    "#Percentage Complex Words\n",
    "pcw=(COMPLEX_WORDS/Word_Count)*100\n",
    "print(\"Percentage of Complex Words\",pcw)\n",
    "#Average Word Length\n",
    "Average_Word_Length=len(content.replace(' ',''))/len(content.split())\n",
    "print(\"Average Word per Length\",Average_Word_Length)\n",
    "#Syllable Count Per Word\n",
    "word=content.replace(' ','')\n",
    "syllable_count=0\n",
    "for w in word:\n",
    "      if(w=='a' or w=='e' or w=='i' or w=='o' or w=='y' or w=='u' or w=='A' or w=='E' or w=='I' or w=='O' or w=='U' or w=='Y'):\n",
    "            syllable_count=syllable_count+1\n",
    "print(\"The AVG number of syllables in the word is: \")\n",
    "print(syllable_count/len(content.split()))"
   ]
  },
  {
   "cell_type": "code",
   "execution_count": 1,
   "id": "f16f8350",
   "metadata": {},
   "outputs": [
    {
     "name": "stdout",
     "output_type": "stream",
     "text": [
      "36\n",
      "30\n",
      "Word average = 5355.0\n",
      "FOG INDEX =  429.91\n",
      "Average no of words per sentence\n",
      "1065.0\n",
      "Complex Words 1860\n",
      "Word Count 6421\n",
      "Percentage of Complex Words 28.967450552873387\n",
      "Average Word per Length 5.028169014084507\n",
      "The AVG number of syllables in the word is: \n",
      "1.9821596244131456\n"
     ]
    },
    {
     "data": {
      "text/html": [
       "<div>\n",
       "<style scoped>\n",
       "    .dataframe tbody tr th:only-of-type {\n",
       "        vertical-align: middle;\n",
       "    }\n",
       "\n",
       "    .dataframe tbody tr th {\n",
       "        vertical-align: top;\n",
       "    }\n",
       "\n",
       "    .dataframe thead th {\n",
       "        text-align: right;\n",
       "    }\n",
       "</style>\n",
       "<table border=\"1\" class=\"dataframe\">\n",
       "  <thead>\n",
       "    <tr style=\"text-align: right;\">\n",
       "      <th></th>\n",
       "      <th>url</th>\n",
       "      <th>title</th>\n",
       "      <th>content</th>\n",
       "      <th>filter_content</th>\n",
       "      <th>Positive_Score</th>\n",
       "      <th>Negative_Score</th>\n",
       "      <th>Avg_Sentence_Length</th>\n",
       "      <th>Percentage_Complex_Word</th>\n",
       "      <th>Fog_Index</th>\n",
       "      <th>AVG_NUMBER_OF_WORDS_PER_SENTENCE</th>\n",
       "      <th>COMPLEX_WORDS</th>\n",
       "      <th>Word_Count</th>\n",
       "      <th>syllable</th>\n",
       "      <th>Average_Word_Length</th>\n",
       "      <th>polarity</th>\n",
       "      <th>subjectivity</th>\n",
       "    </tr>\n",
       "  </thead>\n",
       "  <tbody>\n",
       "    <tr>\n",
       "      <th>0</th>\n",
       "      <td>https://insights.blackcoffer.com/impacts-of-co...</td>\n",
       "      <td>Impacts of COVID 19 on Streets Sides Food Stalls</td>\n",
       "      <td>Petty Entrepreneurs like Streetside Food Stal...</td>\n",
       "      <td>Petty Entrepreneurs like Streetside Food Stall...</td>\n",
       "      <td>36</td>\n",
       "      <td>30</td>\n",
       "      <td>5355.0</td>\n",
       "      <td>28.967451</td>\n",
       "      <td>429.91</td>\n",
       "      <td>1065.0</td>\n",
       "      <td>1860</td>\n",
       "      <td>6421</td>\n",
       "      <td>1.98216</td>\n",
       "      <td>5.028169</td>\n",
       "      <td>0.094753</td>\n",
       "      <td>0.442444</td>\n",
       "    </tr>\n",
       "  </tbody>\n",
       "</table>\n",
       "</div>"
      ],
      "text/plain": [
       "                                                 url  \\\n",
       "0  https://insights.blackcoffer.com/impacts-of-co...   \n",
       "\n",
       "                                              title  \\\n",
       "0  Impacts of COVID 19 on Streets Sides Food Stalls   \n",
       "\n",
       "                                             content  \\\n",
       "0   Petty Entrepreneurs like Streetside Food Stal...   \n",
       "\n",
       "                                      filter_content  Positive_Score  \\\n",
       "0  Petty Entrepreneurs like Streetside Food Stall...              36   \n",
       "\n",
       "   Negative_Score  Avg_Sentence_Length  Percentage_Complex_Word  Fog_Index  \\\n",
       "0              30               5355.0                28.967451     429.91   \n",
       "\n",
       "    AVG_NUMBER_OF_WORDS_PER_SENTENCE  COMPLEX_WORDS  Word_Count  syllable  \\\n",
       "0                             1065.0           1860        6421   1.98216   \n",
       "\n",
       "   Average_Word_Length  polarity  subjectivity  \n",
       "0             5.028169  0.094753      0.442444  "
      ]
     },
     "execution_count": 1,
     "metadata": {},
     "output_type": "execute_result"
    }
   ],
   "source": [
    "import requests\n",
    "import pandas as pd \n",
    "from bs4 import BeautifulSoup\n",
    "import string\n",
    "import spacy\n",
    "import re\n",
    "url = \"\"\"https://insights.blackcoffer.com/impacts-of-covid-19-on-streets-sides-food-stalls/\"\"\"\n",
    "headers = {\"User-Agent\": \"Mozilla/5.0 (X11; Linux x86_64; rv:60.0) Gecko/20100101 Firefox/60.0\"}\n",
    "page = requests.get(url, headers=headers)\n",
    "soup = BeautifulSoup(page.content, 'html.parser')\n",
    "soup=BeautifulSoup(page.content, 'html.parser')\n",
    "title=soup.find('h1',class_=\"entry-title\")\n",
    "title=title.text.replace('\\n',\" \")\n",
    "# title\n",
    "\n",
    "content=soup.findAll(attrs={'class':'td-post-content'})\n",
    "content=content[0].text.replace('\\n',\" \")\n",
    "# print(content)\n",
    "#Punctuation\n",
    "content = content.translate(str.maketrans('', '', string.punctuation)) \n",
    "# print(content)\n",
    "text = content.split()\n",
    "# print(text)\n",
    "len(text)\n",
    "#Positive Score \n",
    "with open(r\"C:\\Users\\Om Bhandwalkar\\Desktop\\pos\\positive-words.txt\") as pos:\n",
    "    poswords = pos.read().split(\"\\n\")  \n",
    "    poswords = poswords[5:]\n",
    "pos_count = \" \".join ([w for w in text if w in poswords])\n",
    "pos_count=pos_count.split(\" \")\n",
    "Positive_score=len(pos_count)\n",
    "print(Positive_score)\n",
    "\n",
    "#Negative Score\n",
    "with open(r\"C:\\Users\\Om Bhandwalkar\\Desktop\\pos\\negative-words.txt\",encoding =\"ISO-8859-1\") as neg:\n",
    "    negwords = neg.read().split(\"\\n\")\n",
    "    \n",
    "negwords = negwords[36:]\n",
    "neg_count = \" \".join ([w for w in text if w in negwords])\n",
    "neg_count=neg_count.split(\" \")\n",
    "Negative_score=len(neg_count)\n",
    "print(Negative_score)\n",
    "\n",
    "\n",
    "filter_content = ' '.join(text)\n",
    "data=[[url,title,content,filter_content,Positive_score,Negative_score]]\n",
    "data=pd.DataFrame(data,columns=[\"url\",\"title\",\"content\",\"filter_content\",\"Positive_Score\",\"Negative_Score\"])\n",
    "from textblob import TextBlob\n",
    "# Get The Subjectivity\n",
    "def sentiment_analysis(data):\n",
    "    sentiment = TextBlob(data[\"content\"]).sentiment\n",
    "    return pd.Series([sentiment.polarity,sentiment.subjectivity ])\n",
    "data[[\"polarity\", \"subjectivity\"]] = data.apply(sentiment_analysis, axis=1)\n",
    "data\n",
    "#AVG SENTENCE LENGTH\n",
    "AVG_SENTENCE_LENGTH = len(content.replace(' ',''))/len(re.split(r'[?!.]', content))\n",
    "print('Word average =', AVG_SENTENCE_LENGTH)\n",
    "import textstat\n",
    "#Fog index \n",
    "FOG_INDEX=(textstat.gunning_fog(content))\n",
    "print(\"FOG INDEX = \",FOG_INDEX)\n",
    "#Average No of Words Per Sentence \n",
    "AVG_NUMBER_OF_WORDS_PER_SENTENCE = [len(l.split()) for l in re.split(r'[?!.]', content) if l.strip()]\n",
    "print(\"Average no of words per sentence\")\n",
    "AVG_NUMBER_OF_WORDS_PER_SENTENCE=(sum(AVG_NUMBER_OF_WORDS_PER_SENTENCE)/len(AVG_NUMBER_OF_WORDS_PER_SENTENCE))\n",
    "print(AVG_NUMBER_OF_WORDS_PER_SENTENCE)\n",
    "#Complex words\n",
    "def syllable_count(word):\n",
    "    count = 0\n",
    "    vowels = \"AEIOUYaeiouy\"\n",
    "    if word[0] in vowels:\n",
    "        count += 1\n",
    "    for index in range(1, len(word)): \n",
    "        if word[index] in vowels and word[index - 1] not in vowels:\n",
    "            count += 1\n",
    "            if word.endswith(\"es\"or \"ed\"):\n",
    "                count -= 1\n",
    "    if count == 0:\n",
    "        count += 1\n",
    "    return count\n",
    "\n",
    "\n",
    "\n",
    "COMPLEX_WORDS=syllable_count(content)\n",
    "print(\"Complex Words\",COMPLEX_WORDS)\n",
    "#Word Count\n",
    "Word_Count=len(content)\n",
    "print(\"Word Count\",Word_Count)\n",
    "#Percentage Complex Words\n",
    "pcw=(COMPLEX_WORDS/Word_Count)*100\n",
    "print(\"Percentage of Complex Words\",pcw)\n",
    "#Average Word Length\n",
    "Average_Word_Length=len(content.replace(' ',''))/len(content.split())\n",
    "print(\"Average Word per Length\",Average_Word_Length)\n",
    "#Syllable Count Per Word\n",
    "word=content.replace(' ','')\n",
    "syllable_count=0\n",
    "for w in word:\n",
    "      if(w=='a' or w=='e' or w=='i' or w=='o' or w=='y' or w=='u' or w=='A' or w=='E' or w=='I' or w=='O' or w=='U' or w=='Y'):\n",
    "            syllable_count=syllable_count+1\n",
    "print(\"The AVG number of syllables in the word is: \")\n",
    "syllable = (syllable_count/len(content.split()))\n",
    "print(syllable)\n",
    "\n",
    "data = [[url,title,content,filter_content,Positive_score,Negative_score,AVG_SENTENCE_LENGTH,pcw,FOG_INDEX,\n",
    "         AVG_NUMBER_OF_WORDS_PER_SENTENCE,COMPLEX_WORDS,Word_Count,syllable,Average_Word_Length]]\n",
    "data=pd.DataFrame(data,columns=[\"url\",\"title\",\"content\",\"filter_content\",\"Positive_Score\",\"Negative_Score\",\"Avg_Sentence_Length\"\n",
    "                               ,\"Percentage_Complex_Word\",\"Fog_Index\",\" AVG_NUMBER_OF_WORDS_PER_SENTENCE\",\"COMPLEX_WORDS\",\n",
    "                               \"Word_Count\",\"syllable\",\"Average_Word_Length\"])\n",
    "from textblob import TextBlob\n",
    "# Get The Subjectivity\n",
    "def sentiment_analysis(data):\n",
    "    sentiment = TextBlob(data[\"content\"]).sentiment\n",
    "    return pd.Series([sentiment.polarity,sentiment.subjectivity ])\n",
    "data[[\"polarity\", \"subjectivity\"]] = data.apply(sentiment_analysis, axis=1)\n",
    "data"
   ]
  },
  {
   "cell_type": "code",
   "execution_count": 2,
   "id": "9585a1a3",
   "metadata": {},
   "outputs": [],
   "source": [
    "data.to_csv(r'C:\\Users\\Om Bhandwalkar\\Desktop\\BlackCoffer Assignment\\Output\\url_95.csv')"
   ]
  },
  {
   "cell_type": "code",
   "execution_count": null,
   "id": "3ccc7283",
   "metadata": {},
   "outputs": [],
   "source": []
  }
 ],
 "metadata": {
  "kernelspec": {
   "display_name": "Python 3 (ipykernel)",
   "language": "python",
   "name": "python3"
  },
  "language_info": {
   "codemirror_mode": {
    "name": "ipython",
    "version": 3
   },
   "file_extension": ".py",
   "mimetype": "text/x-python",
   "name": "python",
   "nbconvert_exporter": "python",
   "pygments_lexer": "ipython3",
   "version": "3.9.12"
  }
 },
 "nbformat": 4,
 "nbformat_minor": 5
}
