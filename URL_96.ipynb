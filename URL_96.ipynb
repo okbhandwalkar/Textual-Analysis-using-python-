{
 "cells": [
  {
   "cell_type": "code",
   "execution_count": 1,
   "id": "fe9093a6",
   "metadata": {},
   "outputs": [
    {
     "data": {
      "text/plain": [
       "'Coronavirus impact on energy markets'"
      ]
     },
     "execution_count": 1,
     "metadata": {},
     "output_type": "execute_result"
    }
   ],
   "source": [
    "import requests\n",
    "import pandas as pd \n",
    "from bs4 import BeautifulSoup\n",
    "import string\n",
    "import spacy\n",
    "import re\n",
    "url = \"\"\"https://insights.blackcoffer.com/coronavirus-impact-on-energy-markets-2/\"\"\"\n",
    "headers = {\"User-Agent\": \"Mozilla/5.0 (X11; Linux x86_64; rv:60.0) Gecko/20100101 Firefox/60.0\"}\n",
    "page = requests.get(url, headers=headers)\n",
    "soup = BeautifulSoup(page.content, 'html.parser')\n",
    "soup=BeautifulSoup(page.content, 'html.parser')\n",
    "title=soup.find('h1',class_=\"entry-title\")\n",
    "title=title.text.replace('\\n',\" \")\n",
    "title\n"
   ]
  },
  {
   "cell_type": "code",
   "execution_count": 2,
   "id": "7a2dbe50",
   "metadata": {},
   "outputs": [
    {
     "name": "stdout",
     "output_type": "stream",
     "text": [
      " The coronavirus, also known as COVID-19, is not only a global public health emergency but also a source of significant regional and increasingly global economic disruption. This impacts the energy and climate world in many ways. The economic downturn puts pressure on global oil prices leading the Organization of Petroleum Exporting Countries (OPEC) to consider further cuts to production. It hurts the demand for natural gas during a time of extremely low prices. It changes the economic, energy, and climate policymaking environment in China, one of the most consequential energy consumers and sources of greenhouse gas emissions. And it has temporarily disrupted supply chains throughout the energy industry, including renewable energy, at a time when supply chain connections with China were being revaluated due to ongoing tariff and trade disputes. How consequential or transformative any of these changes are for the energy sector or for climate efforts will depend upon the ultimate trajectory of the virus outbreak itself — Sarah Ladislaw, Senior Vice President and Director, Energy Security and Climate Change Program The energy sector has already felt the impacts of the coronavirus. The outbreak has contributed to a dampened demand for oil, resulting in plummeting oil prices and production declines. As we move forward, then, the energy sector expects to face two headwinds: managing the issues of the health emergency all sectors face, and simultaneously coping with a low oil-price scenario, lower demand and the need to shore up revenue and manage debt obligations.                                IMPACT OF COVID-19 ON INDIAN ENERGY MARKETS In India, distribution utilities have a lower tariff for domestic and agricultural consumers, sometimes even below the average cost of supply, as compared to that for commercial and industrial consumers. Table 1 provides the electricity tariff rates in Delhi for selected consumer categories to highlight these differences. Thus, for several distribution companies, the lower tariff-paying consumers are cross-subsidized by commercial and industrial consumers. CategoryFixed Charge (₹ /KVA/Month)Energy Charge (₹ /KWh)Industrial2507.75Single point delivery supply for Group Housing Societies1504.50Agriculture1251.50Table: Electricity Tariff Schedule for FY(2019-20) – Delhi Electricity Regulatory Commission (DERC)  The COVID-19 lockdown has led to shut down of all but essential commercial activities across the country. Approximately 1.3 billion citizens are obliged to remain within the confines of their homes and, in many cases, only allowed to work from home. Consequently, the electricity demand from industrial and, commercial customers has reduced significantly while the residential demand is expected to have increased. According to the Power System Operation Corporation of India (POSOCO), The energy met on March 16th, 2020 – which can be considered as a business-as-usual scenario – was 3494 MU as compared to 3113 MU on March 23rd, 2020 a day of voluntary curfew. It further reduced to a range between 2600-2800 MU between March 25th to March 31st, 2020. This trend is illustrated in the below Figure 1. Figure1: Daily energy met (MU) Thus, firstly, a key risk from the COVID-19 pandemic for the already struggling distribution companies in India arises from the loss of revenues due to the reduction of demand from the commercial and industrial customers as well as the inability to cover the cross-subsidies provided to the lower-tariff paying consumer. Secondly, the utilities would also have to account for the expense to comply with any ‘must buy’ commitments that they have with generators with long-term power purchase agreements. The true and full extent of this risk would only be known once a quantitative analysis is conducted when this crisis situation is contained. Thirdly, at an operational level, distribution companies would have to account for deviation in demand and supply patterns at a temporal and locational level. Finally, during this period, critical infrastructure such as electricity networks would have to be run with minimum employees. COVID-19 impact on the power market As seen in Figure 1, the trade on the wholesale power market comprises just 4.3 percent of the total electricity transactions. However, the transactions through the power exchanges have grown over the last decade. The Indian Energy Exchange (IEX) has seen a growth from 2616 MU in FY 2009 to 52,241 in FY 2019. Figure2: Share of market segments in total electricity generation 2018-19 (Source: CERC)   Until now, the trade in the wholesale market is in four market segments: 1) Day-Ahead Market  2) Term Ahead Market  3) Renewable Energy Certificates 4) Energy-saving certificates.  Recently, the Central Electricity Regulatory Commission (CERC) finalized the regulations for implementing real-time markets. This half-hourly market will enable the intra-day trade of electricity, allowing adjustment of generation and consumption profile during the day. Before the COVID-19 pandemic, it was announced by CERC that the real-time market would be operational from April 1st, 2020. However, the starting date has now been delayed by two months to June 1st, 2020. According to media reports, due to the COVID-19 pandemic, some required trials could not be completed. This delay in the real-time market implementation is likely to have a serious, adverse impact on the Indian power market. Another impact of the COVID-19 pandemic on the power markets is in terms of the market dynamic. It can be observed that there is a dip in the clearing volume and the market-clearing price, which coincides with the gradually increasing shutdown measures taken by the government as a response to COVID-19 (See Figure 2). Thus, the reduction in demand due to the lockdown is reflected in the volumes traded on the electricity market and the clearing price. Another point of reference is the price and clearing volume in 2019. On March 22nd, 2020, the day of voluntary lockdown, the clearing volume was 97.05 GWh, and the clearing price was 2195.48 ₹ /MWh. In comparison, on the same day in 2019, the clearing volume was 107.98 GWh, and the clearing price was 2816.18 ₹ /MWh. From the start of the lockdown, from March 25nd to April 1st 2020, the average clearing volume was 104.27 GWh compared to 130.24 GWh in 2019 during the same period. Similarly, the average market clearing price was 2155.93 ₹ /MWh in 2020 as compared to 3371.025 ₹ /MWh in 2019 for the same period.                               VIEWS OF THE SHAREHOLDERS IN INDIA The lockdown has resulted in a shutdown of the industrial and commercial establishments and the stoppage of passenger railway services. This has adversely impacted the all India electricity demand, given that these segments constitute about 40% of the all India electricity demand, a statement issued by the rating firm said. Further, these segments account for an even greater percentage of the Discoms sales revenues given that they are the subsidizing segments. This apart, with the focus of state governments being on healthcare and relief measures, the likelihood of subsidy support to the Discoms getting deferred cannot be ruled out, it added. ICRA Ratings Group Head and Senior Vice President – Corporate ratings Sabyasachi Majumdar said, “The lockdown imposed by the government is likely to adversely impact the all India electricity demand, with demand expected to decline by about 20-25% on a year-on-year basis during the period of lockdown. This would in turn adversely impact the revenues and cash collections for distribution utilities in the near term, especially given the consumption decline from the high tariff paying industrial and commercial consumers and likely delays in cash collections from other consumer segments. The revenue deficit for the Discoms is estimated to be about Rs. 130 billion per month, on an all India basis. This would in turn adversely impact the liquidity profile of the Discoms, increase their subsidy requirement, and lead to delays in payments to the power generation and transmission companies.”The power ministry on Friday issued directors to the Central Electricity Regulatory Commission to provide a moratorium of three months to Discoms on payments to power generation and transmission companies. The power ministry on Friday issued directors to the Central Electricity Regulatory Commission to provide a moratorium of three months to Discoms on payments to power generation and transmission companies and requested state governments to issue similar directions to state electricity regulators. The power generation companies are already suffering delays in payments by Discoms across the majority of states, with payment due of more than Rs 85000 crore as of November 2019 at all India level as per the data on PRAAPTI portal. With COVID-19 lockdown accentuating the delays in payments, the availability of adequate liquidity buffer in the form of debt service reserve and undrawn working capital limits remains important from a credit perspective. However, it said that relief measures such as a moratorium on debt servicing over a 3-month period as notified by Reserve Bank of India and expected moderation in the interest rate cycle would be a source of comfort in the near term. The timely approval of the moratorium by the boards of the banks and financial institutions remains crucial. The revenues for power generation companies having long-term power purchase agreements (PPAs) with the state distribution utilities (Discoms) will be protected by the provision for capacity charges linked to plant availability in case of thermal and large hydropower projects and “must-run” status in case of nuclear and renewable power projects.Average monthly thermal PLF would further dip to 50-52% against 63% in the corresponding period of the previous year, due to a considerable drop in demand and consequently, power generation companies especially those without any long-term PPAs would be adversely impacted given the weakening of the power tariffs in the short-term / power exchange market, said ICRA Ratings Sector Head & Vice President GirishkumarKadam.The under-construction renewable power projects as well as EPC and manufacturing companies in the solar segment are likely to face execution delays because of disruption in the supply chain in India and labor availability, following the lockdown. Given the import dependency on China for sourcing PV modules, the execution timelines for the ongoing solar projects are likely to be affected by delays in the delivery of PV modules following the outbreak of COVID 19 in China. This delay in turn would increase the pre-operative expenses and the overall project cost, which in turn would have an impact on the expected returns. In this context, the MNRE has notified that time extension can be provided for all renewable energy projects, which are impacted by the supply chain disruption due to the COVID outbreak, under the force majeure clause. “Given the execution headwinds amid COVID 19 affecting Q1 of FY2020-21 and assuming the normalcy thereafter, the capacity addition in the wind and solar segments together is likely to degrow by about 25%, thus estimated at about 8 GW against earlier estimates of 11 GW in FY2020-21,” said Kadam.  Figure: Cleared Volume (above) and Market Clearing price (below) for IEX between March 17th – April 1st, 2020.  Blackcoffer Insights 17: T.Pragyna, ECE Gitam University \n",
      " The coronavirus also known as COVID19 is not only a global public health emergency but also a source of significant regional and increasingly global economic disruption This impacts the energy and climate world in many ways The economic downturn puts pressure on global oil prices leading the Organization of Petroleum Exporting Countries OPEC to consider further cuts to production It hurts the demand for natural gas during a time of extremely low prices It changes the economic energy and climate policymaking environment in China one of the most consequential energy consumers and sources of greenhouse gas emissions And it has temporarily disrupted supply chains throughout the energy industry including renewable energy at a time when supply chain connections with China were being revaluated due to ongoing tariff and trade disputes How consequential or transformative any of these changes are for the energy sector or for climate efforts will depend upon the ultimate trajectory of the virus outbreak itself — Sarah Ladislaw Senior Vice President and Director Energy Security and Climate Change Program The energy sector has already felt the impacts of the coronavirus The outbreak has contributed to a dampened demand for oil resulting in plummeting oil prices and production declines As we move forward then the energy sector expects to face two headwinds managing the issues of the health emergency all sectors face and simultaneously coping with a low oilprice scenario lower demand and the need to shore up revenue and manage debt obligations                                IMPACT OF COVID19 ON INDIAN ENERGY MARKETS In India distribution utilities have a lower tariff for domestic and agricultural consumers sometimes even below the average cost of supply as compared to that for commercial and industrial consumers Table 1 provides the electricity tariff rates in Delhi for selected consumer categories to highlight these differences Thus for several distribution companies the lower tariffpaying consumers are crosssubsidized by commercial and industrial consumers CategoryFixed Charge ₹ KVAMonthEnergy Charge ₹ KWhIndustrial250775Single point delivery supply for Group Housing Societies150450Agriculture125150Table Electricity Tariff Schedule for FY201920 – Delhi Electricity Regulatory Commission DERC  The COVID19 lockdown has led to shut down of all but essential commercial activities across the country Approximately 13 billion citizens are obliged to remain within the confines of their homes and in many cases only allowed to work from home Consequently the electricity demand from industrial and commercial customers has reduced significantly while the residential demand is expected to have increased According to the Power System Operation Corporation of India POSOCO The energy met on March 16th 2020 – which can be considered as a businessasusual scenario – was 3494 MU as compared to 3113 MU on March 23rd 2020 a day of voluntary curfew It further reduced to a range between 26002800 MU between March 25th to March 31st 2020 This trend is illustrated in the below Figure 1 Figure1 Daily energy met MU Thus firstly a key risk from the COVID19 pandemic for the already struggling distribution companies in India arises from the loss of revenues due to the reduction of demand from the commercial and industrial customers as well as the inability to cover the crosssubsidies provided to the lowertariff paying consumer Secondly the utilities would also have to account for the expense to comply with any ‘must buy’ commitments that they have with generators with longterm power purchase agreements The true and full extent of this risk would only be known once a quantitative analysis is conducted when this crisis situation is contained Thirdly at an operational level distribution companies would have to account for deviation in demand and supply patterns at a temporal and locational level Finally during this period critical infrastructure such as electricity networks would have to be run with minimum employees COVID19 impact on the power market As seen in Figure 1 the trade on the wholesale power market comprises just 43 percent of the total electricity transactions However the transactions through the power exchanges have grown over the last decade The Indian Energy Exchange IEX has seen a growth from 2616 MU in FY 2009 to 52241 in FY 2019 Figure2 Share of market segments in total electricity generation 201819 Source CERC   Until now the trade in the wholesale market is in four market segments 1 DayAhead Market  2 Term Ahead Market  3 Renewable Energy Certificates 4 Energysaving certificates  Recently the Central Electricity Regulatory Commission CERC finalized the regulations for implementing realtime markets This halfhourly market will enable the intraday trade of electricity allowing adjustment of generation and consumption profile during the day Before the COVID19 pandemic it was announced by CERC that the realtime market would be operational from April 1st 2020 However the starting date has now been delayed by two months to June 1st 2020 According to media reports due to the COVID19 pandemic some required trials could not be completed This delay in the realtime market implementation is likely to have a serious adverse impact on the Indian power market Another impact of the COVID19 pandemic on the power markets is in terms of the market dynamic It can be observed that there is a dip in the clearing volume and the marketclearing price which coincides with the gradually increasing shutdown measures taken by the government as a response to COVID19 See Figure 2 Thus the reduction in demand due to the lockdown is reflected in the volumes traded on the electricity market and the clearing price Another point of reference is the price and clearing volume in 2019 On March 22nd 2020 the day of voluntary lockdown the clearing volume was 9705 GWh and the clearing price was 219548 ₹ MWh In comparison on the same day in 2019 the clearing volume was 10798 GWh and the clearing price was 281618 ₹ MWh From the start of the lockdown from March 25nd to April 1st 2020 the average clearing volume was 10427 GWh compared to 13024 GWh in 2019 during the same period Similarly the average market clearing price was 215593 ₹ MWh in 2020 as compared to 3371025 ₹ MWh in 2019 for the same period                               VIEWS OF THE SHAREHOLDERS IN INDIA The lockdown has resulted in a shutdown of the industrial and commercial establishments and the stoppage of passenger railway services This has adversely impacted the all India electricity demand given that these segments constitute about 40 of the all India electricity demand a statement issued by the rating firm said Further these segments account for an even greater percentage of the Discoms sales revenues given that they are the subsidizing segments This apart with the focus of state governments being on healthcare and relief measures the likelihood of subsidy support to the Discoms getting deferred cannot be ruled out it added ICRA Ratings Group Head and Senior Vice President – Corporate ratings Sabyasachi Majumdar said “The lockdown imposed by the government is likely to adversely impact the all India electricity demand with demand expected to decline by about 2025 on a yearonyear basis during the period of lockdown This would in turn adversely impact the revenues and cash collections for distribution utilities in the near term especially given the consumption decline from the high tariff paying industrial and commercial consumers and likely delays in cash collections from other consumer segments The revenue deficit for the Discoms is estimated to be about Rs 130 billion per month on an all India basis This would in turn adversely impact the liquidity profile of the Discoms increase their subsidy requirement and lead to delays in payments to the power generation and transmission companies”The power ministry on Friday issued directors to the Central Electricity Regulatory Commission to provide a moratorium of three months to Discoms on payments to power generation and transmission companies The power ministry on Friday issued directors to the Central Electricity Regulatory Commission to provide a moratorium of three months to Discoms on payments to power generation and transmission companies and requested state governments to issue similar directions to state electricity regulators The power generation companies are already suffering delays in payments by Discoms across the majority of states with payment due of more than Rs 85000 crore as of November 2019 at all India level as per the data on PRAAPTI portal With COVID19 lockdown accentuating the delays in payments the availability of adequate liquidity buffer in the form of debt service reserve and undrawn working capital limits remains important from a credit perspective However it said that relief measures such as a moratorium on debt servicing over a 3month period as notified by Reserve Bank of India and expected moderation in the interest rate cycle would be a source of comfort in the near term The timely approval of the moratorium by the boards of the banks and financial institutions remains crucial The revenues for power generation companies having longterm power purchase agreements PPAs with the state distribution utilities Discoms will be protected by the provision for capacity charges linked to plant availability in case of thermal and large hydropower projects and “mustrun” status in case of nuclear and renewable power projectsAverage monthly thermal PLF would further dip to 5052 against 63 in the corresponding period of the previous year due to a considerable drop in demand and consequently power generation companies especially those without any longterm PPAs would be adversely impacted given the weakening of the power tariffs in the shortterm  power exchange market said ICRA Ratings Sector Head  Vice President GirishkumarKadamThe underconstruction renewable power projects as well as EPC and manufacturing companies in the solar segment are likely to face execution delays because of disruption in the supply chain in India and labor availability following the lockdown Given the import dependency on China for sourcing PV modules the execution timelines for the ongoing solar projects are likely to be affected by delays in the delivery of PV modules following the outbreak of COVID 19 in China This delay in turn would increase the preoperative expenses and the overall project cost which in turn would have an impact on the expected returns In this context the MNRE has notified that time extension can be provided for all renewable energy projects which are impacted by the supply chain disruption due to the COVID outbreak under the force majeure clause “Given the execution headwinds amid COVID 19 affecting Q1 of FY202021 and assuming the normalcy thereafter the capacity addition in the wind and solar segments together is likely to degrow by about 25 thus estimated at about 8 GW against earlier estimates of 11 GW in FY202021” said Kadam  Figure Cleared Volume above and Market Clearing price below for IEX between March 17th – April 1st 2020  Blackcoffer Insights 17 TPragyna ECE Gitam University \n",
      "['The', 'coronavirus', 'also', 'known', 'as', 'COVID19', 'is', 'not', 'only', 'a', 'global', 'public', 'health', 'emergency', 'but', 'also', 'a', 'source', 'of', 'significant', 'regional', 'and', 'increasingly', 'global', 'economic', 'disruption', 'This', 'impacts', 'the', 'energy', 'and', 'climate', 'world', 'in', 'many', 'ways', 'The', 'economic', 'downturn', 'puts', 'pressure', 'on', 'global', 'oil', 'prices', 'leading', 'the', 'Organization', 'of', 'Petroleum', 'Exporting', 'Countries', 'OPEC', 'to', 'consider', 'further', 'cuts', 'to', 'production', 'It', 'hurts', 'the', 'demand', 'for', 'natural', 'gas', 'during', 'a', 'time', 'of', 'extremely', 'low', 'prices', 'It', 'changes', 'the', 'economic', 'energy', 'and', 'climate', 'policymaking', 'environment', 'in', 'China', 'one', 'of', 'the', 'most', 'consequential', 'energy', 'consumers', 'and', 'sources', 'of', 'greenhouse', 'gas', 'emissions', 'And', 'it', 'has', 'temporarily', 'disrupted', 'supply', 'chains', 'throughout', 'the', 'energy', 'industry', 'including', 'renewable', 'energy', 'at', 'a', 'time', 'when', 'supply', 'chain', 'connections', 'with', 'China', 'were', 'being', 'revaluated', 'due', 'to', 'ongoing', 'tariff', 'and', 'trade', 'disputes', 'How', 'consequential', 'or', 'transformative', 'any', 'of', 'these', 'changes', 'are', 'for', 'the', 'energy', 'sector', 'or', 'for', 'climate', 'efforts', 'will', 'depend', 'upon', 'the', 'ultimate', 'trajectory', 'of', 'the', 'virus', 'outbreak', 'itself', '—', 'Sarah', 'Ladislaw', 'Senior', 'Vice', 'President', 'and', 'Director', 'Energy', 'Security', 'and', 'Climate', 'Change', 'Program', 'The', 'energy', 'sector', 'has', 'already', 'felt', 'the', 'impacts', 'of', 'the', 'coronavirus', 'The', 'outbreak', 'has', 'contributed', 'to', 'a', 'dampened', 'demand', 'for', 'oil', 'resulting', 'in', 'plummeting', 'oil', 'prices', 'and', 'production', 'declines', 'As', 'we', 'move', 'forward', 'then', 'the', 'energy', 'sector', 'expects', 'to', 'face', 'two', 'headwinds', 'managing', 'the', 'issues', 'of', 'the', 'health', 'emergency', 'all', 'sectors', 'face', 'and', 'simultaneously', 'coping', 'with', 'a', 'low', 'oilprice', 'scenario', 'lower', 'demand', 'and', 'the', 'need', 'to', 'shore', 'up', 'revenue', 'and', 'manage', 'debt', 'obligations', 'IMPACT', 'OF', 'COVID19', 'ON', 'INDIAN', 'ENERGY', 'MARKETS', 'In', 'India', 'distribution', 'utilities', 'have', 'a', 'lower', 'tariff', 'for', 'domestic', 'and', 'agricultural', 'consumers', 'sometimes', 'even', 'below', 'the', 'average', 'cost', 'of', 'supply', 'as', 'compared', 'to', 'that', 'for', 'commercial', 'and', 'industrial', 'consumers', 'Table', '1', 'provides', 'the', 'electricity', 'tariff', 'rates', 'in', 'Delhi', 'for', 'selected', 'consumer', 'categories', 'to', 'highlight', 'these', 'differences', 'Thus', 'for', 'several', 'distribution', 'companies', 'the', 'lower', 'tariffpaying', 'consumers', 'are', 'crosssubsidized', 'by', 'commercial', 'and', 'industrial', 'consumers', 'CategoryFixed', 'Charge', '₹', 'KVAMonthEnergy', 'Charge', '₹', 'KWhIndustrial250775Single', 'point', 'delivery', 'supply', 'for', 'Group', 'Housing', 'Societies150450Agriculture125150Table', 'Electricity', 'Tariff', 'Schedule', 'for', 'FY201920', '–', 'Delhi', 'Electricity', 'Regulatory', 'Commission', 'DERC', 'The', 'COVID19', 'lockdown', 'has', 'led', 'to', 'shut', 'down', 'of', 'all', 'but', 'essential', 'commercial', 'activities', 'across', 'the', 'country', 'Approximately', '13', 'billion', 'citizens', 'are', 'obliged', 'to', 'remain', 'within', 'the', 'confines', 'of', 'their', 'homes', 'and', 'in', 'many', 'cases', 'only', 'allowed', 'to', 'work', 'from', 'home', 'Consequently', 'the', 'electricity', 'demand', 'from', 'industrial', 'and', 'commercial', 'customers', 'has', 'reduced', 'significantly', 'while', 'the', 'residential', 'demand', 'is', 'expected', 'to', 'have', 'increased', 'According', 'to', 'the', 'Power', 'System', 'Operation', 'Corporation', 'of', 'India', 'POSOCO', 'The', 'energy', 'met', 'on', 'March', '16th', '2020', '–', 'which', 'can', 'be', 'considered', 'as', 'a', 'businessasusual', 'scenario', '–', 'was', '3494', 'MU', 'as', 'compared', 'to', '3113', 'MU', 'on', 'March', '23rd', '2020', 'a', 'day', 'of', 'voluntary', 'curfew', 'It', 'further', 'reduced', 'to', 'a', 'range', 'between', '26002800', 'MU', 'between', 'March', '25th', 'to', 'March', '31st', '2020', 'This', 'trend', 'is', 'illustrated', 'in', 'the', 'below', 'Figure', '1', 'Figure1', 'Daily', 'energy', 'met', 'MU', 'Thus', 'firstly', 'a', 'key', 'risk', 'from', 'the', 'COVID19', 'pandemic', 'for', 'the', 'already', 'struggling', 'distribution', 'companies', 'in', 'India', 'arises', 'from', 'the', 'loss', 'of', 'revenues', 'due', 'to', 'the', 'reduction', 'of', 'demand', 'from', 'the', 'commercial', 'and', 'industrial', 'customers', 'as', 'well', 'as', 'the', 'inability', 'to', 'cover', 'the', 'crosssubsidies', 'provided', 'to', 'the', 'lowertariff', 'paying', 'consumer', 'Secondly', 'the', 'utilities', 'would', 'also', 'have', 'to', 'account', 'for', 'the', 'expense', 'to', 'comply', 'with', 'any', '‘must', 'buy’', 'commitments', 'that', 'they', 'have', 'with', 'generators', 'with', 'longterm', 'power', 'purchase', 'agreements', 'The', 'true', 'and', 'full', 'extent', 'of', 'this', 'risk', 'would', 'only', 'be', 'known', 'once', 'a', 'quantitative', 'analysis', 'is', 'conducted', 'when', 'this', 'crisis', 'situation', 'is', 'contained', 'Thirdly', 'at', 'an', 'operational', 'level', 'distribution', 'companies', 'would', 'have', 'to', 'account', 'for', 'deviation', 'in', 'demand', 'and', 'supply', 'patterns', 'at', 'a', 'temporal', 'and', 'locational', 'level', 'Finally', 'during', 'this', 'period', 'critical', 'infrastructure', 'such', 'as', 'electricity', 'networks', 'would', 'have', 'to', 'be', 'run', 'with', 'minimum', 'employees', 'COVID19', 'impact', 'on', 'the', 'power', 'market', 'As', 'seen', 'in', 'Figure', '1', 'the', 'trade', 'on', 'the', 'wholesale', 'power', 'market', 'comprises', 'just', '43', 'percent', 'of', 'the', 'total', 'electricity', 'transactions', 'However', 'the', 'transactions', 'through', 'the', 'power', 'exchanges', 'have', 'grown', 'over', 'the', 'last', 'decade', 'The', 'Indian', 'Energy', 'Exchange', 'IEX', 'has', 'seen', 'a', 'growth', 'from', '2616', 'MU', 'in', 'FY', '2009', 'to', '52241', 'in', 'FY', '2019', 'Figure2', 'Share', 'of', 'market', 'segments', 'in', 'total', 'electricity', 'generation', '201819', 'Source', 'CERC', 'Until', 'now', 'the', 'trade', 'in', 'the', 'wholesale', 'market', 'is', 'in', 'four', 'market', 'segments', '1', 'DayAhead', 'Market', '2', 'Term', 'Ahead', 'Market', '3', 'Renewable', 'Energy', 'Certificates', '4', 'Energysaving', 'certificates', 'Recently', 'the', 'Central', 'Electricity', 'Regulatory', 'Commission', 'CERC', 'finalized', 'the', 'regulations', 'for', 'implementing', 'realtime', 'markets', 'This', 'halfhourly', 'market', 'will', 'enable', 'the', 'intraday', 'trade', 'of', 'electricity', 'allowing', 'adjustment', 'of', 'generation', 'and', 'consumption', 'profile', 'during', 'the', 'day', 'Before', 'the', 'COVID19', 'pandemic', 'it', 'was', 'announced', 'by', 'CERC', 'that', 'the', 'realtime', 'market', 'would', 'be', 'operational', 'from', 'April', '1st', '2020', 'However', 'the', 'starting', 'date', 'has', 'now', 'been', 'delayed', 'by', 'two', 'months', 'to', 'June', '1st', '2020', 'According', 'to', 'media', 'reports', 'due', 'to', 'the', 'COVID19', 'pandemic', 'some', 'required', 'trials', 'could', 'not', 'be', 'completed', 'This', 'delay', 'in', 'the', 'realtime', 'market', 'implementation', 'is', 'likely', 'to', 'have', 'a', 'serious', 'adverse', 'impact', 'on', 'the', 'Indian', 'power', 'market', 'Another', 'impact', 'of', 'the', 'COVID19', 'pandemic', 'on', 'the', 'power', 'markets', 'is', 'in', 'terms', 'of', 'the', 'market', 'dynamic', 'It', 'can', 'be', 'observed', 'that', 'there', 'is', 'a', 'dip', 'in', 'the', 'clearing', 'volume', 'and', 'the', 'marketclearing', 'price', 'which', 'coincides', 'with', 'the', 'gradually', 'increasing', 'shutdown', 'measures', 'taken', 'by', 'the', 'government', 'as', 'a', 'response', 'to', 'COVID19', 'See', 'Figure', '2', 'Thus', 'the', 'reduction', 'in', 'demand', 'due', 'to', 'the', 'lockdown', 'is', 'reflected', 'in', 'the', 'volumes', 'traded', 'on', 'the', 'electricity', 'market', 'and', 'the', 'clearing', 'price', 'Another', 'point', 'of', 'reference', 'is', 'the', 'price', 'and', 'clearing', 'volume', 'in', '2019', 'On', 'March', '22nd', '2020', 'the', 'day', 'of', 'voluntary', 'lockdown', 'the', 'clearing', 'volume', 'was', '9705', 'GWh', 'and', 'the', 'clearing', 'price', 'was', '219548', '₹', 'MWh', 'In', 'comparison', 'on', 'the', 'same', 'day', 'in', '2019', 'the', 'clearing', 'volume', 'was', '10798', 'GWh', 'and', 'the', 'clearing', 'price', 'was', '281618', '₹', 'MWh', 'From', 'the', 'start', 'of', 'the', 'lockdown', 'from', 'March', '25nd', 'to', 'April', '1st', '2020', 'the', 'average', 'clearing', 'volume', 'was', '10427', 'GWh', 'compared', 'to', '13024', 'GWh', 'in', '2019', 'during', 'the', 'same', 'period', 'Similarly', 'the', 'average', 'market', 'clearing', 'price', 'was', '215593', '₹', 'MWh', 'in', '2020', 'as', 'compared', 'to', '3371025', '₹', 'MWh', 'in', '2019', 'for', 'the', 'same', 'period', 'VIEWS', 'OF', 'THE', 'SHAREHOLDERS', 'IN', 'INDIA', 'The', 'lockdown', 'has', 'resulted', 'in', 'a', 'shutdown', 'of', 'the', 'industrial', 'and', 'commercial', 'establishments', 'and', 'the', 'stoppage', 'of', 'passenger', 'railway', 'services', 'This', 'has', 'adversely', 'impacted', 'the', 'all', 'India', 'electricity', 'demand', 'given', 'that', 'these', 'segments', 'constitute', 'about', '40', 'of', 'the', 'all', 'India', 'electricity', 'demand', 'a', 'statement', 'issued', 'by', 'the', 'rating', 'firm', 'said', 'Further', 'these', 'segments', 'account', 'for', 'an', 'even', 'greater', 'percentage', 'of', 'the', 'Discoms', 'sales', 'revenues', 'given', 'that', 'they', 'are', 'the', 'subsidizing', 'segments', 'This', 'apart', 'with', 'the', 'focus', 'of', 'state', 'governments', 'being', 'on', 'healthcare', 'and', 'relief', 'measures', 'the', 'likelihood', 'of', 'subsidy', 'support', 'to', 'the', 'Discoms', 'getting', 'deferred', 'cannot', 'be', 'ruled', 'out', 'it', 'added', 'ICRA', 'Ratings', 'Group', 'Head', 'and', 'Senior', 'Vice', 'President', '–', 'Corporate', 'ratings', 'Sabyasachi', 'Majumdar', 'said', '“The', 'lockdown', 'imposed', 'by', 'the', 'government', 'is', 'likely', 'to', 'adversely', 'impact', 'the', 'all', 'India', 'electricity', 'demand', 'with', 'demand', 'expected', 'to', 'decline', 'by', 'about', '2025', 'on', 'a', 'yearonyear', 'basis', 'during', 'the', 'period', 'of', 'lockdown', 'This', 'would', 'in', 'turn', 'adversely', 'impact', 'the', 'revenues', 'and', 'cash', 'collections', 'for', 'distribution', 'utilities', 'in', 'the', 'near', 'term', 'especially', 'given', 'the', 'consumption', 'decline', 'from', 'the', 'high', 'tariff', 'paying', 'industrial', 'and', 'commercial', 'consumers', 'and', 'likely', 'delays', 'in', 'cash', 'collections', 'from', 'other', 'consumer', 'segments', 'The', 'revenue', 'deficit', 'for', 'the', 'Discoms', 'is', 'estimated', 'to', 'be', 'about', 'Rs', '130', 'billion', 'per', 'month', 'on', 'an', 'all', 'India', 'basis', 'This', 'would', 'in', 'turn', 'adversely', 'impact', 'the', 'liquidity', 'profile', 'of', 'the', 'Discoms', 'increase', 'their', 'subsidy', 'requirement', 'and', 'lead', 'to', 'delays', 'in', 'payments', 'to', 'the', 'power', 'generation', 'and', 'transmission', 'companies”The', 'power', 'ministry', 'on', 'Friday', 'issued', 'directors', 'to', 'the', 'Central', 'Electricity', 'Regulatory', 'Commission', 'to', 'provide', 'a', 'moratorium', 'of', 'three', 'months', 'to', 'Discoms', 'on', 'payments', 'to', 'power', 'generation', 'and', 'transmission', 'companies', 'The', 'power', 'ministry', 'on', 'Friday', 'issued', 'directors', 'to', 'the', 'Central', 'Electricity', 'Regulatory', 'Commission', 'to', 'provide', 'a', 'moratorium', 'of', 'three', 'months', 'to', 'Discoms', 'on', 'payments', 'to', 'power', 'generation', 'and', 'transmission', 'companies', 'and', 'requested', 'state', 'governments', 'to', 'issue', 'similar', 'directions', 'to', 'state', 'electricity', 'regulators', 'The', 'power', 'generation', 'companies', 'are', 'already', 'suffering', 'delays', 'in', 'payments', 'by', 'Discoms', 'across', 'the', 'majority', 'of', 'states', 'with', 'payment', 'due', 'of', 'more', 'than', 'Rs', '85000', 'crore', 'as', 'of', 'November', '2019', 'at', 'all', 'India', 'level', 'as', 'per', 'the', 'data', 'on', 'PRAAPTI', 'portal', 'With', 'COVID19', 'lockdown', 'accentuating', 'the', 'delays', 'in', 'payments', 'the', 'availability', 'of', 'adequate', 'liquidity', 'buffer', 'in', 'the', 'form', 'of', 'debt', 'service', 'reserve', 'and', 'undrawn', 'working', 'capital', 'limits', 'remains', 'important', 'from', 'a', 'credit', 'perspective', 'However', 'it', 'said', 'that', 'relief', 'measures', 'such', 'as', 'a', 'moratorium', 'on', 'debt', 'servicing', 'over', 'a', '3month', 'period', 'as', 'notified', 'by', 'Reserve', 'Bank', 'of', 'India', 'and', 'expected', 'moderation', 'in', 'the', 'interest', 'rate', 'cycle', 'would', 'be', 'a', 'source', 'of', 'comfort', 'in', 'the', 'near', 'term', 'The', 'timely', 'approval', 'of', 'the', 'moratorium', 'by', 'the', 'boards', 'of', 'the', 'banks', 'and', 'financial', 'institutions', 'remains', 'crucial', 'The', 'revenues', 'for', 'power', 'generation', 'companies', 'having', 'longterm', 'power', 'purchase', 'agreements', 'PPAs', 'with', 'the', 'state', 'distribution', 'utilities', 'Discoms', 'will', 'be', 'protected', 'by', 'the', 'provision', 'for', 'capacity', 'charges', 'linked', 'to', 'plant', 'availability', 'in', 'case', 'of', 'thermal', 'and', 'large', 'hydropower', 'projects', 'and', '“mustrun”', 'status', 'in', 'case', 'of', 'nuclear', 'and', 'renewable', 'power', 'projectsAverage', 'monthly', 'thermal', 'PLF', 'would', 'further', 'dip', 'to', '5052', 'against', '63', 'in', 'the', 'corresponding', 'period', 'of', 'the', 'previous', 'year', 'due', 'to', 'a', 'considerable', 'drop', 'in', 'demand', 'and', 'consequently', 'power', 'generation', 'companies', 'especially', 'those', 'without', 'any', 'longterm', 'PPAs', 'would', 'be', 'adversely', 'impacted', 'given', 'the', 'weakening', 'of', 'the', 'power', 'tariffs', 'in', 'the', 'shortterm', 'power', 'exchange', 'market', 'said', 'ICRA', 'Ratings', 'Sector', 'Head', 'Vice', 'President', 'GirishkumarKadamThe', 'underconstruction', 'renewable', 'power', 'projects', 'as', 'well', 'as', 'EPC', 'and', 'manufacturing', 'companies', 'in', 'the', 'solar', 'segment', 'are', 'likely', 'to', 'face', 'execution', 'delays', 'because', 'of', 'disruption', 'in', 'the', 'supply', 'chain', 'in', 'India', 'and', 'labor', 'availability', 'following', 'the', 'lockdown', 'Given', 'the', 'import', 'dependency', 'on', 'China', 'for', 'sourcing', 'PV', 'modules', 'the', 'execution', 'timelines', 'for', 'the', 'ongoing', 'solar', 'projects', 'are', 'likely', 'to', 'be', 'affected', 'by', 'delays', 'in', 'the', 'delivery', 'of', 'PV', 'modules', 'following', 'the', 'outbreak', 'of', 'COVID', '19', 'in', 'China', 'This', 'delay', 'in', 'turn', 'would', 'increase', 'the', 'preoperative', 'expenses', 'and', 'the', 'overall', 'project', 'cost', 'which', 'in', 'turn', 'would', 'have', 'an', 'impact', 'on', 'the', 'expected', 'returns', 'In', 'this', 'context', 'the', 'MNRE', 'has', 'notified', 'that', 'time', 'extension', 'can', 'be', 'provided', 'for', 'all', 'renewable', 'energy', 'projects', 'which', 'are', 'impacted', 'by', 'the', 'supply', 'chain', 'disruption', 'due', 'to', 'the', 'COVID', 'outbreak', 'under', 'the', 'force', 'majeure', 'clause', '“Given', 'the', 'execution', 'headwinds', 'amid', 'COVID', '19', 'affecting', 'Q1', 'of', 'FY202021', 'and', 'assuming', 'the', 'normalcy', 'thereafter', 'the', 'capacity', 'addition', 'in', 'the', 'wind', 'and', 'solar', 'segments', 'together', 'is', 'likely', 'to', 'degrow', 'by', 'about', '25', 'thus', 'estimated', 'at', 'about', '8', 'GW', 'against', 'earlier', 'estimates', 'of', '11', 'GW', 'in', 'FY202021”', 'said', 'Kadam', 'Figure', 'Cleared', 'Volume', 'above', 'and', 'Market', 'Clearing', 'price', 'below', 'for', 'IEX', 'between', 'March', '17th', '–', 'April', '1st', '2020', 'Blackcoffer', 'Insights', '17', 'TPragyna', 'ECE', 'Gitam', 'University']\n"
     ]
    }
   ],
   "source": [
    "content=soup.findAll(attrs={'class':'td-post-content'})\n",
    "content=content[0].text.replace('\\n',\" \")\n",
    "print(content)\n",
    "#Punctuation\n",
    "content = content.translate(str.maketrans('', '', string.punctuation)) \n",
    "print(content)\n",
    "text = content.split()\n",
    "print(text)\n"
   ]
  },
  {
   "cell_type": "code",
   "execution_count": 3,
   "id": "65900f6c",
   "metadata": {},
   "outputs": [
    {
     "data": {
      "text/plain": [
       "1782"
      ]
     },
     "execution_count": 3,
     "metadata": {},
     "output_type": "execute_result"
    }
   ],
   "source": [
    "len(text)"
   ]
  },
  {
   "cell_type": "code",
   "execution_count": 4,
   "id": "6d31d1e0",
   "metadata": {},
   "outputs": [
    {
     "name": "stdout",
     "output_type": "stream",
     "text": [
      "17\n"
     ]
    }
   ],
   "source": [
    "#Positive Score \n",
    "with open(r\"C:\\Users\\Om Bhandwalkar\\Desktop\\pos\\positive-words.txt\") as pos:\n",
    "    poswords = pos.read().split(\"\\n\")  \n",
    "    poswords = poswords[5:]\n",
    "pos_count = \" \".join ([w for w in text if w in poswords])\n",
    "pos_count=pos_count.split(\" \")\n",
    "Positive_score=len(pos_count)\n",
    "print(Positive_score)"
   ]
  },
  {
   "cell_type": "code",
   "execution_count": 5,
   "id": "0b2b94b2",
   "metadata": {},
   "outputs": [
    {
     "name": "stdout",
     "output_type": "stream",
     "text": [
      "41\n"
     ]
    }
   ],
   "source": [
    "#Negative Score\n",
    "with open(r\"C:\\Users\\Om Bhandwalkar\\Desktop\\pos\\negative-words.txt\",encoding =\"ISO-8859-1\") as neg:\n",
    "    negwords = neg.read().split(\"\\n\")\n",
    "    \n",
    "negwords = negwords[36:]\n",
    "neg_count = \" \".join ([w for w in text if w in negwords])\n",
    "neg_count=neg_count.split(\" \")\n",
    "Negative_score=len(neg_count)\n",
    "print(Negative_score)"
   ]
  },
  {
   "cell_type": "code",
   "execution_count": 6,
   "id": "7d3d8eec",
   "metadata": {},
   "outputs": [
    {
     "data": {
      "text/html": [
       "<div>\n",
       "<style scoped>\n",
       "    .dataframe tbody tr th:only-of-type {\n",
       "        vertical-align: middle;\n",
       "    }\n",
       "\n",
       "    .dataframe tbody tr th {\n",
       "        vertical-align: top;\n",
       "    }\n",
       "\n",
       "    .dataframe thead th {\n",
       "        text-align: right;\n",
       "    }\n",
       "</style>\n",
       "<table border=\"1\" class=\"dataframe\">\n",
       "  <thead>\n",
       "    <tr style=\"text-align: right;\">\n",
       "      <th></th>\n",
       "      <th>url</th>\n",
       "      <th>title</th>\n",
       "      <th>content</th>\n",
       "      <th>filter_content</th>\n",
       "      <th>Positive_Score</th>\n",
       "      <th>Negative_Score</th>\n",
       "      <th>polarity</th>\n",
       "      <th>subjectivity</th>\n",
       "    </tr>\n",
       "  </thead>\n",
       "  <tbody>\n",
       "    <tr>\n",
       "      <th>0</th>\n",
       "      <td>https://insights.blackcoffer.com/coronavirus-i...</td>\n",
       "      <td>Coronavirus impact on energy markets</td>\n",
       "      <td>The coronavirus also known as COVID19 is not ...</td>\n",
       "      <td>The coronavirus also known as COVID19 is not o...</td>\n",
       "      <td>17</td>\n",
       "      <td>41</td>\n",
       "      <td>0.028942</td>\n",
       "      <td>0.417638</td>\n",
       "    </tr>\n",
       "  </tbody>\n",
       "</table>\n",
       "</div>"
      ],
      "text/plain": [
       "                                                 url  \\\n",
       "0  https://insights.blackcoffer.com/coronavirus-i...   \n",
       "\n",
       "                                  title  \\\n",
       "0  Coronavirus impact on energy markets   \n",
       "\n",
       "                                             content  \\\n",
       "0   The coronavirus also known as COVID19 is not ...   \n",
       "\n",
       "                                      filter_content  Positive_Score  \\\n",
       "0  The coronavirus also known as COVID19 is not o...              17   \n",
       "\n",
       "   Negative_Score  polarity  subjectivity  \n",
       "0              41  0.028942      0.417638  "
      ]
     },
     "execution_count": 6,
     "metadata": {},
     "output_type": "execute_result"
    }
   ],
   "source": [
    "filter_content = ' '.join(text)\n",
    "data=[[url,title,content,filter_content,Positive_score,Negative_score]]\n",
    "data=pd.DataFrame(data,columns=[\"url\",\"title\",\"content\",\"filter_content\",\"Positive_Score\",\"Negative_Score\"])\n",
    "from textblob import TextBlob\n",
    "# Get The Subjectivity\n",
    "def sentiment_analysis(data):\n",
    "    sentiment = TextBlob(data[\"content\"]).sentiment\n",
    "    return pd.Series([sentiment.polarity,sentiment.subjectivity ])\n",
    "\n",
    "# Adding Subjectivity & Polarity\n",
    "data[[\"polarity\", \"subjectivity\"]] = data.apply(sentiment_analysis, axis=1)\n",
    "\n",
    "data"
   ]
  },
  {
   "cell_type": "code",
   "execution_count": 7,
   "id": "0ddc9b7b",
   "metadata": {},
   "outputs": [
    {
     "name": "stdout",
     "output_type": "stream",
     "text": [
      "Word average = 9484.0\n",
      "FOG INDEX =  712.16\n",
      "Average no of words per sentence\n",
      "1782.0\n",
      "Complex Words 3282\n"
     ]
    }
   ],
   "source": [
    "#AVG SENTENCE LENGTH\n",
    "AVG_SENTENCE_LENGTH = len(content.replace(' ',''))/len(re.split(r'[?!.]', content))\n",
    "print('Word average =', AVG_SENTENCE_LENGTH)\n",
    "import textstat\n",
    "#Fog index \n",
    "FOG_INDEX=(textstat.gunning_fog(content))\n",
    "print(\"FOG INDEX = \",FOG_INDEX)\n",
    "#Average No of Words Per Sentence \n",
    "AVG_NUMBER_OF_WORDS_PER_SENTENCE = [len(l.split()) for l in re.split(r'[?!.]', content) if l.strip()]\n",
    "print(\"Average no of words per sentence\")\n",
    "AVG_NUMBER_OF_WORDS_PER_SENTENCE=print(sum(AVG_NUMBER_OF_WORDS_PER_SENTENCE)/len(AVG_NUMBER_OF_WORDS_PER_SENTENCE))\n",
    "#Complex words\n",
    "def syllable_count(word):\n",
    "    count = 0\n",
    "    vowels = \"AEIOUYaeiouy\"\n",
    "    if word[0] in vowels:\n",
    "        count += 1\n",
    "    for index in range(1, len(word)): \n",
    "        if word[index] in vowels and word[index - 1] not in vowels:\n",
    "            count += 1\n",
    "            if word.endswith(\"es\"or \"ed\"):\n",
    "                count -= 1\n",
    "    if count == 0:\n",
    "        count += 1\n",
    "    return count\n",
    "\n",
    "\n",
    "\n",
    "COMPLEX_WORDS=syllable_count(content)\n",
    "print(\"Complex Words\",COMPLEX_WORDS)\n"
   ]
  },
  {
   "cell_type": "code",
   "execution_count": 8,
   "id": "87984464",
   "metadata": {},
   "outputs": [
    {
     "name": "stdout",
     "output_type": "stream",
     "text": [
      "Word Count 11256\n",
      "Percentage of Complex Words 29.15778251599147\n",
      "Average Word per Length 5.322109988776655\n",
      "The AVG number of syllables in the word is: \n",
      "2.0521885521885523\n",
      "Word Count 11256\n",
      "Percentage of Complex Words 29.15778251599147\n",
      "Average Word per Length 5.322109988776655\n",
      "The AVG number of syllables in the word is: \n",
      "2.0521885521885523\n"
     ]
    }
   ],
   "source": [
    "#Word Count\n",
    "Word_Count=len(content)\n",
    "print(\"Word Count\",Word_Count)\n",
    "#Percentage Complex Words\n",
    "pcw=(COMPLEX_WORDS/Word_Count)*100\n",
    "print(\"Percentage of Complex Words\",pcw)\n",
    "#Average Word Length\n",
    "Average_Word_Length=len(content.replace(' ',''))/len(content.split())\n",
    "print(\"Average Word per Length\",Average_Word_Length)\n",
    "#Syllable Count Per Word\n",
    "word=content.replace(' ','')\n",
    "syllable_count=0\n",
    "for w in word:\n",
    "      if(w=='a' or w=='e' or w=='i' or w=='o' or w=='y' or w=='u' or w=='A' or w=='E' or w=='I' or w=='O' or w=='U' or w=='Y'):\n",
    "            syllable_count=syllable_count+1\n",
    "print(\"The AVG number of syllables in the word is: \")\n",
    "print(syllable_count/len(content.split()))#Word Count\n",
    "Word_Count=len(content)\n",
    "print(\"Word Count\",Word_Count)\n",
    "#Percentage Complex Words\n",
    "pcw=(COMPLEX_WORDS/Word_Count)*100\n",
    "print(\"Percentage of Complex Words\",pcw)\n",
    "#Average Word Length\n",
    "Average_Word_Length=len(content.replace(' ',''))/len(content.split())\n",
    "print(\"Average Word per Length\",Average_Word_Length)\n",
    "#Syllable Count Per Word\n",
    "word=content.replace(' ','')\n",
    "syllable_count=0\n",
    "for w in word:\n",
    "      if(w=='a' or w=='e' or w=='i' or w=='o' or w=='y' or w=='u' or w=='A' or w=='E' or w=='I' or w=='O' or w=='U' or w=='Y'):\n",
    "            syllable_count=syllable_count+1\n",
    "print(\"The AVG number of syllables in the word is: \")\n",
    "print(syllable_count/len(content.split()))"
   ]
  },
  {
   "cell_type": "code",
   "execution_count": 1,
   "id": "5d43bba1",
   "metadata": {},
   "outputs": [
    {
     "name": "stdout",
     "output_type": "stream",
     "text": [
      "17\n",
      "41\n",
      "Word average = 9484.0\n",
      "FOG INDEX =  712.16\n",
      "Average no of words per sentence\n",
      "1782.0\n",
      "Complex Words 3282\n",
      "Word Count 11256\n",
      "Percentage of Complex Words 29.15778251599147\n",
      "Average Word per Length 5.322109988776655\n",
      "The AVG number of syllables in the word is: \n",
      "2.0521885521885523\n"
     ]
    },
    {
     "data": {
      "text/html": [
       "<div>\n",
       "<style scoped>\n",
       "    .dataframe tbody tr th:only-of-type {\n",
       "        vertical-align: middle;\n",
       "    }\n",
       "\n",
       "    .dataframe tbody tr th {\n",
       "        vertical-align: top;\n",
       "    }\n",
       "\n",
       "    .dataframe thead th {\n",
       "        text-align: right;\n",
       "    }\n",
       "</style>\n",
       "<table border=\"1\" class=\"dataframe\">\n",
       "  <thead>\n",
       "    <tr style=\"text-align: right;\">\n",
       "      <th></th>\n",
       "      <th>url</th>\n",
       "      <th>title</th>\n",
       "      <th>content</th>\n",
       "      <th>filter_content</th>\n",
       "      <th>Positive_Score</th>\n",
       "      <th>Negative_Score</th>\n",
       "      <th>Avg_Sentence_Length</th>\n",
       "      <th>Percentage_Complex_Word</th>\n",
       "      <th>Fog_Index</th>\n",
       "      <th>AVG_NUMBER_OF_WORDS_PER_SENTENCE</th>\n",
       "      <th>COMPLEX_WORDS</th>\n",
       "      <th>Word_Count</th>\n",
       "      <th>syllable</th>\n",
       "      <th>Average_Word_Length</th>\n",
       "      <th>polarity</th>\n",
       "      <th>subjectivity</th>\n",
       "    </tr>\n",
       "  </thead>\n",
       "  <tbody>\n",
       "    <tr>\n",
       "      <th>0</th>\n",
       "      <td>https://insights.blackcoffer.com/coronavirus-i...</td>\n",
       "      <td>Coronavirus impact on energy markets</td>\n",
       "      <td>The coronavirus also known as COVID19 is not ...</td>\n",
       "      <td>The coronavirus also known as COVID19 is not o...</td>\n",
       "      <td>17</td>\n",
       "      <td>41</td>\n",
       "      <td>9484.0</td>\n",
       "      <td>29.157783</td>\n",
       "      <td>712.16</td>\n",
       "      <td>1782.0</td>\n",
       "      <td>3282</td>\n",
       "      <td>11256</td>\n",
       "      <td>2.052189</td>\n",
       "      <td>5.32211</td>\n",
       "      <td>0.028942</td>\n",
       "      <td>0.417638</td>\n",
       "    </tr>\n",
       "  </tbody>\n",
       "</table>\n",
       "</div>"
      ],
      "text/plain": [
       "                                                 url  \\\n",
       "0  https://insights.blackcoffer.com/coronavirus-i...   \n",
       "\n",
       "                                  title  \\\n",
       "0  Coronavirus impact on energy markets   \n",
       "\n",
       "                                             content  \\\n",
       "0   The coronavirus also known as COVID19 is not ...   \n",
       "\n",
       "                                      filter_content  Positive_Score  \\\n",
       "0  The coronavirus also known as COVID19 is not o...              17   \n",
       "\n",
       "   Negative_Score  Avg_Sentence_Length  Percentage_Complex_Word  Fog_Index  \\\n",
       "0              41               9484.0                29.157783     712.16   \n",
       "\n",
       "    AVG_NUMBER_OF_WORDS_PER_SENTENCE  COMPLEX_WORDS  Word_Count  syllable  \\\n",
       "0                             1782.0           3282       11256  2.052189   \n",
       "\n",
       "   Average_Word_Length  polarity  subjectivity  \n",
       "0              5.32211  0.028942      0.417638  "
      ]
     },
     "execution_count": 1,
     "metadata": {},
     "output_type": "execute_result"
    }
   ],
   "source": [
    "import requests\n",
    "import pandas as pd \n",
    "from bs4 import BeautifulSoup\n",
    "import string\n",
    "import spacy\n",
    "import re\n",
    "url = \"\"\"https://insights.blackcoffer.com/coronavirus-impact-on-energy-markets-2/\"\"\"\n",
    "headers = {\"User-Agent\": \"Mozilla/5.0 (X11; Linux x86_64; rv:60.0) Gecko/20100101 Firefox/60.0\"}\n",
    "page = requests.get(url, headers=headers)\n",
    "soup = BeautifulSoup(page.content, 'html.parser')\n",
    "soup=BeautifulSoup(page.content, 'html.parser')\n",
    "title=soup.find('h1',class_=\"entry-title\")\n",
    "title=title.text.replace('\\n',\" \")\n",
    "# title\n",
    "\n",
    "content=soup.findAll(attrs={'class':'td-post-content'})\n",
    "content=content[0].text.replace('\\n',\" \")\n",
    "# print(content)\n",
    "#Punctuation\n",
    "content = content.translate(str.maketrans('', '', string.punctuation)) \n",
    "# print(content)\n",
    "text = content.split()\n",
    "# print(text)\n",
    "len(text)\n",
    "#Positive Score \n",
    "with open(r\"C:\\Users\\Om Bhandwalkar\\Desktop\\pos\\positive-words.txt\") as pos:\n",
    "    poswords = pos.read().split(\"\\n\")  \n",
    "    poswords = poswords[5:]\n",
    "pos_count = \" \".join ([w for w in text if w in poswords])\n",
    "pos_count=pos_count.split(\" \")\n",
    "Positive_score=len(pos_count)\n",
    "print(Positive_score)\n",
    "\n",
    "#Negative Score\n",
    "with open(r\"C:\\Users\\Om Bhandwalkar\\Desktop\\pos\\negative-words.txt\",encoding =\"ISO-8859-1\") as neg:\n",
    "    negwords = neg.read().split(\"\\n\")\n",
    "    \n",
    "negwords = negwords[36:]\n",
    "neg_count = \" \".join ([w for w in text if w in negwords])\n",
    "neg_count=neg_count.split(\" \")\n",
    "Negative_score=len(neg_count)\n",
    "print(Negative_score)\n",
    "\n",
    "\n",
    "filter_content = ' '.join(text)\n",
    "data=[[url,title,content,filter_content,Positive_score,Negative_score]]\n",
    "data=pd.DataFrame(data,columns=[\"url\",\"title\",\"content\",\"filter_content\",\"Positive_Score\",\"Negative_Score\"])\n",
    "from textblob import TextBlob\n",
    "# Get The Subjectivity\n",
    "def sentiment_analysis(data):\n",
    "    sentiment = TextBlob(data[\"content\"]).sentiment\n",
    "    return pd.Series([sentiment.polarity,sentiment.subjectivity ])\n",
    "data[[\"polarity\", \"subjectivity\"]] = data.apply(sentiment_analysis, axis=1)\n",
    "data\n",
    "#AVG SENTENCE LENGTH\n",
    "AVG_SENTENCE_LENGTH = len(content.replace(' ',''))/len(re.split(r'[?!.]', content))\n",
    "print('Word average =', AVG_SENTENCE_LENGTH)\n",
    "import textstat\n",
    "#Fog index \n",
    "FOG_INDEX=(textstat.gunning_fog(content))\n",
    "print(\"FOG INDEX = \",FOG_INDEX)\n",
    "#Average No of Words Per Sentence \n",
    "AVG_NUMBER_OF_WORDS_PER_SENTENCE = [len(l.split()) for l in re.split(r'[?!.]', content) if l.strip()]\n",
    "print(\"Average no of words per sentence\")\n",
    "AVG_NUMBER_OF_WORDS_PER_SENTENCE=(sum(AVG_NUMBER_OF_WORDS_PER_SENTENCE)/len(AVG_NUMBER_OF_WORDS_PER_SENTENCE))\n",
    "print(AVG_NUMBER_OF_WORDS_PER_SENTENCE)\n",
    "#Complex words\n",
    "def syllable_count(word):\n",
    "    count = 0\n",
    "    vowels = \"AEIOUYaeiouy\"\n",
    "    if word[0] in vowels:\n",
    "        count += 1\n",
    "    for index in range(1, len(word)): \n",
    "        if word[index] in vowels and word[index - 1] not in vowels:\n",
    "            count += 1\n",
    "            if word.endswith(\"es\"or \"ed\"):\n",
    "                count -= 1\n",
    "    if count == 0:\n",
    "        count += 1\n",
    "    return count\n",
    "\n",
    "\n",
    "\n",
    "COMPLEX_WORDS=syllable_count(content)\n",
    "print(\"Complex Words\",COMPLEX_WORDS)\n",
    "#Word Count\n",
    "Word_Count=len(content)\n",
    "print(\"Word Count\",Word_Count)\n",
    "#Percentage Complex Words\n",
    "pcw=(COMPLEX_WORDS/Word_Count)*100\n",
    "print(\"Percentage of Complex Words\",pcw)\n",
    "#Average Word Length\n",
    "Average_Word_Length=len(content.replace(' ',''))/len(content.split())\n",
    "print(\"Average Word per Length\",Average_Word_Length)\n",
    "#Syllable Count Per Word\n",
    "word=content.replace(' ','')\n",
    "syllable_count=0\n",
    "for w in word:\n",
    "      if(w=='a' or w=='e' or w=='i' or w=='o' or w=='y' or w=='u' or w=='A' or w=='E' or w=='I' or w=='O' or w=='U' or w=='Y'):\n",
    "            syllable_count=syllable_count+1\n",
    "print(\"The AVG number of syllables in the word is: \")\n",
    "syllable = (syllable_count/len(content.split()))\n",
    "print(syllable)\n",
    "\n",
    "data = [[url,title,content,filter_content,Positive_score,Negative_score,AVG_SENTENCE_LENGTH,pcw,FOG_INDEX,\n",
    "         AVG_NUMBER_OF_WORDS_PER_SENTENCE,COMPLEX_WORDS,Word_Count,syllable,Average_Word_Length]]\n",
    "data=pd.DataFrame(data,columns=[\"url\",\"title\",\"content\",\"filter_content\",\"Positive_Score\",\"Negative_Score\",\"Avg_Sentence_Length\"\n",
    "                               ,\"Percentage_Complex_Word\",\"Fog_Index\",\" AVG_NUMBER_OF_WORDS_PER_SENTENCE\",\"COMPLEX_WORDS\",\n",
    "                               \"Word_Count\",\"syllable\",\"Average_Word_Length\"])\n",
    "from textblob import TextBlob\n",
    "# Get The Subjectivity\n",
    "def sentiment_analysis(data):\n",
    "    sentiment = TextBlob(data[\"content\"]).sentiment\n",
    "    return pd.Series([sentiment.polarity,sentiment.subjectivity ])\n",
    "data[[\"polarity\", \"subjectivity\"]] = data.apply(sentiment_analysis, axis=1)\n",
    "data"
   ]
  },
  {
   "cell_type": "code",
   "execution_count": 2,
   "id": "650922b2",
   "metadata": {},
   "outputs": [],
   "source": [
    "data.to_csv(r'C:\\Users\\Om Bhandwalkar\\Desktop\\BlackCoffer Assignment\\Output\\url_96.csv')"
   ]
  },
  {
   "cell_type": "code",
   "execution_count": null,
   "id": "e7495966",
   "metadata": {},
   "outputs": [],
   "source": []
  }
 ],
 "metadata": {
  "kernelspec": {
   "display_name": "Python 3 (ipykernel)",
   "language": "python",
   "name": "python3"
  },
  "language_info": {
   "codemirror_mode": {
    "name": "ipython",
    "version": 3
   },
   "file_extension": ".py",
   "mimetype": "text/x-python",
   "name": "python",
   "nbconvert_exporter": "python",
   "pygments_lexer": "ipython3",
   "version": "3.9.12"
  }
 },
 "nbformat": 4,
 "nbformat_minor": 5
}
