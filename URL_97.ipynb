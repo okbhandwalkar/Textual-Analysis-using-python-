{
 "cells": [
  {
   "cell_type": "code",
   "execution_count": 1,
   "id": "6d119ad2",
   "metadata": {},
   "outputs": [
    {
     "data": {
      "text/plain": [
       "'COVID-19 Impact on Hospitality Industry'"
      ]
     },
     "execution_count": 1,
     "metadata": {},
     "output_type": "execute_result"
    }
   ],
   "source": [
    "import requests\n",
    "import pandas as pd \n",
    "from bs4 import BeautifulSoup\n",
    "import string\n",
    "import spacy\n",
    "import re\n",
    "url = \"\"\"https://insights.blackcoffer.com/coronavirus-impact-on-the-hospitality-industry-5/\"\"\"\n",
    "headers = {\"User-Agent\": \"Mozilla/5.0 (X11; Linux x86_64; rv:60.0) Gecko/20100101 Firefox/60.0\"}\n",
    "page = requests.get(url, headers=headers)\n",
    "soup = BeautifulSoup(page.content, 'html.parser')\n",
    "soup=BeautifulSoup(page.content, 'html.parser')\n",
    "title=soup.find('h1',class_=\"entry-title\")\n",
    "title=title.text.replace('\\n',\" \")\n",
    "title\n"
   ]
  },
  {
   "cell_type": "code",
   "execution_count": 2,
   "id": "e933d2d6",
   "metadata": {},
   "outputs": [
    {
     "name": "stdout",
     "output_type": "stream",
     "text": [
      " In December 2019, a novel coronavirus strain (SARS-CoV-2) emerged in the city of Wuhan, China. The disease called Covid-19 spread to almost every nation in the world creating widespread havoc and disruption in routine life. WHO recognized it as a pandemic on March 10, 2020. As of April 19, 2020, worldwide around 24 lakh people have been infected and more than 1.6 lakh people have succumbed to Covid-19. Though a vaccine hasn’t been developed yet, the spread of coronavirus can be stopped by washing hands frequently, covering one’s mouth while coughing, and practicing social distancing from other people. Countries across the world are using lockdowns as an effective way to stop the spread.  29 kb of RNA has brought the world down to its knees. One-third of the global population has been in lockdown. Schools, colleges, businesses, services that are considered non-essential have been put on hold for an indefinite period. Even after lifting restrictions, a global recession even worse than the one in 2008 is going to be expected. Now arriving at the main field of discussion, i.e. Hospitality Industry. How COVID-19 Impact Hospitality? Propulsion was building for 2020 to be a year of focal collective action on sustainability. The Covid-19 outbreak has emphasized more than ever, the importance of future-proofing business for growth and resilience. The hospitality industry includes various services like lodging, food and beverage, events, tourism, transportation, theme parks, etc. Before COVID – 19 prevailed, we all know that this industry was in much demand and was also one of the major sources of the rising economy. During vacation and festive periods, these were always full of people worldwide. As of now, due to the havoc created and ongoing lockdown they are bearing many losses and is one of the main reason for the decreasing economy. Have you ever thought of hotels been converted into hospitals, quarantine centers, and isolation centers?  Yes, my dear people! Amidst this outbreak, many of the hospitality industry properties, be it tiny or enormous have come forward to help the nation fight this life-menacing virus. Taj hotel in Mumbai is attentively aware of its responsibility towards the community and has opened its doors for the major frontline workers, i.e. medical fraternities to stay at their place while they combat the spread of this treacherous virus. Also, many of the government bodies have been transformed to provide shelter to the homeless. Recently, in Vadodara – Gujarat the building which was built for the employees aiming to work for the major Mumbai-Ahmedabad bullet train project has been come forward to make it an isolation center for doctors and nurses. “Railways – the lifeline of citizens.” As railways have started their service years ago, from that period they are being considered as the lifeline of citizens in many metropolitan cities. Today at the time of the global pandemic, railways haven’t backed off from the position of the lifeline. Yes, my dear friends, you have heard it right! Railway coaches in India have been turning into the hospital and isolation centers, marking their presence by helping the government to increase the number of isolation beds. Also, many special parcel express trains are running in the entire nation to fulfill the needs of people by transporting essential commodities and goods. Hospitality has been one of the most innovative industries in the crisis so far. Connections have been rapidly formed to donate food and beverages to local charities from various hotels. Many of the hospitality bodies are standing in solidarity with the communities affected by this threatening disease by lighting their windows in the shape of a heart, seen in hotels across the world. With this outbreak, there is a sharp drop in tourists worldwide as the aviation, railways and public transport buses have come to a standstill due to severe government restrictions. Today it is clear that hospitality industries must be prepared for various situations like a pandemic, climate change, etc. as of now they are facing devastating and disastrous Covid-19 impact on its various sectors. The debt being the normal capital intensive component has to be serviced by payment of interest on debt and repayment of debt. Hotels being labor-intensive, have lots of fixed costs such as wage bills, besides paying government levies, minimum load charges, etc. The earlier Indian hospitality industry was on average witnessing 65 to 70% of occupancy till the end of February. The first few days of March were fine, once things started accelerating, the occupancy has gone down to a severe minimum. Also as soon as the pandemic ends by God’s grace, the hospitality industry will still face some loss as the tourists will be much lesser in the beginning months. As soon as the crisis gets over, the hospitality industry will have a very crucial role to play in rehabilitating lives within their local communities. Millions of people will be unemployed leaving them at high risk of poverty and exploitation. As the industry starts to recover, hospitality will be one of the sources to increase employment to the needy ones taking the poverty level to a minimum. Within India, after the crisis over, people should travel to the less known and highly economically affected destinations to help the hospitality industry overcome the loss they bore due to Covid-19. Hence, the hospitality industry suffered and is suffering a lot due to this pandemic and despite that, it is also helping the nation to win against this dangerous disease. thus COVID-19 Impact on Hospitality  “Let’s be grateful to all the frontline workers saving the entire nation and also be thankful to all the various sectors of the hospitality industry who have come forward to help and serve the nation.”     Soon we will fight this!   Stay Home! Stay Safe!               Jay Hind!     Blackcoffer Insights 17: Ejan Khalifa and Uma Kanetkar (Gujarat) \n",
      " In December 2019 a novel coronavirus strain SARSCoV2 emerged in the city of Wuhan China The disease called Covid19 spread to almost every nation in the world creating widespread havoc and disruption in routine life WHO recognized it as a pandemic on March 10 2020 As of April 19 2020 worldwide around 24 lakh people have been infected and more than 16 lakh people have succumbed to Covid19 Though a vaccine hasn’t been developed yet the spread of coronavirus can be stopped by washing hands frequently covering one’s mouth while coughing and practicing social distancing from other people Countries across the world are using lockdowns as an effective way to stop the spread  29 kb of RNA has brought the world down to its knees Onethird of the global population has been in lockdown Schools colleges businesses services that are considered nonessential have been put on hold for an indefinite period Even after lifting restrictions a global recession even worse than the one in 2008 is going to be expected Now arriving at the main field of discussion ie Hospitality Industry How COVID19 Impact Hospitality Propulsion was building for 2020 to be a year of focal collective action on sustainability The Covid19 outbreak has emphasized more than ever the importance of futureproofing business for growth and resilience The hospitality industry includes various services like lodging food and beverage events tourism transportation theme parks etc Before COVID – 19 prevailed we all know that this industry was in much demand and was also one of the major sources of the rising economy During vacation and festive periods these were always full of people worldwide As of now due to the havoc created and ongoing lockdown they are bearing many losses and is one of the main reason for the decreasing economy Have you ever thought of hotels been converted into hospitals quarantine centers and isolation centers  Yes my dear people Amidst this outbreak many of the hospitality industry properties be it tiny or enormous have come forward to help the nation fight this lifemenacing virus Taj hotel in Mumbai is attentively aware of its responsibility towards the community and has opened its doors for the major frontline workers ie medical fraternities to stay at their place while they combat the spread of this treacherous virus Also many of the government bodies have been transformed to provide shelter to the homeless Recently in Vadodara – Gujarat the building which was built for the employees aiming to work for the major MumbaiAhmedabad bullet train project has been come forward to make it an isolation center for doctors and nurses “Railways – the lifeline of citizens” As railways have started their service years ago from that period they are being considered as the lifeline of citizens in many metropolitan cities Today at the time of the global pandemic railways haven’t backed off from the position of the lifeline Yes my dear friends you have heard it right Railway coaches in India have been turning into the hospital and isolation centers marking their presence by helping the government to increase the number of isolation beds Also many special parcel express trains are running in the entire nation to fulfill the needs of people by transporting essential commodities and goods Hospitality has been one of the most innovative industries in the crisis so far Connections have been rapidly formed to donate food and beverages to local charities from various hotels Many of the hospitality bodies are standing in solidarity with the communities affected by this threatening disease by lighting their windows in the shape of a heart seen in hotels across the world With this outbreak there is a sharp drop in tourists worldwide as the aviation railways and public transport buses have come to a standstill due to severe government restrictions Today it is clear that hospitality industries must be prepared for various situations like a pandemic climate change etc as of now they are facing devastating and disastrous Covid19 impact on its various sectors The debt being the normal capital intensive component has to be serviced by payment of interest on debt and repayment of debt Hotels being laborintensive have lots of fixed costs such as wage bills besides paying government levies minimum load charges etc The earlier Indian hospitality industry was on average witnessing 65 to 70 of occupancy till the end of February The first few days of March were fine once things started accelerating the occupancy has gone down to a severe minimum Also as soon as the pandemic ends by God’s grace the hospitality industry will still face some loss as the tourists will be much lesser in the beginning months As soon as the crisis gets over the hospitality industry will have a very crucial role to play in rehabilitating lives within their local communities Millions of people will be unemployed leaving them at high risk of poverty and exploitation As the industry starts to recover hospitality will be one of the sources to increase employment to the needy ones taking the poverty level to a minimum Within India after the crisis over people should travel to the less known and highly economically affected destinations to help the hospitality industry overcome the loss they bore due to Covid19 Hence the hospitality industry suffered and is suffering a lot due to this pandemic and despite that it is also helping the nation to win against this dangerous disease thus COVID19 Impact on Hospitality  “Let’s be grateful to all the frontline workers saving the entire nation and also be thankful to all the various sectors of the hospitality industry who have come forward to help and serve the nation”     Soon we will fight this   Stay Home Stay Safe               Jay Hind     Blackcoffer Insights 17 Ejan Khalifa and Uma Kanetkar Gujarat \n",
      "['In', 'December', '2019', 'a', 'novel', 'coronavirus', 'strain', 'SARSCoV2', 'emerged', 'in', 'the', 'city', 'of', 'Wuhan', 'China', 'The', 'disease', 'called', 'Covid19', 'spread', 'to', 'almost', 'every', 'nation', 'in', 'the', 'world', 'creating', 'widespread', 'havoc', 'and', 'disruption', 'in', 'routine', 'life', 'WHO', 'recognized', 'it', 'as', 'a', 'pandemic', 'on', 'March', '10', '2020', 'As', 'of', 'April', '19', '2020', 'worldwide', 'around', '24', 'lakh', 'people', 'have', 'been', 'infected', 'and', 'more', 'than', '16', 'lakh', 'people', 'have', 'succumbed', 'to', 'Covid19', 'Though', 'a', 'vaccine', 'hasn’t', 'been', 'developed', 'yet', 'the', 'spread', 'of', 'coronavirus', 'can', 'be', 'stopped', 'by', 'washing', 'hands', 'frequently', 'covering', 'one’s', 'mouth', 'while', 'coughing', 'and', 'practicing', 'social', 'distancing', 'from', 'other', 'people', 'Countries', 'across', 'the', 'world', 'are', 'using', 'lockdowns', 'as', 'an', 'effective', 'way', 'to', 'stop', 'the', 'spread', '29', 'kb', 'of', 'RNA', 'has', 'brought', 'the', 'world', 'down', 'to', 'its', 'knees', 'Onethird', 'of', 'the', 'global', 'population', 'has', 'been', 'in', 'lockdown', 'Schools', 'colleges', 'businesses', 'services', 'that', 'are', 'considered', 'nonessential', 'have', 'been', 'put', 'on', 'hold', 'for', 'an', 'indefinite', 'period', 'Even', 'after', 'lifting', 'restrictions', 'a', 'global', 'recession', 'even', 'worse', 'than', 'the', 'one', 'in', '2008', 'is', 'going', 'to', 'be', 'expected', 'Now', 'arriving', 'at', 'the', 'main', 'field', 'of', 'discussion', 'ie', 'Hospitality', 'Industry', 'How', 'COVID19', 'Impact', 'Hospitality', 'Propulsion', 'was', 'building', 'for', '2020', 'to', 'be', 'a', 'year', 'of', 'focal', 'collective', 'action', 'on', 'sustainability', 'The', 'Covid19', 'outbreak', 'has', 'emphasized', 'more', 'than', 'ever', 'the', 'importance', 'of', 'futureproofing', 'business', 'for', 'growth', 'and', 'resilience', 'The', 'hospitality', 'industry', 'includes', 'various', 'services', 'like', 'lodging', 'food', 'and', 'beverage', 'events', 'tourism', 'transportation', 'theme', 'parks', 'etc', 'Before', 'COVID', '–', '19', 'prevailed', 'we', 'all', 'know', 'that', 'this', 'industry', 'was', 'in', 'much', 'demand', 'and', 'was', 'also', 'one', 'of', 'the', 'major', 'sources', 'of', 'the', 'rising', 'economy', 'During', 'vacation', 'and', 'festive', 'periods', 'these', 'were', 'always', 'full', 'of', 'people', 'worldwide', 'As', 'of', 'now', 'due', 'to', 'the', 'havoc', 'created', 'and', 'ongoing', 'lockdown', 'they', 'are', 'bearing', 'many', 'losses', 'and', 'is', 'one', 'of', 'the', 'main', 'reason', 'for', 'the', 'decreasing', 'economy', 'Have', 'you', 'ever', 'thought', 'of', 'hotels', 'been', 'converted', 'into', 'hospitals', 'quarantine', 'centers', 'and', 'isolation', 'centers', 'Yes', 'my', 'dear', 'people', 'Amidst', 'this', 'outbreak', 'many', 'of', 'the', 'hospitality', 'industry', 'properties', 'be', 'it', 'tiny', 'or', 'enormous', 'have', 'come', 'forward', 'to', 'help', 'the', 'nation', 'fight', 'this', 'lifemenacing', 'virus', 'Taj', 'hotel', 'in', 'Mumbai', 'is', 'attentively', 'aware', 'of', 'its', 'responsibility', 'towards', 'the', 'community', 'and', 'has', 'opened', 'its', 'doors', 'for', 'the', 'major', 'frontline', 'workers', 'ie', 'medical', 'fraternities', 'to', 'stay', 'at', 'their', 'place', 'while', 'they', 'combat', 'the', 'spread', 'of', 'this', 'treacherous', 'virus', 'Also', 'many', 'of', 'the', 'government', 'bodies', 'have', 'been', 'transformed', 'to', 'provide', 'shelter', 'to', 'the', 'homeless', 'Recently', 'in', 'Vadodara', '–', 'Gujarat', 'the', 'building', 'which', 'was', 'built', 'for', 'the', 'employees', 'aiming', 'to', 'work', 'for', 'the', 'major', 'MumbaiAhmedabad', 'bullet', 'train', 'project', 'has', 'been', 'come', 'forward', 'to', 'make', 'it', 'an', 'isolation', 'center', 'for', 'doctors', 'and', 'nurses', '“Railways', '–', 'the', 'lifeline', 'of', 'citizens”', 'As', 'railways', 'have', 'started', 'their', 'service', 'years', 'ago', 'from', 'that', 'period', 'they', 'are', 'being', 'considered', 'as', 'the', 'lifeline', 'of', 'citizens', 'in', 'many', 'metropolitan', 'cities', 'Today', 'at', 'the', 'time', 'of', 'the', 'global', 'pandemic', 'railways', 'haven’t', 'backed', 'off', 'from', 'the', 'position', 'of', 'the', 'lifeline', 'Yes', 'my', 'dear', 'friends', 'you', 'have', 'heard', 'it', 'right', 'Railway', 'coaches', 'in', 'India', 'have', 'been', 'turning', 'into', 'the', 'hospital', 'and', 'isolation', 'centers', 'marking', 'their', 'presence', 'by', 'helping', 'the', 'government', 'to', 'increase', 'the', 'number', 'of', 'isolation', 'beds', 'Also', 'many', 'special', 'parcel', 'express', 'trains', 'are', 'running', 'in', 'the', 'entire', 'nation', 'to', 'fulfill', 'the', 'needs', 'of', 'people', 'by', 'transporting', 'essential', 'commodities', 'and', 'goods', 'Hospitality', 'has', 'been', 'one', 'of', 'the', 'most', 'innovative', 'industries', 'in', 'the', 'crisis', 'so', 'far', 'Connections', 'have', 'been', 'rapidly', 'formed', 'to', 'donate', 'food', 'and', 'beverages', 'to', 'local', 'charities', 'from', 'various', 'hotels', 'Many', 'of', 'the', 'hospitality', 'bodies', 'are', 'standing', 'in', 'solidarity', 'with', 'the', 'communities', 'affected', 'by', 'this', 'threatening', 'disease', 'by', 'lighting', 'their', 'windows', 'in', 'the', 'shape', 'of', 'a', 'heart', 'seen', 'in', 'hotels', 'across', 'the', 'world', 'With', 'this', 'outbreak', 'there', 'is', 'a', 'sharp', 'drop', 'in', 'tourists', 'worldwide', 'as', 'the', 'aviation', 'railways', 'and', 'public', 'transport', 'buses', 'have', 'come', 'to', 'a', 'standstill', 'due', 'to', 'severe', 'government', 'restrictions', 'Today', 'it', 'is', 'clear', 'that', 'hospitality', 'industries', 'must', 'be', 'prepared', 'for', 'various', 'situations', 'like', 'a', 'pandemic', 'climate', 'change', 'etc', 'as', 'of', 'now', 'they', 'are', 'facing', 'devastating', 'and', 'disastrous', 'Covid19', 'impact', 'on', 'its', 'various', 'sectors', 'The', 'debt', 'being', 'the', 'normal', 'capital', 'intensive', 'component', 'has', 'to', 'be', 'serviced', 'by', 'payment', 'of', 'interest', 'on', 'debt', 'and', 'repayment', 'of', 'debt', 'Hotels', 'being', 'laborintensive', 'have', 'lots', 'of', 'fixed', 'costs', 'such', 'as', 'wage', 'bills', 'besides', 'paying', 'government', 'levies', 'minimum', 'load', 'charges', 'etc', 'The', 'earlier', 'Indian', 'hospitality', 'industry', 'was', 'on', 'average', 'witnessing', '65', 'to', '70', 'of', 'occupancy', 'till', 'the', 'end', 'of', 'February', 'The', 'first', 'few', 'days', 'of', 'March', 'were', 'fine', 'once', 'things', 'started', 'accelerating', 'the', 'occupancy', 'has', 'gone', 'down', 'to', 'a', 'severe', 'minimum', 'Also', 'as', 'soon', 'as', 'the', 'pandemic', 'ends', 'by', 'God’s', 'grace', 'the', 'hospitality', 'industry', 'will', 'still', 'face', 'some', 'loss', 'as', 'the', 'tourists', 'will', 'be', 'much', 'lesser', 'in', 'the', 'beginning', 'months', 'As', 'soon', 'as', 'the', 'crisis', 'gets', 'over', 'the', 'hospitality', 'industry', 'will', 'have', 'a', 'very', 'crucial', 'role', 'to', 'play', 'in', 'rehabilitating', 'lives', 'within', 'their', 'local', 'communities', 'Millions', 'of', 'people', 'will', 'be', 'unemployed', 'leaving', 'them', 'at', 'high', 'risk', 'of', 'poverty', 'and', 'exploitation', 'As', 'the', 'industry', 'starts', 'to', 'recover', 'hospitality', 'will', 'be', 'one', 'of', 'the', 'sources', 'to', 'increase', 'employment', 'to', 'the', 'needy', 'ones', 'taking', 'the', 'poverty', 'level', 'to', 'a', 'minimum', 'Within', 'India', 'after', 'the', 'crisis', 'over', 'people', 'should', 'travel', 'to', 'the', 'less', 'known', 'and', 'highly', 'economically', 'affected', 'destinations', 'to', 'help', 'the', 'hospitality', 'industry', 'overcome', 'the', 'loss', 'they', 'bore', 'due', 'to', 'Covid19', 'Hence', 'the', 'hospitality', 'industry', 'suffered', 'and', 'is', 'suffering', 'a', 'lot', 'due', 'to', 'this', 'pandemic', 'and', 'despite', 'that', 'it', 'is', 'also', 'helping', 'the', 'nation', 'to', 'win', 'against', 'this', 'dangerous', 'disease', 'thus', 'COVID19', 'Impact', 'on', 'Hospitality', '“Let’s', 'be', 'grateful', 'to', 'all', 'the', 'frontline', 'workers', 'saving', 'the', 'entire', 'nation', 'and', 'also', 'be', 'thankful', 'to', 'all', 'the', 'various', 'sectors', 'of', 'the', 'hospitality', 'industry', 'who', 'have', 'come', 'forward', 'to', 'help', 'and', 'serve', 'the', 'nation”', 'Soon', 'we', 'will', 'fight', 'this', 'Stay', 'Home', 'Stay', 'Safe', 'Jay', 'Hind', 'Blackcoffer', 'Insights', '17', 'Ejan', 'Khalifa', 'and', 'Uma', 'Kanetkar', 'Gujarat']\n"
     ]
    }
   ],
   "source": [
    "content=soup.findAll(attrs={'class':'td-post-content'})\n",
    "content=content[0].text.replace('\\n',\" \")\n",
    "print(content)\n",
    "#Punctuation\n",
    "content = content.translate(str.maketrans('', '', string.punctuation)) \n",
    "print(content)\n",
    "text = content.split()\n",
    "print(text)\n"
   ]
  },
  {
   "cell_type": "code",
   "execution_count": 3,
   "id": "9edd3233",
   "metadata": {},
   "outputs": [
    {
     "data": {
      "text/plain": [
       "968"
      ]
     },
     "execution_count": 3,
     "metadata": {},
     "output_type": "execute_result"
    }
   ],
   "source": [
    "len(text)"
   ]
  },
  {
   "cell_type": "code",
   "execution_count": 4,
   "id": "7538f08e",
   "metadata": {},
   "outputs": [
    {
     "name": "stdout",
     "output_type": "stream",
     "text": [
      "19\n"
     ]
    }
   ],
   "source": [
    "#Positive Score \n",
    "with open(r\"C:\\Users\\Om Bhandwalkar\\Desktop\\pos\\positive-words.txt\") as pos:\n",
    "    poswords = pos.read().split(\"\\n\")  \n",
    "    poswords = poswords[5:]\n",
    "pos_count = \" \".join ([w for w in text if w in poswords])\n",
    "pos_count=pos_count.split(\" \")\n",
    "Positive_score=len(pos_count)\n",
    "print(Positive_score)"
   ]
  },
  {
   "cell_type": "code",
   "execution_count": 5,
   "id": "665094be",
   "metadata": {},
   "outputs": [
    {
     "name": "stdout",
     "output_type": "stream",
     "text": [
      "42\n"
     ]
    }
   ],
   "source": [
    "#Negative Score\n",
    "with open(r\"C:\\Users\\Om Bhandwalkar\\Desktop\\pos\\negative-words.txt\",encoding =\"ISO-8859-1\") as neg:\n",
    "    negwords = neg.read().split(\"\\n\")\n",
    "    \n",
    "negwords = negwords[36:]\n",
    "neg_count = \" \".join ([w for w in text if w in negwords])\n",
    "neg_count=neg_count.split(\" \")\n",
    "Negative_score=len(neg_count)\n",
    "print(Negative_score)"
   ]
  },
  {
   "cell_type": "code",
   "execution_count": 6,
   "id": "d294ab14",
   "metadata": {},
   "outputs": [
    {
     "data": {
      "text/html": [
       "<div>\n",
       "<style scoped>\n",
       "    .dataframe tbody tr th:only-of-type {\n",
       "        vertical-align: middle;\n",
       "    }\n",
       "\n",
       "    .dataframe tbody tr th {\n",
       "        vertical-align: top;\n",
       "    }\n",
       "\n",
       "    .dataframe thead th {\n",
       "        text-align: right;\n",
       "    }\n",
       "</style>\n",
       "<table border=\"1\" class=\"dataframe\">\n",
       "  <thead>\n",
       "    <tr style=\"text-align: right;\">\n",
       "      <th></th>\n",
       "      <th>url</th>\n",
       "      <th>title</th>\n",
       "      <th>content</th>\n",
       "      <th>filter_content</th>\n",
       "      <th>Positive_Score</th>\n",
       "      <th>Negative_Score</th>\n",
       "      <th>polarity</th>\n",
       "      <th>subjectivity</th>\n",
       "    </tr>\n",
       "  </thead>\n",
       "  <tbody>\n",
       "    <tr>\n",
       "      <th>0</th>\n",
       "      <td>https://insights.blackcoffer.com/coronavirus-i...</td>\n",
       "      <td>COVID-19 Impact on Hospitality Industry</td>\n",
       "      <td>In December 2019 a novel coronavirus strain S...</td>\n",
       "      <td>In December 2019 a novel coronavirus strain SA...</td>\n",
       "      <td>19</td>\n",
       "      <td>42</td>\n",
       "      <td>0.08508</td>\n",
       "      <td>0.440314</td>\n",
       "    </tr>\n",
       "  </tbody>\n",
       "</table>\n",
       "</div>"
      ],
      "text/plain": [
       "                                                 url  \\\n",
       "0  https://insights.blackcoffer.com/coronavirus-i...   \n",
       "\n",
       "                                     title  \\\n",
       "0  COVID-19 Impact on Hospitality Industry   \n",
       "\n",
       "                                             content  \\\n",
       "0   In December 2019 a novel coronavirus strain S...   \n",
       "\n",
       "                                      filter_content  Positive_Score  \\\n",
       "0  In December 2019 a novel coronavirus strain SA...              19   \n",
       "\n",
       "   Negative_Score  polarity  subjectivity  \n",
       "0              42   0.08508      0.440314  "
      ]
     },
     "execution_count": 6,
     "metadata": {},
     "output_type": "execute_result"
    }
   ],
   "source": [
    "filter_content = ' '.join(text)\n",
    "data=[[url,title,content,filter_content,Positive_score,Negative_score]]\n",
    "data=pd.DataFrame(data,columns=[\"url\",\"title\",\"content\",\"filter_content\",\"Positive_Score\",\"Negative_Score\"])\n",
    "from textblob import TextBlob\n",
    "# Get The Subjectivity\n",
    "def sentiment_analysis(data):\n",
    "    sentiment = TextBlob(data[\"content\"]).sentiment\n",
    "    return pd.Series([sentiment.polarity,sentiment.subjectivity ])\n",
    "\n",
    "# Adding Subjectivity & Polarity\n",
    "data[[\"polarity\", \"subjectivity\"]] = data.apply(sentiment_analysis, axis=1)\n",
    "\n",
    "data"
   ]
  },
  {
   "cell_type": "code",
   "execution_count": 7,
   "id": "725a701e",
   "metadata": {},
   "outputs": [
    {
     "name": "stdout",
     "output_type": "stream",
     "text": [
      "Word average = 4874.0\n",
      "FOG INDEX =  389.85\n",
      "Average no of words per sentence\n",
      "968.0\n",
      "Complex Words 1718\n"
     ]
    }
   ],
   "source": [
    "#AVG SENTENCE LENGTH\n",
    "AVG_SENTENCE_LENGTH = len(content.replace(' ',''))/len(re.split(r'[?!.]', content))\n",
    "print('Word average =', AVG_SENTENCE_LENGTH)\n",
    "import textstat\n",
    "#Fog index \n",
    "FOG_INDEX=(textstat.gunning_fog(content))\n",
    "print(\"FOG INDEX = \",FOG_INDEX)\n",
    "#Average No of Words Per Sentence \n",
    "AVG_NUMBER_OF_WORDS_PER_SENTENCE = [len(l.split()) for l in re.split(r'[?!.]', content) if l.strip()]\n",
    "print(\"Average no of words per sentence\")\n",
    "AVG_NUMBER_OF_WORDS_PER_SENTENCE=print(sum(AVG_NUMBER_OF_WORDS_PER_SENTENCE)/len(AVG_NUMBER_OF_WORDS_PER_SENTENCE))\n",
    "#Complex words\n",
    "def syllable_count(word):\n",
    "    count = 0\n",
    "    vowels = \"AEIOUYaeiouy\"\n",
    "    if word[0] in vowels:\n",
    "        count += 1\n",
    "    for index in range(1, len(word)): \n",
    "        if word[index] in vowels and word[index - 1] not in vowels:\n",
    "            count += 1\n",
    "            if word.endswith(\"es\"or \"ed\"):\n",
    "                count -= 1\n",
    "    if count == 0:\n",
    "        count += 1\n",
    "    return count\n",
    "\n",
    "\n",
    "\n",
    "COMPLEX_WORDS=syllable_count(content)\n",
    "print(\"Complex Words\",COMPLEX_WORDS)\n"
   ]
  },
  {
   "cell_type": "code",
   "execution_count": 8,
   "id": "e5dfe0b6",
   "metadata": {},
   "outputs": [
    {
     "name": "stdout",
     "output_type": "stream",
     "text": [
      "Word Count 5855\n",
      "Percentage of Complex Words 29.342442356959864\n",
      "Average Word per Length 5.035123966942149\n",
      "The AVG number of syllables in the word is: \n",
      "2.0113636363636362\n",
      "Word Count 5855\n",
      "Percentage of Complex Words 29.342442356959864\n",
      "Average Word per Length 5.035123966942149\n",
      "The AVG number of syllables in the word is: \n",
      "2.0113636363636362\n"
     ]
    }
   ],
   "source": [
    "#Word Count\n",
    "Word_Count=len(content)\n",
    "print(\"Word Count\",Word_Count)\n",
    "#Percentage Complex Words\n",
    "pcw=(COMPLEX_WORDS/Word_Count)*100\n",
    "print(\"Percentage of Complex Words\",pcw)\n",
    "#Average Word Length\n",
    "Average_Word_Length=len(content.replace(' ',''))/len(content.split())\n",
    "print(\"Average Word per Length\",Average_Word_Length)\n",
    "#Syllable Count Per Word\n",
    "word=content.replace(' ','')\n",
    "syllable_count=0\n",
    "for w in word:\n",
    "      if(w=='a' or w=='e' or w=='i' or w=='o' or w=='y' or w=='u' or w=='A' or w=='E' or w=='I' or w=='O' or w=='U' or w=='Y'):\n",
    "            syllable_count=syllable_count+1\n",
    "print(\"The AVG number of syllables in the word is: \")\n",
    "print(syllable_count/len(content.split()))#Word Count\n",
    "Word_Count=len(content)\n",
    "print(\"Word Count\",Word_Count)\n",
    "#Percentage Complex Words\n",
    "pcw=(COMPLEX_WORDS/Word_Count)*100\n",
    "print(\"Percentage of Complex Words\",pcw)\n",
    "#Average Word Length\n",
    "Average_Word_Length=len(content.replace(' ',''))/len(content.split())\n",
    "print(\"Average Word per Length\",Average_Word_Length)\n",
    "#Syllable Count Per Word\n",
    "word=content.replace(' ','')\n",
    "syllable_count=0\n",
    "for w in word:\n",
    "      if(w=='a' or w=='e' or w=='i' or w=='o' or w=='y' or w=='u' or w=='A' or w=='E' or w=='I' or w=='O' or w=='U' or w=='Y'):\n",
    "            syllable_count=syllable_count+1\n",
    "print(\"The AVG number of syllables in the word is: \")\n",
    "print(syllable_count/len(content.split()))"
   ]
  },
  {
   "cell_type": "code",
   "execution_count": 1,
   "id": "91950c87",
   "metadata": {},
   "outputs": [
    {
     "name": "stdout",
     "output_type": "stream",
     "text": [
      "19\n",
      "42\n",
      "Word average = 4874.0\n",
      "FOG INDEX =  389.85\n",
      "Average no of words per sentence\n",
      "968.0\n",
      "Complex Words 1718\n",
      "Word Count 5855\n",
      "Percentage of Complex Words 29.342442356959864\n",
      "Average Word per Length 5.035123966942149\n",
      "The AVG number of syllables in the word is: \n",
      "2.0113636363636362\n"
     ]
    },
    {
     "data": {
      "text/html": [
       "<div>\n",
       "<style scoped>\n",
       "    .dataframe tbody tr th:only-of-type {\n",
       "        vertical-align: middle;\n",
       "    }\n",
       "\n",
       "    .dataframe tbody tr th {\n",
       "        vertical-align: top;\n",
       "    }\n",
       "\n",
       "    .dataframe thead th {\n",
       "        text-align: right;\n",
       "    }\n",
       "</style>\n",
       "<table border=\"1\" class=\"dataframe\">\n",
       "  <thead>\n",
       "    <tr style=\"text-align: right;\">\n",
       "      <th></th>\n",
       "      <th>url</th>\n",
       "      <th>title</th>\n",
       "      <th>content</th>\n",
       "      <th>filter_content</th>\n",
       "      <th>Positive_Score</th>\n",
       "      <th>Negative_Score</th>\n",
       "      <th>Avg_Sentence_Length</th>\n",
       "      <th>Percentage_Complex_Word</th>\n",
       "      <th>Fog_Index</th>\n",
       "      <th>AVG_NUMBER_OF_WORDS_PER_SENTENCE</th>\n",
       "      <th>COMPLEX_WORDS</th>\n",
       "      <th>Word_Count</th>\n",
       "      <th>syllable</th>\n",
       "      <th>Average_Word_Length</th>\n",
       "      <th>polarity</th>\n",
       "      <th>subjectivity</th>\n",
       "    </tr>\n",
       "  </thead>\n",
       "  <tbody>\n",
       "    <tr>\n",
       "      <th>0</th>\n",
       "      <td>https://insights.blackcoffer.com/coronavirus-i...</td>\n",
       "      <td>COVID-19 Impact on Hospitality Industry</td>\n",
       "      <td>In December 2019 a novel coronavirus strain S...</td>\n",
       "      <td>In December 2019 a novel coronavirus strain SA...</td>\n",
       "      <td>19</td>\n",
       "      <td>42</td>\n",
       "      <td>4874.0</td>\n",
       "      <td>29.342442</td>\n",
       "      <td>389.85</td>\n",
       "      <td>968.0</td>\n",
       "      <td>1718</td>\n",
       "      <td>5855</td>\n",
       "      <td>2.011364</td>\n",
       "      <td>5.035124</td>\n",
       "      <td>0.08508</td>\n",
       "      <td>0.440314</td>\n",
       "    </tr>\n",
       "  </tbody>\n",
       "</table>\n",
       "</div>"
      ],
      "text/plain": [
       "                                                 url  \\\n",
       "0  https://insights.blackcoffer.com/coronavirus-i...   \n",
       "\n",
       "                                     title  \\\n",
       "0  COVID-19 Impact on Hospitality Industry   \n",
       "\n",
       "                                             content  \\\n",
       "0   In December 2019 a novel coronavirus strain S...   \n",
       "\n",
       "                                      filter_content  Positive_Score  \\\n",
       "0  In December 2019 a novel coronavirus strain SA...              19   \n",
       "\n",
       "   Negative_Score  Avg_Sentence_Length  Percentage_Complex_Word  Fog_Index  \\\n",
       "0              42               4874.0                29.342442     389.85   \n",
       "\n",
       "    AVG_NUMBER_OF_WORDS_PER_SENTENCE  COMPLEX_WORDS  Word_Count  syllable  \\\n",
       "0                              968.0           1718        5855  2.011364   \n",
       "\n",
       "   Average_Word_Length  polarity  subjectivity  \n",
       "0             5.035124   0.08508      0.440314  "
      ]
     },
     "execution_count": 1,
     "metadata": {},
     "output_type": "execute_result"
    }
   ],
   "source": [
    "import requests\n",
    "import pandas as pd \n",
    "from bs4 import BeautifulSoup\n",
    "import string\n",
    "import spacy\n",
    "import re\n",
    "url = \"\"\"https://insights.blackcoffer.com/coronavirus-impact-on-the-hospitality-industry-5/\"\"\"\n",
    "headers = {\"User-Agent\": \"Mozilla/5.0 (X11; Linux x86_64; rv:60.0) Gecko/20100101 Firefox/60.0\"}\n",
    "page = requests.get(url, headers=headers)\n",
    "soup = BeautifulSoup(page.content, 'html.parser')\n",
    "soup=BeautifulSoup(page.content, 'html.parser')\n",
    "title=soup.find('h1',class_=\"entry-title\")\n",
    "title=title.text.replace('\\n',\" \")\n",
    "# title\n",
    "\n",
    "content=soup.findAll(attrs={'class':'td-post-content'})\n",
    "content=content[0].text.replace('\\n',\" \")\n",
    "# print(content)\n",
    "#Punctuation\n",
    "content = content.translate(str.maketrans('', '', string.punctuation)) \n",
    "# print(content)\n",
    "text = content.split()\n",
    "# print(text)\n",
    "len(text)\n",
    "#Positive Score \n",
    "with open(r\"C:\\Users\\Om Bhandwalkar\\Desktop\\pos\\positive-words.txt\") as pos:\n",
    "    poswords = pos.read().split(\"\\n\")  \n",
    "    poswords = poswords[5:]\n",
    "pos_count = \" \".join ([w for w in text if w in poswords])\n",
    "pos_count=pos_count.split(\" \")\n",
    "Positive_score=len(pos_count)\n",
    "print(Positive_score)\n",
    "\n",
    "#Negative Score\n",
    "with open(r\"C:\\Users\\Om Bhandwalkar\\Desktop\\pos\\negative-words.txt\",encoding =\"ISO-8859-1\") as neg:\n",
    "    negwords = neg.read().split(\"\\n\")\n",
    "    \n",
    "negwords = negwords[36:]\n",
    "neg_count = \" \".join ([w for w in text if w in negwords])\n",
    "neg_count=neg_count.split(\" \")\n",
    "Negative_score=len(neg_count)\n",
    "print(Negative_score)\n",
    "\n",
    "\n",
    "filter_content = ' '.join(text)\n",
    "data=[[url,title,content,filter_content,Positive_score,Negative_score]]\n",
    "data=pd.DataFrame(data,columns=[\"url\",\"title\",\"content\",\"filter_content\",\"Positive_Score\",\"Negative_Score\"])\n",
    "from textblob import TextBlob\n",
    "# Get The Subjectivity\n",
    "def sentiment_analysis(data):\n",
    "    sentiment = TextBlob(data[\"content\"]).sentiment\n",
    "    return pd.Series([sentiment.polarity,sentiment.subjectivity ])\n",
    "data[[\"polarity\", \"subjectivity\"]] = data.apply(sentiment_analysis, axis=1)\n",
    "data\n",
    "#AVG SENTENCE LENGTH\n",
    "AVG_SENTENCE_LENGTH = len(content.replace(' ',''))/len(re.split(r'[?!.]', content))\n",
    "print('Word average =', AVG_SENTENCE_LENGTH)\n",
    "import textstat\n",
    "#Fog index \n",
    "FOG_INDEX=(textstat.gunning_fog(content))\n",
    "print(\"FOG INDEX = \",FOG_INDEX)\n",
    "#Average No of Words Per Sentence \n",
    "AVG_NUMBER_OF_WORDS_PER_SENTENCE = [len(l.split()) for l in re.split(r'[?!.]', content) if l.strip()]\n",
    "print(\"Average no of words per sentence\")\n",
    "AVG_NUMBER_OF_WORDS_PER_SENTENCE=(sum(AVG_NUMBER_OF_WORDS_PER_SENTENCE)/len(AVG_NUMBER_OF_WORDS_PER_SENTENCE))\n",
    "print(AVG_NUMBER_OF_WORDS_PER_SENTENCE)\n",
    "#Complex words\n",
    "def syllable_count(word):\n",
    "    count = 0\n",
    "    vowels = \"AEIOUYaeiouy\"\n",
    "    if word[0] in vowels:\n",
    "        count += 1\n",
    "    for index in range(1, len(word)): \n",
    "        if word[index] in vowels and word[index - 1] not in vowels:\n",
    "            count += 1\n",
    "            if word.endswith(\"es\"or \"ed\"):\n",
    "                count -= 1\n",
    "    if count == 0:\n",
    "        count += 1\n",
    "    return count\n",
    "\n",
    "\n",
    "\n",
    "COMPLEX_WORDS=syllable_count(content)\n",
    "print(\"Complex Words\",COMPLEX_WORDS)\n",
    "#Word Count\n",
    "Word_Count=len(content)\n",
    "print(\"Word Count\",Word_Count)\n",
    "#Percentage Complex Words\n",
    "pcw=(COMPLEX_WORDS/Word_Count)*100\n",
    "print(\"Percentage of Complex Words\",pcw)\n",
    "#Average Word Length\n",
    "Average_Word_Length=len(content.replace(' ',''))/len(content.split())\n",
    "print(\"Average Word per Length\",Average_Word_Length)\n",
    "#Syllable Count Per Word\n",
    "word=content.replace(' ','')\n",
    "syllable_count=0\n",
    "for w in word:\n",
    "      if(w=='a' or w=='e' or w=='i' or w=='o' or w=='y' or w=='u' or w=='A' or w=='E' or w=='I' or w=='O' or w=='U' or w=='Y'):\n",
    "            syllable_count=syllable_count+1\n",
    "print(\"The AVG number of syllables in the word is: \")\n",
    "syllable = (syllable_count/len(content.split()))\n",
    "print(syllable)\n",
    "\n",
    "data = [[url,title,content,filter_content,Positive_score,Negative_score,AVG_SENTENCE_LENGTH,pcw,FOG_INDEX,\n",
    "         AVG_NUMBER_OF_WORDS_PER_SENTENCE,COMPLEX_WORDS,Word_Count,syllable,Average_Word_Length]]\n",
    "data=pd.DataFrame(data,columns=[\"url\",\"title\",\"content\",\"filter_content\",\"Positive_Score\",\"Negative_Score\",\"Avg_Sentence_Length\"\n",
    "                               ,\"Percentage_Complex_Word\",\"Fog_Index\",\" AVG_NUMBER_OF_WORDS_PER_SENTENCE\",\"COMPLEX_WORDS\",\n",
    "                               \"Word_Count\",\"syllable\",\"Average_Word_Length\"])\n",
    "from textblob import TextBlob\n",
    "# Get The Subjectivity\n",
    "def sentiment_analysis(data):\n",
    "    sentiment = TextBlob(data[\"content\"]).sentiment\n",
    "    return pd.Series([sentiment.polarity,sentiment.subjectivity ])\n",
    "data[[\"polarity\", \"subjectivity\"]] = data.apply(sentiment_analysis, axis=1)\n",
    "data"
   ]
  },
  {
   "cell_type": "code",
   "execution_count": 2,
   "id": "a6154e0a",
   "metadata": {},
   "outputs": [],
   "source": [
    "data.to_csv(r'C:\\Users\\Om Bhandwalkar\\Desktop\\BlackCoffer Assignment\\Output\\url_97.csv')"
   ]
  },
  {
   "cell_type": "code",
   "execution_count": null,
   "id": "8a277c40",
   "metadata": {},
   "outputs": [],
   "source": []
  }
 ],
 "metadata": {
  "kernelspec": {
   "display_name": "Python 3 (ipykernel)",
   "language": "python",
   "name": "python3"
  },
  "language_info": {
   "codemirror_mode": {
    "name": "ipython",
    "version": 3
   },
   "file_extension": ".py",
   "mimetype": "text/x-python",
   "name": "python",
   "nbconvert_exporter": "python",
   "pygments_lexer": "ipython3",
   "version": "3.9.12"
  }
 },
 "nbformat": 4,
 "nbformat_minor": 5
}
