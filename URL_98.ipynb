{
 "cells": [
  {
   "cell_type": "code",
   "execution_count": 1,
   "id": "96ef0728",
   "metadata": {},
   "outputs": [
    {
     "data": {
      "text/plain": [
       "'Lessons from the past: Some key learnings relevant to the coronavirus crisis'"
      ]
     },
     "execution_count": 1,
     "metadata": {},
     "output_type": "execute_result"
    }
   ],
   "source": [
    "import requests\n",
    "import pandas as pd \n",
    "from bs4 import BeautifulSoup\n",
    "import string\n",
    "import spacy\n",
    "import re\n",
    "url = \"\"\"https://insights.blackcoffer.com/lessons-from-the-past-some-key-learnings-relevant-to-the-coronavirus-crisis-4/\"\"\"\n",
    "headers = {\"User-Agent\": \"Mozilla/5.0 (X11; Linux x86_64; rv:60.0) Gecko/20100101 Firefox/60.0\"}\n",
    "page = requests.get(url, headers=headers)\n",
    "soup = BeautifulSoup(page.content, 'html.parser')\n",
    "soup=BeautifulSoup(page.content, 'html.parser')\n",
    "title=soup.find('h1',class_=\"entry-title\")\n",
    "title=title.text.replace('\\n',\" \")\n",
    "title\n"
   ]
  },
  {
   "cell_type": "code",
   "execution_count": 2,
   "id": "3d4d916c",
   "metadata": {},
   "outputs": [
    {
     "name": "stdout",
     "output_type": "stream",
     "text": [
      " As a race, we are not ready for any kind of crisis. We have fire extinguishers in buildings, but barely any knowledge of how to use it. We convince ourselves that we are prepared but in the face of adversity we stand dumbfounded and give the simplest excuse, that of being in ‘unprecedented times’. The same thing has happened with the coronavirus crisis. If we look back, we can see that this crisis was not avoidable. There was a lot we could have done, but because we underestimated it so much, the situation has now blown out of proportion and cost us thousands of lives, millions of jobs and a massive hit to the world economy. We may be in a unique condition but there is still a lot that we can apply from past experiences and previous calamities.  First, let’s look at this in a reflective mode. What are the things we could have done to avoid this crisis in the first place? Controlling the origin of a virus is difficult but preventing it from spreading is not. One of the biggest contributors to this unforgiving crisis is the lack of communication or even worse, the propagation of fake news. Take India for example. Clear communication about the virus was only initiated after a few cases had been identified. We were aware of the hazards of this virus since before and should have acted sooner. The spread of accurate and timely information is a must. If we had spread awareness earlier, we could have controlled the number of cases better, like New Zealand and Ireland have done. Secondly, in a situation of crisis, the first thing to spread is fake news. It is imperative that the government, social media agencies and people themselves act more responsibly. Since there is no accurate and transparent information, a lot of uncertainty exists in the society. This impacts the confidence of consumers and investors in the market, which in turn leads to an economic slowdown. Past experiences with financial breakdowns and recessions have shown us that retain market trust can only occur with transparency and accuracy of information. Organisations should have acted earlier and communicated more effectively with their employees.  Moreover, we must also understand that specific sectors take the hardest hit during lockdowns. As we have witnessed in earlier lockdowns, curfews, national emergencies and pandemics, the first segment of society to take a hit is the daily wagers and labourers. Not only do the prices of goods increase but their income also takes a decline in such a crisis. In such situations, they can’t even afford basic amenities. India witnessed a mass exodus recently, with thousands of people trying to return to their villages on foot. This only leads to more chaos and a decline in containment of the disease. The government should have accounted for such factors before announcing a lockdown with a four hour notice. They could have made better arrangements for food and water in the metro cities itself or giving them safer means to travel home. This is something that they can still include in their relief programs. Government intervention is a must right now. This can be done in two ways. First, is to create more employment opportunities. Governments used this strategy in the SARS and Ebola Virus emergency. Health, water, sanitation and hygiene are the most services in the times of health emergencies. Intense investment for these services and infrastructure can provide immediate jobs. Secondly, if governments use fiscal and monetary policy to fuel demand and maintain current living standards, it can decrease the propensity of a huge fall in economic growth. A fiscal stimulus by the government can make all the difference. Having better avenues for cash transfers, easier loans and more exchange will automatically help. A fall in the growth rate is unavoidable as lots of sectors have no choice but to pause all work. However, industries that can provide high returns even now must be encouraged. For example, IT sector, health, food and agriculture, etc. Moreover, governments and businesses should use the most important tool in their hand, the internet! Even in the times of physical social distancing, we are still connected to people across the world and are socialising at our normal rates. Governments should use these mediums to maintain public spirit, communicate policy strategies and inform people. Businesses should use these means to continue working and maintain employee morale. To have balanced crisis management and to prevent panic in the masses, social dialogue and engagement at every level is imperative. Use these mediums to educate people about the importance of social distancing, hygiene and steps to be followed. All diseases are different and the scientific approach to tackle them varies. However, with most epidemics and pandemics some common steps can be followed. Our past experience with fast spreading diseases has shown that the easiest and most effective way to curb it is social distancing. Countries have taken impressive steps to ensure social distancing and must keep this up for even a few weeks after curbing the disease. Maintaining sanitary habits and hygiene can protect us from infections and increase our immunity. While governments and medical agencies look for ways to tackle the virus at a macro level, we must continue to follow all measures on an individual level too. We must also pay a lot of attention to mental and physical well-being now. In the past, when economies took a hit due to the 2008 recession or calamities, the first thing to break was people’s self-esteem. Suicide rates, amount of domestic abuse and cases of depression increased manifold. We have to take effort and ensure that we try and live as much of a balanced life as possible. We should stay connected to our friends and not be ashamed of reaching out to others for help. Social distancing is not easy and can take a toll on many. Lots of special helplines have been set up for the same and people must use them if needed. Governments have also given code words for victims of domestic abuse to report crimes in countries like France and Spain. We must remember to stay mentally healthy and calm during a crisis as that is the most important thing. I don’t believe that every crisis is the same. Of course, there are a lot of unique things about the coronavirus pandemic that we had not expected to ever see. Even though these are different times, there are still lots of things we can apply from our past experiences. We cannot find a cure for the virus but we can find ways to maintain the economy, our mental peace, and prevent the spread of the virus. The past has a lot to offer if we ponder. We must learn to understand the mistakes of the past and better them in the future. Our past experiences with the different crises have taught us that fiscal stimuli work, maintaining employee morale is important and that social. Engagement is imperative. If we use these tools efficiently, we can ensure that people only have to fight the virus and not worry about the multitude of repercussions that come with it. Blackcoffer Insights 17: Vani Milind Agarwal, Shri Ram College of Commerce (SRCC) \n",
      " As a race we are not ready for any kind of crisis We have fire extinguishers in buildings but barely any knowledge of how to use it We convince ourselves that we are prepared but in the face of adversity we stand dumbfounded and give the simplest excuse that of being in ‘unprecedented times’ The same thing has happened with the coronavirus crisis If we look back we can see that this crisis was not avoidable There was a lot we could have done but because we underestimated it so much the situation has now blown out of proportion and cost us thousands of lives millions of jobs and a massive hit to the world economy We may be in a unique condition but there is still a lot that we can apply from past experiences and previous calamities  First let’s look at this in a reflective mode What are the things we could have done to avoid this crisis in the first place Controlling the origin of a virus is difficult but preventing it from spreading is not One of the biggest contributors to this unforgiving crisis is the lack of communication or even worse the propagation of fake news Take India for example Clear communication about the virus was only initiated after a few cases had been identified We were aware of the hazards of this virus since before and should have acted sooner The spread of accurate and timely information is a must If we had spread awareness earlier we could have controlled the number of cases better like New Zealand and Ireland have done Secondly in a situation of crisis the first thing to spread is fake news It is imperative that the government social media agencies and people themselves act more responsibly Since there is no accurate and transparent information a lot of uncertainty exists in the society This impacts the confidence of consumers and investors in the market which in turn leads to an economic slowdown Past experiences with financial breakdowns and recessions have shown us that retain market trust can only occur with transparency and accuracy of information Organisations should have acted earlier and communicated more effectively with their employees  Moreover we must also understand that specific sectors take the hardest hit during lockdowns As we have witnessed in earlier lockdowns curfews national emergencies and pandemics the first segment of society to take a hit is the daily wagers and labourers Not only do the prices of goods increase but their income also takes a decline in such a crisis In such situations they can’t even afford basic amenities India witnessed a mass exodus recently with thousands of people trying to return to their villages on foot This only leads to more chaos and a decline in containment of the disease The government should have accounted for such factors before announcing a lockdown with a four hour notice They could have made better arrangements for food and water in the metro cities itself or giving them safer means to travel home This is something that they can still include in their relief programs Government intervention is a must right now This can be done in two ways First is to create more employment opportunities Governments used this strategy in the SARS and Ebola Virus emergency Health water sanitation and hygiene are the most services in the times of health emergencies Intense investment for these services and infrastructure can provide immediate jobs Secondly if governments use fiscal and monetary policy to fuel demand and maintain current living standards it can decrease the propensity of a huge fall in economic growth A fiscal stimulus by the government can make all the difference Having better avenues for cash transfers easier loans and more exchange will automatically help A fall in the growth rate is unavoidable as lots of sectors have no choice but to pause all work However industries that can provide high returns even now must be encouraged For example IT sector health food and agriculture etc Moreover governments and businesses should use the most important tool in their hand the internet Even in the times of physical social distancing we are still connected to people across the world and are socialising at our normal rates Governments should use these mediums to maintain public spirit communicate policy strategies and inform people Businesses should use these means to continue working and maintain employee morale To have balanced crisis management and to prevent panic in the masses social dialogue and engagement at every level is imperative Use these mediums to educate people about the importance of social distancing hygiene and steps to be followed All diseases are different and the scientific approach to tackle them varies However with most epidemics and pandemics some common steps can be followed Our past experience with fast spreading diseases has shown that the easiest and most effective way to curb it is social distancing Countries have taken impressive steps to ensure social distancing and must keep this up for even a few weeks after curbing the disease Maintaining sanitary habits and hygiene can protect us from infections and increase our immunity While governments and medical agencies look for ways to tackle the virus at a macro level we must continue to follow all measures on an individual level too We must also pay a lot of attention to mental and physical wellbeing now In the past when economies took a hit due to the 2008 recession or calamities the first thing to break was people’s selfesteem Suicide rates amount of domestic abuse and cases of depression increased manifold We have to take effort and ensure that we try and live as much of a balanced life as possible We should stay connected to our friends and not be ashamed of reaching out to others for help Social distancing is not easy and can take a toll on many Lots of special helplines have been set up for the same and people must use them if needed Governments have also given code words for victims of domestic abuse to report crimes in countries like France and Spain We must remember to stay mentally healthy and calm during a crisis as that is the most important thing I don’t believe that every crisis is the same Of course there are a lot of unique things about the coronavirus pandemic that we had not expected to ever see Even though these are different times there are still lots of things we can apply from our past experiences We cannot find a cure for the virus but we can find ways to maintain the economy our mental peace and prevent the spread of the virus The past has a lot to offer if we ponder We must learn to understand the mistakes of the past and better them in the future Our past experiences with the different crises have taught us that fiscal stimuli work maintaining employee morale is important and that social Engagement is imperative If we use these tools efficiently we can ensure that people only have to fight the virus and not worry about the multitude of repercussions that come with it Blackcoffer Insights 17 Vani Milind Agarwal Shri Ram College of Commerce SRCC \n",
      "['As', 'a', 'race', 'we', 'are', 'not', 'ready', 'for', 'any', 'kind', 'of', 'crisis', 'We', 'have', 'fire', 'extinguishers', 'in', 'buildings', 'but', 'barely', 'any', 'knowledge', 'of', 'how', 'to', 'use', 'it', 'We', 'convince', 'ourselves', 'that', 'we', 'are', 'prepared', 'but', 'in', 'the', 'face', 'of', 'adversity', 'we', 'stand', 'dumbfounded', 'and', 'give', 'the', 'simplest', 'excuse', 'that', 'of', 'being', 'in', '‘unprecedented', 'times’', 'The', 'same', 'thing', 'has', 'happened', 'with', 'the', 'coronavirus', 'crisis', 'If', 'we', 'look', 'back', 'we', 'can', 'see', 'that', 'this', 'crisis', 'was', 'not', 'avoidable', 'There', 'was', 'a', 'lot', 'we', 'could', 'have', 'done', 'but', 'because', 'we', 'underestimated', 'it', 'so', 'much', 'the', 'situation', 'has', 'now', 'blown', 'out', 'of', 'proportion', 'and', 'cost', 'us', 'thousands', 'of', 'lives', 'millions', 'of', 'jobs', 'and', 'a', 'massive', 'hit', 'to', 'the', 'world', 'economy', 'We', 'may', 'be', 'in', 'a', 'unique', 'condition', 'but', 'there', 'is', 'still', 'a', 'lot', 'that', 'we', 'can', 'apply', 'from', 'past', 'experiences', 'and', 'previous', 'calamities', 'First', 'let’s', 'look', 'at', 'this', 'in', 'a', 'reflective', 'mode', 'What', 'are', 'the', 'things', 'we', 'could', 'have', 'done', 'to', 'avoid', 'this', 'crisis', 'in', 'the', 'first', 'place', 'Controlling', 'the', 'origin', 'of', 'a', 'virus', 'is', 'difficult', 'but', 'preventing', 'it', 'from', 'spreading', 'is', 'not', 'One', 'of', 'the', 'biggest', 'contributors', 'to', 'this', 'unforgiving', 'crisis', 'is', 'the', 'lack', 'of', 'communication', 'or', 'even', 'worse', 'the', 'propagation', 'of', 'fake', 'news', 'Take', 'India', 'for', 'example', 'Clear', 'communication', 'about', 'the', 'virus', 'was', 'only', 'initiated', 'after', 'a', 'few', 'cases', 'had', 'been', 'identified', 'We', 'were', 'aware', 'of', 'the', 'hazards', 'of', 'this', 'virus', 'since', 'before', 'and', 'should', 'have', 'acted', 'sooner', 'The', 'spread', 'of', 'accurate', 'and', 'timely', 'information', 'is', 'a', 'must', 'If', 'we', 'had', 'spread', 'awareness', 'earlier', 'we', 'could', 'have', 'controlled', 'the', 'number', 'of', 'cases', 'better', 'like', 'New', 'Zealand', 'and', 'Ireland', 'have', 'done', 'Secondly', 'in', 'a', 'situation', 'of', 'crisis', 'the', 'first', 'thing', 'to', 'spread', 'is', 'fake', 'news', 'It', 'is', 'imperative', 'that', 'the', 'government', 'social', 'media', 'agencies', 'and', 'people', 'themselves', 'act', 'more', 'responsibly', 'Since', 'there', 'is', 'no', 'accurate', 'and', 'transparent', 'information', 'a', 'lot', 'of', 'uncertainty', 'exists', 'in', 'the', 'society', 'This', 'impacts', 'the', 'confidence', 'of', 'consumers', 'and', 'investors', 'in', 'the', 'market', 'which', 'in', 'turn', 'leads', 'to', 'an', 'economic', 'slowdown', 'Past', 'experiences', 'with', 'financial', 'breakdowns', 'and', 'recessions', 'have', 'shown', 'us', 'that', 'retain', 'market', 'trust', 'can', 'only', 'occur', 'with', 'transparency', 'and', 'accuracy', 'of', 'information', 'Organisations', 'should', 'have', 'acted', 'earlier', 'and', 'communicated', 'more', 'effectively', 'with', 'their', 'employees', 'Moreover', 'we', 'must', 'also', 'understand', 'that', 'specific', 'sectors', 'take', 'the', 'hardest', 'hit', 'during', 'lockdowns', 'As', 'we', 'have', 'witnessed', 'in', 'earlier', 'lockdowns', 'curfews', 'national', 'emergencies', 'and', 'pandemics', 'the', 'first', 'segment', 'of', 'society', 'to', 'take', 'a', 'hit', 'is', 'the', 'daily', 'wagers', 'and', 'labourers', 'Not', 'only', 'do', 'the', 'prices', 'of', 'goods', 'increase', 'but', 'their', 'income', 'also', 'takes', 'a', 'decline', 'in', 'such', 'a', 'crisis', 'In', 'such', 'situations', 'they', 'can’t', 'even', 'afford', 'basic', 'amenities', 'India', 'witnessed', 'a', 'mass', 'exodus', 'recently', 'with', 'thousands', 'of', 'people', 'trying', 'to', 'return', 'to', 'their', 'villages', 'on', 'foot', 'This', 'only', 'leads', 'to', 'more', 'chaos', 'and', 'a', 'decline', 'in', 'containment', 'of', 'the', 'disease', 'The', 'government', 'should', 'have', 'accounted', 'for', 'such', 'factors', 'before', 'announcing', 'a', 'lockdown', 'with', 'a', 'four', 'hour', 'notice', 'They', 'could', 'have', 'made', 'better', 'arrangements', 'for', 'food', 'and', 'water', 'in', 'the', 'metro', 'cities', 'itself', 'or', 'giving', 'them', 'safer', 'means', 'to', 'travel', 'home', 'This', 'is', 'something', 'that', 'they', 'can', 'still', 'include', 'in', 'their', 'relief', 'programs', 'Government', 'intervention', 'is', 'a', 'must', 'right', 'now', 'This', 'can', 'be', 'done', 'in', 'two', 'ways', 'First', 'is', 'to', 'create', 'more', 'employment', 'opportunities', 'Governments', 'used', 'this', 'strategy', 'in', 'the', 'SARS', 'and', 'Ebola', 'Virus', 'emergency', 'Health', 'water', 'sanitation', 'and', 'hygiene', 'are', 'the', 'most', 'services', 'in', 'the', 'times', 'of', 'health', 'emergencies', 'Intense', 'investment', 'for', 'these', 'services', 'and', 'infrastructure', 'can', 'provide', 'immediate', 'jobs', 'Secondly', 'if', 'governments', 'use', 'fiscal', 'and', 'monetary', 'policy', 'to', 'fuel', 'demand', 'and', 'maintain', 'current', 'living', 'standards', 'it', 'can', 'decrease', 'the', 'propensity', 'of', 'a', 'huge', 'fall', 'in', 'economic', 'growth', 'A', 'fiscal', 'stimulus', 'by', 'the', 'government', 'can', 'make', 'all', 'the', 'difference', 'Having', 'better', 'avenues', 'for', 'cash', 'transfers', 'easier', 'loans', 'and', 'more', 'exchange', 'will', 'automatically', 'help', 'A', 'fall', 'in', 'the', 'growth', 'rate', 'is', 'unavoidable', 'as', 'lots', 'of', 'sectors', 'have', 'no', 'choice', 'but', 'to', 'pause', 'all', 'work', 'However', 'industries', 'that', 'can', 'provide', 'high', 'returns', 'even', 'now', 'must', 'be', 'encouraged', 'For', 'example', 'IT', 'sector', 'health', 'food', 'and', 'agriculture', 'etc', 'Moreover', 'governments', 'and', 'businesses', 'should', 'use', 'the', 'most', 'important', 'tool', 'in', 'their', 'hand', 'the', 'internet', 'Even', 'in', 'the', 'times', 'of', 'physical', 'social', 'distancing', 'we', 'are', 'still', 'connected', 'to', 'people', 'across', 'the', 'world', 'and', 'are', 'socialising', 'at', 'our', 'normal', 'rates', 'Governments', 'should', 'use', 'these', 'mediums', 'to', 'maintain', 'public', 'spirit', 'communicate', 'policy', 'strategies', 'and', 'inform', 'people', 'Businesses', 'should', 'use', 'these', 'means', 'to', 'continue', 'working', 'and', 'maintain', 'employee', 'morale', 'To', 'have', 'balanced', 'crisis', 'management', 'and', 'to', 'prevent', 'panic', 'in', 'the', 'masses', 'social', 'dialogue', 'and', 'engagement', 'at', 'every', 'level', 'is', 'imperative', 'Use', 'these', 'mediums', 'to', 'educate', 'people', 'about', 'the', 'importance', 'of', 'social', 'distancing', 'hygiene', 'and', 'steps', 'to', 'be', 'followed', 'All', 'diseases', 'are', 'different', 'and', 'the', 'scientific', 'approach', 'to', 'tackle', 'them', 'varies', 'However', 'with', 'most', 'epidemics', 'and', 'pandemics', 'some', 'common', 'steps', 'can', 'be', 'followed', 'Our', 'past', 'experience', 'with', 'fast', 'spreading', 'diseases', 'has', 'shown', 'that', 'the', 'easiest', 'and', 'most', 'effective', 'way', 'to', 'curb', 'it', 'is', 'social', 'distancing', 'Countries', 'have', 'taken', 'impressive', 'steps', 'to', 'ensure', 'social', 'distancing', 'and', 'must', 'keep', 'this', 'up', 'for', 'even', 'a', 'few', 'weeks', 'after', 'curbing', 'the', 'disease', 'Maintaining', 'sanitary', 'habits', 'and', 'hygiene', 'can', 'protect', 'us', 'from', 'infections', 'and', 'increase', 'our', 'immunity', 'While', 'governments', 'and', 'medical', 'agencies', 'look', 'for', 'ways', 'to', 'tackle', 'the', 'virus', 'at', 'a', 'macro', 'level', 'we', 'must', 'continue', 'to', 'follow', 'all', 'measures', 'on', 'an', 'individual', 'level', 'too', 'We', 'must', 'also', 'pay', 'a', 'lot', 'of', 'attention', 'to', 'mental', 'and', 'physical', 'wellbeing', 'now', 'In', 'the', 'past', 'when', 'economies', 'took', 'a', 'hit', 'due', 'to', 'the', '2008', 'recession', 'or', 'calamities', 'the', 'first', 'thing', 'to', 'break', 'was', 'people’s', 'selfesteem', 'Suicide', 'rates', 'amount', 'of', 'domestic', 'abuse', 'and', 'cases', 'of', 'depression', 'increased', 'manifold', 'We', 'have', 'to', 'take', 'effort', 'and', 'ensure', 'that', 'we', 'try', 'and', 'live', 'as', 'much', 'of', 'a', 'balanced', 'life', 'as', 'possible', 'We', 'should', 'stay', 'connected', 'to', 'our', 'friends', 'and', 'not', 'be', 'ashamed', 'of', 'reaching', 'out', 'to', 'others', 'for', 'help', 'Social', 'distancing', 'is', 'not', 'easy', 'and', 'can', 'take', 'a', 'toll', 'on', 'many', 'Lots', 'of', 'special', 'helplines', 'have', 'been', 'set', 'up', 'for', 'the', 'same', 'and', 'people', 'must', 'use', 'them', 'if', 'needed', 'Governments', 'have', 'also', 'given', 'code', 'words', 'for', 'victims', 'of', 'domestic', 'abuse', 'to', 'report', 'crimes', 'in', 'countries', 'like', 'France', 'and', 'Spain', 'We', 'must', 'remember', 'to', 'stay', 'mentally', 'healthy', 'and', 'calm', 'during', 'a', 'crisis', 'as', 'that', 'is', 'the', 'most', 'important', 'thing', 'I', 'don’t', 'believe', 'that', 'every', 'crisis', 'is', 'the', 'same', 'Of', 'course', 'there', 'are', 'a', 'lot', 'of', 'unique', 'things', 'about', 'the', 'coronavirus', 'pandemic', 'that', 'we', 'had', 'not', 'expected', 'to', 'ever', 'see', 'Even', 'though', 'these', 'are', 'different', 'times', 'there', 'are', 'still', 'lots', 'of', 'things', 'we', 'can', 'apply', 'from', 'our', 'past', 'experiences', 'We', 'cannot', 'find', 'a', 'cure', 'for', 'the', 'virus', 'but', 'we', 'can', 'find', 'ways', 'to', 'maintain', 'the', 'economy', 'our', 'mental', 'peace', 'and', 'prevent', 'the', 'spread', 'of', 'the', 'virus', 'The', 'past', 'has', 'a', 'lot', 'to', 'offer', 'if', 'we', 'ponder', 'We', 'must', 'learn', 'to', 'understand', 'the', 'mistakes', 'of', 'the', 'past', 'and', 'better', 'them', 'in', 'the', 'future', 'Our', 'past', 'experiences', 'with', 'the', 'different', 'crises', 'have', 'taught', 'us', 'that', 'fiscal', 'stimuli', 'work', 'maintaining', 'employee', 'morale', 'is', 'important', 'and', 'that', 'social', 'Engagement', 'is', 'imperative', 'If', 'we', 'use', 'these', 'tools', 'efficiently', 'we', 'can', 'ensure', 'that', 'people', 'only', 'have', 'to', 'fight', 'the', 'virus', 'and', 'not', 'worry', 'about', 'the', 'multitude', 'of', 'repercussions', 'that', 'come', 'with', 'it', 'Blackcoffer', 'Insights', '17', 'Vani', 'Milind', 'Agarwal', 'Shri', 'Ram', 'College', 'of', 'Commerce', 'SRCC']\n"
     ]
    }
   ],
   "source": [
    "content=soup.findAll(attrs={'class':'td-post-content'})\n",
    "content=content[0].text.replace('\\n',\" \")\n",
    "print(content)\n",
    "#Punctuation\n",
    "content = content.translate(str.maketrans('', '', string.punctuation)) \n",
    "print(content)\n",
    "text = content.split()\n",
    "print(text)\n"
   ]
  },
  {
   "cell_type": "code",
   "execution_count": 4,
   "id": "4d1fe922",
   "metadata": {},
   "outputs": [
    {
     "data": {
      "text/plain": [
       "1212"
      ]
     },
     "execution_count": 4,
     "metadata": {},
     "output_type": "execute_result"
    }
   ],
   "source": [
    "len(text)"
   ]
  },
  {
   "cell_type": "code",
   "execution_count": 5,
   "id": "5d98f1ad",
   "metadata": {},
   "outputs": [
    {
     "name": "stdout",
     "output_type": "stream",
     "text": [
      "42\n"
     ]
    }
   ],
   "source": [
    "#Positive Score \n",
    "with open(r\"C:\\Users\\Om Bhandwalkar\\Desktop\\pos\\positive-words.txt\") as pos:\n",
    "    poswords = pos.read().split(\"\\n\")  \n",
    "    poswords = poswords[5:]\n",
    "pos_count = \" \".join ([w for w in text if w in poswords])\n",
    "pos_count=pos_count.split(\" \")\n",
    "Positive_score=len(pos_count)\n",
    "print(Positive_score)"
   ]
  },
  {
   "cell_type": "code",
   "execution_count": 6,
   "id": "0c2f1fd7",
   "metadata": {},
   "outputs": [
    {
     "name": "stdout",
     "output_type": "stream",
     "text": [
      "44\n"
     ]
    }
   ],
   "source": [
    "#Negative Score\n",
    "with open(r\"C:\\Users\\Om Bhandwalkar\\Desktop\\pos\\negative-words.txt\",encoding =\"ISO-8859-1\") as neg:\n",
    "    negwords = neg.read().split(\"\\n\")\n",
    "    \n",
    "negwords = negwords[36:]\n",
    "neg_count = \" \".join ([w for w in text if w in negwords])\n",
    "neg_count=neg_count.split(\" \")\n",
    "Negative_score=len(neg_count)\n",
    "print(Negative_score)"
   ]
  },
  {
   "cell_type": "code",
   "execution_count": 7,
   "id": "349c90d2",
   "metadata": {},
   "outputs": [
    {
     "data": {
      "text/html": [
       "<div>\n",
       "<style scoped>\n",
       "    .dataframe tbody tr th:only-of-type {\n",
       "        vertical-align: middle;\n",
       "    }\n",
       "\n",
       "    .dataframe tbody tr th {\n",
       "        vertical-align: top;\n",
       "    }\n",
       "\n",
       "    .dataframe thead th {\n",
       "        text-align: right;\n",
       "    }\n",
       "</style>\n",
       "<table border=\"1\" class=\"dataframe\">\n",
       "  <thead>\n",
       "    <tr style=\"text-align: right;\">\n",
       "      <th></th>\n",
       "      <th>url</th>\n",
       "      <th>title</th>\n",
       "      <th>content</th>\n",
       "      <th>filter_content</th>\n",
       "      <th>Positive_Score</th>\n",
       "      <th>Negative_Score</th>\n",
       "      <th>polarity</th>\n",
       "      <th>subjectivity</th>\n",
       "    </tr>\n",
       "  </thead>\n",
       "  <tbody>\n",
       "    <tr>\n",
       "      <th>0</th>\n",
       "      <td>https://insights.blackcoffer.com/lessons-from-...</td>\n",
       "      <td>Lessons from the past: Some key learnings rele...</td>\n",
       "      <td>As a race we are not ready for any kind of cr...</td>\n",
       "      <td>As a race we are not ready for any kind of cri...</td>\n",
       "      <td>42</td>\n",
       "      <td>44</td>\n",
       "      <td>0.114571</td>\n",
       "      <td>0.445062</td>\n",
       "    </tr>\n",
       "  </tbody>\n",
       "</table>\n",
       "</div>"
      ],
      "text/plain": [
       "                                                 url  \\\n",
       "0  https://insights.blackcoffer.com/lessons-from-...   \n",
       "\n",
       "                                               title  \\\n",
       "0  Lessons from the past: Some key learnings rele...   \n",
       "\n",
       "                                             content  \\\n",
       "0   As a race we are not ready for any kind of cr...   \n",
       "\n",
       "                                      filter_content  Positive_Score  \\\n",
       "0  As a race we are not ready for any kind of cri...              42   \n",
       "\n",
       "   Negative_Score  polarity  subjectivity  \n",
       "0              44  0.114571      0.445062  "
      ]
     },
     "execution_count": 7,
     "metadata": {},
     "output_type": "execute_result"
    }
   ],
   "source": [
    "filter_content = ' '.join(text)\n",
    "data=[[url,title,content,filter_content,Positive_score,Negative_score]]\n",
    "data=pd.DataFrame(data,columns=[\"url\",\"title\",\"content\",\"filter_content\",\"Positive_Score\",\"Negative_Score\"])\n",
    "from textblob import TextBlob\n",
    "# Get The Subjectivity\n",
    "def sentiment_analysis(data):\n",
    "    sentiment = TextBlob(data[\"content\"]).sentiment\n",
    "    return pd.Series([sentiment.polarity,sentiment.subjectivity ])\n",
    "\n",
    "# Adding Subjectivity & Polarity\n",
    "data[[\"polarity\", \"subjectivity\"]] = data.apply(sentiment_analysis, axis=1)\n",
    "\n",
    "data"
   ]
  },
  {
   "cell_type": "code",
   "execution_count": 8,
   "id": "d7613d7b",
   "metadata": {},
   "outputs": [
    {
     "name": "stdout",
     "output_type": "stream",
     "text": [
      "Word average = 5838.0\n",
      "FOG INDEX =  488.46\n",
      "Average no of words per sentence\n",
      "1212.0\n",
      "Complex Words 2098\n"
     ]
    }
   ],
   "source": [
    "#AVG SENTENCE LENGTH\n",
    "AVG_SENTENCE_LENGTH = len(content.replace(' ',''))/len(re.split(r'[?!.]', content))\n",
    "print('Word average =', AVG_SENTENCE_LENGTH)\n",
    "import textstat\n",
    "#Fog index \n",
    "FOG_INDEX=(textstat.gunning_fog(content))\n",
    "print(\"FOG INDEX = \",FOG_INDEX)\n",
    "#Average No of Words Per Sentence \n",
    "AVG_NUMBER_OF_WORDS_PER_SENTENCE = [len(l.split()) for l in re.split(r'[?!.]', content) if l.strip()]\n",
    "print(\"Average no of words per sentence\")\n",
    "AVG_NUMBER_OF_WORDS_PER_SENTENCE=print(sum(AVG_NUMBER_OF_WORDS_PER_SENTENCE)/len(AVG_NUMBER_OF_WORDS_PER_SENTENCE))\n",
    "#Complex words\n",
    "def syllable_count(word):\n",
    "    count = 0\n",
    "    vowels = \"AEIOUYaeiouy\"\n",
    "    if word[0] in vowels:\n",
    "        count += 1\n",
    "    for index in range(1, len(word)): \n",
    "        if word[index] in vowels and word[index - 1] not in vowels:\n",
    "            count += 1\n",
    "            if word.endswith(\"es\"or \"ed\"):\n",
    "                count -= 1\n",
    "    if count == 0:\n",
    "        count += 1\n",
    "    return count\n",
    "\n",
    "\n",
    "\n",
    "COMPLEX_WORDS=syllable_count(content)\n",
    "print(\"Complex Words\",COMPLEX_WORDS)\n"
   ]
  },
  {
   "cell_type": "code",
   "execution_count": 9,
   "id": "5414224a",
   "metadata": {},
   "outputs": [
    {
     "name": "stdout",
     "output_type": "stream",
     "text": [
      "Word Count 7050\n",
      "Percentage of Complex Words 29.75886524822695\n",
      "Average Word per Length 4.816831683168317\n",
      "The AVG number of syllables in the word is: \n",
      "1.943894389438944\n",
      "Word Count 7050\n",
      "Percentage of Complex Words 29.75886524822695\n",
      "Average Word per Length 4.816831683168317\n",
      "The AVG number of syllables in the word is: \n",
      "1.943894389438944\n"
     ]
    }
   ],
   "source": [
    "#Word Count\n",
    "Word_Count=len(content)\n",
    "print(\"Word Count\",Word_Count)\n",
    "#Percentage Complex Words\n",
    "pcw=(COMPLEX_WORDS/Word_Count)*100\n",
    "print(\"Percentage of Complex Words\",pcw)\n",
    "#Average Word Length\n",
    "Average_Word_Length=len(content.replace(' ',''))/len(content.split())\n",
    "print(\"Average Word per Length\",Average_Word_Length)\n",
    "#Syllable Count Per Word\n",
    "word=content.replace(' ','')\n",
    "syllable_count=0\n",
    "for w in word:\n",
    "      if(w=='a' or w=='e' or w=='i' or w=='o' or w=='y' or w=='u' or w=='A' or w=='E' or w=='I' or w=='O' or w=='U' or w=='Y'):\n",
    "            syllable_count=syllable_count+1\n",
    "print(\"The AVG number of syllables in the word is: \")\n",
    "print(syllable_count/len(content.split()))#Word Count\n",
    "Word_Count=len(content)\n",
    "print(\"Word Count\",Word_Count)\n",
    "#Percentage Complex Words\n",
    "pcw=(COMPLEX_WORDS/Word_Count)*100\n",
    "print(\"Percentage of Complex Words\",pcw)\n",
    "#Average Word Length\n",
    "Average_Word_Length=len(content.replace(' ',''))/len(content.split())\n",
    "print(\"Average Word per Length\",Average_Word_Length)\n",
    "#Syllable Count Per Word\n",
    "word=content.replace(' ','')\n",
    "syllable_count=0\n",
    "for w in word:\n",
    "      if(w=='a' or w=='e' or w=='i' or w=='o' or w=='y' or w=='u' or w=='A' or w=='E' or w=='I' or w=='O' or w=='U' or w=='Y'):\n",
    "            syllable_count=syllable_count+1\n",
    "print(\"The AVG number of syllables in the word is: \")\n",
    "print(syllable_count/len(content.split()))"
   ]
  },
  {
   "cell_type": "code",
   "execution_count": 1,
   "id": "7b78cef5",
   "metadata": {},
   "outputs": [
    {
     "name": "stdout",
     "output_type": "stream",
     "text": [
      "42\n",
      "44\n",
      "Word average = 5838.0\n",
      "FOG INDEX =  488.46\n",
      "Average no of words per sentence\n",
      "1212.0\n",
      "Complex Words 2098\n",
      "Word Count 7050\n",
      "Percentage of Complex Words 29.75886524822695\n",
      "Average Word per Length 4.816831683168317\n",
      "The AVG number of syllables in the word is: \n",
      "1.943894389438944\n"
     ]
    },
    {
     "data": {
      "text/html": [
       "<div>\n",
       "<style scoped>\n",
       "    .dataframe tbody tr th:only-of-type {\n",
       "        vertical-align: middle;\n",
       "    }\n",
       "\n",
       "    .dataframe tbody tr th {\n",
       "        vertical-align: top;\n",
       "    }\n",
       "\n",
       "    .dataframe thead th {\n",
       "        text-align: right;\n",
       "    }\n",
       "</style>\n",
       "<table border=\"1\" class=\"dataframe\">\n",
       "  <thead>\n",
       "    <tr style=\"text-align: right;\">\n",
       "      <th></th>\n",
       "      <th>url</th>\n",
       "      <th>title</th>\n",
       "      <th>content</th>\n",
       "      <th>filter_content</th>\n",
       "      <th>Positive_Score</th>\n",
       "      <th>Negative_Score</th>\n",
       "      <th>Avg_Sentence_Length</th>\n",
       "      <th>Percentage_Complex_Word</th>\n",
       "      <th>Fog_Index</th>\n",
       "      <th>AVG_NUMBER_OF_WORDS_PER_SENTENCE</th>\n",
       "      <th>COMPLEX_WORDS</th>\n",
       "      <th>Word_Count</th>\n",
       "      <th>syllable</th>\n",
       "      <th>Average_Word_Length</th>\n",
       "      <th>polarity</th>\n",
       "      <th>subjectivity</th>\n",
       "    </tr>\n",
       "  </thead>\n",
       "  <tbody>\n",
       "    <tr>\n",
       "      <th>0</th>\n",
       "      <td>https://insights.blackcoffer.com/lessons-from-...</td>\n",
       "      <td>Lessons from the past: Some key learnings rele...</td>\n",
       "      <td>As a race we are not ready for any kind of cr...</td>\n",
       "      <td>As a race we are not ready for any kind of cri...</td>\n",
       "      <td>42</td>\n",
       "      <td>44</td>\n",
       "      <td>5838.0</td>\n",
       "      <td>29.758865</td>\n",
       "      <td>488.46</td>\n",
       "      <td>1212.0</td>\n",
       "      <td>2098</td>\n",
       "      <td>7050</td>\n",
       "      <td>1.943894</td>\n",
       "      <td>4.816832</td>\n",
       "      <td>0.114571</td>\n",
       "      <td>0.445062</td>\n",
       "    </tr>\n",
       "  </tbody>\n",
       "</table>\n",
       "</div>"
      ],
      "text/plain": [
       "                                                 url  \\\n",
       "0  https://insights.blackcoffer.com/lessons-from-...   \n",
       "\n",
       "                                               title  \\\n",
       "0  Lessons from the past: Some key learnings rele...   \n",
       "\n",
       "                                             content  \\\n",
       "0   As a race we are not ready for any kind of cr...   \n",
       "\n",
       "                                      filter_content  Positive_Score  \\\n",
       "0  As a race we are not ready for any kind of cri...              42   \n",
       "\n",
       "   Negative_Score  Avg_Sentence_Length  Percentage_Complex_Word  Fog_Index  \\\n",
       "0              44               5838.0                29.758865     488.46   \n",
       "\n",
       "    AVG_NUMBER_OF_WORDS_PER_SENTENCE  COMPLEX_WORDS  Word_Count  syllable  \\\n",
       "0                             1212.0           2098        7050  1.943894   \n",
       "\n",
       "   Average_Word_Length  polarity  subjectivity  \n",
       "0             4.816832  0.114571      0.445062  "
      ]
     },
     "execution_count": 1,
     "metadata": {},
     "output_type": "execute_result"
    }
   ],
   "source": [
    "import requests\n",
    "import pandas as pd \n",
    "from bs4 import BeautifulSoup\n",
    "import string\n",
    "import spacy\n",
    "import re\n",
    "url = \"\"\"https://insights.blackcoffer.com/lessons-from-the-past-some-key-learnings-relevant-to-the-coronavirus-crisis-4/\"\"\"\n",
    "headers = {\"User-Agent\": \"Mozilla/5.0 (X11; Linux x86_64; rv:60.0) Gecko/20100101 Firefox/60.0\"}\n",
    "page = requests.get(url, headers=headers)\n",
    "soup = BeautifulSoup(page.content, 'html.parser')\n",
    "soup=BeautifulSoup(page.content, 'html.parser')\n",
    "title=soup.find('h1',class_=\"entry-title\")\n",
    "title=title.text.replace('\\n',\" \")\n",
    "# title\n",
    "\n",
    "content=soup.findAll(attrs={'class':'td-post-content'})\n",
    "content=content[0].text.replace('\\n',\" \")\n",
    "# print(content)\n",
    "#Punctuation\n",
    "content = content.translate(str.maketrans('', '', string.punctuation)) \n",
    "# print(content)\n",
    "text = content.split()\n",
    "# print(text)\n",
    "len(text)\n",
    "#Positive Score \n",
    "with open(r\"C:\\Users\\Om Bhandwalkar\\Desktop\\pos\\positive-words.txt\") as pos:\n",
    "    poswords = pos.read().split(\"\\n\")  \n",
    "    poswords = poswords[5:]\n",
    "pos_count = \" \".join ([w for w in text if w in poswords])\n",
    "pos_count=pos_count.split(\" \")\n",
    "Positive_score=len(pos_count)\n",
    "print(Positive_score)\n",
    "\n",
    "#Negative Score\n",
    "with open(r\"C:\\Users\\Om Bhandwalkar\\Desktop\\pos\\negative-words.txt\",encoding =\"ISO-8859-1\") as neg:\n",
    "    negwords = neg.read().split(\"\\n\")\n",
    "    \n",
    "negwords = negwords[36:]\n",
    "neg_count = \" \".join ([w for w in text if w in negwords])\n",
    "neg_count=neg_count.split(\" \")\n",
    "Negative_score=len(neg_count)\n",
    "print(Negative_score)\n",
    "\n",
    "\n",
    "filter_content = ' '.join(text)\n",
    "data=[[url,title,content,filter_content,Positive_score,Negative_score]]\n",
    "data=pd.DataFrame(data,columns=[\"url\",\"title\",\"content\",\"filter_content\",\"Positive_Score\",\"Negative_Score\"])\n",
    "from textblob import TextBlob\n",
    "# Get The Subjectivity\n",
    "def sentiment_analysis(data):\n",
    "    sentiment = TextBlob(data[\"content\"]).sentiment\n",
    "    return pd.Series([sentiment.polarity,sentiment.subjectivity ])\n",
    "data[[\"polarity\", \"subjectivity\"]] = data.apply(sentiment_analysis, axis=1)\n",
    "data\n",
    "#AVG SENTENCE LENGTH\n",
    "AVG_SENTENCE_LENGTH = len(content.replace(' ',''))/len(re.split(r'[?!.]', content))\n",
    "print('Word average =', AVG_SENTENCE_LENGTH)\n",
    "import textstat\n",
    "#Fog index \n",
    "FOG_INDEX=(textstat.gunning_fog(content))\n",
    "print(\"FOG INDEX = \",FOG_INDEX)\n",
    "#Average No of Words Per Sentence \n",
    "AVG_NUMBER_OF_WORDS_PER_SENTENCE = [len(l.split()) for l in re.split(r'[?!.]', content) if l.strip()]\n",
    "print(\"Average no of words per sentence\")\n",
    "AVG_NUMBER_OF_WORDS_PER_SENTENCE=(sum(AVG_NUMBER_OF_WORDS_PER_SENTENCE)/len(AVG_NUMBER_OF_WORDS_PER_SENTENCE))\n",
    "print(AVG_NUMBER_OF_WORDS_PER_SENTENCE)\n",
    "#Complex words\n",
    "def syllable_count(word):\n",
    "    count = 0\n",
    "    vowels = \"AEIOUYaeiouy\"\n",
    "    if word[0] in vowels:\n",
    "        count += 1\n",
    "    for index in range(1, len(word)): \n",
    "        if word[index] in vowels and word[index - 1] not in vowels:\n",
    "            count += 1\n",
    "            if word.endswith(\"es\"or \"ed\"):\n",
    "                count -= 1\n",
    "    if count == 0:\n",
    "        count += 1\n",
    "    return count\n",
    "\n",
    "\n",
    "\n",
    "COMPLEX_WORDS=syllable_count(content)\n",
    "print(\"Complex Words\",COMPLEX_WORDS)\n",
    "#Word Count\n",
    "Word_Count=len(content)\n",
    "print(\"Word Count\",Word_Count)\n",
    "#Percentage Complex Words\n",
    "pcw=(COMPLEX_WORDS/Word_Count)*100\n",
    "print(\"Percentage of Complex Words\",pcw)\n",
    "#Average Word Length\n",
    "Average_Word_Length=len(content.replace(' ',''))/len(content.split())\n",
    "print(\"Average Word per Length\",Average_Word_Length)\n",
    "#Syllable Count Per Word\n",
    "word=content.replace(' ','')\n",
    "syllable_count=0\n",
    "for w in word:\n",
    "      if(w=='a' or w=='e' or w=='i' or w=='o' or w=='y' or w=='u' or w=='A' or w=='E' or w=='I' or w=='O' or w=='U' or w=='Y'):\n",
    "            syllable_count=syllable_count+1\n",
    "print(\"The AVG number of syllables in the word is: \")\n",
    "syllable = (syllable_count/len(content.split()))\n",
    "print(syllable)\n",
    "\n",
    "data = [[url,title,content,filter_content,Positive_score,Negative_score,AVG_SENTENCE_LENGTH,pcw,FOG_INDEX,\n",
    "         AVG_NUMBER_OF_WORDS_PER_SENTENCE,COMPLEX_WORDS,Word_Count,syllable,Average_Word_Length]]\n",
    "data=pd.DataFrame(data,columns=[\"url\",\"title\",\"content\",\"filter_content\",\"Positive_Score\",\"Negative_Score\",\"Avg_Sentence_Length\"\n",
    "                               ,\"Percentage_Complex_Word\",\"Fog_Index\",\" AVG_NUMBER_OF_WORDS_PER_SENTENCE\",\"COMPLEX_WORDS\",\n",
    "                               \"Word_Count\",\"syllable\",\"Average_Word_Length\"])\n",
    "from textblob import TextBlob\n",
    "# Get The Subjectivity\n",
    "def sentiment_analysis(data):\n",
    "    sentiment = TextBlob(data[\"content\"]).sentiment\n",
    "    return pd.Series([sentiment.polarity,sentiment.subjectivity ])\n",
    "data[[\"polarity\", \"subjectivity\"]] = data.apply(sentiment_analysis, axis=1)\n",
    "data"
   ]
  },
  {
   "cell_type": "code",
   "execution_count": 2,
   "id": "fe4fd6f2",
   "metadata": {},
   "outputs": [],
   "source": [
    "data.to_csv(r'C:\\Users\\Om Bhandwalkar\\Desktop\\BlackCoffer Assignment\\Output\\url_98.csv')"
   ]
  },
  {
   "cell_type": "code",
   "execution_count": null,
   "id": "275b7a46",
   "metadata": {},
   "outputs": [],
   "source": []
  }
 ],
 "metadata": {
  "kernelspec": {
   "display_name": "Python 3 (ipykernel)",
   "language": "python",
   "name": "python3"
  },
  "language_info": {
   "codemirror_mode": {
    "name": "ipython",
    "version": 3
   },
   "file_extension": ".py",
   "mimetype": "text/x-python",
   "name": "python",
   "nbconvert_exporter": "python",
   "pygments_lexer": "ipython3",
   "version": "3.9.12"
  }
 },
 "nbformat": 4,
 "nbformat_minor": 5
}
