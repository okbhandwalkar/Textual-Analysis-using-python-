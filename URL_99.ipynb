{
 "cells": [
  {
   "cell_type": "code",
   "execution_count": 1,
   "id": "882356e7",
   "metadata": {},
   "outputs": [
    {
     "data": {
      "text/plain": [
       "'Estimating the impact of COVID-19 on the world of work'"
      ]
     },
     "execution_count": 1,
     "metadata": {},
     "output_type": "execute_result"
    }
   ],
   "source": [
    "import requests\n",
    "import pandas as pd \n",
    "from bs4 import BeautifulSoup\n",
    "import string\n",
    "import spacy\n",
    "import re\n",
    "url = \"\"\"https://insights.blackcoffer.com/estimating-the-impact-of-covid-19-on-the-world-of-work-2/\"\"\"\n",
    "headers = {\"User-Agent\": \"Mozilla/5.0 (X11; Linux x86_64; rv:60.0) Gecko/20100101 Firefox/60.0\"}\n",
    "page = requests.get(url, headers=headers)\n",
    "soup = BeautifulSoup(page.content, 'html.parser')\n",
    "soup=BeautifulSoup(page.content, 'html.parser')\n",
    "title=soup.find('h1',class_=\"entry-title\")\n",
    "title=title.text.replace('\\n',\" \")\n",
    "title\n"
   ]
  },
  {
   "cell_type": "code",
   "execution_count": 2,
   "id": "ce4338d6",
   "metadata": {},
   "outputs": [
    {
     "name": "stdout",
     "output_type": "stream",
     "text": [
      " COVID-19 an unprecedented pandemic for us but a “Can-be” possibility for great leaders such as bill gates came into action since the rising of the year 2020. The corollary of this pandemic is so prodigious that the analysis by the UN Department of Economic and Social Affairs (DESA) stated that the COVID-19 pandemic is disrupting global supply chains and international trade which in turn could shrink the global economy by up to 1 percent in 2020, a reversal from the previous forecast of 2.5 percent growth. More than 6.6 million Americans filed unemployment claims and the economic downturn is expected to be the worst recession since the Great Depression as stated by the IMF. India is facing its biggest crisis in decades, with a three-week lockdown initially, but extending further in a nation of 1.3 billion people likely to result in an economic recession, millions of job losses and possible starvation among the poor. It can be said that economic contagion is now spreading as fast as the disease itself. On the contrary nature has pressed the reset button, the environment is having a noticeable benefit from this scenario. Water is getting clearer, the air is turning breathable and various such news and pictures can be easily heard and seen on newspapers, telly, and social media platforms on day to day basis. But this is the storyline of the present, what about the future? Are the predictions made by financial institutions and thought leaders going to be true? Or something unexpected is going to happen that will make us think of our human capabilities again? After this storm of COVID-19, it would not be a surprise to see how digitally every business will grow to provide better digital infrastructure and customer experience along with advancement in technology which we are lacking in this present scenario. The touch screens that we are using already will find its vast applications and would be seen in most of the places including hotels, hostels, and shopping malls. All those processes which are interdependent will take an agile turn resulting in better productivity of goods, having a systematic backup giving a better experience to the consumer even in hard situations. The major focus would be making contactless systems hence Artificial intelligence and machine learning will become the most rapid and in-demand fields. Not only this, but the medical infrastructure and services will also take a boost in the race of developing the systems to handle any situation afterward. The human to machine interaction will increase facilitating fast production, delivery and surveillance inculcating many more. In each and every area the COVID will leave its mark may it be retail sector or may it be the banking sector making them modify or fully change their architectures. Even the existing systems would be gifted with some modifications, ensuring them to work in a hard environment even with or without human intervention. The Companies will rethink their policies shaping themselves accordingly to manage the resources ensuring safety, agility, and work to be a top priority. The work from home idea will also provide a base for bigger companies ensuring to develop a better infrastructure for their resources and probably giving birth to a new concept of work culture. Various existing industries related to either delivery or travel may adopt the new idea of collaboration with other industries which will result in more options for consumers on their old routine Apps.  New businesses will root out from the existing ventures resulting in head to head competition in the business world but turning into a brownie point for consumer experience and bandwidth of choices. Start-up culture will go hand in hand and expected to take a stupendous growth in the race of providing us a legitimate opportunity to use and feel the real digital world. The various innovations will now take a pace in each field and maybe we will hear some new jargons related to tech in upcoming years. Since the global economy has fumbled, countries will now try to take a different turn to vamoose out of this phase. They will try to make new connections by nurturing a give and take relationship and several business relationships would take an unexpected move making the position of several countries sliding up and down on indexes. Even rival countries may join their hands in this hard time rather than being dismissed totally under predator countries. It would be surprising to see how these scenarios will be handled by the emperor of minds and how their opponents are going to take it as an agenda for the next elections. Unfortunately, the nature that is at its best will start to face the ill effects after the chart of development and economy will take a pace for exponential growth. It is unfortunate that the inverse relationship between economic growth and environmental destruction exists since carbon emission increases with economic development. As shown by the graph below whenever recession took place the carbon emission decreases along with other harmful gases, turning out as a gift for nature but doom for the financial markets.  But there is a possibility that several start-ups now emerge with the idea of environment conservation collaborating with NGOs innovating and using the best of their capability to reduce the ill effect from the present origin point. In the culmination we can say this pandemic is like “Blessing in disguise ” producing a massive impact not only on macro but also on micro-economy. The novel virus not only brought some unexpected results but also uncovered some of our loopholes and unlatched new opportunities for growth, forcing us to define ourselves in several new spheres. Quite a while ago we all were chit-chatting about the digital Era, how this is benefiting us, COVID-19 revealed making us realize this was just the beginning of digital Era and a lot is needed to happen in future. It is obvious that not only the Indian economy but the global economy is facing and going to face the aftereffects however similar to a virus, the economy will also rise from deep grounds to a green candlestick with individual collaboration! The businesses will soon rise again, people will get back to their jobs, vendors will start getting profits and everything will fall into its places but now a megalithic competitive environment will rise which will grow till decades until nature again shows it’s color and we as a human abide with its outcomes, learning some new lessons and keeping this cycle of fall and growth running. Blackcoffer Insights 17:Vedansh Dubey,TCS Indore M.P  \n",
      " COVID19 an unprecedented pandemic for us but a “Canbe” possibility for great leaders such as bill gates came into action since the rising of the year 2020 The corollary of this pandemic is so prodigious that the analysis by the UN Department of Economic and Social Affairs DESA stated that the COVID19 pandemic is disrupting global supply chains and international trade which in turn could shrink the global economy by up to 1 percent in 2020 a reversal from the previous forecast of 25 percent growth More than 66 million Americans filed unemployment claims and the economic downturn is expected to be the worst recession since the Great Depression as stated by the IMF India is facing its biggest crisis in decades with a threeweek lockdown initially but extending further in a nation of 13 billion people likely to result in an economic recession millions of job losses and possible starvation among the poor It can be said that economic contagion is now spreading as fast as the disease itself On the contrary nature has pressed the reset button the environment is having a noticeable benefit from this scenario Water is getting clearer the air is turning breathable and various such news and pictures can be easily heard and seen on newspapers telly and social media platforms on day to day basis But this is the storyline of the present what about the future Are the predictions made by financial institutions and thought leaders going to be true Or something unexpected is going to happen that will make us think of our human capabilities again After this storm of COVID19 it would not be a surprise to see how digitally every business will grow to provide better digital infrastructure and customer experience along with advancement in technology which we are lacking in this present scenario The touch screens that we are using already will find its vast applications and would be seen in most of the places including hotels hostels and shopping malls All those processes which are interdependent will take an agile turn resulting in better productivity of goods having a systematic backup giving a better experience to the consumer even in hard situations The major focus would be making contactless systems hence Artificial intelligence and machine learning will become the most rapid and indemand fields Not only this but the medical infrastructure and services will also take a boost in the race of developing the systems to handle any situation afterward The human to machine interaction will increase facilitating fast production delivery and surveillance inculcating many more In each and every area the COVID will leave its mark may it be retail sector or may it be the banking sector making them modify or fully change their architectures Even the existing systems would be gifted with some modifications ensuring them to work in a hard environment even with or without human intervention The Companies will rethink their policies shaping themselves accordingly to manage the resources ensuring safety agility and work to be a top priority The work from home idea will also provide a base for bigger companies ensuring to develop a better infrastructure for their resources and probably giving birth to a new concept of work culture Various existing industries related to either delivery or travel may adopt the new idea of collaboration with other industries which will result in more options for consumers on their old routine Apps  New businesses will root out from the existing ventures resulting in head to head competition in the business world but turning into a brownie point for consumer experience and bandwidth of choices Startup culture will go hand in hand and expected to take a stupendous growth in the race of providing us a legitimate opportunity to use and feel the real digital world The various innovations will now take a pace in each field and maybe we will hear some new jargons related to tech in upcoming years Since the global economy has fumbled countries will now try to take a different turn to vamoose out of this phase They will try to make new connections by nurturing a give and take relationship and several business relationships would take an unexpected move making the position of several countries sliding up and down on indexes Even rival countries may join their hands in this hard time rather than being dismissed totally under predator countries It would be surprising to see how these scenarios will be handled by the emperor of minds and how their opponents are going to take it as an agenda for the next elections Unfortunately the nature that is at its best will start to face the ill effects after the chart of development and economy will take a pace for exponential growth It is unfortunate that the inverse relationship between economic growth and environmental destruction exists since carbon emission increases with economic development As shown by the graph below whenever recession took place the carbon emission decreases along with other harmful gases turning out as a gift for nature but doom for the financial markets  But there is a possibility that several startups now emerge with the idea of environment conservation collaborating with NGOs innovating and using the best of their capability to reduce the ill effect from the present origin point In the culmination we can say this pandemic is like “Blessing in disguise ” producing a massive impact not only on macro but also on microeconomy The novel virus not only brought some unexpected results but also uncovered some of our loopholes and unlatched new opportunities for growth forcing us to define ourselves in several new spheres Quite a while ago we all were chitchatting about the digital Era how this is benefiting us COVID19 revealed making us realize this was just the beginning of digital Era and a lot is needed to happen in future It is obvious that not only the Indian economy but the global economy is facing and going to face the aftereffects however similar to a virus the economy will also rise from deep grounds to a green candlestick with individual collaboration The businesses will soon rise again people will get back to their jobs vendors will start getting profits and everything will fall into its places but now a megalithic competitive environment will rise which will grow till decades until nature again shows it’s color and we as a human abide with its outcomes learning some new lessons and keeping this cycle of fall and growth running Blackcoffer Insights 17Vedansh DubeyTCS Indore MP  \n",
      "['COVID19', 'an', 'unprecedented', 'pandemic', 'for', 'us', 'but', 'a', '“Canbe”', 'possibility', 'for', 'great', 'leaders', 'such', 'as', 'bill', 'gates', 'came', 'into', 'action', 'since', 'the', 'rising', 'of', 'the', 'year', '2020', 'The', 'corollary', 'of', 'this', 'pandemic', 'is', 'so', 'prodigious', 'that', 'the', 'analysis', 'by', 'the', 'UN', 'Department', 'of', 'Economic', 'and', 'Social', 'Affairs', 'DESA', 'stated', 'that', 'the', 'COVID19', 'pandemic', 'is', 'disrupting', 'global', 'supply', 'chains', 'and', 'international', 'trade', 'which', 'in', 'turn', 'could', 'shrink', 'the', 'global', 'economy', 'by', 'up', 'to', '1', 'percent', 'in', '2020', 'a', 'reversal', 'from', 'the', 'previous', 'forecast', 'of', '25', 'percent', 'growth', 'More', 'than', '66', 'million', 'Americans', 'filed', 'unemployment', 'claims', 'and', 'the', 'economic', 'downturn', 'is', 'expected', 'to', 'be', 'the', 'worst', 'recession', 'since', 'the', 'Great', 'Depression', 'as', 'stated', 'by', 'the', 'IMF', 'India', 'is', 'facing', 'its', 'biggest', 'crisis', 'in', 'decades', 'with', 'a', 'threeweek', 'lockdown', 'initially', 'but', 'extending', 'further', 'in', 'a', 'nation', 'of', '13', 'billion', 'people', 'likely', 'to', 'result', 'in', 'an', 'economic', 'recession', 'millions', 'of', 'job', 'losses', 'and', 'possible', 'starvation', 'among', 'the', 'poor', 'It', 'can', 'be', 'said', 'that', 'economic', 'contagion', 'is', 'now', 'spreading', 'as', 'fast', 'as', 'the', 'disease', 'itself', 'On', 'the', 'contrary', 'nature', 'has', 'pressed', 'the', 'reset', 'button', 'the', 'environment', 'is', 'having', 'a', 'noticeable', 'benefit', 'from', 'this', 'scenario', 'Water', 'is', 'getting', 'clearer', 'the', 'air', 'is', 'turning', 'breathable', 'and', 'various', 'such', 'news', 'and', 'pictures', 'can', 'be', 'easily', 'heard', 'and', 'seen', 'on', 'newspapers', 'telly', 'and', 'social', 'media', 'platforms', 'on', 'day', 'to', 'day', 'basis', 'But', 'this', 'is', 'the', 'storyline', 'of', 'the', 'present', 'what', 'about', 'the', 'future', 'Are', 'the', 'predictions', 'made', 'by', 'financial', 'institutions', 'and', 'thought', 'leaders', 'going', 'to', 'be', 'true', 'Or', 'something', 'unexpected', 'is', 'going', 'to', 'happen', 'that', 'will', 'make', 'us', 'think', 'of', 'our', 'human', 'capabilities', 'again', 'After', 'this', 'storm', 'of', 'COVID19', 'it', 'would', 'not', 'be', 'a', 'surprise', 'to', 'see', 'how', 'digitally', 'every', 'business', 'will', 'grow', 'to', 'provide', 'better', 'digital', 'infrastructure', 'and', 'customer', 'experience', 'along', 'with', 'advancement', 'in', 'technology', 'which', 'we', 'are', 'lacking', 'in', 'this', 'present', 'scenario', 'The', 'touch', 'screens', 'that', 'we', 'are', 'using', 'already', 'will', 'find', 'its', 'vast', 'applications', 'and', 'would', 'be', 'seen', 'in', 'most', 'of', 'the', 'places', 'including', 'hotels', 'hostels', 'and', 'shopping', 'malls', 'All', 'those', 'processes', 'which', 'are', 'interdependent', 'will', 'take', 'an', 'agile', 'turn', 'resulting', 'in', 'better', 'productivity', 'of', 'goods', 'having', 'a', 'systematic', 'backup', 'giving', 'a', 'better', 'experience', 'to', 'the', 'consumer', 'even', 'in', 'hard', 'situations', 'The', 'major', 'focus', 'would', 'be', 'making', 'contactless', 'systems', 'hence', 'Artificial', 'intelligence', 'and', 'machine', 'learning', 'will', 'become', 'the', 'most', 'rapid', 'and', 'indemand', 'fields', 'Not', 'only', 'this', 'but', 'the', 'medical', 'infrastructure', 'and', 'services', 'will', 'also', 'take', 'a', 'boost', 'in', 'the', 'race', 'of', 'developing', 'the', 'systems', 'to', 'handle', 'any', 'situation', 'afterward', 'The', 'human', 'to', 'machine', 'interaction', 'will', 'increase', 'facilitating', 'fast', 'production', 'delivery', 'and', 'surveillance', 'inculcating', 'many', 'more', 'In', 'each', 'and', 'every', 'area', 'the', 'COVID', 'will', 'leave', 'its', 'mark', 'may', 'it', 'be', 'retail', 'sector', 'or', 'may', 'it', 'be', 'the', 'banking', 'sector', 'making', 'them', 'modify', 'or', 'fully', 'change', 'their', 'architectures', 'Even', 'the', 'existing', 'systems', 'would', 'be', 'gifted', 'with', 'some', 'modifications', 'ensuring', 'them', 'to', 'work', 'in', 'a', 'hard', 'environment', 'even', 'with', 'or', 'without', 'human', 'intervention', 'The', 'Companies', 'will', 'rethink', 'their', 'policies', 'shaping', 'themselves', 'accordingly', 'to', 'manage', 'the', 'resources', 'ensuring', 'safety', 'agility', 'and', 'work', 'to', 'be', 'a', 'top', 'priority', 'The', 'work', 'from', 'home', 'idea', 'will', 'also', 'provide', 'a', 'base', 'for', 'bigger', 'companies', 'ensuring', 'to', 'develop', 'a', 'better', 'infrastructure', 'for', 'their', 'resources', 'and', 'probably', 'giving', 'birth', 'to', 'a', 'new', 'concept', 'of', 'work', 'culture', 'Various', 'existing', 'industries', 'related', 'to', 'either', 'delivery', 'or', 'travel', 'may', 'adopt', 'the', 'new', 'idea', 'of', 'collaboration', 'with', 'other', 'industries', 'which', 'will', 'result', 'in', 'more', 'options', 'for', 'consumers', 'on', 'their', 'old', 'routine', 'Apps', 'New', 'businesses', 'will', 'root', 'out', 'from', 'the', 'existing', 'ventures', 'resulting', 'in', 'head', 'to', 'head', 'competition', 'in', 'the', 'business', 'world', 'but', 'turning', 'into', 'a', 'brownie', 'point', 'for', 'consumer', 'experience', 'and', 'bandwidth', 'of', 'choices', 'Startup', 'culture', 'will', 'go', 'hand', 'in', 'hand', 'and', 'expected', 'to', 'take', 'a', 'stupendous', 'growth', 'in', 'the', 'race', 'of', 'providing', 'us', 'a', 'legitimate', 'opportunity', 'to', 'use', 'and', 'feel', 'the', 'real', 'digital', 'world', 'The', 'various', 'innovations', 'will', 'now', 'take', 'a', 'pace', 'in', 'each', 'field', 'and', 'maybe', 'we', 'will', 'hear', 'some', 'new', 'jargons', 'related', 'to', 'tech', 'in', 'upcoming', 'years', 'Since', 'the', 'global', 'economy', 'has', 'fumbled', 'countries', 'will', 'now', 'try', 'to', 'take', 'a', 'different', 'turn', 'to', 'vamoose', 'out', 'of', 'this', 'phase', 'They', 'will', 'try', 'to', 'make', 'new', 'connections', 'by', 'nurturing', 'a', 'give', 'and', 'take', 'relationship', 'and', 'several', 'business', 'relationships', 'would', 'take', 'an', 'unexpected', 'move', 'making', 'the', 'position', 'of', 'several', 'countries', 'sliding', 'up', 'and', 'down', 'on', 'indexes', 'Even', 'rival', 'countries', 'may', 'join', 'their', 'hands', 'in', 'this', 'hard', 'time', 'rather', 'than', 'being', 'dismissed', 'totally', 'under', 'predator', 'countries', 'It', 'would', 'be', 'surprising', 'to', 'see', 'how', 'these', 'scenarios', 'will', 'be', 'handled', 'by', 'the', 'emperor', 'of', 'minds', 'and', 'how', 'their', 'opponents', 'are', 'going', 'to', 'take', 'it', 'as', 'an', 'agenda', 'for', 'the', 'next', 'elections', 'Unfortunately', 'the', 'nature', 'that', 'is', 'at', 'its', 'best', 'will', 'start', 'to', 'face', 'the', 'ill', 'effects', 'after', 'the', 'chart', 'of', 'development', 'and', 'economy', 'will', 'take', 'a', 'pace', 'for', 'exponential', 'growth', 'It', 'is', 'unfortunate', 'that', 'the', 'inverse', 'relationship', 'between', 'economic', 'growth', 'and', 'environmental', 'destruction', 'exists', 'since', 'carbon', 'emission', 'increases', 'with', 'economic', 'development', 'As', 'shown', 'by', 'the', 'graph', 'below', 'whenever', 'recession', 'took', 'place', 'the', 'carbon', 'emission', 'decreases', 'along', 'with', 'other', 'harmful', 'gases', 'turning', 'out', 'as', 'a', 'gift', 'for', 'nature', 'but', 'doom', 'for', 'the', 'financial', 'markets', 'But', 'there', 'is', 'a', 'possibility', 'that', 'several', 'startups', 'now', 'emerge', 'with', 'the', 'idea', 'of', 'environment', 'conservation', 'collaborating', 'with', 'NGOs', 'innovating', 'and', 'using', 'the', 'best', 'of', 'their', 'capability', 'to', 'reduce', 'the', 'ill', 'effect', 'from', 'the', 'present', 'origin', 'point', 'In', 'the', 'culmination', 'we', 'can', 'say', 'this', 'pandemic', 'is', 'like', '“Blessing', 'in', 'disguise', '”', 'producing', 'a', 'massive', 'impact', 'not', 'only', 'on', 'macro', 'but', 'also', 'on', 'microeconomy', 'The', 'novel', 'virus', 'not', 'only', 'brought', 'some', 'unexpected', 'results', 'but', 'also', 'uncovered', 'some', 'of', 'our', 'loopholes', 'and', 'unlatched', 'new', 'opportunities', 'for', 'growth', 'forcing', 'us', 'to', 'define', 'ourselves', 'in', 'several', 'new', 'spheres', 'Quite', 'a', 'while', 'ago', 'we', 'all', 'were', 'chitchatting', 'about', 'the', 'digital', 'Era', 'how', 'this', 'is', 'benefiting', 'us', 'COVID19', 'revealed', 'making', 'us', 'realize', 'this', 'was', 'just', 'the', 'beginning', 'of', 'digital', 'Era', 'and', 'a', 'lot', 'is', 'needed', 'to', 'happen', 'in', 'future', 'It', 'is', 'obvious', 'that', 'not', 'only', 'the', 'Indian', 'economy', 'but', 'the', 'global', 'economy', 'is', 'facing', 'and', 'going', 'to', 'face', 'the', 'aftereffects', 'however', 'similar', 'to', 'a', 'virus', 'the', 'economy', 'will', 'also', 'rise', 'from', 'deep', 'grounds', 'to', 'a', 'green', 'candlestick', 'with', 'individual', 'collaboration', 'The', 'businesses', 'will', 'soon', 'rise', 'again', 'people', 'will', 'get', 'back', 'to', 'their', 'jobs', 'vendors', 'will', 'start', 'getting', 'profits', 'and', 'everything', 'will', 'fall', 'into', 'its', 'places', 'but', 'now', 'a', 'megalithic', 'competitive', 'environment', 'will', 'rise', 'which', 'will', 'grow', 'till', 'decades', 'until', 'nature', 'again', 'shows', 'it’s', 'color', 'and', 'we', 'as', 'a', 'human', 'abide', 'with', 'its', 'outcomes', 'learning', 'some', 'new', 'lessons', 'and', 'keeping', 'this', 'cycle', 'of', 'fall', 'and', 'growth', 'running', 'Blackcoffer', 'Insights', '17Vedansh', 'DubeyTCS', 'Indore', 'MP']\n"
     ]
    }
   ],
   "source": [
    "content=soup.findAll(attrs={'class':'td-post-content'})\n",
    "content=content[0].text.replace('\\n',\" \")\n",
    "print(content)\n",
    "#Punctuation\n",
    "content = content.translate(str.maketrans('', '', string.punctuation)) \n",
    "print(content)\n",
    "text = content.split()\n",
    "print(text)\n"
   ]
  },
  {
   "cell_type": "code",
   "execution_count": 3,
   "id": "414c3b45",
   "metadata": {},
   "outputs": [
    {
     "data": {
      "text/plain": [
       "1096"
      ]
     },
     "execution_count": 3,
     "metadata": {},
     "output_type": "execute_result"
    }
   ],
   "source": [
    "len(text)"
   ]
  },
  {
   "cell_type": "code",
   "execution_count": 4,
   "id": "f68ed562",
   "metadata": {},
   "outputs": [
    {
     "name": "stdout",
     "output_type": "stream",
     "text": [
      "28\n"
     ]
    }
   ],
   "source": [
    "#Positive Score \n",
    "with open(r\"C:\\Users\\Om Bhandwalkar\\Desktop\\pos\\positive-words.txt\") as pos:\n",
    "    poswords = pos.read().split(\"\\n\")  \n",
    "    poswords = poswords[5:]\n",
    "pos_count = \" \".join ([w for w in text if w in poswords])\n",
    "pos_count=pos_count.split(\" \")\n",
    "Positive_score=len(pos_count)\n",
    "print(Positive_score)"
   ]
  },
  {
   "cell_type": "code",
   "execution_count": 5,
   "id": "ee437607",
   "metadata": {},
   "outputs": [
    {
     "name": "stdout",
     "output_type": "stream",
     "text": [
      "26\n"
     ]
    }
   ],
   "source": [
    "#Negative Score\n",
    "with open(r\"C:\\Users\\Om Bhandwalkar\\Desktop\\pos\\negative-words.txt\",encoding =\"ISO-8859-1\") as neg:\n",
    "    negwords = neg.read().split(\"\\n\")\n",
    "    \n",
    "negwords = negwords[36:]\n",
    "neg_count = \" \".join ([w for w in text if w in negwords])\n",
    "neg_count=neg_count.split(\" \")\n",
    "Negative_score=len(neg_count)\n",
    "print(Negative_score)"
   ]
  },
  {
   "cell_type": "code",
   "execution_count": 6,
   "id": "c5635d8d",
   "metadata": {},
   "outputs": [
    {
     "data": {
      "text/html": [
       "<div>\n",
       "<style scoped>\n",
       "    .dataframe tbody tr th:only-of-type {\n",
       "        vertical-align: middle;\n",
       "    }\n",
       "\n",
       "    .dataframe tbody tr th {\n",
       "        vertical-align: top;\n",
       "    }\n",
       "\n",
       "    .dataframe thead th {\n",
       "        text-align: right;\n",
       "    }\n",
       "</style>\n",
       "<table border=\"1\" class=\"dataframe\">\n",
       "  <thead>\n",
       "    <tr style=\"text-align: right;\">\n",
       "      <th></th>\n",
       "      <th>url</th>\n",
       "      <th>title</th>\n",
       "      <th>content</th>\n",
       "      <th>filter_content</th>\n",
       "      <th>Positive_Score</th>\n",
       "      <th>Negative_Score</th>\n",
       "      <th>polarity</th>\n",
       "      <th>subjectivity</th>\n",
       "    </tr>\n",
       "  </thead>\n",
       "  <tbody>\n",
       "    <tr>\n",
       "      <th>0</th>\n",
       "      <td>https://insights.blackcoffer.com/estimating-th...</td>\n",
       "      <td>Estimating the impact of COVID-19 on the world...</td>\n",
       "      <td>COVID19 an unprecedented pandemic for us but ...</td>\n",
       "      <td>COVID19 an unprecedented pandemic for us but a...</td>\n",
       "      <td>28</td>\n",
       "      <td>26</td>\n",
       "      <td>0.07701</td>\n",
       "      <td>0.432466</td>\n",
       "    </tr>\n",
       "  </tbody>\n",
       "</table>\n",
       "</div>"
      ],
      "text/plain": [
       "                                                 url  \\\n",
       "0  https://insights.blackcoffer.com/estimating-th...   \n",
       "\n",
       "                                               title  \\\n",
       "0  Estimating the impact of COVID-19 on the world...   \n",
       "\n",
       "                                             content  \\\n",
       "0   COVID19 an unprecedented pandemic for us but ...   \n",
       "\n",
       "                                      filter_content  Positive_Score  \\\n",
       "0  COVID19 an unprecedented pandemic for us but a...              28   \n",
       "\n",
       "   Negative_Score  polarity  subjectivity  \n",
       "0              26   0.07701      0.432466  "
      ]
     },
     "execution_count": 6,
     "metadata": {},
     "output_type": "execute_result"
    }
   ],
   "source": [
    "filter_content = ' '.join(text)\n",
    "data=[[url,title,content,filter_content,Positive_score,Negative_score]]\n",
    "data=pd.DataFrame(data,columns=[\"url\",\"title\",\"content\",\"filter_content\",\"Positive_Score\",\"Negative_Score\"])\n",
    "from textblob import TextBlob\n",
    "# Get The Subjectivity\n",
    "def sentiment_analysis(data):\n",
    "    sentiment = TextBlob(data[\"content\"]).sentiment\n",
    "    return pd.Series([sentiment.polarity,sentiment.subjectivity ])\n",
    "\n",
    "# Adding Subjectivity & Polarity\n",
    "data[[\"polarity\", \"subjectivity\"]] = data.apply(sentiment_analysis, axis=1)\n",
    "\n",
    "data"
   ]
  },
  {
   "cell_type": "code",
   "execution_count": 7,
   "id": "d1bae367",
   "metadata": {},
   "outputs": [
    {
     "name": "stdout",
     "output_type": "stream",
     "text": [
      "Word average = 5453.0\n",
      "FOG INDEX =  442.31\n",
      "Average no of words per sentence\n",
      "1096.0\n",
      "Complex Words 1949\n"
     ]
    }
   ],
   "source": [
    "#AVG SENTENCE LENGTH\n",
    "AVG_SENTENCE_LENGTH = len(content.replace(' ',''))/len(re.split(r'[?!.]', content))\n",
    "print('Word average =', AVG_SENTENCE_LENGTH)\n",
    "import textstat\n",
    "#Fog index \n",
    "FOG_INDEX=(textstat.gunning_fog(content))\n",
    "print(\"FOG INDEX = \",FOG_INDEX)\n",
    "#Average No of Words Per Sentence \n",
    "AVG_NUMBER_OF_WORDS_PER_SENTENCE = [len(l.split()) for l in re.split(r'[?!.]', content) if l.strip()]\n",
    "print(\"Average no of words per sentence\")\n",
    "AVG_NUMBER_OF_WORDS_PER_SENTENCE=print(sum(AVG_NUMBER_OF_WORDS_PER_SENTENCE)/len(AVG_NUMBER_OF_WORDS_PER_SENTENCE))\n",
    "#Complex words\n",
    "def syllable_count(word):\n",
    "    count = 0\n",
    "    vowels = \"AEIOUYaeiouy\"\n",
    "    if word[0] in vowels:\n",
    "        count += 1\n",
    "    for index in range(1, len(word)): \n",
    "        if word[index] in vowels and word[index - 1] not in vowels:\n",
    "            count += 1\n",
    "            if word.endswith(\"es\"or \"ed\"):\n",
    "                count -= 1\n",
    "    if count == 0:\n",
    "        count += 1\n",
    "    return count\n",
    "\n",
    "\n",
    "\n",
    "COMPLEX_WORDS=syllable_count(content)\n",
    "print(\"Complex Words\",COMPLEX_WORDS)\n"
   ]
  },
  {
   "cell_type": "code",
   "execution_count": 8,
   "id": "70311bff",
   "metadata": {},
   "outputs": [
    {
     "name": "stdout",
     "output_type": "stream",
     "text": [
      "Word Count 6553\n",
      "Percentage of Complex Words 29.742102853654817\n",
      "Average Word per Length 4.975364963503649\n",
      "The AVG number of syllables in the word is: \n",
      "1.9726277372262773\n",
      "Word Count 6553\n",
      "Percentage of Complex Words 29.742102853654817\n",
      "Average Word per Length 4.975364963503649\n",
      "The AVG number of syllables in the word is: \n",
      "1.9726277372262773\n"
     ]
    }
   ],
   "source": [
    "#Word Count\n",
    "Word_Count=len(content)\n",
    "print(\"Word Count\",Word_Count)\n",
    "#Percentage Complex Words\n",
    "pcw=(COMPLEX_WORDS/Word_Count)*100\n",
    "print(\"Percentage of Complex Words\",pcw)\n",
    "#Average Word Length\n",
    "Average_Word_Length=len(content.replace(' ',''))/len(content.split())\n",
    "print(\"Average Word per Length\",Average_Word_Length)\n",
    "#Syllable Count Per Word\n",
    "word=content.replace(' ','')\n",
    "syllable_count=0\n",
    "for w in word:\n",
    "      if(w=='a' or w=='e' or w=='i' or w=='o' or w=='y' or w=='u' or w=='A' or w=='E' or w=='I' or w=='O' or w=='U' or w=='Y'):\n",
    "            syllable_count=syllable_count+1\n",
    "print(\"The AVG number of syllables in the word is: \")\n",
    "print(syllable_count/len(content.split()))#Word Count\n",
    "Word_Count=len(content)\n",
    "print(\"Word Count\",Word_Count)\n",
    "#Percentage Complex Words\n",
    "pcw=(COMPLEX_WORDS/Word_Count)*100\n",
    "print(\"Percentage of Complex Words\",pcw)\n",
    "#Average Word Length\n",
    "Average_Word_Length=len(content.replace(' ',''))/len(content.split())\n",
    "print(\"Average Word per Length\",Average_Word_Length)\n",
    "#Syllable Count Per Word\n",
    "word=content.replace(' ','')\n",
    "syllable_count=0\n",
    "for w in word:\n",
    "      if(w=='a' or w=='e' or w=='i' or w=='o' or w=='y' or w=='u' or w=='A' or w=='E' or w=='I' or w=='O' or w=='U' or w=='Y'):\n",
    "            syllable_count=syllable_count+1\n",
    "print(\"The AVG number of syllables in the word is: \")\n",
    "print(syllable_count/len(content.split()))"
   ]
  },
  {
   "cell_type": "code",
   "execution_count": 1,
   "id": "ab7408c0",
   "metadata": {},
   "outputs": [
    {
     "name": "stdout",
     "output_type": "stream",
     "text": [
      "28\n",
      "26\n",
      "Word average = 5453.0\n",
      "FOG INDEX =  442.31\n",
      "Average no of words per sentence\n",
      "1096.0\n",
      "Complex Words 1949\n",
      "Word Count 6553\n",
      "Percentage of Complex Words 29.742102853654817\n",
      "Average Word per Length 4.975364963503649\n",
      "The AVG number of syllables in the word is: \n",
      "1.9726277372262773\n"
     ]
    },
    {
     "data": {
      "text/html": [
       "<div>\n",
       "<style scoped>\n",
       "    .dataframe tbody tr th:only-of-type {\n",
       "        vertical-align: middle;\n",
       "    }\n",
       "\n",
       "    .dataframe tbody tr th {\n",
       "        vertical-align: top;\n",
       "    }\n",
       "\n",
       "    .dataframe thead th {\n",
       "        text-align: right;\n",
       "    }\n",
       "</style>\n",
       "<table border=\"1\" class=\"dataframe\">\n",
       "  <thead>\n",
       "    <tr style=\"text-align: right;\">\n",
       "      <th></th>\n",
       "      <th>url</th>\n",
       "      <th>title</th>\n",
       "      <th>content</th>\n",
       "      <th>filter_content</th>\n",
       "      <th>Positive_Score</th>\n",
       "      <th>Negative_Score</th>\n",
       "      <th>Avg_Sentence_Length</th>\n",
       "      <th>Percentage_Complex_Word</th>\n",
       "      <th>Fog_Index</th>\n",
       "      <th>AVG_NUMBER_OF_WORDS_PER_SENTENCE</th>\n",
       "      <th>COMPLEX_WORDS</th>\n",
       "      <th>Word_Count</th>\n",
       "      <th>syllable</th>\n",
       "      <th>Average_Word_Length</th>\n",
       "      <th>polarity</th>\n",
       "      <th>subjectivity</th>\n",
       "    </tr>\n",
       "  </thead>\n",
       "  <tbody>\n",
       "    <tr>\n",
       "      <th>0</th>\n",
       "      <td>https://insights.blackcoffer.com/estimating-th...</td>\n",
       "      <td>Estimating the impact of COVID-19 on the world...</td>\n",
       "      <td>COVID19 an unprecedented pandemic for us but ...</td>\n",
       "      <td>COVID19 an unprecedented pandemic for us but a...</td>\n",
       "      <td>28</td>\n",
       "      <td>26</td>\n",
       "      <td>5453.0</td>\n",
       "      <td>29.742103</td>\n",
       "      <td>442.31</td>\n",
       "      <td>1096.0</td>\n",
       "      <td>1949</td>\n",
       "      <td>6553</td>\n",
       "      <td>1.972628</td>\n",
       "      <td>4.975365</td>\n",
       "      <td>0.07701</td>\n",
       "      <td>0.432466</td>\n",
       "    </tr>\n",
       "  </tbody>\n",
       "</table>\n",
       "</div>"
      ],
      "text/plain": [
       "                                                 url  \\\n",
       "0  https://insights.blackcoffer.com/estimating-th...   \n",
       "\n",
       "                                               title  \\\n",
       "0  Estimating the impact of COVID-19 on the world...   \n",
       "\n",
       "                                             content  \\\n",
       "0   COVID19 an unprecedented pandemic for us but ...   \n",
       "\n",
       "                                      filter_content  Positive_Score  \\\n",
       "0  COVID19 an unprecedented pandemic for us but a...              28   \n",
       "\n",
       "   Negative_Score  Avg_Sentence_Length  Percentage_Complex_Word  Fog_Index  \\\n",
       "0              26               5453.0                29.742103     442.31   \n",
       "\n",
       "    AVG_NUMBER_OF_WORDS_PER_SENTENCE  COMPLEX_WORDS  Word_Count  syllable  \\\n",
       "0                             1096.0           1949        6553  1.972628   \n",
       "\n",
       "   Average_Word_Length  polarity  subjectivity  \n",
       "0             4.975365   0.07701      0.432466  "
      ]
     },
     "execution_count": 1,
     "metadata": {},
     "output_type": "execute_result"
    }
   ],
   "source": [
    "import requests\n",
    "import pandas as pd \n",
    "from bs4 import BeautifulSoup\n",
    "import string\n",
    "import spacy\n",
    "import re\n",
    "url = \"\"\"https://insights.blackcoffer.com/estimating-the-impact-of-covid-19-on-the-world-of-work-2/\"\"\"\n",
    "headers = {\"User-Agent\": \"Mozilla/5.0 (X11; Linux x86_64; rv:60.0) Gecko/20100101 Firefox/60.0\"}\n",
    "page = requests.get(url, headers=headers)\n",
    "soup = BeautifulSoup(page.content, 'html.parser')\n",
    "soup=BeautifulSoup(page.content, 'html.parser')\n",
    "title=soup.find('h1',class_=\"entry-title\")\n",
    "title=title.text.replace('\\n',\" \")\n",
    "# title\n",
    "\n",
    "content=soup.findAll(attrs={'class':'td-post-content'})\n",
    "content=content[0].text.replace('\\n',\" \")\n",
    "# print(content)\n",
    "#Punctuation\n",
    "content = content.translate(str.maketrans('', '', string.punctuation)) \n",
    "# print(content)\n",
    "text = content.split()\n",
    "# print(text)\n",
    "len(text)\n",
    "#Positive Score \n",
    "with open(r\"C:\\Users\\Om Bhandwalkar\\Desktop\\pos\\positive-words.txt\") as pos:\n",
    "    poswords = pos.read().split(\"\\n\")  \n",
    "    poswords = poswords[5:]\n",
    "pos_count = \" \".join ([w for w in text if w in poswords])\n",
    "pos_count=pos_count.split(\" \")\n",
    "Positive_score=len(pos_count)\n",
    "print(Positive_score)\n",
    "\n",
    "#Negative Score\n",
    "with open(r\"C:\\Users\\Om Bhandwalkar\\Desktop\\pos\\negative-words.txt\",encoding =\"ISO-8859-1\") as neg:\n",
    "    negwords = neg.read().split(\"\\n\")\n",
    "    \n",
    "negwords = negwords[36:]\n",
    "neg_count = \" \".join ([w for w in text if w in negwords])\n",
    "neg_count=neg_count.split(\" \")\n",
    "Negative_score=len(neg_count)\n",
    "print(Negative_score)\n",
    "\n",
    "\n",
    "filter_content = ' '.join(text)\n",
    "data=[[url,title,content,filter_content,Positive_score,Negative_score]]\n",
    "data=pd.DataFrame(data,columns=[\"url\",\"title\",\"content\",\"filter_content\",\"Positive_Score\",\"Negative_Score\"])\n",
    "from textblob import TextBlob\n",
    "# Get The Subjectivity\n",
    "def sentiment_analysis(data):\n",
    "    sentiment = TextBlob(data[\"content\"]).sentiment\n",
    "    return pd.Series([sentiment.polarity,sentiment.subjectivity ])\n",
    "data[[\"polarity\", \"subjectivity\"]] = data.apply(sentiment_analysis, axis=1)\n",
    "data\n",
    "#AVG SENTENCE LENGTH\n",
    "AVG_SENTENCE_LENGTH = len(content.replace(' ',''))/len(re.split(r'[?!.]', content))\n",
    "print('Word average =', AVG_SENTENCE_LENGTH)\n",
    "import textstat\n",
    "#Fog index \n",
    "FOG_INDEX=(textstat.gunning_fog(content))\n",
    "print(\"FOG INDEX = \",FOG_INDEX)\n",
    "#Average No of Words Per Sentence \n",
    "AVG_NUMBER_OF_WORDS_PER_SENTENCE = [len(l.split()) for l in re.split(r'[?!.]', content) if l.strip()]\n",
    "print(\"Average no of words per sentence\")\n",
    "AVG_NUMBER_OF_WORDS_PER_SENTENCE=(sum(AVG_NUMBER_OF_WORDS_PER_SENTENCE)/len(AVG_NUMBER_OF_WORDS_PER_SENTENCE))\n",
    "print(AVG_NUMBER_OF_WORDS_PER_SENTENCE)\n",
    "#Complex words\n",
    "def syllable_count(word):\n",
    "    count = 0\n",
    "    vowels = \"AEIOUYaeiouy\"\n",
    "    if word[0] in vowels:\n",
    "        count += 1\n",
    "    for index in range(1, len(word)): \n",
    "        if word[index] in vowels and word[index - 1] not in vowels:\n",
    "            count += 1\n",
    "            if word.endswith(\"es\"or \"ed\"):\n",
    "                count -= 1\n",
    "    if count == 0:\n",
    "        count += 1\n",
    "    return count\n",
    "\n",
    "\n",
    "\n",
    "COMPLEX_WORDS=syllable_count(content)\n",
    "print(\"Complex Words\",COMPLEX_WORDS)\n",
    "#Word Count\n",
    "Word_Count=len(content)\n",
    "print(\"Word Count\",Word_Count)\n",
    "#Percentage Complex Words\n",
    "pcw=(COMPLEX_WORDS/Word_Count)*100\n",
    "print(\"Percentage of Complex Words\",pcw)\n",
    "#Average Word Length\n",
    "Average_Word_Length=len(content.replace(' ',''))/len(content.split())\n",
    "print(\"Average Word per Length\",Average_Word_Length)\n",
    "#Syllable Count Per Word\n",
    "word=content.replace(' ','')\n",
    "syllable_count=0\n",
    "for w in word:\n",
    "      if(w=='a' or w=='e' or w=='i' or w=='o' or w=='y' or w=='u' or w=='A' or w=='E' or w=='I' or w=='O' or w=='U' or w=='Y'):\n",
    "            syllable_count=syllable_count+1\n",
    "print(\"The AVG number of syllables in the word is: \")\n",
    "syllable = (syllable_count/len(content.split()))\n",
    "print(syllable)\n",
    "\n",
    "data = [[url,title,content,filter_content,Positive_score,Negative_score,AVG_SENTENCE_LENGTH,pcw,FOG_INDEX,\n",
    "         AVG_NUMBER_OF_WORDS_PER_SENTENCE,COMPLEX_WORDS,Word_Count,syllable,Average_Word_Length]]\n",
    "data=pd.DataFrame(data,columns=[\"url\",\"title\",\"content\",\"filter_content\",\"Positive_Score\",\"Negative_Score\",\"Avg_Sentence_Length\"\n",
    "                               ,\"Percentage_Complex_Word\",\"Fog_Index\",\" AVG_NUMBER_OF_WORDS_PER_SENTENCE\",\"COMPLEX_WORDS\",\n",
    "                               \"Word_Count\",\"syllable\",\"Average_Word_Length\"])\n",
    "from textblob import TextBlob\n",
    "# Get The Subjectivity\n",
    "def sentiment_analysis(data):\n",
    "    sentiment = TextBlob(data[\"content\"]).sentiment\n",
    "    return pd.Series([sentiment.polarity,sentiment.subjectivity ])\n",
    "data[[\"polarity\", \"subjectivity\"]] = data.apply(sentiment_analysis, axis=1)\n",
    "data"
   ]
  },
  {
   "cell_type": "code",
   "execution_count": 3,
   "id": "05e305b6",
   "metadata": {},
   "outputs": [],
   "source": [
    "data.to_csv(r'C:\\Users\\Om Bhandwalkar\\Desktop\\BlackCoffer Assignment\\Output\\url_99.csv')"
   ]
  },
  {
   "cell_type": "code",
   "execution_count": null,
   "id": "1842e766",
   "metadata": {},
   "outputs": [],
   "source": []
  }
 ],
 "metadata": {
  "kernelspec": {
   "display_name": "Python 3 (ipykernel)",
   "language": "python",
   "name": "python3"
  },
  "language_info": {
   "codemirror_mode": {
    "name": "ipython",
    "version": 3
   },
   "file_extension": ".py",
   "mimetype": "text/x-python",
   "name": "python",
   "nbconvert_exporter": "python",
   "pygments_lexer": "ipython3",
   "version": "3.9.12"
  }
 },
 "nbformat": 4,
 "nbformat_minor": 5
}
